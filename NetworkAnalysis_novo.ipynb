{
 "cells": [
  {
   "cell_type": "markdown",
   "metadata": {},
   "source": [
    "## Libraries Setup"
   ]
  },
  {
   "cell_type": "code",
   "execution_count": 1,
   "metadata": {},
   "outputs": [],
   "source": [
    "!pip install -r requirements.txt -q"
   ]
  },
  {
   "cell_type": "code",
   "execution_count": 3,
   "metadata": {},
   "outputs": [],
   "source": [
    "# Datahandling\n",
    "import requests\n",
    "import os\n",
    "os.environ[\"TOKENIZERS_PARALLELISM\"] = \"false\"\n",
    "import numpy as np\n",
    "import pandas as pd\n",
    "import seaborn as sns\n",
    "\n",
    "# Tweet Themes\n",
    "from sentence_transformers import SentenceTransformer\n",
    "import umap\n",
    "import matplotlib.pyplot as plt\n",
    "import plotly.express as px\n",
    "\n",
    "# Network analysis\n",
    "from typing import List, Optional\n",
    "import json\n",
    "import matplotlib.patches as mpatches\n",
    "import networkx as nx\n",
    "from community import community_louvain\n",
    "import plotly.graph_objects as go\n",
    "import random\n",
    "from collections import defaultdict\n",
    "import nbformat\n",
    "\n",
    "# Model prediction\n",
    "from setfit import SetFitModel, SetFitTrainer\n",
    "from sklearn.metrics import classification_report\n",
    "import tiktoken\n",
    "\n"
   ]
  },
  {
   "cell_type": "markdown",
   "metadata": {},
   "source": [
    "## Data import"
   ]
  },
  {
   "cell_type": "code",
   "execution_count": 4,
   "metadata": {},
   "outputs": [],
   "source": [
    "# data sampling? 20000\n",
    "data = pd.read_csv('predictions_output.csv')\n",
    "# data = data.sample(n=2000, random_state=42)"
   ]
  },
  {
   "cell_type": "code",
   "execution_count": 5,
   "metadata": {},
   "outputs": [
    {
     "name": "stdout",
     "output_type": "stream",
     "text": [
      "Data with label=0: 140 rows\n",
      "Data with label=1: 98 rows\n"
     ]
    }
   ],
   "source": [
    "# Split the data based on the `label` column\n",
    "data_label_0 = data[data['Label'] == 0]  # Subset where label=0\n",
    "data_label_1 = data[data['Label'] == 1]  # Subset where label=1\n",
    "\n",
    "# Optionally, check the sizes of the splits\n",
    "print(f\"Data with label=0: {len(data_label_0)} rows\")\n",
    "print(f\"Data with label=1: {len(data_label_1)} rows\")"
   ]
  },
  {
   "cell_type": "code",
   "execution_count": 28,
   "metadata": {},
   "outputs": [
    {
     "ename": "ModuleNotFoundError",
     "evalue": "No module named 'openai'",
     "output_type": "error",
     "traceback": [
      "\u001b[0;31m---------------------------------------------------------------------------\u001b[0m",
      "\u001b[0;31mModuleNotFoundError\u001b[0m                       Traceback (most recent call last)",
      "Cell \u001b[0;32mIn[28], line 2\u001b[0m\n\u001b[1;32m      1\u001b[0m \u001b[38;5;66;03m# LLM Libs & Setup\u001b[39;00m\n\u001b[0;32m----> 2\u001b[0m \u001b[38;5;28;01mfrom\u001b[39;00m \u001b[38;5;21;01mopenai\u001b[39;00m \u001b[38;5;28;01mimport\u001b[39;00m OpenAI\n\u001b[1;32m      3\u001b[0m \u001b[38;5;28;01mimport\u001b[39;00m \u001b[38;5;21;01mjson\u001b[39;00m\n\u001b[1;32m      4\u001b[0m \u001b[38;5;28;01mfrom\u001b[39;00m \u001b[38;5;21;01mpydantic\u001b[39;00m \u001b[38;5;28;01mimport\u001b[39;00m BaseModel, Field\n",
      "\u001b[0;31mModuleNotFoundError\u001b[0m: No module named 'openai'"
     ]
    }
   ],
   "source": [
    "# LLM Libs & Setup\n",
    "from openai import OpenAI\n",
    "import json\n",
    "from pydantic import BaseModel, Field\n",
    "from typing import List, Optional\n",
    "import textwrap"
   ]
  },
  {
   "cell_type": "markdown",
   "metadata": {},
   "source": [
    "## LLM Setup"
   ]
  },
  {
   "cell_type": "code",
   "execution_count": 14,
   "metadata": {},
   "outputs": [],
   "source": [
    "# Set your Together API Key directly\n",
    "TOGETHER_API_KEY = \"\"\n",
    "\n",
    "# Check if the API key is set\n",
    "if not TOGETHER_API_KEY:\n",
    "    raise ValueError(\"The Together API Key must be provided.\")\n",
    "\n",
    "# Initialize the Together client\n",
    "client = OpenAI(\n",
    "    base_url=\"https://api.together.xyz/v1\",\n",
    "    api_key=TOGETHER_API_KEY\n",
    ")\n",
    "\n",
    "# Define the model\n",
    "model = \"meta-llama/Meta-Llama-3.1-8B-Instruct-Turbo\""
   ]
  },
  {
   "cell_type": "markdown",
   "metadata": {},
   "source": [
    "## System_Prompt + JSON_schema Setup"
   ]
  },
  {
   "cell_type": "code",
   "execution_count": 16,
   "metadata": {},
   "outputs": [],
   "source": [
    "SYSTEM_PROMPT = \"\"\"\n",
    "System Prompt:\n",
    "\n",
    "You are an advanced NLP assistant tasked with analyzing tweets about a company. Each tweet is labeled as being from either a bot (0) or a human (1). Your goals are to identify themes, assess sentiment, extract keywords, and assign significance scores. Follow these steps:\n",
    "\n",
    "Theme Identification:\n",
    "\n",
    "- Group tweets into 5-15 overall themes or mentions about the company. Themes represent key topics, issues, or narratives surrounding the company.\n",
    "- For each theme, provide subthemes or keywords that explain why the theme was chosen. These keywords should summarize the driving factors behind the theme.\n",
    "\n",
    "Sentiment Analysis:\n",
    "\n",
    "- Perform sentiment analysis for each tweet and aggregate these sentiments to determine the overall sentiment for each theme (positive, neutral, or negative).\n",
    "- Provide an average sentiment score (-1 to +1 scale) for each theme.\n",
    "\n",
    "Theme Significance:\n",
    "\n",
    "- Assign a significance score (1-100) for each theme based on how many tweets contribute to it, and other relevant metrics (e.g., impact of subthemes, relevance to overall narrative).\n",
    "\n",
    "Output Structure:\n",
    "\n",
    "For each theme, provide:\n",
    "- Theme title.\n",
    "- Sentiment summary (positive/negative/neutral, average sentiment score).\n",
    "- Subthemes/keywords explaining the causation of the theme.\n",
    "- Significance score.\n",
    "\n",
    "\n",
    "Consideration:\n",
    "\n",
    "- Focus on human-labeled tweets (1) for primary analysis but note any notable patterns from bot-labeled tweets (0).\n",
    "- Highlight anomalies or unexpected findings, if any.\n",
    "\"\"\"\n"
   ]
  },
  {
   "cell_type": "code",
   "execution_count": 17,
   "metadata": {},
   "outputs": [],
   "source": [
    "json_schema = {\n",
    "    \"type\": \"object\",\n",
    "    \"properties\": {\n",
    "        \"themes\": {\n",
    "            \"type\": \"array\",\n",
    "            \"items\": {\n",
    "                \"type\": \"object\",\n",
    "                \"properties\": {\n",
    "                    \"theme\": {\n",
    "                        \"type\": \"string\",\n",
    "                        \"description\": \"Title of the overall theme\"\n",
    "                    },\n",
    "                    \"sentiment\": {\n",
    "                        \"type\": \"object\",\n",
    "                        \"properties\": {\n",
    "                            \"overall\": {\n",
    "                                \"type\": \"string\",\n",
    "                                \"enum\": [\"positive\", \"neutral\", \"negative\"],\n",
    "                                \"description\": \"Overall sentiment of the theme\"\n",
    "                            },\n",
    "                            \"average_score\": {\n",
    "                                \"type\": \"number\",\n",
    "                                \"minimum\": -1,\n",
    "                                \"maximum\": 1,\n",
    "                                \"description\": \"Average sentiment score of the theme\"\n",
    "                            }\n",
    "                        },\n",
    "                        \"required\": [\"overall\", \"average_score\"]\n",
    "                    },\n",
    "                    \"subthemes\": {\n",
    "                        \"type\": \"array\",\n",
    "                        \"items\": {\n",
    "                            \"type\": \"string\"\n",
    "                        },\n",
    "                        \"description\": \"List of keywords or subthemes driving the main theme\"\n",
    "                    },\n",
    "                    \"significance\": {\n",
    "                        \"type\": \"integer\",\n",
    "                        \"minimum\": 1,\n",
    "                        \"maximum\": 100,\n",
    "                        \"description\": \"Significance score of the theme\"\n",
    "                    }\n",
    "                },\n",
    "                \"required\": [\"theme\", \"sentiment\", \"subthemes\", \"significance\"]\n",
    "            }\n",
    "        }\n",
    "    },\n",
    "    \"required\": [\"themes\"]\n",
    "}\n"
   ]
  },
  {
   "cell_type": "code",
   "execution_count": 18,
   "metadata": {},
   "outputs": [
    {
     "name": "stderr",
     "output_type": "stream",
     "text": [
      "/Users/markushenriksson/Desktop/Data/Python/DDBMS-Submission/.conda/lib/python3.12/site-packages/pydantic/fields.py:1032: PydanticDeprecatedSince20: Using extra keyword arguments on `Field` is deprecated and will be removed. Use `json_schema_extra` instead. (Extra keys: 'enum'). Deprecated in Pydantic V2.0 to be removed in V3.0. See Pydantic V2 Migration Guide at https://errors.pydantic.dev/2.10/migration/\n",
      "  warn(\n",
      "/Users/markushenriksson/Desktop/Data/Python/DDBMS-Submission/.conda/lib/python3.12/site-packages/pydantic/fields.py:1001: PydanticDeprecatedSince20: `min_items` is deprecated and will be removed, use `min_length` instead. Deprecated in Pydantic V2.0 to be removed in V3.0. See Pydantic V2 Migration Guide at https://errors.pydantic.dev/2.10/migration/\n",
      "  warn('`min_items` is deprecated and will be removed, use `min_length` instead', DeprecationWarning)\n"
     ]
    }
   ],
   "source": [
    "from pydantic import BaseModel, Field\n",
    "from typing import List, Optional\n",
    "\n",
    "class Sentiment(BaseModel):\n",
    "    overall: str = Field(\n",
    "        description=\"Overall sentiment of the theme\",\n",
    "        enum=[\"positive\", \"neutral\", \"negative\"]\n",
    "    )\n",
    "    average_score: float = Field(\n",
    "        description=\"Average sentiment score of the theme\",\n",
    "        ge=-1,\n",
    "        le=1\n",
    "    )\n",
    "\n",
    "class Theme(BaseModel):\n",
    "    theme: str = Field(description=\"Title of the overall theme\")\n",
    "    sentiment: Sentiment = Field(description=\"Sentiment of the theme\")\n",
    "    subthemes: List[str] = Field(\n",
    "        description=\"List of keywords or subthemes driving the main theme\"\n",
    "    )\n",
    "    significance: int = Field(\n",
    "        description=\"Significance score of the theme\",\n",
    "        ge=1,\n",
    "        le=100\n",
    "    )\n",
    "\n",
    "class TweetAnalysis(BaseModel):\n",
    "    themes: List[Theme] = Field(\n",
    "        description=\"List of identified overall themes\",\n",
    "        min_items=1\n",
    "    )\n",
    "\n",
    "# Dynamically generate the JSON schema\n",
    "json_schema = TweetAnalysis.model_json_schema()\n"
   ]
  },
  {
   "cell_type": "markdown",
   "metadata": {},
   "source": [
    "## LLM-runtime"
   ]
  },
  {
   "cell_type": "code",
   "execution_count": 19,
   "metadata": {},
   "outputs": [
    {
     "name": "stdout",
     "output_type": "stream",
     "text": [
      "Results saved in novo_0.json\n"
     ]
    }
   ],
   "source": [
    "import tiktoken\n",
    "import pandas as pd\n",
    "import json\n",
    "import time\n",
    "from concurrent.futures import ThreadPoolExecutor\n",
    "from queue import Queue\n",
    "import threading\n",
    "\n",
    "\n",
    "\n",
    "\n",
    "def rate_limited_executor(max_calls_per_minute=100):\n",
    "    \"\"\"Rate-limited executor for API calls.\"\"\"\n",
    "    call_queue = Queue()\n",
    "\n",
    "\n",
    "\n",
    "\n",
    "    def worker():\n",
    "        while True:\n",
    "            func, args, kwargs, result_queue = call_queue.get()\n",
    "            try:\n",
    "                result_queue.put(func(*args, **kwargs))\n",
    "            except Exception as e:\n",
    "                result_queue.put(e)\n",
    "            call_queue.task_done()\n",
    "            time.sleep(60 / max_calls_per_minute)\n",
    "\n",
    "\n",
    "\n",
    "\n",
    "    for _ in range(max_calls_per_minute):\n",
    "        threading.Thread(target=worker, daemon=True).start()\n",
    "\n",
    "\n",
    "\n",
    "\n",
    "    def submit(func, *args, **kwargs):\n",
    "        result_queue = Queue()\n",
    "        call_queue.put((func, args, kwargs, result_queue))\n",
    "        result = result_queue.get()\n",
    "        if isinstance(result, Exception):\n",
    "            raise result\n",
    "        return result\n",
    "\n",
    "\n",
    "\n",
    "\n",
    "    return submit\n",
    "\n",
    "\n",
    "\n",
    "\n",
    "def process_batch(tweets, executor, model, schema, batch_size):\n",
    "    \"\"\"Process one batch of tweets.\"\"\"\n",
    "    messages = [\n",
    "        {'role': 'system', 'content': SYSTEM_PROMPT},\n",
    "        {'role': 'user', 'content': json.dumps(tweets)}\n",
    "    ]\n",
    "    try:\n",
    "        response = executor(\n",
    "            client.chat.completions.create,\n",
    "            model=model,\n",
    "            messages=messages,\n",
    "            temperature=0.7,\n",
    "            response_format={\"type\": \"json_object\", \"schema\": schema},\n",
    "            max_tokens=8192\n",
    "        )\n",
    "        return {\n",
    "            'batch_size': len(tweets),\n",
    "            'response': response.choices[0].message.content\n",
    "        }\n",
    "    except Exception as e:\n",
    "        return {\n",
    "            'batch_size': len(tweets),\n",
    "            'error': str(e)\n",
    "        }\n",
    "\n",
    "\n",
    "\n",
    "\n",
    "def parallel_process_tweets(data, batch_size, max_workers, model, schema):\n",
    "    \"\"\"Parallel processing of tweets with rate-limiting.\"\"\"\n",
    "    executor = rate_limited_executor(max_calls_per_minute=60)\n",
    "    results = []\n",
    "\n",
    "\n",
    "\n",
    "\n",
    "    def process_and_collect(batch):\n",
    "        tweets = batch['Tweet_text'].tolist()\n",
    "        return process_batch(tweets, executor, model, schema, batch_size)\n",
    "\n",
    "\n",
    "\n",
    "\n",
    "    with ThreadPoolExecutor(max_workers=max_workers) as pool:\n",
    "        batches = [data.iloc[i:i + batch_size] for i in range(0, len(data), batch_size)]\n",
    "        futures = [pool.submit(process_and_collect, batch) for batch in batches]\n",
    "        for future in futures:\n",
    "            results.append(future.result())\n",
    "\n",
    "\n",
    "\n",
    "\n",
    "    return pd.DataFrame(results)\n",
    "\n",
    "\n",
    "\n",
    "\n",
    "def save_results(data, filename):\n",
    "    \"\"\"Save data to JSON file.\"\"\"\n",
    "    try:\n",
    "        with open(filename, 'w', encoding='utf-8') as f:\n",
    "            json.dump(data, f, ensure_ascii=False, indent=4)\n",
    "        print(f\"Results saved in {filename}\")\n",
    "    except Exception as e:\n",
    "        print(f\"Error during saving: {e}\")\n",
    "\n",
    "\n",
    "\n",
    "\n",
    "# Assuming 'data_label_0' is your DataFrame filtered for label 0\n",
    "processed_tweets = parallel_process_tweets(\n",
    "    data=data_label_0,  # Use the data_label_0 DataFrame\n",
    "    batch_size=10,      # Batch size\n",
    "    max_workers=6,     # Number of parallel threads\n",
    "    model=model,        # Your model variable\n",
    "    schema=json_schema  # Your JSON schema variable\n",
    ")\n",
    "\n",
    "\n",
    "\n",
    "\n",
    "# Save the results to label_0_1.json\n",
    "save_results(processed_tweets.to_dict(orient=\"records\"), \"novo_0.json\")"
   ]
  },
  {
   "cell_type": "code",
   "execution_count": 20,
   "metadata": {},
   "outputs": [
    {
     "name": "stdout",
     "output_type": "stream",
     "text": [
      "Results saved in novo_1.json\n"
     ]
    }
   ],
   "source": [
    "import tiktoken\n",
    "import pandas as pd\n",
    "import json\n",
    "import time\n",
    "from concurrent.futures import ThreadPoolExecutor\n",
    "from queue import Queue\n",
    "import threading\n",
    "\n",
    "def rate_limited_executor(max_calls_per_minute=100):\n",
    "    \"\"\"Rate-limited executor for API calls.\"\"\"\n",
    "    call_queue = Queue()\n",
    "\n",
    "    def worker():\n",
    "        while True:\n",
    "            func, args, kwargs, result_queue = call_queue.get()\n",
    "            try:\n",
    "                result_queue.put(func(*args, **kwargs))\n",
    "            except Exception as e:\n",
    "                result_queue.put(e)\n",
    "            call_queue.task_done()\n",
    "            time.sleep(60 / max_calls_per_minute)\n",
    "\n",
    "    for _ in range(max_calls_per_minute):\n",
    "        threading.Thread(target=worker, daemon=True).start()\n",
    "\n",
    "    def submit(func, *args, **kwargs):\n",
    "        result_queue = Queue()\n",
    "        call_queue.put((func, args, kwargs, result_queue))\n",
    "        result = result_queue.get()\n",
    "        if isinstance(result, Exception):\n",
    "            raise result\n",
    "        return result\n",
    "\n",
    "    return submit\n",
    "\n",
    "def process_batch(tweets, executor, model, schema, batch_size):\n",
    "    \"\"\"Process one batch of tweets.\"\"\"\n",
    "    messages = [\n",
    "        {'role': 'system', 'content': SYSTEM_PROMPT},\n",
    "        {'role': 'user', 'content': json.dumps(tweets)}\n",
    "    ]\n",
    "    try:\n",
    "        response = executor(\n",
    "            client.chat.completions.create,\n",
    "            model=model,\n",
    "            messages=messages,\n",
    "            temperature=0.7,\n",
    "            response_format={\"type\": \"json_object\", \"schema\": schema},\n",
    "            max_tokens=8192\n",
    "        )\n",
    "        return {\n",
    "            'batch_size': len(tweets),\n",
    "            'response': response.choices[0].message.content\n",
    "        }\n",
    "    except Exception as e:\n",
    "        return {\n",
    "            'batch_size': len(tweets),\n",
    "            'error': str(e)\n",
    "        }\n",
    "\n",
    "def parallel_process_tweets(data, batch_size, max_workers, model, schema):\n",
    "    \"\"\"Parallel processing of tweets with rate-limiting.\"\"\"\n",
    "    executor = rate_limited_executor(max_calls_per_minute=60)\n",
    "    results = []\n",
    "\n",
    "    def process_and_collect(batch):\n",
    "        tweets = batch['Tweet_text'].tolist()\n",
    "        return process_batch(tweets, executor, model, schema, batch_size)\n",
    "\n",
    "    with ThreadPoolExecutor(max_workers=max_workers) as pool:\n",
    "        batches = [data.iloc[i:i + batch_size] for i in range(0, len(data), batch_size)]\n",
    "        futures = [pool.submit(process_and_collect, batch) for batch in batches]\n",
    "        for future in futures:\n",
    "            results.append(future.result())\n",
    "\n",
    "    return pd.DataFrame(results)\n",
    "\n",
    "def save_results(data, filename):\n",
    "    \"\"\"Save data to JSON file.\"\"\"\n",
    "    try:\n",
    "        with open(filename, 'w', encoding='utf-8') as f:\n",
    "            json.dump(data, f, ensure_ascii=False, indent=4)\n",
    "        print(f\"Results saved in {filename}\")\n",
    "    except Exception as e:\n",
    "        print(f\"Error during saving: {e}\")\n",
    "\n",
    "# Assuming 'data_label_1' is your DataFrame filtered for label 1\n",
    "processed_tweets = parallel_process_tweets(\n",
    "    data=data_label_1,  # Use the data_label_1 DataFrame\n",
    "    batch_size=10,      # Batch size\n",
    "    max_workers=6,      # Number of parallel threads\n",
    "    model=model,        # Your model variable\n",
    "    schema=json_schema  # Your JSON schema variable\n",
    ")\n",
    "\n",
    "# Save the results to label_1.json\n",
    "save_results(processed_tweets.to_dict(orient=\"records\"), \"novo_1.json\")\n"
   ]
  },
  {
   "cell_type": "code",
   "execution_count": 27,
   "metadata": {},
   "outputs": [
    {
     "data": {
      "application/vnd.plotly.v1+json": {
       "config": {
        "plotlyServerURL": "https://plot.ly"
       },
       "data": [
        {
         "hoverinfo": "text",
         "hovertext": [
          "Theme: NVO Stock Performance<br>Type: Bot<br>Significance: 80%<br>Subthemes: bull case, profitability, market cap<br>Sentiment: positive<br>Average Score: 0.45",
          "Theme: Ozempic and Obesity Drug Market<br>Type: Bot<br>Significance: 85%<br>Subthemes: tailwind, antiobesity drugs, coverage of antiobesity drugs<br>Sentiment: positive<br>Average Score: 0.65",
          "Theme: Regulatory Approvals and News<br>Type: Bot<br>Significance: 90%<br>Subthemes: regulatory approvals, health plans, nonfatal heart attack<br>Sentiment: positive<br>Average Score: 0.7",
          "Theme: Investor Interest and Holdings<br>Type: Bot<br>Significance: 95%<br>Subthemes: investor interest, holding size, representative<br>Sentiment: positive<br>Average Score: 0.8",
          "Theme: Novo Nordisk's Business and Financial Performance<br>Type: Bot<br>Significance: 80%<br>Subthemes: launch of obesity drug WeGovy, profitability analysis, market value, valuation, insider ownership, growth<br>Sentiment: positive<br>Average Score: 0.07",
          "Theme: Novo Nordisk's Obesity Drugs<br>Type: Bot<br>Significance: 85%<br>Subthemes: approval of WeGovy in Canada, weight loss drug boom, proposed coverage for obesity care, obesity drug market<br>Sentiment: positive<br>Average Score: 0.65",
          "Theme: Novo Nordisk's Operational Issues in Ukraine<br>Type: Bot<br>Significance: 80%<br>Subthemes: insulin shortage, warehouse access, crime against humanity<br>Sentiment: negative<br>Average Score: -0.6",
          "Theme: Novo Nordisk's Weight Loss Drug Launch in China<br>Type: Bot<br>Significance: 85%<br>Subthemes: wegovy launch, low price, expansion in Asia<br>Sentiment: positive<br>Average Score: 0.7",
          "Theme: Novo Nordisk's Product Approval and Expansion<br>Type: Bot<br>Significance: 90%<br>Subthemes: obesity drug approval, expansion in Asia, key milestone<br>Sentiment: positive<br>Average Score: 0.8",
          "Theme: Novo Nordisk's Weight Loss Drugs<br>Type: Bot<br>Significance: 92%<br>Subthemes: Ozempic, Wegovy, Weight Loss, Novo Nordisk, Diabetes, Obesity<br>Sentiment: positive<br>Average Score: 0.63",
          "Theme: Market Performance<br>Type: Bot<br>Significance: 81%<br>Subthemes: Stock Prices, Novo Nordisk, Election, Market Trends<br>Sentiment: positive<br>Average Score: 0.03",
          "Theme: Medicare and Medicaid Expansion<br>Type: Bot<br>Significance: 88%<br>Subthemes: US President Joe Biden, Coverage Expansion, Anti-Obesity Drugs<br>Sentiment: positive<br>Average Score: 0.85",
          "Theme: NVO Nordisk's Business and Market Performance<br>Type: Bot<br>Significance: 85%<br>Subthemes: Stronger obesity moat, Fast-growing market for WeGovy, Unlocking new revenue streams, Company's sales surge in Q3<br>Sentiment: positive<br>Average Score: 0.8",
          "Theme: NVO Nordisk's Obesity Drug and Research<br>Type: Bot<br>Significance: 92%<br>Subthemes: Launch of WeGovy in China at lower price, Treatment of cardiometabolic diseases, Research into physiology and medicine<br>Sentiment: positive<br>Average Score: 0.9",
          "Theme: NVO Nordisk's Obesity Drug Approval<br>Type: Bot<br>Significance: 80%<br>Subthemes: obesity drug, health benefits<br>Sentiment: positive<br>Average Score: 0.9",
          "Theme: Novo Nordisk's GLP-1 Drugs<br>Type: Bot<br>Significance: 90%<br>Subthemes: Rybelsus, Wegovy, Ozempic, HRRT ETF<br>Sentiment: positive<br>Average Score: 0.9",
          "Theme: Wegovy and Ozempic in China<br>Type: Bot<br>Significance: 85%<br>Subthemes: Wegovy launch in China, Ozempic availability in China<br>Sentiment: positive<br>Average Score: 0.9",
          "Theme: Ozempic Accessibility and Healthcare<br>Type: Bot<br>Significance: 80%<br>Subthemes: Global Shortage, Healthcare Access Issues<br>Sentiment: negative<br>Average Score: -0.85",
          "Theme: Ozempic for Weight Loss<br>Type: Bot<br>Significance: 80%<br>Subthemes: Weight Loss Success, Unrealistic Expectations, Overuse and Misuse<br>Sentiment: negative<br>Average Score: -0.6",
          "Theme: Ozempic Safety Concerns<br>Type: Bot<br>Significance: 90%<br>Subthemes: Serious Side Effects, Search for Natural Alternatives<br>Sentiment: negative<br>Average Score: -0.8",
          "Theme: Ozempic Criticism<br>Type: Bot<br>Significance: 90%<br>Subthemes: weight loss medications, obesity is a choice, health risks<br>Sentiment: negative<br>Average Score: -0.8",
          "Theme: Ozempic Controversy<br>Type: Bot<br>Significance: 85%<br>Subthemes: cost, accessibility<br>Sentiment: negative<br>Average Score: -0.7",
          "Theme: Ozempic Weight Loss and Its Impact<br>Type: Bot<br>Significance: 85%<br>Subthemes: weight loss, ozempic rumors, unrecognizable appearance<br>Sentiment: negative<br>Average Score: -0.6",
          "Theme: Ozempic Weight Loss<br>Type: Bot<br>Significance: 80%<br>Subthemes: weight loss, health benefits, negative side effects<br>Sentiment: negative<br>Average Score: -0.6",
          "Theme: Negative Sentiment Towards Ozempic<br>Type: Bot<br>Significance: 85%<br>Subthemes: health concerns, community impact, influence on food and beverage industry<br>Sentiment: negative<br>Average Score: -0.8"
         ],
         "marker": {
          "color": [
           "rgb(34,139,34)",
           "rgb(34,139,34)",
           "rgb(34,139,34)",
           "rgb(34,139,34)",
           "rgb(34,139,34)",
           "rgb(34,139,34)",
           "rgb(255,69,0)",
           "rgb(34,139,34)",
           "rgb(34,139,34)",
           "rgb(34,139,34)",
           "rgb(34,139,34)",
           "rgb(34,139,34)",
           "rgb(34,139,34)",
           "rgb(34,139,34)",
           "rgb(34,139,34)",
           "rgb(34,139,34)",
           "rgb(34,139,34)",
           "rgb(255,69,0)",
           "rgb(255,69,0)",
           "rgb(255,69,0)",
           "rgb(255,69,0)",
           "rgb(255,69,0)",
           "rgb(255,69,0)",
           "rgb(255,69,0)",
           "rgb(255,69,0)"
          ],
          "line": {
           "color": "black",
           "width": 1
          },
          "size": [
           26,
           27,
           28,
           29,
           26,
           27,
           26,
           27,
           28,
           28.4,
           26.2,
           27.6,
           27,
           28.4,
           26,
           28,
           27,
           26,
           26,
           28,
           28,
           27,
           27,
           26,
           27
          ]
         },
         "mode": "markers",
         "type": "scatter",
         "x": [
          -11.801296994044046,
          -9.290283347207422,
          -5.199285662889963,
          -12.91336757700804,
          -14.164501945324197,
          -12.089135988161994,
          -4.625768832314855,
          -11.238898202974879,
          -6.787697537324496,
          -7.294262969260557,
          -11.257686996485951,
          -9.563031871751422,
          -11.170807405580474,
          -8.136001666014804,
          -9.848418200464073,
          -7.187375345147492,
          -16.143561002389237,
          -6.345526744965241,
          -8.37660069655858,
          -6.276300018750996,
          -9.786968059204568,
          -10.085707702268705,
          -8.279974133452214,
          -6.505767275928785,
          -10.945706769597967
         ],
         "y": [
          -7.91102540434411,
          -12.555671332988279,
          -11.966086901126314,
          -8.231597287980067,
          -4.209608664174801,
          -9.14225241326061,
          -3.410426831543564,
          -14.379750512306693,
          -12.511658613815117,
          -9.597371014523976,
          -6.841646721425434,
          -13.307848292394143,
          -8.982410771057626,
          -8.045641428849708,
          -10.151557684620343,
          -8.488030694799631,
          -14.858345587410119,
          -15.290615580809774,
          -13.261552604982894,
          -11.656405318623852,
          -7.072839996296971,
          -11.080009634576879,
          -11.517309510889133,
          -12.049335061581402,
          -8.831404435170668
         ]
        },
        {
         "hoverinfo": "text",
         "hovertext": [
          "Theme: Novo Nordisk Business and Market Performance<br>Type: Non-Bot<br>Significance: 80%<br>Subthemes: Market share, Revenue growth, EV/FCF multiple<br>Sentiment: positive<br>Average Score: 0.1",
          "Theme: Novo Nordisk Lobbying and Influence<br>Type: Non-Bot<br>Significance: 85%<br>Subthemes: Lobbying for disease classification, Impact on Medicare and Medicaid, Potential conflict of interest<br>Sentiment: negative<br>Average Score: -0.7",
          "Theme: Wegovy Launch and Availability<br>Type: Non-Bot<br>Significance: 80%<br>Subthemes: launch in China, price comparison with US, availability and shortage<br>Sentiment: negative<br>Average Score: 0.0",
          "Theme: Obesity Management and Treatment<br>Type: Non-Bot<br>Significance: 90%<br>Subthemes: glp1 drugs, semaglutide, compounded versions of Wegovy<br>Sentiment: positive<br>Average Score: 0.85",
          "Theme: Cost and Accessibility<br>Type: Non-Bot<br>Significance: 85%<br>Subthemes: high costs, supply constraints, pressure to lower costs<br>Sentiment: negative<br>Average Score: -0.7",
          "Theme: Novo Nordisk's Business Practices and Impact<br>Type: Non-Bot<br>Significance: 85%<br>Subthemes: price gouging, profit over people, rationing of insulin<br>Sentiment: negative<br>Average Score: -0.7",
          "Theme: Novo Nordisk's Lobbying and Influence<br>Type: Non-Bot<br>Significance: 80%<br>Subthemes: corporate influence, lobbying, conflict of interest<br>Sentiment: negative<br>Average Score: -0.8",
          "Theme: Insulin Supply and Pricing<br>Type: Non-Bot<br>Significance: 95%<br>Subthemes: monopoly, price hikes, access to insulin<br>Sentiment: negative<br>Average Score: -0.9",
          "Theme: Novo Nordisk's Philanthropic Nature<br>Type: Non-Bot<br>Significance: 80%<br>Subthemes: charitable foundation, reinvestment in R&D, humanitarian projects<br>Sentiment: positive<br>Average Score: 0.85",
          "Theme: Novo Nordisk's Business and Market Performance<br>Type: Non-Bot<br>Significance: 85%<br>Subthemes: market capitalization, revenue growth, expansion of coverage<br>Sentiment: positive<br>Average Score: 0.7",
          "Theme: Novo Nordisk's Pricing Practices<br>Type: Non-Bot<br>Significance: 90%<br>Subthemes: high prices for medications,  charging Americans high prices for Ozempic, cost differences between US and Germany<br>Sentiment: negative<br>Average Score: -0.8",
          "Theme: Novo Nordisk and Ozempic<br>Type: Non-Bot<br>Significance: 90%<br>Subthemes: Corporate greed, High pricing of Ozempic, Manufacturing anorexia, Celebrity influence<br>Sentiment: negative<br>Average Score: -0.65",
          "Theme: Weight Loss and Ozempic<br>Type: Non-Bot<br>Significance: 80%<br>Subthemes: Ozempic's side effects, Weight loss controversy, Celebrity endorsements<br>Sentiment: negative<br>Average Score: -0.45",
          "Theme: Ozempic<br>Type: Non-Bot<br>Significance: 90%<br>Subthemes: weight loss, pharmaceutical industry, side effects, controversy, medical associations<br>Sentiment: negative<br>Average Score: -0.6",
          "Theme: Obesity and Weight Loss<br>Type: Non-Bot<br>Significance: 80%<br>Subthemes: GLP-1 medications, decreasing obesity rate, public health<br>Sentiment: positive<br>Average Score: 0.5"
         ],
         "marker": {
          "color": [
           "rgb(30,144,255)",
           "rgb(255,99,71)",
           "rgb(255,99,71)",
           "rgb(30,144,255)",
           "rgb(255,99,71)",
           "rgb(255,99,71)",
           "rgb(255,99,71)",
           "rgb(255,99,71)",
           "rgb(30,144,255)",
           "rgb(30,144,255)",
           "rgb(255,99,71)",
           "rgb(255,99,71)",
           "rgb(255,99,71)",
           "rgb(255,99,71)",
           "rgb(30,144,255)"
          ],
          "line": {
           "color": "black",
           "width": 1
          },
          "size": [
           26,
           27,
           26,
           28,
           27,
           27,
           26,
           29,
           26,
           27,
           28,
           28,
           26,
           28,
           26
          ]
         },
         "mode": "markers",
         "type": "scatter",
         "x": [
          5.092427926599629,
          9.128721042951641,
          14.167585002059408,
          8.59783775350503,
          9.705788327872831,
          11.432304045797201,
          8.906199211715716,
          14.227748419632455,
          5.525625715273347,
          11.524091886831144,
          9.878961805570327,
          6.921595433792915,
          9.43755316461307,
          9.020296426674825,
          8.359120306334209
         ],
         "y": [
          6.001832210547654,
          8.876201240314348,
          13.443605968820078,
          6.156850085058368,
          12.38315932997381,
          8.359861948742173,
          12.050012410230973,
          6.168613289806206,
          11.826943996017807,
          10.2683129181905,
          8.79746974899437,
          7.20815595149051,
          10.566891380188418,
          13.889965719899237,
          8.052831224828585
         ]
        },
        {
         "hoverinfo": "text",
         "hovertext": [
          "Theme: Ozempic Side Effects<br>Type: Non-Bot<br>Significance: 80%<br>Subthemes: physical changes, health issues<br>Sentiment: negative<br>Average Score: -0.9"
         ],
         "marker": {
          "color": [
           "rgb(255,69,0)"
          ],
          "line": {
           "color": "black",
           "width": 1
          },
          "size": [
           26
          ]
         },
         "mode": "markers",
         "type": "scatter",
         "x": [
          0.18534230504892651
         ],
         "y": [
          1.503748241397114
         ]
        }
       ],
       "layout": {
        "annotations": [
         {
          "align": "left",
          "bgcolor": "rgba(255,255,255,0.7)",
          "bordercolor": "black",
          "borderwidth": 1,
          "showarrow": false,
          "text": "<b>Legend:</b><br><span style='color:rgb(34,139,34)'>● Positive Bot</span><br><span style='color:rgb(255,69,0)'>● Negative Bot</span><br><span style='color:rgb(30,144,255)'>● Positive Non-Bot</span><br><span style='color:rgb(255,99,71)'>● Negative Non-Bot</span>",
          "x": 1,
          "xref": "paper",
          "y": 1.05,
          "yref": "paper"
         }
        ],
        "height": 800,
        "hovermode": "closest",
        "plot_bgcolor": "rgb(240,240,240)",
        "showlegend": false,
        "template": {
         "data": {
          "bar": [
           {
            "error_x": {
             "color": "#2a3f5f"
            },
            "error_y": {
             "color": "#2a3f5f"
            },
            "marker": {
             "line": {
              "color": "#E5ECF6",
              "width": 0.5
             },
             "pattern": {
              "fillmode": "overlay",
              "size": 10,
              "solidity": 0.2
             }
            },
            "type": "bar"
           }
          ],
          "barpolar": [
           {
            "marker": {
             "line": {
              "color": "#E5ECF6",
              "width": 0.5
             },
             "pattern": {
              "fillmode": "overlay",
              "size": 10,
              "solidity": 0.2
             }
            },
            "type": "barpolar"
           }
          ],
          "carpet": [
           {
            "aaxis": {
             "endlinecolor": "#2a3f5f",
             "gridcolor": "white",
             "linecolor": "white",
             "minorgridcolor": "white",
             "startlinecolor": "#2a3f5f"
            },
            "baxis": {
             "endlinecolor": "#2a3f5f",
             "gridcolor": "white",
             "linecolor": "white",
             "minorgridcolor": "white",
             "startlinecolor": "#2a3f5f"
            },
            "type": "carpet"
           }
          ],
          "choropleth": [
           {
            "colorbar": {
             "outlinewidth": 0,
             "ticks": ""
            },
            "type": "choropleth"
           }
          ],
          "contour": [
           {
            "colorbar": {
             "outlinewidth": 0,
             "ticks": ""
            },
            "colorscale": [
             [
              0,
              "#0d0887"
             ],
             [
              0.1111111111111111,
              "#46039f"
             ],
             [
              0.2222222222222222,
              "#7201a8"
             ],
             [
              0.3333333333333333,
              "#9c179e"
             ],
             [
              0.4444444444444444,
              "#bd3786"
             ],
             [
              0.5555555555555556,
              "#d8576b"
             ],
             [
              0.6666666666666666,
              "#ed7953"
             ],
             [
              0.7777777777777778,
              "#fb9f3a"
             ],
             [
              0.8888888888888888,
              "#fdca26"
             ],
             [
              1,
              "#f0f921"
             ]
            ],
            "type": "contour"
           }
          ],
          "contourcarpet": [
           {
            "colorbar": {
             "outlinewidth": 0,
             "ticks": ""
            },
            "type": "contourcarpet"
           }
          ],
          "heatmap": [
           {
            "colorbar": {
             "outlinewidth": 0,
             "ticks": ""
            },
            "colorscale": [
             [
              0,
              "#0d0887"
             ],
             [
              0.1111111111111111,
              "#46039f"
             ],
             [
              0.2222222222222222,
              "#7201a8"
             ],
             [
              0.3333333333333333,
              "#9c179e"
             ],
             [
              0.4444444444444444,
              "#bd3786"
             ],
             [
              0.5555555555555556,
              "#d8576b"
             ],
             [
              0.6666666666666666,
              "#ed7953"
             ],
             [
              0.7777777777777778,
              "#fb9f3a"
             ],
             [
              0.8888888888888888,
              "#fdca26"
             ],
             [
              1,
              "#f0f921"
             ]
            ],
            "type": "heatmap"
           }
          ],
          "heatmapgl": [
           {
            "colorbar": {
             "outlinewidth": 0,
             "ticks": ""
            },
            "colorscale": [
             [
              0,
              "#0d0887"
             ],
             [
              0.1111111111111111,
              "#46039f"
             ],
             [
              0.2222222222222222,
              "#7201a8"
             ],
             [
              0.3333333333333333,
              "#9c179e"
             ],
             [
              0.4444444444444444,
              "#bd3786"
             ],
             [
              0.5555555555555556,
              "#d8576b"
             ],
             [
              0.6666666666666666,
              "#ed7953"
             ],
             [
              0.7777777777777778,
              "#fb9f3a"
             ],
             [
              0.8888888888888888,
              "#fdca26"
             ],
             [
              1,
              "#f0f921"
             ]
            ],
            "type": "heatmapgl"
           }
          ],
          "histogram": [
           {
            "marker": {
             "pattern": {
              "fillmode": "overlay",
              "size": 10,
              "solidity": 0.2
             }
            },
            "type": "histogram"
           }
          ],
          "histogram2d": [
           {
            "colorbar": {
             "outlinewidth": 0,
             "ticks": ""
            },
            "colorscale": [
             [
              0,
              "#0d0887"
             ],
             [
              0.1111111111111111,
              "#46039f"
             ],
             [
              0.2222222222222222,
              "#7201a8"
             ],
             [
              0.3333333333333333,
              "#9c179e"
             ],
             [
              0.4444444444444444,
              "#bd3786"
             ],
             [
              0.5555555555555556,
              "#d8576b"
             ],
             [
              0.6666666666666666,
              "#ed7953"
             ],
             [
              0.7777777777777778,
              "#fb9f3a"
             ],
             [
              0.8888888888888888,
              "#fdca26"
             ],
             [
              1,
              "#f0f921"
             ]
            ],
            "type": "histogram2d"
           }
          ],
          "histogram2dcontour": [
           {
            "colorbar": {
             "outlinewidth": 0,
             "ticks": ""
            },
            "colorscale": [
             [
              0,
              "#0d0887"
             ],
             [
              0.1111111111111111,
              "#46039f"
             ],
             [
              0.2222222222222222,
              "#7201a8"
             ],
             [
              0.3333333333333333,
              "#9c179e"
             ],
             [
              0.4444444444444444,
              "#bd3786"
             ],
             [
              0.5555555555555556,
              "#d8576b"
             ],
             [
              0.6666666666666666,
              "#ed7953"
             ],
             [
              0.7777777777777778,
              "#fb9f3a"
             ],
             [
              0.8888888888888888,
              "#fdca26"
             ],
             [
              1,
              "#f0f921"
             ]
            ],
            "type": "histogram2dcontour"
           }
          ],
          "mesh3d": [
           {
            "colorbar": {
             "outlinewidth": 0,
             "ticks": ""
            },
            "type": "mesh3d"
           }
          ],
          "parcoords": [
           {
            "line": {
             "colorbar": {
              "outlinewidth": 0,
              "ticks": ""
             }
            },
            "type": "parcoords"
           }
          ],
          "pie": [
           {
            "automargin": true,
            "type": "pie"
           }
          ],
          "scatter": [
           {
            "fillpattern": {
             "fillmode": "overlay",
             "size": 10,
             "solidity": 0.2
            },
            "type": "scatter"
           }
          ],
          "scatter3d": [
           {
            "line": {
             "colorbar": {
              "outlinewidth": 0,
              "ticks": ""
             }
            },
            "marker": {
             "colorbar": {
              "outlinewidth": 0,
              "ticks": ""
             }
            },
            "type": "scatter3d"
           }
          ],
          "scattercarpet": [
           {
            "marker": {
             "colorbar": {
              "outlinewidth": 0,
              "ticks": ""
             }
            },
            "type": "scattercarpet"
           }
          ],
          "scattergeo": [
           {
            "marker": {
             "colorbar": {
              "outlinewidth": 0,
              "ticks": ""
             }
            },
            "type": "scattergeo"
           }
          ],
          "scattergl": [
           {
            "marker": {
             "colorbar": {
              "outlinewidth": 0,
              "ticks": ""
             }
            },
            "type": "scattergl"
           }
          ],
          "scattermapbox": [
           {
            "marker": {
             "colorbar": {
              "outlinewidth": 0,
              "ticks": ""
             }
            },
            "type": "scattermapbox"
           }
          ],
          "scatterpolar": [
           {
            "marker": {
             "colorbar": {
              "outlinewidth": 0,
              "ticks": ""
             }
            },
            "type": "scatterpolar"
           }
          ],
          "scatterpolargl": [
           {
            "marker": {
             "colorbar": {
              "outlinewidth": 0,
              "ticks": ""
             }
            },
            "type": "scatterpolargl"
           }
          ],
          "scatterternary": [
           {
            "marker": {
             "colorbar": {
              "outlinewidth": 0,
              "ticks": ""
             }
            },
            "type": "scatterternary"
           }
          ],
          "surface": [
           {
            "colorbar": {
             "outlinewidth": 0,
             "ticks": ""
            },
            "colorscale": [
             [
              0,
              "#0d0887"
             ],
             [
              0.1111111111111111,
              "#46039f"
             ],
             [
              0.2222222222222222,
              "#7201a8"
             ],
             [
              0.3333333333333333,
              "#9c179e"
             ],
             [
              0.4444444444444444,
              "#bd3786"
             ],
             [
              0.5555555555555556,
              "#d8576b"
             ],
             [
              0.6666666666666666,
              "#ed7953"
             ],
             [
              0.7777777777777778,
              "#fb9f3a"
             ],
             [
              0.8888888888888888,
              "#fdca26"
             ],
             [
              1,
              "#f0f921"
             ]
            ],
            "type": "surface"
           }
          ],
          "table": [
           {
            "cells": {
             "fill": {
              "color": "#EBF0F8"
             },
             "line": {
              "color": "white"
             }
            },
            "header": {
             "fill": {
              "color": "#C8D4E3"
             },
             "line": {
              "color": "white"
             }
            },
            "type": "table"
           }
          ]
         },
         "layout": {
          "annotationdefaults": {
           "arrowcolor": "#2a3f5f",
           "arrowhead": 0,
           "arrowwidth": 1
          },
          "autotypenumbers": "strict",
          "coloraxis": {
           "colorbar": {
            "outlinewidth": 0,
            "ticks": ""
           }
          },
          "colorscale": {
           "diverging": [
            [
             0,
             "#8e0152"
            ],
            [
             0.1,
             "#c51b7d"
            ],
            [
             0.2,
             "#de77ae"
            ],
            [
             0.3,
             "#f1b6da"
            ],
            [
             0.4,
             "#fde0ef"
            ],
            [
             0.5,
             "#f7f7f7"
            ],
            [
             0.6,
             "#e6f5d0"
            ],
            [
             0.7,
             "#b8e186"
            ],
            [
             0.8,
             "#7fbc41"
            ],
            [
             0.9,
             "#4d9221"
            ],
            [
             1,
             "#276419"
            ]
           ],
           "sequential": [
            [
             0,
             "#0d0887"
            ],
            [
             0.1111111111111111,
             "#46039f"
            ],
            [
             0.2222222222222222,
             "#7201a8"
            ],
            [
             0.3333333333333333,
             "#9c179e"
            ],
            [
             0.4444444444444444,
             "#bd3786"
            ],
            [
             0.5555555555555556,
             "#d8576b"
            ],
            [
             0.6666666666666666,
             "#ed7953"
            ],
            [
             0.7777777777777778,
             "#fb9f3a"
            ],
            [
             0.8888888888888888,
             "#fdca26"
            ],
            [
             1,
             "#f0f921"
            ]
           ],
           "sequentialminus": [
            [
             0,
             "#0d0887"
            ],
            [
             0.1111111111111111,
             "#46039f"
            ],
            [
             0.2222222222222222,
             "#7201a8"
            ],
            [
             0.3333333333333333,
             "#9c179e"
            ],
            [
             0.4444444444444444,
             "#bd3786"
            ],
            [
             0.5555555555555556,
             "#d8576b"
            ],
            [
             0.6666666666666666,
             "#ed7953"
            ],
            [
             0.7777777777777778,
             "#fb9f3a"
            ],
            [
             0.8888888888888888,
             "#fdca26"
            ],
            [
             1,
             "#f0f921"
            ]
           ]
          },
          "colorway": [
           "#636efa",
           "#EF553B",
           "#00cc96",
           "#ab63fa",
           "#FFA15A",
           "#19d3f3",
           "#FF6692",
           "#B6E880",
           "#FF97FF",
           "#FECB52"
          ],
          "font": {
           "color": "#2a3f5f"
          },
          "geo": {
           "bgcolor": "white",
           "lakecolor": "white",
           "landcolor": "#E5ECF6",
           "showlakes": true,
           "showland": true,
           "subunitcolor": "white"
          },
          "hoverlabel": {
           "align": "left"
          },
          "hovermode": "closest",
          "mapbox": {
           "style": "light"
          },
          "paper_bgcolor": "white",
          "plot_bgcolor": "#E5ECF6",
          "polar": {
           "angularaxis": {
            "gridcolor": "white",
            "linecolor": "white",
            "ticks": ""
           },
           "bgcolor": "#E5ECF6",
           "radialaxis": {
            "gridcolor": "white",
            "linecolor": "white",
            "ticks": ""
           }
          },
          "scene": {
           "xaxis": {
            "backgroundcolor": "#E5ECF6",
            "gridcolor": "white",
            "gridwidth": 2,
            "linecolor": "white",
            "showbackground": true,
            "ticks": "",
            "zerolinecolor": "white"
           },
           "yaxis": {
            "backgroundcolor": "#E5ECF6",
            "gridcolor": "white",
            "gridwidth": 2,
            "linecolor": "white",
            "showbackground": true,
            "ticks": "",
            "zerolinecolor": "white"
           },
           "zaxis": {
            "backgroundcolor": "#E5ECF6",
            "gridcolor": "white",
            "gridwidth": 2,
            "linecolor": "white",
            "showbackground": true,
            "ticks": "",
            "zerolinecolor": "white"
           }
          },
          "shapedefaults": {
           "line": {
            "color": "#2a3f5f"
           }
          },
          "ternary": {
           "aaxis": {
            "gridcolor": "white",
            "linecolor": "white",
            "ticks": ""
           },
           "baxis": {
            "gridcolor": "white",
            "linecolor": "white",
            "ticks": ""
           },
           "bgcolor": "#E5ECF6",
           "caxis": {
            "gridcolor": "white",
            "linecolor": "white",
            "ticks": ""
           }
          },
          "title": {
           "x": 0.05
          },
          "xaxis": {
           "automargin": true,
           "gridcolor": "white",
           "linecolor": "white",
           "ticks": "",
           "title": {
            "standoff": 15
           },
           "zerolinecolor": "white",
           "zerolinewidth": 2
          },
          "yaxis": {
           "automargin": true,
           "gridcolor": "white",
           "linecolor": "white",
           "ticks": "",
           "title": {
            "standoff": 15
           },
           "zerolinecolor": "white",
           "zerolinewidth": 2
          }
         }
        },
        "title": {
         "text": "Novo Nordisk Twitter Mention Visualization"
        },
        "width": 1000,
        "xaxis": {
         "showgrid": false,
         "showticklabels": false,
         "zeroline": false
        },
        "yaxis": {
         "showgrid": false,
         "showticklabels": false,
         "zeroline": false
        }
       }
      }
     },
     "metadata": {},
     "output_type": "display_data"
    }
   ],
   "source": [
    "\n",
    "def load_json_file(file_path):\n",
    "    \"\"\"Load JSON file safely.\"\"\"\n",
    "    try:\n",
    "        with open(file_path, 'r', encoding='utf-8') as file:\n",
    "            return json.load(file)\n",
    "    except Exception as e:\n",
    "        print(f\"Error loading JSON file {file_path}: {e}\")\n",
    "        return []\n",
    "\n",
    "def create_theme_network(data_bot, data_nonbot, min_significance=70):\n",
    "    \"\"\"Create a network graph from themes with a minimum significance level.\"\"\"\n",
    "    G = nx.Graph()\n",
    "\n",
    "    def process_data(data, is_bot=True):\n",
    "        for item in data:\n",
    "            response = item.get('response')\n",
    "            if isinstance(response, str):\n",
    "                try:\n",
    "                    response_data = json.loads(response)\n",
    "                    themes = response_data.get('themes', [])\n",
    "\n",
    "                    for theme in themes:\n",
    "                        significance = theme.get('significance', 0)\n",
    "                        if significance >= min_significance:\n",
    "                            theme_name = theme['theme']\n",
    "                            sentiment = theme.get('sentiment', {})\n",
    "                            average_score = sentiment.get('average_score', 0)\n",
    "\n",
    "                            # Classify sentiment based on average score\n",
    "                            sentiment_class = \"positive\" if average_score > 0 else \"negative\"\n",
    "                            \n",
    "                            subthemes = theme.get('subthemes', [])\n",
    "\n",
    "                            # Add or update theme node\n",
    "                            if not G.has_node(theme_name):\n",
    "                                G.add_node(theme_name,\n",
    "                                           type='theme',\n",
    "                                           is_bot=is_bot,\n",
    "                                           significance=significance,\n",
    "                                           sentiment_class=sentiment_class,\n",
    "                                           average_score=average_score,\n",
    "                                           subthemes=subthemes)\n",
    "                            else:\n",
    "                                # If node exists and bot status is different, mark as mixed\n",
    "                                current_bot_status = G.nodes[theme_name].get('is_bot')\n",
    "                                if current_bot_status != is_bot:\n",
    "                                    G.nodes[theme_name]['is_bot'] = 'mixed'\n",
    "\n",
    "                except json.JSONDecodeError:\n",
    "                    print(f\"Invalid JSON in response: {response}\")\n",
    "\n",
    "    # Process bot and non-bot data\n",
    "    process_data(data_bot, is_bot=True)\n",
    "    process_data(data_nonbot, is_bot=False)\n",
    "\n",
    "    return G\n",
    "def visualize_network(G):\n",
    "    \"\"\"Visualize bot, non-bot, and mixed themes in clustered regions.\"\"\"\n",
    "    bot_nodes = [node for node, data in G.nodes(data=True) if data.get('is_bot') == True]\n",
    "    nonbot_nodes = [node for node, data in G.nodes(data=True) if data.get('is_bot') == False]\n",
    "    mixed_nodes = [node for node, data in G.nodes(data=True) if data.get('is_bot') == 'mixed']\n",
    "\n",
    "    traces = []\n",
    "\n",
    "    def get_node_size(significance):\n",
    "        return 10 + (significance / 5)\n",
    "\n",
    "    def get_node_color(is_bot, sentiment_class):\n",
    "        if is_bot and sentiment_class == 'positive':\n",
    "            return 'rgb(34,139,34)'  # Green for positive bot\n",
    "        elif is_bot and sentiment_class == 'negative':\n",
    "            return 'rgb(255,69,0)'  # Red for negative bot\n",
    "        elif not is_bot and sentiment_class == 'positive':\n",
    "            return 'rgb(30,144,255)'  # Blue for positive non-bot\n",
    "        elif not is_bot and sentiment_class == 'negative':\n",
    "            return 'rgb(255,99,71)'  # Tomato for negative non-bot\n",
    "\n",
    "    for nodes, loc in [(bot_nodes, (-10, -10)), (nonbot_nodes, (10, 10)), (mixed_nodes, (0, 0))]:\n",
    "        if nodes:\n",
    "            x = np.random.normal(loc=loc[0], scale=3, size=len(nodes))\n",
    "            y = np.random.normal(loc=loc[1], scale=3, size=len(nodes))\n",
    "            sizes = [get_node_size(G.nodes[node]['significance']) for node in nodes]\n",
    "            colors = [get_node_color(G.nodes[node]['is_bot'], G.nodes[node]['sentiment_class']) for node in nodes]\n",
    "            hover_texts = [\n",
    "                f\"Theme: {node}<br>Type: {'Bot' if G.nodes[node]['is_bot'] == True else 'Non-Bot'}<br>\"\n",
    "                f\"Significance: {G.nodes[node]['significance']}%<br>\"\n",
    "                f\"Subthemes: {', '.join(G.nodes[node].get('subthemes', []))}<br>\"\n",
    "                f\"Sentiment: {G.nodes[node]['sentiment_class']}<br>\"\n",
    "                f\"Average Score: {G.nodes[node]['average_score']}\"\n",
    "                for node in nodes\n",
    "            ]\n",
    "            traces.append(go.Scatter(\n",
    "                x=x, y=y, mode='markers', hovertext=hover_texts, hoverinfo='text',\n",
    "                marker=dict(size=sizes, color=colors, line=dict(width=1, color='black'))\n",
    "            ))\n",
    "\n",
    "    fig = go.Figure(data=traces)\n",
    "    fig.update_layout(\n",
    "        title=\"Novo Nordisk Twitter Mention Visualization\",\n",
    "        showlegend=False,  # Disable automatic legend\n",
    "        hovermode='closest',\n",
    "        width=1000, height=800,\n",
    "        xaxis=dict(showgrid=False, zeroline=False, showticklabels=False),\n",
    "        yaxis=dict(showgrid=False, zeroline=False, showticklabels=False),\n",
    "        plot_bgcolor='rgb(240,240,240)',\n",
    "        annotations=[\n",
    "            dict(\n",
    "                x=1, y=1.05, showarrow=False, text=(\n",
    "                    \"<b>Legend:</b><br>\"\n",
    "                    \"<span style='color:rgb(34,139,34)'>● Positive Bot</span><br>\"\n",
    "                    \"<span style='color:rgb(255,69,0)'>● Negative Bot</span><br>\"\n",
    "                    \"<span style='color:rgb(30,144,255)'>● Positive Non-Bot</span><br>\"\n",
    "                    \"<span style='color:rgb(255,99,71)'>● Negative Non-Bot</span>\"\n",
    "                ),\n",
    "                xref=\"paper\", yref=\"paper\", align=\"left\", bgcolor=\"rgba(255,255,255,0.7)\",\n",
    "                bordercolor=\"black\", borderwidth=1\n",
    "            )\n",
    "        ]\n",
    "    )\n",
    "\n",
    "    fig.show()\n",
    "if __name__ == \"__main__\":\n",
    "    bot_data = load_json_file('novo_0.json')\n",
    "    nonbot_data = load_json_file('novo_1.json')\n",
    "    graph = create_theme_network(bot_data, nonbot_data, min_significance=80)\n",
    "    visualize_network(graph)"
   ]
  },
  {
   "cell_type": "code",
   "execution_count": 28,
   "metadata": {},
   "outputs": [
    {
     "name": "stdout",
     "output_type": "stream",
     "text": [
      "Negative Sentiments (Bot Data):\n",
      "Theme: Novo Nordisk's Operational Issues in Ukraine, Significance: 80%, Average Score: -0.6\n",
      "Theme: Ozempic Accessibility and Healthcare, Significance: 80%, Average Score: -0.85\n",
      "Theme: Ozempic for Weight Loss, Significance: 80%, Average Score: -0.6\n",
      "Theme: Ozempic Safety Concerns, Significance: 90%, Average Score: -0.8\n",
      "Theme: Ozempic Criticism, Significance: 90%, Average Score: -0.8\n",
      "Theme: Ozempic Side Effects, Significance: 80%, Average Score: -0.9\n",
      "Theme: Ozempic Controversy, Significance: 85%, Average Score: -0.7\n",
      "Theme: Ozempic Weight Loss and Its Impact, Significance: 85%, Average Score: -0.6\n",
      "Theme: Ozempic Weight Loss, Significance: 80%, Average Score: -0.6\n",
      "Theme: Negative Sentiment Towards Ozempic, Significance: 85%, Average Score: -0.8\n",
      "\n",
      "Negative Sentiments (Non-Bot Data):\n",
      "Theme: Novo Nordisk Lobbying and Influence, Significance: 85%, Average Score: -0.7\n",
      "Theme: Cost and Accessibility, Significance: 85%, Average Score: -0.7\n",
      "Theme: Novo Nordisk's Business Practices and Impact, Significance: 85%, Average Score: -0.7\n",
      "Theme: Insulin Supply and Pricing, Significance: 95%, Average Score: -0.9\n",
      "Theme: Novo Nordisk's Pricing Practices, Significance: 90%, Average Score: -0.8\n",
      "Theme: Novo Nordisk and Ozempic, Significance: 90%, Average Score: -0.65\n",
      "Theme: Ozempic, Significance: 90%, Average Score: -0.6\n"
     ]
    }
   ],
   "source": [
    "import json\n",
    "\n",
    "def load_json_file(file_path):\n",
    "    \"\"\"Load JSON file safely.\"\"\"\n",
    "    try:\n",
    "        with open(file_path, 'r', encoding='utf-8') as file:\n",
    "            return json.load(file)\n",
    "    except Exception as e:\n",
    "        print(f\"Error loading JSON file {file_path}: {e}\")\n",
    "        return []\n",
    "\n",
    "def extract_negative_sentiments(data, min_significance=80):\n",
    "    \"\"\"Extract all negative sentiments with significance above the threshold.\"\"\"\n",
    "    negative_sentiments = []\n",
    "\n",
    "    for item in data:\n",
    "        response = item.get('response')\n",
    "        if isinstance(response, str):\n",
    "            try:\n",
    "                response_data = json.loads(response)\n",
    "                themes = response_data.get('themes', [])\n",
    "\n",
    "                for theme in themes:\n",
    "                    significance = theme.get('significance', 0)\n",
    "                    if significance >= min_significance:\n",
    "                        theme_name = theme['theme']\n",
    "                        sentiment = theme.get('sentiment', {})\n",
    "                        average_score = sentiment.get('average_score', 0)\n",
    "\n",
    "                        # Check if sentiment is negative\n",
    "                        if average_score < 0:\n",
    "                            negative_sentiments.append({\n",
    "                                \"theme\": theme_name,\n",
    "                                \"significance\": significance,\n",
    "                                \"average_score\": average_score,\n",
    "                                \"subthemes\": theme.get('subthemes', [])\n",
    "                            })\n",
    "            except json.JSONDecodeError:\n",
    "                print(f\"Invalid JSON in response: {response}\")\n",
    "    \n",
    "    return negative_sentiments\n",
    "\n",
    "if __name__ == \"__main__\":\n",
    "    # Load Novo Nordisk bot and non-bot data\n",
    "    bot_data = load_json_file('novo_0.json')  # Bot data for Novo Nordisk\n",
    "    nonbot_data = load_json_file('novo_1.json')  # Non-bot data for Novo Nordisk\n",
    "\n",
    "    # Extract negative sentiments with significance above 80%\n",
    "    negative_bot_sentiments = extract_negative_sentiments(bot_data, min_significance=80)\n",
    "    negative_nonbot_sentiments = extract_negative_sentiments(nonbot_data, min_significance=85)\n",
    "\n",
    "    # Print the negative sentiments\n",
    "    print(\"Negative Sentiments (Bot Data):\")\n",
    "    for sentiment in negative_bot_sentiments:\n",
    "        print(f\"Theme: {sentiment['theme']}, Significance: {sentiment['significance']}%, Average Score: {sentiment['average_score']}\")\n",
    "\n",
    "    print(\"\\nNegative Sentiments (Non-Bot Data):\")\n",
    "    for sentiment in negative_nonbot_sentiments:\n",
    "        print(f\"Theme: {sentiment['theme']}, Significance: {sentiment['significance']}%, Average Score: {sentiment['average_score']}\")\n"
   ]
  }
 ],
 "metadata": {
  "kernelspec": {
   "display_name": "base",
   "language": "python",
   "name": "python3"
  },
  "language_info": {
   "codemirror_mode": {
    "name": "ipython",
    "version": 3
   },
   "file_extension": ".py",
   "mimetype": "text/x-python",
   "name": "python",
   "nbconvert_exporter": "python",
   "pygments_lexer": "ipython3",
   "version": "3.12.4"
  }
 },
 "nbformat": 4,
 "nbformat_minor": 2
}
