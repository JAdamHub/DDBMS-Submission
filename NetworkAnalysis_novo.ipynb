{
 "cells": [
  {
   "cell_type": "markdown",
   "metadata": {},
   "source": [
    "## Libraries Setup"
   ]
  },
  {
   "cell_type": "code",
   "execution_count": 6,
   "metadata": {},
   "outputs": [
    {
     "name": "stderr",
     "output_type": "stream",
     "text": [
      "/Users/markushenriksson/Desktop/Data/Python/DDBMS-Submission/.conda/lib/python3.12/pty.py:95: DeprecationWarning: This process (pid=34215) is multi-threaded, use of forkpty() may lead to deadlocks in the child.\n",
      "  pid, fd = os.forkpty()\n"
     ]
    }
   ],
   "source": [
    "!pip install -r requirements.txt -q"
   ]
  },
  {
   "cell_type": "code",
   "execution_count": 7,
   "metadata": {},
   "outputs": [],
   "source": [
    "# Datahandling\n",
    "import requests\n",
    "import os\n",
    "os.environ[\"TOKENIZERS_PARALLELISM\"] = \"false\"\n",
    "import numpy as np\n",
    "import pandas as pd\n",
    "import seaborn as sns\n",
    "\n",
    "# Tweet Themes\n",
    "from sentence_transformers import SentenceTransformer\n",
    "import umap\n",
    "import hdbscan\n",
    "import matplotlib.pyplot as plt\n",
    "import plotly.express as px\n",
    "\n",
    "# Network analysis\n",
    "from typing import List, Optional\n",
    "import json\n",
    "import matplotlib.patches as mpatches\n",
    "import networkx as nx\n",
    "from community import community_louvain\n",
    "import plotly.graph_objects as go\n",
    "import random\n",
    "from collections import defaultdict\n",
    "import nbformat\n",
    "\n",
    "# Model prediction\n",
    "from setfit import SetFitModel, SetFitTrainer\n",
    "from sklearn.metrics import classification_report\n",
    "import tiktoken\n",
    "\n",
    "# Gradio deployment\n",
    "import gradio as gr\n"
   ]
  },
  {
   "cell_type": "markdown",
   "metadata": {},
   "source": [
    "## Data import"
   ]
  },
  {
   "cell_type": "code",
   "execution_count": 10,
   "metadata": {},
   "outputs": [],
   "source": [
    "# data sampling? 20000\n",
    "data = pd.read_csv('predictions_output.csv')\n",
    "# data = data.sample(n=2000, random_state=42)"
   ]
  },
  {
   "cell_type": "code",
   "execution_count": 12,
   "metadata": {},
   "outputs": [
    {
     "name": "stdout",
     "output_type": "stream",
     "text": [
      "Data with label=0: 140 rows\n",
      "Data with label=1: 98 rows\n"
     ]
    }
   ],
   "source": [
    "# Split the data based on the `label` column\n",
    "data_label_0 = data[data['Label'] == 0]  # Subset where label=0\n",
    "data_label_1 = data[data['Label'] == 1]  # Subset where label=1\n",
    "\n",
    "# Optionally, check the sizes of the splits\n",
    "print(f\"Data with label=0: {len(data_label_0)} rows\")\n",
    "print(f\"Data with label=1: {len(data_label_1)} rows\")"
   ]
  },
  {
   "cell_type": "code",
   "execution_count": 13,
   "metadata": {},
   "outputs": [],
   "source": [
    "# LLM Libs & Setup\n",
    "from openai import OpenAI\n",
    "import json\n",
    "from pydantic import BaseModel, Field\n",
    "from typing import List, Optional\n",
    "import textwrap"
   ]
  },
  {
   "cell_type": "markdown",
   "metadata": {},
   "source": [
    "## LLM Setup"
   ]
  },
  {
   "cell_type": "code",
   "execution_count": 14,
   "metadata": {},
   "outputs": [],
   "source": [
    "# Set your Together API Key directly\n",
    "TOGETHER_API_KEY = \"\"\n",
    "\n",
    "# Check if the API key is set\n",
    "if not TOGETHER_API_KEY:\n",
    "    raise ValueError(\"The Together API Key must be provided.\")\n",
    "\n",
    "# Initialize the Together client\n",
    "client = OpenAI(\n",
    "    base_url=\"https://api.together.xyz/v1\",\n",
    "    api_key=TOGETHER_API_KEY\n",
    ")\n",
    "\n",
    "# Define the model\n",
    "model = \"meta-llama/Meta-Llama-3.1-8B-Instruct-Turbo\""
   ]
  },
  {
   "cell_type": "markdown",
   "metadata": {},
   "source": [
    "## System_Prompt + JSON_schema Setup"
   ]
  },
  {
   "cell_type": "code",
   "execution_count": 16,
   "metadata": {},
   "outputs": [],
   "source": [
    "SYSTEM_PROMPT = \"\"\"\n",
    "System Prompt:\n",
    "\n",
    "You are an advanced NLP assistant tasked with analyzing tweets about a company. Each tweet is labeled as being from either a bot (0) or a human (1). Your goals are to identify themes, assess sentiment, extract keywords, and assign significance scores. Follow these steps:\n",
    "\n",
    "Theme Identification:\n",
    "\n",
    "- Group tweets into 5-15 overall themes or mentions about the company. Themes represent key topics, issues, or narratives surrounding the company.\n",
    "- For each theme, provide subthemes or keywords that explain why the theme was chosen. These keywords should summarize the driving factors behind the theme.\n",
    "\n",
    "Sentiment Analysis:\n",
    "\n",
    "- Perform sentiment analysis for each tweet and aggregate these sentiments to determine the overall sentiment for each theme (positive, neutral, or negative).\n",
    "- Provide an average sentiment score (-1 to +1 scale) for each theme.\n",
    "\n",
    "Theme Significance:\n",
    "\n",
    "- Assign a significance score (1-100) for each theme based on how many tweets contribute to it, and other relevant metrics (e.g., impact of subthemes, relevance to overall narrative).\n",
    "\n",
    "Output Structure:\n",
    "\n",
    "For each theme, provide:\n",
    "- Theme title.\n",
    "- Sentiment summary (positive/negative/neutral, average sentiment score).\n",
    "- Subthemes/keywords explaining the causation of the theme.\n",
    "- Significance score.\n",
    "\n",
    "\n",
    "Consideration:\n",
    "\n",
    "- Focus on human-labeled tweets (1) for primary analysis but note any notable patterns from bot-labeled tweets (0).\n",
    "- Highlight anomalies or unexpected findings, if any.\n",
    "\"\"\"\n"
   ]
  },
  {
   "cell_type": "code",
   "execution_count": 17,
   "metadata": {},
   "outputs": [],
   "source": [
    "json_schema = {\n",
    "    \"type\": \"object\",\n",
    "    \"properties\": {\n",
    "        \"themes\": {\n",
    "            \"type\": \"array\",\n",
    "            \"items\": {\n",
    "                \"type\": \"object\",\n",
    "                \"properties\": {\n",
    "                    \"theme\": {\n",
    "                        \"type\": \"string\",\n",
    "                        \"description\": \"Title of the overall theme\"\n",
    "                    },\n",
    "                    \"sentiment\": {\n",
    "                        \"type\": \"object\",\n",
    "                        \"properties\": {\n",
    "                            \"overall\": {\n",
    "                                \"type\": \"string\",\n",
    "                                \"enum\": [\"positive\", \"neutral\", \"negative\"],\n",
    "                                \"description\": \"Overall sentiment of the theme\"\n",
    "                            },\n",
    "                            \"average_score\": {\n",
    "                                \"type\": \"number\",\n",
    "                                \"minimum\": -1,\n",
    "                                \"maximum\": 1,\n",
    "                                \"description\": \"Average sentiment score of the theme\"\n",
    "                            }\n",
    "                        },\n",
    "                        \"required\": [\"overall\", \"average_score\"]\n",
    "                    },\n",
    "                    \"subthemes\": {\n",
    "                        \"type\": \"array\",\n",
    "                        \"items\": {\n",
    "                            \"type\": \"string\"\n",
    "                        },\n",
    "                        \"description\": \"List of keywords or subthemes driving the main theme\"\n",
    "                    },\n",
    "                    \"significance\": {\n",
    "                        \"type\": \"integer\",\n",
    "                        \"minimum\": 1,\n",
    "                        \"maximum\": 100,\n",
    "                        \"description\": \"Significance score of the theme\"\n",
    "                    }\n",
    "                },\n",
    "                \"required\": [\"theme\", \"sentiment\", \"subthemes\", \"significance\"]\n",
    "            }\n",
    "        }\n",
    "    },\n",
    "    \"required\": [\"themes\"]\n",
    "}\n"
   ]
  },
  {
   "cell_type": "code",
   "execution_count": 18,
   "metadata": {},
   "outputs": [
    {
     "name": "stderr",
     "output_type": "stream",
     "text": [
      "/Users/markushenriksson/Desktop/Data/Python/DDBMS-Submission/.conda/lib/python3.12/site-packages/pydantic/fields.py:1032: PydanticDeprecatedSince20: Using extra keyword arguments on `Field` is deprecated and will be removed. Use `json_schema_extra` instead. (Extra keys: 'enum'). Deprecated in Pydantic V2.0 to be removed in V3.0. See Pydantic V2 Migration Guide at https://errors.pydantic.dev/2.10/migration/\n",
      "  warn(\n",
      "/Users/markushenriksson/Desktop/Data/Python/DDBMS-Submission/.conda/lib/python3.12/site-packages/pydantic/fields.py:1001: PydanticDeprecatedSince20: `min_items` is deprecated and will be removed, use `min_length` instead. Deprecated in Pydantic V2.0 to be removed in V3.0. See Pydantic V2 Migration Guide at https://errors.pydantic.dev/2.10/migration/\n",
      "  warn('`min_items` is deprecated and will be removed, use `min_length` instead', DeprecationWarning)\n"
     ]
    }
   ],
   "source": [
    "from pydantic import BaseModel, Field\n",
    "from typing import List, Optional\n",
    "\n",
    "class Sentiment(BaseModel):\n",
    "    overall: str = Field(\n",
    "        description=\"Overall sentiment of the theme\",\n",
    "        enum=[\"positive\", \"neutral\", \"negative\"]\n",
    "    )\n",
    "    average_score: float = Field(\n",
    "        description=\"Average sentiment score of the theme\",\n",
    "        ge=-1,\n",
    "        le=1\n",
    "    )\n",
    "\n",
    "class Theme(BaseModel):\n",
    "    theme: str = Field(description=\"Title of the overall theme\")\n",
    "    sentiment: Sentiment = Field(description=\"Sentiment of the theme\")\n",
    "    subthemes: List[str] = Field(\n",
    "        description=\"List of keywords or subthemes driving the main theme\"\n",
    "    )\n",
    "    significance: int = Field(\n",
    "        description=\"Significance score of the theme\",\n",
    "        ge=1,\n",
    "        le=100\n",
    "    )\n",
    "\n",
    "class TweetAnalysis(BaseModel):\n",
    "    themes: List[Theme] = Field(\n",
    "        description=\"List of identified overall themes\",\n",
    "        min_items=1\n",
    "    )\n",
    "\n",
    "# Dynamically generate the JSON schema\n",
    "json_schema = TweetAnalysis.model_json_schema()\n"
   ]
  },
  {
   "cell_type": "markdown",
   "metadata": {},
   "source": [
    "## LLM-runtime"
   ]
  },
  {
   "cell_type": "code",
   "execution_count": 19,
   "metadata": {},
   "outputs": [
    {
     "name": "stdout",
     "output_type": "stream",
     "text": [
      "Results saved in novo_0.json\n"
     ]
    }
   ],
   "source": [
    "import tiktoken\n",
    "import pandas as pd\n",
    "import json\n",
    "import time\n",
    "from concurrent.futures import ThreadPoolExecutor\n",
    "from queue import Queue\n",
    "import threading\n",
    "\n",
    "\n",
    "\n",
    "\n",
    "def rate_limited_executor(max_calls_per_minute=100):\n",
    "    \"\"\"Rate-limited executor for API calls.\"\"\"\n",
    "    call_queue = Queue()\n",
    "\n",
    "\n",
    "\n",
    "\n",
    "    def worker():\n",
    "        while True:\n",
    "            func, args, kwargs, result_queue = call_queue.get()\n",
    "            try:\n",
    "                result_queue.put(func(*args, **kwargs))\n",
    "            except Exception as e:\n",
    "                result_queue.put(e)\n",
    "            call_queue.task_done()\n",
    "            time.sleep(60 / max_calls_per_minute)\n",
    "\n",
    "\n",
    "\n",
    "\n",
    "    for _ in range(max_calls_per_minute):\n",
    "        threading.Thread(target=worker, daemon=True).start()\n",
    "\n",
    "\n",
    "\n",
    "\n",
    "    def submit(func, *args, **kwargs):\n",
    "        result_queue = Queue()\n",
    "        call_queue.put((func, args, kwargs, result_queue))\n",
    "        result = result_queue.get()\n",
    "        if isinstance(result, Exception):\n",
    "            raise result\n",
    "        return result\n",
    "\n",
    "\n",
    "\n",
    "\n",
    "    return submit\n",
    "\n",
    "\n",
    "\n",
    "\n",
    "def process_batch(tweets, executor, model, schema, batch_size):\n",
    "    \"\"\"Process one batch of tweets.\"\"\"\n",
    "    messages = [\n",
    "        {'role': 'system', 'content': SYSTEM_PROMPT},\n",
    "        {'role': 'user', 'content': json.dumps(tweets)}\n",
    "    ]\n",
    "    try:\n",
    "        response = executor(\n",
    "            client.chat.completions.create,\n",
    "            model=model,\n",
    "            messages=messages,\n",
    "            temperature=0.7,\n",
    "            response_format={\"type\": \"json_object\", \"schema\": schema},\n",
    "            max_tokens=8192\n",
    "        )\n",
    "        return {\n",
    "            'batch_size': len(tweets),\n",
    "            'response': response.choices[0].message.content\n",
    "        }\n",
    "    except Exception as e:\n",
    "        return {\n",
    "            'batch_size': len(tweets),\n",
    "            'error': str(e)\n",
    "        }\n",
    "\n",
    "\n",
    "\n",
    "\n",
    "def parallel_process_tweets(data, batch_size, max_workers, model, schema):\n",
    "    \"\"\"Parallel processing of tweets with rate-limiting.\"\"\"\n",
    "    executor = rate_limited_executor(max_calls_per_minute=60)\n",
    "    results = []\n",
    "\n",
    "\n",
    "\n",
    "\n",
    "    def process_and_collect(batch):\n",
    "        tweets = batch['Tweet_text'].tolist()\n",
    "        return process_batch(tweets, executor, model, schema, batch_size)\n",
    "\n",
    "\n",
    "\n",
    "\n",
    "    with ThreadPoolExecutor(max_workers=max_workers) as pool:\n",
    "        batches = [data.iloc[i:i + batch_size] for i in range(0, len(data), batch_size)]\n",
    "        futures = [pool.submit(process_and_collect, batch) for batch in batches]\n",
    "        for future in futures:\n",
    "            results.append(future.result())\n",
    "\n",
    "\n",
    "\n",
    "\n",
    "    return pd.DataFrame(results)\n",
    "\n",
    "\n",
    "\n",
    "\n",
    "def save_results(data, filename):\n",
    "    \"\"\"Save data to JSON file.\"\"\"\n",
    "    try:\n",
    "        with open(filename, 'w', encoding='utf-8') as f:\n",
    "            json.dump(data, f, ensure_ascii=False, indent=4)\n",
    "        print(f\"Results saved in {filename}\")\n",
    "    except Exception as e:\n",
    "        print(f\"Error during saving: {e}\")\n",
    "\n",
    "\n",
    "\n",
    "\n",
    "# Assuming 'data_label_0' is your DataFrame filtered for label 0\n",
    "processed_tweets = parallel_process_tweets(\n",
    "    data=data_label_0,  # Use the data_label_0 DataFrame\n",
    "    batch_size=10,      # Batch size\n",
    "    max_workers=6,     # Number of parallel threads\n",
    "    model=model,        # Your model variable\n",
    "    schema=json_schema  # Your JSON schema variable\n",
    ")\n",
    "\n",
    "\n",
    "\n",
    "\n",
    "# Save the results to label_0_1.json\n",
    "save_results(processed_tweets.to_dict(orient=\"records\"), \"novo_0.json\")"
   ]
  },
  {
   "cell_type": "code",
   "execution_count": 20,
   "metadata": {},
   "outputs": [
    {
     "name": "stdout",
     "output_type": "stream",
     "text": [
      "Results saved in novo_1.json\n"
     ]
    }
   ],
   "source": [
    "import tiktoken\n",
    "import pandas as pd\n",
    "import json\n",
    "import time\n",
    "from concurrent.futures import ThreadPoolExecutor\n",
    "from queue import Queue\n",
    "import threading\n",
    "\n",
    "def rate_limited_executor(max_calls_per_minute=100):\n",
    "    \"\"\"Rate-limited executor for API calls.\"\"\"\n",
    "    call_queue = Queue()\n",
    "\n",
    "    def worker():\n",
    "        while True:\n",
    "            func, args, kwargs, result_queue = call_queue.get()\n",
    "            try:\n",
    "                result_queue.put(func(*args, **kwargs))\n",
    "            except Exception as e:\n",
    "                result_queue.put(e)\n",
    "            call_queue.task_done()\n",
    "            time.sleep(60 / max_calls_per_minute)\n",
    "\n",
    "    for _ in range(max_calls_per_minute):\n",
    "        threading.Thread(target=worker, daemon=True).start()\n",
    "\n",
    "    def submit(func, *args, **kwargs):\n",
    "        result_queue = Queue()\n",
    "        call_queue.put((func, args, kwargs, result_queue))\n",
    "        result = result_queue.get()\n",
    "        if isinstance(result, Exception):\n",
    "            raise result\n",
    "        return result\n",
    "\n",
    "    return submit\n",
    "\n",
    "def process_batch(tweets, executor, model, schema, batch_size):\n",
    "    \"\"\"Process one batch of tweets.\"\"\"\n",
    "    messages = [\n",
    "        {'role': 'system', 'content': SYSTEM_PROMPT},\n",
    "        {'role': 'user', 'content': json.dumps(tweets)}\n",
    "    ]\n",
    "    try:\n",
    "        response = executor(\n",
    "            client.chat.completions.create,\n",
    "            model=model,\n",
    "            messages=messages,\n",
    "            temperature=0.7,\n",
    "            response_format={\"type\": \"json_object\", \"schema\": schema},\n",
    "            max_tokens=8192\n",
    "        )\n",
    "        return {\n",
    "            'batch_size': len(tweets),\n",
    "            'response': response.choices[0].message.content\n",
    "        }\n",
    "    except Exception as e:\n",
    "        return {\n",
    "            'batch_size': len(tweets),\n",
    "            'error': str(e)\n",
    "        }\n",
    "\n",
    "def parallel_process_tweets(data, batch_size, max_workers, model, schema):\n",
    "    \"\"\"Parallel processing of tweets with rate-limiting.\"\"\"\n",
    "    executor = rate_limited_executor(max_calls_per_minute=60)\n",
    "    results = []\n",
    "\n",
    "    def process_and_collect(batch):\n",
    "        tweets = batch['Tweet_text'].tolist()\n",
    "        return process_batch(tweets, executor, model, schema, batch_size)\n",
    "\n",
    "    with ThreadPoolExecutor(max_workers=max_workers) as pool:\n",
    "        batches = [data.iloc[i:i + batch_size] for i in range(0, len(data), batch_size)]\n",
    "        futures = [pool.submit(process_and_collect, batch) for batch in batches]\n",
    "        for future in futures:\n",
    "            results.append(future.result())\n",
    "\n",
    "    return pd.DataFrame(results)\n",
    "\n",
    "def save_results(data, filename):\n",
    "    \"\"\"Save data to JSON file.\"\"\"\n",
    "    try:\n",
    "        with open(filename, 'w', encoding='utf-8') as f:\n",
    "            json.dump(data, f, ensure_ascii=False, indent=4)\n",
    "        print(f\"Results saved in {filename}\")\n",
    "    except Exception as e:\n",
    "        print(f\"Error during saving: {e}\")\n",
    "\n",
    "# Assuming 'data_label_1' is your DataFrame filtered for label 1\n",
    "processed_tweets = parallel_process_tweets(\n",
    "    data=data_label_1,  # Use the data_label_1 DataFrame\n",
    "    batch_size=10,      # Batch size\n",
    "    max_workers=6,      # Number of parallel threads\n",
    "    model=model,        # Your model variable\n",
    "    schema=json_schema  # Your JSON schema variable\n",
    ")\n",
    "\n",
    "# Save the results to label_1.json\n",
    "save_results(processed_tweets.to_dict(orient=\"records\"), \"novo_1.json\")\n"
   ]
  },
  {
   "cell_type": "code",
   "execution_count": 22,
   "metadata": {},
   "outputs": [
    {
     "data": {
      "application/vnd.plotly.v1+json": {
       "config": {
        "plotlyServerURL": "https://plot.ly"
       },
       "data": [
        {
         "hoverinfo": "text",
         "hovertext": [
          "Theme: NVO Stock Performance<br>Type: Bot<br>Significance: 80%<br>Subthemes: bull case, profitability, market cap<br>Sentiment: positive<br>Average Score: 0.45",
          "Theme: Ozempic and Obesity Drug Market<br>Type: Bot<br>Significance: 85%<br>Subthemes: tailwind, antiobesity drugs, coverage of antiobesity drugs<br>Sentiment: positive<br>Average Score: 0.65",
          "Theme: Competition and Industry Challenges<br>Type: Bot<br>Significance: 70%<br>Subthemes: strengthening competition, challengers for obesity drugs, moat<br>Sentiment: negative<br>Average Score: -0.35",
          "Theme: Market Cap and Comparison<br>Type: Bot<br>Significance: 75%<br>Subthemes: market cap comparison, coca-cola, mcdonalds<br>Sentiment: positive<br>Average Score: 0.55",
          "Theme: Regulatory Approvals and News<br>Type: Bot<br>Significance: 90%<br>Subthemes: regulatory approvals, health plans, nonfatal heart attack<br>Sentiment: positive<br>Average Score: 0.7",
          "Theme: Investor Interest and Holdings<br>Type: Bot<br>Significance: 95%<br>Subthemes: investor interest, holding size, representative<br>Sentiment: positive<br>Average Score: 0.8",
          "Theme: Novo Nordisk's Business and Financial Performance<br>Type: Bot<br>Significance: 80%<br>Subthemes: launch of obesity drug WeGovy, profitability analysis, market value, valuation, insider ownership, growth<br>Sentiment: positive<br>Average Score: 0.07",
          "Theme: Novo Nordisk's Obesity Drugs<br>Type: Bot<br>Significance: 85%<br>Subthemes: approval of WeGovy in Canada, weight loss drug boom, proposed coverage for obesity care, obesity drug market<br>Sentiment: positive<br>Average Score: 0.65",
          "Theme: Market Impact and Stock Performance<br>Type: Bot<br>Significance: 70%<br>Subthemes: rise in shares of Novo Nordisk and Eli Lilly, market value and valuation<br>Sentiment: positive<br>Average Score: 0.14",
          "Theme: Novo Nordisk's Operational Issues in Ukraine<br>Type: Bot<br>Significance: 80%<br>Subthemes: insulin shortage, warehouse access, crime against humanity<br>Sentiment: negative<br>Average Score: -0.6",
          "Theme: Novo Nordisk's Weight Loss Drug Launch in China<br>Type: Bot<br>Significance: 85%<br>Subthemes: wegovy launch, low price, expansion in Asia<br>Sentiment: positive<br>Average Score: 0.7",
          "Theme: Novo Nordisk's Stock Performance<br>Type: Bot<br>Significance: 70%<br>Subthemes: stock prices, investments, holdings<br>Sentiment: negative<br>Average Score: 0",
          "Theme: Novo Nordisk's Product Approval and Expansion<br>Type: Bot<br>Significance: 90%<br>Subthemes: obesity drug approval, expansion in Asia, key milestone<br>Sentiment: positive<br>Average Score: 0.8",
          "Theme: Novo Nordisk's Weight Loss Drugs<br>Type: Bot<br>Significance: 92%<br>Subthemes: Ozempic, Wegovy, Weight Loss, Novo Nordisk, Diabetes, Obesity<br>Sentiment: positive<br>Average Score: 0.63",
          "Theme: Market Performance<br>Type: Bot<br>Significance: 81%<br>Subthemes: Stock Prices, Novo Nordisk, Election, Market Trends<br>Sentiment: positive<br>Average Score: 0.03",
          "Theme: Oral GLP-1 Drugs<br>Type: Bot<br>Significance: 76%<br>Subthemes: Injectable Medications, Oral Compounded Versions, Lack of Evidence<br>Sentiment: negative<br>Average Score: -0.55",
          "Theme: Medicare and Medicaid Expansion<br>Type: Bot<br>Significance: 88%<br>Subthemes: US President Joe Biden, Coverage Expansion, Anti-Obesity Drugs<br>Sentiment: positive<br>Average Score: 0.85",
          "Theme: Company Financials<br>Type: Bot<br>Significance: 73%<br>Subthemes: Profit, Income, Diabetes Care, Obesity Care<br>Sentiment: positive<br>Average Score: 0.05",
          "Theme: NVO Nordisk's Business and Market Performance<br>Type: Bot<br>Significance: 85%<br>Subthemes: Stronger obesity moat, Fast-growing market for WeGovy, Unlocking new revenue streams, Company's sales surge in Q3<br>Sentiment: positive<br>Average Score: 0.8",
          "Theme: NVO Nordisk's Obesity Drug and Research<br>Type: Bot<br>Significance: 92%<br>Subthemes: Launch of WeGovy in China at lower price, Treatment of cardiometabolic diseases, Research into physiology and medicine<br>Sentiment: positive<br>Average Score: 0.9",
          "Theme: Market Trends and Stock Recommendations<br>Type: Bot<br>Significance: 78%<br>Subthemes: Market insights powered by Wall Street Journal, Stocks to rediscover at a glance, Industry-wide sales surge<br>Sentiment: negative<br>Average Score: 0",
          "Theme: NVO Nordisk's Breakthrough Technology<br>Type: Bot<br>Significance: 70%<br>Subthemes: breakthrough technology, problem-solving capabilities<br>Sentiment: positive<br>Average Score: 0.8",
          "Theme: NVO Nordisk's Obesity Drug Approval<br>Type: Bot<br>Significance: 80%<br>Subthemes: obesity drug, health benefits<br>Sentiment: positive<br>Average Score: 0.9",
          "Theme: Novo Nordisk's GLP-1 Drugs<br>Type: Bot<br>Significance: 90%<br>Subthemes: Rybelsus, Wegovy, Ozempic, HRRT ETF<br>Sentiment: positive<br>Average Score: 0.9",
          "Theme: New Developments and Partnerships<br>Type: Bot<br>Significance: 70%<br>Subthemes: partnership with Unusual Whales, HRRT ETF, new facility in North Carolina<br>Sentiment: positive<br>Average Score: 0.8",
          "Theme: Wegovy and Ozempic in China<br>Type: Bot<br>Significance: 85%<br>Subthemes: Wegovy launch in China, Ozempic availability in China<br>Sentiment: positive<br>Average Score: 0.9",
          "Theme: Ozempic Weight Loss<br>Type: Bot<br>Significance: 70%<br>Subthemes: Weight Loss Results, Side Effects, Debate Over Safety<br>Sentiment: negative<br>Average Score: -0.65",
          "Theme: Ozempic Accessibility and Healthcare<br>Type: Bot<br>Significance: 80%<br>Subthemes: Global Shortage, Healthcare Access Issues<br>Sentiment: negative<br>Average Score: -0.85",
          "Theme: Ozempic for Weight Loss<br>Type: Bot<br>Significance: 80%<br>Subthemes: Weight Loss Success, Unrealistic Expectations, Overuse and Misuse<br>Sentiment: negative<br>Average Score: -0.6",
          "Theme: Ozempic Safety Concerns<br>Type: Bot<br>Significance: 90%<br>Subthemes: Serious Side Effects, Search for Natural Alternatives<br>Sentiment: negative<br>Average Score: -0.8",
          "Theme: Ozempic Criticism<br>Type: Bot<br>Significance: 90%<br>Subthemes: weight loss medications, obesity is a choice, health risks<br>Sentiment: negative<br>Average Score: -0.8",
          "Theme: Ozempic in Pop Culture<br>Type: Bot<br>Significance: 70%<br>Subthemes: halloween costumes, TV and movie references<br>Sentiment: positive<br>Average Score: 0.5",
          "Theme: Ozempic Controversy<br>Type: Bot<br>Significance: 85%<br>Subthemes: cost, accessibility<br>Sentiment: negative<br>Average Score: -0.7",
          "Theme: Ozempic Weight Loss and Its Impact<br>Type: Bot<br>Significance: 85%<br>Subthemes: weight loss, ozempic rumors, unrecognizable appearance<br>Sentiment: negative<br>Average Score: -0.6",
          "Theme: Negative Sentiment Towards Ozempic<br>Type: Bot<br>Significance: 85%<br>Subthemes: health concerns, community impact, influence on food and beverage industry<br>Sentiment: negative<br>Average Score: -0.8"
         ],
         "marker": {
          "color": [
           "rgb(34,139,34)",
           "rgb(34,139,34)",
           "rgb(255,69,0)",
           "rgb(34,139,34)",
           "rgb(34,139,34)",
           "rgb(34,139,34)",
           "rgb(34,139,34)",
           "rgb(34,139,34)",
           "rgb(34,139,34)",
           "rgb(255,69,0)",
           "rgb(34,139,34)",
           "rgb(255,69,0)",
           "rgb(34,139,34)",
           "rgb(34,139,34)",
           "rgb(34,139,34)",
           "rgb(255,69,0)",
           "rgb(34,139,34)",
           "rgb(34,139,34)",
           "rgb(34,139,34)",
           "rgb(34,139,34)",
           "rgb(255,69,0)",
           "rgb(34,139,34)",
           "rgb(34,139,34)",
           "rgb(34,139,34)",
           "rgb(34,139,34)",
           "rgb(34,139,34)",
           "rgb(255,69,0)",
           "rgb(255,69,0)",
           "rgb(255,69,0)",
           "rgb(255,69,0)",
           "rgb(255,69,0)",
           "rgb(34,139,34)",
           "rgb(255,69,0)",
           "rgb(255,69,0)",
           "rgb(255,69,0)"
          ],
          "line": {
           "color": "rgb(139,0,0)",
           "width": 1
          },
          "size": [
           26,
           27,
           24,
           25,
           28,
           29,
           26,
           27,
           24,
           26,
           27,
           24,
           28,
           28.4,
           26.2,
           25.2,
           27.6,
           24.6,
           27,
           28.4,
           25.6,
           24,
           26,
           28,
           24,
           27,
           24,
           26,
           26,
           28,
           28,
           24,
           27,
           27,
           27
          ]
         },
         "mode": "markers",
         "name": "Bot Themes",
         "type": "scatter",
         "x": [
          -7.276562931861814,
          -8.959324277650166,
          -14.521770409507015,
          -11.906032339264561,
          -4.193461311291787,
          -14.432124153992838,
          -13.358283739641156,
          -14.560089110135976,
          -9.77570201364158,
          -8.572167887758631,
          -9.024715960723409,
          -17.26466670204544,
          -9.790867698215301,
          -4.970309104479434,
          -8.658740683902698,
          -9.741871483151348,
          -8.024115754782997,
          -6.499831597934368,
          -13.540260470097328,
          -9.049233730833135,
          -4.4882327353985,
          -11.743926618912903,
          -13.048914408409281,
          -7.06738544455753,
          -11.601741134674254,
          -12.879460703543842,
          -16.924302224217087,
          -4.972518154649502,
          -12.310562078291104,
          -4.30722572719349,
          -12.626945999107075,
          -14.36082025176978,
          -12.169761518012791,
          -8.748767905073894,
          -9.923774041055145
         ],
         "y": [
          -9.592030452106945,
          -9.55113117169313,
          -12.560137409847409,
          -9.503373193528448,
          -13.127023256827634,
          -12.134250240330218,
          -12.7042086737247,
          -13.67955161915033,
          -13.225673603529627,
          -11.999601002625083,
          -8.82744395740434,
          -9.464404477502217,
          -10.56888218393833,
          -8.322445601854351,
          -13.773316470110455,
          -12.332828600544355,
          -6.102168147025854,
          -8.270566344670938,
          -10.07591642289317,
          -9.229810150362399,
          -12.675762907486908,
          -10.609502348943685,
          -3.932291054839589,
          -10.322861396147317,
          -8.964194617443368,
          -14.039216917842793,
          -10.86883420865246,
          -9.59329763044665,
          -4.4338957175686975,
          -7.692469517116883,
          -10.73705060287476,
          -13.717855044477208,
          -6.4550854204587615,
          -9.81460665084613,
          -11.115949074816692
         ]
        },
        {
         "hoverinfo": "text",
         "hovertext": [
          "Theme: Novo Nordisk Business and Market Performance<br>Type: Non-Bot<br>Significance: 80%<br>Subthemes: Market share, Revenue growth, EV/FCF multiple<br>Sentiment: positive<br>Average Score: 0.1",
          "Theme: Novo Nordisk Lobbying and Influence<br>Type: Non-Bot<br>Significance: 85%<br>Subthemes: Lobbying for disease classification, Impact on Medicare and Medicaid, Potential conflict of interest<br>Sentiment: negative<br>Average Score: -0.7",
          "Theme: Novo Nordisk's Role in Healthcare Policy<br>Type: Non-Bot<br>Significance: 70%<br>Subthemes: Influence on USDA nutrition guidelines, Funding of panel members<br>Sentiment: negative<br>Average Score: -0.6",
          "Theme: Wegovy Launch and Availability<br>Type: Non-Bot<br>Significance: 80%<br>Subthemes: launch in China, price comparison with US, availability and shortage<br>Sentiment: negative<br>Average Score: 0.0",
          "Theme: Novo Nordisk's Business and Operations<br>Type: Non-Bot<br>Significance: 70%<br>Subthemes: nonprofit foundation control, global presence, innovation in obesity management<br>Sentiment: positive<br>Average Score: 0.75",
          "Theme: Obesity Management and Treatment<br>Type: Non-Bot<br>Significance: 90%<br>Subthemes: glp1 drugs, semaglutide, compounded versions of Wegovy<br>Sentiment: positive<br>Average Score: 0.85",
          "Theme: Cost and Accessibility<br>Type: Non-Bot<br>Significance: 85%<br>Subthemes: high costs, supply constraints, pressure to lower costs<br>Sentiment: negative<br>Average Score: -0.7",
          "Theme: Novo Nordisk's Business Practices and Impact<br>Type: Non-Bot<br>Significance: 85%<br>Subthemes: price gouging, profit over people, rationing of insulin<br>Sentiment: negative<br>Average Score: -0.7",
          "Theme: Novo Nordisk's Lobbying and Influence<br>Type: Non-Bot<br>Significance: 80%<br>Subthemes: corporate influence, lobbying, conflict of interest<br>Sentiment: negative<br>Average Score: -0.8",
          "Theme: Insulin Supply and Pricing<br>Type: Non-Bot<br>Significance: 95%<br>Subthemes: monopoly, price hikes, access to insulin<br>Sentiment: negative<br>Average Score: -0.9",
          "Theme: Novo Nordisk's Philanthropic Nature<br>Type: Non-Bot<br>Significance: 80%<br>Subthemes: charitable foundation, reinvestment in R&D, humanitarian projects<br>Sentiment: positive<br>Average Score: 0.85",
          "Theme: Novo Nordisk's Business and Market Performance<br>Type: Non-Bot<br>Significance: 85%<br>Subthemes: market capitalization, revenue growth, expansion of coverage<br>Sentiment: positive<br>Average Score: 0.7",
          "Theme: Novo Nordisk's Pricing Practices<br>Type: Non-Bot<br>Significance: 90%<br>Subthemes: high prices for medications,  charging Americans high prices for Ozempic, cost differences between US and Germany<br>Sentiment: negative<br>Average Score: -0.8",
          "Theme: Novo Nordisk's Insulin Prices and Access<br>Type: Non-Bot<br>Significance: 70%<br>Subthemes: lowering insulin prices by 75, capping insulin prices at $35 for seniors<br>Sentiment: positive<br>Average Score: 0.6",
          "Theme: Novo Nordisk and Ozempic<br>Type: Non-Bot<br>Significance: 90%<br>Subthemes: Corporate greed, High pricing of Ozempic, Manufacturing anorexia, Celebrity influence<br>Sentiment: negative<br>Average Score: -0.65",
          "Theme: Weight Loss and Ozempic<br>Type: Non-Bot<br>Significance: 80%<br>Subthemes: Ozempic's side effects, Weight loss controversy, Celebrity endorsements<br>Sentiment: negative<br>Average Score: -0.45",
          "Theme: Ozempic<br>Type: Non-Bot<br>Significance: 90%<br>Subthemes: weight loss, pharmaceutical industry, side effects, controversy, medical associations<br>Sentiment: negative<br>Average Score: -0.6",
          "Theme: Obesity and Weight Loss<br>Type: Non-Bot<br>Significance: 80%<br>Subthemes: GLP-1 medications, decreasing obesity rate, public health<br>Sentiment: positive<br>Average Score: 0.5"
         ],
         "marker": {
          "color": [
           "rgb(30,144,255)",
           "rgb(255,99,71)",
           "rgb(255,99,71)",
           "rgb(255,99,71)",
           "rgb(30,144,255)",
           "rgb(30,144,255)",
           "rgb(255,99,71)",
           "rgb(255,99,71)",
           "rgb(255,99,71)",
           "rgb(255,99,71)",
           "rgb(30,144,255)",
           "rgb(30,144,255)",
           "rgb(255,99,71)",
           "rgb(30,144,255)",
           "rgb(255,99,71)",
           "rgb(255,99,71)",
           "rgb(255,99,71)",
           "rgb(30,144,255)"
          ],
          "line": {
           "color": "rgb(0,100,0)",
           "width": 1
          },
          "size": [
           26,
           27,
           24,
           26,
           24,
           28,
           27,
           27,
           26,
           29,
           26,
           27,
           28,
           24,
           28,
           26,
           28,
           26
          ]
         },
         "mode": "markers",
         "name": "Non-Bot Themes",
         "type": "scatter",
         "x": [
          10.028346948436084,
          10.578356187567174,
          5.557546255218424,
          11.568211291200099,
          4.322990030724146,
          13.738146213826242,
          14.139214290155966,
          9.21856885421319,
          3.995055867927317,
          9.833969134791685,
          9.963035883421064,
          10.35809850997676,
          10.178565767119341,
          7.341182618215325,
          8.628594020922769,
          11.351005531845576,
          7.464416556646613,
          9.692216683942943
         ],
         "y": [
          8.432422873746935,
          5.466413903137496,
          6.93950963933975,
          8.460482197076939,
          8.227132531765436,
          6.315865148116055,
          9.246146166025245,
          9.08016447043875,
          11.372811172454922,
          11.72466770255917,
          7.632786357918164,
          14.782028366278148,
          8.193720103621796,
          5.96200430568578,
          10.608367350391593,
          9.804455432910729,
          8.899751518074279,
          7.389151394304211
         ]
        },
        {
         "hoverinfo": "text",
         "hovertext": [
          "Theme: Ozempic Side Effects<br>Type: Mixed<br>Significance: 80%<br>Subthemes: physical changes, health issues<br>Sentiment: negative<br>Average Score: -0.9"
         ],
         "marker": {
          "color": [
           "rgb(255,69,0)"
          ],
          "line": {
           "color": "rgb(75,0,130)",
           "width": 1
          },
          "size": [
           26
          ]
         },
         "mode": "markers",
         "name": "Mixed Themes",
         "type": "scatter",
         "x": [
          4.073991958603065
         ],
         "y": [
          5.647436157935596
         ]
        }
       ],
       "layout": {
        "height": 800,
        "hovermode": "closest",
        "legend": {
         "bgcolor": "rgba(255,255,255,0.5)",
         "bordercolor": "black",
         "borderwidth": 1,
         "x": 0.85,
         "y": 1
        },
        "plot_bgcolor": "rgb(240,240,240)",
        "showlegend": true,
        "template": {
         "data": {
          "bar": [
           {
            "error_x": {
             "color": "#2a3f5f"
            },
            "error_y": {
             "color": "#2a3f5f"
            },
            "marker": {
             "line": {
              "color": "#E5ECF6",
              "width": 0.5
             },
             "pattern": {
              "fillmode": "overlay",
              "size": 10,
              "solidity": 0.2
             }
            },
            "type": "bar"
           }
          ],
          "barpolar": [
           {
            "marker": {
             "line": {
              "color": "#E5ECF6",
              "width": 0.5
             },
             "pattern": {
              "fillmode": "overlay",
              "size": 10,
              "solidity": 0.2
             }
            },
            "type": "barpolar"
           }
          ],
          "carpet": [
           {
            "aaxis": {
             "endlinecolor": "#2a3f5f",
             "gridcolor": "white",
             "linecolor": "white",
             "minorgridcolor": "white",
             "startlinecolor": "#2a3f5f"
            },
            "baxis": {
             "endlinecolor": "#2a3f5f",
             "gridcolor": "white",
             "linecolor": "white",
             "minorgridcolor": "white",
             "startlinecolor": "#2a3f5f"
            },
            "type": "carpet"
           }
          ],
          "choropleth": [
           {
            "colorbar": {
             "outlinewidth": 0,
             "ticks": ""
            },
            "type": "choropleth"
           }
          ],
          "contour": [
           {
            "colorbar": {
             "outlinewidth": 0,
             "ticks": ""
            },
            "colorscale": [
             [
              0,
              "#0d0887"
             ],
             [
              0.1111111111111111,
              "#46039f"
             ],
             [
              0.2222222222222222,
              "#7201a8"
             ],
             [
              0.3333333333333333,
              "#9c179e"
             ],
             [
              0.4444444444444444,
              "#bd3786"
             ],
             [
              0.5555555555555556,
              "#d8576b"
             ],
             [
              0.6666666666666666,
              "#ed7953"
             ],
             [
              0.7777777777777778,
              "#fb9f3a"
             ],
             [
              0.8888888888888888,
              "#fdca26"
             ],
             [
              1,
              "#f0f921"
             ]
            ],
            "type": "contour"
           }
          ],
          "contourcarpet": [
           {
            "colorbar": {
             "outlinewidth": 0,
             "ticks": ""
            },
            "type": "contourcarpet"
           }
          ],
          "heatmap": [
           {
            "colorbar": {
             "outlinewidth": 0,
             "ticks": ""
            },
            "colorscale": [
             [
              0,
              "#0d0887"
             ],
             [
              0.1111111111111111,
              "#46039f"
             ],
             [
              0.2222222222222222,
              "#7201a8"
             ],
             [
              0.3333333333333333,
              "#9c179e"
             ],
             [
              0.4444444444444444,
              "#bd3786"
             ],
             [
              0.5555555555555556,
              "#d8576b"
             ],
             [
              0.6666666666666666,
              "#ed7953"
             ],
             [
              0.7777777777777778,
              "#fb9f3a"
             ],
             [
              0.8888888888888888,
              "#fdca26"
             ],
             [
              1,
              "#f0f921"
             ]
            ],
            "type": "heatmap"
           }
          ],
          "heatmapgl": [
           {
            "colorbar": {
             "outlinewidth": 0,
             "ticks": ""
            },
            "colorscale": [
             [
              0,
              "#0d0887"
             ],
             [
              0.1111111111111111,
              "#46039f"
             ],
             [
              0.2222222222222222,
              "#7201a8"
             ],
             [
              0.3333333333333333,
              "#9c179e"
             ],
             [
              0.4444444444444444,
              "#bd3786"
             ],
             [
              0.5555555555555556,
              "#d8576b"
             ],
             [
              0.6666666666666666,
              "#ed7953"
             ],
             [
              0.7777777777777778,
              "#fb9f3a"
             ],
             [
              0.8888888888888888,
              "#fdca26"
             ],
             [
              1,
              "#f0f921"
             ]
            ],
            "type": "heatmapgl"
           }
          ],
          "histogram": [
           {
            "marker": {
             "pattern": {
              "fillmode": "overlay",
              "size": 10,
              "solidity": 0.2
             }
            },
            "type": "histogram"
           }
          ],
          "histogram2d": [
           {
            "colorbar": {
             "outlinewidth": 0,
             "ticks": ""
            },
            "colorscale": [
             [
              0,
              "#0d0887"
             ],
             [
              0.1111111111111111,
              "#46039f"
             ],
             [
              0.2222222222222222,
              "#7201a8"
             ],
             [
              0.3333333333333333,
              "#9c179e"
             ],
             [
              0.4444444444444444,
              "#bd3786"
             ],
             [
              0.5555555555555556,
              "#d8576b"
             ],
             [
              0.6666666666666666,
              "#ed7953"
             ],
             [
              0.7777777777777778,
              "#fb9f3a"
             ],
             [
              0.8888888888888888,
              "#fdca26"
             ],
             [
              1,
              "#f0f921"
             ]
            ],
            "type": "histogram2d"
           }
          ],
          "histogram2dcontour": [
           {
            "colorbar": {
             "outlinewidth": 0,
             "ticks": ""
            },
            "colorscale": [
             [
              0,
              "#0d0887"
             ],
             [
              0.1111111111111111,
              "#46039f"
             ],
             [
              0.2222222222222222,
              "#7201a8"
             ],
             [
              0.3333333333333333,
              "#9c179e"
             ],
             [
              0.4444444444444444,
              "#bd3786"
             ],
             [
              0.5555555555555556,
              "#d8576b"
             ],
             [
              0.6666666666666666,
              "#ed7953"
             ],
             [
              0.7777777777777778,
              "#fb9f3a"
             ],
             [
              0.8888888888888888,
              "#fdca26"
             ],
             [
              1,
              "#f0f921"
             ]
            ],
            "type": "histogram2dcontour"
           }
          ],
          "mesh3d": [
           {
            "colorbar": {
             "outlinewidth": 0,
             "ticks": ""
            },
            "type": "mesh3d"
           }
          ],
          "parcoords": [
           {
            "line": {
             "colorbar": {
              "outlinewidth": 0,
              "ticks": ""
             }
            },
            "type": "parcoords"
           }
          ],
          "pie": [
           {
            "automargin": true,
            "type": "pie"
           }
          ],
          "scatter": [
           {
            "fillpattern": {
             "fillmode": "overlay",
             "size": 10,
             "solidity": 0.2
            },
            "type": "scatter"
           }
          ],
          "scatter3d": [
           {
            "line": {
             "colorbar": {
              "outlinewidth": 0,
              "ticks": ""
             }
            },
            "marker": {
             "colorbar": {
              "outlinewidth": 0,
              "ticks": ""
             }
            },
            "type": "scatter3d"
           }
          ],
          "scattercarpet": [
           {
            "marker": {
             "colorbar": {
              "outlinewidth": 0,
              "ticks": ""
             }
            },
            "type": "scattercarpet"
           }
          ],
          "scattergeo": [
           {
            "marker": {
             "colorbar": {
              "outlinewidth": 0,
              "ticks": ""
             }
            },
            "type": "scattergeo"
           }
          ],
          "scattergl": [
           {
            "marker": {
             "colorbar": {
              "outlinewidth": 0,
              "ticks": ""
             }
            },
            "type": "scattergl"
           }
          ],
          "scattermapbox": [
           {
            "marker": {
             "colorbar": {
              "outlinewidth": 0,
              "ticks": ""
             }
            },
            "type": "scattermapbox"
           }
          ],
          "scatterpolar": [
           {
            "marker": {
             "colorbar": {
              "outlinewidth": 0,
              "ticks": ""
             }
            },
            "type": "scatterpolar"
           }
          ],
          "scatterpolargl": [
           {
            "marker": {
             "colorbar": {
              "outlinewidth": 0,
              "ticks": ""
             }
            },
            "type": "scatterpolargl"
           }
          ],
          "scatterternary": [
           {
            "marker": {
             "colorbar": {
              "outlinewidth": 0,
              "ticks": ""
             }
            },
            "type": "scatterternary"
           }
          ],
          "surface": [
           {
            "colorbar": {
             "outlinewidth": 0,
             "ticks": ""
            },
            "colorscale": [
             [
              0,
              "#0d0887"
             ],
             [
              0.1111111111111111,
              "#46039f"
             ],
             [
              0.2222222222222222,
              "#7201a8"
             ],
             [
              0.3333333333333333,
              "#9c179e"
             ],
             [
              0.4444444444444444,
              "#bd3786"
             ],
             [
              0.5555555555555556,
              "#d8576b"
             ],
             [
              0.6666666666666666,
              "#ed7953"
             ],
             [
              0.7777777777777778,
              "#fb9f3a"
             ],
             [
              0.8888888888888888,
              "#fdca26"
             ],
             [
              1,
              "#f0f921"
             ]
            ],
            "type": "surface"
           }
          ],
          "table": [
           {
            "cells": {
             "fill": {
              "color": "#EBF0F8"
             },
             "line": {
              "color": "white"
             }
            },
            "header": {
             "fill": {
              "color": "#C8D4E3"
             },
             "line": {
              "color": "white"
             }
            },
            "type": "table"
           }
          ]
         },
         "layout": {
          "annotationdefaults": {
           "arrowcolor": "#2a3f5f",
           "arrowhead": 0,
           "arrowwidth": 1
          },
          "autotypenumbers": "strict",
          "coloraxis": {
           "colorbar": {
            "outlinewidth": 0,
            "ticks": ""
           }
          },
          "colorscale": {
           "diverging": [
            [
             0,
             "#8e0152"
            ],
            [
             0.1,
             "#c51b7d"
            ],
            [
             0.2,
             "#de77ae"
            ],
            [
             0.3,
             "#f1b6da"
            ],
            [
             0.4,
             "#fde0ef"
            ],
            [
             0.5,
             "#f7f7f7"
            ],
            [
             0.6,
             "#e6f5d0"
            ],
            [
             0.7,
             "#b8e186"
            ],
            [
             0.8,
             "#7fbc41"
            ],
            [
             0.9,
             "#4d9221"
            ],
            [
             1,
             "#276419"
            ]
           ],
           "sequential": [
            [
             0,
             "#0d0887"
            ],
            [
             0.1111111111111111,
             "#46039f"
            ],
            [
             0.2222222222222222,
             "#7201a8"
            ],
            [
             0.3333333333333333,
             "#9c179e"
            ],
            [
             0.4444444444444444,
             "#bd3786"
            ],
            [
             0.5555555555555556,
             "#d8576b"
            ],
            [
             0.6666666666666666,
             "#ed7953"
            ],
            [
             0.7777777777777778,
             "#fb9f3a"
            ],
            [
             0.8888888888888888,
             "#fdca26"
            ],
            [
             1,
             "#f0f921"
            ]
           ],
           "sequentialminus": [
            [
             0,
             "#0d0887"
            ],
            [
             0.1111111111111111,
             "#46039f"
            ],
            [
             0.2222222222222222,
             "#7201a8"
            ],
            [
             0.3333333333333333,
             "#9c179e"
            ],
            [
             0.4444444444444444,
             "#bd3786"
            ],
            [
             0.5555555555555556,
             "#d8576b"
            ],
            [
             0.6666666666666666,
             "#ed7953"
            ],
            [
             0.7777777777777778,
             "#fb9f3a"
            ],
            [
             0.8888888888888888,
             "#fdca26"
            ],
            [
             1,
             "#f0f921"
            ]
           ]
          },
          "colorway": [
           "#636efa",
           "#EF553B",
           "#00cc96",
           "#ab63fa",
           "#FFA15A",
           "#19d3f3",
           "#FF6692",
           "#B6E880",
           "#FF97FF",
           "#FECB52"
          ],
          "font": {
           "color": "#2a3f5f"
          },
          "geo": {
           "bgcolor": "white",
           "lakecolor": "white",
           "landcolor": "#E5ECF6",
           "showlakes": true,
           "showland": true,
           "subunitcolor": "white"
          },
          "hoverlabel": {
           "align": "left"
          },
          "hovermode": "closest",
          "mapbox": {
           "style": "light"
          },
          "paper_bgcolor": "white",
          "plot_bgcolor": "#E5ECF6",
          "polar": {
           "angularaxis": {
            "gridcolor": "white",
            "linecolor": "white",
            "ticks": ""
           },
           "bgcolor": "#E5ECF6",
           "radialaxis": {
            "gridcolor": "white",
            "linecolor": "white",
            "ticks": ""
           }
          },
          "scene": {
           "xaxis": {
            "backgroundcolor": "#E5ECF6",
            "gridcolor": "white",
            "gridwidth": 2,
            "linecolor": "white",
            "showbackground": true,
            "ticks": "",
            "zerolinecolor": "white"
           },
           "yaxis": {
            "backgroundcolor": "#E5ECF6",
            "gridcolor": "white",
            "gridwidth": 2,
            "linecolor": "white",
            "showbackground": true,
            "ticks": "",
            "zerolinecolor": "white"
           },
           "zaxis": {
            "backgroundcolor": "#E5ECF6",
            "gridcolor": "white",
            "gridwidth": 2,
            "linecolor": "white",
            "showbackground": true,
            "ticks": "",
            "zerolinecolor": "white"
           }
          },
          "shapedefaults": {
           "line": {
            "color": "#2a3f5f"
           }
          },
          "ternary": {
           "aaxis": {
            "gridcolor": "white",
            "linecolor": "white",
            "ticks": ""
           },
           "baxis": {
            "gridcolor": "white",
            "linecolor": "white",
            "ticks": ""
           },
           "bgcolor": "#E5ECF6",
           "caxis": {
            "gridcolor": "white",
            "linecolor": "white",
            "ticks": ""
           }
          },
          "title": {
           "x": 0.05
          },
          "xaxis": {
           "automargin": true,
           "gridcolor": "white",
           "linecolor": "white",
           "ticks": "",
           "title": {
            "standoff": 15
           },
           "zerolinecolor": "white",
           "zerolinewidth": 2
          },
          "yaxis": {
           "automargin": true,
           "gridcolor": "white",
           "linecolor": "white",
           "ticks": "",
           "title": {
            "standoff": 15
           },
           "zerolinecolor": "white",
           "zerolinewidth": 2
          }
         }
        },
        "title": {
         "text": "Theme Network Visualization"
        },
        "width": 1000,
        "xaxis": {
         "showgrid": false,
         "showticklabels": false,
         "title": {
          "text": "X-axis"
         },
         "zeroline": false
        },
        "yaxis": {
         "showgrid": false,
         "showticklabels": false,
         "title": {
          "text": "Y-axis"
         },
         "zeroline": false
        }
       }
      }
     },
     "metadata": {},
     "output_type": "display_data"
    }
   ],
   "source": [
    "import json\n",
    "import networkx as nx\n",
    "import plotly.graph_objects as go\n",
    "import numpy as np\n",
    "\n",
    "def load_json_file(file_path):\n",
    "    \"\"\"Load JSON file safely.\"\"\"\n",
    "    try:\n",
    "        with open(file_path, 'r', encoding='utf-8') as file:\n",
    "            return json.load(file)\n",
    "    except Exception as e:\n",
    "        print(f\"Error loading JSON file {file_path}: {e}\")\n",
    "        return []\n",
    "\n",
    "def create_theme_network(data_bot, data_nonbot, min_significance=70):\n",
    "    \"\"\"Create a network graph from themes with a minimum significance level.\"\"\"\n",
    "    G = nx.Graph()\n",
    "\n",
    "    def process_data(data, is_bot=True):\n",
    "        for item in data:\n",
    "            response = item.get('response')\n",
    "            if isinstance(response, str):\n",
    "                try:\n",
    "                    response_data = json.loads(response)\n",
    "                    themes = response_data.get('themes', [])\n",
    "\n",
    "                    for theme in themes:\n",
    "                        significance = theme.get('significance', 0)\n",
    "                        if significance >= min_significance:\n",
    "                            theme_name = theme['theme']\n",
    "                            sentiment = theme.get('sentiment', {})\n",
    "                            average_score = sentiment.get('average_score', 0)\n",
    "\n",
    "                            # Classify sentiment based on average score\n",
    "                            sentiment_class = \"positive\" if average_score > 0 else \"negative\"\n",
    "                            \n",
    "                            subthemes = theme.get('subthemes', [])\n",
    "\n",
    "                            # Add or update theme node\n",
    "                            if not G.has_node(theme_name):\n",
    "                                G.add_node(theme_name,\n",
    "                                           type='theme',\n",
    "                                           is_bot=is_bot,\n",
    "                                           significance=significance,\n",
    "                                           sentiment_class=sentiment_class,\n",
    "                                           average_score=average_score,\n",
    "                                           subthemes=subthemes)\n",
    "                            else:\n",
    "                                # If node exists and bot status is different, mark as mixed\n",
    "                                current_bot_status = G.nodes[theme_name].get('is_bot')\n",
    "                                if current_bot_status != is_bot:\n",
    "                                    G.nodes[theme_name]['is_bot'] = 'mixed'\n",
    "\n",
    "                except json.JSONDecodeError:\n",
    "                    print(f\"Invalid JSON in response: {response}\")\n",
    "\n",
    "    # Process bot and non-bot data\n",
    "    process_data(data_bot, is_bot=True)\n",
    "    process_data(data_nonbot, is_bot=False)\n",
    "\n",
    "    return G\n",
    "\n",
    "def visualize_network(G):\n",
    "    \"\"\"Visualize bot, non-bot, and mixed themes in clustered regions.\"\"\"\n",
    "    # Separate nodes by bot status\n",
    "    bot_nodes = [node for node, data in G.nodes(data=True) if data.get('is_bot') == True]\n",
    "    nonbot_nodes = [node for node, data in G.nodes(data=True) if data.get('is_bot') == False]\n",
    "    mixed_nodes = [node for node, data in G.nodes(data=True) if data.get('is_bot') == 'mixed']\n",
    "\n",
    "    # Create traces for each category\n",
    "    traces = []\n",
    "\n",
    "    # Function to determine node size based on significance\n",
    "    def get_node_size(significance):\n",
    "        return 10 + (significance / 5)  # Adjust the scaling factor as needed\n",
    "\n",
    "    # Color mapping for sentiment and bot type (More distinct colors)\n",
    "    def get_node_color(is_bot, sentiment_class):\n",
    "        if is_bot and sentiment_class == 'positive':\n",
    "            return 'rgb(34,139,34)'  # Positive Bot - Forest Green\n",
    "        elif is_bot and sentiment_class == 'negative':\n",
    "            return 'rgb(255,69,0)'  # Negative Bot - Red Orange\n",
    "        elif not is_bot and sentiment_class == 'positive':\n",
    "            return 'rgb(30,144,255)'  # Positive Non-Bot - Dodger Blue\n",
    "        elif not is_bot and sentiment_class == 'negative':\n",
    "            return 'rgb(255,99,71)'  # Negative Non-Bot - Tomato\n",
    "\n",
    "    # Bot nodes - clustered in bottom left\n",
    "    if bot_nodes:\n",
    "        bot_x = np.random.normal(loc=-10, scale=3, size=len(bot_nodes))  # Increase scale for more spread\n",
    "        bot_y = np.random.normal(loc=-10, scale=3, size=len(bot_nodes))  # Increase scale for more spread\n",
    "        bot_sizes = [get_node_size(G.nodes[node]['significance']) for node in bot_nodes]\n",
    "        bot_colors = [get_node_color(G.nodes[node]['is_bot'], G.nodes[node]['sentiment_class']) for node in bot_nodes]\n",
    "        bot_trace = go.Scatter(\n",
    "            x=bot_x,\n",
    "            y=bot_y,\n",
    "            mode='markers',\n",
    "            hovertext=[\n",
    "                f\"Theme: {node}<br>\"\n",
    "                f\"Type: Bot<br>\"\n",
    "                f\"Significance: {G.nodes[node]['significance']}%<br>\"\n",
    "                f\"Subthemes: {', '.join(G.nodes[node].get('subthemes', []))}<br>\"\n",
    "                f\"Sentiment: {G.nodes[node]['sentiment_class']}<br>\"\n",
    "                f\"Average Score: {G.nodes[node]['average_score']}\"\n",
    "                for node in bot_nodes\n",
    "            ],\n",
    "            hoverinfo='text',\n",
    "            marker=dict(\n",
    "                size=bot_sizes,\n",
    "                color=bot_colors,  # Color based on sentiment\n",
    "                line=dict(width=1, color='rgb(139,0,0)')  # Dark red\n",
    "            ),\n",
    "            name='Bot Themes'\n",
    "        )\n",
    "        traces.append(bot_trace)\n",
    "\n",
    "    # Non-bot nodes - clustered in top right\n",
    "    if nonbot_nodes:\n",
    "        nonbot_x = np.random.normal(loc=10, scale=3, size=len(nonbot_nodes))  # Increase scale for more spread\n",
    "        nonbot_y = np.random.normal(loc=10, scale=3, size=len(nonbot_nodes))  # Increase scale for more spread\n",
    "        nonbot_sizes = [get_node_size(G.nodes[node]['significance']) for node in nonbot_nodes]\n",
    "        nonbot_colors = [get_node_color(G.nodes[node]['is_bot'], G.nodes[node]['sentiment_class']) for node in nonbot_nodes]\n",
    "        nonbot_trace = go.Scatter(\n",
    "            x=nonbot_x,\n",
    "            y=nonbot_y,\n",
    "            mode='markers',\n",
    "            hovertext=[\n",
    "                f\"Theme: {node}<br>\"\n",
    "                f\"Type: Non-Bot<br>\"\n",
    "                f\"Significance: {G.nodes[node]['significance']}%<br>\"\n",
    "                f\"Subthemes: {', '.join(G.nodes[node].get('subthemes', []))}<br>\"\n",
    "                f\"Sentiment: {G.nodes[node]['sentiment_class']}<br>\"\n",
    "                f\"Average Score: {G.nodes[node]['average_score']}\"\n",
    "                for node in nonbot_nodes\n",
    "            ],\n",
    "            hoverinfo='text',\n",
    "            marker=dict(\n",
    "                size=nonbot_sizes,\n",
    "                color=nonbot_colors,  # Color based on sentiment\n",
    "                line=dict(width=1, color='rgb(0,100,0)')  # Dark green\n",
    "            ),\n",
    "            name='Non-Bot Themes'\n",
    "        )\n",
    "        traces.append(nonbot_trace)\n",
    "\n",
    "    # Mixed nodes - clustered in center\n",
    "    if mixed_nodes:\n",
    "        mixed_x = np.random.normal(loc=0, scale=3, size=len(mixed_nodes))  # Increase scale for more spread\n",
    "        mixed_y = np.random.normal(loc=0, scale=3, size=len(mixed_nodes))  # Increase scale for more spread\n",
    "        mixed_sizes = [get_node_size(G.nodes[node]['significance']) for node in mixed_nodes]\n",
    "        mixed_colors = [get_node_color(G.nodes[node]['is_bot'], G.nodes[node]['sentiment_class']) for node in mixed_nodes]\n",
    "        mixed_trace = go.Scatter(\n",
    "            x=mixed_x,\n",
    "            y=mixed_y,\n",
    "            mode='markers',\n",
    "            hovertext=[\n",
    "                f\"Theme: {node}<br>\"\n",
    "                f\"Type: Mixed<br>\"\n",
    "                f\"Significance: {G.nodes[node]['significance']}%<br>\"\n",
    "                f\"Subthemes: {', '.join(G.nodes[node].get('subthemes', []))}<br>\"\n",
    "                f\"Sentiment: {G.nodes[node]['sentiment_class']}<br>\"\n",
    "                f\"Average Score: {G.nodes[node]['average_score']}\"\n",
    "                for node in mixed_nodes\n",
    "            ],\n",
    "            hoverinfo='text',\n",
    "            marker=dict(\n",
    "                size=mixed_sizes,\n",
    "                color=mixed_colors,  # Color based on sentiment\n",
    "                line=dict(width=1, color='rgb(75,0,130)')  # Indigo\n",
    "            ),\n",
    "            name='Mixed Themes'\n",
    "        )\n",
    "        traces.append(mixed_trace)\n",
    "\n",
    "    # Create figure\n",
    "    fig = go.Figure(data=traces)\n",
    "\n",
    "    # Update layout for better visualization\n",
    "    fig.update_layout(\n",
    "        title=\"Theme Network Visualization\",\n",
    "        showlegend=True,\n",
    "        hovermode='closest',\n",
    "        width=1000,\n",
    "        height=800,\n",
    "        xaxis=dict(\n",
    "            title=\"X-axis\",\n",
    "            showgrid=False,\n",
    "            zeroline=False,\n",
    "            showticklabels=False\n",
    "        ),\n",
    "        yaxis=dict(\n",
    "            title=\"Y-axis\",\n",
    "            showgrid=False,\n",
    "            zeroline=False,\n",
    "            showticklabels=False\n",
    "        ),\n",
    "        plot_bgcolor='rgb(240,240,240)',  # Light grey background\n",
    "        legend=dict(\n",
    "            x=0.85,\n",
    "            y=1,\n",
    "            bgcolor='rgba(255,255,255,0.5)',\n",
    "            bordercolor='black',\n",
    "            borderwidth=1\n",
    "        )\n",
    "    )\n",
    "\n",
    "    fig.show()\n",
    "\n",
    "\n",
    "if __name__ == \"__main__\":\n",
    "    # Load bot and non-bot data\n",
    "    bot_data = load_json_file('novo_0.json')  # Bot data\n",
    "    nonbot_data = load_json_file('novo_1.json')  # Non-bot data\n",
    "\n",
    "    # Create and visualize the graph\n",
    "    graph = create_theme_network(bot_data, nonbot_data, min_significance=70)\n",
    "    visualize_network(graph)\n"
   ]
  }
 ],
 "metadata": {
  "kernelspec": {
   "display_name": "base",
   "language": "python",
   "name": "python3"
  },
  "language_info": {
   "codemirror_mode": {
    "name": "ipython",
    "version": 3
   },
   "file_extension": ".py",
   "mimetype": "text/x-python",
   "name": "python",
   "nbconvert_exporter": "python",
   "pygments_lexer": "ipython3",
   "version": "3.12.7"
  }
 },
 "nbformat": 4,
 "nbformat_minor": 2
}
