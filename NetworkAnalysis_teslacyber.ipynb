{
 "cells": [
  {
   "cell_type": "markdown",
   "metadata": {},
   "source": [
    "## Libraries Setup"
   ]
  },
  {
   "cell_type": "code",
   "execution_count": 1,
   "metadata": {},
   "outputs": [],
   "source": [
    "!pip install -r requirements.txt -q"
   ]
  },
  {
   "cell_type": "code",
   "execution_count": 2,
   "metadata": {},
   "outputs": [
    {
     "name": "stderr",
     "output_type": "stream",
     "text": [
      "/Users/markushenriksson/Desktop/Data/Python/DDBMS-Submission/.conda/lib/python3.12/site-packages/tqdm/auto.py:21: TqdmWarning: IProgress not found. Please update jupyter and ipywidgets. See https://ipywidgets.readthedocs.io/en/stable/user_install.html\n",
      "  from .autonotebook import tqdm as notebook_tqdm\n"
     ]
    }
   ],
   "source": [
    "# Datahandling\n",
    "import requests\n",
    "import os\n",
    "os.environ[\"TOKENIZERS_PARALLELISM\"] = \"false\"\n",
    "import numpy as np\n",
    "import pandas as pd\n",
    "import seaborn as sns\n",
    "\n",
    "# Tweet Themes\n",
    "from sentence_transformers import SentenceTransformer\n",
    "import umap\n",
    "import hdbscan\n",
    "import matplotlib.pyplot as plt\n",
    "import plotly.express as px\n",
    "\n",
    "# Network analysis\n",
    "from typing import List, Optional\n",
    "import json\n",
    "import matplotlib.patches as mpatches\n",
    "import networkx as nx\n",
    "from community import community_louvain\n",
    "import plotly.graph_objects as go\n",
    "import random\n",
    "from collections import defaultdict\n",
    "import nbformat\n",
    "\n",
    "# Model prediction\n",
    "from setfit import SetFitModel, SetFitTrainer\n",
    "from sklearn.metrics import classification_report\n",
    "import tiktoken\n",
    "\n",
    "# Gradio deployment\n",
    "import gradio as gr\n"
   ]
  },
  {
   "cell_type": "markdown",
   "metadata": {},
   "source": [
    "## Data import"
   ]
  },
  {
   "cell_type": "code",
   "execution_count": 3,
   "metadata": {},
   "outputs": [],
   "source": [
    "# data sampling? 20000\n",
    "data = pd.read_csv('tesla_predictions_output.csv')\n",
    "# data = data.sample(n=2000, random_state=42)"
   ]
  },
  {
   "cell_type": "code",
   "execution_count": 4,
   "metadata": {},
   "outputs": [
    {
     "name": "stdout",
     "output_type": "stream",
     "text": [
      "Data with label=0: 463 rows\n",
      "Data with label=1: 272 rows\n"
     ]
    }
   ],
   "source": [
    "# Split the data based on the `label` column\n",
    "data_label_0 = data[data['Label'] == 0]  # Subset where label=0\n",
    "data_label_1 = data[data['Label'] == 1]  # Subset where label=1\n",
    "\n",
    "# Optionally, check the sizes of the splits\n",
    "print(f\"Data with label=0: {len(data_label_0)} rows\")\n",
    "print(f\"Data with label=1: {len(data_label_1)} rows\")"
   ]
  },
  {
   "cell_type": "code",
   "execution_count": 5,
   "metadata": {},
   "outputs": [],
   "source": [
    "# LLM Libs & Setup\n",
    "from openai import OpenAI\n",
    "import json\n",
    "from pydantic import BaseModel, Field\n",
    "from typing import List, Optional\n",
    "import textwrap"
   ]
  },
  {
   "cell_type": "markdown",
   "metadata": {},
   "source": [
    "## LLM Setup"
   ]
  },
  {
   "cell_type": "code",
   "execution_count": 6,
   "metadata": {},
   "outputs": [],
   "source": [
    "# Set your Together API Key directly\n",
    "TOGETHER_API_KEY = \"f7f98865262e753df89a8ac3b7bc474ff5eb2e86416e78550148a64d061e36ed\"\n",
    "\n",
    "# Check if the API key is set\n",
    "if not TOGETHER_API_KEY:\n",
    "    raise ValueError(\"The Together API Key must be provided.\")\n",
    "\n",
    "# Initialize the Together client\n",
    "client = OpenAI(\n",
    "    base_url=\"https://api.together.xyz/v1\",\n",
    "    api_key=TOGETHER_API_KEY\n",
    ")\n",
    "\n",
    "# Define the model\n",
    "model = \"meta-llama/Meta-Llama-3.1-8B-Instruct-Turbo\""
   ]
  },
  {
   "cell_type": "markdown",
   "metadata": {},
   "source": [
    "## System_Prompt + JSON_schema Setup"
   ]
  },
  {
   "cell_type": "code",
   "execution_count": 8,
   "metadata": {},
   "outputs": [],
   "source": [
    "SYSTEM_PROMPT = \"\"\"\n",
    "System Prompt:\n",
    "\n",
    "You are an advanced NLP assistant tasked with analyzing tweets about a company. Each tweet is labeled as being from either a bot (0) or a human (1). Your goals are to identify themes, assess sentiment, extract keywords, and assign significance scores. Follow these steps:\n",
    "\n",
    "Theme Identification:\n",
    "\n",
    "- Group tweets into 5-15 overall themes or mentions about the company. Themes represent key topics, issues, or narratives surrounding the company.\n",
    "- For each theme, provide subthemes or keywords that explain why the theme was chosen. These keywords should summarize the driving factors behind the theme.\n",
    "\n",
    "Sentiment Analysis:\n",
    "\n",
    "- Perform sentiment analysis for each tweet and aggregate these sentiments to determine the overall sentiment for each theme (positive, neutral, or negative).\n",
    "- Provide an average sentiment score (-1 to +1 scale) for each theme.\n",
    "\n",
    "Theme Significance:\n",
    "\n",
    "- Assign a significance score (1-100) for each theme based on how many tweets contribute to it, and other relevant metrics (e.g., impact of subthemes, relevance to overall narrative).\n",
    "\n",
    "Output Structure:\n",
    "\n",
    "For each theme, provide:\n",
    "- Theme title.\n",
    "- Sentiment summary (positive/negative/neutral, average sentiment score).\n",
    "- Subthemes/keywords explaining the causation of the theme.\n",
    "- Significance score.\n",
    "\n",
    "\n",
    "Consideration:\n",
    "\n",
    "- Focus on human-labeled tweets (1) for primary analysis but note any notable patterns from bot-labeled tweets (0).\n",
    "- Highlight anomalies or unexpected findings, if any.\n",
    "\"\"\"\n"
   ]
  },
  {
   "cell_type": "code",
   "execution_count": 10,
   "metadata": {},
   "outputs": [],
   "source": [
    "json_schema = {\n",
    "    \"type\": \"object\",\n",
    "    \"properties\": {\n",
    "        \"themes\": {\n",
    "            \"type\": \"array\",\n",
    "            \"items\": {\n",
    "                \"type\": \"object\",\n",
    "                \"properties\": {\n",
    "                    \"theme\": {\n",
    "                        \"type\": \"string\",\n",
    "                        \"description\": \"Title of the overall theme\"\n",
    "                    },\n",
    "                    \"sentiment\": {\n",
    "                        \"type\": \"object\",\n",
    "                        \"properties\": {\n",
    "                            \"overall\": {\n",
    "                                \"type\": \"string\",\n",
    "                                \"enum\": [\"positive\", \"neutral\", \"negative\"],\n",
    "                                \"description\": \"Overall sentiment of the theme\"\n",
    "                            },\n",
    "                            \"average_score\": {\n",
    "                                \"type\": \"number\",\n",
    "                                \"minimum\": -1,\n",
    "                                \"maximum\": 1,\n",
    "                                \"description\": \"Average sentiment score of the theme\"\n",
    "                            }\n",
    "                        },\n",
    "                        \"required\": [\"overall\", \"average_score\"]\n",
    "                    },\n",
    "                    \"subthemes\": {\n",
    "                        \"type\": \"array\",\n",
    "                        \"items\": {\n",
    "                            \"type\": \"string\"\n",
    "                        },\n",
    "                        \"description\": \"List of keywords or subthemes driving the main theme\"\n",
    "                    },\n",
    "                    \"significance\": {\n",
    "                        \"type\": \"integer\",\n",
    "                        \"minimum\": 1,\n",
    "                        \"maximum\": 100,\n",
    "                        \"description\": \"Significance score of the theme\"\n",
    "                    }\n",
    "                },\n",
    "                \"required\": [\"theme\", \"sentiment\", \"subthemes\", \"significance\"]\n",
    "            }\n",
    "        }\n",
    "    },\n",
    "    \"required\": [\"themes\"]\n",
    "}\n"
   ]
  },
  {
   "cell_type": "code",
   "execution_count": 11,
   "metadata": {},
   "outputs": [
    {
     "name": "stderr",
     "output_type": "stream",
     "text": [
      "/Users/markushenriksson/Desktop/Data/Python/DDBMS-Submission/.conda/lib/python3.12/site-packages/pydantic/fields.py:1032: PydanticDeprecatedSince20: Using extra keyword arguments on `Field` is deprecated and will be removed. Use `json_schema_extra` instead. (Extra keys: 'enum'). Deprecated in Pydantic V2.0 to be removed in V3.0. See Pydantic V2 Migration Guide at https://errors.pydantic.dev/2.10/migration/\n",
      "  warn(\n",
      "/Users/markushenriksson/Desktop/Data/Python/DDBMS-Submission/.conda/lib/python3.12/site-packages/pydantic/fields.py:1001: PydanticDeprecatedSince20: `min_items` is deprecated and will be removed, use `min_length` instead. Deprecated in Pydantic V2.0 to be removed in V3.0. See Pydantic V2 Migration Guide at https://errors.pydantic.dev/2.10/migration/\n",
      "  warn('`min_items` is deprecated and will be removed, use `min_length` instead', DeprecationWarning)\n"
     ]
    }
   ],
   "source": [
    "from pydantic import BaseModel, Field\n",
    "from typing import List, Optional\n",
    "\n",
    "class Sentiment(BaseModel):\n",
    "    overall: str = Field(\n",
    "        description=\"Overall sentiment of the theme\",\n",
    "        enum=[\"positive\", \"neutral\", \"negative\"]\n",
    "    )\n",
    "    average_score: float = Field(\n",
    "        description=\"Average sentiment score of the theme\",\n",
    "        ge=-1,\n",
    "        le=1\n",
    "    )\n",
    "\n",
    "class Theme(BaseModel):\n",
    "    theme: str = Field(description=\"Title of the overall theme\")\n",
    "    sentiment: Sentiment = Field(description=\"Sentiment of the theme\")\n",
    "    subthemes: List[str] = Field(\n",
    "        description=\"List of keywords or subthemes driving the main theme\"\n",
    "    )\n",
    "    significance: int = Field(\n",
    "        description=\"Significance score of the theme\",\n",
    "        ge=1,\n",
    "        le=100\n",
    "    )\n",
    "\n",
    "class TweetAnalysis(BaseModel):\n",
    "    themes: List[Theme] = Field(\n",
    "        description=\"List of identified overall themes\",\n",
    "        min_items=1\n",
    "    )\n",
    "\n",
    "# Dynamically generate the JSON schema\n",
    "json_schema = TweetAnalysis.model_json_schema()\n"
   ]
  },
  {
   "cell_type": "markdown",
   "metadata": {},
   "source": [
    "## LLM-runtime"
   ]
  },
  {
   "cell_type": "code",
   "execution_count": 12,
   "metadata": {},
   "outputs": [
    {
     "name": "stdout",
     "output_type": "stream",
     "text": [
      "Results saved in tesla_0.json\n"
     ]
    }
   ],
   "source": [
    "import tiktoken\n",
    "import pandas as pd\n",
    "import json\n",
    "import time\n",
    "from concurrent.futures import ThreadPoolExecutor\n",
    "from queue import Queue\n",
    "import threading\n",
    "\n",
    "\n",
    "\n",
    "\n",
    "def rate_limited_executor(max_calls_per_minute=100):\n",
    "    \"\"\"Rate-limited executor for API calls.\"\"\"\n",
    "    call_queue = Queue()\n",
    "\n",
    "\n",
    "\n",
    "\n",
    "    def worker():\n",
    "        while True:\n",
    "            func, args, kwargs, result_queue = call_queue.get()\n",
    "            try:\n",
    "                result_queue.put(func(*args, **kwargs))\n",
    "            except Exception as e:\n",
    "                result_queue.put(e)\n",
    "            call_queue.task_done()\n",
    "            time.sleep(60 / max_calls_per_minute)\n",
    "\n",
    "\n",
    "\n",
    "\n",
    "    for _ in range(max_calls_per_minute):\n",
    "        threading.Thread(target=worker, daemon=True).start()\n",
    "\n",
    "\n",
    "\n",
    "\n",
    "    def submit(func, *args, **kwargs):\n",
    "        result_queue = Queue()\n",
    "        call_queue.put((func, args, kwargs, result_queue))\n",
    "        result = result_queue.get()\n",
    "        if isinstance(result, Exception):\n",
    "            raise result\n",
    "        return result\n",
    "\n",
    "\n",
    "\n",
    "\n",
    "    return submit\n",
    "\n",
    "\n",
    "\n",
    "\n",
    "def process_batch(tweets, executor, model, schema, batch_size):\n",
    "    \"\"\"Process one batch of tweets.\"\"\"\n",
    "    messages = [\n",
    "        {'role': 'system', 'content': SYSTEM_PROMPT},\n",
    "        {'role': 'user', 'content': json.dumps(tweets)}\n",
    "    ]\n",
    "    try:\n",
    "        response = executor(\n",
    "            client.chat.completions.create,\n",
    "            model=model,\n",
    "            messages=messages,\n",
    "            temperature=0.7,\n",
    "            response_format={\"type\": \"json_object\", \"schema\": schema},\n",
    "            max_tokens=8192\n",
    "        )\n",
    "        return {\n",
    "            'batch_size': len(tweets),\n",
    "            'response': response.choices[0].message.content\n",
    "        }\n",
    "    except Exception as e:\n",
    "        return {\n",
    "            'batch_size': len(tweets),\n",
    "            'error': str(e)\n",
    "        }\n",
    "\n",
    "\n",
    "\n",
    "\n",
    "def parallel_process_tweets(data, batch_size, max_workers, model, schema):\n",
    "    \"\"\"Parallel processing of tweets with rate-limiting.\"\"\"\n",
    "    executor = rate_limited_executor(max_calls_per_minute=60)\n",
    "    results = []\n",
    "\n",
    "\n",
    "\n",
    "\n",
    "    def process_and_collect(batch):\n",
    "        tweets = batch['Tweet_text'].tolist()\n",
    "        return process_batch(tweets, executor, model, schema, batch_size)\n",
    "\n",
    "\n",
    "\n",
    "\n",
    "    with ThreadPoolExecutor(max_workers=max_workers) as pool:\n",
    "        batches = [data.iloc[i:i + batch_size] for i in range(0, len(data), batch_size)]\n",
    "        futures = [pool.submit(process_and_collect, batch) for batch in batches]\n",
    "        for future in futures:\n",
    "            results.append(future.result())\n",
    "\n",
    "\n",
    "\n",
    "\n",
    "    return pd.DataFrame(results)\n",
    "\n",
    "\n",
    "\n",
    "\n",
    "def save_results(data, filename):\n",
    "    \"\"\"Save data to JSON file.\"\"\"\n",
    "    try:\n",
    "        with open(filename, 'w', encoding='utf-8') as f:\n",
    "            json.dump(data, f, ensure_ascii=False, indent=4)\n",
    "        print(f\"Results saved in {filename}\")\n",
    "    except Exception as e:\n",
    "        print(f\"Error during saving: {e}\")\n",
    "\n",
    "\n",
    "\n",
    "\n",
    "# Assuming 'data_label_0' is your DataFrame filtered for label 0\n",
    "processed_tweets = parallel_process_tweets(\n",
    "    data=data_label_0,  # Use the data_label_0 DataFrame\n",
    "    batch_size=10,      # Batch size\n",
    "    max_workers=6,     # Number of parallel threads\n",
    "    model=model,        # Your model variable\n",
    "    schema=json_schema  # Your JSON schema variable\n",
    ")\n",
    "\n",
    "\n",
    "\n",
    "\n",
    "# Save the results to label_0_1.json\n",
    "save_results(processed_tweets.to_dict(orient=\"records\"), \"tesla_0.json\")"
   ]
  },
  {
   "cell_type": "code",
   "execution_count": 13,
   "metadata": {},
   "outputs": [
    {
     "name": "stdout",
     "output_type": "stream",
     "text": [
      "Results saved in tesla_1.json\n"
     ]
    }
   ],
   "source": [
    "import tiktoken\n",
    "import pandas as pd\n",
    "import json\n",
    "import time\n",
    "from concurrent.futures import ThreadPoolExecutor\n",
    "from queue import Queue\n",
    "import threading\n",
    "\n",
    "def rate_limited_executor(max_calls_per_minute=100):\n",
    "    \"\"\"Rate-limited executor for API calls.\"\"\"\n",
    "    call_queue = Queue()\n",
    "\n",
    "    def worker():\n",
    "        while True:\n",
    "            func, args, kwargs, result_queue = call_queue.get()\n",
    "            try:\n",
    "                result_queue.put(func(*args, **kwargs))\n",
    "            except Exception as e:\n",
    "                result_queue.put(e)\n",
    "            call_queue.task_done()\n",
    "            time.sleep(60 / max_calls_per_minute)\n",
    "\n",
    "    for _ in range(max_calls_per_minute):\n",
    "        threading.Thread(target=worker, daemon=True).start()\n",
    "\n",
    "    def submit(func, *args, **kwargs):\n",
    "        result_queue = Queue()\n",
    "        call_queue.put((func, args, kwargs, result_queue))\n",
    "        result = result_queue.get()\n",
    "        if isinstance(result, Exception):\n",
    "            raise result\n",
    "        return result\n",
    "\n",
    "    return submit\n",
    "\n",
    "def process_batch(tweets, executor, model, schema, batch_size):\n",
    "    \"\"\"Process one batch of tweets.\"\"\"\n",
    "    messages = [\n",
    "        {'role': 'system', 'content': SYSTEM_PROMPT},\n",
    "        {'role': 'user', 'content': json.dumps(tweets)}\n",
    "    ]\n",
    "    try:\n",
    "        response = executor(\n",
    "            client.chat.completions.create,\n",
    "            model=model,\n",
    "            messages=messages,\n",
    "            temperature=0.7,\n",
    "            response_format={\"type\": \"json_object\", \"schema\": schema},\n",
    "            max_tokens=8192\n",
    "        )\n",
    "        return {\n",
    "            'batch_size': len(tweets),\n",
    "            'response': response.choices[0].message.content\n",
    "        }\n",
    "    except Exception as e:\n",
    "        return {\n",
    "            'batch_size': len(tweets),\n",
    "            'error': str(e)\n",
    "        }\n",
    "\n",
    "def parallel_process_tweets(data, batch_size, max_workers, model, schema):\n",
    "    \"\"\"Parallel processing of tweets with rate-limiting.\"\"\"\n",
    "    executor = rate_limited_executor(max_calls_per_minute=60)\n",
    "    results = []\n",
    "\n",
    "    def process_and_collect(batch):\n",
    "        tweets = batch['Tweet_text'].tolist()\n",
    "        return process_batch(tweets, executor, model, schema, batch_size)\n",
    "\n",
    "    with ThreadPoolExecutor(max_workers=max_workers) as pool:\n",
    "        batches = [data.iloc[i:i + batch_size] for i in range(0, len(data), batch_size)]\n",
    "        futures = [pool.submit(process_and_collect, batch) for batch in batches]\n",
    "        for future in futures:\n",
    "            results.append(future.result())\n",
    "\n",
    "    return pd.DataFrame(results)\n",
    "\n",
    "def save_results(data, filename):\n",
    "    \"\"\"Save data to JSON file.\"\"\"\n",
    "    try:\n",
    "        with open(filename, 'w', encoding='utf-8') as f:\n",
    "            json.dump(data, f, ensure_ascii=False, indent=4)\n",
    "        print(f\"Results saved in {filename}\")\n",
    "    except Exception as e:\n",
    "        print(f\"Error during saving: {e}\")\n",
    "\n",
    "# Assuming 'data_label_1' is your DataFrame filtered for label 1\n",
    "processed_tweets = parallel_process_tweets(\n",
    "    data=data_label_1,  # Use the data_label_1 DataFrame\n",
    "    batch_size=10,      # Batch size\n",
    "    max_workers=6,      # Number of parallel threads\n",
    "    model=model,        # Your model variable\n",
    "    schema=json_schema  # Your JSON schema variable\n",
    ")\n",
    "\n",
    "# Save the results to label_1.json\n",
    "save_results(processed_tweets.to_dict(orient=\"records\"), \"tesla_1.json\")\n"
   ]
  },
  {
   "cell_type": "code",
   "execution_count": 16,
   "metadata": {},
   "outputs": [
    {
     "data": {
      "application/vnd.plotly.v1+json": {
       "config": {
        "plotlyServerURL": "https://plot.ly"
       },
       "data": [
        {
         "hoverinfo": "text",
         "hovertext": [
          "Theme: Tesla FSD Launch<br>Type: Bot<br>Significance: 90%<br>Subthemes: FSD launch announcement, FSD capabilities, FSD benefits, FSD improvements<br>Sentiment: positive<br>Average Score: 0.9",
          "Theme: Tesla Cybertruck FSD Update<br>Type: Bot<br>Significance: 98%<br>Subthemes: FSDBetaRelease, CybertruckPerformance, TeslaFSDUpdate<br>Sentiment: positive<br>Average Score: 0.85",
          "Theme: Tesla Cybertruck<br>Type: Bot<br>Significance: 95%<br>Subthemes: Cybertruck features and reviews, FSAD capabilities and performance, Tesla's innovation and commitment<br>Sentiment: positive<br>Average Score: 0.83",
          "Theme: Tesla's FSAD technology<br>Type: Bot<br>Significance: 92%<br>Subthemes: FSAD capabilities and features, FSAD performance and reliability, FSAD's impact on road trips and driving<br>Sentiment: positive<br>Average Score: 0.88",
          "Theme: Tesla Cybertruck FSD Capabilities<br>Type: Bot<br>Significance: 95%<br>Subthemes: handling, acceleration, smoothing on tight streets, capable on highways<br>Sentiment: positive<br>Average Score: 0.9",
          "Theme: Tesla Cybertruck FSD in Real-World Scenarios<br>Type: Bot<br>Significance: 90%<br>Subthemes: handling in roundabouts, performance in highway stack, behavior on tight streets, overall driving experience<br>Sentiment: positive<br>Average Score: 0.9",
          "Theme: Cybertruck Enthusiasm and Love<br>Type: Bot<br>Significance: 90%<br>Subthemes: amazing performance and features, funny comparison with other cars<br>Sentiment: positive<br>Average Score: 0.9",
          "Theme: Tesla's Innovation<br>Type: Bot<br>Significance: 92%<br>Subthemes: Tesla's AI capabilities, Comparison to other car brands<br>Sentiment: positive<br>Average Score: 0.95",
          "Theme: Cybertruck Fun and Driving Experience<br>Type: Bot<br>Significance: 90%<br>Subthemes: Fun to drive manual mode, Enjoyment of letting AI drive<br>Sentiment: positive<br>Average Score: 0.9",
          "Theme: Cybertruck FSD (Full Self-Driving) Capabilities<br>Type: Bot<br>Significance: 92%<br>Subthemes: FSD reliability, FSD range, Free FSD for 3 months, Cybertruck FSD vs. Autopilot<br>Sentiment: positive<br>Average Score: 0.85",
          "Theme: User Experience with Cybertruck FSD<br>Type: Bot<br>Significance: 98%<br>Subthemes: Zero intervention drives, FSD review, FSD performance<br>Sentiment: positive<br>Average Score: 0.95",
          "Theme: Autonomous driving<br>Type: Bot<br>Significance: 90%<br>Subthemes: FSd v13, FSd road tripping, Cybertruck features<br>Sentiment: positive<br>Average Score: 0.8",
          "Theme: Tesla updates<br>Type: Bot<br>Significance: 95%<br>Subthemes: Update 2024395, FSd release, Custom features<br>Sentiment: positive<br>Average Score: 0.9",
          "Theme: Tesla's AI and FSD Advancements<br>Type: Bot<br>Significance: 90%<br>Subthemes: Cortex supercomputer, 5x training compute scaling<br>Sentiment: positive<br>Average Score: 0.9",
          "Theme: Tesla FSD Safety and Benefits<br>Type: Bot<br>Significance: 95%<br>Subthemes: Saving millions of lives, Reducing driver stress and anxiety<br>Sentiment: positive<br>Average Score: 0.95",
          "Theme: Tesla FSD News and Upcoming Releases<br>Type: Bot<br>Significance: 90%<br>Subthemes: tesla fsd v12, tesla fsd v13, fsd beta powered by ai<br>Sentiment: positive<br>Average Score: 0.85",
          "Theme: Tesla FSAD<br>Type: Bot<br>Significance: 95%<br>Subthemes: Tesla FSAD capabilities, Advancements in autonomous driving, Robotaxi and its potential, Tesla FSAD and safety, AI involvement in FSAD<br>Sentiment: positive<br>Average Score: 0.8",
          "Theme: Tesla FSD Progress<br>Type: Bot<br>Significance: 90%<br>Subthemes: Advancements in FSD technology, Tesla's efforts to improve FSD, Potential of FSD to revolutionize driving<br>Sentiment: positive<br>Average Score: 0.85",
          "Theme: Tesla FSD Reviews and User Experiences<br>Type: Bot<br>Significance: 95%<br>Subthemes: User testimonials of FSD's effectiveness, Comparison of FSD to human driving, Immersive experience of riding in a Tesla cybercab<br>Sentiment: positive<br>Average Score: 0.9",
          "Theme: Tesla FSD User Experience and Safety<br>Type: Bot<br>Significance: 92%<br>Subthemes: Difficulty in Recognizing Obstacles, Inability to Navigate Complex Scenarios<br>Sentiment: negative<br>Average Score: -0.75",
          "Theme: Tesla's Future Plans and Innovations<br>Type: Bot<br>Significance: 90%<br>Subthemes: Tesla's vision for the future, Innovations in transportation<br>Sentiment: positive<br>Average Score: 0.9",
          "Theme: Tesla Full Self-Driving (FSD) Capabilities<br>Type: Bot<br>Significance: 90%<br>Subthemes: Impressive performance in various scenarios, Potential to reduce accidents and benefit society, Availability of incentives for FSD, Hardware necessary for FSD in all new Tesla cars<br>Sentiment: positive<br>Average Score: 0.85",
          "Theme: Tesla Full Self-Driving (FSD) Feature<br>Type: Bot<br>Significance: 98%<br>Subthemes: Improved Performance, Enhanced Safety, Increased Convenience<br>Sentiment: positive<br>Average Score: 0.9",
          "Theme: End of Year Discounts and Offers<br>Type: Bot<br>Significance: 92%<br>Subthemes: Free Supercharging, Federal Tax Credit<br>Sentiment: positive<br>Average Score: 0.7",
          "Theme: Tesla's Beta Software and Updates<br>Type: Bot<br>Significance: 95%<br>Subthemes: New Features, Improved Performance<br>Sentiment: positive<br>Average Score: 0.85",
          "Theme: Tesla Full Self-Driving (FSD) Technology<br>Type: Bot<br>Significance: 90%<br>Subthemes: zero interventions, supervised drives, 4K footage<br>Sentiment: positive<br>Average Score: 0.9",
          "Theme: Tesla FSD Supervised Drives<br>Type: Bot<br>Significance: 90%<br>Subthemes: real-world craziness, lifelike self-driving<br>Sentiment: positive<br>Average Score: 0.95",
          "Theme: Tesla's Business and Stock Performance<br>Type: Bot<br>Significance: 90%<br>Subthemes: Stock price surge, Trump admin support for FSD framework<br>Sentiment: positive<br>Average Score: 0.83",
          "Theme: Tesla's Community and Enthusiasm<br>Type: Bot<br>Significance: 90%<br>Subthemes: Customer testimonials, Community engagement, Enthusiasm for Tesla<br>Sentiment: positive<br>Average Score: 0.95",
          "Theme: Impact of FSD on Society<br>Type: Bot<br>Significance: 90%<br>Subthemes: Potential to save millions of lives, Improved safety<br>Sentiment: positive<br>Average Score: 0.95",
          "Theme: Tesla Full Self-Driving (FSD) Capability and Limitations<br>Type: Bot<br>Significance: 92%<br>Subthemes: FSD still requires human supervision, FSD is not a Level 3 or 4 autonomous driving system, FSD has limitations and potential safety concerns<br>Sentiment: negative<br>Average Score: -0.43",
          "Theme: Tesla Community and User Experience<br>Type: Bot<br>Significance: 90%<br>Subthemes: Model Y Interior, Supercharger Experience, Community Support<br>Sentiment: positive<br>Average Score: 0.9",
          "Theme: Tesla Deals and Discounts<br>Type: Bot<br>Significance: 90%<br>Subthemes: Promotions, Savings, Referral discounts, Supercharging free trials<br>Sentiment: positive<br>Average Score: 0.9",
          "Theme: Tesla FSD Advancements and Scaling<br>Type: Bot<br>Significance: 95%<br>Subthemes: Hardware vs software scaling, Improved performance, Increased safety<br>Sentiment: positive<br>Average Score: 0.95"
         ],
         "marker": {
          "color": [
           "rgb(34,139,34)",
           "rgb(34,139,34)",
           "rgb(34,139,34)",
           "rgb(34,139,34)",
           "rgb(34,139,34)",
           "rgb(34,139,34)",
           "rgb(34,139,34)",
           "rgb(34,139,34)",
           "rgb(34,139,34)",
           "rgb(34,139,34)",
           "rgb(34,139,34)",
           "rgb(34,139,34)",
           "rgb(34,139,34)",
           "rgb(34,139,34)",
           "rgb(34,139,34)",
           "rgb(34,139,34)",
           "rgb(34,139,34)",
           "rgb(34,139,34)",
           "rgb(34,139,34)",
           "rgb(255,69,0)",
           "rgb(34,139,34)",
           "rgb(34,139,34)",
           "rgb(34,139,34)",
           "rgb(34,139,34)",
           "rgb(34,139,34)",
           "rgb(34,139,34)",
           "rgb(34,139,34)",
           "rgb(34,139,34)",
           "rgb(34,139,34)",
           "rgb(34,139,34)",
           "rgb(255,69,0)",
           "rgb(34,139,34)",
           "rgb(34,139,34)",
           "rgb(34,139,34)"
          ],
          "line": {
           "color": "rgb(139,0,0)",
           "width": 1
          },
          "size": [
           28,
           29.6,
           29,
           28.4,
           29,
           28,
           28,
           28.4,
           28,
           28.4,
           29.6,
           28,
           29,
           28,
           29,
           28,
           29,
           28,
           29,
           28.4,
           28,
           28,
           29.6,
           28.4,
           29,
           28,
           28,
           28,
           28,
           28,
           28.4,
           28,
           28,
           29
          ]
         },
         "mode": "markers",
         "name": "Bot Themes",
         "type": "scatter",
         "x": [
          -11.03174151364018,
          -10.999414906712289,
          -12.720973313927516,
          -11.857024536186577,
          -9.316555834886083,
          -14.216154886029413,
          -6.208383288330324,
          -7.778971688516742,
          -10.614416362112586,
          -9.090993261920511,
          -6.51157926408518,
          -14.681354012823375,
          -10.372482477364022,
          -15.381235435017732,
          -13.359586482893972,
          -9.09466293193523,
          -5.508656473426866,
          -6.287360360372755,
          -12.061867430533406,
          -6.964658475101736,
          -5.1044701418743035,
          -9.30720897977426,
          -9.526767289204724,
          -16.59852381880052,
          -4.4206533763285165,
          -9.890311623475757,
          -7.935632823844255,
          -12.306120191519396,
          -11.529770343069154,
          -3.7108412903714045,
          -2.9091080679590258,
          -10.16406330438901,
          -8.569496630172186,
          -7.264822119826412
         ],
         "y": [
          -6.050575820781619,
          -10.603144005502964,
          -8.894312089356397,
          -9.97419353969768,
          -13.416522934804167,
          -9.870035309946253,
          -5.983378554638418,
          -14.069992614684239,
          -10.882132234275185,
          -7.418129391296762,
          -12.204777967540078,
          -9.818390311541823,
          -13.883874719160639,
          -10.67246938642954,
          -12.544072220216648,
          -6.609284472192388,
          -10.100014331182296,
          -8.50029280412855,
          -7.136868661951535,
          -10.930925873212049,
          -8.911877561156281,
          -11.493030268052603,
          -9.855185543437695,
          -9.365643511254014,
          -10.064474636279108,
          -4.145492018776041,
          -10.669993811118072,
          -10.477411964349399,
          -1.95695761902881,
          -9.425852944468307,
          -11.184380331665674,
          -11.117209620263974,
          -8.002947975939271,
          -10.007933412534685
         ]
        },
        {
         "hoverinfo": "text",
         "hovertext": [
          "Theme: Cybertruck Performance<br>Type: Non-Bot<br>Significance: 90%<br>Subthemes: fsd performance, steer by wire, smooth lane changes<br>Sentiment: positive<br>Average Score: 0.858",
          "Theme: Cybertruck's FSD Milestones<br>Type: Non-Bot<br>Significance: 90%<br>Subthemes: First self-driving pickup truck, Collecting data from thousands of owners, Tesla's innovative approach<br>Sentiment: positive<br>Average Score: 0.8",
          "Theme: Full Self-Driving (FSD) Feature<br>Type: Non-Bot<br>Significance: 90%<br>Subthemes: FSD performance in road trips, FSD capabilities in Cybertruck, FSD launch and updates<br>Sentiment: positive<br>Average Score: 0.75",
          "Theme: Cybertruck Design and Features<br>Type: Non-Bot<br>Significance: 100%<br>Subthemes: Incredible design animation, Rear wheel steering, Visualizations, Design aesthetics<br>Sentiment: positive<br>Average Score: 0.9",
          "Theme: Tesla Cybertruck FSD Updates<br>Type: Non-Bot<br>Significance: 90%<br>Subthemes: FSD version 1255, Improved handling, Rollout of FSD features, Energy consumption reduction<br>Sentiment: positive<br>Average Score: 0.9",
          "Theme: Tesla Company News and Speculation<br>Type: Non-Bot<br>Significance: 95%<br>Subthemes: Stock market performance, Company announcements, Speculation and rumors<br>Sentiment: positive<br>Average Score: 0.9",
          "Theme: Cybertruck FSD Release<br>Type: Non-Bot<br>Significance: 90%<br>Subthemes: Release Date, Canadian Availability, Customer Rollout, Customer Feedback, Features<br>Sentiment: positive<br>Average Score: 0.85",
          "Theme: Cybertruck features and capabilities<br>Type: Non-Bot<br>Significance: 90%<br>Subthemes: Autopilot/FSD (Full Self-Driving) capabilities, Performance and driving experience, Comparison to other Tesla models<br>Sentiment: positive<br>Average Score: 0.7",
          "Theme: Cybertruck testing and updates<br>Type: Non-Bot<br>Significance: 95%<br>Subthemes: Supervised FSD testing, Future updates and versions (V13, V1256x, etc.), Comparison to other Tesla features<br>Sentiment: positive<br>Average Score: 0.8",
          "Theme: Customer Experience with Tesla and FSD<br>Type: Non-Bot<br>Significance: 90%<br>Subthemes: Customer Satisfaction, Impressive Performance, Former Critic's Praise<br>Sentiment: positive<br>Average Score: 0.9",
          "Theme: Tesla Full Self-Driving (FSD) Capabilities and Success Stories<br>Type: Non-Bot<br>Significance: 95%<br>Subthemes: autonomous driving, FSD features, user experiences, success stories<br>Sentiment: positive<br>Average Score: 0.85",
          "Theme: Tesla Community Support and Engagement<br>Type: Non-Bot<br>Significance: 90%<br>Subthemes: user assistance, community engagement, Teslacommunity<br>Sentiment: positive<br>Average Score: 0.9",
          "Theme: Real-World FSD Testing and Experiences<br>Type: Non-Bot<br>Significance: 90%<br>Subthemes: FSD in real-world scenarios, user experiences, testing FSD<br>Sentiment: positive<br>Average Score: 0.9",
          "Theme: Community Assistance and Help<br>Type: Non-Bot<br>Significance: 90%<br>Subthemes: user assistance, community engagement, Teslacommunity<br>Sentiment: positive<br>Average Score: 0.9",
          "Theme: FSD and User Emotions<br>Type: Non-Bot<br>Significance: 90%<br>Subthemes: user experiences, emotional connections, FSD and user emotions<br>Sentiment: positive<br>Average Score: 0.9",
          "Theme: FSAD Performance and Safety<br>Type: Non-Bot<br>Significance: 90%<br>Subthemes: local traffic issues with fsd, driver's need for control over fsd, implications of fsd on driver behavior<br>Sentiment: negative<br>Average Score: -0.7",
          "Theme: Full Self-Driving (FSD) Capabilities<br>Type: Non-Bot<br>Significance: 90%<br>Subthemes: Zero disengagements, improved traffic handling, dense traffic handling, pedestrian safety<br>Sentiment: positive<br>Average Score: 0.8",
          "Theme: FSD Technology and Development<br>Type: Non-Bot<br>Significance: 95%<br>Subthemes: FSD stack usage for Optimus, FSD data collected for other automakers, phil beisel's technical expertise<br>Sentiment: positive<br>Average Score: 0.9",
          "Theme: Tesla FSD and Autonomy<br>Type: Non-Bot<br>Significance: 92%<br>Subthemes: Improved FSD performance, Future of self-driving cars, Regulatory support for FSD<br>Sentiment: positive<br>Average Score: 0.85",
          "Theme: Tesla Community and Support<br>Type: Non-Bot<br>Significance: 91%<br>Subthemes: Tesla owners' experiences with FSD, Community support for FSD<br>Sentiment: positive<br>Average Score: 0.95",
          "Theme: Tesla FSD and Stock Performance<br>Type: Non-Bot<br>Significance: 90%<br>Subthemes: triple short position on Tesla due to FSD performance, connection between Tesla stock and FSD<br>Sentiment: negative<br>Average Score: -0.85",
          "Theme: Tesla Full Self-Driving (FSD) Capabilities and Performance<br>Type: Non-Bot<br>Significance: 92%<br>Subthemes: Autonomous driving in heavy traffic, Zero safety incidents reported, Advanced AI technology, Positive user experiences with FSD<br>Sentiment: positive<br>Average Score: 0.8",
          "Theme: User Testimonials and Experiences with Tesla FSD<br>Type: Non-Bot<br>Significance: 90%<br>Subthemes: Safe and smooth driving experience, Maneuvering out of the way in emergency situations, FSD handling stopped street cars<br>Sentiment: positive<br>Average Score: 0.95",
          "Theme: Criticism and Safety Concerns regarding FSD<br>Type: Non-Bot<br>Significance: 90%<br>Subthemes: regulatory restrictions and infrastructure limitations, incidents of FSD errors and mistakes, safety concerns for intoxicated drivers<br>Sentiment: negative<br>Average Score: -0.7",
          "Theme: Tesla FSD Capabilities<br>Type: Non-Bot<br>Significance: 90%<br>Subthemes: Handling rare and edge cases, Supervised FSD feature, Improvements in FSD<br>Sentiment: positive<br>Average Score: 0.88",
          "Theme: Tesla Technology and Vision<br>Type: Non-Bot<br>Significance: 92%<br>Subthemes: Vision-based self-driving system, Advanced technology in Teslas<br>Sentiment: positive<br>Average Score: 0.91"
         ],
         "marker": {
          "color": [
           "rgb(30,144,255)",
           "rgb(30,144,255)",
           "rgb(30,144,255)",
           "rgb(30,144,255)",
           "rgb(30,144,255)",
           "rgb(30,144,255)",
           "rgb(30,144,255)",
           "rgb(30,144,255)",
           "rgb(30,144,255)",
           "rgb(30,144,255)",
           "rgb(30,144,255)",
           "rgb(30,144,255)",
           "rgb(30,144,255)",
           "rgb(30,144,255)",
           "rgb(30,144,255)",
           "rgb(255,99,71)",
           "rgb(30,144,255)",
           "rgb(30,144,255)",
           "rgb(30,144,255)",
           "rgb(30,144,255)",
           "rgb(255,99,71)",
           "rgb(30,144,255)",
           "rgb(30,144,255)",
           "rgb(255,99,71)",
           "rgb(30,144,255)",
           "rgb(30,144,255)"
          ],
          "line": {
           "color": "rgb(0,100,0)",
           "width": 1
          },
          "size": [
           28,
           28,
           28,
           30,
           28,
           29,
           28,
           28,
           29,
           28,
           29,
           28,
           28,
           28,
           28,
           28,
           28,
           29,
           28.4,
           28.2,
           28,
           28.4,
           28,
           28,
           28,
           28.4
          ]
         },
         "mode": "markers",
         "name": "Non-Bot Themes",
         "type": "scatter",
         "x": [
          8.704654674733765,
          14.202879039478022,
          8.262515710942168,
          8.332095272210816,
          10.507817587703505,
          11.493063597578438,
          8.374502062558568,
          15.291284053289843,
          8.311671275608248,
          6.284120016553336,
          11.567705722858657,
          12.174489179270534,
          13.301667161962465,
          7.042383056144681,
          10.97204251038838,
          9.06502105175754,
          12.236699597089896,
          7.178405763823846,
          15.141003158369756,
          9.957020963093907,
          7.961606075372013,
          5.330094818828679,
          6.733178744998677,
          8.937007034805191,
          6.084568413622931,
          9.765857877803933
         ],
         "y": [
          6.608970361226432,
          9.229763716738248,
          9.577829740781098,
          13.28285822452113,
          10.460170777519755,
          8.92832687018746,
          13.551772855912418,
          15.810162942345343,
          14.893788826092655,
          15.01871754329931,
          12.450616878260712,
          10.863170589276807,
          10.652646902222633,
          9.36965604780819,
          7.914889586549752,
          5.159220222439243,
          13.755407463975958,
          6.054496117110862,
          9.577563535598472,
          3.4155932348851574,
          13.481417090072268,
          13.417877084766692,
          11.631042846114877,
          12.207772432199572,
          8.87222686163365,
          11.69011167366598
         ]
        }
       ],
       "layout": {
        "height": 800,
        "hovermode": "closest",
        "legend": {
         "bgcolor": "rgba(255,255,255,0.5)",
         "bordercolor": "black",
         "borderwidth": 1,
         "x": 0.85,
         "y": 1
        },
        "plot_bgcolor": "rgb(240,240,240)",
        "showlegend": true,
        "template": {
         "data": {
          "bar": [
           {
            "error_x": {
             "color": "#2a3f5f"
            },
            "error_y": {
             "color": "#2a3f5f"
            },
            "marker": {
             "line": {
              "color": "#E5ECF6",
              "width": 0.5
             },
             "pattern": {
              "fillmode": "overlay",
              "size": 10,
              "solidity": 0.2
             }
            },
            "type": "bar"
           }
          ],
          "barpolar": [
           {
            "marker": {
             "line": {
              "color": "#E5ECF6",
              "width": 0.5
             },
             "pattern": {
              "fillmode": "overlay",
              "size": 10,
              "solidity": 0.2
             }
            },
            "type": "barpolar"
           }
          ],
          "carpet": [
           {
            "aaxis": {
             "endlinecolor": "#2a3f5f",
             "gridcolor": "white",
             "linecolor": "white",
             "minorgridcolor": "white",
             "startlinecolor": "#2a3f5f"
            },
            "baxis": {
             "endlinecolor": "#2a3f5f",
             "gridcolor": "white",
             "linecolor": "white",
             "minorgridcolor": "white",
             "startlinecolor": "#2a3f5f"
            },
            "type": "carpet"
           }
          ],
          "choropleth": [
           {
            "colorbar": {
             "outlinewidth": 0,
             "ticks": ""
            },
            "type": "choropleth"
           }
          ],
          "contour": [
           {
            "colorbar": {
             "outlinewidth": 0,
             "ticks": ""
            },
            "colorscale": [
             [
              0,
              "#0d0887"
             ],
             [
              0.1111111111111111,
              "#46039f"
             ],
             [
              0.2222222222222222,
              "#7201a8"
             ],
             [
              0.3333333333333333,
              "#9c179e"
             ],
             [
              0.4444444444444444,
              "#bd3786"
             ],
             [
              0.5555555555555556,
              "#d8576b"
             ],
             [
              0.6666666666666666,
              "#ed7953"
             ],
             [
              0.7777777777777778,
              "#fb9f3a"
             ],
             [
              0.8888888888888888,
              "#fdca26"
             ],
             [
              1,
              "#f0f921"
             ]
            ],
            "type": "contour"
           }
          ],
          "contourcarpet": [
           {
            "colorbar": {
             "outlinewidth": 0,
             "ticks": ""
            },
            "type": "contourcarpet"
           }
          ],
          "heatmap": [
           {
            "colorbar": {
             "outlinewidth": 0,
             "ticks": ""
            },
            "colorscale": [
             [
              0,
              "#0d0887"
             ],
             [
              0.1111111111111111,
              "#46039f"
             ],
             [
              0.2222222222222222,
              "#7201a8"
             ],
             [
              0.3333333333333333,
              "#9c179e"
             ],
             [
              0.4444444444444444,
              "#bd3786"
             ],
             [
              0.5555555555555556,
              "#d8576b"
             ],
             [
              0.6666666666666666,
              "#ed7953"
             ],
             [
              0.7777777777777778,
              "#fb9f3a"
             ],
             [
              0.8888888888888888,
              "#fdca26"
             ],
             [
              1,
              "#f0f921"
             ]
            ],
            "type": "heatmap"
           }
          ],
          "heatmapgl": [
           {
            "colorbar": {
             "outlinewidth": 0,
             "ticks": ""
            },
            "colorscale": [
             [
              0,
              "#0d0887"
             ],
             [
              0.1111111111111111,
              "#46039f"
             ],
             [
              0.2222222222222222,
              "#7201a8"
             ],
             [
              0.3333333333333333,
              "#9c179e"
             ],
             [
              0.4444444444444444,
              "#bd3786"
             ],
             [
              0.5555555555555556,
              "#d8576b"
             ],
             [
              0.6666666666666666,
              "#ed7953"
             ],
             [
              0.7777777777777778,
              "#fb9f3a"
             ],
             [
              0.8888888888888888,
              "#fdca26"
             ],
             [
              1,
              "#f0f921"
             ]
            ],
            "type": "heatmapgl"
           }
          ],
          "histogram": [
           {
            "marker": {
             "pattern": {
              "fillmode": "overlay",
              "size": 10,
              "solidity": 0.2
             }
            },
            "type": "histogram"
           }
          ],
          "histogram2d": [
           {
            "colorbar": {
             "outlinewidth": 0,
             "ticks": ""
            },
            "colorscale": [
             [
              0,
              "#0d0887"
             ],
             [
              0.1111111111111111,
              "#46039f"
             ],
             [
              0.2222222222222222,
              "#7201a8"
             ],
             [
              0.3333333333333333,
              "#9c179e"
             ],
             [
              0.4444444444444444,
              "#bd3786"
             ],
             [
              0.5555555555555556,
              "#d8576b"
             ],
             [
              0.6666666666666666,
              "#ed7953"
             ],
             [
              0.7777777777777778,
              "#fb9f3a"
             ],
             [
              0.8888888888888888,
              "#fdca26"
             ],
             [
              1,
              "#f0f921"
             ]
            ],
            "type": "histogram2d"
           }
          ],
          "histogram2dcontour": [
           {
            "colorbar": {
             "outlinewidth": 0,
             "ticks": ""
            },
            "colorscale": [
             [
              0,
              "#0d0887"
             ],
             [
              0.1111111111111111,
              "#46039f"
             ],
             [
              0.2222222222222222,
              "#7201a8"
             ],
             [
              0.3333333333333333,
              "#9c179e"
             ],
             [
              0.4444444444444444,
              "#bd3786"
             ],
             [
              0.5555555555555556,
              "#d8576b"
             ],
             [
              0.6666666666666666,
              "#ed7953"
             ],
             [
              0.7777777777777778,
              "#fb9f3a"
             ],
             [
              0.8888888888888888,
              "#fdca26"
             ],
             [
              1,
              "#f0f921"
             ]
            ],
            "type": "histogram2dcontour"
           }
          ],
          "mesh3d": [
           {
            "colorbar": {
             "outlinewidth": 0,
             "ticks": ""
            },
            "type": "mesh3d"
           }
          ],
          "parcoords": [
           {
            "line": {
             "colorbar": {
              "outlinewidth": 0,
              "ticks": ""
             }
            },
            "type": "parcoords"
           }
          ],
          "pie": [
           {
            "automargin": true,
            "type": "pie"
           }
          ],
          "scatter": [
           {
            "fillpattern": {
             "fillmode": "overlay",
             "size": 10,
             "solidity": 0.2
            },
            "type": "scatter"
           }
          ],
          "scatter3d": [
           {
            "line": {
             "colorbar": {
              "outlinewidth": 0,
              "ticks": ""
             }
            },
            "marker": {
             "colorbar": {
              "outlinewidth": 0,
              "ticks": ""
             }
            },
            "type": "scatter3d"
           }
          ],
          "scattercarpet": [
           {
            "marker": {
             "colorbar": {
              "outlinewidth": 0,
              "ticks": ""
             }
            },
            "type": "scattercarpet"
           }
          ],
          "scattergeo": [
           {
            "marker": {
             "colorbar": {
              "outlinewidth": 0,
              "ticks": ""
             }
            },
            "type": "scattergeo"
           }
          ],
          "scattergl": [
           {
            "marker": {
             "colorbar": {
              "outlinewidth": 0,
              "ticks": ""
             }
            },
            "type": "scattergl"
           }
          ],
          "scattermapbox": [
           {
            "marker": {
             "colorbar": {
              "outlinewidth": 0,
              "ticks": ""
             }
            },
            "type": "scattermapbox"
           }
          ],
          "scatterpolar": [
           {
            "marker": {
             "colorbar": {
              "outlinewidth": 0,
              "ticks": ""
             }
            },
            "type": "scatterpolar"
           }
          ],
          "scatterpolargl": [
           {
            "marker": {
             "colorbar": {
              "outlinewidth": 0,
              "ticks": ""
             }
            },
            "type": "scatterpolargl"
           }
          ],
          "scatterternary": [
           {
            "marker": {
             "colorbar": {
              "outlinewidth": 0,
              "ticks": ""
             }
            },
            "type": "scatterternary"
           }
          ],
          "surface": [
           {
            "colorbar": {
             "outlinewidth": 0,
             "ticks": ""
            },
            "colorscale": [
             [
              0,
              "#0d0887"
             ],
             [
              0.1111111111111111,
              "#46039f"
             ],
             [
              0.2222222222222222,
              "#7201a8"
             ],
             [
              0.3333333333333333,
              "#9c179e"
             ],
             [
              0.4444444444444444,
              "#bd3786"
             ],
             [
              0.5555555555555556,
              "#d8576b"
             ],
             [
              0.6666666666666666,
              "#ed7953"
             ],
             [
              0.7777777777777778,
              "#fb9f3a"
             ],
             [
              0.8888888888888888,
              "#fdca26"
             ],
             [
              1,
              "#f0f921"
             ]
            ],
            "type": "surface"
           }
          ],
          "table": [
           {
            "cells": {
             "fill": {
              "color": "#EBF0F8"
             },
             "line": {
              "color": "white"
             }
            },
            "header": {
             "fill": {
              "color": "#C8D4E3"
             },
             "line": {
              "color": "white"
             }
            },
            "type": "table"
           }
          ]
         },
         "layout": {
          "annotationdefaults": {
           "arrowcolor": "#2a3f5f",
           "arrowhead": 0,
           "arrowwidth": 1
          },
          "autotypenumbers": "strict",
          "coloraxis": {
           "colorbar": {
            "outlinewidth": 0,
            "ticks": ""
           }
          },
          "colorscale": {
           "diverging": [
            [
             0,
             "#8e0152"
            ],
            [
             0.1,
             "#c51b7d"
            ],
            [
             0.2,
             "#de77ae"
            ],
            [
             0.3,
             "#f1b6da"
            ],
            [
             0.4,
             "#fde0ef"
            ],
            [
             0.5,
             "#f7f7f7"
            ],
            [
             0.6,
             "#e6f5d0"
            ],
            [
             0.7,
             "#b8e186"
            ],
            [
             0.8,
             "#7fbc41"
            ],
            [
             0.9,
             "#4d9221"
            ],
            [
             1,
             "#276419"
            ]
           ],
           "sequential": [
            [
             0,
             "#0d0887"
            ],
            [
             0.1111111111111111,
             "#46039f"
            ],
            [
             0.2222222222222222,
             "#7201a8"
            ],
            [
             0.3333333333333333,
             "#9c179e"
            ],
            [
             0.4444444444444444,
             "#bd3786"
            ],
            [
             0.5555555555555556,
             "#d8576b"
            ],
            [
             0.6666666666666666,
             "#ed7953"
            ],
            [
             0.7777777777777778,
             "#fb9f3a"
            ],
            [
             0.8888888888888888,
             "#fdca26"
            ],
            [
             1,
             "#f0f921"
            ]
           ],
           "sequentialminus": [
            [
             0,
             "#0d0887"
            ],
            [
             0.1111111111111111,
             "#46039f"
            ],
            [
             0.2222222222222222,
             "#7201a8"
            ],
            [
             0.3333333333333333,
             "#9c179e"
            ],
            [
             0.4444444444444444,
             "#bd3786"
            ],
            [
             0.5555555555555556,
             "#d8576b"
            ],
            [
             0.6666666666666666,
             "#ed7953"
            ],
            [
             0.7777777777777778,
             "#fb9f3a"
            ],
            [
             0.8888888888888888,
             "#fdca26"
            ],
            [
             1,
             "#f0f921"
            ]
           ]
          },
          "colorway": [
           "#636efa",
           "#EF553B",
           "#00cc96",
           "#ab63fa",
           "#FFA15A",
           "#19d3f3",
           "#FF6692",
           "#B6E880",
           "#FF97FF",
           "#FECB52"
          ],
          "font": {
           "color": "#2a3f5f"
          },
          "geo": {
           "bgcolor": "white",
           "lakecolor": "white",
           "landcolor": "#E5ECF6",
           "showlakes": true,
           "showland": true,
           "subunitcolor": "white"
          },
          "hoverlabel": {
           "align": "left"
          },
          "hovermode": "closest",
          "mapbox": {
           "style": "light"
          },
          "paper_bgcolor": "white",
          "plot_bgcolor": "#E5ECF6",
          "polar": {
           "angularaxis": {
            "gridcolor": "white",
            "linecolor": "white",
            "ticks": ""
           },
           "bgcolor": "#E5ECF6",
           "radialaxis": {
            "gridcolor": "white",
            "linecolor": "white",
            "ticks": ""
           }
          },
          "scene": {
           "xaxis": {
            "backgroundcolor": "#E5ECF6",
            "gridcolor": "white",
            "gridwidth": 2,
            "linecolor": "white",
            "showbackground": true,
            "ticks": "",
            "zerolinecolor": "white"
           },
           "yaxis": {
            "backgroundcolor": "#E5ECF6",
            "gridcolor": "white",
            "gridwidth": 2,
            "linecolor": "white",
            "showbackground": true,
            "ticks": "",
            "zerolinecolor": "white"
           },
           "zaxis": {
            "backgroundcolor": "#E5ECF6",
            "gridcolor": "white",
            "gridwidth": 2,
            "linecolor": "white",
            "showbackground": true,
            "ticks": "",
            "zerolinecolor": "white"
           }
          },
          "shapedefaults": {
           "line": {
            "color": "#2a3f5f"
           }
          },
          "ternary": {
           "aaxis": {
            "gridcolor": "white",
            "linecolor": "white",
            "ticks": ""
           },
           "baxis": {
            "gridcolor": "white",
            "linecolor": "white",
            "ticks": ""
           },
           "bgcolor": "#E5ECF6",
           "caxis": {
            "gridcolor": "white",
            "linecolor": "white",
            "ticks": ""
           }
          },
          "title": {
           "x": 0.05
          },
          "xaxis": {
           "automargin": true,
           "gridcolor": "white",
           "linecolor": "white",
           "ticks": "",
           "title": {
            "standoff": 15
           },
           "zerolinecolor": "white",
           "zerolinewidth": 2
          },
          "yaxis": {
           "automargin": true,
           "gridcolor": "white",
           "linecolor": "white",
           "ticks": "",
           "title": {
            "standoff": 15
           },
           "zerolinecolor": "white",
           "zerolinewidth": 2
          }
         }
        },
        "title": {
         "text": "Theme Network Visualization"
        },
        "width": 1000,
        "xaxis": {
         "showgrid": false,
         "showticklabels": false,
         "title": {
          "text": "X-axis"
         },
         "zeroline": false
        },
        "yaxis": {
         "showgrid": false,
         "showticklabels": false,
         "title": {
          "text": "Y-axis"
         },
         "zeroline": false
        }
       }
      }
     },
     "metadata": {},
     "output_type": "display_data"
    }
   ],
   "source": [
    "import json\n",
    "import networkx as nx\n",
    "import plotly.graph_objects as go\n",
    "import numpy as np\n",
    "\n",
    "def load_json_file(file_path):\n",
    "    \"\"\"Load JSON file safely.\"\"\"\n",
    "    try:\n",
    "        with open(file_path, 'r', encoding='utf-8') as file:\n",
    "            return json.load(file)\n",
    "    except Exception as e:\n",
    "        print(f\"Error loading JSON file {file_path}: {e}\")\n",
    "        return []\n",
    "\n",
    "def create_theme_network(data_bot, data_nonbot, min_significance=70):\n",
    "    \"\"\"Create a network graph from themes with a minimum significance level.\"\"\"\n",
    "    G = nx.Graph()\n",
    "\n",
    "    def process_data(data, is_bot=True):\n",
    "        for item in data:\n",
    "            response = item.get('response')\n",
    "            if isinstance(response, str):\n",
    "                try:\n",
    "                    response_data = json.loads(response)\n",
    "                    themes = response_data.get('themes', [])\n",
    "\n",
    "                    for theme in themes:\n",
    "                        significance = theme.get('significance', 0)\n",
    "                        if significance >= min_significance:\n",
    "                            theme_name = theme['theme']\n",
    "                            sentiment = theme.get('sentiment', {})\n",
    "                            average_score = sentiment.get('average_score', 0)\n",
    "\n",
    "                            # Classify sentiment based on average score\n",
    "                            sentiment_class = \"positive\" if average_score > 0 else \"negative\"\n",
    "                            \n",
    "                            subthemes = theme.get('subthemes', [])\n",
    "\n",
    "                            # Add or update theme node\n",
    "                            if not G.has_node(theme_name):\n",
    "                                G.add_node(theme_name,\n",
    "                                           type='theme',\n",
    "                                           is_bot=is_bot,\n",
    "                                           significance=significance,\n",
    "                                           sentiment_class=sentiment_class,\n",
    "                                           average_score=average_score,\n",
    "                                           subthemes=subthemes)\n",
    "                            else:\n",
    "                                # If node exists and bot status is different, mark as mixed\n",
    "                                current_bot_status = G.nodes[theme_name].get('is_bot')\n",
    "                                if current_bot_status != is_bot:\n",
    "                                    G.nodes[theme_name]['is_bot'] = 'mixed'\n",
    "\n",
    "                except json.JSONDecodeError:\n",
    "                    print(f\"Invalid JSON in response: {response}\")\n",
    "\n",
    "    # Process bot and non-bot data\n",
    "    process_data(data_bot, is_bot=True)\n",
    "    process_data(data_nonbot, is_bot=False)\n",
    "\n",
    "    return G\n",
    "\n",
    "def visualize_network(G):\n",
    "    \"\"\"Visualize bot, non-bot, and mixed themes in clustered regions.\"\"\"\n",
    "    # Separate nodes by bot status\n",
    "    bot_nodes = [node for node, data in G.nodes(data=True) if data.get('is_bot') == True]\n",
    "    nonbot_nodes = [node for node, data in G.nodes(data=True) if data.get('is_bot') == False]\n",
    "    mixed_nodes = [node for node, data in G.nodes(data=True) if data.get('is_bot') == 'mixed']\n",
    "\n",
    "    # Create traces for each category\n",
    "    traces = []\n",
    "\n",
    "    # Function to determine node size based on significance\n",
    "    def get_node_size(significance):\n",
    "        return 10 + (significance / 5)  # Adjust the scaling factor as needed\n",
    "\n",
    "    # Color mapping for sentiment and bot type (More distinct colors)\n",
    "    def get_node_color(is_bot, sentiment_class):\n",
    "        if is_bot and sentiment_class == 'positive':\n",
    "            return 'rgb(34,139,34)'  # Positive Bot - Forest Green\n",
    "        elif is_bot and sentiment_class == 'negative':\n",
    "            return 'rgb(255,69,0)'  # Negative Bot - Red Orange\n",
    "        elif not is_bot and sentiment_class == 'positive':\n",
    "            return 'rgb(30,144,255)'  # Positive Non-Bot - Dodger Blue\n",
    "        elif not is_bot and sentiment_class == 'negative':\n",
    "            return 'rgb(255,99,71)'  # Negative Non-Bot - Tomato\n",
    "\n",
    "    # Bot nodes - clustered in bottom left\n",
    "    if bot_nodes:\n",
    "        bot_x = np.random.normal(loc=-10, scale=3, size=len(bot_nodes))  # Increase scale for more spread\n",
    "        bot_y = np.random.normal(loc=-10, scale=3, size=len(bot_nodes))  # Increase scale for more spread\n",
    "        bot_sizes = [get_node_size(G.nodes[node]['significance']) for node in bot_nodes]\n",
    "        bot_colors = [get_node_color(G.nodes[node]['is_bot'], G.nodes[node]['sentiment_class']) for node in bot_nodes]\n",
    "        bot_trace = go.Scatter(\n",
    "            x=bot_x,\n",
    "            y=bot_y,\n",
    "            mode='markers',\n",
    "            hovertext=[\n",
    "                f\"Theme: {node}<br>\"\n",
    "                f\"Type: Bot<br>\"\n",
    "                f\"Significance: {G.nodes[node]['significance']}%<br>\"\n",
    "                f\"Subthemes: {', '.join(G.nodes[node].get('subthemes', []))}<br>\"\n",
    "                f\"Sentiment: {G.nodes[node]['sentiment_class']}<br>\"\n",
    "                f\"Average Score: {G.nodes[node]['average_score']}\"\n",
    "                for node in bot_nodes\n",
    "            ],\n",
    "            hoverinfo='text',\n",
    "            marker=dict(\n",
    "                size=bot_sizes,\n",
    "                color=bot_colors,  # Color based on sentiment\n",
    "                line=dict(width=1, color='rgb(139,0,0)')  # Dark red\n",
    "            ),\n",
    "            name='Bot Themes'\n",
    "        )\n",
    "        traces.append(bot_trace)\n",
    "\n",
    "    # Non-bot nodes - clustered in top right\n",
    "    if nonbot_nodes:\n",
    "        nonbot_x = np.random.normal(loc=10, scale=3, size=len(nonbot_nodes))  # Increase scale for more spread\n",
    "        nonbot_y = np.random.normal(loc=10, scale=3, size=len(nonbot_nodes))  # Increase scale for more spread\n",
    "        nonbot_sizes = [get_node_size(G.nodes[node]['significance']) for node in nonbot_nodes]\n",
    "        nonbot_colors = [get_node_color(G.nodes[node]['is_bot'], G.nodes[node]['sentiment_class']) for node in nonbot_nodes]\n",
    "        nonbot_trace = go.Scatter(\n",
    "            x=nonbot_x,\n",
    "            y=nonbot_y,\n",
    "            mode='markers',\n",
    "            hovertext=[\n",
    "                f\"Theme: {node}<br>\"\n",
    "                f\"Type: Non-Bot<br>\"\n",
    "                f\"Significance: {G.nodes[node]['significance']}%<br>\"\n",
    "                f\"Subthemes: {', '.join(G.nodes[node].get('subthemes', []))}<br>\"\n",
    "                f\"Sentiment: {G.nodes[node]['sentiment_class']}<br>\"\n",
    "                f\"Average Score: {G.nodes[node]['average_score']}\"\n",
    "                for node in nonbot_nodes\n",
    "            ],\n",
    "            hoverinfo='text',\n",
    "            marker=dict(\n",
    "                size=nonbot_sizes,\n",
    "                color=nonbot_colors,  # Color based on sentiment\n",
    "                line=dict(width=1, color='rgb(0,100,0)')  # Dark green\n",
    "            ),\n",
    "            name='Non-Bot Themes'\n",
    "        )\n",
    "        traces.append(nonbot_trace)\n",
    "\n",
    "    # Mixed nodes - clustered in center\n",
    "    if mixed_nodes:\n",
    "        mixed_x = np.random.normal(loc=0, scale=3, size=len(mixed_nodes))  # Increase scale for more spread\n",
    "        mixed_y = np.random.normal(loc=0, scale=3, size=len(mixed_nodes))  # Increase scale for more spread\n",
    "        mixed_sizes = [get_node_size(G.nodes[node]['significance']) for node in mixed_nodes]\n",
    "        mixed_colors = [get_node_color(G.nodes[node]['is_bot'], G.nodes[node]['sentiment_class']) for node in mixed_nodes]\n",
    "        mixed_trace = go.Scatter(\n",
    "            x=mixed_x,\n",
    "            y=mixed_y,\n",
    "            mode='markers',\n",
    "            hovertext=[\n",
    "                f\"Theme: {node}<br>\"\n",
    "                f\"Type: Mixed<br>\"\n",
    "                f\"Significance: {G.nodes[node]['significance']}%<br>\"\n",
    "                f\"Subthemes: {', '.join(G.nodes[node].get('subthemes', []))}<br>\"\n",
    "                f\"Sentiment: {G.nodes[node]['sentiment_class']}<br>\"\n",
    "                f\"Average Score: {G.nodes[node]['average_score']}\"\n",
    "                for node in mixed_nodes\n",
    "            ],\n",
    "            hoverinfo='text',\n",
    "            marker=dict(\n",
    "                size=mixed_sizes,\n",
    "                color=mixed_colors,  # Color based on sentiment\n",
    "                line=dict(width=1, color='rgb(75,0,130)')  # Indigo\n",
    "            ),\n",
    "            name='Mixed Themes'\n",
    "        )\n",
    "        traces.append(mixed_trace)\n",
    "\n",
    "    # Create figure\n",
    "    fig = go.Figure(data=traces)\n",
    "\n",
    "    # Update layout for better visualization\n",
    "    fig.update_layout(\n",
    "        title=\"Theme Network Visualization\",\n",
    "        showlegend=True,\n",
    "        hovermode='closest',\n",
    "        width=1000,\n",
    "        height=800,\n",
    "        xaxis=dict(\n",
    "            title=\"X-axis\",\n",
    "            showgrid=False,\n",
    "            zeroline=False,\n",
    "            showticklabels=False\n",
    "        ),\n",
    "        yaxis=dict(\n",
    "            title=\"Y-axis\",\n",
    "            showgrid=False,\n",
    "            zeroline=False,\n",
    "            showticklabels=False\n",
    "        ),\n",
    "        plot_bgcolor='rgb(240,240,240)',  # Light grey background\n",
    "        legend=dict(\n",
    "            x=0.85,\n",
    "            y=1,\n",
    "            bgcolor='rgba(255,255,255,0.5)',\n",
    "            bordercolor='black',\n",
    "            borderwidth=1\n",
    "        )\n",
    "    )\n",
    "\n",
    "    fig.show()\n",
    "\n",
    "\n",
    "if __name__ == \"__main__\":\n",
    "    # Load bot and non-bot data\n",
    "    bot_data = load_json_file('tesla_0.json')  # Bot data\n",
    "    nonbot_data = load_json_file('tesla_1.json')  # Non-bot data\n",
    "\n",
    "    # Create and visualize the graph\n",
    "    graph = create_theme_network(bot_data, nonbot_data, min_significance=90)\n",
    "    visualize_network(graph)\n"
   ]
  },
  {
   "cell_type": "code",
   "execution_count": 20,
   "metadata": {},
   "outputs": [
    {
     "name": "stdout",
     "output_type": "stream",
     "text": [
      "Negative Sentiments (Bot Data):\n",
      "Theme: Cybertruck issues and concerns, Significance: 88%, Average Score: -0.54\n",
      "Theme: Tesla Stock Price Predictions, Significance: 80%, Average Score: -0.4\n",
      "Theme: Tesla FSD Software, Significance: 82%, Average Score: -0.7\n",
      "Theme: Tesla FSAD Technology, Significance: 80%, Average Score: -0.6\n",
      "Theme: Tesla FSD Controversy and Criticism, Significance: 85%, Average Score: -0.8\n",
      "Theme: Tesla Self-Driving Technology (FSD), Significance: 85%, Average Score: -0.42\n",
      "Theme: Tesla Full Self-Driving (FSD) Software Development and Capabilities, Significance: 80%, Average Score: -0.58\n",
      "Theme: Tesla FSD vs. Competitors, Significance: 85%, Average Score: -0.65\n",
      "Theme: Tesla FSD User Experience and Safety, Significance: 92%, Average Score: -0.75\n",
      "Theme: Tesla's Autopilot and FSD (Full Self-Driving) Issues, Significance: 80%, Average Score: -0.5\n",
      "Theme: FSD Safety Concerns and Issues, Significance: 80%, Average Score: -0.65\n",
      "Theme: Cost and Pricing of FSD, Significance: 80%, Average Score: -0.6\n",
      "Theme: Tesla Full Self-Driving (FSD) Beta, Significance: 80%, Average Score: -0.5\n",
      "Theme: Tesla Full Self-Driving (FSD) Technology, Significance: 80%, Average Score: -0.5\n",
      "Theme: Tesla Full Self-Driving (FSD) Capability and Limitations, Significance: 92%, Average Score: -0.43\n",
      "Theme: Tesla Full Self-Driving (FSD) Capabilities, Significance: 80%, Average Score: -0.4\n",
      "\n",
      "Negative Sentiments (Non-Bot Data):\n",
      "Theme: Cybertruck FSD (Full Self-Driving) Issues, Significance: 85%, Average Score: -0.4\n",
      "Theme: Cybertruck issues and problems, Significance: 85%, Average Score: -0.5\n",
      "Theme: FSAD Performance and Safety, Significance: 90%, Average Score: -0.7\n",
      "Theme: FSD Safety Concerns, Significance: 85%, Average Score: -0.8\n",
      "Theme: Tesla FSD and Stock Performance, Significance: 90%, Average Score: -0.85\n",
      "Theme: Tesla FSD as a Selling Point, Significance: 85%, Average Score: -0.7\n",
      "Theme: Elon Musk's Trustworthiness and Honesty, Significance: 85%, Average Score: -0.7\n",
      "Theme: Tesla Full Self-Driving (FSD) Issues, Significance: 85%, Average Score: -0.82\n",
      "Theme: Criticism and Safety Concerns regarding FSD, Significance: 90%, Average Score: -0.7\n"
     ]
    }
   ],
   "source": [
    "import json\n",
    "\n",
    "def load_json_file(file_path):\n",
    "    \"\"\"Load JSON file safely.\"\"\"\n",
    "    try:\n",
    "        with open(file_path, 'r', encoding='utf-8') as file:\n",
    "            return json.load(file)\n",
    "    except Exception as e:\n",
    "        print(f\"Error loading JSON file {file_path}: {e}\")\n",
    "        return []\n",
    "\n",
    "def extract_negative_sentiments(data, min_significance=80):\n",
    "    \"\"\"Extract all negative sentiments with significance above the threshold.\"\"\"\n",
    "    negative_sentiments = []\n",
    "\n",
    "    for item in data:\n",
    "        response = item.get('response')\n",
    "        if isinstance(response, str):\n",
    "            try:\n",
    "                response_data = json.loads(response)\n",
    "                themes = response_data.get('themes', [])\n",
    "\n",
    "                for theme in themes:\n",
    "                    significance = theme.get('significance', 0)\n",
    "                    if significance >= min_significance:\n",
    "                        theme_name = theme['theme']\n",
    "                        sentiment = theme.get('sentiment', {})\n",
    "                        average_score = sentiment.get('average_score', 0)\n",
    "\n",
    "                        # Check if sentiment is negative\n",
    "                        if average_score < 0:\n",
    "                            negative_sentiments.append({\n",
    "                                \"theme\": theme_name,\n",
    "                                \"significance\": significance,\n",
    "                                \"average_score\": average_score,\n",
    "                                \"subthemes\": theme.get('subthemes', [])\n",
    "                            })\n",
    "            except json.JSONDecodeError:\n",
    "                print(f\"Invalid JSON in response: {response}\")\n",
    "    \n",
    "    return negative_sentiments\n",
    "\n",
    "if __name__ == \"__main__\":\n",
    "    # Load bot and non-bot data\n",
    "    bot_data = load_json_file('tesla_0.json')  # Bot data\n",
    "    nonbot_data = load_json_file('tesla_1.json')  # Non-bot data\n",
    "\n",
    "    # Extract negative sentiments with significance above 80%\n",
    "    negative_bot_sentiments = extract_negative_sentiments(bot_data, min_significance=80)\n",
    "    negative_nonbot_sentiments = extract_negative_sentiments(nonbot_data, min_significance=85)\n",
    "\n",
    "    # Print the negative sentiments\n",
    "    print(\"Negative Sentiments (Bot Data):\")\n",
    "    for sentiment in negative_bot_sentiments:\n",
    "        print(f\"Theme: {sentiment['theme']}, Significance: {sentiment['significance']}%, Average Score: {sentiment['average_score']}\")\n",
    "\n",
    "    print(\"\\nNegative Sentiments (Non-Bot Data):\")\n",
    "    for sentiment in negative_nonbot_sentiments:\n",
    "        print(f\"Theme: {sentiment['theme']}, Significance: {sentiment['significance']}%, Average Score: {sentiment['average_score']}\")\n"
   ]
  }
 ],
 "metadata": {
  "kernelspec": {
   "display_name": "base",
   "language": "python",
   "name": "python3"
  },
  "language_info": {
   "codemirror_mode": {
    "name": "ipython",
    "version": 3
   },
   "file_extension": ".py",
   "mimetype": "text/x-python",
   "name": "python",
   "nbconvert_exporter": "python",
   "pygments_lexer": "ipython3",
   "version": "3.12.7"
  }
 },
 "nbformat": 4,
 "nbformat_minor": 2
}
