{
 "cells": [
  {
   "cell_type": "markdown",
   "metadata": {},
   "source": [
    "--------------------------------------------------------------------------------------------\n",
    "--------------------------------------------------------------------------------------------\n",
    "# 🚨 **USER SETUP - INPUT REQUIRED** 🚨\n",
    "\n",
    "## **User Input for the Search Keywords in Twitter Data Scraper** 🐦\n",
    "We import the `TwiKit` library, which will allow you to scrape tweets from Twitter based on specific keywords. You will need to input your wished search keywords + amount of tweets to customize this scraping process. \n",
    "\n",
    "You can modify these keywords to any terms of your choice, as they are not limited to the provided examples.\n",
    "\n",
    "- **Keywords**: We have included the following keywords as examples:\n",
    "  - 'Novo Nordisk' \n",
    "  - 'Ozempic'\n",
    "  - 'WeGovy' \n",
    "\n",
    "- Make sure to write the search keywords inside the [ ] and use '' around the words, seperate by , \n",
    "- **Example:** `['Novo Nordisk', 'Ozempic', 'WeGovy']` - customize in the code cell below\n",
    "\n",
    "- **Tweets per Keyword**: The script is set to collecting **20 tweets at a time** during each search. And as standard to retrieve **250 tweets** for each keyword you specify, you can change the amount of maximum tweets for each keywords, but please note the Usage limtations below. 📊 \n",
    "\n",
    "- **IMPORTANT: Usage limitations:** 🚨 The Twitter API has a limit of **50 requests per 15 minutes**. Since we fetch **20 tweets at a time**, you can retrieve a maximum of **1000 tweets** every 15 minutes. You should manage your requests accordingly to avoid hitting the rate limit. **The Rate Limit resets every 15 minutes**.\n",
    "\n",
    "## **Together API Key 🚀**: \n",
    "#### You must provide your **Together API Key** in the designated variable (`TOGETHER_API_KEY`). This key is essential for creating the Network Analysis later 🔑\n",
    "- Processing of 750 tweets costs aprox. 0.03 dollars in total (so you will have plenty of processings before running out!)\n",
    "\n",
    "### Get a free 5$ account here (no credit card required 💳 ❌): [Sign in to Together API](https://api.together.ai/signin)\n",
    "- **IMPORTANT: However - it is recommended to add your credit card to your account, since it will increase the rate limit per minut when processing through Together API from 60 to 600**\n",
    "\n",
    "--------------------------------------------------------------------------------------------\n",
    "--------------------------------------------------------------------------------------------"
   ]
  },
  {
   "cell_type": "code",
   "execution_count": null,
   "metadata": {},
   "outputs": [],
   "source": [
    "## Twitter Data Scrapper\n",
    "keywords = ['Novo Nordisk', 'Ozempic', 'WeGovy']\n",
    "tweets_per_keyword = 250\n",
    "\n",
    "# Set your Together API Key directly (Required)\n",
    "TOGETHER_API_KEY = \"\""
   ]
  },
  {
   "cell_type": "markdown",
   "metadata": {},
   "source": [
    "--------------------------------------------------------------------------------------------\n",
    "--------------------------------------------------------------------------------------------"
   ]
  },
  {
   "cell_type": "markdown",
   "metadata": {},
   "source": [
    "## Installation, Import Libraries + Data, Cleaning & Descriptive Statistics  📦"
   ]
  },
  {
   "cell_type": "markdown",
   "metadata": {},
   "source": [
    "### Install Requirements 🎛️"
   ]
  },
  {
   "cell_type": "code",
   "execution_count": 1,
   "metadata": {},
   "outputs": [],
   "source": [
    "!pip install -r requirements.txt -q"
   ]
  },
  {
   "cell_type": "markdown",
   "metadata": {},
   "source": [
    "### Importing Libraries 🔌"
   ]
  },
  {
   "cell_type": "code",
   "execution_count": null,
   "metadata": {},
   "outputs": [],
   "source": [
    "\n",
    "# Datahandling\n",
    "import requests\n",
    "import os\n",
    "os.environ[\"TOKENIZERS_PARALLELISM\"] = \"false\"\n",
    "import re\n",
    "import numpy as np\n",
    "import pandas as pd\n",
    "import seaborn as sns\n",
    "import contractions\n",
    "\n",
    "# Data Scrapper\n",
    "from selenium import webdriver\n",
    "from selenium.webdriver.chrome.options import Options\n",
    "from selenium.webdriver.common.by import By\n",
    "import time\n",
    "import nest_asyncio\n",
    "import asyncio\n",
    "from twikit import Client\n",
    "import logging\n",
    "from datetime import datetime\n",
    "from IPython.display import clear_output\n",
    "\n",
    "# Tweet Themes & EDA\n",
    "from sentence_transformers import SentenceTransformer\n",
    "import matplotlib.pyplot as plt\n",
    "import plotly.express as px\n",
    "import plotly.subplots as sp\n",
    "import nltk\n",
    "nltk.download('stopwords', quiet=True)\n",
    "from collections import Counter\n",
    "from wordcloud import WordCloud, STOPWORDS\n",
    "from scipy.stats import chi2_contingency\n",
    "from textblob import TextBlob\n",
    "\n",
    "# Model prediction\n",
    "from setfit import SetFitModel, SetFitTrainer\n",
    "from sklearn.metrics import classification_report\n",
    "import tqdm\n",
    "\n",
    "# LLM & Analysis\n",
    "import tiktoken\n",
    "from concurrent.futures import ThreadPoolExecutor\n",
    "from queue import Queue\n",
    "import threading\n",
    "from typing import List, Optional\n",
    "import json\n",
    "import matplotlib.patches as mpatches\n",
    "import networkx as nx\n",
    "from community import community_louvain\n",
    "import plotly.graph_objects as go\n",
    "import random\n",
    "from collections import defaultdict\n",
    "import nbformat\n",
    "from pydantic import BaseModel, Field\n",
    "from openai import OpenAI\n",
    "import textwrap\n"
   ]
  },
  {
   "cell_type": "markdown",
   "metadata": {},
   "source": [
    "### Data Import 📨"
   ]
  },
  {
   "cell_type": "code",
   "execution_count": 3,
   "metadata": {},
   "outputs": [],
   "source": [
    "# Data import: \n",
    "data = pd.read_csv('TwitterData_Joined.csv')"
   ]
  },
  {
   "cell_type": "markdown",
   "metadata": {},
   "source": [
    "### Data Overview 🌎"
   ]
  },
  {
   "cell_type": "code",
   "execution_count": 5,
   "metadata": {},
   "outputs": [
    {
     "data": {
      "text/html": [
       "<div>\n",
       "<style scoped>\n",
       "    .dataframe tbody tr th:only-of-type {\n",
       "        vertical-align: middle;\n",
       "    }\n",
       "\n",
       "    .dataframe tbody tr th {\n",
       "        vertical-align: top;\n",
       "    }\n",
       "\n",
       "    .dataframe thead th {\n",
       "        text-align: right;\n",
       "    }\n",
       "</style>\n",
       "<table border=\"1\" class=\"dataframe\">\n",
       "  <thead>\n",
       "    <tr style=\"text-align: right;\">\n",
       "      <th></th>\n",
       "      <th>Twitter_User_Name</th>\n",
       "      <th>Twitter_Account</th>\n",
       "      <th>Twitter_User_Description</th>\n",
       "      <th>Tweet_id</th>\n",
       "      <th>Tweet_created_at</th>\n",
       "      <th>Tweet_text</th>\n",
       "      <th>Label</th>\n",
       "      <th>Word_Count</th>\n",
       "      <th>Url_Count</th>\n",
       "      <th>Retweet</th>\n",
       "      <th>...</th>\n",
       "      <th>Adverb_Count</th>\n",
       "      <th>Positive_Word_Ratio</th>\n",
       "      <th>Negative_Word_Ratio</th>\n",
       "      <th>Neutral_Word_Ratio</th>\n",
       "      <th>Following</th>\n",
       "      <th>Followers</th>\n",
       "      <th>Verified</th>\n",
       "      <th>Link</th>\n",
       "      <th>Location</th>\n",
       "      <th>Real_Location</th>\n",
       "    </tr>\n",
       "  </thead>\n",
       "  <tbody>\n",
       "    <tr>\n",
       "      <th>0</th>\n",
       "      <td>Museum Bot</td>\n",
       "      <td>MuseumBot</td>\n",
       "      <td>I am a bot that tweets a random high-res Open ...</td>\n",
       "      <td>8.027580e+17</td>\n",
       "      <td>27-11-2016 06:15</td>\n",
       "      <td>Imperial Theatrical Coat for Court Lady https:...</td>\n",
       "      <td>0</td>\n",
       "      <td>8</td>\n",
       "      <td>2</td>\n",
       "      <td>0</td>\n",
       "      <td>...</td>\n",
       "      <td>0</td>\n",
       "      <td>0.000</td>\n",
       "      <td>0.0</td>\n",
       "      <td>1.000</td>\n",
       "      <td>0</td>\n",
       "      <td>7816</td>\n",
       "      <td>0</td>\n",
       "      <td>https://twitter.com/MuseumBot?s=20</td>\n",
       "      <td>NaN</td>\n",
       "      <td>-1.0</td>\n",
       "    </tr>\n",
       "    <tr>\n",
       "      <th>1</th>\n",
       "      <td>Museum Bot</td>\n",
       "      <td>MuseumBot</td>\n",
       "      <td>I am a bot that tweets a random high-res Open ...</td>\n",
       "      <td>8.746920e+17</td>\n",
       "      <td>13-06-2017 18:15</td>\n",
       "      <td>Half-length Figure of St Paul in an Oval. http...</td>\n",
       "      <td>0</td>\n",
       "      <td>10</td>\n",
       "      <td>2</td>\n",
       "      <td>0</td>\n",
       "      <td>...</td>\n",
       "      <td>0</td>\n",
       "      <td>0.000</td>\n",
       "      <td>0.0</td>\n",
       "      <td>1.000</td>\n",
       "      <td>0</td>\n",
       "      <td>7816</td>\n",
       "      <td>0</td>\n",
       "      <td>https://twitter.com/MuseumBot?s=20</td>\n",
       "      <td>NaN</td>\n",
       "      <td>-1.0</td>\n",
       "    </tr>\n",
       "    <tr>\n",
       "      <th>2</th>\n",
       "      <td>Museum Bot</td>\n",
       "      <td>MuseumBot</td>\n",
       "      <td>I am a bot that tweets a random high-res Open ...</td>\n",
       "      <td>6.983900e+17</td>\n",
       "      <td>13-02-2016 06:15</td>\n",
       "      <td>Great Exhibition Jurors&amp;amp;#39; Medal https:/...</td>\n",
       "      <td>0</td>\n",
       "      <td>6</td>\n",
       "      <td>2</td>\n",
       "      <td>0</td>\n",
       "      <td>...</td>\n",
       "      <td>0</td>\n",
       "      <td>0.125</td>\n",
       "      <td>0.0</td>\n",
       "      <td>0.875</td>\n",
       "      <td>0</td>\n",
       "      <td>7816</td>\n",
       "      <td>0</td>\n",
       "      <td>https://twitter.com/MuseumBot?s=20</td>\n",
       "      <td>NaN</td>\n",
       "      <td>-1.0</td>\n",
       "    </tr>\n",
       "    <tr>\n",
       "      <th>3</th>\n",
       "      <td>Museum Bot</td>\n",
       "      <td>MuseumBot</td>\n",
       "      <td>I am a bot that tweets a random high-res Open ...</td>\n",
       "      <td>6.976650e+17</td>\n",
       "      <td>11-02-2016 06:15</td>\n",
       "      <td>Pair of candelabra https://t.co/KYopSWDSw2 htt...</td>\n",
       "      <td>0</td>\n",
       "      <td>5</td>\n",
       "      <td>2</td>\n",
       "      <td>0</td>\n",
       "      <td>...</td>\n",
       "      <td>0</td>\n",
       "      <td>0.000</td>\n",
       "      <td>0.0</td>\n",
       "      <td>1.000</td>\n",
       "      <td>0</td>\n",
       "      <td>7816</td>\n",
       "      <td>0</td>\n",
       "      <td>https://twitter.com/MuseumBot?s=20</td>\n",
       "      <td>NaN</td>\n",
       "      <td>-1.0</td>\n",
       "    </tr>\n",
       "    <tr>\n",
       "      <th>4</th>\n",
       "      <td>Museum Bot</td>\n",
       "      <td>MuseumBot</td>\n",
       "      <td>I am a bot that tweets a random high-res Open ...</td>\n",
       "      <td>6.217450e+17</td>\n",
       "      <td>16-07-2015 18:15</td>\n",
       "      <td>Banner (Nobori)\\n http://t.co/yz34Xgo9a5 http:...</td>\n",
       "      <td>0</td>\n",
       "      <td>4</td>\n",
       "      <td>2</td>\n",
       "      <td>0</td>\n",
       "      <td>...</td>\n",
       "      <td>0</td>\n",
       "      <td>0.000</td>\n",
       "      <td>0.0</td>\n",
       "      <td>1.000</td>\n",
       "      <td>0</td>\n",
       "      <td>7816</td>\n",
       "      <td>0</td>\n",
       "      <td>https://twitter.com/MuseumBot?s=20</td>\n",
       "      <td>NaN</td>\n",
       "      <td>-1.0</td>\n",
       "    </tr>\n",
       "  </tbody>\n",
       "</table>\n",
       "<p>5 rows × 29 columns</p>\n",
       "</div>"
      ],
      "text/plain": [
       "  Twitter_User_Name Twitter_Account  \\\n",
       "0        Museum Bot       MuseumBot   \n",
       "1        Museum Bot       MuseumBot   \n",
       "2        Museum Bot       MuseumBot   \n",
       "3        Museum Bot       MuseumBot   \n",
       "4        Museum Bot       MuseumBot   \n",
       "\n",
       "                            Twitter_User_Description      Tweet_id  \\\n",
       "0  I am a bot that tweets a random high-res Open ...  8.027580e+17   \n",
       "1  I am a bot that tweets a random high-res Open ...  8.746920e+17   \n",
       "2  I am a bot that tweets a random high-res Open ...  6.983900e+17   \n",
       "3  I am a bot that tweets a random high-res Open ...  6.976650e+17   \n",
       "4  I am a bot that tweets a random high-res Open ...  6.217450e+17   \n",
       "\n",
       "   Tweet_created_at                                         Tweet_text  Label  \\\n",
       "0  27-11-2016 06:15  Imperial Theatrical Coat for Court Lady https:...      0   \n",
       "1  13-06-2017 18:15  Half-length Figure of St Paul in an Oval. http...      0   \n",
       "2  13-02-2016 06:15  Great Exhibition Jurors&amp;#39; Medal https:/...      0   \n",
       "3  11-02-2016 06:15  Pair of candelabra https://t.co/KYopSWDSw2 htt...      0   \n",
       "4  16-07-2015 18:15  Banner (Nobori)\\n http://t.co/yz34Xgo9a5 http:...      0   \n",
       "\n",
       "   Word_Count  Url_Count  Retweet  ... Adverb_Count  Positive_Word_Ratio  \\\n",
       "0           8          2        0  ...            0                0.000   \n",
       "1          10          2        0  ...            0                0.000   \n",
       "2           6          2        0  ...            0                0.125   \n",
       "3           5          2        0  ...            0                0.000   \n",
       "4           4          2        0  ...            0                0.000   \n",
       "\n",
       "   Negative_Word_Ratio  Neutral_Word_Ratio  Following  Followers  Verified  \\\n",
       "0                  0.0               1.000          0       7816         0   \n",
       "1                  0.0               1.000          0       7816         0   \n",
       "2                  0.0               0.875          0       7816         0   \n",
       "3                  0.0               1.000          0       7816         0   \n",
       "4                  0.0               1.000          0       7816         0   \n",
       "\n",
       "                                 Link  Location  Real_Location  \n",
       "0  https://twitter.com/MuseumBot?s=20       NaN           -1.0  \n",
       "1  https://twitter.com/MuseumBot?s=20       NaN           -1.0  \n",
       "2  https://twitter.com/MuseumBot?s=20       NaN           -1.0  \n",
       "3  https://twitter.com/MuseumBot?s=20       NaN           -1.0  \n",
       "4  https://twitter.com/MuseumBot?s=20       NaN           -1.0  \n",
       "\n",
       "[5 rows x 29 columns]"
      ]
     },
     "execution_count": 5,
     "metadata": {},
     "output_type": "execute_result"
    }
   ],
   "source": [
    "data.head()"
   ]
  },
  {
   "cell_type": "code",
   "execution_count": 6,
   "metadata": {},
   "outputs": [
    {
     "data": {
      "text/plain": [
       "(279691, 29)"
      ]
     },
     "execution_count": 6,
     "metadata": {},
     "output_type": "execute_result"
    }
   ],
   "source": [
    "data.shape"
   ]
  },
  {
   "cell_type": "code",
   "execution_count": 7,
   "metadata": {},
   "outputs": [
    {
     "name": "stdout",
     "output_type": "stream",
     "text": [
      "<class 'pandas.core.frame.DataFrame'>\n",
      "RangeIndex: 279691 entries, 0 to 279690\n",
      "Data columns (total 29 columns):\n",
      " #   Column                    Non-Null Count   Dtype  \n",
      "---  ------                    --------------   -----  \n",
      " 0   Twitter_User_Name         279691 non-null  object \n",
      " 1   Twitter_Account           279691 non-null  object \n",
      " 2   Twitter_User_Description  276027 non-null  object \n",
      " 3   Tweet_id                  279691 non-null  float64\n",
      " 4   Tweet_created_at          279691 non-null  object \n",
      " 5   Tweet_text                279691 non-null  object \n",
      " 6   Label                     279691 non-null  int64  \n",
      " 7   Word_Count                279691 non-null  int64  \n",
      " 8   Url_Count                 279691 non-null  int64  \n",
      " 9   Retweet                   279691 non-null  int64  \n",
      " 10  Original_User             58391 non-null   object \n",
      " 11  Mentions_Count            279691 non-null  int64  \n",
      " 12  Hashtags_Count            279691 non-null  int64  \n",
      " 13  QuesMark_Count            279691 non-null  int64  \n",
      " 14  Exclamations_Count        279691 non-null  int64  \n",
      " 15  SpecialCharacters_Count   279691 non-null  int64  \n",
      " 16  Nouns_Count               279691 non-null  int64  \n",
      " 17  Pronouns_Count            279691 non-null  int64  \n",
      " 18  Verb_Count                279691 non-null  int64  \n",
      " 19  Adverb_Count              279691 non-null  int64  \n",
      " 20  Positive_Word_Ratio       279691 non-null  float64\n",
      " 21  Negative_Word_Ratio       279691 non-null  float64\n",
      " 22  Neutral_Word_Ratio        279691 non-null  float64\n",
      " 23  Following                 279691 non-null  int64  \n",
      " 24  Followers                 279691 non-null  int64  \n",
      " 25  Verified                  279691 non-null  int64  \n",
      " 26  Link                      265125 non-null  object \n",
      " 27  Location                  168697 non-null  object \n",
      " 28  Real_Location             279691 non-null  float64\n",
      "dtypes: float64(5), int64(16), object(8)\n",
      "memory usage: 61.9+ MB\n"
     ]
    }
   ],
   "source": [
    "data.info()"
   ]
  },
  {
   "cell_type": "markdown",
   "metadata": {},
   "source": [
    "### Cleaning data (for now...) 🧹"
   ]
  },
  {
   "cell_type": "code",
   "execution_count": 8,
   "metadata": {},
   "outputs": [],
   "source": [
    "columns_to_fill = ['Twitter_User_Description', 'Link', 'Location', 'Original_User']\n",
    "\n",
    "data[columns_to_fill] = data[columns_to_fill].fillna(0)"
   ]
  },
  {
   "cell_type": "markdown",
   "metadata": {},
   "source": [
    "### Descriptive Statistics 📊"
   ]
  },
  {
   "cell_type": "code",
   "execution_count": null,
   "metadata": {},
   "outputs": [
    {
     "name": "stdout",
     "output_type": "stream",
     "text": [
      "\n",
      "Descriptive Statistics:\n"
     ]
    },
    {
     "data": {
      "text/html": [
       "<div>\n",
       "<style scoped>\n",
       "    .dataframe tbody tr th:only-of-type {\n",
       "        vertical-align: middle;\n",
       "    }\n",
       "\n",
       "    .dataframe tbody tr th {\n",
       "        vertical-align: top;\n",
       "    }\n",
       "\n",
       "    .dataframe thead th {\n",
       "        text-align: right;\n",
       "    }\n",
       "</style>\n",
       "<table border=\"1\" class=\"dataframe\">\n",
       "  <thead>\n",
       "    <tr style=\"text-align: right;\">\n",
       "      <th></th>\n",
       "      <th>Tweet_id</th>\n",
       "      <th>Label</th>\n",
       "      <th>Word_Count</th>\n",
       "      <th>Url_Count</th>\n",
       "      <th>Retweet</th>\n",
       "      <th>Mentions_Count</th>\n",
       "      <th>Hashtags_Count</th>\n",
       "      <th>QuesMark_Count</th>\n",
       "      <th>Exclamations_Count</th>\n",
       "      <th>SpecialCharacters_Count</th>\n",
       "      <th>...</th>\n",
       "      <th>Pronouns_Count</th>\n",
       "      <th>Verb_Count</th>\n",
       "      <th>Adverb_Count</th>\n",
       "      <th>Positive_Word_Ratio</th>\n",
       "      <th>Negative_Word_Ratio</th>\n",
       "      <th>Neutral_Word_Ratio</th>\n",
       "      <th>Following</th>\n",
       "      <th>Followers</th>\n",
       "      <th>Verified</th>\n",
       "      <th>Real_Location</th>\n",
       "    </tr>\n",
       "  </thead>\n",
       "  <tbody>\n",
       "    <tr>\n",
       "      <th>count</th>\n",
       "      <td>279691.00</td>\n",
       "      <td>279691.00</td>\n",
       "      <td>279691.00</td>\n",
       "      <td>279691.00</td>\n",
       "      <td>279691.00</td>\n",
       "      <td>279691.00</td>\n",
       "      <td>279691.00</td>\n",
       "      <td>279691.00</td>\n",
       "      <td>279691.00</td>\n",
       "      <td>279691.00</td>\n",
       "      <td>...</td>\n",
       "      <td>279691.00</td>\n",
       "      <td>279691.00</td>\n",
       "      <td>279691.00</td>\n",
       "      <td>279691.00</td>\n",
       "      <td>279691.00</td>\n",
       "      <td>279691.00</td>\n",
       "      <td>279691.00</td>\n",
       "      <td>279691.00</td>\n",
       "      <td>279691.00</td>\n",
       "      <td>279691.00</td>\n",
       "    </tr>\n",
       "    <tr>\n",
       "      <th>mean</th>\n",
       "      <td>790870432473705216.00</td>\n",
       "      <td>0.52</td>\n",
       "      <td>12.96</td>\n",
       "      <td>0.49</td>\n",
       "      <td>0.21</td>\n",
       "      <td>0.50</td>\n",
       "      <td>0.25</td>\n",
       "      <td>0.10</td>\n",
       "      <td>0.23</td>\n",
       "      <td>8.50</td>\n",
       "      <td>...</td>\n",
       "      <td>0.01</td>\n",
       "      <td>1.38</td>\n",
       "      <td>0.29</td>\n",
       "      <td>0.04</td>\n",
       "      <td>0.02</td>\n",
       "      <td>0.94</td>\n",
       "      <td>2131.42</td>\n",
       "      <td>1496164.02</td>\n",
       "      <td>0.10</td>\n",
       "      <td>0.00</td>\n",
       "    </tr>\n",
       "    <tr>\n",
       "      <th>std</th>\n",
       "      <td>275015878617909440.00</td>\n",
       "      <td>0.50</td>\n",
       "      <td>7.16</td>\n",
       "      <td>0.56</td>\n",
       "      <td>0.41</td>\n",
       "      <td>0.96</td>\n",
       "      <td>0.73</td>\n",
       "      <td>0.40</td>\n",
       "      <td>0.76</td>\n",
       "      <td>22.92</td>\n",
       "      <td>...</td>\n",
       "      <td>0.12</td>\n",
       "      <td>1.44</td>\n",
       "      <td>0.60</td>\n",
       "      <td>0.06</td>\n",
       "      <td>0.04</td>\n",
       "      <td>0.07</td>\n",
       "      <td>6731.25</td>\n",
       "      <td>5909723.58</td>\n",
       "      <td>0.44</td>\n",
       "      <td>0.90</td>\n",
       "    </tr>\n",
       "    <tr>\n",
       "      <th>min</th>\n",
       "      <td>12796523176.00</td>\n",
       "      <td>0.00</td>\n",
       "      <td>1.00</td>\n",
       "      <td>0.00</td>\n",
       "      <td>0.00</td>\n",
       "      <td>0.00</td>\n",
       "      <td>0.00</td>\n",
       "      <td>0.00</td>\n",
       "      <td>0.00</td>\n",
       "      <td>0.00</td>\n",
       "      <td>...</td>\n",
       "      <td>0.00</td>\n",
       "      <td>0.00</td>\n",
       "      <td>0.00</td>\n",
       "      <td>0.00</td>\n",
       "      <td>0.00</td>\n",
       "      <td>0.00</td>\n",
       "      <td>-1.00</td>\n",
       "      <td>-1.00</td>\n",
       "      <td>-1.00</td>\n",
       "      <td>-1.00</td>\n",
       "    </tr>\n",
       "    <tr>\n",
       "      <th>25%</th>\n",
       "      <td>619934000000000000.00</td>\n",
       "      <td>0.00</td>\n",
       "      <td>7.00</td>\n",
       "      <td>0.00</td>\n",
       "      <td>0.00</td>\n",
       "      <td>0.00</td>\n",
       "      <td>0.00</td>\n",
       "      <td>0.00</td>\n",
       "      <td>0.00</td>\n",
       "      <td>2.00</td>\n",
       "      <td>...</td>\n",
       "      <td>0.00</td>\n",
       "      <td>0.00</td>\n",
       "      <td>0.00</td>\n",
       "      <td>0.00</td>\n",
       "      <td>0.00</td>\n",
       "      <td>0.91</td>\n",
       "      <td>1.00</td>\n",
       "      <td>963.00</td>\n",
       "      <td>0.00</td>\n",
       "      <td>-1.00</td>\n",
       "    </tr>\n",
       "    <tr>\n",
       "      <th>50%</th>\n",
       "      <td>887113000000000000.00</td>\n",
       "      <td>1.00</td>\n",
       "      <td>13.00</td>\n",
       "      <td>0.00</td>\n",
       "      <td>0.00</td>\n",
       "      <td>0.00</td>\n",
       "      <td>0.00</td>\n",
       "      <td>0.00</td>\n",
       "      <td>0.00</td>\n",
       "      <td>4.00</td>\n",
       "      <td>...</td>\n",
       "      <td>0.00</td>\n",
       "      <td>1.00</td>\n",
       "      <td>0.00</td>\n",
       "      <td>0.00</td>\n",
       "      <td>0.00</td>\n",
       "      <td>0.96</td>\n",
       "      <td>62.00</td>\n",
       "      <td>5398.00</td>\n",
       "      <td>0.00</td>\n",
       "      <td>0.00</td>\n",
       "    </tr>\n",
       "    <tr>\n",
       "      <th>75%</th>\n",
       "      <td>1023220000000000000.00</td>\n",
       "      <td>1.00</td>\n",
       "      <td>19.00</td>\n",
       "      <td>1.00</td>\n",
       "      <td>0.00</td>\n",
       "      <td>1.00</td>\n",
       "      <td>0.00</td>\n",
       "      <td>0.00</td>\n",
       "      <td>0.00</td>\n",
       "      <td>8.00</td>\n",
       "      <td>...</td>\n",
       "      <td>0.00</td>\n",
       "      <td>2.00</td>\n",
       "      <td>0.00</td>\n",
       "      <td>0.06</td>\n",
       "      <td>0.00</td>\n",
       "      <td>1.00</td>\n",
       "      <td>1440.00</td>\n",
       "      <td>95110.00</td>\n",
       "      <td>0.00</td>\n",
       "      <td>1.00</td>\n",
       "    </tr>\n",
       "    <tr>\n",
       "      <th>max</th>\n",
       "      <td>1072710000000000000.00</td>\n",
       "      <td>1.00</td>\n",
       "      <td>62.00</td>\n",
       "      <td>4.00</td>\n",
       "      <td>1.00</td>\n",
       "      <td>13.00</td>\n",
       "      <td>14.00</td>\n",
       "      <td>49.00</td>\n",
       "      <td>37.00</td>\n",
       "      <td>414.00</td>\n",
       "      <td>...</td>\n",
       "      <td>3.00</td>\n",
       "      <td>14.00</td>\n",
       "      <td>14.00</td>\n",
       "      <td>1.00</td>\n",
       "      <td>1.00</td>\n",
       "      <td>1.00</td>\n",
       "      <td>55000.00</td>\n",
       "      <td>45200000.00</td>\n",
       "      <td>1.00</td>\n",
       "      <td>1.00</td>\n",
       "    </tr>\n",
       "  </tbody>\n",
       "</table>\n",
       "<p>8 rows × 21 columns</p>\n",
       "</div>"
      ],
      "text/plain": [
       "                    Tweet_id     Label  Word_Count  Url_Count   Retweet  \\\n",
       "count              279691.00 279691.00   279691.00  279691.00 279691.00   \n",
       "mean   790870432473705216.00      0.52       12.96       0.49      0.21   \n",
       "std    275015878617909440.00      0.50        7.16       0.56      0.41   \n",
       "min           12796523176.00      0.00        1.00       0.00      0.00   \n",
       "25%    619934000000000000.00      0.00        7.00       0.00      0.00   \n",
       "50%    887113000000000000.00      1.00       13.00       0.00      0.00   \n",
       "75%   1023220000000000000.00      1.00       19.00       1.00      0.00   \n",
       "max   1072710000000000000.00      1.00       62.00       4.00      1.00   \n",
       "\n",
       "       Mentions_Count  Hashtags_Count  QuesMark_Count  Exclamations_Count  \\\n",
       "count       279691.00       279691.00       279691.00           279691.00   \n",
       "mean             0.50            0.25            0.10                0.23   \n",
       "std              0.96            0.73            0.40                0.76   \n",
       "min              0.00            0.00            0.00                0.00   \n",
       "25%              0.00            0.00            0.00                0.00   \n",
       "50%              0.00            0.00            0.00                0.00   \n",
       "75%              1.00            0.00            0.00                0.00   \n",
       "max             13.00           14.00           49.00               37.00   \n",
       "\n",
       "       SpecialCharacters_Count  ...  Pronouns_Count  Verb_Count  Adverb_Count  \\\n",
       "count                279691.00  ...       279691.00   279691.00     279691.00   \n",
       "mean                      8.50  ...            0.01        1.38          0.29   \n",
       "std                      22.92  ...            0.12        1.44          0.60   \n",
       "min                       0.00  ...            0.00        0.00          0.00   \n",
       "25%                       2.00  ...            0.00        0.00          0.00   \n",
       "50%                       4.00  ...            0.00        1.00          0.00   \n",
       "75%                       8.00  ...            0.00        2.00          0.00   \n",
       "max                     414.00  ...            3.00       14.00         14.00   \n",
       "\n",
       "       Positive_Word_Ratio  Negative_Word_Ratio  Neutral_Word_Ratio  \\\n",
       "count            279691.00            279691.00           279691.00   \n",
       "mean                  0.04                 0.02                0.94   \n",
       "std                   0.06                 0.04                0.07   \n",
       "min                   0.00                 0.00                0.00   \n",
       "25%                   0.00                 0.00                0.91   \n",
       "50%                   0.00                 0.00                0.96   \n",
       "75%                   0.06                 0.00                1.00   \n",
       "max                   1.00                 1.00                1.00   \n",
       "\n",
       "       Following   Followers  Verified  Real_Location  \n",
       "count  279691.00   279691.00 279691.00      279691.00  \n",
       "mean     2131.42  1496164.02      0.10           0.00  \n",
       "std      6731.25  5909723.58      0.44           0.90  \n",
       "min        -1.00       -1.00     -1.00          -1.00  \n",
       "25%         1.00      963.00      0.00          -1.00  \n",
       "50%        62.00     5398.00      0.00           0.00  \n",
       "75%      1440.00    95110.00      0.00           1.00  \n",
       "max     55000.00 45200000.00      1.00           1.00  \n",
       "\n",
       "[8 rows x 21 columns]"
      ]
     },
     "execution_count": 9,
     "metadata": {},
     "output_type": "execute_result"
    }
   ],
   "source": [
    "# quantitive column filtering using dtypes\n",
    "quantitative_columns = data.select_dtypes(include=['int64', 'float64']).columns.tolist()\n",
    "# Format the describe output to show regular numbers\n",
    "desc_stats = data[quantitative_columns].describe()\n",
    "pd.set_option('display.float_format', lambda x: '%.2f' % x)\n",
    "print(\"\\nDescriptive Statistics:\")\n",
    "desc_stats"
   ]
  },
  {
   "cell_type": "markdown",
   "metadata": {},
   "source": [
    "## Data Scraper 🪠 (Opens a Chrome instance to fetch X/Twitter Cookies)"
   ]
  },
  {
   "cell_type": "markdown",
   "metadata": {},
   "source": [
    "### X/Twitter Cookie Saving... 🍪"
   ]
  },
  {
   "cell_type": "code",
   "execution_count": null,
   "metadata": {},
   "outputs": [],
   "source": [
    "class ManualTwitterCookieSaver:\n",
    "    def __init__(self, cookies_file='X_cookies.json'):\n",
    "        self.cookies_file = cookies_file\n",
    "        self.driver = None\n",
    "\n",
    "    def setup_chrome_driver(self):\n",
    "        \"\"\"Set up and start a Chrome browser.\"\"\"\n",
    "        chrome_options = Options()\n",
    "        chrome_options.add_argument(\"--no-sandbox\")\n",
    "        chrome_options.add_argument(\"--disable-dev-shm-usage\")\n",
    "        self.driver = webdriver.Chrome(options=chrome_options)\n",
    "        return self.driver\n",
    "\n",
    "    def wait_for_manual_login(self):\n",
    "        \"\"\"Wait until the user is logged in and on the homepage.\"\"\"\n",
    "        print(\"Log in manually to Twitter in the browser.\")\n",
    "        while True:\n",
    "            current_url = self.driver.current_url\n",
    "            if \"https://x.com/home\" in current_url:\n",
    "                print(\"Login detected! Saving cookies...\")\n",
    "                break\n",
    "            time.sleep(2)  # Check every 2 seconds\n",
    "\n",
    "    def save_cookies(self):\n",
    "        \"\"\"Save cookies to a JSON file.\"\"\"\n",
    "        try:\n",
    "            cookies = self.driver.get_cookies()\n",
    "            with open(self.cookies_file, 'w') as file:\n",
    "                json.dump(cookies, file, indent=4)\n",
    "            print(f\"Cookies saved in {self.cookies_file}\")\n",
    "        except Exception as e:\n",
    "            print(f\"Error saving cookies: {e}\")\n",
    "\n",
    "    def run(self):\n",
    "        \"\"\"Run the entire process.\"\"\"\n",
    "        try:\n",
    "            # start browser\n",
    "            self.setup_chrome_driver()\n",
    "            self.driver.get(\"https://x.com/i/flow/login\")\n",
    "\n",
    "            # wait until user logs in manually\n",
    "            self.wait_for_manual_login()\n",
    "\n",
    "            # save cookies\n",
    "            self.save_cookies()\n",
    "\n",
    "        except Exception as e:\n",
    "            print(f\"Error: {e}\")\n",
    "        finally:\n",
    "            if self.driver:\n",
    "                self.driver.quit()\n",
    "\n",
    "\n",
    "if __name__ == \"__main__\":\n",
    "    cookie_saver = ManualTwitterCookieSaver()\n",
    "    cookie_saver.run()\n"
   ]
  },
  {
   "cell_type": "markdown",
   "metadata": {},
   "source": [
    "### Data Scrapping from X/Twitter using saved cookies 🐥"
   ]
  },
  {
   "cell_type": "code",
   "execution_count": 11,
   "metadata": {},
   "outputs": [
    {
     "name": "stdout",
     "output_type": "stream",
     "text": [
      "\n",
      "Tweet dataframe (after removal of duplicates and only english tweets):\n",
      "                    id             Tweet_id                  User_name  \\\n",
      "0  1109532876310302721  1846608289884524977                      Camus   \n",
      "1  1608087913081839617  1864326521957077088  Dividend Talks on YouTube   \n",
      "2             69620713  1864606141218533863          Bloomberg Markets   \n",
      "3             35002876  1864388106331279713               Bloomberg TV   \n",
      "4  1160506639046328321  1864646933559824715                        PiQ   \n",
      "\n",
      "     Screen_name                                         Tweet_text Language  \\\n",
      "0  newstart_2024  Robert F. Kennedy Jr.: \"Today, over 100 member...       en   \n",
      "1  DividendTalks  8 Stocks With INSANE Gross Margins:\\n\\nTaiwan ...       en   \n",
      "2        markets  The Danish economy will expand faster next yea...       en   \n",
      "3    BloombergTV  Eli Lilly said its weight-loss drug Zepbound o...       en   \n",
      "4       PiQSuite  📈🇩🇰 Denmark lifts GDP outlook, fueled by Novo ...       en   \n",
      "\n",
      "  Hashtags                Created_at Search_keyword  \n",
      "0       [] 2024-10-16 17:44:59+00:00   Novo Nordisk  \n",
      "1       [] 2024-12-04 15:10:55+00:00   Novo Nordisk  \n",
      "2       [] 2024-12-05 09:42:01+00:00   Novo Nordisk  \n",
      "3       [] 2024-12-04 19:15:37+00:00   Novo Nordisk  \n",
      "4       [] 2024-12-05 12:24:07+00:00   Novo Nordisk  \n"
     ]
    }
   ],
   "source": [
    "# initializes asyncio to run in a jupyter or interactive session\n",
    "nest_asyncio.apply()\n",
    "\n",
    "# sets up logging\n",
    "logging.basicConfig(\n",
    "    level=logging.WARNING,  # only warnings\n",
    "    format='%(asctime)s - %(levelname)s: %(message)s'\n",
    ")\n",
    "logger = logging.getLogger(__name__)\n",
    "logging.getLogger(\"httpx\").setLevel(logging.WARNING)\n",
    "\n",
    "# cookies file\n",
    "COOKIES_FILE = 'X_cookies.json'\n",
    "\n",
    "# function to format cookies correctly for httpx\n",
    "def format_cookies_for_httpx(cookies):\n",
    "    return {cookie['name']: cookie['value'] for cookie in cookies}\n",
    "\n",
    "async def extract_tweet_data(tweets):\n",
    "    \"\"\"\n",
    "    extracts tweet data and creates a pandas dataframe\n",
    "    \n",
    "    args:\n",
    "        tweets (list): list of tweet objects from twikit\n",
    "    \n",
    "    returns:\n",
    "        pandas.dataframe: dataframe with tweet information\n",
    "    \"\"\"\n",
    "    tweet_data = []\n",
    "    \n",
    "    for tweet in tweets:\n",
    "        tweet_info = {\n",
    "            'id': tweet.user.id,\n",
    "            'Tweet_id': tweet.id,\n",
    "            'User_name': tweet.user.name,\n",
    "            'Screen_name': tweet.user.screen_name,\n",
    "            'Tweet_text': tweet.text,\n",
    "            'Language': tweet.lang,\n",
    "            'Hashtags': tweet.hashtags,\n",
    "            'Created_at': tweet.created_at_datetime,\n",
    "            'Search_keyword': keyword\n",
    "            \n",
    "        }\n",
    "        tweet_data.append(tweet_info)\n",
    "    \n",
    "    return pd.DataFrame(tweet_data)\n",
    "\n",
    "async def main():\n",
    "    try:\n",
    "        # initializes the client\n",
    "        client = Client(language='en-US')\n",
    "        logger.info(\"client initialized.\")\n",
    "        \n",
    "        # loads cookies from file\n",
    "        try:\n",
    "            with open(COOKIES_FILE, 'r', encoding='utf-8') as f:\n",
    "                cookies = json.load(f)\n",
    "            formatted_cookies = format_cookies_for_httpx(cookies)\n",
    "            client.set_cookies(formatted_cookies)\n",
    "            logger.info(\"cookies loaded and applied.\")\n",
    "        except Exception as e:\n",
    "            logger.error(f\"error loading cookies: {e}\")\n",
    "            return None\n",
    "\n",
    "        all_tweets = []\n",
    "\n",
    "        for keyword in keywords:\n",
    "            logger.info(f\"searching for tweets for '{keyword}'...\")\n",
    "            tweets = []\n",
    "            try:\n",
    "                # start with an initial search\n",
    "                results = await client.search_tweet(\n",
    "                    query=keyword,\n",
    "                    product='Top',\n",
    "                    count=20  # max number per request\n",
    "                )\n",
    "\n",
    "                # add initial tweets\n",
    "                tweets.extend(results)\n",
    "\n",
    "                # continue fetching until we reach the limit or run out of tweets\n",
    "                while len(tweets) < tweets_per_keyword and results.next_cursor:\n",
    "                    logger.info(f\"Total tweets fetched for keyword: '{keyword}': {len(tweets)} - Fetching more tweets...\")\n",
    "                    try:\n",
    "                        # fetch the next batch of tweets\n",
    "                        results = await results.next()\n",
    "\n",
    "                        # add tweets from the next batch\n",
    "                        tweets.extend(results)\n",
    "\n",
    "                        # pause to avoid rate limits\n",
    "                        await asyncio.sleep(0.5)\n",
    "                    except Exception as next_error:\n",
    "                        logger.warning(f\"error fetching more tweets: {next_error}\")\n",
    "                        break\n",
    "\n",
    "                # log the result for the specific keyword\n",
    "                logger.info(f\"found {len(tweets)} tweets for '{keyword}'.\")\n",
    "\n",
    "                # add tweet data to all_tweets\n",
    "                for tweet in tweets:\n",
    "                    all_tweets.append({\n",
    "                        'id': tweet.user.id,\n",
    "                        'Tweet_id': tweet.id,\n",
    "                        'User_name': tweet.user.name,\n",
    "                        'Screen_name': tweet.user.screen_name,\n",
    "                        'Tweet_text': tweet.text,\n",
    "                        'Language': tweet.lang,\n",
    "                        'Hashtags': tweet.hashtags,\n",
    "                        'Created_at': tweet.created_at_datetime,\n",
    "                        'Search_keyword': keyword\n",
    "                    })\n",
    "            except Exception as e:\n",
    "                logger.error(f\"Error during search for '{keyword}': {e}\")\n",
    "                continue\n",
    "\n",
    "        # convert to dataframe and remove duplicates\n",
    "        clear_output(wait=True)\n",
    "        all_tweets_df = pd.DataFrame(all_tweets)\n",
    "        logger.info(f\"Total tweets fetched (Before cleaning): {len(all_tweets_df)}\")\n",
    "        logger.info(f\"DATA CLEANING... 🧹 :Removing Non-english tweets + tweet duplicates!\")\n",
    "        all_tweets_df.drop_duplicates(subset=['Tweet_id'], inplace=True)\n",
    "\n",
    "        # filter dataframe to include only rows where language is english\n",
    "        filtered_tweets_df = all_tweets_df[all_tweets_df['Language'] == 'en']\n",
    "\n",
    "        # if you want to save the filtered dataframe to a new variable or overwrite the existing one\n",
    "        all_tweets_df = filtered_tweets_df\n",
    "        logger.info(f\"Total tweets fetched (after cleaning non-english tweets + duplicate removal): {len(all_tweets_df)}\")\n",
    "        \n",
    "        # save results to file\n",
    "        output_file = 'scraped_novo_twitterdata.csv'\n",
    "        all_tweets_df.to_csv(output_file, index=False, encoding='utf-8')\n",
    "        logger.info(f\"Tweets saved in {output_file}\")\n",
    "\n",
    "        return all_tweets_df\n",
    "\n",
    "    except Exception as e:\n",
    "        logger.error(f\"general error: {e}\")\n",
    "        return None\n",
    "\n",
    "# run the asynchronous function\n",
    "scraped_data = asyncio.run(main())\n",
    "\n",
    "# display dataframe (if it has been created)\n",
    "if scraped_data is not None:\n",
    "    print(\"\\nTweet dataframe (after removal of duplicates and only english tweets):\")\n",
    "    print(scraped_data.head())\n"
   ]
  },
  {
   "cell_type": "markdown",
   "metadata": {},
   "source": [
    "## SetFit Bot Classifier"
   ]
  },
  {
   "cell_type": "markdown",
   "metadata": {},
   "source": [
    "#### Cleaning keyword scraped dataset for bot classifier 🧹"
   ]
  },
  {
   "cell_type": "code",
   "execution_count": null,
   "metadata": {},
   "outputs": [],
   "source": [
    "scraped_data.head()"
   ]
  },
  {
   "cell_type": "code",
   "execution_count": null,
   "metadata": {},
   "outputs": [],
   "source": [
    "def normalize_text(text):\n",
    "    # Expand contractions like \"can't\" to \"cannot\"\n",
    "    text = contractions.fix(text)\n",
    "    return text\n",
    "\n",
    "def clean_text(text):\n",
    "    # Remove URLs\n",
    "    text = re.sub(r'http\\S+|www.\\S+', '', text)\n",
    "    # Remove mentions (@username)\n",
    "    text = re.sub(r'@\\w+', '', text)\n",
    "    # Remove hashtags (but keep the text)\n",
    "    text = re.sub(r'#', '', text)\n",
    "    # Remove emojis and special characters\n",
    "    text = re.sub(r'[^\\w\\s]', '', text)\n",
    "    # Convert to lowercase\n",
    "    text = text.lower()\n",
    "    # Normalize the text (expand contractions)\n",
    "    text = normalize_text(text)\n",
    "    return text\n",
    "\n",
    "# Data Cleaning\n",
    "scraped_data['Tweet_text'] = scraped_data['Tweet_text'].apply(clean_text)  # custom cleaning function\n",
    "scraped_data.dropna(subset=['Tweet_text'], inplace=True)"
   ]
  },
  {
   "cell_type": "code",
   "execution_count": null,
   "metadata": {},
   "outputs": [],
   "source": [
    "# Load the saved model\n",
    "loaded_model = SetFitModel.from_pretrained(\"setfit_model\")\n",
    "\n",
    "# prepare data for prediction\n",
    "X_test = scraped_data['Tweet_text'].tolist()  # from scraped text data\n",
    "\n",
    "# create predictions..\n",
    "print(\"Create predictions...\")\n",
    "y_pred = loaded_model.predict(X_test)\n",
    "\n",
    "# add predictions to scraped_data DataFrame & save as new dataframe (data_labeled)\n",
    "scraped_data['Label'] = y_pred\n",
    "data_labeled = scraped_data\n",
    "\n",
    "# Print examples\n",
    "print(\"\\nExamples of predictions:\")\n",
    "print(data_labeled[['Tweet_text', 'Label']].head())\n",
    "\n",
    "# save predictions to CSV\n",
    "data_labeled.to_csv('scraped_novo_with_setfit_predictions.csv', index=False)"
   ]
  },
  {
   "cell_type": "markdown",
   "metadata": {},
   "source": [
    "## Data Visualization of Training Data (EDA) 🪄"
   ]
  },
  {
   "cell_type": "code",
   "execution_count": null,
   "metadata": {},
   "outputs": [],
   "source": [
    "data.isna().sum()\n"
   ]
  },
  {
   "cell_type": "code",
   "execution_count": null,
   "metadata": {},
   "outputs": [],
   "source": [
    "bot_count = len(data[data[\"Label\"] == 0])\n",
    "non_bot_count = len(data[data[\"Label\"] == 1])\n",
    "\n",
    "print(f\"Number of rows where Label=0 (bot): {bot_count}\")\n",
    "print(f\"Number of rows where Label=1 (non-bot): {non_bot_count}\")"
   ]
  },
  {
   "cell_type": "code",
   "execution_count": null,
   "metadata": {},
   "outputs": [],
   "source": [
    "import pandas as pd\n",
    "import matplotlib.pyplot as plt\n",
    "from wordcloud import WordCloud, STOPWORDS\n",
    "# Ensure DataFrame is created correctly\n",
    "df = pd.DataFrame(data)  # Assuming 'data' is your DataFrame\n",
    "# Convert descriptions to string\n",
    "df['Twitter_User_Description'] = df['Twitter_User_Description'].astype(str)\n",
    "# Group descriptions by account and keep only unique ones\n",
    "unique_descriptions = df.groupby('Twitter_User_Name')['Twitter_User_Description'].unique().apply(lambda x: ' '.join(x))\n",
    "# Separate bot and human accounts\n",
    "bot_accounts = df[df['Label'] == 0]['Twitter_User_Name']\n",
    "human_accounts = df[df['Label'] == 1]['Twitter_User_Name']\n",
    "# Get descriptions for bot and human accounts\n",
    "bot_descriptions = unique_descriptions[bot_accounts].drop_duplicates()\n",
    "human_descriptions = unique_descriptions[human_accounts].drop_duplicates()\n",
    "# Convert descriptions to text for word cloud generation\n",
    "bot_text = \" \".join(bot_descriptions)\n",
    "human_text = \" \".join(human_descriptions)\n",
    "# Create custom stopwords (optional)\n",
    "custom_stopwords = set(STOPWORDS)\n",
    "custom_stopwords.update(['https', 'http', 'www', 'com'])\n",
    "# Generate word clouds\n",
    "bot_wordcloud = WordCloud(\n",
    "    width=800, \n",
    "    height=400, \n",
    "    background_color='white', \n",
    "    stopwords=custom_stopwords, \n",
    "    max_words=50\n",
    ").generate(bot_text)\n",
    "human_wordcloud = WordCloud(\n",
    "    width=800, \n",
    "    height=400, \n",
    "    background_color='white', \n",
    "    stopwords=custom_stopwords, \n",
    "    max_words=50\n",
    ").generate(human_text)\n",
    "# Plot word clouds\n",
    "plt.figure(figsize=(15, 8))\n",
    "plt.subplot(1, 2, 1)\n",
    "plt.imshow(bot_wordcloud, interpolation='bilinear')\n",
    "plt.title('Bot Account Descriptions')\n",
    "plt.axis('off')\n",
    "plt.subplot(1, 2, 2)\n",
    "plt.imshow(human_wordcloud, interpolation='bilinear')\n",
    "plt.title('Human Account Descriptions')\n",
    "plt.axis('off')\n",
    "plt.tight_layout()\n",
    "plt.show()"
   ]
  },
  {
   "cell_type": "code",
   "execution_count": null,
   "metadata": {},
   "outputs": [],
   "source": [
    "# Group the data by 'Label' (bot vs non-bot) and calculate the average word count\n",
    "average_word_count = data.groupby('Label')['Word_Count'].mean()\n",
    "\n",
    "# Plot the result using a bar chart\n",
    "plt.figure(figsize=(8, 6))\n",
    "average_word_count.plot(kind='bar', color=['red', 'green'])\n",
    "\n",
    "# Customize the plot\n",
    "plt.title('Average Word Count: Bots vs Non-Bots')\n",
    "plt.xlabel('Label (0 = Bot, 1 = Non-Bot)')\n",
    "plt.ylabel('Average Word Count')\n",
    "plt.xticks([0, 1], ['Bot', 'Non-Bot'], rotation=0)\n",
    "plt.tight_layout()\n",
    "\n",
    "# Show the plot\n",
    "plt.show()\n"
   ]
  },
  {
   "cell_type": "code",
   "execution_count": null,
   "metadata": {},
   "outputs": [],
   "source": [
    "# Function to calculate sentiment polarity\n",
    "def calculate_sentiment_polarity(text):\n",
    "    if pd.notna(text):  # Check if text is not NaN\n",
    "        return TextBlob(text).sentiment.polarity\n",
    "    return None\n",
    "\n",
    "# Add a new column for sentiment polarity\n",
    "data['Sentiment_Polarity'] = data['Tweet_text'].apply(calculate_sentiment_polarity)\n",
    "\n",
    "# Calculate average sentiment by label\n",
    "average_sentiment = data.groupby('Label')['Sentiment_Polarity'].mean()\n",
    "\n",
    "# Plot the result using a bar chart\n",
    "plt.figure(figsize=(8, 6))\n",
    "average_sentiment.plot(kind='bar', color=['red', 'green'])\n",
    "\n",
    "# Customize the plot\n",
    "plt.title('Average Sentiment Polarity: Bots vs Non-Bots')\n",
    "plt.xlabel('Label (0 = Bot, 1 = Non-Bot)')\n",
    "plt.ylabel('Average Sentiment Polarity')\n",
    "plt.xticks([0, 1], ['Bot', 'Non-Bot'], rotation=0)\n",
    "plt.tight_layout()\n",
    "plt.show()\n"
   ]
  },
  {
   "cell_type": "markdown",
   "metadata": {},
   "source": [
    "## Data Visualization of Scraped Data (EDA) 🪄"
   ]
  },
  {
   "cell_type": "code",
   "execution_count": 16,
   "metadata": {},
   "outputs": [
    {
     "name": "stdout",
     "output_type": "stream",
     "text": [
      "DataFrame Overview:\n",
      "--------------------------------------------------\n",
      "\n",
      "1. DataFrame Shape:\n",
      "Total Rows: 540\n",
      "Total Columns: 12\n",
      "\n",
      "2. Column Information:\n",
      "<class 'pandas.core.frame.DataFrame'>\n",
      "RangeIndex: 540 entries, 0 to 539\n",
      "Data columns (total 12 columns):\n",
      " #   Column          Non-Null Count  Dtype \n",
      "---  ------          --------------  ----- \n",
      " 0   id              540 non-null    int64 \n",
      " 1   Tweet_id        540 non-null    int64 \n",
      " 2   User_name       540 non-null    object\n",
      " 3   Screen_name     540 non-null    object\n",
      " 4   Tweet_text      540 non-null    object\n",
      " 5   Language        540 non-null    object\n",
      " 6   Hashtags        540 non-null    object\n",
      " 7   Created_at      540 non-null    object\n",
      " 8   Search_keyword  540 non-null    object\n",
      " 9   Label           540 non-null    int64 \n",
      " 10  Text_Length     540 non-null    int64 \n",
      " 11  Word_Count      540 non-null    int64 \n",
      "dtypes: int64(5), object(7)\n",
      "memory usage: 50.8+ KB\n",
      "None\n",
      "\n",
      "3. Missing Values:\n",
      "id                0\n",
      "Tweet_id          0\n",
      "User_name         0\n",
      "Screen_name       0\n",
      "Tweet_text        0\n",
      "Language          0\n",
      "Hashtags          0\n",
      "Created_at        0\n",
      "Search_keyword    0\n",
      "Label             0\n",
      "Text_Length       0\n",
      "Word_Count        0\n",
      "dtype: int64\n",
      "\n",
      "4. Basic Statistics for Numeric Columns:\n",
      "                 id      Tweet_id       Label  Text_Length  Word_Count\n",
      "count  5.400000e+02  5.400000e+02  540.000000   540.000000  540.000000\n",
      "mean   5.414528e+17  1.845911e+18    0.379630   154.131481   25.805556\n",
      "std    6.834197e+17  7.497312e+16    0.485745    78.863609   13.525938\n",
      "min    6.244130e+05  8.259490e+17    0.000000    15.000000    3.000000\n",
      "25%    2.724266e+07  1.861467e+18    0.000000    83.000000   13.000000\n",
      "50%    1.344545e+09  1.862973e+18    0.000000   145.000000   25.000000\n",
      "75%    1.278092e+18  1.864282e+18    1.000000   232.000000   37.000000\n",
      "max    1.850953e+18  1.864784e+18    1.000000   280.000000   56.000000\n",
      "--------------------------------------------------\n"
     ]
    }
   ],
   "source": [
    "def dataframe_overview(data):\n",
    "    \"\"\"\n",
    "    Provides an overview of the dataset, including shape, column information, missing values,\n",
    "    and basic descriptive statistics for numeric columns.\n",
    "    \"\"\"\n",
    "    print(\"DataFrame Overview:\")\n",
    "    print(\"-\" * 50)\n",
    "    \n",
    "    # DataFrame Shape\n",
    "    print(\"\\n1. DataFrame Shape:\")\n",
    "    print(f\"Total Rows: {data.shape[0]}\")\n",
    "    print(f\"Total Columns: {data.shape[1]}\")\n",
    "    \n",
    "    # Column Information\n",
    "    print(\"\\n2. Column Information:\")\n",
    "    print(data.info())\n",
    "    \n",
    "    # Missing Values\n",
    "    print(\"\\n3. Missing Values:\")\n",
    "    print(data.isnull().sum())\n",
    "    \n",
    "    # Descriptive Statistics for Numeric Columns\n",
    "    print(\"\\n4. Basic Statistics for Numeric Columns:\")\n",
    "    print(data.describe())\n",
    "    print(\"-\" * 50)\n",
    "\n",
    "\n",
    "# Execute DataFrame Overview\n",
    "dataframe_overview(data_labeled)\n"
   ]
  },
  {
   "cell_type": "code",
   "execution_count": 15,
   "metadata": {},
   "outputs": [
    {
     "data": {
      "image/png": "[encoded data removed]",
      "text/plain": [
       "<Figure size 800x600 with 1 Axes>"
      ]
     },
     "metadata": {},
     "output_type": "display_data"
    },
    {
     "name": "stdout",
     "output_type": "stream",
     "text": [
      "\n",
      "Dataset Composition:\n",
      "Label\n",
      "0    0.62037\n",
      "1    0.37963\n",
      "Name: proportion, dtype: float64\n"
     ]
    },
    {
     "data": {
      "image/png": "[encoded data removed]",
      "text/plain": [
       "<Figure size 1000x600 with 1 Axes>"
      ]
     },
     "metadata": {},
     "output_type": "display_data"
    },
    {
     "name": "stdout",
     "output_type": "stream",
     "text": [
      "\n",
      "Word Count Statistics:\n",
      "       count       mean        std  min   25%   50%   75%   max\n",
      "Label                                                          \n",
      "0      335.0  21.907463  12.789888  3.0  12.0  19.0  32.0  56.0\n",
      "1      205.0  32.175610  12.240578  4.0  25.0  33.0  42.0  55.0\n"
     ]
    }
   ],
   "source": [
    "def detect_label_column(data):\n",
    "    possible_columns = ['label', 'Label', 'Predicted_Label', 'bot_label']\n",
    "    for col in possible_columns:\n",
    "        if col in data.columns:\n",
    "            return col\n",
    "    raise ValueError(\"No label column found in the dataset\")\n",
    "\n",
    "\n",
    "def bot_eda(data):\n",
    "    # Dynamically detect the label column\n",
    "    label_column = detect_label_column(data)\n",
    "    \n",
    "    # 1. Dataset Composition\n",
    "    def dataset_composition():\n",
    "        plt.figure(figsize=(8, 6))\n",
    "        label_counts = data[label_column].value_counts()\n",
    "        plt.pie(label_counts, labels=['Bot', 'Non-Bot'], autopct='%1.1f%%')\n",
    "        plt.title('Dataset Composition')\n",
    "        plt.show()\n",
    "        \n",
    "        print(\"\\nDataset Composition:\")\n",
    "        print(data[label_column].value_counts(normalize=True))\n",
    "    \n",
    "    # 2. Text Analysis\n",
    "    def text_analysis():\n",
    "        # Calculate word counts\n",
    "        data['Word_Count'] = data['Tweet_text'].str.split().str.len()\n",
    "        \n",
    "        plt.figure(figsize=(10, 6))\n",
    "        # Group by label and calculate mean and standard error\n",
    "        word_count_summary = data.groupby(label_column)['Word_Count'].agg(['mean', 'sem'])\n",
    "        \n",
    "        plt.bar(word_count_summary.index.map({0: 'Bot', 1: 'Non-Bot'}), \n",
    "                word_count_summary['mean'], \n",
    "                yerr=word_count_summary['sem'], \n",
    "                capsize=10,\n",
    "                color=['blue', 'green'])\n",
    "        \n",
    "        plt.title('Average Tweet Word Count by Bot Status')\n",
    "        plt.xlabel('Bot Status')\n",
    "        plt.ylabel('Average Word Count')\n",
    "        plt.tight_layout()\n",
    "        plt.show()\n",
    "        \n",
    "        # Descriptive statistics of word count\n",
    "        print(\"\\nWord Count Statistics:\")\n",
    "        print(data.groupby(label_column)['Word_Count'].describe())\n",
    "    \n",
    "    # Run all analyses\n",
    "    dataset_composition()\n",
    "    text_analysis()\n",
    "\n",
    "\n",
    "# Execute EDA\n",
    "bot_eda(data_labeled)\n"
   ]
  },
  {
   "cell_type": "code",
   "execution_count": 17,
   "metadata": {},
   "outputs": [
    {
     "data": {
      "image/png": "[encoded data removed]",
      "text/plain": [
       "<Figure size 1500x800 with 2 Axes>"
      ]
     },
     "metadata": {},
     "output_type": "display_data"
    }
   ],
   "source": [
    "# Group tweets by account and keep only unique ones\n",
    "unique_tweets = data_labeled.groupby('User_name')['Tweet_text'].unique().apply(lambda x: ' '.join(x))\n",
    "\n",
    "# Separate bot and human accounts\n",
    "bot_accounts = data_labeled[data_labeled['Label'] == 0]['User_name']\n",
    "human_accounts = data_labeled[data_labeled['Label'] == 1]['User_name']\n",
    "\n",
    "# Get tweets for bot and human accounts\n",
    "bot_tweets = unique_tweets[bot_accounts].drop_duplicates()\n",
    "human_tweets = unique_tweets[human_accounts].drop_duplicates()\n",
    "\n",
    "# Convert tweets to text for word cloud generation\n",
    "bot_text = \" \".join(bot_tweets)\n",
    "human_text = \" \".join(human_tweets)\n",
    "\n",
    "# Create custom stopwords (optional)\n",
    "custom_stopwords = set(STOPWORDS)\n",
    "custom_stopwords.update(['https', 'http', 'www', 'com'])\n",
    "\n",
    "# Generate word clouds\n",
    "bot_wordcloud = WordCloud(\n",
    "    width=800, \n",
    "    height=400, \n",
    "    background_color='white', \n",
    "    stopwords=custom_stopwords, \n",
    "    max_words=50\n",
    ").generate(bot_text)\n",
    "\n",
    "human_wordcloud = WordCloud(\n",
    "    width=800, \n",
    "    height=400, \n",
    "    background_color='white', \n",
    "    stopwords=custom_stopwords, \n",
    "    max_words=50\n",
    ").generate(human_text)\n",
    "\n",
    "# Plot word clouds\n",
    "plt.figure(figsize=(15, 8))\n",
    "plt.subplot(1, 2, 1)\n",
    "plt.imshow(bot_wordcloud, interpolation='bilinear')\n",
    "plt.title('Bot Account Tweets')\n",
    "plt.axis('off')\n",
    "\n",
    "plt.subplot(1, 2, 2)\n",
    "plt.imshow(human_wordcloud, interpolation='bilinear')\n",
    "plt.title('Human Account Tweets')\n",
    "plt.axis('off')\n",
    "\n",
    "plt.tight_layout()\n",
    "plt.show()"
   ]
  },
  {
   "cell_type": "code",
   "execution_count": 3,
   "metadata": {},
   "outputs": [
    {
     "data": {
      "image/png": "[encoded data removed]",
      "text/plain": [
       "<Figure size 800x600 with 1 Axes>"
      ]
     },
     "metadata": {},
     "output_type": "display_data"
    }
   ],
   "source": [
    "# Import the dataframe\n",
    "df = pd.read_csv('scraped_novo_with_setfit_predictions.csv')\n",
    "\n",
    "# Function to calculate sentiment polarity\n",
    "def calculate_sentiment_polarity(text):\n",
    "    if pd.notna(text):  # Check if text is not NaN\n",
    "        return TextBlob(text).sentiment.polarity\n",
    "    return None\n",
    "\n",
    "# Add a new column for sentiment polarity\n",
    "df['Sentiment_Polarity'] = df['Tweet_text'].apply(calculate_sentiment_polarity)\n",
    "\n",
    "# Calculate average sentiment by label\n",
    "average_sentiment = df.groupby('Label')['Sentiment_Polarity'].mean()\n",
    "\n",
    "# Plot the result using a bar chart\n",
    "plt.figure(figsize=(8, 6))\n",
    "average_sentiment.plot(kind='bar', color=['red', 'green'])\n",
    "\n",
    "# Customize the plot\n",
    "plt.title('Average Sentiment Polarity: Bots vs Non-Bots')\n",
    "plt.xlabel('Label (0 = Bot, 1 = Non-Bot)')\n",
    "plt.ylabel('Average Sentiment Polarity')\n",
    "plt.xticks([0, 1], ['Bot', 'Non-Bot'], rotation=0)\n",
    "plt.tight_layout()\n",
    "plt.show()"
   ]
  },
  {
   "cell_type": "code",
   "execution_count": 17,
   "metadata": {},
   "outputs": [
    {
     "name": "stdout",
     "output_type": "stream",
     "text": [
      "Top 10 Users Analysis:\n",
      "--------------------------------------------------\n",
      "\n",
      "Top 10 Users by Tweet Count:\n",
      "Screen_name\n",
      "Reuters            12\n",
      "Forbes              8\n",
      "WSJ                 8\n",
      "Reuters_Health      6\n",
      "JosephPolitano      6\n",
      "FortuneMagazine     5\n",
      "Quality_stocksA     5\n",
      "CBSNews             5\n",
      "business            5\n",
      "USATODAY            5\n",
      "Name: count, dtype: int64\n",
      "--------------------------------------------------\n",
      "\n",
      "Generating Visualization...\n"
     ]
    },
    {
     "data": {
      "application/vnd.plotly.v1+json": {
       "config": {
        "plotlyServerURL": "https://plot.ly"
       },
       "data": [
        {
         "alignmentgroup": "True",
         "hovertemplate": "User=%{x}<br>Number of Tweets=%{y}<br>color=%{marker.color}<extra></extra>",
         "legendgroup": "",
         "marker": {
          "color": [
           12,
           8,
           8,
           6,
           6,
           5,
           5,
           5,
           5,
           5
          ],
          "coloraxis": "coloraxis",
          "pattern": {
           "shape": ""
          }
         },
         "name": "",
         "offsetgroup": "",
         "orientation": "v",
         "showlegend": false,
         "textposition": "auto",
         "type": "bar",
         "x": [
          "Reuters",
          "Forbes",
          "WSJ",
          "Reuters_Health",
          "JosephPolitano",
          "FortuneMagazine",
          "Quality_stocksA",
          "CBSNews",
          "business",
          "USATODAY"
         ],
         "xaxis": "x",
         "y": [
          12,
          8,
          8,
          6,
          6,
          5,
          5,
          5,
          5,
          5
         ],
         "yaxis": "y"
        }
       ],
       "layout": {
        "barmode": "relative",
        "coloraxis": {
         "colorbar": {
          "title": {
           "text": "color"
          }
         },
         "colorscale": [
          [
           0,
           "#440154"
          ],
          [
           0.1111111111111111,
           "#482878"
          ],
          [
           0.2222222222222222,
           "#3e4989"
          ],
          [
           0.3333333333333333,
           "#31688e"
          ],
          [
           0.4444444444444444,
           "#26828e"
          ],
          [
           0.5555555555555556,
           "#1f9e89"
          ],
          [
           0.6666666666666666,
           "#35b779"
          ],
          [
           0.7777777777777778,
           "#6ece58"
          ],
          [
           0.8888888888888888,
           "#b5de2b"
          ],
          [
           1,
           "#fde725"
          ]
         ]
        },
        "legend": {
         "tracegroupgap": 0
        },
        "template": {
         "data": {
          "bar": [
           {
            "error_x": {
             "color": "#2a3f5f"
            },
            "error_y": {
             "color": "#2a3f5f"
            },
            "marker": {
             "line": {
              "color": "#E5ECF6",
              "width": 0.5
             },
             "pattern": {
              "fillmode": "overlay",
              "size": 10,
              "solidity": 0.2
             }
            },
            "type": "bar"
           }
          ],
          "barpolar": [
           {
            "marker": {
             "line": {
              "color": "#E5ECF6",
              "width": 0.5
             },
             "pattern": {
              "fillmode": "overlay",
              "size": 10,
              "solidity": 0.2
             }
            },
            "type": "barpolar"
           }
          ],
          "carpet": [
           {
            "aaxis": {
             "endlinecolor": "#2a3f5f",
             "gridcolor": "white",
             "linecolor": "white",
             "minorgridcolor": "white",
             "startlinecolor": "#2a3f5f"
            },
            "baxis": {
             "endlinecolor": "#2a3f5f",
             "gridcolor": "white",
             "linecolor": "white",
             "minorgridcolor": "white",
             "startlinecolor": "#2a3f5f"
            },
            "type": "carpet"
           }
          ],
          "choropleth": [
           {
            "colorbar": {
             "outlinewidth": 0,
             "ticks": ""
            },
            "type": "choropleth"
           }
          ],
          "contour": [
           {
            "colorbar": {
             "outlinewidth": 0,
             "ticks": ""
            },
            "colorscale": [
             [
              0,
              "#0d0887"
             ],
             [
              0.1111111111111111,
              "#46039f"
             ],
             [
              0.2222222222222222,
              "#7201a8"
             ],
             [
              0.3333333333333333,
              "#9c179e"
             ],
             [
              0.4444444444444444,
              "#bd3786"
             ],
             [
              0.5555555555555556,
              "#d8576b"
             ],
             [
              0.6666666666666666,
              "#ed7953"
             ],
             [
              0.7777777777777778,
              "#fb9f3a"
             ],
             [
              0.8888888888888888,
              "#fdca26"
             ],
             [
              1,
              "#f0f921"
             ]
            ],
            "type": "contour"
           }
          ],
          "contourcarpet": [
           {
            "colorbar": {
             "outlinewidth": 0,
             "ticks": ""
            },
            "type": "contourcarpet"
           }
          ],
          "heatmap": [
           {
            "colorbar": {
             "outlinewidth": 0,
             "ticks": ""
            },
            "colorscale": [
             [
              0,
              "#0d0887"
             ],
             [
              0.1111111111111111,
              "#46039f"
             ],
             [
              0.2222222222222222,
              "#7201a8"
             ],
             [
              0.3333333333333333,
              "#9c179e"
             ],
             [
              0.4444444444444444,
              "#bd3786"
             ],
             [
              0.5555555555555556,
              "#d8576b"
             ],
             [
              0.6666666666666666,
              "#ed7953"
             ],
             [
              0.7777777777777778,
              "#fb9f3a"
             ],
             [
              0.8888888888888888,
              "#fdca26"
             ],
             [
              1,
              "#f0f921"
             ]
            ],
            "type": "heatmap"
           }
          ],
          "heatmapgl": [
           {
            "colorbar": {
             "outlinewidth": 0,
             "ticks": ""
            },
            "colorscale": [
             [
              0,
              "#0d0887"
             ],
             [
              0.1111111111111111,
              "#46039f"
             ],
             [
              0.2222222222222222,
              "#7201a8"
             ],
             [
              0.3333333333333333,
              "#9c179e"
             ],
             [
              0.4444444444444444,
              "#bd3786"
             ],
             [
              0.5555555555555556,
              "#d8576b"
             ],
             [
              0.6666666666666666,
              "#ed7953"
             ],
             [
              0.7777777777777778,
              "#fb9f3a"
             ],
             [
              0.8888888888888888,
              "#fdca26"
             ],
             [
              1,
              "#f0f921"
             ]
            ],
            "type": "heatmapgl"
           }
          ],
          "histogram": [
           {
            "marker": {
             "pattern": {
              "fillmode": "overlay",
              "size": 10,
              "solidity": 0.2
             }
            },
            "type": "histogram"
           }
          ],
          "histogram2d": [
           {
            "colorbar": {
             "outlinewidth": 0,
             "ticks": ""
            },
            "colorscale": [
             [
              0,
              "#0d0887"
             ],
             [
              0.1111111111111111,
              "#46039f"
             ],
             [
              0.2222222222222222,
              "#7201a8"
             ],
             [
              0.3333333333333333,
              "#9c179e"
             ],
             [
              0.4444444444444444,
              "#bd3786"
             ],
             [
              0.5555555555555556,
              "#d8576b"
             ],
             [
              0.6666666666666666,
              "#ed7953"
             ],
             [
              0.7777777777777778,
              "#fb9f3a"
             ],
             [
              0.8888888888888888,
              "#fdca26"
             ],
             [
              1,
              "#f0f921"
             ]
            ],
            "type": "histogram2d"
           }
          ],
          "histogram2dcontour": [
           {
            "colorbar": {
             "outlinewidth": 0,
             "ticks": ""
            },
            "colorscale": [
             [
              0,
              "#0d0887"
             ],
             [
              0.1111111111111111,
              "#46039f"
             ],
             [
              0.2222222222222222,
              "#7201a8"
             ],
             [
              0.3333333333333333,
              "#9c179e"
             ],
             [
              0.4444444444444444,
              "#bd3786"
             ],
             [
              0.5555555555555556,
              "#d8576b"
             ],
             [
              0.6666666666666666,
              "#ed7953"
             ],
             [
              0.7777777777777778,
              "#fb9f3a"
             ],
             [
              0.8888888888888888,
              "#fdca26"
             ],
             [
              1,
              "#f0f921"
             ]
            ],
            "type": "histogram2dcontour"
           }
          ],
          "mesh3d": [
           {
            "colorbar": {
             "outlinewidth": 0,
             "ticks": ""
            },
            "type": "mesh3d"
           }
          ],
          "parcoords": [
           {
            "line": {
             "colorbar": {
              "outlinewidth": 0,
              "ticks": ""
             }
            },
            "type": "parcoords"
           }
          ],
          "pie": [
           {
            "automargin": true,
            "type": "pie"
           }
          ],
          "scatter": [
           {
            "fillpattern": {
             "fillmode": "overlay",
             "size": 10,
             "solidity": 0.2
            },
            "type": "scatter"
           }
          ],
          "scatter3d": [
           {
            "line": {
             "colorbar": {
              "outlinewidth": 0,
              "ticks": ""
             }
            },
            "marker": {
             "colorbar": {
              "outlinewidth": 0,
              "ticks": ""
             }
            },
            "type": "scatter3d"
           }
          ],
          "scattercarpet": [
           {
            "marker": {
             "colorbar": {
              "outlinewidth": 0,
              "ticks": ""
             }
            },
            "type": "scattercarpet"
           }
          ],
          "scattergeo": [
           {
            "marker": {
             "colorbar": {
              "outlinewidth": 0,
              "ticks": ""
             }
            },
            "type": "scattergeo"
           }
          ],
          "scattergl": [
           {
            "marker": {
             "colorbar": {
              "outlinewidth": 0,
              "ticks": ""
             }
            },
            "type": "scattergl"
           }
          ],
          "scattermapbox": [
           {
            "marker": {
             "colorbar": {
              "outlinewidth": 0,
              "ticks": ""
             }
            },
            "type": "scattermapbox"
           }
          ],
          "scatterpolar": [
           {
            "marker": {
             "colorbar": {
              "outlinewidth": 0,
              "ticks": ""
             }
            },
            "type": "scatterpolar"
           }
          ],
          "scatterpolargl": [
           {
            "marker": {
             "colorbar": {
              "outlinewidth": 0,
              "ticks": ""
             }
            },
            "type": "scatterpolargl"
           }
          ],
          "scatterternary": [
           {
            "marker": {
             "colorbar": {
              "outlinewidth": 0,
              "ticks": ""
             }
            },
            "type": "scatterternary"
           }
          ],
          "surface": [
           {
            "colorbar": {
             "outlinewidth": 0,
             "ticks": ""
            },
            "colorscale": [
             [
              0,
              "#0d0887"
             ],
             [
              0.1111111111111111,
              "#46039f"
             ],
             [
              0.2222222222222222,
              "#7201a8"
             ],
             [
              0.3333333333333333,
              "#9c179e"
             ],
             [
              0.4444444444444444,
              "#bd3786"
             ],
             [
              0.5555555555555556,
              "#d8576b"
             ],
             [
              0.6666666666666666,
              "#ed7953"
             ],
             [
              0.7777777777777778,
              "#fb9f3a"
             ],
             [
              0.8888888888888888,
              "#fdca26"
             ],
             [
              1,
              "#f0f921"
             ]
            ],
            "type": "surface"
           }
          ],
          "table": [
           {
            "cells": {
             "fill": {
              "color": "#EBF0F8"
             },
             "line": {
              "color": "white"
             }
            },
            "header": {
             "fill": {
              "color": "#C8D4E3"
             },
             "line": {
              "color": "white"
             }
            },
            "type": "table"
           }
          ]
         },
         "layout": {
          "annotationdefaults": {
           "arrowcolor": "#2a3f5f",
           "arrowhead": 0,
           "arrowwidth": 1
          },
          "autotypenumbers": "strict",
          "coloraxis": {
           "colorbar": {
            "outlinewidth": 0,
            "ticks": ""
           }
          },
          "colorscale": {
           "diverging": [
            [
             0,
             "#8e0152"
            ],
            [
             0.1,
             "#c51b7d"
            ],
            [
             0.2,
             "#de77ae"
            ],
            [
             0.3,
             "#f1b6da"
            ],
            [
             0.4,
             "#fde0ef"
            ],
            [
             0.5,
             "#f7f7f7"
            ],
            [
             0.6,
             "#e6f5d0"
            ],
            [
             0.7,
             "#b8e186"
            ],
            [
             0.8,
             "#7fbc41"
            ],
            [
             0.9,
             "#4d9221"
            ],
            [
             1,
             "#276419"
            ]
           ],
           "sequential": [
            [
             0,
             "#0d0887"
            ],
            [
             0.1111111111111111,
             "#46039f"
            ],
            [
             0.2222222222222222,
             "#7201a8"
            ],
            [
             0.3333333333333333,
             "#9c179e"
            ],
            [
             0.4444444444444444,
             "#bd3786"
            ],
            [
             0.5555555555555556,
             "#d8576b"
            ],
            [
             0.6666666666666666,
             "#ed7953"
            ],
            [
             0.7777777777777778,
             "#fb9f3a"
            ],
            [
             0.8888888888888888,
             "#fdca26"
            ],
            [
             1,
             "#f0f921"
            ]
           ],
           "sequentialminus": [
            [
             0,
             "#0d0887"
            ],
            [
             0.1111111111111111,
             "#46039f"
            ],
            [
             0.2222222222222222,
             "#7201a8"
            ],
            [
             0.3333333333333333,
             "#9c179e"
            ],
            [
             0.4444444444444444,
             "#bd3786"
            ],
            [
             0.5555555555555556,
             "#d8576b"
            ],
            [
             0.6666666666666666,
             "#ed7953"
            ],
            [
             0.7777777777777778,
             "#fb9f3a"
            ],
            [
             0.8888888888888888,
             "#fdca26"
            ],
            [
             1,
             "#f0f921"
            ]
           ]
          },
          "colorway": [
           "#636efa",
           "#EF553B",
           "#00cc96",
           "#ab63fa",
           "#FFA15A",
           "#19d3f3",
           "#FF6692",
           "#B6E880",
           "#FF97FF",
           "#FECB52"
          ],
          "font": {
           "color": "#2a3f5f"
          },
          "geo": {
           "bgcolor": "white",
           "lakecolor": "white",
           "landcolor": "#E5ECF6",
           "showlakes": true,
           "showland": true,
           "subunitcolor": "white"
          },
          "hoverlabel": {
           "align": "left"
          },
          "hovermode": "closest",
          "mapbox": {
           "style": "light"
          },
          "paper_bgcolor": "white",
          "plot_bgcolor": "#E5ECF6",
          "polar": {
           "angularaxis": {
            "gridcolor": "white",
            "linecolor": "white",
            "ticks": ""
           },
           "bgcolor": "#E5ECF6",
           "radialaxis": {
            "gridcolor": "white",
            "linecolor": "white",
            "ticks": ""
           }
          },
          "scene": {
           "xaxis": {
            "backgroundcolor": "#E5ECF6",
            "gridcolor": "white",
            "gridwidth": 2,
            "linecolor": "white",
            "showbackground": true,
            "ticks": "",
            "zerolinecolor": "white"
           },
           "yaxis": {
            "backgroundcolor": "#E5ECF6",
            "gridcolor": "white",
            "gridwidth": 2,
            "linecolor": "white",
            "showbackground": true,
            "ticks": "",
            "zerolinecolor": "white"
           },
           "zaxis": {
            "backgroundcolor": "#E5ECF6",
            "gridcolor": "white",
            "gridwidth": 2,
            "linecolor": "white",
            "showbackground": true,
            "ticks": "",
            "zerolinecolor": "white"
           }
          },
          "shapedefaults": {
           "line": {
            "color": "#2a3f5f"
           }
          },
          "ternary": {
           "aaxis": {
            "gridcolor": "white",
            "linecolor": "white",
            "ticks": ""
           },
           "baxis": {
            "gridcolor": "white",
            "linecolor": "white",
            "ticks": ""
           },
           "bgcolor": "#E5ECF6",
           "caxis": {
            "gridcolor": "white",
            "linecolor": "white",
            "ticks": ""
           }
          },
          "title": {
           "x": 0.05
          },
          "xaxis": {
           "automargin": true,
           "gridcolor": "white",
           "linecolor": "white",
           "ticks": "",
           "title": {
            "standoff": 15
           },
           "zerolinecolor": "white",
           "zerolinewidth": 2
          },
          "yaxis": {
           "automargin": true,
           "gridcolor": "white",
           "linecolor": "white",
           "ticks": "",
           "title": {
            "standoff": 15
           },
           "zerolinecolor": "white",
           "zerolinewidth": 2
          }
         }
        },
        "title": {
         "text": "Top 10 Users by Tweet Count"
        },
        "xaxis": {
         "anchor": "y",
         "domain": [
          0,
          1
         ],
         "title": {
          "text": "User"
         }
        },
        "yaxis": {
         "anchor": "x",
         "domain": [
          0,
          1
         ],
         "title": {
          "text": "Number of Tweets"
         }
        }
       }
      }
     },
     "metadata": {},
     "output_type": "display_data"
    }
   ],
   "source": [
    "\n",
    "def top_10_users_analysis(data):\n",
    "    \"\"\"\n",
    "    Analyzes the top 10 users based on tweet count and visualizes the results.\n",
    "    \"\"\"\n",
    "    print(\"Top 10 Users Analysis:\")\n",
    "    print(\"-\" * 50)\n",
    "    \n",
    "    # Identify Top 10 Users\n",
    "    top_users = data['Screen_name'].value_counts().head(10)\n",
    "    \n",
    "    # Print the Top 10 Users\n",
    "    print(\"\\nTop 10 Users by Tweet Count:\")\n",
    "    print(top_users)\n",
    "    print(\"-\" * 50)\n",
    "    \n",
    "    # Visualization: Bar Chart\n",
    "    print(\"\\nGenerating Visualization...\")\n",
    "    fig = px.bar(\n",
    "        x=top_users.index, \n",
    "        y=top_users.values, \n",
    "        title='Top 10 Users by Tweet Count',\n",
    "        labels={'x': 'User', 'y': 'Number of Tweets'},\n",
    "        color=top_users.values,  # Optional: Color bar by tweet count\n",
    "        color_continuous_scale='Viridis'  # Optional: Color scale\n",
    "    )\n",
    "    fig.show()\n",
    "\n",
    "\n",
    "# Execute Top 10 Users Analysis\n",
    "top_10_users_analysis(data_labeled)\n"
   ]
  },
  {
   "cell_type": "markdown",
   "metadata": {},
   "source": [
    "## Network Analysis 🧮 📊"
   ]
  },
  {
   "cell_type": "markdown",
   "metadata": {},
   "source": [
    "### LLM Setup 🎛️ "
   ]
  },
  {
   "cell_type": "code",
   "execution_count": 18,
   "metadata": {},
   "outputs": [],
   "source": [
    "# Check if the API key is set\n",
    "if not TOGETHER_API_KEY:\n",
    "    raise ValueError(\"The Together API Key must be provided.\")\n",
    "\n",
    "# Initialize the Together client\n",
    "client = OpenAI(\n",
    "    base_url=\"https://api.together.xyz/v1\",\n",
    "    api_key=TOGETHER_API_KEY\n",
    ")\n",
    "\n",
    "# Define the model\n",
    "model = \"meta-llama/Meta-Llama-3.1-8B-Instruct-Turbo\""
   ]
  },
  {
   "cell_type": "markdown",
   "metadata": {},
   "source": [
    "#### Prompts 💬"
   ]
  },
  {
   "cell_type": "code",
   "execution_count": 19,
   "metadata": {},
   "outputs": [],
   "source": [
    "SYSTEM_PROMPT = \"\"\"\n",
    "System Prompt:\n",
    "\n",
    "You are an advanced NLP assistant tasked with analyzing tweets about a company. Each tweet is labeled as being from either a bot (0) or a human (1). Your goals are to identify themes, assess sentiment, extract keywords, and assign significance scores. Follow these steps:\n",
    "\n",
    "Theme Identification:\n",
    "\n",
    "- Group tweets into 5-15 overall themes or mentions about the company. Themes represent key topics, issues, or narratives surrounding the company.\n",
    "- For each theme, provide subthemes or keywords that explain why the theme was chosen. These keywords should summarize the driving factors behind the theme.\n",
    "\n",
    "Sentiment Analysis:\n",
    "\n",
    "- Perform sentiment analysis for each tweet and aggregate these sentiments to determine the overall sentiment for each theme (positive, neutral, or negative).\n",
    "- Provide an average sentiment score (-1 to +1 scale) for each theme.\n",
    "\n",
    "Theme Significance:\n",
    "\n",
    "- Assign a significance score (1-100) for each theme based on how many tweets contribute to it, and other relevant metrics (e.g., impact of subthemes, relevance to overall narrative).\n",
    "\n",
    "Output Structure:\n",
    "\n",
    "For each theme, provide:\n",
    "- Theme title.\n",
    "- Sentiment summary (positive/negative/neutral, average sentiment score).\n",
    "- Subthemes/keywords explaining the causation of the theme.\n",
    "- Significance score.\n",
    "\n",
    "\n",
    "Consideration:\n",
    "\n",
    "- Focus on human-labeled tweets (1) for primary analysis but note any notable patterns from bot-labeled tweets (0).\n",
    "- Highlight anomalies or unexpected findings, if any.\n",
    "\"\"\"\n"
   ]
  },
  {
   "cell_type": "code",
   "execution_count": 20,
   "metadata": {},
   "outputs": [],
   "source": [
    "json_schema = {\n",
    "    \"type\": \"object\",\n",
    "    \"properties\": {\n",
    "        \"themes\": {\n",
    "            \"type\": \"array\",\n",
    "            \"items\": {\n",
    "                \"type\": \"object\",\n",
    "                \"properties\": {\n",
    "                    \"theme\": {\n",
    "                        \"type\": \"string\",\n",
    "                        \"description\": \"Title of the overall theme\"\n",
    "                    },\n",
    "                    \"sentiment\": {\n",
    "                        \"type\": \"object\",\n",
    "                        \"properties\": {\n",
    "                            \"overall\": {\n",
    "                                \"type\": \"string\",\n",
    "                                \"enum\": [\"positive\", \"neutral\", \"negative\"],\n",
    "                                \"description\": \"Overall sentiment of the theme\"\n",
    "                            },\n",
    "                            \"average_score\": {\n",
    "                                \"type\": \"number\",\n",
    "                                \"minimum\": -1,\n",
    "                                \"maximum\": 1,\n",
    "                                \"description\": \"Average sentiment score of the theme\"\n",
    "                            }\n",
    "                        },\n",
    "                        \"required\": [\"overall\", \"average_score\"]\n",
    "                    },\n",
    "                    \"subthemes\": {\n",
    "                        \"type\": \"array\",\n",
    "                        \"items\": {\n",
    "                            \"type\": \"string\"\n",
    "                        },\n",
    "                        \"description\": \"List of keywords or subthemes driving the main theme\"\n",
    "                    },\n",
    "                    \"significance\": {\n",
    "                        \"type\": \"integer\",\n",
    "                        \"minimum\": 1,\n",
    "                        \"maximum\": 100,\n",
    "                        \"description\": \"Significance score of the theme\"\n",
    "                    }\n",
    "                },\n",
    "                \"required\": [\"theme\", \"sentiment\", \"subthemes\", \"significance\"]\n",
    "            }\n",
    "        }\n",
    "    },\n",
    "    \"required\": [\"themes\"]\n",
    "}\n"
   ]
  },
  {
   "cell_type": "code",
   "execution_count": 21,
   "metadata": {},
   "outputs": [
    {
     "name": "stderr",
     "output_type": "stream",
     "text": [
      "/Users/hedegaard/Downloads/content/setfit_model/.conda/lib/python3.12/site-packages/pydantic/fields.py:1032: PydanticDeprecatedSince20:\n",
      "\n",
      "Using extra keyword arguments on `Field` is deprecated and will be removed. Use `json_schema_extra` instead. (Extra keys: 'enum'). Deprecated in Pydantic V2.0 to be removed in V3.0. See Pydantic V2 Migration Guide at https://errors.pydantic.dev/2.10/migration/\n",
      "\n",
      "/Users/hedegaard/Downloads/content/setfit_model/.conda/lib/python3.12/site-packages/pydantic/fields.py:1001: PydanticDeprecatedSince20:\n",
      "\n",
      "`min_items` is deprecated and will be removed, use `min_length` instead. Deprecated in Pydantic V2.0 to be removed in V3.0. See Pydantic V2 Migration Guide at https://errors.pydantic.dev/2.10/migration/\n",
      "\n"
     ]
    }
   ],
   "source": [
    "class Sentiment(BaseModel):\n",
    "    overall: str = Field(\n",
    "        description=\"Overall sentiment of the theme\",\n",
    "        enum=[\"positive\", \"neutral\", \"negative\"]\n",
    "    )\n",
    "    average_score: float = Field(\n",
    "        description=\"Average sentiment score of the theme\",\n",
    "        ge=-1,\n",
    "        le=1\n",
    "    )\n",
    "\n",
    "class Theme(BaseModel):\n",
    "    theme: str = Field(description=\"Title of the overall theme\")\n",
    "    sentiment: Sentiment = Field(description=\"Sentiment of the theme\")\n",
    "    subthemes: List[str] = Field(\n",
    "        description=\"List of keywords or subthemes driving the main theme\"\n",
    "    )\n",
    "    significance: int = Field(\n",
    "        description=\"Significance score of the theme\",\n",
    "        ge=1,\n",
    "        le=100\n",
    "    )\n",
    "\n",
    "class TweetAnalysis(BaseModel):\n",
    "    themes: List[Theme] = Field(\n",
    "        description=\"List of identified overall themes\",\n",
    "        min_items=1\n",
    "    )\n",
    "\n",
    "# Dynamically generate the JSON schema\n",
    "json_schema = TweetAnalysis.model_json_schema()"
   ]
  },
  {
   "cell_type": "markdown",
   "metadata": {},
   "source": [
    "### LLM-processing (TogetherAPI - Runtime: Aprox. <=2min) 🤖 🦾"
   ]
  },
  {
   "cell_type": "code",
   "execution_count": 22,
   "metadata": {},
   "outputs": [
    {
     "name": "stdout",
     "output_type": "stream",
     "text": [
      "Data labeled as 'bots' (label=0): 205 rows\n",
      "Data labeled as 'human'(label=1): 335 rows\n",
      "Results saved in novo_bots_llm_processed.json\n",
      "Results saved in novo_humans_llm_processed.json\n"
     ]
    }
   ],
   "source": [
    "# Split Labeled data of humans & bots (`label` column)\n",
    "\n",
    "data_label_bots = data_labeled[data_labeled['Label'] == 0]  # Subset where label=0\n",
    "data_label_humans = data_labeled[data_labeled['Label'] == 1]  # Subset where label=1\n",
    "\n",
    "# checking the sizes of the splits\n",
    "print(f\"Data labeled as 'bots' (label=0): {len(data_label_humans)} rows\")\n",
    "print(f\"Data labeled as 'human'(label=1): {len(data_label_bots)} rows\")\n",
    "\n",
    "# define LLM functions\n",
    "def rate_limited_executor(max_calls_per_minute=100):\n",
    "    \"\"\"Rate-limited executor for API calls.\"\"\"\n",
    "    call_queue = Queue()\n",
    "\n",
    "    def worker():\n",
    "        while True:\n",
    "            func, args, kwargs, result_queue = call_queue.get()\n",
    "            try:\n",
    "                result_queue.put(func(*args, **kwargs))\n",
    "            except Exception as e:\n",
    "                result_queue.put(e)\n",
    "            call_queue.task_done()\n",
    "            time.sleep(60 / max_calls_per_minute)\n",
    "\n",
    "    for _ in range(max_calls_per_minute):\n",
    "        threading.Thread(target=worker, daemon=True).start()\n",
    "\n",
    "    def submit(func, *args, **kwargs):\n",
    "        result_queue = Queue()\n",
    "        call_queue.put((func, args, kwargs, result_queue))\n",
    "        result = result_queue.get()\n",
    "        if isinstance(result, Exception):\n",
    "            raise result\n",
    "        return result\n",
    "\n",
    "    return submit\n",
    "\n",
    "def process_batch(tweets, executor, model, schema, batch_size):\n",
    "    \"\"\"Process one batch of tweets.\"\"\"\n",
    "    messages = [\n",
    "        {'role': 'system', 'content': SYSTEM_PROMPT},\n",
    "        {'role': 'user', 'content': json.dumps(tweets)}\n",
    "    ]\n",
    "    try:\n",
    "        response = executor(\n",
    "            client.chat.completions.create,\n",
    "            model=model,\n",
    "            messages=messages,\n",
    "            temperature=0.7,\n",
    "            response_format={\"type\": \"json_object\", \"schema\": schema},\n",
    "            max_tokens=8192\n",
    "        )\n",
    "        return {\n",
    "            'batch_size': len(tweets),\n",
    "            'response': response.choices[0].message.content\n",
    "        }\n",
    "    except Exception as e:\n",
    "        return {\n",
    "            'batch_size': len(tweets),\n",
    "            'error': str(e)\n",
    "        }\n",
    "\n",
    "\n",
    "\n",
    "\n",
    "def parallel_process_tweets(data, batch_size, max_workers, model, schema):\n",
    "    \"\"\"Parallel processing of tweets with rate-limiting.\"\"\"\n",
    "    executor = rate_limited_executor(max_calls_per_minute=60)\n",
    "    results = []\n",
    "\n",
    "\n",
    "\n",
    "\n",
    "    def process_and_collect(batch):\n",
    "        tweets = batch['Tweet_text'].tolist()\n",
    "        return process_batch(tweets, executor, model, schema, batch_size)\n",
    "\n",
    "\n",
    "\n",
    "\n",
    "    with ThreadPoolExecutor(max_workers=max_workers) as pool:\n",
    "        batches = [data.iloc[i:i + batch_size] for i in range(0, len(data), batch_size)]\n",
    "        futures = [pool.submit(process_and_collect, batch) for batch in batches]\n",
    "        for future in futures:\n",
    "            results.append(future.result())\n",
    "\n",
    "\n",
    "\n",
    "\n",
    "    return pd.DataFrame(results)\n",
    "\n",
    "\n",
    "\n",
    "\n",
    "def save_results(data, filename):\n",
    "    \"\"\"Save data to JSON file.\"\"\"\n",
    "    try:\n",
    "        with open(filename, 'w', encoding='utf-8') as f:\n",
    "            json.dump(data, f, ensure_ascii=False, indent=4)\n",
    "        print(f\"Results saved in {filename}\")\n",
    "    except Exception as e:\n",
    "        print(f\"Error during saving: {e}\")\n",
    "\n",
    "\n",
    "###### RUN BOT FILTERED LLM & SAVE ######\n",
    "\n",
    "# llm processing of data with bots only\n",
    "processed_tweets = parallel_process_tweets(\n",
    "    data=data_label_bots,  # data (bots only)\n",
    "    batch_size=10,      # Batch size\n",
    "    max_workers=6,     # Number of parallel threads\n",
    "    model=model,        # Your model variable\n",
    "    schema=json_schema  # Your JSON schema variable\n",
    ")\n",
    "\n",
    "# save the results to novo_bots.json (bot)\n",
    "save_results(processed_tweets.to_dict(orient=\"records\"), \"novo_bots_llm_processed.json\")\n",
    "\n",
    "###### RUN HUMAN FILTERED LLM & SAVE ######\n",
    "\n",
    "# llm processing of data with humans only\n",
    "processed_tweets = parallel_process_tweets(\n",
    "    data=data_label_humans,  # data (humans only)\n",
    "    batch_size=10,      # Batch size\n",
    "    max_workers=6,     # Number of parallel threads\n",
    "    model=model,        # Your model variable\n",
    "    schema=json_schema  # Your JSON schema variable\n",
    ")\n",
    "\n",
    "# saving the results to novo_humans.json (humans)\n",
    "save_results(processed_tweets.to_dict(orient=\"records\"), \"novo_humans_llm_processed.json\")"
   ]
  },
  {
   "cell_type": "markdown",
   "metadata": {},
   "source": [
    "## Theme Analysis Graph 🎨 🖼️"
   ]
  },
  {
   "cell_type": "code",
   "execution_count": 26,
   "metadata": {},
   "outputs": [
    {
     "data": {
      "application/vnd.plotly.v1+json": {
       "config": {
        "plotlyServerURL": "https://plot.ly"
       },
       "data": [
        {
         "hoverinfo": "text",
         "hovertext": [
          "Theme: Novo Nordisk Stock and Performance<br>Type: Bot<br>Significance: 85%<br>Subthemes: stock performance, investment opportunities, pharmaceutical sector growth<br>Sentiment: positive<br>Average Score: 0.78",
          "Theme: Business and Economic News<br>Type: Bot<br>Significance: 80%<br>Subthemes: gdp growth forecast, pharmaceutical sector contributions, economic outlook<br>Sentiment: positive<br>Average Score: 0.73",
          "Theme: Pharmaceutical Industry Developments<br>Type: Bot<br>Significance: 95%<br>Subthemes: new malaria vax, covid vax collaboration, pharmaceutical innovation<br>Sentiment: positive<br>Average Score: 0.85",
          "Theme: Industry Partnerships and Collaborations<br>Type: Bot<br>Significance: 88%<br>Subthemes: sny partnership, new quality control hub, pharmaceutical investment<br>Sentiment: positive<br>Average Score: 0.92",
          "Theme: Novo Nordisk's Business Operations<br>Type: Bot<br>Significance: 80%<br>Subthemes: Manufacturing capacity, Revenue growth, Market value<br>Sentiment: positive<br>Average Score: 0.75",
          "Theme: Novo Nordisk's Pharmaceutical Output<br>Type: Bot<br>Significance: 80%<br>Subthemes: pharmaceutical output doubling, boom in exports to the US<br>Sentiment: positive<br>Average Score: 0.67",
          "Theme: Competition in the Pharmaceutical Market<br>Type: Bot<br>Significance: 85%<br>Subthemes: Eli Lilly's Zepbound beating Novo Nordisk's Wegovy, Semaglutide vs Tirzepatide comparison<br>Sentiment: negative<br>Average Score: -0.45",
          "Theme: Healthcare Policy and Regulation<br>Type: Bot<br>Significance: 90%<br>Subthemes: Robert Kennedy's views on vaccines and medicine prices, Impact on giants like Novo Nordisk<br>Sentiment: negative<br>Average Score: -0.62",
          "Theme: Investor Interest and Stock Performance<br>Type: Bot<br>Significance: 95%<br>Subthemes: Novo Nordisk an investor's love story, Q3 FY24 revenue and outlook<br>Sentiment: positive<br>Average Score: 0.83",
          "Theme: Medicine Prices and Affordability<br>Type: Bot<br>Significance: 80%<br>Subthemes: Cut in US list prices of two insulin products, Sky-high medicine prices skepticism<br>Sentiment: negative<br>Average Score: -0.55",
          "Theme: Danish Pharmaceutical Industry<br>Type: Bot<br>Significance: 80%<br>Subthemes: production output, danish pharma factories, glp1 drugs<br>Sentiment: positive<br>Average Score: 0.8",
          "Theme: Novo Nordisk's Weight Loss Drug WeGovy<br>Type: Bot<br>Significance: 80%<br>Subthemes: Rival Eli Lilly's ZepBound causes more weight loss, Novo Nordisk execs urge early WeGovy launch<br>Sentiment: negative<br>Average Score: -0.6",
          "Theme: Novo Nordisk's Insulin Price Cut<br>Type: Bot<br>Significance: 90%<br>Subthemes: 70% reduction in US insulin prices, Fiasp and Tresiba price drop<br>Sentiment: positive<br>Average Score: 0.8",
          "Theme: Antitrust Groups and Competitors<br>Type: Bot<br>Significance: 80%<br>Subthemes: Novo Holdings acquisition of Catalent, Concerns about antitrust groups and competitors<br>Sentiment: negative<br>Average Score: -0.8",
          "Theme: Robert Kennedy's Health Agency Nomination<br>Type: Bot<br>Significance: 95%<br>Subthemes: Dangerous views on vaccines, Skepticism about sky-high medicine prices<br>Sentiment: negative<br>Average Score: -0.9",
          "Theme: Weight Loss and Obesity Treatment<br>Type: Bot<br>Significance: 80%<br>Subthemes: wegovy_effectiveness, zepbound_outperforms, weight_loss_results<br>Sentiment: positive<br>Average Score: 0.7",
          "Theme: Novo Nordisk's Obesity Drug Development<br>Type: Bot<br>Significance: 92%<br>Subthemes: Saxenda, Wegovy, Zepbound<br>Sentiment: positive<br>Average Score: 0.06",
          "Theme: Novo Nordisk's Acquisitions<br>Type: Bot<br>Significance: 88%<br>Subthemes: Novo Nordisk acquires Czech factory, Manufacturing unit sale<br>Sentiment: positive<br>Average Score: 0.73",
          "Theme: Weight Loss and Heart Attack Risk<br>Type: Bot<br>Significance: 85%<br>Subthemes: Obesity drug approval, Nonfatal heart attack prevention<br>Sentiment: positive<br>Average Score: 0.83",
          "Theme: Competition in the Weight Loss Market<br>Type: Bot<br>Significance: 80%<br>Subthemes: Head-to-head study, Weight loss rivals<br>Sentiment: negative<br>Average Score: -0.56",
          "Theme: Novo Nordisk's Mission and Research<br>Type: Bot<br>Significance: 95%<br>Subthemes: Biological core obesity treatment, Glp1 hormone<br>Sentiment: positive<br>Average Score: 0.92",
          "Theme: Novo Nordisk's Obesity Drug Approval<br>Type: Bot<br>Significance: 90%<br>Subthemes: Canada approves Novo Nordisk's obesity drug, Risk reduction of nonfatal heart attack, Potential for increased revenue<br>Sentiment: positive<br>Average Score: 0.8",
          "Theme: Novo Nordisk's Market Performance<br>Type: Bot<br>Significance: 80%<br>Subthemes: Stock price performance, Market share in Europe, Market size and growth potential<br>Sentiment: positive<br>Average Score: 0.7",
          "Theme: Company Financials and Value<br>Type: Bot<br>Significance: 85%<br>Subthemes: Company worth more than Denmark's economy, Projected growth and revenue<br>Sentiment: positive<br>Average Score: 0.9",
          "Theme: Novo Nordisk Corporate Issues<br>Type: Bot<br>Significance: 80%<br>Subthemes: cover-ups, bribery, falsified data<br>Sentiment: negative<br>Average Score: -0.71",
          "Theme: Novo Nordisk and Semaglutide<br>Type: Bot<br>Significance: 80%<br>Subthemes: Semaglutide approval in Canada, Novo Nordisk's weight loss drug boom, DDC request for semaglutide<br>Sentiment: positive<br>Average Score: 0.2",
          "Theme: Pharmaceutical Company Market Value and Rankings<br>Type: Bot<br>Significance: 80%<br>Subthemes: market value and rankings of pharmaceutical companies, top 50 pharmaceutical giants<br>Sentiment: negative<br>Average Score: 0.0",
          "Theme: Ozempic and Pharmaceutical Industry<br>Type: Bot<br>Significance: 80%<br>Subthemes: Ozempic controversy, Pharmaceutical company profits, Health risks<br>Sentiment: negative<br>Average Score: -0.68",
          "Theme: Ozempic Side Effects<br>Type: Bot<br>Significance: 90%<br>Subthemes: gallbladder issues, nausea, vomiting, thyroid cancer, suicidal ideation<br>Sentiment: negative<br>Average Score: -0.9",
          "Theme: Ozempic Weight Loss<br>Type: Bot<br>Significance: 80%<br>Subthemes: Effective weight loss, Improved health, Desire for convenience<br>Sentiment: positive<br>Average Score: 0.65",
          "Theme: Ozempic Accessibility<br>Type: Bot<br>Significance: 92%<br>Subthemes: diabetes, medicine shortages, fatphobia, healthcare inequality<br>Sentiment: negative<br>Average Score: -0.83",
          "Theme: Ozempic Social Impact<br>Type: Bot<br>Significance: 88%<br>Subthemes: mental health, fatphobia, self-image, body positivity<br>Sentiment: negative<br>Average Score: -0.75",
          "Theme: Ozempic Criticism<br>Type: Bot<br>Significance: 96%<br>Subthemes: dark magic, exploitation, abuse, overuse<br>Sentiment: negative<br>Average Score: -0.87",
          "Theme: Ozempic Humor<br>Type: Bot<br>Significance: 80%<br>Subthemes: jokes, sarcasm, ridicule, comedy<br>Sentiment: positive<br>Average Score: 0.58",
          "Theme: Ozempic Effects and Side Effects<br>Type: Bot<br>Significance: 80%<br>Subthemes: weight loss, skinny, starvation<br>Sentiment: negative<br>Average Score: -0.5",
          "Theme: American Brand and Economy<br>Type: Bot<br>Significance: 90%<br>Subthemes: Elon Musk, high-end human capital, artificial intelligence<br>Sentiment: positive<br>Average Score: 0.8",
          "Theme: Ozempic Prescription Controversy<br>Type: Bot<br>Significance: 80%<br>Subthemes: prescription controversy, medical issue, celebrity involvement<br>Sentiment: negative<br>Average Score: -0.66",
          "Theme: Ozempic's Economic Impact<br>Type: Bot<br>Significance: 90%<br>Subthemes: economic growth, recession prevention, Danish GDP<br>Sentiment: positive<br>Average Score: 0.83",
          "Theme: Ozempic's Impact on Society<br>Type: Bot<br>Significance: 85%<br>Subthemes: weight loss trends, body positivity movement, Hollywood's influence, FDA regulations<br>Sentiment: negative<br>Average Score: -0.6",
          "Theme: Wegovy and Ozempic<br>Type: Bot<br>Significance: 80%<br>Subthemes: weight loss, medication, costs, insurance coverage, comparisons to other diets<br>Sentiment: negative<br>Average Score: -0.8",
          "Theme: Healthcare Costs and Insurance Coverage<br>Type: Bot<br>Significance: 90%<br>Subthemes: ACA, healthcare costs, insurance coverage, weight loss drugs<br>Sentiment: negative<br>Average Score: -0.9",
          "Theme: Weight Loss Drugs - Zepbound vs Wegovy<br>Type: Bot<br>Significance: 85%<br>Subthemes: Tirzepatide (Zepbound) Outperforms Semaglutide (Wegovy), Significant Weight Loss Results, Head-to-Head Trial<br>Sentiment: positive<br>Average Score: 0.7",
          "Theme: Weight Loss Drugs (Wegovy and Ozempic)<br>Type: Bot<br>Significance: 85%<br>Subthemes: efficacy, comparison with competitors, user experiences, insurance coverage, health benefits<br>Sentiment: positive<br>Average Score: 0.75",
          "Theme: User Experiences<br>Type: Bot<br>Significance: 80%<br>Subthemes: patient success stories, weight loss experiences, health benefits<br>Sentiment: positive<br>Average Score: 0.9",
          "Theme: Weight Loss Comparison<br>Type: Bot<br>Significance: 80%<br>Subthemes: wegovy vs. zepbound, wegovy vs. ozempic, weight loss results<br>Sentiment: negative<br>Average Score: -0.3",
          "Theme: Zepbound's Effectiveness<br>Type: Bot<br>Significance: 85%<br>Subthemes: zepbound's weight loss results, wegovy vs zepbound<br>Sentiment: positive<br>Average Score: 0.6",
          "Theme: Weight Loss and Obesity Management<br>Type: Bot<br>Significance: 80%<br>Subthemes: Efficacy of Wegovy, Weight Loss Success Stories, Comparison with Other Weight Loss Drugs<br>Sentiment: positive<br>Average Score: 0.88",
          "Theme: Wegovy and Zepbound Comparison<br>Type: Bot<br>Significance: 80%<br>Subthemes: Expensive compared to Ozempic, Zepbound outperforms Wegovy in weight loss trials<br>Sentiment: negative<br>Average Score: -0.5",
          "Theme: Weight Loss Market<br>Type: Bot<br>Significance: 90%<br>Subthemes: Rise of weight loss drugs, Comparison between Ozempic and Wegovy<br>Sentiment: negative<br>Average Score: 0",
          "Theme: Weight Loss Drugs and Medicare/Medicaid<br>Type: Bot<br>Significance: 80%<br>Subthemes: new rule by biden administration, eligibility for americans with obesity, coverage options<br>Sentiment: positive<br>Average Score: 0.6",
          "Theme: Semaglutide and Weight Loss<br>Type: Bot<br>Significance: 80%<br>Subthemes: semaglutide, ozempic, wegovy, glp1 agonist, weight loss, medication<br>Sentiment: negative<br>Average Score: 0.0",
          "Theme: Wegovy and Ozempic Weight Loss Drugs<br>Type: Bot<br>Significance: 92%<br>Subthemes: weight loss, obesity treatment, semaglutide, wegovy vs ozempic<br>Sentiment: positive<br>Average Score: 0.73",
          "Theme: WeGovy Weight Loss Efficacy<br>Type: Bot<br>Significance: 90%<br>Subthemes: weight loss results, comparison to rival drugs, patient response<br>Sentiment: positive<br>Average Score: 0.63",
          "Theme: WeGovy Accessibility and Coverage<br>Type: Bot<br>Significance: 85%<br>Subthemes: medicare and medicaid coverage, biden administration proposal, access to weight loss drugs<br>Sentiment: positive<br>Average Score: 0.71",
          "Theme: WeGovy Popularity and Adoption<br>Type: Bot<br>Significance: 92%<br>Subthemes: patient satisfaction, weight loss success stories, family decisions<br>Sentiment: positive<br>Average Score: 0.83",
          "Theme: WeGovy and Medicare/Medicaid News<br>Type: Bot<br>Significance: 88%<br>Subthemes: new proposals, access to weight loss drugs, government initiatives<br>Sentiment: positive<br>Average Score: 0.87",
          "Theme: Zepbound and WeGovy Comparison<br>Type: Bot<br>Significance: 80%<br>Subthemes: head-to-head trials, weight loss results, drug comparison<br>Sentiment: positive<br>Average Score: 0.75",
          "Theme: High Price of Weight Loss Drugs<br>Type: Bot<br>Significance: 85%<br>Subthemes: cost of ozempic and zepbound, unaffordability for americans, price change, wegovy and novo nordisk<br>Sentiment: negative<br>Average Score: -0.6"
         ],
         "marker": {
          "color": [
           "rgb(34,139,34)",
           "rgb(34,139,34)",
           "rgb(34,139,34)",
           "rgb(34,139,34)",
           "rgb(34,139,34)",
           "rgb(34,139,34)",
           "rgb(255,69,0)",
           "rgb(255,69,0)",
           "rgb(34,139,34)",
           "rgb(255,69,0)",
           "rgb(34,139,34)",
           "rgb(255,69,0)",
           "rgb(34,139,34)",
           "rgb(255,69,0)",
           "rgb(255,69,0)",
           "rgb(34,139,34)",
           "rgb(34,139,34)",
           "rgb(34,139,34)",
           "rgb(34,139,34)",
           "rgb(255,69,0)",
           "rgb(34,139,34)",
           "rgb(34,139,34)",
           "rgb(34,139,34)",
           "rgb(34,139,34)",
           "rgb(255,69,0)",
           "rgb(34,139,34)",
           "rgb(255,69,0)",
           "rgb(255,69,0)",
           "rgb(255,69,0)",
           "rgb(34,139,34)",
           "rgb(255,69,0)",
           "rgb(255,69,0)",
           "rgb(255,69,0)",
           "rgb(34,139,34)",
           "rgb(255,69,0)",
           "rgb(34,139,34)",
           "rgb(255,69,0)",
           "rgb(34,139,34)",
           "rgb(255,69,0)",
           "rgb(255,69,0)",
           "rgb(255,69,0)",
           "rgb(34,139,34)",
           "rgb(34,139,34)",
           "rgb(34,139,34)",
           "rgb(255,69,0)",
           "rgb(34,139,34)",
           "rgb(34,139,34)",
           "rgb(255,69,0)",
           "rgb(255,69,0)",
           "rgb(34,139,34)",
           "rgb(255,69,0)",
           "rgb(34,139,34)",
           "rgb(34,139,34)",
           "rgb(34,139,34)",
           "rgb(34,139,34)",
           "rgb(34,139,34)",
           "rgb(34,139,34)",
           "rgb(255,69,0)"
          ],
          "line": {
           "color": "black",
           "width": 1
          },
          "size": [
           27,
           26,
           29,
           27.6,
           26,
           26,
           27,
           28,
           29,
           26,
           26,
           26,
           28,
           26,
           29,
           26,
           28.4,
           27.6,
           27,
           26,
           29,
           28,
           26,
           27,
           26,
           26,
           26,
           26,
           28,
           26,
           28.4,
           27.6,
           29.2,
           26,
           26,
           28,
           26,
           28,
           27,
           26,
           28,
           27,
           27,
           26,
           26,
           27,
           26,
           26,
           28,
           26,
           26,
           28.4,
           28,
           27,
           28.4,
           27.6,
           26,
           27
          ]
         },
         "mode": "markers",
         "type": "scatter",
         "x": [
          -5.967183414463859,
          -1.7699931219663778,
          -10.224197881012536,
          -11.897077919991165,
          -10.371706692604581,
          -12.073484662719737,
          -11.057230343713158,
          -10.319164545582366,
          -12.038461750622375,
          -11.690256966579888,
          -9.491738662458728,
          -11.885611927361294,
          -10.1929319489154,
          -9.572425541160552,
          -11.930989345217084,
          -10.35020634987086,
          -17.101533294858182,
          -9.989016097433025,
          -11.147047507400014,
          -9.866134258572863,
          -5.718970972722652,
          -13.313274563847994,
          -6.54788984674795,
          -9.956261391676986,
          -12.372624486071828,
          -10.251148184237971,
          -10.04356100727451,
          -11.109992295316093,
          -9.89607830835036,
          -10.361617803677827,
          -10.219212046745824,
          -12.908374500105895,
          -8.492148149468477,
          -10.022862491300055,
          -6.718568778887989,
          -9.511078767463394,
          -7.3541299558464575,
          -8.075151051931075,
          -11.428695041775624,
          -8.21887372042042,
          -3.828200480609783,
          -11.665948130741992,
          -16.93935070037231,
          -11.371005028298667,
          -9.583771009778882,
          -7.4195144397474655,
          -1.2642701159322485,
          -7.956423079608591,
          -5.446301470569239,
          -5.876205983030499,
          -10.885706656425615,
          -8.386436701041813,
          -17.11756811034398,
          -8.319835838138202,
          -6.129094634931136,
          -11.489588108425341,
          -11.840311597516374,
          -5.6235463362379745
         ],
         "y": [
          -9.674273438910445,
          -5.523307778341474,
          -9.889421161966672,
          -8.74296688901521,
          -8.487212921960676,
          -15.477937960100165,
          -10.633397357893774,
          -7.761609837017689,
          -11.454334716599456,
          -12.26655638519698,
          -14.426794916098821,
          -7.074396166837417,
          -5.60035379309179,
          -10.720026183310392,
          -14.362203196542607,
          -7.903911262433782,
          -10.416845686431582,
          -11.255001956394917,
          -8.192685859741932,
          -12.567046809802056,
          -13.2840332597107,
          -11.214503737776537,
          -8.159501088732611,
          -11.64189062090722,
          -9.66746718615865,
          -13.175370167955844,
          -3.1372823341453686,
          -11.478528433454361,
          -7.744401090080147,
          -12.84832694568601,
          -5.607310411403339,
          -11.182334919916057,
          -5.872532038137268,
          -14.210169930085538,
          -12.960795082596032,
          -11.833123965358453,
          -7.8460524210376095,
          -14.678283992904484,
          -18.35781566473137,
          -10.713895385063058,
          -6.0388414545875655,
          -15.219848115382526,
          -10.386231840255906,
          -5.521216765784337,
          -9.560740367943808,
          -5.733246572603616,
          -5.685419780052159,
          -3.26594225588303,
          -7.528072055875412,
          -9.239682999299571,
          -10.750667985015431,
          -8.82568834822295,
          -8.416502388943167,
          -15.59712212960469,
          -4.897367210524069,
          -10.386327678659793,
          -14.834940938533322,
          -8.200130204770794
         ]
        },
        {
         "hoverinfo": "text",
         "hovertext": [
          "Theme: Novo Nordisk's Business and Economy<br>Type: Non-Bot<br>Significance: 80%<br>Subthemes: Export impact on Danish economy, Reduced US list prices for insulin products, Investment in quality control laboratory<br>Sentiment: positive<br>Average Score: 0.1",
          "Theme: Medicare and Healthcare Costs<br>Type: Non-Bot<br>Significance: 85%<br>Subthemes: Skyrocketing Medicare premiums, Cash cow criticism for big pharma companies<br>Sentiment: negative<br>Average Score: -0.7",
          "Theme: Noro Nordisk's Product and Market Performance<br>Type: Non-Bot<br>Significance: 80%<br>Subthemes: Rising Danish pharmaceutical output, Growth of danish GDP, Demand for Ozempic and Wegovy<br>Sentiment: positive<br>Average Score: 0.6",
          "Theme: Market and Supply Issues<br>Type: Non-Bot<br>Significance: 80%<br>Subthemes: Semaglutide shortage, Limited availability of Ozempic<br>Sentiment: negative<br>Average Score: -0.5",
          "Theme: Novo Nordisk's Competitors<br>Type: Non-Bot<br>Significance: 80%<br>Subthemes: Eli Lilly's Zepbound outperforming Novo Nordisk's Wegovy, Concerns over GLP1 and supply chain issues<br>Sentiment: negative<br>Average Score: -0.45",
          "Theme: Novo Nordisk's Business and Partnerships<br>Type: Non-Bot<br>Significance: 85%<br>Subthemes: Partnership with University of Oxford, Expansion of manufacturing capacity<br>Sentiment: positive<br>Average Score: 0.55",
          "Theme: Novo Nordisk's Research and Innovation<br>Type: Non-Bot<br>Significance: 90%<br>Subthemes: Investment in new research centre, Potential of Cagrisema<br>Sentiment: positive<br>Average Score: 0.65",
          "Theme: Novo Nordisk Market Leadership<br>Type: Non-Bot<br>Significance: 85%<br>Subthemes: Market Share, Business Model, MOAT, Capital Allocation, Management<br>Sentiment: positive<br>Average Score: 0.1",
          "Theme: Novo Nordisk Obesity Drug Competition<br>Type: Non-Bot<br>Significance: 92%<br>Subthemes: Tirzepatide vs Semaglutide, Eli Lilly's Zepbound, WeGoVy<br>Sentiment: negative<br>Average Score: -0.4",
          "Theme: Criticism of Insulin Pricing<br>Type: Non-Bot<br>Significance: 90%<br>Subthemes: Price Hikes, Rationing, Patient Struggles<br>Sentiment: negative<br>Average Score: -0.9",
          "Theme: Market and Industry News<br>Type: Non-Bot<br>Significance: 80%<br>Subthemes: market trends, industry news, company announcements<br>Sentiment: positive<br>Average Score: 0.04",
          "Theme: WeGovy Shortage and Alternatives<br>Type: Non-Bot<br>Significance: 80%<br>Subthemes: US patients face supply constraints and high costs, FDA considers removing WeGovy from shortage list, Thousands turn to alternatives due to shortage<br>Sentiment: negative<br>Average Score: -0.65",
          "Theme: Novo Nordisk Pricing and Lobbying<br>Type: Non-Bot<br>Significance: 90%<br>Subthemes: CEo testifies on high prices, Lobbying efforts for disease classification and Medicaid coverage, Criticism of exorbitant prices and massive payday<br>Sentiment: negative<br>Average Score: -0.85",
          "Theme: Health Guidelines and Conflict of Interest<br>Type: Non-Bot<br>Significance: 95%<br>Subthemes: USDA nutrition guidelines committee previewed new guidance, Conflict of interest due to committee members paid by pharmaceutical companies<br>Sentiment: negative<br>Average Score: -0.9",
          "Theme: Novo Nordisk<br>Type: Non-Bot<br>Significance: 80%<br>Subthemes: ozempic, wegovy, diabetes management<br>Sentiment: negative<br>Average Score: -0.7",
          "Theme: Ozempic and Health Risks<br>Type: Non-Bot<br>Significance: 90%<br>Subthemes: severe side effects, muscle loss, heart muscle shrinkage, stomach paralysis, intestinal blockages, vision loss, death<br>Sentiment: negative<br>Average Score: -0.7",
          "Theme: Lawsuits and Regulatory Issues<br>Type: Non-Bot<br>Significance: 85%<br>Subthemes: 10000 lawsuits, class action lawsuit, regulatory issues<br>Sentiment: negative<br>Average Score: -0.8",
          "Theme: Ozempic Weight Loss Drug Safety and Efficacy<br>Type: Non-Bot<br>Significance: 80%<br>Subthemes: side effects, lobbying for Medicaid access, conspiracy theories<br>Sentiment: negative<br>Average Score: -0.5",
          "Theme: Mental Health Concerns and Anorexia<br>Type: Non-Bot<br>Significance: 90%<br>Subthemes: manufactured anorexia, dangerous side effects, public health warning<br>Sentiment: negative<br>Average Score: -0.7",
          "Theme: Ozempic Controversy and Misuse<br>Type: Non-Bot<br>Significance: 80%<br>Subthemes: Concerns about prescribing Ozempic to children, Criticisms of Ozempic promotion and sales, Reports of unintended side effects and misuse<br>Sentiment: negative<br>Average Score: -0.65",
          "Theme: Weight Loss Medications<br>Type: Non-Bot<br>Significance: 80%<br>Subthemes: Ozempic, Wegovy, Zepbound, Glp1 drugs, Diet and weight loss, Side effects, Accessibility and affordability, Health benefits<br>Sentiment: positive<br>Average Score: 0.2",
          "Theme: Weight Loss Medications: Ozempic and Wegovy<br>Type: Non-Bot<br>Significance: 90%<br>Subthemes: Increased access to weight loss medications, Medicare and Medicaid coverage, Popularity of Ozempic and Wegovy, Effectiveness in treating obesity<br>Sentiment: positive<br>Average Score: 0.75",
          "Theme: Healthcare Access and Costs<br>Type: Non-Bot<br>Significance: 80%<br>Subthemes: Coverage limitations, Costs of medications, Impact on patients<br>Sentiment: negative<br>Average Score: -0.65",
          "Theme: Government Support and Policy<br>Type: Non-Bot<br>Significance: 85%<br>Subthemes: President Joe Biden's proposed rule, Increased access to medications for millions of Americans<br>Sentiment: positive<br>Average Score: 0.85",
          "Theme: Weight Loss Drugs (Ozempic, Wegovy, Zepbound) and Obesity Treatment<br>Type: Non-Bot<br>Significance: 80%<br>Subthemes: Celebrity endorsements, Medicare and Medicaid coverage, Effectiveness in treating various conditions, Competition among weight loss drugs<br>Sentiment: positive<br>Average Score: 0.1",
          "Theme: Efficacy and Mechanism of Ozempic and Wegovy<br>Type: Non-Bot<br>Significance: 80%<br>Subthemes: GLP-1 receptors, blood sugar regulation, appetite control, inflammation<br>Sentiment: positive<br>Average Score: 0.3",
          "Theme: Weight Loss and Obesity Coverage<br>Type: Non-Bot<br>Significance: 90%<br>Subthemes: Biden administration policy, medicare, medicaid, weight loss drugs<br>Sentiment: positive<br>Average Score: 0.7",
          "Theme: Safety and Risks of Ozempic and Wegovy<br>Type: Non-Bot<br>Significance: 85%<br>Subthemes: cardiovascular health, influencers, hyping the drugs<br>Sentiment: negative<br>Average Score: -0.6",
          "Theme: Weight Loss Medication Coverage<br>Type: Non-Bot<br>Significance: 80%<br>Subthemes: Medicare and Medicaid coverage for weight loss medications, Ozempic and Wegovy, New rule proposed by President Joe Biden, Impact on obesity rates in the US<br>Sentiment: positive<br>Average Score: 0.1",
          "Theme: Health Risks and Complications<br>Type: Non-Bot<br>Significance: 90%<br>Subthemes: Health problems after stopping Ozempic, Serious health complications, Research on individuals using Ozempic and Wegovy, Potential long-term effects<br>Sentiment: negative<br>Average Score: -0.8",
          "Theme: Wegovy Efficacy<br>Type: Non-Bot<br>Significance: 85%<br>Subthemes: disease slowing down, flares reduced, effective weight loss<br>Sentiment: positive<br>Average Score: 0.8",
          "Theme: Weight Loss and Diet<br>Type: Non-Bot<br>Significance: 80%<br>Subthemes: holiday food and weight loss, weight loss on semaglutide, healthy eating<br>Sentiment: positive<br>Average Score: 0.7",
          "Theme: Chronic Obesity and Treatment<br>Type: Non-Bot<br>Significance: 95%<br>Subthemes: GLP-1s for weight loss, patient understanding and education, chronic obesity treatment<br>Sentiment: positive<br>Average Score: 0.9"
         ],
         "marker": {
          "color": [
           "rgb(30,144,255)",
           "rgb(255,99,71)",
           "rgb(30,144,255)",
           "rgb(255,99,71)",
           "rgb(255,99,71)",
           "rgb(30,144,255)",
           "rgb(30,144,255)",
           "rgb(30,144,255)",
           "rgb(255,99,71)",
           "rgb(255,99,71)",
           "rgb(30,144,255)",
           "rgb(255,99,71)",
           "rgb(255,99,71)",
           "rgb(255,99,71)",
           "rgb(255,99,71)",
           "rgb(255,99,71)",
           "rgb(255,99,71)",
           "rgb(255,99,71)",
           "rgb(255,99,71)",
           "rgb(255,99,71)",
           "rgb(30,144,255)",
           "rgb(30,144,255)",
           "rgb(255,99,71)",
           "rgb(30,144,255)",
           "rgb(30,144,255)",
           "rgb(30,144,255)",
           "rgb(30,144,255)",
           "rgb(255,99,71)",
           "rgb(30,144,255)",
           "rgb(255,99,71)",
           "rgb(30,144,255)",
           "rgb(30,144,255)",
           "rgb(30,144,255)"
          ],
          "line": {
           "color": "black",
           "width": 1
          },
          "size": [
           26,
           27,
           26,
           26,
           26,
           27,
           28,
           27,
           28.4,
           28,
           26,
           26,
           28,
           29,
           26,
           28,
           27,
           26,
           28,
           26,
           26,
           28,
           26,
           27,
           26,
           26,
           28,
           27,
           26,
           28,
           27,
           26,
           29
          ]
         },
         "mode": "markers",
         "type": "scatter",
         "x": [
          9.674954304596232,
          13.118089033956558,
          9.065832845581985,
          16.7949539457585,
          4.663075562100259,
          9.384282936039671,
          12.981184566306304,
          12.559265444050235,
          7.12321954433061,
          1.3491750572849042,
          8.973420105152563,
          13.283999522294154,
          10.888530412994296,
          15.649335226636634,
          7.9600333577100795,
          11.831951020784814,
          9.959733685174225,
          10.965643082525048,
          8.094797610391216,
          8.18334298893896,
          11.323593322329945,
          9.806227611740118,
          7.640057026759635,
          6.6870389293854355,
          4.412355553756084,
          8.74462829344315,
          10.821806010255134,
          7.6794947436656305,
          8.960258874457542,
          12.277713710448717,
          12.60215409982217,
          9.91503240802815,
          9.113495592541424
         ],
         "y": [
          9.570733951996532,
          9.823733674887901,
          5.361811733846899,
          7.594717229475926,
          11.977412797217104,
          6.363903645084996,
          13.88343817087793,
          6.561837870482446,
          8.383467320171741,
          6.149765645727542,
          11.48508272176708,
          10.266207992926086,
          7.9413030682313295,
          9.725872423484192,
          9.13400006548446,
          12.477526401828984,
          3.586190161939237,
          7.464112510018403,
          10.043506663703852,
          15.205120232959487,
          2.674205446360089,
          11.887109445765645,
          15.797216082628132,
          5.671718185678989,
          9.53923542847839,
          15.268002669749006,
          9.97766591175013,
          10.778619057075055,
          9.373526448916962,
          15.571637806895865,
          7.759518978648998,
          13.228967367324667,
          8.899986860043343
         ]
        },
        {
         "hoverinfo": "text",
         "hovertext": [
          "Theme: Ozempic Discussion<br>Type: Non-Bot<br>Significance: 80%<br>Subthemes: weight loss, prescription misuse, pop culture references<br>Sentiment: negative<br>Average Score: -0.6",
          "Theme: Ozempic and Weight Loss<br>Type: Non-Bot<br>Significance: 80%<br>Subthemes: weight loss, appetite suppression<br>Sentiment: positive<br>Average Score: 0.5",
          "Theme: Ozempic<br>Type: Non-Bot<br>Significance: 85%<br>Subthemes: Side effects, Accessibility, Misuse, Efficacy, Controversy<br>Sentiment: negative<br>Average Score: -0.7",
          "Theme: Weight Loss Drugs<br>Type: Non-Bot<br>Significance: 80%<br>Subthemes: Weight Loss Pills, Wegovy, Ozempic, Mounjaro, Semaglutide<br>Sentiment: negative<br>Average Score: 0"
         ],
         "marker": {
          "color": [
           "rgb(255,69,0)",
           "rgb(34,139,34)",
           "rgb(255,69,0)",
           "rgb(255,69,0)"
          ],
          "line": {
           "color": "black",
           "width": 1
          },
          "size": [
           26,
           26,
           27,
           26
          ]
         },
         "mode": "markers",
         "type": "scatter",
         "x": [
          0.9334377239724154,
          -2.6723947360498097,
          0.8754835406363104,
          4.794337857502747
         ],
         "y": [
          -0.9098844004838152,
          1.2396857624242654,
          -2.6912814020942157,
          0.9204705072949981
         ]
        }
       ],
       "layout": {
        "annotations": [
         {
          "align": "left",
          "bgcolor": "rgba(255,255,255,0.7)",
          "bordercolor": "black",
          "borderwidth": 1,
          "showarrow": false,
          "text": "<b>Legend:</b><br><span style='color:rgb(34,139,34)'>● Positive Bot</span><br><span style='color:rgb(255,69,0)'>● Negative Bot</span><br><span style='color:rgb(30,144,255)'>● Positive Non-Bot</span><br><span style='color:rgb(255,99,71)'>● Negative Non-Bot</span>",
          "x": 1,
          "xref": "paper",
          "y": 1.05,
          "yref": "paper"
         }
        ],
        "height": 800,
        "hovermode": "closest",
        "plot_bgcolor": "rgb(240,240,240)",
        "showlegend": false,
        "template": {
         "data": {
          "bar": [
           {
            "error_x": {
             "color": "#2a3f5f"
            },
            "error_y": {
             "color": "#2a3f5f"
            },
            "marker": {
             "line": {
              "color": "#E5ECF6",
              "width": 0.5
             },
             "pattern": {
              "fillmode": "overlay",
              "size": 10,
              "solidity": 0.2
             }
            },
            "type": "bar"
           }
          ],
          "barpolar": [
           {
            "marker": {
             "line": {
              "color": "#E5ECF6",
              "width": 0.5
             },
             "pattern": {
              "fillmode": "overlay",
              "size": 10,
              "solidity": 0.2
             }
            },
            "type": "barpolar"
           }
          ],
          "carpet": [
           {
            "aaxis": {
             "endlinecolor": "#2a3f5f",
             "gridcolor": "white",
             "linecolor": "white",
             "minorgridcolor": "white",
             "startlinecolor": "#2a3f5f"
            },
            "baxis": {
             "endlinecolor": "#2a3f5f",
             "gridcolor": "white",
             "linecolor": "white",
             "minorgridcolor": "white",
             "startlinecolor": "#2a3f5f"
            },
            "type": "carpet"
           }
          ],
          "choropleth": [
           {
            "colorbar": {
             "outlinewidth": 0,
             "ticks": ""
            },
            "type": "choropleth"
           }
          ],
          "contour": [
           {
            "colorbar": {
             "outlinewidth": 0,
             "ticks": ""
            },
            "colorscale": [
             [
              0,
              "#0d0887"
             ],
             [
              0.1111111111111111,
              "#46039f"
             ],
             [
              0.2222222222222222,
              "#7201a8"
             ],
             [
              0.3333333333333333,
              "#9c179e"
             ],
             [
              0.4444444444444444,
              "#bd3786"
             ],
             [
              0.5555555555555556,
              "#d8576b"
             ],
             [
              0.6666666666666666,
              "#ed7953"
             ],
             [
              0.7777777777777778,
              "#fb9f3a"
             ],
             [
              0.8888888888888888,
              "#fdca26"
             ],
             [
              1,
              "#f0f921"
             ]
            ],
            "type": "contour"
           }
          ],
          "contourcarpet": [
           {
            "colorbar": {
             "outlinewidth": 0,
             "ticks": ""
            },
            "type": "contourcarpet"
           }
          ],
          "heatmap": [
           {
            "colorbar": {
             "outlinewidth": 0,
             "ticks": ""
            },
            "colorscale": [
             [
              0,
              "#0d0887"
             ],
             [
              0.1111111111111111,
              "#46039f"
             ],
             [
              0.2222222222222222,
              "#7201a8"
             ],
             [
              0.3333333333333333,
              "#9c179e"
             ],
             [
              0.4444444444444444,
              "#bd3786"
             ],
             [
              0.5555555555555556,
              "#d8576b"
             ],
             [
              0.6666666666666666,
              "#ed7953"
             ],
             [
              0.7777777777777778,
              "#fb9f3a"
             ],
             [
              0.8888888888888888,
              "#fdca26"
             ],
             [
              1,
              "#f0f921"
             ]
            ],
            "type": "heatmap"
           }
          ],
          "heatmapgl": [
           {
            "colorbar": {
             "outlinewidth": 0,
             "ticks": ""
            },
            "colorscale": [
             [
              0,
              "#0d0887"
             ],
             [
              0.1111111111111111,
              "#46039f"
             ],
             [
              0.2222222222222222,
              "#7201a8"
             ],
             [
              0.3333333333333333,
              "#9c179e"
             ],
             [
              0.4444444444444444,
              "#bd3786"
             ],
             [
              0.5555555555555556,
              "#d8576b"
             ],
             [
              0.6666666666666666,
              "#ed7953"
             ],
             [
              0.7777777777777778,
              "#fb9f3a"
             ],
             [
              0.8888888888888888,
              "#fdca26"
             ],
             [
              1,
              "#f0f921"
             ]
            ],
            "type": "heatmapgl"
           }
          ],
          "histogram": [
           {
            "marker": {
             "pattern": {
              "fillmode": "overlay",
              "size": 10,
              "solidity": 0.2
             }
            },
            "type": "histogram"
           }
          ],
          "histogram2d": [
           {
            "colorbar": {
             "outlinewidth": 0,
             "ticks": ""
            },
            "colorscale": [
             [
              0,
              "#0d0887"
             ],
             [
              0.1111111111111111,
              "#46039f"
             ],
             [
              0.2222222222222222,
              "#7201a8"
             ],
             [
              0.3333333333333333,
              "#9c179e"
             ],
             [
              0.4444444444444444,
              "#bd3786"
             ],
             [
              0.5555555555555556,
              "#d8576b"
             ],
             [
              0.6666666666666666,
              "#ed7953"
             ],
             [
              0.7777777777777778,
              "#fb9f3a"
             ],
             [
              0.8888888888888888,
              "#fdca26"
             ],
             [
              1,
              "#f0f921"
             ]
            ],
            "type": "histogram2d"
           }
          ],
          "histogram2dcontour": [
           {
            "colorbar": {
             "outlinewidth": 0,
             "ticks": ""
            },
            "colorscale": [
             [
              0,
              "#0d0887"
             ],
             [
              0.1111111111111111,
              "#46039f"
             ],
             [
              0.2222222222222222,
              "#7201a8"
             ],
             [
              0.3333333333333333,
              "#9c179e"
             ],
             [
              0.4444444444444444,
              "#bd3786"
             ],
             [
              0.5555555555555556,
              "#d8576b"
             ],
             [
              0.6666666666666666,
              "#ed7953"
             ],
             [
              0.7777777777777778,
              "#fb9f3a"
             ],
             [
              0.8888888888888888,
              "#fdca26"
             ],
             [
              1,
              "#f0f921"
             ]
            ],
            "type": "histogram2dcontour"
           }
          ],
          "mesh3d": [
           {
            "colorbar": {
             "outlinewidth": 0,
             "ticks": ""
            },
            "type": "mesh3d"
           }
          ],
          "parcoords": [
           {
            "line": {
             "colorbar": {
              "outlinewidth": 0,
              "ticks": ""
             }
            },
            "type": "parcoords"
           }
          ],
          "pie": [
           {
            "automargin": true,
            "type": "pie"
           }
          ],
          "scatter": [
           {
            "fillpattern": {
             "fillmode": "overlay",
             "size": 10,
             "solidity": 0.2
            },
            "type": "scatter"
           }
          ],
          "scatter3d": [
           {
            "line": {
             "colorbar": {
              "outlinewidth": 0,
              "ticks": ""
             }
            },
            "marker": {
             "colorbar": {
              "outlinewidth": 0,
              "ticks": ""
             }
            },
            "type": "scatter3d"
           }
          ],
          "scattercarpet": [
           {
            "marker": {
             "colorbar": {
              "outlinewidth": 0,
              "ticks": ""
             }
            },
            "type": "scattercarpet"
           }
          ],
          "scattergeo": [
           {
            "marker": {
             "colorbar": {
              "outlinewidth": 0,
              "ticks": ""
             }
            },
            "type": "scattergeo"
           }
          ],
          "scattergl": [
           {
            "marker": {
             "colorbar": {
              "outlinewidth": 0,
              "ticks": ""
             }
            },
            "type": "scattergl"
           }
          ],
          "scattermapbox": [
           {
            "marker": {
             "colorbar": {
              "outlinewidth": 0,
              "ticks": ""
             }
            },
            "type": "scattermapbox"
           }
          ],
          "scatterpolar": [
           {
            "marker": {
             "colorbar": {
              "outlinewidth": 0,
              "ticks": ""
             }
            },
            "type": "scatterpolar"
           }
          ],
          "scatterpolargl": [
           {
            "marker": {
             "colorbar": {
              "outlinewidth": 0,
              "ticks": ""
             }
            },
            "type": "scatterpolargl"
           }
          ],
          "scatterternary": [
           {
            "marker": {
             "colorbar": {
              "outlinewidth": 0,
              "ticks": ""
             }
            },
            "type": "scatterternary"
           }
          ],
          "surface": [
           {
            "colorbar": {
             "outlinewidth": 0,
             "ticks": ""
            },
            "colorscale": [
             [
              0,
              "#0d0887"
             ],
             [
              0.1111111111111111,
              "#46039f"
             ],
             [
              0.2222222222222222,
              "#7201a8"
             ],
             [
              0.3333333333333333,
              "#9c179e"
             ],
             [
              0.4444444444444444,
              "#bd3786"
             ],
             [
              0.5555555555555556,
              "#d8576b"
             ],
             [
              0.6666666666666666,
              "#ed7953"
             ],
             [
              0.7777777777777778,
              "#fb9f3a"
             ],
             [
              0.8888888888888888,
              "#fdca26"
             ],
             [
              1,
              "#f0f921"
             ]
            ],
            "type": "surface"
           }
          ],
          "table": [
           {
            "cells": {
             "fill": {
              "color": "#EBF0F8"
             },
             "line": {
              "color": "white"
             }
            },
            "header": {
             "fill": {
              "color": "#C8D4E3"
             },
             "line": {
              "color": "white"
             }
            },
            "type": "table"
           }
          ]
         },
         "layout": {
          "annotationdefaults": {
           "arrowcolor": "#2a3f5f",
           "arrowhead": 0,
           "arrowwidth": 1
          },
          "autotypenumbers": "strict",
          "coloraxis": {
           "colorbar": {
            "outlinewidth": 0,
            "ticks": ""
           }
          },
          "colorscale": {
           "diverging": [
            [
             0,
             "#8e0152"
            ],
            [
             0.1,
             "#c51b7d"
            ],
            [
             0.2,
             "#de77ae"
            ],
            [
             0.3,
             "#f1b6da"
            ],
            [
             0.4,
             "#fde0ef"
            ],
            [
             0.5,
             "#f7f7f7"
            ],
            [
             0.6,
             "#e6f5d0"
            ],
            [
             0.7,
             "#b8e186"
            ],
            [
             0.8,
             "#7fbc41"
            ],
            [
             0.9,
             "#4d9221"
            ],
            [
             1,
             "#276419"
            ]
           ],
           "sequential": [
            [
             0,
             "#0d0887"
            ],
            [
             0.1111111111111111,
             "#46039f"
            ],
            [
             0.2222222222222222,
             "#7201a8"
            ],
            [
             0.3333333333333333,
             "#9c179e"
            ],
            [
             0.4444444444444444,
             "#bd3786"
            ],
            [
             0.5555555555555556,
             "#d8576b"
            ],
            [
             0.6666666666666666,
             "#ed7953"
            ],
            [
             0.7777777777777778,
             "#fb9f3a"
            ],
            [
             0.8888888888888888,
             "#fdca26"
            ],
            [
             1,
             "#f0f921"
            ]
           ],
           "sequentialminus": [
            [
             0,
             "#0d0887"
            ],
            [
             0.1111111111111111,
             "#46039f"
            ],
            [
             0.2222222222222222,
             "#7201a8"
            ],
            [
             0.3333333333333333,
             "#9c179e"
            ],
            [
             0.4444444444444444,
             "#bd3786"
            ],
            [
             0.5555555555555556,
             "#d8576b"
            ],
            [
             0.6666666666666666,
             "#ed7953"
            ],
            [
             0.7777777777777778,
             "#fb9f3a"
            ],
            [
             0.8888888888888888,
             "#fdca26"
            ],
            [
             1,
             "#f0f921"
            ]
           ]
          },
          "colorway": [
           "#636efa",
           "#EF553B",
           "#00cc96",
           "#ab63fa",
           "#FFA15A",
           "#19d3f3",
           "#FF6692",
           "#B6E880",
           "#FF97FF",
           "#FECB52"
          ],
          "font": {
           "color": "#2a3f5f"
          },
          "geo": {
           "bgcolor": "white",
           "lakecolor": "white",
           "landcolor": "#E5ECF6",
           "showlakes": true,
           "showland": true,
           "subunitcolor": "white"
          },
          "hoverlabel": {
           "align": "left"
          },
          "hovermode": "closest",
          "mapbox": {
           "style": "light"
          },
          "paper_bgcolor": "white",
          "plot_bgcolor": "#E5ECF6",
          "polar": {
           "angularaxis": {
            "gridcolor": "white",
            "linecolor": "white",
            "ticks": ""
           },
           "bgcolor": "#E5ECF6",
           "radialaxis": {
            "gridcolor": "white",
            "linecolor": "white",
            "ticks": ""
           }
          },
          "scene": {
           "xaxis": {
            "backgroundcolor": "#E5ECF6",
            "gridcolor": "white",
            "gridwidth": 2,
            "linecolor": "white",
            "showbackground": true,
            "ticks": "",
            "zerolinecolor": "white"
           },
           "yaxis": {
            "backgroundcolor": "#E5ECF6",
            "gridcolor": "white",
            "gridwidth": 2,
            "linecolor": "white",
            "showbackground": true,
            "ticks": "",
            "zerolinecolor": "white"
           },
           "zaxis": {
            "backgroundcolor": "#E5ECF6",
            "gridcolor": "white",
            "gridwidth": 2,
            "linecolor": "white",
            "showbackground": true,
            "ticks": "",
            "zerolinecolor": "white"
           }
          },
          "shapedefaults": {
           "line": {
            "color": "#2a3f5f"
           }
          },
          "ternary": {
           "aaxis": {
            "gridcolor": "white",
            "linecolor": "white",
            "ticks": ""
           },
           "baxis": {
            "gridcolor": "white",
            "linecolor": "white",
            "ticks": ""
           },
           "bgcolor": "#E5ECF6",
           "caxis": {
            "gridcolor": "white",
            "linecolor": "white",
            "ticks": ""
           }
          },
          "title": {
           "x": 0.05
          },
          "xaxis": {
           "automargin": true,
           "gridcolor": "white",
           "linecolor": "white",
           "ticks": "",
           "title": {
            "standoff": 15
           },
           "zerolinecolor": "white",
           "zerolinewidth": 2
          },
          "yaxis": {
           "automargin": true,
           "gridcolor": "white",
           "linecolor": "white",
           "ticks": "",
           "title": {
            "standoff": 15
           },
           "zerolinecolor": "white",
           "zerolinewidth": 2
          }
         }
        },
        "title": {
         "text": "Novo Nordisk Twitter Mention Visualization"
        },
        "width": 1000,
        "xaxis": {
         "showgrid": false,
         "showticklabels": false,
         "zeroline": false
        },
        "yaxis": {
         "showgrid": false,
         "showticklabels": false,
         "zeroline": false
        }
       }
      }
     },
     "metadata": {},
     "output_type": "display_data"
    }
   ],
   "source": [
    "# Import LLM processed json data\n",
    "bot_data = json.load(open('novo_bots_llm_processed.json'))\n",
    "nonbot_data = json.load(open('novo_humans_llm_processed.json'))\n",
    "\n",
    "# define theme analysis functions\n",
    "def create_theme_network(data_bot, data_nonbot, min_significance=70):\n",
    "    \"\"\"Create a network graph from themes with a minimum significance level.\"\"\"\n",
    "    G = nx.Graph()\n",
    "\n",
    "    def process_data(data, is_bot=True):\n",
    "        for item in data:\n",
    "            response = item.get('response')\n",
    "            if isinstance(response, str):\n",
    "                try:\n",
    "                    response_data = json.loads(response)\n",
    "                    themes = response_data.get('themes', [])\n",
    "\n",
    "                    for theme in themes:\n",
    "                        significance = theme.get('significance', 0)\n",
    "                        if significance >= min_significance:\n",
    "                            theme_name = theme['theme']\n",
    "                            sentiment = theme.get('sentiment', {})\n",
    "                            average_score = sentiment.get('average_score', 0)\n",
    "\n",
    "                            # Classify sentiment based on average score\n",
    "                            sentiment_class = \"positive\" if average_score > 0 else \"negative\"\n",
    "                            \n",
    "                            subthemes = theme.get('subthemes', [])\n",
    "\n",
    "                            # Add or update theme node\n",
    "                            if not G.has_node(theme_name):\n",
    "                                G.add_node(theme_name,\n",
    "                                           type='theme',\n",
    "                                           is_bot=is_bot,\n",
    "                                           significance=significance,\n",
    "                                           sentiment_class=sentiment_class,\n",
    "                                           average_score=average_score,\n",
    "                                           subthemes=subthemes)\n",
    "                            else:\n",
    "                                # If node exists and bot status is different, mark as mixed\n",
    "                                current_bot_status = G.nodes[theme_name].get('is_bot')\n",
    "                                if current_bot_status != is_bot:\n",
    "                                    G.nodes[theme_name]['is_bot'] = 'mixed'\n",
    "\n",
    "                except json.JSONDecodeError:\n",
    "                    print(f\"Invalid JSON in response: {response}\")\n",
    "\n",
    "    # Process bot and non-bot data\n",
    "    process_data(data_bot, is_bot=True)\n",
    "    process_data(data_nonbot, is_bot=False)\n",
    "\n",
    "    return G\n",
    "def visualize_network(G):\n",
    "    \"\"\"Visualize bot, non-bot, and mixed themes in clustered regions.\"\"\"\n",
    "    bot_nodes = [node for node, data in G.nodes(data=True) if data.get('is_bot') == True]\n",
    "    nonbot_nodes = [node for node, data in G.nodes(data=True) if data.get('is_bot') == False]\n",
    "    mixed_nodes = [node for node, data in G.nodes(data=True) if data.get('is_bot') == 'mixed']\n",
    "\n",
    "    traces = []\n",
    "\n",
    "    def get_node_size(significance):\n",
    "        return 10 + (significance / 5)\n",
    "\n",
    "    def get_node_color(is_bot, sentiment_class):\n",
    "        if is_bot and sentiment_class == 'positive':\n",
    "            return 'rgb(34,139,34)'  # green color for positive bot\n",
    "        elif is_bot and sentiment_class == 'negative':\n",
    "            return 'rgb(255,69,0)'  # red for negative bot\n",
    "        elif not is_bot and sentiment_class == 'positive':\n",
    "            return 'rgb(30,144,255)'  # blue for positive non-bot\n",
    "        elif not is_bot and sentiment_class == 'negative':\n",
    "            return 'rgb(255,99,71)'  # tomato-red-ish, for negative non-bot\n",
    "\n",
    "    for nodes, loc in [(bot_nodes, (-10, -10)), (nonbot_nodes, (10, 10)), (mixed_nodes, (0, 0))]:\n",
    "        if nodes:\n",
    "            x = np.random.normal(loc=loc[0], scale=3, size=len(nodes))\n",
    "            y = np.random.normal(loc=loc[1], scale=3, size=len(nodes))\n",
    "            sizes = [get_node_size(G.nodes[node]['significance']) for node in nodes]\n",
    "            colors = [get_node_color(G.nodes[node]['is_bot'], G.nodes[node]['sentiment_class']) for node in nodes]\n",
    "            hover_texts = [\n",
    "                f\"Theme: {node}<br>Type: {'Bot' if G.nodes[node]['is_bot'] == True else 'Non-Bot'}<br>\"\n",
    "                f\"Significance: {G.nodes[node]['significance']}%<br>\"\n",
    "                f\"Subthemes: {', '.join(G.nodes[node].get('subthemes', []))}<br>\"\n",
    "                f\"Sentiment: {G.nodes[node]['sentiment_class']}<br>\"\n",
    "                f\"Average Score: {G.nodes[node]['average_score']}\"\n",
    "                for node in nodes\n",
    "            ]\n",
    "            traces.append(go.Scatter(\n",
    "                x=x, y=y, mode='markers', hovertext=hover_texts, hoverinfo='text',\n",
    "                marker=dict(size=sizes, color=colors, line=dict(width=1, color='black'))\n",
    "            ))\n",
    "\n",
    "    fig = go.Figure(data=traces)\n",
    "    fig.update_layout(\n",
    "        title=\"Novo Nordisk Twitter Mention Visualization\",\n",
    "        showlegend=False,  # Disable automatic legend\n",
    "        hovermode='closest',\n",
    "        width=1000, height=800,\n",
    "        xaxis=dict(showgrid=False, zeroline=False, showticklabels=False),\n",
    "        yaxis=dict(showgrid=False, zeroline=False, showticklabels=False),\n",
    "        plot_bgcolor='rgb(240,240,240)',\n",
    "        annotations=[\n",
    "            dict(\n",
    "                x=1, y=1.05, showarrow=False, text=(\n",
    "                    \"<b>Legend:</b><br>\"\n",
    "                    \"<span style='color:rgb(34,139,34)'>● Positive Bot</span><br>\"\n",
    "                    \"<span style='color:rgb(255,69,0)'>● Negative Bot</span><br>\"\n",
    "                    \"<span style='color:rgb(30,144,255)'>● Positive Non-Bot</span><br>\"\n",
    "                    \"<span style='color:rgb(255,99,71)'>● Negative Non-Bot</span>\"\n",
    "                ),\n",
    "                xref=\"paper\", yref=\"paper\", align=\"left\", bgcolor=\"rgba(255,255,255,0.7)\",\n",
    "                bordercolor=\"black\", borderwidth=1\n",
    "            )\n",
    "        ]\n",
    "    )\n",
    "\n",
    "    fig.show()\n",
    "if __name__ == \"__main__\":\n",
    "    graph = create_theme_network(bot_data, nonbot_data, min_significance=80)\n",
    "    visualize_network(graph)"
   ]
  },
  {
   "cell_type": "code",
   "execution_count": 20,
   "metadata": {},
   "outputs": [
    {
     "name": "stdout",
     "output_type": "stream",
     "text": [
      "Negative Sentiments (Bot Data):\n",
      "Theme: Competition in the Pharmaceutical Market, Significance: 85%, Average Score: -0.45\n",
      "Theme: Healthcare Policy and Regulation, Significance: 90%, Average Score: -0.62\n",
      "Theme: Medicine Prices and Affordability, Significance: 80%, Average Score: -0.55\n",
      "Theme: Novo Nordisk's Weight Loss Drug WeGovy, Significance: 80%, Average Score: -0.6\n",
      "Theme: Antitrust Groups and Competitors, Significance: 80%, Average Score: -0.8\n",
      "Theme: Robert Kennedy's Health Agency Nomination, Significance: 95%, Average Score: -0.9\n",
      "Theme: Competition in the Weight Loss Market, Significance: 80%, Average Score: -0.56\n",
      "Theme: Novo Nordisk Corporate Issues, Significance: 80%, Average Score: -0.71\n",
      "Theme: Ozempic and Pharmaceutical Industry, Significance: 80%, Average Score: -0.68\n",
      "Theme: Ozempic Side Effects, Significance: 90%, Average Score: -0.9\n",
      "Theme: Ozempic Weight Loss, Significance: 85%, Average Score: -0.67\n",
      "Theme: Ozempic Accessibility, Significance: 92%, Average Score: -0.83\n",
      "Theme: Ozempic Social Impact, Significance: 88%, Average Score: -0.75\n",
      "Theme: Ozempic Criticism, Significance: 96%, Average Score: -0.87\n",
      "Theme: Ozempic Effects and Side Effects, Significance: 80%, Average Score: -0.5\n",
      "Theme: Ozempic Discussion, Significance: 80%, Average Score: -0.6\n",
      "Theme: Ozempic Prescription Controversy, Significance: 80%, Average Score: -0.66\n",
      "Theme: Ozempic's Impact on Society, Significance: 85%, Average Score: -0.6\n",
      "Theme: Ozempic, Significance: 85%, Average Score: -0.7\n",
      "Theme: Wegovy and Ozempic, Significance: 80%, Average Score: -0.8\n",
      "Theme: Healthcare Costs and Insurance Coverage, Significance: 90%, Average Score: -0.9\n",
      "Theme: Weight Loss Comparison, Significance: 80%, Average Score: -0.3\n",
      "Theme: Wegovy and Zepbound Comparison, Significance: 80%, Average Score: -0.5\n",
      "Theme: High Price of Weight Loss Drugs, Significance: 85%, Average Score: -0.6\n",
      "\n",
      "Negative Sentiments (Non-Bot Data):\n",
      "Theme: Medicare and Healthcare Costs, Significance: 85%, Average Score: -0.7\n",
      "Theme: Novo Nordisk Obesity Drug Competition, Significance: 92%, Average Score: -0.4\n",
      "Theme: Criticism of Insulin Pricing, Significance: 90%, Average Score: -0.9\n",
      "Theme: Novo Nordisk Pricing and Lobbying, Significance: 90%, Average Score: -0.85\n",
      "Theme: Health Guidelines and Conflict of Interest, Significance: 95%, Average Score: -0.9\n",
      "Theme: Ozempic Discussion, Significance: 85%, Average Score: -0.6\n",
      "Theme: Ozempic and Health Risks, Significance: 90%, Average Score: -0.7\n",
      "Theme: Lawsuits and Regulatory Issues, Significance: 85%, Average Score: -0.8\n",
      "Theme: Mental Health Concerns and Anorexia, Significance: 90%, Average Score: -0.7\n",
      "Theme: Safety and Risks of Ozempic and Wegovy, Significance: 85%, Average Score: -0.6\n",
      "Theme: Health Risks and Complications, Significance: 90%, Average Score: -0.8\n"
     ]
    }
   ],
   "source": [
    "def load_json_file(file_path):\n",
    "    \"\"\"Load JSON file safely.\"\"\"\n",
    "    try:\n",
    "        with open(file_path, 'r', encoding='utf-8') as file:\n",
    "            return json.load(file)\n",
    "    except Exception as e:\n",
    "        print(f\"Error loading JSON file {file_path}: {e}\")\n",
    "        return []\n",
    "\n",
    "def extract_negative_sentiments(data, min_significance=80):\n",
    "    \"\"\"Extract all negative sentiments with significance above the threshold.\"\"\"\n",
    "    negative_sentiments = []\n",
    "\n",
    "    for item in data:\n",
    "        response = item.get('response')\n",
    "        if isinstance(response, str):\n",
    "            try:\n",
    "                response_data = json.loads(response)\n",
    "                themes = response_data.get('themes', [])\n",
    "\n",
    "                for theme in themes:\n",
    "                    significance = theme.get('significance', 0)\n",
    "                    if significance >= min_significance:\n",
    "                        theme_name = theme['theme']\n",
    "                        sentiment = theme.get('sentiment', {})\n",
    "                        average_score = sentiment.get('average_score', 0)\n",
    "\n",
    "                        # Check if sentiment is negative\n",
    "                        if average_score < 0:\n",
    "                            negative_sentiments.append({\n",
    "                                \"theme\": theme_name,\n",
    "                                \"significance\": significance,\n",
    "                                \"average_score\": average_score,\n",
    "                                \"subthemes\": theme.get('subthemes', [])\n",
    "                            })\n",
    "            except json.JSONDecodeError:\n",
    "                print(f\"Invalid JSON in response: {response}\")\n",
    "    \n",
    "    return negative_sentiments\n",
    "\n",
    "if __name__ == \"__main__\":\n",
    "\n",
    "    # Extract negative sentiments with significance above 80%\n",
    "    negative_bot_sentiments = extract_negative_sentiments(bot_data, min_significance=80)\n",
    "    negative_nonbot_sentiments = extract_negative_sentiments(nonbot_data, min_significance=85)\n",
    "\n",
    "    # Print the negative sentiments\n",
    "    print(\"Negative Sentiments (Bot Data):\")\n",
    "    for sentiment in negative_bot_sentiments:\n",
    "        print(f\"Theme: {sentiment['theme']}, Significance: {sentiment['significance']}%, Average Score: {sentiment['average_score']}\")\n",
    "\n",
    "    print(\"\\nNegative Sentiments (Non-Bot Data):\")\n",
    "    for sentiment in negative_nonbot_sentiments:\n",
    "        print(f\"Theme: {sentiment['theme']}, Significance: {sentiment['significance']}%, Average Score: {sentiment['average_score']}\")\n"
   ]
  }
 ],
 "metadata": {
  "kernelspec": {
   "display_name": ".conda",
   "language": "python",
   "name": "python3"
  },
  "language_info": {
   "codemirror_mode": {
    "name": "ipython",
    "version": 3
   },
   "file_extension": ".py",
   "mimetype": "text/x-python",
   "name": "python",
   "nbconvert_exporter": "python",
   "pygments_lexer": "ipython3",
   "version": "3.12.7"
  }
 },
 "nbformat": 4,
 "nbformat_minor": 2
}
