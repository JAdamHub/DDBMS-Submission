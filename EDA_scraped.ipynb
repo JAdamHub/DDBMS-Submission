{
 "cells": [
  {
   "cell_type": "markdown",
   "metadata": {},
   "source": [
    "## Import"
   ]
  },
  {
   "cell_type": "code",
   "execution_count": 1,
   "metadata": {},
   "outputs": [
    {
     "name": "stdout",
     "output_type": "stream",
     "text": [
      "Requirement already satisfied: requests in ./.conda/lib/python3.12/site-packages (from -r requirements.txt (line 1)) (2.32.3)\n",
      "Requirement already satisfied: ipywidgets in ./.conda/lib/python3.12/site-packages (from -r requirements.txt (line 2)) (8.1.5)\n",
      "Requirement already satisfied: beautifulsoup4 in ./.conda/lib/python3.12/site-packages (from -r requirements.txt (line 3)) (4.12.3)\n",
      "Requirement already satisfied: openai in ./.conda/lib/python3.12/site-packages (from -r requirements.txt (line 4)) (1.55.3)\n",
      "Requirement already satisfied: pydantic in ./.conda/lib/python3.12/site-packages (from -r requirements.txt (line 5)) (2.10.2)\n",
      "Requirement already satisfied: python-louvain in ./.conda/lib/python3.12/site-packages (from -r requirements.txt (line 6)) (0.16)\n",
      "Requirement already satisfied: numpy in ./.conda/lib/python3.12/site-packages (from -r requirements.txt (line 7)) (2.0.2)\n",
      "Collecting numpy (from -r requirements.txt (line 7))\n",
      "  Using cached numpy-2.1.3-cp312-cp312-macosx_14_0_arm64.whl.metadata (62 kB)\n",
      "Requirement already satisfied: pandas in ./.conda/lib/python3.12/site-packages (from -r requirements.txt (line 8)) (2.2.3)\n",
      "Requirement already satisfied: seaborn in ./.conda/lib/python3.12/site-packages (from -r requirements.txt (line 9)) (0.13.2)\n",
      "Requirement already satisfied: matplotlib in ./.conda/lib/python3.12/site-packages (from -r requirements.txt (line 10)) (3.9.3)\n",
      "Requirement already satisfied: scipy in ./.conda/lib/python3.12/site-packages (from -r requirements.txt (line 11)) (1.14.1)\n",
      "Requirement already satisfied: networkx in ./.conda/lib/python3.12/site-packages (from -r requirements.txt (line 12)) (3.4.2)\n",
      "Requirement already satisfied: community in ./.conda/lib/python3.12/site-packages (from -r requirements.txt (line 13)) (1.0.0b1)\n",
      "Requirement already satisfied: setfit in ./.conda/lib/python3.12/site-packages (from -r requirements.txt (line 14)) (1.1.0)\n",
      "Requirement already satisfied: datasets in ./.conda/lib/python3.12/site-packages (from -r requirements.txt (line 15)) (3.1.0)\n",
      "Requirement already satisfied: scikit-learn in ./.conda/lib/python3.12/site-packages (from -r requirements.txt (line 16)) (1.5.2)\n",
      "Requirement already satisfied: torch in ./.conda/lib/python3.12/site-packages (from -r requirements.txt (line 17)) (2.5.1)\n",
      "Requirement already satisfied: pyvis in ./.conda/lib/python3.12/site-packages (from -r requirements.txt (line 18)) (0.3.2)\n",
      "Requirement already satisfied: spacy in ./.conda/lib/python3.12/site-packages (from -r requirements.txt (line 19)) (3.8.2)\n",
      "Requirement already satisfied: umap in ./.conda/lib/python3.12/site-packages (from -r requirements.txt (line 20)) (0.1.1)\n",
      "Requirement already satisfied: plotly in ./.conda/lib/python3.12/site-packages (from -r requirements.txt (line 21)) (5.24.1)\n",
      "Requirement already satisfied: nbformat in ./.conda/lib/python3.12/site-packages (from -r requirements.txt (line 22)) (5.10.4)\n",
      "Requirement already satisfied: tiktoken in ./.conda/lib/python3.12/site-packages (from -r requirements.txt (line 23)) (0.8.0)\n",
      "Requirement already satisfied: wandb in ./.conda/lib/python3.12/site-packages (from -r requirements.txt (line 24)) (0.18.7)\n",
      "Requirement already satisfied: gradio in ./.conda/lib/python3.12/site-packages (from -r requirements.txt (line 25)) (5.7.1)\n",
      "Requirement already satisfied: transformers==4.45.2 in ./.conda/lib/python3.12/site-packages (from -r requirements.txt (line 26)) (4.45.2)\n",
      "Requirement already satisfied: twikit>=2.1.3 in ./.conda/lib/python3.12/site-packages (from -r requirements.txt (line 27)) (2.2.0)\n",
      "Requirement already satisfied: filelock in ./.conda/lib/python3.12/site-packages (from transformers==4.45.2->-r requirements.txt (line 26)) (3.16.1)\n",
      "Requirement already satisfied: huggingface-hub<1.0,>=0.23.2 in ./.conda/lib/python3.12/site-packages (from transformers==4.45.2->-r requirements.txt (line 26)) (0.26.3)\n",
      "Requirement already satisfied: packaging>=20.0 in ./.conda/lib/python3.12/site-packages (from transformers==4.45.2->-r requirements.txt (line 26)) (24.2)\n",
      "Requirement already satisfied: pyyaml>=5.1 in ./.conda/lib/python3.12/site-packages (from transformers==4.45.2->-r requirements.txt (line 26)) (6.0.2)\n",
      "Requirement already satisfied: regex!=2019.12.17 in ./.conda/lib/python3.12/site-packages (from transformers==4.45.2->-r requirements.txt (line 26)) (2024.11.6)\n",
      "Requirement already satisfied: safetensors>=0.4.1 in ./.conda/lib/python3.12/site-packages (from transformers==4.45.2->-r requirements.txt (line 26)) (0.4.5)\n",
      "Requirement already satisfied: tokenizers<0.21,>=0.20 in ./.conda/lib/python3.12/site-packages (from transformers==4.45.2->-r requirements.txt (line 26)) (0.20.3)\n",
      "Requirement already satisfied: tqdm>=4.27 in ./.conda/lib/python3.12/site-packages (from transformers==4.45.2->-r requirements.txt (line 26)) (4.67.1)\n",
      "Requirement already satisfied: charset-normalizer<4,>=2 in ./.conda/lib/python3.12/site-packages (from requests->-r requirements.txt (line 1)) (3.4.0)\n",
      "Requirement already satisfied: idna<4,>=2.5 in ./.conda/lib/python3.12/site-packages (from requests->-r requirements.txt (line 1)) (3.10)\n",
      "Requirement already satisfied: urllib3<3,>=1.21.1 in ./.conda/lib/python3.12/site-packages (from requests->-r requirements.txt (line 1)) (2.2.3)\n",
      "Requirement already satisfied: certifi>=2017.4.17 in ./.conda/lib/python3.12/site-packages (from requests->-r requirements.txt (line 1)) (2024.8.30)\n",
      "Requirement already satisfied: comm>=0.1.3 in ./.conda/lib/python3.12/site-packages (from ipywidgets->-r requirements.txt (line 2)) (0.2.2)\n",
      "Requirement already satisfied: ipython>=6.1.0 in ./.conda/lib/python3.12/site-packages (from ipywidgets->-r requirements.txt (line 2)) (8.30.0)\n",
      "Requirement already satisfied: traitlets>=4.3.1 in ./.conda/lib/python3.12/site-packages (from ipywidgets->-r requirements.txt (line 2)) (5.14.3)\n",
      "Requirement already satisfied: widgetsnbextension~=4.0.12 in ./.conda/lib/python3.12/site-packages (from ipywidgets->-r requirements.txt (line 2)) (4.0.13)\n",
      "Requirement already satisfied: jupyterlab-widgets~=3.0.12 in ./.conda/lib/python3.12/site-packages (from ipywidgets->-r requirements.txt (line 2)) (3.0.13)\n",
      "Requirement already satisfied: soupsieve>1.2 in ./.conda/lib/python3.12/site-packages (from beautifulsoup4->-r requirements.txt (line 3)) (2.6)\n",
      "Requirement already satisfied: anyio<5,>=3.5.0 in ./.conda/lib/python3.12/site-packages (from openai->-r requirements.txt (line 4)) (4.6.2.post1)\n",
      "Requirement already satisfied: distro<2,>=1.7.0 in ./.conda/lib/python3.12/site-packages (from openai->-r requirements.txt (line 4)) (1.9.0)\n",
      "Requirement already satisfied: httpx<1,>=0.23.0 in ./.conda/lib/python3.12/site-packages (from openai->-r requirements.txt (line 4)) (0.28.0)\n",
      "Requirement already satisfied: jiter<1,>=0.4.0 in ./.conda/lib/python3.12/site-packages (from openai->-r requirements.txt (line 4)) (0.8.0)\n",
      "Requirement already satisfied: sniffio in ./.conda/lib/python3.12/site-packages (from openai->-r requirements.txt (line 4)) (1.3.1)\n",
      "Requirement already satisfied: typing-extensions<5,>=4.11 in ./.conda/lib/python3.12/site-packages (from openai->-r requirements.txt (line 4)) (4.12.2)\n",
      "Requirement already satisfied: annotated-types>=0.6.0 in ./.conda/lib/python3.12/site-packages (from pydantic->-r requirements.txt (line 5)) (0.7.0)\n",
      "Requirement already satisfied: pydantic-core==2.27.1 in ./.conda/lib/python3.12/site-packages (from pydantic->-r requirements.txt (line 5)) (2.27.1)\n",
      "Requirement already satisfied: python-dateutil>=2.8.2 in ./.conda/lib/python3.12/site-packages (from pandas->-r requirements.txt (line 8)) (2.9.0.post0)\n",
      "Requirement already satisfied: pytz>=2020.1 in ./.conda/lib/python3.12/site-packages (from pandas->-r requirements.txt (line 8)) (2024.2)\n",
      "Requirement already satisfied: tzdata>=2022.7 in ./.conda/lib/python3.12/site-packages (from pandas->-r requirements.txt (line 8)) (2024.2)\n",
      "Requirement already satisfied: contourpy>=1.0.1 in ./.conda/lib/python3.12/site-packages (from matplotlib->-r requirements.txt (line 10)) (1.3.1)\n",
      "Requirement already satisfied: cycler>=0.10 in ./.conda/lib/python3.12/site-packages (from matplotlib->-r requirements.txt (line 10)) (0.12.1)\n",
      "Requirement already satisfied: fonttools>=4.22.0 in ./.conda/lib/python3.12/site-packages (from matplotlib->-r requirements.txt (line 10)) (4.55.0)\n",
      "Requirement already satisfied: kiwisolver>=1.3.1 in ./.conda/lib/python3.12/site-packages (from matplotlib->-r requirements.txt (line 10)) (1.4.7)\n",
      "Requirement already satisfied: pillow>=8 in ./.conda/lib/python3.12/site-packages (from matplotlib->-r requirements.txt (line 10)) (11.0.0)\n",
      "Requirement already satisfied: pyparsing>=2.3.1 in ./.conda/lib/python3.12/site-packages (from matplotlib->-r requirements.txt (line 10)) (3.2.0)\n",
      "Requirement already satisfied: Flask in ./.conda/lib/python3.12/site-packages (from community->-r requirements.txt (line 13)) (3.1.0)\n",
      "Requirement already satisfied: sentence-transformers>=3 in ./.conda/lib/python3.12/site-packages (from sentence-transformers[train]>=3->setfit->-r requirements.txt (line 14)) (3.3.1)\n",
      "Requirement already satisfied: evaluate>=0.3.0 in ./.conda/lib/python3.12/site-packages (from setfit->-r requirements.txt (line 14)) (0.4.3)\n",
      "Requirement already satisfied: pyarrow>=15.0.0 in ./.conda/lib/python3.12/site-packages (from datasets->-r requirements.txt (line 15)) (18.1.0)\n",
      "Requirement already satisfied: dill<0.3.9,>=0.3.0 in ./.conda/lib/python3.12/site-packages (from datasets->-r requirements.txt (line 15)) (0.3.8)\n",
      "Requirement already satisfied: xxhash in ./.conda/lib/python3.12/site-packages (from datasets->-r requirements.txt (line 15)) (3.5.0)\n",
      "Requirement already satisfied: multiprocess<0.70.17 in ./.conda/lib/python3.12/site-packages (from datasets->-r requirements.txt (line 15)) (0.70.16)\n",
      "Requirement already satisfied: fsspec<=2024.9.0,>=2023.1.0 in ./.conda/lib/python3.12/site-packages (from fsspec[http]<=2024.9.0,>=2023.1.0->datasets->-r requirements.txt (line 15)) (2024.9.0)\n",
      "Requirement already satisfied: aiohttp in ./.conda/lib/python3.12/site-packages (from datasets->-r requirements.txt (line 15)) (3.11.8)\n",
      "Requirement already satisfied: joblib>=1.2.0 in ./.conda/lib/python3.12/site-packages (from scikit-learn->-r requirements.txt (line 16)) (1.4.2)\n",
      "Requirement already satisfied: threadpoolctl>=3.1.0 in ./.conda/lib/python3.12/site-packages (from scikit-learn->-r requirements.txt (line 16)) (3.5.0)\n",
      "Requirement already satisfied: jinja2 in ./.conda/lib/python3.12/site-packages (from torch->-r requirements.txt (line 17)) (3.1.4)\n",
      "Requirement already satisfied: setuptools in ./.conda/lib/python3.12/site-packages (from torch->-r requirements.txt (line 17)) (75.1.0)\n",
      "Requirement already satisfied: sympy==1.13.1 in ./.conda/lib/python3.12/site-packages (from torch->-r requirements.txt (line 17)) (1.13.1)\n",
      "Requirement already satisfied: mpmath<1.4,>=1.1.0 in ./.conda/lib/python3.12/site-packages (from sympy==1.13.1->torch->-r requirements.txt (line 17)) (1.3.0)\n",
      "Requirement already satisfied: jsonpickle>=1.4.1 in ./.conda/lib/python3.12/site-packages (from pyvis->-r requirements.txt (line 18)) (4.0.0)\n",
      "Requirement already satisfied: spacy-legacy<3.1.0,>=3.0.11 in ./.conda/lib/python3.12/site-packages (from spacy->-r requirements.txt (line 19)) (3.0.12)\n",
      "Requirement already satisfied: spacy-loggers<2.0.0,>=1.0.0 in ./.conda/lib/python3.12/site-packages (from spacy->-r requirements.txt (line 19)) (1.0.5)\n",
      "Requirement already satisfied: murmurhash<1.1.0,>=0.28.0 in ./.conda/lib/python3.12/site-packages (from spacy->-r requirements.txt (line 19)) (1.0.11)\n",
      "Requirement already satisfied: cymem<2.1.0,>=2.0.2 in ./.conda/lib/python3.12/site-packages (from spacy->-r requirements.txt (line 19)) (2.0.10)\n",
      "Requirement already satisfied: preshed<3.1.0,>=3.0.2 in ./.conda/lib/python3.12/site-packages (from spacy->-r requirements.txt (line 19)) (3.0.9)\n",
      "Requirement already satisfied: thinc<8.4.0,>=8.3.0 in ./.conda/lib/python3.12/site-packages (from spacy->-r requirements.txt (line 19)) (8.3.2)\n",
      "Requirement already satisfied: wasabi<1.2.0,>=0.9.1 in ./.conda/lib/python3.12/site-packages (from spacy->-r requirements.txt (line 19)) (1.1.3)\n",
      "Requirement already satisfied: srsly<3.0.0,>=2.4.3 in ./.conda/lib/python3.12/site-packages (from spacy->-r requirements.txt (line 19)) (2.4.8)\n",
      "Requirement already satisfied: catalogue<2.1.0,>=2.0.6 in ./.conda/lib/python3.12/site-packages (from spacy->-r requirements.txt (line 19)) (2.0.10)\n",
      "Requirement already satisfied: weasel<0.5.0,>=0.1.0 in ./.conda/lib/python3.12/site-packages (from spacy->-r requirements.txt (line 19)) (0.4.1)\n",
      "Requirement already satisfied: typer<1.0.0,>=0.3.0 in ./.conda/lib/python3.12/site-packages (from spacy->-r requirements.txt (line 19)) (0.14.0)\n",
      "Requirement already satisfied: langcodes<4.0.0,>=3.2.0 in ./.conda/lib/python3.12/site-packages (from spacy->-r requirements.txt (line 19)) (3.5.0)\n",
      "Requirement already satisfied: tenacity>=6.2.0 in ./.conda/lib/python3.12/site-packages (from plotly->-r requirements.txt (line 21)) (9.0.0)\n",
      "Requirement already satisfied: fastjsonschema>=2.15 in ./.conda/lib/python3.12/site-packages (from nbformat->-r requirements.txt (line 22)) (2.21.0)\n",
      "Requirement already satisfied: jsonschema>=2.6 in ./.conda/lib/python3.12/site-packages (from nbformat->-r requirements.txt (line 22)) (4.23.0)\n",
      "Requirement already satisfied: jupyter-core!=5.0.*,>=4.12 in ./.conda/lib/python3.12/site-packages (from nbformat->-r requirements.txt (line 22)) (5.7.2)\n",
      "Requirement already satisfied: click!=8.0.0,>=7.1 in ./.conda/lib/python3.12/site-packages (from wandb->-r requirements.txt (line 24)) (8.1.7)\n",
      "Requirement already satisfied: docker-pycreds>=0.4.0 in ./.conda/lib/python3.12/site-packages (from wandb->-r requirements.txt (line 24)) (0.4.0)\n",
      "Requirement already satisfied: gitpython!=3.1.29,>=1.0.0 in ./.conda/lib/python3.12/site-packages (from wandb->-r requirements.txt (line 24)) (3.1.43)\n",
      "Requirement already satisfied: platformdirs in ./.conda/lib/python3.12/site-packages (from wandb->-r requirements.txt (line 24)) (4.3.6)\n",
      "Requirement already satisfied: protobuf!=4.21.0,!=5.28.0,<6,>=3.19.0 in ./.conda/lib/python3.12/site-packages (from wandb->-r requirements.txt (line 24)) (5.29.0)\n",
      "Requirement already satisfied: psutil>=5.0.0 in ./.conda/lib/python3.12/site-packages (from wandb->-r requirements.txt (line 24)) (5.9.0)\n",
      "Requirement already satisfied: sentry-sdk>=2.0.0 in ./.conda/lib/python3.12/site-packages (from wandb->-r requirements.txt (line 24)) (2.19.0)\n",
      "Requirement already satisfied: setproctitle in ./.conda/lib/python3.12/site-packages (from wandb->-r requirements.txt (line 24)) (1.3.4)\n",
      "Requirement already satisfied: aiofiles<24.0,>=22.0 in ./.conda/lib/python3.12/site-packages (from gradio->-r requirements.txt (line 25)) (23.2.1)\n",
      "Requirement already satisfied: fastapi<1.0,>=0.115.2 in ./.conda/lib/python3.12/site-packages (from gradio->-r requirements.txt (line 25)) (0.115.5)\n",
      "Requirement already satisfied: ffmpy in ./.conda/lib/python3.12/site-packages (from gradio->-r requirements.txt (line 25)) (0.4.0)\n",
      "Requirement already satisfied: gradio-client==1.5.0 in ./.conda/lib/python3.12/site-packages (from gradio->-r requirements.txt (line 25)) (1.5.0)\n",
      "Requirement already satisfied: markupsafe~=2.0 in ./.conda/lib/python3.12/site-packages (from gradio->-r requirements.txt (line 25)) (2.1.5)\n",
      "Requirement already satisfied: orjson~=3.0 in ./.conda/lib/python3.12/site-packages (from gradio->-r requirements.txt (line 25)) (3.10.12)\n",
      "Requirement already satisfied: pydub in ./.conda/lib/python3.12/site-packages (from gradio->-r requirements.txt (line 25)) (0.25.1)\n",
      "Requirement already satisfied: python-multipart==0.0.12 in ./.conda/lib/python3.12/site-packages (from gradio->-r requirements.txt (line 25)) (0.0.12)\n",
      "Requirement already satisfied: ruff>=0.2.2 in ./.conda/lib/python3.12/site-packages (from gradio->-r requirements.txt (line 25)) (0.8.1)\n",
      "Requirement already satisfied: safehttpx<1.0,>=0.1.1 in ./.conda/lib/python3.12/site-packages (from gradio->-r requirements.txt (line 25)) (0.1.1)\n",
      "Requirement already satisfied: semantic-version~=2.0 in ./.conda/lib/python3.12/site-packages (from gradio->-r requirements.txt (line 25)) (2.10.0)\n",
      "Requirement already satisfied: starlette<1.0,>=0.40.0 in ./.conda/lib/python3.12/site-packages (from gradio->-r requirements.txt (line 25)) (0.41.3)\n",
      "Requirement already satisfied: tomlkit==0.12.0 in ./.conda/lib/python3.12/site-packages (from gradio->-r requirements.txt (line 25)) (0.12.0)\n",
      "Requirement already satisfied: uvicorn>=0.14.0 in ./.conda/lib/python3.12/site-packages (from gradio->-r requirements.txt (line 25)) (0.32.1)\n",
      "Requirement already satisfied: websockets<13.0,>=10.0 in ./.conda/lib/python3.12/site-packages (from gradio-client==1.5.0->gradio->-r requirements.txt (line 25)) (12.0)\n",
      "Requirement already satisfied: filetype in ./.conda/lib/python3.12/site-packages (from twikit>=2.1.3->-r requirements.txt (line 27)) (1.2.0)\n",
      "Requirement already satisfied: pyotp in ./.conda/lib/python3.12/site-packages (from twikit>=2.1.3->-r requirements.txt (line 27)) (2.9.0)\n",
      "Requirement already satisfied: lxml in ./.conda/lib/python3.12/site-packages (from twikit>=2.1.3->-r requirements.txt (line 27)) (5.3.0)\n",
      "Requirement already satisfied: six>=1.4.0 in ./.conda/lib/python3.12/site-packages (from docker-pycreds>=0.4.0->wandb->-r requirements.txt (line 24)) (1.16.0)\n",
      "Requirement already satisfied: aiohappyeyeballs>=2.3.0 in ./.conda/lib/python3.12/site-packages (from aiohttp->datasets->-r requirements.txt (line 15)) (2.4.4)\n",
      "Requirement already satisfied: aiosignal>=1.1.2 in ./.conda/lib/python3.12/site-packages (from aiohttp->datasets->-r requirements.txt (line 15)) (1.3.1)\n",
      "Requirement already satisfied: attrs>=17.3.0 in ./.conda/lib/python3.12/site-packages (from aiohttp->datasets->-r requirements.txt (line 15)) (24.2.0)\n",
      "Requirement already satisfied: frozenlist>=1.1.1 in ./.conda/lib/python3.12/site-packages (from aiohttp->datasets->-r requirements.txt (line 15)) (1.5.0)\n",
      "Requirement already satisfied: multidict<7.0,>=4.5 in ./.conda/lib/python3.12/site-packages (from aiohttp->datasets->-r requirements.txt (line 15)) (6.1.0)\n",
      "Requirement already satisfied: propcache>=0.2.0 in ./.conda/lib/python3.12/site-packages (from aiohttp->datasets->-r requirements.txt (line 15)) (0.2.0)\n",
      "Requirement already satisfied: yarl<2.0,>=1.17.0 in ./.conda/lib/python3.12/site-packages (from aiohttp->datasets->-r requirements.txt (line 15)) (1.18.0)\n",
      "Requirement already satisfied: gitdb<5,>=4.0.1 in ./.conda/lib/python3.12/site-packages (from gitpython!=3.1.29,>=1.0.0->wandb->-r requirements.txt (line 24)) (4.0.11)\n",
      "Requirement already satisfied: httpcore==1.* in ./.conda/lib/python3.12/site-packages (from httpx<1,>=0.23.0->openai->-r requirements.txt (line 4)) (1.0.7)\n",
      "Requirement already satisfied: h11<0.15,>=0.13 in ./.conda/lib/python3.12/site-packages (from httpcore==1.*->httpx<1,>=0.23.0->openai->-r requirements.txt (line 4)) (0.14.0)\n",
      "Requirement already satisfied: decorator in ./.conda/lib/python3.12/site-packages (from ipython>=6.1.0->ipywidgets->-r requirements.txt (line 2)) (5.1.1)\n",
      "Requirement already satisfied: jedi>=0.16 in ./.conda/lib/python3.12/site-packages (from ipython>=6.1.0->ipywidgets->-r requirements.txt (line 2)) (0.19.2)\n",
      "Requirement already satisfied: matplotlib-inline in ./.conda/lib/python3.12/site-packages (from ipython>=6.1.0->ipywidgets->-r requirements.txt (line 2)) (0.1.7)\n",
      "Requirement already satisfied: pexpect>4.3 in ./.conda/lib/python3.12/site-packages (from ipython>=6.1.0->ipywidgets->-r requirements.txt (line 2)) (4.9.0)\n",
      "Requirement already satisfied: prompt_toolkit<3.1.0,>=3.0.41 in ./.conda/lib/python3.12/site-packages (from ipython>=6.1.0->ipywidgets->-r requirements.txt (line 2)) (3.0.48)\n",
      "Requirement already satisfied: pygments>=2.4.0 in ./.conda/lib/python3.12/site-packages (from ipython>=6.1.0->ipywidgets->-r requirements.txt (line 2)) (2.18.0)\n",
      "Requirement already satisfied: stack_data in ./.conda/lib/python3.12/site-packages (from ipython>=6.1.0->ipywidgets->-r requirements.txt (line 2)) (0.6.2)\n",
      "Requirement already satisfied: jsonschema-specifications>=2023.03.6 in ./.conda/lib/python3.12/site-packages (from jsonschema>=2.6->nbformat->-r requirements.txt (line 22)) (2024.10.1)\n",
      "Requirement already satisfied: referencing>=0.28.4 in ./.conda/lib/python3.12/site-packages (from jsonschema>=2.6->nbformat->-r requirements.txt (line 22)) (0.35.1)\n",
      "Requirement already satisfied: rpds-py>=0.7.1 in ./.conda/lib/python3.12/site-packages (from jsonschema>=2.6->nbformat->-r requirements.txt (line 22)) (0.21.0)\n",
      "Requirement already satisfied: language-data>=1.2 in ./.conda/lib/python3.12/site-packages (from langcodes<4.0.0,>=3.2.0->spacy->-r requirements.txt (line 19)) (1.3.0)\n",
      "Requirement already satisfied: accelerate>=0.20.3 in ./.conda/lib/python3.12/site-packages (from sentence-transformers[train]>=3->setfit->-r requirements.txt (line 14)) (1.1.1)\n",
      "Requirement already satisfied: blis<1.1.0,>=1.0.0 in ./.conda/lib/python3.12/site-packages (from thinc<8.4.0,>=8.3.0->spacy->-r requirements.txt (line 19)) (1.0.1)\n",
      "Requirement already satisfied: confection<1.0.0,>=0.0.1 in ./.conda/lib/python3.12/site-packages (from thinc<8.4.0,>=8.3.0->spacy->-r requirements.txt (line 19)) (0.1.5)\n",
      "Requirement already satisfied: shellingham>=1.3.0 in ./.conda/lib/python3.12/site-packages (from typer<1.0.0,>=0.3.0->spacy->-r requirements.txt (line 19)) (1.5.4)\n",
      "Requirement already satisfied: rich>=10.11.0 in ./.conda/lib/python3.12/site-packages (from typer<1.0.0,>=0.3.0->spacy->-r requirements.txt (line 19)) (13.9.4)\n",
      "Requirement already satisfied: cloudpathlib<1.0.0,>=0.7.0 in ./.conda/lib/python3.12/site-packages (from weasel<0.5.0,>=0.1.0->spacy->-r requirements.txt (line 19)) (0.20.0)\n",
      "Requirement already satisfied: smart-open<8.0.0,>=5.2.1 in ./.conda/lib/python3.12/site-packages (from weasel<0.5.0,>=0.1.0->spacy->-r requirements.txt (line 19)) (7.0.5)\n",
      "Requirement already satisfied: Werkzeug>=3.1 in ./.conda/lib/python3.12/site-packages (from Flask->community->-r requirements.txt (line 13)) (3.1.3)\n",
      "Requirement already satisfied: itsdangerous>=2.2 in ./.conda/lib/python3.12/site-packages (from Flask->community->-r requirements.txt (line 13)) (2.2.0)\n",
      "Requirement already satisfied: blinker>=1.9 in ./.conda/lib/python3.12/site-packages (from Flask->community->-r requirements.txt (line 13)) (1.9.0)\n",
      "Requirement already satisfied: socksio==1.* in ./.conda/lib/python3.12/site-packages (from httpx[socks]->twikit>=2.1.3->-r requirements.txt (line 27)) (1.0.0)\n",
      "Requirement already satisfied: smmap<6,>=3.0.1 in ./.conda/lib/python3.12/site-packages (from gitdb<5,>=4.0.1->gitpython!=3.1.29,>=1.0.0->wandb->-r requirements.txt (line 24)) (5.0.1)\n",
      "Requirement already satisfied: parso<0.9.0,>=0.8.4 in ./.conda/lib/python3.12/site-packages (from jedi>=0.16->ipython>=6.1.0->ipywidgets->-r requirements.txt (line 2)) (0.8.4)\n",
      "Requirement already satisfied: marisa-trie>=1.1.0 in ./.conda/lib/python3.12/site-packages (from language-data>=1.2->langcodes<4.0.0,>=3.2.0->spacy->-r requirements.txt (line 19)) (1.2.1)\n",
      "Requirement already satisfied: ptyprocess>=0.5 in ./.conda/lib/python3.12/site-packages (from pexpect>4.3->ipython>=6.1.0->ipywidgets->-r requirements.txt (line 2)) (0.7.0)\n",
      "Requirement already satisfied: wcwidth in ./.conda/lib/python3.12/site-packages (from prompt_toolkit<3.1.0,>=3.0.41->ipython>=6.1.0->ipywidgets->-r requirements.txt (line 2)) (0.2.13)\n",
      "Requirement already satisfied: markdown-it-py>=2.2.0 in ./.conda/lib/python3.12/site-packages (from rich>=10.11.0->typer<1.0.0,>=0.3.0->spacy->-r requirements.txt (line 19)) (3.0.0)\n",
      "Requirement already satisfied: wrapt in ./.conda/lib/python3.12/site-packages (from smart-open<8.0.0,>=5.2.1->weasel<0.5.0,>=0.1.0->spacy->-r requirements.txt (line 19)) (1.17.0)\n",
      "Requirement already satisfied: executing>=1.2.0 in ./.conda/lib/python3.12/site-packages (from stack_data->ipython>=6.1.0->ipywidgets->-r requirements.txt (line 2)) (2.1.0)\n",
      "Requirement already satisfied: asttokens>=2.1.0 in ./.conda/lib/python3.12/site-packages (from stack_data->ipython>=6.1.0->ipywidgets->-r requirements.txt (line 2)) (3.0.0)\n",
      "Requirement already satisfied: pure-eval in ./.conda/lib/python3.12/site-packages (from stack_data->ipython>=6.1.0->ipywidgets->-r requirements.txt (line 2)) (0.2.3)\n",
      "Requirement already satisfied: mdurl~=0.1 in ./.conda/lib/python3.12/site-packages (from markdown-it-py>=2.2.0->rich>=10.11.0->typer<1.0.0,>=0.3.0->spacy->-r requirements.txt (line 19)) (0.1.2)\n"
     ]
    }
   ],
   "source": [
    "!pip install -r requirements.txt --upgrade"
   ]
  },
  {
   "cell_type": "code",
   "execution_count": 2,
   "metadata": {},
   "outputs": [
    {
     "name": "stdout",
     "output_type": "stream",
     "text": [
      "Requirement already satisfied: wordcloud in ./.conda/lib/python3.12/site-packages (1.9.4)\n",
      "Requirement already satisfied: numpy>=1.6.1 in ./.conda/lib/python3.12/site-packages (from wordcloud) (2.0.2)\n",
      "Requirement already satisfied: pillow in ./.conda/lib/python3.12/site-packages (from wordcloud) (11.0.0)\n",
      "Requirement already satisfied: matplotlib in ./.conda/lib/python3.12/site-packages (from wordcloud) (3.9.3)\n",
      "Requirement already satisfied: contourpy>=1.0.1 in ./.conda/lib/python3.12/site-packages (from matplotlib->wordcloud) (1.3.1)\n",
      "Requirement already satisfied: cycler>=0.10 in ./.conda/lib/python3.12/site-packages (from matplotlib->wordcloud) (0.12.1)\n",
      "Requirement already satisfied: fonttools>=4.22.0 in ./.conda/lib/python3.12/site-packages (from matplotlib->wordcloud) (4.55.0)\n",
      "Requirement already satisfied: kiwisolver>=1.3.1 in ./.conda/lib/python3.12/site-packages (from matplotlib->wordcloud) (1.4.7)\n",
      "Requirement already satisfied: packaging>=20.0 in ./.conda/lib/python3.12/site-packages (from matplotlib->wordcloud) (24.2)\n",
      "Requirement already satisfied: pyparsing>=2.3.1 in ./.conda/lib/python3.12/site-packages (from matplotlib->wordcloud) (3.2.0)\n",
      "Requirement already satisfied: python-dateutil>=2.7 in ./.conda/lib/python3.12/site-packages (from matplotlib->wordcloud) (2.9.0.post0)\n",
      "Requirement already satisfied: six>=1.5 in ./.conda/lib/python3.12/site-packages (from python-dateutil>=2.7->matplotlib->wordcloud) (1.16.0)\n"
     ]
    }
   ],
   "source": [
    "\n",
    "# Datahandling\n",
    "\n",
    "!pip install wordcloud\n",
    "\n",
    "import requests\n",
    "import os\n",
    "import numpy as np\n",
    "import pandas as pd\n",
    "import seaborn as sns\n",
    "import matplotlib.pyplot as plt\n",
    "import wordcloud\n",
    "import plotly.express as px\n",
    "\n",
    "\n",
    "\n"
   ]
  },
  {
   "cell_type": "markdown",
   "metadata": {},
   "source": [
    "## Non labeled data"
   ]
  },
  {
   "cell_type": "code",
   "execution_count": 3,
   "metadata": {},
   "outputs": [],
   "source": [
    "data = pd.read_csv('output/novonordisk.csv')"
   ]
  },
  {
   "cell_type": "code",
   "execution_count": 4,
   "metadata": {},
   "outputs": [
    {
     "data": {
      "text/html": [
       "<div>\n",
       "<style scoped>\n",
       "    .dataframe tbody tr th:only-of-type {\n",
       "        vertical-align: middle;\n",
       "    }\n",
       "\n",
       "    .dataframe tbody tr th {\n",
       "        vertical-align: top;\n",
       "    }\n",
       "\n",
       "    .dataframe thead th {\n",
       "        text-align: right;\n",
       "    }\n",
       "</style>\n",
       "<table border=\"1\" class=\"dataframe\">\n",
       "  <thead>\n",
       "    <tr style=\"text-align: right;\">\n",
       "      <th></th>\n",
       "      <th>Tweet_id</th>\n",
       "      <th>User_name</th>\n",
       "      <th>Screen_name</th>\n",
       "      <th>Tweet_text</th>\n",
       "      <th>Language</th>\n",
       "      <th>Hashtags</th>\n",
       "      <th>Created_at</th>\n",
       "      <th>Search_keyword</th>\n",
       "    </tr>\n",
       "  </thead>\n",
       "  <tbody>\n",
       "    <tr>\n",
       "      <th>0</th>\n",
       "      <td>1860719438225375240</td>\n",
       "      <td>Quality Stocks</td>\n",
       "      <td>Quality_stocksA</td>\n",
       "      <td>🇩🇰 Novo Nordisk $NVO one pager\\n\\n🏆 Score 7.9/...</td>\n",
       "      <td>en</td>\n",
       "      <td>[]</td>\n",
       "      <td>2024-11-24 16:17:39+00:00</td>\n",
       "      <td>Novo Nordisk</td>\n",
       "    </tr>\n",
       "    <tr>\n",
       "      <th>1</th>\n",
       "      <td>1634584989638725632</td>\n",
       "      <td>The Investing for Beginners Podcast</td>\n",
       "      <td>IFB_podcast</td>\n",
       "      <td>1/37 Today's shallow dive focuses on $NVO Novo...</td>\n",
       "      <td>en</td>\n",
       "      <td>[]</td>\n",
       "      <td>2023-03-11 16:00:05+00:00</td>\n",
       "      <td>Novo Nordisk</td>\n",
       "    </tr>\n",
       "    <tr>\n",
       "      <th>2</th>\n",
       "      <td>1862458532416590198</td>\n",
       "      <td>Oliver | MMMT Wealth (CPA)</td>\n",
       "      <td>MMMTwealth</td>\n",
       "      <td>2. Novo Nordisk | $NOVO 🇩🇰\\n\\nRevenue growth: ...</td>\n",
       "      <td>en</td>\n",
       "      <td>[]</td>\n",
       "      <td>2024-11-29 11:28:11+00:00</td>\n",
       "      <td>Novo Nordisk</td>\n",
       "    </tr>\n",
       "    <tr>\n",
       "      <th>3</th>\n",
       "      <td>1862578552488509669</td>\n",
       "      <td>Buck Parish</td>\n",
       "      <td>flatbush711</td>\n",
       "      <td>Just another Scam from the Dirty Communist Bas...</td>\n",
       "      <td>en</td>\n",
       "      <td>[]</td>\n",
       "      <td>2024-11-29 19:25:06+00:00</td>\n",
       "      <td>Novo Nordisk</td>\n",
       "    </tr>\n",
       "    <tr>\n",
       "      <th>4</th>\n",
       "      <td>1854236893749325830</td>\n",
       "      <td>Trung Phan</td>\n",
       "      <td>TrungTPhan</td>\n",
       "      <td>when you realize Ozempic maker Novo Nordisk ($...</td>\n",
       "      <td>en</td>\n",
       "      <td>[]</td>\n",
       "      <td>2024-11-06 18:58:20+00:00</td>\n",
       "      <td>Novo Nordisk</td>\n",
       "    </tr>\n",
       "  </tbody>\n",
       "</table>\n",
       "</div>"
      ],
      "text/plain": [
       "              Tweet_id                            User_name      Screen_name  \\\n",
       "0  1860719438225375240                       Quality Stocks  Quality_stocksA   \n",
       "1  1634584989638725632  The Investing for Beginners Podcast      IFB_podcast   \n",
       "2  1862458532416590198           Oliver | MMMT Wealth (CPA)       MMMTwealth   \n",
       "3  1862578552488509669                          Buck Parish      flatbush711   \n",
       "4  1854236893749325830                           Trung Phan       TrungTPhan   \n",
       "\n",
       "                                          Tweet_text Language Hashtags  \\\n",
       "0  🇩🇰 Novo Nordisk $NVO one pager\\n\\n🏆 Score 7.9/...       en       []   \n",
       "1  1/37 Today's shallow dive focuses on $NVO Novo...       en       []   \n",
       "2  2. Novo Nordisk | $NOVO 🇩🇰\\n\\nRevenue growth: ...       en       []   \n",
       "3  Just another Scam from the Dirty Communist Bas...       en       []   \n",
       "4  when you realize Ozempic maker Novo Nordisk ($...       en       []   \n",
       "\n",
       "                  Created_at Search_keyword  \n",
       "0  2024-11-24 16:17:39+00:00   Novo Nordisk  \n",
       "1  2023-03-11 16:00:05+00:00   Novo Nordisk  \n",
       "2  2024-11-29 11:28:11+00:00   Novo Nordisk  \n",
       "3  2024-11-29 19:25:06+00:00   Novo Nordisk  \n",
       "4  2024-11-06 18:58:20+00:00   Novo Nordisk  "
      ]
     },
     "execution_count": 4,
     "metadata": {},
     "output_type": "execute_result"
    }
   ],
   "source": [
    "data.head()"
   ]
  },
  {
   "cell_type": "code",
   "execution_count": 5,
   "metadata": {},
   "outputs": [
    {
     "name": "stdout",
     "output_type": "stream",
     "text": [
      "DataFrame Overview:\n",
      "--------------------------------------------------\n",
      "\n",
      "1. DataFrame Shape:\n",
      "Total Rows: 238\n",
      "Total Columns: 8\n",
      "\n",
      "2. Column Information:\n",
      "<class 'pandas.core.frame.DataFrame'>\n",
      "RangeIndex: 238 entries, 0 to 237\n",
      "Data columns (total 8 columns):\n",
      " #   Column          Non-Null Count  Dtype \n",
      "---  ------          --------------  ----- \n",
      " 0   Tweet_id        238 non-null    int64 \n",
      " 1   User_name       238 non-null    object\n",
      " 2   Screen_name     238 non-null    object\n",
      " 3   Tweet_text      238 non-null    object\n",
      " 4   Language        238 non-null    object\n",
      " 5   Hashtags        238 non-null    object\n",
      " 6   Created_at      238 non-null    object\n",
      " 7   Search_keyword  238 non-null    object\n",
      "dtypes: int64(1), object(7)\n",
      "memory usage: 15.0+ KB\n",
      "None\n",
      "\n",
      "3. Missing Values:\n",
      "Tweet_id          0\n",
      "User_name         0\n",
      "Screen_name       0\n",
      "Tweet_text        0\n",
      "Language          0\n",
      "Hashtags          0\n",
      "Created_at        0\n",
      "Search_keyword    0\n",
      "dtype: int64\n",
      "\n",
      "4. Basic Statistics for Numeric Columns:\n",
      "           Tweet_id\n",
      "count  2.380000e+02\n",
      "mean   1.817902e+18\n",
      "std    1.246921e+17\n",
      "min    8.259490e+17\n",
      "25%    1.822926e+18\n",
      "50%    1.859008e+18\n",
      "75%    1.861443e+18\n",
      "max    1.862856e+18\n",
      "\n",
      "User Analysis:\n",
      "--------------------------------------------------\n",
      "\n",
      "Top 10 Users:\n",
      "User_name\n",
      "unusual_whales             10\n",
      "Reuters                     6\n",
      "Novo Nordisk                5\n",
      "Novo Nordisk Foundation     4\n",
      "Quiver Quantitative         4\n",
      "Quality Stocks              3\n",
      "Calley Means                3\n",
      "Pop Crave                   3\n",
      "Bloomberg                   3\n",
      "Charlie Bilello             3\n",
      "Name: count, dtype: int64\n"
     ]
    },
    {
     "data": {
      "application/vnd.plotly.v1+json": {
       "config": {
        "plotlyServerURL": "https://plot.ly"
       },
       "data": [
        {
         "alignmentgroup": "True",
         "hovertemplate": "User=%{x}<br>Number of Tweets=%{y}<extra></extra>",
         "legendgroup": "",
         "marker": {
          "color": "#636efa",
          "pattern": {
           "shape": ""
          }
         },
         "name": "",
         "offsetgroup": "",
         "orientation": "v",
         "showlegend": false,
         "textposition": "auto",
         "type": "bar",
         "x": [
          "unusual_whales",
          "Reuters",
          "Novo Nordisk",
          "Novo Nordisk Foundation",
          "Quiver Quantitative",
          "Quality Stocks",
          "Calley Means",
          "Pop Crave",
          "Bloomberg",
          "Charlie Bilello"
         ],
         "xaxis": "x",
         "y": [
          10,
          6,
          5,
          4,
          4,
          3,
          3,
          3,
          3,
          3
         ],
         "yaxis": "y"
        }
       ],
       "layout": {
        "barmode": "relative",
        "legend": {
         "tracegroupgap": 0
        },
        "template": {
         "data": {
          "bar": [
           {
            "error_x": {
             "color": "#2a3f5f"
            },
            "error_y": {
             "color": "#2a3f5f"
            },
            "marker": {
             "line": {
              "color": "#E5ECF6",
              "width": 0.5
             },
             "pattern": {
              "fillmode": "overlay",
              "size": 10,
              "solidity": 0.2
             }
            },
            "type": "bar"
           }
          ],
          "barpolar": [
           {
            "marker": {
             "line": {
              "color": "#E5ECF6",
              "width": 0.5
             },
             "pattern": {
              "fillmode": "overlay",
              "size": 10,
              "solidity": 0.2
             }
            },
            "type": "barpolar"
           }
          ],
          "carpet": [
           {
            "aaxis": {
             "endlinecolor": "#2a3f5f",
             "gridcolor": "white",
             "linecolor": "white",
             "minorgridcolor": "white",
             "startlinecolor": "#2a3f5f"
            },
            "baxis": {
             "endlinecolor": "#2a3f5f",
             "gridcolor": "white",
             "linecolor": "white",
             "minorgridcolor": "white",
             "startlinecolor": "#2a3f5f"
            },
            "type": "carpet"
           }
          ],
          "choropleth": [
           {
            "colorbar": {
             "outlinewidth": 0,
             "ticks": ""
            },
            "type": "choropleth"
           }
          ],
          "contour": [
           {
            "colorbar": {
             "outlinewidth": 0,
             "ticks": ""
            },
            "colorscale": [
             [
              0,
              "#0d0887"
             ],
             [
              0.1111111111111111,
              "#46039f"
             ],
             [
              0.2222222222222222,
              "#7201a8"
             ],
             [
              0.3333333333333333,
              "#9c179e"
             ],
             [
              0.4444444444444444,
              "#bd3786"
             ],
             [
              0.5555555555555556,
              "#d8576b"
             ],
             [
              0.6666666666666666,
              "#ed7953"
             ],
             [
              0.7777777777777778,
              "#fb9f3a"
             ],
             [
              0.8888888888888888,
              "#fdca26"
             ],
             [
              1,
              "#f0f921"
             ]
            ],
            "type": "contour"
           }
          ],
          "contourcarpet": [
           {
            "colorbar": {
             "outlinewidth": 0,
             "ticks": ""
            },
            "type": "contourcarpet"
           }
          ],
          "heatmap": [
           {
            "colorbar": {
             "outlinewidth": 0,
             "ticks": ""
            },
            "colorscale": [
             [
              0,
              "#0d0887"
             ],
             [
              0.1111111111111111,
              "#46039f"
             ],
             [
              0.2222222222222222,
              "#7201a8"
             ],
             [
              0.3333333333333333,
              "#9c179e"
             ],
             [
              0.4444444444444444,
              "#bd3786"
             ],
             [
              0.5555555555555556,
              "#d8576b"
             ],
             [
              0.6666666666666666,
              "#ed7953"
             ],
             [
              0.7777777777777778,
              "#fb9f3a"
             ],
             [
              0.8888888888888888,
              "#fdca26"
             ],
             [
              1,
              "#f0f921"
             ]
            ],
            "type": "heatmap"
           }
          ],
          "heatmapgl": [
           {
            "colorbar": {
             "outlinewidth": 0,
             "ticks": ""
            },
            "colorscale": [
             [
              0,
              "#0d0887"
             ],
             [
              0.1111111111111111,
              "#46039f"
             ],
             [
              0.2222222222222222,
              "#7201a8"
             ],
             [
              0.3333333333333333,
              "#9c179e"
             ],
             [
              0.4444444444444444,
              "#bd3786"
             ],
             [
              0.5555555555555556,
              "#d8576b"
             ],
             [
              0.6666666666666666,
              "#ed7953"
             ],
             [
              0.7777777777777778,
              "#fb9f3a"
             ],
             [
              0.8888888888888888,
              "#fdca26"
             ],
             [
              1,
              "#f0f921"
             ]
            ],
            "type": "heatmapgl"
           }
          ],
          "histogram": [
           {
            "marker": {
             "pattern": {
              "fillmode": "overlay",
              "size": 10,
              "solidity": 0.2
             }
            },
            "type": "histogram"
           }
          ],
          "histogram2d": [
           {
            "colorbar": {
             "outlinewidth": 0,
             "ticks": ""
            },
            "colorscale": [
             [
              0,
              "#0d0887"
             ],
             [
              0.1111111111111111,
              "#46039f"
             ],
             [
              0.2222222222222222,
              "#7201a8"
             ],
             [
              0.3333333333333333,
              "#9c179e"
             ],
             [
              0.4444444444444444,
              "#bd3786"
             ],
             [
              0.5555555555555556,
              "#d8576b"
             ],
             [
              0.6666666666666666,
              "#ed7953"
             ],
             [
              0.7777777777777778,
              "#fb9f3a"
             ],
             [
              0.8888888888888888,
              "#fdca26"
             ],
             [
              1,
              "#f0f921"
             ]
            ],
            "type": "histogram2d"
           }
          ],
          "histogram2dcontour": [
           {
            "colorbar": {
             "outlinewidth": 0,
             "ticks": ""
            },
            "colorscale": [
             [
              0,
              "#0d0887"
             ],
             [
              0.1111111111111111,
              "#46039f"
             ],
             [
              0.2222222222222222,
              "#7201a8"
             ],
             [
              0.3333333333333333,
              "#9c179e"
             ],
             [
              0.4444444444444444,
              "#bd3786"
             ],
             [
              0.5555555555555556,
              "#d8576b"
             ],
             [
              0.6666666666666666,
              "#ed7953"
             ],
             [
              0.7777777777777778,
              "#fb9f3a"
             ],
             [
              0.8888888888888888,
              "#fdca26"
             ],
             [
              1,
              "#f0f921"
             ]
            ],
            "type": "histogram2dcontour"
           }
          ],
          "mesh3d": [
           {
            "colorbar": {
             "outlinewidth": 0,
             "ticks": ""
            },
            "type": "mesh3d"
           }
          ],
          "parcoords": [
           {
            "line": {
             "colorbar": {
              "outlinewidth": 0,
              "ticks": ""
             }
            },
            "type": "parcoords"
           }
          ],
          "pie": [
           {
            "automargin": true,
            "type": "pie"
           }
          ],
          "scatter": [
           {
            "fillpattern": {
             "fillmode": "overlay",
             "size": 10,
             "solidity": 0.2
            },
            "type": "scatter"
           }
          ],
          "scatter3d": [
           {
            "line": {
             "colorbar": {
              "outlinewidth": 0,
              "ticks": ""
             }
            },
            "marker": {
             "colorbar": {
              "outlinewidth": 0,
              "ticks": ""
             }
            },
            "type": "scatter3d"
           }
          ],
          "scattercarpet": [
           {
            "marker": {
             "colorbar": {
              "outlinewidth": 0,
              "ticks": ""
             }
            },
            "type": "scattercarpet"
           }
          ],
          "scattergeo": [
           {
            "marker": {
             "colorbar": {
              "outlinewidth": 0,
              "ticks": ""
             }
            },
            "type": "scattergeo"
           }
          ],
          "scattergl": [
           {
            "marker": {
             "colorbar": {
              "outlinewidth": 0,
              "ticks": ""
             }
            },
            "type": "scattergl"
           }
          ],
          "scattermapbox": [
           {
            "marker": {
             "colorbar": {
              "outlinewidth": 0,
              "ticks": ""
             }
            },
            "type": "scattermapbox"
           }
          ],
          "scatterpolar": [
           {
            "marker": {
             "colorbar": {
              "outlinewidth": 0,
              "ticks": ""
             }
            },
            "type": "scatterpolar"
           }
          ],
          "scatterpolargl": [
           {
            "marker": {
             "colorbar": {
              "outlinewidth": 0,
              "ticks": ""
             }
            },
            "type": "scatterpolargl"
           }
          ],
          "scatterternary": [
           {
            "marker": {
             "colorbar": {
              "outlinewidth": 0,
              "ticks": ""
             }
            },
            "type": "scatterternary"
           }
          ],
          "surface": [
           {
            "colorbar": {
             "outlinewidth": 0,
             "ticks": ""
            },
            "colorscale": [
             [
              0,
              "#0d0887"
             ],
             [
              0.1111111111111111,
              "#46039f"
             ],
             [
              0.2222222222222222,
              "#7201a8"
             ],
             [
              0.3333333333333333,
              "#9c179e"
             ],
             [
              0.4444444444444444,
              "#bd3786"
             ],
             [
              0.5555555555555556,
              "#d8576b"
             ],
             [
              0.6666666666666666,
              "#ed7953"
             ],
             [
              0.7777777777777778,
              "#fb9f3a"
             ],
             [
              0.8888888888888888,
              "#fdca26"
             ],
             [
              1,
              "#f0f921"
             ]
            ],
            "type": "surface"
           }
          ],
          "table": [
           {
            "cells": {
             "fill": {
              "color": "#EBF0F8"
             },
             "line": {
              "color": "white"
             }
            },
            "header": {
             "fill": {
              "color": "#C8D4E3"
             },
             "line": {
              "color": "white"
             }
            },
            "type": "table"
           }
          ]
         },
         "layout": {
          "annotationdefaults": {
           "arrowcolor": "#2a3f5f",
           "arrowhead": 0,
           "arrowwidth": 1
          },
          "autotypenumbers": "strict",
          "coloraxis": {
           "colorbar": {
            "outlinewidth": 0,
            "ticks": ""
           }
          },
          "colorscale": {
           "diverging": [
            [
             0,
             "#8e0152"
            ],
            [
             0.1,
             "#c51b7d"
            ],
            [
             0.2,
             "#de77ae"
            ],
            [
             0.3,
             "#f1b6da"
            ],
            [
             0.4,
             "#fde0ef"
            ],
            [
             0.5,
             "#f7f7f7"
            ],
            [
             0.6,
             "#e6f5d0"
            ],
            [
             0.7,
             "#b8e186"
            ],
            [
             0.8,
             "#7fbc41"
            ],
            [
             0.9,
             "#4d9221"
            ],
            [
             1,
             "#276419"
            ]
           ],
           "sequential": [
            [
             0,
             "#0d0887"
            ],
            [
             0.1111111111111111,
             "#46039f"
            ],
            [
             0.2222222222222222,
             "#7201a8"
            ],
            [
             0.3333333333333333,
             "#9c179e"
            ],
            [
             0.4444444444444444,
             "#bd3786"
            ],
            [
             0.5555555555555556,
             "#d8576b"
            ],
            [
             0.6666666666666666,
             "#ed7953"
            ],
            [
             0.7777777777777778,
             "#fb9f3a"
            ],
            [
             0.8888888888888888,
             "#fdca26"
            ],
            [
             1,
             "#f0f921"
            ]
           ],
           "sequentialminus": [
            [
             0,
             "#0d0887"
            ],
            [
             0.1111111111111111,
             "#46039f"
            ],
            [
             0.2222222222222222,
             "#7201a8"
            ],
            [
             0.3333333333333333,
             "#9c179e"
            ],
            [
             0.4444444444444444,
             "#bd3786"
            ],
            [
             0.5555555555555556,
             "#d8576b"
            ],
            [
             0.6666666666666666,
             "#ed7953"
            ],
            [
             0.7777777777777778,
             "#fb9f3a"
            ],
            [
             0.8888888888888888,
             "#fdca26"
            ],
            [
             1,
             "#f0f921"
            ]
           ]
          },
          "colorway": [
           "#636efa",
           "#EF553B",
           "#00cc96",
           "#ab63fa",
           "#FFA15A",
           "#19d3f3",
           "#FF6692",
           "#B6E880",
           "#FF97FF",
           "#FECB52"
          ],
          "font": {
           "color": "#2a3f5f"
          },
          "geo": {
           "bgcolor": "white",
           "lakecolor": "white",
           "landcolor": "#E5ECF6",
           "showlakes": true,
           "showland": true,
           "subunitcolor": "white"
          },
          "hoverlabel": {
           "align": "left"
          },
          "hovermode": "closest",
          "mapbox": {
           "style": "light"
          },
          "paper_bgcolor": "white",
          "plot_bgcolor": "#E5ECF6",
          "polar": {
           "angularaxis": {
            "gridcolor": "white",
            "linecolor": "white",
            "ticks": ""
           },
           "bgcolor": "#E5ECF6",
           "radialaxis": {
            "gridcolor": "white",
            "linecolor": "white",
            "ticks": ""
           }
          },
          "scene": {
           "xaxis": {
            "backgroundcolor": "#E5ECF6",
            "gridcolor": "white",
            "gridwidth": 2,
            "linecolor": "white",
            "showbackground": true,
            "ticks": "",
            "zerolinecolor": "white"
           },
           "yaxis": {
            "backgroundcolor": "#E5ECF6",
            "gridcolor": "white",
            "gridwidth": 2,
            "linecolor": "white",
            "showbackground": true,
            "ticks": "",
            "zerolinecolor": "white"
           },
           "zaxis": {
            "backgroundcolor": "#E5ECF6",
            "gridcolor": "white",
            "gridwidth": 2,
            "linecolor": "white",
            "showbackground": true,
            "ticks": "",
            "zerolinecolor": "white"
           }
          },
          "shapedefaults": {
           "line": {
            "color": "#2a3f5f"
           }
          },
          "ternary": {
           "aaxis": {
            "gridcolor": "white",
            "linecolor": "white",
            "ticks": ""
           },
           "baxis": {
            "gridcolor": "white",
            "linecolor": "white",
            "ticks": ""
           },
           "bgcolor": "#E5ECF6",
           "caxis": {
            "gridcolor": "white",
            "linecolor": "white",
            "ticks": ""
           }
          },
          "title": {
           "x": 0.05
          },
          "xaxis": {
           "automargin": true,
           "gridcolor": "white",
           "linecolor": "white",
           "ticks": "",
           "title": {
            "standoff": 15
           },
           "zerolinecolor": "white",
           "zerolinewidth": 2
          },
          "yaxis": {
           "automargin": true,
           "gridcolor": "white",
           "linecolor": "white",
           "ticks": "",
           "title": {
            "standoff": 15
           },
           "zerolinecolor": "white",
           "zerolinewidth": 2
          }
         }
        },
        "title": {
         "text": "Top 10 Users by Tweet Count"
        },
        "xaxis": {
         "anchor": "y",
         "domain": [
          0,
          1
         ],
         "title": {
          "text": "User"
         }
        },
        "yaxis": {
         "anchor": "x",
         "domain": [
          0,
          1
         ],
         "title": {
          "text": "Number of Tweets"
         }
        }
       }
      }
     },
     "metadata": {},
     "output_type": "display_data"
    },
    {
     "name": "stdout",
     "output_type": "stream",
     "text": [
      "\n",
      "Hashtag Analysis:\n",
      "--------------------------------------------------\n",
      "\n",
      "Hashtag Statistics:\n",
      "count    238.000000\n",
      "mean       0.231092\n",
      "std        0.932964\n",
      "min        0.000000\n",
      "25%        0.000000\n",
      "50%        0.000000\n",
      "75%        0.000000\n",
      "max        6.000000\n",
      "Name: Hashtag_Count, dtype: float64\n"
     ]
    },
    {
     "data": {
      "image/png": "[encoded data removed]",
      "text/plain": [
       "<Figure size 1000x600 with 1 Axes>"
      ]
     },
     "metadata": {},
     "output_type": "display_data"
    },
    {
     "name": "stdout",
     "output_type": "stream",
     "text": [
      "\n",
      "Keyword Analysis:\n",
      "--------------------------------------------------\n",
      "\n",
      "Search Keywords:\n",
      "Search_keyword\n",
      "Novo Nordisk    140\n",
      "Ozempic          98\n",
      "Name: count, dtype: int64\n"
     ]
    },
    {
     "data": {
      "application/vnd.plotly.v1+json": {
       "config": {
        "plotlyServerURL": "https://plot.ly"
       },
       "data": [
        {
         "domain": {
          "x": [
           0,
           1
          ],
          "y": [
           0,
           1
          ]
         },
         "hovertemplate": "label=%{label}<br>value=%{value}<extra></extra>",
         "labels": [
          "Novo Nordisk",
          "Ozempic"
         ],
         "legendgroup": "",
         "name": "",
         "showlegend": true,
         "type": "pie",
         "values": [
          140,
          98
         ]
        }
       ],
       "layout": {
        "legend": {
         "tracegroupgap": 0
        },
        "template": {
         "data": {
          "bar": [
           {
            "error_x": {
             "color": "#2a3f5f"
            },
            "error_y": {
             "color": "#2a3f5f"
            },
            "marker": {
             "line": {
              "color": "#E5ECF6",
              "width": 0.5
             },
             "pattern": {
              "fillmode": "overlay",
              "size": 10,
              "solidity": 0.2
             }
            },
            "type": "bar"
           }
          ],
          "barpolar": [
           {
            "marker": {
             "line": {
              "color": "#E5ECF6",
              "width": 0.5
             },
             "pattern": {
              "fillmode": "overlay",
              "size": 10,
              "solidity": 0.2
             }
            },
            "type": "barpolar"
           }
          ],
          "carpet": [
           {
            "aaxis": {
             "endlinecolor": "#2a3f5f",
             "gridcolor": "white",
             "linecolor": "white",
             "minorgridcolor": "white",
             "startlinecolor": "#2a3f5f"
            },
            "baxis": {
             "endlinecolor": "#2a3f5f",
             "gridcolor": "white",
             "linecolor": "white",
             "minorgridcolor": "white",
             "startlinecolor": "#2a3f5f"
            },
            "type": "carpet"
           }
          ],
          "choropleth": [
           {
            "colorbar": {
             "outlinewidth": 0,
             "ticks": ""
            },
            "type": "choropleth"
           }
          ],
          "contour": [
           {
            "colorbar": {
             "outlinewidth": 0,
             "ticks": ""
            },
            "colorscale": [
             [
              0,
              "#0d0887"
             ],
             [
              0.1111111111111111,
              "#46039f"
             ],
             [
              0.2222222222222222,
              "#7201a8"
             ],
             [
              0.3333333333333333,
              "#9c179e"
             ],
             [
              0.4444444444444444,
              "#bd3786"
             ],
             [
              0.5555555555555556,
              "#d8576b"
             ],
             [
              0.6666666666666666,
              "#ed7953"
             ],
             [
              0.7777777777777778,
              "#fb9f3a"
             ],
             [
              0.8888888888888888,
              "#fdca26"
             ],
             [
              1,
              "#f0f921"
             ]
            ],
            "type": "contour"
           }
          ],
          "contourcarpet": [
           {
            "colorbar": {
             "outlinewidth": 0,
             "ticks": ""
            },
            "type": "contourcarpet"
           }
          ],
          "heatmap": [
           {
            "colorbar": {
             "outlinewidth": 0,
             "ticks": ""
            },
            "colorscale": [
             [
              0,
              "#0d0887"
             ],
             [
              0.1111111111111111,
              "#46039f"
             ],
             [
              0.2222222222222222,
              "#7201a8"
             ],
             [
              0.3333333333333333,
              "#9c179e"
             ],
             [
              0.4444444444444444,
              "#bd3786"
             ],
             [
              0.5555555555555556,
              "#d8576b"
             ],
             [
              0.6666666666666666,
              "#ed7953"
             ],
             [
              0.7777777777777778,
              "#fb9f3a"
             ],
             [
              0.8888888888888888,
              "#fdca26"
             ],
             [
              1,
              "#f0f921"
             ]
            ],
            "type": "heatmap"
           }
          ],
          "heatmapgl": [
           {
            "colorbar": {
             "outlinewidth": 0,
             "ticks": ""
            },
            "colorscale": [
             [
              0,
              "#0d0887"
             ],
             [
              0.1111111111111111,
              "#46039f"
             ],
             [
              0.2222222222222222,
              "#7201a8"
             ],
             [
              0.3333333333333333,
              "#9c179e"
             ],
             [
              0.4444444444444444,
              "#bd3786"
             ],
             [
              0.5555555555555556,
              "#d8576b"
             ],
             [
              0.6666666666666666,
              "#ed7953"
             ],
             [
              0.7777777777777778,
              "#fb9f3a"
             ],
             [
              0.8888888888888888,
              "#fdca26"
             ],
             [
              1,
              "#f0f921"
             ]
            ],
            "type": "heatmapgl"
           }
          ],
          "histogram": [
           {
            "marker": {
             "pattern": {
              "fillmode": "overlay",
              "size": 10,
              "solidity": 0.2
             }
            },
            "type": "histogram"
           }
          ],
          "histogram2d": [
           {
            "colorbar": {
             "outlinewidth": 0,
             "ticks": ""
            },
            "colorscale": [
             [
              0,
              "#0d0887"
             ],
             [
              0.1111111111111111,
              "#46039f"
             ],
             [
              0.2222222222222222,
              "#7201a8"
             ],
             [
              0.3333333333333333,
              "#9c179e"
             ],
             [
              0.4444444444444444,
              "#bd3786"
             ],
             [
              0.5555555555555556,
              "#d8576b"
             ],
             [
              0.6666666666666666,
              "#ed7953"
             ],
             [
              0.7777777777777778,
              "#fb9f3a"
             ],
             [
              0.8888888888888888,
              "#fdca26"
             ],
             [
              1,
              "#f0f921"
             ]
            ],
            "type": "histogram2d"
           }
          ],
          "histogram2dcontour": [
           {
            "colorbar": {
             "outlinewidth": 0,
             "ticks": ""
            },
            "colorscale": [
             [
              0,
              "#0d0887"
             ],
             [
              0.1111111111111111,
              "#46039f"
             ],
             [
              0.2222222222222222,
              "#7201a8"
             ],
             [
              0.3333333333333333,
              "#9c179e"
             ],
             [
              0.4444444444444444,
              "#bd3786"
             ],
             [
              0.5555555555555556,
              "#d8576b"
             ],
             [
              0.6666666666666666,
              "#ed7953"
             ],
             [
              0.7777777777777778,
              "#fb9f3a"
             ],
             [
              0.8888888888888888,
              "#fdca26"
             ],
             [
              1,
              "#f0f921"
             ]
            ],
            "type": "histogram2dcontour"
           }
          ],
          "mesh3d": [
           {
            "colorbar": {
             "outlinewidth": 0,
             "ticks": ""
            },
            "type": "mesh3d"
           }
          ],
          "parcoords": [
           {
            "line": {
             "colorbar": {
              "outlinewidth": 0,
              "ticks": ""
             }
            },
            "type": "parcoords"
           }
          ],
          "pie": [
           {
            "automargin": true,
            "type": "pie"
           }
          ],
          "scatter": [
           {
            "fillpattern": {
             "fillmode": "overlay",
             "size": 10,
             "solidity": 0.2
            },
            "type": "scatter"
           }
          ],
          "scatter3d": [
           {
            "line": {
             "colorbar": {
              "outlinewidth": 0,
              "ticks": ""
             }
            },
            "marker": {
             "colorbar": {
              "outlinewidth": 0,
              "ticks": ""
             }
            },
            "type": "scatter3d"
           }
          ],
          "scattercarpet": [
           {
            "marker": {
             "colorbar": {
              "outlinewidth": 0,
              "ticks": ""
             }
            },
            "type": "scattercarpet"
           }
          ],
          "scattergeo": [
           {
            "marker": {
             "colorbar": {
              "outlinewidth": 0,
              "ticks": ""
             }
            },
            "type": "scattergeo"
           }
          ],
          "scattergl": [
           {
            "marker": {
             "colorbar": {
              "outlinewidth": 0,
              "ticks": ""
             }
            },
            "type": "scattergl"
           }
          ],
          "scattermapbox": [
           {
            "marker": {
             "colorbar": {
              "outlinewidth": 0,
              "ticks": ""
             }
            },
            "type": "scattermapbox"
           }
          ],
          "scatterpolar": [
           {
            "marker": {
             "colorbar": {
              "outlinewidth": 0,
              "ticks": ""
             }
            },
            "type": "scatterpolar"
           }
          ],
          "scatterpolargl": [
           {
            "marker": {
             "colorbar": {
              "outlinewidth": 0,
              "ticks": ""
             }
            },
            "type": "scatterpolargl"
           }
          ],
          "scatterternary": [
           {
            "marker": {
             "colorbar": {
              "outlinewidth": 0,
              "ticks": ""
             }
            },
            "type": "scatterternary"
           }
          ],
          "surface": [
           {
            "colorbar": {
             "outlinewidth": 0,
             "ticks": ""
            },
            "colorscale": [
             [
              0,
              "#0d0887"
             ],
             [
              0.1111111111111111,
              "#46039f"
             ],
             [
              0.2222222222222222,
              "#7201a8"
             ],
             [
              0.3333333333333333,
              "#9c179e"
             ],
             [
              0.4444444444444444,
              "#bd3786"
             ],
             [
              0.5555555555555556,
              "#d8576b"
             ],
             [
              0.6666666666666666,
              "#ed7953"
             ],
             [
              0.7777777777777778,
              "#fb9f3a"
             ],
             [
              0.8888888888888888,
              "#fdca26"
             ],
             [
              1,
              "#f0f921"
             ]
            ],
            "type": "surface"
           }
          ],
          "table": [
           {
            "cells": {
             "fill": {
              "color": "#EBF0F8"
             },
             "line": {
              "color": "white"
             }
            },
            "header": {
             "fill": {
              "color": "#C8D4E3"
             },
             "line": {
              "color": "white"
             }
            },
            "type": "table"
           }
          ]
         },
         "layout": {
          "annotationdefaults": {
           "arrowcolor": "#2a3f5f",
           "arrowhead": 0,
           "arrowwidth": 1
          },
          "autotypenumbers": "strict",
          "coloraxis": {
           "colorbar": {
            "outlinewidth": 0,
            "ticks": ""
           }
          },
          "colorscale": {
           "diverging": [
            [
             0,
             "#8e0152"
            ],
            [
             0.1,
             "#c51b7d"
            ],
            [
             0.2,
             "#de77ae"
            ],
            [
             0.3,
             "#f1b6da"
            ],
            [
             0.4,
             "#fde0ef"
            ],
            [
             0.5,
             "#f7f7f7"
            ],
            [
             0.6,
             "#e6f5d0"
            ],
            [
             0.7,
             "#b8e186"
            ],
            [
             0.8,
             "#7fbc41"
            ],
            [
             0.9,
             "#4d9221"
            ],
            [
             1,
             "#276419"
            ]
           ],
           "sequential": [
            [
             0,
             "#0d0887"
            ],
            [
             0.1111111111111111,
             "#46039f"
            ],
            [
             0.2222222222222222,
             "#7201a8"
            ],
            [
             0.3333333333333333,
             "#9c179e"
            ],
            [
             0.4444444444444444,
             "#bd3786"
            ],
            [
             0.5555555555555556,
             "#d8576b"
            ],
            [
             0.6666666666666666,
             "#ed7953"
            ],
            [
             0.7777777777777778,
             "#fb9f3a"
            ],
            [
             0.8888888888888888,
             "#fdca26"
            ],
            [
             1,
             "#f0f921"
            ]
           ],
           "sequentialminus": [
            [
             0,
             "#0d0887"
            ],
            [
             0.1111111111111111,
             "#46039f"
            ],
            [
             0.2222222222222222,
             "#7201a8"
            ],
            [
             0.3333333333333333,
             "#9c179e"
            ],
            [
             0.4444444444444444,
             "#bd3786"
            ],
            [
             0.5555555555555556,
             "#d8576b"
            ],
            [
             0.6666666666666666,
             "#ed7953"
            ],
            [
             0.7777777777777778,
             "#fb9f3a"
            ],
            [
             0.8888888888888888,
             "#fdca26"
            ],
            [
             1,
             "#f0f921"
            ]
           ]
          },
          "colorway": [
           "#636efa",
           "#EF553B",
           "#00cc96",
           "#ab63fa",
           "#FFA15A",
           "#19d3f3",
           "#FF6692",
           "#B6E880",
           "#FF97FF",
           "#FECB52"
          ],
          "font": {
           "color": "#2a3f5f"
          },
          "geo": {
           "bgcolor": "white",
           "lakecolor": "white",
           "landcolor": "#E5ECF6",
           "showlakes": true,
           "showland": true,
           "subunitcolor": "white"
          },
          "hoverlabel": {
           "align": "left"
          },
          "hovermode": "closest",
          "mapbox": {
           "style": "light"
          },
          "paper_bgcolor": "white",
          "plot_bgcolor": "#E5ECF6",
          "polar": {
           "angularaxis": {
            "gridcolor": "white",
            "linecolor": "white",
            "ticks": ""
           },
           "bgcolor": "#E5ECF6",
           "radialaxis": {
            "gridcolor": "white",
            "linecolor": "white",
            "ticks": ""
           }
          },
          "scene": {
           "xaxis": {
            "backgroundcolor": "#E5ECF6",
            "gridcolor": "white",
            "gridwidth": 2,
            "linecolor": "white",
            "showbackground": true,
            "ticks": "",
            "zerolinecolor": "white"
           },
           "yaxis": {
            "backgroundcolor": "#E5ECF6",
            "gridcolor": "white",
            "gridwidth": 2,
            "linecolor": "white",
            "showbackground": true,
            "ticks": "",
            "zerolinecolor": "white"
           },
           "zaxis": {
            "backgroundcolor": "#E5ECF6",
            "gridcolor": "white",
            "gridwidth": 2,
            "linecolor": "white",
            "showbackground": true,
            "ticks": "",
            "zerolinecolor": "white"
           }
          },
          "shapedefaults": {
           "line": {
            "color": "#2a3f5f"
           }
          },
          "ternary": {
           "aaxis": {
            "gridcolor": "white",
            "linecolor": "white",
            "ticks": ""
           },
           "baxis": {
            "gridcolor": "white",
            "linecolor": "white",
            "ticks": ""
           },
           "bgcolor": "#E5ECF6",
           "caxis": {
            "gridcolor": "white",
            "linecolor": "white",
            "ticks": ""
           }
          },
          "title": {
           "x": 0.05
          },
          "xaxis": {
           "automargin": true,
           "gridcolor": "white",
           "linecolor": "white",
           "ticks": "",
           "title": {
            "standoff": 15
           },
           "zerolinecolor": "white",
           "zerolinewidth": 2
          },
          "yaxis": {
           "automargin": true,
           "gridcolor": "white",
           "linecolor": "white",
           "ticks": "",
           "title": {
            "standoff": 15
           },
           "zerolinecolor": "white",
           "zerolinewidth": 2
          }
         }
        },
        "title": {
         "text": "Search Keywords Distribution"
        }
       }
      }
     },
     "metadata": {},
     "output_type": "display_data"
    },
    {
     "name": "stdout",
     "output_type": "stream",
     "text": [
      "\n",
      "Text Analysis:\n",
      "--------------------------------------------------\n",
      "\n",
      "Tweet Length Statistics:\n",
      "count    238.000000\n",
      "mean     176.331933\n",
      "std       90.486607\n",
      "min       40.000000\n",
      "25%       97.250000\n",
      "50%      161.500000\n",
      "75%      273.250000\n",
      "max      318.000000\n",
      "Name: Tweet_Length, dtype: float64\n"
     ]
    },
    {
     "data": {
      "image/png": "[encoded data removed]",
      "text/plain": [
       "<Figure size 1000x600 with 1 Axes>"
      ]
     },
     "metadata": {},
     "output_type": "display_data"
    },
    {
     "name": "stdout",
     "output_type": "stream",
     "text": [
      "\n",
      "Word Count Statistics:\n",
      "count    238.000000\n",
      "mean      26.348739\n",
      "std       15.077585\n",
      "min        3.000000\n",
      "25%       13.000000\n",
      "50%       24.000000\n",
      "75%       41.000000\n",
      "max       56.000000\n",
      "Name: Word_Count, dtype: float64\n"
     ]
    },
    {
     "data": {
      "image/png": "[encoded data removed]",
      "text/plain": [
       "<Figure size 1000x600 with 1 Axes>"
      ]
     },
     "metadata": {},
     "output_type": "display_data"
    },
    {
     "name": "stdout",
     "output_type": "stream",
     "text": [
      "\n",
      "Word Frequency Analysis:\n",
      "--------------------------------------------------\n"
     ]
    },
    {
     "data": {
      "image/png": "[encoded data removed]",
      "text/plain": [
       "<Figure size 1200x600 with 1 Axes>"
      ]
     },
     "metadata": {},
     "output_type": "display_data"
    },
    {
     "name": "stdout",
     "output_type": "stream",
     "text": [
      "\n",
      "Top 20 Most Frequent Words:\n",
      "https: 218\n",
      "novo: 139\n",
      "nordisk: 132\n",
      "ozempic: 115\n",
      "drug: 51\n",
      "obesity: 45\n",
      "that: 44\n",
      "this: 44\n",
      "are: 40\n",
      "weight: 32\n",
      "loss: 31\n",
      "you: 30\n",
      "nvo: 29\n",
      "lilly: 25\n",
      "wegovy: 25\n",
      "drugs: 23\n",
      "eli: 22\n",
      "company: 22\n",
      "amp: 22\n",
      "more: 21\n"
     ]
    }
   ],
   "source": [
    "import pandas as pd\n",
    "import matplotlib.pyplot as plt\n",
    "import seaborn as sns\n",
    "import plotly.express as px\n",
    "import plotly.graph_objs as go\n",
    "\n",
    "\n",
    "# Basic Overview\n",
    "def basic_eda(data):\n",
    "    print(\"DataFrame Overview:\")\n",
    "    print(\"-\" * 50)\n",
    "    \n",
    "    # Basic Information\n",
    "    print(\"\\n1. DataFrame Shape:\")\n",
    "    print(f\"Total Rows: {data.shape[0]}\")\n",
    "    print(f\"Total Columns: {data.shape[1]}\")\n",
    "    \n",
    "    print(\"\\n2. Column Information:\")\n",
    "    print(data.info())\n",
    "    \n",
    "    print(\"\\n3. Missing Values:\")\n",
    "    print(data.isnull().sum())\n",
    "    \n",
    "    print(\"\\n4. Basic Statistics for Numeric Columns:\")\n",
    "    print(data.describe())\n",
    "\n",
    "\n",
    "# User Analysis\n",
    "def user_analysis(data):\n",
    "    print(\"\\nUser Analysis:\")\n",
    "    print(\"-\" * 50)\n",
    "    \n",
    "    # Top Users\n",
    "    top_users = data['User_name'].value_counts().head(10)\n",
    "    print(\"\\nTop 10 Users:\")\n",
    "    print(top_users)\n",
    "    \n",
    "    # Plotly Bar Chart for Top Users\n",
    "    fig = px.bar(\n",
    "        x=top_users.index, \n",
    "        y=top_users.values, \n",
    "        title='Top 10 Users by Tweet Count',\n",
    "        labels={'x': 'User', 'y': 'Number of Tweets'}\n",
    "    )\n",
    "    fig.show()\n",
    "\n",
    "\n",
    "# Hashtag Analysis\n",
    "def hashtag_analysis(data):\n",
    "    # Extract and flatten hashtags\n",
    "    data['Hashtag_Count'] = data['Hashtags'].apply(lambda x: len(eval(x)) if isinstance(x, str) else 0)\n",
    "    \n",
    "    print(\"\\nHashtag Analysis:\")\n",
    "    print(\"-\" * 50)\n",
    "    \n",
    "    print(\"\\nHashtag Statistics:\")\n",
    "    print(data['Hashtag_Count'].describe())\n",
    "    \n",
    "    # Histogram of Hashtag Counts\n",
    "    plt.figure(figsize=(10, 6))\n",
    "    data['Hashtag_Count'].hist(bins=20)\n",
    "    plt.title('Distribution of Hashtags per Tweet')\n",
    "    plt.xlabel('Number of Hashtags')\n",
    "    plt.ylabel('Frequency')\n",
    "    plt.show()\n",
    "\n",
    "\n",
    "# Keyword Analysis\n",
    "def keyword_analysis(data):\n",
    "    print(\"\\nKeyword Analysis:\")\n",
    "    print(\"-\" * 50)\n",
    "    \n",
    "    keyword_counts = data['Search_keyword'].value_counts()\n",
    "    print(\"\\nSearch Keywords:\")\n",
    "    print(keyword_counts)\n",
    "    \n",
    "    # Pie Chart of Keywords\n",
    "    fig = px.pie(\n",
    "        names=keyword_counts.index, \n",
    "        values=keyword_counts.values, \n",
    "        title='Search Keywords Distribution'\n",
    "    )\n",
    "    fig.show()\n",
    "\n",
    "\n",
    "# Text Analysis\n",
    "def text_analysis(data):\n",
    "    print(\"\\nText Analysis:\")\n",
    "    print(\"-\" * 50)\n",
    "    \n",
    "    # Tweet Length Analysis\n",
    "    data['Tweet_Length'] = data['Tweet_text'].str.len()\n",
    "    \n",
    "    print(\"\\nTweet Length Statistics:\")\n",
    "    print(data['Tweet_Length'].describe())\n",
    "    \n",
    "    # Histogram of Tweet Lengths\n",
    "    plt.figure(figsize=(10, 6))\n",
    "    data['Tweet_Length'].hist(bins=30)\n",
    "    plt.title('Distribution of Tweet Lengths')\n",
    "    plt.xlabel('Tweet Length (characters)')\n",
    "    plt.ylabel('Frequency')\n",
    "    plt.show()\n",
    "    \n",
    "    # Word Count Analysis\n",
    "    data['Word_Count'] = data['Tweet_text'].str.split().str.len()\n",
    "    \n",
    "    print(\"\\nWord Count Statistics:\")\n",
    "    print(data['Word_Count'].describe())\n",
    "    \n",
    "    # Histogram of Word Counts\n",
    "    plt.figure(figsize=(10, 6))\n",
    "    data['Word_Count'].hist(bins=30)\n",
    "    plt.title('Distribution of Word Counts')\n",
    "    plt.xlabel('Number of Words')\n",
    "    plt.ylabel('Frequency')\n",
    "    plt.show()\n",
    "\n",
    "\n",
    "# Word Frequency Analysis\n",
    "def word_frequency_analysis(data):\n",
    "    print(\"\\nWord Frequency Analysis:\")\n",
    "    print(\"-\" * 50)\n",
    "    \n",
    "    # Combine all tweets\n",
    "    all_tweets = ' '.join(data['Tweet_text'])\n",
    "    \n",
    "    # Basic word frequency\n",
    "    from collections import Counter\n",
    "    import re\n",
    "    \n",
    "    # Clean and tokenize\n",
    "    words = re.findall(r'\\w+', all_tweets.lower())\n",
    "    \n",
    "    # Remove very common words\n",
    "    stop_words = set(['the', 'a', 'an', 'and', 'or', 'but', 'in', 'on', 'at', 'to', 'for', 'of', 'with', 'by'])\n",
    "    words = [word for word in words if word not in stop_words and len(word) > 2]\n",
    "    \n",
    "    # Count and display top words\n",
    "    word_freq = Counter(words).most_common(20)\n",
    "    \n",
    "    # Create a bar plot\n",
    "    plt.figure(figsize=(12, 6))\n",
    "    words, counts = zip(*word_freq)\n",
    "    plt.bar(words, counts)\n",
    "    plt.title('Top 20 Most Frequent Words')\n",
    "    plt.xlabel('Words')\n",
    "    plt.ylabel('Frequency')\n",
    "    plt.xticks(rotation=45, ha='right')\n",
    "    plt.tight_layout()\n",
    "    plt.show()\n",
    "    \n",
    "    # Print word frequencies\n",
    "    print(\"\\nTop 20 Most Frequent Words:\")\n",
    "    for word, count in word_freq:\n",
    "        print(f\"{word}: {count}\")\n",
    "\n",
    "\n",
    "# Main Execution\n",
    "def main_eda(data):\n",
    "    basic_eda(data)\n",
    "    user_analysis(data)\n",
    "    hashtag_analysis(data)\n",
    "    keyword_analysis(data)\n",
    "    text_analysis(data)\n",
    "    word_frequency_analysis(data)\n",
    "\n",
    "\n",
    "# Run the EDA\n",
    "main_eda(data)"
   ]
  },
  {
   "cell_type": "markdown",
   "metadata": {},
   "source": [
    "## Labeled data"
   ]
  },
  {
   "cell_type": "code",
   "execution_count": 6,
   "metadata": {},
   "outputs": [],
   "source": [
    "data_labeled = pd.read_csv('predictions_output.csv')"
   ]
  },
  {
   "cell_type": "code",
   "execution_count": 7,
   "metadata": {},
   "outputs": [
    {
     "data": {
      "text/html": [
       "<div>\n",
       "<style scoped>\n",
       "    .dataframe tbody tr th:only-of-type {\n",
       "        vertical-align: middle;\n",
       "    }\n",
       "\n",
       "    .dataframe tbody tr th {\n",
       "        vertical-align: top;\n",
       "    }\n",
       "\n",
       "    .dataframe thead th {\n",
       "        text-align: right;\n",
       "    }\n",
       "</style>\n",
       "<table border=\"1\" class=\"dataframe\">\n",
       "  <thead>\n",
       "    <tr style=\"text-align: right;\">\n",
       "      <th></th>\n",
       "      <th>Tweet_id</th>\n",
       "      <th>User_name</th>\n",
       "      <th>Screen_name</th>\n",
       "      <th>Tweet_text</th>\n",
       "      <th>Language</th>\n",
       "      <th>Hashtags</th>\n",
       "      <th>Created_at</th>\n",
       "      <th>Search_keyword</th>\n",
       "      <th>Label</th>\n",
       "    </tr>\n",
       "  </thead>\n",
       "  <tbody>\n",
       "    <tr>\n",
       "      <th>0</th>\n",
       "      <td>1860719438225375240</td>\n",
       "      <td>Quality Stocks</td>\n",
       "      <td>Quality_stocksA</td>\n",
       "      <td>novo nordisk nvo one pager\\n\\n score 7910\\n m...</td>\n",
       "      <td>en</td>\n",
       "      <td>[]</td>\n",
       "      <td>2024-11-24 16:17:39+00:00</td>\n",
       "      <td>Novo Nordisk</td>\n",
       "      <td>0</td>\n",
       "    </tr>\n",
       "    <tr>\n",
       "      <th>1</th>\n",
       "      <td>1634584989638725632</td>\n",
       "      <td>The Investing for Beginners Podcast</td>\n",
       "      <td>IFB_podcast</td>\n",
       "      <td>137 todays shallow dive focuses on nvo novo no...</td>\n",
       "      <td>en</td>\n",
       "      <td>[]</td>\n",
       "      <td>2023-03-11 16:00:05+00:00</td>\n",
       "      <td>Novo Nordisk</td>\n",
       "      <td>1</td>\n",
       "    </tr>\n",
       "    <tr>\n",
       "      <th>2</th>\n",
       "      <td>1862458532416590198</td>\n",
       "      <td>Oliver | MMMT Wealth (CPA)</td>\n",
       "      <td>MMMTwealth</td>\n",
       "      <td>2 novo nordisk  novo \\n\\nrevenue growth 26\\nev...</td>\n",
       "      <td>en</td>\n",
       "      <td>[]</td>\n",
       "      <td>2024-11-29 11:28:11+00:00</td>\n",
       "      <td>Novo Nordisk</td>\n",
       "      <td>1</td>\n",
       "    </tr>\n",
       "    <tr>\n",
       "      <th>3</th>\n",
       "      <td>1862578552488509669</td>\n",
       "      <td>Buck Parish</td>\n",
       "      <td>flatbush711</td>\n",
       "      <td>just another scam from the dirty communist bas...</td>\n",
       "      <td>en</td>\n",
       "      <td>[]</td>\n",
       "      <td>2024-11-29 19:25:06+00:00</td>\n",
       "      <td>Novo Nordisk</td>\n",
       "      <td>1</td>\n",
       "    </tr>\n",
       "    <tr>\n",
       "      <th>4</th>\n",
       "      <td>1854236893749325830</td>\n",
       "      <td>Trung Phan</td>\n",
       "      <td>TrungTPhan</td>\n",
       "      <td>when you realize ozempic maker novo nordisk 47...</td>\n",
       "      <td>en</td>\n",
       "      <td>[]</td>\n",
       "      <td>2024-11-06 18:58:20+00:00</td>\n",
       "      <td>Novo Nordisk</td>\n",
       "      <td>0</td>\n",
       "    </tr>\n",
       "  </tbody>\n",
       "</table>\n",
       "</div>"
      ],
      "text/plain": [
       "              Tweet_id                            User_name      Screen_name  \\\n",
       "0  1860719438225375240                       Quality Stocks  Quality_stocksA   \n",
       "1  1634584989638725632  The Investing for Beginners Podcast      IFB_podcast   \n",
       "2  1862458532416590198           Oliver | MMMT Wealth (CPA)       MMMTwealth   \n",
       "3  1862578552488509669                          Buck Parish      flatbush711   \n",
       "4  1854236893749325830                           Trung Phan       TrungTPhan   \n",
       "\n",
       "                                          Tweet_text Language Hashtags  \\\n",
       "0   novo nordisk nvo one pager\\n\\n score 7910\\n m...       en       []   \n",
       "1  137 todays shallow dive focuses on nvo novo no...       en       []   \n",
       "2  2 novo nordisk  novo \\n\\nrevenue growth 26\\nev...       en       []   \n",
       "3  just another scam from the dirty communist bas...       en       []   \n",
       "4  when you realize ozempic maker novo nordisk 47...       en       []   \n",
       "\n",
       "                  Created_at Search_keyword  Label  \n",
       "0  2024-11-24 16:17:39+00:00   Novo Nordisk      0  \n",
       "1  2023-03-11 16:00:05+00:00   Novo Nordisk      1  \n",
       "2  2024-11-29 11:28:11+00:00   Novo Nordisk      1  \n",
       "3  2024-11-29 19:25:06+00:00   Novo Nordisk      1  \n",
       "4  2024-11-06 18:58:20+00:00   Novo Nordisk      0  "
      ]
     },
     "execution_count": 7,
     "metadata": {},
     "output_type": "execute_result"
    }
   ],
   "source": [
    "data_labeled.head()"
   ]
  },
  {
   "cell_type": "code",
   "execution_count": 8,
   "metadata": {},
   "outputs": [
    {
     "data": {
      "image/png": "[encoded data removed]",
      "text/plain": [
       "<Figure size 800x600 with 1 Axes>"
      ]
     },
     "metadata": {},
     "output_type": "display_data"
    },
    {
     "name": "stdout",
     "output_type": "stream",
     "text": [
      "\n",
      "Dataset Composition:\n",
      "Label\n",
      "0    0.588235\n",
      "1    0.411765\n",
      "Name: proportion, dtype: float64\n"
     ]
    },
    {
     "data": {
      "image/png": "[encoded data removed]",
      "text/plain": [
       "<Figure size 1000x600 with 1 Axes>"
      ]
     },
     "metadata": {},
     "output_type": "display_data"
    },
    {
     "name": "stdout",
     "output_type": "stream",
     "text": [
      "\n",
      "Text Length Statistics:\n",
      "       count        mean        std   min    25%    50%     75%    max\n",
      "Label                                                                 \n",
      "0      140.0  123.485714  80.717242  16.0   59.0   99.5  188.00  280.0\n",
      "1       98.0  179.357143  81.210081  25.0  103.5  192.0  258.75  277.0\n"
     ]
    },
    {
     "data": {
      "image/png": "[encoded data removed]",
      "text/plain": [
       "<Figure size 1000x600 with 1 Axes>"
      ]
     },
     "metadata": {},
     "output_type": "display_data"
    },
    {
     "name": "stdout",
     "output_type": "stream",
     "text": [
      "\n",
      "Hashtag Count Statistics:\n",
      "       count      mean       std  min  25%  50%  75%  max\n",
      "Label                                                    \n",
      "0      140.0  0.107143  0.427414  0.0  0.0  0.0  0.0  3.0\n",
      "1       98.0  0.408163  1.345759  0.0  0.0  0.0  0.0  6.0\n"
     ]
    },
    {
     "data": {
      "text/plain": [
       "<Figure size 1200x600 with 0 Axes>"
      ]
     },
     "metadata": {},
     "output_type": "display_data"
    },
    {
     "data": {
      "image/png": "[encoded data removed]",
      "text/plain": [
       "<Figure size 640x480 with 1 Axes>"
      ]
     },
     "metadata": {},
     "output_type": "display_data"
    },
    {
     "name": "stdout",
     "output_type": "stream",
     "text": [
      "\n",
      "Top Keywords:\n",
      "Search_keyword\n",
      "Novo Nordisk    0.588235\n",
      "Ozempic         0.411765\n",
      "Name: proportion, dtype: float64\n"
     ]
    }
   ],
   "source": [
    "import pandas as pd\n",
    "import matplotlib.pyplot as plt\n",
    "import seaborn as sns\n",
    "import numpy as np\n",
    "\n",
    "\n",
    "def detect_label_column(data):\n",
    "    possible_columns = ['label', 'Label', 'Predicted_Label', 'bot_label']\n",
    "    for col in possible_columns:\n",
    "        if col in data.columns:\n",
    "            return col\n",
    "    raise ValueError(\"No label column found in the dataset\")\n",
    "\n",
    "\n",
    "def bot_eda(data):\n",
    "    # Dynamically detect the label column\n",
    "    label_column = detect_label_column(data)\n",
    "    \n",
    "    # 1. Dataset Composition\n",
    "    def dataset_composition():\n",
    "        plt.figure(figsize=(8, 6))\n",
    "        label_counts = data[label_column].value_counts()\n",
    "        plt.pie(label_counts, labels=['Bot', 'Non-Bot'], autopct='%1.1f%%')\n",
    "        plt.title('Dataset Composition')\n",
    "        plt.show()\n",
    "        \n",
    "        print(\"\\nDataset Composition:\")\n",
    "        print(data[label_column].value_counts(normalize=True))\n",
    "    \n",
    "    # 2. Text Analysis\n",
    "    def text_analysis():\n",
    "        # Calculate text lengths\n",
    "        data['Text_Length'] = data['Tweet_text'].str.len()\n",
    "        \n",
    "        plt.figure(figsize=(10, 6))\n",
    "        # Group by label and calculate mean and standard error\n",
    "        text_length_summary = data.groupby(label_column)['Text_Length'].agg(['mean', 'sem'])\n",
    "        \n",
    "        plt.bar(text_length_summary.index.map({0: 'Bot', 1: 'Non-Bot'}), \n",
    "                text_length_summary['mean'], \n",
    "                yerr=text_length_summary['sem'], \n",
    "                capsize=10,\n",
    "                color=['blue', 'green'])\n",
    "        \n",
    "        plt.title('Average Tweet Text Length by Bot Status')\n",
    "        plt.xlabel('Bot Status')\n",
    "        plt.ylabel('Average Text Length')\n",
    "        plt.tight_layout()\n",
    "        plt.show()\n",
    "        \n",
    "        # Descriptive statistics of text length\n",
    "        print(\"\\nText Length Statistics:\")\n",
    "        print(data.groupby(label_column)['Text_Length'].describe())\n",
    "    \n",
    "    # 3. Hashtag Analysis\n",
    "    def hashtag_analysis():\n",
    "        # Ensure Hashtags is a list\n",
    "        def safe_hashtag_count(x):\n",
    "            try:\n",
    "                return len(eval(x)) if isinstance(x, str) else 0\n",
    "            except:\n",
    "                return 0\n",
    "        \n",
    "        data['Hashtag_Count'] = data['Hashtags'].apply(safe_hashtag_count)\n",
    "        \n",
    "        plt.figure(figsize=(10, 6))\n",
    "        # Group by label and calculate mean and standard error\n",
    "        hashtag_summary = data.groupby(label_column)['Hashtag_Count'].agg(['mean', 'sem'])\n",
    "        \n",
    "        plt.bar(hashtag_summary.index.map({0: 'Bot', 1: 'Non-Bot'}), \n",
    "                hashtag_summary['mean'], \n",
    "                yerr=hashtag_summary['sem'], \n",
    "                capsize=10,\n",
    "                color=['blue', 'green'])\n",
    "        \n",
    "        plt.title('Average Hashtag Count by Bot Status')\n",
    "        plt.xlabel('Bot Status')\n",
    "        plt.ylabel('Average Hashtag Count')\n",
    "        plt.tight_layout()\n",
    "        plt.show()\n",
    "        \n",
    "        # Descriptive statistics of hashtag count\n",
    "        print(\"\\nHashtag Count Statistics:\")\n",
    "        print(data.groupby(label_column)['Hashtag_Count'].describe())\n",
    "    \n",
    "    # 4. Keyword Analysis\n",
    "    def keyword_analysis():\n",
    "        plt.figure(figsize=(12, 6))\n",
    "        keyword_counts = data.groupby([label_column, 'Search_keyword']).size().unstack(fill_value=0)\n",
    "        keyword_counts_normalized = keyword_counts.div(keyword_counts.sum(axis=1), axis=0)\n",
    "        \n",
    "        keyword_counts_normalized.plot(kind='bar', stacked=True)\n",
    "        plt.title('Search Keywords Distribution by Bot Status')\n",
    "        plt.xlabel('Bot Status (0: Bot, 1: Non-Bot)')\n",
    "        plt.ylabel('Proportion')\n",
    "        plt.legend(title='Keywords', bbox_to_anchor=(1.05, 1), loc='upper left')\n",
    "        plt.tight_layout()\n",
    "        plt.show()\n",
    "        \n",
    "        print(\"\\nTop Keywords:\")\n",
    "        print(data['Search_keyword'].value_counts(normalize=True).head())\n",
    "    \n",
    "    # Run all analyses\n",
    "    dataset_composition()\n",
    "    text_analysis()\n",
    "    hashtag_analysis()\n",
    "    keyword_analysis()\n",
    "\n",
    "\n",
    "# Execute EDA\n",
    "bot_eda(data_labeled)"
   ]
  }
 ],
 "metadata": {
  "kernelspec": {
   "display_name": "base",
   "language": "python",
   "name": "python3"
  },
  "language_info": {
   "codemirror_mode": {
    "name": "ipython",
    "version": 3
   },
   "file_extension": ".py",
   "mimetype": "text/x-python",
   "name": "python",
   "nbconvert_exporter": "python",
   "pygments_lexer": "ipython3",
   "version": "3.12.7"
  }
 },
 "nbformat": 4,
 "nbformat_minor": 2
}
