{
 "cells": [
  {
   "cell_type": "markdown",
   "metadata": {},
   "source": [
    "## Dataimport, cleaning and overview"
   ]
  },
  {
   "cell_type": "markdown",
   "metadata": {},
   "source": [
    "### Import and overview"
   ]
  },
  {
   "cell_type": "code",
   "execution_count": 1,
   "metadata": {},
   "outputs": [
    {
     "name": "stdout",
     "output_type": "stream",
     "text": [
      "Collecting requests (from -r requirements.txt (line 1))\n",
      "  Using cached requests-2.32.3-py3-none-any.whl.metadata (4.6 kB)\n",
      "Collecting ipywidgets (from -r requirements.txt (line 2))\n",
      "  Using cached ipywidgets-8.1.5-py3-none-any.whl.metadata (2.3 kB)\n",
      "Collecting beautifulsoup4 (from -r requirements.txt (line 3))\n",
      "  Using cached beautifulsoup4-4.12.3-py3-none-any.whl.metadata (3.8 kB)\n",
      "Collecting openai (from -r requirements.txt (line 4))\n",
      "  Downloading openai-1.56.2-py3-none-any.whl.metadata (24 kB)\n",
      "Collecting pydantic (from -r requirements.txt (line 5))\n",
      "  Downloading pydantic-2.10.3-py3-none-any.whl.metadata (172 kB)\n",
      "Collecting python-louvain (from -r requirements.txt (line 6))\n",
      "  Using cached python_louvain-0.16-py3-none-any.whl\n",
      "Collecting numpy (from -r requirements.txt (line 7))\n",
      "  Using cached numpy-2.1.3-cp312-cp312-macosx_14_0_arm64.whl.metadata (62 kB)\n",
      "Collecting pandas (from -r requirements.txt (line 8))\n",
      "  Using cached pandas-2.2.3-cp312-cp312-macosx_11_0_arm64.whl.metadata (89 kB)\n",
      "Collecting seaborn (from -r requirements.txt (line 9))\n",
      "  Using cached seaborn-0.13.2-py3-none-any.whl.metadata (5.4 kB)\n",
      "Collecting matplotlib (from -r requirements.txt (line 10))\n",
      "  Using cached matplotlib-3.9.3-cp312-cp312-macosx_11_0_arm64.whl.metadata (11 kB)\n",
      "Collecting scipy (from -r requirements.txt (line 11))\n",
      "  Using cached scipy-1.14.1-cp312-cp312-macosx_14_0_arm64.whl.metadata (60 kB)\n",
      "Collecting networkx (from -r requirements.txt (line 12))\n",
      "  Using cached networkx-3.4.2-py3-none-any.whl.metadata (6.3 kB)\n",
      "Collecting community (from -r requirements.txt (line 13))\n",
      "  Using cached community-1.0.0b1-py3-none-any.whl\n",
      "Collecting setfit (from -r requirements.txt (line 14))\n",
      "  Using cached setfit-1.1.0-py3-none-any.whl.metadata (12 kB)\n",
      "Collecting datasets (from -r requirements.txt (line 15))\n",
      "  Using cached datasets-3.1.0-py3-none-any.whl.metadata (20 kB)\n",
      "Collecting scikit-learn (from -r requirements.txt (line 16))\n",
      "  Using cached scikit_learn-1.5.2-cp312-cp312-macosx_12_0_arm64.whl.metadata (13 kB)\n",
      "Collecting torch (from -r requirements.txt (line 17))\n",
      "  Using cached torch-2.5.1-cp312-none-macosx_11_0_arm64.whl.metadata (28 kB)\n",
      "Collecting pyvis (from -r requirements.txt (line 18))\n",
      "  Using cached pyvis-0.3.2-py3-none-any.whl.metadata (1.7 kB)\n",
      "Collecting spacy (from -r requirements.txt (line 19))\n",
      "  Using cached spacy-3.8.2-cp312-cp312-macosx_11_0_arm64.whl.metadata (27 kB)\n",
      "Collecting umap (from -r requirements.txt (line 20))\n",
      "  Using cached umap-0.1.1-py3-none-any.whl\n",
      "Collecting plotly (from -r requirements.txt (line 21))\n",
      "  Using cached plotly-5.24.1-py3-none-any.whl.metadata (7.3 kB)\n",
      "Collecting nbformat (from -r requirements.txt (line 22))\n",
      "  Using cached nbformat-5.10.4-py3-none-any.whl.metadata (3.6 kB)\n",
      "Collecting tiktoken (from -r requirements.txt (line 23))\n",
      "  Using cached tiktoken-0.8.0-cp312-cp312-macosx_11_0_arm64.whl.metadata (6.6 kB)\n",
      "Collecting tqdm (from -r requirements.txt (line 24))\n",
      "  Using cached tqdm-4.67.1-py3-none-any.whl.metadata (57 kB)\n",
      "Collecting selenium (from -r requirements.txt (line 25))\n",
      "  Using cached selenium-4.27.1-py3-none-any.whl.metadata (7.1 kB)\n",
      "Requirement already satisfied: nest_asyncio in ./.conda/lib/python3.12/site-packages (from -r requirements.txt (line 26)) (1.6.0)\n",
      "Collecting asyncio (from -r requirements.txt (line 27))\n",
      "  Using cached asyncio-3.4.3-py3-none-any.whl.metadata (1.7 kB)\n",
      "Collecting wordcloud (from -r requirements.txt (line 28))\n",
      "  Using cached wordcloud-1.9.4-cp312-cp312-macosx_11_0_arm64.whl.metadata (3.4 kB)\n",
      "Collecting nltk (from -r requirements.txt (line 29))\n",
      "  Using cached nltk-3.9.1-py3-none-any.whl.metadata (2.9 kB)\n",
      "Collecting textblob (from -r requirements.txt (line 30))\n",
      "  Using cached textblob-0.18.0.post0-py3-none-any.whl.metadata (4.5 kB)\n",
      "Collecting wandb (from -r requirements.txt (line 31))\n",
      "  Downloading wandb-0.19.0-py3-none-macosx_11_0_arm64.whl.metadata (10 kB)\n",
      "Collecting gradio (from -r requirements.txt (line 32))\n",
      "  Downloading gradio-5.8.0-py3-none-any.whl.metadata (16 kB)\n",
      "Collecting transformers==4.45.2 (from -r requirements.txt (line 33))\n",
      "  Using cached transformers-4.45.2-py3-none-any.whl.metadata (44 kB)\n",
      "Collecting twikit>=2.1.3 (from -r requirements.txt (line 34))\n",
      "  Using cached twikit-2.2.0-py3-none-any.whl.metadata (4.3 kB)\n",
      "Collecting filelock (from transformers==4.45.2->-r requirements.txt (line 33))\n",
      "  Using cached filelock-3.16.1-py3-none-any.whl.metadata (2.9 kB)\n",
      "Collecting huggingface-hub<1.0,>=0.23.2 (from transformers==4.45.2->-r requirements.txt (line 33))\n",
      "  Using cached huggingface_hub-0.26.3-py3-none-any.whl.metadata (13 kB)\n",
      "Requirement already satisfied: packaging>=20.0 in ./.conda/lib/python3.12/site-packages (from transformers==4.45.2->-r requirements.txt (line 33)) (24.2)\n",
      "Collecting pyyaml>=5.1 (from transformers==4.45.2->-r requirements.txt (line 33))\n",
      "  Using cached PyYAML-6.0.2-cp312-cp312-macosx_11_0_arm64.whl.metadata (2.1 kB)\n",
      "Collecting regex!=2019.12.17 (from transformers==4.45.2->-r requirements.txt (line 33))\n",
      "  Using cached regex-2024.11.6-cp312-cp312-macosx_11_0_arm64.whl.metadata (40 kB)\n",
      "Collecting safetensors>=0.4.1 (from transformers==4.45.2->-r requirements.txt (line 33))\n",
      "  Using cached safetensors-0.4.5-cp312-cp312-macosx_11_0_arm64.whl.metadata (3.8 kB)\n",
      "Collecting tokenizers<0.21,>=0.20 (from transformers==4.45.2->-r requirements.txt (line 33))\n",
      "  Using cached tokenizers-0.20.3-cp312-cp312-macosx_11_0_arm64.whl.metadata (6.7 kB)\n",
      "Collecting charset-normalizer<4,>=2 (from requests->-r requirements.txt (line 1))\n",
      "  Using cached charset_normalizer-3.4.0-cp312-cp312-macosx_11_0_arm64.whl.metadata (34 kB)\n",
      "Collecting idna<4,>=2.5 (from requests->-r requirements.txt (line 1))\n",
      "  Using cached idna-3.10-py3-none-any.whl.metadata (10 kB)\n",
      "Collecting urllib3<3,>=1.21.1 (from requests->-r requirements.txt (line 1))\n",
      "  Using cached urllib3-2.2.3-py3-none-any.whl.metadata (6.5 kB)\n",
      "Collecting certifi>=2017.4.17 (from requests->-r requirements.txt (line 1))\n",
      "  Using cached certifi-2024.8.30-py3-none-any.whl.metadata (2.2 kB)\n",
      "Requirement already satisfied: comm>=0.1.3 in ./.conda/lib/python3.12/site-packages (from ipywidgets->-r requirements.txt (line 2)) (0.2.2)\n",
      "Requirement already satisfied: ipython>=6.1.0 in ./.conda/lib/python3.12/site-packages (from ipywidgets->-r requirements.txt (line 2)) (8.30.0)\n",
      "Requirement already satisfied: traitlets>=4.3.1 in ./.conda/lib/python3.12/site-packages (from ipywidgets->-r requirements.txt (line 2)) (5.14.3)\n",
      "Collecting widgetsnbextension~=4.0.12 (from ipywidgets->-r requirements.txt (line 2))\n",
      "  Using cached widgetsnbextension-4.0.13-py3-none-any.whl.metadata (1.6 kB)\n",
      "Collecting jupyterlab-widgets~=3.0.12 (from ipywidgets->-r requirements.txt (line 2))\n",
      "  Using cached jupyterlab_widgets-3.0.13-py3-none-any.whl.metadata (4.1 kB)\n",
      "Collecting soupsieve>1.2 (from beautifulsoup4->-r requirements.txt (line 3))\n",
      "  Using cached soupsieve-2.6-py3-none-any.whl.metadata (4.6 kB)\n",
      "Collecting anyio<5,>=3.5.0 (from openai->-r requirements.txt (line 4))\n",
      "  Using cached anyio-4.6.2.post1-py3-none-any.whl.metadata (4.7 kB)\n",
      "Collecting distro<2,>=1.7.0 (from openai->-r requirements.txt (line 4))\n",
      "  Using cached distro-1.9.0-py3-none-any.whl.metadata (6.8 kB)\n",
      "Collecting httpx<1,>=0.23.0 (from openai->-r requirements.txt (line 4))\n",
      "  Using cached httpx-0.28.0-py3-none-any.whl.metadata (7.1 kB)\n",
      "Collecting jiter<1,>=0.4.0 (from openai->-r requirements.txt (line 4))\n",
      "  Using cached jiter-0.8.0-cp312-cp312-macosx_11_0_arm64.whl.metadata (5.2 kB)\n",
      "Collecting sniffio (from openai->-r requirements.txt (line 4))\n",
      "  Using cached sniffio-1.3.1-py3-none-any.whl.metadata (3.9 kB)\n",
      "Requirement already satisfied: typing-extensions<5,>=4.11 in ./.conda/lib/python3.12/site-packages (from openai->-r requirements.txt (line 4)) (4.12.2)\n",
      "Collecting annotated-types>=0.6.0 (from pydantic->-r requirements.txt (line 5))\n",
      "  Using cached annotated_types-0.7.0-py3-none-any.whl.metadata (15 kB)\n",
      "Collecting pydantic-core==2.27.1 (from pydantic->-r requirements.txt (line 5))\n",
      "  Using cached pydantic_core-2.27.1-cp312-cp312-macosx_11_0_arm64.whl.metadata (6.6 kB)\n",
      "Requirement already satisfied: python-dateutil>=2.8.2 in ./.conda/lib/python3.12/site-packages (from pandas->-r requirements.txt (line 8)) (2.9.0.post0)\n",
      "Collecting pytz>=2020.1 (from pandas->-r requirements.txt (line 8))\n",
      "  Using cached pytz-2024.2-py2.py3-none-any.whl.metadata (22 kB)\n",
      "Collecting tzdata>=2022.7 (from pandas->-r requirements.txt (line 8))\n",
      "  Using cached tzdata-2024.2-py2.py3-none-any.whl.metadata (1.4 kB)\n",
      "Collecting contourpy>=1.0.1 (from matplotlib->-r requirements.txt (line 10))\n",
      "  Using cached contourpy-1.3.1-cp312-cp312-macosx_11_0_arm64.whl.metadata (5.4 kB)\n",
      "Collecting cycler>=0.10 (from matplotlib->-r requirements.txt (line 10))\n",
      "  Using cached cycler-0.12.1-py3-none-any.whl.metadata (3.8 kB)\n",
      "Collecting fonttools>=4.22.0 (from matplotlib->-r requirements.txt (line 10))\n",
      "  Using cached fonttools-4.55.1-cp312-cp312-macosx_10_13_universal2.whl.metadata (164 kB)\n",
      "Collecting kiwisolver>=1.3.1 (from matplotlib->-r requirements.txt (line 10))\n",
      "  Using cached kiwisolver-1.4.7-cp312-cp312-macosx_11_0_arm64.whl.metadata (6.3 kB)\n",
      "Collecting pillow>=8 (from matplotlib->-r requirements.txt (line 10))\n",
      "  Using cached pillow-11.0.0-cp312-cp312-macosx_11_0_arm64.whl.metadata (9.1 kB)\n",
      "Collecting pyparsing>=2.3.1 (from matplotlib->-r requirements.txt (line 10))\n",
      "  Using cached pyparsing-3.2.0-py3-none-any.whl.metadata (5.0 kB)\n",
      "Collecting Flask (from community->-r requirements.txt (line 13))\n",
      "  Using cached flask-3.1.0-py3-none-any.whl.metadata (2.7 kB)\n",
      "Collecting sentence-transformers>=3 (from sentence-transformers[train]>=3->setfit->-r requirements.txt (line 14))\n",
      "  Using cached sentence_transformers-3.3.1-py3-none-any.whl.metadata (10 kB)\n",
      "Collecting evaluate>=0.3.0 (from setfit->-r requirements.txt (line 14))\n",
      "  Using cached evaluate-0.4.3-py3-none-any.whl.metadata (9.2 kB)\n",
      "Collecting pyarrow>=15.0.0 (from datasets->-r requirements.txt (line 15))\n",
      "  Using cached pyarrow-18.1.0-cp312-cp312-macosx_12_0_arm64.whl.metadata (3.3 kB)\n",
      "Collecting dill<0.3.9,>=0.3.0 (from datasets->-r requirements.txt (line 15))\n",
      "  Using cached dill-0.3.8-py3-none-any.whl.metadata (10 kB)\n",
      "Collecting xxhash (from datasets->-r requirements.txt (line 15))\n",
      "  Using cached xxhash-3.5.0-cp312-cp312-macosx_11_0_arm64.whl.metadata (12 kB)\n",
      "Collecting multiprocess<0.70.17 (from datasets->-r requirements.txt (line 15))\n",
      "  Using cached multiprocess-0.70.16-py312-none-any.whl.metadata (7.2 kB)\n",
      "Collecting fsspec<=2024.9.0,>=2023.1.0 (from fsspec[http]<=2024.9.0,>=2023.1.0->datasets->-r requirements.txt (line 15))\n",
      "  Using cached fsspec-2024.9.0-py3-none-any.whl.metadata (11 kB)\n",
      "Collecting aiohttp (from datasets->-r requirements.txt (line 15))\n",
      "  Using cached aiohttp-3.11.9-cp312-cp312-macosx_11_0_arm64.whl.metadata (7.7 kB)\n",
      "Collecting joblib>=1.2.0 (from scikit-learn->-r requirements.txt (line 16))\n",
      "  Using cached joblib-1.4.2-py3-none-any.whl.metadata (5.4 kB)\n",
      "Collecting threadpoolctl>=3.1.0 (from scikit-learn->-r requirements.txt (line 16))\n",
      "  Using cached threadpoolctl-3.5.0-py3-none-any.whl.metadata (13 kB)\n",
      "Collecting jinja2 (from torch->-r requirements.txt (line 17))\n",
      "  Using cached jinja2-3.1.4-py3-none-any.whl.metadata (2.6 kB)\n",
      "Requirement already satisfied: setuptools in ./.conda/lib/python3.12/site-packages (from torch->-r requirements.txt (line 17)) (75.1.0)\n",
      "Collecting sympy==1.13.1 (from torch->-r requirements.txt (line 17))\n",
      "  Using cached sympy-1.13.1-py3-none-any.whl.metadata (12 kB)\n",
      "Collecting mpmath<1.4,>=1.1.0 (from sympy==1.13.1->torch->-r requirements.txt (line 17))\n",
      "  Using cached mpmath-1.3.0-py3-none-any.whl.metadata (8.6 kB)\n",
      "Collecting jsonpickle>=1.4.1 (from pyvis->-r requirements.txt (line 18))\n",
      "  Using cached jsonpickle-4.0.0-py3-none-any.whl.metadata (8.2 kB)\n",
      "Collecting spacy-legacy<3.1.0,>=3.0.11 (from spacy->-r requirements.txt (line 19))\n",
      "  Using cached spacy_legacy-3.0.12-py2.py3-none-any.whl.metadata (2.8 kB)\n",
      "Collecting spacy-loggers<2.0.0,>=1.0.0 (from spacy->-r requirements.txt (line 19))\n",
      "  Using cached spacy_loggers-1.0.5-py3-none-any.whl.metadata (23 kB)\n",
      "Collecting murmurhash<1.1.0,>=0.28.0 (from spacy->-r requirements.txt (line 19))\n",
      "  Using cached murmurhash-1.0.11-cp312-cp312-macosx_11_0_arm64.whl.metadata (2.0 kB)\n",
      "Collecting cymem<2.1.0,>=2.0.2 (from spacy->-r requirements.txt (line 19))\n",
      "  Using cached cymem-2.0.10-cp312-cp312-macosx_11_0_arm64.whl.metadata (8.4 kB)\n",
      "Collecting preshed<3.1.0,>=3.0.2 (from spacy->-r requirements.txt (line 19))\n",
      "  Using cached preshed-3.0.9-cp312-cp312-macosx_11_0_arm64.whl.metadata (2.2 kB)\n",
      "Collecting thinc<8.4.0,>=8.3.0 (from spacy->-r requirements.txt (line 19))\n",
      "  Using cached thinc-8.3.2-cp312-cp312-macosx_11_0_arm64.whl.metadata (15 kB)\n",
      "Collecting wasabi<1.2.0,>=0.9.1 (from spacy->-r requirements.txt (line 19))\n",
      "  Using cached wasabi-1.1.3-py3-none-any.whl.metadata (28 kB)\n",
      "Collecting srsly<3.0.0,>=2.4.3 (from spacy->-r requirements.txt (line 19))\n",
      "  Using cached srsly-2.4.8-cp312-cp312-macosx_11_0_arm64.whl.metadata (20 kB)\n",
      "Collecting catalogue<2.1.0,>=2.0.6 (from spacy->-r requirements.txt (line 19))\n",
      "  Using cached catalogue-2.0.10-py3-none-any.whl.metadata (14 kB)\n",
      "Collecting weasel<0.5.0,>=0.1.0 (from spacy->-r requirements.txt (line 19))\n",
      "  Using cached weasel-0.4.1-py3-none-any.whl.metadata (4.6 kB)\n",
      "Collecting typer<1.0.0,>=0.3.0 (from spacy->-r requirements.txt (line 19))\n",
      "  Downloading typer-0.15.1-py3-none-any.whl.metadata (15 kB)\n",
      "Collecting langcodes<4.0.0,>=3.2.0 (from spacy->-r requirements.txt (line 19))\n",
      "  Using cached langcodes-3.5.0-py3-none-any.whl.metadata (29 kB)\n",
      "Collecting tenacity>=6.2.0 (from plotly->-r requirements.txt (line 21))\n",
      "  Using cached tenacity-9.0.0-py3-none-any.whl.metadata (1.2 kB)\n",
      "Collecting fastjsonschema>=2.15 (from nbformat->-r requirements.txt (line 22))\n",
      "  Using cached fastjsonschema-2.21.1-py3-none-any.whl.metadata (2.2 kB)\n",
      "Collecting jsonschema>=2.6 (from nbformat->-r requirements.txt (line 22))\n",
      "  Using cached jsonschema-4.23.0-py3-none-any.whl.metadata (7.9 kB)\n",
      "Requirement already satisfied: jupyter-core!=5.0.*,>=4.12 in ./.conda/lib/python3.12/site-packages (from nbformat->-r requirements.txt (line 22)) (5.7.2)\n",
      "Collecting trio~=0.17 (from selenium->-r requirements.txt (line 25))\n",
      "  Using cached trio-0.27.0-py3-none-any.whl.metadata (8.6 kB)\n",
      "Collecting trio-websocket~=0.9 (from selenium->-r requirements.txt (line 25))\n",
      "  Using cached trio_websocket-0.11.1-py3-none-any.whl.metadata (4.7 kB)\n",
      "Collecting websocket-client~=1.8 (from selenium->-r requirements.txt (line 25))\n",
      "  Using cached websocket_client-1.8.0-py3-none-any.whl.metadata (8.0 kB)\n",
      "Collecting click (from nltk->-r requirements.txt (line 29))\n",
      "  Using cached click-8.1.7-py3-none-any.whl.metadata (3.0 kB)\n",
      "Collecting docker-pycreds>=0.4.0 (from wandb->-r requirements.txt (line 31))\n",
      "  Using cached docker_pycreds-0.4.0-py2.py3-none-any.whl.metadata (1.8 kB)\n",
      "Collecting gitpython!=3.1.29,>=1.0.0 (from wandb->-r requirements.txt (line 31))\n",
      "  Using cached GitPython-3.1.43-py3-none-any.whl.metadata (13 kB)\n",
      "Requirement already satisfied: platformdirs in ./.conda/lib/python3.12/site-packages (from wandb->-r requirements.txt (line 31)) (4.3.6)\n",
      "Collecting protobuf!=4.21.0,!=5.28.0,<6,>=3.19.0 (from wandb->-r requirements.txt (line 31))\n",
      "  Downloading protobuf-5.29.1-cp38-abi3-macosx_10_9_universal2.whl.metadata (592 bytes)\n",
      "Requirement already satisfied: psutil>=5.0.0 in ./.conda/lib/python3.12/site-packages (from wandb->-r requirements.txt (line 31)) (5.9.0)\n",
      "Collecting sentry-sdk>=2.0.0 (from wandb->-r requirements.txt (line 31))\n",
      "  Using cached sentry_sdk-2.19.0-py2.py3-none-any.whl.metadata (9.9 kB)\n",
      "Collecting setproctitle (from wandb->-r requirements.txt (line 31))\n",
      "  Using cached setproctitle-1.3.4-cp312-cp312-macosx_11_0_arm64.whl.metadata (10 kB)\n",
      "Collecting aiofiles<24.0,>=22.0 (from gradio->-r requirements.txt (line 32))\n",
      "  Using cached aiofiles-23.2.1-py3-none-any.whl.metadata (9.7 kB)\n",
      "Collecting fastapi<1.0,>=0.115.2 (from gradio->-r requirements.txt (line 32))\n",
      "  Downloading fastapi-0.115.6-py3-none-any.whl.metadata (27 kB)\n",
      "Collecting ffmpy (from gradio->-r requirements.txt (line 32))\n",
      "  Using cached ffmpy-0.4.0-py3-none-any.whl.metadata (2.9 kB)\n",
      "Collecting gradio-client==1.5.1 (from gradio->-r requirements.txt (line 32))\n",
      "  Downloading gradio_client-1.5.1-py3-none-any.whl.metadata (7.1 kB)\n",
      "Collecting markupsafe~=2.0 (from gradio->-r requirements.txt (line 32))\n",
      "  Using cached MarkupSafe-2.1.5-cp312-cp312-macosx_10_9_universal2.whl.metadata (3.0 kB)\n",
      "Collecting orjson~=3.0 (from gradio->-r requirements.txt (line 32))\n",
      "  Using cached orjson-3.10.12-cp312-cp312-macosx_10_15_x86_64.macosx_11_0_arm64.macosx_10_15_universal2.whl.metadata (41 kB)\n",
      "Collecting pydub (from gradio->-r requirements.txt (line 32))\n",
      "  Using cached pydub-0.25.1-py2.py3-none-any.whl.metadata (1.4 kB)\n",
      "Collecting python-multipart>=0.0.18 (from gradio->-r requirements.txt (line 32))\n",
      "  Downloading python_multipart-0.0.19-py3-none-any.whl.metadata (1.8 kB)\n",
      "Collecting ruff>=0.2.2 (from gradio->-r requirements.txt (line 32))\n",
      "  Using cached ruff-0.8.1-py3-none-macosx_11_0_arm64.whl.metadata (25 kB)\n",
      "Collecting safehttpx<0.2.0,>=0.1.6 (from gradio->-r requirements.txt (line 32))\n",
      "  Using cached safehttpx-0.1.6-py3-none-any.whl.metadata (4.2 kB)\n",
      "Collecting semantic-version~=2.0 (from gradio->-r requirements.txt (line 32))\n",
      "  Using cached semantic_version-2.10.0-py2.py3-none-any.whl.metadata (9.7 kB)\n",
      "Collecting starlette<1.0,>=0.40.0 (from gradio->-r requirements.txt (line 32))\n",
      "  Using cached starlette-0.41.3-py3-none-any.whl.metadata (6.0 kB)\n",
      "Collecting tomlkit<0.14.0,>=0.12.0 (from gradio->-r requirements.txt (line 32))\n",
      "  Downloading tomlkit-0.13.2-py3-none-any.whl.metadata (2.7 kB)\n",
      "Collecting uvicorn>=0.14.0 (from gradio->-r requirements.txt (line 32))\n",
      "  Using cached uvicorn-0.32.1-py3-none-any.whl.metadata (6.6 kB)\n",
      "Collecting websockets<15.0,>=10.0 (from gradio-client==1.5.1->gradio->-r requirements.txt (line 32))\n",
      "  Downloading websockets-14.1-cp312-cp312-macosx_11_0_arm64.whl.metadata (6.7 kB)\n",
      "Collecting filetype (from twikit>=2.1.3->-r requirements.txt (line 34))\n",
      "  Using cached filetype-1.2.0-py2.py3-none-any.whl.metadata (6.5 kB)\n",
      "Collecting pyotp (from twikit>=2.1.3->-r requirements.txt (line 34))\n",
      "  Using cached pyotp-2.9.0-py3-none-any.whl.metadata (9.8 kB)\n",
      "Collecting lxml (from twikit>=2.1.3->-r requirements.txt (line 34))\n",
      "  Using cached lxml-5.3.0-cp312-cp312-macosx_10_9_universal2.whl.metadata (3.8 kB)\n",
      "Requirement already satisfied: six>=1.4.0 in ./.conda/lib/python3.12/site-packages (from docker-pycreds>=0.4.0->wandb->-r requirements.txt (line 31)) (1.17.0)\n",
      "Collecting aiohappyeyeballs>=2.3.0 (from aiohttp->datasets->-r requirements.txt (line 15))\n",
      "  Using cached aiohappyeyeballs-2.4.4-py3-none-any.whl.metadata (6.1 kB)\n",
      "Collecting aiosignal>=1.1.2 (from aiohttp->datasets->-r requirements.txt (line 15))\n",
      "  Using cached aiosignal-1.3.1-py3-none-any.whl.metadata (4.0 kB)\n",
      "Collecting attrs>=17.3.0 (from aiohttp->datasets->-r requirements.txt (line 15))\n",
      "  Using cached attrs-24.2.0-py3-none-any.whl.metadata (11 kB)\n",
      "Collecting frozenlist>=1.1.1 (from aiohttp->datasets->-r requirements.txt (line 15))\n",
      "  Using cached frozenlist-1.5.0-cp312-cp312-macosx_11_0_arm64.whl.metadata (13 kB)\n",
      "Collecting multidict<7.0,>=4.5 (from aiohttp->datasets->-r requirements.txt (line 15))\n",
      "  Using cached multidict-6.1.0-cp312-cp312-macosx_11_0_arm64.whl.metadata (5.0 kB)\n",
      "Collecting propcache>=0.2.0 (from aiohttp->datasets->-r requirements.txt (line 15))\n",
      "  Using cached propcache-0.2.1-cp312-cp312-macosx_11_0_arm64.whl.metadata (9.2 kB)\n",
      "Collecting yarl<2.0,>=1.17.0 (from aiohttp->datasets->-r requirements.txt (line 15))\n",
      "  Using cached yarl-1.18.3-cp312-cp312-macosx_11_0_arm64.whl.metadata (69 kB)\n",
      "Collecting gitdb<5,>=4.0.1 (from gitpython!=3.1.29,>=1.0.0->wandb->-r requirements.txt (line 31))\n",
      "  Using cached gitdb-4.0.11-py3-none-any.whl.metadata (1.2 kB)\n",
      "Collecting httpcore==1.* (from httpx<1,>=0.23.0->openai->-r requirements.txt (line 4))\n",
      "  Using cached httpcore-1.0.7-py3-none-any.whl.metadata (21 kB)\n",
      "Collecting h11<0.15,>=0.13 (from httpcore==1.*->httpx<1,>=0.23.0->openai->-r requirements.txt (line 4))\n",
      "  Using cached h11-0.14.0-py3-none-any.whl.metadata (8.2 kB)\n",
      "Requirement already satisfied: decorator in ./.conda/lib/python3.12/site-packages (from ipython>=6.1.0->ipywidgets->-r requirements.txt (line 2)) (5.1.1)\n",
      "Requirement already satisfied: jedi>=0.16 in ./.conda/lib/python3.12/site-packages (from ipython>=6.1.0->ipywidgets->-r requirements.txt (line 2)) (0.19.2)\n",
      "Requirement already satisfied: matplotlib-inline in ./.conda/lib/python3.12/site-packages (from ipython>=6.1.0->ipywidgets->-r requirements.txt (line 2)) (0.1.7)\n",
      "Requirement already satisfied: pexpect>4.3 in ./.conda/lib/python3.12/site-packages (from ipython>=6.1.0->ipywidgets->-r requirements.txt (line 2)) (4.9.0)\n",
      "Requirement already satisfied: prompt_toolkit<3.1.0,>=3.0.41 in ./.conda/lib/python3.12/site-packages (from ipython>=6.1.0->ipywidgets->-r requirements.txt (line 2)) (3.0.48)\n",
      "Requirement already satisfied: pygments>=2.4.0 in ./.conda/lib/python3.12/site-packages (from ipython>=6.1.0->ipywidgets->-r requirements.txt (line 2)) (2.18.0)\n",
      "Requirement already satisfied: stack_data in ./.conda/lib/python3.12/site-packages (from ipython>=6.1.0->ipywidgets->-r requirements.txt (line 2)) (0.6.2)\n",
      "Collecting jsonschema-specifications>=2023.03.6 (from jsonschema>=2.6->nbformat->-r requirements.txt (line 22))\n",
      "  Using cached jsonschema_specifications-2024.10.1-py3-none-any.whl.metadata (3.0 kB)\n",
      "Collecting referencing>=0.28.4 (from jsonschema>=2.6->nbformat->-r requirements.txt (line 22))\n",
      "  Using cached referencing-0.35.1-py3-none-any.whl.metadata (2.8 kB)\n",
      "Collecting rpds-py>=0.7.1 (from jsonschema>=2.6->nbformat->-r requirements.txt (line 22))\n",
      "  Downloading rpds_py-0.22.3-cp312-cp312-macosx_11_0_arm64.whl.metadata (4.2 kB)\n",
      "Collecting language-data>=1.2 (from langcodes<4.0.0,>=3.2.0->spacy->-r requirements.txt (line 19))\n",
      "  Using cached language_data-1.3.0-py3-none-any.whl.metadata (4.3 kB)\n",
      "Collecting accelerate>=0.20.3 (from sentence-transformers[train]>=3->setfit->-r requirements.txt (line 14))\n",
      "  Using cached accelerate-1.1.1-py3-none-any.whl.metadata (19 kB)\n",
      "Collecting blis<1.1.0,>=1.0.0 (from thinc<8.4.0,>=8.3.0->spacy->-r requirements.txt (line 19))\n",
      "  Using cached blis-1.0.1-cp312-cp312-macosx_11_0_arm64.whl.metadata (7.6 kB)\n",
      "Collecting confection<1.0.0,>=0.0.1 (from thinc<8.4.0,>=8.3.0->spacy->-r requirements.txt (line 19))\n",
      "  Using cached confection-0.1.5-py3-none-any.whl.metadata (19 kB)\n",
      "Collecting numpy (from -r requirements.txt (line 7))\n",
      "  Using cached numpy-2.0.2-cp312-cp312-macosx_14_0_arm64.whl.metadata (60 kB)\n",
      "Collecting sortedcontainers (from trio~=0.17->selenium->-r requirements.txt (line 25))\n",
      "  Using cached sortedcontainers-2.4.0-py2.py3-none-any.whl.metadata (10 kB)\n",
      "Collecting outcome (from trio~=0.17->selenium->-r requirements.txt (line 25))\n",
      "  Using cached outcome-1.3.0.post0-py2.py3-none-any.whl.metadata (2.6 kB)\n",
      "Collecting wsproto>=0.14 (from trio-websocket~=0.9->selenium->-r requirements.txt (line 25))\n",
      "  Using cached wsproto-1.2.0-py3-none-any.whl.metadata (5.6 kB)\n",
      "Collecting shellingham>=1.3.0 (from typer<1.0.0,>=0.3.0->spacy->-r requirements.txt (line 19))\n",
      "  Using cached shellingham-1.5.4-py2.py3-none-any.whl.metadata (3.5 kB)\n",
      "Collecting rich>=10.11.0 (from typer<1.0.0,>=0.3.0->spacy->-r requirements.txt (line 19))\n",
      "  Using cached rich-13.9.4-py3-none-any.whl.metadata (18 kB)\n",
      "Collecting pysocks!=1.5.7,<2.0,>=1.5.6 (from urllib3[socks]<3,>=1.26->selenium->-r requirements.txt (line 25))\n",
      "  Using cached PySocks-1.7.1-py3-none-any.whl.metadata (13 kB)\n",
      "Collecting cloudpathlib<1.0.0,>=0.7.0 (from weasel<0.5.0,>=0.1.0->spacy->-r requirements.txt (line 19))\n",
      "  Using cached cloudpathlib-0.20.0-py3-none-any.whl.metadata (14 kB)\n",
      "Collecting smart-open<8.0.0,>=5.2.1 (from weasel<0.5.0,>=0.1.0->spacy->-r requirements.txt (line 19))\n",
      "  Using cached smart_open-7.0.5-py3-none-any.whl.metadata (24 kB)\n",
      "Collecting Werkzeug>=3.1 (from Flask->community->-r requirements.txt (line 13))\n",
      "  Using cached werkzeug-3.1.3-py3-none-any.whl.metadata (3.7 kB)\n",
      "Collecting itsdangerous>=2.2 (from Flask->community->-r requirements.txt (line 13))\n",
      "  Using cached itsdangerous-2.2.0-py3-none-any.whl.metadata (1.9 kB)\n",
      "Collecting blinker>=1.9 (from Flask->community->-r requirements.txt (line 13))\n",
      "  Using cached blinker-1.9.0-py3-none-any.whl.metadata (1.6 kB)\n",
      "Collecting socksio==1.* (from httpx[socks]->twikit>=2.1.3->-r requirements.txt (line 34))\n",
      "  Using cached socksio-1.0.0-py3-none-any.whl.metadata (6.1 kB)\n",
      "Collecting smmap<6,>=3.0.1 (from gitdb<5,>=4.0.1->gitpython!=3.1.29,>=1.0.0->wandb->-r requirements.txt (line 31))\n",
      "  Using cached smmap-5.0.1-py3-none-any.whl.metadata (4.3 kB)\n",
      "Requirement already satisfied: parso<0.9.0,>=0.8.4 in ./.conda/lib/python3.12/site-packages (from jedi>=0.16->ipython>=6.1.0->ipywidgets->-r requirements.txt (line 2)) (0.8.4)\n",
      "Collecting marisa-trie>=1.1.0 (from language-data>=1.2->langcodes<4.0.0,>=3.2.0->spacy->-r requirements.txt (line 19))\n",
      "  Using cached marisa_trie-1.2.1-cp312-cp312-macosx_11_0_arm64.whl.metadata (9.0 kB)\n",
      "Requirement already satisfied: ptyprocess>=0.5 in ./.conda/lib/python3.12/site-packages (from pexpect>4.3->ipython>=6.1.0->ipywidgets->-r requirements.txt (line 2)) (0.7.0)\n",
      "Requirement already satisfied: wcwidth in ./.conda/lib/python3.12/site-packages (from prompt_toolkit<3.1.0,>=3.0.41->ipython>=6.1.0->ipywidgets->-r requirements.txt (line 2)) (0.2.13)\n",
      "Collecting markdown-it-py>=2.2.0 (from rich>=10.11.0->typer<1.0.0,>=0.3.0->spacy->-r requirements.txt (line 19))\n",
      "  Using cached markdown_it_py-3.0.0-py3-none-any.whl.metadata (6.9 kB)\n",
      "Collecting wrapt (from smart-open<8.0.0,>=5.2.1->weasel<0.5.0,>=0.1.0->spacy->-r requirements.txt (line 19))\n",
      "  Using cached wrapt-1.17.0-cp312-cp312-macosx_11_0_arm64.whl.metadata (6.4 kB)\n",
      "Requirement already satisfied: executing>=1.2.0 in ./.conda/lib/python3.12/site-packages (from stack_data->ipython>=6.1.0->ipywidgets->-r requirements.txt (line 2)) (2.1.0)\n",
      "Requirement already satisfied: asttokens>=2.1.0 in ./.conda/lib/python3.12/site-packages (from stack_data->ipython>=6.1.0->ipywidgets->-r requirements.txt (line 2)) (3.0.0)\n",
      "Requirement already satisfied: pure-eval in ./.conda/lib/python3.12/site-packages (from stack_data->ipython>=6.1.0->ipywidgets->-r requirements.txt (line 2)) (0.2.3)\n",
      "Collecting mdurl~=0.1 (from markdown-it-py>=2.2.0->rich>=10.11.0->typer<1.0.0,>=0.3.0->spacy->-r requirements.txt (line 19))\n",
      "  Using cached mdurl-0.1.2-py3-none-any.whl.metadata (1.6 kB)\n",
      "Using cached transformers-4.45.2-py3-none-any.whl (9.9 MB)\n",
      "Using cached requests-2.32.3-py3-none-any.whl (64 kB)\n",
      "Using cached ipywidgets-8.1.5-py3-none-any.whl (139 kB)\n",
      "Using cached beautifulsoup4-4.12.3-py3-none-any.whl (147 kB)\n",
      "Downloading openai-1.56.2-py3-none-any.whl (389 kB)\n",
      "Downloading pydantic-2.10.3-py3-none-any.whl (456 kB)\n",
      "Using cached pydantic_core-2.27.1-cp312-cp312-macosx_11_0_arm64.whl (1.8 MB)\n",
      "Using cached pandas-2.2.3-cp312-cp312-macosx_11_0_arm64.whl (11.4 MB)\n",
      "Using cached seaborn-0.13.2-py3-none-any.whl (294 kB)\n",
      "Using cached matplotlib-3.9.3-cp312-cp312-macosx_11_0_arm64.whl (7.8 MB)\n",
      "Using cached scipy-1.14.1-cp312-cp312-macosx_14_0_arm64.whl (23.1 MB)\n",
      "Using cached networkx-3.4.2-py3-none-any.whl (1.7 MB)\n",
      "Using cached setfit-1.1.0-py3-none-any.whl (75 kB)\n",
      "Using cached datasets-3.1.0-py3-none-any.whl (480 kB)\n",
      "Using cached scikit_learn-1.5.2-cp312-cp312-macosx_12_0_arm64.whl (11.0 MB)\n",
      "Using cached torch-2.5.1-cp312-none-macosx_11_0_arm64.whl (63.9 MB)\n",
      "Using cached sympy-1.13.1-py3-none-any.whl (6.2 MB)\n",
      "Using cached pyvis-0.3.2-py3-none-any.whl (756 kB)\n",
      "Using cached spacy-3.8.2-cp312-cp312-macosx_11_0_arm64.whl (6.0 MB)\n",
      "Using cached plotly-5.24.1-py3-none-any.whl (19.1 MB)\n",
      "Using cached nbformat-5.10.4-py3-none-any.whl (78 kB)\n",
      "Using cached tiktoken-0.8.0-cp312-cp312-macosx_11_0_arm64.whl (982 kB)\n",
      "Using cached tqdm-4.67.1-py3-none-any.whl (78 kB)\n",
      "Using cached selenium-4.27.1-py3-none-any.whl (9.7 MB)\n",
      "Using cached asyncio-3.4.3-py3-none-any.whl (101 kB)\n",
      "Using cached wordcloud-1.9.4-cp312-cp312-macosx_11_0_arm64.whl (168 kB)\n",
      "Using cached nltk-3.9.1-py3-none-any.whl (1.5 MB)\n",
      "Using cached textblob-0.18.0.post0-py3-none-any.whl (626 kB)\n",
      "Downloading wandb-0.19.0-py3-none-macosx_11_0_arm64.whl (19.2 MB)\n",
      "\u001b[2K   \u001b[90m━━━━━━━━━━━━━━━━━━━━━━━━━━━━━━━━━━━━━━━━\u001b[0m \u001b[32m19.2/19.2 MB\u001b[0m \u001b[31m5.6 MB/s\u001b[0m eta \u001b[36m0:00:00\u001b[0m00:01\u001b[0m00:01\u001b[0m\n",
      "\u001b[?25hDownloading gradio-5.8.0-py3-none-any.whl (57.2 MB)\n",
      "\u001b[2K   \u001b[90m━━━━━━━━━━━━━━━━━━━━━━━━━━━━━━━━━━━━━━━━\u001b[0m \u001b[32m57.2/57.2 MB\u001b[0m \u001b[31m5.3 MB/s\u001b[0m eta \u001b[36m0:00:00\u001b[0m00:01\u001b[0m00:01\u001b[0m\n",
      "\u001b[?25hDownloading gradio_client-1.5.1-py3-none-any.whl (320 kB)\n",
      "Using cached twikit-2.2.0-py3-none-any.whl (78 kB)\n",
      "Using cached aiofiles-23.2.1-py3-none-any.whl (15 kB)\n",
      "Using cached annotated_types-0.7.0-py3-none-any.whl (13 kB)\n",
      "Using cached anyio-4.6.2.post1-py3-none-any.whl (90 kB)\n",
      "Using cached catalogue-2.0.10-py3-none-any.whl (17 kB)\n",
      "Using cached certifi-2024.8.30-py3-none-any.whl (167 kB)\n",
      "Using cached charset_normalizer-3.4.0-cp312-cp312-macosx_11_0_arm64.whl (119 kB)\n",
      "Using cached click-8.1.7-py3-none-any.whl (97 kB)\n",
      "Using cached contourpy-1.3.1-cp312-cp312-macosx_11_0_arm64.whl (255 kB)\n",
      "Using cached cycler-0.12.1-py3-none-any.whl (8.3 kB)\n",
      "Using cached cymem-2.0.10-cp312-cp312-macosx_11_0_arm64.whl (42 kB)\n",
      "Using cached dill-0.3.8-py3-none-any.whl (116 kB)\n",
      "Using cached distro-1.9.0-py3-none-any.whl (20 kB)\n",
      "Using cached docker_pycreds-0.4.0-py2.py3-none-any.whl (9.0 kB)\n",
      "Using cached evaluate-0.4.3-py3-none-any.whl (84 kB)\n",
      "Downloading fastapi-0.115.6-py3-none-any.whl (94 kB)\n",
      "Using cached fastjsonschema-2.21.1-py3-none-any.whl (23 kB)\n",
      "Using cached fonttools-4.55.1-cp312-cp312-macosx_10_13_universal2.whl (2.8 MB)\n",
      "Using cached fsspec-2024.9.0-py3-none-any.whl (179 kB)\n",
      "Using cached aiohttp-3.11.9-cp312-cp312-macosx_11_0_arm64.whl (455 kB)\n",
      "Using cached GitPython-3.1.43-py3-none-any.whl (207 kB)\n",
      "Using cached httpx-0.28.0-py3-none-any.whl (73 kB)\n",
      "Using cached httpcore-1.0.7-py3-none-any.whl (78 kB)\n",
      "Using cached huggingface_hub-0.26.3-py3-none-any.whl (447 kB)\n",
      "Using cached idna-3.10-py3-none-any.whl (70 kB)\n",
      "Using cached jinja2-3.1.4-py3-none-any.whl (133 kB)\n",
      "Using cached jiter-0.8.0-cp312-cp312-macosx_11_0_arm64.whl (309 kB)\n",
      "Using cached joblib-1.4.2-py3-none-any.whl (301 kB)\n",
      "Using cached jsonpickle-4.0.0-py3-none-any.whl (46 kB)\n",
      "Using cached jsonschema-4.23.0-py3-none-any.whl (88 kB)\n",
      "Using cached jupyterlab_widgets-3.0.13-py3-none-any.whl (214 kB)\n",
      "Using cached kiwisolver-1.4.7-cp312-cp312-macosx_11_0_arm64.whl (63 kB)\n",
      "Using cached langcodes-3.5.0-py3-none-any.whl (182 kB)\n",
      "Using cached MarkupSafe-2.1.5-cp312-cp312-macosx_10_9_universal2.whl (18 kB)\n",
      "Using cached multiprocess-0.70.16-py312-none-any.whl (146 kB)\n",
      "Using cached murmurhash-1.0.11-cp312-cp312-macosx_11_0_arm64.whl (27 kB)\n",
      "Using cached orjson-3.10.12-cp312-cp312-macosx_10_15_x86_64.macosx_11_0_arm64.macosx_10_15_universal2.whl (248 kB)\n",
      "Using cached pillow-11.0.0-cp312-cp312-macosx_11_0_arm64.whl (3.0 MB)\n",
      "Using cached preshed-3.0.9-cp312-cp312-macosx_11_0_arm64.whl (128 kB)\n",
      "Downloading protobuf-5.29.1-cp38-abi3-macosx_10_9_universal2.whl (417 kB)\n",
      "Using cached pyarrow-18.1.0-cp312-cp312-macosx_12_0_arm64.whl (29.5 MB)\n",
      "Using cached pyparsing-3.2.0-py3-none-any.whl (106 kB)\n",
      "Downloading python_multipart-0.0.19-py3-none-any.whl (24 kB)\n",
      "Using cached pytz-2024.2-py2.py3-none-any.whl (508 kB)\n",
      "Using cached PyYAML-6.0.2-cp312-cp312-macosx_11_0_arm64.whl (173 kB)\n",
      "Using cached regex-2024.11.6-cp312-cp312-macosx_11_0_arm64.whl (284 kB)\n",
      "Using cached ruff-0.8.1-py3-none-macosx_11_0_arm64.whl (9.9 MB)\n",
      "Using cached safehttpx-0.1.6-py3-none-any.whl (8.7 kB)\n",
      "Using cached safetensors-0.4.5-cp312-cp312-macosx_11_0_arm64.whl (381 kB)\n",
      "Using cached semantic_version-2.10.0-py2.py3-none-any.whl (15 kB)\n",
      "Using cached sentence_transformers-3.3.1-py3-none-any.whl (268 kB)\n",
      "Using cached sentry_sdk-2.19.0-py2.py3-none-any.whl (322 kB)\n",
      "Using cached sniffio-1.3.1-py3-none-any.whl (10 kB)\n",
      "Using cached soupsieve-2.6-py3-none-any.whl (36 kB)\n",
      "Using cached spacy_legacy-3.0.12-py2.py3-none-any.whl (29 kB)\n",
      "Using cached spacy_loggers-1.0.5-py3-none-any.whl (22 kB)\n",
      "Using cached srsly-2.4.8-cp312-cp312-macosx_11_0_arm64.whl (486 kB)\n",
      "Using cached starlette-0.41.3-py3-none-any.whl (73 kB)\n",
      "Using cached tenacity-9.0.0-py3-none-any.whl (28 kB)\n",
      "Using cached thinc-8.3.2-cp312-cp312-macosx_11_0_arm64.whl (761 kB)\n",
      "Using cached numpy-2.0.2-cp312-cp312-macosx_14_0_arm64.whl (5.0 MB)\n",
      "Using cached threadpoolctl-3.5.0-py3-none-any.whl (18 kB)\n",
      "Using cached tokenizers-0.20.3-cp312-cp312-macosx_11_0_arm64.whl (2.6 MB)\n",
      "Downloading tomlkit-0.13.2-py3-none-any.whl (37 kB)\n",
      "Using cached trio-0.27.0-py3-none-any.whl (481 kB)\n",
      "Using cached trio_websocket-0.11.1-py3-none-any.whl (17 kB)\n",
      "Downloading typer-0.15.1-py3-none-any.whl (44 kB)\n",
      "Using cached tzdata-2024.2-py2.py3-none-any.whl (346 kB)\n",
      "Using cached urllib3-2.2.3-py3-none-any.whl (126 kB)\n",
      "Using cached uvicorn-0.32.1-py3-none-any.whl (63 kB)\n",
      "Using cached wasabi-1.1.3-py3-none-any.whl (27 kB)\n",
      "Using cached weasel-0.4.1-py3-none-any.whl (50 kB)\n",
      "Using cached websocket_client-1.8.0-py3-none-any.whl (58 kB)\n",
      "Using cached widgetsnbextension-4.0.13-py3-none-any.whl (2.3 MB)\n",
      "Using cached ffmpy-0.4.0-py3-none-any.whl (5.8 kB)\n",
      "Using cached filelock-3.16.1-py3-none-any.whl (16 kB)\n",
      "Using cached filetype-1.2.0-py2.py3-none-any.whl (19 kB)\n",
      "Using cached flask-3.1.0-py3-none-any.whl (102 kB)\n",
      "Using cached socksio-1.0.0-py3-none-any.whl (12 kB)\n",
      "Using cached lxml-5.3.0-cp312-cp312-macosx_10_9_universal2.whl (8.2 MB)\n",
      "Using cached pydub-0.25.1-py2.py3-none-any.whl (32 kB)\n",
      "Using cached pyotp-2.9.0-py3-none-any.whl (13 kB)\n",
      "Using cached setproctitle-1.3.4-cp312-cp312-macosx_11_0_arm64.whl (11 kB)\n",
      "Using cached xxhash-3.5.0-cp312-cp312-macosx_11_0_arm64.whl (30 kB)\n",
      "Using cached accelerate-1.1.1-py3-none-any.whl (333 kB)\n",
      "Using cached aiohappyeyeballs-2.4.4-py3-none-any.whl (14 kB)\n",
      "Using cached aiosignal-1.3.1-py3-none-any.whl (7.6 kB)\n",
      "Using cached attrs-24.2.0-py3-none-any.whl (63 kB)\n",
      "Using cached blinker-1.9.0-py3-none-any.whl (8.5 kB)\n",
      "Using cached blis-1.0.1-cp312-cp312-macosx_11_0_arm64.whl (1.1 MB)\n",
      "Using cached cloudpathlib-0.20.0-py3-none-any.whl (52 kB)\n",
      "Using cached confection-0.1.5-py3-none-any.whl (35 kB)\n",
      "Using cached frozenlist-1.5.0-cp312-cp312-macosx_11_0_arm64.whl (51 kB)\n",
      "Using cached gitdb-4.0.11-py3-none-any.whl (62 kB)\n",
      "Using cached h11-0.14.0-py3-none-any.whl (58 kB)\n",
      "Using cached itsdangerous-2.2.0-py3-none-any.whl (16 kB)\n",
      "Using cached jsonschema_specifications-2024.10.1-py3-none-any.whl (18 kB)\n",
      "Using cached language_data-1.3.0-py3-none-any.whl (5.4 MB)\n",
      "Using cached mpmath-1.3.0-py3-none-any.whl (536 kB)\n",
      "Using cached multidict-6.1.0-cp312-cp312-macosx_11_0_arm64.whl (29 kB)\n",
      "Using cached propcache-0.2.1-cp312-cp312-macosx_11_0_arm64.whl (45 kB)\n",
      "Using cached PySocks-1.7.1-py3-none-any.whl (16 kB)\n",
      "Using cached referencing-0.35.1-py3-none-any.whl (26 kB)\n",
      "Using cached rich-13.9.4-py3-none-any.whl (242 kB)\n",
      "Downloading rpds_py-0.22.3-cp312-cp312-macosx_11_0_arm64.whl (342 kB)\n",
      "Using cached shellingham-1.5.4-py2.py3-none-any.whl (9.8 kB)\n",
      "Using cached smart_open-7.0.5-py3-none-any.whl (61 kB)\n",
      "Downloading websockets-14.1-cp312-cp312-macosx_11_0_arm64.whl (159 kB)\n",
      "Using cached werkzeug-3.1.3-py3-none-any.whl (224 kB)\n",
      "Using cached wsproto-1.2.0-py3-none-any.whl (24 kB)\n",
      "Using cached yarl-1.18.3-cp312-cp312-macosx_11_0_arm64.whl (92 kB)\n",
      "Using cached outcome-1.3.0.post0-py2.py3-none-any.whl (10 kB)\n",
      "Using cached sortedcontainers-2.4.0-py2.py3-none-any.whl (29 kB)\n",
      "Using cached marisa_trie-1.2.1-cp312-cp312-macosx_11_0_arm64.whl (174 kB)\n",
      "Using cached markdown_it_py-3.0.0-py3-none-any.whl (87 kB)\n",
      "Using cached smmap-5.0.1-py3-none-any.whl (24 kB)\n",
      "Using cached wrapt-1.17.0-cp312-cp312-macosx_11_0_arm64.whl (38 kB)\n",
      "Using cached mdurl-0.1.2-py3-none-any.whl (10.0 kB)\n",
      "Installing collected packages: umap, sortedcontainers, pytz, pydub, mpmath, filetype, fastjsonschema, cymem, asyncio, xxhash, wrapt, widgetsnbextension, websockets, websocket-client, wasabi, urllib3, tzdata, tqdm, tomlkit, threadpoolctl, tenacity, sympy, spacy-loggers, spacy-legacy, soupsieve, socksio, sniffio, smmap, shellingham, setproctitle, semantic-version, safetensors, ruff, rpds-py, regex, pyyaml, python-multipart, pysocks, pyparsing, pyotp, pydantic-core, pyarrow, protobuf, propcache, pillow, orjson, numpy, networkx, murmurhash, multidict, mdurl, markupsafe, marisa-trie, lxml, kiwisolver, jupyterlab-widgets, jsonpickle, joblib, jiter, itsdangerous, idna, h11, fsspec, frozenlist, fonttools, filelock, ffmpy, docker-pycreds, distro, dill, cycler, cloudpathlib, click, charset-normalizer, certifi, catalogue, blinker, attrs, annotated-types, aiohappyeyeballs, aiofiles, yarl, wsproto, Werkzeug, uvicorn, srsly, smart-open, sentry-sdk, scipy, requests, referencing, python-louvain, pydantic, preshed, plotly, pandas, outcome, nltk, multiprocess, markdown-it-py, language-data, jinja2, httpcore, gitdb, contourpy, blis, beautifulsoup4, anyio, aiosignal, trio, torch, tiktoken, textblob, starlette, scikit-learn, rich, pyvis, matplotlib, langcodes, jsonschema-specifications, ipywidgets, huggingface-hub, httpx, gitpython, Flask, confection, aiohttp, wordcloud, wandb, typer, trio-websocket, tokenizers, thinc, seaborn, safehttpx, openai, jsonschema, gradio-client, fastapi, community, accelerate, weasel, twikit, transformers, selenium, nbformat, gradio, datasets, spacy, sentence-transformers, evaluate, setfit\n",
      "Successfully installed Flask-3.1.0 Werkzeug-3.1.3 accelerate-1.1.1 aiofiles-23.2.1 aiohappyeyeballs-2.4.4 aiohttp-3.11.9 aiosignal-1.3.1 annotated-types-0.7.0 anyio-4.6.2.post1 asyncio-3.4.3 attrs-24.2.0 beautifulsoup4-4.12.3 blinker-1.9.0 blis-1.0.1 catalogue-2.0.10 certifi-2024.8.30 charset-normalizer-3.4.0 click-8.1.7 cloudpathlib-0.20.0 community-1.0.0b1 confection-0.1.5 contourpy-1.3.1 cycler-0.12.1 cymem-2.0.10 datasets-3.1.0 dill-0.3.8 distro-1.9.0 docker-pycreds-0.4.0 evaluate-0.4.3 fastapi-0.115.6 fastjsonschema-2.21.1 ffmpy-0.4.0 filelock-3.16.1 filetype-1.2.0 fonttools-4.55.1 frozenlist-1.5.0 fsspec-2024.9.0 gitdb-4.0.11 gitpython-3.1.43 gradio-5.8.0 gradio-client-1.5.1 h11-0.14.0 httpcore-1.0.7 httpx-0.28.0 huggingface-hub-0.26.3 idna-3.10 ipywidgets-8.1.5 itsdangerous-2.2.0 jinja2-3.1.4 jiter-0.8.0 joblib-1.4.2 jsonpickle-4.0.0 jsonschema-4.23.0 jsonschema-specifications-2024.10.1 jupyterlab-widgets-3.0.13 kiwisolver-1.4.7 langcodes-3.5.0 language-data-1.3.0 lxml-5.3.0 marisa-trie-1.2.1 markdown-it-py-3.0.0 markupsafe-2.1.5 matplotlib-3.9.3 mdurl-0.1.2 mpmath-1.3.0 multidict-6.1.0 multiprocess-0.70.16 murmurhash-1.0.11 nbformat-5.10.4 networkx-3.4.2 nltk-3.9.1 numpy-2.0.2 openai-1.56.2 orjson-3.10.12 outcome-1.3.0.post0 pandas-2.2.3 pillow-11.0.0 plotly-5.24.1 preshed-3.0.9 propcache-0.2.1 protobuf-5.29.1 pyarrow-18.1.0 pydantic-2.10.3 pydantic-core-2.27.1 pydub-0.25.1 pyotp-2.9.0 pyparsing-3.2.0 pysocks-1.7.1 python-louvain-0.16 python-multipart-0.0.19 pytz-2024.2 pyvis-0.3.2 pyyaml-6.0.2 referencing-0.35.1 regex-2024.11.6 requests-2.32.3 rich-13.9.4 rpds-py-0.22.3 ruff-0.8.1 safehttpx-0.1.6 safetensors-0.4.5 scikit-learn-1.5.2 scipy-1.14.1 seaborn-0.13.2 selenium-4.27.1 semantic-version-2.10.0 sentence-transformers-3.3.1 sentry-sdk-2.19.0 setfit-1.1.0 setproctitle-1.3.4 shellingham-1.5.4 smart-open-7.0.5 smmap-5.0.1 sniffio-1.3.1 socksio-1.0.0 sortedcontainers-2.4.0 soupsieve-2.6 spacy-3.8.2 spacy-legacy-3.0.12 spacy-loggers-1.0.5 srsly-2.4.8 starlette-0.41.3 sympy-1.13.1 tenacity-9.0.0 textblob-0.18.0.post0 thinc-8.3.2 threadpoolctl-3.5.0 tiktoken-0.8.0 tokenizers-0.20.3 tomlkit-0.13.2 torch-2.5.1 tqdm-4.67.1 transformers-4.45.2 trio-0.27.0 trio-websocket-0.11.1 twikit-2.2.0 typer-0.15.1 tzdata-2024.2 umap-0.1.1 urllib3-2.2.3 uvicorn-0.32.1 wandb-0.19.0 wasabi-1.1.3 weasel-0.4.1 websocket-client-1.8.0 websockets-14.1 widgetsnbextension-4.0.13 wordcloud-1.9.4 wrapt-1.17.0 wsproto-1.2.0 xxhash-3.5.0 yarl-1.18.3\n"
     ]
    }
   ],
   "source": [
    "!pip install -r requirements.txt"
   ]
  },
  {
   "cell_type": "code",
   "execution_count": 2,
   "metadata": {},
   "outputs": [],
   "source": [
    "try:\n",
    "    import nltk\n",
    "    nltk.download('stopwords', quiet=True)\n",
    "except ImportError:\n",
    "    !pip install nltk\n",
    "    import nltk\n",
    "    nltk.download('stopwords', quiet=True)"
   ]
  },
  {
   "cell_type": "code",
   "execution_count": 3,
   "metadata": {},
   "outputs": [
    {
     "name": "stdout",
     "output_type": "stream",
     "text": [
      "Requirement already satisfied: wordcloud in ./.conda/lib/python3.12/site-packages (1.9.4)\n",
      "Requirement already satisfied: numpy>=1.6.1 in ./.conda/lib/python3.12/site-packages (from wordcloud) (2.0.2)\n",
      "Requirement already satisfied: pillow in ./.conda/lib/python3.12/site-packages (from wordcloud) (11.0.0)\n",
      "Requirement already satisfied: matplotlib in ./.conda/lib/python3.12/site-packages (from wordcloud) (3.9.3)\n",
      "Requirement already satisfied: contourpy>=1.0.1 in ./.conda/lib/python3.12/site-packages (from matplotlib->wordcloud) (1.3.1)\n",
      "Requirement already satisfied: cycler>=0.10 in ./.conda/lib/python3.12/site-packages (from matplotlib->wordcloud) (0.12.1)\n",
      "Requirement already satisfied: fonttools>=4.22.0 in ./.conda/lib/python3.12/site-packages (from matplotlib->wordcloud) (4.55.1)\n",
      "Requirement already satisfied: kiwisolver>=1.3.1 in ./.conda/lib/python3.12/site-packages (from matplotlib->wordcloud) (1.4.7)\n",
      "Requirement already satisfied: packaging>=20.0 in ./.conda/lib/python3.12/site-packages (from matplotlib->wordcloud) (24.2)\n",
      "Requirement already satisfied: pyparsing>=2.3.1 in ./.conda/lib/python3.12/site-packages (from matplotlib->wordcloud) (3.2.0)\n",
      "Requirement already satisfied: python-dateutil>=2.7 in ./.conda/lib/python3.12/site-packages (from matplotlib->wordcloud) (2.9.0.post0)\n",
      "Requirement already satisfied: six>=1.5 in ./.conda/lib/python3.12/site-packages (from python-dateutil>=2.7->matplotlib->wordcloud) (1.17.0)\n"
     ]
    }
   ],
   "source": [
    "\n",
    "# Datahandling\n",
    "\n",
    "!pip install wordcloud\n",
    "\n",
    "import requests\n",
    "import os\n",
    "import numpy as np\n",
    "import pandas as pd\n",
    "import seaborn as sns\n",
    "import matplotlib.pyplot as plt\n",
    "import wordcloud\n",
    "import plotly.express as px\n",
    "\n",
    "\n",
    "\n"
   ]
  },
  {
   "cell_type": "code",
   "execution_count": 4,
   "metadata": {},
   "outputs": [],
   "source": [
    "# Data import: \n",
    "data = pd.read_csv('TwitterData_Joined.csv')"
   ]
  },
  {
   "cell_type": "code",
   "execution_count": 5,
   "metadata": {},
   "outputs": [
    {
     "data": {
      "text/html": [
       "<div>\n",
       "<style scoped>\n",
       "    .dataframe tbody tr th:only-of-type {\n",
       "        vertical-align: middle;\n",
       "    }\n",
       "\n",
       "    .dataframe tbody tr th {\n",
       "        vertical-align: top;\n",
       "    }\n",
       "\n",
       "    .dataframe thead th {\n",
       "        text-align: right;\n",
       "    }\n",
       "</style>\n",
       "<table border=\"1\" class=\"dataframe\">\n",
       "  <thead>\n",
       "    <tr style=\"text-align: right;\">\n",
       "      <th></th>\n",
       "      <th>Twitter_User_Name</th>\n",
       "      <th>Twitter_Account</th>\n",
       "      <th>Twitter_User_Description</th>\n",
       "      <th>Tweet_id</th>\n",
       "      <th>Tweet_created_at</th>\n",
       "      <th>Tweet_text</th>\n",
       "      <th>Label</th>\n",
       "      <th>Word_Count</th>\n",
       "      <th>Url_Count</th>\n",
       "      <th>Retweet</th>\n",
       "      <th>...</th>\n",
       "      <th>Adverb_Count</th>\n",
       "      <th>Positive_Word_Ratio</th>\n",
       "      <th>Negative_Word_Ratio</th>\n",
       "      <th>Neutral_Word_Ratio</th>\n",
       "      <th>Following</th>\n",
       "      <th>Followers</th>\n",
       "      <th>Verified</th>\n",
       "      <th>Link</th>\n",
       "      <th>Location</th>\n",
       "      <th>Real_Location</th>\n",
       "    </tr>\n",
       "  </thead>\n",
       "  <tbody>\n",
       "    <tr>\n",
       "      <th>0</th>\n",
       "      <td>Museum Bot</td>\n",
       "      <td>MuseumBot</td>\n",
       "      <td>I am a bot that tweets a random high-res Open ...</td>\n",
       "      <td>8.027580e+17</td>\n",
       "      <td>27-11-2016 06:15</td>\n",
       "      <td>Imperial Theatrical Coat for Court Lady https:...</td>\n",
       "      <td>0</td>\n",
       "      <td>8</td>\n",
       "      <td>2</td>\n",
       "      <td>0</td>\n",
       "      <td>...</td>\n",
       "      <td>0</td>\n",
       "      <td>0.000</td>\n",
       "      <td>0.0</td>\n",
       "      <td>1.000</td>\n",
       "      <td>0</td>\n",
       "      <td>7816</td>\n",
       "      <td>0</td>\n",
       "      <td>https://twitter.com/MuseumBot?s=20</td>\n",
       "      <td>NaN</td>\n",
       "      <td>-1.0</td>\n",
       "    </tr>\n",
       "    <tr>\n",
       "      <th>1</th>\n",
       "      <td>Museum Bot</td>\n",
       "      <td>MuseumBot</td>\n",
       "      <td>I am a bot that tweets a random high-res Open ...</td>\n",
       "      <td>8.746920e+17</td>\n",
       "      <td>13-06-2017 18:15</td>\n",
       "      <td>Half-length Figure of St Paul in an Oval. http...</td>\n",
       "      <td>0</td>\n",
       "      <td>10</td>\n",
       "      <td>2</td>\n",
       "      <td>0</td>\n",
       "      <td>...</td>\n",
       "      <td>0</td>\n",
       "      <td>0.000</td>\n",
       "      <td>0.0</td>\n",
       "      <td>1.000</td>\n",
       "      <td>0</td>\n",
       "      <td>7816</td>\n",
       "      <td>0</td>\n",
       "      <td>https://twitter.com/MuseumBot?s=20</td>\n",
       "      <td>NaN</td>\n",
       "      <td>-1.0</td>\n",
       "    </tr>\n",
       "    <tr>\n",
       "      <th>2</th>\n",
       "      <td>Museum Bot</td>\n",
       "      <td>MuseumBot</td>\n",
       "      <td>I am a bot that tweets a random high-res Open ...</td>\n",
       "      <td>6.983900e+17</td>\n",
       "      <td>13-02-2016 06:15</td>\n",
       "      <td>Great Exhibition Jurors&amp;amp;#39; Medal https:/...</td>\n",
       "      <td>0</td>\n",
       "      <td>6</td>\n",
       "      <td>2</td>\n",
       "      <td>0</td>\n",
       "      <td>...</td>\n",
       "      <td>0</td>\n",
       "      <td>0.125</td>\n",
       "      <td>0.0</td>\n",
       "      <td>0.875</td>\n",
       "      <td>0</td>\n",
       "      <td>7816</td>\n",
       "      <td>0</td>\n",
       "      <td>https://twitter.com/MuseumBot?s=20</td>\n",
       "      <td>NaN</td>\n",
       "      <td>-1.0</td>\n",
       "    </tr>\n",
       "    <tr>\n",
       "      <th>3</th>\n",
       "      <td>Museum Bot</td>\n",
       "      <td>MuseumBot</td>\n",
       "      <td>I am a bot that tweets a random high-res Open ...</td>\n",
       "      <td>6.976650e+17</td>\n",
       "      <td>11-02-2016 06:15</td>\n",
       "      <td>Pair of candelabra https://t.co/KYopSWDSw2 htt...</td>\n",
       "      <td>0</td>\n",
       "      <td>5</td>\n",
       "      <td>2</td>\n",
       "      <td>0</td>\n",
       "      <td>...</td>\n",
       "      <td>0</td>\n",
       "      <td>0.000</td>\n",
       "      <td>0.0</td>\n",
       "      <td>1.000</td>\n",
       "      <td>0</td>\n",
       "      <td>7816</td>\n",
       "      <td>0</td>\n",
       "      <td>https://twitter.com/MuseumBot?s=20</td>\n",
       "      <td>NaN</td>\n",
       "      <td>-1.0</td>\n",
       "    </tr>\n",
       "    <tr>\n",
       "      <th>4</th>\n",
       "      <td>Museum Bot</td>\n",
       "      <td>MuseumBot</td>\n",
       "      <td>I am a bot that tweets a random high-res Open ...</td>\n",
       "      <td>6.217450e+17</td>\n",
       "      <td>16-07-2015 18:15</td>\n",
       "      <td>Banner (Nobori)\\n http://t.co/yz34Xgo9a5 http:...</td>\n",
       "      <td>0</td>\n",
       "      <td>4</td>\n",
       "      <td>2</td>\n",
       "      <td>0</td>\n",
       "      <td>...</td>\n",
       "      <td>0</td>\n",
       "      <td>0.000</td>\n",
       "      <td>0.0</td>\n",
       "      <td>1.000</td>\n",
       "      <td>0</td>\n",
       "      <td>7816</td>\n",
       "      <td>0</td>\n",
       "      <td>https://twitter.com/MuseumBot?s=20</td>\n",
       "      <td>NaN</td>\n",
       "      <td>-1.0</td>\n",
       "    </tr>\n",
       "  </tbody>\n",
       "</table>\n",
       "<p>5 rows × 29 columns</p>\n",
       "</div>"
      ],
      "text/plain": [
       "  Twitter_User_Name Twitter_Account  \\\n",
       "0        Museum Bot       MuseumBot   \n",
       "1        Museum Bot       MuseumBot   \n",
       "2        Museum Bot       MuseumBot   \n",
       "3        Museum Bot       MuseumBot   \n",
       "4        Museum Bot       MuseumBot   \n",
       "\n",
       "                            Twitter_User_Description      Tweet_id  \\\n",
       "0  I am a bot that tweets a random high-res Open ...  8.027580e+17   \n",
       "1  I am a bot that tweets a random high-res Open ...  8.746920e+17   \n",
       "2  I am a bot that tweets a random high-res Open ...  6.983900e+17   \n",
       "3  I am a bot that tweets a random high-res Open ...  6.976650e+17   \n",
       "4  I am a bot that tweets a random high-res Open ...  6.217450e+17   \n",
       "\n",
       "   Tweet_created_at                                         Tweet_text  Label  \\\n",
       "0  27-11-2016 06:15  Imperial Theatrical Coat for Court Lady https:...      0   \n",
       "1  13-06-2017 18:15  Half-length Figure of St Paul in an Oval. http...      0   \n",
       "2  13-02-2016 06:15  Great Exhibition Jurors&amp;#39; Medal https:/...      0   \n",
       "3  11-02-2016 06:15  Pair of candelabra https://t.co/KYopSWDSw2 htt...      0   \n",
       "4  16-07-2015 18:15  Banner (Nobori)\\n http://t.co/yz34Xgo9a5 http:...      0   \n",
       "\n",
       "   Word_Count  Url_Count  Retweet  ... Adverb_Count  Positive_Word_Ratio  \\\n",
       "0           8          2        0  ...            0                0.000   \n",
       "1          10          2        0  ...            0                0.000   \n",
       "2           6          2        0  ...            0                0.125   \n",
       "3           5          2        0  ...            0                0.000   \n",
       "4           4          2        0  ...            0                0.000   \n",
       "\n",
       "   Negative_Word_Ratio  Neutral_Word_Ratio  Following  Followers  Verified  \\\n",
       "0                  0.0               1.000          0       7816         0   \n",
       "1                  0.0               1.000          0       7816         0   \n",
       "2                  0.0               0.875          0       7816         0   \n",
       "3                  0.0               1.000          0       7816         0   \n",
       "4                  0.0               1.000          0       7816         0   \n",
       "\n",
       "                                 Link  Location  Real_Location  \n",
       "0  https://twitter.com/MuseumBot?s=20       NaN           -1.0  \n",
       "1  https://twitter.com/MuseumBot?s=20       NaN           -1.0  \n",
       "2  https://twitter.com/MuseumBot?s=20       NaN           -1.0  \n",
       "3  https://twitter.com/MuseumBot?s=20       NaN           -1.0  \n",
       "4  https://twitter.com/MuseumBot?s=20       NaN           -1.0  \n",
       "\n",
       "[5 rows x 29 columns]"
      ]
     },
     "execution_count": 5,
     "metadata": {},
     "output_type": "execute_result"
    }
   ],
   "source": [
    "data.head()"
   ]
  },
  {
   "cell_type": "code",
   "execution_count": 8,
   "metadata": {},
   "outputs": [
    {
     "data": {
      "text/plain": [
       "(279691, 29)"
      ]
     },
     "execution_count": 8,
     "metadata": {},
     "output_type": "execute_result"
    }
   ],
   "source": [
    "data.shape"
   ]
  },
  {
   "cell_type": "code",
   "execution_count": 18,
   "metadata": {},
   "outputs": [
    {
     "name": "stdout",
     "output_type": "stream",
     "text": [
      "Top 10 frequent entries in 'Location':\n",
      "Location\n",
      "Internet      9572\n",
      "Islamabad     9425\n",
      "New York      8364\n",
      "England       6456\n",
      "USA           6439\n",
      "Atlanta       6395\n",
      "Scotland      6328\n",
      "California    5959\n",
      "Up a tower    3248\n",
      "Florida       3247\n",
      "Name: count, dtype: int64\n",
      "Top 10 frequent entries in 'Real_location':\n",
      "Real_Location\n",
      " 1.0    114255\n",
      "-1.0    114163\n",
      " 0.0     51273\n",
      "Name: count, dtype: int64\n"
     ]
    }
   ],
   "source": [
    "# Most frequent entries in 'Location' and 'Real_location'\n",
    "print(\"Top 10 frequent entries in 'Location':\")\n",
    "print(data[\"Location\"].value_counts().head(10))\n",
    "\n",
    "print(\"Top 10 frequent entries in 'Real_location':\")\n",
    "print(data[\"Real_Location\"].value_counts().head(10))\n"
   ]
  },
  {
   "cell_type": "code",
   "execution_count": 9,
   "metadata": {},
   "outputs": [
    {
     "data": {
      "text/plain": [
       "Index(['Twitter_User_Name', 'Twitter_Account', 'Twitter_User_Description',\n",
       "       'Tweet_id', 'Tweet_created_at', 'Tweet_text', 'Label', 'Word_Count',\n",
       "       'Url_Count', 'Retweet', 'Original_User', 'Mentions_Count',\n",
       "       'Hashtags_Count', 'QuesMark_Count', 'Exclamations_Count',\n",
       "       'SpecialCharacters_Count', 'Nouns_Count', 'Pronouns_Count',\n",
       "       'Verb_Count', 'Adverb_Count', 'Positive_Word_Ratio',\n",
       "       'Negative_Word_Ratio', 'Neutral_Word_Ratio', 'Following', 'Followers',\n",
       "       'Verified', 'Link', 'Location', 'Real_Location'],\n",
       "      dtype='object')"
      ]
     },
     "execution_count": 9,
     "metadata": {},
     "output_type": "execute_result"
    }
   ],
   "source": [
    "data.columns"
   ]
  },
  {
   "cell_type": "code",
   "execution_count": 10,
   "metadata": {},
   "outputs": [
    {
     "data": {
      "text/plain": [
       "Twitter_User_Name                0\n",
       "Twitter_Account                  0\n",
       "Twitter_User_Description      3664\n",
       "Tweet_id                         0\n",
       "Tweet_created_at                 0\n",
       "Tweet_text                       0\n",
       "Label                            0\n",
       "Word_Count                       0\n",
       "Url_Count                        0\n",
       "Retweet                          0\n",
       "Original_User               221300\n",
       "Mentions_Count                   0\n",
       "Hashtags_Count                   0\n",
       "QuesMark_Count                   0\n",
       "Exclamations_Count               0\n",
       "SpecialCharacters_Count          0\n",
       "Nouns_Count                      0\n",
       "Pronouns_Count                   0\n",
       "Verb_Count                       0\n",
       "Adverb_Count                     0\n",
       "Positive_Word_Ratio              0\n",
       "Negative_Word_Ratio              0\n",
       "Neutral_Word_Ratio               0\n",
       "Following                        0\n",
       "Followers                        0\n",
       "Verified                         0\n",
       "Link                         14566\n",
       "Location                    110994\n",
       "Real_Location                    0\n",
       "dtype: int64"
      ]
     },
     "execution_count": 10,
     "metadata": {},
     "output_type": "execute_result"
    }
   ],
   "source": [
    "data.isna().sum()\n"
   ]
  },
  {
   "cell_type": "code",
   "execution_count": 7,
   "metadata": {},
   "outputs": [
    {
     "name": "stdout",
     "output_type": "stream",
     "text": [
      "Number of rows where Label=0 (bot): 135467\n",
      "Number of rows where Label=1 (non-bot): 144224\n"
     ]
    }
   ],
   "source": [
    "# Separate counts for better clarity\n",
    "bot_count = len(data[data[\"Label\"] == 0])\n",
    "non_bot_count = len(data[data[\"Label\"] == 1])\n",
    "\n",
    "print(f\"Number of rows where Label=0 (bot): {bot_count}\")\n",
    "print(f\"Number of rows where Label=1 (non-bot): {non_bot_count}\")\n"
   ]
  },
  {
   "cell_type": "markdown",
   "metadata": {},
   "source": [
    "### Cleaning and basic data description"
   ]
  },
  {
   "cell_type": "code",
   "execution_count": 11,
   "metadata": {},
   "outputs": [],
   "source": [
    "import pandas as pd\n",
    "\n",
    "\n",
    "# Fill missing values with 0 for specific columns\n",
    "columns_to_fill = ['Twitter_User_Description', 'Link', 'Location', 'Original_User']\n",
    "\n",
    "data[columns_to_fill] = data[columns_to_fill].fillna(0)\n",
    "\n",
    "# If you want to fill all columns with NaNs with 0, you can do:\n",
    "# data.fillna(0, inplace=True)\n",
    "\n",
    "# Display the DataFrame to verify changes\n"
   ]
  },
  {
   "cell_type": "code",
   "execution_count": 12,
   "metadata": {},
   "outputs": [
    {
     "data": {
      "text/plain": [
       "Twitter_User_Name           0\n",
       "Twitter_Account             0\n",
       "Twitter_User_Description    0\n",
       "Tweet_id                    0\n",
       "Tweet_created_at            0\n",
       "Tweet_text                  0\n",
       "Label                       0\n",
       "Word_Count                  0\n",
       "Url_Count                   0\n",
       "Retweet                     0\n",
       "Original_User               0\n",
       "Mentions_Count              0\n",
       "Hashtags_Count              0\n",
       "QuesMark_Count              0\n",
       "Exclamations_Count          0\n",
       "SpecialCharacters_Count     0\n",
       "Nouns_Count                 0\n",
       "Pronouns_Count              0\n",
       "Verb_Count                  0\n",
       "Adverb_Count                0\n",
       "Positive_Word_Ratio         0\n",
       "Negative_Word_Ratio         0\n",
       "Neutral_Word_Ratio          0\n",
       "Following                   0\n",
       "Followers                   0\n",
       "Verified                    0\n",
       "Link                        0\n",
       "Location                    0\n",
       "Real_Location               0\n",
       "dtype: int64"
      ]
     },
     "execution_count": 12,
     "metadata": {},
     "output_type": "execute_result"
    }
   ],
   "source": [
    "data.isna().sum()\n"
   ]
  },
  {
   "cell_type": "code",
   "execution_count": 13,
   "metadata": {},
   "outputs": [
    {
     "name": "stdout",
     "output_type": "stream",
     "text": [
      "\n",
      "Descriptive Statistics:\n",
      "                    Tweet_id     Label  Word_Count  Url_Count   Retweet  \\\n",
      "count              279691.00 279691.00   279691.00  279691.00 279691.00   \n",
      "mean   790870432473705216.00      0.52       12.96       0.49      0.21   \n",
      "std    275015878617909440.00      0.50        7.16       0.56      0.41   \n",
      "min           12796523176.00      0.00        1.00       0.00      0.00   \n",
      "25%    619934000000000000.00      0.00        7.00       0.00      0.00   \n",
      "50%    887113000000000000.00      1.00       13.00       0.00      0.00   \n",
      "75%   1023220000000000000.00      1.00       19.00       1.00      0.00   \n",
      "max   1072710000000000000.00      1.00       62.00       4.00      1.00   \n",
      "\n",
      "       Mentions_Count  Hashtags_Count  QuesMark_Count  Exclamations_Count  \\\n",
      "count       279691.00       279691.00       279691.00           279691.00   \n",
      "mean             0.50            0.25            0.10                0.23   \n",
      "std              0.96            0.73            0.40                0.76   \n",
      "min              0.00            0.00            0.00                0.00   \n",
      "25%              0.00            0.00            0.00                0.00   \n",
      "50%              0.00            0.00            0.00                0.00   \n",
      "75%              1.00            0.00            0.00                0.00   \n",
      "max             13.00           14.00           49.00               37.00   \n",
      "\n",
      "       SpecialCharacters_Count  ...  Pronouns_Count  Verb_Count  Adverb_Count  \\\n",
      "count                279691.00  ...       279691.00   279691.00     279691.00   \n",
      "mean                      8.50  ...            0.01        1.38          0.29   \n",
      "std                      22.92  ...            0.12        1.44          0.60   \n",
      "min                       0.00  ...            0.00        0.00          0.00   \n",
      "25%                       2.00  ...            0.00        0.00          0.00   \n",
      "50%                       4.00  ...            0.00        1.00          0.00   \n",
      "75%                       8.00  ...            0.00        2.00          0.00   \n",
      "max                     414.00  ...            3.00       14.00         14.00   \n",
      "\n",
      "       Positive_Word_Ratio  Negative_Word_Ratio  Neutral_Word_Ratio  \\\n",
      "count            279691.00            279691.00           279691.00   \n",
      "mean                  0.04                 0.02                0.94   \n",
      "std                   0.06                 0.04                0.07   \n",
      "min                   0.00                 0.00                0.00   \n",
      "25%                   0.00                 0.00                0.91   \n",
      "50%                   0.00                 0.00                0.96   \n",
      "75%                   0.06                 0.00                1.00   \n",
      "max                   1.00                 1.00                1.00   \n",
      "\n",
      "       Following   Followers  Verified  Real_Location  \n",
      "count  279691.00   279691.00 279691.00      279691.00  \n",
      "mean     2131.42  1496164.02      0.10           0.00  \n",
      "std      6731.25  5909723.58      0.44           0.90  \n",
      "min        -1.00       -1.00     -1.00          -1.00  \n",
      "25%         1.00      963.00      0.00          -1.00  \n",
      "50%        62.00     5398.00      0.00           0.00  \n",
      "75%      1440.00    95110.00      0.00           1.00  \n",
      "max     55000.00 45200000.00      1.00           1.00  \n",
      "\n",
      "[8 rows x 21 columns]\n"
     ]
    }
   ],
   "source": [
    "# Method 1: Using dtype\n",
    "quantitative_columns = data.select_dtypes(include=['int64', 'float64']).columns.tolist()\n",
    "# Format the describe output to show regular numbers\n",
    "desc_stats = data[quantitative_columns].describe()\n",
    "pd.set_option('display.float_format', lambda x: '%.2f' % x)\n",
    "print(\"\\nDescriptive Statistics:\")\n",
    "print(desc_stats)"
   ]
  },
  {
   "cell_type": "code",
   "execution_count": 14,
   "metadata": {},
   "outputs": [
    {
     "name": "stdout",
     "output_type": "stream",
     "text": [
      "\n",
      "Cleaned Descriptive Statistics:\n",
      "                    Tweet_id     Label  Word_Count  Url_Count   Retweet  \\\n",
      "count              279691.00 279691.00   279691.00  279691.00 279691.00   \n",
      "mean   790870432473705216.00      0.52       12.96       0.49      0.21   \n",
      "std    275015878617909440.00      0.50        7.16       0.56      0.41   \n",
      "min           12796523176.00      0.00        1.00       0.00      0.00   \n",
      "25%    619934000000000000.00      0.00        7.00       0.00      0.00   \n",
      "50%    887113000000000000.00      1.00       13.00       0.00      0.00   \n",
      "75%   1023220000000000000.00      1.00       19.00       1.00      0.00   \n",
      "max   1072710000000000000.00      1.00       62.00       4.00      1.00   \n",
      "\n",
      "       Mentions_Count  Hashtags_Count  QuesMark_Count  Exclamations_Count  \\\n",
      "count       279691.00       279691.00       279691.00           279691.00   \n",
      "mean             0.50            0.25            0.10                0.23   \n",
      "std              0.96            0.73            0.40                0.76   \n",
      "min              0.00            0.00            0.00                0.00   \n",
      "25%              0.00            0.00            0.00                0.00   \n",
      "50%              0.00            0.00            0.00                0.00   \n",
      "75%              1.00            0.00            0.00                0.00   \n",
      "max             13.00           14.00           49.00               37.00   \n",
      "\n",
      "       SpecialCharacters_Count  ...  Pronouns_Count  Verb_Count  Adverb_Count  \\\n",
      "count                279691.00  ...       279691.00   279691.00     279691.00   \n",
      "mean                      5.75  ...            0.01        1.38          0.29   \n",
      "std                       5.80  ...            0.12        1.44          0.60   \n",
      "min                       0.00  ...            0.00        0.00          0.00   \n",
      "25%                       2.00  ...            0.00        0.00          0.00   \n",
      "50%                       4.00  ...            0.00        1.00          0.00   \n",
      "75%                       8.00  ...            0.00        2.00          0.00   \n",
      "max                      26.00  ...            3.00       14.00         14.00   \n",
      "\n",
      "       Positive_Word_Ratio  Negative_Word_Ratio  Neutral_Word_Ratio  \\\n",
      "count            279691.00            279691.00           279691.00   \n",
      "mean                  0.04                 0.02                0.94   \n",
      "std                   0.06                 0.04                0.07   \n",
      "min                   0.00                 0.00                0.00   \n",
      "25%                   0.00                 0.00                0.91   \n",
      "50%                   0.00                 0.00                0.96   \n",
      "75%                   0.06                 0.00                1.00   \n",
      "max                   1.00                 1.00                1.00   \n",
      "\n",
      "       Following  Followers  Verified  Real_Location  \n",
      "count  279691.00  279691.00 279691.00      279691.00  \n",
      "mean     1062.08   84305.34      0.10           0.00  \n",
      "std      1667.74  140678.98      0.44           0.90  \n",
      "min         0.00       0.00     -1.00          -1.00  \n",
      "25%         1.00     963.00      0.00          -1.00  \n",
      "50%        62.00    5398.00      0.00           0.00  \n",
      "75%      1440.00   95110.00      0.00           1.00  \n",
      "max      5757.00  377551.00      1.00           1.00  \n",
      "\n",
      "[8 rows x 21 columns]\n"
     ]
    }
   ],
   "source": [
    "# 1. Handle negative values in Followers and Following\n",
    "data['Followers'] = data['Followers'].clip(lower=0)  # Replace negatives with 0\n",
    "data['Following'] = data['Following'].clip(lower=0)  # Replace negatives with 0\n",
    "\n",
    "# 2. Handle extreme outliers (optional, depending on your analysis needs)\n",
    "def remove_extreme_outliers(df, column):\n",
    "    Q1 = df[column].quantile(0.25)\n",
    "    Q3 = df[column].quantile(0.75)\n",
    "    IQR = Q3 - Q1\n",
    "    lower_bound = Q1 - 3 * IQR  # Using 3 instead of 1.5 to be more conservative\n",
    "    upper_bound = Q3 + 3 * IQR\n",
    "    return df[column].clip(lower=lower_bound, upper=upper_bound)\n",
    "\n",
    "# Apply to columns with extreme values\n",
    "data['Followers'] = remove_extreme_outliers(data, 'Followers')\n",
    "data['Following'] = remove_extreme_outliers(data, 'Following')\n",
    "data['SpecialCharacters_Count'] = remove_extreme_outliers(data, 'SpecialCharacters_Count')\n",
    "\n",
    "# 3. Check the cleaned data\n",
    "cleaned_stats = data[quantitative_columns].describe()\n",
    "pd.set_option('display.float_format', lambda x: '%.2f' % x)\n",
    "print(\"\\nCleaned Descriptive Statistics:\")\n",
    "print(cleaned_stats)"
   ]
  },
  {
   "cell_type": "markdown",
   "metadata": {},
   "source": [
    "The numerical metadata is now cleaned to be used for model training, but we will only train our model on qualitative data, this we will only quickly run over some qualitative EDA"
   ]
  },
  {
   "cell_type": "markdown",
   "metadata": {},
   "source": [
    "### Qualitative"
   ]
  },
  {
   "cell_type": "code",
   "execution_count": 15,
   "metadata": {},
   "outputs": [
    {
     "data": {
      "application/vnd.plotly.v1+json": {
       "config": {
        "plotlyServerURL": "https://plot.ly"
       },
       "data": [
        {
         "alignmentgroup": "True",
         "hovertemplate": "Count=%{marker.color}<br>Word=%{y}<extra></extra>",
         "legendgroup": "",
         "marker": {
          "color": [
           21032,
           6775,
           4046,
           4029,
           3879,
           3781,
           3387,
           3364,
           3359,
           3344,
           3321,
           3308,
           3280,
           3275,
           3261,
           3251,
           3224,
           2978,
           2960,
           2846
          ],
          "coloraxis": "coloraxis",
          "pattern": {
           "shape": ""
          }
         },
         "name": "",
         "offsetgroup": "",
         "orientation": "h",
         "showlegend": false,
         "textposition": "auto",
         "type": "bar",
         "x": [
          21032,
          6775,
          4046,
          4029,
          3879,
          3781,
          3387,
          3364,
          3359,
          3344,
          3321,
          3308,
          3280,
          3275,
          3261,
          3251,
          3224,
          2978,
          2960,
          2846
         ],
         "xaxis": "x",
         "y": [
          "bong",
          "nthe",
          "back",
          "please",
          "work",
          "nand",
          "eaten",
          "like",
          "available",
          "probably",
          "nyou",
          "planet",
          "nthat",
          "netflix",
          "nfor",
          "instant",
          "allsorts",
          "robot",
          "discovered",
          "nthey"
         ],
         "yaxis": "y"
        }
       ],
       "layout": {
        "barmode": "relative",
        "coloraxis": {
         "colorbar": {
          "title": {
           "text": "Count"
          }
         },
         "colorscale": [
          [
           0,
           "#0d0887"
          ],
          [
           0.1111111111111111,
           "#46039f"
          ],
          [
           0.2222222222222222,
           "#7201a8"
          ],
          [
           0.3333333333333333,
           "#9c179e"
          ],
          [
           0.4444444444444444,
           "#bd3786"
          ],
          [
           0.5555555555555556,
           "#d8576b"
          ],
          [
           0.6666666666666666,
           "#ed7953"
          ],
          [
           0.7777777777777778,
           "#fb9f3a"
          ],
          [
           0.8888888888888888,
           "#fdca26"
          ],
          [
           1,
           "#f0f921"
          ]
         ]
        },
        "legend": {
         "tracegroupgap": 0
        },
        "template": {
         "data": {
          "bar": [
           {
            "error_x": {
             "color": "#2a3f5f"
            },
            "error_y": {
             "color": "#2a3f5f"
            },
            "marker": {
             "line": {
              "color": "#E5ECF6",
              "width": 0.5
             },
             "pattern": {
              "fillmode": "overlay",
              "size": 10,
              "solidity": 0.2
             }
            },
            "type": "bar"
           }
          ],
          "barpolar": [
           {
            "marker": {
             "line": {
              "color": "#E5ECF6",
              "width": 0.5
             },
             "pattern": {
              "fillmode": "overlay",
              "size": 10,
              "solidity": 0.2
             }
            },
            "type": "barpolar"
           }
          ],
          "carpet": [
           {
            "aaxis": {
             "endlinecolor": "#2a3f5f",
             "gridcolor": "white",
             "linecolor": "white",
             "minorgridcolor": "white",
             "startlinecolor": "#2a3f5f"
            },
            "baxis": {
             "endlinecolor": "#2a3f5f",
             "gridcolor": "white",
             "linecolor": "white",
             "minorgridcolor": "white",
             "startlinecolor": "#2a3f5f"
            },
            "type": "carpet"
           }
          ],
          "choropleth": [
           {
            "colorbar": {
             "outlinewidth": 0,
             "ticks": ""
            },
            "type": "choropleth"
           }
          ],
          "contour": [
           {
            "colorbar": {
             "outlinewidth": 0,
             "ticks": ""
            },
            "colorscale": [
             [
              0,
              "#0d0887"
             ],
             [
              0.1111111111111111,
              "#46039f"
             ],
             [
              0.2222222222222222,
              "#7201a8"
             ],
             [
              0.3333333333333333,
              "#9c179e"
             ],
             [
              0.4444444444444444,
              "#bd3786"
             ],
             [
              0.5555555555555556,
              "#d8576b"
             ],
             [
              0.6666666666666666,
              "#ed7953"
             ],
             [
              0.7777777777777778,
              "#fb9f3a"
             ],
             [
              0.8888888888888888,
              "#fdca26"
             ],
             [
              1,
              "#f0f921"
             ]
            ],
            "type": "contour"
           }
          ],
          "contourcarpet": [
           {
            "colorbar": {
             "outlinewidth": 0,
             "ticks": ""
            },
            "type": "contourcarpet"
           }
          ],
          "heatmap": [
           {
            "colorbar": {
             "outlinewidth": 0,
             "ticks": ""
            },
            "colorscale": [
             [
              0,
              "#0d0887"
             ],
             [
              0.1111111111111111,
              "#46039f"
             ],
             [
              0.2222222222222222,
              "#7201a8"
             ],
             [
              0.3333333333333333,
              "#9c179e"
             ],
             [
              0.4444444444444444,
              "#bd3786"
             ],
             [
              0.5555555555555556,
              "#d8576b"
             ],
             [
              0.6666666666666666,
              "#ed7953"
             ],
             [
              0.7777777777777778,
              "#fb9f3a"
             ],
             [
              0.8888888888888888,
              "#fdca26"
             ],
             [
              1,
              "#f0f921"
             ]
            ],
            "type": "heatmap"
           }
          ],
          "heatmapgl": [
           {
            "colorbar": {
             "outlinewidth": 0,
             "ticks": ""
            },
            "colorscale": [
             [
              0,
              "#0d0887"
             ],
             [
              0.1111111111111111,
              "#46039f"
             ],
             [
              0.2222222222222222,
              "#7201a8"
             ],
             [
              0.3333333333333333,
              "#9c179e"
             ],
             [
              0.4444444444444444,
              "#bd3786"
             ],
             [
              0.5555555555555556,
              "#d8576b"
             ],
             [
              0.6666666666666666,
              "#ed7953"
             ],
             [
              0.7777777777777778,
              "#fb9f3a"
             ],
             [
              0.8888888888888888,
              "#fdca26"
             ],
             [
              1,
              "#f0f921"
             ]
            ],
            "type": "heatmapgl"
           }
          ],
          "histogram": [
           {
            "marker": {
             "pattern": {
              "fillmode": "overlay",
              "size": 10,
              "solidity": 0.2
             }
            },
            "type": "histogram"
           }
          ],
          "histogram2d": [
           {
            "colorbar": {
             "outlinewidth": 0,
             "ticks": ""
            },
            "colorscale": [
             [
              0,
              "#0d0887"
             ],
             [
              0.1111111111111111,
              "#46039f"
             ],
             [
              0.2222222222222222,
              "#7201a8"
             ],
             [
              0.3333333333333333,
              "#9c179e"
             ],
             [
              0.4444444444444444,
              "#bd3786"
             ],
             [
              0.5555555555555556,
              "#d8576b"
             ],
             [
              0.6666666666666666,
              "#ed7953"
             ],
             [
              0.7777777777777778,
              "#fb9f3a"
             ],
             [
              0.8888888888888888,
              "#fdca26"
             ],
             [
              1,
              "#f0f921"
             ]
            ],
            "type": "histogram2d"
           }
          ],
          "histogram2dcontour": [
           {
            "colorbar": {
             "outlinewidth": 0,
             "ticks": ""
            },
            "colorscale": [
             [
              0,
              "#0d0887"
             ],
             [
              0.1111111111111111,
              "#46039f"
             ],
             [
              0.2222222222222222,
              "#7201a8"
             ],
             [
              0.3333333333333333,
              "#9c179e"
             ],
             [
              0.4444444444444444,
              "#bd3786"
             ],
             [
              0.5555555555555556,
              "#d8576b"
             ],
             [
              0.6666666666666666,
              "#ed7953"
             ],
             [
              0.7777777777777778,
              "#fb9f3a"
             ],
             [
              0.8888888888888888,
              "#fdca26"
             ],
             [
              1,
              "#f0f921"
             ]
            ],
            "type": "histogram2dcontour"
           }
          ],
          "mesh3d": [
           {
            "colorbar": {
             "outlinewidth": 0,
             "ticks": ""
            },
            "type": "mesh3d"
           }
          ],
          "parcoords": [
           {
            "line": {
             "colorbar": {
              "outlinewidth": 0,
              "ticks": ""
             }
            },
            "type": "parcoords"
           }
          ],
          "pie": [
           {
            "automargin": true,
            "type": "pie"
           }
          ],
          "scatter": [
           {
            "fillpattern": {
             "fillmode": "overlay",
             "size": 10,
             "solidity": 0.2
            },
            "type": "scatter"
           }
          ],
          "scatter3d": [
           {
            "line": {
             "colorbar": {
              "outlinewidth": 0,
              "ticks": ""
             }
            },
            "marker": {
             "colorbar": {
              "outlinewidth": 0,
              "ticks": ""
             }
            },
            "type": "scatter3d"
           }
          ],
          "scattercarpet": [
           {
            "marker": {
             "colorbar": {
              "outlinewidth": 0,
              "ticks": ""
             }
            },
            "type": "scattercarpet"
           }
          ],
          "scattergeo": [
           {
            "marker": {
             "colorbar": {
              "outlinewidth": 0,
              "ticks": ""
             }
            },
            "type": "scattergeo"
           }
          ],
          "scattergl": [
           {
            "marker": {
             "colorbar": {
              "outlinewidth": 0,
              "ticks": ""
             }
            },
            "type": "scattergl"
           }
          ],
          "scattermapbox": [
           {
            "marker": {
             "colorbar": {
              "outlinewidth": 0,
              "ticks": ""
             }
            },
            "type": "scattermapbox"
           }
          ],
          "scatterpolar": [
           {
            "marker": {
             "colorbar": {
              "outlinewidth": 0,
              "ticks": ""
             }
            },
            "type": "scatterpolar"
           }
          ],
          "scatterpolargl": [
           {
            "marker": {
             "colorbar": {
              "outlinewidth": 0,
              "ticks": ""
             }
            },
            "type": "scatterpolargl"
           }
          ],
          "scatterternary": [
           {
            "marker": {
             "colorbar": {
              "outlinewidth": 0,
              "ticks": ""
             }
            },
            "type": "scatterternary"
           }
          ],
          "surface": [
           {
            "colorbar": {
             "outlinewidth": 0,
             "ticks": ""
            },
            "colorscale": [
             [
              0,
              "#0d0887"
             ],
             [
              0.1111111111111111,
              "#46039f"
             ],
             [
              0.2222222222222222,
              "#7201a8"
             ],
             [
              0.3333333333333333,
              "#9c179e"
             ],
             [
              0.4444444444444444,
              "#bd3786"
             ],
             [
              0.5555555555555556,
              "#d8576b"
             ],
             [
              0.6666666666666666,
              "#ed7953"
             ],
             [
              0.7777777777777778,
              "#fb9f3a"
             ],
             [
              0.8888888888888888,
              "#fdca26"
             ],
             [
              1,
              "#f0f921"
             ]
            ],
            "type": "surface"
           }
          ],
          "table": [
           {
            "cells": {
             "fill": {
              "color": "#EBF0F8"
             },
             "line": {
              "color": "white"
             }
            },
            "header": {
             "fill": {
              "color": "#C8D4E3"
             },
             "line": {
              "color": "white"
             }
            },
            "type": "table"
           }
          ]
         },
         "layout": {
          "annotationdefaults": {
           "arrowcolor": "#2a3f5f",
           "arrowhead": 0,
           "arrowwidth": 1
          },
          "autotypenumbers": "strict",
          "coloraxis": {
           "colorbar": {
            "outlinewidth": 0,
            "ticks": ""
           }
          },
          "colorscale": {
           "diverging": [
            [
             0,
             "#8e0152"
            ],
            [
             0.1,
             "#c51b7d"
            ],
            [
             0.2,
             "#de77ae"
            ],
            [
             0.3,
             "#f1b6da"
            ],
            [
             0.4,
             "#fde0ef"
            ],
            [
             0.5,
             "#f7f7f7"
            ],
            [
             0.6,
             "#e6f5d0"
            ],
            [
             0.7,
             "#b8e186"
            ],
            [
             0.8,
             "#7fbc41"
            ],
            [
             0.9,
             "#4d9221"
            ],
            [
             1,
             "#276419"
            ]
           ],
           "sequential": [
            [
             0,
             "#0d0887"
            ],
            [
             0.1111111111111111,
             "#46039f"
            ],
            [
             0.2222222222222222,
             "#7201a8"
            ],
            [
             0.3333333333333333,
             "#9c179e"
            ],
            [
             0.4444444444444444,
             "#bd3786"
            ],
            [
             0.5555555555555556,
             "#d8576b"
            ],
            [
             0.6666666666666666,
             "#ed7953"
            ],
            [
             0.7777777777777778,
             "#fb9f3a"
            ],
            [
             0.8888888888888888,
             "#fdca26"
            ],
            [
             1,
             "#f0f921"
            ]
           ],
           "sequentialminus": [
            [
             0,
             "#0d0887"
            ],
            [
             0.1111111111111111,
             "#46039f"
            ],
            [
             0.2222222222222222,
             "#7201a8"
            ],
            [
             0.3333333333333333,
             "#9c179e"
            ],
            [
             0.4444444444444444,
             "#bd3786"
            ],
            [
             0.5555555555555556,
             "#d8576b"
            ],
            [
             0.6666666666666666,
             "#ed7953"
            ],
            [
             0.7777777777777778,
             "#fb9f3a"
            ],
            [
             0.8888888888888888,
             "#fdca26"
            ],
            [
             1,
             "#f0f921"
            ]
           ]
          },
          "colorway": [
           "#636efa",
           "#EF553B",
           "#00cc96",
           "#ab63fa",
           "#FFA15A",
           "#19d3f3",
           "#FF6692",
           "#B6E880",
           "#FF97FF",
           "#FECB52"
          ],
          "font": {
           "color": "#2a3f5f"
          },
          "geo": {
           "bgcolor": "white",
           "lakecolor": "white",
           "landcolor": "#E5ECF6",
           "showlakes": true,
           "showland": true,
           "subunitcolor": "white"
          },
          "hoverlabel": {
           "align": "left"
          },
          "hovermode": "closest",
          "mapbox": {
           "style": "light"
          },
          "paper_bgcolor": "white",
          "plot_bgcolor": "#E5ECF6",
          "polar": {
           "angularaxis": {
            "gridcolor": "white",
            "linecolor": "white",
            "ticks": ""
           },
           "bgcolor": "#E5ECF6",
           "radialaxis": {
            "gridcolor": "white",
            "linecolor": "white",
            "ticks": ""
           }
          },
          "scene": {
           "xaxis": {
            "backgroundcolor": "#E5ECF6",
            "gridcolor": "white",
            "gridwidth": 2,
            "linecolor": "white",
            "showbackground": true,
            "ticks": "",
            "zerolinecolor": "white"
           },
           "yaxis": {
            "backgroundcolor": "#E5ECF6",
            "gridcolor": "white",
            "gridwidth": 2,
            "linecolor": "white",
            "showbackground": true,
            "ticks": "",
            "zerolinecolor": "white"
           },
           "zaxis": {
            "backgroundcolor": "#E5ECF6",
            "gridcolor": "white",
            "gridwidth": 2,
            "linecolor": "white",
            "showbackground": true,
            "ticks": "",
            "zerolinecolor": "white"
           }
          },
          "shapedefaults": {
           "line": {
            "color": "#2a3f5f"
           }
          },
          "ternary": {
           "aaxis": {
            "gridcolor": "white",
            "linecolor": "white",
            "ticks": ""
           },
           "baxis": {
            "gridcolor": "white",
            "linecolor": "white",
            "ticks": ""
           },
           "bgcolor": "#E5ECF6",
           "caxis": {
            "gridcolor": "white",
            "linecolor": "white",
            "ticks": ""
           }
          },
          "title": {
           "x": 0.05
          },
          "xaxis": {
           "automargin": true,
           "gridcolor": "white",
           "linecolor": "white",
           "ticks": "",
           "title": {
            "standoff": 15
           },
           "zerolinecolor": "white",
           "zerolinewidth": 2
          },
          "yaxis": {
           "automargin": true,
           "gridcolor": "white",
           "linecolor": "white",
           "ticks": "",
           "title": {
            "standoff": 15
           },
           "zerolinecolor": "white",
           "zerolinewidth": 2
          }
         }
        },
        "title": {
         "text": "Top 20 Words in Bot Tweets"
        },
        "xaxis": {
         "anchor": "y",
         "domain": [
          0,
          1
         ],
         "title": {
          "text": "Count"
         }
        },
        "yaxis": {
         "anchor": "x",
         "autorange": "reversed",
         "domain": [
          0,
          1
         ],
         "title": {
          "text": "Word"
         }
        }
       }
      }
     },
     "metadata": {},
     "output_type": "display_data"
    },
    {
     "data": {
      "application/vnd.plotly.v1+json": {
       "config": {
        "plotlyServerURL": "https://plot.ly"
       },
       "data": [
        {
         "alignmentgroup": "True",
         "hovertemplate": "Count=%{marker.color}<br>Word=%{y}<extra></extra>",
         "legendgroup": "",
         "marker": {
          "color": [
           6580,
           5919,
           5733,
           5387,
           4458,
           3911,
           3731,
           3562,
           3507,
           3436,
           3331,
           3267,
           3095,
           3062,
           2954,
           2843,
           2718,
           2644,
           2643,
           2615
          ],
          "coloraxis": "coloraxis",
          "pattern": {
           "shape": ""
          }
         },
         "name": "",
         "offsetgroup": "",
         "orientation": "h",
         "showlegend": false,
         "textposition": "auto",
         "type": "bar",
         "x": [
          6580,
          5919,
          5733,
          5387,
          4458,
          3911,
          3731,
          3562,
          3507,
          3436,
          3331,
          3267,
          3095,
          3062,
          2954,
          2843,
          2718,
          2644,
          2643,
          2615
         ],
         "xaxis": "x",
         "y": [
          "x99s",
          "business",
          "small",
          "thanks",
          "like",
          "today",
          "look",
          "need",
          "good",
          "people",
          "time",
          "x99t",
          "love",
          "everything",
          "taking",
          "know",
          "best",
          "boss",
          "site",
          "thank"
         ],
         "yaxis": "y"
        }
       ],
       "layout": {
        "barmode": "relative",
        "coloraxis": {
         "colorbar": {
          "title": {
           "text": "Count"
          }
         },
         "colorscale": [
          [
           0,
           "#440154"
          ],
          [
           0.1111111111111111,
           "#482878"
          ],
          [
           0.2222222222222222,
           "#3e4989"
          ],
          [
           0.3333333333333333,
           "#31688e"
          ],
          [
           0.4444444444444444,
           "#26828e"
          ],
          [
           0.5555555555555556,
           "#1f9e89"
          ],
          [
           0.6666666666666666,
           "#35b779"
          ],
          [
           0.7777777777777778,
           "#6ece58"
          ],
          [
           0.8888888888888888,
           "#b5de2b"
          ],
          [
           1,
           "#fde725"
          ]
         ]
        },
        "legend": {
         "tracegroupgap": 0
        },
        "template": {
         "data": {
          "bar": [
           {
            "error_x": {
             "color": "#2a3f5f"
            },
            "error_y": {
             "color": "#2a3f5f"
            },
            "marker": {
             "line": {
              "color": "#E5ECF6",
              "width": 0.5
             },
             "pattern": {
              "fillmode": "overlay",
              "size": 10,
              "solidity": 0.2
             }
            },
            "type": "bar"
           }
          ],
          "barpolar": [
           {
            "marker": {
             "line": {
              "color": "#E5ECF6",
              "width": 0.5
             },
             "pattern": {
              "fillmode": "overlay",
              "size": 10,
              "solidity": 0.2
             }
            },
            "type": "barpolar"
           }
          ],
          "carpet": [
           {
            "aaxis": {
             "endlinecolor": "#2a3f5f",
             "gridcolor": "white",
             "linecolor": "white",
             "minorgridcolor": "white",
             "startlinecolor": "#2a3f5f"
            },
            "baxis": {
             "endlinecolor": "#2a3f5f",
             "gridcolor": "white",
             "linecolor": "white",
             "minorgridcolor": "white",
             "startlinecolor": "#2a3f5f"
            },
            "type": "carpet"
           }
          ],
          "choropleth": [
           {
            "colorbar": {
             "outlinewidth": 0,
             "ticks": ""
            },
            "type": "choropleth"
           }
          ],
          "contour": [
           {
            "colorbar": {
             "outlinewidth": 0,
             "ticks": ""
            },
            "colorscale": [
             [
              0,
              "#0d0887"
             ],
             [
              0.1111111111111111,
              "#46039f"
             ],
             [
              0.2222222222222222,
              "#7201a8"
             ],
             [
              0.3333333333333333,
              "#9c179e"
             ],
             [
              0.4444444444444444,
              "#bd3786"
             ],
             [
              0.5555555555555556,
              "#d8576b"
             ],
             [
              0.6666666666666666,
              "#ed7953"
             ],
             [
              0.7777777777777778,
              "#fb9f3a"
             ],
             [
              0.8888888888888888,
              "#fdca26"
             ],
             [
              1,
              "#f0f921"
             ]
            ],
            "type": "contour"
           }
          ],
          "contourcarpet": [
           {
            "colorbar": {
             "outlinewidth": 0,
             "ticks": ""
            },
            "type": "contourcarpet"
           }
          ],
          "heatmap": [
           {
            "colorbar": {
             "outlinewidth": 0,
             "ticks": ""
            },
            "colorscale": [
             [
              0,
              "#0d0887"
             ],
             [
              0.1111111111111111,
              "#46039f"
             ],
             [
              0.2222222222222222,
              "#7201a8"
             ],
             [
              0.3333333333333333,
              "#9c179e"
             ],
             [
              0.4444444444444444,
              "#bd3786"
             ],
             [
              0.5555555555555556,
              "#d8576b"
             ],
             [
              0.6666666666666666,
              "#ed7953"
             ],
             [
              0.7777777777777778,
              "#fb9f3a"
             ],
             [
              0.8888888888888888,
              "#fdca26"
             ],
             [
              1,
              "#f0f921"
             ]
            ],
            "type": "heatmap"
           }
          ],
          "heatmapgl": [
           {
            "colorbar": {
             "outlinewidth": 0,
             "ticks": ""
            },
            "colorscale": [
             [
              0,
              "#0d0887"
             ],
             [
              0.1111111111111111,
              "#46039f"
             ],
             [
              0.2222222222222222,
              "#7201a8"
             ],
             [
              0.3333333333333333,
              "#9c179e"
             ],
             [
              0.4444444444444444,
              "#bd3786"
             ],
             [
              0.5555555555555556,
              "#d8576b"
             ],
             [
              0.6666666666666666,
              "#ed7953"
             ],
             [
              0.7777777777777778,
              "#fb9f3a"
             ],
             [
              0.8888888888888888,
              "#fdca26"
             ],
             [
              1,
              "#f0f921"
             ]
            ],
            "type": "heatmapgl"
           }
          ],
          "histogram": [
           {
            "marker": {
             "pattern": {
              "fillmode": "overlay",
              "size": 10,
              "solidity": 0.2
             }
            },
            "type": "histogram"
           }
          ],
          "histogram2d": [
           {
            "colorbar": {
             "outlinewidth": 0,
             "ticks": ""
            },
            "colorscale": [
             [
              0,
              "#0d0887"
             ],
             [
              0.1111111111111111,
              "#46039f"
             ],
             [
              0.2222222222222222,
              "#7201a8"
             ],
             [
              0.3333333333333333,
              "#9c179e"
             ],
             [
              0.4444444444444444,
              "#bd3786"
             ],
             [
              0.5555555555555556,
              "#d8576b"
             ],
             [
              0.6666666666666666,
              "#ed7953"
             ],
             [
              0.7777777777777778,
              "#fb9f3a"
             ],
             [
              0.8888888888888888,
              "#fdca26"
             ],
             [
              1,
              "#f0f921"
             ]
            ],
            "type": "histogram2d"
           }
          ],
          "histogram2dcontour": [
           {
            "colorbar": {
             "outlinewidth": 0,
             "ticks": ""
            },
            "colorscale": [
             [
              0,
              "#0d0887"
             ],
             [
              0.1111111111111111,
              "#46039f"
             ],
             [
              0.2222222222222222,
              "#7201a8"
             ],
             [
              0.3333333333333333,
              "#9c179e"
             ],
             [
              0.4444444444444444,
              "#bd3786"
             ],
             [
              0.5555555555555556,
              "#d8576b"
             ],
             [
              0.6666666666666666,
              "#ed7953"
             ],
             [
              0.7777777777777778,
              "#fb9f3a"
             ],
             [
              0.8888888888888888,
              "#fdca26"
             ],
             [
              1,
              "#f0f921"
             ]
            ],
            "type": "histogram2dcontour"
           }
          ],
          "mesh3d": [
           {
            "colorbar": {
             "outlinewidth": 0,
             "ticks": ""
            },
            "type": "mesh3d"
           }
          ],
          "parcoords": [
           {
            "line": {
             "colorbar": {
              "outlinewidth": 0,
              "ticks": ""
             }
            },
            "type": "parcoords"
           }
          ],
          "pie": [
           {
            "automargin": true,
            "type": "pie"
           }
          ],
          "scatter": [
           {
            "fillpattern": {
             "fillmode": "overlay",
             "size": 10,
             "solidity": 0.2
            },
            "type": "scatter"
           }
          ],
          "scatter3d": [
           {
            "line": {
             "colorbar": {
              "outlinewidth": 0,
              "ticks": ""
             }
            },
            "marker": {
             "colorbar": {
              "outlinewidth": 0,
              "ticks": ""
             }
            },
            "type": "scatter3d"
           }
          ],
          "scattercarpet": [
           {
            "marker": {
             "colorbar": {
              "outlinewidth": 0,
              "ticks": ""
             }
            },
            "type": "scattercarpet"
           }
          ],
          "scattergeo": [
           {
            "marker": {
             "colorbar": {
              "outlinewidth": 0,
              "ticks": ""
             }
            },
            "type": "scattergeo"
           }
          ],
          "scattergl": [
           {
            "marker": {
             "colorbar": {
              "outlinewidth": 0,
              "ticks": ""
             }
            },
            "type": "scattergl"
           }
          ],
          "scattermapbox": [
           {
            "marker": {
             "colorbar": {
              "outlinewidth": 0,
              "ticks": ""
             }
            },
            "type": "scattermapbox"
           }
          ],
          "scatterpolar": [
           {
            "marker": {
             "colorbar": {
              "outlinewidth": 0,
              "ticks": ""
             }
            },
            "type": "scatterpolar"
           }
          ],
          "scatterpolargl": [
           {
            "marker": {
             "colorbar": {
              "outlinewidth": 0,
              "ticks": ""
             }
            },
            "type": "scatterpolargl"
           }
          ],
          "scatterternary": [
           {
            "marker": {
             "colorbar": {
              "outlinewidth": 0,
              "ticks": ""
             }
            },
            "type": "scatterternary"
           }
          ],
          "surface": [
           {
            "colorbar": {
             "outlinewidth": 0,
             "ticks": ""
            },
            "colorscale": [
             [
              0,
              "#0d0887"
             ],
             [
              0.1111111111111111,
              "#46039f"
             ],
             [
              0.2222222222222222,
              "#7201a8"
             ],
             [
              0.3333333333333333,
              "#9c179e"
             ],
             [
              0.4444444444444444,
              "#bd3786"
             ],
             [
              0.5555555555555556,
              "#d8576b"
             ],
             [
              0.6666666666666666,
              "#ed7953"
             ],
             [
              0.7777777777777778,
              "#fb9f3a"
             ],
             [
              0.8888888888888888,
              "#fdca26"
             ],
             [
              1,
              "#f0f921"
             ]
            ],
            "type": "surface"
           }
          ],
          "table": [
           {
            "cells": {
             "fill": {
              "color": "#EBF0F8"
             },
             "line": {
              "color": "white"
             }
            },
            "header": {
             "fill": {
              "color": "#C8D4E3"
             },
             "line": {
              "color": "white"
             }
            },
            "type": "table"
           }
          ]
         },
         "layout": {
          "annotationdefaults": {
           "arrowcolor": "#2a3f5f",
           "arrowhead": 0,
           "arrowwidth": 1
          },
          "autotypenumbers": "strict",
          "coloraxis": {
           "colorbar": {
            "outlinewidth": 0,
            "ticks": ""
           }
          },
          "colorscale": {
           "diverging": [
            [
             0,
             "#8e0152"
            ],
            [
             0.1,
             "#c51b7d"
            ],
            [
             0.2,
             "#de77ae"
            ],
            [
             0.3,
             "#f1b6da"
            ],
            [
             0.4,
             "#fde0ef"
            ],
            [
             0.5,
             "#f7f7f7"
            ],
            [
             0.6,
             "#e6f5d0"
            ],
            [
             0.7,
             "#b8e186"
            ],
            [
             0.8,
             "#7fbc41"
            ],
            [
             0.9,
             "#4d9221"
            ],
            [
             1,
             "#276419"
            ]
           ],
           "sequential": [
            [
             0,
             "#0d0887"
            ],
            [
             0.1111111111111111,
             "#46039f"
            ],
            [
             0.2222222222222222,
             "#7201a8"
            ],
            [
             0.3333333333333333,
             "#9c179e"
            ],
            [
             0.4444444444444444,
             "#bd3786"
            ],
            [
             0.5555555555555556,
             "#d8576b"
            ],
            [
             0.6666666666666666,
             "#ed7953"
            ],
            [
             0.7777777777777778,
             "#fb9f3a"
            ],
            [
             0.8888888888888888,
             "#fdca26"
            ],
            [
             1,
             "#f0f921"
            ]
           ],
           "sequentialminus": [
            [
             0,
             "#0d0887"
            ],
            [
             0.1111111111111111,
             "#46039f"
            ],
            [
             0.2222222222222222,
             "#7201a8"
            ],
            [
             0.3333333333333333,
             "#9c179e"
            ],
            [
             0.4444444444444444,
             "#bd3786"
            ],
            [
             0.5555555555555556,
             "#d8576b"
            ],
            [
             0.6666666666666666,
             "#ed7953"
            ],
            [
             0.7777777777777778,
             "#fb9f3a"
            ],
            [
             0.8888888888888888,
             "#fdca26"
            ],
            [
             1,
             "#f0f921"
            ]
           ]
          },
          "colorway": [
           "#636efa",
           "#EF553B",
           "#00cc96",
           "#ab63fa",
           "#FFA15A",
           "#19d3f3",
           "#FF6692",
           "#B6E880",
           "#FF97FF",
           "#FECB52"
          ],
          "font": {
           "color": "#2a3f5f"
          },
          "geo": {
           "bgcolor": "white",
           "lakecolor": "white",
           "landcolor": "#E5ECF6",
           "showlakes": true,
           "showland": true,
           "subunitcolor": "white"
          },
          "hoverlabel": {
           "align": "left"
          },
          "hovermode": "closest",
          "mapbox": {
           "style": "light"
          },
          "paper_bgcolor": "white",
          "plot_bgcolor": "#E5ECF6",
          "polar": {
           "angularaxis": {
            "gridcolor": "white",
            "linecolor": "white",
            "ticks": ""
           },
           "bgcolor": "#E5ECF6",
           "radialaxis": {
            "gridcolor": "white",
            "linecolor": "white",
            "ticks": ""
           }
          },
          "scene": {
           "xaxis": {
            "backgroundcolor": "#E5ECF6",
            "gridcolor": "white",
            "gridwidth": 2,
            "linecolor": "white",
            "showbackground": true,
            "ticks": "",
            "zerolinecolor": "white"
           },
           "yaxis": {
            "backgroundcolor": "#E5ECF6",
            "gridcolor": "white",
            "gridwidth": 2,
            "linecolor": "white",
            "showbackground": true,
            "ticks": "",
            "zerolinecolor": "white"
           },
           "zaxis": {
            "backgroundcolor": "#E5ECF6",
            "gridcolor": "white",
            "gridwidth": 2,
            "linecolor": "white",
            "showbackground": true,
            "ticks": "",
            "zerolinecolor": "white"
           }
          },
          "shapedefaults": {
           "line": {
            "color": "#2a3f5f"
           }
          },
          "ternary": {
           "aaxis": {
            "gridcolor": "white",
            "linecolor": "white",
            "ticks": ""
           },
           "baxis": {
            "gridcolor": "white",
            "linecolor": "white",
            "ticks": ""
           },
           "bgcolor": "#E5ECF6",
           "caxis": {
            "gridcolor": "white",
            "linecolor": "white",
            "ticks": ""
           }
          },
          "title": {
           "x": 0.05
          },
          "xaxis": {
           "automargin": true,
           "gridcolor": "white",
           "linecolor": "white",
           "ticks": "",
           "title": {
            "standoff": 15
           },
           "zerolinecolor": "white",
           "zerolinewidth": 2
          },
          "yaxis": {
           "automargin": true,
           "gridcolor": "white",
           "linecolor": "white",
           "ticks": "",
           "title": {
            "standoff": 15
           },
           "zerolinecolor": "white",
           "zerolinewidth": 2
          }
         }
        },
        "title": {
         "text": "Top 20 Words in Non-Bot Tweets"
        },
        "xaxis": {
         "anchor": "y",
         "domain": [
          0,
          1
         ],
         "title": {
          "text": "Count"
         }
        },
        "yaxis": {
         "anchor": "x",
         "autorange": "reversed",
         "domain": [
          0,
          1
         ],
         "title": {
          "text": "Word"
         }
        }
       }
      }
     },
     "metadata": {},
     "output_type": "display_data"
    },
    {
     "name": "stdout",
     "output_type": "stream",
     "text": [
      "Bot Word Frequencies:\n",
      "          Word  Count\n",
      "0         bong  21032\n",
      "1         nthe   6775\n",
      "2         back   4046\n",
      "3       please   4029\n",
      "4         work   3879\n",
      "5         nand   3781\n",
      "6        eaten   3387\n",
      "7         like   3364\n",
      "8    available   3359\n",
      "9     probably   3344\n",
      "10        nyou   3321\n",
      "11      planet   3308\n",
      "12       nthat   3280\n",
      "13     netflix   3275\n",
      "14        nfor   3261\n",
      "15     instant   3251\n",
      "16    allsorts   3224\n",
      "17       robot   2978\n",
      "18  discovered   2960\n",
      "19       nthey   2846\n",
      "\n",
      "Non-Bot Word Frequencies:\n",
      "          Word  Count\n",
      "0         x99s   6580\n",
      "1     business   5919\n",
      "2        small   5733\n",
      "3       thanks   5387\n",
      "4         like   4458\n",
      "5        today   3911\n",
      "6         look   3731\n",
      "7         need   3562\n",
      "8         good   3507\n",
      "9       people   3436\n",
      "10        time   3331\n",
      "11        x99t   3267\n",
      "12        love   3095\n",
      "13  everything   3062\n",
      "14      taking   2954\n",
      "15        know   2843\n",
      "16        best   2718\n",
      "17        boss   2644\n",
      "18        site   2643\n",
      "19       thank   2615\n",
      "\n",
      "Comparative Word Frequencies:\n",
      "         Word  Count_Bot  Count_NonBot    Total\n",
      "4        bong   21032.00          0.00 21032.00\n",
      "13       like    3364.00       4458.00  7822.00\n",
      "21       nthe    6775.00          0.00  6775.00\n",
      "37       x99s       0.00       6580.00  6580.00\n",
      "6    business       0.00       5919.00  5919.00\n",
      "30      small       0.00       5733.00  5733.00\n",
      "33     thanks       0.00       5387.00  5387.00\n",
      "2        back    4046.00          0.00  4046.00\n",
      "26     please    4029.00          0.00  4029.00\n",
      "35      today       0.00       3911.00  3911.00\n",
      "36       work    3879.00          0.00  3879.00\n",
      "16       nand    3781.00          0.00  3781.00\n",
      "14       look       0.00       3731.00  3731.00\n",
      "17       need       0.00       3562.00  3562.00\n",
      "10       good       0.00       3507.00  3507.00\n",
      "24     people       0.00       3436.00  3436.00\n",
      "8       eaten    3387.00          0.00  3387.00\n",
      "1   available    3359.00          0.00  3359.00\n",
      "27   probably    3344.00          0.00  3344.00\n",
      "34       time       0.00       3331.00  3331.00\n"
     ]
    }
   ],
   "source": [
    "import nltk\n",
    "nltk.download('stopwords', quiet=True)\n",
    "from collections import Counter\n",
    "import plotly.express as px\n",
    "from nltk.corpus import stopwords\n",
    "import re\n",
    "import pandas as pd\n",
    "\n",
    "\n",
    "# Set up stop words\n",
    "stop_words = set(stopwords.words('english'))\n",
    "\n",
    "\n",
    "# Function to preprocess and count words\n",
    "def analyze_word_frequency(tweets):\n",
    "    # Join all tweets, convert to lowercase\n",
    "    words = ' '.join(tweets.dropna()).lower()\n",
    "    \n",
    "    # Remove URLs completely\n",
    "    words = re.sub(r'https?://\\S+', '', words)\n",
    "    \n",
    "    # Extract words using regex\n",
    "    words = re.findall(r'\\b\\w+\\b', words)\n",
    "    \n",
    "    # Remove stop words, short words, and specific unwanted words\n",
    "    words = [\n",
    "        word for word in words \n",
    "        if word not in stop_words \n",
    "        and len(word) > 3 \n",
    "        and word not in ['http', 'https']\n",
    "    ]\n",
    "    \n",
    "    # Count word frequencies\n",
    "    word_freq = Counter(words).most_common(20)\n",
    "    \n",
    "    return pd.DataFrame(word_freq, columns=['Word', 'Count'])\n",
    "\n",
    "\n",
    "# Separate bots and non-bots\n",
    "bot_tweets = data[data['Label'] == 0]['Tweet_text']\n",
    "non_bot_tweets = data[data['Label'] == 1]['Tweet_text']\n",
    "\n",
    "\n",
    "# Analyze word frequencies\n",
    "bot_word_freq_df = analyze_word_frequency(bot_tweets)\n",
    "non_bot_word_freq_df = analyze_word_frequency(non_bot_tweets)\n",
    "\n",
    "\n",
    "# Create interactive plots for bots\n",
    "bot_fig = px.bar(\n",
    "    bot_word_freq_df,\n",
    "    x='Count',\n",
    "    y='Word',\n",
    "    orientation='h',\n",
    "    title=\"Top 20 Words in Bot Tweets\",\n",
    "    color='Count',\n",
    "    color_continuous_scale='Plasma'\n",
    ")\n",
    "bot_fig.update_layout(yaxis=dict(autorange=\"reversed\"))\n",
    "\n",
    "\n",
    "# Create interactive plots for non-bots\n",
    "non_bot_fig = px.bar(\n",
    "    non_bot_word_freq_df,\n",
    "    x='Count',\n",
    "    y='Word',\n",
    "    orientation='h',\n",
    "    title=\"Top 20 Words in Non-Bot Tweets\",\n",
    "    color='Count',\n",
    "    color_continuous_scale='Viridis'\n",
    ")\n",
    "non_bot_fig.update_layout(yaxis=dict(autorange=\"reversed\"))\n",
    "\n",
    "\n",
    "# Display both plots\n",
    "bot_fig.show()\n",
    "non_bot_fig.show()\n",
    "\n",
    "\n",
    "# Optional: Print out the word frequency DataFrames\n",
    "print(\"Bot Word Frequencies:\")\n",
    "print(bot_word_freq_df)\n",
    "\n",
    "\n",
    "print(\"\\nNon-Bot Word Frequencies:\")\n",
    "print(non_bot_word_freq_df)\n",
    "\n",
    "\n",
    "# Compare word frequencies\n",
    "merged_freq_df = pd.merge(\n",
    "    bot_word_freq_df, \n",
    "    non_bot_word_freq_df, \n",
    "    on='Word', \n",
    "    how='outer', \n",
    "    suffixes=('_Bot', '_NonBot')\n",
    ").fillna(0)\n",
    "\n",
    "\n",
    "# Sort by total frequency\n",
    "merged_freq_df['Total'] = merged_freq_df['Count_Bot'] + merged_freq_df['Count_NonBot']\n",
    "merged_freq_df = merged_freq_df.sort_values('Total', ascending=False).head(20)\n",
    "\n",
    "\n",
    "print(\"\\nComparative Word Frequencies:\")\n",
    "print(merged_freq_df)"
   ]
  },
  {
   "cell_type": "code",
   "execution_count": 16,
   "metadata": {},
   "outputs": [
    {
     "data": {
      "image/png": "[encoded data removed]",
      "text/plain": [
       "<Figure size 1500x800 with 2 Axes>"
      ]
     },
     "metadata": {},
     "output_type": "display_data"
    }
   ],
   "source": [
    "import pandas as pd\n",
    "import matplotlib.pyplot as plt\n",
    "from wordcloud import WordCloud, STOPWORDS\n",
    "# Ensure DataFrame is created correctly\n",
    "df = pd.DataFrame(data)  # Assuming 'data' is your DataFrame\n",
    "# Convert descriptions to string\n",
    "df['Twitter_User_Description'] = df['Twitter_User_Description'].astype(str)\n",
    "# Group descriptions by account and keep only unique ones\n",
    "unique_descriptions = df.groupby('Twitter_User_Name')['Twitter_User_Description'].unique().apply(lambda x: ' '.join(x))\n",
    "# Separate bot and human accounts\n",
    "bot_accounts = df[df['Label'] == 0]['Twitter_User_Name']\n",
    "human_accounts = df[df['Label'] == 1]['Twitter_User_Name']\n",
    "# Get descriptions for bot and human accounts\n",
    "bot_descriptions = unique_descriptions[bot_accounts].drop_duplicates()\n",
    "human_descriptions = unique_descriptions[human_accounts].drop_duplicates()\n",
    "# Convert descriptions to text for word cloud generation\n",
    "bot_text = \" \".join(bot_descriptions)\n",
    "human_text = \" \".join(human_descriptions)\n",
    "# Create custom stopwords (optional)\n",
    "custom_stopwords = set(STOPWORDS)\n",
    "custom_stopwords.update(['https', 'http', 'www', 'com'])\n",
    "# Generate word clouds\n",
    "bot_wordcloud = WordCloud(\n",
    "    width=800, \n",
    "    height=400, \n",
    "    background_color='white', \n",
    "    stopwords=custom_stopwords, \n",
    "    max_words=50\n",
    ").generate(bot_text)\n",
    "human_wordcloud = WordCloud(\n",
    "    width=800, \n",
    "    height=400, \n",
    "    background_color='white', \n",
    "    stopwords=custom_stopwords, \n",
    "    max_words=50\n",
    ").generate(human_text)\n",
    "# Plot word clouds\n",
    "plt.figure(figsize=(15, 8))\n",
    "plt.subplot(1, 2, 1)\n",
    "plt.imshow(bot_wordcloud, interpolation='bilinear')\n",
    "plt.title('Bot Account Descriptions')\n",
    "plt.axis('off')\n",
    "plt.subplot(1, 2, 2)\n",
    "plt.imshow(human_wordcloud, interpolation='bilinear')\n",
    "plt.title('Human Account Descriptions')\n",
    "plt.axis('off')\n",
    "plt.tight_layout()\n",
    "plt.show()"
   ]
  },
  {
   "cell_type": "code",
   "execution_count": 17,
   "metadata": {},
   "outputs": [
    {
     "data": {
      "image/png": "[encoded data removed]",
      "text/plain": [
       "<Figure size 800x600 with 1 Axes>"
      ]
     },
     "metadata": {},
     "output_type": "display_data"
    }
   ],
   "source": [
    "# Group the data by 'Label' (bot vs non-bot) and calculate the average word count\n",
    "average_word_count = data.groupby('Label')['Word_Count'].mean()\n",
    "\n",
    "# Plot the result using a bar chart\n",
    "plt.figure(figsize=(8, 6))\n",
    "average_word_count.plot(kind='bar', color=['red', 'green'])\n",
    "\n",
    "# Customize the plot\n",
    "plt.title('Average Word Count: Bots vs Non-Bots')\n",
    "plt.xlabel('Label (0 = Bot, 1 = Non-Bot)')\n",
    "plt.ylabel('Average Word Count')\n",
    "plt.xticks([0, 1], ['Bot', 'Non-Bot'], rotation=0)\n",
    "plt.tight_layout()\n",
    "\n",
    "# Show the plot\n",
    "plt.show()\n"
   ]
  },
  {
   "cell_type": "code",
   "execution_count": 18,
   "metadata": {},
   "outputs": [
    {
     "data": {
      "image/png": "[encoded data removed]",
      "text/plain": [
       "<Figure size 800x600 with 1 Axes>"
      ]
     },
     "metadata": {},
     "output_type": "display_data"
    }
   ],
   "source": [
    "from textblob import TextBlob\n",
    "import matplotlib.pyplot as plt\n",
    "\n",
    "# Function to calculate sentiment polarity\n",
    "def calculate_sentiment_polarity(text):\n",
    "    if pd.notna(text):  # Check if text is not NaN\n",
    "        return TextBlob(text).sentiment.polarity\n",
    "    return None\n",
    "\n",
    "# Add a new column for sentiment polarity\n",
    "data['Sentiment_Polarity'] = data['Tweet_text'].apply(calculate_sentiment_polarity)\n",
    "\n",
    "# Calculate average sentiment by label\n",
    "average_sentiment = data.groupby('Label')['Sentiment_Polarity'].mean()\n",
    "\n",
    "# Plot the result using a bar chart\n",
    "plt.figure(figsize=(8, 6))\n",
    "average_sentiment.plot(kind='bar', color=['red', 'green'])\n",
    "\n",
    "# Customize the plot\n",
    "plt.title('Average Sentiment Polarity: Bots vs Non-Bots')\n",
    "plt.xlabel('Label (0 = Bot, 1 = Non-Bot)')\n",
    "plt.ylabel('Average Sentiment Polarity')\n",
    "plt.xticks([0, 1], ['Bot', 'Non-Bot'], rotation=0)\n",
    "plt.tight_layout()\n",
    "plt.show()\n"
   ]
  }
 ],
 "metadata": {
  "kernelspec": {
   "display_name": "Python 3",
   "language": "python",
   "name": "python3"
  },
  "language_info": {
   "codemirror_mode": {
    "name": "ipython",
    "version": 3
   },
   "file_extension": ".py",
   "mimetype": "text/x-python",
   "name": "python",
   "nbconvert_exporter": "python",
   "pygments_lexer": "ipython3",
   "version": "3.12.7"
  }
 },
 "nbformat": 4,
 "nbformat_minor": 2
}
