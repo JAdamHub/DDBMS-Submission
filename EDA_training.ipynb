{
 "cells": [
  {
   "cell_type": "markdown",
   "metadata": {},
   "source": [
    "## Dataimport, cleaning and overview"
   ]
  },
  {
   "cell_type": "markdown",
   "metadata": {},
   "source": [
    "### Import and overview"
   ]
  },
  {
   "cell_type": "code",
   "execution_count": 2,
   "metadata": {},
   "outputs": [
    {
     "name": "stdout",
     "output_type": "stream",
     "text": [
      "Requirement already satisfied: IPython in ./.conda/lib/python3.12/site-packages (from -r requirements.txt (line 1)) (8.30.0)\n",
      "Requirement already satisfied: requests in ./.conda/lib/python3.12/site-packages (from -r requirements.txt (line 2)) (2.32.3)\n",
      "Requirement already satisfied: beautifulsoup4 in ./.conda/lib/python3.12/site-packages (from -r requirements.txt (line 3)) (4.12.3)\n",
      "Requirement already satisfied: openai in ./.conda/lib/python3.12/site-packages (from -r requirements.txt (line 4)) (1.55.3)\n",
      "Requirement already satisfied: pydantic in ./.conda/lib/python3.12/site-packages (from -r requirements.txt (line 5)) (2.10.2)\n",
      "Requirement already satisfied: python-louvain in ./.conda/lib/python3.12/site-packages (from -r requirements.txt (line 6)) (0.16)\n",
      "Requirement already satisfied: numpy in ./.conda/lib/python3.12/site-packages (from -r requirements.txt (line 7)) (2.0.2)\n",
      "Requirement already satisfied: pandas in ./.conda/lib/python3.12/site-packages (from -r requirements.txt (line 8)) (2.2.3)\n",
      "Requirement already satisfied: seaborn in ./.conda/lib/python3.12/site-packages (from -r requirements.txt (line 9)) (0.13.2)\n",
      "Requirement already satisfied: matplotlib in ./.conda/lib/python3.12/site-packages (from -r requirements.txt (line 10)) (3.9.3)\n",
      "Requirement already satisfied: scipy in ./.conda/lib/python3.12/site-packages (from -r requirements.txt (line 11)) (1.14.1)\n",
      "Requirement already satisfied: networkx in ./.conda/lib/python3.12/site-packages (from -r requirements.txt (line 12)) (3.4.2)\n",
      "Requirement already satisfied: community in ./.conda/lib/python3.12/site-packages (from -r requirements.txt (line 13)) (1.0.0b1)\n",
      "Requirement already satisfied: setfit in ./.conda/lib/python3.12/site-packages (from -r requirements.txt (line 14)) (1.1.0)\n",
      "Requirement already satisfied: datasets in ./.conda/lib/python3.12/site-packages (from -r requirements.txt (line 15)) (3.1.0)\n",
      "Requirement already satisfied: scikit-learn in ./.conda/lib/python3.12/site-packages (from -r requirements.txt (line 16)) (1.5.2)\n",
      "Requirement already satisfied: torch in ./.conda/lib/python3.12/site-packages (from -r requirements.txt (line 17)) (2.5.1)\n",
      "Requirement already satisfied: transformers in ./.conda/lib/python3.12/site-packages (from -r requirements.txt (line 18)) (4.46.3)\n",
      "Requirement already satisfied: gradio in ./.conda/lib/python3.12/site-packages (from -r requirements.txt (line 19)) (5.7.1)\n",
      "Requirement already satisfied: pyvis in ./.conda/lib/python3.12/site-packages (from -r requirements.txt (line 20)) (0.3.2)\n",
      "Requirement already satisfied: spacy in ./.conda/lib/python3.12/site-packages (from -r requirements.txt (line 21)) (3.8.2)\n",
      "Requirement already satisfied: xgboost in ./.conda/lib/python3.12/site-packages (from -r requirements.txt (line 22)) (2.1.3)\n",
      "Requirement already satisfied: umap in ./.conda/lib/python3.12/site-packages (from -r requirements.txt (line 23)) (0.1.1)\n",
      "Requirement already satisfied: bertopic in ./.conda/lib/python3.12/site-packages (from -r requirements.txt (line 24)) (0.16.4)\n",
      "Requirement already satisfied: plotly in ./.conda/lib/python3.12/site-packages (from -r requirements.txt (line 25)) (5.24.1)\n",
      "Requirement already satisfied: nbformat in ./.conda/lib/python3.12/site-packages (from -r requirements.txt (line 26)) (5.10.4)\n",
      "Requirement already satisfied: tiktoken in ./.conda/lib/python3.12/site-packages (from -r requirements.txt (line 27)) (0.8.0)\n",
      "Requirement already satisfied: decorator in ./.conda/lib/python3.12/site-packages (from IPython->-r requirements.txt (line 1)) (5.1.1)\n",
      "Requirement already satisfied: jedi>=0.16 in ./.conda/lib/python3.12/site-packages (from IPython->-r requirements.txt (line 1)) (0.19.2)\n",
      "Requirement already satisfied: matplotlib-inline in ./.conda/lib/python3.12/site-packages (from IPython->-r requirements.txt (line 1)) (0.1.7)\n",
      "Requirement already satisfied: pexpect>4.3 in ./.conda/lib/python3.12/site-packages (from IPython->-r requirements.txt (line 1)) (4.9.0)\n",
      "Requirement already satisfied: prompt_toolkit<3.1.0,>=3.0.41 in ./.conda/lib/python3.12/site-packages (from IPython->-r requirements.txt (line 1)) (3.0.48)\n",
      "Requirement already satisfied: pygments>=2.4.0 in ./.conda/lib/python3.12/site-packages (from IPython->-r requirements.txt (line 1)) (2.18.0)\n",
      "Requirement already satisfied: stack_data in ./.conda/lib/python3.12/site-packages (from IPython->-r requirements.txt (line 1)) (0.6.2)\n",
      "Requirement already satisfied: traitlets>=5.13.0 in ./.conda/lib/python3.12/site-packages (from IPython->-r requirements.txt (line 1)) (5.14.3)\n",
      "Requirement already satisfied: charset-normalizer<4,>=2 in ./.conda/lib/python3.12/site-packages (from requests->-r requirements.txt (line 2)) (3.4.0)\n",
      "Requirement already satisfied: idna<4,>=2.5 in ./.conda/lib/python3.12/site-packages (from requests->-r requirements.txt (line 2)) (3.10)\n",
      "Requirement already satisfied: urllib3<3,>=1.21.1 in ./.conda/lib/python3.12/site-packages (from requests->-r requirements.txt (line 2)) (2.2.3)\n",
      "Requirement already satisfied: certifi>=2017.4.17 in ./.conda/lib/python3.12/site-packages (from requests->-r requirements.txt (line 2)) (2024.8.30)\n",
      "Requirement already satisfied: soupsieve>1.2 in ./.conda/lib/python3.12/site-packages (from beautifulsoup4->-r requirements.txt (line 3)) (2.6)\n",
      "Requirement already satisfied: anyio<5,>=3.5.0 in ./.conda/lib/python3.12/site-packages (from openai->-r requirements.txt (line 4)) (4.6.2.post1)\n",
      "Requirement already satisfied: distro<2,>=1.7.0 in ./.conda/lib/python3.12/site-packages (from openai->-r requirements.txt (line 4)) (1.9.0)\n",
      "Requirement already satisfied: httpx<1,>=0.23.0 in ./.conda/lib/python3.12/site-packages (from openai->-r requirements.txt (line 4)) (0.28.0)\n",
      "Requirement already satisfied: jiter<1,>=0.4.0 in ./.conda/lib/python3.12/site-packages (from openai->-r requirements.txt (line 4)) (0.8.0)\n",
      "Requirement already satisfied: sniffio in ./.conda/lib/python3.12/site-packages (from openai->-r requirements.txt (line 4)) (1.3.1)\n",
      "Requirement already satisfied: tqdm>4 in ./.conda/lib/python3.12/site-packages (from openai->-r requirements.txt (line 4)) (4.67.1)\n",
      "Requirement already satisfied: typing-extensions<5,>=4.11 in ./.conda/lib/python3.12/site-packages (from openai->-r requirements.txt (line 4)) (4.12.2)\n",
      "Requirement already satisfied: annotated-types>=0.6.0 in ./.conda/lib/python3.12/site-packages (from pydantic->-r requirements.txt (line 5)) (0.7.0)\n",
      "Requirement already satisfied: pydantic-core==2.27.1 in ./.conda/lib/python3.12/site-packages (from pydantic->-r requirements.txt (line 5)) (2.27.1)\n",
      "Requirement already satisfied: python-dateutil>=2.8.2 in ./.conda/lib/python3.12/site-packages (from pandas->-r requirements.txt (line 8)) (2.9.0.post0)\n",
      "Requirement already satisfied: pytz>=2020.1 in ./.conda/lib/python3.12/site-packages (from pandas->-r requirements.txt (line 8)) (2024.2)\n",
      "Requirement already satisfied: tzdata>=2022.7 in ./.conda/lib/python3.12/site-packages (from pandas->-r requirements.txt (line 8)) (2024.2)\n",
      "Requirement already satisfied: contourpy>=1.0.1 in ./.conda/lib/python3.12/site-packages (from matplotlib->-r requirements.txt (line 10)) (1.3.1)\n",
      "Requirement already satisfied: cycler>=0.10 in ./.conda/lib/python3.12/site-packages (from matplotlib->-r requirements.txt (line 10)) (0.12.1)\n",
      "Requirement already satisfied: fonttools>=4.22.0 in ./.conda/lib/python3.12/site-packages (from matplotlib->-r requirements.txt (line 10)) (4.55.0)\n",
      "Requirement already satisfied: kiwisolver>=1.3.1 in ./.conda/lib/python3.12/site-packages (from matplotlib->-r requirements.txt (line 10)) (1.4.7)\n",
      "Requirement already satisfied: packaging>=20.0 in ./.conda/lib/python3.12/site-packages (from matplotlib->-r requirements.txt (line 10)) (24.2)\n",
      "Requirement already satisfied: pillow>=8 in ./.conda/lib/python3.12/site-packages (from matplotlib->-r requirements.txt (line 10)) (11.0.0)\n",
      "Requirement already satisfied: pyparsing>=2.3.1 in ./.conda/lib/python3.12/site-packages (from matplotlib->-r requirements.txt (line 10)) (3.2.0)\n",
      "Requirement already satisfied: Flask in ./.conda/lib/python3.12/site-packages (from community->-r requirements.txt (line 13)) (3.1.0)\n",
      "Requirement already satisfied: sentence-transformers>=3 in ./.conda/lib/python3.12/site-packages (from sentence-transformers[train]>=3->setfit->-r requirements.txt (line 14)) (3.3.1)\n",
      "Requirement already satisfied: evaluate>=0.3.0 in ./.conda/lib/python3.12/site-packages (from setfit->-r requirements.txt (line 14)) (0.4.3)\n",
      "Requirement already satisfied: huggingface-hub>=0.23.0 in ./.conda/lib/python3.12/site-packages (from setfit->-r requirements.txt (line 14)) (0.26.3)\n",
      "Requirement already satisfied: filelock in ./.conda/lib/python3.12/site-packages (from datasets->-r requirements.txt (line 15)) (3.16.1)\n",
      "Requirement already satisfied: pyarrow>=15.0.0 in ./.conda/lib/python3.12/site-packages (from datasets->-r requirements.txt (line 15)) (18.1.0)\n",
      "Requirement already satisfied: dill<0.3.9,>=0.3.0 in ./.conda/lib/python3.12/site-packages (from datasets->-r requirements.txt (line 15)) (0.3.8)\n",
      "Requirement already satisfied: xxhash in ./.conda/lib/python3.12/site-packages (from datasets->-r requirements.txt (line 15)) (3.5.0)\n",
      "Requirement already satisfied: multiprocess<0.70.17 in ./.conda/lib/python3.12/site-packages (from datasets->-r requirements.txt (line 15)) (0.70.16)\n",
      "Requirement already satisfied: fsspec<=2024.9.0,>=2023.1.0 in ./.conda/lib/python3.12/site-packages (from fsspec[http]<=2024.9.0,>=2023.1.0->datasets->-r requirements.txt (line 15)) (2024.9.0)\n",
      "Requirement already satisfied: aiohttp in ./.conda/lib/python3.12/site-packages (from datasets->-r requirements.txt (line 15)) (3.11.8)\n",
      "Requirement already satisfied: pyyaml>=5.1 in ./.conda/lib/python3.12/site-packages (from datasets->-r requirements.txt (line 15)) (6.0.2)\n",
      "Requirement already satisfied: joblib>=1.2.0 in ./.conda/lib/python3.12/site-packages (from scikit-learn->-r requirements.txt (line 16)) (1.4.2)\n",
      "Requirement already satisfied: threadpoolctl>=3.1.0 in ./.conda/lib/python3.12/site-packages (from scikit-learn->-r requirements.txt (line 16)) (3.5.0)\n",
      "Requirement already satisfied: jinja2 in ./.conda/lib/python3.12/site-packages (from torch->-r requirements.txt (line 17)) (3.1.4)\n",
      "Requirement already satisfied: setuptools in ./.conda/lib/python3.12/site-packages (from torch->-r requirements.txt (line 17)) (75.6.0)\n",
      "Requirement already satisfied: sympy==1.13.1 in ./.conda/lib/python3.12/site-packages (from torch->-r requirements.txt (line 17)) (1.13.1)\n",
      "Requirement already satisfied: mpmath<1.4,>=1.1.0 in ./.conda/lib/python3.12/site-packages (from sympy==1.13.1->torch->-r requirements.txt (line 17)) (1.3.0)\n",
      "Requirement already satisfied: regex!=2019.12.17 in ./.conda/lib/python3.12/site-packages (from transformers->-r requirements.txt (line 18)) (2024.11.6)\n",
      "Requirement already satisfied: tokenizers<0.21,>=0.20 in ./.conda/lib/python3.12/site-packages (from transformers->-r requirements.txt (line 18)) (0.20.3)\n",
      "Requirement already satisfied: safetensors>=0.4.1 in ./.conda/lib/python3.12/site-packages (from transformers->-r requirements.txt (line 18)) (0.4.5)\n",
      "Requirement already satisfied: aiofiles<24.0,>=22.0 in ./.conda/lib/python3.12/site-packages (from gradio->-r requirements.txt (line 19)) (23.2.1)\n",
      "Requirement already satisfied: fastapi<1.0,>=0.115.2 in ./.conda/lib/python3.12/site-packages (from gradio->-r requirements.txt (line 19)) (0.115.5)\n",
      "Requirement already satisfied: ffmpy in ./.conda/lib/python3.12/site-packages (from gradio->-r requirements.txt (line 19)) (0.4.0)\n",
      "Requirement already satisfied: gradio-client==1.5.0 in ./.conda/lib/python3.12/site-packages (from gradio->-r requirements.txt (line 19)) (1.5.0)\n",
      "Requirement already satisfied: markupsafe~=2.0 in ./.conda/lib/python3.12/site-packages (from gradio->-r requirements.txt (line 19)) (2.1.5)\n",
      "Requirement already satisfied: orjson~=3.0 in ./.conda/lib/python3.12/site-packages (from gradio->-r requirements.txt (line 19)) (3.10.12)\n",
      "Requirement already satisfied: pydub in ./.conda/lib/python3.12/site-packages (from gradio->-r requirements.txt (line 19)) (0.25.1)\n",
      "Requirement already satisfied: python-multipart==0.0.12 in ./.conda/lib/python3.12/site-packages (from gradio->-r requirements.txt (line 19)) (0.0.12)\n",
      "Requirement already satisfied: ruff>=0.2.2 in ./.conda/lib/python3.12/site-packages (from gradio->-r requirements.txt (line 19)) (0.8.1)\n",
      "Requirement already satisfied: safehttpx<1.0,>=0.1.1 in ./.conda/lib/python3.12/site-packages (from gradio->-r requirements.txt (line 19)) (0.1.1)\n",
      "Requirement already satisfied: semantic-version~=2.0 in ./.conda/lib/python3.12/site-packages (from gradio->-r requirements.txt (line 19)) (2.10.0)\n",
      "Requirement already satisfied: starlette<1.0,>=0.40.0 in ./.conda/lib/python3.12/site-packages (from gradio->-r requirements.txt (line 19)) (0.41.3)\n",
      "Requirement already satisfied: tomlkit==0.12.0 in ./.conda/lib/python3.12/site-packages (from gradio->-r requirements.txt (line 19)) (0.12.0)\n",
      "Requirement already satisfied: typer<1.0,>=0.12 in ./.conda/lib/python3.12/site-packages (from gradio->-r requirements.txt (line 19)) (0.14.0)\n",
      "Requirement already satisfied: uvicorn>=0.14.0 in ./.conda/lib/python3.12/site-packages (from gradio->-r requirements.txt (line 19)) (0.32.1)\n",
      "Requirement already satisfied: websockets<13.0,>=10.0 in ./.conda/lib/python3.12/site-packages (from gradio-client==1.5.0->gradio->-r requirements.txt (line 19)) (12.0)\n",
      "Requirement already satisfied: jsonpickle>=1.4.1 in ./.conda/lib/python3.12/site-packages (from pyvis->-r requirements.txt (line 20)) (4.0.0)\n",
      "Requirement already satisfied: spacy-legacy<3.1.0,>=3.0.11 in ./.conda/lib/python3.12/site-packages (from spacy->-r requirements.txt (line 21)) (3.0.12)\n",
      "Requirement already satisfied: spacy-loggers<2.0.0,>=1.0.0 in ./.conda/lib/python3.12/site-packages (from spacy->-r requirements.txt (line 21)) (1.0.5)\n",
      "Requirement already satisfied: murmurhash<1.1.0,>=0.28.0 in ./.conda/lib/python3.12/site-packages (from spacy->-r requirements.txt (line 21)) (1.0.11)\n",
      "Requirement already satisfied: cymem<2.1.0,>=2.0.2 in ./.conda/lib/python3.12/site-packages (from spacy->-r requirements.txt (line 21)) (2.0.10)\n",
      "Requirement already satisfied: preshed<3.1.0,>=3.0.2 in ./.conda/lib/python3.12/site-packages (from spacy->-r requirements.txt (line 21)) (3.0.9)\n",
      "Requirement already satisfied: thinc<8.4.0,>=8.3.0 in ./.conda/lib/python3.12/site-packages (from spacy->-r requirements.txt (line 21)) (8.3.2)\n",
      "Requirement already satisfied: wasabi<1.2.0,>=0.9.1 in ./.conda/lib/python3.12/site-packages (from spacy->-r requirements.txt (line 21)) (1.1.3)\n",
      "Requirement already satisfied: srsly<3.0.0,>=2.4.3 in ./.conda/lib/python3.12/site-packages (from spacy->-r requirements.txt (line 21)) (2.4.8)\n",
      "Requirement already satisfied: catalogue<2.1.0,>=2.0.6 in ./.conda/lib/python3.12/site-packages (from spacy->-r requirements.txt (line 21)) (2.0.10)\n",
      "Requirement already satisfied: weasel<0.5.0,>=0.1.0 in ./.conda/lib/python3.12/site-packages (from spacy->-r requirements.txt (line 21)) (0.4.1)\n",
      "Requirement already satisfied: langcodes<4.0.0,>=3.2.0 in ./.conda/lib/python3.12/site-packages (from spacy->-r requirements.txt (line 21)) (3.5.0)\n",
      "Requirement already satisfied: hdbscan>=0.8.29 in ./.conda/lib/python3.12/site-packages (from bertopic->-r requirements.txt (line 24)) (0.8.40)\n",
      "Requirement already satisfied: umap-learn>=0.5.0 in ./.conda/lib/python3.12/site-packages (from bertopic->-r requirements.txt (line 24)) (0.5.7)\n",
      "Requirement already satisfied: tenacity>=6.2.0 in ./.conda/lib/python3.12/site-packages (from plotly->-r requirements.txt (line 25)) (9.0.0)\n",
      "Requirement already satisfied: fastjsonschema>=2.15 in ./.conda/lib/python3.12/site-packages (from nbformat->-r requirements.txt (line 26)) (2.21.0)\n",
      "Requirement already satisfied: jsonschema>=2.6 in ./.conda/lib/python3.12/site-packages (from nbformat->-r requirements.txt (line 26)) (4.23.0)\n",
      "Requirement already satisfied: jupyter-core!=5.0.*,>=4.12 in ./.conda/lib/python3.12/site-packages (from nbformat->-r requirements.txt (line 26)) (5.7.2)\n",
      "Requirement already satisfied: aiohappyeyeballs>=2.3.0 in ./.conda/lib/python3.12/site-packages (from aiohttp->datasets->-r requirements.txt (line 15)) (2.4.3)\n",
      "Requirement already satisfied: aiosignal>=1.1.2 in ./.conda/lib/python3.12/site-packages (from aiohttp->datasets->-r requirements.txt (line 15)) (1.3.1)\n",
      "Requirement already satisfied: attrs>=17.3.0 in ./.conda/lib/python3.12/site-packages (from aiohttp->datasets->-r requirements.txt (line 15)) (24.2.0)\n",
      "Requirement already satisfied: frozenlist>=1.1.1 in ./.conda/lib/python3.12/site-packages (from aiohttp->datasets->-r requirements.txt (line 15)) (1.5.0)\n",
      "Requirement already satisfied: multidict<7.0,>=4.5 in ./.conda/lib/python3.12/site-packages (from aiohttp->datasets->-r requirements.txt (line 15)) (6.1.0)\n",
      "Requirement already satisfied: propcache>=0.2.0 in ./.conda/lib/python3.12/site-packages (from aiohttp->datasets->-r requirements.txt (line 15)) (0.2.0)\n",
      "Requirement already satisfied: yarl<2.0,>=1.17.0 in ./.conda/lib/python3.12/site-packages (from aiohttp->datasets->-r requirements.txt (line 15)) (1.18.0)\n",
      "Requirement already satisfied: httpcore==1.* in ./.conda/lib/python3.12/site-packages (from httpx<1,>=0.23.0->openai->-r requirements.txt (line 4)) (1.0.7)\n",
      "Requirement already satisfied: h11<0.15,>=0.13 in ./.conda/lib/python3.12/site-packages (from httpcore==1.*->httpx<1,>=0.23.0->openai->-r requirements.txt (line 4)) (0.14.0)\n",
      "Requirement already satisfied: parso<0.9.0,>=0.8.4 in ./.conda/lib/python3.12/site-packages (from jedi>=0.16->IPython->-r requirements.txt (line 1)) (0.8.4)\n",
      "Requirement already satisfied: jsonschema-specifications>=2023.03.6 in ./.conda/lib/python3.12/site-packages (from jsonschema>=2.6->nbformat->-r requirements.txt (line 26)) (2024.10.1)\n",
      "Requirement already satisfied: referencing>=0.28.4 in ./.conda/lib/python3.12/site-packages (from jsonschema>=2.6->nbformat->-r requirements.txt (line 26)) (0.35.1)\n",
      "Requirement already satisfied: rpds-py>=0.7.1 in ./.conda/lib/python3.12/site-packages (from jsonschema>=2.6->nbformat->-r requirements.txt (line 26)) (0.21.0)\n",
      "Requirement already satisfied: platformdirs>=2.5 in ./.conda/lib/python3.12/site-packages (from jupyter-core!=5.0.*,>=4.12->nbformat->-r requirements.txt (line 26)) (4.3.6)\n",
      "Requirement already satisfied: language-data>=1.2 in ./.conda/lib/python3.12/site-packages (from langcodes<4.0.0,>=3.2.0->spacy->-r requirements.txt (line 21)) (1.3.0)\n",
      "Requirement already satisfied: ptyprocess>=0.5 in ./.conda/lib/python3.12/site-packages (from pexpect>4.3->IPython->-r requirements.txt (line 1)) (0.7.0)\n",
      "Requirement already satisfied: wcwidth in ./.conda/lib/python3.12/site-packages (from prompt_toolkit<3.1.0,>=3.0.41->IPython->-r requirements.txt (line 1)) (0.2.13)\n",
      "Requirement already satisfied: six>=1.5 in ./.conda/lib/python3.12/site-packages (from python-dateutil>=2.8.2->pandas->-r requirements.txt (line 8)) (1.16.0)\n",
      "Requirement already satisfied: accelerate>=0.20.3 in ./.conda/lib/python3.12/site-packages (from sentence-transformers[train]>=3->setfit->-r requirements.txt (line 14)) (1.1.1)\n",
      "Requirement already satisfied: blis<1.1.0,>=1.0.0 in ./.conda/lib/python3.12/site-packages (from thinc<8.4.0,>=8.3.0->spacy->-r requirements.txt (line 21)) (1.0.1)\n",
      "Requirement already satisfied: confection<1.0.0,>=0.0.1 in ./.conda/lib/python3.12/site-packages (from thinc<8.4.0,>=8.3.0->spacy->-r requirements.txt (line 21)) (0.1.5)\n",
      "Requirement already satisfied: click>=8.0.0 in ./.conda/lib/python3.12/site-packages (from typer<1.0,>=0.12->gradio->-r requirements.txt (line 19)) (8.1.7)\n",
      "Requirement already satisfied: shellingham>=1.3.0 in ./.conda/lib/python3.12/site-packages (from typer<1.0,>=0.12->gradio->-r requirements.txt (line 19)) (1.5.4)\n",
      "Requirement already satisfied: rich>=10.11.0 in ./.conda/lib/python3.12/site-packages (from typer<1.0,>=0.12->gradio->-r requirements.txt (line 19)) (13.9.4)\n",
      "Requirement already satisfied: numba>=0.51.2 in ./.conda/lib/python3.12/site-packages (from umap-learn>=0.5.0->bertopic->-r requirements.txt (line 24)) (0.60.0)\n",
      "Requirement already satisfied: pynndescent>=0.5 in ./.conda/lib/python3.12/site-packages (from umap-learn>=0.5.0->bertopic->-r requirements.txt (line 24)) (0.5.13)\n",
      "Requirement already satisfied: cloudpathlib<1.0.0,>=0.7.0 in ./.conda/lib/python3.12/site-packages (from weasel<0.5.0,>=0.1.0->spacy->-r requirements.txt (line 21)) (0.20.0)\n",
      "Requirement already satisfied: smart-open<8.0.0,>=5.2.1 in ./.conda/lib/python3.12/site-packages (from weasel<0.5.0,>=0.1.0->spacy->-r requirements.txt (line 21)) (7.0.5)\n",
      "Requirement already satisfied: Werkzeug>=3.1 in ./.conda/lib/python3.12/site-packages (from Flask->community->-r requirements.txt (line 13)) (3.1.3)\n",
      "Requirement already satisfied: itsdangerous>=2.2 in ./.conda/lib/python3.12/site-packages (from Flask->community->-r requirements.txt (line 13)) (2.2.0)\n",
      "Requirement already satisfied: blinker>=1.9 in ./.conda/lib/python3.12/site-packages (from Flask->community->-r requirements.txt (line 13)) (1.9.0)\n",
      "Requirement already satisfied: executing>=1.2.0 in ./.conda/lib/python3.12/site-packages (from stack_data->IPython->-r requirements.txt (line 1)) (2.1.0)\n",
      "Requirement already satisfied: asttokens>=2.1.0 in ./.conda/lib/python3.12/site-packages (from stack_data->IPython->-r requirements.txt (line 1)) (2.4.1)\n",
      "Requirement already satisfied: pure-eval in ./.conda/lib/python3.12/site-packages (from stack_data->IPython->-r requirements.txt (line 1)) (0.2.3)\n",
      "Requirement already satisfied: psutil in ./.conda/lib/python3.12/site-packages (from accelerate>=0.20.3->sentence-transformers[train]>=3->setfit->-r requirements.txt (line 14)) (6.1.0)\n",
      "Requirement already satisfied: marisa-trie>=1.1.0 in ./.conda/lib/python3.12/site-packages (from language-data>=1.2->langcodes<4.0.0,>=3.2.0->spacy->-r requirements.txt (line 21)) (1.2.1)\n",
      "Requirement already satisfied: llvmlite<0.44,>=0.43.0dev0 in ./.conda/lib/python3.12/site-packages (from numba>=0.51.2->umap-learn>=0.5.0->bertopic->-r requirements.txt (line 24)) (0.43.0)\n",
      "Requirement already satisfied: markdown-it-py>=2.2.0 in ./.conda/lib/python3.12/site-packages (from rich>=10.11.0->typer<1.0,>=0.12->gradio->-r requirements.txt (line 19)) (3.0.0)\n",
      "Requirement already satisfied: wrapt in ./.conda/lib/python3.12/site-packages (from smart-open<8.0.0,>=5.2.1->weasel<0.5.0,>=0.1.0->spacy->-r requirements.txt (line 21)) (1.17.0)\n",
      "Requirement already satisfied: mdurl~=0.1 in ./.conda/lib/python3.12/site-packages (from markdown-it-py>=2.2.0->rich>=10.11.0->typer<1.0,>=0.12->gradio->-r requirements.txt (line 19)) (0.1.2)\n"
     ]
    }
   ],
   "source": [
    "!pip install -r requirements.txt"
   ]
  },
  {
   "cell_type": "code",
   "execution_count": 3,
   "metadata": {},
   "outputs": [],
   "source": [
    "try:\n",
    "    import nltk\n",
    "    nltk.download('stopwords', quiet=True)\n",
    "except ImportError:\n",
    "    !pip install nltk\n",
    "    import nltk\n",
    "    nltk.download('stopwords', quiet=True)"
   ]
  },
  {
   "cell_type": "code",
   "execution_count": 4,
   "metadata": {},
   "outputs": [
    {
     "name": "stdout",
     "output_type": "stream",
     "text": [
      "Requirement already satisfied: wordcloud in ./.conda/lib/python3.12/site-packages (1.9.4)\n",
      "Requirement already satisfied: numpy>=1.6.1 in ./.conda/lib/python3.12/site-packages (from wordcloud) (2.0.2)\n",
      "Requirement already satisfied: pillow in ./.conda/lib/python3.12/site-packages (from wordcloud) (11.0.0)\n",
      "Requirement already satisfied: matplotlib in ./.conda/lib/python3.12/site-packages (from wordcloud) (3.9.3)\n",
      "Requirement already satisfied: contourpy>=1.0.1 in ./.conda/lib/python3.12/site-packages (from matplotlib->wordcloud) (1.3.1)\n",
      "Requirement already satisfied: cycler>=0.10 in ./.conda/lib/python3.12/site-packages (from matplotlib->wordcloud) (0.12.1)\n",
      "Requirement already satisfied: fonttools>=4.22.0 in ./.conda/lib/python3.12/site-packages (from matplotlib->wordcloud) (4.55.0)\n",
      "Requirement already satisfied: kiwisolver>=1.3.1 in ./.conda/lib/python3.12/site-packages (from matplotlib->wordcloud) (1.4.7)\n",
      "Requirement already satisfied: packaging>=20.0 in ./.conda/lib/python3.12/site-packages (from matplotlib->wordcloud) (24.2)\n",
      "Requirement already satisfied: pyparsing>=2.3.1 in ./.conda/lib/python3.12/site-packages (from matplotlib->wordcloud) (3.2.0)\n",
      "Requirement already satisfied: python-dateutil>=2.7 in ./.conda/lib/python3.12/site-packages (from matplotlib->wordcloud) (2.9.0.post0)\n",
      "Requirement already satisfied: six>=1.5 in ./.conda/lib/python3.12/site-packages (from python-dateutil>=2.7->matplotlib->wordcloud) (1.16.0)\n"
     ]
    }
   ],
   "source": [
    "\n",
    "# Datahandling\n",
    "\n",
    "!pip install wordcloud\n",
    "\n",
    "import requests\n",
    "import os\n",
    "import numpy as np\n",
    "import pandas as pd\n",
    "import seaborn as sns\n",
    "import matplotlib.pyplot as plt\n",
    "import wordcloud\n",
    "import plotly.express as px\n",
    "\n",
    "\n",
    "\n"
   ]
  },
  {
   "cell_type": "code",
   "execution_count": 5,
   "metadata": {},
   "outputs": [],
   "source": [
    "# Data import: \n",
    "data = pd.read_csv('TwitterData_Joined.csv')"
   ]
  },
  {
   "cell_type": "code",
   "execution_count": 6,
   "metadata": {},
   "outputs": [
    {
     "data": {
      "text/html": [
       "<div>\n",
       "<style scoped>\n",
       "    .dataframe tbody tr th:only-of-type {\n",
       "        vertical-align: middle;\n",
       "    }\n",
       "\n",
       "    .dataframe tbody tr th {\n",
       "        vertical-align: top;\n",
       "    }\n",
       "\n",
       "    .dataframe thead th {\n",
       "        text-align: right;\n",
       "    }\n",
       "</style>\n",
       "<table border=\"1\" class=\"dataframe\">\n",
       "  <thead>\n",
       "    <tr style=\"text-align: right;\">\n",
       "      <th></th>\n",
       "      <th>Twitter_User_Name</th>\n",
       "      <th>Twitter_Account</th>\n",
       "      <th>Twitter_User_Description</th>\n",
       "      <th>Tweet_id</th>\n",
       "      <th>Tweet_created_at</th>\n",
       "      <th>Tweet_text</th>\n",
       "      <th>Label</th>\n",
       "      <th>Word_Count</th>\n",
       "      <th>Url_Count</th>\n",
       "      <th>Retweet</th>\n",
       "      <th>...</th>\n",
       "      <th>Adverb_Count</th>\n",
       "      <th>Positive_Word_Ratio</th>\n",
       "      <th>Negative_Word_Ratio</th>\n",
       "      <th>Neutral_Word_Ratio</th>\n",
       "      <th>Following</th>\n",
       "      <th>Followers</th>\n",
       "      <th>Verified</th>\n",
       "      <th>Link</th>\n",
       "      <th>Location</th>\n",
       "      <th>Real_Location</th>\n",
       "    </tr>\n",
       "  </thead>\n",
       "  <tbody>\n",
       "    <tr>\n",
       "      <th>0</th>\n",
       "      <td>Museum Bot</td>\n",
       "      <td>MuseumBot</td>\n",
       "      <td>I am a bot that tweets a random high-res Open ...</td>\n",
       "      <td>8.027580e+17</td>\n",
       "      <td>27-11-2016 06:15</td>\n",
       "      <td>Imperial Theatrical Coat for Court Lady https:...</td>\n",
       "      <td>0</td>\n",
       "      <td>8</td>\n",
       "      <td>2</td>\n",
       "      <td>0</td>\n",
       "      <td>...</td>\n",
       "      <td>0</td>\n",
       "      <td>0.000</td>\n",
       "      <td>0.0</td>\n",
       "      <td>1.000</td>\n",
       "      <td>0</td>\n",
       "      <td>7816</td>\n",
       "      <td>0</td>\n",
       "      <td>https://twitter.com/MuseumBot?s=20</td>\n",
       "      <td>NaN</td>\n",
       "      <td>-1.0</td>\n",
       "    </tr>\n",
       "    <tr>\n",
       "      <th>1</th>\n",
       "      <td>Museum Bot</td>\n",
       "      <td>MuseumBot</td>\n",
       "      <td>I am a bot that tweets a random high-res Open ...</td>\n",
       "      <td>8.746920e+17</td>\n",
       "      <td>13-06-2017 18:15</td>\n",
       "      <td>Half-length Figure of St Paul in an Oval. http...</td>\n",
       "      <td>0</td>\n",
       "      <td>10</td>\n",
       "      <td>2</td>\n",
       "      <td>0</td>\n",
       "      <td>...</td>\n",
       "      <td>0</td>\n",
       "      <td>0.000</td>\n",
       "      <td>0.0</td>\n",
       "      <td>1.000</td>\n",
       "      <td>0</td>\n",
       "      <td>7816</td>\n",
       "      <td>0</td>\n",
       "      <td>https://twitter.com/MuseumBot?s=20</td>\n",
       "      <td>NaN</td>\n",
       "      <td>-1.0</td>\n",
       "    </tr>\n",
       "    <tr>\n",
       "      <th>2</th>\n",
       "      <td>Museum Bot</td>\n",
       "      <td>MuseumBot</td>\n",
       "      <td>I am a bot that tweets a random high-res Open ...</td>\n",
       "      <td>6.983900e+17</td>\n",
       "      <td>13-02-2016 06:15</td>\n",
       "      <td>Great Exhibition Jurors&amp;amp;#39; Medal https:/...</td>\n",
       "      <td>0</td>\n",
       "      <td>6</td>\n",
       "      <td>2</td>\n",
       "      <td>0</td>\n",
       "      <td>...</td>\n",
       "      <td>0</td>\n",
       "      <td>0.125</td>\n",
       "      <td>0.0</td>\n",
       "      <td>0.875</td>\n",
       "      <td>0</td>\n",
       "      <td>7816</td>\n",
       "      <td>0</td>\n",
       "      <td>https://twitter.com/MuseumBot?s=20</td>\n",
       "      <td>NaN</td>\n",
       "      <td>-1.0</td>\n",
       "    </tr>\n",
       "    <tr>\n",
       "      <th>3</th>\n",
       "      <td>Museum Bot</td>\n",
       "      <td>MuseumBot</td>\n",
       "      <td>I am a bot that tweets a random high-res Open ...</td>\n",
       "      <td>6.976650e+17</td>\n",
       "      <td>11-02-2016 06:15</td>\n",
       "      <td>Pair of candelabra https://t.co/KYopSWDSw2 htt...</td>\n",
       "      <td>0</td>\n",
       "      <td>5</td>\n",
       "      <td>2</td>\n",
       "      <td>0</td>\n",
       "      <td>...</td>\n",
       "      <td>0</td>\n",
       "      <td>0.000</td>\n",
       "      <td>0.0</td>\n",
       "      <td>1.000</td>\n",
       "      <td>0</td>\n",
       "      <td>7816</td>\n",
       "      <td>0</td>\n",
       "      <td>https://twitter.com/MuseumBot?s=20</td>\n",
       "      <td>NaN</td>\n",
       "      <td>-1.0</td>\n",
       "    </tr>\n",
       "    <tr>\n",
       "      <th>4</th>\n",
       "      <td>Museum Bot</td>\n",
       "      <td>MuseumBot</td>\n",
       "      <td>I am a bot that tweets a random high-res Open ...</td>\n",
       "      <td>6.217450e+17</td>\n",
       "      <td>16-07-2015 18:15</td>\n",
       "      <td>Banner (Nobori)\\n http://t.co/yz34Xgo9a5 http:...</td>\n",
       "      <td>0</td>\n",
       "      <td>4</td>\n",
       "      <td>2</td>\n",
       "      <td>0</td>\n",
       "      <td>...</td>\n",
       "      <td>0</td>\n",
       "      <td>0.000</td>\n",
       "      <td>0.0</td>\n",
       "      <td>1.000</td>\n",
       "      <td>0</td>\n",
       "      <td>7816</td>\n",
       "      <td>0</td>\n",
       "      <td>https://twitter.com/MuseumBot?s=20</td>\n",
       "      <td>NaN</td>\n",
       "      <td>-1.0</td>\n",
       "    </tr>\n",
       "  </tbody>\n",
       "</table>\n",
       "<p>5 rows × 29 columns</p>\n",
       "</div>"
      ],
      "text/plain": [
       "  Twitter_User_Name Twitter_Account  \\\n",
       "0        Museum Bot       MuseumBot   \n",
       "1        Museum Bot       MuseumBot   \n",
       "2        Museum Bot       MuseumBot   \n",
       "3        Museum Bot       MuseumBot   \n",
       "4        Museum Bot       MuseumBot   \n",
       "\n",
       "                            Twitter_User_Description      Tweet_id  \\\n",
       "0  I am a bot that tweets a random high-res Open ...  8.027580e+17   \n",
       "1  I am a bot that tweets a random high-res Open ...  8.746920e+17   \n",
       "2  I am a bot that tweets a random high-res Open ...  6.983900e+17   \n",
       "3  I am a bot that tweets a random high-res Open ...  6.976650e+17   \n",
       "4  I am a bot that tweets a random high-res Open ...  6.217450e+17   \n",
       "\n",
       "   Tweet_created_at                                         Tweet_text  Label  \\\n",
       "0  27-11-2016 06:15  Imperial Theatrical Coat for Court Lady https:...      0   \n",
       "1  13-06-2017 18:15  Half-length Figure of St Paul in an Oval. http...      0   \n",
       "2  13-02-2016 06:15  Great Exhibition Jurors&amp;#39; Medal https:/...      0   \n",
       "3  11-02-2016 06:15  Pair of candelabra https://t.co/KYopSWDSw2 htt...      0   \n",
       "4  16-07-2015 18:15  Banner (Nobori)\\n http://t.co/yz34Xgo9a5 http:...      0   \n",
       "\n",
       "   Word_Count  Url_Count  Retweet  ... Adverb_Count  Positive_Word_Ratio  \\\n",
       "0           8          2        0  ...            0                0.000   \n",
       "1          10          2        0  ...            0                0.000   \n",
       "2           6          2        0  ...            0                0.125   \n",
       "3           5          2        0  ...            0                0.000   \n",
       "4           4          2        0  ...            0                0.000   \n",
       "\n",
       "   Negative_Word_Ratio  Neutral_Word_Ratio  Following  Followers  Verified  \\\n",
       "0                  0.0               1.000          0       7816         0   \n",
       "1                  0.0               1.000          0       7816         0   \n",
       "2                  0.0               0.875          0       7816         0   \n",
       "3                  0.0               1.000          0       7816         0   \n",
       "4                  0.0               1.000          0       7816         0   \n",
       "\n",
       "                                 Link  Location  Real_Location  \n",
       "0  https://twitter.com/MuseumBot?s=20       NaN           -1.0  \n",
       "1  https://twitter.com/MuseumBot?s=20       NaN           -1.0  \n",
       "2  https://twitter.com/MuseumBot?s=20       NaN           -1.0  \n",
       "3  https://twitter.com/MuseumBot?s=20       NaN           -1.0  \n",
       "4  https://twitter.com/MuseumBot?s=20       NaN           -1.0  \n",
       "\n",
       "[5 rows x 29 columns]"
      ]
     },
     "execution_count": 6,
     "metadata": {},
     "output_type": "execute_result"
    }
   ],
   "source": [
    "data.head()"
   ]
  },
  {
   "cell_type": "code",
   "execution_count": 7,
   "metadata": {},
   "outputs": [
    {
     "data": {
      "text/plain": [
       "(279691, 29)"
      ]
     },
     "execution_count": 7,
     "metadata": {},
     "output_type": "execute_result"
    }
   ],
   "source": [
    "data.shape"
   ]
  },
  {
   "cell_type": "code",
   "execution_count": 8,
   "metadata": {},
   "outputs": [
    {
     "data": {
      "text/plain": [
       "Index(['Twitter_User_Name', 'Twitter_Account', 'Twitter_User_Description',\n",
       "       'Tweet_id', 'Tweet_created_at', 'Tweet_text', 'Label', 'Word_Count',\n",
       "       'Url_Count', 'Retweet', 'Original_User', 'Mentions_Count',\n",
       "       'Hashtags_Count', 'QuesMark_Count', 'Exclamations_Count',\n",
       "       'SpecialCharacters_Count', 'Nouns_Count', 'Pronouns_Count',\n",
       "       'Verb_Count', 'Adverb_Count', 'Positive_Word_Ratio',\n",
       "       'Negative_Word_Ratio', 'Neutral_Word_Ratio', 'Following', 'Followers',\n",
       "       'Verified', 'Link', 'Location', 'Real_Location'],\n",
       "      dtype='object')"
      ]
     },
     "execution_count": 8,
     "metadata": {},
     "output_type": "execute_result"
    }
   ],
   "source": [
    "data.columns"
   ]
  },
  {
   "cell_type": "code",
   "execution_count": 9,
   "metadata": {},
   "outputs": [
    {
     "name": "stdout",
     "output_type": "stream",
     "text": [
      "<class 'pandas.core.frame.DataFrame'>\n",
      "RangeIndex: 279691 entries, 0 to 279690\n",
      "Data columns (total 29 columns):\n",
      " #   Column                    Non-Null Count   Dtype  \n",
      "---  ------                    --------------   -----  \n",
      " 0   Twitter_User_Name         279691 non-null  object \n",
      " 1   Twitter_Account           279691 non-null  object \n",
      " 2   Twitter_User_Description  276027 non-null  object \n",
      " 3   Tweet_id                  279691 non-null  float64\n",
      " 4   Tweet_created_at          279691 non-null  object \n",
      " 5   Tweet_text                279691 non-null  object \n",
      " 6   Label                     279691 non-null  int64  \n",
      " 7   Word_Count                279691 non-null  int64  \n",
      " 8   Url_Count                 279691 non-null  int64  \n",
      " 9   Retweet                   279691 non-null  int64  \n",
      " 10  Original_User             58391 non-null   object \n",
      " 11  Mentions_Count            279691 non-null  int64  \n",
      " 12  Hashtags_Count            279691 non-null  int64  \n",
      " 13  QuesMark_Count            279691 non-null  int64  \n",
      " 14  Exclamations_Count        279691 non-null  int64  \n",
      " 15  SpecialCharacters_Count   279691 non-null  int64  \n",
      " 16  Nouns_Count               279691 non-null  int64  \n",
      " 17  Pronouns_Count            279691 non-null  int64  \n",
      " 18  Verb_Count                279691 non-null  int64  \n",
      " 19  Adverb_Count              279691 non-null  int64  \n",
      " 20  Positive_Word_Ratio       279691 non-null  float64\n",
      " 21  Negative_Word_Ratio       279691 non-null  float64\n",
      " 22  Neutral_Word_Ratio        279691 non-null  float64\n",
      " 23  Following                 279691 non-null  int64  \n",
      " 24  Followers                 279691 non-null  int64  \n",
      " 25  Verified                  279691 non-null  int64  \n",
      " 26  Link                      265125 non-null  object \n",
      " 27  Location                  168697 non-null  object \n",
      " 28  Real_Location             279691 non-null  float64\n",
      "dtypes: float64(5), int64(16), object(8)\n",
      "memory usage: 61.9+ MB\n"
     ]
    }
   ],
   "source": [
    "data.info()"
   ]
  },
  {
   "cell_type": "code",
   "execution_count": 10,
   "metadata": {},
   "outputs": [
    {
     "data": {
      "text/plain": [
       "Twitter_User_Name                0\n",
       "Twitter_Account                  0\n",
       "Twitter_User_Description      3664\n",
       "Tweet_id                         0\n",
       "Tweet_created_at                 0\n",
       "Tweet_text                       0\n",
       "Label                            0\n",
       "Word_Count                       0\n",
       "Url_Count                        0\n",
       "Retweet                          0\n",
       "Original_User               221300\n",
       "Mentions_Count                   0\n",
       "Hashtags_Count                   0\n",
       "QuesMark_Count                   0\n",
       "Exclamations_Count               0\n",
       "SpecialCharacters_Count          0\n",
       "Nouns_Count                      0\n",
       "Pronouns_Count                   0\n",
       "Verb_Count                       0\n",
       "Adverb_Count                     0\n",
       "Positive_Word_Ratio              0\n",
       "Negative_Word_Ratio              0\n",
       "Neutral_Word_Ratio               0\n",
       "Following                        0\n",
       "Followers                        0\n",
       "Verified                         0\n",
       "Link                         14566\n",
       "Location                    110994\n",
       "Real_Location                    0\n",
       "dtype: int64"
      ]
     },
     "execution_count": 10,
     "metadata": {},
     "output_type": "execute_result"
    }
   ],
   "source": [
    "data.isna().sum()\n"
   ]
  },
  {
   "cell_type": "markdown",
   "metadata": {},
   "source": [
    "### Cleaning and basic despricptive analysis"
   ]
  },
  {
   "cell_type": "code",
   "execution_count": 11,
   "metadata": {},
   "outputs": [],
   "source": [
    "import pandas as pd\n",
    "\n",
    "# Assuming 'data' is your DataFrame\n",
    "\n",
    "# Fill missing values with 0 for specific columns\n",
    "columns_to_fill = ['Twitter_User_Description', 'Link', 'Location', 'Original_User']\n",
    "\n",
    "data[columns_to_fill] = data[columns_to_fill].fillna(0)\n",
    "\n",
    "# If you want to fill all columns with NaNs with 0, you can do:\n",
    "# data.fillna(0, inplace=True)\n",
    "\n",
    "# Display the DataFrame to verify changes\n"
   ]
  },
  {
   "cell_type": "code",
   "execution_count": 12,
   "metadata": {},
   "outputs": [
    {
     "data": {
      "text/plain": [
       "Twitter_User_Name           0\n",
       "Twitter_Account             0\n",
       "Twitter_User_Description    0\n",
       "Tweet_id                    0\n",
       "Tweet_created_at            0\n",
       "Tweet_text                  0\n",
       "Label                       0\n",
       "Word_Count                  0\n",
       "Url_Count                   0\n",
       "Retweet                     0\n",
       "Original_User               0\n",
       "Mentions_Count              0\n",
       "Hashtags_Count              0\n",
       "QuesMark_Count              0\n",
       "Exclamations_Count          0\n",
       "SpecialCharacters_Count     0\n",
       "Nouns_Count                 0\n",
       "Pronouns_Count              0\n",
       "Verb_Count                  0\n",
       "Adverb_Count                0\n",
       "Positive_Word_Ratio         0\n",
       "Negative_Word_Ratio         0\n",
       "Neutral_Word_Ratio          0\n",
       "Following                   0\n",
       "Followers                   0\n",
       "Verified                    0\n",
       "Link                        0\n",
       "Location                    0\n",
       "Real_Location               0\n",
       "dtype: int64"
      ]
     },
     "execution_count": 12,
     "metadata": {},
     "output_type": "execute_result"
    }
   ],
   "source": [
    "data.isna().sum()\n"
   ]
  },
  {
   "cell_type": "code",
   "execution_count": 14,
   "metadata": {},
   "outputs": [
    {
     "data": {
      "text/plain": [
       "Index(['Twitter_User_Name', 'Twitter_Account', 'Twitter_User_Description',\n",
       "       'Tweet_id', 'Tweet_created_at', 'Tweet_text', 'Label', 'Word_Count',\n",
       "       'Url_Count', 'Retweet', 'Original_User', 'Mentions_Count',\n",
       "       'Hashtags_Count', 'QuesMark_Count', 'Exclamations_Count',\n",
       "       'SpecialCharacters_Count', 'Nouns_Count', 'Pronouns_Count',\n",
       "       'Verb_Count', 'Adverb_Count', 'Positive_Word_Ratio',\n",
       "       'Negative_Word_Ratio', 'Neutral_Word_Ratio', 'Following', 'Followers',\n",
       "       'Verified', 'Link', 'Location', 'Real_Location'],\n",
       "      dtype='object')"
      ]
     },
     "execution_count": 14,
     "metadata": {},
     "output_type": "execute_result"
    }
   ],
   "source": [
    "data.columns"
   ]
  },
  {
   "cell_type": "code",
   "execution_count": 15,
   "metadata": {},
   "outputs": [
    {
     "name": "stdout",
     "output_type": "stream",
     "text": [
      "\n",
      "Descriptive Statistics:\n",
      "                    Tweet_id     Label  Word_Count  Url_Count   Retweet  \\\n",
      "count              279691.00 279691.00   279691.00  279691.00 279691.00   \n",
      "mean   790870432473705216.00      0.52       12.96       0.49      0.21   \n",
      "std    275015878617909440.00      0.50        7.16       0.56      0.41   \n",
      "min           12796523176.00      0.00        1.00       0.00      0.00   \n",
      "25%    619934000000000000.00      0.00        7.00       0.00      0.00   \n",
      "50%    887113000000000000.00      1.00       13.00       0.00      0.00   \n",
      "75%   1023220000000000000.00      1.00       19.00       1.00      0.00   \n",
      "max   1072710000000000000.00      1.00       62.00       4.00      1.00   \n",
      "\n",
      "       Mentions_Count  Hashtags_Count  QuesMark_Count  Exclamations_Count  \\\n",
      "count       279691.00       279691.00       279691.00           279691.00   \n",
      "mean             0.50            0.25            0.10                0.23   \n",
      "std              0.96            0.73            0.40                0.76   \n",
      "min              0.00            0.00            0.00                0.00   \n",
      "25%              0.00            0.00            0.00                0.00   \n",
      "50%              0.00            0.00            0.00                0.00   \n",
      "75%              1.00            0.00            0.00                0.00   \n",
      "max             13.00           14.00           49.00               37.00   \n",
      "\n",
      "       SpecialCharacters_Count  ...  Pronouns_Count  Verb_Count  Adverb_Count  \\\n",
      "count                279691.00  ...       279691.00   279691.00     279691.00   \n",
      "mean                      5.75  ...            0.01        1.38          0.29   \n",
      "std                       5.80  ...            0.12        1.44          0.60   \n",
      "min                       0.00  ...            0.00        0.00          0.00   \n",
      "25%                       2.00  ...            0.00        0.00          0.00   \n",
      "50%                       4.00  ...            0.00        1.00          0.00   \n",
      "75%                       8.00  ...            0.00        2.00          0.00   \n",
      "max                      26.00  ...            3.00       14.00         14.00   \n",
      "\n",
      "       Positive_Word_Ratio  Negative_Word_Ratio  Neutral_Word_Ratio  \\\n",
      "count            279691.00            279691.00           279691.00   \n",
      "mean                  0.04                 0.02                0.94   \n",
      "std                   0.06                 0.04                0.07   \n",
      "min                   0.00                 0.00                0.00   \n",
      "25%                   0.00                 0.00                0.91   \n",
      "50%                   0.00                 0.00                0.96   \n",
      "75%                   0.06                 0.00                1.00   \n",
      "max                   1.00                 1.00                1.00   \n",
      "\n",
      "       Following  Followers  Verified  Real_Location  \n",
      "count  279691.00  279691.00 279691.00      279691.00  \n",
      "mean     1062.08   84305.34      0.10           0.00  \n",
      "std      1667.74  140678.98      0.44           0.90  \n",
      "min         0.00       0.00     -1.00          -1.00  \n",
      "25%         1.00     963.00      0.00          -1.00  \n",
      "50%        62.00    5398.00      0.00           0.00  \n",
      "75%      1440.00   95110.00      0.00           1.00  \n",
      "max      5757.00  377551.00      1.00           1.00  \n",
      "\n",
      "[8 rows x 21 columns]\n"
     ]
    }
   ],
   "source": [
    "# Method 1: Using dtype\n",
    "quantitative_columns = data.select_dtypes(include=['int64', 'float64']).columns.tolist()\n",
    "# Format the describe output to show regular numbers\n",
    "desc_stats = data[quantitative_columns].describe()\n",
    "pd.set_option('display.float_format', lambda x: '%.2f' % x)\n",
    "print(\"\\nDescriptive Statistics:\")\n",
    "print(desc_stats)"
   ]
  },
  {
   "cell_type": "code",
   "execution_count": 16,
   "metadata": {},
   "outputs": [
    {
     "name": "stdout",
     "output_type": "stream",
     "text": [
      "\n",
      "Cleaned Descriptive Statistics:\n",
      "                    Tweet_id     Label  Word_Count  Url_Count   Retweet  \\\n",
      "count              279691.00 279691.00   279691.00  279691.00 279691.00   \n",
      "mean   790870432473705216.00      0.52       12.96       0.49      0.21   \n",
      "std    275015878617909440.00      0.50        7.16       0.56      0.41   \n",
      "min           12796523176.00      0.00        1.00       0.00      0.00   \n",
      "25%    619934000000000000.00      0.00        7.00       0.00      0.00   \n",
      "50%    887113000000000000.00      1.00       13.00       0.00      0.00   \n",
      "75%   1023220000000000000.00      1.00       19.00       1.00      0.00   \n",
      "max   1072710000000000000.00      1.00       62.00       4.00      1.00   \n",
      "\n",
      "       Mentions_Count  Hashtags_Count  QuesMark_Count  Exclamations_Count  \\\n",
      "count       279691.00       279691.00       279691.00           279691.00   \n",
      "mean             0.50            0.25            0.10                0.23   \n",
      "std              0.96            0.73            0.40                0.76   \n",
      "min              0.00            0.00            0.00                0.00   \n",
      "25%              0.00            0.00            0.00                0.00   \n",
      "50%              0.00            0.00            0.00                0.00   \n",
      "75%              1.00            0.00            0.00                0.00   \n",
      "max             13.00           14.00           49.00               37.00   \n",
      "\n",
      "       SpecialCharacters_Count  ...  Pronouns_Count  Verb_Count  Adverb_Count  \\\n",
      "count                279691.00  ...       279691.00   279691.00     279691.00   \n",
      "mean                      5.75  ...            0.01        1.38          0.29   \n",
      "std                       5.80  ...            0.12        1.44          0.60   \n",
      "min                       0.00  ...            0.00        0.00          0.00   \n",
      "25%                       2.00  ...            0.00        0.00          0.00   \n",
      "50%                       4.00  ...            0.00        1.00          0.00   \n",
      "75%                       8.00  ...            0.00        2.00          0.00   \n",
      "max                      26.00  ...            3.00       14.00         14.00   \n",
      "\n",
      "       Positive_Word_Ratio  Negative_Word_Ratio  Neutral_Word_Ratio  \\\n",
      "count            279691.00            279691.00           279691.00   \n",
      "mean                  0.04                 0.02                0.94   \n",
      "std                   0.06                 0.04                0.07   \n",
      "min                   0.00                 0.00                0.00   \n",
      "25%                   0.00                 0.00                0.91   \n",
      "50%                   0.00                 0.00                0.96   \n",
      "75%                   0.06                 0.00                1.00   \n",
      "max                   1.00                 1.00                1.00   \n",
      "\n",
      "       Following  Followers  Verified  Real_Location  \n",
      "count  279691.00  279691.00 279691.00      279691.00  \n",
      "mean     1062.08   84305.34      0.10           0.00  \n",
      "std      1667.74  140678.98      0.44           0.90  \n",
      "min         0.00       0.00     -1.00          -1.00  \n",
      "25%         1.00     963.00      0.00          -1.00  \n",
      "50%        62.00    5398.00      0.00           0.00  \n",
      "75%      1440.00   95110.00      0.00           1.00  \n",
      "max      5757.00  377551.00      1.00           1.00  \n",
      "\n",
      "[8 rows x 21 columns]\n"
     ]
    }
   ],
   "source": [
    "# 1. Handle negative values in Followers and Following\n",
    "data['Followers'] = data['Followers'].clip(lower=0)  # Replace negatives with 0\n",
    "data['Following'] = data['Following'].clip(lower=0)  # Replace negatives with 0\n",
    "\n",
    "# 2. Handle extreme outliers (optional, depending on your analysis needs)\n",
    "def remove_extreme_outliers(df, column):\n",
    "    Q1 = df[column].quantile(0.25)\n",
    "    Q3 = df[column].quantile(0.75)\n",
    "    IQR = Q3 - Q1\n",
    "    lower_bound = Q1 - 3 * IQR  # Using 3 instead of 1.5 to be more conservative\n",
    "    upper_bound = Q3 + 3 * IQR\n",
    "    return df[column].clip(lower=lower_bound, upper=upper_bound)\n",
    "\n",
    "# Apply to columns with extreme values\n",
    "data['Followers'] = remove_extreme_outliers(data, 'Followers')\n",
    "data['Following'] = remove_extreme_outliers(data, 'Following')\n",
    "data['SpecialCharacters_Count'] = remove_extreme_outliers(data, 'SpecialCharacters_Count')\n",
    "\n",
    "# 3. Check the cleaned data\n",
    "cleaned_stats = data[quantitative_columns].describe()\n",
    "pd.set_option('display.float_format', lambda x: '%.2f' % x)\n",
    "print(\"\\nCleaned Descriptive Statistics:\")\n",
    "print(cleaned_stats)"
   ]
  },
  {
   "cell_type": "markdown",
   "metadata": {},
   "source": [
    "## Dataviz/EDA \n",
    "Superficial Analysis and Bot Vs. Human Profile behaviour.\n",
    "Lets check out if there is difference between bots and non bots with EDA and vizualizations!"
   ]
  },
  {
   "cell_type": "markdown",
   "metadata": {},
   "source": [
    "### Qualitative"
   ]
  },
  {
   "cell_type": "code",
   "execution_count": 30,
   "metadata": {},
   "outputs": [
    {
     "data": {
      "application/vnd.plotly.v1+json": {
       "config": {
        "plotlyServerURL": "https://plot.ly"
       },
       "data": [
        {
         "alignmentgroup": "True",
         "hovertemplate": "Count=%{marker.color}<br>Word=%{y}<extra></extra>",
         "legendgroup": "",
         "marker": {
          "color": [
           21032,
           6775,
           4046,
           4029,
           3879,
           3781,
           3387,
           3364,
           3359,
           3344,
           3321,
           3308,
           3280,
           3275,
           3261,
           3251,
           3224,
           2978,
           2960,
           2846
          ],
          "coloraxis": "coloraxis",
          "pattern": {
           "shape": ""
          }
         },
         "name": "",
         "offsetgroup": "",
         "orientation": "h",
         "showlegend": false,
         "textposition": "auto",
         "type": "bar",
         "x": [
          21032,
          6775,
          4046,
          4029,
          3879,
          3781,
          3387,
          3364,
          3359,
          3344,
          3321,
          3308,
          3280,
          3275,
          3261,
          3251,
          3224,
          2978,
          2960,
          2846
         ],
         "xaxis": "x",
         "y": [
          "bong",
          "nthe",
          "back",
          "please",
          "work",
          "nand",
          "eaten",
          "like",
          "available",
          "probably",
          "nyou",
          "planet",
          "nthat",
          "netflix",
          "nfor",
          "instant",
          "allsorts",
          "robot",
          "discovered",
          "nthey"
         ],
         "yaxis": "y"
        }
       ],
       "layout": {
        "barmode": "relative",
        "coloraxis": {
         "colorbar": {
          "title": {
           "text": "Count"
          }
         },
         "colorscale": [
          [
           0,
           "#0d0887"
          ],
          [
           0.1111111111111111,
           "#46039f"
          ],
          [
           0.2222222222222222,
           "#7201a8"
          ],
          [
           0.3333333333333333,
           "#9c179e"
          ],
          [
           0.4444444444444444,
           "#bd3786"
          ],
          [
           0.5555555555555556,
           "#d8576b"
          ],
          [
           0.6666666666666666,
           "#ed7953"
          ],
          [
           0.7777777777777778,
           "#fb9f3a"
          ],
          [
           0.8888888888888888,
           "#fdca26"
          ],
          [
           1,
           "#f0f921"
          ]
         ]
        },
        "legend": {
         "tracegroupgap": 0
        },
        "template": {
         "data": {
          "bar": [
           {
            "error_x": {
             "color": "#2a3f5f"
            },
            "error_y": {
             "color": "#2a3f5f"
            },
            "marker": {
             "line": {
              "color": "#E5ECF6",
              "width": 0.5
             },
             "pattern": {
              "fillmode": "overlay",
              "size": 10,
              "solidity": 0.2
             }
            },
            "type": "bar"
           }
          ],
          "barpolar": [
           {
            "marker": {
             "line": {
              "color": "#E5ECF6",
              "width": 0.5
             },
             "pattern": {
              "fillmode": "overlay",
              "size": 10,
              "solidity": 0.2
             }
            },
            "type": "barpolar"
           }
          ],
          "carpet": [
           {
            "aaxis": {
             "endlinecolor": "#2a3f5f",
             "gridcolor": "white",
             "linecolor": "white",
             "minorgridcolor": "white",
             "startlinecolor": "#2a3f5f"
            },
            "baxis": {
             "endlinecolor": "#2a3f5f",
             "gridcolor": "white",
             "linecolor": "white",
             "minorgridcolor": "white",
             "startlinecolor": "#2a3f5f"
            },
            "type": "carpet"
           }
          ],
          "choropleth": [
           {
            "colorbar": {
             "outlinewidth": 0,
             "ticks": ""
            },
            "type": "choropleth"
           }
          ],
          "contour": [
           {
            "colorbar": {
             "outlinewidth": 0,
             "ticks": ""
            },
            "colorscale": [
             [
              0,
              "#0d0887"
             ],
             [
              0.1111111111111111,
              "#46039f"
             ],
             [
              0.2222222222222222,
              "#7201a8"
             ],
             [
              0.3333333333333333,
              "#9c179e"
             ],
             [
              0.4444444444444444,
              "#bd3786"
             ],
             [
              0.5555555555555556,
              "#d8576b"
             ],
             [
              0.6666666666666666,
              "#ed7953"
             ],
             [
              0.7777777777777778,
              "#fb9f3a"
             ],
             [
              0.8888888888888888,
              "#fdca26"
             ],
             [
              1,
              "#f0f921"
             ]
            ],
            "type": "contour"
           }
          ],
          "contourcarpet": [
           {
            "colorbar": {
             "outlinewidth": 0,
             "ticks": ""
            },
            "type": "contourcarpet"
           }
          ],
          "heatmap": [
           {
            "colorbar": {
             "outlinewidth": 0,
             "ticks": ""
            },
            "colorscale": [
             [
              0,
              "#0d0887"
             ],
             [
              0.1111111111111111,
              "#46039f"
             ],
             [
              0.2222222222222222,
              "#7201a8"
             ],
             [
              0.3333333333333333,
              "#9c179e"
             ],
             [
              0.4444444444444444,
              "#bd3786"
             ],
             [
              0.5555555555555556,
              "#d8576b"
             ],
             [
              0.6666666666666666,
              "#ed7953"
             ],
             [
              0.7777777777777778,
              "#fb9f3a"
             ],
             [
              0.8888888888888888,
              "#fdca26"
             ],
             [
              1,
              "#f0f921"
             ]
            ],
            "type": "heatmap"
           }
          ],
          "heatmapgl": [
           {
            "colorbar": {
             "outlinewidth": 0,
             "ticks": ""
            },
            "colorscale": [
             [
              0,
              "#0d0887"
             ],
             [
              0.1111111111111111,
              "#46039f"
             ],
             [
              0.2222222222222222,
              "#7201a8"
             ],
             [
              0.3333333333333333,
              "#9c179e"
             ],
             [
              0.4444444444444444,
              "#bd3786"
             ],
             [
              0.5555555555555556,
              "#d8576b"
             ],
             [
              0.6666666666666666,
              "#ed7953"
             ],
             [
              0.7777777777777778,
              "#fb9f3a"
             ],
             [
              0.8888888888888888,
              "#fdca26"
             ],
             [
              1,
              "#f0f921"
             ]
            ],
            "type": "heatmapgl"
           }
          ],
          "histogram": [
           {
            "marker": {
             "pattern": {
              "fillmode": "overlay",
              "size": 10,
              "solidity": 0.2
             }
            },
            "type": "histogram"
           }
          ],
          "histogram2d": [
           {
            "colorbar": {
             "outlinewidth": 0,
             "ticks": ""
            },
            "colorscale": [
             [
              0,
              "#0d0887"
             ],
             [
              0.1111111111111111,
              "#46039f"
             ],
             [
              0.2222222222222222,
              "#7201a8"
             ],
             [
              0.3333333333333333,
              "#9c179e"
             ],
             [
              0.4444444444444444,
              "#bd3786"
             ],
             [
              0.5555555555555556,
              "#d8576b"
             ],
             [
              0.6666666666666666,
              "#ed7953"
             ],
             [
              0.7777777777777778,
              "#fb9f3a"
             ],
             [
              0.8888888888888888,
              "#fdca26"
             ],
             [
              1,
              "#f0f921"
             ]
            ],
            "type": "histogram2d"
           }
          ],
          "histogram2dcontour": [
           {
            "colorbar": {
             "outlinewidth": 0,
             "ticks": ""
            },
            "colorscale": [
             [
              0,
              "#0d0887"
             ],
             [
              0.1111111111111111,
              "#46039f"
             ],
             [
              0.2222222222222222,
              "#7201a8"
             ],
             [
              0.3333333333333333,
              "#9c179e"
             ],
             [
              0.4444444444444444,
              "#bd3786"
             ],
             [
              0.5555555555555556,
              "#d8576b"
             ],
             [
              0.6666666666666666,
              "#ed7953"
             ],
             [
              0.7777777777777778,
              "#fb9f3a"
             ],
             [
              0.8888888888888888,
              "#fdca26"
             ],
             [
              1,
              "#f0f921"
             ]
            ],
            "type": "histogram2dcontour"
           }
          ],
          "mesh3d": [
           {
            "colorbar": {
             "outlinewidth": 0,
             "ticks": ""
            },
            "type": "mesh3d"
           }
          ],
          "parcoords": [
           {
            "line": {
             "colorbar": {
              "outlinewidth": 0,
              "ticks": ""
             }
            },
            "type": "parcoords"
           }
          ],
          "pie": [
           {
            "automargin": true,
            "type": "pie"
           }
          ],
          "scatter": [
           {
            "fillpattern": {
             "fillmode": "overlay",
             "size": 10,
             "solidity": 0.2
            },
            "type": "scatter"
           }
          ],
          "scatter3d": [
           {
            "line": {
             "colorbar": {
              "outlinewidth": 0,
              "ticks": ""
             }
            },
            "marker": {
             "colorbar": {
              "outlinewidth": 0,
              "ticks": ""
             }
            },
            "type": "scatter3d"
           }
          ],
          "scattercarpet": [
           {
            "marker": {
             "colorbar": {
              "outlinewidth": 0,
              "ticks": ""
             }
            },
            "type": "scattercarpet"
           }
          ],
          "scattergeo": [
           {
            "marker": {
             "colorbar": {
              "outlinewidth": 0,
              "ticks": ""
             }
            },
            "type": "scattergeo"
           }
          ],
          "scattergl": [
           {
            "marker": {
             "colorbar": {
              "outlinewidth": 0,
              "ticks": ""
             }
            },
            "type": "scattergl"
           }
          ],
          "scattermapbox": [
           {
            "marker": {
             "colorbar": {
              "outlinewidth": 0,
              "ticks": ""
             }
            },
            "type": "scattermapbox"
           }
          ],
          "scatterpolar": [
           {
            "marker": {
             "colorbar": {
              "outlinewidth": 0,
              "ticks": ""
             }
            },
            "type": "scatterpolar"
           }
          ],
          "scatterpolargl": [
           {
            "marker": {
             "colorbar": {
              "outlinewidth": 0,
              "ticks": ""
             }
            },
            "type": "scatterpolargl"
           }
          ],
          "scatterternary": [
           {
            "marker": {
             "colorbar": {
              "outlinewidth": 0,
              "ticks": ""
             }
            },
            "type": "scatterternary"
           }
          ],
          "surface": [
           {
            "colorbar": {
             "outlinewidth": 0,
             "ticks": ""
            },
            "colorscale": [
             [
              0,
              "#0d0887"
             ],
             [
              0.1111111111111111,
              "#46039f"
             ],
             [
              0.2222222222222222,
              "#7201a8"
             ],
             [
              0.3333333333333333,
              "#9c179e"
             ],
             [
              0.4444444444444444,
              "#bd3786"
             ],
             [
              0.5555555555555556,
              "#d8576b"
             ],
             [
              0.6666666666666666,
              "#ed7953"
             ],
             [
              0.7777777777777778,
              "#fb9f3a"
             ],
             [
              0.8888888888888888,
              "#fdca26"
             ],
             [
              1,
              "#f0f921"
             ]
            ],
            "type": "surface"
           }
          ],
          "table": [
           {
            "cells": {
             "fill": {
              "color": "#EBF0F8"
             },
             "line": {
              "color": "white"
             }
            },
            "header": {
             "fill": {
              "color": "#C8D4E3"
             },
             "line": {
              "color": "white"
             }
            },
            "type": "table"
           }
          ]
         },
         "layout": {
          "annotationdefaults": {
           "arrowcolor": "#2a3f5f",
           "arrowhead": 0,
           "arrowwidth": 1
          },
          "autotypenumbers": "strict",
          "coloraxis": {
           "colorbar": {
            "outlinewidth": 0,
            "ticks": ""
           }
          },
          "colorscale": {
           "diverging": [
            [
             0,
             "#8e0152"
            ],
            [
             0.1,
             "#c51b7d"
            ],
            [
             0.2,
             "#de77ae"
            ],
            [
             0.3,
             "#f1b6da"
            ],
            [
             0.4,
             "#fde0ef"
            ],
            [
             0.5,
             "#f7f7f7"
            ],
            [
             0.6,
             "#e6f5d0"
            ],
            [
             0.7,
             "#b8e186"
            ],
            [
             0.8,
             "#7fbc41"
            ],
            [
             0.9,
             "#4d9221"
            ],
            [
             1,
             "#276419"
            ]
           ],
           "sequential": [
            [
             0,
             "#0d0887"
            ],
            [
             0.1111111111111111,
             "#46039f"
            ],
            [
             0.2222222222222222,
             "#7201a8"
            ],
            [
             0.3333333333333333,
             "#9c179e"
            ],
            [
             0.4444444444444444,
             "#bd3786"
            ],
            [
             0.5555555555555556,
             "#d8576b"
            ],
            [
             0.6666666666666666,
             "#ed7953"
            ],
            [
             0.7777777777777778,
             "#fb9f3a"
            ],
            [
             0.8888888888888888,
             "#fdca26"
            ],
            [
             1,
             "#f0f921"
            ]
           ],
           "sequentialminus": [
            [
             0,
             "#0d0887"
            ],
            [
             0.1111111111111111,
             "#46039f"
            ],
            [
             0.2222222222222222,
             "#7201a8"
            ],
            [
             0.3333333333333333,
             "#9c179e"
            ],
            [
             0.4444444444444444,
             "#bd3786"
            ],
            [
             0.5555555555555556,
             "#d8576b"
            ],
            [
             0.6666666666666666,
             "#ed7953"
            ],
            [
             0.7777777777777778,
             "#fb9f3a"
            ],
            [
             0.8888888888888888,
             "#fdca26"
            ],
            [
             1,
             "#f0f921"
            ]
           ]
          },
          "colorway": [
           "#636efa",
           "#EF553B",
           "#00cc96",
           "#ab63fa",
           "#FFA15A",
           "#19d3f3",
           "#FF6692",
           "#B6E880",
           "#FF97FF",
           "#FECB52"
          ],
          "font": {
           "color": "#2a3f5f"
          },
          "geo": {
           "bgcolor": "white",
           "lakecolor": "white",
           "landcolor": "#E5ECF6",
           "showlakes": true,
           "showland": true,
           "subunitcolor": "white"
          },
          "hoverlabel": {
           "align": "left"
          },
          "hovermode": "closest",
          "mapbox": {
           "style": "light"
          },
          "paper_bgcolor": "white",
          "plot_bgcolor": "#E5ECF6",
          "polar": {
           "angularaxis": {
            "gridcolor": "white",
            "linecolor": "white",
            "ticks": ""
           },
           "bgcolor": "#E5ECF6",
           "radialaxis": {
            "gridcolor": "white",
            "linecolor": "white",
            "ticks": ""
           }
          },
          "scene": {
           "xaxis": {
            "backgroundcolor": "#E5ECF6",
            "gridcolor": "white",
            "gridwidth": 2,
            "linecolor": "white",
            "showbackground": true,
            "ticks": "",
            "zerolinecolor": "white"
           },
           "yaxis": {
            "backgroundcolor": "#E5ECF6",
            "gridcolor": "white",
            "gridwidth": 2,
            "linecolor": "white",
            "showbackground": true,
            "ticks": "",
            "zerolinecolor": "white"
           },
           "zaxis": {
            "backgroundcolor": "#E5ECF6",
            "gridcolor": "white",
            "gridwidth": 2,
            "linecolor": "white",
            "showbackground": true,
            "ticks": "",
            "zerolinecolor": "white"
           }
          },
          "shapedefaults": {
           "line": {
            "color": "#2a3f5f"
           }
          },
          "ternary": {
           "aaxis": {
            "gridcolor": "white",
            "linecolor": "white",
            "ticks": ""
           },
           "baxis": {
            "gridcolor": "white",
            "linecolor": "white",
            "ticks": ""
           },
           "bgcolor": "#E5ECF6",
           "caxis": {
            "gridcolor": "white",
            "linecolor": "white",
            "ticks": ""
           }
          },
          "title": {
           "x": 0.05
          },
          "xaxis": {
           "automargin": true,
           "gridcolor": "white",
           "linecolor": "white",
           "ticks": "",
           "title": {
            "standoff": 15
           },
           "zerolinecolor": "white",
           "zerolinewidth": 2
          },
          "yaxis": {
           "automargin": true,
           "gridcolor": "white",
           "linecolor": "white",
           "ticks": "",
           "title": {
            "standoff": 15
           },
           "zerolinecolor": "white",
           "zerolinewidth": 2
          }
         }
        },
        "title": {
         "text": "Top 20 Words in Bot Tweets"
        },
        "xaxis": {
         "anchor": "y",
         "domain": [
          0,
          1
         ],
         "title": {
          "text": "Count"
         }
        },
        "yaxis": {
         "anchor": "x",
         "autorange": "reversed",
         "domain": [
          0,
          1
         ],
         "title": {
          "text": "Word"
         }
        }
       }
      }
     },
     "metadata": {},
     "output_type": "display_data"
    },
    {
     "data": {
      "application/vnd.plotly.v1+json": {
       "config": {
        "plotlyServerURL": "https://plot.ly"
       },
       "data": [
        {
         "alignmentgroup": "True",
         "hovertemplate": "Count=%{marker.color}<br>Word=%{y}<extra></extra>",
         "legendgroup": "",
         "marker": {
          "color": [
           6580,
           5919,
           5733,
           5387,
           4458,
           3911,
           3731,
           3562,
           3507,
           3436,
           3331,
           3267,
           3095,
           3062,
           2954,
           2843,
           2718,
           2644,
           2643,
           2615
          ],
          "coloraxis": "coloraxis",
          "pattern": {
           "shape": ""
          }
         },
         "name": "",
         "offsetgroup": "",
         "orientation": "h",
         "showlegend": false,
         "textposition": "auto",
         "type": "bar",
         "x": [
          6580,
          5919,
          5733,
          5387,
          4458,
          3911,
          3731,
          3562,
          3507,
          3436,
          3331,
          3267,
          3095,
          3062,
          2954,
          2843,
          2718,
          2644,
          2643,
          2615
         ],
         "xaxis": "x",
         "y": [
          "x99s",
          "business",
          "small",
          "thanks",
          "like",
          "today",
          "look",
          "need",
          "good",
          "people",
          "time",
          "x99t",
          "love",
          "everything",
          "taking",
          "know",
          "best",
          "boss",
          "site",
          "thank"
         ],
         "yaxis": "y"
        }
       ],
       "layout": {
        "barmode": "relative",
        "coloraxis": {
         "colorbar": {
          "title": {
           "text": "Count"
          }
         },
         "colorscale": [
          [
           0,
           "#440154"
          ],
          [
           0.1111111111111111,
           "#482878"
          ],
          [
           0.2222222222222222,
           "#3e4989"
          ],
          [
           0.3333333333333333,
           "#31688e"
          ],
          [
           0.4444444444444444,
           "#26828e"
          ],
          [
           0.5555555555555556,
           "#1f9e89"
          ],
          [
           0.6666666666666666,
           "#35b779"
          ],
          [
           0.7777777777777778,
           "#6ece58"
          ],
          [
           0.8888888888888888,
           "#b5de2b"
          ],
          [
           1,
           "#fde725"
          ]
         ]
        },
        "legend": {
         "tracegroupgap": 0
        },
        "template": {
         "data": {
          "bar": [
           {
            "error_x": {
             "color": "#2a3f5f"
            },
            "error_y": {
             "color": "#2a3f5f"
            },
            "marker": {
             "line": {
              "color": "#E5ECF6",
              "width": 0.5
             },
             "pattern": {
              "fillmode": "overlay",
              "size": 10,
              "solidity": 0.2
             }
            },
            "type": "bar"
           }
          ],
          "barpolar": [
           {
            "marker": {
             "line": {
              "color": "#E5ECF6",
              "width": 0.5
             },
             "pattern": {
              "fillmode": "overlay",
              "size": 10,
              "solidity": 0.2
             }
            },
            "type": "barpolar"
           }
          ],
          "carpet": [
           {
            "aaxis": {
             "endlinecolor": "#2a3f5f",
             "gridcolor": "white",
             "linecolor": "white",
             "minorgridcolor": "white",
             "startlinecolor": "#2a3f5f"
            },
            "baxis": {
             "endlinecolor": "#2a3f5f",
             "gridcolor": "white",
             "linecolor": "white",
             "minorgridcolor": "white",
             "startlinecolor": "#2a3f5f"
            },
            "type": "carpet"
           }
          ],
          "choropleth": [
           {
            "colorbar": {
             "outlinewidth": 0,
             "ticks": ""
            },
            "type": "choropleth"
           }
          ],
          "contour": [
           {
            "colorbar": {
             "outlinewidth": 0,
             "ticks": ""
            },
            "colorscale": [
             [
              0,
              "#0d0887"
             ],
             [
              0.1111111111111111,
              "#46039f"
             ],
             [
              0.2222222222222222,
              "#7201a8"
             ],
             [
              0.3333333333333333,
              "#9c179e"
             ],
             [
              0.4444444444444444,
              "#bd3786"
             ],
             [
              0.5555555555555556,
              "#d8576b"
             ],
             [
              0.6666666666666666,
              "#ed7953"
             ],
             [
              0.7777777777777778,
              "#fb9f3a"
             ],
             [
              0.8888888888888888,
              "#fdca26"
             ],
             [
              1,
              "#f0f921"
             ]
            ],
            "type": "contour"
           }
          ],
          "contourcarpet": [
           {
            "colorbar": {
             "outlinewidth": 0,
             "ticks": ""
            },
            "type": "contourcarpet"
           }
          ],
          "heatmap": [
           {
            "colorbar": {
             "outlinewidth": 0,
             "ticks": ""
            },
            "colorscale": [
             [
              0,
              "#0d0887"
             ],
             [
              0.1111111111111111,
              "#46039f"
             ],
             [
              0.2222222222222222,
              "#7201a8"
             ],
             [
              0.3333333333333333,
              "#9c179e"
             ],
             [
              0.4444444444444444,
              "#bd3786"
             ],
             [
              0.5555555555555556,
              "#d8576b"
             ],
             [
              0.6666666666666666,
              "#ed7953"
             ],
             [
              0.7777777777777778,
              "#fb9f3a"
             ],
             [
              0.8888888888888888,
              "#fdca26"
             ],
             [
              1,
              "#f0f921"
             ]
            ],
            "type": "heatmap"
           }
          ],
          "heatmapgl": [
           {
            "colorbar": {
             "outlinewidth": 0,
             "ticks": ""
            },
            "colorscale": [
             [
              0,
              "#0d0887"
             ],
             [
              0.1111111111111111,
              "#46039f"
             ],
             [
              0.2222222222222222,
              "#7201a8"
             ],
             [
              0.3333333333333333,
              "#9c179e"
             ],
             [
              0.4444444444444444,
              "#bd3786"
             ],
             [
              0.5555555555555556,
              "#d8576b"
             ],
             [
              0.6666666666666666,
              "#ed7953"
             ],
             [
              0.7777777777777778,
              "#fb9f3a"
             ],
             [
              0.8888888888888888,
              "#fdca26"
             ],
             [
              1,
              "#f0f921"
             ]
            ],
            "type": "heatmapgl"
           }
          ],
          "histogram": [
           {
            "marker": {
             "pattern": {
              "fillmode": "overlay",
              "size": 10,
              "solidity": 0.2
             }
            },
            "type": "histogram"
           }
          ],
          "histogram2d": [
           {
            "colorbar": {
             "outlinewidth": 0,
             "ticks": ""
            },
            "colorscale": [
             [
              0,
              "#0d0887"
             ],
             [
              0.1111111111111111,
              "#46039f"
             ],
             [
              0.2222222222222222,
              "#7201a8"
             ],
             [
              0.3333333333333333,
              "#9c179e"
             ],
             [
              0.4444444444444444,
              "#bd3786"
             ],
             [
              0.5555555555555556,
              "#d8576b"
             ],
             [
              0.6666666666666666,
              "#ed7953"
             ],
             [
              0.7777777777777778,
              "#fb9f3a"
             ],
             [
              0.8888888888888888,
              "#fdca26"
             ],
             [
              1,
              "#f0f921"
             ]
            ],
            "type": "histogram2d"
           }
          ],
          "histogram2dcontour": [
           {
            "colorbar": {
             "outlinewidth": 0,
             "ticks": ""
            },
            "colorscale": [
             [
              0,
              "#0d0887"
             ],
             [
              0.1111111111111111,
              "#46039f"
             ],
             [
              0.2222222222222222,
              "#7201a8"
             ],
             [
              0.3333333333333333,
              "#9c179e"
             ],
             [
              0.4444444444444444,
              "#bd3786"
             ],
             [
              0.5555555555555556,
              "#d8576b"
             ],
             [
              0.6666666666666666,
              "#ed7953"
             ],
             [
              0.7777777777777778,
              "#fb9f3a"
             ],
             [
              0.8888888888888888,
              "#fdca26"
             ],
             [
              1,
              "#f0f921"
             ]
            ],
            "type": "histogram2dcontour"
           }
          ],
          "mesh3d": [
           {
            "colorbar": {
             "outlinewidth": 0,
             "ticks": ""
            },
            "type": "mesh3d"
           }
          ],
          "parcoords": [
           {
            "line": {
             "colorbar": {
              "outlinewidth": 0,
              "ticks": ""
             }
            },
            "type": "parcoords"
           }
          ],
          "pie": [
           {
            "automargin": true,
            "type": "pie"
           }
          ],
          "scatter": [
           {
            "fillpattern": {
             "fillmode": "overlay",
             "size": 10,
             "solidity": 0.2
            },
            "type": "scatter"
           }
          ],
          "scatter3d": [
           {
            "line": {
             "colorbar": {
              "outlinewidth": 0,
              "ticks": ""
             }
            },
            "marker": {
             "colorbar": {
              "outlinewidth": 0,
              "ticks": ""
             }
            },
            "type": "scatter3d"
           }
          ],
          "scattercarpet": [
           {
            "marker": {
             "colorbar": {
              "outlinewidth": 0,
              "ticks": ""
             }
            },
            "type": "scattercarpet"
           }
          ],
          "scattergeo": [
           {
            "marker": {
             "colorbar": {
              "outlinewidth": 0,
              "ticks": ""
             }
            },
            "type": "scattergeo"
           }
          ],
          "scattergl": [
           {
            "marker": {
             "colorbar": {
              "outlinewidth": 0,
              "ticks": ""
             }
            },
            "type": "scattergl"
           }
          ],
          "scattermapbox": [
           {
            "marker": {
             "colorbar": {
              "outlinewidth": 0,
              "ticks": ""
             }
            },
            "type": "scattermapbox"
           }
          ],
          "scatterpolar": [
           {
            "marker": {
             "colorbar": {
              "outlinewidth": 0,
              "ticks": ""
             }
            },
            "type": "scatterpolar"
           }
          ],
          "scatterpolargl": [
           {
            "marker": {
             "colorbar": {
              "outlinewidth": 0,
              "ticks": ""
             }
            },
            "type": "scatterpolargl"
           }
          ],
          "scatterternary": [
           {
            "marker": {
             "colorbar": {
              "outlinewidth": 0,
              "ticks": ""
             }
            },
            "type": "scatterternary"
           }
          ],
          "surface": [
           {
            "colorbar": {
             "outlinewidth": 0,
             "ticks": ""
            },
            "colorscale": [
             [
              0,
              "#0d0887"
             ],
             [
              0.1111111111111111,
              "#46039f"
             ],
             [
              0.2222222222222222,
              "#7201a8"
             ],
             [
              0.3333333333333333,
              "#9c179e"
             ],
             [
              0.4444444444444444,
              "#bd3786"
             ],
             [
              0.5555555555555556,
              "#d8576b"
             ],
             [
              0.6666666666666666,
              "#ed7953"
             ],
             [
              0.7777777777777778,
              "#fb9f3a"
             ],
             [
              0.8888888888888888,
              "#fdca26"
             ],
             [
              1,
              "#f0f921"
             ]
            ],
            "type": "surface"
           }
          ],
          "table": [
           {
            "cells": {
             "fill": {
              "color": "#EBF0F8"
             },
             "line": {
              "color": "white"
             }
            },
            "header": {
             "fill": {
              "color": "#C8D4E3"
             },
             "line": {
              "color": "white"
             }
            },
            "type": "table"
           }
          ]
         },
         "layout": {
          "annotationdefaults": {
           "arrowcolor": "#2a3f5f",
           "arrowhead": 0,
           "arrowwidth": 1
          },
          "autotypenumbers": "strict",
          "coloraxis": {
           "colorbar": {
            "outlinewidth": 0,
            "ticks": ""
           }
          },
          "colorscale": {
           "diverging": [
            [
             0,
             "#8e0152"
            ],
            [
             0.1,
             "#c51b7d"
            ],
            [
             0.2,
             "#de77ae"
            ],
            [
             0.3,
             "#f1b6da"
            ],
            [
             0.4,
             "#fde0ef"
            ],
            [
             0.5,
             "#f7f7f7"
            ],
            [
             0.6,
             "#e6f5d0"
            ],
            [
             0.7,
             "#b8e186"
            ],
            [
             0.8,
             "#7fbc41"
            ],
            [
             0.9,
             "#4d9221"
            ],
            [
             1,
             "#276419"
            ]
           ],
           "sequential": [
            [
             0,
             "#0d0887"
            ],
            [
             0.1111111111111111,
             "#46039f"
            ],
            [
             0.2222222222222222,
             "#7201a8"
            ],
            [
             0.3333333333333333,
             "#9c179e"
            ],
            [
             0.4444444444444444,
             "#bd3786"
            ],
            [
             0.5555555555555556,
             "#d8576b"
            ],
            [
             0.6666666666666666,
             "#ed7953"
            ],
            [
             0.7777777777777778,
             "#fb9f3a"
            ],
            [
             0.8888888888888888,
             "#fdca26"
            ],
            [
             1,
             "#f0f921"
            ]
           ],
           "sequentialminus": [
            [
             0,
             "#0d0887"
            ],
            [
             0.1111111111111111,
             "#46039f"
            ],
            [
             0.2222222222222222,
             "#7201a8"
            ],
            [
             0.3333333333333333,
             "#9c179e"
            ],
            [
             0.4444444444444444,
             "#bd3786"
            ],
            [
             0.5555555555555556,
             "#d8576b"
            ],
            [
             0.6666666666666666,
             "#ed7953"
            ],
            [
             0.7777777777777778,
             "#fb9f3a"
            ],
            [
             0.8888888888888888,
             "#fdca26"
            ],
            [
             1,
             "#f0f921"
            ]
           ]
          },
          "colorway": [
           "#636efa",
           "#EF553B",
           "#00cc96",
           "#ab63fa",
           "#FFA15A",
           "#19d3f3",
           "#FF6692",
           "#B6E880",
           "#FF97FF",
           "#FECB52"
          ],
          "font": {
           "color": "#2a3f5f"
          },
          "geo": {
           "bgcolor": "white",
           "lakecolor": "white",
           "landcolor": "#E5ECF6",
           "showlakes": true,
           "showland": true,
           "subunitcolor": "white"
          },
          "hoverlabel": {
           "align": "left"
          },
          "hovermode": "closest",
          "mapbox": {
           "style": "light"
          },
          "paper_bgcolor": "white",
          "plot_bgcolor": "#E5ECF6",
          "polar": {
           "angularaxis": {
            "gridcolor": "white",
            "linecolor": "white",
            "ticks": ""
           },
           "bgcolor": "#E5ECF6",
           "radialaxis": {
            "gridcolor": "white",
            "linecolor": "white",
            "ticks": ""
           }
          },
          "scene": {
           "xaxis": {
            "backgroundcolor": "#E5ECF6",
            "gridcolor": "white",
            "gridwidth": 2,
            "linecolor": "white",
            "showbackground": true,
            "ticks": "",
            "zerolinecolor": "white"
           },
           "yaxis": {
            "backgroundcolor": "#E5ECF6",
            "gridcolor": "white",
            "gridwidth": 2,
            "linecolor": "white",
            "showbackground": true,
            "ticks": "",
            "zerolinecolor": "white"
           },
           "zaxis": {
            "backgroundcolor": "#E5ECF6",
            "gridcolor": "white",
            "gridwidth": 2,
            "linecolor": "white",
            "showbackground": true,
            "ticks": "",
            "zerolinecolor": "white"
           }
          },
          "shapedefaults": {
           "line": {
            "color": "#2a3f5f"
           }
          },
          "ternary": {
           "aaxis": {
            "gridcolor": "white",
            "linecolor": "white",
            "ticks": ""
           },
           "baxis": {
            "gridcolor": "white",
            "linecolor": "white",
            "ticks": ""
           },
           "bgcolor": "#E5ECF6",
           "caxis": {
            "gridcolor": "white",
            "linecolor": "white",
            "ticks": ""
           }
          },
          "title": {
           "x": 0.05
          },
          "xaxis": {
           "automargin": true,
           "gridcolor": "white",
           "linecolor": "white",
           "ticks": "",
           "title": {
            "standoff": 15
           },
           "zerolinecolor": "white",
           "zerolinewidth": 2
          },
          "yaxis": {
           "automargin": true,
           "gridcolor": "white",
           "linecolor": "white",
           "ticks": "",
           "title": {
            "standoff": 15
           },
           "zerolinecolor": "white",
           "zerolinewidth": 2
          }
         }
        },
        "title": {
         "text": "Top 20 Words in Non-Bot Tweets"
        },
        "xaxis": {
         "anchor": "y",
         "domain": [
          0,
          1
         ],
         "title": {
          "text": "Count"
         }
        },
        "yaxis": {
         "anchor": "x",
         "autorange": "reversed",
         "domain": [
          0,
          1
         ],
         "title": {
          "text": "Word"
         }
        }
       }
      }
     },
     "metadata": {},
     "output_type": "display_data"
    },
    {
     "name": "stdout",
     "output_type": "stream",
     "text": [
      "Bot Word Frequencies:\n",
      "          Word  Count\n",
      "0         bong  21032\n",
      "1         nthe   6775\n",
      "2         back   4046\n",
      "3       please   4029\n",
      "4         work   3879\n",
      "5         nand   3781\n",
      "6        eaten   3387\n",
      "7         like   3364\n",
      "8    available   3359\n",
      "9     probably   3344\n",
      "10        nyou   3321\n",
      "11      planet   3308\n",
      "12       nthat   3280\n",
      "13     netflix   3275\n",
      "14        nfor   3261\n",
      "15     instant   3251\n",
      "16    allsorts   3224\n",
      "17       robot   2978\n",
      "18  discovered   2960\n",
      "19       nthey   2846\n",
      "\n",
      "Non-Bot Word Frequencies:\n",
      "          Word  Count\n",
      "0         x99s   6580\n",
      "1     business   5919\n",
      "2        small   5733\n",
      "3       thanks   5387\n",
      "4         like   4458\n",
      "5        today   3911\n",
      "6         look   3731\n",
      "7         need   3562\n",
      "8         good   3507\n",
      "9       people   3436\n",
      "10        time   3331\n",
      "11        x99t   3267\n",
      "12        love   3095\n",
      "13  everything   3062\n",
      "14      taking   2954\n",
      "15        know   2843\n",
      "16        best   2718\n",
      "17        boss   2644\n",
      "18        site   2643\n",
      "19       thank   2615\n",
      "\n",
      "Comparative Word Frequencies:\n",
      "         Word  Count_Bot  Count_NonBot    Total\n",
      "4        bong   21032.00          0.00 21032.00\n",
      "13       like    3364.00       4458.00  7822.00\n",
      "21       nthe    6775.00          0.00  6775.00\n",
      "37       x99s       0.00       6580.00  6580.00\n",
      "6    business       0.00       5919.00  5919.00\n",
      "30      small       0.00       5733.00  5733.00\n",
      "33     thanks       0.00       5387.00  5387.00\n",
      "2        back    4046.00          0.00  4046.00\n",
      "26     please    4029.00          0.00  4029.00\n",
      "35      today       0.00       3911.00  3911.00\n",
      "36       work    3879.00          0.00  3879.00\n",
      "16       nand    3781.00          0.00  3781.00\n",
      "14       look       0.00       3731.00  3731.00\n",
      "17       need       0.00       3562.00  3562.00\n",
      "10       good       0.00       3507.00  3507.00\n",
      "24     people       0.00       3436.00  3436.00\n",
      "8       eaten    3387.00          0.00  3387.00\n",
      "1   available    3359.00          0.00  3359.00\n",
      "27   probably    3344.00          0.00  3344.00\n",
      "34       time       0.00       3331.00  3331.00\n"
     ]
    }
   ],
   "source": [
    "import nltk\n",
    "nltk.download('stopwords', quiet=True)\n",
    "from collections import Counter\n",
    "import plotly.express as px\n",
    "from nltk.corpus import stopwords\n",
    "import re\n",
    "import pandas as pd\n",
    "\n",
    "\n",
    "# Set up stop words\n",
    "stop_words = set(stopwords.words('english'))\n",
    "\n",
    "\n",
    "# Function to preprocess and count words\n",
    "def analyze_word_frequency(tweets):\n",
    "    # Join all tweets, convert to lowercase\n",
    "    words = ' '.join(tweets.dropna()).lower()\n",
    "    \n",
    "    # Remove URLs completely\n",
    "    words = re.sub(r'https?://\\S+', '', words)\n",
    "    \n",
    "    # Extract words using regex\n",
    "    words = re.findall(r'\\b\\w+\\b', words)\n",
    "    \n",
    "    # Remove stop words, short words, and specific unwanted words\n",
    "    words = [\n",
    "        word for word in words \n",
    "        if word not in stop_words \n",
    "        and len(word) > 3 \n",
    "        and word not in ['http', 'https']\n",
    "    ]\n",
    "    \n",
    "    # Count word frequencies\n",
    "    word_freq = Counter(words).most_common(20)\n",
    "    \n",
    "    return pd.DataFrame(word_freq, columns=['Word', 'Count'])\n",
    "\n",
    "\n",
    "# Separate bots and non-bots\n",
    "bot_tweets = data[data['Label'] == 0]['Tweet_text']\n",
    "non_bot_tweets = data[data['Label'] == 1]['Tweet_text']\n",
    "\n",
    "\n",
    "# Analyze word frequencies\n",
    "bot_word_freq_df = analyze_word_frequency(bot_tweets)\n",
    "non_bot_word_freq_df = analyze_word_frequency(non_bot_tweets)\n",
    "\n",
    "\n",
    "# Create interactive plots for bots\n",
    "bot_fig = px.bar(\n",
    "    bot_word_freq_df,\n",
    "    x='Count',\n",
    "    y='Word',\n",
    "    orientation='h',\n",
    "    title=\"Top 20 Words in Bot Tweets\",\n",
    "    color='Count',\n",
    "    color_continuous_scale='Plasma'\n",
    ")\n",
    "bot_fig.update_layout(yaxis=dict(autorange=\"reversed\"))\n",
    "\n",
    "\n",
    "# Create interactive plots for non-bots\n",
    "non_bot_fig = px.bar(\n",
    "    non_bot_word_freq_df,\n",
    "    x='Count',\n",
    "    y='Word',\n",
    "    orientation='h',\n",
    "    title=\"Top 20 Words in Non-Bot Tweets\",\n",
    "    color='Count',\n",
    "    color_continuous_scale='Viridis'\n",
    ")\n",
    "non_bot_fig.update_layout(yaxis=dict(autorange=\"reversed\"))\n",
    "\n",
    "\n",
    "# Display both plots\n",
    "bot_fig.show()\n",
    "non_bot_fig.show()\n",
    "\n",
    "\n",
    "# Optional: Print out the word frequency DataFrames\n",
    "print(\"Bot Word Frequencies:\")\n",
    "print(bot_word_freq_df)\n",
    "\n",
    "\n",
    "print(\"\\nNon-Bot Word Frequencies:\")\n",
    "print(non_bot_word_freq_df)\n",
    "\n",
    "\n",
    "# Compare word frequencies\n",
    "merged_freq_df = pd.merge(\n",
    "    bot_word_freq_df, \n",
    "    non_bot_word_freq_df, \n",
    "    on='Word', \n",
    "    how='outer', \n",
    "    suffixes=('_Bot', '_NonBot')\n",
    ").fillna(0)\n",
    "\n",
    "\n",
    "# Sort by total frequency\n",
    "merged_freq_df['Total'] = merged_freq_df['Count_Bot'] + merged_freq_df['Count_NonBot']\n",
    "merged_freq_df = merged_freq_df.sort_values('Total', ascending=False).head(20)\n",
    "\n",
    "\n",
    "print(\"\\nComparative Word Frequencies:\")\n",
    "print(merged_freq_df)"
   ]
  },
  {
   "cell_type": "code",
   "execution_count": 25,
   "metadata": {},
   "outputs": [
    {
     "data": {
      "image/png": "[encoded data removed]",
      "text/plain": [
       "<Figure size 1500x800 with 2 Axes>"
      ]
     },
     "metadata": {},
     "output_type": "display_data"
    }
   ],
   "source": [
    "import pandas as pd\n",
    "import matplotlib.pyplot as plt\n",
    "from wordcloud import WordCloud, STOPWORDS\n",
    "# Ensure DataFrame is created correctly\n",
    "df = pd.DataFrame(data)  # Assuming 'data' is your DataFrame\n",
    "# Convert descriptions to string\n",
    "df['Twitter_User_Description'] = df['Twitter_User_Description'].astype(str)\n",
    "# Group descriptions by account and keep only unique ones\n",
    "unique_descriptions = df.groupby('Twitter_User_Name')['Twitter_User_Description'].unique().apply(lambda x: ' '.join(x))\n",
    "# Separate bot and human accounts\n",
    "bot_accounts = df[df['Label'] == 0]['Twitter_User_Name']\n",
    "human_accounts = df[df['Label'] == 1]['Twitter_User_Name']\n",
    "# Get descriptions for bot and human accounts\n",
    "bot_descriptions = unique_descriptions[bot_accounts].drop_duplicates()\n",
    "human_descriptions = unique_descriptions[human_accounts].drop_duplicates()\n",
    "# Convert descriptions to text for word cloud generation\n",
    "bot_text = \" \".join(bot_descriptions)\n",
    "human_text = \" \".join(human_descriptions)\n",
    "# Create custom stopwords (optional)\n",
    "custom_stopwords = set(STOPWORDS)\n",
    "custom_stopwords.update(['https', 'http', 'www', 'com'])\n",
    "# Generate word clouds\n",
    "bot_wordcloud = WordCloud(\n",
    "    width=800, \n",
    "    height=400, \n",
    "    background_color='white', \n",
    "    stopwords=custom_stopwords, \n",
    "    max_words=50\n",
    ").generate(bot_text)\n",
    "human_wordcloud = WordCloud(\n",
    "    width=800, \n",
    "    height=400, \n",
    "    background_color='white', \n",
    "    stopwords=custom_stopwords, \n",
    "    max_words=50\n",
    ").generate(human_text)\n",
    "# Plot word clouds\n",
    "plt.figure(figsize=(15, 8))\n",
    "plt.subplot(1, 2, 1)\n",
    "plt.imshow(bot_wordcloud, interpolation='bilinear')\n",
    "plt.title('Bot Account Descriptions')\n",
    "plt.axis('off')\n",
    "plt.subplot(1, 2, 2)\n",
    "plt.imshow(human_wordcloud, interpolation='bilinear')\n",
    "plt.title('Human Account Descriptions')\n",
    "plt.axis('off')\n",
    "plt.tight_layout()\n",
    "plt.show()"
   ]
  },
  {
   "cell_type": "code",
   "execution_count": null,
   "metadata": {},
   "outputs": [
    {
     "name": "stderr",
     "output_type": "stream",
     "text": [
      "/var/folders/xc/v1l81vkx6fjc9wpqc0tsnl400000gn/T/ipykernel_3030/286192690.py:7: DeprecationWarning:\n",
      "\n",
      "DataFrameGroupBy.apply operated on the grouping columns. This behavior is deprecated, and in a future version of pandas the grouping columns will be excluded from the operation. Either pass `include_groups=False` to exclude the groupings or explicitly select the grouping columns after groupby to silence this warning.\n",
      "\n"
     ]
    },
    {
     "data": {
      "image/png": "[encoded data removed]",
      "text/plain": [
       "<Figure size 2000x1000 with 2 Axes>"
      ]
     },
     "metadata": {},
     "output_type": "display_data"
    },
    {
     "name": "stdout",
     "output_type": "stream",
     "text": [
      "Average Bot Retweet Percentage: 14.95%\n",
      "Average Human Retweet Percentage: 26.57%\n",
      "\n",
      "Bot Retweet Percentage Summary:\n",
      "count    47.00\n",
      "mean     14.95\n",
      "std      33.62\n",
      "min       0.00\n",
      "25%       0.00\n",
      "50%       0.00\n",
      "75%       0.54\n",
      "max     100.00\n",
      "Name: Retweet_Percentage, dtype: float64\n",
      "\n",
      "Human Retweet Percentage Summary:\n",
      "count   45.00\n",
      "mean    26.57\n",
      "std     19.28\n",
      "min      0.00\n",
      "25%     10.44\n",
      "50%     23.48\n",
      "75%     39.97\n",
      "max     75.51\n",
      "Name: Retweet_Percentage, dtype: float64\n"
     ]
    }
   ],
   "source": [
    "# Calculate retweet percentage per account\n",
    "def calculate_retweet_percentage(group):\n",
    "    total_tweets = len(group)\n",
    "    retweet_count = (group['Retweet'] == 1).sum()\n",
    "    return (retweet_count / total_tweets) * 100 if total_tweets > 0 else 0\n",
    "# Group by account and label, calculate retweet percentage\n",
    "retweet_percentages = data.groupby(['Twitter_Account', 'Label']).apply(calculate_retweet_percentage).reset_index()\n",
    "retweet_percentages.columns = ['Twitter_Account', 'Label', 'Retweet_Percentage']\n",
    "# Separate bot and human data\n",
    "bot_data = retweet_percentages[retweet_percentages['Label'] == 0]\n",
    "human_data = retweet_percentages[retweet_percentages['Label'] == 1]\n",
    "# Sort data by retweet percentage in descending order\n",
    "bot_data = bot_data.sort_values('Retweet_Percentage', ascending=False)\n",
    "human_data = human_data.sort_values('Retweet_Percentage', ascending=False)\n",
    "# Plotting\n",
    "plt.figure(figsize=(20, 10))\n",
    "# Bot subplot\n",
    "plt.subplot(1, 2, 1)\n",
    "plt.bar(bot_data['Twitter_Account'], bot_data['Retweet_Percentage'], color='royalblue')\n",
    "plt.title('Bot Accounts: Retweet Percentage', fontsize=16)\n",
    "plt.xlabel('Twitter Account', fontsize=12)\n",
    "plt.ylabel('Retweet Percentage (%)', fontsize=12)\n",
    "plt.xticks(rotation=90, ha='right', fontsize=8)\n",
    "plt.ylim(0, 100)\n",
    "# Human subplot\n",
    "plt.subplot(1, 2, 2)\n",
    "plt.bar(human_data['Twitter_Account'], human_data['Retweet_Percentage'], color='tomato')\n",
    "plt.title('Human Accounts: Retweet Percentage', fontsize=16)\n",
    "plt.xlabel('Twitter Account', fontsize=12)\n",
    "plt.ylabel('Retweet Percentage (%)', fontsize=12)\n",
    "plt.xticks(rotation=90, ha='right', fontsize=8)\n",
    "plt.ylim(0, 100)\n",
    "plt.tight_layout()\n",
    "plt.show()\n",
    "# Calculate and print averages\n",
    "print(f\"Average Bot Retweet Percentage: {bot_data['Retweet_Percentage'].mean():.2f}%\")\n",
    "print(f\"Average Human Retweet Percentage: {human_data['Retweet_Percentage'].mean():.2f}%\")\n",
    "# Optional: Statistical summary\n",
    "print(\"\\nBot Retweet Percentage Summary:\")\n",
    "print(bot_data['Retweet_Percentage'].describe())\n",
    "print(\"\\nHuman Retweet Percentage Summary:\")\n",
    "print(human_data['Retweet_Percentage'].describe())"
   ]
  },
  {
   "cell_type": "code",
   "execution_count": 26,
   "metadata": {},
   "outputs": [
    {
     "data": {
      "text/plain": [
       "<Figure size 1500x800 with 0 Axes>"
      ]
     },
     "metadata": {},
     "output_type": "display_data"
    },
    {
     "data": {
      "image/png": "[encoded data removed]",
      "text/plain": [
       "<Figure size 1500x800 with 1 Axes>"
      ]
     },
     "metadata": {},
     "output_type": "display_data"
    },
    {
     "name": "stdout",
     "output_type": "stream",
     "text": [
      "Top 20 Hashtags Analysis:\n",
      "                   Bots  Humans   Total  Bot_Percentage  Human_Percentage\n",
      "Hashtags                                                                 \n",
      "winelover       2797.00    0.00 2797.00          100.00              0.00\n",
      "metaguide          0.00 2281.00 2281.00            0.00            100.00\n",
      "accidentalhaiku 1684.00    0.00 1684.00          100.00              0.00\n",
      "wine            1367.00    5.00 1372.00           99.64              0.36\n",
      "nessus           770.00    0.00  770.00          100.00              0.00\n",
      "aabill             0.00  760.00  760.00            0.00            100.00\n",
      "kuwtk              0.00  755.00  755.00            0.00            100.00\n",
      "7news              0.00  647.00  647.00            0.00            100.00\n",
      "sandyaid         623.00    0.00  623.00          100.00              0.00\n",
      "sundayservice      0.00  575.00  575.00            0.00            100.00\n",
      "security         485.00    3.00  488.00           99.39              0.61\n",
      "cdnpoli            1.00  476.00  477.00            0.21             99.79\n",
      "robot            353.00    1.00  354.00           99.72              0.28\n",
      "packetstorm      325.00    0.00  325.00          100.00              0.00\n",
      "cxsecurity       322.00    0.00  322.00          100.00              0.00\n",
      "hoodrichradio      0.00  306.00  306.00            0.00            100.00\n",
      "lpfamily           0.00  259.00  259.00            0.00            100.00\n",
      "ddd                0.00  256.00  256.00            0.00            100.00\n",
      "grocerygames       0.00  248.00  248.00            0.00            100.00\n",
      "helpnetsecurity  239.00    0.00  239.00          100.00              0.00\n",
      "\n",
      "Chi-Square Test Results:\n",
      "Chi-Square Statistic: 15497.1977\n",
      "P-Value: 0.0000\n"
     ]
    }
   ],
   "source": [
    "import pandas as pd\n",
    "import matplotlib.pyplot as plt\n",
    "import re\n",
    "import seaborn as sns\n",
    "from scipy.stats import chi2_contingency\n",
    "\n",
    "\n",
    "def clean_and_extract_hashtags(tweet_text):\n",
    "    # Handle potential NaN values\n",
    "    if pd.isna(tweet_text):\n",
    "        return []\n",
    "    \n",
    "    # Use regex to extract clean hashtags\n",
    "    hashtags = re.findall(r'#(\\w+)', str(tweet_text).lower())\n",
    "    return hashtags\n",
    "\n",
    "\n",
    "# Extract hashtags\n",
    "data['Hashtags'] = data['Tweet_text'].apply(clean_and_extract_hashtags)\n",
    "\n",
    "\n",
    "# Separate hashtags for bots and humans\n",
    "bot_hashtags = data[data['Label'] == 0]['Hashtags'].explode()\n",
    "human_hashtags = data[data['Label'] == 1]['Hashtags'].explode()\n",
    "\n",
    "\n",
    "# Count hashtag frequencies\n",
    "bot_hashtag_counts = bot_hashtags.value_counts()\n",
    "human_hashtag_counts = human_hashtags.value_counts()\n",
    "\n",
    "\n",
    "# Create a combined dataframe of hashtag counts\n",
    "hashtag_df = pd.DataFrame({\n",
    "    'Bots': bot_hashtag_counts,\n",
    "    'Humans': human_hashtag_counts\n",
    "}).fillna(0)\n",
    "\n",
    "\n",
    "# Calculate total and sort\n",
    "hashtag_df['Total'] = hashtag_df['Bots'] + hashtag_df['Humans']\n",
    "top_hashtags = hashtag_df.nlargest(20, 'Total')\n",
    "\n",
    "\n",
    "# Visualization\n",
    "plt.figure(figsize=(15, 8))\n",
    "\n",
    "\n",
    "# Create a side-by-side bar plot\n",
    "top_hashtags_reset = top_hashtags.reset_index()\n",
    "top_hashtags_reset.columns = ['Hashtag', 'Bots', 'Humans', 'Total']\n",
    "\n",
    "\n",
    "# Melt the dataframe for easier plotting\n",
    "melted_df = pd.melt(top_hashtags_reset, \n",
    "                    id_vars=['Hashtag'], \n",
    "                    value_vars=['Bots', 'Humans'], \n",
    "                    var_name='Tweet_Type', \n",
    "                    value_name='Count')\n",
    "\n",
    "\n",
    "# Use seaborn for more aesthetic plot\n",
    "plt.figure(figsize=(15, 8))\n",
    "sns.barplot(x='Hashtag', y='Count', hue='Tweet_Type', data=melted_df)\n",
    "plt.title('Top 20 Hashtags by Bot and Human Tweets', fontsize=16)\n",
    "plt.xlabel('Hashtags', fontsize=12)\n",
    "plt.ylabel('Frequency', fontsize=12)\n",
    "plt.xticks(rotation=45, ha='right')\n",
    "plt.tight_layout()\n",
    "plt.show()\n",
    "\n",
    "\n",
    "# Detailed analysis\n",
    "top_hashtags['Bot_Percentage'] = (top_hashtags['Bots'] / top_hashtags['Total'] * 100).round(2)\n",
    "top_hashtags['Human_Percentage'] = (top_hashtags['Humans'] / top_hashtags['Total'] * 100).round(2)\n",
    "\n",
    "\n",
    "# Print detailed information\n",
    "print(\"Top 20 Hashtags Analysis:\")\n",
    "print(top_hashtags)\n",
    "\n",
    "\n",
    "# Chi-square test\n",
    "try:\n",
    "    contingency_table = top_hashtags[['Bots', 'Humans']].values\n",
    "    chi2, p_value, dof, expected = chi2_contingency(contingency_table)\n",
    "    \n",
    "    print(\"\\nChi-Square Test Results:\")\n",
    "    print(f\"Chi-Square Statistic: {chi2:.4f}\")\n",
    "    print(f\"P-Value: {p_value:.4f}\")\n",
    "except Exception as e:\n",
    "    print(\"Error in chi-square test:\", str(e))"
   ]
  },
  {
   "cell_type": "code",
   "execution_count": null,
   "metadata": {},
   "outputs": [
    {
     "data": {
      "application/vnd.plotly.v1+json": {
       "config": {
        "plotlyServerURL": "https://plot.ly"
       },
       "data": [
        {
         "alignmentgroup": "True",
         "hovertemplate": "variable=positive<br>Twitter User=%{x}<br>Tweet Count=%{y}<extra></extra>",
         "legendgroup": "positive",
         "marker": {
          "color": "#00ff00",
          "pattern": {
           "shape": ""
          }
         },
         "name": "positive",
         "offsetgroup": "positive",
         "orientation": "v",
         "showlegend": true,
         "textposition": "auto",
         "type": "bar",
         "x": [
          "#winelover bot",
          "Accidental Haiku",
          "Ace Attorney Bot",
          "Allsorts Bot",
          "Andrew McMahon Bot",
          "Art Critic Bot",
          "Auto Charts",
          "Awl Tags",
          "Beckett Bot",
          "Big Ben",
          "Camptown Ladies",
          "CryptoMarket News",
          "Dear Assistant",
          "Deep Question Bot",
          "Every Sheriff Bot",
          "Fake Bloomberg News",
          "Garry12gg",
          "God Bot",
          "Hacker News Bot",
          "Horse ebooks",
          "Hurricane Sandy Help",
          "It's Spelt Caesar",
          "Jaden Trump Ebooks",
          "Jesus Cristo",
          "LOUDBOT",
          "Mark's Fake Facts",
          "Meme Bot",
          "Museum Bot",
          "My Favorite Things",
          "NES Art Bot",
          "Netflix Bot",
          "Newfound Planets",
          "Nic Cage Bot",
          "Pentametron",
          "Procrastibot",
          "Quilt Bot",
          "Raag(bot)",
          "Reverse OCR",
          "Robots Rule",
          "Security News Bot",
          "The Book Finder Bot",
          "This Is Just to Say",
          "TweetBot v1.0",
          "here's your reminder",
          "hi i have advice",
          "olivia taters",
          "portmanteau_bot"
         ],
         "xaxis": "x",
         "y": [
          1344,
          554,
          827,
          1036,
          1178,
          603,
          2,
          804,
          2,
          1,
          0,
          770,
          884,
          1121,
          124,
          704,
          1366,
          1158,
          699,
          968,
          259,
          8,
          1647,
          810,
          791,
          1236,
          820,
          152,
          2066,
          0,
          3135,
          1219,
          447,
          1668,
          0,
          0,
          1425,
          3,
          1116,
          415,
          105,
          3,
          1,
          1553,
          1917,
          1591,
          0
         ],
         "yaxis": "y"
        },
        {
         "alignmentgroup": "True",
         "hovertemplate": "variable=neutral<br>Twitter User=%{x}<br>Tweet Count=%{y}<extra></extra>",
         "legendgroup": "neutral",
         "marker": {
          "color": "#888888",
          "pattern": {
           "shape": ""
          }
         },
         "name": "neutral",
         "offsetgroup": "neutral",
         "orientation": "v",
         "showlegend": true,
         "textposition": "auto",
         "type": "bar",
         "x": [
          "#winelover bot",
          "Accidental Haiku",
          "Ace Attorney Bot",
          "Allsorts Bot",
          "Andrew McMahon Bot",
          "Art Critic Bot",
          "Auto Charts",
          "Awl Tags",
          "Beckett Bot",
          "Big Ben",
          "Camptown Ladies",
          "CryptoMarket News",
          "Dear Assistant",
          "Deep Question Bot",
          "Every Sheriff Bot",
          "Fake Bloomberg News",
          "Garry12gg",
          "God Bot",
          "Hacker News Bot",
          "Horse ebooks",
          "Hurricane Sandy Help",
          "It's Spelt Caesar",
          "Jaden Trump Ebooks",
          "Jesus Cristo",
          "LOUDBOT",
          "Mark's Fake Facts",
          "Meme Bot",
          "Museum Bot",
          "My Favorite Things",
          "NES Art Bot",
          "Netflix Bot",
          "Newfound Planets",
          "Nic Cage Bot",
          "Pentametron",
          "Procrastibot",
          "Quilt Bot",
          "Raag(bot)",
          "Reverse OCR",
          "Robots Rule",
          "Security News Bot",
          "The Book Finder Bot",
          "This Is Just to Say",
          "TweetBot v1.0",
          "here's your reminder",
          "hi i have advice",
          "olivia taters",
          "portmanteau_bot"
         ],
         "xaxis": "x",
         "y": [
          1700,
          701,
          1764,
          1519,
          1213,
          2179,
          2195,
          1921,
          838,
          3247,
          3200,
          1744,
          1974,
          1865,
          2981,
          2220,
          1578,
          1531,
          2209,
          1916,
          569,
          453,
          793,
          2210,
          1687,
          1188,
          2188,
          3020,
          590,
          3250,
          34,
          1236,
          581,
          3004,
          3210,
          3210,
          1084,
          3208,
          1553,
          2413,
          83,
          3211,
          828,
          1525,
          803,
          813,
          3243
         ],
         "yaxis": "y"
        },
        {
         "alignmentgroup": "True",
         "hovertemplate": "variable=negative<br>Twitter User=%{x}<br>Tweet Count=%{y}<extra></extra>",
         "legendgroup": "negative",
         "marker": {
          "color": "#ff0000",
          "pattern": {
           "shape": ""
          }
         },
         "name": "negative",
         "offsetgroup": "negative",
         "orientation": "v",
         "showlegend": true,
         "textposition": "auto",
         "type": "bar",
         "x": [
          "#winelover bot",
          "Accidental Haiku",
          "Ace Attorney Bot",
          "Allsorts Bot",
          "Andrew McMahon Bot",
          "Art Critic Bot",
          "Auto Charts",
          "Awl Tags",
          "Beckett Bot",
          "Big Ben",
          "Camptown Ladies",
          "CryptoMarket News",
          "Dear Assistant",
          "Deep Question Bot",
          "Every Sheriff Bot",
          "Fake Bloomberg News",
          "Garry12gg",
          "God Bot",
          "Hacker News Bot",
          "Horse ebooks",
          "Hurricane Sandy Help",
          "It's Spelt Caesar",
          "Jaden Trump Ebooks",
          "Jesus Cristo",
          "LOUDBOT",
          "Mark's Fake Facts",
          "Meme Bot",
          "Museum Bot",
          "My Favorite Things",
          "NES Art Bot",
          "Netflix Bot",
          "Newfound Planets",
          "Nic Cage Bot",
          "Pentametron",
          "Procrastibot",
          "Quilt Bot",
          "Raag(bot)",
          "Reverse OCR",
          "Robots Rule",
          "Security News Bot",
          "The Book Finder Bot",
          "This Is Just to Say",
          "TweetBot v1.0",
          "here's your reminder",
          "hi i have advice",
          "olivia taters",
          "portmanteau_bot"
         ],
         "xaxis": "x",
         "y": [
          140,
          435,
          625,
          645,
          580,
          456,
          7,
          499,
          10,
          0,
          0,
          408,
          368,
          219,
          119,
          308,
          238,
          511,
          324,
          316,
          115,
          3,
          761,
          180,
          722,
          499,
          239,
          76,
          563,
          0,
          76,
          747,
          524,
          950,
          0,
          0,
          479,
          18,
          421,
          374,
          7,
          3,
          0,
          152,
          521,
          814,
          1
         ],
         "yaxis": "y"
        },
        {
         "alignmentgroup": "True",
         "hovertemplate": "variable=positive<br>Twitter User=%{x}<br>Tweet Count=%{y}<extra></extra>",
         "legendgroup": "positive",
         "marker": {
          "color": "#00ff00",
          "pattern": {
           "shape": ""
          }
         },
         "name": "positive",
         "offsetgroup": "positive",
         "orientation": "v",
         "showlegend": true,
         "textposition": "auto",
         "type": "bar",
         "x": [
          "Aaron Chewning",
          "Alex Holley",
          "Andrew McMahon",
          "Andy Richter",
          "Asad Umar",
          "Asher Wolf",
          "Brian",
          "Brrnrrd",
          "DJ SCREAM",
          "Danny Gonzalez",
          "Darius Kazemi",
          "Drew Gooden",
          "Eddie Izzard",
          "Guy Fieri",
          "Hey, it's Opus!",
          "Imran Khan",
          "James Wong",
          "Jemima Goldsmith",
          "Jen Spyra",
          "JenanFh",
          "Jenna Bilotta",
          "Jessica Banov",
          "John Perry Barlow",
          "Justin Cohen",
          "Kate White",
          "Keith Lemon",
          "Kris Anderson",
          "Kris Jenner",
          "Malala",
          "Marcus L Endicott",
          "Matthew Francis",
          "Michel Boyer",
          "Mishal Awan",
          "Netflix US",
          "Omer Mohammad",
          "Ranjit Bhatnagar",
          "Sadiq Khan",
          "Salman Khan",
          "Sarah Nagem",
          "Shannon Watts",
          "Subrahmanyam KVJ",
          "T.J. Holmes",
          "Todd Zwillich",
          "chris douridas",
          "waqas Sajid"
         ],
         "xaxis": "x2",
         "y": [
          1144,
          1438,
          1540,
          1110,
          1348,
          1035,
          235,
          1537,
          1288,
          1215,
          2624,
          1295,
          1420,
          1593,
          1132,
          1138,
          1381,
          1264,
          887,
          1572,
          1084,
          1440,
          1426,
          1277,
          1999,
          979,
          1701,
          1915,
          197,
          1432,
          339,
          1124,
          696,
          1156,
          1166,
          2002,
          1851,
          440,
          1179,
          1257,
          1451,
          1246,
          631,
          1619,
          1700
         ],
         "yaxis": "y2"
        },
        {
         "alignmentgroup": "True",
         "hovertemplate": "variable=neutral<br>Twitter User=%{x}<br>Tweet Count=%{y}<extra></extra>",
         "legendgroup": "neutral",
         "marker": {
          "color": "#888888",
          "pattern": {
           "shape": ""
          }
         },
         "name": "neutral",
         "offsetgroup": "neutral",
         "orientation": "v",
         "showlegend": true,
         "textposition": "auto",
         "type": "bar",
         "x": [
          "Aaron Chewning",
          "Alex Holley",
          "Andrew McMahon",
          "Andy Richter",
          "Asad Umar",
          "Asher Wolf",
          "Brian",
          "Brrnrrd",
          "DJ SCREAM",
          "Danny Gonzalez",
          "Darius Kazemi",
          "Drew Gooden",
          "Eddie Izzard",
          "Guy Fieri",
          "Hey, it's Opus!",
          "Imran Khan",
          "James Wong",
          "Jemima Goldsmith",
          "Jen Spyra",
          "JenanFh",
          "Jenna Bilotta",
          "Jessica Banov",
          "John Perry Barlow",
          "Justin Cohen",
          "Kate White",
          "Keith Lemon",
          "Kris Anderson",
          "Kris Jenner",
          "Malala",
          "Marcus L Endicott",
          "Matthew Francis",
          "Michel Boyer",
          "Mishal Awan",
          "Netflix US",
          "Omer Mohammad",
          "Ranjit Bhatnagar",
          "Sadiq Khan",
          "Salman Khan",
          "Sarah Nagem",
          "Shannon Watts",
          "Subrahmanyam KVJ",
          "T.J. Holmes",
          "Todd Zwillich",
          "chris douridas",
          "waqas Sajid"
         ],
         "xaxis": "x2",
         "y": [
          1662,
          1486,
          1390,
          1499,
          1450,
          1479,
          78,
          1061,
          1303,
          1507,
          2730,
          1313,
          1472,
          1339,
          1563,
          1477,
          1292,
          1324,
          711,
          1116,
          1584,
          1405,
          1204,
          1530,
          866,
          2073,
          1207,
          1126,
          184,
          1597,
          193,
          1655,
          1116,
          1795,
          1508,
          3682,
          896,
          2723,
          1321,
          1400,
          1283,
          1391,
          886,
          1382,
          3683
         ],
         "yaxis": "y2"
        },
        {
         "alignmentgroup": "True",
         "hovertemplate": "variable=negative<br>Twitter User=%{x}<br>Tweet Count=%{y}<extra></extra>",
         "legendgroup": "negative",
         "marker": {
          "color": "#ff0000",
          "pattern": {
           "shape": ""
          }
         },
         "name": "negative",
         "offsetgroup": "negative",
         "orientation": "v",
         "showlegend": true,
         "textposition": "auto",
         "type": "bar",
         "x": [
          "Aaron Chewning",
          "Alex Holley",
          "Andrew McMahon",
          "Andy Richter",
          "Asad Umar",
          "Asher Wolf",
          "Brian",
          "Brrnrrd",
          "DJ SCREAM",
          "Danny Gonzalez",
          "Darius Kazemi",
          "Drew Gooden",
          "Eddie Izzard",
          "Guy Fieri",
          "Hey, it's Opus!",
          "Imran Khan",
          "James Wong",
          "Jemima Goldsmith",
          "Jen Spyra",
          "JenanFh",
          "Jenna Bilotta",
          "Jessica Banov",
          "John Perry Barlow",
          "Justin Cohen",
          "Kate White",
          "Keith Lemon",
          "Kris Anderson",
          "Kris Jenner",
          "Malala",
          "Marcus L Endicott",
          "Matthew Francis",
          "Michel Boyer",
          "Mishal Awan",
          "Netflix US",
          "Omer Mohammad",
          "Ranjit Bhatnagar",
          "Sadiq Khan",
          "Salman Khan",
          "Sarah Nagem",
          "Shannon Watts",
          "Subrahmanyam KVJ",
          "T.J. Holmes",
          "Todd Zwillich",
          "chris douridas",
          "waqas Sajid"
         ],
         "xaxis": "x2",
         "y": [
          397,
          289,
          312,
          590,
          430,
          720,
          2836,
          490,
          601,
          471,
          974,
          561,
          305,
          299,
          514,
          629,
          553,
          592,
          398,
          464,
          500,
          380,
          547,
          411,
          335,
          184,
          339,
          156,
          16,
          181,
          46,
          440,
          329,
          257,
          522,
          726,
          485,
          67,
          462,
          584,
          494,
          598,
          289,
          192,
          814
         ],
         "yaxis": "y2"
        }
       ],
       "layout": {
        "annotations": [
         {
          "font": {
           "size": 16
          },
          "showarrow": false,
          "text": "Bot Tweets",
          "x": 0.5,
          "xanchor": "center",
          "xref": "paper",
          "y": 1,
          "yanchor": "bottom",
          "yref": "paper"
         },
         {
          "font": {
           "size": 16
          },
          "showarrow": false,
          "text": "Human Tweets",
          "x": 0.5,
          "xanchor": "center",
          "xref": "paper",
          "y": 0.4,
          "yanchor": "bottom",
          "yref": "paper"
         }
        ],
        "height": 1500,
        "showlegend": true,
        "template": {
         "data": {
          "bar": [
           {
            "error_x": {
             "color": "#2a3f5f"
            },
            "error_y": {
             "color": "#2a3f5f"
            },
            "marker": {
             "line": {
              "color": "#E5ECF6",
              "width": 0.5
             },
             "pattern": {
              "fillmode": "overlay",
              "size": 10,
              "solidity": 0.2
             }
            },
            "type": "bar"
           }
          ],
          "barpolar": [
           {
            "marker": {
             "line": {
              "color": "#E5ECF6",
              "width": 0.5
             },
             "pattern": {
              "fillmode": "overlay",
              "size": 10,
              "solidity": 0.2
             }
            },
            "type": "barpolar"
           }
          ],
          "carpet": [
           {
            "aaxis": {
             "endlinecolor": "#2a3f5f",
             "gridcolor": "white",
             "linecolor": "white",
             "minorgridcolor": "white",
             "startlinecolor": "#2a3f5f"
            },
            "baxis": {
             "endlinecolor": "#2a3f5f",
             "gridcolor": "white",
             "linecolor": "white",
             "minorgridcolor": "white",
             "startlinecolor": "#2a3f5f"
            },
            "type": "carpet"
           }
          ],
          "choropleth": [
           {
            "colorbar": {
             "outlinewidth": 0,
             "ticks": ""
            },
            "type": "choropleth"
           }
          ],
          "contour": [
           {
            "colorbar": {
             "outlinewidth": 0,
             "ticks": ""
            },
            "colorscale": [
             [
              0,
              "#0d0887"
             ],
             [
              0.1111111111111111,
              "#46039f"
             ],
             [
              0.2222222222222222,
              "#7201a8"
             ],
             [
              0.3333333333333333,
              "#9c179e"
             ],
             [
              0.4444444444444444,
              "#bd3786"
             ],
             [
              0.5555555555555556,
              "#d8576b"
             ],
             [
              0.6666666666666666,
              "#ed7953"
             ],
             [
              0.7777777777777778,
              "#fb9f3a"
             ],
             [
              0.8888888888888888,
              "#fdca26"
             ],
             [
              1,
              "#f0f921"
             ]
            ],
            "type": "contour"
           }
          ],
          "contourcarpet": [
           {
            "colorbar": {
             "outlinewidth": 0,
             "ticks": ""
            },
            "type": "contourcarpet"
           }
          ],
          "heatmap": [
           {
            "colorbar": {
             "outlinewidth": 0,
             "ticks": ""
            },
            "colorscale": [
             [
              0,
              "#0d0887"
             ],
             [
              0.1111111111111111,
              "#46039f"
             ],
             [
              0.2222222222222222,
              "#7201a8"
             ],
             [
              0.3333333333333333,
              "#9c179e"
             ],
             [
              0.4444444444444444,
              "#bd3786"
             ],
             [
              0.5555555555555556,
              "#d8576b"
             ],
             [
              0.6666666666666666,
              "#ed7953"
             ],
             [
              0.7777777777777778,
              "#fb9f3a"
             ],
             [
              0.8888888888888888,
              "#fdca26"
             ],
             [
              1,
              "#f0f921"
             ]
            ],
            "type": "heatmap"
           }
          ],
          "heatmapgl": [
           {
            "colorbar": {
             "outlinewidth": 0,
             "ticks": ""
            },
            "colorscale": [
             [
              0,
              "#0d0887"
             ],
             [
              0.1111111111111111,
              "#46039f"
             ],
             [
              0.2222222222222222,
              "#7201a8"
             ],
             [
              0.3333333333333333,
              "#9c179e"
             ],
             [
              0.4444444444444444,
              "#bd3786"
             ],
             [
              0.5555555555555556,
              "#d8576b"
             ],
             [
              0.6666666666666666,
              "#ed7953"
             ],
             [
              0.7777777777777778,
              "#fb9f3a"
             ],
             [
              0.8888888888888888,
              "#fdca26"
             ],
             [
              1,
              "#f0f921"
             ]
            ],
            "type": "heatmapgl"
           }
          ],
          "histogram": [
           {
            "marker": {
             "pattern": {
              "fillmode": "overlay",
              "size": 10,
              "solidity": 0.2
             }
            },
            "type": "histogram"
           }
          ],
          "histogram2d": [
           {
            "colorbar": {
             "outlinewidth": 0,
             "ticks": ""
            },
            "colorscale": [
             [
              0,
              "#0d0887"
             ],
             [
              0.1111111111111111,
              "#46039f"
             ],
             [
              0.2222222222222222,
              "#7201a8"
             ],
             [
              0.3333333333333333,
              "#9c179e"
             ],
             [
              0.4444444444444444,
              "#bd3786"
             ],
             [
              0.5555555555555556,
              "#d8576b"
             ],
             [
              0.6666666666666666,
              "#ed7953"
             ],
             [
              0.7777777777777778,
              "#fb9f3a"
             ],
             [
              0.8888888888888888,
              "#fdca26"
             ],
             [
              1,
              "#f0f921"
             ]
            ],
            "type": "histogram2d"
           }
          ],
          "histogram2dcontour": [
           {
            "colorbar": {
             "outlinewidth": 0,
             "ticks": ""
            },
            "colorscale": [
             [
              0,
              "#0d0887"
             ],
             [
              0.1111111111111111,
              "#46039f"
             ],
             [
              0.2222222222222222,
              "#7201a8"
             ],
             [
              0.3333333333333333,
              "#9c179e"
             ],
             [
              0.4444444444444444,
              "#bd3786"
             ],
             [
              0.5555555555555556,
              "#d8576b"
             ],
             [
              0.6666666666666666,
              "#ed7953"
             ],
             [
              0.7777777777777778,
              "#fb9f3a"
             ],
             [
              0.8888888888888888,
              "#fdca26"
             ],
             [
              1,
              "#f0f921"
             ]
            ],
            "type": "histogram2dcontour"
           }
          ],
          "mesh3d": [
           {
            "colorbar": {
             "outlinewidth": 0,
             "ticks": ""
            },
            "type": "mesh3d"
           }
          ],
          "parcoords": [
           {
            "line": {
             "colorbar": {
              "outlinewidth": 0,
              "ticks": ""
             }
            },
            "type": "parcoords"
           }
          ],
          "pie": [
           {
            "automargin": true,
            "type": "pie"
           }
          ],
          "scatter": [
           {
            "fillpattern": {
             "fillmode": "overlay",
             "size": 10,
             "solidity": 0.2
            },
            "type": "scatter"
           }
          ],
          "scatter3d": [
           {
            "line": {
             "colorbar": {
              "outlinewidth": 0,
              "ticks": ""
             }
            },
            "marker": {
             "colorbar": {
              "outlinewidth": 0,
              "ticks": ""
             }
            },
            "type": "scatter3d"
           }
          ],
          "scattercarpet": [
           {
            "marker": {
             "colorbar": {
              "outlinewidth": 0,
              "ticks": ""
             }
            },
            "type": "scattercarpet"
           }
          ],
          "scattergeo": [
           {
            "marker": {
             "colorbar": {
              "outlinewidth": 0,
              "ticks": ""
             }
            },
            "type": "scattergeo"
           }
          ],
          "scattergl": [
           {
            "marker": {
             "colorbar": {
              "outlinewidth": 0,
              "ticks": ""
             }
            },
            "type": "scattergl"
           }
          ],
          "scattermapbox": [
           {
            "marker": {
             "colorbar": {
              "outlinewidth": 0,
              "ticks": ""
             }
            },
            "type": "scattermapbox"
           }
          ],
          "scatterpolar": [
           {
            "marker": {
             "colorbar": {
              "outlinewidth": 0,
              "ticks": ""
             }
            },
            "type": "scatterpolar"
           }
          ],
          "scatterpolargl": [
           {
            "marker": {
             "colorbar": {
              "outlinewidth": 0,
              "ticks": ""
             }
            },
            "type": "scatterpolargl"
           }
          ],
          "scatterternary": [
           {
            "marker": {
             "colorbar": {
              "outlinewidth": 0,
              "ticks": ""
             }
            },
            "type": "scatterternary"
           }
          ],
          "surface": [
           {
            "colorbar": {
             "outlinewidth": 0,
             "ticks": ""
            },
            "colorscale": [
             [
              0,
              "#0d0887"
             ],
             [
              0.1111111111111111,
              "#46039f"
             ],
             [
              0.2222222222222222,
              "#7201a8"
             ],
             [
              0.3333333333333333,
              "#9c179e"
             ],
             [
              0.4444444444444444,
              "#bd3786"
             ],
             [
              0.5555555555555556,
              "#d8576b"
             ],
             [
              0.6666666666666666,
              "#ed7953"
             ],
             [
              0.7777777777777778,
              "#fb9f3a"
             ],
             [
              0.8888888888888888,
              "#fdca26"
             ],
             [
              1,
              "#f0f921"
             ]
            ],
            "type": "surface"
           }
          ],
          "table": [
           {
            "cells": {
             "fill": {
              "color": "#EBF0F8"
             },
             "line": {
              "color": "white"
             }
            },
            "header": {
             "fill": {
              "color": "#C8D4E3"
             },
             "line": {
              "color": "white"
             }
            },
            "type": "table"
           }
          ]
         },
         "layout": {
          "annotationdefaults": {
           "arrowcolor": "#2a3f5f",
           "arrowhead": 0,
           "arrowwidth": 1
          },
          "autotypenumbers": "strict",
          "coloraxis": {
           "colorbar": {
            "outlinewidth": 0,
            "ticks": ""
           }
          },
          "colorscale": {
           "diverging": [
            [
             0,
             "#8e0152"
            ],
            [
             0.1,
             "#c51b7d"
            ],
            [
             0.2,
             "#de77ae"
            ],
            [
             0.3,
             "#f1b6da"
            ],
            [
             0.4,
             "#fde0ef"
            ],
            [
             0.5,
             "#f7f7f7"
            ],
            [
             0.6,
             "#e6f5d0"
            ],
            [
             0.7,
             "#b8e186"
            ],
            [
             0.8,
             "#7fbc41"
            ],
            [
             0.9,
             "#4d9221"
            ],
            [
             1,
             "#276419"
            ]
           ],
           "sequential": [
            [
             0,
             "#0d0887"
            ],
            [
             0.1111111111111111,
             "#46039f"
            ],
            [
             0.2222222222222222,
             "#7201a8"
            ],
            [
             0.3333333333333333,
             "#9c179e"
            ],
            [
             0.4444444444444444,
             "#bd3786"
            ],
            [
             0.5555555555555556,
             "#d8576b"
            ],
            [
             0.6666666666666666,
             "#ed7953"
            ],
            [
             0.7777777777777778,
             "#fb9f3a"
            ],
            [
             0.8888888888888888,
             "#fdca26"
            ],
            [
             1,
             "#f0f921"
            ]
           ],
           "sequentialminus": [
            [
             0,
             "#0d0887"
            ],
            [
             0.1111111111111111,
             "#46039f"
            ],
            [
             0.2222222222222222,
             "#7201a8"
            ],
            [
             0.3333333333333333,
             "#9c179e"
            ],
            [
             0.4444444444444444,
             "#bd3786"
            ],
            [
             0.5555555555555556,
             "#d8576b"
            ],
            [
             0.6666666666666666,
             "#ed7953"
            ],
            [
             0.7777777777777778,
             "#fb9f3a"
            ],
            [
             0.8888888888888888,
             "#fdca26"
            ],
            [
             1,
             "#f0f921"
            ]
           ]
          },
          "colorway": [
           "#636efa",
           "#EF553B",
           "#00cc96",
           "#ab63fa",
           "#FFA15A",
           "#19d3f3",
           "#FF6692",
           "#B6E880",
           "#FF97FF",
           "#FECB52"
          ],
          "font": {
           "color": "#2a3f5f"
          },
          "geo": {
           "bgcolor": "white",
           "lakecolor": "white",
           "landcolor": "#E5ECF6",
           "showlakes": true,
           "showland": true,
           "subunitcolor": "white"
          },
          "hoverlabel": {
           "align": "left"
          },
          "hovermode": "closest",
          "mapbox": {
           "style": "light"
          },
          "paper_bgcolor": "white",
          "plot_bgcolor": "#E5ECF6",
          "polar": {
           "angularaxis": {
            "gridcolor": "white",
            "linecolor": "white",
            "ticks": ""
           },
           "bgcolor": "#E5ECF6",
           "radialaxis": {
            "gridcolor": "white",
            "linecolor": "white",
            "ticks": ""
           }
          },
          "scene": {
           "xaxis": {
            "backgroundcolor": "#E5ECF6",
            "gridcolor": "white",
            "gridwidth": 2,
            "linecolor": "white",
            "showbackground": true,
            "ticks": "",
            "zerolinecolor": "white"
           },
           "yaxis": {
            "backgroundcolor": "#E5ECF6",
            "gridcolor": "white",
            "gridwidth": 2,
            "linecolor": "white",
            "showbackground": true,
            "ticks": "",
            "zerolinecolor": "white"
           },
           "zaxis": {
            "backgroundcolor": "#E5ECF6",
            "gridcolor": "white",
            "gridwidth": 2,
            "linecolor": "white",
            "showbackground": true,
            "ticks": "",
            "zerolinecolor": "white"
           }
          },
          "shapedefaults": {
           "line": {
            "color": "#2a3f5f"
           }
          },
          "ternary": {
           "aaxis": {
            "gridcolor": "white",
            "linecolor": "white",
            "ticks": ""
           },
           "baxis": {
            "gridcolor": "white",
            "linecolor": "white",
            "ticks": ""
           },
           "bgcolor": "#E5ECF6",
           "caxis": {
            "gridcolor": "white",
            "linecolor": "white",
            "ticks": ""
           }
          },
          "title": {
           "x": 0.05
          },
          "xaxis": {
           "automargin": true,
           "gridcolor": "white",
           "linecolor": "white",
           "ticks": "",
           "title": {
            "standoff": 15
           },
           "zerolinecolor": "white",
           "zerolinewidth": 2
          },
          "yaxis": {
           "automargin": true,
           "gridcolor": "white",
           "linecolor": "white",
           "ticks": "",
           "title": {
            "standoff": 15
           },
           "zerolinecolor": "white",
           "zerolinewidth": 2
          }
         }
        },
        "title": {
         "text": "Sentiment Distribution for Bot and Human Tweets"
        },
        "xaxis": {
         "anchor": "y",
         "domain": [
          0,
          1
         ]
        },
        "xaxis2": {
         "anchor": "y2",
         "domain": [
          0,
          1
         ]
        },
        "yaxis": {
         "anchor": "x",
         "domain": [
          0.6000000000000001,
          1
         ]
        },
        "yaxis2": {
         "anchor": "x2",
         "domain": [
          0,
          0.4
         ]
        }
       }
      }
     },
     "metadata": {},
     "output_type": "display_data"
    }
   ],
   "source": [
    "from textblob import TextBlob\n",
    "import pandas as pd\n",
    "import plotly.express as px\n",
    "import plotly.subplots as sp\n",
    "\n",
    "# Sentiment Analysis\n",
    "def get_sentiment(text):\n",
    "    analysis = TextBlob(str(text))  # Convert to string to handle non-string inputs\n",
    "    if analysis.sentiment.polarity > 0:\n",
    "        return 'positive'\n",
    "    elif analysis.sentiment.polarity < 0:\n",
    "        return 'negative'\n",
    "    else:\n",
    "        return 'neutral'\n",
    "\n",
    "# Apply sentiment analysis to your data\n",
    "data['Sentiment'] = data['Tweet_text'].apply(get_sentiment)\n",
    "\n",
    "# Split data into bot and human tweets\n",
    "bot_tweets = data[data['Label'] == 0]\n",
    "human_tweets = data[data['Label'] == 1]\n",
    "\n",
    "# Calculate sentiment distribution\n",
    "bot_sentiment_distribution = bot_tweets.groupby(['Twitter_User_Name', 'Sentiment']).size().unstack().fillna(0)\n",
    "human_sentiment_distribution = human_tweets.groupby(['Twitter_User_Name', 'Sentiment']).size().unstack().fillna(0)\n",
    "\n",
    "# Reset index for plotting\n",
    "bot_sentiment_distribution.reset_index(inplace=True)\n",
    "human_sentiment_distribution.reset_index(inplace=True)\n",
    "\n",
    "# Create subplots\n",
    "fig = sp.make_subplots(rows=2, cols=1, \n",
    "                      shared_xaxes=False, \n",
    "                      vertical_spacing=0.2, \n",
    "                      subplot_titles=('Bot Tweets', 'Human Tweets'))\n",
    "\n",
    "# Bot tweets plot\n",
    "bot_fig = px.bar(\n",
    "    bot_sentiment_distribution,\n",
    "    x='Twitter_User_Name',\n",
    "    y=['positive', 'neutral', 'negative'],\n",
    "    color_discrete_map={'positive': '#00ff00', 'neutral': '#888888', 'negative': '#ff0000'},\n",
    "    barmode='group',\n",
    "    labels={'Twitter_User_Name': 'Twitter User', 'value': 'Tweet Count'},\n",
    "    height=400\n",
    ")\n",
    "for data in bot_fig.data:\n",
    "    fig.add_trace(data, row=1, col=1)\n",
    "\n",
    "# Human tweets plot\n",
    "human_fig = px.bar(\n",
    "    human_sentiment_distribution,\n",
    "    x='Twitter_User_Name',\n",
    "    y=['positive', 'neutral', 'negative'],\n",
    "    color_discrete_map={'positive': '#00ff00', 'neutral': '#888888', 'negative': '#ff0000'},\n",
    "    barmode='group',\n",
    "    labels={'Twitter_User_Name': 'Twitter User', 'value': 'Tweet Count'},\n",
    "    height=400\n",
    ")\n",
    "for data in human_fig.data:\n",
    "    fig.add_trace(data, row=2, col=1)\n",
    "\n",
    "# Update layout\n",
    "fig.update_layout(\n",
    "    title='Sentiment Distribution for Bot and Human Tweets',\n",
    "    height=1500,\n",
    "    showlegend=True\n",
    ")\n",
    "\n",
    "# Display the plot\n",
    "fig.show()"
   ]
  }
 ],
 "metadata": {
  "kernelspec": {
   "display_name": "Python 3",
   "language": "python",
   "name": "python3"
  },
  "language_info": {
   "codemirror_mode": {
    "name": "ipython",
    "version": 3
   },
   "file_extension": ".py",
   "mimetype": "text/x-python",
   "name": "python",
   "nbconvert_exporter": "python",
   "pygments_lexer": "ipython3",
   "version": "3.12.7"
  }
 },
 "nbformat": 4,
 "nbformat_minor": 2
}
