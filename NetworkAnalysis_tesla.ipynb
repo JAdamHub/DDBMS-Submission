{
 "cells": [
  {
   "cell_type": "markdown",
   "metadata": {},
   "source": [
    "## Libraries Setup"
   ]
  },
  {
   "cell_type": "code",
   "execution_count": 1,
   "metadata": {},
   "outputs": [],
   "source": [
    "!pip install -r requirements.txt -q"
   ]
  },
  {
   "cell_type": "code",
   "execution_count": 2,
   "metadata": {},
   "outputs": [
    {
     "name": "stderr",
     "output_type": "stream",
     "text": [
      "/Users/markushenriksson/Desktop/Data/Python/DDBMS-Submission/.conda/lib/python3.11/site-packages/tqdm/auto.py:21: TqdmWarning: IProgress not found. Please update jupyter and ipywidgets. See https://ipywidgets.readthedocs.io/en/stable/user_install.html\n",
      "  from .autonotebook import tqdm as notebook_tqdm\n"
     ]
    },
    {
     "ename": "ModuleNotFoundError",
     "evalue": "No module named 'hdbscan'",
     "output_type": "error",
     "traceback": [
      "\u001b[0;31m---------------------------------------------------------------------------\u001b[0m",
      "\u001b[0;31mModuleNotFoundError\u001b[0m                       Traceback (most recent call last)",
      "Cell \u001b[0;32mIn[2], line 12\u001b[0m\n\u001b[1;32m     10\u001b[0m \u001b[38;5;28;01mfrom\u001b[39;00m \u001b[38;5;21;01msentence_transformers\u001b[39;00m \u001b[38;5;28;01mimport\u001b[39;00m SentenceTransformer\n\u001b[1;32m     11\u001b[0m \u001b[38;5;28;01mimport\u001b[39;00m \u001b[38;5;21;01mumap\u001b[39;00m\n\u001b[0;32m---> 12\u001b[0m \u001b[38;5;28;01mimport\u001b[39;00m \u001b[38;5;21;01mhdbscan\u001b[39;00m\n\u001b[1;32m     13\u001b[0m \u001b[38;5;28;01mimport\u001b[39;00m \u001b[38;5;21;01mmatplotlib\u001b[39;00m\u001b[38;5;21;01m.\u001b[39;00m\u001b[38;5;21;01mpyplot\u001b[39;00m \u001b[38;5;28;01mas\u001b[39;00m \u001b[38;5;21;01mplt\u001b[39;00m\n\u001b[1;32m     14\u001b[0m \u001b[38;5;28;01mimport\u001b[39;00m \u001b[38;5;21;01mplotly\u001b[39;00m\u001b[38;5;21;01m.\u001b[39;00m\u001b[38;5;21;01mexpress\u001b[39;00m \u001b[38;5;28;01mas\u001b[39;00m \u001b[38;5;21;01mpx\u001b[39;00m\n",
      "\u001b[0;31mModuleNotFoundError\u001b[0m: No module named 'hdbscan'"
     ]
    }
   ],
   "source": [
    "# Datahandling\n",
    "import requests\n",
    "import os\n",
    "os.environ[\"TOKENIZERS_PARALLELISM\"] = \"false\"\n",
    "import numpy as np\n",
    "import pandas as pd\n",
    "import seaborn as sns\n",
    "\n",
    "# Tweet Themes\n",
    "from sentence_transformers import SentenceTransformer\n",
    "import umap\n",
    "import hdbscan\n",
    "import matplotlib.pyplot as plt\n",
    "import plotly.express as px\n",
    "\n",
    "# Network analysis\n",
    "from typing import List, Optional\n",
    "import json\n",
    "import matplotlib.patches as mpatches\n",
    "import networkx as nx\n",
    "from community import community_louvain\n",
    "import plotly.graph_objects as go\n",
    "import random\n",
    "from collections import defaultdict\n",
    "import nbformat\n",
    "\n",
    "# Model prediction\n",
    "from setfit import SetFitModel, SetFitTrainer\n",
    "from sklearn.metrics import classification_report\n",
    "import tiktoken\n",
    "\n",
    "# LLM\n",
    "import tiktoken\n",
    "import pandas as pd\n",
    "import json\n",
    "import time\n",
    "from concurrent.futures import ThreadPoolExecutor\n",
    "from queue import Queue\n",
    "import threading\n",
    "from openai import OpenAI\n",
    "from pydantic import BaseModel, Field\n",
    "from typing import List, Optional\n",
    "import textwrap\n"
   ]
  },
  {
   "cell_type": "markdown",
   "metadata": {},
   "source": [
    "## Data import"
   ]
  },
  {
   "cell_type": "code",
   "execution_count": 3,
   "metadata": {},
   "outputs": [],
   "source": [
    "# data sampling? 20000\n",
    "data = pd.read_csv('predictions_output.csv')\n",
    "# data = data.sample(n=2000, random_state=42)"
   ]
  },
  {
   "cell_type": "code",
   "execution_count": 4,
   "metadata": {},
   "outputs": [
    {
     "name": "stdout",
     "output_type": "stream",
     "text": [
      "Data with label=0: 140 rows\n",
      "Data with label=1: 98 rows\n"
     ]
    }
   ],
   "source": [
    "# Split the data based on the `label` column\n",
    "data_label_0 = data[data['Label'] == 0]  # Subset where label=0\n",
    "data_label_1 = data[data['Label'] == 1]  # Subset where label=1\n",
    "\n",
    "# Optionally, check the sizes of the splits\n",
    "print(f\"Data with label=0: {len(data_label_0)} rows\")\n",
    "print(f\"Data with label=1: {len(data_label_1)} rows\")"
   ]
  },
  {
   "cell_type": "markdown",
   "metadata": {},
   "source": [
    "## LLM Setup"
   ]
  },
  {
   "cell_type": "code",
   "execution_count": 49,
   "metadata": {},
   "outputs": [],
   "source": [
    "# Set your Together API Key directly\n",
    "TOGETHER_API_KEY = \"\"\n",
    "\n",
    "# Check if the API key is set\n",
    "if not TOGETHER_API_KEY:\n",
    "    raise ValueError(\"The Together API Key must be provided.\")\n",
    "\n",
    "# Initialize the Together client\n",
    "client = OpenAI(\n",
    "    base_url=\"https://api.together.xyz/v1\",\n",
    "    api_key=TOGETHER_API_KEY\n",
    ")\n",
    "\n",
    "# Define the model\n",
    "model = \"meta-llama/Meta-Llama-3.1-8B-Instruct-Turbo\""
   ]
  },
  {
   "cell_type": "markdown",
   "metadata": {},
   "source": [
    "## System_Prompt + JSON_schema Setup"
   ]
  },
  {
   "cell_type": "code",
   "execution_count": 51,
   "metadata": {},
   "outputs": [],
   "source": [
    "SYSTEM_PROMPT = \"\"\"\n",
    "System Prompt:\n",
    "\n",
    "You are an advanced NLP assistant tasked with analyzing tweets about a company. Each tweet is labeled as being from either a bot (0) or a human (1). Your goals are to identify themes, assess sentiment, extract keywords, and assign significance scores. Follow these steps:\n",
    "\n",
    "Theme Identification:\n",
    "\n",
    "- Group tweets into 5-15 overall themes or mentions about the company. Themes represent key topics, issues, or narratives surrounding the company.\n",
    "- For each theme, provide subthemes or keywords that explain why the theme was chosen. These keywords should summarize the driving factors behind the theme.\n",
    "\n",
    "Sentiment Analysis:\n",
    "\n",
    "- Perform sentiment analysis for each tweet and aggregate these sentiments to determine the overall sentiment for each theme (positive, neutral, or negative).\n",
    "- Provide an average sentiment score (-1 to +1 scale) for each theme.\n",
    "\n",
    "Theme Significance:\n",
    "\n",
    "- Assign a significance score (1-100) for each theme based on how many tweets contribute to it, and other relevant metrics (e.g., impact of subthemes, relevance to overall narrative).\n",
    "\n",
    "Output Structure:\n",
    "\n",
    "For each theme, provide:\n",
    "- Theme title.\n",
    "- Sentiment summary (positive/negative/neutral, average sentiment score).\n",
    "- Subthemes/keywords explaining the causation of the theme.\n",
    "- Significance score.\n",
    "\n",
    "\n",
    "Consideration:\n",
    "\n",
    "- Focus on human-labeled tweets (1) for primary analysis but note any notable patterns from bot-labeled tweets (0).\n",
    "- Highlight anomalies or unexpected findings, if any.\n",
    "\"\"\"\n"
   ]
  },
  {
   "cell_type": "code",
   "execution_count": 53,
   "metadata": {},
   "outputs": [],
   "source": [
    "json_schema = {\n",
    "    \"type\": \"object\",\n",
    "    \"properties\": {\n",
    "        \"themes\": {\n",
    "            \"type\": \"array\",\n",
    "            \"items\": {\n",
    "                \"type\": \"object\",\n",
    "                \"properties\": {\n",
    "                    \"theme\": {\n",
    "                        \"type\": \"string\",\n",
    "                        \"description\": \"Title of the overall theme\"\n",
    "                    },\n",
    "                    \"sentiment\": {\n",
    "                        \"type\": \"object\",\n",
    "                        \"properties\": {\n",
    "                            \"overall\": {\n",
    "                                \"type\": \"string\",\n",
    "                                \"enum\": [\"positive\", \"neutral\", \"negative\"],\n",
    "                                \"description\": \"Overall sentiment of the theme\"\n",
    "                            },\n",
    "                            \"average_score\": {\n",
    "                                \"type\": \"number\",\n",
    "                                \"minimum\": -1,\n",
    "                                \"maximum\": 1,\n",
    "                                \"description\": \"Average sentiment score of the theme\"\n",
    "                            }\n",
    "                        },\n",
    "                        \"required\": [\"overall\", \"average_score\"]\n",
    "                    },\n",
    "                    \"subthemes\": {\n",
    "                        \"type\": \"array\",\n",
    "                        \"items\": {\n",
    "                            \"type\": \"string\"\n",
    "                        },\n",
    "                        \"description\": \"List of keywords or subthemes driving the main theme\"\n",
    "                    },\n",
    "                    \"significance\": {\n",
    "                        \"type\": \"integer\",\n",
    "                        \"minimum\": 1,\n",
    "                        \"maximum\": 100,\n",
    "                        \"description\": \"Significance score of the theme\"\n",
    "                    }\n",
    "                },\n",
    "                \"required\": [\"theme\", \"sentiment\", \"subthemes\", \"significance\"]\n",
    "            }\n",
    "        }\n",
    "    },\n",
    "    \"required\": [\"themes\"]\n",
    "}\n"
   ]
  },
  {
   "cell_type": "code",
   "execution_count": null,
   "metadata": {},
   "outputs": [
    {
     "name": "stderr",
     "output_type": "stream",
     "text": [
      "/Users/markushenriksson/Desktop/Data/Python/DDBMS-Submission/.conda/lib/python3.12/site-packages/pydantic/fields.py:1032: PydanticDeprecatedSince20:\n",
      "\n",
      "Using extra keyword arguments on `Field` is deprecated and will be removed. Use `json_schema_extra` instead. (Extra keys: 'enum'). Deprecated in Pydantic V2.0 to be removed in V3.0. See Pydantic V2 Migration Guide at https://errors.pydantic.dev/2.10/migration/\n",
      "\n",
      "/Users/markushenriksson/Desktop/Data/Python/DDBMS-Submission/.conda/lib/python3.12/site-packages/pydantic/fields.py:1001: PydanticDeprecatedSince20:\n",
      "\n",
      "`min_items` is deprecated and will be removed, use `min_length` instead. Deprecated in Pydantic V2.0 to be removed in V3.0. See Pydantic V2 Migration Guide at https://errors.pydantic.dev/2.10/migration/\n",
      "\n"
     ]
    }
   ],
   "source": [
    "class Sentiment(BaseModel):\n",
    "    overall: str = Field(\n",
    "        description=\"Overall sentiment of the theme\",\n",
    "        enum=[\"positive\", \"neutral\", \"negative\"]\n",
    "    )\n",
    "    average_score: float = Field(\n",
    "        description=\"Average sentiment score of the theme\",\n",
    "        ge=-1,\n",
    "        le=1\n",
    "    )\n",
    "\n",
    "class Theme(BaseModel):\n",
    "    theme: str = Field(description=\"Title of the overall theme\")\n",
    "    sentiment: Sentiment = Field(description=\"Sentiment of the theme\")\n",
    "    subthemes: List[str] = Field(\n",
    "        description=\"List of keywords or subthemes driving the main theme\"\n",
    "    )\n",
    "    significance: int = Field(\n",
    "        description=\"Significance score of the theme\",\n",
    "        ge=1,\n",
    "        le=100\n",
    "    )\n",
    "\n",
    "class TweetAnalysis(BaseModel):\n",
    "    themes: List[Theme] = Field(\n",
    "        description=\"List of identified overall themes\",\n",
    "        min_items=1\n",
    "    )\n",
    "\n",
    "# Dynamically generate the JSON schema\n",
    "json_schema = TweetAnalysis.model_json_schema()\n"
   ]
  },
  {
   "cell_type": "markdown",
   "metadata": {},
   "source": [
    "## LLM-runtime"
   ]
  },
  {
   "cell_type": "code",
   "execution_count": null,
   "metadata": {},
   "outputs": [
    {
     "name": "stdout",
     "output_type": "stream",
     "text": [
      "Results saved in label_0.json\n"
     ]
    }
   ],
   "source": [
    "def rate_limited_executor(max_calls_per_minute=100):\n",
    "    \"\"\"Rate-limited executor for API calls.\"\"\"\n",
    "    call_queue = Queue()\n",
    "\n",
    "\n",
    "\n",
    "\n",
    "    def worker():\n",
    "        while True:\n",
    "            func, args, kwargs, result_queue = call_queue.get()\n",
    "            try:\n",
    "                result_queue.put(func(*args, **kwargs))\n",
    "            except Exception as e:\n",
    "                result_queue.put(e)\n",
    "            call_queue.task_done()\n",
    "            time.sleep(60 / max_calls_per_minute)\n",
    "\n",
    "\n",
    "\n",
    "\n",
    "    for _ in range(max_calls_per_minute):\n",
    "        threading.Thread(target=worker, daemon=True).start()\n",
    "\n",
    "\n",
    "\n",
    "\n",
    "    def submit(func, *args, **kwargs):\n",
    "        result_queue = Queue()\n",
    "        call_queue.put((func, args, kwargs, result_queue))\n",
    "        result = result_queue.get()\n",
    "        if isinstance(result, Exception):\n",
    "            raise result\n",
    "        return result\n",
    "\n",
    "\n",
    "\n",
    "\n",
    "    return submit\n",
    "\n",
    "\n",
    "\n",
    "\n",
    "def process_batch(tweets, executor, model, schema, batch_size):\n",
    "    \"\"\"Process one batch of tweets.\"\"\"\n",
    "    messages = [\n",
    "        {'role': 'system', 'content': SYSTEM_PROMPT},\n",
    "        {'role': 'user', 'content': json.dumps(tweets)}\n",
    "    ]\n",
    "    try:\n",
    "        response = executor(\n",
    "            client.chat.completions.create,\n",
    "            model=model,\n",
    "            messages=messages,\n",
    "            temperature=0.7,\n",
    "            response_format={\"type\": \"json_object\", \"schema\": schema},\n",
    "            max_tokens=8192\n",
    "        )\n",
    "        return {\n",
    "            'batch_size': len(tweets),\n",
    "            'response': response.choices[0].message.content\n",
    "        }\n",
    "    except Exception as e:\n",
    "        return {\n",
    "            'batch_size': len(tweets),\n",
    "            'error': str(e)\n",
    "        }\n",
    "\n",
    "\n",
    "\n",
    "\n",
    "def parallel_process_tweets(data, batch_size, max_workers, model, schema):\n",
    "    \"\"\"Parallel processing of tweets with rate-limiting.\"\"\"\n",
    "    executor = rate_limited_executor(max_calls_per_minute=60)\n",
    "    results = []\n",
    "\n",
    "\n",
    "\n",
    "\n",
    "    def process_and_collect(batch):\n",
    "        tweets = batch['Tweet_text'].tolist()\n",
    "        return process_batch(tweets, executor, model, schema, batch_size)\n",
    "\n",
    "\n",
    "\n",
    "\n",
    "    with ThreadPoolExecutor(max_workers=max_workers) as pool:\n",
    "        batches = [data.iloc[i:i + batch_size] for i in range(0, len(data), batch_size)]\n",
    "        futures = [pool.submit(process_and_collect, batch) for batch in batches]\n",
    "        for future in futures:\n",
    "            results.append(future.result())\n",
    "\n",
    "\n",
    "\n",
    "\n",
    "    return pd.DataFrame(results)\n",
    "\n",
    "\n",
    "\n",
    "\n",
    "def save_results(data, filename):\n",
    "    \"\"\"Save data to JSON file.\"\"\"\n",
    "    try:\n",
    "        with open(filename, 'w', encoding='utf-8') as f:\n",
    "            json.dump(data, f, ensure_ascii=False, indent=4)\n",
    "        print(f\"Results saved in {filename}\")\n",
    "    except Exception as e:\n",
    "        print(f\"Error during saving: {e}\")\n",
    "\n",
    "\n",
    "\n",
    "\n",
    "# Assuming 'data_label_0' is your DataFrame filtered for label 0\n",
    "processed_tweets = parallel_process_tweets(\n",
    "    data=data_label_0,  # Use the data_label_0 DataFrame\n",
    "    batch_size=10,      # Batch size\n",
    "    max_workers=6,     # Number of parallel threads\n",
    "    model=model,        # Your model variable\n",
    "    schema=json_schema  # Your JSON schema variable\n",
    ")\n",
    "\n",
    "\n",
    "\n",
    "\n",
    "# Save the results to label_0_1.json\n",
    "save_results(processed_tweets.to_dict(orient=\"records\"), \"label_0.json\")"
   ]
  },
  {
   "cell_type": "code",
   "execution_count": null,
   "metadata": {},
   "outputs": [
    {
     "name": "stdout",
     "output_type": "stream",
     "text": [
      "Results saved in label_1.json\n"
     ]
    }
   ],
   "source": [
    "def rate_limited_executor(max_calls_per_minute=100):\n",
    "    \"\"\"Rate-limited executor for API calls.\"\"\"\n",
    "    call_queue = Queue()\n",
    "\n",
    "    def worker():\n",
    "        while True:\n",
    "            func, args, kwargs, result_queue = call_queue.get()\n",
    "            try:\n",
    "                result_queue.put(func(*args, **kwargs))\n",
    "            except Exception as e:\n",
    "                result_queue.put(e)\n",
    "            call_queue.task_done()\n",
    "            time.sleep(60 / max_calls_per_minute)\n",
    "\n",
    "    for _ in range(max_calls_per_minute):\n",
    "        threading.Thread(target=worker, daemon=True).start()\n",
    "\n",
    "    def submit(func, *args, **kwargs):\n",
    "        result_queue = Queue()\n",
    "        call_queue.put((func, args, kwargs, result_queue))\n",
    "        result = result_queue.get()\n",
    "        if isinstance(result, Exception):\n",
    "            raise result\n",
    "        return result\n",
    "\n",
    "    return submit\n",
    "\n",
    "def process_batch(tweets, executor, model, schema, batch_size):\n",
    "    \"\"\"Process one batch of tweets.\"\"\"\n",
    "    messages = [\n",
    "        {'role': 'system', 'content': SYSTEM_PROMPT},\n",
    "        {'role': 'user', 'content': json.dumps(tweets)}\n",
    "    ]\n",
    "    try:\n",
    "        response = executor(\n",
    "            client.chat.completions.create,\n",
    "            model=model,\n",
    "            messages=messages,\n",
    "            temperature=0.7,\n",
    "            response_format={\"type\": \"json_object\", \"schema\": schema},\n",
    "            max_tokens=8192\n",
    "        )\n",
    "        return {\n",
    "            'batch_size': len(tweets),\n",
    "            'response': response.choices[0].message.content\n",
    "        }\n",
    "    except Exception as e:\n",
    "        return {\n",
    "            'batch_size': len(tweets),\n",
    "            'error': str(e)\n",
    "        }\n",
    "\n",
    "def parallel_process_tweets(data, batch_size, max_workers, model, schema):\n",
    "    \"\"\"Parallel processing of tweets with rate-limiting.\"\"\"\n",
    "    executor = rate_limited_executor(max_calls_per_minute=60)\n",
    "    results = []\n",
    "\n",
    "    def process_and_collect(batch):\n",
    "        tweets = batch['Tweet_text'].tolist()\n",
    "        return process_batch(tweets, executor, model, schema, batch_size)\n",
    "\n",
    "    with ThreadPoolExecutor(max_workers=max_workers) as pool:\n",
    "        batches = [data.iloc[i:i + batch_size] for i in range(0, len(data), batch_size)]\n",
    "        futures = [pool.submit(process_and_collect, batch) for batch in batches]\n",
    "        for future in futures:\n",
    "            results.append(future.result())\n",
    "\n",
    "    return pd.DataFrame(results)\n",
    "\n",
    "def save_results(data, filename):\n",
    "    \"\"\"Save data to JSON file.\"\"\"\n",
    "    try:\n",
    "        with open(filename, 'w', encoding='utf-8') as f:\n",
    "            json.dump(data, f, ensure_ascii=False, indent=4)\n",
    "        print(f\"Results saved in {filename}\")\n",
    "    except Exception as e:\n",
    "        print(f\"Error during saving: {e}\")\n",
    "\n",
    "# Assuming 'data_label_1' is your DataFrame filtered for label 1\n",
    "processed_tweets = parallel_process_tweets(\n",
    "    data=data_label_1,  # Use the data_label_1 DataFrame\n",
    "    batch_size=10,      # Batch size\n",
    "    max_workers=6,      # Number of parallel threads\n",
    "    model=model,        # Your model variable\n",
    "    schema=json_schema  # Your JSON schema variable\n",
    ")\n",
    "\n",
    "# Save the results to label_1.json\n",
    "save_results(processed_tweets.to_dict(orient=\"records\"), \"label_1.json\")\n"
   ]
  },
  {
   "cell_type": "code",
   "execution_count": null,
   "metadata": {},
   "outputs": [
    {
     "data": {
      "application/vnd.plotly.v1+json": {
       "config": {
        "plotlyServerURL": "https://plot.ly"
       },
       "data": [
        {
         "hoverinfo": "text",
         "hovertext": [
          "Theme: Tesla Product Development<br>Type: Bot<br>Significance: 80%<br>Subthemes: Tesla Phone, Starlink Integration, Cybertruck Features<br>Sentiment: positive<br>Average Score: 0.8",
          "Theme: Tesla Brand and Leadership<br>Type: Bot<br>Significance: 85%<br>Subthemes: Elon Musk, Tesla Team Performance<br>Sentiment: positive<br>Average Score: 0.95",
          "Theme: Industry Trends and Competitiveness<br>Type: Bot<br>Significance: 90%<br>Subthemes: Self-Driving Cars, Robotaxis, Distributed AI Compute<br>Sentiment: positive<br>Average Score: 0.9",
          "Theme: Positive Reviews of Tesla's Models<br>Type: Bot<br>Significance: 80%<br>Subthemes: effectiveness of sunshade, impressive performance of Model 3, amazing FSD capabilities<br>Sentiment: positive<br>Average Score: 0.9",
          "Theme: Tesla Safety and Reliability Concerns<br>Type: Bot<br>Significance: 90%<br>Subthemes: Tesla's ranking on unsafe cars list, German reliability study results<br>Sentiment: negative<br>Average Score: -0.7",
          "Theme: Cybertruck Accidents<br>Type: Bot<br>Significance: 80%<br>Subthemes: Lack of safety features, Human error, Tesla responsibility<br>Sentiment: negative<br>Average Score: -0.7",
          "Theme: Cybertruck Advertising and Popularity<br>Type: Bot<br>Significance: 80%<br>Subthemes: effective advertising,  Tesla fan culture<br>Sentiment: positive<br>Average Score: 0.9",
          "Theme: Cybertruck Safety Concerns<br>Type: Bot<br>Significance: 90%<br>Subthemes: vehicle safety, recalls<br>Sentiment: negative<br>Average Score: -0.85",
          "Theme: Cybertruck Performance and Utility<br>Type: Bot<br>Significance: 85%<br>Subthemes: towing capacity, performance<br>Sentiment: positive<br>Average Score: 0.95",
          "Theme: General Tesla and Electric Vehicles<br>Type: Bot<br>Significance: 80%<br>Subthemes: Tesla brand, electric vehicles<br>Sentiment: positive<br>Average Score: 0.8"
         ],
         "marker": {
          "color": [
           "rgb(34,139,34)",
           "rgb(34,139,34)",
           "rgb(34,139,34)",
           "rgb(34,139,34)",
           "rgb(255,69,0)",
           "rgb(255,69,0)",
           "rgb(34,139,34)",
           "rgb(255,69,0)",
           "rgb(34,139,34)",
           "rgb(34,139,34)"
          ],
          "line": {
           "color": "rgb(139,0,0)",
           "width": 1
          },
          "size": [
           26,
           27,
           28,
           26,
           28,
           26,
           26,
           28,
           27,
           26
          ]
         },
         "mode": "markers",
         "name": "Bot Themes",
         "type": "scatter",
         "x": [
          -4.5245090866317526,
          -15.54800020770688,
          -6.396458134402495,
          -8.783248814724615,
          -9.109018143726658,
          -9.658685296594788,
          -14.069059894702603,
          -6.260510583296991,
          -9.009038485098412,
          -8.408806972298015
         ],
         "y": [
          -11.242626502254215,
          -9.772833265604248,
          -7.870929813635591,
          -11.280723543036896,
          -5.533852395784558,
          -7.895894474251944,
          -8.24395090359341,
          -7.414753817175769,
          -6.181247395319316,
          -9.238488809807492
         ]
        },
        {
         "hoverinfo": "text",
         "hovertext": [
          "Theme: Tesla's Product Line<br>Type: Non-Bot<br>Significance: 80%<br>Subthemes: Tesla phone, Tesla car, Tesla model Y Juniper<br>Sentiment: positive<br>Average Score: 0.75",
          "Theme: Tesla's Brand and Identity<br>Type: Non-Bot<br>Significance: 85%<br>Subthemes: Tesla's style, Tesla's aesthetic, orange<br>Sentiment: positive<br>Average Score: 0.88",
          "Theme: Tesla's Innovative Designs<br>Type: Non-Bot<br>Significance: 80%<br>Subthemes: cybertruck, cybercab, tesla robots<br>Sentiment: positive<br>Average Score: 0.8",
          "Theme: Elon Musk's Vision and Ambition<br>Type: Non-Bot<br>Significance: 80%<br>Subthemes: Mars colonization, Neuralink, Tesla's mission, Elon's leadership, Humanity's future<br>Sentiment: positive<br>Average Score: 0.8",
          "Theme: Elon Musk's Character and Leadership<br>Type: Non-Bot<br>Significance: 90%<br>Subthemes: Elon's integrity, Leadership style, Inspiration<br>Sentiment: positive<br>Average Score: 0.9",
          "Theme: Tesla Appreciation<br>Type: Non-Bot<br>Significance: 85%<br>Subthemes: car performance, tesla model y, tesla model 3, elon musk, investment in tesla, innovation<br>Sentiment: positive<br>Average Score: 0.9",
          "Theme: Investor Confidence<br>Type: Non-Bot<br>Significance: 80%<br>Subthemes: investing in tesla, elon musk leadership, stock market performance<br>Sentiment: positive<br>Average Score: 0.8",
          "Theme: Tesla Product Features<br>Type: Non-Bot<br>Significance: 90%<br>Subthemes: tesla model y juniper, performance ventilated seats, new interior trim, handling and acceleration<br>Sentiment: positive<br>Average Score: 0.9",
          "Theme: Tesla Model Y Refresh (Project Juniper)<br>Type: Non-Bot<br>Significance: 85%<br>Subthemes: Battery and Charging, Headlights and Tail Lights, Safety Features<br>Sentiment: positive<br>Average Score: 0.81",
          "Theme: Tesla's Pricing and Incentives<br>Type: Non-Bot<br>Significance: 80%<br>Subthemes: Discounts and Rebates, Financing Options<br>Sentiment: positive<br>Average Score: 0.92",
          "Theme: Tesla's Sales Performance<br>Type: Non-Bot<br>Significance: 90%<br>Subthemes: best-selling car, record-breaking sales, market share<br>Sentiment: positive<br>Average Score: 0.8",
          "Theme: Tesla's History and Milestones<br>Type: Non-Bot<br>Significance: 80%<br>Subthemes: launch anniversary, model y production, milestones<br>Sentiment: positive<br>Average Score: 0.7",
          "Theme: Tesla's Product Line and Options<br>Type: Non-Bot<br>Significance: 95%<br>Subthemes: model s, model 3, cybertruck, lease options<br>Sentiment: positive<br>Average Score: 0.9",
          "Theme: Tesla's Global Presence and Sales<br>Type: Non-Bot<br>Significance: 85%<br>Subthemes: japan sales, record-breaking sales, global presence<br>Sentiment: positive<br>Average Score: 0.6",
          "Theme: Model 3 Performance and Features<br>Type: Non-Bot<br>Significance: 80%<br>Subthemes: acceleration, handling, interior design, range, price<br>Sentiment: positive<br>Average Score: 0.83",
          "Theme: Model 3 Value and Pricing<br>Type: Non-Bot<br>Significance: 80%<br>Subthemes: price, value for money<br>Sentiment: positive<br>Average Score: 0.9",
          "Theme: New Tesla Model 3 Features<br>Type: Non-Bot<br>Significance: 80%<br>Subthemes: Range Increase, New Rear Passenger Screen, Stalkless Steering, Reduced Road Noise, Upgraded Suspension, Ventilated Front Seats, Improved Audio<br>Sentiment: positive<br>Average Score: 0.8",
          "Theme: New Features and Upgrades<br>Type: Non-Bot<br>Significance: 80%<br>Subthemes: Increased Range, Aesthetic Enhancements, Upgraded Features, Performance Improvements<br>Sentiment: positive<br>Average Score: 0.85",
          "Theme: Warranty and Maintenance<br>Type: Non-Bot<br>Significance: 85%<br>Subthemes: Depreciation, Cost Savings, Potential Income Streams<br>Sentiment: positive<br>Average Score: 0.9",
          "Theme: Tesla Model 3 Praise<br>Type: Non-Bot<br>Significance: 80%<br>Subthemes: performance, technology, efficiency, driving_range<br>Sentiment: positive<br>Average Score: 0.8",
          "Theme: Cybertruck Quality and Defects<br>Type: Non-Bot<br>Significance: 80%<br>Subthemes: defective wheels, unreliable performance, ugly design<br>Sentiment: negative<br>Average Score: -0.7",
          "Theme: Cybertruck Performance and Capability<br>Type: Non-Bot<br>Significance: 90%<br>Subthemes: impressive off-road performance, beast mode<br>Sentiment: positive<br>Average Score: 0.8",
          "Theme: Negative Public Perception<br>Type: Non-Bot<br>Significance: 85%<br>Subthemes: comedy and ridicule, environmental concerns, safety issues, unrealistic expectations, poor reviews<br>Sentiment: negative<br>Average Score: -0.67",
          "Theme: Cybertruck Performance<br>Type: Non-Bot<br>Significance: 95%<br>Subthemes: ride quality, air suspension, four-wheel steering, Acceleration, Handling<br>Sentiment: positive<br>Average Score: 0.58",
          "Theme: Ownership Experience<br>Type: Non-Bot<br>Significance: 90%<br>Subthemes: amazing driving experience, impressive technology, beautiful design, satisfaction with purchase<br>Sentiment: positive<br>Average Score: 0.83",
          "Theme: Cybertruck Safety<br>Type: Non-Bot<br>Significance: 88%<br>Subthemes: vehicle fires, accidents involving pedestrians, stuck windows, trapped and burned, safety concerns<br>Sentiment: negative<br>Average Score: -0.83",
          "Theme: Cybertruck Design and Features<br>Type: Non-Bot<br>Significance: 87%<br>Subthemes: Aesthetics, Performance, Technology Integration<br>Sentiment: positive<br>Average Score: 0.64",
          "Theme: Cybertruck Adventure and Travel<br>Type: Non-Bot<br>Significance: 81%<br>Subthemes: Travel and Exploration, Adventurous Spirit<br>Sentiment: positive<br>Average Score: 0.82"
         ],
         "marker": {
          "color": [
           "rgb(30,144,255)",
           "rgb(30,144,255)",
           "rgb(30,144,255)",
           "rgb(30,144,255)",
           "rgb(30,144,255)",
           "rgb(30,144,255)",
           "rgb(30,144,255)",
           "rgb(30,144,255)",
           "rgb(30,144,255)",
           "rgb(30,144,255)",
           "rgb(30,144,255)",
           "rgb(30,144,255)",
           "rgb(30,144,255)",
           "rgb(30,144,255)",
           "rgb(30,144,255)",
           "rgb(30,144,255)",
           "rgb(30,144,255)",
           "rgb(30,144,255)",
           "rgb(30,144,255)",
           "rgb(30,144,255)",
           "rgb(255,99,71)",
           "rgb(30,144,255)",
           "rgb(255,99,71)",
           "rgb(30,144,255)",
           "rgb(30,144,255)",
           "rgb(255,99,71)",
           "rgb(30,144,255)",
           "rgb(30,144,255)"
          ],
          "line": {
           "color": "rgb(0,100,0)",
           "width": 1
          },
          "size": [
           26,
           27,
           26,
           26,
           28,
           27,
           26,
           28,
           27,
           26,
           28,
           26,
           29,
           27,
           26,
           26,
           26,
           26,
           27,
           26,
           26,
           28,
           27,
           29,
           28,
           27.6,
           27.4,
           26.2
          ]
         },
         "mode": "markers",
         "name": "Non-Bot Themes",
         "type": "scatter",
         "x": [
          9.382917704134345,
          7.692790306903898,
          11.648858337989868,
          16.550920037354746,
          11.283243338388571,
          13.667666054338545,
          7.91088405176775,
          11.417016639928555,
          13.954112523583822,
          9.122034695471221,
          12.572393209512793,
          9.834227448899139,
          16.779996091407885,
          10.782531658848546,
          9.955185523074245,
          12.45094039082336,
          13.685067545677644,
          9.070537031636666,
          5.948663682235646,
          10.34335621040856,
          0.1750118592872365,
          8.669798815955815,
          7.359577830309268,
          10.078732584658097,
          11.216775926277034,
          7.5627640857296035,
          8.227303525465876,
          12.712354088974381
         ],
         "y": [
          12.854751323284711,
          8.400485126109322,
          5.374383194570335,
          9.171315488477546,
          8.605048906169685,
          11.954582065645562,
          11.56848075295986,
          8.284033190173334,
          8.290129756784836,
          8.341006817237536,
          9.865202342572523,
          12.254302661397412,
          15.046212786871953,
          9.975071104467503,
          12.431525641701466,
          11.219354354110052,
          11.008007521305286,
          13.114009946443288,
          9.276449414228594,
          11.592072003284716,
          5.032292383240881,
          11.936761716990492,
          8.836822821917439,
          10.223572132617951,
          9.339369539931246,
          14.12870420252666,
          4.2836445834023325,
          12.951317361758168
         ]
        }
       ],
       "layout": {
        "height": 800,
        "hovermode": "closest",
        "legend": {
         "bgcolor": "rgba(255,255,255,0.5)",
         "bordercolor": "black",
         "borderwidth": 1,
         "x": 0.85,
         "y": 1
        },
        "plot_bgcolor": "rgb(240,240,240)",
        "showlegend": true,
        "template": {
         "data": {
          "bar": [
           {
            "error_x": {
             "color": "#2a3f5f"
            },
            "error_y": {
             "color": "#2a3f5f"
            },
            "marker": {
             "line": {
              "color": "#E5ECF6",
              "width": 0.5
             },
             "pattern": {
              "fillmode": "overlay",
              "size": 10,
              "solidity": 0.2
             }
            },
            "type": "bar"
           }
          ],
          "barpolar": [
           {
            "marker": {
             "line": {
              "color": "#E5ECF6",
              "width": 0.5
             },
             "pattern": {
              "fillmode": "overlay",
              "size": 10,
              "solidity": 0.2
             }
            },
            "type": "barpolar"
           }
          ],
          "carpet": [
           {
            "aaxis": {
             "endlinecolor": "#2a3f5f",
             "gridcolor": "white",
             "linecolor": "white",
             "minorgridcolor": "white",
             "startlinecolor": "#2a3f5f"
            },
            "baxis": {
             "endlinecolor": "#2a3f5f",
             "gridcolor": "white",
             "linecolor": "white",
             "minorgridcolor": "white",
             "startlinecolor": "#2a3f5f"
            },
            "type": "carpet"
           }
          ],
          "choropleth": [
           {
            "colorbar": {
             "outlinewidth": 0,
             "ticks": ""
            },
            "type": "choropleth"
           }
          ],
          "contour": [
           {
            "colorbar": {
             "outlinewidth": 0,
             "ticks": ""
            },
            "colorscale": [
             [
              0,
              "#0d0887"
             ],
             [
              0.1111111111111111,
              "#46039f"
             ],
             [
              0.2222222222222222,
              "#7201a8"
             ],
             [
              0.3333333333333333,
              "#9c179e"
             ],
             [
              0.4444444444444444,
              "#bd3786"
             ],
             [
              0.5555555555555556,
              "#d8576b"
             ],
             [
              0.6666666666666666,
              "#ed7953"
             ],
             [
              0.7777777777777778,
              "#fb9f3a"
             ],
             [
              0.8888888888888888,
              "#fdca26"
             ],
             [
              1,
              "#f0f921"
             ]
            ],
            "type": "contour"
           }
          ],
          "contourcarpet": [
           {
            "colorbar": {
             "outlinewidth": 0,
             "ticks": ""
            },
            "type": "contourcarpet"
           }
          ],
          "heatmap": [
           {
            "colorbar": {
             "outlinewidth": 0,
             "ticks": ""
            },
            "colorscale": [
             [
              0,
              "#0d0887"
             ],
             [
              0.1111111111111111,
              "#46039f"
             ],
             [
              0.2222222222222222,
              "#7201a8"
             ],
             [
              0.3333333333333333,
              "#9c179e"
             ],
             [
              0.4444444444444444,
              "#bd3786"
             ],
             [
              0.5555555555555556,
              "#d8576b"
             ],
             [
              0.6666666666666666,
              "#ed7953"
             ],
             [
              0.7777777777777778,
              "#fb9f3a"
             ],
             [
              0.8888888888888888,
              "#fdca26"
             ],
             [
              1,
              "#f0f921"
             ]
            ],
            "type": "heatmap"
           }
          ],
          "heatmapgl": [
           {
            "colorbar": {
             "outlinewidth": 0,
             "ticks": ""
            },
            "colorscale": [
             [
              0,
              "#0d0887"
             ],
             [
              0.1111111111111111,
              "#46039f"
             ],
             [
              0.2222222222222222,
              "#7201a8"
             ],
             [
              0.3333333333333333,
              "#9c179e"
             ],
             [
              0.4444444444444444,
              "#bd3786"
             ],
             [
              0.5555555555555556,
              "#d8576b"
             ],
             [
              0.6666666666666666,
              "#ed7953"
             ],
             [
              0.7777777777777778,
              "#fb9f3a"
             ],
             [
              0.8888888888888888,
              "#fdca26"
             ],
             [
              1,
              "#f0f921"
             ]
            ],
            "type": "heatmapgl"
           }
          ],
          "histogram": [
           {
            "marker": {
             "pattern": {
              "fillmode": "overlay",
              "size": 10,
              "solidity": 0.2
             }
            },
            "type": "histogram"
           }
          ],
          "histogram2d": [
           {
            "colorbar": {
             "outlinewidth": 0,
             "ticks": ""
            },
            "colorscale": [
             [
              0,
              "#0d0887"
             ],
             [
              0.1111111111111111,
              "#46039f"
             ],
             [
              0.2222222222222222,
              "#7201a8"
             ],
             [
              0.3333333333333333,
              "#9c179e"
             ],
             [
              0.4444444444444444,
              "#bd3786"
             ],
             [
              0.5555555555555556,
              "#d8576b"
             ],
             [
              0.6666666666666666,
              "#ed7953"
             ],
             [
              0.7777777777777778,
              "#fb9f3a"
             ],
             [
              0.8888888888888888,
              "#fdca26"
             ],
             [
              1,
              "#f0f921"
             ]
            ],
            "type": "histogram2d"
           }
          ],
          "histogram2dcontour": [
           {
            "colorbar": {
             "outlinewidth": 0,
             "ticks": ""
            },
            "colorscale": [
             [
              0,
              "#0d0887"
             ],
             [
              0.1111111111111111,
              "#46039f"
             ],
             [
              0.2222222222222222,
              "#7201a8"
             ],
             [
              0.3333333333333333,
              "#9c179e"
             ],
             [
              0.4444444444444444,
              "#bd3786"
             ],
             [
              0.5555555555555556,
              "#d8576b"
             ],
             [
              0.6666666666666666,
              "#ed7953"
             ],
             [
              0.7777777777777778,
              "#fb9f3a"
             ],
             [
              0.8888888888888888,
              "#fdca26"
             ],
             [
              1,
              "#f0f921"
             ]
            ],
            "type": "histogram2dcontour"
           }
          ],
          "mesh3d": [
           {
            "colorbar": {
             "outlinewidth": 0,
             "ticks": ""
            },
            "type": "mesh3d"
           }
          ],
          "parcoords": [
           {
            "line": {
             "colorbar": {
              "outlinewidth": 0,
              "ticks": ""
             }
            },
            "type": "parcoords"
           }
          ],
          "pie": [
           {
            "automargin": true,
            "type": "pie"
           }
          ],
          "scatter": [
           {
            "fillpattern": {
             "fillmode": "overlay",
             "size": 10,
             "solidity": 0.2
            },
            "type": "scatter"
           }
          ],
          "scatter3d": [
           {
            "line": {
             "colorbar": {
              "outlinewidth": 0,
              "ticks": ""
             }
            },
            "marker": {
             "colorbar": {
              "outlinewidth": 0,
              "ticks": ""
             }
            },
            "type": "scatter3d"
           }
          ],
          "scattercarpet": [
           {
            "marker": {
             "colorbar": {
              "outlinewidth": 0,
              "ticks": ""
             }
            },
            "type": "scattercarpet"
           }
          ],
          "scattergeo": [
           {
            "marker": {
             "colorbar": {
              "outlinewidth": 0,
              "ticks": ""
             }
            },
            "type": "scattergeo"
           }
          ],
          "scattergl": [
           {
            "marker": {
             "colorbar": {
              "outlinewidth": 0,
              "ticks": ""
             }
            },
            "type": "scattergl"
           }
          ],
          "scattermapbox": [
           {
            "marker": {
             "colorbar": {
              "outlinewidth": 0,
              "ticks": ""
             }
            },
            "type": "scattermapbox"
           }
          ],
          "scatterpolar": [
           {
            "marker": {
             "colorbar": {
              "outlinewidth": 0,
              "ticks": ""
             }
            },
            "type": "scatterpolar"
           }
          ],
          "scatterpolargl": [
           {
            "marker": {
             "colorbar": {
              "outlinewidth": 0,
              "ticks": ""
             }
            },
            "type": "scatterpolargl"
           }
          ],
          "scatterternary": [
           {
            "marker": {
             "colorbar": {
              "outlinewidth": 0,
              "ticks": ""
             }
            },
            "type": "scatterternary"
           }
          ],
          "surface": [
           {
            "colorbar": {
             "outlinewidth": 0,
             "ticks": ""
            },
            "colorscale": [
             [
              0,
              "#0d0887"
             ],
             [
              0.1111111111111111,
              "#46039f"
             ],
             [
              0.2222222222222222,
              "#7201a8"
             ],
             [
              0.3333333333333333,
              "#9c179e"
             ],
             [
              0.4444444444444444,
              "#bd3786"
             ],
             [
              0.5555555555555556,
              "#d8576b"
             ],
             [
              0.6666666666666666,
              "#ed7953"
             ],
             [
              0.7777777777777778,
              "#fb9f3a"
             ],
             [
              0.8888888888888888,
              "#fdca26"
             ],
             [
              1,
              "#f0f921"
             ]
            ],
            "type": "surface"
           }
          ],
          "table": [
           {
            "cells": {
             "fill": {
              "color": "#EBF0F8"
             },
             "line": {
              "color": "white"
             }
            },
            "header": {
             "fill": {
              "color": "#C8D4E3"
             },
             "line": {
              "color": "white"
             }
            },
            "type": "table"
           }
          ]
         },
         "layout": {
          "annotationdefaults": {
           "arrowcolor": "#2a3f5f",
           "arrowhead": 0,
           "arrowwidth": 1
          },
          "autotypenumbers": "strict",
          "coloraxis": {
           "colorbar": {
            "outlinewidth": 0,
            "ticks": ""
           }
          },
          "colorscale": {
           "diverging": [
            [
             0,
             "#8e0152"
            ],
            [
             0.1,
             "#c51b7d"
            ],
            [
             0.2,
             "#de77ae"
            ],
            [
             0.3,
             "#f1b6da"
            ],
            [
             0.4,
             "#fde0ef"
            ],
            [
             0.5,
             "#f7f7f7"
            ],
            [
             0.6,
             "#e6f5d0"
            ],
            [
             0.7,
             "#b8e186"
            ],
            [
             0.8,
             "#7fbc41"
            ],
            [
             0.9,
             "#4d9221"
            ],
            [
             1,
             "#276419"
            ]
           ],
           "sequential": [
            [
             0,
             "#0d0887"
            ],
            [
             0.1111111111111111,
             "#46039f"
            ],
            [
             0.2222222222222222,
             "#7201a8"
            ],
            [
             0.3333333333333333,
             "#9c179e"
            ],
            [
             0.4444444444444444,
             "#bd3786"
            ],
            [
             0.5555555555555556,
             "#d8576b"
            ],
            [
             0.6666666666666666,
             "#ed7953"
            ],
            [
             0.7777777777777778,
             "#fb9f3a"
            ],
            [
             0.8888888888888888,
             "#fdca26"
            ],
            [
             1,
             "#f0f921"
            ]
           ],
           "sequentialminus": [
            [
             0,
             "#0d0887"
            ],
            [
             0.1111111111111111,
             "#46039f"
            ],
            [
             0.2222222222222222,
             "#7201a8"
            ],
            [
             0.3333333333333333,
             "#9c179e"
            ],
            [
             0.4444444444444444,
             "#bd3786"
            ],
            [
             0.5555555555555556,
             "#d8576b"
            ],
            [
             0.6666666666666666,
             "#ed7953"
            ],
            [
             0.7777777777777778,
             "#fb9f3a"
            ],
            [
             0.8888888888888888,
             "#fdca26"
            ],
            [
             1,
             "#f0f921"
            ]
           ]
          },
          "colorway": [
           "#636efa",
           "#EF553B",
           "#00cc96",
           "#ab63fa",
           "#FFA15A",
           "#19d3f3",
           "#FF6692",
           "#B6E880",
           "#FF97FF",
           "#FECB52"
          ],
          "font": {
           "color": "#2a3f5f"
          },
          "geo": {
           "bgcolor": "white",
           "lakecolor": "white",
           "landcolor": "#E5ECF6",
           "showlakes": true,
           "showland": true,
           "subunitcolor": "white"
          },
          "hoverlabel": {
           "align": "left"
          },
          "hovermode": "closest",
          "mapbox": {
           "style": "light"
          },
          "paper_bgcolor": "white",
          "plot_bgcolor": "#E5ECF6",
          "polar": {
           "angularaxis": {
            "gridcolor": "white",
            "linecolor": "white",
            "ticks": ""
           },
           "bgcolor": "#E5ECF6",
           "radialaxis": {
            "gridcolor": "white",
            "linecolor": "white",
            "ticks": ""
           }
          },
          "scene": {
           "xaxis": {
            "backgroundcolor": "#E5ECF6",
            "gridcolor": "white",
            "gridwidth": 2,
            "linecolor": "white",
            "showbackground": true,
            "ticks": "",
            "zerolinecolor": "white"
           },
           "yaxis": {
            "backgroundcolor": "#E5ECF6",
            "gridcolor": "white",
            "gridwidth": 2,
            "linecolor": "white",
            "showbackground": true,
            "ticks": "",
            "zerolinecolor": "white"
           },
           "zaxis": {
            "backgroundcolor": "#E5ECF6",
            "gridcolor": "white",
            "gridwidth": 2,
            "linecolor": "white",
            "showbackground": true,
            "ticks": "",
            "zerolinecolor": "white"
           }
          },
          "shapedefaults": {
           "line": {
            "color": "#2a3f5f"
           }
          },
          "ternary": {
           "aaxis": {
            "gridcolor": "white",
            "linecolor": "white",
            "ticks": ""
           },
           "baxis": {
            "gridcolor": "white",
            "linecolor": "white",
            "ticks": ""
           },
           "bgcolor": "#E5ECF6",
           "caxis": {
            "gridcolor": "white",
            "linecolor": "white",
            "ticks": ""
           }
          },
          "title": {
           "x": 0.05
          },
          "xaxis": {
           "automargin": true,
           "gridcolor": "white",
           "linecolor": "white",
           "ticks": "",
           "title": {
            "standoff": 15
           },
           "zerolinecolor": "white",
           "zerolinewidth": 2
          },
          "yaxis": {
           "automargin": true,
           "gridcolor": "white",
           "linecolor": "white",
           "ticks": "",
           "title": {
            "standoff": 15
           },
           "zerolinecolor": "white",
           "zerolinewidth": 2
          }
         }
        },
        "title": {
         "text": "Theme Network Visualization"
        },
        "width": 1000,
        "xaxis": {
         "showgrid": false,
         "showticklabels": false,
         "title": {
          "text": "X-axis"
         },
         "zeroline": false
        },
        "yaxis": {
         "showgrid": false,
         "showticklabels": false,
         "title": {
          "text": "Y-axis"
         },
         "zeroline": false
        }
       }
      }
     },
     "metadata": {},
     "output_type": "display_data"
    }
   ],
   "source": [
    "def load_json_file(file_path):\n",
    "    \"\"\"Load JSON file safely.\"\"\"\n",
    "    try:\n",
    "        with open(file_path, 'r', encoding='utf-8') as file:\n",
    "            return json.load(file)\n",
    "    except Exception as e:\n",
    "        print(f\"Error loading JSON file {file_path}: {e}\")\n",
    "        return []\n",
    "\n",
    "def create_theme_network(data_bot, data_nonbot, min_significance=70):\n",
    "    \"\"\"Create a network graph from themes with a minimum significance level.\"\"\"\n",
    "    G = nx.Graph()\n",
    "\n",
    "    def process_data(data, is_bot=True):\n",
    "        for item in data:\n",
    "            response = item.get('response')\n",
    "            if isinstance(response, str):\n",
    "                try:\n",
    "                    response_data = json.loads(response)\n",
    "                    themes = response_data.get('themes', [])\n",
    "\n",
    "                    for theme in themes:\n",
    "                        significance = theme.get('significance', 0)\n",
    "                        if significance >= min_significance:\n",
    "                            theme_name = theme['theme']\n",
    "                            sentiment = theme.get('sentiment', {})\n",
    "                            average_score = sentiment.get('average_score', 0)\n",
    "\n",
    "                            # Classify sentiment based on average score\n",
    "                            sentiment_class = \"positive\" if average_score > 0 else \"negative\"\n",
    "                            \n",
    "                            subthemes = theme.get('subthemes', [])\n",
    "\n",
    "                            # Add or update theme node\n",
    "                            if not G.has_node(theme_name):\n",
    "                                G.add_node(theme_name,\n",
    "                                           type='theme',\n",
    "                                           is_bot=is_bot,\n",
    "                                           significance=significance,\n",
    "                                           sentiment_class=sentiment_class,\n",
    "                                           average_score=average_score,\n",
    "                                           subthemes=subthemes)\n",
    "                            else:\n",
    "                                # If node exists and bot status is different, mark as mixed\n",
    "                                current_bot_status = G.nodes[theme_name].get('is_bot')\n",
    "                                if current_bot_status != is_bot:\n",
    "                                    G.nodes[theme_name]['is_bot'] = 'mixed'\n",
    "\n",
    "                except json.JSONDecodeError:\n",
    "                    print(f\"Invalid JSON in response: {response}\")\n",
    "\n",
    "    # Process bot and non-bot data\n",
    "    process_data(data_bot, is_bot=True)\n",
    "    process_data(data_nonbot, is_bot=False)\n",
    "\n",
    "    return G\n",
    "\n",
    "def visualize_network(G):\n",
    "    \"\"\"Visualize bot, non-bot, and mixed themes in clustered regions.\"\"\"\n",
    "    # Separate nodes by bot status\n",
    "    bot_nodes = [node for node, data in G.nodes(data=True) if data.get('is_bot') == True]\n",
    "    nonbot_nodes = [node for node, data in G.nodes(data=True) if data.get('is_bot') == False]\n",
    "    mixed_nodes = [node for node, data in G.nodes(data=True) if data.get('is_bot') == 'mixed']\n",
    "\n",
    "    # Create traces for each category\n",
    "    traces = []\n",
    "\n",
    "    # Function to determine node size based on significance\n",
    "    def get_node_size(significance):\n",
    "        return 10 + (significance / 5)  # Adjust the scaling factor as needed\n",
    "\n",
    "    # Color mapping for sentiment and bot type (More distinct colors)\n",
    "    def get_node_color(is_bot, sentiment_class):\n",
    "        if is_bot and sentiment_class == 'positive':\n",
    "            return 'rgb(34,139,34)'  # Positive Bot - Forest Green\n",
    "        elif is_bot and sentiment_class == 'negative':\n",
    "            return 'rgb(255,69,0)'  # Negative Bot - Red Orange\n",
    "        elif not is_bot and sentiment_class == 'positive':\n",
    "            return 'rgb(30,144,255)'  # Positive Non-Bot - Dodger Blue\n",
    "        elif not is_bot and sentiment_class == 'negative':\n",
    "            return 'rgb(255,99,71)'  # Negative Non-Bot - Tomato\n",
    "\n",
    "    # Bot nodes - clustered in bottom left\n",
    "    if bot_nodes:\n",
    "        bot_x = np.random.normal(loc=-10, scale=3, size=len(bot_nodes))  # Increase scale for more spread\n",
    "        bot_y = np.random.normal(loc=-10, scale=3, size=len(bot_nodes))  # Increase scale for more spread\n",
    "        bot_sizes = [get_node_size(G.nodes[node]['significance']) for node in bot_nodes]\n",
    "        bot_colors = [get_node_color(G.nodes[node]['is_bot'], G.nodes[node]['sentiment_class']) for node in bot_nodes]\n",
    "        bot_trace = go.Scatter(\n",
    "            x=bot_x,\n",
    "            y=bot_y,\n",
    "            mode='markers',\n",
    "            hovertext=[\n",
    "                f\"Theme: {node}<br>\"\n",
    "                f\"Type: Bot<br>\"\n",
    "                f\"Significance: {G.nodes[node]['significance']}%<br>\"\n",
    "                f\"Subthemes: {', '.join(G.nodes[node].get('subthemes', []))}<br>\"\n",
    "                f\"Sentiment: {G.nodes[node]['sentiment_class']}<br>\"\n",
    "                f\"Average Score: {G.nodes[node]['average_score']}\"\n",
    "                for node in bot_nodes\n",
    "            ],\n",
    "            hoverinfo='text',\n",
    "            marker=dict(\n",
    "                size=bot_sizes,\n",
    "                color=bot_colors,  # Color based on sentiment\n",
    "                line=dict(width=1, color='rgb(139,0,0)')  # Dark red\n",
    "            ),\n",
    "            name='Bot Themes'\n",
    "        )\n",
    "        traces.append(bot_trace)\n",
    "\n",
    "    # Non-bot nodes - clustered in top right\n",
    "    if nonbot_nodes:\n",
    "        nonbot_x = np.random.normal(loc=10, scale=3, size=len(nonbot_nodes))  # Increase scale for more spread\n",
    "        nonbot_y = np.random.normal(loc=10, scale=3, size=len(nonbot_nodes))  # Increase scale for more spread\n",
    "        nonbot_sizes = [get_node_size(G.nodes[node]['significance']) for node in nonbot_nodes]\n",
    "        nonbot_colors = [get_node_color(G.nodes[node]['is_bot'], G.nodes[node]['sentiment_class']) for node in nonbot_nodes]\n",
    "        nonbot_trace = go.Scatter(\n",
    "            x=nonbot_x,\n",
    "            y=nonbot_y,\n",
    "            mode='markers',\n",
    "            hovertext=[\n",
    "                f\"Theme: {node}<br>\"\n",
    "                f\"Type: Non-Bot<br>\"\n",
    "                f\"Significance: {G.nodes[node]['significance']}%<br>\"\n",
    "                f\"Subthemes: {', '.join(G.nodes[node].get('subthemes', []))}<br>\"\n",
    "                f\"Sentiment: {G.nodes[node]['sentiment_class']}<br>\"\n",
    "                f\"Average Score: {G.nodes[node]['average_score']}\"\n",
    "                for node in nonbot_nodes\n",
    "            ],\n",
    "            hoverinfo='text',\n",
    "            marker=dict(\n",
    "                size=nonbot_sizes,\n",
    "                color=nonbot_colors,  # Color based on sentiment\n",
    "                line=dict(width=1, color='rgb(0,100,0)')  # Dark green\n",
    "            ),\n",
    "            name='Non-Bot Themes'\n",
    "        )\n",
    "        traces.append(nonbot_trace)\n",
    "\n",
    "    # Mixed nodes - clustered in center\n",
    "    if mixed_nodes:\n",
    "        mixed_x = np.random.normal(loc=0, scale=3, size=len(mixed_nodes))  # Increase scale for more spread\n",
    "        mixed_y = np.random.normal(loc=0, scale=3, size=len(mixed_nodes))  # Increase scale for more spread\n",
    "        mixed_sizes = [get_node_size(G.nodes[node]['significance']) for node in mixed_nodes]\n",
    "        mixed_colors = [get_node_color(G.nodes[node]['is_bot'], G.nodes[node]['sentiment_class']) for node in mixed_nodes]\n",
    "        mixed_trace = go.Scatter(\n",
    "            x=mixed_x,\n",
    "            y=mixed_y,\n",
    "            mode='markers',\n",
    "            hovertext=[\n",
    "                f\"Theme: {node}<br>\"\n",
    "                f\"Type: Mixed<br>\"\n",
    "                f\"Significance: {G.nodes[node]['significance']}%<br>\"\n",
    "                f\"Subthemes: {', '.join(G.nodes[node].get('subthemes', []))}<br>\"\n",
    "                f\"Sentiment: {G.nodes[node]['sentiment_class']}<br>\"\n",
    "                f\"Average Score: {G.nodes[node]['average_score']}\"\n",
    "                for node in mixed_nodes\n",
    "            ],\n",
    "            hoverinfo='text',\n",
    "            marker=dict(\n",
    "                size=mixed_sizes,\n",
    "                color=mixed_colors,  # Color based on sentiment\n",
    "                line=dict(width=1, color='rgb(75,0,130)')  # Indigo\n",
    "            ),\n",
    "            name='Mixed Themes'\n",
    "        )\n",
    "        traces.append(mixed_trace)\n",
    "\n",
    "    # Create figure\n",
    "    fig = go.Figure(data=traces)\n",
    "\n",
    "    # Update layout for better visualization\n",
    "    fig.update_layout(\n",
    "        title=\"Theme Network Visualization\",\n",
    "        showlegend=True,\n",
    "        hovermode='closest',\n",
    "        width=1000,\n",
    "        height=800,\n",
    "        xaxis=dict(\n",
    "            title=\"X-axis\",\n",
    "            showgrid=False,\n",
    "            zeroline=False,\n",
    "            showticklabels=False\n",
    "        ),\n",
    "        yaxis=dict(\n",
    "            title=\"Y-axis\",\n",
    "            showgrid=False,\n",
    "            zeroline=False,\n",
    "            showticklabels=False\n",
    "        ),\n",
    "        plot_bgcolor='rgb(240,240,240)',  # Light grey background\n",
    "        legend=dict(\n",
    "            x=0.85,\n",
    "            y=1,\n",
    "            bgcolor='rgba(255,255,255,0.5)',\n",
    "            bordercolor='black',\n",
    "            borderwidth=1\n",
    "        )\n",
    "    )\n",
    "\n",
    "    fig.show()\n",
    "\n",
    "\n",
    "if __name__ == \"__main__\":\n",
    "    # Load bot and non-bot data\n",
    "    bot_data = load_json_file('label_1.json')  # Bot data\n",
    "    nonbot_data = load_json_file('label_0.json')  # Non-bot data\n",
    "\n",
    "    # Create and visualize the graph\n",
    "    graph = create_theme_network(bot_data, nonbot_data, min_significance=80)\n",
    "    visualize_network(graph)\n"
   ]
  },
  {
   "cell_type": "code",
   "execution_count": null,
   "metadata": {},
   "outputs": [
    {
     "data": {
      "application/vnd.plotly.v1+json": {
       "config": {
        "plotlyServerURL": "https://plot.ly"
       },
       "data": [
        {
         "hoverinfo": "text",
         "hovertext": [
          "Theme: Tesla's Product Line<br>Type: Bot<br>Significance: 80%<br>Subthemes: Tesla phone, Tesla car, Tesla model Y Juniper<br>Sentiment: positive<br>Average Score: 0.75",
          "Theme: Optimus and Tesla's Ambitions<br>Type: Bot<br>Significance: 70%<br>Subthemes: Tesla Optimus, wild, ambitious<br>Sentiment: positive<br>Average Score: 0.83",
          "Theme: Tesla's Brand and Identity<br>Type: Bot<br>Significance: 85%<br>Subthemes: Tesla's style, Tesla's aesthetic, orange<br>Sentiment: positive<br>Average Score: 0.88",
          "Theme: Tesla's Innovative Designs<br>Type: Bot<br>Significance: 80%<br>Subthemes: cybertruck, cybercab, tesla robots<br>Sentiment: positive<br>Average Score: 0.8",
          "Theme: Elon Musk's Vision and Ambition<br>Type: Bot<br>Significance: 80%<br>Subthemes: Mars colonization, Neuralink, Tesla's mission, Elon's leadership, Humanity's future<br>Sentiment: positive<br>Average Score: 0.8",
          "Theme: Tesla's Products and Innovation<br>Type: Bot<br>Significance: 70%<br>Subthemes: Tesla CyberCab, Robocap, Tesla robot, Innovative technology<br>Sentiment: positive<br>Average Score: 0.9",
          "Theme: Elon Musk's Character and Leadership<br>Type: Bot<br>Significance: 90%<br>Subthemes: Elon's integrity, Leadership style, Inspiration<br>Sentiment: positive<br>Average Score: 0.9",
          "Theme: Tesla Appreciation<br>Type: Bot<br>Significance: 85%<br>Subthemes: car performance, tesla model y, tesla model 3, elon musk, investment in tesla, innovation<br>Sentiment: positive<br>Average Score: 0.9",
          "Theme: Investor Confidence<br>Type: Bot<br>Significance: 80%<br>Subthemes: investing in tesla, elon musk leadership, stock market performance<br>Sentiment: positive<br>Average Score: 0.8",
          "Theme: Tesla Product Features<br>Type: Bot<br>Significance: 90%<br>Subthemes: tesla model y juniper, performance ventilated seats, new interior trim, handling and acceleration<br>Sentiment: positive<br>Average Score: 0.9",
          "Theme: Tesla Model Y Refresh (Project Juniper)<br>Type: Bot<br>Significance: 85%<br>Subthemes: Battery and Charging, Headlights and Tail Lights, Safety Features<br>Sentiment: positive<br>Average Score: 0.81",
          "Theme: Tesla's Efficiency and Range<br>Type: Bot<br>Significance: 78%<br>Subthemes: Electric Vehicle (EV) Efficiency, Range and Charging<br>Sentiment: positive<br>Average Score: 0.93",
          "Theme: Tesla Model Y Review and Maintenance<br>Type: Bot<br>Significance: 75%<br>Subthemes: Reliability and Simplicity of Maintenance, Service and Support<br>Sentiment: positive<br>Average Score: 0.88",
          "Theme: Tesla's Pricing and Incentives<br>Type: Bot<br>Significance: 80%<br>Subthemes: Discounts and Rebates, Financing Options<br>Sentiment: positive<br>Average Score: 0.92",
          "Theme: Tesla Model Y Availability and Accessories<br>Type: Bot<br>Significance: 72%<br>Subthemes: Color Options, Trim Levels and Features<br>Sentiment: positive<br>Average Score: 0.85",
          "Theme: Tesla's Sales Performance<br>Type: Bot<br>Significance: 90%<br>Subthemes: best-selling car, record-breaking sales, market share<br>Sentiment: positive<br>Average Score: 0.8",
          "Theme: Tesla's History and Milestones<br>Type: Bot<br>Significance: 80%<br>Subthemes: launch anniversary, model y production, milestones<br>Sentiment: positive<br>Average Score: 0.7",
          "Theme: Tesla's Competitors and Market Share<br>Type: Bot<br>Significance: 70%<br>Subthemes: competition, market share, ford mustang<br>Sentiment: negative<br>Average Score: -0.3",
          "Theme: Tesla's Product Line and Options<br>Type: Bot<br>Significance: 95%<br>Subthemes: model s, model 3, cybertruck, lease options<br>Sentiment: positive<br>Average Score: 0.9",
          "Theme: Tesla's Global Presence and Sales<br>Type: Bot<br>Significance: 85%<br>Subthemes: japan sales, record-breaking sales, global presence<br>Sentiment: positive<br>Average Score: 0.6",
          "Theme: Model 3 Performance and Features<br>Type: Bot<br>Significance: 80%<br>Subthemes: acceleration, handling, interior design, range, price<br>Sentiment: positive<br>Average Score: 0.83",
          "Theme: Tesla's Innovation and Autonomy<br>Type: Bot<br>Significance: 70%<br>Subthemes: autonomy, ground-up design, future of transportation<br>Sentiment: positive<br>Average Score: 0.93",
          "Theme: Model 3 Value and Pricing<br>Type: Bot<br>Significance: 80%<br>Subthemes: price, value for money<br>Sentiment: positive<br>Average Score: 0.9",
          "Theme: New Tesla Model 3 Features<br>Type: Bot<br>Significance: 80%<br>Subthemes: Range Increase, New Rear Passenger Screen, Stalkless Steering, Reduced Road Noise, Upgraded Suspension, Ventilated Front Seats, Improved Audio<br>Sentiment: positive<br>Average Score: 0.8",
          "Theme: Model 3 Performance and Price<br>Type: Bot<br>Significance: 70%<br>Subthemes: Lamborghini Performance at Fraction of Price, Value for Money<br>Sentiment: positive<br>Average Score: 0.9",
          "Theme: New Features and Upgrades<br>Type: Bot<br>Significance: 80%<br>Subthemes: Increased Range, Aesthetic Enhancements, Upgraded Features, Performance Improvements<br>Sentiment: positive<br>Average Score: 0.85",
          "Theme: Tesla Model 3 Availability<br>Type: Bot<br>Significance: 75%<br>Subthemes: Availability in New Markets, Refreshed Version, New Pricing Options<br>Sentiment: positive<br>Average Score: 0.9",
          "Theme: Warranty and Maintenance<br>Type: Bot<br>Significance: 85%<br>Subthemes: Depreciation, Cost Savings, Potential Income Streams<br>Sentiment: positive<br>Average Score: 0.9",
          "Theme: Event and Release Information<br>Type: Bot<br>Significance: 70%<br>Subthemes: New Model Releases, Special Offers, Event Promotions<br>Sentiment: positive<br>Average Score: 0.8",
          "Theme: Tesla Model 3 Praise<br>Type: Bot<br>Significance: 80%<br>Subthemes: performance, technology, efficiency, driving_range<br>Sentiment: positive<br>Average Score: 0.8",
          "Theme: Tesla Cybertruck Safety Concerns<br>Type: Bot<br>Significance: 70%<br>Subthemes: cybertruck accidents, electrical vehicle fires, autonomous vehicles, environmental impact<br>Sentiment: negative<br>Average Score: -0.7",
          "Theme: Cybertruck Quality and Defects<br>Type: Bot<br>Significance: 80%<br>Subthemes: defective wheels, unreliable performance, ugly design<br>Sentiment: negative<br>Average Score: -0.7",
          "Theme: Cybertruck Enthusiasm and Range<br>Type: Bot<br>Significance: 70%<br>Subthemes: unlimited range, impressive design<br>Sentiment: positive<br>Average Score: 0.9",
          "Theme: Cybertruck Performance and Capability<br>Type: Bot<br>Significance: 90%<br>Subthemes: impressive off-road performance, beast mode<br>Sentiment: positive<br>Average Score: 0.8",
          "Theme: Negative Public Perception<br>Type: Bot<br>Significance: 85%<br>Subthemes: comedy and ridicule, environmental concerns, safety issues, unrealistic expectations, poor reviews<br>Sentiment: negative<br>Average Score: -0.67",
          "Theme: Cybertruck Performance<br>Type: Bot<br>Significance: 95%<br>Subthemes: ride quality, air suspension, four-wheel steering, Acceleration, Handling<br>Sentiment: positive<br>Average Score: 0.58",
          "Theme: Ownership Experience<br>Type: Bot<br>Significance: 90%<br>Subthemes: amazing driving experience, impressive technology, beautiful design, satisfaction with purchase<br>Sentiment: positive<br>Average Score: 0.83",
          "Theme: Cybertruck Safety<br>Type: Bot<br>Significance: 88%<br>Subthemes: vehicle fires, accidents involving pedestrians, stuck windows, trapped and burned, safety concerns<br>Sentiment: negative<br>Average Score: -0.83",
          "Theme: Cybertruck Design and Features<br>Type: Bot<br>Significance: 87%<br>Subthemes: Aesthetics, Performance, Technology Integration<br>Sentiment: positive<br>Average Score: 0.64",
          "Theme: Cybertruck Ownership and Experience<br>Type: Bot<br>Significance: 73%<br>Subthemes: Problems with Design, Annoyances with Technology<br>Sentiment: negative<br>Average Score: -0.51",
          "Theme: Cybertruck Adventure and Travel<br>Type: Bot<br>Significance: 81%<br>Subthemes: Travel and Exploration, Adventurous Spirit<br>Sentiment: positive<br>Average Score: 0.82"
         ],
         "marker": {
          "color": [
           "rgb(34,139,34)",
           "rgb(34,139,34)",
           "rgb(34,139,34)",
           "rgb(34,139,34)",
           "rgb(34,139,34)",
           "rgb(34,139,34)",
           "rgb(34,139,34)",
           "rgb(34,139,34)",
           "rgb(34,139,34)",
           "rgb(34,139,34)",
           "rgb(34,139,34)",
           "rgb(34,139,34)",
           "rgb(34,139,34)",
           "rgb(34,139,34)",
           "rgb(34,139,34)",
           "rgb(34,139,34)",
           "rgb(34,139,34)",
           "rgb(255,69,0)",
           "rgb(34,139,34)",
           "rgb(34,139,34)",
           "rgb(34,139,34)",
           "rgb(34,139,34)",
           "rgb(34,139,34)",
           "rgb(34,139,34)",
           "rgb(34,139,34)",
           "rgb(34,139,34)",
           "rgb(34,139,34)",
           "rgb(34,139,34)",
           "rgb(34,139,34)",
           "rgb(34,139,34)",
           "rgb(255,69,0)",
           "rgb(255,69,0)",
           "rgb(34,139,34)",
           "rgb(34,139,34)",
           "rgb(255,69,0)",
           "rgb(34,139,34)",
           "rgb(34,139,34)",
           "rgb(255,69,0)",
           "rgb(34,139,34)",
           "rgb(255,69,0)",
           "rgb(34,139,34)"
          ],
          "line": {
           "color": "rgb(139,0,0)",
           "width": 1
          },
          "size": [
           26,
           24,
           27,
           26,
           26,
           24,
           28,
           27,
           26,
           28,
           27,
           25.6,
           25,
           26,
           24.4,
           28,
           26,
           24,
           29,
           27,
           26,
           24,
           26,
           26,
           24,
           26,
           25,
           27,
           24,
           26,
           24,
           26,
           24,
           28,
           27,
           29,
           28,
           27.6,
           27.4,
           24.6,
           26.2
          ]
         },
         "mode": "markers",
         "name": "Bot Themes",
         "type": "scatter",
         "x": [
          -12.34906590538198,
          -8.034639226776305,
          -14.453274307537626,
          -12.551938491890192,
          -7.301572705655608,
          -12.549123113833724,
          -14.53302931103191,
          -8.117088247188601,
          -10.150152104825514,
          -9.48316680110161,
          -11.026828350334421,
          -16.164381914841513,
          -7.973311871101314,
          -8.84053213199984,
          -9.852436582173459,
          -9.752619695671154,
          -13.788387182350418,
          -9.373299593790712,
          -13.12660126035866,
          -14.898618955763464,
          -5.4997787062402725,
          -8.77549014420064,
          -16.212953013797907,
          -4.701494240438742,
          -10.739130058811956,
          -8.481676754240777,
          -15.020041532911241,
          -11.945260749076988,
          -12.140815268839672,
          -15.774010658028208,
          -11.50168758446915,
          -11.432913099462946,
          -13.071096816459924,
          -13.41649471981925,
          -3.2216190496298136,
          -8.513086709100323,
          -6.863275163599647,
          -11.616029056709042,
          -5.483686394519117,
          -14.916851039396095,
          -7.986078057287109
         ],
         "y": [
          -7.135555155053952,
          -13.63402523554124,
          -8.791379128724312,
          -8.128536640808495,
          -7.840991903209833,
          -5.984705303932881,
          -6.022321088919869,
          -7.220279508772249,
          -6.643466422368666,
          -11.881881542943711,
          -7.749918952593359,
          -14.473465763945377,
          -10.094854921856363,
          -6.3042466007295355,
          -6.33217871537054,
          -11.67371347418929,
          -11.059075282093554,
          -3.8758756315230976,
          -14.430253708102146,
          -7.155168570660328,
          -11.674081794835711,
          -13.274605483275923,
          -11.676409277936372,
          -12.6049671586088,
          -4.658947217340055,
          -4.478958057424513,
          -5.498486517466043,
          -8.71327206195794,
          -8.942573137542436,
          -12.09038732040407,
          -15.622834352970898,
          -10.513785682533676,
          -5.685461904328956,
          -8.508562960035867,
          -12.996354946742919,
          -10.175079046329305,
          -11.366098528419714,
          -9.045299410639524,
          -10.759066858334911,
          -6.727108790960923,
          -10.771922975092076
         ]
        },
        {
         "hoverinfo": "text",
         "hovertext": [
          "Theme: Tesla Product Development<br>Type: Non-Bot<br>Significance: 80%<br>Subthemes: Tesla Phone, Starlink Integration, Cybertruck Features<br>Sentiment: positive<br>Average Score: 0.8",
          "Theme: Customer Appreciation and Satisfaction<br>Type: Non-Bot<br>Significance: 70%<br>Subthemes: Improved Driving Experience, Customer Support<br>Sentiment: positive<br>Average Score: 0.9",
          "Theme: Tesla Brand and Leadership<br>Type: Non-Bot<br>Significance: 85%<br>Subthemes: Elon Musk, Tesla Team Performance<br>Sentiment: positive<br>Average Score: 0.95",
          "Theme: Industry Trends and Competitiveness<br>Type: Non-Bot<br>Significance: 90%<br>Subthemes: Self-Driving Cars, Robotaxis, Distributed AI Compute<br>Sentiment: positive<br>Average Score: 0.9",
          "Theme: Tesla's Cybertruck<br>Type: Non-Bot<br>Significance: 70%<br>Subthemes: Cybertruck capabilities, truck vs suv debate<br>Sentiment: positive<br>Average Score: 0.9",
          "Theme: Positive Reviews of Tesla's Models<br>Type: Non-Bot<br>Significance: 80%<br>Subthemes: effectiveness of sunshade, impressive performance of Model 3, amazing FSD capabilities<br>Sentiment: positive<br>Average Score: 0.9",
          "Theme: Elon Musk and Tesla Leadership<br>Type: Non-Bot<br>Significance: 70%<br>Subthemes: Elon Musk becoming a pretrillionaire, Tesla's success and differentiation<br>Sentiment: positive<br>Average Score: 0.8",
          "Theme: Tesla Safety and Reliability Concerns<br>Type: Non-Bot<br>Significance: 90%<br>Subthemes: Tesla's ranking on unsafe cars list, German reliability study results<br>Sentiment: negative<br>Average Score: -0.7",
          "Theme: Cybertruck Accidents<br>Type: Non-Bot<br>Significance: 80%<br>Subthemes: Lack of safety features, Human error, Tesla responsibility<br>Sentiment: negative<br>Average Score: -0.7",
          "Theme: Cybertruck Advertising and Popularity<br>Type: Non-Bot<br>Significance: 80%<br>Subthemes: effective advertising,  Tesla fan culture<br>Sentiment: positive<br>Average Score: 0.9",
          "Theme: Cybertruck Ownership and Experiences<br>Type: Non-Bot<br>Significance: 70%<br>Subthemes: ownership experiences,  Tesla community<br>Sentiment: positive<br>Average Score: 0.85",
          "Theme: Cybertruck Safety Concerns<br>Type: Non-Bot<br>Significance: 90%<br>Subthemes: vehicle safety, recalls<br>Sentiment: negative<br>Average Score: -0.85",
          "Theme: Cybertruck Performance and Utility<br>Type: Non-Bot<br>Significance: 85%<br>Subthemes: towing capacity, performance<br>Sentiment: positive<br>Average Score: 0.95",
          "Theme: General Tesla and Electric Vehicles<br>Type: Non-Bot<br>Significance: 80%<br>Subthemes: Tesla brand, electric vehicles<br>Sentiment: positive<br>Average Score: 0.8"
         ],
         "marker": {
          "color": [
           "rgb(30,144,255)",
           "rgb(30,144,255)",
           "rgb(30,144,255)",
           "rgb(30,144,255)",
           "rgb(30,144,255)",
           "rgb(30,144,255)",
           "rgb(30,144,255)",
           "rgb(255,99,71)",
           "rgb(255,99,71)",
           "rgb(30,144,255)",
           "rgb(30,144,255)",
           "rgb(255,99,71)",
           "rgb(30,144,255)",
           "rgb(30,144,255)"
          ],
          "line": {
           "color": "rgb(0,100,0)",
           "width": 1
          },
          "size": [
           26,
           24,
           27,
           28,
           24,
           26,
           24,
           28,
           26,
           26,
           24,
           28,
           27,
           26
          ]
         },
         "mode": "markers",
         "name": "Non-Bot Themes",
         "type": "scatter",
         "x": [
          12.22360516630836,
          7.359641769755076,
          7.063009561376447,
          9.897951008440996,
          7.123687675421071,
          4.805491623834778,
          9.077062625585809,
          6.452139858672311,
          14.154192782545177,
          13.062802059920264,
          14.334518943365257,
          14.474305141432396,
          11.119271006568034,
          12.979969996518989
         ],
         "y": [
          11.739421787879852,
          5.562119633884574,
          9.353694260698319,
          5.175512456596144,
          12.211550683440143,
          8.908542645722699,
          8.598494871058032,
          7.176917641981631,
          6.356521652849171,
          8.181430474412378,
          8.37867625890404,
          12.591321324593837,
          7.882130644040359,
          11.894394041426223
         ]
        }
       ],
       "layout": {
        "annotations": [
         {
          "font": {
           "size": 12
          },
          "showarrow": false,
          "text": "<b>Color Legend:</b><br><span style='color:rgb(34,139,34)'>Positive Bot - Forest Green</span><br><span style='color:rgb(255,69,0)'>Negative Bot - Red Orange</span><br><span style='color:rgb(30,144,255)'>Positive Non-Bot - Dodger Blue</span><br><span style='color:rgb(255,99,71)'>Negative Non-Bot - Tomato</span>",
          "x": 0.85,
          "xanchor": "left",
          "y": 0.85,
          "yanchor": "top"
         }
        ],
        "height": 800,
        "hovermode": "closest",
        "legend": {
         "bgcolor": "rgba(255,255,255,0.7)",
         "bordercolor": "black",
         "borderwidth": 1,
         "itemsizing": "constant",
         "traceorder": "normal",
         "x": 0.85,
         "y": 1
        },
        "plot_bgcolor": "rgb(240,240,240)",
        "showlegend": true,
        "template": {
         "data": {
          "bar": [
           {
            "error_x": {
             "color": "#2a3f5f"
            },
            "error_y": {
             "color": "#2a3f5f"
            },
            "marker": {
             "line": {
              "color": "#E5ECF6",
              "width": 0.5
             },
             "pattern": {
              "fillmode": "overlay",
              "size": 10,
              "solidity": 0.2
             }
            },
            "type": "bar"
           }
          ],
          "barpolar": [
           {
            "marker": {
             "line": {
              "color": "#E5ECF6",
              "width": 0.5
             },
             "pattern": {
              "fillmode": "overlay",
              "size": 10,
              "solidity": 0.2
             }
            },
            "type": "barpolar"
           }
          ],
          "carpet": [
           {
            "aaxis": {
             "endlinecolor": "#2a3f5f",
             "gridcolor": "white",
             "linecolor": "white",
             "minorgridcolor": "white",
             "startlinecolor": "#2a3f5f"
            },
            "baxis": {
             "endlinecolor": "#2a3f5f",
             "gridcolor": "white",
             "linecolor": "white",
             "minorgridcolor": "white",
             "startlinecolor": "#2a3f5f"
            },
            "type": "carpet"
           }
          ],
          "choropleth": [
           {
            "colorbar": {
             "outlinewidth": 0,
             "ticks": ""
            },
            "type": "choropleth"
           }
          ],
          "contour": [
           {
            "colorbar": {
             "outlinewidth": 0,
             "ticks": ""
            },
            "colorscale": [
             [
              0,
              "#0d0887"
             ],
             [
              0.1111111111111111,
              "#46039f"
             ],
             [
              0.2222222222222222,
              "#7201a8"
             ],
             [
              0.3333333333333333,
              "#9c179e"
             ],
             [
              0.4444444444444444,
              "#bd3786"
             ],
             [
              0.5555555555555556,
              "#d8576b"
             ],
             [
              0.6666666666666666,
              "#ed7953"
             ],
             [
              0.7777777777777778,
              "#fb9f3a"
             ],
             [
              0.8888888888888888,
              "#fdca26"
             ],
             [
              1,
              "#f0f921"
             ]
            ],
            "type": "contour"
           }
          ],
          "contourcarpet": [
           {
            "colorbar": {
             "outlinewidth": 0,
             "ticks": ""
            },
            "type": "contourcarpet"
           }
          ],
          "heatmap": [
           {
            "colorbar": {
             "outlinewidth": 0,
             "ticks": ""
            },
            "colorscale": [
             [
              0,
              "#0d0887"
             ],
             [
              0.1111111111111111,
              "#46039f"
             ],
             [
              0.2222222222222222,
              "#7201a8"
             ],
             [
              0.3333333333333333,
              "#9c179e"
             ],
             [
              0.4444444444444444,
              "#bd3786"
             ],
             [
              0.5555555555555556,
              "#d8576b"
             ],
             [
              0.6666666666666666,
              "#ed7953"
             ],
             [
              0.7777777777777778,
              "#fb9f3a"
             ],
             [
              0.8888888888888888,
              "#fdca26"
             ],
             [
              1,
              "#f0f921"
             ]
            ],
            "type": "heatmap"
           }
          ],
          "heatmapgl": [
           {
            "colorbar": {
             "outlinewidth": 0,
             "ticks": ""
            },
            "colorscale": [
             [
              0,
              "#0d0887"
             ],
             [
              0.1111111111111111,
              "#46039f"
             ],
             [
              0.2222222222222222,
              "#7201a8"
             ],
             [
              0.3333333333333333,
              "#9c179e"
             ],
             [
              0.4444444444444444,
              "#bd3786"
             ],
             [
              0.5555555555555556,
              "#d8576b"
             ],
             [
              0.6666666666666666,
              "#ed7953"
             ],
             [
              0.7777777777777778,
              "#fb9f3a"
             ],
             [
              0.8888888888888888,
              "#fdca26"
             ],
             [
              1,
              "#f0f921"
             ]
            ],
            "type": "heatmapgl"
           }
          ],
          "histogram": [
           {
            "marker": {
             "pattern": {
              "fillmode": "overlay",
              "size": 10,
              "solidity": 0.2
             }
            },
            "type": "histogram"
           }
          ],
          "histogram2d": [
           {
            "colorbar": {
             "outlinewidth": 0,
             "ticks": ""
            },
            "colorscale": [
             [
              0,
              "#0d0887"
             ],
             [
              0.1111111111111111,
              "#46039f"
             ],
             [
              0.2222222222222222,
              "#7201a8"
             ],
             [
              0.3333333333333333,
              "#9c179e"
             ],
             [
              0.4444444444444444,
              "#bd3786"
             ],
             [
              0.5555555555555556,
              "#d8576b"
             ],
             [
              0.6666666666666666,
              "#ed7953"
             ],
             [
              0.7777777777777778,
              "#fb9f3a"
             ],
             [
              0.8888888888888888,
              "#fdca26"
             ],
             [
              1,
              "#f0f921"
             ]
            ],
            "type": "histogram2d"
           }
          ],
          "histogram2dcontour": [
           {
            "colorbar": {
             "outlinewidth": 0,
             "ticks": ""
            },
            "colorscale": [
             [
              0,
              "#0d0887"
             ],
             [
              0.1111111111111111,
              "#46039f"
             ],
             [
              0.2222222222222222,
              "#7201a8"
             ],
             [
              0.3333333333333333,
              "#9c179e"
             ],
             [
              0.4444444444444444,
              "#bd3786"
             ],
             [
              0.5555555555555556,
              "#d8576b"
             ],
             [
              0.6666666666666666,
              "#ed7953"
             ],
             [
              0.7777777777777778,
              "#fb9f3a"
             ],
             [
              0.8888888888888888,
              "#fdca26"
             ],
             [
              1,
              "#f0f921"
             ]
            ],
            "type": "histogram2dcontour"
           }
          ],
          "mesh3d": [
           {
            "colorbar": {
             "outlinewidth": 0,
             "ticks": ""
            },
            "type": "mesh3d"
           }
          ],
          "parcoords": [
           {
            "line": {
             "colorbar": {
              "outlinewidth": 0,
              "ticks": ""
             }
            },
            "type": "parcoords"
           }
          ],
          "pie": [
           {
            "automargin": true,
            "type": "pie"
           }
          ],
          "scatter": [
           {
            "fillpattern": {
             "fillmode": "overlay",
             "size": 10,
             "solidity": 0.2
            },
            "type": "scatter"
           }
          ],
          "scatter3d": [
           {
            "line": {
             "colorbar": {
              "outlinewidth": 0,
              "ticks": ""
             }
            },
            "marker": {
             "colorbar": {
              "outlinewidth": 0,
              "ticks": ""
             }
            },
            "type": "scatter3d"
           }
          ],
          "scattercarpet": [
           {
            "marker": {
             "colorbar": {
              "outlinewidth": 0,
              "ticks": ""
             }
            },
            "type": "scattercarpet"
           }
          ],
          "scattergeo": [
           {
            "marker": {
             "colorbar": {
              "outlinewidth": 0,
              "ticks": ""
             }
            },
            "type": "scattergeo"
           }
          ],
          "scattergl": [
           {
            "marker": {
             "colorbar": {
              "outlinewidth": 0,
              "ticks": ""
             }
            },
            "type": "scattergl"
           }
          ],
          "scattermapbox": [
           {
            "marker": {
             "colorbar": {
              "outlinewidth": 0,
              "ticks": ""
             }
            },
            "type": "scattermapbox"
           }
          ],
          "scatterpolar": [
           {
            "marker": {
             "colorbar": {
              "outlinewidth": 0,
              "ticks": ""
             }
            },
            "type": "scatterpolar"
           }
          ],
          "scatterpolargl": [
           {
            "marker": {
             "colorbar": {
              "outlinewidth": 0,
              "ticks": ""
             }
            },
            "type": "scatterpolargl"
           }
          ],
          "scatterternary": [
           {
            "marker": {
             "colorbar": {
              "outlinewidth": 0,
              "ticks": ""
             }
            },
            "type": "scatterternary"
           }
          ],
          "surface": [
           {
            "colorbar": {
             "outlinewidth": 0,
             "ticks": ""
            },
            "colorscale": [
             [
              0,
              "#0d0887"
             ],
             [
              0.1111111111111111,
              "#46039f"
             ],
             [
              0.2222222222222222,
              "#7201a8"
             ],
             [
              0.3333333333333333,
              "#9c179e"
             ],
             [
              0.4444444444444444,
              "#bd3786"
             ],
             [
              0.5555555555555556,
              "#d8576b"
             ],
             [
              0.6666666666666666,
              "#ed7953"
             ],
             [
              0.7777777777777778,
              "#fb9f3a"
             ],
             [
              0.8888888888888888,
              "#fdca26"
             ],
             [
              1,
              "#f0f921"
             ]
            ],
            "type": "surface"
           }
          ],
          "table": [
           {
            "cells": {
             "fill": {
              "color": "#EBF0F8"
             },
             "line": {
              "color": "white"
             }
            },
            "header": {
             "fill": {
              "color": "#C8D4E3"
             },
             "line": {
              "color": "white"
             }
            },
            "type": "table"
           }
          ]
         },
         "layout": {
          "annotationdefaults": {
           "arrowcolor": "#2a3f5f",
           "arrowhead": 0,
           "arrowwidth": 1
          },
          "autotypenumbers": "strict",
          "coloraxis": {
           "colorbar": {
            "outlinewidth": 0,
            "ticks": ""
           }
          },
          "colorscale": {
           "diverging": [
            [
             0,
             "#8e0152"
            ],
            [
             0.1,
             "#c51b7d"
            ],
            [
             0.2,
             "#de77ae"
            ],
            [
             0.3,
             "#f1b6da"
            ],
            [
             0.4,
             "#fde0ef"
            ],
            [
             0.5,
             "#f7f7f7"
            ],
            [
             0.6,
             "#e6f5d0"
            ],
            [
             0.7,
             "#b8e186"
            ],
            [
             0.8,
             "#7fbc41"
            ],
            [
             0.9,
             "#4d9221"
            ],
            [
             1,
             "#276419"
            ]
           ],
           "sequential": [
            [
             0,
             "#0d0887"
            ],
            [
             0.1111111111111111,
             "#46039f"
            ],
            [
             0.2222222222222222,
             "#7201a8"
            ],
            [
             0.3333333333333333,
             "#9c179e"
            ],
            [
             0.4444444444444444,
             "#bd3786"
            ],
            [
             0.5555555555555556,
             "#d8576b"
            ],
            [
             0.6666666666666666,
             "#ed7953"
            ],
            [
             0.7777777777777778,
             "#fb9f3a"
            ],
            [
             0.8888888888888888,
             "#fdca26"
            ],
            [
             1,
             "#f0f921"
            ]
           ],
           "sequentialminus": [
            [
             0,
             "#0d0887"
            ],
            [
             0.1111111111111111,
             "#46039f"
            ],
            [
             0.2222222222222222,
             "#7201a8"
            ],
            [
             0.3333333333333333,
             "#9c179e"
            ],
            [
             0.4444444444444444,
             "#bd3786"
            ],
            [
             0.5555555555555556,
             "#d8576b"
            ],
            [
             0.6666666666666666,
             "#ed7953"
            ],
            [
             0.7777777777777778,
             "#fb9f3a"
            ],
            [
             0.8888888888888888,
             "#fdca26"
            ],
            [
             1,
             "#f0f921"
            ]
           ]
          },
          "colorway": [
           "#636efa",
           "#EF553B",
           "#00cc96",
           "#ab63fa",
           "#FFA15A",
           "#19d3f3",
           "#FF6692",
           "#B6E880",
           "#FF97FF",
           "#FECB52"
          ],
          "font": {
           "color": "#2a3f5f"
          },
          "geo": {
           "bgcolor": "white",
           "lakecolor": "white",
           "landcolor": "#E5ECF6",
           "showlakes": true,
           "showland": true,
           "subunitcolor": "white"
          },
          "hoverlabel": {
           "align": "left"
          },
          "hovermode": "closest",
          "mapbox": {
           "style": "light"
          },
          "paper_bgcolor": "white",
          "plot_bgcolor": "#E5ECF6",
          "polar": {
           "angularaxis": {
            "gridcolor": "white",
            "linecolor": "white",
            "ticks": ""
           },
           "bgcolor": "#E5ECF6",
           "radialaxis": {
            "gridcolor": "white",
            "linecolor": "white",
            "ticks": ""
           }
          },
          "scene": {
           "xaxis": {
            "backgroundcolor": "#E5ECF6",
            "gridcolor": "white",
            "gridwidth": 2,
            "linecolor": "white",
            "showbackground": true,
            "ticks": "",
            "zerolinecolor": "white"
           },
           "yaxis": {
            "backgroundcolor": "#E5ECF6",
            "gridcolor": "white",
            "gridwidth": 2,
            "linecolor": "white",
            "showbackground": true,
            "ticks": "",
            "zerolinecolor": "white"
           },
           "zaxis": {
            "backgroundcolor": "#E5ECF6",
            "gridcolor": "white",
            "gridwidth": 2,
            "linecolor": "white",
            "showbackground": true,
            "ticks": "",
            "zerolinecolor": "white"
           }
          },
          "shapedefaults": {
           "line": {
            "color": "#2a3f5f"
           }
          },
          "ternary": {
           "aaxis": {
            "gridcolor": "white",
            "linecolor": "white",
            "ticks": ""
           },
           "baxis": {
            "gridcolor": "white",
            "linecolor": "white",
            "ticks": ""
           },
           "bgcolor": "#E5ECF6",
           "caxis": {
            "gridcolor": "white",
            "linecolor": "white",
            "ticks": ""
           }
          },
          "title": {
           "x": 0.05
          },
          "xaxis": {
           "automargin": true,
           "gridcolor": "white",
           "linecolor": "white",
           "ticks": "",
           "title": {
            "standoff": 15
           },
           "zerolinecolor": "white",
           "zerolinewidth": 2
          },
          "yaxis": {
           "automargin": true,
           "gridcolor": "white",
           "linecolor": "white",
           "ticks": "",
           "title": {
            "standoff": 15
           },
           "zerolinecolor": "white",
           "zerolinewidth": 2
          }
         }
        },
        "title": {
         "text": "Theme Network Visualization"
        },
        "width": 1000,
        "xaxis": {
         "showgrid": false,
         "showticklabels": false,
         "title": {
          "text": "X-axis"
         },
         "zeroline": false
        },
        "yaxis": {
         "showgrid": false,
         "showticklabels": false,
         "title": {
          "text": "Y-axis"
         },
         "zeroline": false
        }
       }
      }
     },
     "metadata": {},
     "output_type": "display_data"
    }
   ],
   "source": [
    "def load_json_file(file_path):\n",
    "    \"\"\"Load JSON file safely.\"\"\"\n",
    "    try:\n",
    "        with open(file_path, 'r', encoding='utf-8') as file:\n",
    "            return json.load(file)\n",
    "    except Exception as e:\n",
    "        print(f\"Error loading JSON file {file_path}: {e}\")\n",
    "        return []\n",
    "\n",
    "def create_theme_network(data_bot, data_nonbot, min_significance=80):\n",
    "    \"\"\"Create a network graph from themes with a minimum significance level.\"\"\"\n",
    "    G = nx.Graph()\n",
    "\n",
    "    def process_data(data, is_bot=True):\n",
    "        for item in data:\n",
    "            response = item.get('response')\n",
    "            if isinstance(response, str):\n",
    "                try:\n",
    "                    response_data = json.loads(response)\n",
    "                    themes = response_data.get('themes', [])\n",
    "\n",
    "                    for theme in themes:\n",
    "                        significance = theme.get('significance', 0)\n",
    "                        if significance >= min_significance:\n",
    "                            theme_name = theme['theme']\n",
    "                            sentiment = theme.get('sentiment', {})\n",
    "                            average_score = sentiment.get('average_score', 0)\n",
    "\n",
    "                            # Classify sentiment based on average score\n",
    "                            sentiment_class = \"positive\" if average_score > 0 else \"negative\"\n",
    "                            \n",
    "                            subthemes = theme.get('subthemes', [])\n",
    "\n",
    "                            # Add or update theme node\n",
    "                            if not G.has_node(theme_name):\n",
    "                                G.add_node(theme_name,\n",
    "                                           type='theme',\n",
    "                                           is_bot=is_bot,\n",
    "                                           significance=significance,\n",
    "                                           sentiment_class=sentiment_class,\n",
    "                                           average_score=average_score,\n",
    "                                           subthemes=subthemes)\n",
    "                            else:\n",
    "                                # If node exists and bot status is different, mark as mixed\n",
    "                                current_bot_status = G.nodes[theme_name].get('is_bot')\n",
    "                                if current_bot_status != is_bot:\n",
    "                                    G.nodes[theme_name]['is_bot'] = 'mixed'\n",
    "\n",
    "                except json.JSONDecodeError:\n",
    "                    print(f\"Invalid JSON in response: {response}\")\n",
    "\n",
    "    # Process bot and non-bot data\n",
    "    process_data(data_bot, is_bot=True)\n",
    "    process_data(data_nonbot, is_bot=False)\n",
    "\n",
    "    return G\n",
    "\n",
    "def visualize_network(G):\n",
    "    \"\"\"Visualize bot, non-bot, and mixed themes in clustered regions.\"\"\"\n",
    "    # Separate nodes by bot status\n",
    "    bot_nodes = [node for node, data in G.nodes(data=True) if data.get('is_bot') == True]\n",
    "    nonbot_nodes = [node for node, data in G.nodes(data=True) if data.get('is_bot') == False]\n",
    "    mixed_nodes = [node for node, data in G.nodes(data=True) if data.get('is_bot') == 'mixed']\n",
    "\n",
    "    # Create traces for each category\n",
    "    traces = []\n",
    "\n",
    "    # Function to determine node size based on significance\n",
    "    def get_node_size(significance):\n",
    "        return 10 + (significance / 5)  # Adjust the scaling factor as needed\n",
    "\n",
    "    # Color mapping for sentiment and bot type (More distinct colors)\n",
    "    def get_node_color(is_bot, sentiment_class):\n",
    "        if is_bot and sentiment_class == 'positive':\n",
    "            return 'rgb(34,139,34)'  # Positive Bot - Forest Green\n",
    "        elif is_bot and sentiment_class == 'negative':\n",
    "            return 'rgb(255,69,0)'  # Negative Bot - Red Orange\n",
    "        elif not is_bot and sentiment_class == 'positive':\n",
    "            return 'rgb(30,144,255)'  # Positive Non-Bot - Dodger Blue\n",
    "        elif not is_bot and sentiment_class == 'negative':\n",
    "            return 'rgb(255,99,71)'  # Negative Non-Bot - Tomato\n",
    "\n",
    "    # Bot nodes - clustered in bottom left\n",
    "    if bot_nodes:\n",
    "        bot_x = np.random.normal(loc=-10, scale=3, size=len(bot_nodes))  # Increase scale for more spread\n",
    "        bot_y = np.random.normal(loc=-10, scale=3, size=len(bot_nodes))  # Increase scale for more spread\n",
    "        bot_sizes = [get_node_size(G.nodes[node]['significance']) for node in bot_nodes]\n",
    "        bot_colors = [get_node_color(G.nodes[node]['is_bot'], G.nodes[node]['sentiment_class']) for node in bot_nodes]\n",
    "        bot_trace = go.Scatter(\n",
    "            x=bot_x,\n",
    "            y=bot_y,\n",
    "            mode='markers',\n",
    "            hovertext=[\n",
    "                f\"Theme: {node}<br>\"\n",
    "                f\"Type: Bot<br>\"\n",
    "                f\"Significance: {G.nodes[node]['significance']}%<br>\"\n",
    "                f\"Subthemes: {', '.join(G.nodes[node].get('subthemes', []))}<br>\"\n",
    "                f\"Sentiment: {G.nodes[node]['sentiment_class']}<br>\"\n",
    "                f\"Average Score: {G.nodes[node]['average_score']}\"\n",
    "                for node in bot_nodes\n",
    "            ],\n",
    "            hoverinfo='text',\n",
    "            marker=dict(\n",
    "                size=bot_sizes,\n",
    "                color=bot_colors,  # Color based on sentiment\n",
    "                line=dict(width=1, color='rgb(139,0,0)')  # Dark red\n",
    "            ),\n",
    "            name='Bot Themes'\n",
    "        )\n",
    "        traces.append(bot_trace)\n",
    "\n",
    "    # Non-bot nodes - clustered in top right\n",
    "    if nonbot_nodes:\n",
    "        nonbot_x = np.random.normal(loc=10, scale=3, size=len(nonbot_nodes))  # Increase scale for more spread\n",
    "        nonbot_y = np.random.normal(loc=10, scale=3, size=len(nonbot_nodes))  # Increase scale for more spread\n",
    "        nonbot_sizes = [get_node_size(G.nodes[node]['significance']) for node in nonbot_nodes]\n",
    "        nonbot_colors = [get_node_color(G.nodes[node]['is_bot'], G.nodes[node]['sentiment_class']) for node in nonbot_nodes]\n",
    "        nonbot_trace = go.Scatter(\n",
    "            x=nonbot_x,\n",
    "            y=nonbot_y,\n",
    "            mode='markers',\n",
    "            hovertext=[\n",
    "                f\"Theme: {node}<br>\"\n",
    "                f\"Type: Non-Bot<br>\"\n",
    "                f\"Significance: {G.nodes[node]['significance']}%<br>\"\n",
    "                f\"Subthemes: {', '.join(G.nodes[node].get('subthemes', []))}<br>\"\n",
    "                f\"Sentiment: {G.nodes[node]['sentiment_class']}<br>\"\n",
    "                f\"Average Score: {G.nodes[node]['average_score']}\"\n",
    "                for node in nonbot_nodes\n",
    "            ],\n",
    "            hoverinfo='text',\n",
    "            marker=dict(\n",
    "                size=nonbot_sizes,\n",
    "                color=nonbot_colors,  # Color based on sentiment\n",
    "                line=dict(width=1, color='rgb(0,100,0)')  # Dark green\n",
    "            ),\n",
    "            name='Non-Bot Themes'\n",
    "        )\n",
    "        traces.append(nonbot_trace)\n",
    "\n",
    "    # Mixed nodes - clustered in center\n",
    "    if mixed_nodes:\n",
    "        mixed_x = np.random.normal(loc=0, scale=3, size=len(mixed_nodes))  # Increase scale for more spread\n",
    "        mixed_y = np.random.normal(loc=0, scale=3, size=len(mixed_nodes))  # Increase scale for more spread\n",
    "        mixed_sizes = [get_node_size(G.nodes[node]['significance']) for node in mixed_nodes]\n",
    "        mixed_colors = [get_node_color(G.nodes[node]['is_bot'], G.nodes[node]['sentiment_class']) for node in mixed_nodes]\n",
    "        mixed_trace = go.Scatter(\n",
    "            x=mixed_x,\n",
    "            y=mixed_y,\n",
    "            mode='markers',\n",
    "            hovertext=[\n",
    "                f\"Theme: {node}<br>\"\n",
    "                f\"Type: Mixed<br>\"\n",
    "                f\"Significance: {G.nodes[node]['significance']}%<br>\"\n",
    "                f\"Subthemes: {', '.join(G.nodes[node].get('subthemes', []))}<br>\"\n",
    "                f\"Sentiment: {G.nodes[node]['sentiment_class']}<br>\"\n",
    "                f\"Average Score: {G.nodes[node]['average_score']}\"\n",
    "                for node in mixed_nodes\n",
    "            ],\n",
    "            hoverinfo='text',\n",
    "            marker=dict(\n",
    "                size=mixed_sizes,\n",
    "                color=mixed_colors,  # Color based on sentiment\n",
    "                line=dict(width=1, color='rgb(75,0,130)')  # Indigo\n",
    "            ),\n",
    "            name='Mixed Themes'\n",
    "        )\n",
    "        traces.append(mixed_trace)\n",
    "\n",
    "    # Create figure\n",
    "    fig = go.Figure(data=traces)\n",
    "\n",
    "    # Update layout for better visualization\n",
    "    fig.update_layout(\n",
    "        title=\"Theme Network Visualization\",\n",
    "        showlegend=True,\n",
    "        hovermode='closest',\n",
    "        width=1000,\n",
    "        height=800,\n",
    "        xaxis=dict(\n",
    "            title=\"X-axis\",\n",
    "            showgrid=False,\n",
    "            zeroline=False,\n",
    "            showticklabels=False\n",
    "        ),\n",
    "        yaxis=dict(\n",
    "            title=\"Y-axis\",\n",
    "            showgrid=False,\n",
    "            zeroline=False,\n",
    "            showticklabels=False\n",
    "        ),\n",
    "        plot_bgcolor='rgb(240,240,240)',  # Light grey background\n",
    "        legend=dict(\n",
    "            x=0.85,\n",
    "            y=1,\n",
    "            bgcolor='rgba(255,255,255,0.7)',\n",
    "            bordercolor='black',\n",
    "            borderwidth=1,\n",
    "            itemsizing='constant',\n",
    "            traceorder='normal'\n",
    "        ),\n",
    "        annotations=[\n",
    "            dict(\n",
    "                x=0.85, y=0.85, xanchor='left', yanchor='top',\n",
    "                text=(\n",
    "                    \"<b>Color Legend:</b><br>\"\n",
    "                    \"<span style='color:rgb(34,139,34)'>Positive Bot - Forest Green</span><br>\"\n",
    "                    \"<span style='color:rgb(255,69,0)'>Negative Bot - Red Orange</span><br>\"\n",
    "                    \"<span style='color:rgb(30,144,255)'>Positive Non-Bot - Dodger Blue</span><br>\"\n",
    "                    \"<span style='color:rgb(255,99,71)'>Negative Non-Bot - Tomato</span>\"\n",
    "                ),\n",
    "                showarrow=False,\n",
    "                font=dict(size=12)\n",
    "            )\n",
    "        ]\n",
    "    )\n",
    "\n",
    "    fig.show()\n",
    "\n",
    "# Example usage:\n",
    "data_bot = load_json_file('label_0.json')\n",
    "data_nonbot = load_json_file('label_1.json')\n",
    "\n",
    "G = create_theme_network(data_bot, data_nonbot)\n",
    "visualize_network(G)\n"
   ]
  }
 ],
 "metadata": {
  "kernelspec": {
   "display_name": "base",
   "language": "python",
   "name": "python3"
  },
  "language_info": {
   "codemirror_mode": {
    "name": "ipython",
    "version": 3
   },
   "file_extension": ".py",
   "mimetype": "text/x-python",
   "name": "python",
   "nbconvert_exporter": "python",
   "pygments_lexer": "ipython3",
   "version": "3.12.4"
  }
 },
 "nbformat": 4,
 "nbformat_minor": 2
}
