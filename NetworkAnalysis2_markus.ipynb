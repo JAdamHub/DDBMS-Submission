{
 "cells": [
  {
   "cell_type": "code",
   "execution_count": 1,
   "metadata": {},
   "outputs": [],
   "source": [
    "!pip install -r requirements.txt -q"
   ]
  },
  {
   "cell_type": "code",
   "execution_count": 2,
   "metadata": {},
   "outputs": [
    {
     "name": "stderr",
     "output_type": "stream",
     "text": [
      "/Users/markushenriksson/Desktop/Data/Python/DDBMS-Submission/.conda/lib/python3.11/site-packages/tqdm/auto.py:21: TqdmWarning: IProgress not found. Please update jupyter and ipywidgets. See https://ipywidgets.readthedocs.io/en/stable/user_install.html\n",
      "  from .autonotebook import tqdm as notebook_tqdm\n"
     ]
    }
   ],
   "source": [
    "# Datahandling\n",
    "import requests\n",
    "import os\n",
    "os.environ[\"TOKENIZERS_PARALLELISM\"] = \"false\"\n",
    "import numpy as np\n",
    "import pandas as pd\n",
    "import seaborn as sns\n",
    "\n",
    "# Tweet Themes\n",
    "from sentence_transformers import SentenceTransformer\n",
    "import umap\n",
    "import hdbscan\n",
    "import matplotlib.pyplot as plt\n",
    "from bertopic import BERTopic\n",
    "import plotly.express as px\n",
    "\n",
    "# Network analysis\n",
    "from typing import List, Optional\n",
    "import json\n",
    "import matplotlib.patches as mpatches\n",
    "import networkx as nx\n",
    "from community import community_louvain\n",
    "import plotly.graph_objects as go\n",
    "import random\n",
    "from collections import defaultdict\n",
    "import nbformat\n",
    "\n",
    "# Model prediction\n",
    "from setfit import SetFitModel, SetFitTrainer\n",
    "from sklearn.metrics import classification_report\n",
    "import tiktoken\n",
    "\n",
    "# Gradio deployment\n",
    "import gradio as gr\n"
   ]
  },
  {
   "cell_type": "code",
   "execution_count": 3,
   "metadata": {},
   "outputs": [],
   "source": [
    "# data sampling? 20000\n",
    "data = pd.read_csv('TwitterData_Joined.csv')\n",
    "data = data.sample(n=2000, random_state=42)"
   ]
  },
  {
   "cell_type": "code",
   "execution_count": 4,
   "metadata": {},
   "outputs": [
    {
     "name": "stdout",
     "output_type": "stream",
     "text": [
      "Data with label=0: 950 rows\n",
      "Data with label=1: 1050 rows\n"
     ]
    }
   ],
   "source": [
    "# Split the data based on the `label` column\n",
    "data_label_0 = data[data['Label'] == 0]  # Subset where label=0\n",
    "data_label_1 = data[data['Label'] == 1]  # Subset where label=1\n",
    "\n",
    "# Optionally, check the sizes of the splits\n",
    "print(f\"Data with label=0: {len(data_label_0)} rows\")\n",
    "print(f\"Data with label=1: {len(data_label_1)} rows\")"
   ]
  },
  {
   "cell_type": "code",
   "execution_count": 5,
   "metadata": {},
   "outputs": [],
   "source": [
    "# LLM Libs & Setup\n",
    "from openai import OpenAI\n",
    "import json\n",
    "from pydantic import BaseModel, Field\n",
    "from typing import List, Optional\n",
    "import textwrap"
   ]
  },
  {
   "cell_type": "code",
   "execution_count": 6,
   "metadata": {},
   "outputs": [],
   "source": [
    "# Set your Together API Key directly\n",
    "TOGETHER_API_KEY = \"\"\n",
    "\n",
    "# Check if the API key is set\n",
    "if not TOGETHER_API_KEY:\n",
    "    raise ValueError(\"The Together API Key must be provided.\")\n",
    "\n",
    "# Initialize the Together client\n",
    "client = OpenAI(\n",
    "    base_url=\"https://api.together.xyz/v1\",\n",
    "    api_key=TOGETHER_API_KEY\n",
    ")\n",
    "\n",
    "# Define the model\n",
    "model = \"meta-llama/Meta-Llama-3.1-8B-Instruct-Turbo\""
   ]
  },
  {
   "cell_type": "code",
   "execution_count": 7,
   "metadata": {},
   "outputs": [],
   "source": [
    "SYSTEM_PROMPT = f\"\"\"\n",
    "You are an advanced theme extraction and analysis assistant specializing in comprehensive thematic breakdown of a collection of tweets.\n",
    "\n",
    "\n",
    "Extraction Objectives:\n",
    "1. Identify and Extract Overall Themes\n",
    "2. Determine Theme Centrality and Significance\n",
    "3. Uncover Sub-Themes and Causal Relationships\n",
    "4. Provide Nuanced Thematic Insights\n",
    "\n",
    "\n",
    "Output Structure:\n",
    "{{\n",
    "    \"overall_themes\": [\n",
    "        {{\n",
    "            \"name\": \"Primary Theme Name\",\n",
    "            \"confidence\": \"Confidence level 0-100\",\n",
    "            \"centrality\": {{\n",
    "                \"weight\": \"Theme heaviness/importance (0-100)\",\n",
    "                \"calculation_factors\": [\n",
    "                    \"Tweet volume\",\n",
    "                    \"Sentiment intensity\",\n",
    "                    \"Keyword repetition\",\n",
    "                    \"Cross-tweet relevance\"\n",
    "                ]\n",
    "            }},\n",
    "            \"sub_themes\": [\n",
    "                {{\n",
    "                    \"name\": \"Specific Sub-Theme\",\n",
    "                    \"causations\": [\n",
    "                        \"Underlying factors driving this sub-theme\",\n",
    "                        \"Contextual triggers\"\n",
    "                    ],\n",
    "                    \"keywords\": [\"Supporting keywords\"],\n",
    "                    \"sentiment\": \"positive/negative/neutral\",\n",
    "                    \"confidence\": \"Sub-theme confidence level 0-100\"\n",
    "                }}\n",
    "            ],\n",
    "            \"keywords\": [\"Primary theme defining keywords\"],\n",
    "            \"sentiment_distribution\": {{\n",
    "                \"positive_percentage\": 0,\n",
    "                \"negative_percentage\": 0,\n",
    "                \"neutral_percentage\": 0\n",
    "            }}\n",
    "        }}\n",
    "    ],\n",
    "    \"metadata\": {{\n",
    "        \"total_tweets_analyzed\": 0,\n",
    "        \"unique_themes_count\": 0,\n",
    "        \"dominant_sentiment\": \"\",\n",
    "        \"language_distribution\": {{}}\n",
    "    }}\n",
    "}}\n",
    "\n",
    "\n",
    "Analytical Guidelines:\n",
    "\n",
    "\n",
    "1. Theme Identification:\n",
    "- Limit overall themes to a maximum of 10\n",
    "- Ensure themes are distinct and non-overlapping\n",
    "- Capture the essence of the tweet collection\n",
    "\n",
    "\n",
    "2. Centrality and Significance:\n",
    "- Calculate theme weight using:\n",
    "  * Number of tweets referencing the theme\n",
    "  * Sentiment intensity\n",
    "  * Keyword frequency\n",
    "  * Cross-tweet relevance\n",
    "  * Emotional depth\n",
    "\n",
    "\n",
    "3. Sub-Theme and Causation Analysis:\n",
    "- Identify specific sub-themes within each overall theme\n",
    "- Uncover potential causative factors\n",
    "- Provide context for theme emergence\n",
    "\n",
    "\n",
    "4. Sentiment and Nuance:\n",
    "- Analyze emotional tone at theme and sub-theme levels\n",
    "- Provide percentage-based sentiment distribution\n",
    "- Highlight emotional complexity\n",
    "\n",
    "\n",
    "5. Metadata Insights:\n",
    "- Track total tweets analyzed\n",
    "- Count unique themes\n",
    "- Capture language diversity\n",
    "- Identify dominant sentiment\n",
    "\n",
    "\n",
    "Principles:\n",
    "- Objectivity: Base analysis solely on tweet content\n",
    "- Precision: Provide granular, specific insights\n",
    "- Consistency: Apply uniform analytical framework\n",
    "- Depth: Go beyond surface-level theme extraction\n",
    "\n",
    "\n",
    "Handling Complexity:\n",
    "- For ambiguous themes, use lower confidence scores\n",
    "- Highlight keywords that support theme identification\n",
    "- Provide nuanced explanations for theme relationships\n",
    "\n",
    "\n",
    "Ethical Considerations:\n",
    "- Maintain data integrity\n",
    "- Avoid external assumptions\n",
    "- Respect contextual limitations of the dataset\n",
    "\n",
    "\n",
    "Output Requirements:\n",
    "- Strictly adhere to the specified JSON schema\n",
    "- Ensure clear, structured, and insightful presentation\n",
    "\"\"\""
   ]
  },
  {
   "cell_type": "code",
   "execution_count": 8,
   "metadata": {},
   "outputs": [],
   "source": [
    "json_schema = f\"\"\"{{\n",
    "    \"type\": \"object\",\n",
    "    \"properties\": {{\n",
    "        \"overall_themes\": {{\n",
    "            \"type\": \"array\",\n",
    "            \"maxItems\": 10,\n",
    "            \"items\": {{\n",
    "                \"type\": \"object\",\n",
    "                \"properties\": {{\n",
    "                    \"name\": {{\n",
    "                        \"type\": \"string\",\n",
    "                        \"description\": \"Primary theme name\"\n",
    "                    }},\n",
    "                    \"confidence\": {{\n",
    "                        \"type\": \"number\",\n",
    "                        \"minimum\": 0,\n",
    "                        \"maximum\": 100,\n",
    "                        \"description\": \"Confidence level of theme identification\"\n",
    "                    }},\n",
    "                    \"centrality\": {{\n",
    "                        \"type\": \"object\",\n",
    "                        \"properties\": {{\n",
    "                            \"weight\": {{\n",
    "                                \"type\": \"number\",\n",
    "                                \"minimum\": 0,\n",
    "                                \"maximum\": 100,\n",
    "                                \"description\": \"Theme heaviness/importance\"\n",
    "                            }},\n",
    "                            \"calculation_factors\": {{\n",
    "                                \"type\": \"array\",\n",
    "                                \"items\": {{\n",
    "                                    \"type\": \"string\"\n",
    "                                }},\n",
    "                                \"description\": \"Factors used to calculate theme centrality\"\n",
    "                            }}\n",
    "                        }},\n",
    "                        \"required\": [\"weight\"]\n",
    "                    }},\n",
    "                    \"sub_themes\": {{\n",
    "                        \"type\": \"array\",\n",
    "                        \"items\": {{\n",
    "                            \"type\": \"object\",\n",
    "                            \"properties\": {{\n",
    "                                \"name\": {{\n",
    "                                    \"type\": \"string\",\n",
    "                                    \"description\": \"Specific sub-theme name\"\n",
    "                                }},\n",
    "                                \"causations\": {{\n",
    "                                    \"type\": \"array\",\n",
    "                                    \"items\": {{\n",
    "                                        \"type\": \"string\"\n",
    "                                    }},\n",
    "                                    \"description\": \"Underlying factors driving the sub-theme\"\n",
    "                                }},\n",
    "                                \"keywords\": {{\n",
    "                                    \"type\": \"array\",\n",
    "                                    \"items\": {{\n",
    "                                        \"type\": \"string\"\n",
    "                                    }},\n",
    "                                    \"description\": \"Supporting keywords for the sub-theme\"\n",
    "                                }},\n",
    "                                \"sentiment\": {{\n",
    "                                    \"type\": \"string\",\n",
    "                                    \"enum\": [\"positive\", \"negative\", \"neutral\"],\n",
    "                                    \"description\": \"Emotional tone of the sub-theme\"\n",
    "                                }},\n",
    "                                \"confidence\": {{\n",
    "                                    \"type\": \"number\",\n",
    "                                    \"minimum\": 0,\n",
    "                                    \"maximum\": 100,\n",
    "                                    \"description\": \"Confidence level of sub-theme identification\"\n",
    "                                }}\n",
    "                            }},\n",
    "                            \"required\": [\"name\"]\n",
    "                        }},\n",
    "                        \"description\": \"Sub-themes within the primary theme\"\n",
    "                    }},\n",
    "                    \"keywords\": {{\n",
    "                        \"type\": \"array\",\n",
    "                        \"items\": {{\n",
    "                            \"type\": \"string\"\n",
    "                        }},\n",
    "                        \"description\": \"Key terms supporting the primary theme\"\n",
    "                    }},\n",
    "                    \"sentiment_distribution\": {{\n",
    "                        \"type\": \"object\",\n",
    "                        \"properties\": {{\n",
    "                            \"positive_percentage\": {{\n",
    "                                \"type\": \"number\",\n",
    "                                \"minimum\": 0,\n",
    "                                \"maximum\": 100\n",
    "                            }},\n",
    "                            \"negative_percentage\": {{\n",
    "                                \"type\": \"number\",\n",
    "                                \"minimum\": 0,\n",
    "                                \"maximum\": 100\n",
    "                            }},\n",
    "                            \"neutral_percentage\": {{\n",
    "                                \"type\": \"number\",\n",
    "                                \"minimum\": 0,\n",
    "                                \"maximum\": 100\n",
    "                            }}\n",
    "                        }}\n",
    "                    }}\n",
    "                }},\n",
    "                \"required\": [\"name\", \"confidence\"]\n",
    "            }}\n",
    "        }},\n",
    "        \"metadata\": {{\n",
    "            \"type\": \"object\",\n",
    "            \"properties\": {{\n",
    "                \"total_tweets_analyzed\": {{\n",
    "                    \"type\": \"integer\",\n",
    "                    \"minimum\": 0\n",
    "                }},\n",
    "                \"unique_themes_count\": {{\n",
    "                    \"type\": \"integer\",\n",
    "                    \"minimum\": 0\n",
    "                }},\n",
    "                \"dominant_sentiment\": {{\n",
    "                    \"type\": \"string\",\n",
    "                    \"enum\": [\"positive\", \"negative\", \"neutral\"]\n",
    "                }},\n",
    "                \"language_distribution\": {{\n",
    "                    \"type\": \"object\",\n",
    "                    \"additionalProperties\": {{\n",
    "                        \"type\": \"integer\"\n",
    "                    }}\n",
    "                }}\n",
    "            }}\n",
    "        }}\n",
    "    }},\n",
    "    \"required\": [\"overall_themes\"]\n",
    "}}\"\"\""
   ]
  },
  {
   "cell_type": "code",
   "execution_count": 9,
   "metadata": {},
   "outputs": [
    {
     "name": "stderr",
     "output_type": "stream",
     "text": [
      "/Users/markushenriksson/Desktop/Data/Python/DDBMS-Submission/.conda/lib/python3.11/site-packages/pydantic/fields.py:1007: PydanticDeprecatedSince20: `max_items` is deprecated and will be removed, use `max_length` instead. Deprecated in Pydantic V2.0 to be removed in V3.0. See Pydantic V2 Migration Guide at https://errors.pydantic.dev/2.10/migration/\n",
      "  warn('`max_items` is deprecated and will be removed, use `max_length` instead', DeprecationWarning)\n"
     ]
    }
   ],
   "source": [
    "from pydantic import BaseModel, Field\n",
    "from typing import List, Optional, Dict\n",
    "\n",
    "\n",
    "class Centrality(BaseModel):\n",
    "    weight: float = Field(\n",
    "        description=\"Theme heaviness/importance\",\n",
    "        ge=0,\n",
    "        le=100\n",
    "    )\n",
    "    calculation_factors: Optional[List[str]] = Field(\n",
    "        default=None,\n",
    "        description=\"Factors used to calculate theme centrality\"\n",
    "    )\n",
    "\n",
    "\n",
    "class SubTheme(BaseModel):\n",
    "    name: str = Field(description=\"Specific sub-theme name\")\n",
    "    causations: Optional[List[str]] = Field(\n",
    "        default=None,\n",
    "        description=\"Underlying factors driving the sub-theme\"\n",
    "    )\n",
    "    keywords: Optional[List[str]] = Field(\n",
    "        default=None,\n",
    "        description=\"Supporting keywords for the sub-theme\"\n",
    "    )\n",
    "    sentiment: Optional[str] = Field(\n",
    "        default=None,\n",
    "        description=\"Emotional tone of the sub-theme\",\n",
    "        pattern=\"^(positive|negative|neutral)$\"\n",
    "    )\n",
    "    confidence: Optional[float] = Field(\n",
    "        default=None,\n",
    "        description=\"Confidence level of sub-theme identification\",\n",
    "        ge=0,\n",
    "        le=100\n",
    "    )\n",
    "\n",
    "\n",
    "class SentimentDistribution(BaseModel):\n",
    "    positive_percentage: float = Field(ge=0, le=100)\n",
    "    negative_percentage: float = Field(ge=0, le=100)\n",
    "    neutral_percentage: float = Field(ge=0, le=100)\n",
    "\n",
    "\n",
    "class OverallTheme(BaseModel):\n",
    "    name: str = Field(description=\"Primary theme name\")\n",
    "    confidence: float = Field(\n",
    "        description=\"Confidence level of theme identification\",\n",
    "        ge=0,\n",
    "        le=100\n",
    "    )\n",
    "    centrality: Optional[Centrality] = Field(\n",
    "        default=None,\n",
    "        description=\"Theme centrality and importance\"\n",
    "    )\n",
    "    sub_themes: Optional[List[SubTheme]] = Field(\n",
    "        default=None,\n",
    "        description=\"Sub-themes within the primary theme\"\n",
    "    )\n",
    "    keywords: Optional[List[str]] = Field(\n",
    "        default=None,\n",
    "        description=\"Key terms supporting the primary theme\"\n",
    "    )\n",
    "    sentiment_distribution: Optional[SentimentDistribution] = Field(\n",
    "        default=None,\n",
    "        description=\"Sentiment distribution for the theme\"\n",
    "    )\n",
    "\n",
    "\n",
    "class Metadata(BaseModel):\n",
    "    total_tweets_analyzed: Optional[int] = Field(\n",
    "        default=None,\n",
    "        description=\"Total number of tweets analyzed\",\n",
    "        ge=0\n",
    "    )\n",
    "    unique_themes_count: Optional[int] = Field(\n",
    "        default=None,\n",
    "        description=\"Number of unique themes identified\",\n",
    "        ge=0\n",
    "    )\n",
    "    dominant_sentiment: Optional[str] = Field(\n",
    "        default=None,\n",
    "        description=\"Overall dominant sentiment\",\n",
    "        pattern=\"^(positive|negative|neutral)$\"\n",
    "    )\n",
    "    language_distribution: Optional[Dict[str, int]] = Field(\n",
    "        default=None,\n",
    "        description=\"Distribution of languages in the tweets\"\n",
    "    )\n",
    "\n",
    "\n",
    "class TweetAnalysis(BaseModel):\n",
    "    overall_themes: List[OverallTheme] = Field(\n",
    "        description=\"List of overall themes\",\n",
    "        max_items=10\n",
    "    )\n",
    "    metadata: Optional[Metadata] = Field(\n",
    "        default=None,\n",
    "        description=\"Metadata about the tweet collection\"\n",
    "    )\n",
    "\n",
    "\n",
    "# Dynamically generate the schema\n",
    "json_schema = TweetAnalysis.model_json_schema()"
   ]
  },
  {
   "cell_type": "code",
   "execution_count": 10,
   "metadata": {},
   "outputs": [
    {
     "name": "stdout",
     "output_type": "stream",
     "text": [
      "Results saved in label_0_1.json\n"
     ]
    }
   ],
   "source": [
    "import tiktoken\n",
    "import pandas as pd\n",
    "import json\n",
    "import time\n",
    "from concurrent.futures import ThreadPoolExecutor\n",
    "from queue import Queue\n",
    "import threading\n",
    "\n",
    "\n",
    "\n",
    "\n",
    "def rate_limited_executor(max_calls_per_minute=100):\n",
    "    \"\"\"Rate-limited executor for API calls.\"\"\"\n",
    "    call_queue = Queue()\n",
    "\n",
    "\n",
    "\n",
    "\n",
    "    def worker():\n",
    "        while True:\n",
    "            func, args, kwargs, result_queue = call_queue.get()\n",
    "            try:\n",
    "                result_queue.put(func(*args, **kwargs))\n",
    "            except Exception as e:\n",
    "                result_queue.put(e)\n",
    "            call_queue.task_done()\n",
    "            time.sleep(60 / max_calls_per_minute)\n",
    "\n",
    "\n",
    "\n",
    "\n",
    "    for _ in range(max_calls_per_minute):\n",
    "        threading.Thread(target=worker, daemon=True).start()\n",
    "\n",
    "\n",
    "\n",
    "\n",
    "    def submit(func, *args, **kwargs):\n",
    "        result_queue = Queue()\n",
    "        call_queue.put((func, args, kwargs, result_queue))\n",
    "        result = result_queue.get()\n",
    "        if isinstance(result, Exception):\n",
    "            raise result\n",
    "        return result\n",
    "\n",
    "\n",
    "\n",
    "\n",
    "    return submit\n",
    "\n",
    "\n",
    "\n",
    "\n",
    "def process_batch(tweets, executor, model, schema, batch_size):\n",
    "    \"\"\"Process one batch of tweets.\"\"\"\n",
    "    messages = [\n",
    "        {'role': 'system', 'content': SYSTEM_PROMPT},\n",
    "        {'role': 'user', 'content': json.dumps(tweets)}\n",
    "    ]\n",
    "    try:\n",
    "        response = executor(\n",
    "            client.chat.completions.create,\n",
    "            model=model,\n",
    "            messages=messages,\n",
    "            temperature=0.7,\n",
    "            response_format={\"type\": \"json_object\", \"schema\": schema},\n",
    "            max_tokens=8192\n",
    "        )\n",
    "        return {\n",
    "            'batch_size': len(tweets),\n",
    "            'response': response.choices[0].message.content\n",
    "        }\n",
    "    except Exception as e:\n",
    "        return {\n",
    "            'batch_size': len(tweets),\n",
    "            'error': str(e)\n",
    "        }\n",
    "\n",
    "\n",
    "\n",
    "\n",
    "def parallel_process_tweets(data, batch_size, max_workers, model, schema):\n",
    "    \"\"\"Parallel processing of tweets with rate-limiting.\"\"\"\n",
    "    executor = rate_limited_executor(max_calls_per_minute=60)\n",
    "    results = []\n",
    "\n",
    "\n",
    "\n",
    "\n",
    "    def process_and_collect(batch):\n",
    "        tweets = batch['Tweet_text'].tolist()\n",
    "        return process_batch(tweets, executor, model, schema, batch_size)\n",
    "\n",
    "\n",
    "\n",
    "\n",
    "    with ThreadPoolExecutor(max_workers=max_workers) as pool:\n",
    "        batches = [data.iloc[i:i + batch_size] for i in range(0, len(data), batch_size)]\n",
    "        futures = [pool.submit(process_and_collect, batch) for batch in batches]\n",
    "        for future in futures:\n",
    "            results.append(future.result())\n",
    "\n",
    "\n",
    "\n",
    "\n",
    "    return pd.DataFrame(results)\n",
    "\n",
    "\n",
    "\n",
    "\n",
    "def save_results(data, filename):\n",
    "    \"\"\"Save data to JSON file.\"\"\"\n",
    "    try:\n",
    "        with open(filename, 'w', encoding='utf-8') as f:\n",
    "            json.dump(data, f, ensure_ascii=False, indent=4)\n",
    "        print(f\"Results saved in {filename}\")\n",
    "    except Exception as e:\n",
    "        print(f\"Error during saving: {e}\")\n",
    "\n",
    "\n",
    "\n",
    "\n",
    "# Assuming 'data_label_0' is your DataFrame filtered for label 0\n",
    "processed_tweets = parallel_process_tweets(\n",
    "    data=data_label_0,  # Use the data_label_0 DataFrame\n",
    "    batch_size=10,      # Batch size\n",
    "    max_workers=64,     # Number of parallel threads\n",
    "    model=model,        # Your model variable\n",
    "    schema=json_schema  # Your JSON schema variable\n",
    ")\n",
    "\n",
    "\n",
    "\n",
    "\n",
    "# Save the results to label_0_1.json\n",
    "save_results(processed_tweets.to_dict(orient=\"records\"), \"label_0_1.json\")"
   ]
  },
  {
   "cell_type": "code",
   "execution_count": 11,
   "metadata": {},
   "outputs": [
    {
     "name": "stdout",
     "output_type": "stream",
     "text": [
      "Results saved in label_1_1.json\n"
     ]
    }
   ],
   "source": [
    "import tiktoken\n",
    "import pandas as pd\n",
    "import json\n",
    "import time\n",
    "from concurrent.futures import ThreadPoolExecutor\n",
    "from queue import Queue\n",
    "import threading\n",
    "import openai  # Make sure to import openai\n",
    "\n",
    "\n",
    "\n",
    "\n",
    "def rate_limited_executor(max_calls_per_minute=100):\n",
    "    \"\"\"Rate-limited executor for API calls.\"\"\"\n",
    "    call_queue = Queue()\n",
    "\n",
    "\n",
    "    def worker():\n",
    "        while True:\n",
    "            func, args, kwargs, result_queue = call_queue.get()\n",
    "            try:\n",
    "                result_queue.put(func(*args, **kwargs))\n",
    "            except Exception as e:\n",
    "                result_queue.put(e)\n",
    "            call_queue.task_done()\n",
    "            time.sleep(60 / max_calls_per_minute)\n",
    "\n",
    "\n",
    "    for _ in range(max_calls_per_minute):\n",
    "        threading.Thread(target=worker, daemon=True).start()\n",
    "\n",
    "\n",
    "    def submit(func, *args, **kwargs):\n",
    "        result_queue = Queue()\n",
    "        call_queue.put((func, args, kwargs, result_queue))\n",
    "        result = result_queue.get()\n",
    "        if isinstance(result, Exception):\n",
    "            raise result\n",
    "        return result\n",
    "\n",
    "\n",
    "    return submit\n",
    "\n",
    "\n",
    "\n",
    "\n",
    "def process_batch(tweets, executor, model, schema, batch_size):\n",
    "    \"\"\"Process one batch of tweets.\"\"\"\n",
    "    messages = [\n",
    "        {'role': 'system', 'content': SYSTEM_PROMPT},\n",
    "        {'role': 'user', 'content': json.dumps(tweets)}\n",
    "    ]\n",
    "    try:\n",
    "        response = executor(\n",
    "            client.chat.completions.create,\n",
    "            model=model,\n",
    "            messages=messages,\n",
    "            temperature=0.7,\n",
    "            response_format={\"type\": \"json_object\", \"schema\": schema},\n",
    "            max_tokens=8192\n",
    "        )\n",
    "        return {'batch_size': len(tweets), 'response': response.choices[0].message.content}\n",
    "    except Exception as e:\n",
    "        return {'batch_size': len(tweets), 'error': str(e)}\n",
    "\n",
    "\n",
    "\n",
    "\n",
    "def parallel_process_tweets(data, batch_size, max_workers, model, schema):\n",
    "    \"\"\"Parallel processing of tweets with rate-limiting.\"\"\"\n",
    "    executor = rate_limited_executor(max_calls_per_minute=60)\n",
    "    results = []\n",
    "\n",
    "\n",
    "    def process_and_collect(batch):\n",
    "        tweets = batch['Tweet_text'].tolist()\n",
    "        return process_batch(tweets, executor, model, schema, batch_size)\n",
    "\n",
    "\n",
    "    with ThreadPoolExecutor(max_workers=max_workers) as pool:\n",
    "        batches = [data.iloc[i:i + batch_size] for i in range(0, len(data), batch_size)]\n",
    "        futures = [pool.submit(process_and_collect, batch) for batch in batches]\n",
    "        for future in futures:\n",
    "            results.append(future.result())\n",
    "\n",
    "\n",
    "    return pd.DataFrame(results)\n",
    "\n",
    "\n",
    "\n",
    "\n",
    "def save_results(data, filename):\n",
    "    \"\"\"Save data to JSON file.\"\"\"\n",
    "    try:\n",
    "        with open(filename, 'w', encoding='utf-8') as f:\n",
    "            json.dump(data, f, ensure_ascii=False, indent=4)\n",
    "        print(f\"Results saved in {filename}\")\n",
    "    except Exception as e:\n",
    "        print(f\"Error during saving: {e}\")\n",
    "\n",
    "\n",
    "\n",
    "\n",
    "# Assuming these are already defined in your previous code\n",
    "# SYSTEM_PROMPT\n",
    "# client (OpenAI client)\n",
    "# model\n",
    "# json_schema\n",
    "# data_label_1 (DataFrame filtered for label 1)\n",
    "\n",
    "\n",
    "# Process data_label_1 and save results\n",
    "processed_tweets_label_1 = parallel_process_tweets(\n",
    "    data=data_label_1,      # Use the data_label_1 DataFrame\n",
    "    batch_size=10,          # Batch size\n",
    "    max_workers=64,         # Number of parallel threads\n",
    "    model=model,            # Your model variable\n",
    "    schema=json_schema      # Your JSON schema variable\n",
    ")\n",
    "\n",
    "\n",
    "# Save the results to label_1_1.json\n",
    "save_results(processed_tweets_label_1.to_dict(orient=\"records\"), \"label_1_1.json\")"
   ]
  },
  {
   "cell_type": "code",
   "execution_count": 12,
   "metadata": {},
   "outputs": [
    {
     "name": "stdout",
     "output_type": "stream",
     "text": [
      "Total Themes: 0\n",
      "Bot Themes: 0\n",
      "Non-Bot Themes: 0\n",
      "Mixed Themes: 0\n"
     ]
    },
    {
     "data": {
      "application/vnd.plotly.v1+json": {
       "config": {
        "plotlyServerURL": "https://plot.ly"
       },
       "data": [],
       "layout": {
        "height": 800,
        "hovermode": "closest",
        "margin": {
         "b": 20,
         "l": 20,
         "r": 20,
         "t": 60
        },
        "paper_bgcolor": "white",
        "plot_bgcolor": "white",
        "showlegend": true,
        "template": {
         "data": {
          "bar": [
           {
            "error_x": {
             "color": "#2a3f5f"
            },
            "error_y": {
             "color": "#2a3f5f"
            },
            "marker": {
             "line": {
              "color": "#E5ECF6",
              "width": 0.5
             },
             "pattern": {
              "fillmode": "overlay",
              "size": 10,
              "solidity": 0.2
             }
            },
            "type": "bar"
           }
          ],
          "barpolar": [
           {
            "marker": {
             "line": {
              "color": "#E5ECF6",
              "width": 0.5
             },
             "pattern": {
              "fillmode": "overlay",
              "size": 10,
              "solidity": 0.2
             }
            },
            "type": "barpolar"
           }
          ],
          "carpet": [
           {
            "aaxis": {
             "endlinecolor": "#2a3f5f",
             "gridcolor": "white",
             "linecolor": "white",
             "minorgridcolor": "white",
             "startlinecolor": "#2a3f5f"
            },
            "baxis": {
             "endlinecolor": "#2a3f5f",
             "gridcolor": "white",
             "linecolor": "white",
             "minorgridcolor": "white",
             "startlinecolor": "#2a3f5f"
            },
            "type": "carpet"
           }
          ],
          "choropleth": [
           {
            "colorbar": {
             "outlinewidth": 0,
             "ticks": ""
            },
            "type": "choropleth"
           }
          ],
          "contour": [
           {
            "colorbar": {
             "outlinewidth": 0,
             "ticks": ""
            },
            "colorscale": [
             [
              0,
              "#0d0887"
             ],
             [
              0.1111111111111111,
              "#46039f"
             ],
             [
              0.2222222222222222,
              "#7201a8"
             ],
             [
              0.3333333333333333,
              "#9c179e"
             ],
             [
              0.4444444444444444,
              "#bd3786"
             ],
             [
              0.5555555555555556,
              "#d8576b"
             ],
             [
              0.6666666666666666,
              "#ed7953"
             ],
             [
              0.7777777777777778,
              "#fb9f3a"
             ],
             [
              0.8888888888888888,
              "#fdca26"
             ],
             [
              1,
              "#f0f921"
             ]
            ],
            "type": "contour"
           }
          ],
          "contourcarpet": [
           {
            "colorbar": {
             "outlinewidth": 0,
             "ticks": ""
            },
            "type": "contourcarpet"
           }
          ],
          "heatmap": [
           {
            "colorbar": {
             "outlinewidth": 0,
             "ticks": ""
            },
            "colorscale": [
             [
              0,
              "#0d0887"
             ],
             [
              0.1111111111111111,
              "#46039f"
             ],
             [
              0.2222222222222222,
              "#7201a8"
             ],
             [
              0.3333333333333333,
              "#9c179e"
             ],
             [
              0.4444444444444444,
              "#bd3786"
             ],
             [
              0.5555555555555556,
              "#d8576b"
             ],
             [
              0.6666666666666666,
              "#ed7953"
             ],
             [
              0.7777777777777778,
              "#fb9f3a"
             ],
             [
              0.8888888888888888,
              "#fdca26"
             ],
             [
              1,
              "#f0f921"
             ]
            ],
            "type": "heatmap"
           }
          ],
          "heatmapgl": [
           {
            "colorbar": {
             "outlinewidth": 0,
             "ticks": ""
            },
            "colorscale": [
             [
              0,
              "#0d0887"
             ],
             [
              0.1111111111111111,
              "#46039f"
             ],
             [
              0.2222222222222222,
              "#7201a8"
             ],
             [
              0.3333333333333333,
              "#9c179e"
             ],
             [
              0.4444444444444444,
              "#bd3786"
             ],
             [
              0.5555555555555556,
              "#d8576b"
             ],
             [
              0.6666666666666666,
              "#ed7953"
             ],
             [
              0.7777777777777778,
              "#fb9f3a"
             ],
             [
              0.8888888888888888,
              "#fdca26"
             ],
             [
              1,
              "#f0f921"
             ]
            ],
            "type": "heatmapgl"
           }
          ],
          "histogram": [
           {
            "marker": {
             "pattern": {
              "fillmode": "overlay",
              "size": 10,
              "solidity": 0.2
             }
            },
            "type": "histogram"
           }
          ],
          "histogram2d": [
           {
            "colorbar": {
             "outlinewidth": 0,
             "ticks": ""
            },
            "colorscale": [
             [
              0,
              "#0d0887"
             ],
             [
              0.1111111111111111,
              "#46039f"
             ],
             [
              0.2222222222222222,
              "#7201a8"
             ],
             [
              0.3333333333333333,
              "#9c179e"
             ],
             [
              0.4444444444444444,
              "#bd3786"
             ],
             [
              0.5555555555555556,
              "#d8576b"
             ],
             [
              0.6666666666666666,
              "#ed7953"
             ],
             [
              0.7777777777777778,
              "#fb9f3a"
             ],
             [
              0.8888888888888888,
              "#fdca26"
             ],
             [
              1,
              "#f0f921"
             ]
            ],
            "type": "histogram2d"
           }
          ],
          "histogram2dcontour": [
           {
            "colorbar": {
             "outlinewidth": 0,
             "ticks": ""
            },
            "colorscale": [
             [
              0,
              "#0d0887"
             ],
             [
              0.1111111111111111,
              "#46039f"
             ],
             [
              0.2222222222222222,
              "#7201a8"
             ],
             [
              0.3333333333333333,
              "#9c179e"
             ],
             [
              0.4444444444444444,
              "#bd3786"
             ],
             [
              0.5555555555555556,
              "#d8576b"
             ],
             [
              0.6666666666666666,
              "#ed7953"
             ],
             [
              0.7777777777777778,
              "#fb9f3a"
             ],
             [
              0.8888888888888888,
              "#fdca26"
             ],
             [
              1,
              "#f0f921"
             ]
            ],
            "type": "histogram2dcontour"
           }
          ],
          "mesh3d": [
           {
            "colorbar": {
             "outlinewidth": 0,
             "ticks": ""
            },
            "type": "mesh3d"
           }
          ],
          "parcoords": [
           {
            "line": {
             "colorbar": {
              "outlinewidth": 0,
              "ticks": ""
             }
            },
            "type": "parcoords"
           }
          ],
          "pie": [
           {
            "automargin": true,
            "type": "pie"
           }
          ],
          "scatter": [
           {
            "fillpattern": {
             "fillmode": "overlay",
             "size": 10,
             "solidity": 0.2
            },
            "type": "scatter"
           }
          ],
          "scatter3d": [
           {
            "line": {
             "colorbar": {
              "outlinewidth": 0,
              "ticks": ""
             }
            },
            "marker": {
             "colorbar": {
              "outlinewidth": 0,
              "ticks": ""
             }
            },
            "type": "scatter3d"
           }
          ],
          "scattercarpet": [
           {
            "marker": {
             "colorbar": {
              "outlinewidth": 0,
              "ticks": ""
             }
            },
            "type": "scattercarpet"
           }
          ],
          "scattergeo": [
           {
            "marker": {
             "colorbar": {
              "outlinewidth": 0,
              "ticks": ""
             }
            },
            "type": "scattergeo"
           }
          ],
          "scattergl": [
           {
            "marker": {
             "colorbar": {
              "outlinewidth": 0,
              "ticks": ""
             }
            },
            "type": "scattergl"
           }
          ],
          "scattermapbox": [
           {
            "marker": {
             "colorbar": {
              "outlinewidth": 0,
              "ticks": ""
             }
            },
            "type": "scattermapbox"
           }
          ],
          "scatterpolar": [
           {
            "marker": {
             "colorbar": {
              "outlinewidth": 0,
              "ticks": ""
             }
            },
            "type": "scatterpolar"
           }
          ],
          "scatterpolargl": [
           {
            "marker": {
             "colorbar": {
              "outlinewidth": 0,
              "ticks": ""
             }
            },
            "type": "scatterpolargl"
           }
          ],
          "scatterternary": [
           {
            "marker": {
             "colorbar": {
              "outlinewidth": 0,
              "ticks": ""
             }
            },
            "type": "scatterternary"
           }
          ],
          "surface": [
           {
            "colorbar": {
             "outlinewidth": 0,
             "ticks": ""
            },
            "colorscale": [
             [
              0,
              "#0d0887"
             ],
             [
              0.1111111111111111,
              "#46039f"
             ],
             [
              0.2222222222222222,
              "#7201a8"
             ],
             [
              0.3333333333333333,
              "#9c179e"
             ],
             [
              0.4444444444444444,
              "#bd3786"
             ],
             [
              0.5555555555555556,
              "#d8576b"
             ],
             [
              0.6666666666666666,
              "#ed7953"
             ],
             [
              0.7777777777777778,
              "#fb9f3a"
             ],
             [
              0.8888888888888888,
              "#fdca26"
             ],
             [
              1,
              "#f0f921"
             ]
            ],
            "type": "surface"
           }
          ],
          "table": [
           {
            "cells": {
             "fill": {
              "color": "#EBF0F8"
             },
             "line": {
              "color": "white"
             }
            },
            "header": {
             "fill": {
              "color": "#C8D4E3"
             },
             "line": {
              "color": "white"
             }
            },
            "type": "table"
           }
          ]
         },
         "layout": {
          "annotationdefaults": {
           "arrowcolor": "#2a3f5f",
           "arrowhead": 0,
           "arrowwidth": 1
          },
          "autotypenumbers": "strict",
          "coloraxis": {
           "colorbar": {
            "outlinewidth": 0,
            "ticks": ""
           }
          },
          "colorscale": {
           "diverging": [
            [
             0,
             "#8e0152"
            ],
            [
             0.1,
             "#c51b7d"
            ],
            [
             0.2,
             "#de77ae"
            ],
            [
             0.3,
             "#f1b6da"
            ],
            [
             0.4,
             "#fde0ef"
            ],
            [
             0.5,
             "#f7f7f7"
            ],
            [
             0.6,
             "#e6f5d0"
            ],
            [
             0.7,
             "#b8e186"
            ],
            [
             0.8,
             "#7fbc41"
            ],
            [
             0.9,
             "#4d9221"
            ],
            [
             1,
             "#276419"
            ]
           ],
           "sequential": [
            [
             0,
             "#0d0887"
            ],
            [
             0.1111111111111111,
             "#46039f"
            ],
            [
             0.2222222222222222,
             "#7201a8"
            ],
            [
             0.3333333333333333,
             "#9c179e"
            ],
            [
             0.4444444444444444,
             "#bd3786"
            ],
            [
             0.5555555555555556,
             "#d8576b"
            ],
            [
             0.6666666666666666,
             "#ed7953"
            ],
            [
             0.7777777777777778,
             "#fb9f3a"
            ],
            [
             0.8888888888888888,
             "#fdca26"
            ],
            [
             1,
             "#f0f921"
            ]
           ],
           "sequentialminus": [
            [
             0,
             "#0d0887"
            ],
            [
             0.1111111111111111,
             "#46039f"
            ],
            [
             0.2222222222222222,
             "#7201a8"
            ],
            [
             0.3333333333333333,
             "#9c179e"
            ],
            [
             0.4444444444444444,
             "#bd3786"
            ],
            [
             0.5555555555555556,
             "#d8576b"
            ],
            [
             0.6666666666666666,
             "#ed7953"
            ],
            [
             0.7777777777777778,
             "#fb9f3a"
            ],
            [
             0.8888888888888888,
             "#fdca26"
            ],
            [
             1,
             "#f0f921"
            ]
           ]
          },
          "colorway": [
           "#636efa",
           "#EF553B",
           "#00cc96",
           "#ab63fa",
           "#FFA15A",
           "#19d3f3",
           "#FF6692",
           "#B6E880",
           "#FF97FF",
           "#FECB52"
          ],
          "font": {
           "color": "#2a3f5f"
          },
          "geo": {
           "bgcolor": "white",
           "lakecolor": "white",
           "landcolor": "#E5ECF6",
           "showlakes": true,
           "showland": true,
           "subunitcolor": "white"
          },
          "hoverlabel": {
           "align": "left"
          },
          "hovermode": "closest",
          "mapbox": {
           "style": "light"
          },
          "paper_bgcolor": "white",
          "plot_bgcolor": "#E5ECF6",
          "polar": {
           "angularaxis": {
            "gridcolor": "white",
            "linecolor": "white",
            "ticks": ""
           },
           "bgcolor": "#E5ECF6",
           "radialaxis": {
            "gridcolor": "white",
            "linecolor": "white",
            "ticks": ""
           }
          },
          "scene": {
           "xaxis": {
            "backgroundcolor": "#E5ECF6",
            "gridcolor": "white",
            "gridwidth": 2,
            "linecolor": "white",
            "showbackground": true,
            "ticks": "",
            "zerolinecolor": "white"
           },
           "yaxis": {
            "backgroundcolor": "#E5ECF6",
            "gridcolor": "white",
            "gridwidth": 2,
            "linecolor": "white",
            "showbackground": true,
            "ticks": "",
            "zerolinecolor": "white"
           },
           "zaxis": {
            "backgroundcolor": "#E5ECF6",
            "gridcolor": "white",
            "gridwidth": 2,
            "linecolor": "white",
            "showbackground": true,
            "ticks": "",
            "zerolinecolor": "white"
           }
          },
          "shapedefaults": {
           "line": {
            "color": "#2a3f5f"
           }
          },
          "ternary": {
           "aaxis": {
            "gridcolor": "white",
            "linecolor": "white",
            "ticks": ""
           },
           "baxis": {
            "gridcolor": "white",
            "linecolor": "white",
            "ticks": ""
           },
           "bgcolor": "#E5ECF6",
           "caxis": {
            "gridcolor": "white",
            "linecolor": "white",
            "ticks": ""
           }
          },
          "title": {
           "x": 0.05
          },
          "xaxis": {
           "automargin": true,
           "gridcolor": "white",
           "linecolor": "white",
           "ticks": "",
           "title": {
            "standoff": 15
           },
           "zerolinecolor": "white",
           "zerolinewidth": 2
          },
          "yaxis": {
           "automargin": true,
           "gridcolor": "white",
           "linecolor": "white",
           "ticks": "",
           "title": {
            "standoff": 15
           },
           "zerolinecolor": "white",
           "zerolinewidth": 2
          }
         }
        },
        "title": {
         "text": "Theme Network Visualization"
        },
        "width": 1000,
        "xaxis": {
         "range": [
          -10,
          10
         ],
         "showgrid": false,
         "showticklabels": false,
         "zeroline": false
        },
        "yaxis": {
         "range": [
          -10,
          10
         ],
         "showgrid": false,
         "showticklabels": false,
         "zeroline": false
        }
       }
      }
     },
     "metadata": {},
     "output_type": "display_data"
    }
   ],
   "source": [
    "import json\n",
    "import networkx as nx\n",
    "import plotly.graph_objects as go\n",
    "import numpy as np\n",
    "\n",
    "\n",
    "def load_json_file(file_path):\n",
    "    \"\"\"Load JSON file safely.\"\"\"\n",
    "    try:\n",
    "        with open(file_path, 'r', encoding='utf-8') as file:\n",
    "            return json.load(file)\n",
    "    except Exception as e:\n",
    "        print(f\"Error loading JSON file {file_path}: {e}\")\n",
    "        return []\n",
    "\n",
    "\n",
    "def create_theme_network(data_bot, data_nonbot, min_confidence=90):\n",
    "    \"\"\"Create a network graph from themes with a minimum confidence level.\"\"\"\n",
    "    G = nx.Graph()\n",
    "\n",
    "\n",
    "    def process_data(data, is_bot=True):\n",
    "        for item in data:\n",
    "            response = item.get('response')\n",
    "            if isinstance(response, str):\n",
    "                try:\n",
    "                    response_data = json.loads(response)\n",
    "                    themes = response_data.get('themes', [])\n",
    "\n",
    "\n",
    "                    for theme in themes:\n",
    "                        confidence = theme.get('confidence', 0)\n",
    "                        if confidence >= min_confidence:\n",
    "                            theme_name = theme['name']\n",
    "                            differences = theme.get('differences', [])\n",
    "                            heaviness = theme.get('heaviness', 0)\n",
    "\n",
    "\n",
    "                            # Add or update theme node\n",
    "                            if not G.has_node(theme_name):\n",
    "                                G.add_node(theme_name,\n",
    "                                           type='theme',\n",
    "                                           is_bot=is_bot,\n",
    "                                           confidence=confidence,\n",
    "                                           differences=differences,\n",
    "                                           heaviness=heaviness)\n",
    "                            else:\n",
    "                                # If node exists and bot status is different, mark as mixed\n",
    "                                current_bot_status = G.nodes[theme_name].get('is_bot')\n",
    "                                if current_bot_status != is_bot:\n",
    "                                    G.nodes[theme_name]['is_bot'] = 'mixed'\n",
    "\n",
    "\n",
    "                except json.JSONDecodeError:\n",
    "                    print(f\"Invalid JSON in response: {response}\")\n",
    "\n",
    "\n",
    "    # Process bot and non-bot data\n",
    "    process_data(data_bot, is_bot=True)\n",
    "    process_data(data_nonbot, is_bot=False)\n",
    "\n",
    "\n",
    "    return G\n",
    "\n",
    "\n",
    "def visualize_network(G):\n",
    "    \"\"\"Visualize bot, non-bot, and mixed themes in clustered regions.\"\"\"\n",
    "    # Separate nodes by bot status\n",
    "    bot_nodes = [node for node, data in G.nodes(data=True) if data.get('is_bot') == True]\n",
    "    nonbot_nodes = [node for node, data in G.nodes(data=True) if data.get('is_bot') == False]\n",
    "    mixed_nodes = [node for node, data in G.nodes(data=True) if data.get('is_bot') == 'mixed']\n",
    "\n",
    "\n",
    "    # Create traces for each category\n",
    "    traces = []\n",
    "\n",
    "\n",
    "    # Bot nodes - clustered in bottom left\n",
    "    if bot_nodes:\n",
    "        bot_x = np.random.normal(loc=-5, scale=2, size=len(bot_nodes))\n",
    "        bot_y = np.random.normal(loc=-5, scale=2, size=len(bot_nodes))\n",
    "        bot_trace = go.Scatter(\n",
    "            x=bot_x,\n",
    "            y=bot_y,\n",
    "            mode='markers+text',\n",
    "            text=bot_nodes,\n",
    "            textposition=\"top center\",\n",
    "            marker=dict(\n",
    "                size=10,\n",
    "                color='rgb(255,0,0)',  # Red\n",
    "                line=dict(width=2, color='rgb(139,0,0)')  # Dark red\n",
    "            ),\n",
    "            name='Bot Themes'\n",
    "        )\n",
    "        traces.append(bot_trace)\n",
    "\n",
    "\n",
    "    # Non-bot nodes - clustered in top right\n",
    "    if nonbot_nodes:\n",
    "        nonbot_x = np.random.normal(loc=5, scale=2, size=len(nonbot_nodes))\n",
    "        nonbot_y = np.random.normal(loc=5, scale=2, size=len(nonbot_nodes))\n",
    "        nonbot_trace = go.Scatter(\n",
    "            x=nonbot_x,\n",
    "            y=nonbot_y,\n",
    "            mode='markers+text',\n",
    "            text=nonbot_nodes,\n",
    "            textposition=\"top center\",\n",
    "            marker=dict(\n",
    "                size=10,\n",
    "                color='rgb(0,255,0)',  # Green\n",
    "                line=dict(width=2, color='rgb(0,100,0)')  # Dark green\n",
    "            ),\n",
    "            name='Non-Bot Themes'\n",
    "        )\n",
    "        traces.append(nonbot_trace)\n",
    "\n",
    "\n",
    "    # Mixed nodes - clustered in center\n",
    "    if mixed_nodes:\n",
    "        mixed_x = np.random.normal(loc=0, scale=2, size=len(mixed_nodes))\n",
    "        mixed_y = np.random.normal(loc=0, scale=2, size=len(mixed_nodes))\n",
    "        mixed_trace = go.Scatter(\n",
    "            x=mixed_x,\n",
    "            y=mixed_y,\n",
    "            mode='markers+text',\n",
    "            text=mixed_nodes,\n",
    "            textposition=\"top center\",\n",
    "            marker=dict(\n",
    "                size=10,\n",
    "                color='rgb(128,0,128)',  # Purple\n",
    "                line=dict(width=2, color='rgb(75,0,130)')  # Indigo\n",
    "            ),\n",
    "            name='Mixed Themes'\n",
    "        )\n",
    "        traces.append(mixed_trace)\n",
    "\n",
    "\n",
    "    # Create figure\n",
    "    fig = go.Figure(data=traces)\n",
    "\n",
    "\n",
    "    # Update layout for better visualization\n",
    "    fig.update_layout(\n",
    "        title=\"Theme Network Visualization\",\n",
    "        showlegend=True,\n",
    "        hovermode='closest',\n",
    "        width=1000,\n",
    "        height=800,\n",
    "        margin=dict(b=20, l=20, r=20, t=60),\n",
    "        xaxis=dict(\n",
    "            showgrid=False,\n",
    "            zeroline=False,\n",
    "            showticklabels=False,\n",
    "            range=[-10, 10]\n",
    "        ),\n",
    "        yaxis=dict(\n",
    "            showgrid=False,\n",
    "            zeroline=False,\n",
    "            showticklabels=False,\n",
    "            range=[-10, 10]\n",
    "        ),\n",
    "        plot_bgcolor='white',\n",
    "        paper_bgcolor='white'\n",
    "    )\n",
    "\n",
    "\n",
    "    # Print statistics\n",
    "    print(f\"Total Themes: {len(G.nodes())}\")\n",
    "    print(f\"Bot Themes: {len(bot_nodes)}\")\n",
    "    print(f\"Non-Bot Themes: {len(nonbot_nodes)}\")\n",
    "    print(f\"Mixed Themes: {len(mixed_nodes)}\")\n",
    "\n",
    "\n",
    "    # Show the figure\n",
    "    fig.show()\n",
    "\n",
    "\n",
    "# Load the JSON files\n",
    "data_label_0 = load_json_file('label_0_1.json')  # Bot data\n",
    "data_label_1 = load_json_file('label_1_1.json')  # Non-bot data\n",
    "\n",
    "\n",
    "# Create the network\n",
    "high_confidence_network = create_theme_network(data_label_0, data_label_1, min_confidence=90)\n",
    "\n",
    "\n",
    "# Visualize the network\n",
    "visualize_network(high_confidence_network)"
   ]
  },
  {
   "cell_type": "code",
   "execution_count": 14,
   "metadata": {},
   "outputs": [
    {
     "name": "stdout",
     "output_type": "stream",
     "text": [
      "Total Themes: 301\n",
      "Theme: Technology and Coding\n",
      "  Confidence: 85%\n",
      "  Keywords: VHDL, Verilog, programming, computer science\n",
      "  Sentiment: +0% 0100% -0%\n",
      "\n",
      "Theme: Business and Finance\n",
      "  Confidence: 80%\n",
      "  Keywords: business, finance, entrepreneurship, venture\n",
      "  Sentiment: +55% 045% -0%\n",
      "\n",
      "Theme: Culture and Entertainment\n",
      "  Confidence: 70%\n",
      "  Keywords: art, haiku, Funko, Netflix, movie, God, amazing, experiences\n",
      "  Sentiment: +60% 040% -0%\n",
      "\n",
      "Theme: Sports and Fitness\n",
      "  Confidence: 50%\n",
      "  Keywords: running, 13.1 miles, nychalf, marathon, @eddieizzard\n",
      "  Sentiment: +100% 00% -0%\n",
      "\n",
      "Theme: Science and Exploration\n",
      "  Confidence: 55%\n",
      "  Keywords: planet, bushes, ringed fields, gopher, fin, science\n",
      "  Sentiment: +0% 0100% -0%\n",
      "\n",
      "Theme: Social Interactions\n",
      "  Confidence: 50%\n",
      "  Keywords: HeyYou, BoughtIt, ICYMI, RT\n",
      "  Sentiment: +40% 060% -0%\n",
      "\n",
      "Theme: Technology and Computing\n",
      "  Confidence: 70%\n",
      "  Keywords: Atari, Syzygy, gaming, software\n",
      "  Sentiment: +20% 060% -20%\n",
      "\n",
      "Theme: Emotional Expression and Art\n",
      "  Confidence: 60%\n",
      "  Keywords: i love the blue and pink bobbly things, doo-dah, image, object\n",
      "  Sentiment: +50% 050% -0%\n",
      "\n",
      "Theme: Philosophy and Culture\n",
      "  Confidence: 50%\n",
      "  Keywords: disenchantment of the image, Linux, nested user namespace\n",
      "  Sentiment: +0% 0100% -0%\n",
      "\n",
      "Theme: Philosophical Musings and Wordplay\n",
      "  Confidence: 60%\n",
      "  Keywords: confidence, attitude, woods\n",
      "  Sentiment: +0% 0100% -0%\n",
      "\n",
      "Theme: Health and Fitness\n",
      "  Confidence: 80%\n",
      "  Keywords: Energy expenditure, Calories, Metabolic rate\n",
      "  Sentiment: +0% 0100% -0%\n",
      "\n",
      "Theme: Emotions and Mental State\n",
      "  Confidence: 70%\n",
      "  Keywords: Anger, Excitement, Euphoria\n",
      "  Sentiment: +40% 040% -20%\n",
      "\n",
      "Theme: Weather and Environment\n",
      "  Confidence: 50%\n",
      "  Keywords: Temperature, Humidity, Cloud cover\n",
      "  Sentiment: +0% 0100% -0%\n",
      "\n",
      "Theme: Social Interactions and Relationships\n",
      "  Confidence: 60%\n",
      "  Keywords: Sheriff, Friendship, Camaraderie\n",
      "  Sentiment: +20% 080% -0%\n",
      "\n",
      "Theme: Tech and Software\n",
      "  Confidence: 80%\n",
      "  Keywords: Microsoft, Edge, Chromium, Linux, RHEL, spice-server\n",
      "  Sentiment: +0% 050% -50%\n",
      "\n",
      "Theme: Miscellaneous\n",
      "  Confidence: 50%\n",
      "  Keywords: sailing, vacation\n",
      "  Sentiment: +100% 00% -0%\n",
      "\n",
      "Theme: Security and Vulnerability\n",
      "  Confidence: 60%\n",
      "  Keywords: Naked Security, Security, Vulnerability\n",
      "  Sentiment: +0% 0100% -0%\n",
      "\n",
      "Theme: Cryptocurrency\n",
      "  Confidence: 70%\n",
      "  Keywords: Crypto, Government, Disclosure\n",
      "  Sentiment: +0% 0100% -0%\n",
      "\n",
      "Theme: Love and Relationships\n",
      "  Confidence: 80%\n",
      "  Keywords: love, girlfriend, diamond ring\n",
      "  Sentiment: +66.67% 016.67% -16.67%\n",
      "\n",
      "Theme: Inspiration and Creativity\n",
      "  Confidence: 70%\n",
      "  Keywords: music, story, inspiration\n",
      "  Sentiment: +83.33% 016.67% -0%\n",
      "\n",
      "Theme: Realism and Optimism\n",
      "  Confidence: 60%\n",
      "  Keywords: machine, planet, optimism\n",
      "  Sentiment: +66.67% 033.33% -0%\n",
      "\n",
      "Theme: Social Interaction\n",
      "  Confidence: 50%\n",
      "  Keywords: humor, whimsy, social sharing\n",
      "  Sentiment: +50% 050% -0%\n",
      "\n",
      "Theme: Emotional Support and Concern\n",
      "  Confidence: 85%\n",
      "  Keywords: fresh air, treat urself kindly, te deixarei, desampararei\n",
      "  Sentiment: +40% 040% -20%\n",
      "\n",
      "Theme: Life and Relationships\n",
      "  Confidence: 70%\n",
      "  Keywords: Luke, Grandad, doo-dah, doo-dah\n",
      "  Sentiment: +30% 050% -20%\n",
      "\n",
      "Theme: Celebrations and Hobbies\n",
      "  Confidence: 60%\n",
      "  Keywords: #NationalWineDay, #WineWednesday\n",
      "  Sentiment: +60% 030% -10%\n",
      "\n",
      "Theme: Gaming\n",
      "  Confidence: 80%\n",
      "  Keywords: LA NOIRE, gaming\n",
      "  Sentiment: +0% 0100% -0%\n",
      "\n",
      "Theme: Politics\n",
      "  Confidence: 80%\n",
      "  Keywords: Rumsfeld, MakeAmericaGreatAgain, TrumpTrain\n",
      "  Sentiment: +50% 050% -0%\n",
      "\n",
      "Theme: Science Fiction\n",
      "  Confidence: 50%\n",
      "  Keywords: planet, starshine, alien life\n",
      "  Sentiment: +0% 0100% -0%\n",
      "\n",
      "Theme: Humor\n",
      "  Confidence: 50%\n",
      "  Keywords: BONG BONG BONG BONG, wine\n",
      "  Sentiment: +20% 080% -0%\n",
      "\n",
      "Theme: Bitcoin Miners\n",
      "  Confidence: 60%\n",
      "  Keywords: Bitcoin, Miners, China\n",
      "  Sentiment: +0% 00% -100%\n",
      "\n",
      "Theme: Space Exploration and Discovery\n",
      "  Confidence: 90%\n",
      "  Keywords: planet, discovery, space\n",
      "  Sentiment: +40% 040% -20%\n",
      "\n",
      "Theme: Pop Culture and Entertainment\n",
      "  Confidence: 90%\n",
      "  Keywords: BONG, Quantum Break, Marco Rubio, RemyyXxX, God, pop culture\n",
      "  Sentiment: +40% 030% -30%\n",
      "\n",
      "Theme: Language and Sarcasm\n",
      "  Confidence: 80%\n",
      "  Keywords: Noooo, Doo-dah, Feint, shim\n",
      "  Sentiment: +0% 050% -50%\n",
      "\n",
      "Theme: Social Commentary\n",
      "  Confidence: 70%\n",
      "  Keywords: \n",
      "  Sentiment: +0% 00% -0%\n",
      "\n",
      "Theme: Criticisms and Negativity\n",
      "  Confidence: 64%\n",
      "  Keywords: holidays, hypocrisy, disappointment, frustration, cynicism\n",
      "  Sentiment: +0% 00% -100%\n",
      "\n",
      "Theme: Lightheartedness and Humor\n",
      "  Confidence: 72%\n",
      "  Keywords: wuvluv, cute, accidentalhaiku, shaggy linkups, tulips\n",
      "  Sentiment: +100% 00% -0%\n",
      "\n",
      "Theme: Politics and Justice\n",
      "  Confidence: 85%\n",
      "  Keywords: justice, judge, pill, allegations\n",
      "  Sentiment: +25% 00% -75%\n",
      "\n",
      "Theme: Technology and Innovation\n",
      "  Confidence: 65%\n",
      "  Keywords: #metaguide\n",
      "  Sentiment: +0% 0100% -0%\n",
      "\n",
      "Theme: Lifestyle and Interests\n",
      "  Confidence: 70%\n",
      "  Keywords: fashion, hobbies, video games, philosophy\n",
      "  Sentiment: +22% 078% -0%\n",
      "\n",
      "Theme: Uncategorized\n",
      "  Confidence: 55%\n",
      "  Keywords: abstract concepts, mathematical expressions\n",
      "  Sentiment: +0% 0100% -0%\n",
      "\n",
      "Theme: Social Media and Communication\n",
      "  Confidence: 80%\n",
      "  Keywords: social media, communication, networking\n",
      "  Sentiment: +0% 0100% -0%\n",
      "\n",
      "Theme: Inspirational/Motivational\n",
      "  Confidence: 60%\n",
      "  Keywords: move, win, home, sleep\n",
      "  Sentiment: +75% 025% -0%\n",
      "\n",
      "Theme: Politics and World Events\n",
      "  Confidence: 80%\n",
      "  Keywords: Syria, Obama\n",
      "  Sentiment: +0% 0100% -0%\n",
      "\n",
      "Theme: Cryptocurrency and Technology\n",
      "  Confidence: 70%\n",
      "  Keywords: EOS, Bitmain, Peter Thiel\n",
      "  Sentiment: +100% 00% -0%\n",
      "\n",
      "Theme: Work and Productivity\n",
      "  Confidence: 60%\n",
      "  Keywords: back to work, rest your eyes, hacking, China\n",
      "  Sentiment: +70% 00% -30%\n",
      "\n",
      "Theme: Pop Culture and Humor\n",
      "  Confidence: 85%\n",
      "  Keywords: haiku, interview, 42, The Hitchhiker's Guide to the Galaxy\n",
      "  Sentiment: +90% 010% -0%\n",
      "\n",
      "Theme: Travel/Transportation\n",
      "  Confidence: 100%\n",
      "  Keywords: Travel, Transportation, Aviation, Tourism, Wine\n",
      "  Sentiment: +40% 040% -20%\n",
      "\n",
      "Theme: Trust and Vulnerability\n",
      "  Confidence: 88%\n",
      "  Keywords: secrets, trust, computable knowledge, fly, beautiful\n",
      "  Sentiment: +60% 020% -20%\n",
      "\n",
      "Theme: Emergency Preparedness\n",
      "  Confidence: 80%\n",
      "  Keywords: tuna cans, poaching rings, emergency\n",
      "  Sentiment: +40% 040% -20%\n",
      "\n",
      "Theme: Security and Exploits\n",
      "  Confidence: 90%\n",
      "  Keywords: exploits, security, PHP-Proxy\n",
      "  Sentiment: +30% 050% -20%\n",
      "\n",
      "Theme: Human Experience and Emotions\n",
      "  Confidence: 85%\n",
      "  Keywords: bum, favorite things, social interactions\n",
      "  Sentiment: +50% 030% -20%\n",
      "\n",
      "Theme: Miscellaneous and Humor\n",
      "  Confidence: 80%\n",
      "  Keywords: humor, entertainment, social media\n",
      "  Sentiment: +40% 060% -0%\n",
      "\n",
      "Theme: Math and Science\n",
      "  Confidence: 85%\n",
      "  Keywords: math, science, computable knowledge\n",
      "  Sentiment: +50% 030% -20%\n",
      "\n",
      "Theme: Interrogation and Interview\n",
      "  Confidence: 80%\n",
      "  Keywords: interrogation, interview, conversational dynamics\n",
      "  Sentiment: +40% 040% -20%\n",
      "\n",
      "Theme: Language and Culture\n",
      "  Confidence: 80%\n",
      "  Keywords: language, culture, N\\xc3\\xa3o temas\n",
      "  Sentiment: +60% 030% -10%\n",
      "\n",
      "Theme: Cryptic Posts and Math\n",
      "  Confidence: 85%\n",
      "  Keywords: cryptic, math, equation\n",
      "  Sentiment: +50% 030% -20%\n",
      "\n",
      "Theme: Financial/Business\n",
      "  Confidence: 80%\n",
      "  Keywords: billionaire, Ethereum, recovery code\n",
      "  Sentiment: +0% 050% -50%\n",
      "\n",
      "Theme: Productivity and Motivation\n",
      "  Confidence: 80%\n",
      "  Keywords: motivation, productivity, fashion show\n",
      "  Sentiment: +40% 050% -10%\n",
      "\n",
      "Theme: Current Events and News\n",
      "  Confidence: 75%\n",
      "  Keywords: Egypt, Politics, Conflict, Instability\n",
      "  Sentiment: +0% 00% -100%\n",
      "\n",
      "Theme: College Life\n",
      "  Confidence: 88%\n",
      "  Keywords: dorm, college, jealous\n",
      "  Sentiment: +0% 050% -50%\n",
      "\n",
      "Theme: Personal Reminders and Support\n",
      "  Confidence: 70%\n",
      "  Keywords: help, support, friends\n",
      "  Sentiment: +66.67% 033.33% -0%\n",
      "\n",
      "Theme: Education\n",
      "  Confidence: 85%\n",
      "  Keywords: dyslexia, common core, statistics, education\n",
      "  Sentiment: +66.67% 00% -33.33%\n",
      "\n",
      "Theme: Politics and Governance\n",
      "  Confidence: 60%\n",
      "  Keywords: steel, safeguards, sex ed, parents' rights\n",
      "  Sentiment: +0% 0100% -0%\n",
      "\n",
      "Theme: Sports\n",
      "  Confidence: 50%\n",
      "  Keywords: #Sports, #RedSox\n",
      "  Sentiment: +0% 0100% -0%\n",
      "\n",
      "Theme: US Politics\n",
      "  Confidence: 80%\n",
      "  Keywords: ObamaCare, Primary, INPrimary\n",
      "  Sentiment: +0% 040% -60%\n",
      "\n",
      "Theme: Health and Wellness\n",
      "  Confidence: 60%\n",
      "  Keywords: health, wellness\n",
      "  Sentiment: +60% 020% -20%\n",
      "\n",
      "Theme: Technology\n",
      "  Confidence: 50%\n",
      "  Keywords: Microservices, application development\n",
      "  Sentiment: +0% 0100% -0%\n",
      "\n",
      "Theme: TV and Media\n",
      "  Confidence: 80%\n",
      "  Keywords: Netflix, TV, Instant, Season 2\n",
      "  Sentiment: +0% 0100% -0%\n",
      "\n",
      "Theme: Entertainment and Hobbies\n",
      "  Confidence: 80%\n",
      "  Keywords: opera, music, theater, gaming, water, self-care, primark, online store, interest, deduction, limits, frozen, mrc, planet, space, stargaze\n",
      "  Sentiment: +33.33% 066.67% -0%\n",
      "\n",
      "Theme: Personal Reminders and Self-Care\n",
      "  Confidence: 60%\n",
      "  Keywords: eyes, rest, health, water, hydration, nutrition\n",
      "  Sentiment: +100% 00% -0%\n",
      "\n",
      "Theme: Film and Entertainment\n",
      "  Confidence: 85%\n",
      "  Keywords: Coco, Netflix, Meghan\n",
      "  Sentiment: +40% 030% -30%\n",
      "\n",
      "Theme: Personal and Lifestyle\n",
      "  Confidence: 80%\n",
      "  Keywords: personal, lifestyle, adrenaline, relaxation\n",
      "  Sentiment: +50% 025% -25%\n",
      "\n",
      "Theme: Science and Discovery\n",
      "  Confidence: 95%\n",
      "  Keywords: planet, cyborg\n",
      "  Sentiment: +40% 040% -20%\n",
      "\n",
      "Theme: Philosophy and Social Commentary\n",
      "  Confidence: 80%\n",
      "  Keywords: feminism, sabotage\n",
      "  Sentiment: +20% 030% -50%\n",
      "\n",
      "Theme: Movie and TV News\n",
      "  Confidence: 70%\n",
      "  Keywords: Nicolas Cage, movies, Bitcoin, miner\n",
      "  Sentiment: +0% 0100% -0%\n",
      "\n",
      "Theme: Information Seeking\n",
      "  Confidence: 80%\n",
      "  Keywords: keys, instructions, help\n",
      "  Sentiment: +0% 0100% -0%\n",
      "\n",
      "Theme: Sports and Entertainment\n",
      "  Confidence: 85%\n",
      "  Keywords: sports, entertainment, cricket, music, radio\n",
      "  Sentiment: +100% 00% -0%\n",
      "\n",
      "Theme: Cryptocurrency and Bitcoin\n",
      "  Confidence: 100%\n",
      "  Keywords: bitcoin, bch, bug, price, security\n",
      "  Sentiment: +0% 020% -80%\n",
      "\n",
      "Theme: Music and Entertainment\n",
      "  Confidence: 85%\n",
      "  Keywords: music, festival, artist\n",
      "  Sentiment: +80% 010% -10%\n",
      "\n",
      "Theme: Technology and Entertainment\n",
      "  Confidence: 80%\n",
      "  Keywords: Twitter, Social Media, Gaming, Wine, Beverage Reviews, Science Fiction, Fantasy, Media\n",
      "  Sentiment: +85% 05% -10%\n",
      "\n",
      "Theme: Encouragement\n",
      "  Confidence: 80%\n",
      "  Keywords: breathe, take care of urself, get back to work, eat something\n",
      "  Sentiment: +50% 050% -0%\n",
      "\n",
      "Theme: Cybersecurity and Technology\n",
      "  Confidence: 80%\n",
      "  Keywords: cybersecurity, competition, Dark Reading, CSAW\n",
      "  Sentiment: +0% 0100% -0%\n",
      "\n",
      "Theme: Emotional Wellbeing and Self-Care\n",
      "  Confidence: 70%\n",
      "  Keywords: self-care, grounding, pancakes, wine\n",
      "  Sentiment: +100% 00% -0%\n",
      "\n",
      "Theme: Relationships and Social Connections\n",
      "  Confidence: 60%\n",
      "  Keywords: celebrity, crush, friendship, support\n",
      "  Sentiment: +100% 00% -0%\n",
      "\n",
      "Theme: Work/Responsibility\n",
      "  Confidence: 85%\n",
      "  Keywords: GET BACK TO WORK, Idris, Haskell, Robot pussy\n",
      "  Sentiment: +0% 090% -10%\n",
      "\n",
      "Theme: Social Commentary and Critique\n",
      "  Confidence: 80%\n",
      "  Keywords: lie, deception, dishonesty, authority, norms, question, kindness, empathy, respect\n",
      "  Sentiment: +20% 040% -40%\n",
      "\n",
      "Theme: Exploration and Discovery\n",
      "  Confidence: 80%\n",
      "  Keywords: planet, discovered, space, relaxation, self-care\n",
      "  Sentiment: +20% 070% -10%\n",
      "\n",
      "Theme: Relationships and Communication\n",
      "  Confidence: 60%\n",
      "  Keywords: communicating, secret, love, relationship\n",
      "  Sentiment: +30% 040% -30%\n",
      "\n",
      "Theme: Humor and Entertainment\n",
      "  Confidence: 70%\n",
      "  Keywords: Beer, Humor, Entertainment\n",
      "  Sentiment: +40% 030% -30%\n",
      "\n",
      "Theme: Existentialism and Self-Discovery\n",
      "  Confidence: 65%\n",
      "  Keywords: life, meaning, errancy, self-expression, authenticity\n",
      "  Sentiment: +20% 040% -40%\n",
      "\n",
      "Theme: Celebrity/Media Mentions\n",
      "  Confidence: 60%\n",
      "  Keywords: Leonard Cohen, RIP\n",
      "  Sentiment: +20% 030% -50%\n",
      "\n",
      "Theme: Entertainment\n",
      "  Confidence: 80%\n",
      "  Keywords: Inception, Nazia Hassan, MovieMemeBot, beardbegone\n",
      "  Sentiment: +40% 060% -0%\n",
      "\n",
      "Theme: Personal Struggles\n",
      "  Confidence: 70%\n",
      "  Keywords: suspense, sleepwalker\n",
      "  Sentiment: +0% 020% -80%\n",
      "\n",
      "Theme: Hobbies\n",
      "  Confidence: 50%\n",
      "  Keywords: Sports, Photography\n",
      "  Sentiment: +0% 0100% -0%\n",
      "\n",
      "Theme: Social Media\n",
      "  Confidence: 50%\n",
      "  Keywords: Social media, Social media platforms\n",
      "  Sentiment: +40% 060% -0%\n",
      "\n",
      "Theme: Personal Growth\n",
      "  Confidence: 50%\n",
      "  Keywords: Personal growth, Self-improvement\n",
      "  Sentiment: +0% 080% -20%\n",
      "\n",
      "Theme: Relationships\n",
      "  Confidence: 70%\n",
      "  Keywords: relationship, breakup, advice\n",
      "  Sentiment: +0% 0100% -0%\n",
      "\n",
      "Theme: Personal Development\n",
      "  Confidence: 50%\n",
      "  Keywords: Personal development, Self-awareness\n",
      "  Sentiment: +0% 080% -20%\n",
      "\n",
      "Theme: Respect and Empowerment\n",
      "  Confidence: 80%\n",
      "  Keywords: respect, dignity, self-worth\n",
      "  Sentiment: +100% 00% -0%\n",
      "\n",
      "Theme: Technology and Security\n",
      "  Confidence: 70%\n",
      "  Keywords: IT security, eBay\n",
      "  Sentiment: +0% 050% -50%\n",
      "\n",
      "Theme: Philosophy and Human Interest\n",
      "  Confidence: 50%\n",
      "  Keywords: dogs down, Why is a dirt found in a refrigerator?, WEATHER REVIEWS\n",
      "  Sentiment: +50% 025% -25%\n",
      "\n",
      "Theme: Traffic and Road Closure\n",
      "  Confidence: 80%\n",
      "  Keywords: ramps back open, scene cleared\n",
      "  Sentiment: +0% 0100% -0%\n",
      "\n",
      "Theme: Celebrity and Pop Culture\n",
      "  Confidence: 85%\n",
      "  Keywords: celebrity, culture, pop\n",
      "  Sentiment: +60% 020% -20%\n",
      "\n",
      "Theme: Humor and Sarcastic Comment\n",
      "  Confidence: 60%\n",
      "  Keywords: pour over, Lol\n",
      "  Sentiment: +100% 00% -0%\n",
      "\n",
      "Theme: Inspiration and Appreciation\n",
      "  Confidence: 50%\n",
      "  Keywords: speech, amazing, kudos\n",
      "  Sentiment: +100% 00% -0%\n",
      "\n",
      "Theme: Event and Announcement\n",
      "  Confidence: 50%\n",
      "  Keywords: Topical, http\n",
      "  Sentiment: +0% 0100% -0%\n",
      "\n",
      "Theme: Celebrity and Entertainment\n",
      "  Confidence: 80%\n",
      "  Keywords: grammys, kendricklamar, rapsody, japan, q&a, bootlegtheater\n",
      "  Sentiment: +50% 050% -0%\n",
      "\n",
      "Theme: Current Events and Alerts\n",
      "  Confidence: 80%\n",
      "  Keywords: evacuate, FloridaKeys\n",
      "  Sentiment: +0% 014% -86%\n",
      "\n",
      "Theme: Product and Service Promotions\n",
      "  Confidence: 75%\n",
      "  Keywords: metaguide, DialogSystems\n",
      "  Sentiment: +10% 090% -0%\n",
      "\n",
      "Theme: Social Commentary and Awareness\n",
      "  Confidence: 75%\n",
      "  Keywords: social, justice, change\n",
      "  Sentiment: +50% 015% -35%\n",
      "\n",
      "Theme: Personal and Lighthearted Content\n",
      "  Confidence: 60%\n",
      "  Keywords: celebrity, entertainment, personal relationships\n",
      "  Sentiment: +100% 00% -0%\n",
      "\n",
      "Theme: News and Information\n",
      "  Confidence: 90%\n",
      "  Keywords: news, information, environment\n",
      "  Sentiment: +0% 00% -100%\n",
      "\n",
      "Theme: Entertainment and Culture\n",
      "  Confidence: 75%\n",
      "  Keywords: @GuyFieri, #GroceryGames\n",
      "  Sentiment: +100% 00% -0%\n",
      "\n",
      "Theme: Education and Personal Development\n",
      "  Confidence: 80%\n",
      "  Keywords: education, personal development, growth, self-expression\n",
      "  Sentiment: +70% 020% -10%\n",
      "\n",
      "Theme: Sports and Leisure\n",
      "  Confidence: 80%\n",
      "  Keywords: tour, music, sleep\n",
      "  Sentiment: +50% 030% -20%\n",
      "\n",
      "Theme: Social Media and Tech\n",
      "  Confidence: 90%\n",
      "  Keywords: social media, post office, bureaucracy\n",
      "  Sentiment: +0% 017% -83%\n",
      "\n",
      "Theme: NRA and Politics\n",
      "  Confidence: 80%\n",
      "  Keywords: gun control, civil rights, NRA, Trump\n",
      "  Sentiment: +0% 00% -100%\n",
      "\n",
      "Theme: Amy Schumer and Trainwreck\n",
      "  Confidence: 90%\n",
      "  Keywords: Amy Schumer, comedy, Trainwreck, entertainment\n",
      "  Sentiment: +100% 00% -0%\n",
      "\n",
      "Theme: Linkin Park and Music\n",
      "  Confidence: 95%\n",
      "  Keywords: music, fandom, Linkin Park, community\n",
      "  Sentiment: +83% 017% -0%\n",
      "\n",
      "Theme: Small Business and Entrepreneurship\n",
      "  Confidence: 90%\n",
      "  Keywords: small business, innovation, networking, community\n",
      "  Sentiment: +67% 033% -0%\n",
      "\n",
      "Theme: Celebrity Culture and Humor\n",
      "  Confidence: 70%\n",
      "  Keywords: ConnieSchultz, robkardashian, EinsteinBeach, smocking gun, relativity theory, single payer healthcare\n",
      "  Sentiment: +60% 020% -20%\n",
      "\n",
      "Theme: Social Media and Online Engagement\n",
      "  Confidence: 98%\n",
      "  Keywords: social media, online engagement, book, reading, pop culture, entertainment, politics, current events\n",
      "  Sentiment: +71% 015% -14%\n",
      "\n",
      "Theme: Personal and Emotional Experiences\n",
      "  Confidence: 90%\n",
      "  Keywords: personal experiences, emotional support, growth, self-improvement, empathy\n",
      "  Sentiment: +85% 010% -5%\n",
      "\n",
      "Theme: Social Media Interactions\n",
      "  Confidence: 80%\n",
      "  Keywords: social media, engagement, interaction\n",
      "  Sentiment: +70% 015% -15%\n",
      "\n",
      "Theme: Celebrity and Public Figures\n",
      "  Confidence: 80%\n",
      "  Keywords: #CincoDeMayo, @cdelcampon7, Good morning\n",
      "  Sentiment: +80% 020% -0%\n",
      "\n",
      "Theme: Travel and Tourism\n",
      "  Confidence: 80%\n",
      "  Keywords: travel, tourism, views\n",
      "  Sentiment: +60% 020% -20%\n",
      "\n",
      "Theme: Workplace Issues\n",
      "  Confidence: 80%\n",
      "  Keywords: meeting, work, pressure\n",
      "  Sentiment: +0% 00% -100%\n",
      "\n",
      "Theme: Motivation and Success\n",
      "  Confidence: 90%\n",
      "  Keywords: success, achievement, inspiration\n",
      "  Sentiment: +100% 00% -0%\n",
      "\n",
      "Theme: Marketing and Advertising\n",
      "  Confidence: 60%\n",
      "  Keywords: marketing, advertising, self\n",
      "  Sentiment: +0% 0100% -0%\n",
      "\n",
      "Theme: Celebrity and Lifestyles\n",
      "  Confidence: 80%\n",
      "  Keywords: QI, plants, Small Business Boss, Chrissy Teigen\n",
      "  Sentiment: +30% 070% -0%\n",
      "\n",
      "Theme: Social Media and Entertainment\n",
      "  Confidence: 70%\n",
      "  Keywords: social media, entertainment\n",
      "  Sentiment: +80% 010% -10%\n",
      "\n",
      "Theme: Tributes and Reminders\n",
      "  Confidence: 75%\n",
      "  Keywords: Jai Ho, Republic Day, The Spellman Sisters Mortuary\n",
      "  Sentiment: +40% 060% -0%\n",
      "\n",
      "Theme: Environmental Awareness\n",
      "  Confidence: 65%\n",
      "  Keywords: food waste, What did we do as a nation before\n",
      "  Sentiment: +50% 050% -0%\n",
      "\n",
      "Theme: Personal and Professional Interests\n",
      "  Confidence: 60%\n",
      "  Keywords: @mikeshinoda\n",
      "  Sentiment: +40% 060% -0%\n",
      "\n",
      "Theme: Politics/Leadership\n",
      "  Confidence: 80%\n",
      "  Keywords: Trump, Theresa May, Emmanuel Macron\n",
      "  Sentiment: +80% 020% -0%\n",
      "\n",
      "Theme: Food and Beverages\n",
      "  Confidence: 80%\n",
      "  Keywords: Breakfast, Full Breakfast, Cafe\n",
      "  Sentiment: +100% 00% -0%\n",
      "\n",
      "Theme: Celebrity News and Updates\n",
      "  Confidence: 70%\n",
      "  Keywords: kuwtk, family\n",
      "  Sentiment: +100% 00% -0%\n",
      "\n",
      "Theme: KP Govt Recognition\n",
      "  Confidence: 85%\n",
      "  Keywords: KP Govt, UN-HABITAT Fukuoka, Asian Townscape Award\n",
      "  Sentiment: +100% 00% -0%\n",
      "\n",
      "Theme: Success and Opportunity\n",
      "  Confidence: 80%\n",
      "  Keywords: Luck, Opportunity, Preparation, Risk, Change\n",
      "  Sentiment: +40% 040% -20%\n",
      "\n",
      "Theme: Personal Growth and Development\n",
      "  Confidence: 70%\n",
      "  Keywords: Learning, Self-improvement, Career, Success\n",
      "  Sentiment: +50% 030% -20%\n",
      "\n",
      "Theme: Social Impact and Responsibility\n",
      "  Confidence: 60%\n",
      "  Keywords: Community, Support, Change, Social justice, Activism\n",
      "  Sentiment: +30% 040% -30%\n",
      "\n",
      "Theme: Entertainment and Media\n",
      "  Confidence: 90%\n",
      "  Keywords: TV, film, media, music, performance, art, social media, technology, online communities\n",
      "  Sentiment: +30% 070% -0%\n",
      "\n",
      "Theme: Support and Inspiration\n",
      "  Confidence: 90%\n",
      "  Keywords: joy, inspiration, motivation, empowerment, achievements, dreams, future, bright\n",
      "  Sentiment: +100% 00% -0%\n",
      "\n",
      "Theme: News and Updates\n",
      "  Confidence: 98%\n",
      "  Keywords: news, updates\n",
      "  Sentiment: +10% 070% -20%\n",
      "\n",
      "Theme: Haiku and Poetry\n",
      "  Confidence: 70%\n",
      "  Keywords: cherry blossoms, city dwellers, brooklyn, joy, inspiration, motivation\n",
      "  Sentiment: +100% 00% -0%\n",
      "\n",
      "Theme: Random and Miscellaneous\n",
      "  Confidence: 60%\n",
      "  Keywords: comedy show, haal, ajkal, RT, @JackieBrunoNECN, oh wow, blonde hair\n",
      "  Sentiment: +40% 060% -0%\n",
      "\n",
      "Theme: Celebrities and Entertainment\n",
      "  Confidence: 50%\n",
      "  Keywords: hollywills, Fearnecotton, ChristinaRicci, comedy show, haal, ajkal\n",
      "  Sentiment: +50% 050% -0%\n",
      "\n",
      "Theme: Social and Community\n",
      "  Confidence: 50%\n",
      "  Keywords: waste management, BMC, bandraite, RT, @JackieBrunoNECN, oh wow, blonde hair\n",
      "  Sentiment: +40% 060% -0%\n",
      "\n",
      "Theme: International Relations and Politics\n",
      "  Confidence: 80%\n",
      "  Keywords: India, Pakistan, Terrorism, Defence, Security\n",
      "  Sentiment: +0% 060% -40%\n",
      "\n",
      "Theme: Personal Life and Relationships\n",
      "  Confidence: 70%\n",
      "  Keywords: Friend, Support, Wedding, Love\n",
      "  Sentiment: +80% 010% -10%\n",
      "\n",
      "Theme: Education and Learning\n",
      "  Confidence: 60%\n",
      "  Keywords: Classes, Education, Health, Wellness\n",
      "  Sentiment: +0% 0100% -0%\n",
      "\n",
      "Theme: Crime and Law Enforcement\n",
      "  Confidence: 50%\n",
      "  Keywords: Police, Investigation, Guns, Safety\n",
      "  Sentiment: +0% 050% -50%\n",
      "\n",
      "Theme: Gun Control\n",
      "  Confidence: 80%\n",
      "  Keywords: gun control, moms demand, gun sense\n",
      "  Sentiment: +40% 00% -60%\n",
      "\n",
      "Theme: Celebration and Humor\n",
      "  Confidence: 50%\n",
      "  Keywords: birthday, humor\n",
      "  Sentiment: +80% 00% -20%\n",
      "\n",
      "Theme: Government and Politics\n",
      "  Confidence: 80%\n",
      "  Keywords: Sharif, Panama Papers, Labor, #aabill\n",
      "  Sentiment: +0% 050% -50%\n",
      "\n",
      "Theme: Religion and Community\n",
      "  Confidence: 60%\n",
      "  Keywords: synagogue, #ShowUpForShabbat\n",
      "  Sentiment: +0% 0100% -0%\n",
      "\n",
      "Theme: News and Media\n",
      "  Confidence: 70%\n",
      "  Keywords: @NicoleOliverio, @erin_carey, @mrasconnews, @7News\n",
      "  Sentiment: +0% 0100% -0%\n",
      "\n",
      "Theme: Social Media and Technology\n",
      "  Confidence: 50%\n",
      "  Keywords: #aabill, #epic\n",
      "  Sentiment: +0% 0100% -0%\n",
      "\n",
      "Theme: Politics and Current Events\n",
      "  Confidence: 80%\n",
      "  Keywords: Raleigh, Mayor, Election, Politics\n",
      "  Sentiment: +30% 050% -20%\n",
      "\n",
      "Theme: Political Commentary and Criticism\n",
      "  Confidence: 96%\n",
      "  Keywords: politics, criticism, leadership, governance, extremism, tribal\n",
      "  Sentiment: +0% 020% -80%\n",
      "\n",
      "Theme: Celebrations and Events\n",
      "  Confidence: 60%\n",
      "  Keywords: #Hindu, #NewYear, #NeasdenTemple, #InternationalWomenDay, #McDonalds\n",
      "  Sentiment: +100% 00% -0%\n",
      "\n",
      "Theme: Politics and Elections\n",
      "  Confidence: 82%\n",
      "  Keywords: election, politics, retain, candidates\n",
      "  Sentiment: +40% 030% -30%\n",
      "\n",
      "Theme: Support and Commendation\n",
      "  Confidence: 85%\n",
      "  Keywords: support, initiative, charity\n",
      "  Sentiment: +70% 015% -15%\n",
      "\n",
      "Theme: Information Sharing and News\n",
      "  Confidence: 60%\n",
      "  Keywords: news, updates, technology\n",
      "  Sentiment: +30% 045% -25%\n",
      "\n",
      "Theme: Valentine's Day and Love\n",
      "  Confidence: 50%\n",
      "  Keywords: love, valentine, celebration\n",
      "  Sentiment: +95% 03% -2%\n",
      "\n",
      "Theme: News\n",
      "  Confidence: 80%\n",
      "  Keywords: #ShoahFdn20, #POTUS\n",
      "  Sentiment: +50% 00% -50%\n",
      "\n",
      "Theme: Celebrity and Public Interest\n",
      "  Confidence: 80%\n",
      "  Keywords: JosefMartinez17, Small Business Boss, Lorrainetapper\n",
      "  Sentiment: +60% 040% -0%\n",
      "\n",
      "Theme: News and Current Events\n",
      "  Confidence: 80%\n",
      "  Keywords: news, events\n",
      "  Sentiment: +40% 030% -30%\n",
      "\n",
      "Theme: Food and Entertainment\n",
      "  Confidence: 60%\n",
      "  Keywords: porchertta sandwich\n",
      "  Sentiment: +100% 00% -0%\n",
      "\n",
      "Theme: Social Issues and Health\n",
      "  Confidence: 50%\n",
      "  Keywords: Generation Z\n",
      "  Sentiment: +0% 00% -100%\n",
      "\n",
      "Theme: Technology and Programming\n",
      "  Confidence: 88%\n",
      "  Keywords: technology, programming, code, design\n",
      "  Sentiment: +50% 050% -0%\n",
      "\n",
      "Theme: Social Media and Events\n",
      "  Confidence: 90%\n",
      "  Keywords: social media, events, engagement, promotions\n",
      "  Sentiment: +70% 030% -0%\n",
      "\n",
      "Theme: Politics and World News\n",
      "  Confidence: 95%\n",
      "  Keywords: politics, government, international, news\n",
      "  Sentiment: +0% 0100% -0%\n",
      "\n",
      "Theme: News and Politics\n",
      "  Confidence: 90%\n",
      "  Keywords: @NYTimeskrugman, @AElliottTV\n",
      "  Sentiment: +0% 050% -50%\n",
      "\n",
      "Theme: Self-Care and Fitness\n",
      "  Confidence: 75%\n",
      "  Keywords: self-care, fitness, wellness\n",
      "  Sentiment: +70% 030% -0%\n",
      "\n",
      "Theme: Relationships and Love\n",
      "  Confidence: 50%\n",
      "  Keywords: relationships, love, romance\n",
      "  Sentiment: +80% 020% -0%\n",
      "\n",
      "Theme: Politics and Social Issues\n",
      "  Confidence: 90%\n",
      "  Keywords: politics, social issues, justice\n",
      "  Sentiment: +10% 010% -80%\n",
      "\n",
      "Theme: Adversity and Resilience\n",
      "  Confidence: 80%\n",
      "  Keywords: Hurricane Irma, leadership, girls' education\n",
      "  Sentiment: +25% 025% -50%\n",
      "\n",
      "Theme: Canadian Politics and Security\n",
      "  Confidence: 50%\n",
      "  Keywords: Freeland, U.S., security umbrella, client state, military, dnd\n",
      "  Sentiment: +0% 0100% -0%\n",
      "\n",
      "Theme: Social Justice and Activism\n",
      "  Confidence: 80%\n",
      "  Keywords: rights, equality, justice, activism\n",
      "  Sentiment: +0% 00% -100%\n",
      "\n",
      "Theme: Food and Beverage\n",
      "  Confidence: 85%\n",
      "  Keywords: served with, menace which is called Twitter, suga\n",
      "  Sentiment: +66% 01% -33%\n",
      "\n",
      "Theme: Life and Mortality\n",
      "  Confidence: 50%\n",
      "  Keywords: life, mortality, death, transience\n",
      "  Sentiment: +20% 080% -0%\n",
      "\n",
      "Theme: Art and Culture\n",
      "  Confidence: 70%\n",
      "  Keywords: art, culture, visual art, popular culture\n",
      "  Sentiment: +30% 050% -20%\n",
      "\n",
      "Theme: Social Issues\n",
      "  Confidence: 80%\n",
      "  Keywords: social issues, immigration, diversity, social justice\n",
      "  Sentiment: +50% 020% -30%\n",
      "\n",
      "Theme: Racial Issues and Stereotypes\n",
      "  Confidence: 70%\n",
      "  Keywords: black, swim, hair wet\n",
      "  Sentiment: +0% 00% -100%\n",
      "\n",
      "Theme: Celebrity News and Entertainment\n",
      "  Confidence: 80%\n",
      "  Keywords: Kendrick Lamar, Grammy, Performance\n",
      "  Sentiment: +100% 00% -0%\n",
      "\n",
      "Theme: Social Media and Politics\n",
      "  Confidence: 60%\n",
      "  Keywords: MQM, Altaf Hussain\n",
      "  Sentiment: +0% 0100% -0%\n",
      "\n",
      "Theme: TV Shows and Pop Culture\n",
      "  Confidence: 50%\n",
      "  Keywords: Glow, TV show\n",
      "  Sentiment: +100% 00% -0%\n",
      "\n",
      "Theme: Weather Discussion\n",
      "  Confidence: 70%\n",
      "  Keywords: cold, weather\n",
      "  Sentiment: +0% 0100% -0%\n",
      "\n",
      "Theme: Sports and Celebrity\n",
      "  Confidence: 60%\n",
      "  Keywords: NFL, Kirk Cousins\n",
      "  Sentiment: +83.33% 00% -16.67%\n",
      "\n",
      "Theme: Politics and International Relations\n",
      "  Confidence: 80%\n",
      "  Keywords: Russia, indictment\n",
      "  Sentiment: +0% 00% -100%\n",
      "\n",
      "Theme: Tweets are about India\n",
      "  Confidence: 80%\n",
      "  Keywords: India, terrorists\n",
      "  Sentiment: +0% 00% -100%\n",
      "\n",
      "Theme: Politics and News\n",
      "  Confidence: 80%\n",
      "  Keywords: govt, leader, inaction, uneasy, poverty, inequality\n",
      "  Sentiment: +0% 00% -100%\n",
      "\n",
      "Theme: Celebrity and Recognition\n",
      "  Confidence: 89%\n",
      "  Keywords: Meghan, DM, signed copies, Coco, Ted Dabney, passed away\n",
      "  Sentiment: +60% 020% -20%\n",
      "\n",
      "Theme: Politics and Activism\n",
      "  Confidence: 70%\n",
      "  Keywords: election, campaign, politics, justice, activism, change\n",
      "  Sentiment: +40% 060% -0%\n",
      "\n",
      "Theme: Travel and Exploration\n",
      "  Confidence: 60%\n",
      "  Keywords: Canada, tour\n",
      "  Sentiment: +40% 040% -20%\n",
      "\n",
      "Theme: Writing and Literature\n",
      "  Confidence: 50%\n",
      "  Keywords: book, author\n",
      "  Sentiment: +20% 060% -20%\n",
      "\n",
      "Theme: Discontent and Criticism\n",
      "  Confidence: 90%\n",
      "  Keywords: PMLN, PTI, inauguration, wasted, @bluesatch, @plantbasedcaleb, truth\n",
      "  Sentiment: +0% 00% -100%\n",
      "\n",
      "Theme: Pop Culture\n",
      "  Confidence: 80%\n",
      "  Keywords: Malcolm in the Middle, Witty repartee, Social media\n",
      "  Sentiment: +40% 040% -20%\n",
      "\n",
      "Theme: Environmental Conservation\n",
      "  Confidence: 90%\n",
      "  Keywords: Gambila river bed plantation, Billion tree tsunami\n",
      "  Sentiment: +100% 00% -0%\n",
      "\n",
      "Theme: Current Events\n",
      "  Confidence: 90%\n",
      "  Keywords: Holocaust, survivor, Alice Herz-Sommer, Labor, bill, politics\n",
      "  Sentiment: +0% 00% -100%\n",
      "\n",
      "Theme: Personal Interactions\n",
      "  Confidence: 50%\n",
      "  Keywords: Personal, Interactions, Social media\n",
      "  Sentiment: +20% 060% -20%\n",
      "\n",
      "Theme: Entertainment and Leisure\n",
      "  Confidence: 70%\n",
      "  Keywords: Hoodrich, Djscream\n",
      "  Sentiment: +80% 010% -10%\n",
      "\n",
      "Theme: Mental Health and Wellness\n",
      "  Confidence: 65%\n",
      "  Keywords: Sigh, \\xf0\\x9f\\xa4\\xa6\\xe2\\x80\\x8d\\xe2\\x99\\x82\\xef\\xb8\\x8f\n",
      "  Sentiment: +20% 030% -50%\n",
      "\n",
      "Theme: Celebrity and Royalty\n",
      "  Confidence: 60%\n",
      "  Keywords: My King and Queen of October\n",
      "  Sentiment: +90% 05% -5%\n",
      "\n",
      "Theme: Social Media and Online Presence\n",
      "  Confidence: 80%\n",
      "  Keywords: streaming, website, listen, thankful, gratitude, criticism, opinion\n",
      "  Sentiment: +60% 020% -20%\n",
      "\n",
      "Theme: Humor and Satire\n",
      "  Confidence: 90%\n",
      "  Keywords: umbrella license test, apparently-sat-front-row-on-the-log-flume, NYC summer aesthetic\n",
      "  Sentiment: +75% 00% -25%\n",
      "\n",
      "Theme: Personal Reflection and Advice\n",
      "  Confidence: 50%\n",
      "  Keywords: project, funded, luck, Rookie, Georgia classroom\n",
      "  Sentiment: +30% 030% -40%\n",
      "\n",
      "Theme: Social Justice and Empowerment\n",
      "  Confidence: 87%\n",
      "  Keywords: guncontrol, women, respect\n",
      "  Sentiment: +40% 030% -30%\n",
      "\n",
      "Theme: Economic Concerns\n",
      "  Confidence: 78%\n",
      "  Keywords: economy, Pakistan\n",
      "  Sentiment: +20% 030% -50%\n",
      "\n",
      "Theme: Transportation and Infrastructure\n",
      "  Confidence: 85%\n",
      "  Keywords: \n",
      "  Sentiment: +0% 00% -0%\n",
      "\n",
      "Theme: Education and Research\n",
      "  Confidence: 80%\n",
      "  Keywords: \n",
      "  Sentiment: +0% 00% -0%\n",
      "\n",
      "Theme: Reading and Books\n",
      "  Confidence: 75%\n",
      "  Keywords: \n",
      "  Sentiment: +0% 00% -0%\n",
      "\n",
      "Theme: Weather and Seasonal Activities\n",
      "  Confidence: 70%\n",
      "  Keywords: \n",
      "  Sentiment: +0% 00% -0%\n",
      "\n",
      "Theme: Politics and Social Commentary\n",
      "  Confidence: 78%\n",
      "  Keywords: government, taxation, feminism, gender discrimination\n",
      "  Sentiment: +0% 020% -80%\n",
      "\n",
      "Theme: Funding and Crowdfunding\n",
      "  Confidence: 55%\n",
      "  Keywords: \n",
      "  Sentiment: +0% 00% -0%\n",
      "\n",
      "Theme: Pop Culture and Memes\n",
      "  Confidence: 50%\n",
      "  Keywords: \n",
      "  Sentiment: +0% 00% -0%\n",
      "\n",
      "Theme: Celebrity and Cultural News\n",
      "  Confidence: 80%\n",
      "  Keywords: celebrity, culture, news, awards, recognition, humor, pop culture, social commentary, memorials, tributes, personal interactions\n",
      "  Sentiment: +60% 040% -0%\n",
      "\n",
      "Theme: Personal and Lighthearted\n",
      "  Confidence: 50%\n",
      "  Keywords: personal, lighthearted, birthday wishes, personal interactions\n",
      "  Sentiment: +100% 00% -0%\n",
      "\n",
      "Theme: Personal Stories and Humor\n",
      "  Confidence: 60%\n",
      "  Keywords: vast conspiracy, keys, happy birthday, @jane_ottesen, caroline\n",
      "  Sentiment: +50% 025% -25%\n",
      "\n",
      "Theme: Entertainment and Book Reviews\n",
      "  Confidence: 85%\n",
      "  Keywords: ThePerfectGirl, @GillyMacmillan, @KendallJenner, @Jaspritbumrah93, @traffic_jpr\n",
      "  Sentiment: +50% 050% -0%\n",
      "\n",
      "Theme: Social and Cultural\n",
      "  Confidence: 80%\n",
      "  Keywords: London, celebrate, diversity\n",
      "  Sentiment: +75% 025% -0%\n",
      "\n",
      "Theme: Celebrity and Entertainment News\n",
      "  Confidence: 80%\n",
      "  Keywords: music, entertainment, celebrity\n",
      "  Sentiment: +60% 040% -0%\n",
      "\n",
      "Theme: Gardening\n",
      "  Confidence: 82%\n",
      "  Keywords: bulbs, whiter, disco\n",
      "  Sentiment: +0% 0100% -0%\n",
      "\n",
      "Theme: Hall and Oates\n",
      "  Confidence: 70%\n",
      "  Keywords: Hall, Oates, 80s, Kirstie Alley, John Travolta\n",
      "  Sentiment: +100% 00% -0%\n",
      "\n",
      "Theme: Entertainment and Pop Culture\n",
      "  Confidence: 80%\n",
      "  Keywords: Bizarre Explainer, Jojo\\u2019s, Wilderness, Queen\n",
      "  Sentiment: +40% 040% -20%\n",
      "\n",
      "Theme: Workplace Culture and Management\n",
      "  Confidence: 80%\n",
      "  Keywords: workplace, culture, management, expectations, dialogue\n",
      "  Sentiment: +80% 00% -20%\n",
      "\n",
      "Theme: Pakistan-Kashmir Relations\n",
      "  Confidence: 80%\n",
      "  Keywords: #Pakistan, #KashmirBlackDay\n",
      "  Sentiment: +66.67% 033.33% -0%\n",
      "\n",
      "Theme: Financial and Economic Issues\n",
      "  Confidence: 91%\n",
      "  Keywords: taxation, government, investment, technology, ethereum, GST\n",
      "  Sentiment: +0% 010% -90%\n",
      "\n",
      "Theme: Entertainment and Social Media\n",
      "  Confidence: 85%\n",
      "  Keywords: celebrity, social media, TV show, mental health\n",
      "  Sentiment: +80% 020% -0%\n",
      "\n",
      "Theme: Technology and Futurism\n",
      "  Confidence: 75%\n",
      "  Keywords: tech future, blockchain, ethereum, innovation\n",
      "  Sentiment: +0% 0100% -0%\n",
      "\n",
      "Theme: Miscellaneous and Product Development\n",
      "  Confidence: 70%\n",
      "  Keywords: product development, innovation, reaction, feedback\n",
      "  Sentiment: +0% 0100% -0%\n",
      "\n",
      "Theme: Miscellaneous and Event Promotion\n",
      "  Confidence: 65%\n",
      "  Keywords: event promotion, social media, reaction, curiosity\n",
      "  Sentiment: +20% 080% -0%\n",
      "\n",
      "Theme: Miscellaneous and Help Request\n",
      "  Confidence: 60%\n",
      "  Keywords: help request, social media, reaction, confusion\n",
      "  Sentiment: +0% 0100% -0%\n",
      "\n",
      "Theme: Miscellaneous and Miscellaneous\n",
      "  Confidence: 55%\n",
      "  Keywords: miscellaneous, social media, reaction, confusion\n",
      "  Sentiment: +0% 0100% -0%\n",
      "\n",
      "Theme: Miscellaneous and Unclassified\n",
      "  Confidence: 50%\n",
      "  Keywords: unclassified, social media, reaction, confusion\n",
      "  Sentiment: +0% 0100% -0%\n",
      "\n",
      "Theme: Cultural Trends and Observations\n",
      "  Confidence: 80%\n",
      "  Keywords: netflix, maniacnetflix, bldgblog, drjudymelinek, kourtneykardash\n",
      "  Sentiment: +60% 020% -20%\n",
      "\n",
      "Theme: General Lifestyle and Updates\n",
      "  Confidence: 86%\n",
      "  Keywords: morning routine, RobAndChyna, KUWTK, Ghana, Lexington, refugee families\n",
      "  Sentiment: +0% 090% -10%\n",
      "\n",
      "Theme: Positive Emotions and Appreciation\n",
      "  Confidence: 80%\n",
      "  Keywords: thanks, wonderful, Survivor, new season\n",
      "  Sentiment: +80% 020% -0%\n",
      "\n",
      "Theme: Information Sharing and Discussion\n",
      "  Confidence: 70%\n",
      "  Keywords: Survivor, missing, Chinese food, venue, advice\n",
      "  Sentiment: +20% 080% -0%\n",
      "\n",
      "Theme: Concern and Awareness\n",
      "  Confidence: 60%\n",
      "  Keywords: missing, missing person, colonial spelling, lady lawyer\n",
      "  Sentiment: +0% 080% -20%\n",
      "\n",
      "Theme: Celebrity Culture and Awards\n",
      "  Confidence: 80%\n",
      "  Keywords: Grammies, Gramophone Awards, Celebrities, Influence\n",
      "  Sentiment: +0% 0100% -0%\n",
      "\n",
      "Theme: Personal Interests and Relationships\n",
      "  Confidence: 85%\n",
      "  Keywords: Relationships, Breakups, Personal growth, Self-improvement\n",
      "  Sentiment: +100% 00% -0%\n",
      "\n",
      "Theme: Entertainment and Music\n",
      "  Confidence: 80%\n",
      "  Keywords: WayOverYonder_, @HappyWoman9, @MosesSumney, @localnatives, #sochi2014, #gold, #Bardot, @XiaXiaTechnique, @BIRDZONE_\n",
      "  Sentiment: +50% 030% -20%\n",
      "\n",
      "Theme: Celebrity and Culture\n",
      "  Confidence: 80%\n",
      "  Keywords: @D_Towsey, @K_Stansfield, Tyler Keevil, Words&amp; Festival\n",
      "  Sentiment: +50% 050% -0%\n",
      "\n",
      "Theme: Canadian Politics\n",
      "  Confidence: 80%\n",
      "  Keywords: Pelosi, speaker, CDP, party leadership\n",
      "  Sentiment: +0% 025% -75%\n",
      "\n",
      "Theme: Congressional Interns\n",
      "  Confidence: 50%\n",
      "  Keywords: Congress, interns, wage\n",
      "  Sentiment: +50% 050% -0%\n",
      "\n",
      "Theme: Event\n",
      "  Confidence: 50%\n",
      "  Keywords: event, promotion, tickets\n",
      "  Sentiment: +50% 050% -0%\n",
      "\n",
      "Theme: Congressional News\n",
      "  Confidence: 50%\n",
      "  Keywords: Congress, reports, news\n",
      "  Sentiment: +25% 075% -0%\n",
      "\n",
      "Theme: Empowerment and Personal Growth\n",
      "  Confidence: 85%\n",
      "  Keywords: Empowerment, Tomorrow, Belief\n",
      "  Sentiment: +80% 010% -10%\n",
      "\n",
      "Theme: Social Commentary and Criticism\n",
      "  Confidence: 80%\n",
      "  Keywords: Hate, Shameful\n",
      "  Sentiment: +10% 010% -80%\n",
      "\n",
      "Theme: Humor and Leisure\n",
      "  Confidence: 70%\n",
      "  Keywords: Entertainment, Animal\n",
      "  Sentiment: +90% 05% -5%\n",
      "\n",
      "Theme: Social and Cultural Issues\n",
      "  Confidence: 80%\n",
      "  Keywords: forced, cuts, labor, peanut butter, fashion, charity, cannes\n",
      "  Sentiment: +30% 030% -40%\n",
      "\n",
      "Theme: Business and Entrepreneurship\n",
      "  Confidence: 80%\n",
      "  Keywords: business, idea, bowling\n",
      "  Sentiment: +80% 010% -10%\n",
      "\n",
      "Theme: Technology and Online Presence\n",
      "  Confidence: 85%\n",
      "  Keywords: technology, online presence, revenue\n",
      "  Sentiment: +50% 030% -20%\n",
      "\n",
      "Theme: General Interest and Lifestyle\n",
      "  Confidence: 80%\n",
      "  Keywords: general interest, lifestyle, food\n",
      "  Sentiment: +60% 020% -20%\n",
      "\n",
      "Theme: Social Media and Online Culture\n",
      "  Confidence: 70%\n",
      "  Keywords: Twitter, Social media\n",
      "  Sentiment: +40% 040% -20%\n",
      "\n",
      "Theme: Daily Life and Observations\n",
      "  Confidence: 60%\n",
      "  Keywords: diner, Maine, trip\n",
      "  Sentiment: +30% 030% -40%\n",
      "\n",
      "Theme: Personal and Inspirational\n",
      "  Confidence: 50%\n",
      "  Keywords: inspiration, motivation\n",
      "  Sentiment: +80% 015% -5%\n",
      "\n",
      "Theme: Entertainment and Humor\n",
      "  Confidence: 90%\n",
      "  Keywords: internet, memes, jokes\n",
      "  Sentiment: +90% 05% -5%\n",
      "\n",
      "Theme: Sports and Cricket\n",
      "  Confidence: 70%\n",
      "  Keywords: cricket, match, news\n",
      "  Sentiment: +70% 010% -20%\n",
      "\n",
      "Theme: Small Business\n",
      "  Confidence: 87%\n",
      "  Keywords: Small Business, Small Business Boss, Site\n",
      "  Sentiment: +0% 0100% -0%\n",
      "\n",
      "Theme: Event/Incident\n",
      "  Confidence: 63%\n",
      "  Keywords: Bar, Firing, Black\n",
      "  Sentiment: +0% 050% -50%\n",
      "\n",
      "Theme: Personal/Relationship\n",
      "  Confidence: 53%\n",
      "  Keywords: Family, Love, Brilliant\n",
      "  Sentiment: +100% 00% -0%\n",
      "\n",
      "Theme: Positive Social Impact\n",
      "  Confidence: 85%\n",
      "  Keywords: media, power, boon, BDS, Theresa May, DANCE WITH YOU, gangster chic\n",
      "  Sentiment: +60% 020% -20%\n",
      "\n",
      "Theme: Entertainment and Celebrity News\n",
      "  Confidence: 75%\n",
      "  Keywords: DANCE WITH YOU, gangster chic, BAFTA, Theresa May\n",
      "  Sentiment: +0% 060% -40%\n",
      "\n",
      "Theme: Breaking News\n",
      "  Confidence: 90%\n",
      "  Keywords: Cosby, BDS\n",
      "  Sentiment: +0% 040% -60%\n",
      "\n",
      "Theme: Human Rights and Social Justice\n",
      "  Confidence: 80%\n",
      "  Keywords: Human Rights, Activists, Silencing, India, Holocaust, Education\n",
      "  Sentiment: +30% 020% -50%\n",
      "\n",
      "Theme: Australia's Politics and Infrastructure\n",
      "  Confidence: 72%\n",
      "  Keywords: #aabill, dinosaur tech illiterates, Australia\n",
      "  Sentiment: +0% 067% -33%\n",
      "\n",
      "Theme: Social Responsibility and Community\n",
      "  Confidence: 86%\n",
      "  Keywords: vulnerable, Republic Day, Jai Ho\n",
      "  Sentiment: +50% 050% -0%\n",
      "\n",
      "Theme: Personal and Social Life\n",
      "  Confidence: 69%\n",
      "  Keywords: party\n",
      "  Sentiment: +100% 00% -0%\n",
      "\n",
      "Theme: Infrastructure and Public Safety\n",
      "  Confidence: 83%\n",
      "  Keywords: infrastructure stability, safety measures\n",
      "  Sentiment: +0% 067% -33%\n",
      "\n",
      "Theme: Social Awareness and Activism\n",
      "  Confidence: 50%\n",
      "  Keywords: #FireTheFool, dc, april fool's day, disturbing video, raleigh murder case\n",
      "  Sentiment: +30% 010% -60%\n",
      "\n",
      "Theme: Cultural Expression and Appreciation\n",
      "  Confidence: 60%\n",
      "  Keywords: art, creativity\n",
      "  Sentiment: +0% 0100% -0%\n",
      "\n",
      "Theme: Politics/Current Events\n",
      "  Confidence: 50%\n",
      "  Keywords: Republic Day, Jai Ho, Canadian govt\n",
      "  Sentiment: +20% 080% -0%\n",
      "\n",
      "Theme: Arts and Culture\n",
      "  Confidence: 85%\n",
      "  Keywords: #RaleighArtBeats, @RaleighArts, Britt Flood\n",
      "  Sentiment: +100% 00% -0%\n",
      "\n",
      "Theme: Community and Events\n",
      "  Confidence: 80%\n",
      "  Keywords: #SundayService, #KDX\n",
      "  Sentiment: +100% 00% -0%\n",
      "\n",
      "Theme: Social Media and Connectivity\n",
      "  Confidence: 75%\n",
      "  Keywords: @RaleighArts, @JosieEnefer8\n",
      "  Sentiment: +100% 00% -0%\n",
      "\n",
      "Theme: Violence Prevention\n",
      "  Confidence: 55%\n",
      "  Keywords: Londoners, Mayor\n",
      "  Sentiment: +0% 0100% -0%\n",
      "\n",
      "Theme: Motivational/ Inspirational\n",
      "  Confidence: 70%\n",
      "  Keywords: heart, strength, thank, keep\n",
      "  Sentiment: +75% 025% -0%\n",
      "\n",
      "Theme: Personal Development and Career Growth\n",
      "  Confidence: 80%\n",
      "  Keywords: personalbranding, career, choices\n",
      "  Sentiment: +66.67% 033.33% -0%\n",
      "\n",
      "Theme: Cultural and Social Issues\n",
      "  Confidence: 80%\n",
      "  Keywords: rap, society, music, celebrity, culture, media, justice, activism, change, humor, satire, commentary\n",
      "  Sentiment: +20% 080% -0%\n",
      "\n",
      "Theme: Food and Dining\n",
      "  Confidence: 100%\n",
      "  Keywords: Brick & Fire, wood fire pizza\n",
      "  Sentiment: +100% 00% -0%\n",
      "\n",
      "Theme: Technology and Manufacturing\n",
      "  Confidence: 100%\n",
      "  Keywords: 3D-Printed metal, manufacturing\n",
      "  Sentiment: +0% 0100% -0%\n",
      "\n",
      "Theme: Parenting and Family\n",
      "  Confidence: 90%\n",
      "  Keywords: parenting, unconditional love\n",
      "  Sentiment: +100% 00% -0%\n",
      "\n",
      "Theme: Social Issues and Politics\n",
      "  Confidence: 90%\n",
      "  Keywords: Roy Moore, Snowden, Candor with the Chinese\n",
      "  Sentiment: +60% 020% -20%\n",
      "\n",
      "Theme: Relationships and Pets\n",
      "  Confidence: 80%\n",
      "  Keywords: boyfriend, dog, Slash\n",
      "  Sentiment: +0% 0100% -0%\n",
      "\n",
      "Theme: Community and Social Issues\n",
      "  Confidence: 80%\n",
      "  Keywords: community, social, issues\n",
      "  Sentiment: +25% 025% -50%\n",
      "\n",
      "Theme: Travel and Adventure\n",
      "  Confidence: 60%\n",
      "  Keywords: travel, adventure, exploration\n",
      "  Sentiment: +90% 010% -0%\n",
      "\n",
      "Theme: Celebrations\n",
      "  Confidence: 100%\n",
      "  Keywords: birthday, friend, celebrating, shining example\n",
      "  Sentiment: +85% 015% -0%\n",
      "\n",
      "Theme: Disappointment and Frustration\n",
      "  Confidence: 70%\n",
      "  Keywords: delayed, order, plans, inflexibility, kendricklamar, damm\n",
      "  Sentiment: +0% 020% -80%\n",
      "\n",
      "Theme: European Union Politics\n",
      "  Confidence: 98%\n",
      "  Keywords: EU, Brexit, leave, currency\n",
      "  Sentiment: +0% 00% -100%\n",
      "\n",
      "Theme: Personal Relationships and Interactions\n",
      "  Confidence: 80%\n",
      "  Keywords: thanks, check, out, appreciate\n",
      "  Sentiment: +100% 00% -0%\n",
      "\n",
      "Theme: Entertainment and Lifestyle\n",
      "  Confidence: 75%\n",
      "  Keywords: music, funky, banger, caribbean, nassau, roatan\n",
      "  Sentiment: +100% 00% -0%\n",
      "\n",
      "Theme: Productivity and Technology\n",
      "  Confidence: 60%\n",
      "  Keywords: bot, automation\n",
      "  Sentiment: +100% 00% -0%\n",
      "\n",
      "Theme: Immigration and Refugees\n",
      "  Confidence: 75%\n",
      "  Keywords: #NewcomersWelcome, #WelcomeToCanada, #RefugeesWelcome, #privatesponsorship\n",
      "  Sentiment: +75% 025% -0%\n",
      "\n",
      "Theme: Terrorism and Conflict\n",
      "  Confidence: 55%\n",
      "  Keywords: terror attack, precious lives\n",
      "  Sentiment: +0% 00% -100%\n",
      "\n",
      "Theme: Secrets and Personal Information\n",
      "  Confidence: 80%\n",
      "  Keywords: secret, spill, confidential, boundaries\n",
      "  Sentiment: +0% 00% -100%\n",
      "\n",
      "Theme: Social Cause and Charity\n",
      "  Confidence: 80%\n",
      "  Keywords: #WAKEUPCALL, #UNICEF, #SwatMotorway\n",
      "  Sentiment: +60% 020% -20%\n",
      "\n",
      "Theme: Personal Life and Experiences\n",
      "  Confidence: 60%\n",
      "  Keywords: #whatgoesup\n",
      "  Sentiment: +40% 040% -20%\n",
      "\n",
      "Theme: Communication and Technology\n",
      "  Confidence: 50%\n",
      "  Keywords: #blockednumbers, #visiontech\n",
      "  Sentiment: +40% 030% -30%\n",
      "\n"
     ]
    },
    {
     "data": {
      "application/vnd.plotly.v1+json": {
       "config": {
        "plotlyServerURL": "https://plot.ly"
       },
       "data": [
        {
         "hoverinfo": "text",
         "hovertext": [
          "Theme: Technology and Coding<br>Confidence: 85%<br>Centrality: 68<br>Keywords: VHDL, Verilog, programming, computer science<br>Sentiment: +0% 0100% -0%",
          "Theme: Business and Finance<br>Confidence: 80%<br>Centrality: 75<br>Keywords: business, finance, entrepreneurship, venture<br>Sentiment: +55% 045% -0%",
          "Theme: Culture and Entertainment<br>Confidence: 70%<br>Centrality: 58<br>Keywords: art, haiku, Funko, Netflix, movie, God, amazing, experiences<br>Sentiment: +60% 040% -0%",
          "Theme: Sports and Fitness<br>Confidence: 50%<br>Centrality: 10<br>Keywords: running, 13.1 miles, nychalf, marathon, @eddieizzard<br>Sentiment: +100% 00% -0%",
          "Theme: Science and Exploration<br>Confidence: 55%<br>Centrality: 48<br>Keywords: planet, bushes, ringed fields, gopher, fin, science<br>Sentiment: +0% 0100% -0%",
          "Theme: Social Interactions<br>Confidence: 50%<br>Centrality: 0<br>Keywords: HeyYou, BoughtIt, ICYMI, RT<br>Sentiment: +40% 060% -0%",
          "Theme: Technology and Computing<br>Confidence: 70%<br>Centrality: 20<br>Keywords: Atari, Syzygy, gaming, software<br>Sentiment: +20% 060% -20%",
          "Theme: Emotional Expression and Art<br>Confidence: 60%<br>Centrality: 30<br>Keywords: i love the blue and pink bobbly things, doo-dah, image, object<br>Sentiment: +50% 050% -0%",
          "Theme: Philosophy and Culture<br>Confidence: 50%<br>Centrality: 20<br>Keywords: disenchantment of the image, Linux, nested user namespace<br>Sentiment: +0% 0100% -0%",
          "Theme: Philosophical Musings and Wordplay<br>Confidence: 60%<br>Centrality: 40<br>Keywords: confidence, attitude, woods<br>Sentiment: +0% 0100% -0%",
          "Theme: Health and Fitness<br>Confidence: 80%<br>Centrality: 50<br>Keywords: Energy expenditure, Calories, Metabolic rate<br>Sentiment: +0% 0100% -0%",
          "Theme: Emotions and Mental State<br>Confidence: 70%<br>Centrality: 30<br>Keywords: Anger, Excitement, Euphoria<br>Sentiment: +40% 040% -20%",
          "Theme: Weather and Environment<br>Confidence: 50%<br>Centrality: 20<br>Keywords: Temperature, Humidity, Cloud cover<br>Sentiment: +0% 0100% -0%",
          "Theme: Social Interactions and Relationships<br>Confidence: 60%<br>Centrality: 20<br>Keywords: Sheriff, Friendship, Camaraderie<br>Sentiment: +20% 080% -0%",
          "Theme: Tech and Software<br>Confidence: 80%<br>Centrality: 70<br>Keywords: Microsoft, Edge, Chromium, Linux, RHEL, spice-server<br>Sentiment: +0% 050% -50%",
          "Theme: Miscellaneous<br>Confidence: 50%<br>Centrality: 0<br>Keywords: sailing, vacation<br>Sentiment: +100% 00% -0%",
          "Theme: Security and Vulnerability<br>Confidence: 60%<br>Centrality: 40<br>Keywords: Naked Security, Security, Vulnerability<br>Sentiment: +0% 0100% -0%",
          "Theme: Cryptocurrency<br>Confidence: 70%<br>Centrality: 60<br>Keywords: Crypto, Government, Disclosure<br>Sentiment: +0% 0100% -0%",
          "Theme: Love and Relationships<br>Confidence: 80%<br>Centrality: 60<br>Keywords: love, girlfriend, diamond ring<br>Sentiment: +66.67% 016.67% -16.67%",
          "Theme: Inspiration and Creativity<br>Confidence: 70%<br>Centrality: 50<br>Keywords: music, story, inspiration<br>Sentiment: +83.33% 016.67% -0%",
          "Theme: Realism and Optimism<br>Confidence: 60%<br>Centrality: 40<br>Keywords: machine, planet, optimism<br>Sentiment: +66.67% 033.33% -0%",
          "Theme: Social Interaction<br>Confidence: 50%<br>Centrality: 30<br>Keywords: humor, whimsy, social sharing<br>Sentiment: +50% 050% -0%",
          "Theme: Emotional Support and Concern<br>Confidence: 85%<br>Centrality: 80<br>Keywords: fresh air, treat urself kindly, te deixarei, desampararei<br>Sentiment: +40% 040% -20%",
          "Theme: Life and Relationships<br>Confidence: 70%<br>Centrality: 60<br>Keywords: Luke, Grandad, doo-dah, doo-dah<br>Sentiment: +30% 050% -20%",
          "Theme: Celebrations and Hobbies<br>Confidence: 60%<br>Centrality: 50<br>Keywords: #NationalWineDay, #WineWednesday<br>Sentiment: +60% 030% -10%",
          "Theme: Gaming<br>Confidence: 80%<br>Centrality: 60<br>Keywords: LA NOIRE, gaming<br>Sentiment: +0% 0100% -0%",
          "Theme: Politics<br>Confidence: 80%<br>Centrality: 70<br>Keywords: Rumsfeld, MakeAmericaGreatAgain, TrumpTrain<br>Sentiment: +50% 050% -0%",
          "Theme: Science Fiction<br>Confidence: 50%<br>Centrality: 40<br>Keywords: planet, starshine, alien life<br>Sentiment: +0% 0100% -0%",
          "Theme: Humor<br>Confidence: 50%<br>Centrality: 20<br>Keywords: BONG BONG BONG BONG, wine<br>Sentiment: +20% 080% -0%",
          "Theme: Bitcoin Miners<br>Confidence: 60%<br>Centrality: 40<br>Keywords: Bitcoin, Miners, China<br>Sentiment: +0% 00% -100%",
          "Theme: Space Exploration and Discovery<br>Confidence: 90%<br>Centrality: 80<br>Keywords: planet, discovery, space<br>Sentiment: +40% 040% -20%",
          "Theme: Pop Culture and Entertainment<br>Confidence: 90%<br>Centrality: 80<br>Keywords: BONG, Quantum Break, Marco Rubio, RemyyXxX, God, pop culture<br>Sentiment: +40% 030% -30%",
          "Theme: Language and Sarcasm<br>Confidence: 80%<br>Centrality: 60<br>Keywords: Noooo, Doo-dah, Feint, shim<br>Sentiment: +0% 050% -50%",
          "Theme: Social Commentary<br>Confidence: 70%<br>Centrality: 50<br>Keywords: <br>Sentiment: +0% 00% -0%",
          "Theme: Criticisms and Negativity<br>Confidence: 64%<br>Centrality: 73<br>Keywords: holidays, hypocrisy, disappointment, frustration, cynicism<br>Sentiment: +0% 00% -100%",
          "Theme: Lightheartedness and Humor<br>Confidence: 72%<br>Centrality: 81<br>Keywords: wuvluv, cute, accidentalhaiku, shaggy linkups, tulips<br>Sentiment: +100% 00% -0%",
          "Theme: Politics and Justice<br>Confidence: 85%<br>Centrality: 80<br>Keywords: justice, judge, pill, allegations<br>Sentiment: +25% 00% -75%",
          "Theme: Technology and Innovation<br>Confidence: 65%<br>Centrality: 40<br>Keywords: #metaguide<br>Sentiment: +0% 0100% -0%",
          "Theme: Lifestyle and Interests<br>Confidence: 70%<br>Centrality: 80<br>Keywords: fashion, hobbies, video games, philosophy<br>Sentiment: +22% 078% -0%",
          "Theme: Uncategorized<br>Confidence: 55%<br>Centrality: 60<br>Keywords: abstract concepts, mathematical expressions<br>Sentiment: +0% 0100% -0%",
          "Theme: Social Media and Communication<br>Confidence: 80%<br>Centrality: 85<br>Keywords: social media, communication, networking<br>Sentiment: +0% 0100% -0%",
          "Theme: Inspirational/Motivational<br>Confidence: 60%<br>Centrality: 40<br>Keywords: move, win, home, sleep<br>Sentiment: +75% 025% -0%",
          "Theme: Politics and World Events<br>Confidence: 80%<br>Centrality: 60<br>Keywords: Syria, Obama<br>Sentiment: +0% 0100% -0%",
          "Theme: Cryptocurrency and Technology<br>Confidence: 70%<br>Centrality: 40<br>Keywords: EOS, Bitmain, Peter Thiel<br>Sentiment: +100% 00% -0%",
          "Theme: Work and Productivity<br>Confidence: 60%<br>Centrality: 55<br>Keywords: back to work, rest your eyes, hacking, China<br>Sentiment: +70% 00% -30%",
          "Theme: Pop Culture and Humor<br>Confidence: 85%<br>Centrality: 65<br>Keywords: haiku, interview, 42, The Hitchhiker's Guide to the Galaxy<br>Sentiment: +90% 010% -0%",
          "Theme: Travel/Transportation<br>Confidence: 100%<br>Centrality: 45<br>Keywords: Travel, Transportation, Aviation, Tourism, Wine<br>Sentiment: +40% 040% -20%",
          "Theme: Trust and Vulnerability<br>Confidence: 88%<br>Centrality: 82<br>Keywords: secrets, trust, computable knowledge, fly, beautiful<br>Sentiment: +60% 020% -20%",
          "Theme: Emergency Preparedness<br>Confidence: 80%<br>Centrality: 75<br>Keywords: tuna cans, poaching rings, emergency<br>Sentiment: +40% 040% -20%",
          "Theme: Security and Exploits<br>Confidence: 90%<br>Centrality: 85<br>Keywords: exploits, security, PHP-Proxy<br>Sentiment: +30% 050% -20%",
          "Theme: Human Experience and Emotions<br>Confidence: 85%<br>Centrality: 78<br>Keywords: bum, favorite things, social interactions<br>Sentiment: +50% 030% -20%",
          "Theme: Miscellaneous and Humor<br>Confidence: 80%<br>Centrality: 70<br>Keywords: humor, entertainment, social media<br>Sentiment: +40% 060% -0%",
          "Theme: Math and Science<br>Confidence: 85%<br>Centrality: 80<br>Keywords: math, science, computable knowledge<br>Sentiment: +50% 030% -20%",
          "Theme: Interrogation and Interview<br>Confidence: 80%<br>Centrality: 75<br>Keywords: interrogation, interview, conversational dynamics<br>Sentiment: +40% 040% -20%",
          "Theme: Language and Culture<br>Confidence: 80%<br>Centrality: 72<br>Keywords: language, culture, N\\xc3\\xa3o temas<br>Sentiment: +60% 030% -10%",
          "Theme: Cryptic Posts and Math<br>Confidence: 85%<br>Centrality: 80<br>Keywords: cryptic, math, equation<br>Sentiment: +50% 030% -20%",
          "Theme: Financial/Business<br>Confidence: 80%<br>Centrality: 85<br>Keywords: billionaire, Ethereum, recovery code<br>Sentiment: +0% 050% -50%",
          "Theme: Productivity and Motivation<br>Confidence: 80%<br>Centrality: 70<br>Keywords: motivation, productivity, fashion show<br>Sentiment: +40% 050% -10%",
          "Theme: Current Events and News<br>Confidence: 75%<br>Centrality: 55<br>Keywords: Egypt, Politics, Conflict, Instability<br>Sentiment: +0% 00% -100%",
          "Theme: College Life<br>Confidence: 88%<br>Centrality: 80<br>Keywords: dorm, college, jealous<br>Sentiment: +0% 050% -50%",
          "Theme: Personal Reminders and Support<br>Confidence: 70%<br>Centrality: 85<br>Keywords: help, support, friends<br>Sentiment: +66.67% 033.33% -0%",
          "Theme: Education<br>Confidence: 85%<br>Centrality: 40<br>Keywords: dyslexia, common core, statistics, education<br>Sentiment: +66.67% 00% -33.33%",
          "Theme: Politics and Governance<br>Confidence: 60%<br>Centrality: 30<br>Keywords: steel, safeguards, sex ed, parents' rights<br>Sentiment: +0% 0100% -0%",
          "Theme: Sports<br>Confidence: 50%<br>Centrality: 30<br>Keywords: #Sports, #RedSox<br>Sentiment: +0% 0100% -0%",
          "Theme: US Politics<br>Confidence: 80%<br>Centrality: 70<br>Keywords: ObamaCare, Primary, INPrimary<br>Sentiment: +0% 040% -60%",
          "Theme: Health and Wellness<br>Confidence: 60%<br>Centrality: 60<br>Keywords: health, wellness<br>Sentiment: +60% 020% -20%",
          "Theme: Technology<br>Confidence: 50%<br>Centrality: 50<br>Keywords: Microservices, application development<br>Sentiment: +0% 0100% -0%",
          "Theme: TV and Media<br>Confidence: 80%<br>Centrality: 40<br>Keywords: Netflix, TV, Instant, Season 2<br>Sentiment: +0% 0100% -0%",
          "Theme: Entertainment and Hobbies<br>Confidence: 80%<br>Centrality: 50<br>Keywords: opera, music, theater, gaming, water, self-care, primark, online store, interest, deduction, limits, frozen, mrc, planet, space, stargaze<br>Sentiment: +33.33% 066.67% -0%",
          "Theme: Personal Reminders and Self-Care<br>Confidence: 60%<br>Centrality: 30<br>Keywords: eyes, rest, health, water, hydration, nutrition<br>Sentiment: +100% 00% -0%",
          "Theme: Film and Entertainment<br>Confidence: 85%<br>Centrality: 45<br>Keywords: Coco, Netflix, Meghan<br>Sentiment: +40% 030% -30%",
          "Theme: Personal and Lifestyle<br>Confidence: 80%<br>Centrality: 20<br>Keywords: personal, lifestyle, adrenaline, relaxation<br>Sentiment: +50% 025% -25%",
          "Theme: Science and Discovery<br>Confidence: 95%<br>Centrality: 20<br>Keywords: planet, cyborg<br>Sentiment: +40% 040% -20%",
          "Theme: Philosophy and Social Commentary<br>Confidence: 80%<br>Centrality: 20<br>Keywords: feminism, sabotage<br>Sentiment: +20% 030% -50%",
          "Theme: Movie and TV News<br>Confidence: 70%<br>Centrality: 60<br>Keywords: Nicolas Cage, movies, Bitcoin, miner<br>Sentiment: +0% 0100% -0%",
          "Theme: Information Seeking<br>Confidence: 80%<br>Centrality: 85<br>Keywords: keys, instructions, help<br>Sentiment: +0% 0100% -0%",
          "Theme: Sports and Entertainment<br>Confidence: 85%<br>Centrality: 35<br>Keywords: sports, entertainment, cricket, music, radio<br>Sentiment: +100% 00% -0%",
          "Theme: Cryptocurrency and Bitcoin<br>Confidence: 100%<br>Centrality: 80<br>Keywords: bitcoin, bch, bug, price, security<br>Sentiment: +0% 020% -80%",
          "Theme: Music and Entertainment<br>Confidence: 85%<br>Centrality: 80<br>Keywords: music, festival, artist<br>Sentiment: +80% 010% -10%",
          "Theme: Technology and Entertainment<br>Confidence: 80%<br>Centrality: 60<br>Keywords: Twitter, Social Media, Gaming, Wine, Beverage Reviews, Science Fiction, Fantasy, Media<br>Sentiment: +85% 05% -10%",
          "Theme: Encouragement<br>Confidence: 80%<br>Centrality: 70<br>Keywords: breathe, take care of urself, get back to work, eat something<br>Sentiment: +50% 050% -0%",
          "Theme: Cybersecurity and Technology<br>Confidence: 80%<br>Centrality: 50<br>Keywords: cybersecurity, competition, Dark Reading, CSAW<br>Sentiment: +0% 0100% -0%",
          "Theme: Emotional Wellbeing and Self-Care<br>Confidence: 70%<br>Centrality: 30<br>Keywords: self-care, grounding, pancakes, wine<br>Sentiment: +100% 00% -0%",
          "Theme: Relationships and Social Connections<br>Confidence: 60%<br>Centrality: 20<br>Keywords: celebrity, crush, friendship, support<br>Sentiment: +100% 00% -0%",
          "Theme: Work/Responsibility<br>Confidence: 85%<br>Centrality: 90<br>Keywords: GET BACK TO WORK, Idris, Haskell, Robot pussy<br>Sentiment: +0% 090% -10%",
          "Theme: Social Commentary and Critique<br>Confidence: 80%<br>Centrality: 85<br>Keywords: lie, deception, dishonesty, authority, norms, question, kindness, empathy, respect<br>Sentiment: +20% 040% -40%",
          "Theme: Exploration and Discovery<br>Confidence: 80%<br>Centrality: 70<br>Keywords: planet, discovered, space, relaxation, self-care<br>Sentiment: +20% 070% -10%",
          "Theme: Relationships and Communication<br>Confidence: 60%<br>Centrality: 50<br>Keywords: communicating, secret, love, relationship<br>Sentiment: +30% 040% -30%",
          "Theme: Humor and Entertainment<br>Confidence: 70%<br>Centrality: 40<br>Keywords: Beer, Humor, Entertainment<br>Sentiment: +40% 030% -30%",
          "Theme: Existentialism and Self-Discovery<br>Confidence: 65%<br>Centrality: 55<br>Keywords: life, meaning, errancy, self-expression, authenticity<br>Sentiment: +20% 040% -40%",
          "Theme: Celebrity/Media Mentions<br>Confidence: 60%<br>Centrality: 20<br>Keywords: Leonard Cohen, RIP<br>Sentiment: +20% 030% -50%",
          "Theme: Entertainment<br>Confidence: 80%<br>Centrality: 60<br>Keywords: Inception, Nazia Hassan, MovieMemeBot, beardbegone<br>Sentiment: +40% 060% -0%",
          "Theme: Personal Struggles<br>Confidence: 70%<br>Centrality: 30<br>Keywords: suspense, sleepwalker<br>Sentiment: +0% 020% -80%",
          "Theme: Hobbies<br>Confidence: 50%<br>Centrality: 10<br>Keywords: Sports, Photography<br>Sentiment: +0% 0100% -0%",
          "Theme: Social Media<br>Confidence: 50%<br>Centrality: 20<br>Keywords: Social media, Social media platforms<br>Sentiment: +40% 060% -0%",
          "Theme: Personal Growth<br>Confidence: 50%<br>Centrality: 30<br>Keywords: Personal growth, Self-improvement<br>Sentiment: +0% 080% -20%",
          "Theme: Relationships<br>Confidence: 70%<br>Centrality: 40<br>Keywords: relationship, breakup, advice<br>Sentiment: +0% 0100% -0%",
          "Theme: Personal Development<br>Confidence: 50%<br>Centrality: 40<br>Keywords: Personal development, Self-awareness<br>Sentiment: +0% 080% -20%",
          "Theme: Respect and Empowerment<br>Confidence: 80%<br>Centrality: 70<br>Keywords: respect, dignity, self-worth<br>Sentiment: +100% 00% -0%",
          "Theme: Technology and Security<br>Confidence: 70%<br>Centrality: 40<br>Keywords: IT security, eBay<br>Sentiment: +0% 050% -50%",
          "Theme: Philosophy and Human Interest<br>Confidence: 50%<br>Centrality: 80<br>Keywords: dogs down, Why is a dirt found in a refrigerator?, WEATHER REVIEWS<br>Sentiment: +50% 025% -25%",
          "Theme: Traffic and Road Closure<br>Confidence: 80%<br>Centrality: 60<br>Keywords: ramps back open, scene cleared<br>Sentiment: +0% 0100% -0%",
          "Theme: Celebrity and Pop Culture<br>Confidence: 85%<br>Centrality: 60<br>Keywords: celebrity, culture, pop<br>Sentiment: +60% 020% -20%",
          "Theme: Humor and Sarcastic Comment<br>Confidence: 60%<br>Centrality: 20<br>Keywords: pour over, Lol<br>Sentiment: +100% 00% -0%",
          "Theme: Inspiration and Appreciation<br>Confidence: 50%<br>Centrality: 10<br>Keywords: speech, amazing, kudos<br>Sentiment: +100% 00% -0%",
          "Theme: Event and Announcement<br>Confidence: 50%<br>Centrality: 10<br>Keywords: Topical, http<br>Sentiment: +0% 0100% -0%",
          "Theme: Celebrity and Entertainment<br>Confidence: 80%<br>Centrality: 80<br>Keywords: grammys, kendricklamar, rapsody, japan, q&a, bootlegtheater<br>Sentiment: +50% 050% -0%",
          "Theme: Current Events and Alerts<br>Confidence: 80%<br>Centrality: 40<br>Keywords: evacuate, FloridaKeys<br>Sentiment: +0% 014% -86%",
          "Theme: Product and Service Promotions<br>Confidence: 75%<br>Centrality: 30<br>Keywords: metaguide, DialogSystems<br>Sentiment: +10% 090% -0%",
          "Theme: Social Commentary and Awareness<br>Confidence: 75%<br>Centrality: 60<br>Keywords: social, justice, change<br>Sentiment: +50% 015% -35%",
          "Theme: Personal and Lighthearted Content<br>Confidence: 60%<br>Centrality: 75<br>Keywords: celebrity, entertainment, personal relationships<br>Sentiment: +100% 00% -0%",
          "Theme: News and Information<br>Confidence: 90%<br>Centrality: 95<br>Keywords: news, information, environment<br>Sentiment: +0% 00% -100%",
          "Theme: Entertainment and Culture<br>Confidence: 75%<br>Centrality: 78<br>Keywords: @GuyFieri, #GroceryGames<br>Sentiment: +100% 00% -0%",
          "Theme: Education and Personal Development<br>Confidence: 80%<br>Centrality: 60<br>Keywords: education, personal development, growth, self-expression<br>Sentiment: +70% 020% -10%",
          "Theme: Sports and Leisure<br>Confidence: 80%<br>Centrality: 40<br>Keywords: tour, music, sleep<br>Sentiment: +50% 030% -20%",
          "Theme: Social Media and Tech<br>Confidence: 90%<br>Centrality: 83<br>Keywords: social media, post office, bureaucracy<br>Sentiment: +0% 017% -83%",
          "Theme: NRA and Politics<br>Confidence: 80%<br>Centrality: 70<br>Keywords: gun control, civil rights, NRA, Trump<br>Sentiment: +0% 00% -100%",
          "Theme: Amy Schumer and Trainwreck<br>Confidence: 90%<br>Centrality: 85<br>Keywords: Amy Schumer, comedy, Trainwreck, entertainment<br>Sentiment: +100% 00% -0%",
          "Theme: Linkin Park and Music<br>Confidence: 95%<br>Centrality: 92<br>Keywords: music, fandom, Linkin Park, community<br>Sentiment: +83% 017% -0%",
          "Theme: Small Business and Entrepreneurship<br>Confidence: 90%<br>Centrality: 83<br>Keywords: small business, innovation, networking, community<br>Sentiment: +67% 033% -0%",
          "Theme: Celebrity Culture and Humor<br>Confidence: 70%<br>Centrality: 60<br>Keywords: ConnieSchultz, robkardashian, EinsteinBeach, smocking gun, relativity theory, single payer healthcare<br>Sentiment: +60% 020% -20%",
          "Theme: Social Media and Online Engagement<br>Confidence: 98%<br>Centrality: 85<br>Keywords: social media, online engagement, book, reading, pop culture, entertainment, politics, current events<br>Sentiment: +71% 015% -14%",
          "Theme: Personal and Emotional Experiences<br>Confidence: 90%<br>Centrality: 80<br>Keywords: personal experiences, emotional support, growth, self-improvement, empathy<br>Sentiment: +85% 010% -5%",
          "Theme: Social Media Interactions<br>Confidence: 80%<br>Centrality: 65<br>Keywords: social media, engagement, interaction<br>Sentiment: +70% 015% -15%",
          "Theme: Celebrity and Public Figures<br>Confidence: 80%<br>Centrality: 60<br>Keywords: #CincoDeMayo, @cdelcampon7, Good morning<br>Sentiment: +80% 020% -0%",
          "Theme: Travel and Tourism<br>Confidence: 80%<br>Centrality: 60<br>Keywords: travel, tourism, views<br>Sentiment: +60% 020% -20%",
          "Theme: Workplace Issues<br>Confidence: 80%<br>Centrality: 50<br>Keywords: meeting, work, pressure<br>Sentiment: +0% 00% -100%",
          "Theme: Motivation and Success<br>Confidence: 90%<br>Centrality: 90<br>Keywords: success, achievement, inspiration<br>Sentiment: +100% 00% -0%",
          "Theme: Marketing and Advertising<br>Confidence: 60%<br>Centrality: 30<br>Keywords: marketing, advertising, self<br>Sentiment: +0% 0100% -0%",
          "Theme: Celebrity and Lifestyles<br>Confidence: 80%<br>Centrality: 70<br>Keywords: QI, plants, Small Business Boss, Chrissy Teigen<br>Sentiment: +30% 070% -0%",
          "Theme: Social Media and Entertainment<br>Confidence: 70%<br>Centrality: 50<br>Keywords: social media, entertainment<br>Sentiment: +80% 010% -10%",
          "Theme: Tributes and Reminders<br>Confidence: 75%<br>Centrality: 60<br>Keywords: Jai Ho, Republic Day, The Spellman Sisters Mortuary<br>Sentiment: +40% 060% -0%",
          "Theme: Environmental Awareness<br>Confidence: 65%<br>Centrality: 50<br>Keywords: food waste, What did we do as a nation before<br>Sentiment: +50% 050% -0%",
          "Theme: Personal and Professional Interests<br>Confidence: 60%<br>Centrality: 40<br>Keywords: @mikeshinoda<br>Sentiment: +40% 060% -0%",
          "Theme: Politics/Leadership<br>Confidence: 80%<br>Centrality: 70<br>Keywords: Trump, Theresa May, Emmanuel Macron<br>Sentiment: +80% 020% -0%",
          "Theme: Food and Beverages<br>Confidence: 80%<br>Centrality: 70<br>Keywords: Breakfast, Full Breakfast, Cafe<br>Sentiment: +100% 00% -0%",
          "Theme: Celebrity News and Updates<br>Confidence: 70%<br>Centrality: 30<br>Keywords: kuwtk, family<br>Sentiment: +100% 00% -0%",
          "Theme: KP Govt Recognition<br>Confidence: 85%<br>Centrality: 80<br>Keywords: KP Govt, UN-HABITAT Fukuoka, Asian Townscape Award<br>Sentiment: +100% 00% -0%",
          "Theme: Success and Opportunity<br>Confidence: 80%<br>Centrality: 60<br>Keywords: Luck, Opportunity, Preparation, Risk, Change<br>Sentiment: +40% 040% -20%",
          "Theme: Personal Growth and Development<br>Confidence: 70%<br>Centrality: 40<br>Keywords: Learning, Self-improvement, Career, Success<br>Sentiment: +50% 030% -20%",
          "Theme: Social Impact and Responsibility<br>Confidence: 60%<br>Centrality: 30<br>Keywords: Community, Support, Change, Social justice, Activism<br>Sentiment: +30% 040% -30%",
          "Theme: Entertainment and Media<br>Confidence: 90%<br>Centrality: 80<br>Keywords: TV, film, media, music, performance, art, social media, technology, online communities<br>Sentiment: +30% 070% -0%",
          "Theme: Support and Inspiration<br>Confidence: 90%<br>Centrality: 80<br>Keywords: joy, inspiration, motivation, empowerment, achievements, dreams, future, bright<br>Sentiment: +100% 00% -0%",
          "Theme: News and Updates<br>Confidence: 98%<br>Centrality: 95<br>Keywords: news, updates<br>Sentiment: +10% 070% -20%",
          "Theme: Haiku and Poetry<br>Confidence: 70%<br>Centrality: 40<br>Keywords: cherry blossoms, city dwellers, brooklyn, joy, inspiration, motivation<br>Sentiment: +100% 00% -0%",
          "Theme: Random and Miscellaneous<br>Confidence: 60%<br>Centrality: 20<br>Keywords: comedy show, haal, ajkal, RT, @JackieBrunoNECN, oh wow, blonde hair<br>Sentiment: +40% 060% -0%",
          "Theme: Celebrities and Entertainment<br>Confidence: 50%<br>Centrality: 10<br>Keywords: hollywills, Fearnecotton, ChristinaRicci, comedy show, haal, ajkal<br>Sentiment: +50% 050% -0%",
          "Theme: Social and Community<br>Confidence: 50%<br>Centrality: 10<br>Keywords: waste management, BMC, bandraite, RT, @JackieBrunoNECN, oh wow, blonde hair<br>Sentiment: +40% 060% -0%",
          "Theme: International Relations and Politics<br>Confidence: 80%<br>Centrality: 60<br>Keywords: India, Pakistan, Terrorism, Defence, Security<br>Sentiment: +0% 060% -40%",
          "Theme: Personal Life and Relationships<br>Confidence: 70%<br>Centrality: 40<br>Keywords: Friend, Support, Wedding, Love<br>Sentiment: +80% 010% -10%",
          "Theme: Education and Learning<br>Confidence: 60%<br>Centrality: 30<br>Keywords: Classes, Education, Health, Wellness<br>Sentiment: +0% 0100% -0%",
          "Theme: Crime and Law Enforcement<br>Confidence: 50%<br>Centrality: 20<br>Keywords: Police, Investigation, Guns, Safety<br>Sentiment: +0% 050% -50%",
          "Theme: Gun Control<br>Confidence: 80%<br>Centrality: 60<br>Keywords: gun control, moms demand, gun sense<br>Sentiment: +40% 00% -60%",
          "Theme: Celebration and Humor<br>Confidence: 50%<br>Centrality: 40<br>Keywords: birthday, humor<br>Sentiment: +80% 00% -20%",
          "Theme: Government and Politics<br>Confidence: 80%<br>Centrality: 70<br>Keywords: Sharif, Panama Papers, Labor, #aabill<br>Sentiment: +0% 050% -50%",
          "Theme: Religion and Community<br>Confidence: 60%<br>Centrality: 50<br>Keywords: synagogue, #ShowUpForShabbat<br>Sentiment: +0% 0100% -0%",
          "Theme: News and Media<br>Confidence: 70%<br>Centrality: 60<br>Keywords: @NicoleOliverio, @erin_carey, @mrasconnews, @7News<br>Sentiment: +0% 0100% -0%",
          "Theme: Social Media and Technology<br>Confidence: 50%<br>Centrality: 40<br>Keywords: #aabill, #epic<br>Sentiment: +0% 0100% -0%",
          "Theme: Politics and Current Events<br>Confidence: 80%<br>Centrality: 60<br>Keywords: Raleigh, Mayor, Election, Politics<br>Sentiment: +30% 050% -20%",
          "Theme: Political Commentary and Criticism<br>Confidence: 96%<br>Centrality: 80<br>Keywords: politics, criticism, leadership, governance, extremism, tribal<br>Sentiment: +0% 020% -80%",
          "Theme: Celebrations and Events<br>Confidence: 60%<br>Centrality: 40<br>Keywords: #Hindu, #NewYear, #NeasdenTemple, #InternationalWomenDay, #McDonalds<br>Sentiment: +100% 00% -0%",
          "Theme: Politics and Elections<br>Confidence: 82%<br>Centrality: 90<br>Keywords: election, politics, retain, candidates<br>Sentiment: +40% 030% -30%",
          "Theme: Support and Commendation<br>Confidence: 85%<br>Centrality: 70<br>Keywords: support, initiative, charity<br>Sentiment: +70% 015% -15%",
          "Theme: Information Sharing and News<br>Confidence: 60%<br>Centrality: 40<br>Keywords: news, updates, technology<br>Sentiment: +30% 045% -25%",
          "Theme: Valentine's Day and Love<br>Confidence: 50%<br>Centrality: 20<br>Keywords: love, valentine, celebration<br>Sentiment: +95% 03% -2%",
          "Theme: News<br>Confidence: 80%<br>Centrality: 68<br>Keywords: #ShoahFdn20, #POTUS<br>Sentiment: +50% 00% -50%",
          "Theme: Celebrity and Public Interest<br>Confidence: 80%<br>Centrality: 50<br>Keywords: JosefMartinez17, Small Business Boss, Lorrainetapper<br>Sentiment: +60% 040% -0%",
          "Theme: News and Current Events<br>Confidence: 80%<br>Centrality: 70<br>Keywords: news, events<br>Sentiment: +40% 030% -30%",
          "Theme: Food and Entertainment<br>Confidence: 60%<br>Centrality: 10<br>Keywords: porchertta sandwich<br>Sentiment: +100% 00% -0%",
          "Theme: Social Issues and Health<br>Confidence: 50%<br>Centrality: 5<br>Keywords: Generation Z<br>Sentiment: +0% 00% -100%",
          "Theme: Technology and Programming<br>Confidence: 88%<br>Centrality: 82<br>Keywords: technology, programming, code, design<br>Sentiment: +50% 050% -0%",
          "Theme: Social Media and Events<br>Confidence: 90%<br>Centrality: 89<br>Keywords: social media, events, engagement, promotions<br>Sentiment: +70% 030% -0%",
          "Theme: Politics and World News<br>Confidence: 95%<br>Centrality: 93<br>Keywords: politics, government, international, news<br>Sentiment: +0% 0100% -0%",
          "Theme: News and Politics<br>Confidence: 90%<br>Centrality: 80<br>Keywords: @NYTimeskrugman, @AElliottTV<br>Sentiment: +0% 050% -50%",
          "Theme: Self-Care and Fitness<br>Confidence: 75%<br>Centrality: 40<br>Keywords: self-care, fitness, wellness<br>Sentiment: +70% 030% -0%",
          "Theme: Relationships and Love<br>Confidence: 50%<br>Centrality: 20<br>Keywords: relationships, love, romance<br>Sentiment: +80% 020% -0%",
          "Theme: Politics and Social Issues<br>Confidence: 90%<br>Centrality: 90<br>Keywords: politics, social issues, justice<br>Sentiment: +10% 010% -80%",
          "Theme: Adversity and Resilience<br>Confidence: 80%<br>Centrality: 60<br>Keywords: Hurricane Irma, leadership, girls' education<br>Sentiment: +25% 025% -50%",
          "Theme: Canadian Politics and Security<br>Confidence: 50%<br>Centrality: 40<br>Keywords: Freeland, U.S., security umbrella, client state, military, dnd<br>Sentiment: +0% 0100% -0%",
          "Theme: Social Justice and Activism<br>Confidence: 80%<br>Centrality: 70<br>Keywords: rights, equality, justice, activism<br>Sentiment: +0% 00% -100%",
          "Theme: Food and Beverage<br>Confidence: 85%<br>Centrality: 80<br>Keywords: served with, menace which is called Twitter, suga<br>Sentiment: +66% 01% -33%",
          "Theme: Life and Mortality<br>Confidence: 50%<br>Centrality: 30<br>Keywords: life, mortality, death, transience<br>Sentiment: +20% 080% -0%",
          "Theme: Art and Culture<br>Confidence: 70%<br>Centrality: 40<br>Keywords: art, culture, visual art, popular culture<br>Sentiment: +30% 050% -20%",
          "Theme: Social Issues<br>Confidence: 80%<br>Centrality: 60<br>Keywords: social issues, immigration, diversity, social justice<br>Sentiment: +50% 020% -30%",
          "Theme: Racial Issues and Stereotypes<br>Confidence: 70%<br>Centrality: 60<br>Keywords: black, swim, hair wet<br>Sentiment: +0% 00% -100%",
          "Theme: Celebrity News and Entertainment<br>Confidence: 80%<br>Centrality: 40<br>Keywords: Kendrick Lamar, Grammy, Performance<br>Sentiment: +100% 00% -0%",
          "Theme: Social Media and Politics<br>Confidence: 60%<br>Centrality: 20<br>Keywords: MQM, Altaf Hussain<br>Sentiment: +0% 0100% -0%",
          "Theme: TV Shows and Pop Culture<br>Confidence: 50%<br>Centrality: 10<br>Keywords: Glow, TV show<br>Sentiment: +100% 00% -0%",
          "Theme: Weather Discussion<br>Confidence: 70%<br>Centrality: 50<br>Keywords: cold, weather<br>Sentiment: +0% 0100% -0%",
          "Theme: Sports and Celebrity<br>Confidence: 60%<br>Centrality: 40<br>Keywords: NFL, Kirk Cousins<br>Sentiment: +83.33% 00% -16.67%",
          "Theme: Politics and International Relations<br>Confidence: 80%<br>Centrality: 90<br>Keywords: Russia, indictment<br>Sentiment: +0% 00% -100%",
          "Theme: Tweets are about India<br>Confidence: 80%<br>Centrality: 80<br>Keywords: India, terrorists<br>Sentiment: +0% 00% -100%",
          "Theme: Politics and News<br>Confidence: 80%<br>Centrality: 90<br>Keywords: govt, leader, inaction, uneasy, poverty, inequality<br>Sentiment: +0% 00% -100%",
          "Theme: Celebrity and Recognition<br>Confidence: 89%<br>Centrality: 55<br>Keywords: Meghan, DM, signed copies, Coco, Ted Dabney, passed away<br>Sentiment: +60% 020% -20%",
          "Theme: Politics and Activism<br>Confidence: 70%<br>Centrality: 50<br>Keywords: election, campaign, politics, justice, activism, change<br>Sentiment: +40% 060% -0%",
          "Theme: Travel and Exploration<br>Confidence: 60%<br>Centrality: 20<br>Keywords: Canada, tour<br>Sentiment: +40% 040% -20%",
          "Theme: Writing and Literature<br>Confidence: 50%<br>Centrality: 10<br>Keywords: book, author<br>Sentiment: +20% 060% -20%",
          "Theme: Discontent and Criticism<br>Confidence: 90%<br>Centrality: 80<br>Keywords: PMLN, PTI, inauguration, wasted, @bluesatch, @plantbasedcaleb, truth<br>Sentiment: +0% 00% -100%",
          "Theme: Pop Culture<br>Confidence: 80%<br>Centrality: 60<br>Keywords: Malcolm in the Middle, Witty repartee, Social media<br>Sentiment: +40% 040% -20%",
          "Theme: Environmental Conservation<br>Confidence: 90%<br>Centrality: 80<br>Keywords: Gambila river bed plantation, Billion tree tsunami<br>Sentiment: +100% 00% -0%",
          "Theme: Current Events<br>Confidence: 90%<br>Centrality: 90<br>Keywords: Holocaust, survivor, Alice Herz-Sommer, Labor, bill, politics<br>Sentiment: +0% 00% -100%",
          "Theme: Personal Interactions<br>Confidence: 50%<br>Centrality: 30<br>Keywords: Personal, Interactions, Social media<br>Sentiment: +20% 060% -20%",
          "Theme: Entertainment and Leisure<br>Confidence: 70%<br>Centrality: 40<br>Keywords: Hoodrich, Djscream<br>Sentiment: +80% 010% -10%",
          "Theme: Mental Health and Wellness<br>Confidence: 65%<br>Centrality: 35<br>Keywords: Sigh, \\xf0\\x9f\\xa4\\xa6\\xe2\\x80\\x8d\\xe2\\x99\\x82\\xef\\xb8\\x8f<br>Sentiment: +20% 030% -50%",
          "Theme: Celebrity and Royalty<br>Confidence: 60%<br>Centrality: 30<br>Keywords: My King and Queen of October<br>Sentiment: +90% 05% -5%",
          "Theme: Social Media and Online Presence<br>Confidence: 80%<br>Centrality: 60<br>Keywords: streaming, website, listen, thankful, gratitude, criticism, opinion<br>Sentiment: +60% 020% -20%",
          "Theme: Humor and Satire<br>Confidence: 90%<br>Centrality: 80<br>Keywords: umbrella license test, apparently-sat-front-row-on-the-log-flume, NYC summer aesthetic<br>Sentiment: +75% 00% -25%",
          "Theme: Personal Reflection and Advice<br>Confidence: 50%<br>Centrality: 30<br>Keywords: project, funded, luck, Rookie, Georgia classroom<br>Sentiment: +30% 030% -40%",
          "Theme: Social Justice and Empowerment<br>Confidence: 87%<br>Centrality: 85<br>Keywords: guncontrol, women, respect<br>Sentiment: +40% 030% -30%",
          "Theme: Economic Concerns<br>Confidence: 78%<br>Centrality: 80<br>Keywords: economy, Pakistan<br>Sentiment: +20% 030% -50%",
          "Theme: Transportation and Infrastructure<br>Confidence: 85%<br>Centrality: 70<br>Keywords: <br>Sentiment: +0% 00% -0%",
          "Theme: Education and Research<br>Confidence: 80%<br>Centrality: 60<br>Keywords: <br>Sentiment: +0% 00% -0%",
          "Theme: Reading and Books<br>Confidence: 75%<br>Centrality: 50<br>Keywords: <br>Sentiment: +0% 00% -0%",
          "Theme: Weather and Seasonal Activities<br>Confidence: 70%<br>Centrality: 40<br>Keywords: <br>Sentiment: +0% 00% -0%",
          "Theme: Politics and Social Commentary<br>Confidence: 78%<br>Centrality: 55<br>Keywords: government, taxation, feminism, gender discrimination<br>Sentiment: +0% 020% -80%",
          "Theme: Funding and Crowdfunding<br>Confidence: 55%<br>Centrality: 10<br>Keywords: <br>Sentiment: +0% 00% -0%",
          "Theme: Pop Culture and Memes<br>Confidence: 50%<br>Centrality: 5<br>Keywords: <br>Sentiment: +0% 00% -0%",
          "Theme: Celebrity and Cultural News<br>Confidence: 80%<br>Centrality: 40<br>Keywords: celebrity, culture, news, awards, recognition, humor, pop culture, social commentary, memorials, tributes, personal interactions<br>Sentiment: +60% 040% -0%",
          "Theme: Personal and Lighthearted<br>Confidence: 50%<br>Centrality: 20<br>Keywords: personal, lighthearted, birthday wishes, personal interactions<br>Sentiment: +100% 00% -0%",
          "Theme: Personal Stories and Humor<br>Confidence: 60%<br>Centrality: 50<br>Keywords: vast conspiracy, keys, happy birthday, @jane_ottesen, caroline<br>Sentiment: +50% 025% -25%",
          "Theme: Entertainment and Book Reviews<br>Confidence: 85%<br>Centrality: 80<br>Keywords: ThePerfectGirl, @GillyMacmillan, @KendallJenner, @Jaspritbumrah93, @traffic_jpr<br>Sentiment: +50% 050% -0%",
          "Theme: Social and Cultural<br>Confidence: 80%<br>Centrality: 80<br>Keywords: London, celebrate, diversity<br>Sentiment: +75% 025% -0%",
          "Theme: Celebrity and Entertainment News<br>Confidence: 80%<br>Centrality: 70<br>Keywords: music, entertainment, celebrity<br>Sentiment: +60% 040% -0%",
          "Theme: Gardening<br>Confidence: 82%<br>Centrality: 80<br>Keywords: bulbs, whiter, disco<br>Sentiment: +0% 0100% -0%",
          "Theme: Hall and Oates<br>Confidence: 70%<br>Centrality: 60<br>Keywords: Hall, Oates, 80s, Kirstie Alley, John Travolta<br>Sentiment: +100% 00% -0%",
          "Theme: Entertainment and Pop Culture<br>Confidence: 80%<br>Centrality: 60<br>Keywords: Bizarre Explainer, Jojo\\u2019s, Wilderness, Queen<br>Sentiment: +40% 040% -20%",
          "Theme: Workplace Culture and Management<br>Confidence: 80%<br>Centrality: 85<br>Keywords: workplace, culture, management, expectations, dialogue<br>Sentiment: +80% 00% -20%",
          "Theme: Pakistan-Kashmir Relations<br>Confidence: 80%<br>Centrality: 60<br>Keywords: #Pakistan, #KashmirBlackDay<br>Sentiment: +66.67% 033.33% -0%",
          "Theme: Financial and Economic Issues<br>Confidence: 91%<br>Centrality: 85<br>Keywords: taxation, government, investment, technology, ethereum, GST<br>Sentiment: +0% 010% -90%",
          "Theme: Entertainment and Social Media<br>Confidence: 85%<br>Centrality: 78<br>Keywords: celebrity, social media, TV show, mental health<br>Sentiment: +80% 020% -0%",
          "Theme: Technology and Futurism<br>Confidence: 75%<br>Centrality: 60<br>Keywords: tech future, blockchain, ethereum, innovation<br>Sentiment: +0% 0100% -0%",
          "Theme: Miscellaneous and Product Development<br>Confidence: 70%<br>Centrality: 40<br>Keywords: product development, innovation, reaction, feedback<br>Sentiment: +0% 0100% -0%",
          "Theme: Miscellaneous and Event Promotion<br>Confidence: 65%<br>Centrality: 35<br>Keywords: event promotion, social media, reaction, curiosity<br>Sentiment: +20% 080% -0%",
          "Theme: Miscellaneous and Help Request<br>Confidence: 60%<br>Centrality: 25<br>Keywords: help request, social media, reaction, confusion<br>Sentiment: +0% 0100% -0%",
          "Theme: Miscellaneous and Miscellaneous<br>Confidence: 55%<br>Centrality: 15<br>Keywords: miscellaneous, social media, reaction, confusion<br>Sentiment: +0% 0100% -0%",
          "Theme: Miscellaneous and Unclassified<br>Confidence: 50%<br>Centrality: 0<br>Keywords: unclassified, social media, reaction, confusion<br>Sentiment: +0% 0100% -0%",
          "Theme: Cultural Trends and Observations<br>Confidence: 80%<br>Centrality: 85<br>Keywords: netflix, maniacnetflix, bldgblog, drjudymelinek, kourtneykardash<br>Sentiment: +60% 020% -20%",
          "Theme: General Lifestyle and Updates<br>Confidence: 86%<br>Centrality: 60<br>Keywords: morning routine, RobAndChyna, KUWTK, Ghana, Lexington, refugee families<br>Sentiment: +0% 090% -10%",
          "Theme: Positive Emotions and Appreciation<br>Confidence: 80%<br>Centrality: 60<br>Keywords: thanks, wonderful, Survivor, new season<br>Sentiment: +80% 020% -0%",
          "Theme: Information Sharing and Discussion<br>Confidence: 70%<br>Centrality: 40<br>Keywords: Survivor, missing, Chinese food, venue, advice<br>Sentiment: +20% 080% -0%",
          "Theme: Concern and Awareness<br>Confidence: 60%<br>Centrality: 20<br>Keywords: missing, missing person, colonial spelling, lady lawyer<br>Sentiment: +0% 080% -20%",
          "Theme: Celebrity Culture and Awards<br>Confidence: 80%<br>Centrality: 60<br>Keywords: Grammies, Gramophone Awards, Celebrities, Influence<br>Sentiment: +0% 0100% -0%",
          "Theme: Personal Interests and Relationships<br>Confidence: 85%<br>Centrality: 65<br>Keywords: Relationships, Breakups, Personal growth, Self-improvement<br>Sentiment: +100% 00% -0%",
          "Theme: Entertainment and Music<br>Confidence: 80%<br>Centrality: 60<br>Keywords: WayOverYonder_, @HappyWoman9, @MosesSumney, @localnatives, #sochi2014, #gold, #Bardot, @XiaXiaTechnique, @BIRDZONE_<br>Sentiment: +50% 030% -20%",
          "Theme: Celebrity and Culture<br>Confidence: 80%<br>Centrality: 70<br>Keywords: @D_Towsey, @K_Stansfield, Tyler Keevil, Words&amp; Festival<br>Sentiment: +50% 050% -0%",
          "Theme: Canadian Politics<br>Confidence: 80%<br>Centrality: 60<br>Keywords: Pelosi, speaker, CDP, party leadership<br>Sentiment: +0% 025% -75%",
          "Theme: Congressional Interns<br>Confidence: 50%<br>Centrality: 50<br>Keywords: Congress, interns, wage<br>Sentiment: +50% 050% -0%",
          "Theme: Event<br>Confidence: 50%<br>Centrality: 50<br>Keywords: event, promotion, tickets<br>Sentiment: +50% 050% -0%",
          "Theme: Congressional News<br>Confidence: 50%<br>Centrality: 50<br>Keywords: Congress, reports, news<br>Sentiment: +25% 075% -0%",
          "Theme: Empowerment and Personal Growth<br>Confidence: 85%<br>Centrality: 90<br>Keywords: Empowerment, Tomorrow, Belief<br>Sentiment: +80% 010% -10%",
          "Theme: Social Commentary and Criticism<br>Confidence: 80%<br>Centrality: 85<br>Keywords: Hate, Shameful<br>Sentiment: +10% 010% -80%",
          "Theme: Humor and Leisure<br>Confidence: 70%<br>Centrality: 80<br>Keywords: Entertainment, Animal<br>Sentiment: +90% 05% -5%",
          "Theme: Social and Cultural Issues<br>Confidence: 80%<br>Centrality: 60<br>Keywords: forced, cuts, labor, peanut butter, fashion, charity, cannes<br>Sentiment: +30% 030% -40%",
          "Theme: Business and Entrepreneurship<br>Confidence: 80%<br>Centrality: 30<br>Keywords: business, idea, bowling<br>Sentiment: +80% 010% -10%",
          "Theme: Technology and Online Presence<br>Confidence: 85%<br>Centrality: 85<br>Keywords: technology, online presence, revenue<br>Sentiment: +50% 030% -20%",
          "Theme: General Interest and Lifestyle<br>Confidence: 80%<br>Centrality: 80<br>Keywords: general interest, lifestyle, food<br>Sentiment: +60% 020% -20%",
          "Theme: Social Media and Online Culture<br>Confidence: 70%<br>Centrality: 50<br>Keywords: Twitter, Social media<br>Sentiment: +40% 040% -20%",
          "Theme: Daily Life and Observations<br>Confidence: 60%<br>Centrality: 40<br>Keywords: diner, Maine, trip<br>Sentiment: +30% 030% -40%",
          "Theme: Personal and Inspirational<br>Confidence: 50%<br>Centrality: 45<br>Keywords: inspiration, motivation<br>Sentiment: +80% 015% -5%",
          "Theme: Entertainment and Humor<br>Confidence: 90%<br>Centrality: 40<br>Keywords: internet, memes, jokes<br>Sentiment: +90% 05% -5%",
          "Theme: Sports and Cricket<br>Confidence: 70%<br>Centrality: 20<br>Keywords: cricket, match, news<br>Sentiment: +70% 010% -20%",
          "Theme: Small Business<br>Confidence: 87%<br>Centrality: 80<br>Keywords: Small Business, Small Business Boss, Site<br>Sentiment: +0% 0100% -0%",
          "Theme: Event/Incident<br>Confidence: 63%<br>Centrality: 40<br>Keywords: Bar, Firing, Black<br>Sentiment: +0% 050% -50%",
          "Theme: Personal/Relationship<br>Confidence: 53%<br>Centrality: 30<br>Keywords: Family, Love, Brilliant<br>Sentiment: +100% 00% -0%",
          "Theme: Positive Social Impact<br>Confidence: 85%<br>Centrality: 80<br>Keywords: media, power, boon, BDS, Theresa May, DANCE WITH YOU, gangster chic<br>Sentiment: +60% 020% -20%",
          "Theme: Entertainment and Celebrity News<br>Confidence: 75%<br>Centrality: 70<br>Keywords: DANCE WITH YOU, gangster chic, BAFTA, Theresa May<br>Sentiment: +0% 060% -40%",
          "Theme: Breaking News<br>Confidence: 90%<br>Centrality: 90<br>Keywords: Cosby, BDS<br>Sentiment: +0% 040% -60%",
          "Theme: Human Rights and Social Justice<br>Confidence: 80%<br>Centrality: 85<br>Keywords: Human Rights, Activists, Silencing, India, Holocaust, Education<br>Sentiment: +30% 020% -50%",
          "Theme: Australia's Politics and Infrastructure<br>Confidence: 72%<br>Centrality: 80<br>Keywords: #aabill, dinosaur tech illiterates, Australia<br>Sentiment: +0% 067% -33%",
          "Theme: Social Responsibility and Community<br>Confidence: 86%<br>Centrality: 85<br>Keywords: vulnerable, Republic Day, Jai Ho<br>Sentiment: +50% 050% -0%",
          "Theme: Personal and Social Life<br>Confidence: 69%<br>Centrality: 72<br>Keywords: party<br>Sentiment: +100% 00% -0%",
          "Theme: Infrastructure and Public Safety<br>Confidence: 83%<br>Centrality: 89<br>Keywords: infrastructure stability, safety measures<br>Sentiment: +0% 067% -33%",
          "Theme: Social Awareness and Activism<br>Confidence: 50%<br>Centrality: 40<br>Keywords: #FireTheFool, dc, april fool's day, disturbing video, raleigh murder case<br>Sentiment: +30% 010% -60%",
          "Theme: Cultural Expression and Appreciation<br>Confidence: 60%<br>Centrality: 40<br>Keywords: art, creativity<br>Sentiment: +0% 0100% -0%",
          "Theme: Politics/Current Events<br>Confidence: 50%<br>Centrality: 40<br>Keywords: Republic Day, Jai Ho, Canadian govt<br>Sentiment: +20% 080% -0%",
          "Theme: Arts and Culture<br>Confidence: 85%<br>Centrality: 60<br>Keywords: #RaleighArtBeats, @RaleighArts, Britt Flood<br>Sentiment: +100% 00% -0%",
          "Theme: Community and Events<br>Confidence: 80%<br>Centrality: 70<br>Keywords: #SundayService, #KDX<br>Sentiment: +100% 00% -0%",
          "Theme: Social Media and Connectivity<br>Confidence: 75%<br>Centrality: 50<br>Keywords: @RaleighArts, @JosieEnefer8<br>Sentiment: +100% 00% -0%",
          "Theme: Violence Prevention<br>Confidence: 55%<br>Centrality: 30<br>Keywords: Londoners, Mayor<br>Sentiment: +0% 0100% -0%",
          "Theme: Motivational/ Inspirational<br>Confidence: 70%<br>Centrality: 80<br>Keywords: heart, strength, thank, keep<br>Sentiment: +75% 025% -0%",
          "Theme: Personal Development and Career Growth<br>Confidence: 80%<br>Centrality: 70<br>Keywords: personalbranding, career, choices<br>Sentiment: +66.67% 033.33% -0%",
          "Theme: Cultural and Social Issues<br>Confidence: 80%<br>Centrality: 60<br>Keywords: rap, society, music, celebrity, culture, media, justice, activism, change, humor, satire, commentary<br>Sentiment: +20% 080% -0%",
          "Theme: Food and Dining<br>Confidence: 100%<br>Centrality: 20<br>Keywords: Brick & Fire, wood fire pizza<br>Sentiment: +100% 00% -0%",
          "Theme: Technology and Manufacturing<br>Confidence: 100%<br>Centrality: 20<br>Keywords: 3D-Printed metal, manufacturing<br>Sentiment: +0% 0100% -0%",
          "Theme: Parenting and Family<br>Confidence: 90%<br>Centrality: 15<br>Keywords: parenting, unconditional love<br>Sentiment: +100% 00% -0%",
          "Theme: Social Issues and Politics<br>Confidence: 90%<br>Centrality: 15<br>Keywords: Roy Moore, Snowden, Candor with the Chinese<br>Sentiment: +60% 020% -20%",
          "Theme: Relationships and Pets<br>Confidence: 80%<br>Centrality: 10<br>Keywords: boyfriend, dog, Slash<br>Sentiment: +0% 0100% -0%",
          "Theme: Community and Social Issues<br>Confidence: 80%<br>Centrality: 60<br>Keywords: community, social, issues<br>Sentiment: +25% 025% -50%",
          "Theme: Travel and Adventure<br>Confidence: 60%<br>Centrality: 10<br>Keywords: travel, adventure, exploration<br>Sentiment: +90% 010% -0%",
          "Theme: Celebrations<br>Confidence: 100%<br>Centrality: 85<br>Keywords: birthday, friend, celebrating, shining example<br>Sentiment: +85% 015% -0%",
          "Theme: Disappointment and Frustration<br>Confidence: 70%<br>Centrality: 60<br>Keywords: delayed, order, plans, inflexibility, kendricklamar, damm<br>Sentiment: +0% 020% -80%",
          "Theme: European Union Politics<br>Confidence: 98%<br>Centrality: 80<br>Keywords: EU, Brexit, leave, currency<br>Sentiment: +0% 00% -100%",
          "Theme: Personal Relationships and Interactions<br>Confidence: 80%<br>Centrality: 60<br>Keywords: thanks, check, out, appreciate<br>Sentiment: +100% 00% -0%",
          "Theme: Entertainment and Lifestyle<br>Confidence: 75%<br>Centrality: 40<br>Keywords: music, funky, banger, caribbean, nassau, roatan<br>Sentiment: +100% 00% -0%",
          "Theme: Productivity and Technology<br>Confidence: 60%<br>Centrality: 10<br>Keywords: bot, automation<br>Sentiment: +100% 00% -0%",
          "Theme: Immigration and Refugees<br>Confidence: 75%<br>Centrality: 40<br>Keywords: #NewcomersWelcome, #WelcomeToCanada, #RefugeesWelcome, #privatesponsorship<br>Sentiment: +75% 025% -0%",
          "Theme: Terrorism and Conflict<br>Confidence: 55%<br>Centrality: 20<br>Keywords: terror attack, precious lives<br>Sentiment: +0% 00% -100%",
          "Theme: Secrets and Personal Information<br>Confidence: 80%<br>Centrality: 60<br>Keywords: secret, spill, confidential, boundaries<br>Sentiment: +0% 00% -100%",
          "Theme: Social Cause and Charity<br>Confidence: 80%<br>Centrality: 40<br>Keywords: #WAKEUPCALL, #UNICEF, #SwatMotorway<br>Sentiment: +60% 020% -20%",
          "Theme: Personal Life and Experiences<br>Confidence: 60%<br>Centrality: 30<br>Keywords: #whatgoesup<br>Sentiment: +40% 040% -20%",
          "Theme: Communication and Technology<br>Confidence: 50%<br>Centrality: 20<br>Keywords: #blockednumbers, #visiontech<br>Sentiment: +40% 030% -30%"
         ],
         "marker": {
          "color": [
           "rgb(100,50,100)",
           "rgb(100,50,99)",
           "rgb(100,50,99)",
           "rgb(101,51,98)",
           "rgb(100,50,100)",
           "rgb(100,50,99)",
           "rgb(100,50,99)",
           "rgb(100,50,99)",
           "rgb(100,50,100)",
           "rgb(100,50,100)",
           "rgb(100,50,100)",
           "rgb(100,50,99)",
           "rgb(100,50,100)",
           "rgb(100,50,99)",
           "rgb(100,50,100)",
           "rgb(101,51,98)",
           "rgb(100,50,100)",
           "rgb(100,50,100)",
           "rgb(101,50,98)",
           "rgb(101,50,98)",
           "rgb(101,50,98)",
           "rgb(100,50,99)",
           "rgb(100,50,99)",
           "rgb(100,50,99)",
           "rgb(100,50,99)",
           "rgb(100,50,100)",
           "rgb(100,50,99)",
           "rgb(100,50,100)",
           "rgb(100,50,99)",
           "rgb(100,50,100)",
           "rgb(100,50,99)",
           "rgb(100,50,99)",
           "rgb(100,50,100)",
           "rgb(100,50,100)",
           "rgb(100,50,100)",
           "rgb(101,51,98)",
           "rgb(100,50,99)",
           "rgb(100,50,100)",
           "rgb(100,50,99)",
           "rgb(100,50,100)",
           "rgb(100,50,100)",
           "rgb(101,50,98)",
           "rgb(100,50,100)",
           "rgb(101,51,98)",
           "rgb(101,50,98)",
           "rgb(101,50,98)",
           "rgb(100,50,99)",
           "rgb(100,50,99)",
           "rgb(100,50,99)",
           "rgb(100,50,99)",
           "rgb(100,50,99)",
           "rgb(100,50,99)",
           "rgb(100,50,99)",
           "rgb(100,50,99)",
           "rgb(100,50,99)",
           "rgb(100,50,99)",
           "rgb(100,50,100)",
           "rgb(100,50,99)",
           "rgb(100,50,100)",
           "rgb(100,50,100)",
           "rgb(101,50,98)",
           "rgb(101,50,98)",
           "rgb(100,50,100)",
           "rgb(100,50,100)",
           "rgb(100,50,100)",
           "rgb(100,50,99)",
           "rgb(100,50,100)",
           "rgb(100,50,100)",
           "rgb(100,50,99)",
           "rgb(101,51,98)",
           "rgb(100,50,99)",
           "rgb(100,50,99)",
           "rgb(100,50,99)",
           "rgb(100,50,99)",
           "rgb(100,50,100)",
           "rgb(100,50,100)",
           "rgb(101,51,98)",
           "rgb(100,50,100)",
           "rgb(101,50,98)",
           "rgb(101,50,98)",
           "rgb(100,50,99)",
           "rgb(100,50,100)",
           "rgb(101,51,98)",
           "rgb(101,51,98)",
           "rgb(100,50,100)",
           "rgb(100,50,99)",
           "rgb(100,50,99)",
           "rgb(100,50,99)",
           "rgb(100,50,99)",
           "rgb(100,50,99)",
           "rgb(100,50,99)",
           "rgb(100,50,99)",
           "rgb(100,50,100)",
           "rgb(100,50,100)",
           "rgb(100,50,99)",
           "rgb(100,50,100)",
           "rgb(100,50,100)",
           "rgb(100,50,100)",
           "rgb(101,51,98)",
           "rgb(100,50,100)",
           "rgb(100,50,99)",
           "rgb(100,50,100)",
           "rgb(100,50,99)",
           "rgb(101,51,98)",
           "rgb(101,51,98)",
           "rgb(100,50,100)",
           "rgb(100,50,99)",
           "rgb(100,50,100)",
           "rgb(100,50,99)",
           "rgb(100,50,99)",
           "rgb(101,51,98)",
           "rgb(100,50,100)",
           "rgb(101,51,98)",
           "rgb(101,50,98)",
           "rgb(100,50,99)",
           "rgb(100,50,100)",
           "rgb(100,50,100)",
           "rgb(101,51,98)",
           "rgb(101,50,98)",
           "rgb(101,50,98)",
           "rgb(100,50,99)",
           "rgb(101,50,98)",
           "rgb(101,50,98)",
           "rgb(101,50,98)",
           "rgb(101,50,98)",
           "rgb(100,50,99)",
           "rgb(100,50,100)",
           "rgb(101,51,98)",
           "rgb(100,50,100)",
           "rgb(100,50,99)",
           "rgb(101,50,98)",
           "rgb(100,50,99)",
           "rgb(100,50,99)",
           "rgb(100,50,99)",
           "rgb(101,50,98)",
           "rgb(101,51,98)",
           "rgb(101,51,98)",
           "rgb(101,51,98)",
           "rgb(100,50,99)",
           "rgb(100,50,99)",
           "rgb(100,50,99)",
           "rgb(100,50,99)",
           "rgb(101,51,98)",
           "rgb(100,50,99)",
           "rgb(101,51,98)",
           "rgb(100,50,99)",
           "rgb(100,50,99)",
           "rgb(100,50,99)",
           "rgb(100,50,100)",
           "rgb(101,50,98)",
           "rgb(100,50,100)",
           "rgb(100,50,100)",
           "rgb(100,50,99)",
           "rgb(101,50,98)",
           "rgb(100,50,100)",
           "rgb(100,50,100)",
           "rgb(100,50,100)",
           "rgb(100,50,100)",
           "rgb(100,50,99)",
           "rgb(100,50,100)",
           "rgb(101,51,98)",
           "rgb(100,50,99)",
           "rgb(101,50,98)",
           "rgb(100,50,99)",
           "rgb(101,50,98)",
           "rgb(100,50,99)",
           "rgb(100,50,99)",
           "rgb(100,50,99)",
           "rgb(101,51,98)",
           "rgb(100,50,100)",
           "rgb(100,50,99)",
           "rgb(101,50,98)",
           "rgb(100,50,100)",
           "rgb(100,50,100)",
           "rgb(101,50,98)",
           "rgb(101,50,98)",
           "rgb(100,50,99)",
           "rgb(100,50,99)",
           "rgb(100,50,100)",
           "rgb(100,50,100)",
           "rgb(101,50,98)",
           "rgb(100,50,99)",
           "rgb(100,50,99)",
           "rgb(100,50,99)",
           "rgb(100,50,100)",
           "rgb(101,51,98)",
           "rgb(100,50,100)",
           "rgb(101,51,98)",
           "rgb(100,50,100)",
           "rgb(101,50,98)",
           "rgb(100,50,100)",
           "rgb(100,50,100)",
           "rgb(100,50,100)",
           "rgb(100,50,99)",
           "rgb(100,50,99)",
           "rgb(100,50,99)",
           "rgb(100,50,99)",
           "rgb(100,50,100)",
           "rgb(100,50,99)",
           "rgb(101,51,98)",
           "rgb(100,50,100)",
           "rgb(100,50,99)",
           "rgb(101,50,98)",
           "rgb(100,50,99)",
           "rgb(101,50,98)",
           "rgb(100,50,99)",
           "rgb(101,50,98)",
           "rgb(100,50,99)",
           "rgb(100,50,99)",
           "rgb(100,50,99)",
           "rgb(100,50,100)",
           "rgb(100,50,100)",
           "rgb(100,50,100)",
           "rgb(100,50,100)",
           "rgb(100,50,100)",
           "rgb(100,50,100)",
           "rgb(100,50,100)",
           "rgb(100,50,99)",
           "rgb(101,51,98)",
           "rgb(100,50,99)",
           "rgb(100,50,99)",
           "rgb(101,50,98)",
           "rgb(100,50,99)",
           "rgb(100,50,100)",
           "rgb(101,51,98)",
           "rgb(100,50,99)",
           "rgb(101,50,98)",
           "rgb(101,50,98)",
           "rgb(100,50,100)",
           "rgb(101,50,98)",
           "rgb(100,50,100)",
           "rgb(100,50,100)",
           "rgb(100,50,99)",
           "rgb(100,50,100)",
           "rgb(100,50,100)",
           "rgb(100,50,100)",
           "rgb(100,50,99)",
           "rgb(100,50,100)",
           "rgb(101,50,98)",
           "rgb(100,50,99)",
           "rgb(100,50,100)",
           "rgb(100,50,100)",
           "rgb(101,51,98)",
           "rgb(100,50,99)",
           "rgb(100,50,99)",
           "rgb(100,50,100)",
           "rgb(100,50,99)",
           "rgb(100,50,99)",
           "rgb(100,50,99)",
           "rgb(101,50,98)",
           "rgb(100,50,99)",
           "rgb(101,50,98)",
           "rgb(100,50,99)",
           "rgb(101,50,98)",
           "rgb(100,50,99)",
           "rgb(100,50,99)",
           "rgb(100,50,99)",
           "rgb(100,50,99)",
           "rgb(101,50,98)",
           "rgb(101,50,98)",
           "rgb(101,50,98)",
           "rgb(100,50,100)",
           "rgb(100,50,100)",
           "rgb(101,51,98)",
           "rgb(100,50,99)",
           "rgb(100,50,100)",
           "rgb(100,50,100)",
           "rgb(100,50,99)",
           "rgb(100,50,100)",
           "rgb(100,50,99)",
           "rgb(101,51,98)",
           "rgb(100,50,100)",
           "rgb(100,50,99)",
           "rgb(100,50,100)",
           "rgb(100,50,99)",
           "rgb(101,51,98)",
           "rgb(101,51,98)",
           "rgb(101,51,98)",
           "rgb(100,50,100)",
           "rgb(101,50,98)",
           "rgb(101,50,98)",
           "rgb(100,50,99)",
           "rgb(101,51,98)",
           "rgb(100,50,100)",
           "rgb(101,51,98)",
           "rgb(100,50,99)",
           "rgb(100,50,100)",
           "rgb(100,50,99)",
           "rgb(101,50,98)",
           "rgb(101,50,98)",
           "rgb(100,50,100)",
           "rgb(100,50,100)",
           "rgb(101,51,98)",
           "rgb(101,51,98)",
           "rgb(101,51,98)",
           "rgb(101,50,98)",
           "rgb(100,50,100)",
           "rgb(100,50,100)",
           "rgb(100,50,99)",
           "rgb(100,50,99)",
           "rgb(100,50,99)"
          ],
          "line": {
           "color": "DarkSlateGrey",
           "width": 1
          },
          "size": [
           49.81578947368421,
           49.78947368421053,
           43.21052631578947,
           27.105263157894736,
           36.60526315789474,
           25,
           35.21052631578947,
           34.31578947368421,
           29.210526315789473,
           36.421052631578945,
           44.526315789473685,
           37.31578947368421,
           29.210526315789473,
           32.21052631578947,
           48.73684210526316,
           25,
           36.421052631578945,
           43.631578947368425,
           46.631578947368425,
           41.526315789473685,
           36.421052631578945,
           31.315789473684212,
           52.34210526315789,
           43.631578947368425,
           38.526315789473685,
           46.631578947368425,
           48.73684210526316,
           33.421052631578945,
           29.210526315789473,
           36.421052631578945,
           53.84210526315789,
           53.84210526315789,
           46.631578947368425,
           41.526315789473685,
           44.56842105263158,
           48.652631578947364,
           52.34210526315789,
           37.921052631578945,
           47.84210526315789,
           39.131578947368425,
           51.89473684210526,
           36.421052631578945,
           46.631578947368425,
           39.421052631578945,
           39.578947368421055,
           49.18421052631579,
           49.473684210526315,
           53.66315789473684,
           49.78947368421053,
           54.89473684210526,
           51.921052631578945,
           48.73684210526316,
           52.34210526315789,
           49.78947368421053,
           49.15789473684211,
           52.34210526315789,
           51.89473684210526,
           48.73684210526316,
           44.078947368421055,
           53.242105263157896,
           48.89473684210526,
           43.921052631578945,
           34.31578947368421,
           31.315789473684212,
           48.73684210526316,
           40.631578947368425,
           35.526315789473685,
           42.421052631578945,
           44.526315789473685,
           34.31578947368421,
           44.973684210526315,
           38.21052631578947,
           42.71052631578947,
           38.21052631578947,
           43.631578947368425,
           51.89473684210526,
           42.868421052631575,
           56.84210526315789,
           52.34210526315789,
           46.631578947368425,
           48.73684210526316,
           44.526315789473685,
           37.31578947368421,
           32.21052631578947,
           54.44736842105263,
           51.89473684210526,
           48.73684210526316,
           38.526315789473685,
           39.421052631578945,
           41.078947368421055,
           32.21052631578947,
           46.631578947368425,
           37.31578947368421,
           27.105263157894736,
           29.210526315789473,
           31.315789473684212,
           39.421052631578945,
           33.421052631578945,
           48.73684210526316,
           39.421052631578945,
           41.84210526315789,
           46.631578947368425,
           48.131578947368425,
           32.21052631578947,
           27.105263157894736,
           27.105263157894736,
           50.84210526315789,
           42.421052631578945,
           38.81578947368421,
           45.131578947368425,
           43.78947368421053,
           57,
           48.921052631578945,
           46.631578947368425,
           42.421052631578945,
           54.473684210526315,
           48.73684210526316,
           54.89473684210526,
           57.868421052631575,
           54.473684210526315,
           43.631578947368425,
           57.294736842105266,
           53.84210526315789,
           47.68421052631579,
           46.631578947368425,
           46.631578947368425,
           44.526315789473685,
           55.94736842105263,
           34.31578947368421,
           48.73684210526316,
           41.526315789473685,
           45.131578947368425,
           40.026315789473685,
           36.421052631578945,
           48.73684210526316,
           48.73684210526316,
           37.31578947368421,
           52.34210526315789,
           46.631578947368425,
           39.421052631578945,
           34.31578947368421,
           53.84210526315789,
           53.84210526315789,
           59.4,
           39.421052631578945,
           32.21052631578947,
           27.105263157894736,
           27.105263157894736,
           46.631578947368425,
           39.421052631578945,
           34.31578947368421,
           29.210526315789473,
           46.631578947368425,
           33.421052631578945,
           48.73684210526316,
           38.526315789473685,
           43.631578947368425,
           33.421052631578945,
           46.631578947368425,
           55.64210526315789,
           36.421052631578945,
           53.547368421052624,
           50.23684210526316,
           36.421052631578945,
           29.210526315789473,
           48.31578947368421,
           44.526315789473685,
           48.73684210526316,
           30.105263157894736,
           26.05263157894737,
           53.66315789473684,
           55.73684210526316,
           58.078947368421055,
           53.84210526315789,
           40.921052631578945,
           29.210526315789473,
           55.94736842105263,
           46.631578947368425,
           33.421052631578945,
           48.73684210526316,
           52.34210526315789,
           31.315789473684212,
           39.421052631578945,
           46.631578947368425,
           43.631578947368425,
           42.421052631578945,
           32.21052631578947,
           27.105263157894736,
           41.526315789473685,
           36.421052631578945,
           52.94736842105263,
           50.84210526315789,
           52.94736842105263,
           48.27894736842106,
           41.526315789473685,
           32.21052631578947,
           27.105263157894736,
           53.84210526315789,
           46.631578947368425,
           53.84210526315789,
           55.94736842105263,
           31.315789473684212,
           39.421052631578945,
           36.868421052631575,
           34.31578947368421,
           46.631578947368425,
           53.84210526315789,
           31.315789473684212,
           53.99473684210527,
           50.242105263157896,
           50.23684210526316,
           46.631578947368425,
           43.026315789473685,
           39.421052631578945,
           44.97894736842106,
           28.605263157894736,
           26.05263157894737,
           42.421052631578945,
           29.210526315789473,
           38.526315789473685,
           52.34210526315789,
           50.84210526315789,
           48.73684210526316,
           51.442105263157885,
           43.631578947368425,
           46.631578947368425,
           51.89473684210526,
           46.631578947368425,
           55.19473684210526,
           51.921052631578945,
           45.131578947368425,
           39.421052631578945,
           36.868421052631575,
           33.26315789473684,
           29.657894736842106,
           25,
           51.89473684210526,
           48.43157894736842,
           46.631578947368425,
           39.421052631578945,
           32.21052631578947,
           46.631578947368425,
           49.18421052631579,
           46.631578947368425,
           48.73684210526316,
           46.631578947368425,
           35.526315789473685,
           35.526315789473685,
           35.526315789473685,
           54.44736842105263,
           51.89473684210526,
           47.84210526315789,
           46.631578947368425,
           40.31578947368421,
           53.39473684210526,
           50.84210526315789,
           41.526315789473685,
           36.421052631578945,
           34.473684210526315,
           45.421052631578945,
           35.21052631578947,
           52.9421052631579,
           37.321052631578944,
           32.21578947368421,
           52.34210526315789,
           47.23684210526316,
           55.94736842105263,
           51.89473684210526,
           48.44210526315789,
           53.69473684210526,
           45.857894736842105,
           53.636842105263156,
           33.421052631578945,
           36.421052631578945,
           33.421052631578945,
           48.131578947368425,
           48.73684210526316,
           43.026315789473685,
           32.81578947368421,
           47.84210526315789,
           48.73684210526316,
           46.631578947368425,
           44.21052631578947,
           44.21052631578947,
           40.1578947368421,
           40.1578947368421,
           36.10526315789474,
           46.631578947368425,
           30.105263157894736,
           57.89473684210526,
           43.631578947368425,
           56.242105263157896,
           46.631578947368425,
           40.921052631578945,
           30.105263157894736,
           40.921052631578945,
           30.710526315789473,
           46.631578947368425,
           42.421052631578945,
           34.31578947368421,
           29.210526315789473
          ]
         },
         "mode": "markers+text",
         "text": [
          "Technology and Coding",
          "Business and Finance",
          "Culture and Entertainment",
          "Sports and Fitness",
          "Science and Exploration",
          "Social Interactions",
          "Technology and Computing",
          "Emotional Expression and Art",
          "Philosophy and Culture",
          "Philosophical Musings and Wordplay",
          "Health and Fitness",
          "Emotions and Mental State",
          "Weather and Environment",
          "Social Interactions and Relationships",
          "Tech and Software",
          "Miscellaneous",
          "Security and Vulnerability",
          "Cryptocurrency",
          "Love and Relationships",
          "Inspiration and Creativity",
          "Realism and Optimism",
          "Social Interaction",
          "Emotional Support and Concern",
          "Life and Relationships",
          "Celebrations and Hobbies",
          "Gaming",
          "Politics",
          "Science Fiction",
          "Humor",
          "Bitcoin Miners",
          "Space Exploration and Discovery",
          "Pop Culture and Entertainment",
          "Language and Sarcasm",
          "Social Commentary",
          "Criticisms and Negativity",
          "Lightheartedness and Humor",
          "Politics and Justice",
          "Technology and Innovation",
          "Lifestyle and Interests",
          "Uncategorized",
          "Social Media and Communication",
          "Inspirational/Motivational",
          "Politics and World Events",
          "Cryptocurrency and Technology",
          "Work and Productivity",
          "Pop Culture and Humor",
          "Travel/Transportation",
          "Trust and Vulnerability",
          "Emergency Preparedness",
          "Security and Exploits",
          "Human Experience and Emotions",
          "Miscellaneous and Humor",
          "Math and Science",
          "Interrogation and Interview",
          "Language and Culture",
          "Cryptic Posts and Math",
          "Financial/Business",
          "Productivity and Motivation",
          "Current Events and News",
          "College Life",
          "Personal Reminders and Support",
          "Education",
          "Politics and Governance",
          "Sports",
          "US Politics",
          "Health and Wellness",
          "Technology",
          "TV and Media",
          "Entertainment and Hobbies",
          "Personal Reminders and Self-Care",
          "Film and Entertainment",
          "Personal and Lifestyle",
          "Science and Discovery",
          "Philosophy and Social Commentary",
          "Movie and TV News",
          "Information Seeking",
          "Sports and Entertainment",
          "Cryptocurrency and Bitcoin",
          "Music and Entertainment",
          "Technology and Entertainment",
          "Encouragement",
          "Cybersecurity and Technology",
          "Emotional Wellbeing and Self-Care",
          "Relationships and Social Connections",
          "Work/Responsibility",
          "Social Commentary and Critique",
          "Exploration and Discovery",
          "Relationships and Communication",
          "Humor and Entertainment",
          "Existentialism and Self-Discovery",
          "Celebrity/Media Mentions",
          "Entertainment",
          "Personal Struggles",
          "Hobbies",
          "Social Media",
          "Personal Growth",
          "Relationships",
          "Personal Development",
          "Respect and Empowerment",
          "Technology and Security",
          "Philosophy and Human Interest",
          "Traffic and Road Closure",
          "Celebrity and Pop Culture",
          "Humor and Sarcastic Comment",
          "Inspiration and Appreciation",
          "Event and Announcement",
          "Celebrity and Entertainment",
          "Current Events and Alerts",
          "Product and Service Promotions",
          "Social Commentary and Awareness",
          "Personal and Lighthearted Content",
          "News and Information",
          "Entertainment and Culture",
          "Education and Personal Development",
          "Sports and Leisure",
          "Social Media and Tech",
          "NRA and Politics",
          "Amy Schumer and Trainwreck",
          "Linkin Park and Music",
          "Small Business and Entrepreneurship",
          "Celebrity Culture and Humor",
          "Social Media and Online Engagement",
          "Personal and Emotional Experiences",
          "Social Media Interactions",
          "Celebrity and Public Figures",
          "Travel and Tourism",
          "Workplace Issues",
          "Motivation and Success",
          "Marketing and Advertising",
          "Celebrity and Lifestyles",
          "Social Media and Entertainment",
          "Tributes and Reminders",
          "Environmental Awareness",
          "Personal and Professional Interests",
          "Politics/Leadership",
          "Food and Beverages",
          "Celebrity News and Updates",
          "KP Govt Recognition",
          "Success and Opportunity",
          "Personal Growth and Development",
          "Social Impact and Responsibility",
          "Entertainment and Media",
          "Support and Inspiration",
          "News and Updates",
          "Haiku and Poetry",
          "Random and Miscellaneous",
          "Celebrities and Entertainment",
          "Social and Community",
          "International Relations and Politics",
          "Personal Life and Relationships",
          "Education and Learning",
          "Crime and Law Enforcement",
          "Gun Control",
          "Celebration and Humor",
          "Government and Politics",
          "Religion and Community",
          "News and Media",
          "Social Media and Technology",
          "Politics and Current Events",
          "Political Commentary and Criticism",
          "Celebrations and Events",
          "Politics and Elections",
          "Support and Commendation",
          "Information Sharing and News",
          "Valentine's Day and Love",
          "News",
          "Celebrity and Public Interest",
          "News and Current Events",
          "Food and Entertainment",
          "Social Issues and Health",
          "Technology and Programming",
          "Social Media and Events",
          "Politics and World News",
          "News and Politics",
          "Self-Care and Fitness",
          "Relationships and Love",
          "Politics and Social Issues",
          "Adversity and Resilience",
          "Canadian Politics and Security",
          "Social Justice and Activism",
          "Food and Beverage",
          "Life and Mortality",
          "Art and Culture",
          "Social Issues",
          "Racial Issues and Stereotypes",
          "Celebrity News and Entertainment",
          "Social Media and Politics",
          "TV Shows and Pop Culture",
          "Weather Discussion",
          "Sports and Celebrity",
          "Politics and International Relations",
          "Tweets are about India",
          "Politics and News",
          "Celebrity and Recognition",
          "Politics and Activism",
          "Travel and Exploration",
          "Writing and Literature",
          "Discontent and Criticism",
          "Pop Culture",
          "Environmental Conservation",
          "Current Events",
          "Personal Interactions",
          "Entertainment and Leisure",
          "Mental Health and Wellness",
          "Celebrity and Royalty",
          "Social Media and Online Presence",
          "Humor and Satire",
          "Personal Reflection and Advice",
          "Social Justice and Empowerment",
          "Economic Concerns",
          "Transportation and Infrastructure",
          "Education and Research",
          "Reading and Books",
          "Weather and Seasonal Activities",
          "Politics and Social Commentary",
          "Funding and Crowdfunding",
          "Pop Culture and Memes",
          "Celebrity and Cultural News",
          "Personal and Lighthearted",
          "Personal Stories and Humor",
          "Entertainment and Book Reviews",
          "Social and Cultural",
          "Celebrity and Entertainment News",
          "Gardening",
          "Hall and Oates",
          "Entertainment and Pop Culture",
          "Workplace Culture and Management",
          "Pakistan-Kashmir Relations",
          "Financial and Economic Issues",
          "Entertainment and Social Media",
          "Technology and Futurism",
          "Miscellaneous and Product Development",
          "Miscellaneous and Event Promotion",
          "Miscellaneous and Help Request",
          "Miscellaneous and Miscellaneous",
          "Miscellaneous and Unclassified",
          "Cultural Trends and Observations",
          "General Lifestyle and Updates",
          "Positive Emotions and Appreciation",
          "Information Sharing and Discussion",
          "Concern and Awareness",
          "Celebrity Culture and Awards",
          "Personal Interests and Relationships",
          "Entertainment and Music",
          "Celebrity and Culture",
          "Canadian Politics",
          "Congressional Interns",
          "Event",
          "Congressional News",
          "Empowerment and Personal Growth",
          "Social Commentary and Criticism",
          "Humor and Leisure",
          "Social and Cultural Issues",
          "Business and Entrepreneurship",
          "Technology and Online Presence",
          "General Interest and Lifestyle",
          "Social Media and Online Culture",
          "Daily Life and Observations",
          "Personal and Inspirational",
          "Entertainment and Humor",
          "Sports and Cricket",
          "Small Business",
          "Event/Incident",
          "Personal/Relationship",
          "Positive Social Impact",
          "Entertainment and Celebrity News",
          "Breaking News",
          "Human Rights and Social Justice",
          "Australia's Politics and Infrastructure",
          "Social Responsibility and Community",
          "Personal and Social Life",
          "Infrastructure and Public Safety",
          "Social Awareness and Activism",
          "Cultural Expression and Appreciation",
          "Politics/Current Events",
          "Arts and Culture",
          "Community and Events",
          "Social Media and Connectivity",
          "Violence Prevention",
          "Motivational/ Inspirational",
          "Personal Development and Career Growth",
          "Cultural and Social Issues",
          "Food and Dining",
          "Technology and Manufacturing",
          "Parenting and Family",
          "Social Issues and Politics",
          "Relationships and Pets",
          "Community and Social Issues",
          "Travel and Adventure",
          "Celebrations",
          "Disappointment and Frustration",
          "European Union Politics",
          "Personal Relationships and Interactions",
          "Entertainment and Lifestyle",
          "Productivity and Technology",
          "Immigration and Refugees",
          "Terrorism and Conflict",
          "Secrets and Personal Information",
          "Social Cause and Charity",
          "Personal Life and Experiences",
          "Communication and Technology"
         ],
         "textposition": "top center",
         "type": "scatter",
         "x": [
          8.491777538931071,
          1.7756722608844122,
          8.770234696468753,
          2.4435381888309857,
          4.61487971059515,
          1.8617487595263926,
          7.8365235787339484,
          0.311503317794557,
          5.28167562582259,
          4.824571101243991,
          4.029413189632571,
          3.8918724921965433,
          3.935815020892164,
          7.783226655765786,
          1.679875086328848,
          4.725572979338,
          5.362398478857906,
          3.3298151030653944,
          8.055009910734078,
          2.3949025562613793,
          0.7312406833201079,
          6.818674505559024,
          1.9237876425400824,
          5.594769548497452,
          9.919148847205726,
          9.773904580670012,
          6.054327349470318,
          6.7868115406860365,
          0.3311408423816309,
          9.844349495328554,
          3.211272281930748,
          5.3314379280791035,
          5.524808770483213,
          3.5443082029786934,
          9.716781132339404,
          7.649263416411031,
          0.34481111809862686,
          0.659160620248378,
          5.838985189841344,
          8.531926960967548,
          6.707868253315725,
          8.70833880318996,
          4.9293837470201645,
          2.7708897716734073,
          2.0011541424255954,
          4.305664004619663,
          9.39677775613523,
          3.642975614132528,
          3.2889358588739634,
          3.7822583554653155,
          1.2266631987899335,
          4.239556280556085,
          7.0022438039526556,
          9.756521931655763,
          5.8242853814557165,
          1.8632598690997637,
          8.085193461312429,
          9.415479823720743,
          6.392587381386664,
          9.606222145170511,
          6.250828161541709,
          4.509574135032444,
          2.4075024270167744,
          9.33060996361956,
          1.0689761006142684,
          4.692004855022743,
          9.760398614164753,
          0.48949115708277535,
          0.8004037778423412,
          5.581999051891007,
          8.046434933755297,
          4.519878019442732,
          6.370251008008928,
          6.18709625740495,
          3.973095188724068,
          7.296698232859854,
          2.6652889273185245,
          4.076631748443931,
          9.344523565705437,
          3.059000429028722,
          5.714307781450101,
          7.125211719169833,
          3.4939850913095647,
          6.325707273526739,
          4.44556869341839,
          4.035208193217242,
          9.390345523755775,
          9.279762283149225,
          2.350529626647452,
          4.0616065097235134,
          2.840515976733904,
          8.438176374926975,
          6.906412597858748,
          4.799068721569047,
          2.5491566303062205,
          8.457361747401537,
          4.2054040381943825,
          4.4978875986155655,
          6.828409454237317,
          4.238007812854167,
          4.091811444316709,
          4.906118494659939,
          1.224546723416059,
          6.6171938868168825,
          7.717233429749974,
          7.961094324629768,
          8.895752289441596,
          8.074358007424797,
          8.83961330457439,
          1.092793896805715,
          8.628905505845664,
          2.7384750980116013,
          5.8912743209076135,
          4.307940365345482,
          5.5331353492577575,
          7.993421272543583,
          9.224450251820542,
          8.732153097332269,
          2.263674438164357,
          6.645952239937635,
          0.5607266218045082,
          8.150939396104702,
          7.028227522958331,
          2.251416359175015,
          1.9894664112871274,
          0.7979931153165731,
          1.504254671544335,
          6.226101275098133,
          4.351647404851924,
          2.2385117493977367,
          2.0422922585591308,
          2.898047577962789,
          2.596104554574681,
          6.769097487913332,
          3.412799740174491,
          9.886626298754065,
          5.8099919870101635,
          6.374431333401187,
          7.64978928643041,
          0.41359703495361,
          4.542987476623452,
          0.8057808075550088,
          0.7728691734439541,
          7.192672449118219,
          9.440174917942999,
          3.712192488283572,
          0.1833421674204727,
          1.506752656199637,
          7.402686524094238,
          6.419259406127002,
          2.9916647681373334,
          1.3246758512468892,
          1.5009421446002114,
          1.4878947188821723,
          4.30693726762499,
          0.9161036362390429,
          6.598615704648207,
          0.9395177425430368,
          6.59263098363835,
          6.685391009823158,
          0.6526468894152071,
          8.065460754006136,
          9.552283065058658,
          3.4582626033565456,
          6.190621505864133,
          3.3872679551015947,
          0.9176467477678263,
          7.873158598893678,
          3.2341889683878877,
          8.37179252749246,
          2.444458422494521,
          0.39997323698733767,
          5.313590987572885,
          3.0626315068173127,
          6.723232818121817,
          4.5246731948086625,
          7.849461618399893,
          5.008443288926049,
          1.9016356332542905,
          9.894049471001516,
          8.165030530629346,
          2.3957570962128747,
          8.17993417845573,
          1.6777839878958212,
          1.9533037570112188,
          8.699739090609954,
          2.569275613644929,
          3.2722103731120153,
          2.858506444387091,
          2.987701642812289,
          0.6198717958398337,
          4.690332794245667,
          5.832139838424531,
          5.263409438840048,
          9.437435675552925,
          3.0983222576745852,
          0.398459143899349,
          5.1158976991039715,
          5.085182981760131,
          7.888010804240232,
          7.824959957544337,
          7.0531203823448205,
          4.8198965483193685,
          2.719389264391221,
          5.3252452535840415,
          1.2532978147229812,
          3.374488299625117,
          2.4985287730441796,
          1.4745419967514528,
          6.285034118357743,
          1.7851383461289538,
          1.6177977371804775,
          9.172674517375242,
          9.723496863759664,
          8.4418671288321,
          0.6941541915039307,
          9.673954653662289,
          0.5802445325666294,
          2.8085742760183887,
          8.660124736298073,
          3.642729627583763,
          0.39354157946620116,
          2.8602598976748936,
          1.1368514201620794,
          5.044753525192171,
          8.032808435826777,
          6.621059650098148,
          1.7707598584231043,
          6.566553333314168,
          8.780954260796193,
          0.03510780133393565,
          8.263499415110362,
          8.557976430424539,
          1.1956343186016871,
          9.219183061147213,
          4.231868998027078,
          9.420901905701955,
          4.311456249618497,
          3.739785951220922,
          4.085965919024447,
          6.180840069446669,
          9.857868346070168,
          3.4479716928230584,
          4.9684480675504705,
          0.8900820259330178,
          8.925009199060364,
          6.799705230052679,
          5.46965250393729,
          9.229301182390774,
          6.517103766167816,
          2.3097617106354376,
          2.2039578793370493,
          3.5894063625405837,
          0.06690891169169211,
          6.067026147290893,
          8.868224490466266,
          3.8917649729530113,
          8.379616662726526,
          3.9752211449642596,
          7.220483712773811,
          1.1839805596717823,
          4.224086516877942,
          0.7502187661975712,
          1.0762821816134271,
          7.660102516243468,
          7.724010675278858,
          0.30536051768249584,
          3.0961580234375274,
          5.146216506470724,
          0.4488629157870838,
          4.86362262922048,
          6.727068044568647,
          8.570252098189084,
          3.3318042521820623,
          6.515319160719906,
          6.506553260818789,
          5.514189216796099,
          8.773885562561626,
          3.272565937644071,
          0.6182412155477446,
          6.490050376046086,
          1.4557539183298052,
          4.785907456419319,
          2.391117172065064,
          4.081719176893555,
          3.907604608979671,
          9.5497557613132,
          7.250586437910059,
          5.760775791125628,
          7.891592375658484,
          1.9580496701796568,
          1.410359993300676,
          1.6589298623103288,
          2.201560199658663,
          0.44699805714433327,
          2.958600806899201,
          0.19914238992152056,
          1.5062849634266173,
          7.151482738567234,
          2.446213451788953,
          6.5879032121917085
         ],
         "y": [
          4.530086868140078,
          5.202746623720755,
          4.485888078129459,
          4.497513985146247,
          9.535157783536656,
          0.10489211140591204,
          5.990611944365012,
          5.236661676364303,
          1.9825314833646757,
          2.9051957899431247,
          4.29711467674526,
          0.47190455193067415,
          8.961039703425445,
          2.3549651652845247,
          5.09142861564161,
          9.83980330628919,
          4.911403477871959,
          4.276059722515092,
          3.1159905837512945,
          2.481633492432244,
          5.615236026463826,
          7.590193949169733,
          1.9029821069250574,
          3.354847472796141,
          8.722395114403621,
          6.175240830581709,
          9.143822419216196,
          9.511241423430965,
          7.615347838079636,
          6.5972791927333585,
          1.6579753369325,
          0.3365919114904192,
          4.041565637664891,
          0.8424863709538322,
          2.1309712527845246,
          0.04971446135467961,
          2.872002799022243,
          1.5622705939910253,
          7.461596357245536,
          8.576672903878018,
          6.464509616580504,
          3.7044871720251473,
          5.137592961362348,
          3.230831828222559,
          7.362398633931543,
          1.9359072105075104,
          2.187107220604064,
          1.8504686896231481,
          3.9858085530068186,
          8.099535171254482,
          4.642232599773117,
          1.4366866682292545,
          4.546275722013408,
          1.2020034629585452,
          5.7053782793676975,
          1.9162961695176761,
          3.4753168705729554,
          8.059613839972158,
          4.099724266166929,
          4.524029093378701,
          6.646118864698005,
          5.160118212083258,
          8.601707869526273,
          9.666136209326954,
          2.3272344386935275,
          8.003592137773577,
          7.440341926597185,
          7.5876359310426045,
          6.9214402695691,
          8.543221485131566,
          2.137637897423126,
          6.254134227659253,
          8.348980239687492,
          5.405928321858625,
          3.1149554687754613,
          9.410616856131497,
          9.161476052148256,
          9.83967026520446,
          8.226793049243028,
          8.861718336635949,
          0.0571646628354916,
          7.1920787235249115,
          3.8493237860795,
          3.5981144553970013,
          0.06919900385345512,
          7.159801588693865,
          0.39946740752811905,
          5.475421407979501,
          1.4615567754979786,
          9.428838741477186,
          7.691973592437521,
          0.462891711153528,
          9.085123245702109,
          9.087373867030076,
          1.0861605342599834,
          5.602356947083491,
          0.2566022815235125,
          6.063122575826326,
          1.4361551868151146,
          4.988162829811287,
          6.968703704434832,
          5.684852364839487,
          4.134312147524283,
          9.371402507901962,
          2.608654854267749,
          5.305779045099982,
          9.72642928316378,
          5.565737737812798,
          6.478016399602011,
          2.7712519124812083,
          5.610179983308319,
          3.6703247385079196,
          3.3711567305550694,
          7.712976166030608,
          8.625038141189526,
          0.1349071420916137,
          6.012379983339917,
          1.128698602870779,
          6.7153401047595915,
          0.5505812860184989,
          9.228367327957589,
          0.3353922207027715,
          8.192796564792719,
          3.8963876236989723,
          2.757889711740403,
          4.504154366487611,
          8.376987512903188,
          3.8683942972447403,
          7.476315068269229,
          0.5247515144075188,
          4.287885037579152,
          9.377357703914747,
          0.6303715292154832,
          8.555535802905842,
          9.666085220060099,
          3.407287630293505,
          0.8120373591214947,
          5.364841351179011,
          6.072884444832928,
          9.106742382529534,
          5.9128266532897715,
          5.497035933986126,
          7.207145210337744,
          2.424136490415435,
          3.8953498592254086,
          6.034331761916039,
          9.100321791560951,
          6.698961533886246,
          3.8535141584131614,
          0.6920408061562389,
          6.839010413374776,
          9.912614783393233,
          9.260901021859654,
          8.906822011604824,
          2.909633741535699,
          7.358173567283154,
          8.268529134243769,
          5.529762393527311,
          8.882456879236129,
          4.996690418848551,
          9.95851347576336,
          8.488980988377646,
          3.7544470726837376,
          9.759606397751444,
          7.372839476616501,
          5.796797267312487,
          5.524050790439689,
          1.3621924845493771,
          7.909162140407803,
          3.118040254532283,
          6.9408570742820705,
          4.210376645267787,
          8.628770820246864,
          4.134154543806422,
          8.996673848585068,
          2.99057492841589,
          7.617236920467513,
          4.166574768570312,
          1.7972974820311383,
          2.765051016828645,
          8.4927902537118,
          3.377575109099411,
          7.518249782729737,
          5.244519708764376,
          5.844739035151201,
          1.8553582004563984,
          2.2670279876434307,
          4.686675668330238,
          9.08441102542314,
          0.7048474630355694,
          0.840213595191367,
          1.0405468529786999,
          2.5528118709040526,
          0.9675871130532554,
          0.44269286273435404,
          5.940883696912111,
          3.913553340662209,
          3.4093808800844503,
          2.843420889475344,
          8.876603665838624,
          6.850080673808479,
          5.825420416650793,
          4.428951642282235,
          7.247308984265409,
          3.8487068335900796,
          5.387705521819312,
          5.219765778573167,
          3.749998088235932,
          3.283265703729784,
          0.07520516631975949,
          6.876427074516299,
          5.085089725181362,
          9.447626980180155,
          2.7727287773570186,
          4.75687178418513,
          3.285915821637327,
          1.1034225757837024,
          2.984076228882351,
          9.335391755895843,
          0.5641728556651004,
          7.859416330899275,
          4.253636520285705,
          2.539448068617318,
          5.897694985444565,
          0.08409605445385049,
          3.3782424301867153,
          6.544726700937041,
          1.4848164337659586,
          7.175535349904508,
          2.1348891040005236,
          0.47649954729078847,
          8.82565821415309,
          5.441625192924412,
          4.949900390274227,
          8.082329079599097,
          9.523013887115802,
          1.2012390484112412,
          5.3453386591978695,
          9.986739968071415,
          1.402572357425076,
          7.123069993582013,
          1.1434025205977782,
          4.774053838074774,
          5.429216858875447,
          2.2517792268642345,
          9.572780017241831,
          6.090815953099039,
          8.290634605373725,
          4.116886242764436,
          4.7057602268436325,
          4.187277354491139,
          6.650992107340391,
          4.604387615351419,
          0.009466814819112379,
          2.348900879242378,
          0.40043139718785925,
          6.850158713074381,
          1.416491319637172,
          3.4903655111646295,
          0.2868763394712981,
          1.9565887634242063,
          2.6299391713336986,
          9.722598466883746,
          6.569501707252715,
          0.31801923886202177,
          9.151052190393482,
          3.4706591654412513,
          8.021213908604041,
          3.725123218537166,
          4.909462485550287,
          8.286354638232114,
          3.8917550037282633,
          3.0696863603056244,
          0.31449050209024443,
          5.757390300505264,
          8.820055878294632,
          3.8933240156437776,
          5.374896708024199,
          3.550826006006927,
          6.857443775038701,
          3.370445940297715,
          6.808245546730953,
          1.9350447324099718,
          5.045061487094342,
          1.0256696635046403,
          1.258303841240992,
          7.0931551111232585,
          2.7270335736026574,
          4.919680951786192,
          0.9913998509342958,
          0.8723933081323798,
          8.23171176723368,
          6.420281288771701,
          7.388603887234488,
          0.5279759215744617,
          3.6309954044425896,
          1.38425157392144,
          0.045052319953876596,
          2.9109025234081196,
          0.7869870748490926,
          2.098057861299724
         ]
        }
       ],
       "layout": {
        "height": 800,
        "hovermode": "closest",
        "paper_bgcolor": "white",
        "plot_bgcolor": "white",
        "showlegend": false,
        "template": {
         "data": {
          "bar": [
           {
            "error_x": {
             "color": "#2a3f5f"
            },
            "error_y": {
             "color": "#2a3f5f"
            },
            "marker": {
             "line": {
              "color": "#E5ECF6",
              "width": 0.5
             },
             "pattern": {
              "fillmode": "overlay",
              "size": 10,
              "solidity": 0.2
             }
            },
            "type": "bar"
           }
          ],
          "barpolar": [
           {
            "marker": {
             "line": {
              "color": "#E5ECF6",
              "width": 0.5
             },
             "pattern": {
              "fillmode": "overlay",
              "size": 10,
              "solidity": 0.2
             }
            },
            "type": "barpolar"
           }
          ],
          "carpet": [
           {
            "aaxis": {
             "endlinecolor": "#2a3f5f",
             "gridcolor": "white",
             "linecolor": "white",
             "minorgridcolor": "white",
             "startlinecolor": "#2a3f5f"
            },
            "baxis": {
             "endlinecolor": "#2a3f5f",
             "gridcolor": "white",
             "linecolor": "white",
             "minorgridcolor": "white",
             "startlinecolor": "#2a3f5f"
            },
            "type": "carpet"
           }
          ],
          "choropleth": [
           {
            "colorbar": {
             "outlinewidth": 0,
             "ticks": ""
            },
            "type": "choropleth"
           }
          ],
          "contour": [
           {
            "colorbar": {
             "outlinewidth": 0,
             "ticks": ""
            },
            "colorscale": [
             [
              0,
              "#0d0887"
             ],
             [
              0.1111111111111111,
              "#46039f"
             ],
             [
              0.2222222222222222,
              "#7201a8"
             ],
             [
              0.3333333333333333,
              "#9c179e"
             ],
             [
              0.4444444444444444,
              "#bd3786"
             ],
             [
              0.5555555555555556,
              "#d8576b"
             ],
             [
              0.6666666666666666,
              "#ed7953"
             ],
             [
              0.7777777777777778,
              "#fb9f3a"
             ],
             [
              0.8888888888888888,
              "#fdca26"
             ],
             [
              1,
              "#f0f921"
             ]
            ],
            "type": "contour"
           }
          ],
          "contourcarpet": [
           {
            "colorbar": {
             "outlinewidth": 0,
             "ticks": ""
            },
            "type": "contourcarpet"
           }
          ],
          "heatmap": [
           {
            "colorbar": {
             "outlinewidth": 0,
             "ticks": ""
            },
            "colorscale": [
             [
              0,
              "#0d0887"
             ],
             [
              0.1111111111111111,
              "#46039f"
             ],
             [
              0.2222222222222222,
              "#7201a8"
             ],
             [
              0.3333333333333333,
              "#9c179e"
             ],
             [
              0.4444444444444444,
              "#bd3786"
             ],
             [
              0.5555555555555556,
              "#d8576b"
             ],
             [
              0.6666666666666666,
              "#ed7953"
             ],
             [
              0.7777777777777778,
              "#fb9f3a"
             ],
             [
              0.8888888888888888,
              "#fdca26"
             ],
             [
              1,
              "#f0f921"
             ]
            ],
            "type": "heatmap"
           }
          ],
          "heatmapgl": [
           {
            "colorbar": {
             "outlinewidth": 0,
             "ticks": ""
            },
            "colorscale": [
             [
              0,
              "#0d0887"
             ],
             [
              0.1111111111111111,
              "#46039f"
             ],
             [
              0.2222222222222222,
              "#7201a8"
             ],
             [
              0.3333333333333333,
              "#9c179e"
             ],
             [
              0.4444444444444444,
              "#bd3786"
             ],
             [
              0.5555555555555556,
              "#d8576b"
             ],
             [
              0.6666666666666666,
              "#ed7953"
             ],
             [
              0.7777777777777778,
              "#fb9f3a"
             ],
             [
              0.8888888888888888,
              "#fdca26"
             ],
             [
              1,
              "#f0f921"
             ]
            ],
            "type": "heatmapgl"
           }
          ],
          "histogram": [
           {
            "marker": {
             "pattern": {
              "fillmode": "overlay",
              "size": 10,
              "solidity": 0.2
             }
            },
            "type": "histogram"
           }
          ],
          "histogram2d": [
           {
            "colorbar": {
             "outlinewidth": 0,
             "ticks": ""
            },
            "colorscale": [
             [
              0,
              "#0d0887"
             ],
             [
              0.1111111111111111,
              "#46039f"
             ],
             [
              0.2222222222222222,
              "#7201a8"
             ],
             [
              0.3333333333333333,
              "#9c179e"
             ],
             [
              0.4444444444444444,
              "#bd3786"
             ],
             [
              0.5555555555555556,
              "#d8576b"
             ],
             [
              0.6666666666666666,
              "#ed7953"
             ],
             [
              0.7777777777777778,
              "#fb9f3a"
             ],
             [
              0.8888888888888888,
              "#fdca26"
             ],
             [
              1,
              "#f0f921"
             ]
            ],
            "type": "histogram2d"
           }
          ],
          "histogram2dcontour": [
           {
            "colorbar": {
             "outlinewidth": 0,
             "ticks": ""
            },
            "colorscale": [
             [
              0,
              "#0d0887"
             ],
             [
              0.1111111111111111,
              "#46039f"
             ],
             [
              0.2222222222222222,
              "#7201a8"
             ],
             [
              0.3333333333333333,
              "#9c179e"
             ],
             [
              0.4444444444444444,
              "#bd3786"
             ],
             [
              0.5555555555555556,
              "#d8576b"
             ],
             [
              0.6666666666666666,
              "#ed7953"
             ],
             [
              0.7777777777777778,
              "#fb9f3a"
             ],
             [
              0.8888888888888888,
              "#fdca26"
             ],
             [
              1,
              "#f0f921"
             ]
            ],
            "type": "histogram2dcontour"
           }
          ],
          "mesh3d": [
           {
            "colorbar": {
             "outlinewidth": 0,
             "ticks": ""
            },
            "type": "mesh3d"
           }
          ],
          "parcoords": [
           {
            "line": {
             "colorbar": {
              "outlinewidth": 0,
              "ticks": ""
             }
            },
            "type": "parcoords"
           }
          ],
          "pie": [
           {
            "automargin": true,
            "type": "pie"
           }
          ],
          "scatter": [
           {
            "fillpattern": {
             "fillmode": "overlay",
             "size": 10,
             "solidity": 0.2
            },
            "type": "scatter"
           }
          ],
          "scatter3d": [
           {
            "line": {
             "colorbar": {
              "outlinewidth": 0,
              "ticks": ""
             }
            },
            "marker": {
             "colorbar": {
              "outlinewidth": 0,
              "ticks": ""
             }
            },
            "type": "scatter3d"
           }
          ],
          "scattercarpet": [
           {
            "marker": {
             "colorbar": {
              "outlinewidth": 0,
              "ticks": ""
             }
            },
            "type": "scattercarpet"
           }
          ],
          "scattergeo": [
           {
            "marker": {
             "colorbar": {
              "outlinewidth": 0,
              "ticks": ""
             }
            },
            "type": "scattergeo"
           }
          ],
          "scattergl": [
           {
            "marker": {
             "colorbar": {
              "outlinewidth": 0,
              "ticks": ""
             }
            },
            "type": "scattergl"
           }
          ],
          "scattermapbox": [
           {
            "marker": {
             "colorbar": {
              "outlinewidth": 0,
              "ticks": ""
             }
            },
            "type": "scattermapbox"
           }
          ],
          "scatterpolar": [
           {
            "marker": {
             "colorbar": {
              "outlinewidth": 0,
              "ticks": ""
             }
            },
            "type": "scatterpolar"
           }
          ],
          "scatterpolargl": [
           {
            "marker": {
             "colorbar": {
              "outlinewidth": 0,
              "ticks": ""
             }
            },
            "type": "scatterpolargl"
           }
          ],
          "scatterternary": [
           {
            "marker": {
             "colorbar": {
              "outlinewidth": 0,
              "ticks": ""
             }
            },
            "type": "scatterternary"
           }
          ],
          "surface": [
           {
            "colorbar": {
             "outlinewidth": 0,
             "ticks": ""
            },
            "colorscale": [
             [
              0,
              "#0d0887"
             ],
             [
              0.1111111111111111,
              "#46039f"
             ],
             [
              0.2222222222222222,
              "#7201a8"
             ],
             [
              0.3333333333333333,
              "#9c179e"
             ],
             [
              0.4444444444444444,
              "#bd3786"
             ],
             [
              0.5555555555555556,
              "#d8576b"
             ],
             [
              0.6666666666666666,
              "#ed7953"
             ],
             [
              0.7777777777777778,
              "#fb9f3a"
             ],
             [
              0.8888888888888888,
              "#fdca26"
             ],
             [
              1,
              "#f0f921"
             ]
            ],
            "type": "surface"
           }
          ],
          "table": [
           {
            "cells": {
             "fill": {
              "color": "#EBF0F8"
             },
             "line": {
              "color": "white"
             }
            },
            "header": {
             "fill": {
              "color": "#C8D4E3"
             },
             "line": {
              "color": "white"
             }
            },
            "type": "table"
           }
          ]
         },
         "layout": {
          "annotationdefaults": {
           "arrowcolor": "#2a3f5f",
           "arrowhead": 0,
           "arrowwidth": 1
          },
          "autotypenumbers": "strict",
          "coloraxis": {
           "colorbar": {
            "outlinewidth": 0,
            "ticks": ""
           }
          },
          "colorscale": {
           "diverging": [
            [
             0,
             "#8e0152"
            ],
            [
             0.1,
             "#c51b7d"
            ],
            [
             0.2,
             "#de77ae"
            ],
            [
             0.3,
             "#f1b6da"
            ],
            [
             0.4,
             "#fde0ef"
            ],
            [
             0.5,
             "#f7f7f7"
            ],
            [
             0.6,
             "#e6f5d0"
            ],
            [
             0.7,
             "#b8e186"
            ],
            [
             0.8,
             "#7fbc41"
            ],
            [
             0.9,
             "#4d9221"
            ],
            [
             1,
             "#276419"
            ]
           ],
           "sequential": [
            [
             0,
             "#0d0887"
            ],
            [
             0.1111111111111111,
             "#46039f"
            ],
            [
             0.2222222222222222,
             "#7201a8"
            ],
            [
             0.3333333333333333,
             "#9c179e"
            ],
            [
             0.4444444444444444,
             "#bd3786"
            ],
            [
             0.5555555555555556,
             "#d8576b"
            ],
            [
             0.6666666666666666,
             "#ed7953"
            ],
            [
             0.7777777777777778,
             "#fb9f3a"
            ],
            [
             0.8888888888888888,
             "#fdca26"
            ],
            [
             1,
             "#f0f921"
            ]
           ],
           "sequentialminus": [
            [
             0,
             "#0d0887"
            ],
            [
             0.1111111111111111,
             "#46039f"
            ],
            [
             0.2222222222222222,
             "#7201a8"
            ],
            [
             0.3333333333333333,
             "#9c179e"
            ],
            [
             0.4444444444444444,
             "#bd3786"
            ],
            [
             0.5555555555555556,
             "#d8576b"
            ],
            [
             0.6666666666666666,
             "#ed7953"
            ],
            [
             0.7777777777777778,
             "#fb9f3a"
            ],
            [
             0.8888888888888888,
             "#fdca26"
            ],
            [
             1,
             "#f0f921"
            ]
           ]
          },
          "colorway": [
           "#636efa",
           "#EF553B",
           "#00cc96",
           "#ab63fa",
           "#FFA15A",
           "#19d3f3",
           "#FF6692",
           "#B6E880",
           "#FF97FF",
           "#FECB52"
          ],
          "font": {
           "color": "#2a3f5f"
          },
          "geo": {
           "bgcolor": "white",
           "lakecolor": "white",
           "landcolor": "#E5ECF6",
           "showlakes": true,
           "showland": true,
           "subunitcolor": "white"
          },
          "hoverlabel": {
           "align": "left"
          },
          "hovermode": "closest",
          "mapbox": {
           "style": "light"
          },
          "paper_bgcolor": "white",
          "plot_bgcolor": "#E5ECF6",
          "polar": {
           "angularaxis": {
            "gridcolor": "white",
            "linecolor": "white",
            "ticks": ""
           },
           "bgcolor": "#E5ECF6",
           "radialaxis": {
            "gridcolor": "white",
            "linecolor": "white",
            "ticks": ""
           }
          },
          "scene": {
           "xaxis": {
            "backgroundcolor": "#E5ECF6",
            "gridcolor": "white",
            "gridwidth": 2,
            "linecolor": "white",
            "showbackground": true,
            "ticks": "",
            "zerolinecolor": "white"
           },
           "yaxis": {
            "backgroundcolor": "#E5ECF6",
            "gridcolor": "white",
            "gridwidth": 2,
            "linecolor": "white",
            "showbackground": true,
            "ticks": "",
            "zerolinecolor": "white"
           },
           "zaxis": {
            "backgroundcolor": "#E5ECF6",
            "gridcolor": "white",
            "gridwidth": 2,
            "linecolor": "white",
            "showbackground": true,
            "ticks": "",
            "zerolinecolor": "white"
           }
          },
          "shapedefaults": {
           "line": {
            "color": "#2a3f5f"
           }
          },
          "ternary": {
           "aaxis": {
            "gridcolor": "white",
            "linecolor": "white",
            "ticks": ""
           },
           "baxis": {
            "gridcolor": "white",
            "linecolor": "white",
            "ticks": ""
           },
           "bgcolor": "#E5ECF6",
           "caxis": {
            "gridcolor": "white",
            "linecolor": "white",
            "ticks": ""
           }
          },
          "title": {
           "x": 0.05
          },
          "xaxis": {
           "automargin": true,
           "gridcolor": "white",
           "linecolor": "white",
           "ticks": "",
           "title": {
            "standoff": 15
           },
           "zerolinecolor": "white",
           "zerolinewidth": 2
          },
          "yaxis": {
           "automargin": true,
           "gridcolor": "white",
           "linecolor": "white",
           "ticks": "",
           "title": {
            "standoff": 15
           },
           "zerolinecolor": "white",
           "zerolinewidth": 2
          }
         }
        },
        "title": {
         "text": "Theme Network Visualization"
        },
        "width": 1000,
        "xaxis": {
         "showgrid": false,
         "showticklabels": false,
         "zeroline": false
        },
        "yaxis": {
         "showgrid": false,
         "showticklabels": false,
         "zeroline": false
        }
       }
      }
     },
     "metadata": {},
     "output_type": "display_data"
    }
   ],
   "source": [
    "import json\n",
    "import networkx as nx\n",
    "import plotly.graph_objects as go\n",
    "import numpy as np\n",
    "\n",
    "\n",
    "\n",
    "\n",
    "def load_json_file(file_path):\n",
    "    \"\"\"Load JSON file safely.\"\"\"\n",
    "    try:\n",
    "        with open(file_path, 'r', encoding='utf-8') as file:\n",
    "            return json.load(file)\n",
    "    except Exception as e:\n",
    "        print(f\"Error loading JSON file {file_path}: {e}\")\n",
    "        return []\n",
    "\n",
    "\n",
    "\n",
    "\n",
    "def create_theme_network(data, min_confidence=50):\n",
    "    \"\"\"Create a network graph from themes with a minimum confidence level.\"\"\"\n",
    "    G = nx.Graph()\n",
    "\n",
    "\n",
    "    for item in data:\n",
    "        response = item.get('response')\n",
    "        if isinstance(response, str):\n",
    "            try:\n",
    "                # Parse the response string as a dictionary\n",
    "                response_data = json.loads(response)\n",
    "                themes = response_data.get('overall_themes', [])\n",
    "\n",
    "\n",
    "                for theme in themes:\n",
    "                    confidence = theme.get('confidence', 0)\n",
    "                    if confidence >= min_confidence:\n",
    "                        theme_name = theme['name']\n",
    "                        centrality = theme.get('centrality', {})\n",
    "                        keywords = theme.get('keywords', [])\n",
    "                        sentiment = theme.get('sentiment_distribution', {})\n",
    "\n",
    "\n",
    "                        # Add node with detailed attributes\n",
    "                        G.add_node(theme_name, \n",
    "                                   confidence=confidence,\n",
    "                                   centrality_weight=centrality.get('weight', 0),\n",
    "                                   keywords=keywords,\n",
    "                                   positive_sentiment=sentiment.get('positive_percentage', 0),\n",
    "                                   negative_sentiment=sentiment.get('negative_percentage', 0),\n",
    "                                   neutral_sentiment=sentiment.get('neutral_percentage', 0))\n",
    "\n",
    "\n",
    "            except (json.JSONDecodeError, TypeError) as e:\n",
    "                print(f\"Error processing response: {e}\")\n",
    "\n",
    "\n",
    "    return G\n",
    "\n",
    "\n",
    "\n",
    "\n",
    "def safe_color_scale(sentiment):\n",
    "    \"\"\"\n",
    "    Generate a safe color based on sentiment percentage\n",
    "    Ensures values are between 0 and 255\n",
    "    \"\"\"\n",
    "    # Normalize sentiment to a safe color range\n",
    "    r = min(max(int(100 + (sentiment * 1.55)), 0), 255)\n",
    "    g = min(max(int(100 - abs(50 - sentiment)), 0), 255)\n",
    "    b = min(max(int(100 - (sentiment * 1.55)), 0), 255)\n",
    "    \n",
    "    return f'rgb({r},{g},{b})'\n",
    "\n",
    "\n",
    "\n",
    "\n",
    "def visualize_network(G):\n",
    "    \"\"\"Visualize themes with node sizes and colors representing different attributes.\"\"\"\n",
    "    # Prepare node attributes\n",
    "    node_names = list(G.nodes())\n",
    "    \n",
    "    if not node_names:\n",
    "        print(\"No themes to visualize.\")\n",
    "        return\n",
    "\n",
    "\n",
    "    node_confidences = [G.nodes[node]['confidence'] for node in node_names]\n",
    "    node_centralities = [G.nodes[node]['centrality_weight'] for node in node_names]\n",
    "    \n",
    "    # Normalize node sizes based on confidence and centrality\n",
    "    max_confidence = max(node_confidences)\n",
    "    max_centrality = max(node_centralities)\n",
    "    \n",
    "    node_sizes = [\n",
    "        10 + ((G.nodes[node]['confidence'] / max_confidence) * 30) + \n",
    "        ((G.nodes[node]['centrality_weight'] / max_centrality) * 20) \n",
    "        for node in node_names\n",
    "    ]\n",
    "    \n",
    "    # Create color gradient based on sentiment\n",
    "    node_colors = [\n",
    "        safe_color_scale(G.nodes[node][\"positive_sentiment\"] / 100) \n",
    "        for node in node_names\n",
    "    ]\n",
    "\n",
    "\n",
    "    # Create traces\n",
    "    trace = go.Scatter(\n",
    "        x=np.random.rand(len(node_names)) * 10,  # Random x positions\n",
    "        y=np.random.rand(len(node_names)) * 10,  # Random y positions\n",
    "        mode='markers+text',\n",
    "        text=node_names,\n",
    "        textposition=\"top center\",\n",
    "        marker=dict(\n",
    "            size=node_sizes,\n",
    "            color=node_colors,\n",
    "            line=dict(width=1, color='DarkSlateGrey')\n",
    "        ),\n",
    "        hovertext=[\n",
    "            f\"Theme: {node}<br>\"\n",
    "            f\"Confidence: {G.nodes[node]['confidence']}%<br>\"\n",
    "            f\"Centrality: {G.nodes[node]['centrality_weight']}<br>\"\n",
    "            f\"Keywords: {', '.join(G.nodes[node]['keywords'])}<br>\"\n",
    "            f\"Sentiment: +{G.nodes[node]['positive_sentiment']}% \"\n",
    "            f\"0{G.nodes[node]['neutral_sentiment']}% \"\n",
    "            f\"-{G.nodes[node]['negative_sentiment']}%\"\n",
    "            for node in node_names\n",
    "        ],\n",
    "        hoverinfo='text'\n",
    "    )\n",
    "\n",
    "\n",
    "    # Create figure\n",
    "    fig = go.Figure(data=[trace])\n",
    "\n",
    "\n",
    "    # Update layout\n",
    "    fig.update_layout(\n",
    "        title=\"Theme Network Visualization\",\n",
    "        showlegend=False,\n",
    "        hovermode='closest',\n",
    "        width=1000,\n",
    "        height=800,\n",
    "        xaxis=dict(showgrid=False, zeroline=False, showticklabels=False),\n",
    "        yaxis=dict(showgrid=False, zeroline=False, showticklabels=False),\n",
    "        plot_bgcolor='white',\n",
    "        paper_bgcolor='white'\n",
    "    )\n",
    "\n",
    "\n",
    "    # Print theme statistics\n",
    "    print(f\"Total Themes: {len(node_names)}\")\n",
    "    for node in node_names:\n",
    "        print(f\"Theme: {node}\")\n",
    "        print(f\"  Confidence: {G.nodes[node]['confidence']}%\")\n",
    "        print(f\"  Keywords: {', '.join(G.nodes[node]['keywords'])}\")\n",
    "        print(f\"  Sentiment: +{G.nodes[node]['positive_sentiment']}% 0{G.nodes[node]['neutral_sentiment']}% -{ G.nodes[node]['negative_sentiment']}%\\n\")\n",
    "\n",
    "\n",
    "    # Show the figure\n",
    "    fig.show()\n",
    "\n",
    "\n",
    "\n",
    "\n",
    "# Load the JSON files\n",
    "data_label_0 = load_json_file('label_0_1.json')  # Bot data\n",
    "data_label_1 = load_json_file('label_1_1.json')  # Non-bot data\n",
    "\n",
    "\n",
    "# Combine and process the data\n",
    "combined_data = data_label_0 + data_label_1\n",
    "\n",
    "\n",
    "# Create the network\n",
    "theme_network = create_theme_network(combined_data, min_confidence=50)\n",
    "\n",
    "\n",
    "# Visualize the network\n",
    "visualize_network(theme_network)"
   ]
  },
  {
   "cell_type": "code",
   "execution_count": 15,
   "metadata": {},
   "outputs": [
    {
     "name": "stdout",
     "output_type": "stream",
     "text": [
      "Theme Statistics:\n",
      "Total Themes: 301\n",
      "Bot Themes: 80\n",
      "Non-Bot Themes: 176\n",
      "Mixed Themes: 45\n",
      "\n",
      "Bot Themes:\n",
      "  Technology and Coding\n",
      "  Culture and Entertainment\n",
      "  Science and Exploration\n",
      "  Emotional Expression and Art\n",
      "  Philosophy and Culture\n",
      "  Philosophical Musings and Wordplay\n",
      "  Health and Fitness\n",
      "  Emotions and Mental State\n",
      "  Weather and Environment\n",
      "  Social Interactions and Relationships\n",
      "  Tech and Software\n",
      "  Security and Vulnerability\n",
      "  Cryptocurrency\n",
      "  Love and Relationships\n",
      "  Inspiration and Creativity\n",
      "  Realism and Optimism\n",
      "  Social Interaction\n",
      "  Emotional Support and Concern\n",
      "  Life and Relationships\n",
      "  Celebrations and Hobbies\n",
      "  Gaming\n",
      "  Politics\n",
      "  Science Fiction\n",
      "  Humor\n",
      "  Bitcoin Miners\n",
      "  Space Exploration and Discovery\n",
      "  Pop Culture and Entertainment\n",
      "  Language and Sarcasm\n",
      "  Criticisms and Negativity\n",
      "  Lightheartedness and Humor\n",
      "  Politics and Justice\n",
      "  Lifestyle and Interests\n",
      "  Uncategorized\n",
      "  Social Media and Communication\n",
      "  Inspirational/Motivational\n",
      "  Politics and World Events\n",
      "  Cryptocurrency and Technology\n",
      "  Work and Productivity\n",
      "  Pop Culture and Humor\n",
      "  Travel/Transportation\n",
      "  Trust and Vulnerability\n",
      "  Emergency Preparedness\n",
      "  Security and Exploits\n",
      "  Human Experience and Emotions\n",
      "  Math and Science\n",
      "  Interrogation and Interview\n",
      "  Language and Culture\n",
      "  Cryptic Posts and Math\n",
      "  Financial/Business\n",
      "  Productivity and Motivation\n",
      "  College Life\n",
      "  Personal Reminders and Support\n",
      "  Education\n",
      "  US Politics\n",
      "  Technology\n",
      "  TV and Media\n",
      "  Entertainment and Hobbies\n",
      "  Personal Reminders and Self-Care\n",
      "  Science and Discovery\n",
      "  Philosophy and Social Commentary\n",
      "  Movie and TV News\n",
      "  Information Seeking\n",
      "  Cryptocurrency and Bitcoin\n",
      "  Technology and Entertainment\n",
      "  Encouragement\n",
      "  Cybersecurity and Technology\n",
      "  Emotional Wellbeing and Self-Care\n",
      "  Relationships and Social Connections\n",
      "  Work/Responsibility\n",
      "  Social Commentary and Critique\n",
      "  Exploration and Discovery\n",
      "  Relationships and Communication\n",
      "  Existentialism and Self-Discovery\n",
      "  Celebrity/Media Mentions\n",
      "  Hobbies\n",
      "  Social Media\n",
      "  Personal Growth\n",
      "  Personal Development\n",
      "  Respect and Empowerment\n",
      "  Philosophy and Human Interest\n",
      "\n",
      "Non-Bot Themes:\n",
      "  Traffic and Road Closure\n",
      "  Humor and Sarcastic Comment\n",
      "  Inspiration and Appreciation\n",
      "  Event and Announcement\n",
      "  Current Events and Alerts\n",
      "  Product and Service Promotions\n",
      "  Personal and Lighthearted Content\n",
      "  News and Information\n",
      "  Social Media and Tech\n",
      "  NRA and Politics\n",
      "  Amy Schumer and Trainwreck\n",
      "  Linkin Park and Music\n",
      "  Small Business and Entrepreneurship\n",
      "  Celebrity Culture and Humor\n",
      "  Social Media and Online Engagement\n",
      "  Personal and Emotional Experiences\n",
      "  Social Media Interactions\n",
      "  Workplace Issues\n",
      "  Motivation and Success\n",
      "  Marketing and Advertising\n",
      "  Celebrity and Lifestyles\n",
      "  Tributes and Reminders\n",
      "  Environmental Awareness\n",
      "  Personal and Professional Interests\n",
      "  Politics/Leadership\n",
      "  Food and Beverages\n",
      "  KP Govt Recognition\n",
      "  Success and Opportunity\n",
      "  Personal Growth and Development\n",
      "  Social Impact and Responsibility\n",
      "  Support and Inspiration\n",
      "  Haiku and Poetry\n",
      "  Random and Miscellaneous\n",
      "  Celebrities and Entertainment\n",
      "  Social and Community\n",
      "  International Relations and Politics\n",
      "  Personal Life and Relationships\n",
      "  Education and Learning\n",
      "  Crime and Law Enforcement\n",
      "  Gun Control\n",
      "  Celebration and Humor\n",
      "  Government and Politics\n",
      "  Religion and Community\n",
      "  News and Media\n",
      "  Social Media and Technology\n",
      "  Political Commentary and Criticism\n",
      "  Celebrations and Events\n",
      "  Politics and Elections\n",
      "  Support and Commendation\n",
      "  Information Sharing and News\n",
      "  Valentine's Day and Love\n",
      "  News\n",
      "  Celebrity and Public Interest\n",
      "  Food and Entertainment\n",
      "  Social Issues and Health\n",
      "  Technology and Programming\n",
      "  Social Media and Events\n",
      "  Politics and World News\n",
      "  Self-Care and Fitness\n",
      "  Relationships and Love\n",
      "  Adversity and Resilience\n",
      "  Canadian Politics and Security\n",
      "  Social Justice and Activism\n",
      "  Food and Beverage\n",
      "  Life and Mortality\n",
      "  Art and Culture\n",
      "  Social Issues\n",
      "  Racial Issues and Stereotypes\n",
      "  Celebrity News and Entertainment\n",
      "  Social Media and Politics\n",
      "  TV Shows and Pop Culture\n",
      "  Weather Discussion\n",
      "  Sports and Celebrity\n",
      "  Politics and International Relations\n",
      "  Tweets are about India\n",
      "  Politics and News\n",
      "  Celebrity and Recognition\n",
      "  Travel and Exploration\n",
      "  Writing and Literature\n",
      "  Discontent and Criticism\n",
      "  Pop Culture\n",
      "  Environmental Conservation\n",
      "  Entertainment and Leisure\n",
      "  Mental Health and Wellness\n",
      "  Celebrity and Royalty\n",
      "  Social Media and Online Presence\n",
      "  Personal Reflection and Advice\n",
      "  Social Justice and Empowerment\n",
      "  Economic Concerns\n",
      "  Transportation and Infrastructure\n",
      "  Education and Research\n",
      "  Reading and Books\n",
      "  Weather and Seasonal Activities\n",
      "  Funding and Crowdfunding\n",
      "  Pop Culture and Memes\n",
      "  Celebrity and Cultural News\n",
      "  Personal and Lighthearted\n",
      "  Personal Stories and Humor\n",
      "  Entertainment and Book Reviews\n",
      "  Social and Cultural\n",
      "  Gardening\n",
      "  Hall and Oates\n",
      "  Entertainment and Pop Culture\n",
      "  Workplace Culture and Management\n",
      "  Pakistan-Kashmir Relations\n",
      "  Financial and Economic Issues\n",
      "  Entertainment and Social Media\n",
      "  Technology and Futurism\n",
      "  Miscellaneous and Product Development\n",
      "  Miscellaneous and Event Promotion\n",
      "  Miscellaneous and Help Request\n",
      "  Miscellaneous and Miscellaneous\n",
      "  Miscellaneous and Unclassified\n",
      "  Cultural Trends and Observations\n",
      "  General Lifestyle and Updates\n",
      "  Positive Emotions and Appreciation\n",
      "  Information Sharing and Discussion\n",
      "  Concern and Awareness\n",
      "  Celebrity Culture and Awards\n",
      "  Personal Interests and Relationships\n",
      "  Entertainment and Music\n",
      "  Celebrity and Culture\n",
      "  Canadian Politics\n",
      "  Congressional Interns\n",
      "  Event\n",
      "  Congressional News\n",
      "  Empowerment and Personal Growth\n",
      "  Social Commentary and Criticism\n",
      "  Humor and Leisure\n",
      "  Social and Cultural Issues\n",
      "  Technology and Online Presence\n",
      "  General Interest and Lifestyle\n",
      "  Social Media and Online Culture\n",
      "  Daily Life and Observations\n",
      "  Personal and Inspirational\n",
      "  Entertainment and Humor\n",
      "  Sports and Cricket\n",
      "  Small Business\n",
      "  Event/Incident\n",
      "  Personal/Relationship\n",
      "  Positive Social Impact\n",
      "  Entertainment and Celebrity News\n",
      "  Breaking News\n",
      "  Human Rights and Social Justice\n",
      "  Australia's Politics and Infrastructure\n",
      "  Social Responsibility and Community\n",
      "  Personal and Social Life\n",
      "  Infrastructure and Public Safety\n",
      "  Cultural Expression and Appreciation\n",
      "  Politics/Current Events\n",
      "  Arts and Culture\n",
      "  Community and Events\n",
      "  Social Media and Connectivity\n",
      "  Violence Prevention\n",
      "  Motivational/ Inspirational\n",
      "  Personal Development and Career Growth\n",
      "  Cultural and Social Issues\n",
      "  Food and Dining\n",
      "  Technology and Manufacturing\n",
      "  Parenting and Family\n",
      "  Social Issues and Politics\n",
      "  Relationships and Pets\n",
      "  Community and Social Issues\n",
      "  Travel and Adventure\n",
      "  Celebrations\n",
      "  Disappointment and Frustration\n",
      "  European Union Politics\n",
      "  Personal Relationships and Interactions\n",
      "  Entertainment and Lifestyle\n",
      "  Productivity and Technology\n",
      "  Immigration and Refugees\n",
      "  Terrorism and Conflict\n",
      "  Secrets and Personal Information\n",
      "  Social Cause and Charity\n",
      "  Personal Life and Experiences\n",
      "  Communication and Technology\n",
      "\n",
      "Mixed Themes:\n",
      "  Business and Finance\n",
      "  Sports and Fitness\n",
      "  Social Interactions\n",
      "  Technology and Computing\n",
      "  Miscellaneous\n",
      "  Social Commentary\n",
      "  Technology and Innovation\n",
      "  Miscellaneous and Humor\n",
      "  Current Events and News\n",
      "  Politics and Governance\n",
      "  Sports\n",
      "  Health and Wellness\n",
      "  Film and Entertainment\n",
      "  Personal and Lifestyle\n",
      "  Sports and Entertainment\n",
      "  Music and Entertainment\n",
      "  Humor and Entertainment\n",
      "  Entertainment\n",
      "  Personal Struggles\n",
      "  Relationships\n",
      "  Technology and Security\n",
      "  Celebrity and Pop Culture\n",
      "  Celebrity and Entertainment\n",
      "  Social Commentary and Awareness\n",
      "  Entertainment and Culture\n",
      "  Education and Personal Development\n",
      "  Sports and Leisure\n",
      "  Celebrity and Public Figures\n",
      "  Travel and Tourism\n",
      "  Social Media and Entertainment\n",
      "  Celebrity News and Updates\n",
      "  Entertainment and Media\n",
      "  News and Updates\n",
      "  Politics and Current Events\n",
      "  News and Current Events\n",
      "  News and Politics\n",
      "  Politics and Social Issues\n",
      "  Politics and Activism\n",
      "  Current Events\n",
      "  Personal Interactions\n",
      "  Humor and Satire\n",
      "  Politics and Social Commentary\n",
      "  Celebrity and Entertainment News\n",
      "  Business and Entrepreneurship\n",
      "  Social Awareness and Activism\n"
     ]
    },
    {
     "data": {
      "application/vnd.plotly.v1+json": {
       "config": {
        "plotlyServerURL": "https://plot.ly"
       },
       "data": [
        {
         "hoverinfo": "text",
         "hovertext": [
          "Theme: Technology and Coding<br>Type: bot<br>Confidence: 85%<br>Centrality: 68<br>Keywords: VHDL, Verilog, programming, computer science<br>Sentiment: +0% 0100% -0%",
          "Theme: Business and Finance<br>Type: mixed<br>Confidence: 80%<br>Centrality: 62<br>Keywords: bitcoin, cryptocurrency, hiring, Gemini, NYSE, CIO<br>Sentiment: +75% 025% -0%",
          "Theme: Culture and Entertainment<br>Type: bot<br>Confidence: 70%<br>Centrality: 58<br>Keywords: art, haiku, Funko, Netflix, movie, God, amazing, experiences<br>Sentiment: +60% 040% -0%",
          "Theme: Sports and Fitness<br>Type: mixed<br>Confidence: 60%<br>Centrality: 52<br>Keywords: Bears, pro bowl, football, Corey, Graham, fitness<br>Sentiment: +50% 050% -0%",
          "Theme: Science and Exploration<br>Type: bot<br>Confidence: 55%<br>Centrality: 48<br>Keywords: planet, bushes, ringed fields, gopher, fin, science<br>Sentiment: +0% 0100% -0%",
          "Theme: Social Interactions<br>Type: mixed<br>Confidence: 80%<br>Centrality: 40<br>Keywords: love, doo-dah, kissing challenge, shaking<br>Sentiment: +60% 040% -0%",
          "Theme: Technology and Computing<br>Type: mixed<br>Confidence: 70%<br>Centrality: 30<br>Keywords: nested user namespace, linux, exploit, metasploit, exploidDB<br>Sentiment: +0% 0100% -0%",
          "Theme: Emotional Expression and Art<br>Type: bot<br>Confidence: 60%<br>Centrality: 30<br>Keywords: i love the blue and pink bobbly things, doo-dah, image, object<br>Sentiment: +50% 050% -0%",
          "Theme: Philosophy and Culture<br>Type: bot<br>Confidence: 50%<br>Centrality: 20<br>Keywords: disenchantment of the image, Linux, nested user namespace<br>Sentiment: +0% 0100% -0%",
          "Theme: Philosophical Musings and Wordplay<br>Type: bot<br>Confidence: 60%<br>Centrality: 40<br>Keywords: confidence, attitude, woods<br>Sentiment: +0% 0100% -0%",
          "Theme: Health and Fitness<br>Type: bot<br>Confidence: 80%<br>Centrality: 50<br>Keywords: Energy expenditure, Calories, Metabolic rate<br>Sentiment: +0% 0100% -0%",
          "Theme: Emotions and Mental State<br>Type: bot<br>Confidence: 70%<br>Centrality: 30<br>Keywords: Anger, Excitement, Euphoria<br>Sentiment: +40% 040% -20%",
          "Theme: Weather and Environment<br>Type: bot<br>Confidence: 50%<br>Centrality: 20<br>Keywords: Temperature, Humidity, Cloud cover<br>Sentiment: +0% 0100% -0%",
          "Theme: Social Interactions and Relationships<br>Type: bot<br>Confidence: 60%<br>Centrality: 20<br>Keywords: Sheriff, Friendship, Camaraderie<br>Sentiment: +20% 080% -0%",
          "Theme: Tech and Software<br>Type: bot<br>Confidence: 80%<br>Centrality: 70<br>Keywords: Microsoft, Edge, Chromium, Linux, RHEL, spice-server<br>Sentiment: +0% 050% -50%",
          "Theme: Miscellaneous<br>Type: mixed<br>Confidence: 50%<br>Centrality: 30<br>Keywords: Humor, Doo-dah, Liquorice<br>Sentiment: +0% 0100% -0%",
          "Theme: Security and Vulnerability<br>Type: bot<br>Confidence: 60%<br>Centrality: 40<br>Keywords: Naked Security, Security, Vulnerability<br>Sentiment: +0% 0100% -0%",
          "Theme: Cryptocurrency<br>Type: bot<br>Confidence: 70%<br>Centrality: 60<br>Keywords: Crypto, Government, Disclosure<br>Sentiment: +0% 0100% -0%",
          "Theme: Love and Relationships<br>Type: bot<br>Confidence: 80%<br>Centrality: 60<br>Keywords: love, girlfriend, diamond ring<br>Sentiment: +66.67% 016.67% -16.67%",
          "Theme: Inspiration and Creativity<br>Type: bot<br>Confidence: 70%<br>Centrality: 50<br>Keywords: music, story, inspiration<br>Sentiment: +83.33% 016.67% -0%",
          "Theme: Realism and Optimism<br>Type: bot<br>Confidence: 60%<br>Centrality: 40<br>Keywords: machine, planet, optimism<br>Sentiment: +66.67% 033.33% -0%",
          "Theme: Social Interaction<br>Type: bot<br>Confidence: 50%<br>Centrality: 30<br>Keywords: humor, whimsy, social sharing<br>Sentiment: +50% 050% -0%",
          "Theme: Emotional Support and Concern<br>Type: bot<br>Confidence: 85%<br>Centrality: 80<br>Keywords: fresh air, treat urself kindly, te deixarei, desampararei<br>Sentiment: +40% 040% -20%",
          "Theme: Life and Relationships<br>Type: bot<br>Confidence: 70%<br>Centrality: 60<br>Keywords: Luke, Grandad, doo-dah, doo-dah<br>Sentiment: +30% 050% -20%",
          "Theme: Celebrations and Hobbies<br>Type: bot<br>Confidence: 60%<br>Centrality: 50<br>Keywords: #NationalWineDay, #WineWednesday<br>Sentiment: +60% 030% -10%",
          "Theme: Gaming<br>Type: bot<br>Confidence: 80%<br>Centrality: 60<br>Keywords: LA NOIRE, gaming<br>Sentiment: +0% 0100% -0%",
          "Theme: Politics<br>Type: bot<br>Confidence: 80%<br>Centrality: 70<br>Keywords: Rumsfeld, MakeAmericaGreatAgain, TrumpTrain<br>Sentiment: +50% 050% -0%",
          "Theme: Science Fiction<br>Type: bot<br>Confidence: 50%<br>Centrality: 40<br>Keywords: planet, starshine, alien life<br>Sentiment: +0% 0100% -0%",
          "Theme: Humor<br>Type: bot<br>Confidence: 50%<br>Centrality: 20<br>Keywords: BONG BONG BONG BONG, wine<br>Sentiment: +20% 080% -0%",
          "Theme: Bitcoin Miners<br>Type: bot<br>Confidence: 60%<br>Centrality: 40<br>Keywords: Bitcoin, Miners, China<br>Sentiment: +0% 00% -100%",
          "Theme: Space Exploration and Discovery<br>Type: bot<br>Confidence: 90%<br>Centrality: 80<br>Keywords: planet, discovery, space<br>Sentiment: +40% 040% -20%",
          "Theme: Pop Culture and Entertainment<br>Type: bot<br>Confidence: 90%<br>Centrality: 80<br>Keywords: BONG, Quantum Break, Marco Rubio, RemyyXxX, God, pop culture<br>Sentiment: +40% 030% -30%",
          "Theme: Language and Sarcasm<br>Type: bot<br>Confidence: 80%<br>Centrality: 60<br>Keywords: Noooo, Doo-dah, Feint, shim<br>Sentiment: +0% 050% -50%",
          "Theme: Social Commentary<br>Type: mixed<br>Confidence: 60%<br>Centrality: 20<br>Keywords: time, disenchantment, invalidates, differences<br>Sentiment: +20% 020% -60%",
          "Theme: Criticisms and Negativity<br>Type: bot<br>Confidence: 64%<br>Centrality: 73<br>Keywords: holidays, hypocrisy, disappointment, frustration, cynicism<br>Sentiment: +0% 00% -100%",
          "Theme: Lightheartedness and Humor<br>Type: bot<br>Confidence: 72%<br>Centrality: 81<br>Keywords: wuvluv, cute, accidentalhaiku, shaggy linkups, tulips<br>Sentiment: +100% 00% -0%",
          "Theme: Politics and Justice<br>Type: bot<br>Confidence: 85%<br>Centrality: 80<br>Keywords: justice, judge, pill, allegations<br>Sentiment: +25% 00% -75%",
          "Theme: Technology and Innovation<br>Type: mixed<br>Confidence: 85%<br>Centrality: 70<br>Keywords: Podscripter, Transcription, AI, Robot<br>Sentiment: +60% 020% -20%",
          "Theme: Lifestyle and Interests<br>Type: bot<br>Confidence: 70%<br>Centrality: 80<br>Keywords: fashion, hobbies, video games, philosophy<br>Sentiment: +22% 078% -0%",
          "Theme: Uncategorized<br>Type: bot<br>Confidence: 55%<br>Centrality: 60<br>Keywords: abstract concepts, mathematical expressions<br>Sentiment: +0% 0100% -0%",
          "Theme: Social Media and Communication<br>Type: bot<br>Confidence: 80%<br>Centrality: 85<br>Keywords: social media, communication, networking<br>Sentiment: +0% 0100% -0%",
          "Theme: Inspirational/Motivational<br>Type: bot<br>Confidence: 60%<br>Centrality: 40<br>Keywords: move, win, home, sleep<br>Sentiment: +75% 025% -0%",
          "Theme: Politics and World Events<br>Type: bot<br>Confidence: 80%<br>Centrality: 60<br>Keywords: Syria, Obama<br>Sentiment: +0% 0100% -0%",
          "Theme: Cryptocurrency and Technology<br>Type: bot<br>Confidence: 70%<br>Centrality: 40<br>Keywords: EOS, Bitmain, Peter Thiel<br>Sentiment: +100% 00% -0%",
          "Theme: Work and Productivity<br>Type: bot<br>Confidence: 60%<br>Centrality: 55<br>Keywords: back to work, rest your eyes, hacking, China<br>Sentiment: +70% 00% -30%",
          "Theme: Pop Culture and Humor<br>Type: bot<br>Confidence: 85%<br>Centrality: 65<br>Keywords: haiku, interview, 42, The Hitchhiker's Guide to the Galaxy<br>Sentiment: +90% 010% -0%",
          "Theme: Travel/Transportation<br>Type: bot<br>Confidence: 100%<br>Centrality: 45<br>Keywords: Travel, Transportation, Aviation, Tourism, Wine<br>Sentiment: +40% 040% -20%",
          "Theme: Trust and Vulnerability<br>Type: bot<br>Confidence: 88%<br>Centrality: 82<br>Keywords: secrets, trust, computable knowledge, fly, beautiful<br>Sentiment: +60% 020% -20%",
          "Theme: Emergency Preparedness<br>Type: bot<br>Confidence: 80%<br>Centrality: 75<br>Keywords: tuna cans, poaching rings, emergency<br>Sentiment: +40% 040% -20%",
          "Theme: Security and Exploits<br>Type: bot<br>Confidence: 90%<br>Centrality: 85<br>Keywords: exploits, security, PHP-Proxy<br>Sentiment: +30% 050% -20%",
          "Theme: Human Experience and Emotions<br>Type: bot<br>Confidence: 85%<br>Centrality: 78<br>Keywords: bum, favorite things, social interactions<br>Sentiment: +50% 030% -20%",
          "Theme: Miscellaneous and Humor<br>Type: mixed<br>Confidence: 80%<br>Centrality: 72<br>Keywords: humor, N\\xc3\\xa3o temas<br>Sentiment: +60% 030% -10%",
          "Theme: Math and Science<br>Type: bot<br>Confidence: 85%<br>Centrality: 80<br>Keywords: math, science, computable knowledge<br>Sentiment: +50% 030% -20%",
          "Theme: Interrogation and Interview<br>Type: bot<br>Confidence: 80%<br>Centrality: 75<br>Keywords: interrogation, interview, conversational dynamics<br>Sentiment: +40% 040% -20%",
          "Theme: Language and Culture<br>Type: bot<br>Confidence: 80%<br>Centrality: 72<br>Keywords: language, culture, N\\xc3\\xa3o temas<br>Sentiment: +60% 030% -10%",
          "Theme: Cryptic Posts and Math<br>Type: bot<br>Confidence: 85%<br>Centrality: 80<br>Keywords: cryptic, math, equation<br>Sentiment: +50% 030% -20%",
          "Theme: Financial/Business<br>Type: bot<br>Confidence: 80%<br>Centrality: 85<br>Keywords: billionaire, Ethereum, recovery code<br>Sentiment: +0% 050% -50%",
          "Theme: Productivity and Motivation<br>Type: bot<br>Confidence: 80%<br>Centrality: 70<br>Keywords: motivation, productivity, fashion show<br>Sentiment: +40% 050% -10%",
          "Theme: Current Events and News<br>Type: mixed<br>Confidence: 88%<br>Centrality: 92<br>Keywords: Vote, EDF, Commerzbank, Inflation, Red Hook, SandyAid, NY, Cloud, Software AG, HelpNetSecurity<br>Sentiment: +20% 080% -0%",
          "Theme: College Life<br>Type: bot<br>Confidence: 88%<br>Centrality: 80<br>Keywords: dorm, college, jealous<br>Sentiment: +0% 050% -50%",
          "Theme: Personal Reminders and Support<br>Type: bot<br>Confidence: 70%<br>Centrality: 85<br>Keywords: help, support, friends<br>Sentiment: +66.67% 033.33% -0%",
          "Theme: Education<br>Type: bot<br>Confidence: 85%<br>Centrality: 40<br>Keywords: dyslexia, common core, statistics, education<br>Sentiment: +66.67% 00% -33.33%",
          "Theme: Politics and Governance<br>Type: mixed<br>Confidence: 80%<br>Centrality: 60<br>Keywords: government, officials, policies, laws, regulations<br>Sentiment: +0% 075% -25%",
          "Theme: Sports<br>Type: mixed<br>Confidence: 60%<br>Centrality: 40<br>Keywords: athletes, sports<br>Sentiment: +75% 025% -0%",
          "Theme: US Politics<br>Type: bot<br>Confidence: 80%<br>Centrality: 70<br>Keywords: ObamaCare, Primary, INPrimary<br>Sentiment: +0% 040% -60%",
          "Theme: Health and Wellness<br>Type: mixed<br>Confidence: 60%<br>Centrality: 60<br>Keywords: fitness, workout<br>Sentiment: +80% 020% -0%",
          "Theme: Technology<br>Type: bot<br>Confidence: 50%<br>Centrality: 50<br>Keywords: Microservices, application development<br>Sentiment: +0% 0100% -0%",
          "Theme: TV and Media<br>Type: bot<br>Confidence: 80%<br>Centrality: 40<br>Keywords: Netflix, TV, Instant, Season 2<br>Sentiment: +0% 0100% -0%",
          "Theme: Entertainment and Hobbies<br>Type: bot<br>Confidence: 80%<br>Centrality: 50<br>Keywords: opera, music, theater, gaming, water, self-care, primark, online store, interest, deduction, limits, frozen, mrc, planet, space, stargaze<br>Sentiment: +33.33% 066.67% -0%",
          "Theme: Personal Reminders and Self-Care<br>Type: bot<br>Confidence: 60%<br>Centrality: 30<br>Keywords: eyes, rest, health, water, hydration, nutrition<br>Sentiment: +100% 00% -0%",
          "Theme: Film and Entertainment<br>Type: mixed<br>Confidence: 90%<br>Centrality: 50<br>Keywords: Cage, Atlantic City, WW2, film, production<br>Sentiment: +40% 050% -10%",
          "Theme: Personal and Lifestyle<br>Type: mixed<br>Confidence: 70%<br>Centrality: 10<br>Keywords: oil, blotting papers, road, tomorrow<br>Sentiment: +60% 030% -10%",
          "Theme: Science and Discovery<br>Type: bot<br>Confidence: 95%<br>Centrality: 20<br>Keywords: planet, cyborg<br>Sentiment: +40% 040% -20%",
          "Theme: Philosophy and Social Commentary<br>Type: bot<br>Confidence: 80%<br>Centrality: 20<br>Keywords: feminism, sabotage<br>Sentiment: +20% 030% -50%",
          "Theme: Movie and TV News<br>Type: bot<br>Confidence: 70%<br>Centrality: 60<br>Keywords: Nicolas Cage, movies, Bitcoin, miner<br>Sentiment: +0% 0100% -0%",
          "Theme: Information Seeking<br>Type: bot<br>Confidence: 80%<br>Centrality: 85<br>Keywords: keys, instructions, help<br>Sentiment: +0% 0100% -0%",
          "Theme: Sports and Entertainment<br>Type: mixed<br>Confidence: 75%<br>Centrality: 80<br>Keywords: stoletheshow, mind, titles, aren't, won, August<br>Sentiment: +25% 050% -25%",
          "Theme: Cryptocurrency and Bitcoin<br>Type: bot<br>Confidence: 100%<br>Centrality: 80<br>Keywords: bitcoin, bch, bug, price, security<br>Sentiment: +0% 020% -80%",
          "Theme: Music and Entertainment<br>Type: mixed<br>Confidence: 50%<br>Centrality: 20<br>Keywords: music, artist, price<br>Sentiment: +0% 050% -50%",
          "Theme: Technology and Entertainment<br>Type: bot<br>Confidence: 80%<br>Centrality: 60<br>Keywords: Twitter, Social Media, Gaming, Wine, Beverage Reviews, Science Fiction, Fantasy, Media<br>Sentiment: +85% 05% -10%",
          "Theme: Encouragement<br>Type: bot<br>Confidence: 80%<br>Centrality: 70<br>Keywords: breathe, take care of urself, get back to work, eat something<br>Sentiment: +50% 050% -0%",
          "Theme: Cybersecurity and Technology<br>Type: bot<br>Confidence: 80%<br>Centrality: 50<br>Keywords: cybersecurity, competition, Dark Reading, CSAW<br>Sentiment: +0% 0100% -0%",
          "Theme: Emotional Wellbeing and Self-Care<br>Type: bot<br>Confidence: 70%<br>Centrality: 30<br>Keywords: self-care, grounding, pancakes, wine<br>Sentiment: +100% 00% -0%",
          "Theme: Relationships and Social Connections<br>Type: bot<br>Confidence: 60%<br>Centrality: 20<br>Keywords: celebrity, crush, friendship, support<br>Sentiment: +100% 00% -0%",
          "Theme: Work/Responsibility<br>Type: bot<br>Confidence: 85%<br>Centrality: 90<br>Keywords: GET BACK TO WORK, Idris, Haskell, Robot pussy<br>Sentiment: +0% 090% -10%",
          "Theme: Social Commentary and Critique<br>Type: bot<br>Confidence: 80%<br>Centrality: 85<br>Keywords: lie, deception, dishonesty, authority, norms, question, kindness, empathy, respect<br>Sentiment: +20% 040% -40%",
          "Theme: Exploration and Discovery<br>Type: bot<br>Confidence: 80%<br>Centrality: 70<br>Keywords: planet, discovered, space, relaxation, self-care<br>Sentiment: +20% 070% -10%",
          "Theme: Relationships and Communication<br>Type: bot<br>Confidence: 60%<br>Centrality: 50<br>Keywords: communicating, secret, love, relationship<br>Sentiment: +30% 040% -30%",
          "Theme: Humor and Entertainment<br>Type: mixed<br>Confidence: 80%<br>Centrality: 70<br>Keywords: RT, #accidentalhaiku, wingmanning, liquorice<br>Sentiment: +80% 010% -10%",
          "Theme: Existentialism and Self-Discovery<br>Type: bot<br>Confidence: 65%<br>Centrality: 55<br>Keywords: life, meaning, errancy, self-expression, authenticity<br>Sentiment: +20% 040% -40%",
          "Theme: Celebrity/Media Mentions<br>Type: bot<br>Confidence: 60%<br>Centrality: 20<br>Keywords: Leonard Cohen, RIP<br>Sentiment: +20% 030% -50%",
          "Theme: Entertainment<br>Type: mixed<br>Confidence: 80%<br>Centrality: 40<br>Keywords: Movie, Celebrity, Pop Culture<br>Sentiment: +0% 0100% -0%",
          "Theme: Personal Struggles<br>Type: mixed<br>Confidence: 70%<br>Centrality: 30<br>Keywords: Relationship, Personal growth<br>Sentiment: +0% 080% -20%",
          "Theme: Hobbies<br>Type: bot<br>Confidence: 50%<br>Centrality: 10<br>Keywords: Sports, Photography<br>Sentiment: +0% 0100% -0%",
          "Theme: Social Media<br>Type: bot<br>Confidence: 50%<br>Centrality: 20<br>Keywords: Social media, Social media platforms<br>Sentiment: +40% 060% -0%",
          "Theme: Personal Growth<br>Type: bot<br>Confidence: 50%<br>Centrality: 30<br>Keywords: Personal growth, Self-improvement<br>Sentiment: +0% 080% -20%",
          "Theme: Relationships<br>Type: mixed<br>Confidence: 80%<br>Centrality: 50<br>Keywords: Relationship, Romantic relationships<br>Sentiment: +0% 080% -20%",
          "Theme: Personal Development<br>Type: bot<br>Confidence: 50%<br>Centrality: 40<br>Keywords: Personal development, Self-awareness<br>Sentiment: +0% 080% -20%",
          "Theme: Respect and Empowerment<br>Type: bot<br>Confidence: 80%<br>Centrality: 70<br>Keywords: respect, dignity, self-worth<br>Sentiment: +100% 00% -0%",
          "Theme: Technology and Security<br>Type: mixed<br>Confidence: 80%<br>Centrality: 60<br>Keywords: #CentOS, #Nessus, security, Sentinel, AndroidDev<br>Sentiment: +0% 0100% -0%",
          "Theme: Philosophy and Human Interest<br>Type: bot<br>Confidence: 50%<br>Centrality: 80<br>Keywords: dogs down, Why is a dirt found in a refrigerator?, WEATHER REVIEWS<br>Sentiment: +50% 025% -25%",
          "Theme: Traffic and Road Closure<br>Type: nonbot<br>Confidence: 80%<br>Centrality: 60<br>Keywords: ramps back open, scene cleared<br>Sentiment: +0% 0100% -0%",
          "Theme: Celebrity and Pop Culture<br>Type: mixed<br>Confidence: 70%<br>Centrality: 40<br>Keywords: Islamic Teachings, peace, ReptarAzar, Jordonsteele, aabill, mkapor, doctorow, metaguide, Best Quora Answers, Meteora20, benabyad, GuyFieri, FoodNetworkBR, ChefNoel<br>Sentiment: +50% 050% -0%",
          "Theme: Humor and Sarcastic Comment<br>Type: nonbot<br>Confidence: 60%<br>Centrality: 20<br>Keywords: pour over, Lol<br>Sentiment: +100% 00% -0%",
          "Theme: Inspiration and Appreciation<br>Type: nonbot<br>Confidence: 50%<br>Centrality: 10<br>Keywords: speech, amazing, kudos<br>Sentiment: +100% 00% -0%",
          "Theme: Event and Announcement<br>Type: nonbot<br>Confidence: 50%<br>Centrality: 10<br>Keywords: Topical, http<br>Sentiment: +0% 0100% -0%",
          "Theme: Celebrity and Entertainment<br>Type: mixed<br>Confidence: 85%<br>Centrality: 60<br>Keywords: MominaMustehsan, TheAimaBaig, Beauty<br>Sentiment: +57% 029% -14%",
          "Theme: Current Events and Alerts<br>Type: nonbot<br>Confidence: 80%<br>Centrality: 40<br>Keywords: evacuate, FloridaKeys<br>Sentiment: +0% 014% -86%",
          "Theme: Product and Service Promotions<br>Type: nonbot<br>Confidence: 75%<br>Centrality: 30<br>Keywords: metaguide, DialogSystems<br>Sentiment: +10% 090% -0%",
          "Theme: Social Commentary and Awareness<br>Type: mixed<br>Confidence: 80%<br>Centrality: 85<br>Keywords: social commentary, awareness, government, policy, social proof<br>Sentiment: +0% 050% -50%",
          "Theme: Personal and Lighthearted Content<br>Type: nonbot<br>Confidence: 60%<br>Centrality: 75<br>Keywords: celebrity, entertainment, personal relationships<br>Sentiment: +100% 00% -0%",
          "Theme: News and Information<br>Type: nonbot<br>Confidence: 90%<br>Centrality: 95<br>Keywords: news, information, environment<br>Sentiment: +0% 00% -100%",
          "Theme: Entertainment and Culture<br>Type: mixed<br>Confidence: 95%<br>Centrality: 92<br>Keywords: music, movies, celebrities, social media<br>Sentiment: +83% 017% -0%",
          "Theme: Education and Personal Development<br>Type: mixed<br>Confidence: 88%<br>Centrality: 78<br>Keywords: college, uni life, business, entrepreneurship<br>Sentiment: +50% 050% -0%",
          "Theme: Sports and Leisure<br>Type: mixed<br>Confidence: 80%<br>Centrality: 67<br>Keywords: skiing, winter sports, music festivals, events<br>Sentiment: +100% 00% -0%",
          "Theme: Social Media and Tech<br>Type: nonbot<br>Confidence: 90%<br>Centrality: 83<br>Keywords: social media, post office, bureaucracy<br>Sentiment: +0% 017% -83%",
          "Theme: NRA and Politics<br>Type: nonbot<br>Confidence: 80%<br>Centrality: 70<br>Keywords: gun control, civil rights, NRA, Trump<br>Sentiment: +0% 00% -100%",
          "Theme: Amy Schumer and Trainwreck<br>Type: nonbot<br>Confidence: 90%<br>Centrality: 85<br>Keywords: Amy Schumer, comedy, Trainwreck, entertainment<br>Sentiment: +100% 00% -0%",
          "Theme: Linkin Park and Music<br>Type: nonbot<br>Confidence: 95%<br>Centrality: 92<br>Keywords: music, fandom, Linkin Park, community<br>Sentiment: +83% 017% -0%",
          "Theme: Small Business and Entrepreneurship<br>Type: nonbot<br>Confidence: 90%<br>Centrality: 83<br>Keywords: small business, innovation, networking, community<br>Sentiment: +67% 033% -0%",
          "Theme: Celebrity Culture and Humor<br>Type: nonbot<br>Confidence: 70%<br>Centrality: 60<br>Keywords: ConnieSchultz, robkardashian, EinsteinBeach, smocking gun, relativity theory, single payer healthcare<br>Sentiment: +60% 020% -20%",
          "Theme: Social Media and Online Engagement<br>Type: nonbot<br>Confidence: 98%<br>Centrality: 85<br>Keywords: social media, online engagement, book, reading, pop culture, entertainment, politics, current events<br>Sentiment: +71% 015% -14%",
          "Theme: Personal and Emotional Experiences<br>Type: nonbot<br>Confidence: 90%<br>Centrality: 80<br>Keywords: personal experiences, emotional support, growth, self-improvement, empathy<br>Sentiment: +85% 010% -5%",
          "Theme: Social Media Interactions<br>Type: nonbot<br>Confidence: 80%<br>Centrality: 65<br>Keywords: social media, engagement, interaction<br>Sentiment: +70% 015% -15%",
          "Theme: Celebrity and Public Figures<br>Type: mixed<br>Confidence: 75%<br>Centrality: 60<br>Keywords: celebrity, public figures, linkinpark<br>Sentiment: +80% 010% -10%",
          "Theme: Travel and Tourism<br>Type: mixed<br>Confidence: 60%<br>Centrality: 55<br>Keywords: travel, tourism, brooklyn, heights<br>Sentiment: +70% 015% -15%",
          "Theme: Workplace Issues<br>Type: nonbot<br>Confidence: 80%<br>Centrality: 50<br>Keywords: meeting, work, pressure<br>Sentiment: +0% 00% -100%",
          "Theme: Motivation and Success<br>Type: nonbot<br>Confidence: 90%<br>Centrality: 90<br>Keywords: success, achievement, inspiration<br>Sentiment: +100% 00% -0%",
          "Theme: Marketing and Advertising<br>Type: nonbot<br>Confidence: 60%<br>Centrality: 30<br>Keywords: marketing, advertising, self<br>Sentiment: +0% 0100% -0%",
          "Theme: Celebrity and Lifestyles<br>Type: nonbot<br>Confidence: 80%<br>Centrality: 70<br>Keywords: QI, plants, Small Business Boss, Chrissy Teigen<br>Sentiment: +30% 070% -0%",
          "Theme: Social Media and Entertainment<br>Type: mixed<br>Confidence: 85%<br>Centrality: 80<br>Keywords: Spotify, @hyipratenet, @chrissyteigen<br>Sentiment: +60% 040% -0%",
          "Theme: Tributes and Reminders<br>Type: nonbot<br>Confidence: 75%<br>Centrality: 60<br>Keywords: Jai Ho, Republic Day, The Spellman Sisters Mortuary<br>Sentiment: +40% 060% -0%",
          "Theme: Environmental Awareness<br>Type: nonbot<br>Confidence: 65%<br>Centrality: 50<br>Keywords: food waste, What did we do as a nation before<br>Sentiment: +50% 050% -0%",
          "Theme: Personal and Professional Interests<br>Type: nonbot<br>Confidence: 60%<br>Centrality: 40<br>Keywords: @mikeshinoda<br>Sentiment: +40% 060% -0%",
          "Theme: Politics/Leadership<br>Type: nonbot<br>Confidence: 80%<br>Centrality: 70<br>Keywords: Trump, Theresa May, Emmanuel Macron<br>Sentiment: +80% 020% -0%",
          "Theme: Food and Beverages<br>Type: nonbot<br>Confidence: 80%<br>Centrality: 70<br>Keywords: Breakfast, Full Breakfast, Cafe<br>Sentiment: +100% 00% -0%",
          "Theme: Celebrity News and Updates<br>Type: mixed<br>Confidence: 50%<br>Centrality: 30<br>Keywords: @kourtneykardash, Birthday<br>Sentiment: +67% 033% -0%",
          "Theme: KP Govt Recognition<br>Type: nonbot<br>Confidence: 85%<br>Centrality: 80<br>Keywords: KP Govt, UN-HABITAT Fukuoka, Asian Townscape Award<br>Sentiment: +100% 00% -0%",
          "Theme: Success and Opportunity<br>Type: nonbot<br>Confidence: 80%<br>Centrality: 60<br>Keywords: Luck, Opportunity, Preparation, Risk, Change<br>Sentiment: +40% 040% -20%",
          "Theme: Personal Growth and Development<br>Type: nonbot<br>Confidence: 70%<br>Centrality: 40<br>Keywords: Learning, Self-improvement, Career, Success<br>Sentiment: +50% 030% -20%",
          "Theme: Social Impact and Responsibility<br>Type: nonbot<br>Confidence: 60%<br>Centrality: 30<br>Keywords: Community, Support, Change, Social justice, Activism<br>Sentiment: +30% 040% -30%",
          "Theme: Entertainment and Media<br>Type: mixed<br>Confidence: 50%<br>Centrality: 20<br>Keywords: Celebrity, News, Culture, Media, Journalism<br>Sentiment: +20% 060% -20%",
          "Theme: Support and Inspiration<br>Type: nonbot<br>Confidence: 90%<br>Centrality: 80<br>Keywords: joy, inspiration, motivation, empowerment, achievements, dreams, future, bright<br>Sentiment: +100% 00% -0%",
          "Theme: News and Updates<br>Type: mixed<br>Confidence: 85%<br>Centrality: 60<br>Keywords: politics, governance, encryption, hollywills, Fearnecotton, ChristinaRicci, comedy show, waste management, BMC, bandraite, brooklyn<br>Sentiment: +60% 040% -0%",
          "Theme: Haiku and Poetry<br>Type: nonbot<br>Confidence: 70%<br>Centrality: 40<br>Keywords: cherry blossoms, city dwellers, brooklyn, joy, inspiration, motivation<br>Sentiment: +100% 00% -0%",
          "Theme: Random and Miscellaneous<br>Type: nonbot<br>Confidence: 60%<br>Centrality: 20<br>Keywords: comedy show, haal, ajkal, RT, @JackieBrunoNECN, oh wow, blonde hair<br>Sentiment: +40% 060% -0%",
          "Theme: Celebrities and Entertainment<br>Type: nonbot<br>Confidence: 50%<br>Centrality: 10<br>Keywords: hollywills, Fearnecotton, ChristinaRicci, comedy show, haal, ajkal<br>Sentiment: +50% 050% -0%",
          "Theme: Social and Community<br>Type: nonbot<br>Confidence: 50%<br>Centrality: 10<br>Keywords: waste management, BMC, bandraite, RT, @JackieBrunoNECN, oh wow, blonde hair<br>Sentiment: +40% 060% -0%",
          "Theme: International Relations and Politics<br>Type: nonbot<br>Confidence: 80%<br>Centrality: 60<br>Keywords: India, Pakistan, Terrorism, Defence, Security<br>Sentiment: +0% 060% -40%",
          "Theme: Personal Life and Relationships<br>Type: nonbot<br>Confidence: 70%<br>Centrality: 40<br>Keywords: Friend, Support, Wedding, Love<br>Sentiment: +80% 010% -10%",
          "Theme: Education and Learning<br>Type: nonbot<br>Confidence: 60%<br>Centrality: 30<br>Keywords: Classes, Education, Health, Wellness<br>Sentiment: +0% 0100% -0%",
          "Theme: Crime and Law Enforcement<br>Type: nonbot<br>Confidence: 50%<br>Centrality: 20<br>Keywords: Police, Investigation, Guns, Safety<br>Sentiment: +0% 050% -50%",
          "Theme: Gun Control<br>Type: nonbot<br>Confidence: 80%<br>Centrality: 60<br>Keywords: gun control, moms demand, gun sense<br>Sentiment: +40% 00% -60%",
          "Theme: Celebration and Humor<br>Type: nonbot<br>Confidence: 50%<br>Centrality: 40<br>Keywords: birthday, humor<br>Sentiment: +80% 00% -20%",
          "Theme: Government and Politics<br>Type: nonbot<br>Confidence: 80%<br>Centrality: 70<br>Keywords: Sharif, Panama Papers, Labor, #aabill<br>Sentiment: +0% 050% -50%",
          "Theme: Religion and Community<br>Type: nonbot<br>Confidence: 60%<br>Centrality: 50<br>Keywords: synagogue, #ShowUpForShabbat<br>Sentiment: +0% 0100% -0%",
          "Theme: News and Media<br>Type: nonbot<br>Confidence: 70%<br>Centrality: 60<br>Keywords: @NicoleOliverio, @erin_carey, @mrasconnews, @7News<br>Sentiment: +0% 0100% -0%",
          "Theme: Social Media and Technology<br>Type: nonbot<br>Confidence: 50%<br>Centrality: 40<br>Keywords: #aabill, #epic<br>Sentiment: +0% 0100% -0%",
          "Theme: Politics and Current Events<br>Type: mixed<br>Confidence: 80%<br>Centrality: 60<br>Keywords: #LabourMustWin, #Orion, NASA, Brexit, Article 50<br>Sentiment: +0% 050% -50%",
          "Theme: Political Commentary and Criticism<br>Type: nonbot<br>Confidence: 96%<br>Centrality: 80<br>Keywords: politics, criticism, leadership, governance, extremism, tribal<br>Sentiment: +0% 020% -80%",
          "Theme: Celebrations and Events<br>Type: nonbot<br>Confidence: 60%<br>Centrality: 40<br>Keywords: #Hindu, #NewYear, #NeasdenTemple, #InternationalWomenDay, #McDonalds<br>Sentiment: +100% 00% -0%",
          "Theme: Politics and Elections<br>Type: nonbot<br>Confidence: 82%<br>Centrality: 90<br>Keywords: election, politics, retain, candidates<br>Sentiment: +40% 030% -30%",
          "Theme: Support and Commendation<br>Type: nonbot<br>Confidence: 85%<br>Centrality: 70<br>Keywords: support, initiative, charity<br>Sentiment: +70% 015% -15%",
          "Theme: Information Sharing and News<br>Type: nonbot<br>Confidence: 60%<br>Centrality: 40<br>Keywords: news, updates, technology<br>Sentiment: +30% 045% -25%",
          "Theme: Valentine's Day and Love<br>Type: nonbot<br>Confidence: 50%<br>Centrality: 20<br>Keywords: love, valentine, celebration<br>Sentiment: +95% 03% -2%",
          "Theme: News<br>Type: nonbot<br>Confidence: 80%<br>Centrality: 68<br>Keywords: #ShoahFdn20, #POTUS<br>Sentiment: +50% 00% -50%",
          "Theme: Celebrity and Public Interest<br>Type: nonbot<br>Confidence: 80%<br>Centrality: 50<br>Keywords: JosefMartinez17, Small Business Boss, Lorrainetapper<br>Sentiment: +60% 040% -0%",
          "Theme: News and Current Events<br>Type: mixed<br>Confidence: 90%<br>Centrality: 20<br>Keywords: #Breaking, Hiroshima<br>Sentiment: +0% 0100% -0%",
          "Theme: Food and Entertainment<br>Type: nonbot<br>Confidence: 60%<br>Centrality: 10<br>Keywords: porchertta sandwich<br>Sentiment: +100% 00% -0%",
          "Theme: Social Issues and Health<br>Type: nonbot<br>Confidence: 50%<br>Centrality: 5<br>Keywords: Generation Z<br>Sentiment: +0% 00% -100%",
          "Theme: Technology and Programming<br>Type: nonbot<br>Confidence: 88%<br>Centrality: 82<br>Keywords: technology, programming, code, design<br>Sentiment: +50% 050% -0%",
          "Theme: Social Media and Events<br>Type: nonbot<br>Confidence: 90%<br>Centrality: 89<br>Keywords: social media, events, engagement, promotions<br>Sentiment: +70% 030% -0%",
          "Theme: Politics and World News<br>Type: nonbot<br>Confidence: 95%<br>Centrality: 93<br>Keywords: politics, government, international, news<br>Sentiment: +0% 0100% -0%",
          "Theme: News and Politics<br>Type: mixed<br>Confidence: 70%<br>Centrality: 50<br>Keywords: #News, #Politics, #Government<br>Sentiment: +0% 060% -40%",
          "Theme: Self-Care and Fitness<br>Type: nonbot<br>Confidence: 75%<br>Centrality: 40<br>Keywords: self-care, fitness, wellness<br>Sentiment: +70% 030% -0%",
          "Theme: Relationships and Love<br>Type: nonbot<br>Confidence: 50%<br>Centrality: 20<br>Keywords: relationships, love, romance<br>Sentiment: +80% 020% -0%",
          "Theme: Politics and Social Issues<br>Type: mixed<br>Confidence: 70%<br>Centrality: 40<br>Keywords: Gun Control, Borderline Bar, MomsDemand, JenniferWexton<br>Sentiment: +50% 00% -50%",
          "Theme: Adversity and Resilience<br>Type: nonbot<br>Confidence: 80%<br>Centrality: 60<br>Keywords: Hurricane Irma, leadership, girls' education<br>Sentiment: +25% 025% -50%",
          "Theme: Canadian Politics and Security<br>Type: nonbot<br>Confidence: 50%<br>Centrality: 40<br>Keywords: Freeland, U.S., security umbrella, client state, military, dnd<br>Sentiment: +0% 0100% -0%",
          "Theme: Social Justice and Activism<br>Type: nonbot<br>Confidence: 80%<br>Centrality: 70<br>Keywords: rights, equality, justice, activism<br>Sentiment: +0% 00% -100%",
          "Theme: Food and Beverage<br>Type: nonbot<br>Confidence: 85%<br>Centrality: 80<br>Keywords: served with, menace which is called Twitter, suga<br>Sentiment: +66% 01% -33%",
          "Theme: Life and Mortality<br>Type: nonbot<br>Confidence: 50%<br>Centrality: 30<br>Keywords: life, mortality, death, transience<br>Sentiment: +20% 080% -0%",
          "Theme: Art and Culture<br>Type: nonbot<br>Confidence: 70%<br>Centrality: 40<br>Keywords: art, culture, visual art, popular culture<br>Sentiment: +30% 050% -20%",
          "Theme: Social Issues<br>Type: nonbot<br>Confidence: 80%<br>Centrality: 60<br>Keywords: social issues, immigration, diversity, social justice<br>Sentiment: +50% 020% -30%",
          "Theme: Racial Issues and Stereotypes<br>Type: nonbot<br>Confidence: 70%<br>Centrality: 60<br>Keywords: black, swim, hair wet<br>Sentiment: +0% 00% -100%",
          "Theme: Celebrity News and Entertainment<br>Type: nonbot<br>Confidence: 80%<br>Centrality: 40<br>Keywords: Kendrick Lamar, Grammy, Performance<br>Sentiment: +100% 00% -0%",
          "Theme: Social Media and Politics<br>Type: nonbot<br>Confidence: 60%<br>Centrality: 20<br>Keywords: MQM, Altaf Hussain<br>Sentiment: +0% 0100% -0%",
          "Theme: TV Shows and Pop Culture<br>Type: nonbot<br>Confidence: 50%<br>Centrality: 10<br>Keywords: Glow, TV show<br>Sentiment: +100% 00% -0%",
          "Theme: Weather Discussion<br>Type: nonbot<br>Confidence: 70%<br>Centrality: 50<br>Keywords: cold, weather<br>Sentiment: +0% 0100% -0%",
          "Theme: Sports and Celebrity<br>Type: nonbot<br>Confidence: 60%<br>Centrality: 40<br>Keywords: NFL, Kirk Cousins<br>Sentiment: +83.33% 00% -16.67%",
          "Theme: Politics and International Relations<br>Type: nonbot<br>Confidence: 80%<br>Centrality: 90<br>Keywords: Russia, indictment<br>Sentiment: +0% 00% -100%",
          "Theme: Tweets are about India<br>Type: nonbot<br>Confidence: 80%<br>Centrality: 80<br>Keywords: India, terrorists<br>Sentiment: +0% 00% -100%",
          "Theme: Politics and News<br>Type: nonbot<br>Confidence: 80%<br>Centrality: 90<br>Keywords: govt, leader, inaction, uneasy, poverty, inequality<br>Sentiment: +0% 00% -100%",
          "Theme: Celebrity and Recognition<br>Type: nonbot<br>Confidence: 89%<br>Centrality: 55<br>Keywords: Meghan, DM, signed copies, Coco, Ted Dabney, passed away<br>Sentiment: +60% 020% -20%",
          "Theme: Politics and Activism<br>Type: mixed<br>Confidence: 80%<br>Centrality: 30<br>Keywords: Report, OIC, EU, human rights, security/surveillance<br>Sentiment: +20% 020% -60%",
          "Theme: Travel and Exploration<br>Type: nonbot<br>Confidence: 60%<br>Centrality: 20<br>Keywords: Canada, tour<br>Sentiment: +40% 040% -20%",
          "Theme: Writing and Literature<br>Type: nonbot<br>Confidence: 50%<br>Centrality: 10<br>Keywords: book, author<br>Sentiment: +20% 060% -20%",
          "Theme: Discontent and Criticism<br>Type: nonbot<br>Confidence: 90%<br>Centrality: 80<br>Keywords: PMLN, PTI, inauguration, wasted, @bluesatch, @plantbasedcaleb, truth<br>Sentiment: +0% 00% -100%",
          "Theme: Pop Culture<br>Type: nonbot<br>Confidence: 80%<br>Centrality: 60<br>Keywords: Malcolm in the Middle, Witty repartee, Social media<br>Sentiment: +40% 040% -20%",
          "Theme: Environmental Conservation<br>Type: nonbot<br>Confidence: 90%<br>Centrality: 80<br>Keywords: Gambila river bed plantation, Billion tree tsunami<br>Sentiment: +100% 00% -0%",
          "Theme: Current Events<br>Type: mixed<br>Confidence: 85%<br>Centrality: 70<br>Keywords: Question period in the House of Commons, Violence reduction, Crime<br>Sentiment: +0% 020% -80%",
          "Theme: Personal Interactions<br>Type: mixed<br>Confidence: 75%<br>Centrality: 50<br>Keywords: Social media, Witty repartee, Thanks, Elizabeth<br>Sentiment: +60% 030% -10%",
          "Theme: Entertainment and Leisure<br>Type: nonbot<br>Confidence: 70%<br>Centrality: 40<br>Keywords: Hoodrich, Djscream<br>Sentiment: +80% 010% -10%",
          "Theme: Mental Health and Wellness<br>Type: nonbot<br>Confidence: 65%<br>Centrality: 35<br>Keywords: Sigh, \\xf0\\x9f\\xa4\\xa6\\xe2\\x80\\x8d\\xe2\\x99\\x82\\xef\\xb8\\x8f<br>Sentiment: +20% 030% -50%",
          "Theme: Celebrity and Royalty<br>Type: nonbot<br>Confidence: 60%<br>Centrality: 30<br>Keywords: My King and Queen of October<br>Sentiment: +90% 05% -5%",
          "Theme: Social Media and Online Presence<br>Type: nonbot<br>Confidence: 80%<br>Centrality: 60<br>Keywords: streaming, website, listen, thankful, gratitude, criticism, opinion<br>Sentiment: +60% 020% -20%",
          "Theme: Humor and Satire<br>Type: mixed<br>Confidence: 60%<br>Centrality: 40<br>Keywords: puntastic, KathyLette, book, Rookie, Georgia classroom<br>Sentiment: +40% 020% -40%",
          "Theme: Personal Reflection and Advice<br>Type: nonbot<br>Confidence: 50%<br>Centrality: 30<br>Keywords: project, funded, luck, Rookie, Georgia classroom<br>Sentiment: +30% 030% -40%",
          "Theme: Social Justice and Empowerment<br>Type: nonbot<br>Confidence: 87%<br>Centrality: 85<br>Keywords: guncontrol, women, respect<br>Sentiment: +40% 030% -30%",
          "Theme: Economic Concerns<br>Type: nonbot<br>Confidence: 78%<br>Centrality: 80<br>Keywords: economy, Pakistan<br>Sentiment: +20% 030% -50%",
          "Theme: Transportation and Infrastructure<br>Type: nonbot<br>Confidence: 85%<br>Centrality: 70<br>Keywords: <br>Sentiment: +0% 00% -0%",
          "Theme: Education and Research<br>Type: nonbot<br>Confidence: 80%<br>Centrality: 60<br>Keywords: <br>Sentiment: +0% 00% -0%",
          "Theme: Reading and Books<br>Type: nonbot<br>Confidence: 75%<br>Centrality: 50<br>Keywords: <br>Sentiment: +0% 00% -0%",
          "Theme: Weather and Seasonal Activities<br>Type: nonbot<br>Confidence: 70%<br>Centrality: 40<br>Keywords: <br>Sentiment: +0% 00% -0%",
          "Theme: Politics and Social Commentary<br>Type: mixed<br>Confidence: 65%<br>Centrality: 30<br>Keywords: <br>Sentiment: +0% 00% -0%",
          "Theme: Funding and Crowdfunding<br>Type: nonbot<br>Confidence: 55%<br>Centrality: 10<br>Keywords: <br>Sentiment: +0% 00% -0%",
          "Theme: Pop Culture and Memes<br>Type: nonbot<br>Confidence: 50%<br>Centrality: 5<br>Keywords: <br>Sentiment: +0% 00% -0%",
          "Theme: Celebrity and Cultural News<br>Type: nonbot<br>Confidence: 80%<br>Centrality: 40<br>Keywords: celebrity, culture, news, awards, recognition, humor, pop culture, social commentary, memorials, tributes, personal interactions<br>Sentiment: +60% 040% -0%",
          "Theme: Personal and Lighthearted<br>Type: nonbot<br>Confidence: 50%<br>Centrality: 20<br>Keywords: personal, lighthearted, birthday wishes, personal interactions<br>Sentiment: +100% 00% -0%",
          "Theme: Personal Stories and Humor<br>Type: nonbot<br>Confidence: 60%<br>Centrality: 50<br>Keywords: vast conspiracy, keys, happy birthday, @jane_ottesen, caroline<br>Sentiment: +50% 025% -25%",
          "Theme: Entertainment and Book Reviews<br>Type: nonbot<br>Confidence: 85%<br>Centrality: 80<br>Keywords: ThePerfectGirl, @GillyMacmillan, @KendallJenner, @Jaspritbumrah93, @traffic_jpr<br>Sentiment: +50% 050% -0%",
          "Theme: Social and Cultural<br>Type: nonbot<br>Confidence: 80%<br>Centrality: 80<br>Keywords: London, celebrate, diversity<br>Sentiment: +75% 025% -0%",
          "Theme: Celebrity and Entertainment News<br>Type: mixed<br>Confidence: 80%<br>Centrality: 60<br>Keywords: Bob Greenfield, Leary, Garcia, Bill Graham, TheBachelorette, RachLindsay, EyesOnYou, sdcountylibrary, CountryMusic, NRA<br>Sentiment: +40% 060% -0%",
          "Theme: Gardening<br>Type: nonbot<br>Confidence: 82%<br>Centrality: 80<br>Keywords: bulbs, whiter, disco<br>Sentiment: +0% 0100% -0%",
          "Theme: Hall and Oates<br>Type: nonbot<br>Confidence: 70%<br>Centrality: 60<br>Keywords: Hall, Oates, 80s, Kirstie Alley, John Travolta<br>Sentiment: +100% 00% -0%",
          "Theme: Entertainment and Pop Culture<br>Type: nonbot<br>Confidence: 80%<br>Centrality: 60<br>Keywords: Bizarre Explainer, Jojo\\u2019s, Wilderness, Queen<br>Sentiment: +40% 040% -20%",
          "Theme: Workplace Culture and Management<br>Type: nonbot<br>Confidence: 80%<br>Centrality: 85<br>Keywords: workplace, culture, management, expectations, dialogue<br>Sentiment: +80% 00% -20%",
          "Theme: Pakistan-Kashmir Relations<br>Type: nonbot<br>Confidence: 80%<br>Centrality: 60<br>Keywords: #Pakistan, #KashmirBlackDay<br>Sentiment: +66.67% 033.33% -0%",
          "Theme: Financial and Economic Issues<br>Type: nonbot<br>Confidence: 91%<br>Centrality: 85<br>Keywords: taxation, government, investment, technology, ethereum, GST<br>Sentiment: +0% 010% -90%",
          "Theme: Entertainment and Social Media<br>Type: nonbot<br>Confidence: 85%<br>Centrality: 78<br>Keywords: celebrity, social media, TV show, mental health<br>Sentiment: +80% 020% -0%",
          "Theme: Technology and Futurism<br>Type: nonbot<br>Confidence: 75%<br>Centrality: 60<br>Keywords: tech future, blockchain, ethereum, innovation<br>Sentiment: +0% 0100% -0%",
          "Theme: Miscellaneous and Product Development<br>Type: nonbot<br>Confidence: 70%<br>Centrality: 40<br>Keywords: product development, innovation, reaction, feedback<br>Sentiment: +0% 0100% -0%",
          "Theme: Miscellaneous and Event Promotion<br>Type: nonbot<br>Confidence: 65%<br>Centrality: 35<br>Keywords: event promotion, social media, reaction, curiosity<br>Sentiment: +20% 080% -0%",
          "Theme: Miscellaneous and Help Request<br>Type: nonbot<br>Confidence: 60%<br>Centrality: 25<br>Keywords: help request, social media, reaction, confusion<br>Sentiment: +0% 0100% -0%",
          "Theme: Miscellaneous and Miscellaneous<br>Type: nonbot<br>Confidence: 55%<br>Centrality: 15<br>Keywords: miscellaneous, social media, reaction, confusion<br>Sentiment: +0% 0100% -0%",
          "Theme: Miscellaneous and Unclassified<br>Type: nonbot<br>Confidence: 50%<br>Centrality: 0<br>Keywords: unclassified, social media, reaction, confusion<br>Sentiment: +0% 0100% -0%",
          "Theme: Cultural Trends and Observations<br>Type: nonbot<br>Confidence: 80%<br>Centrality: 85<br>Keywords: netflix, maniacnetflix, bldgblog, drjudymelinek, kourtneykardash<br>Sentiment: +60% 020% -20%",
          "Theme: General Lifestyle and Updates<br>Type: nonbot<br>Confidence: 86%<br>Centrality: 60<br>Keywords: morning routine, RobAndChyna, KUWTK, Ghana, Lexington, refugee families<br>Sentiment: +0% 090% -10%",
          "Theme: Positive Emotions and Appreciation<br>Type: nonbot<br>Confidence: 80%<br>Centrality: 60<br>Keywords: thanks, wonderful, Survivor, new season<br>Sentiment: +80% 020% -0%",
          "Theme: Information Sharing and Discussion<br>Type: nonbot<br>Confidence: 70%<br>Centrality: 40<br>Keywords: Survivor, missing, Chinese food, venue, advice<br>Sentiment: +20% 080% -0%",
          "Theme: Concern and Awareness<br>Type: nonbot<br>Confidence: 60%<br>Centrality: 20<br>Keywords: missing, missing person, colonial spelling, lady lawyer<br>Sentiment: +0% 080% -20%",
          "Theme: Celebrity Culture and Awards<br>Type: nonbot<br>Confidence: 80%<br>Centrality: 60<br>Keywords: Grammies, Gramophone Awards, Celebrities, Influence<br>Sentiment: +0% 0100% -0%",
          "Theme: Personal Interests and Relationships<br>Type: nonbot<br>Confidence: 85%<br>Centrality: 65<br>Keywords: Relationships, Breakups, Personal growth, Self-improvement<br>Sentiment: +100% 00% -0%",
          "Theme: Entertainment and Music<br>Type: nonbot<br>Confidence: 80%<br>Centrality: 60<br>Keywords: WayOverYonder_, @HappyWoman9, @MosesSumney, @localnatives, #sochi2014, #gold, #Bardot, @XiaXiaTechnique, @BIRDZONE_<br>Sentiment: +50% 030% -20%",
          "Theme: Celebrity and Culture<br>Type: nonbot<br>Confidence: 80%<br>Centrality: 70<br>Keywords: @D_Towsey, @K_Stansfield, Tyler Keevil, Words&amp; Festival<br>Sentiment: +50% 050% -0%",
          "Theme: Canadian Politics<br>Type: nonbot<br>Confidence: 80%<br>Centrality: 60<br>Keywords: Pelosi, speaker, CDP, party leadership<br>Sentiment: +0% 025% -75%",
          "Theme: Congressional Interns<br>Type: nonbot<br>Confidence: 50%<br>Centrality: 50<br>Keywords: Congress, interns, wage<br>Sentiment: +50% 050% -0%",
          "Theme: Event<br>Type: nonbot<br>Confidence: 50%<br>Centrality: 50<br>Keywords: event, promotion, tickets<br>Sentiment: +50% 050% -0%",
          "Theme: Congressional News<br>Type: nonbot<br>Confidence: 50%<br>Centrality: 50<br>Keywords: Congress, reports, news<br>Sentiment: +25% 075% -0%",
          "Theme: Empowerment and Personal Growth<br>Type: nonbot<br>Confidence: 85%<br>Centrality: 90<br>Keywords: Empowerment, Tomorrow, Belief<br>Sentiment: +80% 010% -10%",
          "Theme: Social Commentary and Criticism<br>Type: nonbot<br>Confidence: 80%<br>Centrality: 85<br>Keywords: Hate, Shameful<br>Sentiment: +10% 010% -80%",
          "Theme: Humor and Leisure<br>Type: nonbot<br>Confidence: 70%<br>Centrality: 80<br>Keywords: Entertainment, Animal<br>Sentiment: +90% 05% -5%",
          "Theme: Social and Cultural Issues<br>Type: nonbot<br>Confidence: 80%<br>Centrality: 60<br>Keywords: forced, cuts, labor, peanut butter, fashion, charity, cannes<br>Sentiment: +30% 030% -40%",
          "Theme: Business and Entrepreneurship<br>Type: mixed<br>Confidence: 80%<br>Centrality: 70<br>Keywords: business, entrepreneurship, opening<br>Sentiment: +60% 020% -20%",
          "Theme: Technology and Online Presence<br>Type: nonbot<br>Confidence: 85%<br>Centrality: 85<br>Keywords: technology, online presence, revenue<br>Sentiment: +50% 030% -20%",
          "Theme: General Interest and Lifestyle<br>Type: nonbot<br>Confidence: 80%<br>Centrality: 80<br>Keywords: general interest, lifestyle, food<br>Sentiment: +60% 020% -20%",
          "Theme: Social Media and Online Culture<br>Type: nonbot<br>Confidence: 70%<br>Centrality: 50<br>Keywords: Twitter, Social media<br>Sentiment: +40% 040% -20%",
          "Theme: Daily Life and Observations<br>Type: nonbot<br>Confidence: 60%<br>Centrality: 40<br>Keywords: diner, Maine, trip<br>Sentiment: +30% 030% -40%",
          "Theme: Personal and Inspirational<br>Type: nonbot<br>Confidence: 50%<br>Centrality: 45<br>Keywords: inspiration, motivation<br>Sentiment: +80% 015% -5%",
          "Theme: Entertainment and Humor<br>Type: nonbot<br>Confidence: 90%<br>Centrality: 40<br>Keywords: internet, memes, jokes<br>Sentiment: +90% 05% -5%",
          "Theme: Sports and Cricket<br>Type: nonbot<br>Confidence: 70%<br>Centrality: 20<br>Keywords: cricket, match, news<br>Sentiment: +70% 010% -20%",
          "Theme: Small Business<br>Type: nonbot<br>Confidence: 87%<br>Centrality: 80<br>Keywords: Small Business, Small Business Boss, Site<br>Sentiment: +0% 0100% -0%",
          "Theme: Event/Incident<br>Type: nonbot<br>Confidence: 63%<br>Centrality: 40<br>Keywords: Bar, Firing, Black<br>Sentiment: +0% 050% -50%",
          "Theme: Personal/Relationship<br>Type: nonbot<br>Confidence: 53%<br>Centrality: 30<br>Keywords: Family, Love, Brilliant<br>Sentiment: +100% 00% -0%",
          "Theme: Positive Social Impact<br>Type: nonbot<br>Confidence: 85%<br>Centrality: 80<br>Keywords: media, power, boon, BDS, Theresa May, DANCE WITH YOU, gangster chic<br>Sentiment: +60% 020% -20%",
          "Theme: Entertainment and Celebrity News<br>Type: nonbot<br>Confidence: 75%<br>Centrality: 70<br>Keywords: DANCE WITH YOU, gangster chic, BAFTA, Theresa May<br>Sentiment: +0% 060% -40%",
          "Theme: Breaking News<br>Type: nonbot<br>Confidence: 90%<br>Centrality: 90<br>Keywords: Cosby, BDS<br>Sentiment: +0% 040% -60%",
          "Theme: Human Rights and Social Justice<br>Type: nonbot<br>Confidence: 80%<br>Centrality: 85<br>Keywords: Human Rights, Activists, Silencing, India, Holocaust, Education<br>Sentiment: +30% 020% -50%",
          "Theme: Australia's Politics and Infrastructure<br>Type: nonbot<br>Confidence: 72%<br>Centrality: 80<br>Keywords: #aabill, dinosaur tech illiterates, Australia<br>Sentiment: +0% 067% -33%",
          "Theme: Social Responsibility and Community<br>Type: nonbot<br>Confidence: 86%<br>Centrality: 85<br>Keywords: vulnerable, Republic Day, Jai Ho<br>Sentiment: +50% 050% -0%",
          "Theme: Personal and Social Life<br>Type: nonbot<br>Confidence: 69%<br>Centrality: 72<br>Keywords: party<br>Sentiment: +100% 00% -0%",
          "Theme: Infrastructure and Public Safety<br>Type: nonbot<br>Confidence: 83%<br>Centrality: 89<br>Keywords: infrastructure stability, safety measures<br>Sentiment: +0% 067% -33%",
          "Theme: Social Awareness and Activism<br>Type: mixed<br>Confidence: 80%<br>Centrality: 70<br>Keywords: rape, justice, love, family<br>Sentiment: +33% 033% -33%",
          "Theme: Cultural Expression and Appreciation<br>Type: nonbot<br>Confidence: 60%<br>Centrality: 40<br>Keywords: art, creativity<br>Sentiment: +0% 0100% -0%",
          "Theme: Politics/Current Events<br>Type: nonbot<br>Confidence: 50%<br>Centrality: 40<br>Keywords: Republic Day, Jai Ho, Canadian govt<br>Sentiment: +20% 080% -0%",
          "Theme: Arts and Culture<br>Type: nonbot<br>Confidence: 85%<br>Centrality: 60<br>Keywords: #RaleighArtBeats, @RaleighArts, Britt Flood<br>Sentiment: +100% 00% -0%",
          "Theme: Community and Events<br>Type: nonbot<br>Confidence: 80%<br>Centrality: 70<br>Keywords: #SundayService, #KDX<br>Sentiment: +100% 00% -0%",
          "Theme: Social Media and Connectivity<br>Type: nonbot<br>Confidence: 75%<br>Centrality: 50<br>Keywords: @RaleighArts, @JosieEnefer8<br>Sentiment: +100% 00% -0%",
          "Theme: Violence Prevention<br>Type: nonbot<br>Confidence: 55%<br>Centrality: 30<br>Keywords: Londoners, Mayor<br>Sentiment: +0% 0100% -0%",
          "Theme: Motivational/ Inspirational<br>Type: nonbot<br>Confidence: 70%<br>Centrality: 80<br>Keywords: heart, strength, thank, keep<br>Sentiment: +75% 025% -0%",
          "Theme: Personal Development and Career Growth<br>Type: nonbot<br>Confidence: 80%<br>Centrality: 70<br>Keywords: personalbranding, career, choices<br>Sentiment: +66.67% 033.33% -0%",
          "Theme: Cultural and Social Issues<br>Type: nonbot<br>Confidence: 80%<br>Centrality: 60<br>Keywords: rap, society, music, celebrity, culture, media, justice, activism, change, humor, satire, commentary<br>Sentiment: +20% 080% -0%",
          "Theme: Food and Dining<br>Type: nonbot<br>Confidence: 100%<br>Centrality: 20<br>Keywords: Brick & Fire, wood fire pizza<br>Sentiment: +100% 00% -0%",
          "Theme: Technology and Manufacturing<br>Type: nonbot<br>Confidence: 100%<br>Centrality: 20<br>Keywords: 3D-Printed metal, manufacturing<br>Sentiment: +0% 0100% -0%",
          "Theme: Parenting and Family<br>Type: nonbot<br>Confidence: 90%<br>Centrality: 15<br>Keywords: parenting, unconditional love<br>Sentiment: +100% 00% -0%",
          "Theme: Social Issues and Politics<br>Type: nonbot<br>Confidence: 90%<br>Centrality: 15<br>Keywords: Roy Moore, Snowden, Candor with the Chinese<br>Sentiment: +60% 020% -20%",
          "Theme: Relationships and Pets<br>Type: nonbot<br>Confidence: 80%<br>Centrality: 10<br>Keywords: boyfriend, dog, Slash<br>Sentiment: +0% 0100% -0%",
          "Theme: Community and Social Issues<br>Type: nonbot<br>Confidence: 80%<br>Centrality: 60<br>Keywords: community, social, issues<br>Sentiment: +25% 025% -50%",
          "Theme: Travel and Adventure<br>Type: nonbot<br>Confidence: 60%<br>Centrality: 10<br>Keywords: travel, adventure, exploration<br>Sentiment: +90% 010% -0%",
          "Theme: Celebrations<br>Type: nonbot<br>Confidence: 100%<br>Centrality: 85<br>Keywords: birthday, friend, celebrating, shining example<br>Sentiment: +85% 015% -0%",
          "Theme: Disappointment and Frustration<br>Type: nonbot<br>Confidence: 70%<br>Centrality: 60<br>Keywords: delayed, order, plans, inflexibility, kendricklamar, damm<br>Sentiment: +0% 020% -80%",
          "Theme: European Union Politics<br>Type: nonbot<br>Confidence: 98%<br>Centrality: 80<br>Keywords: EU, Brexit, leave, currency<br>Sentiment: +0% 00% -100%",
          "Theme: Personal Relationships and Interactions<br>Type: nonbot<br>Confidence: 80%<br>Centrality: 60<br>Keywords: thanks, check, out, appreciate<br>Sentiment: +100% 00% -0%",
          "Theme: Entertainment and Lifestyle<br>Type: nonbot<br>Confidence: 75%<br>Centrality: 40<br>Keywords: music, funky, banger, caribbean, nassau, roatan<br>Sentiment: +100% 00% -0%",
          "Theme: Productivity and Technology<br>Type: nonbot<br>Confidence: 60%<br>Centrality: 10<br>Keywords: bot, automation<br>Sentiment: +100% 00% -0%",
          "Theme: Immigration and Refugees<br>Type: nonbot<br>Confidence: 75%<br>Centrality: 40<br>Keywords: #NewcomersWelcome, #WelcomeToCanada, #RefugeesWelcome, #privatesponsorship<br>Sentiment: +75% 025% -0%",
          "Theme: Terrorism and Conflict<br>Type: nonbot<br>Confidence: 55%<br>Centrality: 20<br>Keywords: terror attack, precious lives<br>Sentiment: +0% 00% -100%",
          "Theme: Secrets and Personal Information<br>Type: nonbot<br>Confidence: 80%<br>Centrality: 60<br>Keywords: secret, spill, confidential, boundaries<br>Sentiment: +0% 00% -100%",
          "Theme: Social Cause and Charity<br>Type: nonbot<br>Confidence: 80%<br>Centrality: 40<br>Keywords: #WAKEUPCALL, #UNICEF, #SwatMotorway<br>Sentiment: +60% 020% -20%",
          "Theme: Personal Life and Experiences<br>Type: nonbot<br>Confidence: 60%<br>Centrality: 30<br>Keywords: #whatgoesup<br>Sentiment: +40% 040% -20%",
          "Theme: Communication and Technology<br>Type: nonbot<br>Confidence: 50%<br>Centrality: 20<br>Keywords: #blockednumbers, #visiontech<br>Sentiment: +40% 030% -30%"
         ],
         "marker": {
          "color": [
           "rgb(50,100,255)",
           "rgb(128,0,128)",
           "rgb(143,100,255)",
           "rgb(128,0,128)",
           "rgb(50,100,255)",
           "rgb(128,0,128)",
           "rgb(128,0,128)",
           "rgb(127,100,255)",
           "rgb(50,100,255)",
           "rgb(50,100,255)",
           "rgb(50,100,255)",
           "rgb(112,100,255)",
           "rgb(50,100,255)",
           "rgb(81,100,255)",
           "rgb(50,100,255)",
           "rgb(128,0,128)",
           "rgb(50,100,255)",
           "rgb(50,100,255)",
           "rgb(153,100,255)",
           "rgb(179,100,255)",
           "rgb(153,100,255)",
           "rgb(127,100,255)",
           "rgb(112,100,255)",
           "rgb(96,100,255)",
           "rgb(143,100,255)",
           "rgb(50,100,255)",
           "rgb(127,100,255)",
           "rgb(50,100,255)",
           "rgb(81,100,255)",
           "rgb(50,100,255)",
           "rgb(112,100,255)",
           "rgb(112,100,255)",
           "rgb(50,100,255)",
           "rgb(128,0,128)",
           "rgb(50,100,255)",
           "rgb(205,100,255)",
           "rgb(88,100,255)",
           "rgb(128,0,128)",
           "rgb(84,100,255)",
           "rgb(50,100,255)",
           "rgb(50,100,255)",
           "rgb(166,100,255)",
           "rgb(50,100,255)",
           "rgb(205,100,255)",
           "rgb(158,100,255)",
           "rgb(189,100,255)",
           "rgb(112,100,255)",
           "rgb(143,100,255)",
           "rgb(112,100,255)",
           "rgb(96,100,255)",
           "rgb(127,100,255)",
           "rgb(128,0,128)",
           "rgb(127,100,255)",
           "rgb(112,100,255)",
           "rgb(143,100,255)",
           "rgb(127,100,255)",
           "rgb(50,100,255)",
           "rgb(112,100,255)",
           "rgb(128,0,128)",
           "rgb(50,100,255)",
           "rgb(153,100,255)",
           "rgb(153,100,255)",
           "rgb(128,0,128)",
           "rgb(128,0,128)",
           "rgb(50,100,255)",
           "rgb(128,0,128)",
           "rgb(50,100,255)",
           "rgb(50,100,255)",
           "rgb(101,100,255)",
           "rgb(205,100,255)",
           "rgb(128,0,128)",
           "rgb(128,0,128)",
           "rgb(112,100,255)",
           "rgb(81,100,255)",
           "rgb(50,100,255)",
           "rgb(50,100,255)",
           "rgb(128,0,128)",
           "rgb(50,100,255)",
           "rgb(128,0,128)",
           "rgb(181,100,255)",
           "rgb(127,100,255)",
           "rgb(50,100,255)",
           "rgb(205,100,255)",
           "rgb(205,100,255)",
           "rgb(50,100,255)",
           "rgb(81,100,255)",
           "rgb(81,100,255)",
           "rgb(96,100,255)",
           "rgb(128,0,128)",
           "rgb(81,100,255)",
           "rgb(81,100,255)",
           "rgb(128,0,128)",
           "rgb(128,0,128)",
           "rgb(50,100,255)",
           "rgb(112,100,255)",
           "rgb(50,100,255)",
           "rgb(128,0,128)",
           "rgb(50,100,255)",
           "rgb(205,100,255)",
           "rgb(128,0,128)",
           "rgb(127,100,255)",
           "rgb(255,50,100)",
           "rgb(128,0,128)",
           "rgb(255,205,100)",
           "rgb(255,205,100)",
           "rgb(255,50,100)",
           "rgb(128,0,128)",
           "rgb(255,50,100)",
           "rgb(255,65,100)",
           "rgb(128,0,128)",
           "rgb(255,205,100)",
           "rgb(255,50,100)",
           "rgb(128,0,128)",
           "rgb(128,0,128)",
           "rgb(128,0,128)",
           "rgb(255,50,100)",
           "rgb(255,50,100)",
           "rgb(255,205,100)",
           "rgb(255,178,100)",
           "rgb(255,153,100)",
           "rgb(255,143,100)",
           "rgb(255,160,100)",
           "rgb(255,181,100)",
           "rgb(255,158,100)",
           "rgb(128,0,128)",
           "rgb(128,0,128)",
           "rgb(255,50,100)",
           "rgb(255,205,100)",
           "rgb(255,50,100)",
           "rgb(255,96,100)",
           "rgb(128,0,128)",
           "rgb(255,112,100)",
           "rgb(255,127,100)",
           "rgb(255,112,100)",
           "rgb(255,174,100)",
           "rgb(255,205,100)",
           "rgb(128,0,128)",
           "rgb(255,205,100)",
           "rgb(255,112,100)",
           "rgb(255,127,100)",
           "rgb(255,96,100)",
           "rgb(128,0,128)",
           "rgb(255,205,100)",
           "rgb(128,0,128)",
           "rgb(255,205,100)",
           "rgb(255,112,100)",
           "rgb(255,127,100)",
           "rgb(255,112,100)",
           "rgb(255,50,100)",
           "rgb(255,174,100)",
           "rgb(255,50,100)",
           "rgb(255,50,100)",
           "rgb(255,112,100)",
           "rgb(255,174,100)",
           "rgb(255,50,100)",
           "rgb(255,50,100)",
           "rgb(255,50,100)",
           "rgb(255,50,100)",
           "rgb(128,0,128)",
           "rgb(255,50,100)",
           "rgb(255,205,100)",
           "rgb(255,112,100)",
           "rgb(255,158,100)",
           "rgb(255,96,100)",
           "rgb(255,197,100)",
           "rgb(255,127,100)",
           "rgb(255,143,100)",
           "rgb(128,0,128)",
           "rgb(255,205,100)",
           "rgb(255,50,100)",
           "rgb(255,127,100)",
           "rgb(255,158,100)",
           "rgb(255,50,100)",
           "rgb(128,0,128)",
           "rgb(255,158,100)",
           "rgb(255,174,100)",
           "rgb(128,0,128)",
           "rgb(255,88,100)",
           "rgb(255,50,100)",
           "rgb(255,50,100)",
           "rgb(255,152,100)",
           "rgb(255,81,100)",
           "rgb(255,96,100)",
           "rgb(255,127,100)",
           "rgb(255,50,100)",
           "rgb(255,205,100)",
           "rgb(255,50,100)",
           "rgb(255,205,100)",
           "rgb(255,50,100)",
           "rgb(255,179,100)",
           "rgb(255,50,100)",
           "rgb(255,50,100)",
           "rgb(255,50,100)",
           "rgb(255,143,100)",
           "rgb(128,0,128)",
           "rgb(255,112,100)",
           "rgb(255,81,100)",
           "rgb(255,50,100)",
           "rgb(255,112,100)",
           "rgb(255,205,100)",
           "rgb(128,0,128)",
           "rgb(128,0,128)",
           "rgb(255,174,100)",
           "rgb(255,81,100)",
           "rgb(255,189,100)",
           "rgb(255,143,100)",
           "rgb(128,0,128)",
           "rgb(255,96,100)",
           "rgb(255,112,100)",
           "rgb(255,81,100)",
           "rgb(255,50,100)",
           "rgb(255,50,100)",
           "rgb(255,50,100)",
           "rgb(255,50,100)",
           "rgb(128,0,128)",
           "rgb(255,50,100)",
           "rgb(255,50,100)",
           "rgb(255,143,100)",
           "rgb(255,205,100)",
           "rgb(255,127,100)",
           "rgb(255,127,100)",
           "rgb(255,166,100)",
           "rgb(128,0,128)",
           "rgb(255,50,100)",
           "rgb(255,205,100)",
           "rgb(255,112,100)",
           "rgb(255,174,100)",
           "rgb(255,153,100)",
           "rgb(255,50,100)",
           "rgb(255,174,100)",
           "rgb(255,50,100)",
           "rgb(255,50,100)",
           "rgb(255,81,100)",
           "rgb(255,50,100)",
           "rgb(255,50,100)",
           "rgb(255,50,100)",
           "rgb(255,143,100)",
           "rgb(255,50,100)",
           "rgb(255,174,100)",
           "rgb(255,81,100)",
           "rgb(255,50,100)",
           "rgb(255,50,100)",
           "rgb(255,205,100)",
           "rgb(255,127,100)",
           "rgb(255,127,100)",
           "rgb(255,50,100)",
           "rgb(255,127,100)",
           "rgb(255,127,100)",
           "rgb(255,88,100)",
           "rgb(255,174,100)",
           "rgb(255,65,100)",
           "rgb(255,189,100)",
           "rgb(255,96,100)",
           "rgb(128,0,128)",
           "rgb(255,127,100)",
           "rgb(255,143,100)",
           "rgb(255,112,100)",
           "rgb(255,96,100)",
           "rgb(255,174,100)",
           "rgb(255,189,100)",
           "rgb(255,158,100)",
           "rgb(255,50,100)",
           "rgb(255,50,100)",
           "rgb(255,205,100)",
           "rgb(255,143,100)",
           "rgb(255,50,100)",
           "rgb(255,50,100)",
           "rgb(255,96,100)",
           "rgb(255,50,100)",
           "rgb(255,127,100)",
           "rgb(255,205,100)",
           "rgb(255,50,100)",
           "rgb(128,0,128)",
           "rgb(255,50,100)",
           "rgb(255,81,100)",
           "rgb(255,205,100)",
           "rgb(255,205,100)",
           "rgb(255,205,100)",
           "rgb(255,50,100)",
           "rgb(255,166,100)",
           "rgb(255,153,100)",
           "rgb(255,81,100)",
           "rgb(255,205,100)",
           "rgb(255,50,100)",
           "rgb(255,205,100)",
           "rgb(255,143,100)",
           "rgb(255,50,100)",
           "rgb(255,88,100)",
           "rgb(255,189,100)",
           "rgb(255,181,100)",
           "rgb(255,50,100)",
           "rgb(255,50,100)",
           "rgb(255,205,100)",
           "rgb(255,205,100)",
           "rgb(255,205,100)",
           "rgb(255,166,100)",
           "rgb(255,50,100)",
           "rgb(255,50,100)",
           "rgb(255,143,100)",
           "rgb(255,112,100)",
           "rgb(255,112,100)"
          ],
          "line": {
           "color": "DarkSlateGrey",
           "width": 1
          },
          "size": [
           49.81578947368421,
           47.05263157894737,
           43.21052631578947,
           38.94736842105263,
           36.60526315789474,
           42.421052631578945,
           37.31578947368421,
           34.31578947368421,
           29.210526315789473,
           36.421052631578945,
           44.526315789473685,
           37.31578947368421,
           29.210526315789473,
           32.21052631578947,
           48.73684210526316,
           31.315789473684212,
           36.421052631578945,
           43.631578947368425,
           46.631578947368425,
           41.526315789473685,
           36.421052631578945,
           31.315789473684212,
           52.34210526315789,
           43.631578947368425,
           38.526315789473685,
           46.631578947368425,
           48.73684210526316,
           33.421052631578945,
           29.210526315789473,
           36.421052631578945,
           53.84210526315789,
           53.84210526315789,
           46.631578947368425,
           32.21052631578947,
           44.56842105263158,
           48.652631578947364,
           52.34210526315789,
           50.23684210526316,
           47.84210526315789,
           39.131578947368425,
           51.89473684210526,
           36.421052631578945,
           46.631578947368425,
           39.421052631578945,
           39.578947368421055,
           49.18421052631579,
           49.473684210526315,
           53.66315789473684,
           49.78947368421053,
           54.89473684210526,
           51.921052631578945,
           49.15789473684211,
           52.34210526315789,
           49.78947368421053,
           49.15789473684211,
           52.34210526315789,
           51.89473684210526,
           48.73684210526316,
           55.76842105263158,
           53.242105263157896,
           48.89473684210526,
           43.921052631578945,
           46.631578947368425,
           36.421052631578945,
           48.73684210526316,
           40.631578947368425,
           35.526315789473685,
           42.421052631578945,
           44.526315789473685,
           34.31578947368421,
           47.526315789473685,
           33.10526315789474,
           42.71052631578947,
           38.21052631578947,
           43.631578947368425,
           51.89473684210526,
           49.34210526315789,
           56.84210526315789,
           29.210526315789473,
           46.631578947368425,
           48.73684210526316,
           44.526315789473685,
           37.31578947368421,
           32.21052631578947,
           54.44736842105263,
           51.89473684210526,
           48.73684210526316,
           38.526315789473685,
           48.73684210526316,
           41.078947368421055,
           32.21052631578947,
           42.421052631578945,
           37.31578947368421,
           27.105263157894736,
           29.210526315789473,
           31.315789473684212,
           44.526315789473685,
           33.421052631578945,
           48.73684210526316,
           46.631578947368425,
           41.84210526315789,
           46.631578947368425,
           39.421052631578945,
           32.21052631578947,
           27.105263157894736,
           27.105263157894736,
           48.131578947368425,
           42.421052631578945,
           38.81578947368421,
           51.89473684210526,
           43.78947368421053,
           57,
           57.868421052631575,
           52.82105263157895,
           48.10526315789474,
           54.473684210526315,
           48.73684210526316,
           54.89473684210526,
           57.868421052631575,
           54.473684210526315,
           43.631578947368425,
           57.294736842105266,
           53.84210526315789,
           47.68421052631579,
           45.131578947368425,
           39.578947368421055,
           44.526315789473685,
           55.94736842105263,
           34.31578947368421,
           48.73684210526316,
           52.34210526315789,
           45.131578947368425,
           40.026315789473685,
           36.421052631578945,
           48.73684210526316,
           48.73684210526316,
           31.315789473684212,
           52.34210526315789,
           46.631578947368425,
           39.421052631578945,
           34.31578947368421,
           29.210526315789473,
           53.84210526315789,
           48.131578947368425,
           39.421052631578945,
           32.21052631578947,
           27.105263157894736,
           27.105263157894736,
           46.631578947368425,
           39.421052631578945,
           34.31578947368421,
           29.210526315789473,
           46.631578947368425,
           33.421052631578945,
           48.73684210526316,
           38.526315789473685,
           43.631578947368425,
           33.421052631578945,
           46.631578947368425,
           55.64210526315789,
           36.421052631578945,
           53.547368421052624,
           50.23684210526316,
           36.421052631578945,
           29.210526315789473,
           48.31578947368421,
           44.526315789473685,
           41.21052631578947,
           30.105263157894736,
           26.05263157894737,
           53.66315789473684,
           55.73684210526316,
           58.078947368421055,
           41.526315789473685,
           40.921052631578945,
           29.210526315789473,
           39.421052631578945,
           46.631578947368425,
           33.421052631578945,
           48.73684210526316,
           52.34210526315789,
           31.315789473684212,
           39.421052631578945,
           46.631578947368425,
           43.631578947368425,
           42.421052631578945,
           32.21052631578947,
           27.105263157894736,
           41.526315789473685,
           36.421052631578945,
           52.94736842105263,
           50.84210526315789,
           52.94736842105263,
           48.27894736842106,
           40.31578947368421,
           32.21052631578947,
           27.105263157894736,
           53.84210526315789,
           46.631578947368425,
           53.84210526315789,
           50.23684210526316,
           43.026315789473685,
           39.421052631578945,
           36.868421052631575,
           34.31578947368421,
           46.631578947368425,
           36.421052631578945,
           31.315789473684212,
           53.99473684210527,
           50.242105263157896,
           50.23684210526316,
           46.631578947368425,
           43.026315789473685,
           39.421052631578945,
           35.81578947368421,
           28.605263157894736,
           26.05263157894737,
           42.421052631578945,
           29.210526315789473,
           38.526315789473685,
           52.34210526315789,
           50.84210526315789,
           46.631578947368425,
           51.442105263157885,
           43.631578947368425,
           46.631578947368425,
           51.89473684210526,
           46.631578947368425,
           55.19473684210526,
           51.921052631578945,
           45.131578947368425,
           39.421052631578945,
           36.868421052631575,
           33.26315789473684,
           29.657894736842106,
           25,
           51.89473684210526,
           48.43157894736842,
           46.631578947368425,
           39.421052631578945,
           32.21052631578947,
           46.631578947368425,
           49.18421052631579,
           46.631578947368425,
           48.73684210526316,
           46.631578947368425,
           35.526315789473685,
           35.526315789473685,
           35.526315789473685,
           54.44736842105263,
           51.89473684210526,
           47.84210526315789,
           46.631578947368425,
           48.73684210526316,
           53.39473684210526,
           50.84210526315789,
           41.526315789473685,
           36.421052631578945,
           34.473684210526315,
           45.421052631578945,
           35.21052631578947,
           52.9421052631579,
           37.321052631578944,
           32.21578947368421,
           52.34210526315789,
           47.23684210526316,
           55.94736842105263,
           51.89473684210526,
           48.44210526315789,
           53.69473684210526,
           45.857894736842105,
           53.636842105263156,
           48.73684210526316,
           36.421052631578945,
           33.421052631578945,
           48.131578947368425,
           48.73684210526316,
           43.026315789473685,
           32.81578947368421,
           47.84210526315789,
           48.73684210526316,
           46.631578947368425,
           44.21052631578947,
           44.21052631578947,
           40.1578947368421,
           40.1578947368421,
           36.10526315789474,
           46.631578947368425,
           30.105263157894736,
           57.89473684210526,
           43.631578947368425,
           56.242105263157896,
           46.631578947368425,
           40.921052631578945,
           30.105263157894736,
           40.921052631578945,
           30.710526315789473,
           46.631578947368425,
           42.421052631578945,
           34.31578947368421,
           29.210526315789473
          ]
         },
         "mode": "markers+text",
         "text": [
          "Technology and Coding",
          "Business and Finance",
          "Culture and Entertainment",
          "Sports and Fitness",
          "Science and Exploration",
          "Social Interactions",
          "Technology and Computing",
          "Emotional Expression and Art",
          "Philosophy and Culture",
          "Philosophical Musings and Wordplay",
          "Health and Fitness",
          "Emotions and Mental State",
          "Weather and Environment",
          "Social Interactions and Relationships",
          "Tech and Software",
          "Miscellaneous",
          "Security and Vulnerability",
          "Cryptocurrency",
          "Love and Relationships",
          "Inspiration and Creativity",
          "Realism and Optimism",
          "Social Interaction",
          "Emotional Support and Concern",
          "Life and Relationships",
          "Celebrations and Hobbies",
          "Gaming",
          "Politics",
          "Science Fiction",
          "Humor",
          "Bitcoin Miners",
          "Space Exploration and Discovery",
          "Pop Culture and Entertainment",
          "Language and Sarcasm",
          "Social Commentary",
          "Criticisms and Negativity",
          "Lightheartedness and Humor",
          "Politics and Justice",
          "Technology and Innovation",
          "Lifestyle and Interests",
          "Uncategorized",
          "Social Media and Communication",
          "Inspirational/Motivational",
          "Politics and World Events",
          "Cryptocurrency and Technology",
          "Work and Productivity",
          "Pop Culture and Humor",
          "Travel/Transportation",
          "Trust and Vulnerability",
          "Emergency Preparedness",
          "Security and Exploits",
          "Human Experience and Emotions",
          "Miscellaneous and Humor",
          "Math and Science",
          "Interrogation and Interview",
          "Language and Culture",
          "Cryptic Posts and Math",
          "Financial/Business",
          "Productivity and Motivation",
          "Current Events and News",
          "College Life",
          "Personal Reminders and Support",
          "Education",
          "Politics and Governance",
          "Sports",
          "US Politics",
          "Health and Wellness",
          "Technology",
          "TV and Media",
          "Entertainment and Hobbies",
          "Personal Reminders and Self-Care",
          "Film and Entertainment",
          "Personal and Lifestyle",
          "Science and Discovery",
          "Philosophy and Social Commentary",
          "Movie and TV News",
          "Information Seeking",
          "Sports and Entertainment",
          "Cryptocurrency and Bitcoin",
          "Music and Entertainment",
          "Technology and Entertainment",
          "Encouragement",
          "Cybersecurity and Technology",
          "Emotional Wellbeing and Self-Care",
          "Relationships and Social Connections",
          "Work/Responsibility",
          "Social Commentary and Critique",
          "Exploration and Discovery",
          "Relationships and Communication",
          "Humor and Entertainment",
          "Existentialism and Self-Discovery",
          "Celebrity/Media Mentions",
          "Entertainment",
          "Personal Struggles",
          "Hobbies",
          "Social Media",
          "Personal Growth",
          "Relationships",
          "Personal Development",
          "Respect and Empowerment",
          "Technology and Security",
          "Philosophy and Human Interest",
          "Traffic and Road Closure",
          "Celebrity and Pop Culture",
          "Humor and Sarcastic Comment",
          "Inspiration and Appreciation",
          "Event and Announcement",
          "Celebrity and Entertainment",
          "Current Events and Alerts",
          "Product and Service Promotions",
          "Social Commentary and Awareness",
          "Personal and Lighthearted Content",
          "News and Information",
          "Entertainment and Culture",
          "Education and Personal Development",
          "Sports and Leisure",
          "Social Media and Tech",
          "NRA and Politics",
          "Amy Schumer and Trainwreck",
          "Linkin Park and Music",
          "Small Business and Entrepreneurship",
          "Celebrity Culture and Humor",
          "Social Media and Online Engagement",
          "Personal and Emotional Experiences",
          "Social Media Interactions",
          "Celebrity and Public Figures",
          "Travel and Tourism",
          "Workplace Issues",
          "Motivation and Success",
          "Marketing and Advertising",
          "Celebrity and Lifestyles",
          "Social Media and Entertainment",
          "Tributes and Reminders",
          "Environmental Awareness",
          "Personal and Professional Interests",
          "Politics/Leadership",
          "Food and Beverages",
          "Celebrity News and Updates",
          "KP Govt Recognition",
          "Success and Opportunity",
          "Personal Growth and Development",
          "Social Impact and Responsibility",
          "Entertainment and Media",
          "Support and Inspiration",
          "News and Updates",
          "Haiku and Poetry",
          "Random and Miscellaneous",
          "Celebrities and Entertainment",
          "Social and Community",
          "International Relations and Politics",
          "Personal Life and Relationships",
          "Education and Learning",
          "Crime and Law Enforcement",
          "Gun Control",
          "Celebration and Humor",
          "Government and Politics",
          "Religion and Community",
          "News and Media",
          "Social Media and Technology",
          "Politics and Current Events",
          "Political Commentary and Criticism",
          "Celebrations and Events",
          "Politics and Elections",
          "Support and Commendation",
          "Information Sharing and News",
          "Valentine's Day and Love",
          "News",
          "Celebrity and Public Interest",
          "News and Current Events",
          "Food and Entertainment",
          "Social Issues and Health",
          "Technology and Programming",
          "Social Media and Events",
          "Politics and World News",
          "News and Politics",
          "Self-Care and Fitness",
          "Relationships and Love",
          "Politics and Social Issues",
          "Adversity and Resilience",
          "Canadian Politics and Security",
          "Social Justice and Activism",
          "Food and Beverage",
          "Life and Mortality",
          "Art and Culture",
          "Social Issues",
          "Racial Issues and Stereotypes",
          "Celebrity News and Entertainment",
          "Social Media and Politics",
          "TV Shows and Pop Culture",
          "Weather Discussion",
          "Sports and Celebrity",
          "Politics and International Relations",
          "Tweets are about India",
          "Politics and News",
          "Celebrity and Recognition",
          "Politics and Activism",
          "Travel and Exploration",
          "Writing and Literature",
          "Discontent and Criticism",
          "Pop Culture",
          "Environmental Conservation",
          "Current Events",
          "Personal Interactions",
          "Entertainment and Leisure",
          "Mental Health and Wellness",
          "Celebrity and Royalty",
          "Social Media and Online Presence",
          "Humor and Satire",
          "Personal Reflection and Advice",
          "Social Justice and Empowerment",
          "Economic Concerns",
          "Transportation and Infrastructure",
          "Education and Research",
          "Reading and Books",
          "Weather and Seasonal Activities",
          "Politics and Social Commentary",
          "Funding and Crowdfunding",
          "Pop Culture and Memes",
          "Celebrity and Cultural News",
          "Personal and Lighthearted",
          "Personal Stories and Humor",
          "Entertainment and Book Reviews",
          "Social and Cultural",
          "Celebrity and Entertainment News",
          "Gardening",
          "Hall and Oates",
          "Entertainment and Pop Culture",
          "Workplace Culture and Management",
          "Pakistan-Kashmir Relations",
          "Financial and Economic Issues",
          "Entertainment and Social Media",
          "Technology and Futurism",
          "Miscellaneous and Product Development",
          "Miscellaneous and Event Promotion",
          "Miscellaneous and Help Request",
          "Miscellaneous and Miscellaneous",
          "Miscellaneous and Unclassified",
          "Cultural Trends and Observations",
          "General Lifestyle and Updates",
          "Positive Emotions and Appreciation",
          "Information Sharing and Discussion",
          "Concern and Awareness",
          "Celebrity Culture and Awards",
          "Personal Interests and Relationships",
          "Entertainment and Music",
          "Celebrity and Culture",
          "Canadian Politics",
          "Congressional Interns",
          "Event",
          "Congressional News",
          "Empowerment and Personal Growth",
          "Social Commentary and Criticism",
          "Humor and Leisure",
          "Social and Cultural Issues",
          "Business and Entrepreneurship",
          "Technology and Online Presence",
          "General Interest and Lifestyle",
          "Social Media and Online Culture",
          "Daily Life and Observations",
          "Personal and Inspirational",
          "Entertainment and Humor",
          "Sports and Cricket",
          "Small Business",
          "Event/Incident",
          "Personal/Relationship",
          "Positive Social Impact",
          "Entertainment and Celebrity News",
          "Breaking News",
          "Human Rights and Social Justice",
          "Australia's Politics and Infrastructure",
          "Social Responsibility and Community",
          "Personal and Social Life",
          "Infrastructure and Public Safety",
          "Social Awareness and Activism",
          "Cultural Expression and Appreciation",
          "Politics/Current Events",
          "Arts and Culture",
          "Community and Events",
          "Social Media and Connectivity",
          "Violence Prevention",
          "Motivational/ Inspirational",
          "Personal Development and Career Growth",
          "Cultural and Social Issues",
          "Food and Dining",
          "Technology and Manufacturing",
          "Parenting and Family",
          "Social Issues and Politics",
          "Relationships and Pets",
          "Community and Social Issues",
          "Travel and Adventure",
          "Celebrations",
          "Disappointment and Frustration",
          "European Union Politics",
          "Personal Relationships and Interactions",
          "Entertainment and Lifestyle",
          "Productivity and Technology",
          "Immigration and Refugees",
          "Terrorism and Conflict",
          "Secrets and Personal Information",
          "Social Cause and Charity",
          "Personal Life and Experiences",
          "Communication and Technology"
         ],
         "textposition": "top center",
         "type": "scatter",
         "x": [
          3.9471761931022464,
          8.006307525982425,
          8.00297301710763,
          4.972702337237267,
          0.3791784563195655,
          0.6569254471327624,
          7.448344116239208,
          4.207174942960343,
          3.944924273884883,
          0.7743806313021606,
          6.100332678521015,
          5.867105292364069,
          6.912035882911143,
          7.417742170995112,
          8.098097546036394,
          8.154795228645227,
          5.8619064180511335,
          5.912042008822881,
          0.49401383371612373,
          9.795231881519303,
          8.745291302508702,
          0.3721021213618547,
          6.869292591461594,
          3.99667019348282,
          8.910025895148554,
          9.205480318430254,
          5.446368833052066,
          7.799333960119094,
          4.265777979144706,
          9.452747169997382,
          1.662225439084558,
          6.476095920145518,
          7.502784806097075,
          2.162265771064363,
          1.8888788209569274,
          0.4733202225718791,
          9.848678560426332,
          3.3312331618201396,
          4.70969430385378,
          9.098330198606018,
          7.8270401650741785,
          2.6511700743133426,
          1.5722511319206556,
          6.015058074504616,
          8.93341593990439,
          4.87995816988041,
          1.6852942749755684,
          0.4236100094065798,
          0.24145525361436104,
          9.191845272283063,
          7.545365866013877,
          2.5734315530379046,
          4.077430201694858,
          8.252617721973692,
          0.3075477522495862,
          5.739267729356671,
          9.41225348388005,
          6.634912404339754,
          1.2441372755810487,
          8.473173123636453,
          0.6822057357466826,
          8.671698361890266,
          0.3710161070714735,
          5.588266568161417,
          6.761487405906213,
          5.093003247169642,
          7.459167286204076,
          3.5846358432486602,
          0.6666150825079942,
          6.902294442759143,
          4.673212696418343,
          7.4057885073758385,
          5.997890504599371,
          7.89155969643696,
          7.355512845792049,
          9.681464857876648,
          4.77647195009133,
          5.597618843534352,
          3.2701133254873027,
          2.156459461126846,
          6.193389662557451,
          3.974377709427074,
          9.840091450970323,
          6.4312312695996265,
          4.707098740905421,
          0.42991336965983895,
          6.832609064073191,
          3.182506979079572,
          9.175858006012842,
          3.6847724981681864,
          4.940082004651222,
          6.895863768365342,
          4.0532786874149185,
          4.920784184574235,
          8.489380066816214,
          6.749992844200307,
          0.05288774395302509,
          0.22225675383541477,
          6.581062799880947,
          2.7955788585807237,
          6.882375266012414,
          7.902587968504502,
          1.7204073231550743,
          1.9605310440903123,
          5.024750518713411,
          4.534845522959916,
          2.884321870682114,
          9.315658893892621,
          5.889805532139661,
          7.616675964202628,
          4.732279073041241,
          6.867717422677307,
          3.7972134007176015,
          4.600707078603144,
          0.4033859267086337,
          0.2056589681306087,
          9.2858511678779,
          1.3381508049639679,
          1.0820874276073034,
          8.89250501410207,
          1.2230253043915618,
          8.768371380991288,
          6.236362188942595,
          0.9654453059461465,
          6.3003197587379125,
          5.7075631701789575,
          6.2059854295059305,
          6.942520088334353,
          7.525513346183771,
          0.05512491275113218,
          3.5350822779056488,
          5.252467686224547,
          9.065817055812472,
          4.754241262825073,
          1.374711300068806,
          6.2495927811197465,
          5.811330928699343,
          1.5326452802193447,
          0.3472582674323488,
          0.8172688954511242,
          4.1386813188864116,
          2.517316978226317,
          2.396332829962705,
          8.51835218733076,
          6.542712826807603,
          2.4772666456228434,
          8.725450855269898,
          0.055376879504854815,
          2.2784095069232713,
          2.5300497078202087,
          7.763526479463037,
          1.2085934148250388,
          7.493967016426069,
          1.7864354552440742,
          8.676708974728667,
          3.0414492268464874,
          7.931039494909142,
          3.276937033075317,
          2.312066963986592,
          3.7251730061310284,
          0.44465249160889897,
          3.659214779448674,
          1.6358713260451596,
          2.9867189860404055,
          4.014016672675939,
          3.683356634940168,
          1.4544629224709038,
          2.2709013291984412,
          2.393154121991069,
          2.0935831703306884,
          9.37342641127691,
          3.3971025327889315,
          6.285075806989122,
          8.277580735347827,
          1.8501999114460599,
          1.2305122497554866,
          8.704136400745867,
          6.721353449737576,
          0.15397740125892234,
          7.41659509038103,
          9.120851010112789,
          7.300066924403313,
          0.23616686389228758,
          5.857744229345322,
          4.000301538520226,
          0.33286691558948256,
          7.07942743206101,
          6.360300513167526,
          2.1036285815905176,
          6.841137615308142,
          3.7533115154703625,
          4.72948528091718,
          0.7680152695441345,
          6.713192300953624,
          4.660400808805956,
          7.1194146965046095,
          8.000146068079314,
          1.2193852699875574,
          0.13202651478263494,
          8.146226696737948,
          7.83383064916811,
          8.104859765784578,
          7.152796194668763,
          6.717894947706066,
          1.7323317076913924,
          9.68005141619922,
          3.770254206235224,
          2.999103732954561,
          3.9275315211708737,
          6.161117022192084,
          3.342568089235005,
          8.953019480397861,
          0.6183880476297132,
          6.1898330733648645,
          9.384832594116418,
          9.333934517100065,
          0.7066519760227785,
          9.917651060132272,
          1.3804610401665285,
          3.9532106132022395,
          4.6663285662820355,
          0.68061373261041,
          0.5916371422872357,
          9.875147792409319,
          1.774870162394292,
          5.000546587531103,
          7.352770025365388,
          7.224964023605944,
          3.4440665177925545,
          6.018714773548444,
          3.1751921365432367,
          5.444686194242819,
          8.020211005689784,
          4.119759557361295,
          1.9415709212440457,
          7.985604808710579,
          8.948673201558641,
          2.2796040074660864,
          6.828317840402961,
          9.046956465992794,
          0.9446241290937185,
          2.0649989216822684,
          6.993721298109961,
          0.7906488495881447,
          2.639975892956372,
          0.8430616682306602,
          7.781626572714313,
          2.3527011242683935,
          1.614225729137888,
          4.067807986579481,
          8.906941324534955,
          4.465910401491429,
          0.1152124197279869,
          6.253199611558338,
          0.2701061164534502,
          9.805211505356064,
          5.068775261437139,
          1.859316472230227,
          3.0345738988978113,
          5.036667525550244,
          2.2930022019400633,
          0.5474162215780187,
          7.892973309603731,
          8.95014327495027,
          9.741541015211599,
          6.284418765311006,
          6.953195888843409,
          2.8722918985722257,
          7.683791624475363,
          1.7697079074975208,
          8.172187977390296,
          2.1832542803631294,
          9.246414950506287,
          6.6862370692206134,
          7.050820746826057,
          8.969911637061953,
          2.976293015500442,
          2.311309680342677,
          8.310774227075484,
          6.383929824169545,
          8.436166674112451,
          1.5794115123347208,
          2.7385892633172615,
          9.31267426553694,
          2.507211646538565,
          1.604465931981951,
          3.362980869535318,
          4.366177375189945,
          6.407965639047744,
          9.970111423898636,
          1.694998752161081,
          8.703270168253766,
          9.81531866765331,
          4.014325558557784,
          4.215982247272474,
          1.716706062921839,
          4.833654245632615,
          2.1055919317309035,
          7.148307592996384,
          9.191025591320457,
          2.9806344951978767
         ],
         "y": [
          0.560447534601457,
          6.0543686868406255,
          5.540779004921797,
          2.544471637373297,
          4.616153212494246,
          2.6271748527135594,
          4.955686665714957,
          4.507125327102786,
          1.8027661365885972,
          7.159796796012116,
          8.636632546787835,
          2.095655213684066,
          7.169469308940384,
          2.312773138381634,
          9.558591905966512,
          6.728085167741316,
          7.7954002030361655,
          9.676681095204614,
          1.8359724753978501,
          5.248418565960312,
          6.272638529616148,
          4.380681947353775,
          9.738739159558016,
          9.43929104859481,
          4.092933993637584,
          9.045036471966451,
          4.6043373178691285,
          8.397015248879164,
          2.466961404578848,
          9.011203457475505,
          4.236843913566997,
          1.374473082520432,
          2.116670762816819,
          4.253310021850776,
          0.9834022630634509,
          5.9584666986482215,
          6.28624449085992,
          9.356121924745006,
          1.9535886986225781,
          6.086683726212443,
          6.556385023870469,
          6.648667514472692,
          9.862568800624532,
          6.341416520657778,
          2.216166014893306,
          8.41867462722272,
          2.088108255220461,
          5.185902909674345,
          2.4400714233957723,
          7.864564741486941,
          8.982612562459005,
          3.8090249405465415,
          5.9893017378535065,
          9.625718119301837,
          7.539089754710256,
          6.902857268873019,
          9.499144828479146,
          7.571483408820196,
          4.0836805652359045,
          0.047790115571599845,
          8.758564924284187,
          4.225622011648228,
          3.070707431460955,
          2.7577192019093566,
          7.015246552471997,
          3.3543409113893565,
          3.6875970313689024,
          2.5589995282547076,
          5.558924218886143,
          1.7005764888568031,
          7.021336438116894,
          5.236274636921749,
          1.4794451701133204,
          0.7562835773845122,
          7.1296122973121,
          0.2694762010278473,
          2.9137831229064637,
          5.2983804011461055,
          4.945500367640326,
          1.4792519952497807,
          8.1211909956533,
          7.3253814320133,
          0.1753912492158849,
          8.499882874036834,
          4.85014290816966,
          6.652812846985378,
          1.0612879479722837,
          7.531119826252243,
          2.7225589587471175,
          8.570157107763475,
          8.29602729875679,
          1.7462089885324805,
          7.062192528392258,
          5.082793912556306,
          4.681062064362548,
          2.8712954342064636,
          8.547318768253593,
          4.788127658225035,
          6.3165372360438905,
          0.9409051822772374,
          2.5717532710497046,
          2.688820702966278,
          7.0992152826677675,
          0.17528552160190003,
          7.847523163782597,
          3.4991818482936887,
          5.485824165298644,
          6.9951355725510584,
          5.756940851907471,
          9.158786326536852,
          0.14104450252522827,
          5.676817077002704,
          0.003235545613172741,
          7.124575389972173,
          9.43590518594299,
          4.588648796536457,
          0.3630131550668325,
          4.64859827134922,
          6.550249813587797,
          0.892920691069975,
          6.865320150920401,
          1.5836650346526382,
          6.264551342138555,
          6.528261629971032,
          1.3752300038645204,
          7.240236396419974,
          7.537562127768219,
          0.7936076071131581,
          0.750243788610675,
          0.47108357506971066,
          6.0334933075608514,
          5.646335529428098,
          7.638845662867767,
          1.7238462584648562,
          2.8269726013467986,
          1.6729140330831094,
          3.7680532920520413,
          2.1608782812553082,
          4.975506734877955,
          3.9832250991202045,
          0.8695728506425138,
          3.2365403582710552,
          0.429993770594882,
          0.12075959964861549,
          1.5594443416673798,
          6.642142957812033,
          5.05965569953542,
          6.313679451640866,
          6.5104435615452765,
          3.514191521299699,
          3.726208735722003,
          4.0426579120480985,
          5.978868281101923,
          2.5067453210354875,
          2.6355573260925116,
          3.906204350585151,
          9.842890256791733,
          8.934543516608795,
          7.504926530019072,
          1.4023009131500208,
          8.539703813493798,
          3.3687327082064087,
          0.13053339885652493,
          9.782565344824766,
          5.384706352371625,
          4.054668491138177,
          6.479365498418391,
          7.338391537555157,
          9.840140420997718,
          8.259068001916619,
          5.381682024408498,
          9.157966683777326,
          3.0451342320251884,
          7.82834526094529,
          4.068038787368708,
          9.747590584435178,
          0.8931921328007819,
          7.019122076051863,
          1.5739253848875445,
          8.675480642032692,
          6.774719868994428,
          0.3444426806753653,
          1.672445451511454,
          4.7582936304915515,
          6.098133021386848,
          8.46956423617735,
          9.201726096049725,
          5.027985223026585,
          9.621039939577088,
          5.693153217303792,
          2.228283220755042,
          9.175550516676196,
          4.806105692049476,
          9.254581790621566,
          4.330439884219274,
          5.3890053668081,
          9.038053274688009,
          5.284844487375878,
          6.942723653397542,
          8.68046670716922,
          2.5981036410204537,
          2.7507588040449296,
          9.690184862751515,
          5.7894114630886575,
          1.485634520473823,
          2.928209167893284,
          0.08322074761084597,
          9.619553334017219,
          6.5196329372536885,
          5.104053136774317,
          6.7036278280493935,
          3.4282813530379244,
          9.37218479110845,
          6.622507937674344,
          2.8049604344353183,
          8.093507330612226,
          2.7763130602368813,
          0.5940804725035043,
          4.253686209269735,
          0.6446655734150397,
          5.448543692494045,
          7.373931707997717,
          0.719873749318225,
          7.9695811501292,
          4.450361681414718,
          3.2227737847310123,
          2.7320586909983104,
          5.336192733568361,
          9.226838305135916,
          6.809197039138595,
          2.632379844960646,
          7.476940090145572,
          9.464323766843542,
          3.357875675134323,
          0.7282844988551251,
          4.212524049271691,
          5.28001051012121,
          0.6508085432556499,
          9.213849879589398,
          9.141935753181423,
          2.628544797002328,
          6.991118617109523,
          9.263896071985503,
          8.151169126345815,
          1.8923861709057943,
          4.77705283398342,
          2.10755400620073,
          6.077641010504125,
          0.2873702431893588,
          3.6501870596216612,
          7.152370493758868,
          4.5345338101220936,
          0.29213869713631935,
          6.6233979959378395,
          8.730446832660947,
          2.1229833028008493,
          5.425662921332789,
          6.489749533240564,
          4.968364902754317,
          7.108150213868002,
          8.87312481157995,
          5.894362645492349,
          1.7256224475238313,
          2.296969284974862,
          7.049325394563736,
          1.2061866532817445,
          0.32441181393902285,
          9.545022730963117,
          9.34009821851452,
          4.854185921050376,
          7.7118875184877,
          8.717935064254274,
          4.703582915305896,
          3.1413124822853455,
          4.211491491214334,
          1.7628372884907995,
          7.085716782502153,
          4.07697109832842,
          7.8972154177082485,
          1.3302262279511368,
          7.9924508517622295,
          9.72892806887658,
          9.313149106497399,
          8.919835529309152,
          4.246858582905391,
          9.220490940809182,
          6.140863202804598,
          9.412066418032252,
          9.489989438718867,
          3.4419417065138913,
          1.0963626739032295,
          3.2056376627992202,
          7.5162716006298,
          9.239073519317337,
          1.286123629426228,
          2.310443440229295,
          9.197657488222411,
          4.354475416630681,
          8.456995141914579,
          1.00125997965,
          2.197129853787515
         ]
        }
       ],
       "layout": {
        "height": 800,
        "hovermode": "closest",
        "paper_bgcolor": "white",
        "plot_bgcolor": "white",
        "showlegend": false,
        "template": {
         "data": {
          "bar": [
           {
            "error_x": {
             "color": "#2a3f5f"
            },
            "error_y": {
             "color": "#2a3f5f"
            },
            "marker": {
             "line": {
              "color": "#E5ECF6",
              "width": 0.5
             },
             "pattern": {
              "fillmode": "overlay",
              "size": 10,
              "solidity": 0.2
             }
            },
            "type": "bar"
           }
          ],
          "barpolar": [
           {
            "marker": {
             "line": {
              "color": "#E5ECF6",
              "width": 0.5
             },
             "pattern": {
              "fillmode": "overlay",
              "size": 10,
              "solidity": 0.2
             }
            },
            "type": "barpolar"
           }
          ],
          "carpet": [
           {
            "aaxis": {
             "endlinecolor": "#2a3f5f",
             "gridcolor": "white",
             "linecolor": "white",
             "minorgridcolor": "white",
             "startlinecolor": "#2a3f5f"
            },
            "baxis": {
             "endlinecolor": "#2a3f5f",
             "gridcolor": "white",
             "linecolor": "white",
             "minorgridcolor": "white",
             "startlinecolor": "#2a3f5f"
            },
            "type": "carpet"
           }
          ],
          "choropleth": [
           {
            "colorbar": {
             "outlinewidth": 0,
             "ticks": ""
            },
            "type": "choropleth"
           }
          ],
          "contour": [
           {
            "colorbar": {
             "outlinewidth": 0,
             "ticks": ""
            },
            "colorscale": [
             [
              0,
              "#0d0887"
             ],
             [
              0.1111111111111111,
              "#46039f"
             ],
             [
              0.2222222222222222,
              "#7201a8"
             ],
             [
              0.3333333333333333,
              "#9c179e"
             ],
             [
              0.4444444444444444,
              "#bd3786"
             ],
             [
              0.5555555555555556,
              "#d8576b"
             ],
             [
              0.6666666666666666,
              "#ed7953"
             ],
             [
              0.7777777777777778,
              "#fb9f3a"
             ],
             [
              0.8888888888888888,
              "#fdca26"
             ],
             [
              1,
              "#f0f921"
             ]
            ],
            "type": "contour"
           }
          ],
          "contourcarpet": [
           {
            "colorbar": {
             "outlinewidth": 0,
             "ticks": ""
            },
            "type": "contourcarpet"
           }
          ],
          "heatmap": [
           {
            "colorbar": {
             "outlinewidth": 0,
             "ticks": ""
            },
            "colorscale": [
             [
              0,
              "#0d0887"
             ],
             [
              0.1111111111111111,
              "#46039f"
             ],
             [
              0.2222222222222222,
              "#7201a8"
             ],
             [
              0.3333333333333333,
              "#9c179e"
             ],
             [
              0.4444444444444444,
              "#bd3786"
             ],
             [
              0.5555555555555556,
              "#d8576b"
             ],
             [
              0.6666666666666666,
              "#ed7953"
             ],
             [
              0.7777777777777778,
              "#fb9f3a"
             ],
             [
              0.8888888888888888,
              "#fdca26"
             ],
             [
              1,
              "#f0f921"
             ]
            ],
            "type": "heatmap"
           }
          ],
          "heatmapgl": [
           {
            "colorbar": {
             "outlinewidth": 0,
             "ticks": ""
            },
            "colorscale": [
             [
              0,
              "#0d0887"
             ],
             [
              0.1111111111111111,
              "#46039f"
             ],
             [
              0.2222222222222222,
              "#7201a8"
             ],
             [
              0.3333333333333333,
              "#9c179e"
             ],
             [
              0.4444444444444444,
              "#bd3786"
             ],
             [
              0.5555555555555556,
              "#d8576b"
             ],
             [
              0.6666666666666666,
              "#ed7953"
             ],
             [
              0.7777777777777778,
              "#fb9f3a"
             ],
             [
              0.8888888888888888,
              "#fdca26"
             ],
             [
              1,
              "#f0f921"
             ]
            ],
            "type": "heatmapgl"
           }
          ],
          "histogram": [
           {
            "marker": {
             "pattern": {
              "fillmode": "overlay",
              "size": 10,
              "solidity": 0.2
             }
            },
            "type": "histogram"
           }
          ],
          "histogram2d": [
           {
            "colorbar": {
             "outlinewidth": 0,
             "ticks": ""
            },
            "colorscale": [
             [
              0,
              "#0d0887"
             ],
             [
              0.1111111111111111,
              "#46039f"
             ],
             [
              0.2222222222222222,
              "#7201a8"
             ],
             [
              0.3333333333333333,
              "#9c179e"
             ],
             [
              0.4444444444444444,
              "#bd3786"
             ],
             [
              0.5555555555555556,
              "#d8576b"
             ],
             [
              0.6666666666666666,
              "#ed7953"
             ],
             [
              0.7777777777777778,
              "#fb9f3a"
             ],
             [
              0.8888888888888888,
              "#fdca26"
             ],
             [
              1,
              "#f0f921"
             ]
            ],
            "type": "histogram2d"
           }
          ],
          "histogram2dcontour": [
           {
            "colorbar": {
             "outlinewidth": 0,
             "ticks": ""
            },
            "colorscale": [
             [
              0,
              "#0d0887"
             ],
             [
              0.1111111111111111,
              "#46039f"
             ],
             [
              0.2222222222222222,
              "#7201a8"
             ],
             [
              0.3333333333333333,
              "#9c179e"
             ],
             [
              0.4444444444444444,
              "#bd3786"
             ],
             [
              0.5555555555555556,
              "#d8576b"
             ],
             [
              0.6666666666666666,
              "#ed7953"
             ],
             [
              0.7777777777777778,
              "#fb9f3a"
             ],
             [
              0.8888888888888888,
              "#fdca26"
             ],
             [
              1,
              "#f0f921"
             ]
            ],
            "type": "histogram2dcontour"
           }
          ],
          "mesh3d": [
           {
            "colorbar": {
             "outlinewidth": 0,
             "ticks": ""
            },
            "type": "mesh3d"
           }
          ],
          "parcoords": [
           {
            "line": {
             "colorbar": {
              "outlinewidth": 0,
              "ticks": ""
             }
            },
            "type": "parcoords"
           }
          ],
          "pie": [
           {
            "automargin": true,
            "type": "pie"
           }
          ],
          "scatter": [
           {
            "fillpattern": {
             "fillmode": "overlay",
             "size": 10,
             "solidity": 0.2
            },
            "type": "scatter"
           }
          ],
          "scatter3d": [
           {
            "line": {
             "colorbar": {
              "outlinewidth": 0,
              "ticks": ""
             }
            },
            "marker": {
             "colorbar": {
              "outlinewidth": 0,
              "ticks": ""
             }
            },
            "type": "scatter3d"
           }
          ],
          "scattercarpet": [
           {
            "marker": {
             "colorbar": {
              "outlinewidth": 0,
              "ticks": ""
             }
            },
            "type": "scattercarpet"
           }
          ],
          "scattergeo": [
           {
            "marker": {
             "colorbar": {
              "outlinewidth": 0,
              "ticks": ""
             }
            },
            "type": "scattergeo"
           }
          ],
          "scattergl": [
           {
            "marker": {
             "colorbar": {
              "outlinewidth": 0,
              "ticks": ""
             }
            },
            "type": "scattergl"
           }
          ],
          "scattermapbox": [
           {
            "marker": {
             "colorbar": {
              "outlinewidth": 0,
              "ticks": ""
             }
            },
            "type": "scattermapbox"
           }
          ],
          "scatterpolar": [
           {
            "marker": {
             "colorbar": {
              "outlinewidth": 0,
              "ticks": ""
             }
            },
            "type": "scatterpolar"
           }
          ],
          "scatterpolargl": [
           {
            "marker": {
             "colorbar": {
              "outlinewidth": 0,
              "ticks": ""
             }
            },
            "type": "scatterpolargl"
           }
          ],
          "scatterternary": [
           {
            "marker": {
             "colorbar": {
              "outlinewidth": 0,
              "ticks": ""
             }
            },
            "type": "scatterternary"
           }
          ],
          "surface": [
           {
            "colorbar": {
             "outlinewidth": 0,
             "ticks": ""
            },
            "colorscale": [
             [
              0,
              "#0d0887"
             ],
             [
              0.1111111111111111,
              "#46039f"
             ],
             [
              0.2222222222222222,
              "#7201a8"
             ],
             [
              0.3333333333333333,
              "#9c179e"
             ],
             [
              0.4444444444444444,
              "#bd3786"
             ],
             [
              0.5555555555555556,
              "#d8576b"
             ],
             [
              0.6666666666666666,
              "#ed7953"
             ],
             [
              0.7777777777777778,
              "#fb9f3a"
             ],
             [
              0.8888888888888888,
              "#fdca26"
             ],
             [
              1,
              "#f0f921"
             ]
            ],
            "type": "surface"
           }
          ],
          "table": [
           {
            "cells": {
             "fill": {
              "color": "#EBF0F8"
             },
             "line": {
              "color": "white"
             }
            },
            "header": {
             "fill": {
              "color": "#C8D4E3"
             },
             "line": {
              "color": "white"
             }
            },
            "type": "table"
           }
          ]
         },
         "layout": {
          "annotationdefaults": {
           "arrowcolor": "#2a3f5f",
           "arrowhead": 0,
           "arrowwidth": 1
          },
          "autotypenumbers": "strict",
          "coloraxis": {
           "colorbar": {
            "outlinewidth": 0,
            "ticks": ""
           }
          },
          "colorscale": {
           "diverging": [
            [
             0,
             "#8e0152"
            ],
            [
             0.1,
             "#c51b7d"
            ],
            [
             0.2,
             "#de77ae"
            ],
            [
             0.3,
             "#f1b6da"
            ],
            [
             0.4,
             "#fde0ef"
            ],
            [
             0.5,
             "#f7f7f7"
            ],
            [
             0.6,
             "#e6f5d0"
            ],
            [
             0.7,
             "#b8e186"
            ],
            [
             0.8,
             "#7fbc41"
            ],
            [
             0.9,
             "#4d9221"
            ],
            [
             1,
             "#276419"
            ]
           ],
           "sequential": [
            [
             0,
             "#0d0887"
            ],
            [
             0.1111111111111111,
             "#46039f"
            ],
            [
             0.2222222222222222,
             "#7201a8"
            ],
            [
             0.3333333333333333,
             "#9c179e"
            ],
            [
             0.4444444444444444,
             "#bd3786"
            ],
            [
             0.5555555555555556,
             "#d8576b"
            ],
            [
             0.6666666666666666,
             "#ed7953"
            ],
            [
             0.7777777777777778,
             "#fb9f3a"
            ],
            [
             0.8888888888888888,
             "#fdca26"
            ],
            [
             1,
             "#f0f921"
            ]
           ],
           "sequentialminus": [
            [
             0,
             "#0d0887"
            ],
            [
             0.1111111111111111,
             "#46039f"
            ],
            [
             0.2222222222222222,
             "#7201a8"
            ],
            [
             0.3333333333333333,
             "#9c179e"
            ],
            [
             0.4444444444444444,
             "#bd3786"
            ],
            [
             0.5555555555555556,
             "#d8576b"
            ],
            [
             0.6666666666666666,
             "#ed7953"
            ],
            [
             0.7777777777777778,
             "#fb9f3a"
            ],
            [
             0.8888888888888888,
             "#fdca26"
            ],
            [
             1,
             "#f0f921"
            ]
           ]
          },
          "colorway": [
           "#636efa",
           "#EF553B",
           "#00cc96",
           "#ab63fa",
           "#FFA15A",
           "#19d3f3",
           "#FF6692",
           "#B6E880",
           "#FF97FF",
           "#FECB52"
          ],
          "font": {
           "color": "#2a3f5f"
          },
          "geo": {
           "bgcolor": "white",
           "lakecolor": "white",
           "landcolor": "#E5ECF6",
           "showlakes": true,
           "showland": true,
           "subunitcolor": "white"
          },
          "hoverlabel": {
           "align": "left"
          },
          "hovermode": "closest",
          "mapbox": {
           "style": "light"
          },
          "paper_bgcolor": "white",
          "plot_bgcolor": "#E5ECF6",
          "polar": {
           "angularaxis": {
            "gridcolor": "white",
            "linecolor": "white",
            "ticks": ""
           },
           "bgcolor": "#E5ECF6",
           "radialaxis": {
            "gridcolor": "white",
            "linecolor": "white",
            "ticks": ""
           }
          },
          "scene": {
           "xaxis": {
            "backgroundcolor": "#E5ECF6",
            "gridcolor": "white",
            "gridwidth": 2,
            "linecolor": "white",
            "showbackground": true,
            "ticks": "",
            "zerolinecolor": "white"
           },
           "yaxis": {
            "backgroundcolor": "#E5ECF6",
            "gridcolor": "white",
            "gridwidth": 2,
            "linecolor": "white",
            "showbackground": true,
            "ticks": "",
            "zerolinecolor": "white"
           },
           "zaxis": {
            "backgroundcolor": "#E5ECF6",
            "gridcolor": "white",
            "gridwidth": 2,
            "linecolor": "white",
            "showbackground": true,
            "ticks": "",
            "zerolinecolor": "white"
           }
          },
          "shapedefaults": {
           "line": {
            "color": "#2a3f5f"
           }
          },
          "ternary": {
           "aaxis": {
            "gridcolor": "white",
            "linecolor": "white",
            "ticks": ""
           },
           "baxis": {
            "gridcolor": "white",
            "linecolor": "white",
            "ticks": ""
           },
           "bgcolor": "#E5ECF6",
           "caxis": {
            "gridcolor": "white",
            "linecolor": "white",
            "ticks": ""
           }
          },
          "title": {
           "x": 0.05
          },
          "xaxis": {
           "automargin": true,
           "gridcolor": "white",
           "linecolor": "white",
           "ticks": "",
           "title": {
            "standoff": 15
           },
           "zerolinecolor": "white",
           "zerolinewidth": 2
          },
          "yaxis": {
           "automargin": true,
           "gridcolor": "white",
           "linecolor": "white",
           "ticks": "",
           "title": {
            "standoff": 15
           },
           "zerolinecolor": "white",
           "zerolinewidth": 2
          }
         }
        },
        "title": {
         "text": "Theme Network Visualization (Blue: Bot, Red: Non-Bot, Purple: Mixed)"
        },
        "width": 1000,
        "xaxis": {
         "showgrid": false,
         "showticklabels": false,
         "zeroline": false
        },
        "yaxis": {
         "showgrid": false,
         "showticklabels": false,
         "zeroline": false
        }
       }
      }
     },
     "metadata": {},
     "output_type": "display_data"
    }
   ],
   "source": [
    "import json\n",
    "import networkx as nx\n",
    "import plotly.graph_objects as go\n",
    "import numpy as np\n",
    "\n",
    "\n",
    "\n",
    "\n",
    "\n",
    "\n",
    "\n",
    "\n",
    "def load_json_file(file_path):\n",
    "    \"\"\"Load JSON file safely.\"\"\"\n",
    "    try:\n",
    "        with open(file_path, 'r', encoding='utf-8') as file:\n",
    "            return json.load(file)\n",
    "    except Exception as e:\n",
    "        print(f\"Error loading JSON file {file_path}: {e}\")\n",
    "        return []\n",
    "\n",
    "\n",
    "\n",
    "\n",
    "\n",
    "\n",
    "\n",
    "\n",
    "def create_theme_network(data_bot, data_nonbot, min_confidence=50):\n",
    "    \"\"\"Create a network graph from themes with a minimum confidence level.\"\"\"\n",
    "    G = nx.Graph()\n",
    "\n",
    "\n",
    "\n",
    "\n",
    "    def process_data(data, is_bot=True):\n",
    "        for item in data:\n",
    "            response = item.get('response')\n",
    "            if isinstance(response, str):\n",
    "                try:\n",
    "                    # Parse the response string as a dictionary\n",
    "                    response_data = json.loads(response)\n",
    "                    themes = response_data.get('overall_themes', [])\n",
    "\n",
    "\n",
    "\n",
    "\n",
    "                    for theme in themes:\n",
    "                        confidence = theme.get('confidence', 0)\n",
    "                        if confidence >= min_confidence:\n",
    "                            theme_name = theme['name']\n",
    "                            centrality = theme.get('centrality', {})\n",
    "                            keywords = theme.get('keywords', [])\n",
    "                            sentiment = theme.get('sentiment_distribution', {})\n",
    "\n",
    "\n",
    "\n",
    "\n",
    "                            # Check if theme already exists\n",
    "                            if theme_name in G:\n",
    "                                # If theme exists, mark as mixed\n",
    "                                G.nodes[theme_name]['type'] = 'mixed'\n",
    "                            else:\n",
    "                                # Add node with detailed attributes\n",
    "                                G.add_node(theme_name, \n",
    "                                           confidence=confidence,\n",
    "                                           centrality_weight=centrality.get('weight', 0),\n",
    "                                           keywords=keywords,\n",
    "                                           positive_sentiment=sentiment.get('positive_percentage', 0),\n",
    "                                           negative_sentiment=sentiment.get('negative_percentage', 0),\n",
    "                                           neutral_sentiment=sentiment.get('neutral_percentage', 0),\n",
    "                                           type='bot' if is_bot else 'nonbot')\n",
    "\n",
    "\n",
    "\n",
    "\n",
    "                except (json.JSONDecodeError, TypeError) as e:\n",
    "                    print(f\"Error processing response: {e}\")\n",
    "\n",
    "\n",
    "\n",
    "\n",
    "    # Process both bot and non-bot data\n",
    "    process_data(data_bot, is_bot=True)\n",
    "    process_data(data_nonbot, is_bot=False)\n",
    "\n",
    "\n",
    "\n",
    "\n",
    "    return G\n",
    "\n",
    "\n",
    "\n",
    "\n",
    "\n",
    "\n",
    "\n",
    "\n",
    "def visualize_network(G):\n",
    "    \"\"\"Visualize themes with node sizes and colors representing different attributes.\"\"\"\n",
    "    # Prepare node attributes\n",
    "    node_names = list(G.nodes())\n",
    "    \n",
    "    if not node_names:\n",
    "        print(\"No themes to visualize.\")\n",
    "        return\n",
    "\n",
    "\n",
    "\n",
    "\n",
    "    # Prepare node attributes\n",
    "    node_confidences = [G.nodes[node]['confidence'] for node in node_names]\n",
    "    node_centralities = [G.nodes[node]['centrality_weight'] for node in node_names]\n",
    "    \n",
    "    # Normalize node sizes based on confidence and centrality\n",
    "    max_confidence = max(node_confidences)\n",
    "    max_centrality = max(node_centralities)\n",
    "    \n",
    "    node_sizes = [\n",
    "        10 + ((G.nodes[node]['confidence'] / max_confidence) * 30) + \n",
    "        ((G.nodes[node]['centrality_weight'] / max_centrality) * 20) \n",
    "        for node in node_names\n",
    "    ]\n",
    "    \n",
    "    # Color coding for different theme types\n",
    "    def get_node_color(node):\n",
    "        theme_type = G.nodes[node].get('type', 'unknown')\n",
    "        sentiment = G.nodes[node][\"positive_sentiment\"] / 100\n",
    "        \n",
    "        if theme_type == 'bot':\n",
    "            # Blue shades for bot themes\n",
    "            r = min(max(int(50 + (sentiment * 155)), 0), 255)\n",
    "            return f'rgb({r},100,255)'\n",
    "        elif theme_type == 'nonbot':\n",
    "            # Red shades for non-bot themes\n",
    "            g = min(max(int(50 + (sentiment * 155)), 0), 255)\n",
    "            return f'rgb(255,{g},100)'\n",
    "        else:\n",
    "            # Mixed themes in purple\n",
    "            return 'rgb(128,0,128)'\n",
    "    \n",
    "    node_colors = [get_node_color(node) for node in node_names]\n",
    "\n",
    "\n",
    "\n",
    "\n",
    "    # Create traces\n",
    "    trace = go.Scatter(\n",
    "        x=np.random.rand(len(node_names)) * 10,  # Random x positions\n",
    "        y=np.random.rand(len(node_names)) * 10,  # Random y positions\n",
    "        mode='markers+text',\n",
    "        text=node_names,\n",
    "        textposition=\"top center\",\n",
    "        marker=dict(\n",
    "            size=node_sizes,\n",
    "            color=node_colors,\n",
    "            line=dict(width=1, color='DarkSlateGrey')\n",
    "        ),\n",
    "        hovertext=[\n",
    "            f\"Theme: {node}<br>\"\n",
    "            f\"Type: {G.nodes[node].get('type', 'unknown')}<br>\"\n",
    "            f\"Confidence: {G.nodes[node]['confidence']}%<br>\"\n",
    "            f\"Centrality: {G.nodes[node]['centrality_weight']}<br>\"\n",
    "            f\"Keywords: {', '.join(G.nodes[node]['keywords'])}<br>\"\n",
    "            f\"Sentiment: +{G.nodes[node]['positive_sentiment']}% \"\n",
    "            f\"0{G.nodes[node]['neutral_sentiment']}% \"\n",
    "            f\"-{G.nodes[node]['negative_sentiment']}%\"\n",
    "            for node in node_names\n",
    "        ],\n",
    "        hoverinfo='text'\n",
    "    )\n",
    "\n",
    "\n",
    "\n",
    "\n",
    "    # Create figure\n",
    "    fig = go.Figure(data=[trace])\n",
    "\n",
    "\n",
    "\n",
    "\n",
    "    # Update layout\n",
    "    fig.update_layout(\n",
    "        title=\"Theme Network Visualization (Blue: Bot, Red: Non-Bot, Purple: Mixed)\",\n",
    "        showlegend=False,\n",
    "        hovermode='closest',\n",
    "        width=1000,\n",
    "        height=800,\n",
    "        xaxis=dict(showgrid=False, zeroline=False, showticklabels=False),\n",
    "        yaxis=dict(showgrid=False, zeroline=False, showticklabels=False),\n",
    "        plot_bgcolor='white',\n",
    "        paper_bgcolor='white'\n",
    "    )\n",
    "\n",
    "\n",
    "\n",
    "\n",
    "    # Print theme statistics\n",
    "    print(\"Theme Statistics:\")\n",
    "    bot_themes = [node for node in node_names if G.nodes[node].get('type') == 'bot']\n",
    "    nonbot_themes = [node for node in node_names if G.nodes[node].get('type') == 'nonbot']\n",
    "    mixed_themes = [node for node in node_names if G.nodes[node].get('type') == 'mixed']\n",
    "    \n",
    "    print(f\"Total Themes: {len(node_names)}\")\n",
    "    print(f\"Bot Themes: {len(bot_themes)}\")\n",
    "    print(f\"Non-Bot Themes: {len(nonbot_themes)}\")\n",
    "    print(f\"Mixed Themes: {len(mixed_themes)}\")\n",
    "    \n",
    "    print(\"\\nBot Themes:\")\n",
    "    for node in bot_themes:\n",
    "        print(f\"  {node}\")\n",
    "    \n",
    "    print(\"\\nNon-Bot Themes:\")\n",
    "    for node in nonbot_themes:\n",
    "        print(f\"  {node}\")\n",
    "    \n",
    "    print(\"\\nMixed Themes:\")\n",
    "    for node in mixed_themes:\n",
    "        print(f\"  {node}\")\n",
    "\n",
    "\n",
    "\n",
    "\n",
    "    # Show the figure\n",
    "    fig.show()\n",
    "\n",
    "\n",
    "\n",
    "\n",
    "\n",
    "\n",
    "\n",
    "\n",
    "# Load the JSON files\n",
    "data_label_0 = load_json_file('label_0_1.json')  # Bot data\n",
    "data_label_1 = load_json_file('label_1_1.json')  # Non-bot data\n",
    "\n",
    "\n",
    "\n",
    "\n",
    "# Create the network\n",
    "theme_network = create_theme_network(data_label_0, data_label_1, min_confidence=50)\n",
    "\n",
    "\n",
    "\n",
    "\n",
    "# Visualize the network\n",
    "visualize_network(theme_network)"
   ]
  },
  {
   "cell_type": "code",
   "execution_count": 18,
   "metadata": {},
   "outputs": [
    {
     "name": "stdout",
     "output_type": "stream",
     "text": [
      "Total Themes: 214\n",
      "Bot Themes: 112\n",
      "Non-Bot Themes: 90\n",
      "Mixed Themes: 12\n"
     ]
    },
    {
     "data": {
      "application/vnd.plotly.v1+json": {
       "config": {
        "plotlyServerURL": "https://plot.ly"
       },
       "data": [
        {
         "marker": {
          "color": "rgb(255,0,0)",
          "line": {
           "color": "rgb(139,0,0)",
           "width": 1
          },
          "size": 8
         },
         "mode": "markers+text",
         "name": "Bot Themes",
         "text": [
          "Programming",
          "Bitcoin",
          "Coding/Programming",
          "Literary/Artistic Expression",
          "Mathematics/Science",
          "Mathematics",
          "Obscenity",
          "Miscellaneous",
          "Anger and Frustration",
          "General Knowledge",
          "Sound/Loud Noise",
          "Finance/Technology",
          "Lazy Day",
          "Storytelling",
          "Geography",
          "Fashion",
          "Maternity",
          "InfoSec",
          "Education",
          "Gaming",
          "Language and Culture",
          "Memories and Socialising",
          "Cryptocurrency Regulation",
          "Robotics/Hobbies",
          "Social Identity/Bot Information",
          "Health/Sickness",
          "Negative Reaction",
          "Praise and Devotion",
          "Audio and Music",
          "Gaming and Entertainment",
          "Community",
          "Creativity",
          "Mechanics",
          "mathematical expression",
          "lyrics",
          "politics and history",
          "poetry and art",
          "humor and satire",
          "Life",
          "Motivation",
          "Personal Advice",
          "Productivity",
          "Food and Wine",
          "Social Awareness",
          "Entertainment News",
          "Faith and Motivation",
          "Geographic Information",
          "Science",
          "Security",
          "Mental Health and Wellness",
          "Daily Life/Emotions",
          "Inspirational Quote",
          "Music/Inspiration",
          "Philosophy",
          "Quote",
          "Abstract Questions",
          "Computer Systems",
          "Romance",
          "Health",
          "Cryptocurrency",
          "Arduino",
          "Condolence/Obituary",
          "Celebration/Relief",
          "Personal Aspiration/Education",
          "Social Interaction/Correction",
          "Technology or Programming",
          "Relationship",
          "Excitement",
          "Breakup",
          "Music and Dance",
          "Science Fiction and Fantasy",
          "Mental Health/Emotional Distress",
          "Data Breach/Security",
          "Linux/Technology",
          "Business/Economy",
          "Security/Vulnerabilities",
          "humor",
          "science fiction",
          "Movies/Entertainment",
          "News",
          "Personal",
          "Object",
          "Expression of Frustration",
          "Mathematical Expression",
          "Survival",
          "Business",
          "Greeting",
          "Dyslexia Awareness",
          "Ode to Technology",
          "Movies",
          "Instruction/Guide",
          "Shopping",
          "Crypto Scandal",
          "Emotional Expression",
          "Location Criticism",
          "Bitcoin News",
          "Bitcoin Market Analysis",
          "Space Exploration",
          "Cybersecurity Competition",
          "Celebrity Gossip",
          "Mathematical Equation",
          "Financial News",
          "Work Reminder",
          "Lying",
          "Humor or Satire",
          "Social Media/Communication",
          "Music/Sound",
          "Linux Security",
          "Noise",
          "Question",
          "Marketing",
          "History"
         ],
         "textposition": "top center",
         "type": "scatter",
         "x": [
          -6.6356628566124956,
          -5.835456390613641,
          -5.87206206038568,
          -5.537763860951586,
          -4.763085282028002,
          -4.785773257170425,
          -5.39900635265052,
          -4.088244250563005,
          -4.706475116367251,
          -6.417256324877831,
          -4.068650364605093,
          -5.536290064913079,
          -4.690874211439803,
          -5.60483777611544,
          -4.01150335448578,
          -4.317920836578515,
          -5.8583193033940075,
          -3.541642835890177,
          -6.58237465089803,
          -3.4379744210425356,
          -6.07422380316717,
          -7.144760824663955,
          -3.082669186608708,
          -6.468610483690227,
          -5.275156142875656,
          -4.65957058319473,
          -6.18122461436105,
          -4.705572666430551,
          -6.253042485405987,
          -4.297552568593778,
          -5.401425036407233,
          -5.655735973124121,
          -5.091040353110926,
          -5.427926327387816,
          -4.1419065720476995,
          -4.670806522439263,
          -4.791766245666432,
          -4.133568418516565,
          -5.883129245571199,
          -5.653051892052021,
          -5.256247024368472,
          -4.969770510759086,
          -6.040199169630814,
          -6.323452113203103,
          -4.743844401170138,
          -5.167038668508576,
          -6.345081757336351,
          -6.144763267831122,
          -4.556967363364698,
          -4.399627504603575,
          -4.939906006816687,
          -4.449450364867204,
          -4.109435632530308,
          -7.17917851429859,
          -5.559364010051653,
          -5.606389005332882,
          -5.598288986888063,
          -4.124457181608388,
          -3.7757312726042294,
          -5.578663377596648,
          -5.606867865234921,
          -5.0389647536839295,
          -5.484508682813852,
          -4.75416805745256,
          -5.3874906451308355,
          -6.421700812052522,
          -6.012667189943206,
          -5.4174048363967,
          -6.489795503587871,
          -3.9317756672550344,
          -6.312714263040924,
          -4.818121227796579,
          -4.5632989126271735,
          -6.029448171446795,
          -5.29035267114269,
          -5.571016877582519,
          -5.493264981391926,
          -5.035839836006328,
          -5.215549168110769,
          -3.357986739620821,
          -4.28959005010925,
          -4.973790377729619,
          -3.9065526103700208,
          -4.163322889298383,
          -6.404467597298634,
          -5.629917503976097,
          -3.7454872863000865,
          -5.7745985122206775,
          -4.243977163521353,
          -4.864212086720568,
          -3.2031564057431536,
          -3.3471937948475805,
          -4.759529433056658,
          -2.774313947882295,
          -6.729331701696578,
          -5.440737315328135,
          -4.972070251741847,
          -6.115747163586839,
          -6.499876921309108,
          -6.249264621672758,
          -4.5490862309613656,
          -5.621762057399907,
          -5.308800225581166,
          -3.565918938691064,
          -4.343724031090998,
          -5.23496858730565,
          -3.0573915730083696,
          -3.7569968791063317,
          -5.8582080807765635,
          -4.584721503391371,
          -4.95548209220193,
          -4.916482100067191
         ],
         "y": [
          -5.716606092238347,
          -5.199065486901916,
          -5.74609464203788,
          -4.351483602755303,
          -4.102556401471325,
          -5.192116636825338,
          -4.1309546042232475,
          -5.5024629756982115,
          -4.200361761303521,
          -4.803517557194455,
          -6.443481505237707,
          -3.1767513964898875,
          -6.475643585189686,
          -4.948081037679738,
          -3.958343121886027,
          -4.8424044550678955,
          -1.9628351920128786,
          -5.405509068656809,
          -4.192436949988736,
          -5.386292764604827,
          -5.130671595990975,
          -5.5124928632761065,
          -5.011409234758937,
          -6.607177734788582,
          -4.590772275576244,
          -4.426994972195501,
          -6.936476923799951,
          -4.235486834767577,
          -4.3439028805017,
          -5.843122708666787,
          -4.647274792611492,
          -7.202347463715309,
          -3.4700956395687923,
          -5.434130520308658,
          -6.59673819921661,
          -4.586340706440546,
          -4.648485715380374,
          -5.417425653461962,
          -5.652289359459016,
          -5.959209107884311,
          -5.067907763638918,
          -3.3428136993326927,
          -5.834217923489319,
          -5.536594854364775,
          -5.47158815929271,
          -4.665605944427149,
          -5.114685829966426,
          -3.8916727839515888,
          -4.378105247704122,
          -4.805065974739765,
          -5.574768144768671,
          -5.490696355566977,
          -6.246846552937231,
          -5.519136834584437,
          -4.088231392483053,
          -3.9351194513443115,
          -5.945793064265255,
          -3.931683050439297,
          -5.523580380722009,
          -5.402912231798163,
          -5.846377192169526,
          -5.607139092513745,
          -5.637053895820575,
          -3.762832461443309,
          -5.610763825127647,
          -5.6914405389948115,
          -3.677528394112838,
          -7.109604100770243,
          -4.88913219271386,
          -5.345288958501674,
          -4.345230300796494,
          -4.940271672597845,
          -4.8281411309289775,
          -6.2374263389698745,
          -4.257661719151139,
          -4.262080069089523,
          -5.341896607521421,
          -4.988490362179319,
          -6.023489305565487,
          -3.3822114662221443,
          -4.517498079845116,
          -3.827875753579317,
          -4.060838399963083,
          -5.8219274207508604,
          -4.407188078098875,
          -5.418603370420723,
          -4.3638214046923185,
          -4.098555366303786,
          -5.8075452441558975,
          -4.823849471991668,
          -5.062099731085555,
          -4.04603209895124,
          -7.139215821876017,
          -4.0836340641817594,
          -6.0785217290447555,
          -3.8825506472691056,
          -4.823547031280509,
          -5.254729599292426,
          -4.920816808039228,
          -5.9560693771330815,
          -6.498065314976849,
          -3.614029939338849,
          -5.555448281978652,
          -5.332967997456991,
          -5.426525003517762,
          -6.741156655726872,
          -6.410081673900476,
          -4.993105420876563,
          -4.562698691483604,
          -4.44206879017899,
          -4.844183555116195,
          -5.3581251724774805
         ]
        },
        {
         "marker": {
          "color": "rgb(0,255,0)",
          "line": {
           "color": "rgb(0,100,0)",
           "width": 1
          },
          "size": 8
         },
         "mode": "markers+text",
         "name": "Non-Bot Themes",
         "text": [
          "Environment and Science",
          "Music and Arts",
          "Social Justice and Equality",
          "Animals and Pets",
          "Personal Expression",
          "Crime and Justice",
          "Social Commentary",
          "Philanthropy and Education",
          "Reality TV and Celebrity",
          "Conversation and Clarification",
          "Encryption and Security",
          "Politics and Current Events",
          "Community Events",
          "Nuclear Threat",
          "Celebration",
          "Politics & Elections",
          "Sarcasm/Disapproval",
          "Education & Community",
          "Entertainment & Culture",
          "Personal Life & Relationships",
          "Technology & Business",
          "Sports & Fitness",
          "Social Justice & Activism",
          "Social Comment/Condemnation",
          "Love/Relationship",
          "Social Cause/Hunger",
          "Reality TV",
          "Patriotism",
          "Canadian Politics",
          "Workplace Policies",
          "Positive News",
          "Good Luck",
          "Pet",
          "Gun Control",
          "Conference",
          "Bike Infrastructure",
          "Pop Culture",
          "News and Politics",
          "Support for Social Cause",
          "Literary/Awards",
          "Junk Food Ban",
          "Taxation",
          "Book Review",
          "Art",
          "IT Security",
          "Diversity",
          "Biography and Writing",
          "Support for Kashmir",
          "Criticism of Chris Melberger",
          "News Report",
          "Punjab Politics",
          "Reaction",
          "Weather",
          "Career Development",
          "Miley Cyrus at the Grammys",
          "Food Choice",
          "Politics/Elections",
          "Politics/Current Events",
          "Politics/Government",
          "Motherhood",
          "Travel",
          "Humor and Satire",
          "Social Media Deception",
          "Northern Pakistan",
          "Violence Against Women",
          "Awareness/Education",
          "Information/Sharing",
          "Criticism/Complaint",
          "Product Review",
          "Comedy and Entertainment",
          "Appreciation and Gratitude",
          "Birthday Wishes",
          "Positive Review",
          "Motivational Quote",
          "Political Campaign",
          "Get-Out-The-Vote Effort",
          "Customer Service Issue",
          "Music Event",
          "Social Movement",
          "Brexit",
          "Emergency Response",
          "Charity",
          "Celebrity and Current Events",
          "Charity and Donations",
          "Self-Assurance",
          "Phone and Communication",
          "Event and Development",
          "Harassment and Safety",
          "Politics and Conflict",
          "Social Event and Celebration"
         ],
         "textposition": "top center",
         "type": "scatter",
         "x": [
          4.526247059011657,
          4.196880795429086,
          3.551560669260728,
          4.533399018556406,
          3.508549510138711,
          6.277639541793944,
          5.984020492393023,
          4.933134727713887,
          7.126802477193987,
          4.945298596947969,
          5.053739344240582,
          7.374233902766514,
          4.941139202372962,
          6.7405443045812214,
          5.332341657954007,
          3.7913042552320078,
          5.673946183427451,
          5.250970777250415,
          5.051596185454109,
          5.893759861247766,
          3.2530064916882817,
          5.133301245981636,
          3.0855283518763335,
          4.493329071842616,
          5.132691226854031,
          5.446048752305571,
          3.756011426387788,
          6.272801869050716,
          5.634168053142193,
          4.806090391956911,
          4.441735998541109,
          5.258124469128409,
          5.47435107776323,
          4.84606017661193,
          3.757341315869236,
          5.091405230229808,
          4.240636999080551,
          5.6708852859080725,
          3.1601804103216544,
          4.6479265191465435,
          5.701526872060461,
          4.425703295351299,
          5.141192207239657,
          5.161799493566968,
          4.743661019616977,
          5.339270427693467,
          4.528223981035962,
          6.255932640692342,
          4.780972800442217,
          4.426253529132307,
          6.288837805086043,
          4.852661190265088,
          4.783442518374608,
          3.110198369469898,
          6.392666781587316,
          5.976039431719192,
          5.432472807822734,
          6.779657539003592,
          6.221153202326997,
          5.268322835247761,
          6.686343350092592,
          4.8088437952580465,
          5.252909889889626,
          7.038685250466919,
          4.8083927138756675,
          4.215972886999083,
          5.463447964328396,
          5.39098162453852,
          3.4050356579389778,
          5.4026963386577265,
          5.221572124435428,
          3.297204453026316,
          2.6388251297005536,
          5.573512568635137,
          4.90887361610461,
          6.155221669354183,
          5.337727093032935,
          5.652542312311922,
          4.975425796877715,
          3.8608180535472236,
          5.5023915802565915,
          4.5243275592188805,
          4.846961912257043,
          4.689511912269064,
          5.932378541237453,
          3.870033840945265,
          5.5534923269004555,
          5.376435201499634,
          5.09468977679753,
          3.7644028731905133
         ],
         "y": [
          6.92104749907466,
          5.386180584958463,
          3.6165707994083074,
          5.247944254547885,
          4.846617950646183,
          5.932255379776995,
          3.6805438315086443,
          5.537349037254,
          4.2136435031667245,
          4.927633717055312,
          5.7991016294224575,
          5.241420998874629,
          4.45887367694584,
          6.726041714891955,
          5.186265516661152,
          3.818232658237089,
          6.090128621654072,
          5.451695523681512,
          5.011065661533303,
          4.468645828277827,
          5.043477770625475,
          5.714628935550848,
          5.71965692950801,
          3.9406631273134813,
          6.140110457533721,
          5.479236085050229,
          4.731521203772645,
          5.65508445578473,
          4.86387026387459,
          5.855331733081618,
          6.827808089784591,
          4.382278485052123,
          5.60052220406086,
          4.137725870936248,
          4.394845513642233,
          2.5196258722703173,
          4.482839022846656,
          3.874238798024095,
          2.938975240151487,
          4.961198378523475,
          4.900095455138516,
          4.746327856785239,
          4.88600621898448,
          5.911292542116922,
          4.603504471512656,
          5.254617766708873,
          4.408703229910161,
          4.5165251120708305,
          6.429027778792183,
          3.0702767282148162,
          5.752114607678362,
          6.66180422491772,
          6.851407732541789,
          5.915787726458261,
          4.244138373959662,
          4.454342973845211,
          4.36655527317163,
          4.637435932810259,
          4.966090247738212,
          6.8412461750378695,
          4.851744434394569,
          4.417144468834796,
          7.405425794290082,
          6.011466403257149,
          4.841648800886172,
          2.255857201381144,
          5.522234950075774,
          4.939335873253501,
          4.056538286896455,
          4.7669017708721375,
          4.003759125187071,
          4.771553103498072,
          5.114473496391345,
          5.737612381181507,
          3.7554478810304857,
          3.9423725915079704,
          4.012912545673402,
          5.532861488044869,
          6.425492704243133,
          3.7257451484694353,
          5.000970527537517,
          5.193670909855627,
          6.249435285500722,
          4.914276861349739,
          6.340247856700237,
          3.3988138395139402,
          4.21248636996399,
          6.096083579595785,
          6.393104661664552,
          7.502863679391238
         ]
        },
        {
         "marker": {
          "color": "rgb(128,0,128)",
          "line": {
           "color": "rgb(75,0,130)",
           "width": 1
          },
          "size": 8
         },
         "mode": "markers+text",
         "name": "Mixed Themes",
         "text": [
          "Technology",
          "Entertainment",
          "Social Media",
          "Humor",
          "Politics",
          "Sports",
          "Music",
          "Encouragement",
          "Celebrity",
          "Finance",
          "Criticism",
          "Event"
         ],
         "textposition": "top center",
         "type": "scatter",
         "x": [
          -0.04542160961431011,
          0.4391580227062241,
          0.26045027335784793,
          0.094365179016026,
          1.1196198928486145,
          -0.9276998119204238,
          -1.9302907673613805,
          -0.6696088449963817,
          -0.5045947712930123,
          -1.168535834161419,
          0.04545176705876569,
          2.1543011248807513
         ],
         "y": [
          -0.6469414971572647,
          -0.7779199988665007,
          -0.47231480048007196,
          -0.017351611065819342,
          -0.5774351153268173,
          -0.7810874615833022,
          0.7388373176329164,
          -0.7960189579882819,
          -0.7431982053134392,
          -0.5985426189657331,
          -0.1286577463778089,
          -0.8716050092123345
         ]
        }
       ],
       "layout": {
        "height": 800,
        "hovermode": "closest",
        "margin": {
         "b": 20,
         "l": 20,
         "r": 20,
         "t": 60
        },
        "paper_bgcolor": "white",
        "plot_bgcolor": "white",
        "showlegend": true,
        "template": {
         "data": {
          "bar": [
           {
            "error_x": {
             "color": "#2a3f5f"
            },
            "error_y": {
             "color": "#2a3f5f"
            },
            "marker": {
             "line": {
              "color": "#E5ECF6",
              "width": 0.5
             },
             "pattern": {
              "fillmode": "overlay",
              "size": 10,
              "solidity": 0.2
             }
            },
            "type": "bar"
           }
          ],
          "barpolar": [
           {
            "marker": {
             "line": {
              "color": "#E5ECF6",
              "width": 0.5
             },
             "pattern": {
              "fillmode": "overlay",
              "size": 10,
              "solidity": 0.2
             }
            },
            "type": "barpolar"
           }
          ],
          "carpet": [
           {
            "aaxis": {
             "endlinecolor": "#2a3f5f",
             "gridcolor": "white",
             "linecolor": "white",
             "minorgridcolor": "white",
             "startlinecolor": "#2a3f5f"
            },
            "baxis": {
             "endlinecolor": "#2a3f5f",
             "gridcolor": "white",
             "linecolor": "white",
             "minorgridcolor": "white",
             "startlinecolor": "#2a3f5f"
            },
            "type": "carpet"
           }
          ],
          "choropleth": [
           {
            "colorbar": {
             "outlinewidth": 0,
             "ticks": ""
            },
            "type": "choropleth"
           }
          ],
          "contour": [
           {
            "colorbar": {
             "outlinewidth": 0,
             "ticks": ""
            },
            "colorscale": [
             [
              0,
              "#0d0887"
             ],
             [
              0.1111111111111111,
              "#46039f"
             ],
             [
              0.2222222222222222,
              "#7201a8"
             ],
             [
              0.3333333333333333,
              "#9c179e"
             ],
             [
              0.4444444444444444,
              "#bd3786"
             ],
             [
              0.5555555555555556,
              "#d8576b"
             ],
             [
              0.6666666666666666,
              "#ed7953"
             ],
             [
              0.7777777777777778,
              "#fb9f3a"
             ],
             [
              0.8888888888888888,
              "#fdca26"
             ],
             [
              1,
              "#f0f921"
             ]
            ],
            "type": "contour"
           }
          ],
          "contourcarpet": [
           {
            "colorbar": {
             "outlinewidth": 0,
             "ticks": ""
            },
            "type": "contourcarpet"
           }
          ],
          "heatmap": [
           {
            "colorbar": {
             "outlinewidth": 0,
             "ticks": ""
            },
            "colorscale": [
             [
              0,
              "#0d0887"
             ],
             [
              0.1111111111111111,
              "#46039f"
             ],
             [
              0.2222222222222222,
              "#7201a8"
             ],
             [
              0.3333333333333333,
              "#9c179e"
             ],
             [
              0.4444444444444444,
              "#bd3786"
             ],
             [
              0.5555555555555556,
              "#d8576b"
             ],
             [
              0.6666666666666666,
              "#ed7953"
             ],
             [
              0.7777777777777778,
              "#fb9f3a"
             ],
             [
              0.8888888888888888,
              "#fdca26"
             ],
             [
              1,
              "#f0f921"
             ]
            ],
            "type": "heatmap"
           }
          ],
          "heatmapgl": [
           {
            "colorbar": {
             "outlinewidth": 0,
             "ticks": ""
            },
            "colorscale": [
             [
              0,
              "#0d0887"
             ],
             [
              0.1111111111111111,
              "#46039f"
             ],
             [
              0.2222222222222222,
              "#7201a8"
             ],
             [
              0.3333333333333333,
              "#9c179e"
             ],
             [
              0.4444444444444444,
              "#bd3786"
             ],
             [
              0.5555555555555556,
              "#d8576b"
             ],
             [
              0.6666666666666666,
              "#ed7953"
             ],
             [
              0.7777777777777778,
              "#fb9f3a"
             ],
             [
              0.8888888888888888,
              "#fdca26"
             ],
             [
              1,
              "#f0f921"
             ]
            ],
            "type": "heatmapgl"
           }
          ],
          "histogram": [
           {
            "marker": {
             "pattern": {
              "fillmode": "overlay",
              "size": 10,
              "solidity": 0.2
             }
            },
            "type": "histogram"
           }
          ],
          "histogram2d": [
           {
            "colorbar": {
             "outlinewidth": 0,
             "ticks": ""
            },
            "colorscale": [
             [
              0,
              "#0d0887"
             ],
             [
              0.1111111111111111,
              "#46039f"
             ],
             [
              0.2222222222222222,
              "#7201a8"
             ],
             [
              0.3333333333333333,
              "#9c179e"
             ],
             [
              0.4444444444444444,
              "#bd3786"
             ],
             [
              0.5555555555555556,
              "#d8576b"
             ],
             [
              0.6666666666666666,
              "#ed7953"
             ],
             [
              0.7777777777777778,
              "#fb9f3a"
             ],
             [
              0.8888888888888888,
              "#fdca26"
             ],
             [
              1,
              "#f0f921"
             ]
            ],
            "type": "histogram2d"
           }
          ],
          "histogram2dcontour": [
           {
            "colorbar": {
             "outlinewidth": 0,
             "ticks": ""
            },
            "colorscale": [
             [
              0,
              "#0d0887"
             ],
             [
              0.1111111111111111,
              "#46039f"
             ],
             [
              0.2222222222222222,
              "#7201a8"
             ],
             [
              0.3333333333333333,
              "#9c179e"
             ],
             [
              0.4444444444444444,
              "#bd3786"
             ],
             [
              0.5555555555555556,
              "#d8576b"
             ],
             [
              0.6666666666666666,
              "#ed7953"
             ],
             [
              0.7777777777777778,
              "#fb9f3a"
             ],
             [
              0.8888888888888888,
              "#fdca26"
             ],
             [
              1,
              "#f0f921"
             ]
            ],
            "type": "histogram2dcontour"
           }
          ],
          "mesh3d": [
           {
            "colorbar": {
             "outlinewidth": 0,
             "ticks": ""
            },
            "type": "mesh3d"
           }
          ],
          "parcoords": [
           {
            "line": {
             "colorbar": {
              "outlinewidth": 0,
              "ticks": ""
             }
            },
            "type": "parcoords"
           }
          ],
          "pie": [
           {
            "automargin": true,
            "type": "pie"
           }
          ],
          "scatter": [
           {
            "fillpattern": {
             "fillmode": "overlay",
             "size": 10,
             "solidity": 0.2
            },
            "type": "scatter"
           }
          ],
          "scatter3d": [
           {
            "line": {
             "colorbar": {
              "outlinewidth": 0,
              "ticks": ""
             }
            },
            "marker": {
             "colorbar": {
              "outlinewidth": 0,
              "ticks": ""
             }
            },
            "type": "scatter3d"
           }
          ],
          "scattercarpet": [
           {
            "marker": {
             "colorbar": {
              "outlinewidth": 0,
              "ticks": ""
             }
            },
            "type": "scattercarpet"
           }
          ],
          "scattergeo": [
           {
            "marker": {
             "colorbar": {
              "outlinewidth": 0,
              "ticks": ""
             }
            },
            "type": "scattergeo"
           }
          ],
          "scattergl": [
           {
            "marker": {
             "colorbar": {
              "outlinewidth": 0,
              "ticks": ""
             }
            },
            "type": "scattergl"
           }
          ],
          "scattermapbox": [
           {
            "marker": {
             "colorbar": {
              "outlinewidth": 0,
              "ticks": ""
             }
            },
            "type": "scattermapbox"
           }
          ],
          "scatterpolar": [
           {
            "marker": {
             "colorbar": {
              "outlinewidth": 0,
              "ticks": ""
             }
            },
            "type": "scatterpolar"
           }
          ],
          "scatterpolargl": [
           {
            "marker": {
             "colorbar": {
              "outlinewidth": 0,
              "ticks": ""
             }
            },
            "type": "scatterpolargl"
           }
          ],
          "scatterternary": [
           {
            "marker": {
             "colorbar": {
              "outlinewidth": 0,
              "ticks": ""
             }
            },
            "type": "scatterternary"
           }
          ],
          "surface": [
           {
            "colorbar": {
             "outlinewidth": 0,
             "ticks": ""
            },
            "colorscale": [
             [
              0,
              "#0d0887"
             ],
             [
              0.1111111111111111,
              "#46039f"
             ],
             [
              0.2222222222222222,
              "#7201a8"
             ],
             [
              0.3333333333333333,
              "#9c179e"
             ],
             [
              0.4444444444444444,
              "#bd3786"
             ],
             [
              0.5555555555555556,
              "#d8576b"
             ],
             [
              0.6666666666666666,
              "#ed7953"
             ],
             [
              0.7777777777777778,
              "#fb9f3a"
             ],
             [
              0.8888888888888888,
              "#fdca26"
             ],
             [
              1,
              "#f0f921"
             ]
            ],
            "type": "surface"
           }
          ],
          "table": [
           {
            "cells": {
             "fill": {
              "color": "#EBF0F8"
             },
             "line": {
              "color": "white"
             }
            },
            "header": {
             "fill": {
              "color": "#C8D4E3"
             },
             "line": {
              "color": "white"
             }
            },
            "type": "table"
           }
          ]
         },
         "layout": {
          "annotationdefaults": {
           "arrowcolor": "#2a3f5f",
           "arrowhead": 0,
           "arrowwidth": 1
          },
          "autotypenumbers": "strict",
          "coloraxis": {
           "colorbar": {
            "outlinewidth": 0,
            "ticks": ""
           }
          },
          "colorscale": {
           "diverging": [
            [
             0,
             "#8e0152"
            ],
            [
             0.1,
             "#c51b7d"
            ],
            [
             0.2,
             "#de77ae"
            ],
            [
             0.3,
             "#f1b6da"
            ],
            [
             0.4,
             "#fde0ef"
            ],
            [
             0.5,
             "#f7f7f7"
            ],
            [
             0.6,
             "#e6f5d0"
            ],
            [
             0.7,
             "#b8e186"
            ],
            [
             0.8,
             "#7fbc41"
            ],
            [
             0.9,
             "#4d9221"
            ],
            [
             1,
             "#276419"
            ]
           ],
           "sequential": [
            [
             0,
             "#0d0887"
            ],
            [
             0.1111111111111111,
             "#46039f"
            ],
            [
             0.2222222222222222,
             "#7201a8"
            ],
            [
             0.3333333333333333,
             "#9c179e"
            ],
            [
             0.4444444444444444,
             "#bd3786"
            ],
            [
             0.5555555555555556,
             "#d8576b"
            ],
            [
             0.6666666666666666,
             "#ed7953"
            ],
            [
             0.7777777777777778,
             "#fb9f3a"
            ],
            [
             0.8888888888888888,
             "#fdca26"
            ],
            [
             1,
             "#f0f921"
            ]
           ],
           "sequentialminus": [
            [
             0,
             "#0d0887"
            ],
            [
             0.1111111111111111,
             "#46039f"
            ],
            [
             0.2222222222222222,
             "#7201a8"
            ],
            [
             0.3333333333333333,
             "#9c179e"
            ],
            [
             0.4444444444444444,
             "#bd3786"
            ],
            [
             0.5555555555555556,
             "#d8576b"
            ],
            [
             0.6666666666666666,
             "#ed7953"
            ],
            [
             0.7777777777777778,
             "#fb9f3a"
            ],
            [
             0.8888888888888888,
             "#fdca26"
            ],
            [
             1,
             "#f0f921"
            ]
           ]
          },
          "colorway": [
           "#636efa",
           "#EF553B",
           "#00cc96",
           "#ab63fa",
           "#FFA15A",
           "#19d3f3",
           "#FF6692",
           "#B6E880",
           "#FF97FF",
           "#FECB52"
          ],
          "font": {
           "color": "#2a3f5f"
          },
          "geo": {
           "bgcolor": "white",
           "lakecolor": "white",
           "landcolor": "#E5ECF6",
           "showlakes": true,
           "showland": true,
           "subunitcolor": "white"
          },
          "hoverlabel": {
           "align": "left"
          },
          "hovermode": "closest",
          "mapbox": {
           "style": "light"
          },
          "paper_bgcolor": "white",
          "plot_bgcolor": "#E5ECF6",
          "polar": {
           "angularaxis": {
            "gridcolor": "white",
            "linecolor": "white",
            "ticks": ""
           },
           "bgcolor": "#E5ECF6",
           "radialaxis": {
            "gridcolor": "white",
            "linecolor": "white",
            "ticks": ""
           }
          },
          "scene": {
           "xaxis": {
            "backgroundcolor": "#E5ECF6",
            "gridcolor": "white",
            "gridwidth": 2,
            "linecolor": "white",
            "showbackground": true,
            "ticks": "",
            "zerolinecolor": "white"
           },
           "yaxis": {
            "backgroundcolor": "#E5ECF6",
            "gridcolor": "white",
            "gridwidth": 2,
            "linecolor": "white",
            "showbackground": true,
            "ticks": "",
            "zerolinecolor": "white"
           },
           "zaxis": {
            "backgroundcolor": "#E5ECF6",
            "gridcolor": "white",
            "gridwidth": 2,
            "linecolor": "white",
            "showbackground": true,
            "ticks": "",
            "zerolinecolor": "white"
           }
          },
          "shapedefaults": {
           "line": {
            "color": "#2a3f5f"
           }
          },
          "ternary": {
           "aaxis": {
            "gridcolor": "white",
            "linecolor": "white",
            "ticks": ""
           },
           "baxis": {
            "gridcolor": "white",
            "linecolor": "white",
            "ticks": ""
           },
           "bgcolor": "#E5ECF6",
           "caxis": {
            "gridcolor": "white",
            "linecolor": "white",
            "ticks": ""
           }
          },
          "title": {
           "x": 0.05
          },
          "xaxis": {
           "automargin": true,
           "gridcolor": "white",
           "linecolor": "white",
           "ticks": "",
           "title": {
            "standoff": 15
           },
           "zerolinecolor": "white",
           "zerolinewidth": 2
          },
          "yaxis": {
           "automargin": true,
           "gridcolor": "white",
           "linecolor": "white",
           "ticks": "",
           "title": {
            "standoff": 15
           },
           "zerolinecolor": "white",
           "zerolinewidth": 2
          }
         }
        },
        "title": {
         "text": "Theme Network Visualization"
        },
        "width": 1000,
        "xaxis": {
         "range": [
          -10,
          10
         ],
         "showgrid": false,
         "showticklabels": false,
         "zeroline": false
        },
        "yaxis": {
         "range": [
          -10,
          10
         ],
         "showgrid": false,
         "showticklabels": false,
         "zeroline": false
        }
       }
      }
     },
     "metadata": {},
     "output_type": "display_data"
    }
   ],
   "source": [
    "import json\n",
    "import networkx as nx\n",
    "import plotly.graph_objects as go\n",
    "import numpy as np\n",
    "\n",
    "\n",
    "def load_json_file(file_path):\n",
    "    \"\"\"Load JSON file safely.\"\"\"\n",
    "    try:\n",
    "        with open(file_path, 'r', encoding='utf-8') as file:\n",
    "            return json.load(file)\n",
    "    except Exception as e:\n",
    "        print(f\"Error loading JSON file {file_path}: {e}\")\n",
    "        return []\n",
    "\n",
    "\n",
    "def create_theme_network(data_bot, data_nonbot, min_confidence=90):\n",
    "    \"\"\"Create a network graph from themes with a minimum confidence level.\"\"\"\n",
    "    G = nx.Graph()\n",
    "\n",
    "\n",
    "    def process_data(data, is_bot=True):\n",
    "        for item in data:\n",
    "            response = item.get('response')\n",
    "            if isinstance(response, str):\n",
    "                try:\n",
    "                    response_data = json.loads(response)\n",
    "                    themes = response_data.get('themes', [])\n",
    "\n",
    "\n",
    "                    for theme in themes:\n",
    "                        confidence = theme.get('confidence', 0)\n",
    "                        if confidence >= min_confidence:\n",
    "                            theme_name = theme['name']\n",
    "\n",
    "\n",
    "                            # Add or update theme node\n",
    "                            if not G.has_node(theme_name):\n",
    "                                G.add_node(theme_name,\n",
    "                                           type='theme',\n",
    "                                           is_bot=is_bot,\n",
    "                                           confidence=confidence)\n",
    "                            else:\n",
    "                                # If node exists and bot status is different, mark as mixed\n",
    "                                current_bot_status = G.nodes[theme_name].get('is_bot')\n",
    "                                if current_bot_status != is_bot:\n",
    "                                    G.nodes[theme_name]['is_bot'] = 'mixed'\n",
    "\n",
    "\n",
    "                except json.JSONDecodeError:\n",
    "                    print(f\"Invalid JSON in response: {response}\")\n",
    "\n",
    "\n",
    "    # Process bot and non-bot data\n",
    "    process_data(data_bot, is_bot=True)\n",
    "    process_data(data_nonbot, is_bot=False)\n",
    "\n",
    "\n",
    "    return G\n",
    "\n",
    "\n",
    "def visualize_network(G):\n",
    "    \"\"\"Visualize bot, non-bot, and mixed themes in clustered regions.\"\"\"\n",
    "    # Separate nodes by bot status\n",
    "    bot_nodes = [node for node, data in G.nodes(data=True) if data.get('is_bot') == True]\n",
    "    nonbot_nodes = [node for node, data in G.nodes(data=True) if data.get('is_bot') == False]\n",
    "    mixed_nodes = [node for node, data in G.nodes(data=True) if data.get('is_bot') == 'mixed']\n",
    "\n",
    "\n",
    "    # Create traces for each category\n",
    "    traces = []\n",
    "\n",
    "\n",
    "    # Bot nodes - clustered in bottom left\n",
    "    if bot_nodes:\n",
    "        bot_x = np.random.normal(loc=-5, scale=1, size=len(bot_nodes))\n",
    "        bot_y = np.random.normal(loc=-5, scale=1, size=len(bot_nodes))\n",
    "        bot_trace = go.Scatter(\n",
    "            x=bot_x,\n",
    "            y=bot_y,\n",
    "            mode='markers+text',\n",
    "            text=bot_nodes,\n",
    "            textposition=\"top center\",\n",
    "            marker=dict(\n",
    "                size=8,  # Smaller size\n",
    "                color='rgb(255,0,0)',  # Red\n",
    "                line=dict(width=1, color='rgb(139,0,0)')  # Dark red\n",
    "            ),\n",
    "            name='Bot Themes'\n",
    "        )\n",
    "        traces.append(bot_trace)\n",
    "\n",
    "\n",
    "    # Non-bot nodes - clustered in top right\n",
    "    if nonbot_nodes:\n",
    "        nonbot_x = np.random.normal(loc=5, scale=1, size=len(nonbot_nodes))\n",
    "        nonbot_y = np.random.normal(loc=5, scale=1, size=len(nonbot_nodes))\n",
    "        nonbot_trace = go.Scatter(\n",
    "            x=nonbot_x,\n",
    "            y=nonbot_y,\n",
    "            mode='markers+text',\n",
    "            text=nonbot_nodes,\n",
    "            textposition=\"top center\",\n",
    "            marker=dict(\n",
    "                size=8,  # Smaller size\n",
    "                color='rgb(0,255,0)',  # Green\n",
    "                line=dict(width=1, color='rgb(0,100,0)')  # Dark green\n",
    "            ),\n",
    "            name='Non-Bot Themes'\n",
    "        )\n",
    "        traces.append(nonbot_trace)\n",
    "\n",
    "\n",
    "    # Mixed nodes - clustered in center\n",
    "    if mixed_nodes:\n",
    "        mixed_x = np.random.normal(loc=0, scale=1, size=len(mixed_nodes))\n",
    "        mixed_y = np.random.normal(loc=0, scale=1, size=len(mixed_nodes))\n",
    "        mixed_trace = go.Scatter(\n",
    "            x=mixed_x,\n",
    "            y=mixed_y,\n",
    "            mode='markers+text',\n",
    "            text=mixed_nodes,\n",
    "            textposition=\"top center\",\n",
    "            marker=dict(\n",
    "                size=8,  # Smaller size\n",
    "                color='rgb(128,0,128)',  # Purple\n",
    "                line=dict(width=1, color='rgb(75,0,130)')  # Indigo\n",
    "            ),\n",
    "            name='Mixed Themes'\n",
    "        )\n",
    "        traces.append(mixed_trace)\n",
    "\n",
    "\n",
    "    # Create figure\n",
    "    fig = go.Figure(data=traces)\n",
    "\n",
    "\n",
    "    # Update layout for better visualization\n",
    "    fig.update_layout(\n",
    "        title=\"Theme Network Visualization\",\n",
    "        showlegend=True,\n",
    "        hovermode='closest',\n",
    "        width=1000,\n",
    "        height=800,\n",
    "        margin=dict(b=20, l=20, r=20, t=60),\n",
    "        xaxis=dict(\n",
    "            showgrid=False,\n",
    "            zeroline=False,\n",
    "            showticklabels=False,\n",
    "            range=[-10, 10]\n",
    "        ),\n",
    "        yaxis=dict(\n",
    "            showgrid=False,\n",
    "            zeroline=False,\n",
    "            showticklabels=False,\n",
    "            range=[-10, 10]\n",
    "        ),\n",
    "        plot_bgcolor='white',\n",
    "        paper_bgcolor='white'\n",
    "    )\n",
    "\n",
    "\n",
    "    # Print statistics\n",
    "    print(f\"Total Themes: {len(G.nodes())}\")\n",
    "    print(f\"Bot Themes: {len(bot_nodes)}\")\n",
    "    print(f\"Non-Bot Themes: {len(nonbot_nodes)}\")\n",
    "    print(f\"Mixed Themes: {len(mixed_nodes)}\")\n",
    "\n",
    "\n",
    "    # Show the figure\n",
    "    fig.show()\n",
    "\n",
    "\n",
    "# Load the JSON files\n",
    "data_label_0 = load_json_file('label_0.json')  # Bot data\n",
    "data_label_1 = load_json_file('label_1.json')  # Non-bot data\n",
    "\n",
    "\n",
    "# Create the network\n",
    "high_confidence_network = create_theme_network(data_label_0, data_label_1, min_confidence=90)\n",
    "\n",
    "\n",
    "# Visualize the network\n",
    "visualize_network(high_confidence_network)"
   ]
  },
  {
   "cell_type": "code",
   "execution_count": 21,
   "metadata": {},
   "outputs": [
    {
     "name": "stdout",
     "output_type": "stream",
     "text": [
      "Theme Statistics:\n",
      "Total Themes: 301\n",
      "Bot Themes: 80\n",
      "Non-Bot Themes: 176\n",
      "Mixed Themes: 45\n",
      "\n",
      "Bot Themes:\n",
      "  Technology and Coding\n",
      "  Culture and Entertainment\n",
      "  Science and Exploration\n",
      "  Emotional Expression and Art\n",
      "  Philosophy and Culture\n",
      "  Philosophical Musings and Wordplay\n",
      "  Health and Fitness\n",
      "  Emotions and Mental State\n",
      "  Weather and Environment\n",
      "  Social Interactions and Relationships\n",
      "  Tech and Software\n",
      "  Security and Vulnerability\n",
      "  Cryptocurrency\n",
      "  Love and Relationships\n",
      "  Inspiration and Creativity\n",
      "  Realism and Optimism\n",
      "  Social Interaction\n",
      "  Emotional Support and Concern\n",
      "  Life and Relationships\n",
      "  Celebrations and Hobbies\n",
      "  Gaming\n",
      "  Politics\n",
      "  Science Fiction\n",
      "  Humor\n",
      "  Bitcoin Miners\n",
      "  Space Exploration and Discovery\n",
      "  Pop Culture and Entertainment\n",
      "  Language and Sarcasm\n",
      "  Criticisms and Negativity\n",
      "  Lightheartedness and Humor\n",
      "  Politics and Justice\n",
      "  Lifestyle and Interests\n",
      "  Uncategorized\n",
      "  Social Media and Communication\n",
      "  Inspirational/Motivational\n",
      "  Politics and World Events\n",
      "  Cryptocurrency and Technology\n",
      "  Work and Productivity\n",
      "  Pop Culture and Humor\n",
      "  Travel/Transportation\n",
      "  Trust and Vulnerability\n",
      "  Emergency Preparedness\n",
      "  Security and Exploits\n",
      "  Human Experience and Emotions\n",
      "  Math and Science\n",
      "  Interrogation and Interview\n",
      "  Language and Culture\n",
      "  Cryptic Posts and Math\n",
      "  Financial/Business\n",
      "  Productivity and Motivation\n",
      "  College Life\n",
      "  Personal Reminders and Support\n",
      "  Education\n",
      "  US Politics\n",
      "  Technology\n",
      "  TV and Media\n",
      "  Entertainment and Hobbies\n",
      "  Personal Reminders and Self-Care\n",
      "  Science and Discovery\n",
      "  Philosophy and Social Commentary\n",
      "  Movie and TV News\n",
      "  Information Seeking\n",
      "  Cryptocurrency and Bitcoin\n",
      "  Technology and Entertainment\n",
      "  Encouragement\n",
      "  Cybersecurity and Technology\n",
      "  Emotional Wellbeing and Self-Care\n",
      "  Relationships and Social Connections\n",
      "  Work/Responsibility\n",
      "  Social Commentary and Critique\n",
      "  Exploration and Discovery\n",
      "  Relationships and Communication\n",
      "  Existentialism and Self-Discovery\n",
      "  Celebrity/Media Mentions\n",
      "  Hobbies\n",
      "  Social Media\n",
      "  Personal Growth\n",
      "  Personal Development\n",
      "  Respect and Empowerment\n",
      "  Philosophy and Human Interest\n",
      "\n",
      "Non-Bot Themes:\n",
      "  Traffic and Road Closure\n",
      "  Humor and Sarcastic Comment\n",
      "  Inspiration and Appreciation\n",
      "  Event and Announcement\n",
      "  Current Events and Alerts\n",
      "  Product and Service Promotions\n",
      "  Personal and Lighthearted Content\n",
      "  News and Information\n",
      "  Social Media and Tech\n",
      "  NRA and Politics\n",
      "  Amy Schumer and Trainwreck\n",
      "  Linkin Park and Music\n",
      "  Small Business and Entrepreneurship\n",
      "  Celebrity Culture and Humor\n",
      "  Social Media and Online Engagement\n",
      "  Personal and Emotional Experiences\n",
      "  Social Media Interactions\n",
      "  Workplace Issues\n",
      "  Motivation and Success\n",
      "  Marketing and Advertising\n",
      "  Celebrity and Lifestyles\n",
      "  Tributes and Reminders\n",
      "  Environmental Awareness\n",
      "  Personal and Professional Interests\n",
      "  Politics/Leadership\n",
      "  Food and Beverages\n",
      "  KP Govt Recognition\n",
      "  Success and Opportunity\n",
      "  Personal Growth and Development\n",
      "  Social Impact and Responsibility\n",
      "  Support and Inspiration\n",
      "  Haiku and Poetry\n",
      "  Random and Miscellaneous\n",
      "  Celebrities and Entertainment\n",
      "  Social and Community\n",
      "  International Relations and Politics\n",
      "  Personal Life and Relationships\n",
      "  Education and Learning\n",
      "  Crime and Law Enforcement\n",
      "  Gun Control\n",
      "  Celebration and Humor\n",
      "  Government and Politics\n",
      "  Religion and Community\n",
      "  News and Media\n",
      "  Social Media and Technology\n",
      "  Political Commentary and Criticism\n",
      "  Celebrations and Events\n",
      "  Politics and Elections\n",
      "  Support and Commendation\n",
      "  Information Sharing and News\n",
      "  Valentine's Day and Love\n",
      "  News\n",
      "  Celebrity and Public Interest\n",
      "  Food and Entertainment\n",
      "  Social Issues and Health\n",
      "  Technology and Programming\n",
      "  Social Media and Events\n",
      "  Politics and World News\n",
      "  Self-Care and Fitness\n",
      "  Relationships and Love\n",
      "  Adversity and Resilience\n",
      "  Canadian Politics and Security\n",
      "  Social Justice and Activism\n",
      "  Food and Beverage\n",
      "  Life and Mortality\n",
      "  Art and Culture\n",
      "  Social Issues\n",
      "  Racial Issues and Stereotypes\n",
      "  Celebrity News and Entertainment\n",
      "  Social Media and Politics\n",
      "  TV Shows and Pop Culture\n",
      "  Weather Discussion\n",
      "  Sports and Celebrity\n",
      "  Politics and International Relations\n",
      "  Tweets are about India\n",
      "  Politics and News\n",
      "  Celebrity and Recognition\n",
      "  Travel and Exploration\n",
      "  Writing and Literature\n",
      "  Discontent and Criticism\n",
      "  Pop Culture\n",
      "  Environmental Conservation\n",
      "  Entertainment and Leisure\n",
      "  Mental Health and Wellness\n",
      "  Celebrity and Royalty\n",
      "  Social Media and Online Presence\n",
      "  Personal Reflection and Advice\n",
      "  Social Justice and Empowerment\n",
      "  Economic Concerns\n",
      "  Transportation and Infrastructure\n",
      "  Education and Research\n",
      "  Reading and Books\n",
      "  Weather and Seasonal Activities\n",
      "  Funding and Crowdfunding\n",
      "  Pop Culture and Memes\n",
      "  Celebrity and Cultural News\n",
      "  Personal and Lighthearted\n",
      "  Personal Stories and Humor\n",
      "  Entertainment and Book Reviews\n",
      "  Social and Cultural\n",
      "  Gardening\n",
      "  Hall and Oates\n",
      "  Entertainment and Pop Culture\n",
      "  Workplace Culture and Management\n",
      "  Pakistan-Kashmir Relations\n",
      "  Financial and Economic Issues\n",
      "  Entertainment and Social Media\n",
      "  Technology and Futurism\n",
      "  Miscellaneous and Product Development\n",
      "  Miscellaneous and Event Promotion\n",
      "  Miscellaneous and Help Request\n",
      "  Miscellaneous and Miscellaneous\n",
      "  Miscellaneous and Unclassified\n",
      "  Cultural Trends and Observations\n",
      "  General Lifestyle and Updates\n",
      "  Positive Emotions and Appreciation\n",
      "  Information Sharing and Discussion\n",
      "  Concern and Awareness\n",
      "  Celebrity Culture and Awards\n",
      "  Personal Interests and Relationships\n",
      "  Entertainment and Music\n",
      "  Celebrity and Culture\n",
      "  Canadian Politics\n",
      "  Congressional Interns\n",
      "  Event\n",
      "  Congressional News\n",
      "  Empowerment and Personal Growth\n",
      "  Social Commentary and Criticism\n",
      "  Humor and Leisure\n",
      "  Social and Cultural Issues\n",
      "  Technology and Online Presence\n",
      "  General Interest and Lifestyle\n",
      "  Social Media and Online Culture\n",
      "  Daily Life and Observations\n",
      "  Personal and Inspirational\n",
      "  Entertainment and Humor\n",
      "  Sports and Cricket\n",
      "  Small Business\n",
      "  Event/Incident\n",
      "  Personal/Relationship\n",
      "  Positive Social Impact\n",
      "  Entertainment and Celebrity News\n",
      "  Breaking News\n",
      "  Human Rights and Social Justice\n",
      "  Australia's Politics and Infrastructure\n",
      "  Social Responsibility and Community\n",
      "  Personal and Social Life\n",
      "  Infrastructure and Public Safety\n",
      "  Cultural Expression and Appreciation\n",
      "  Politics/Current Events\n",
      "  Arts and Culture\n",
      "  Community and Events\n",
      "  Social Media and Connectivity\n",
      "  Violence Prevention\n",
      "  Motivational/ Inspirational\n",
      "  Personal Development and Career Growth\n",
      "  Cultural and Social Issues\n",
      "  Food and Dining\n",
      "  Technology and Manufacturing\n",
      "  Parenting and Family\n",
      "  Social Issues and Politics\n",
      "  Relationships and Pets\n",
      "  Community and Social Issues\n",
      "  Travel and Adventure\n",
      "  Celebrations\n",
      "  Disappointment and Frustration\n",
      "  European Union Politics\n",
      "  Personal Relationships and Interactions\n",
      "  Entertainment and Lifestyle\n",
      "  Productivity and Technology\n",
      "  Immigration and Refugees\n",
      "  Terrorism and Conflict\n",
      "  Secrets and Personal Information\n",
      "  Social Cause and Charity\n",
      "  Personal Life and Experiences\n",
      "  Communication and Technology\n",
      "\n",
      "Mixed Themes:\n",
      "  Business and Finance\n",
      "  Sports and Fitness\n",
      "  Social Interactions\n",
      "  Technology and Computing\n",
      "  Miscellaneous\n",
      "  Social Commentary\n",
      "  Technology and Innovation\n",
      "  Miscellaneous and Humor\n",
      "  Current Events and News\n",
      "  Politics and Governance\n",
      "  Sports\n",
      "  Health and Wellness\n",
      "  Film and Entertainment\n",
      "  Personal and Lifestyle\n",
      "  Sports and Entertainment\n",
      "  Music and Entertainment\n",
      "  Humor and Entertainment\n",
      "  Entertainment\n",
      "  Personal Struggles\n",
      "  Relationships\n",
      "  Technology and Security\n",
      "  Celebrity and Pop Culture\n",
      "  Celebrity and Entertainment\n",
      "  Social Commentary and Awareness\n",
      "  Entertainment and Culture\n",
      "  Education and Personal Development\n",
      "  Sports and Leisure\n",
      "  Celebrity and Public Figures\n",
      "  Travel and Tourism\n",
      "  Social Media and Entertainment\n",
      "  Celebrity News and Updates\n",
      "  Entertainment and Media\n",
      "  News and Updates\n",
      "  Politics and Current Events\n",
      "  News and Current Events\n",
      "  News and Politics\n",
      "  Politics and Social Issues\n",
      "  Politics and Activism\n",
      "  Current Events\n",
      "  Personal Interactions\n",
      "  Humor and Satire\n",
      "  Politics and Social Commentary\n",
      "  Celebrity and Entertainment News\n",
      "  Business and Entrepreneurship\n",
      "  Social Awareness and Activism\n"
     ]
    },
    {
     "data": {
      "application/vnd.plotly.v1+json": {
       "config": {
        "plotlyServerURL": "https://plot.ly"
       },
       "data": [
        {
         "hoverinfo": "text",
         "hovertext": [
          "Theme: Technology and Coding<br>Type: bot<br>Confidence: 85%<br>Centrality: 68<br>Keywords: VHDL, Verilog, programming, computer science<br>Sentiment: +0% 0100% -0%",
          "Theme: Business and Finance<br>Type: mixed<br>Confidence: 80%<br>Centrality: 62<br>Keywords: bitcoin, cryptocurrency, hiring, Gemini, NYSE, CIO<br>Sentiment: +75% 025% -0%",
          "Theme: Culture and Entertainment<br>Type: bot<br>Confidence: 70%<br>Centrality: 58<br>Keywords: art, haiku, Funko, Netflix, movie, God, amazing, experiences<br>Sentiment: +60% 040% -0%",
          "Theme: Sports and Fitness<br>Type: mixed<br>Confidence: 60%<br>Centrality: 52<br>Keywords: Bears, pro bowl, football, Corey, Graham, fitness<br>Sentiment: +50% 050% -0%",
          "Theme: Science and Exploration<br>Type: bot<br>Confidence: 55%<br>Centrality: 48<br>Keywords: planet, bushes, ringed fields, gopher, fin, science<br>Sentiment: +0% 0100% -0%",
          "Theme: Social Interactions<br>Type: mixed<br>Confidence: 80%<br>Centrality: 40<br>Keywords: love, doo-dah, kissing challenge, shaking<br>Sentiment: +60% 040% -0%",
          "Theme: Technology and Computing<br>Type: mixed<br>Confidence: 70%<br>Centrality: 30<br>Keywords: nested user namespace, linux, exploit, metasploit, exploidDB<br>Sentiment: +0% 0100% -0%",
          "Theme: Emotional Expression and Art<br>Type: bot<br>Confidence: 60%<br>Centrality: 30<br>Keywords: i love the blue and pink bobbly things, doo-dah, image, object<br>Sentiment: +50% 050% -0%",
          "Theme: Philosophy and Culture<br>Type: bot<br>Confidence: 50%<br>Centrality: 20<br>Keywords: disenchantment of the image, Linux, nested user namespace<br>Sentiment: +0% 0100% -0%",
          "Theme: Philosophical Musings and Wordplay<br>Type: bot<br>Confidence: 60%<br>Centrality: 40<br>Keywords: confidence, attitude, woods<br>Sentiment: +0% 0100% -0%",
          "Theme: Health and Fitness<br>Type: bot<br>Confidence: 80%<br>Centrality: 50<br>Keywords: Energy expenditure, Calories, Metabolic rate<br>Sentiment: +0% 0100% -0%",
          "Theme: Emotions and Mental State<br>Type: bot<br>Confidence: 70%<br>Centrality: 30<br>Keywords: Anger, Excitement, Euphoria<br>Sentiment: +40% 040% -20%",
          "Theme: Weather and Environment<br>Type: bot<br>Confidence: 50%<br>Centrality: 20<br>Keywords: Temperature, Humidity, Cloud cover<br>Sentiment: +0% 0100% -0%",
          "Theme: Social Interactions and Relationships<br>Type: bot<br>Confidence: 60%<br>Centrality: 20<br>Keywords: Sheriff, Friendship, Camaraderie<br>Sentiment: +20% 080% -0%",
          "Theme: Tech and Software<br>Type: bot<br>Confidence: 80%<br>Centrality: 70<br>Keywords: Microsoft, Edge, Chromium, Linux, RHEL, spice-server<br>Sentiment: +0% 050% -50%",
          "Theme: Miscellaneous<br>Type: mixed<br>Confidence: 50%<br>Centrality: 30<br>Keywords: Humor, Doo-dah, Liquorice<br>Sentiment: +0% 0100% -0%",
          "Theme: Security and Vulnerability<br>Type: bot<br>Confidence: 60%<br>Centrality: 40<br>Keywords: Naked Security, Security, Vulnerability<br>Sentiment: +0% 0100% -0%",
          "Theme: Cryptocurrency<br>Type: bot<br>Confidence: 70%<br>Centrality: 60<br>Keywords: Crypto, Government, Disclosure<br>Sentiment: +0% 0100% -0%",
          "Theme: Love and Relationships<br>Type: bot<br>Confidence: 80%<br>Centrality: 60<br>Keywords: love, girlfriend, diamond ring<br>Sentiment: +66.67% 016.67% -16.67%",
          "Theme: Inspiration and Creativity<br>Type: bot<br>Confidence: 70%<br>Centrality: 50<br>Keywords: music, story, inspiration<br>Sentiment: +83.33% 016.67% -0%",
          "Theme: Realism and Optimism<br>Type: bot<br>Confidence: 60%<br>Centrality: 40<br>Keywords: machine, planet, optimism<br>Sentiment: +66.67% 033.33% -0%",
          "Theme: Social Interaction<br>Type: bot<br>Confidence: 50%<br>Centrality: 30<br>Keywords: humor, whimsy, social sharing<br>Sentiment: +50% 050% -0%",
          "Theme: Emotional Support and Concern<br>Type: bot<br>Confidence: 85%<br>Centrality: 80<br>Keywords: fresh air, treat urself kindly, te deixarei, desampararei<br>Sentiment: +40% 040% -20%",
          "Theme: Life and Relationships<br>Type: bot<br>Confidence: 70%<br>Centrality: 60<br>Keywords: Luke, Grandad, doo-dah, doo-dah<br>Sentiment: +30% 050% -20%",
          "Theme: Celebrations and Hobbies<br>Type: bot<br>Confidence: 60%<br>Centrality: 50<br>Keywords: #NationalWineDay, #WineWednesday<br>Sentiment: +60% 030% -10%",
          "Theme: Gaming<br>Type: bot<br>Confidence: 80%<br>Centrality: 60<br>Keywords: LA NOIRE, gaming<br>Sentiment: +0% 0100% -0%",
          "Theme: Politics<br>Type: bot<br>Confidence: 80%<br>Centrality: 70<br>Keywords: Rumsfeld, MakeAmericaGreatAgain, TrumpTrain<br>Sentiment: +50% 050% -0%",
          "Theme: Science Fiction<br>Type: bot<br>Confidence: 50%<br>Centrality: 40<br>Keywords: planet, starshine, alien life<br>Sentiment: +0% 0100% -0%",
          "Theme: Humor<br>Type: bot<br>Confidence: 50%<br>Centrality: 20<br>Keywords: BONG BONG BONG BONG, wine<br>Sentiment: +20% 080% -0%",
          "Theme: Bitcoin Miners<br>Type: bot<br>Confidence: 60%<br>Centrality: 40<br>Keywords: Bitcoin, Miners, China<br>Sentiment: +0% 00% -100%",
          "Theme: Space Exploration and Discovery<br>Type: bot<br>Confidence: 90%<br>Centrality: 80<br>Keywords: planet, discovery, space<br>Sentiment: +40% 040% -20%",
          "Theme: Pop Culture and Entertainment<br>Type: bot<br>Confidence: 90%<br>Centrality: 80<br>Keywords: BONG, Quantum Break, Marco Rubio, RemyyXxX, God, pop culture<br>Sentiment: +40% 030% -30%",
          "Theme: Language and Sarcasm<br>Type: bot<br>Confidence: 80%<br>Centrality: 60<br>Keywords: Noooo, Doo-dah, Feint, shim<br>Sentiment: +0% 050% -50%",
          "Theme: Social Commentary<br>Type: mixed<br>Confidence: 60%<br>Centrality: 20<br>Keywords: time, disenchantment, invalidates, differences<br>Sentiment: +20% 020% -60%",
          "Theme: Criticisms and Negativity<br>Type: bot<br>Confidence: 64%<br>Centrality: 73<br>Keywords: holidays, hypocrisy, disappointment, frustration, cynicism<br>Sentiment: +0% 00% -100%",
          "Theme: Lightheartedness and Humor<br>Type: bot<br>Confidence: 72%<br>Centrality: 81<br>Keywords: wuvluv, cute, accidentalhaiku, shaggy linkups, tulips<br>Sentiment: +100% 00% -0%",
          "Theme: Politics and Justice<br>Type: bot<br>Confidence: 85%<br>Centrality: 80<br>Keywords: justice, judge, pill, allegations<br>Sentiment: +25% 00% -75%",
          "Theme: Technology and Innovation<br>Type: mixed<br>Confidence: 85%<br>Centrality: 70<br>Keywords: Podscripter, Transcription, AI, Robot<br>Sentiment: +60% 020% -20%",
          "Theme: Lifestyle and Interests<br>Type: bot<br>Confidence: 70%<br>Centrality: 80<br>Keywords: fashion, hobbies, video games, philosophy<br>Sentiment: +22% 078% -0%",
          "Theme: Uncategorized<br>Type: bot<br>Confidence: 55%<br>Centrality: 60<br>Keywords: abstract concepts, mathematical expressions<br>Sentiment: +0% 0100% -0%",
          "Theme: Social Media and Communication<br>Type: bot<br>Confidence: 80%<br>Centrality: 85<br>Keywords: social media, communication, networking<br>Sentiment: +0% 0100% -0%",
          "Theme: Inspirational/Motivational<br>Type: bot<br>Confidence: 60%<br>Centrality: 40<br>Keywords: move, win, home, sleep<br>Sentiment: +75% 025% -0%",
          "Theme: Politics and World Events<br>Type: bot<br>Confidence: 80%<br>Centrality: 60<br>Keywords: Syria, Obama<br>Sentiment: +0% 0100% -0%",
          "Theme: Cryptocurrency and Technology<br>Type: bot<br>Confidence: 70%<br>Centrality: 40<br>Keywords: EOS, Bitmain, Peter Thiel<br>Sentiment: +100% 00% -0%",
          "Theme: Work and Productivity<br>Type: bot<br>Confidence: 60%<br>Centrality: 55<br>Keywords: back to work, rest your eyes, hacking, China<br>Sentiment: +70% 00% -30%",
          "Theme: Pop Culture and Humor<br>Type: bot<br>Confidence: 85%<br>Centrality: 65<br>Keywords: haiku, interview, 42, The Hitchhiker's Guide to the Galaxy<br>Sentiment: +90% 010% -0%",
          "Theme: Travel/Transportation<br>Type: bot<br>Confidence: 100%<br>Centrality: 45<br>Keywords: Travel, Transportation, Aviation, Tourism, Wine<br>Sentiment: +40% 040% -20%",
          "Theme: Trust and Vulnerability<br>Type: bot<br>Confidence: 88%<br>Centrality: 82<br>Keywords: secrets, trust, computable knowledge, fly, beautiful<br>Sentiment: +60% 020% -20%",
          "Theme: Emergency Preparedness<br>Type: bot<br>Confidence: 80%<br>Centrality: 75<br>Keywords: tuna cans, poaching rings, emergency<br>Sentiment: +40% 040% -20%",
          "Theme: Security and Exploits<br>Type: bot<br>Confidence: 90%<br>Centrality: 85<br>Keywords: exploits, security, PHP-Proxy<br>Sentiment: +30% 050% -20%",
          "Theme: Human Experience and Emotions<br>Type: bot<br>Confidence: 85%<br>Centrality: 78<br>Keywords: bum, favorite things, social interactions<br>Sentiment: +50% 030% -20%",
          "Theme: Miscellaneous and Humor<br>Type: mixed<br>Confidence: 80%<br>Centrality: 72<br>Keywords: humor, N\\xc3\\xa3o temas<br>Sentiment: +60% 030% -10%",
          "Theme: Math and Science<br>Type: bot<br>Confidence: 85%<br>Centrality: 80<br>Keywords: math, science, computable knowledge<br>Sentiment: +50% 030% -20%",
          "Theme: Interrogation and Interview<br>Type: bot<br>Confidence: 80%<br>Centrality: 75<br>Keywords: interrogation, interview, conversational dynamics<br>Sentiment: +40% 040% -20%",
          "Theme: Language and Culture<br>Type: bot<br>Confidence: 80%<br>Centrality: 72<br>Keywords: language, culture, N\\xc3\\xa3o temas<br>Sentiment: +60% 030% -10%",
          "Theme: Cryptic Posts and Math<br>Type: bot<br>Confidence: 85%<br>Centrality: 80<br>Keywords: cryptic, math, equation<br>Sentiment: +50% 030% -20%",
          "Theme: Financial/Business<br>Type: bot<br>Confidence: 80%<br>Centrality: 85<br>Keywords: billionaire, Ethereum, recovery code<br>Sentiment: +0% 050% -50%",
          "Theme: Productivity and Motivation<br>Type: bot<br>Confidence: 80%<br>Centrality: 70<br>Keywords: motivation, productivity, fashion show<br>Sentiment: +40% 050% -10%",
          "Theme: Current Events and News<br>Type: mixed<br>Confidence: 88%<br>Centrality: 92<br>Keywords: Vote, EDF, Commerzbank, Inflation, Red Hook, SandyAid, NY, Cloud, Software AG, HelpNetSecurity<br>Sentiment: +20% 080% -0%",
          "Theme: College Life<br>Type: bot<br>Confidence: 88%<br>Centrality: 80<br>Keywords: dorm, college, jealous<br>Sentiment: +0% 050% -50%",
          "Theme: Personal Reminders and Support<br>Type: bot<br>Confidence: 70%<br>Centrality: 85<br>Keywords: help, support, friends<br>Sentiment: +66.67% 033.33% -0%",
          "Theme: Education<br>Type: bot<br>Confidence: 85%<br>Centrality: 40<br>Keywords: dyslexia, common core, statistics, education<br>Sentiment: +66.67% 00% -33.33%",
          "Theme: Politics and Governance<br>Type: mixed<br>Confidence: 80%<br>Centrality: 60<br>Keywords: government, officials, policies, laws, regulations<br>Sentiment: +0% 075% -25%",
          "Theme: Sports<br>Type: mixed<br>Confidence: 60%<br>Centrality: 40<br>Keywords: athletes, sports<br>Sentiment: +75% 025% -0%",
          "Theme: US Politics<br>Type: bot<br>Confidence: 80%<br>Centrality: 70<br>Keywords: ObamaCare, Primary, INPrimary<br>Sentiment: +0% 040% -60%",
          "Theme: Health and Wellness<br>Type: mixed<br>Confidence: 60%<br>Centrality: 60<br>Keywords: fitness, workout<br>Sentiment: +80% 020% -0%",
          "Theme: Technology<br>Type: bot<br>Confidence: 50%<br>Centrality: 50<br>Keywords: Microservices, application development<br>Sentiment: +0% 0100% -0%",
          "Theme: TV and Media<br>Type: bot<br>Confidence: 80%<br>Centrality: 40<br>Keywords: Netflix, TV, Instant, Season 2<br>Sentiment: +0% 0100% -0%",
          "Theme: Entertainment and Hobbies<br>Type: bot<br>Confidence: 80%<br>Centrality: 50<br>Keywords: opera, music, theater, gaming, water, self-care, primark, online store, interest, deduction, limits, frozen, mrc, planet, space, stargaze<br>Sentiment: +33.33% 066.67% -0%",
          "Theme: Personal Reminders and Self-Care<br>Type: bot<br>Confidence: 60%<br>Centrality: 30<br>Keywords: eyes, rest, health, water, hydration, nutrition<br>Sentiment: +100% 00% -0%",
          "Theme: Film and Entertainment<br>Type: mixed<br>Confidence: 90%<br>Centrality: 50<br>Keywords: Cage, Atlantic City, WW2, film, production<br>Sentiment: +40% 050% -10%",
          "Theme: Personal and Lifestyle<br>Type: mixed<br>Confidence: 70%<br>Centrality: 10<br>Keywords: oil, blotting papers, road, tomorrow<br>Sentiment: +60% 030% -10%",
          "Theme: Science and Discovery<br>Type: bot<br>Confidence: 95%<br>Centrality: 20<br>Keywords: planet, cyborg<br>Sentiment: +40% 040% -20%",
          "Theme: Philosophy and Social Commentary<br>Type: bot<br>Confidence: 80%<br>Centrality: 20<br>Keywords: feminism, sabotage<br>Sentiment: +20% 030% -50%",
          "Theme: Movie and TV News<br>Type: bot<br>Confidence: 70%<br>Centrality: 60<br>Keywords: Nicolas Cage, movies, Bitcoin, miner<br>Sentiment: +0% 0100% -0%",
          "Theme: Information Seeking<br>Type: bot<br>Confidence: 80%<br>Centrality: 85<br>Keywords: keys, instructions, help<br>Sentiment: +0% 0100% -0%",
          "Theme: Sports and Entertainment<br>Type: mixed<br>Confidence: 75%<br>Centrality: 80<br>Keywords: stoletheshow, mind, titles, aren't, won, August<br>Sentiment: +25% 050% -25%",
          "Theme: Cryptocurrency and Bitcoin<br>Type: bot<br>Confidence: 100%<br>Centrality: 80<br>Keywords: bitcoin, bch, bug, price, security<br>Sentiment: +0% 020% -80%",
          "Theme: Music and Entertainment<br>Type: mixed<br>Confidence: 50%<br>Centrality: 20<br>Keywords: music, artist, price<br>Sentiment: +0% 050% -50%",
          "Theme: Technology and Entertainment<br>Type: bot<br>Confidence: 80%<br>Centrality: 60<br>Keywords: Twitter, Social Media, Gaming, Wine, Beverage Reviews, Science Fiction, Fantasy, Media<br>Sentiment: +85% 05% -10%",
          "Theme: Encouragement<br>Type: bot<br>Confidence: 80%<br>Centrality: 70<br>Keywords: breathe, take care of urself, get back to work, eat something<br>Sentiment: +50% 050% -0%",
          "Theme: Cybersecurity and Technology<br>Type: bot<br>Confidence: 80%<br>Centrality: 50<br>Keywords: cybersecurity, competition, Dark Reading, CSAW<br>Sentiment: +0% 0100% -0%",
          "Theme: Emotional Wellbeing and Self-Care<br>Type: bot<br>Confidence: 70%<br>Centrality: 30<br>Keywords: self-care, grounding, pancakes, wine<br>Sentiment: +100% 00% -0%",
          "Theme: Relationships and Social Connections<br>Type: bot<br>Confidence: 60%<br>Centrality: 20<br>Keywords: celebrity, crush, friendship, support<br>Sentiment: +100% 00% -0%",
          "Theme: Work/Responsibility<br>Type: bot<br>Confidence: 85%<br>Centrality: 90<br>Keywords: GET BACK TO WORK, Idris, Haskell, Robot pussy<br>Sentiment: +0% 090% -10%",
          "Theme: Social Commentary and Critique<br>Type: bot<br>Confidence: 80%<br>Centrality: 85<br>Keywords: lie, deception, dishonesty, authority, norms, question, kindness, empathy, respect<br>Sentiment: +20% 040% -40%",
          "Theme: Exploration and Discovery<br>Type: bot<br>Confidence: 80%<br>Centrality: 70<br>Keywords: planet, discovered, space, relaxation, self-care<br>Sentiment: +20% 070% -10%",
          "Theme: Relationships and Communication<br>Type: bot<br>Confidence: 60%<br>Centrality: 50<br>Keywords: communicating, secret, love, relationship<br>Sentiment: +30% 040% -30%",
          "Theme: Humor and Entertainment<br>Type: mixed<br>Confidence: 80%<br>Centrality: 70<br>Keywords: RT, #accidentalhaiku, wingmanning, liquorice<br>Sentiment: +80% 010% -10%",
          "Theme: Existentialism and Self-Discovery<br>Type: bot<br>Confidence: 65%<br>Centrality: 55<br>Keywords: life, meaning, errancy, self-expression, authenticity<br>Sentiment: +20% 040% -40%",
          "Theme: Celebrity/Media Mentions<br>Type: bot<br>Confidence: 60%<br>Centrality: 20<br>Keywords: Leonard Cohen, RIP<br>Sentiment: +20% 030% -50%",
          "Theme: Entertainment<br>Type: mixed<br>Confidence: 80%<br>Centrality: 40<br>Keywords: Movie, Celebrity, Pop Culture<br>Sentiment: +0% 0100% -0%",
          "Theme: Personal Struggles<br>Type: mixed<br>Confidence: 70%<br>Centrality: 30<br>Keywords: Relationship, Personal growth<br>Sentiment: +0% 080% -20%",
          "Theme: Hobbies<br>Type: bot<br>Confidence: 50%<br>Centrality: 10<br>Keywords: Sports, Photography<br>Sentiment: +0% 0100% -0%",
          "Theme: Social Media<br>Type: bot<br>Confidence: 50%<br>Centrality: 20<br>Keywords: Social media, Social media platforms<br>Sentiment: +40% 060% -0%",
          "Theme: Personal Growth<br>Type: bot<br>Confidence: 50%<br>Centrality: 30<br>Keywords: Personal growth, Self-improvement<br>Sentiment: +0% 080% -20%",
          "Theme: Relationships<br>Type: mixed<br>Confidence: 80%<br>Centrality: 50<br>Keywords: Relationship, Romantic relationships<br>Sentiment: +0% 080% -20%",
          "Theme: Personal Development<br>Type: bot<br>Confidence: 50%<br>Centrality: 40<br>Keywords: Personal development, Self-awareness<br>Sentiment: +0% 080% -20%",
          "Theme: Respect and Empowerment<br>Type: bot<br>Confidence: 80%<br>Centrality: 70<br>Keywords: respect, dignity, self-worth<br>Sentiment: +100% 00% -0%",
          "Theme: Technology and Security<br>Type: mixed<br>Confidence: 80%<br>Centrality: 60<br>Keywords: #CentOS, #Nessus, security, Sentinel, AndroidDev<br>Sentiment: +0% 0100% -0%",
          "Theme: Philosophy and Human Interest<br>Type: bot<br>Confidence: 50%<br>Centrality: 80<br>Keywords: dogs down, Why is a dirt found in a refrigerator?, WEATHER REVIEWS<br>Sentiment: +50% 025% -25%",
          "Theme: Traffic and Road Closure<br>Type: nonbot<br>Confidence: 80%<br>Centrality: 60<br>Keywords: ramps back open, scene cleared<br>Sentiment: +0% 0100% -0%",
          "Theme: Celebrity and Pop Culture<br>Type: mixed<br>Confidence: 70%<br>Centrality: 40<br>Keywords: Islamic Teachings, peace, ReptarAzar, Jordonsteele, aabill, mkapor, doctorow, metaguide, Best Quora Answers, Meteora20, benabyad, GuyFieri, FoodNetworkBR, ChefNoel<br>Sentiment: +50% 050% -0%",
          "Theme: Humor and Sarcastic Comment<br>Type: nonbot<br>Confidence: 60%<br>Centrality: 20<br>Keywords: pour over, Lol<br>Sentiment: +100% 00% -0%",
          "Theme: Inspiration and Appreciation<br>Type: nonbot<br>Confidence: 50%<br>Centrality: 10<br>Keywords: speech, amazing, kudos<br>Sentiment: +100% 00% -0%",
          "Theme: Event and Announcement<br>Type: nonbot<br>Confidence: 50%<br>Centrality: 10<br>Keywords: Topical, http<br>Sentiment: +0% 0100% -0%",
          "Theme: Celebrity and Entertainment<br>Type: mixed<br>Confidence: 85%<br>Centrality: 60<br>Keywords: MominaMustehsan, TheAimaBaig, Beauty<br>Sentiment: +57% 029% -14%",
          "Theme: Current Events and Alerts<br>Type: nonbot<br>Confidence: 80%<br>Centrality: 40<br>Keywords: evacuate, FloridaKeys<br>Sentiment: +0% 014% -86%",
          "Theme: Product and Service Promotions<br>Type: nonbot<br>Confidence: 75%<br>Centrality: 30<br>Keywords: metaguide, DialogSystems<br>Sentiment: +10% 090% -0%",
          "Theme: Social Commentary and Awareness<br>Type: mixed<br>Confidence: 80%<br>Centrality: 85<br>Keywords: social commentary, awareness, government, policy, social proof<br>Sentiment: +0% 050% -50%",
          "Theme: Personal and Lighthearted Content<br>Type: nonbot<br>Confidence: 60%<br>Centrality: 75<br>Keywords: celebrity, entertainment, personal relationships<br>Sentiment: +100% 00% -0%",
          "Theme: News and Information<br>Type: nonbot<br>Confidence: 90%<br>Centrality: 95<br>Keywords: news, information, environment<br>Sentiment: +0% 00% -100%",
          "Theme: Entertainment and Culture<br>Type: mixed<br>Confidence: 95%<br>Centrality: 92<br>Keywords: music, movies, celebrities, social media<br>Sentiment: +83% 017% -0%",
          "Theme: Education and Personal Development<br>Type: mixed<br>Confidence: 88%<br>Centrality: 78<br>Keywords: college, uni life, business, entrepreneurship<br>Sentiment: +50% 050% -0%",
          "Theme: Sports and Leisure<br>Type: mixed<br>Confidence: 80%<br>Centrality: 67<br>Keywords: skiing, winter sports, music festivals, events<br>Sentiment: +100% 00% -0%",
          "Theme: Social Media and Tech<br>Type: nonbot<br>Confidence: 90%<br>Centrality: 83<br>Keywords: social media, post office, bureaucracy<br>Sentiment: +0% 017% -83%",
          "Theme: NRA and Politics<br>Type: nonbot<br>Confidence: 80%<br>Centrality: 70<br>Keywords: gun control, civil rights, NRA, Trump<br>Sentiment: +0% 00% -100%",
          "Theme: Amy Schumer and Trainwreck<br>Type: nonbot<br>Confidence: 90%<br>Centrality: 85<br>Keywords: Amy Schumer, comedy, Trainwreck, entertainment<br>Sentiment: +100% 00% -0%",
          "Theme: Linkin Park and Music<br>Type: nonbot<br>Confidence: 95%<br>Centrality: 92<br>Keywords: music, fandom, Linkin Park, community<br>Sentiment: +83% 017% -0%",
          "Theme: Small Business and Entrepreneurship<br>Type: nonbot<br>Confidence: 90%<br>Centrality: 83<br>Keywords: small business, innovation, networking, community<br>Sentiment: +67% 033% -0%",
          "Theme: Celebrity Culture and Humor<br>Type: nonbot<br>Confidence: 70%<br>Centrality: 60<br>Keywords: ConnieSchultz, robkardashian, EinsteinBeach, smocking gun, relativity theory, single payer healthcare<br>Sentiment: +60% 020% -20%",
          "Theme: Social Media and Online Engagement<br>Type: nonbot<br>Confidence: 98%<br>Centrality: 85<br>Keywords: social media, online engagement, book, reading, pop culture, entertainment, politics, current events<br>Sentiment: +71% 015% -14%",
          "Theme: Personal and Emotional Experiences<br>Type: nonbot<br>Confidence: 90%<br>Centrality: 80<br>Keywords: personal experiences, emotional support, growth, self-improvement, empathy<br>Sentiment: +85% 010% -5%",
          "Theme: Social Media Interactions<br>Type: nonbot<br>Confidence: 80%<br>Centrality: 65<br>Keywords: social media, engagement, interaction<br>Sentiment: +70% 015% -15%",
          "Theme: Celebrity and Public Figures<br>Type: mixed<br>Confidence: 75%<br>Centrality: 60<br>Keywords: celebrity, public figures, linkinpark<br>Sentiment: +80% 010% -10%",
          "Theme: Travel and Tourism<br>Type: mixed<br>Confidence: 60%<br>Centrality: 55<br>Keywords: travel, tourism, brooklyn, heights<br>Sentiment: +70% 015% -15%",
          "Theme: Workplace Issues<br>Type: nonbot<br>Confidence: 80%<br>Centrality: 50<br>Keywords: meeting, work, pressure<br>Sentiment: +0% 00% -100%",
          "Theme: Motivation and Success<br>Type: nonbot<br>Confidence: 90%<br>Centrality: 90<br>Keywords: success, achievement, inspiration<br>Sentiment: +100% 00% -0%",
          "Theme: Marketing and Advertising<br>Type: nonbot<br>Confidence: 60%<br>Centrality: 30<br>Keywords: marketing, advertising, self<br>Sentiment: +0% 0100% -0%",
          "Theme: Celebrity and Lifestyles<br>Type: nonbot<br>Confidence: 80%<br>Centrality: 70<br>Keywords: QI, plants, Small Business Boss, Chrissy Teigen<br>Sentiment: +30% 070% -0%",
          "Theme: Social Media and Entertainment<br>Type: mixed<br>Confidence: 85%<br>Centrality: 80<br>Keywords: Spotify, @hyipratenet, @chrissyteigen<br>Sentiment: +60% 040% -0%",
          "Theme: Tributes and Reminders<br>Type: nonbot<br>Confidence: 75%<br>Centrality: 60<br>Keywords: Jai Ho, Republic Day, The Spellman Sisters Mortuary<br>Sentiment: +40% 060% -0%",
          "Theme: Environmental Awareness<br>Type: nonbot<br>Confidence: 65%<br>Centrality: 50<br>Keywords: food waste, What did we do as a nation before<br>Sentiment: +50% 050% -0%",
          "Theme: Personal and Professional Interests<br>Type: nonbot<br>Confidence: 60%<br>Centrality: 40<br>Keywords: @mikeshinoda<br>Sentiment: +40% 060% -0%",
          "Theme: Politics/Leadership<br>Type: nonbot<br>Confidence: 80%<br>Centrality: 70<br>Keywords: Trump, Theresa May, Emmanuel Macron<br>Sentiment: +80% 020% -0%",
          "Theme: Food and Beverages<br>Type: nonbot<br>Confidence: 80%<br>Centrality: 70<br>Keywords: Breakfast, Full Breakfast, Cafe<br>Sentiment: +100% 00% -0%",
          "Theme: Celebrity News and Updates<br>Type: mixed<br>Confidence: 50%<br>Centrality: 30<br>Keywords: @kourtneykardash, Birthday<br>Sentiment: +67% 033% -0%",
          "Theme: KP Govt Recognition<br>Type: nonbot<br>Confidence: 85%<br>Centrality: 80<br>Keywords: KP Govt, UN-HABITAT Fukuoka, Asian Townscape Award<br>Sentiment: +100% 00% -0%",
          "Theme: Success and Opportunity<br>Type: nonbot<br>Confidence: 80%<br>Centrality: 60<br>Keywords: Luck, Opportunity, Preparation, Risk, Change<br>Sentiment: +40% 040% -20%",
          "Theme: Personal Growth and Development<br>Type: nonbot<br>Confidence: 70%<br>Centrality: 40<br>Keywords: Learning, Self-improvement, Career, Success<br>Sentiment: +50% 030% -20%",
          "Theme: Social Impact and Responsibility<br>Type: nonbot<br>Confidence: 60%<br>Centrality: 30<br>Keywords: Community, Support, Change, Social justice, Activism<br>Sentiment: +30% 040% -30%",
          "Theme: Entertainment and Media<br>Type: mixed<br>Confidence: 50%<br>Centrality: 20<br>Keywords: Celebrity, News, Culture, Media, Journalism<br>Sentiment: +20% 060% -20%",
          "Theme: Support and Inspiration<br>Type: nonbot<br>Confidence: 90%<br>Centrality: 80<br>Keywords: joy, inspiration, motivation, empowerment, achievements, dreams, future, bright<br>Sentiment: +100% 00% -0%",
          "Theme: News and Updates<br>Type: mixed<br>Confidence: 85%<br>Centrality: 60<br>Keywords: politics, governance, encryption, hollywills, Fearnecotton, ChristinaRicci, comedy show, waste management, BMC, bandraite, brooklyn<br>Sentiment: +60% 040% -0%",
          "Theme: Haiku and Poetry<br>Type: nonbot<br>Confidence: 70%<br>Centrality: 40<br>Keywords: cherry blossoms, city dwellers, brooklyn, joy, inspiration, motivation<br>Sentiment: +100% 00% -0%",
          "Theme: Random and Miscellaneous<br>Type: nonbot<br>Confidence: 60%<br>Centrality: 20<br>Keywords: comedy show, haal, ajkal, RT, @JackieBrunoNECN, oh wow, blonde hair<br>Sentiment: +40% 060% -0%",
          "Theme: Celebrities and Entertainment<br>Type: nonbot<br>Confidence: 50%<br>Centrality: 10<br>Keywords: hollywills, Fearnecotton, ChristinaRicci, comedy show, haal, ajkal<br>Sentiment: +50% 050% -0%",
          "Theme: Social and Community<br>Type: nonbot<br>Confidence: 50%<br>Centrality: 10<br>Keywords: waste management, BMC, bandraite, RT, @JackieBrunoNECN, oh wow, blonde hair<br>Sentiment: +40% 060% -0%",
          "Theme: International Relations and Politics<br>Type: nonbot<br>Confidence: 80%<br>Centrality: 60<br>Keywords: India, Pakistan, Terrorism, Defence, Security<br>Sentiment: +0% 060% -40%",
          "Theme: Personal Life and Relationships<br>Type: nonbot<br>Confidence: 70%<br>Centrality: 40<br>Keywords: Friend, Support, Wedding, Love<br>Sentiment: +80% 010% -10%",
          "Theme: Education and Learning<br>Type: nonbot<br>Confidence: 60%<br>Centrality: 30<br>Keywords: Classes, Education, Health, Wellness<br>Sentiment: +0% 0100% -0%",
          "Theme: Crime and Law Enforcement<br>Type: nonbot<br>Confidence: 50%<br>Centrality: 20<br>Keywords: Police, Investigation, Guns, Safety<br>Sentiment: +0% 050% -50%",
          "Theme: Gun Control<br>Type: nonbot<br>Confidence: 80%<br>Centrality: 60<br>Keywords: gun control, moms demand, gun sense<br>Sentiment: +40% 00% -60%",
          "Theme: Celebration and Humor<br>Type: nonbot<br>Confidence: 50%<br>Centrality: 40<br>Keywords: birthday, humor<br>Sentiment: +80% 00% -20%",
          "Theme: Government and Politics<br>Type: nonbot<br>Confidence: 80%<br>Centrality: 70<br>Keywords: Sharif, Panama Papers, Labor, #aabill<br>Sentiment: +0% 050% -50%",
          "Theme: Religion and Community<br>Type: nonbot<br>Confidence: 60%<br>Centrality: 50<br>Keywords: synagogue, #ShowUpForShabbat<br>Sentiment: +0% 0100% -0%",
          "Theme: News and Media<br>Type: nonbot<br>Confidence: 70%<br>Centrality: 60<br>Keywords: @NicoleOliverio, @erin_carey, @mrasconnews, @7News<br>Sentiment: +0% 0100% -0%",
          "Theme: Social Media and Technology<br>Type: nonbot<br>Confidence: 50%<br>Centrality: 40<br>Keywords: #aabill, #epic<br>Sentiment: +0% 0100% -0%",
          "Theme: Politics and Current Events<br>Type: mixed<br>Confidence: 80%<br>Centrality: 60<br>Keywords: #LabourMustWin, #Orion, NASA, Brexit, Article 50<br>Sentiment: +0% 050% -50%",
          "Theme: Political Commentary and Criticism<br>Type: nonbot<br>Confidence: 96%<br>Centrality: 80<br>Keywords: politics, criticism, leadership, governance, extremism, tribal<br>Sentiment: +0% 020% -80%",
          "Theme: Celebrations and Events<br>Type: nonbot<br>Confidence: 60%<br>Centrality: 40<br>Keywords: #Hindu, #NewYear, #NeasdenTemple, #InternationalWomenDay, #McDonalds<br>Sentiment: +100% 00% -0%",
          "Theme: Politics and Elections<br>Type: nonbot<br>Confidence: 82%<br>Centrality: 90<br>Keywords: election, politics, retain, candidates<br>Sentiment: +40% 030% -30%",
          "Theme: Support and Commendation<br>Type: nonbot<br>Confidence: 85%<br>Centrality: 70<br>Keywords: support, initiative, charity<br>Sentiment: +70% 015% -15%",
          "Theme: Information Sharing and News<br>Type: nonbot<br>Confidence: 60%<br>Centrality: 40<br>Keywords: news, updates, technology<br>Sentiment: +30% 045% -25%",
          "Theme: Valentine's Day and Love<br>Type: nonbot<br>Confidence: 50%<br>Centrality: 20<br>Keywords: love, valentine, celebration<br>Sentiment: +95% 03% -2%",
          "Theme: News<br>Type: nonbot<br>Confidence: 80%<br>Centrality: 68<br>Keywords: #ShoahFdn20, #POTUS<br>Sentiment: +50% 00% -50%",
          "Theme: Celebrity and Public Interest<br>Type: nonbot<br>Confidence: 80%<br>Centrality: 50<br>Keywords: JosefMartinez17, Small Business Boss, Lorrainetapper<br>Sentiment: +60% 040% -0%",
          "Theme: News and Current Events<br>Type: mixed<br>Confidence: 90%<br>Centrality: 20<br>Keywords: #Breaking, Hiroshima<br>Sentiment: +0% 0100% -0%",
          "Theme: Food and Entertainment<br>Type: nonbot<br>Confidence: 60%<br>Centrality: 10<br>Keywords: porchertta sandwich<br>Sentiment: +100% 00% -0%",
          "Theme: Social Issues and Health<br>Type: nonbot<br>Confidence: 50%<br>Centrality: 5<br>Keywords: Generation Z<br>Sentiment: +0% 00% -100%",
          "Theme: Technology and Programming<br>Type: nonbot<br>Confidence: 88%<br>Centrality: 82<br>Keywords: technology, programming, code, design<br>Sentiment: +50% 050% -0%",
          "Theme: Social Media and Events<br>Type: nonbot<br>Confidence: 90%<br>Centrality: 89<br>Keywords: social media, events, engagement, promotions<br>Sentiment: +70% 030% -0%",
          "Theme: Politics and World News<br>Type: nonbot<br>Confidence: 95%<br>Centrality: 93<br>Keywords: politics, government, international, news<br>Sentiment: +0% 0100% -0%",
          "Theme: News and Politics<br>Type: mixed<br>Confidence: 70%<br>Centrality: 50<br>Keywords: #News, #Politics, #Government<br>Sentiment: +0% 060% -40%",
          "Theme: Self-Care and Fitness<br>Type: nonbot<br>Confidence: 75%<br>Centrality: 40<br>Keywords: self-care, fitness, wellness<br>Sentiment: +70% 030% -0%",
          "Theme: Relationships and Love<br>Type: nonbot<br>Confidence: 50%<br>Centrality: 20<br>Keywords: relationships, love, romance<br>Sentiment: +80% 020% -0%",
          "Theme: Politics and Social Issues<br>Type: mixed<br>Confidence: 70%<br>Centrality: 40<br>Keywords: Gun Control, Borderline Bar, MomsDemand, JenniferWexton<br>Sentiment: +50% 00% -50%",
          "Theme: Adversity and Resilience<br>Type: nonbot<br>Confidence: 80%<br>Centrality: 60<br>Keywords: Hurricane Irma, leadership, girls' education<br>Sentiment: +25% 025% -50%",
          "Theme: Canadian Politics and Security<br>Type: nonbot<br>Confidence: 50%<br>Centrality: 40<br>Keywords: Freeland, U.S., security umbrella, client state, military, dnd<br>Sentiment: +0% 0100% -0%",
          "Theme: Social Justice and Activism<br>Type: nonbot<br>Confidence: 80%<br>Centrality: 70<br>Keywords: rights, equality, justice, activism<br>Sentiment: +0% 00% -100%",
          "Theme: Food and Beverage<br>Type: nonbot<br>Confidence: 85%<br>Centrality: 80<br>Keywords: served with, menace which is called Twitter, suga<br>Sentiment: +66% 01% -33%",
          "Theme: Life and Mortality<br>Type: nonbot<br>Confidence: 50%<br>Centrality: 30<br>Keywords: life, mortality, death, transience<br>Sentiment: +20% 080% -0%",
          "Theme: Art and Culture<br>Type: nonbot<br>Confidence: 70%<br>Centrality: 40<br>Keywords: art, culture, visual art, popular culture<br>Sentiment: +30% 050% -20%",
          "Theme: Social Issues<br>Type: nonbot<br>Confidence: 80%<br>Centrality: 60<br>Keywords: social issues, immigration, diversity, social justice<br>Sentiment: +50% 020% -30%",
          "Theme: Racial Issues and Stereotypes<br>Type: nonbot<br>Confidence: 70%<br>Centrality: 60<br>Keywords: black, swim, hair wet<br>Sentiment: +0% 00% -100%",
          "Theme: Celebrity News and Entertainment<br>Type: nonbot<br>Confidence: 80%<br>Centrality: 40<br>Keywords: Kendrick Lamar, Grammy, Performance<br>Sentiment: +100% 00% -0%",
          "Theme: Social Media and Politics<br>Type: nonbot<br>Confidence: 60%<br>Centrality: 20<br>Keywords: MQM, Altaf Hussain<br>Sentiment: +0% 0100% -0%",
          "Theme: TV Shows and Pop Culture<br>Type: nonbot<br>Confidence: 50%<br>Centrality: 10<br>Keywords: Glow, TV show<br>Sentiment: +100% 00% -0%",
          "Theme: Weather Discussion<br>Type: nonbot<br>Confidence: 70%<br>Centrality: 50<br>Keywords: cold, weather<br>Sentiment: +0% 0100% -0%",
          "Theme: Sports and Celebrity<br>Type: nonbot<br>Confidence: 60%<br>Centrality: 40<br>Keywords: NFL, Kirk Cousins<br>Sentiment: +83.33% 00% -16.67%",
          "Theme: Politics and International Relations<br>Type: nonbot<br>Confidence: 80%<br>Centrality: 90<br>Keywords: Russia, indictment<br>Sentiment: +0% 00% -100%",
          "Theme: Tweets are about India<br>Type: nonbot<br>Confidence: 80%<br>Centrality: 80<br>Keywords: India, terrorists<br>Sentiment: +0% 00% -100%",
          "Theme: Politics and News<br>Type: nonbot<br>Confidence: 80%<br>Centrality: 90<br>Keywords: govt, leader, inaction, uneasy, poverty, inequality<br>Sentiment: +0% 00% -100%",
          "Theme: Celebrity and Recognition<br>Type: nonbot<br>Confidence: 89%<br>Centrality: 55<br>Keywords: Meghan, DM, signed copies, Coco, Ted Dabney, passed away<br>Sentiment: +60% 020% -20%",
          "Theme: Politics and Activism<br>Type: mixed<br>Confidence: 80%<br>Centrality: 30<br>Keywords: Report, OIC, EU, human rights, security/surveillance<br>Sentiment: +20% 020% -60%",
          "Theme: Travel and Exploration<br>Type: nonbot<br>Confidence: 60%<br>Centrality: 20<br>Keywords: Canada, tour<br>Sentiment: +40% 040% -20%",
          "Theme: Writing and Literature<br>Type: nonbot<br>Confidence: 50%<br>Centrality: 10<br>Keywords: book, author<br>Sentiment: +20% 060% -20%",
          "Theme: Discontent and Criticism<br>Type: nonbot<br>Confidence: 90%<br>Centrality: 80<br>Keywords: PMLN, PTI, inauguration, wasted, @bluesatch, @plantbasedcaleb, truth<br>Sentiment: +0% 00% -100%",
          "Theme: Pop Culture<br>Type: nonbot<br>Confidence: 80%<br>Centrality: 60<br>Keywords: Malcolm in the Middle, Witty repartee, Social media<br>Sentiment: +40% 040% -20%",
          "Theme: Environmental Conservation<br>Type: nonbot<br>Confidence: 90%<br>Centrality: 80<br>Keywords: Gambila river bed plantation, Billion tree tsunami<br>Sentiment: +100% 00% -0%",
          "Theme: Current Events<br>Type: mixed<br>Confidence: 85%<br>Centrality: 70<br>Keywords: Question period in the House of Commons, Violence reduction, Crime<br>Sentiment: +0% 020% -80%",
          "Theme: Personal Interactions<br>Type: mixed<br>Confidence: 75%<br>Centrality: 50<br>Keywords: Social media, Witty repartee, Thanks, Elizabeth<br>Sentiment: +60% 030% -10%",
          "Theme: Entertainment and Leisure<br>Type: nonbot<br>Confidence: 70%<br>Centrality: 40<br>Keywords: Hoodrich, Djscream<br>Sentiment: +80% 010% -10%",
          "Theme: Mental Health and Wellness<br>Type: nonbot<br>Confidence: 65%<br>Centrality: 35<br>Keywords: Sigh, \\xf0\\x9f\\xa4\\xa6\\xe2\\x80\\x8d\\xe2\\x99\\x82\\xef\\xb8\\x8f<br>Sentiment: +20% 030% -50%",
          "Theme: Celebrity and Royalty<br>Type: nonbot<br>Confidence: 60%<br>Centrality: 30<br>Keywords: My King and Queen of October<br>Sentiment: +90% 05% -5%",
          "Theme: Social Media and Online Presence<br>Type: nonbot<br>Confidence: 80%<br>Centrality: 60<br>Keywords: streaming, website, listen, thankful, gratitude, criticism, opinion<br>Sentiment: +60% 020% -20%",
          "Theme: Humor and Satire<br>Type: mixed<br>Confidence: 60%<br>Centrality: 40<br>Keywords: puntastic, KathyLette, book, Rookie, Georgia classroom<br>Sentiment: +40% 020% -40%",
          "Theme: Personal Reflection and Advice<br>Type: nonbot<br>Confidence: 50%<br>Centrality: 30<br>Keywords: project, funded, luck, Rookie, Georgia classroom<br>Sentiment: +30% 030% -40%",
          "Theme: Social Justice and Empowerment<br>Type: nonbot<br>Confidence: 87%<br>Centrality: 85<br>Keywords: guncontrol, women, respect<br>Sentiment: +40% 030% -30%",
          "Theme: Economic Concerns<br>Type: nonbot<br>Confidence: 78%<br>Centrality: 80<br>Keywords: economy, Pakistan<br>Sentiment: +20% 030% -50%",
          "Theme: Transportation and Infrastructure<br>Type: nonbot<br>Confidence: 85%<br>Centrality: 70<br>Keywords: <br>Sentiment: +0% 00% -0%",
          "Theme: Education and Research<br>Type: nonbot<br>Confidence: 80%<br>Centrality: 60<br>Keywords: <br>Sentiment: +0% 00% -0%",
          "Theme: Reading and Books<br>Type: nonbot<br>Confidence: 75%<br>Centrality: 50<br>Keywords: <br>Sentiment: +0% 00% -0%",
          "Theme: Weather and Seasonal Activities<br>Type: nonbot<br>Confidence: 70%<br>Centrality: 40<br>Keywords: <br>Sentiment: +0% 00% -0%",
          "Theme: Politics and Social Commentary<br>Type: mixed<br>Confidence: 65%<br>Centrality: 30<br>Keywords: <br>Sentiment: +0% 00% -0%",
          "Theme: Funding and Crowdfunding<br>Type: nonbot<br>Confidence: 55%<br>Centrality: 10<br>Keywords: <br>Sentiment: +0% 00% -0%",
          "Theme: Pop Culture and Memes<br>Type: nonbot<br>Confidence: 50%<br>Centrality: 5<br>Keywords: <br>Sentiment: +0% 00% -0%",
          "Theme: Celebrity and Cultural News<br>Type: nonbot<br>Confidence: 80%<br>Centrality: 40<br>Keywords: celebrity, culture, news, awards, recognition, humor, pop culture, social commentary, memorials, tributes, personal interactions<br>Sentiment: +60% 040% -0%",
          "Theme: Personal and Lighthearted<br>Type: nonbot<br>Confidence: 50%<br>Centrality: 20<br>Keywords: personal, lighthearted, birthday wishes, personal interactions<br>Sentiment: +100% 00% -0%",
          "Theme: Personal Stories and Humor<br>Type: nonbot<br>Confidence: 60%<br>Centrality: 50<br>Keywords: vast conspiracy, keys, happy birthday, @jane_ottesen, caroline<br>Sentiment: +50% 025% -25%",
          "Theme: Entertainment and Book Reviews<br>Type: nonbot<br>Confidence: 85%<br>Centrality: 80<br>Keywords: ThePerfectGirl, @GillyMacmillan, @KendallJenner, @Jaspritbumrah93, @traffic_jpr<br>Sentiment: +50% 050% -0%",
          "Theme: Social and Cultural<br>Type: nonbot<br>Confidence: 80%<br>Centrality: 80<br>Keywords: London, celebrate, diversity<br>Sentiment: +75% 025% -0%",
          "Theme: Celebrity and Entertainment News<br>Type: mixed<br>Confidence: 80%<br>Centrality: 60<br>Keywords: Bob Greenfield, Leary, Garcia, Bill Graham, TheBachelorette, RachLindsay, EyesOnYou, sdcountylibrary, CountryMusic, NRA<br>Sentiment: +40% 060% -0%",
          "Theme: Gardening<br>Type: nonbot<br>Confidence: 82%<br>Centrality: 80<br>Keywords: bulbs, whiter, disco<br>Sentiment: +0% 0100% -0%",
          "Theme: Hall and Oates<br>Type: nonbot<br>Confidence: 70%<br>Centrality: 60<br>Keywords: Hall, Oates, 80s, Kirstie Alley, John Travolta<br>Sentiment: +100% 00% -0%",
          "Theme: Entertainment and Pop Culture<br>Type: nonbot<br>Confidence: 80%<br>Centrality: 60<br>Keywords: Bizarre Explainer, Jojo\\u2019s, Wilderness, Queen<br>Sentiment: +40% 040% -20%",
          "Theme: Workplace Culture and Management<br>Type: nonbot<br>Confidence: 80%<br>Centrality: 85<br>Keywords: workplace, culture, management, expectations, dialogue<br>Sentiment: +80% 00% -20%",
          "Theme: Pakistan-Kashmir Relations<br>Type: nonbot<br>Confidence: 80%<br>Centrality: 60<br>Keywords: #Pakistan, #KashmirBlackDay<br>Sentiment: +66.67% 033.33% -0%",
          "Theme: Financial and Economic Issues<br>Type: nonbot<br>Confidence: 91%<br>Centrality: 85<br>Keywords: taxation, government, investment, technology, ethereum, GST<br>Sentiment: +0% 010% -90%",
          "Theme: Entertainment and Social Media<br>Type: nonbot<br>Confidence: 85%<br>Centrality: 78<br>Keywords: celebrity, social media, TV show, mental health<br>Sentiment: +80% 020% -0%",
          "Theme: Technology and Futurism<br>Type: nonbot<br>Confidence: 75%<br>Centrality: 60<br>Keywords: tech future, blockchain, ethereum, innovation<br>Sentiment: +0% 0100% -0%",
          "Theme: Miscellaneous and Product Development<br>Type: nonbot<br>Confidence: 70%<br>Centrality: 40<br>Keywords: product development, innovation, reaction, feedback<br>Sentiment: +0% 0100% -0%",
          "Theme: Miscellaneous and Event Promotion<br>Type: nonbot<br>Confidence: 65%<br>Centrality: 35<br>Keywords: event promotion, social media, reaction, curiosity<br>Sentiment: +20% 080% -0%",
          "Theme: Miscellaneous and Help Request<br>Type: nonbot<br>Confidence: 60%<br>Centrality: 25<br>Keywords: help request, social media, reaction, confusion<br>Sentiment: +0% 0100% -0%",
          "Theme: Miscellaneous and Miscellaneous<br>Type: nonbot<br>Confidence: 55%<br>Centrality: 15<br>Keywords: miscellaneous, social media, reaction, confusion<br>Sentiment: +0% 0100% -0%",
          "Theme: Miscellaneous and Unclassified<br>Type: nonbot<br>Confidence: 50%<br>Centrality: 0<br>Keywords: unclassified, social media, reaction, confusion<br>Sentiment: +0% 0100% -0%",
          "Theme: Cultural Trends and Observations<br>Type: nonbot<br>Confidence: 80%<br>Centrality: 85<br>Keywords: netflix, maniacnetflix, bldgblog, drjudymelinek, kourtneykardash<br>Sentiment: +60% 020% -20%",
          "Theme: General Lifestyle and Updates<br>Type: nonbot<br>Confidence: 86%<br>Centrality: 60<br>Keywords: morning routine, RobAndChyna, KUWTK, Ghana, Lexington, refugee families<br>Sentiment: +0% 090% -10%",
          "Theme: Positive Emotions and Appreciation<br>Type: nonbot<br>Confidence: 80%<br>Centrality: 60<br>Keywords: thanks, wonderful, Survivor, new season<br>Sentiment: +80% 020% -0%",
          "Theme: Information Sharing and Discussion<br>Type: nonbot<br>Confidence: 70%<br>Centrality: 40<br>Keywords: Survivor, missing, Chinese food, venue, advice<br>Sentiment: +20% 080% -0%",
          "Theme: Concern and Awareness<br>Type: nonbot<br>Confidence: 60%<br>Centrality: 20<br>Keywords: missing, missing person, colonial spelling, lady lawyer<br>Sentiment: +0% 080% -20%",
          "Theme: Celebrity Culture and Awards<br>Type: nonbot<br>Confidence: 80%<br>Centrality: 60<br>Keywords: Grammies, Gramophone Awards, Celebrities, Influence<br>Sentiment: +0% 0100% -0%",
          "Theme: Personal Interests and Relationships<br>Type: nonbot<br>Confidence: 85%<br>Centrality: 65<br>Keywords: Relationships, Breakups, Personal growth, Self-improvement<br>Sentiment: +100% 00% -0%",
          "Theme: Entertainment and Music<br>Type: nonbot<br>Confidence: 80%<br>Centrality: 60<br>Keywords: WayOverYonder_, @HappyWoman9, @MosesSumney, @localnatives, #sochi2014, #gold, #Bardot, @XiaXiaTechnique, @BIRDZONE_<br>Sentiment: +50% 030% -20%",
          "Theme: Celebrity and Culture<br>Type: nonbot<br>Confidence: 80%<br>Centrality: 70<br>Keywords: @D_Towsey, @K_Stansfield, Tyler Keevil, Words&amp; Festival<br>Sentiment: +50% 050% -0%",
          "Theme: Canadian Politics<br>Type: nonbot<br>Confidence: 80%<br>Centrality: 60<br>Keywords: Pelosi, speaker, CDP, party leadership<br>Sentiment: +0% 025% -75%",
          "Theme: Congressional Interns<br>Type: nonbot<br>Confidence: 50%<br>Centrality: 50<br>Keywords: Congress, interns, wage<br>Sentiment: +50% 050% -0%",
          "Theme: Event<br>Type: nonbot<br>Confidence: 50%<br>Centrality: 50<br>Keywords: event, promotion, tickets<br>Sentiment: +50% 050% -0%",
          "Theme: Congressional News<br>Type: nonbot<br>Confidence: 50%<br>Centrality: 50<br>Keywords: Congress, reports, news<br>Sentiment: +25% 075% -0%",
          "Theme: Empowerment and Personal Growth<br>Type: nonbot<br>Confidence: 85%<br>Centrality: 90<br>Keywords: Empowerment, Tomorrow, Belief<br>Sentiment: +80% 010% -10%",
          "Theme: Social Commentary and Criticism<br>Type: nonbot<br>Confidence: 80%<br>Centrality: 85<br>Keywords: Hate, Shameful<br>Sentiment: +10% 010% -80%",
          "Theme: Humor and Leisure<br>Type: nonbot<br>Confidence: 70%<br>Centrality: 80<br>Keywords: Entertainment, Animal<br>Sentiment: +90% 05% -5%",
          "Theme: Social and Cultural Issues<br>Type: nonbot<br>Confidence: 80%<br>Centrality: 60<br>Keywords: forced, cuts, labor, peanut butter, fashion, charity, cannes<br>Sentiment: +30% 030% -40%",
          "Theme: Business and Entrepreneurship<br>Type: mixed<br>Confidence: 80%<br>Centrality: 70<br>Keywords: business, entrepreneurship, opening<br>Sentiment: +60% 020% -20%",
          "Theme: Technology and Online Presence<br>Type: nonbot<br>Confidence: 85%<br>Centrality: 85<br>Keywords: technology, online presence, revenue<br>Sentiment: +50% 030% -20%",
          "Theme: General Interest and Lifestyle<br>Type: nonbot<br>Confidence: 80%<br>Centrality: 80<br>Keywords: general interest, lifestyle, food<br>Sentiment: +60% 020% -20%",
          "Theme: Social Media and Online Culture<br>Type: nonbot<br>Confidence: 70%<br>Centrality: 50<br>Keywords: Twitter, Social media<br>Sentiment: +40% 040% -20%",
          "Theme: Daily Life and Observations<br>Type: nonbot<br>Confidence: 60%<br>Centrality: 40<br>Keywords: diner, Maine, trip<br>Sentiment: +30% 030% -40%",
          "Theme: Personal and Inspirational<br>Type: nonbot<br>Confidence: 50%<br>Centrality: 45<br>Keywords: inspiration, motivation<br>Sentiment: +80% 015% -5%",
          "Theme: Entertainment and Humor<br>Type: nonbot<br>Confidence: 90%<br>Centrality: 40<br>Keywords: internet, memes, jokes<br>Sentiment: +90% 05% -5%",
          "Theme: Sports and Cricket<br>Type: nonbot<br>Confidence: 70%<br>Centrality: 20<br>Keywords: cricket, match, news<br>Sentiment: +70% 010% -20%",
          "Theme: Small Business<br>Type: nonbot<br>Confidence: 87%<br>Centrality: 80<br>Keywords: Small Business, Small Business Boss, Site<br>Sentiment: +0% 0100% -0%",
          "Theme: Event/Incident<br>Type: nonbot<br>Confidence: 63%<br>Centrality: 40<br>Keywords: Bar, Firing, Black<br>Sentiment: +0% 050% -50%",
          "Theme: Personal/Relationship<br>Type: nonbot<br>Confidence: 53%<br>Centrality: 30<br>Keywords: Family, Love, Brilliant<br>Sentiment: +100% 00% -0%",
          "Theme: Positive Social Impact<br>Type: nonbot<br>Confidence: 85%<br>Centrality: 80<br>Keywords: media, power, boon, BDS, Theresa May, DANCE WITH YOU, gangster chic<br>Sentiment: +60% 020% -20%",
          "Theme: Entertainment and Celebrity News<br>Type: nonbot<br>Confidence: 75%<br>Centrality: 70<br>Keywords: DANCE WITH YOU, gangster chic, BAFTA, Theresa May<br>Sentiment: +0% 060% -40%",
          "Theme: Breaking News<br>Type: nonbot<br>Confidence: 90%<br>Centrality: 90<br>Keywords: Cosby, BDS<br>Sentiment: +0% 040% -60%",
          "Theme: Human Rights and Social Justice<br>Type: nonbot<br>Confidence: 80%<br>Centrality: 85<br>Keywords: Human Rights, Activists, Silencing, India, Holocaust, Education<br>Sentiment: +30% 020% -50%",
          "Theme: Australia's Politics and Infrastructure<br>Type: nonbot<br>Confidence: 72%<br>Centrality: 80<br>Keywords: #aabill, dinosaur tech illiterates, Australia<br>Sentiment: +0% 067% -33%",
          "Theme: Social Responsibility and Community<br>Type: nonbot<br>Confidence: 86%<br>Centrality: 85<br>Keywords: vulnerable, Republic Day, Jai Ho<br>Sentiment: +50% 050% -0%",
          "Theme: Personal and Social Life<br>Type: nonbot<br>Confidence: 69%<br>Centrality: 72<br>Keywords: party<br>Sentiment: +100% 00% -0%",
          "Theme: Infrastructure and Public Safety<br>Type: nonbot<br>Confidence: 83%<br>Centrality: 89<br>Keywords: infrastructure stability, safety measures<br>Sentiment: +0% 067% -33%",
          "Theme: Social Awareness and Activism<br>Type: mixed<br>Confidence: 80%<br>Centrality: 70<br>Keywords: rape, justice, love, family<br>Sentiment: +33% 033% -33%",
          "Theme: Cultural Expression and Appreciation<br>Type: nonbot<br>Confidence: 60%<br>Centrality: 40<br>Keywords: art, creativity<br>Sentiment: +0% 0100% -0%",
          "Theme: Politics/Current Events<br>Type: nonbot<br>Confidence: 50%<br>Centrality: 40<br>Keywords: Republic Day, Jai Ho, Canadian govt<br>Sentiment: +20% 080% -0%",
          "Theme: Arts and Culture<br>Type: nonbot<br>Confidence: 85%<br>Centrality: 60<br>Keywords: #RaleighArtBeats, @RaleighArts, Britt Flood<br>Sentiment: +100% 00% -0%",
          "Theme: Community and Events<br>Type: nonbot<br>Confidence: 80%<br>Centrality: 70<br>Keywords: #SundayService, #KDX<br>Sentiment: +100% 00% -0%",
          "Theme: Social Media and Connectivity<br>Type: nonbot<br>Confidence: 75%<br>Centrality: 50<br>Keywords: @RaleighArts, @JosieEnefer8<br>Sentiment: +100% 00% -0%",
          "Theme: Violence Prevention<br>Type: nonbot<br>Confidence: 55%<br>Centrality: 30<br>Keywords: Londoners, Mayor<br>Sentiment: +0% 0100% -0%",
          "Theme: Motivational/ Inspirational<br>Type: nonbot<br>Confidence: 70%<br>Centrality: 80<br>Keywords: heart, strength, thank, keep<br>Sentiment: +75% 025% -0%",
          "Theme: Personal Development and Career Growth<br>Type: nonbot<br>Confidence: 80%<br>Centrality: 70<br>Keywords: personalbranding, career, choices<br>Sentiment: +66.67% 033.33% -0%",
          "Theme: Cultural and Social Issues<br>Type: nonbot<br>Confidence: 80%<br>Centrality: 60<br>Keywords: rap, society, music, celebrity, culture, media, justice, activism, change, humor, satire, commentary<br>Sentiment: +20% 080% -0%",
          "Theme: Food and Dining<br>Type: nonbot<br>Confidence: 100%<br>Centrality: 20<br>Keywords: Brick & Fire, wood fire pizza<br>Sentiment: +100% 00% -0%",
          "Theme: Technology and Manufacturing<br>Type: nonbot<br>Confidence: 100%<br>Centrality: 20<br>Keywords: 3D-Printed metal, manufacturing<br>Sentiment: +0% 0100% -0%",
          "Theme: Parenting and Family<br>Type: nonbot<br>Confidence: 90%<br>Centrality: 15<br>Keywords: parenting, unconditional love<br>Sentiment: +100% 00% -0%",
          "Theme: Social Issues and Politics<br>Type: nonbot<br>Confidence: 90%<br>Centrality: 15<br>Keywords: Roy Moore, Snowden, Candor with the Chinese<br>Sentiment: +60% 020% -20%",
          "Theme: Relationships and Pets<br>Type: nonbot<br>Confidence: 80%<br>Centrality: 10<br>Keywords: boyfriend, dog, Slash<br>Sentiment: +0% 0100% -0%",
          "Theme: Community and Social Issues<br>Type: nonbot<br>Confidence: 80%<br>Centrality: 60<br>Keywords: community, social, issues<br>Sentiment: +25% 025% -50%",
          "Theme: Travel and Adventure<br>Type: nonbot<br>Confidence: 60%<br>Centrality: 10<br>Keywords: travel, adventure, exploration<br>Sentiment: +90% 010% -0%",
          "Theme: Celebrations<br>Type: nonbot<br>Confidence: 100%<br>Centrality: 85<br>Keywords: birthday, friend, celebrating, shining example<br>Sentiment: +85% 015% -0%",
          "Theme: Disappointment and Frustration<br>Type: nonbot<br>Confidence: 70%<br>Centrality: 60<br>Keywords: delayed, order, plans, inflexibility, kendricklamar, damm<br>Sentiment: +0% 020% -80%",
          "Theme: European Union Politics<br>Type: nonbot<br>Confidence: 98%<br>Centrality: 80<br>Keywords: EU, Brexit, leave, currency<br>Sentiment: +0% 00% -100%",
          "Theme: Personal Relationships and Interactions<br>Type: nonbot<br>Confidence: 80%<br>Centrality: 60<br>Keywords: thanks, check, out, appreciate<br>Sentiment: +100% 00% -0%",
          "Theme: Entertainment and Lifestyle<br>Type: nonbot<br>Confidence: 75%<br>Centrality: 40<br>Keywords: music, funky, banger, caribbean, nassau, roatan<br>Sentiment: +100% 00% -0%",
          "Theme: Productivity and Technology<br>Type: nonbot<br>Confidence: 60%<br>Centrality: 10<br>Keywords: bot, automation<br>Sentiment: +100% 00% -0%",
          "Theme: Immigration and Refugees<br>Type: nonbot<br>Confidence: 75%<br>Centrality: 40<br>Keywords: #NewcomersWelcome, #WelcomeToCanada, #RefugeesWelcome, #privatesponsorship<br>Sentiment: +75% 025% -0%",
          "Theme: Terrorism and Conflict<br>Type: nonbot<br>Confidence: 55%<br>Centrality: 20<br>Keywords: terror attack, precious lives<br>Sentiment: +0% 00% -100%",
          "Theme: Secrets and Personal Information<br>Type: nonbot<br>Confidence: 80%<br>Centrality: 60<br>Keywords: secret, spill, confidential, boundaries<br>Sentiment: +0% 00% -100%",
          "Theme: Social Cause and Charity<br>Type: nonbot<br>Confidence: 80%<br>Centrality: 40<br>Keywords: #WAKEUPCALL, #UNICEF, #SwatMotorway<br>Sentiment: +60% 020% -20%",
          "Theme: Personal Life and Experiences<br>Type: nonbot<br>Confidence: 60%<br>Centrality: 30<br>Keywords: #whatgoesup<br>Sentiment: +40% 040% -20%",
          "Theme: Communication and Technology<br>Type: nonbot<br>Confidence: 50%<br>Centrality: 20<br>Keywords: #blockednumbers, #visiontech<br>Sentiment: +40% 030% -30%"
         ],
         "marker": {
          "color": [
           "rgb(50,100,255)",
           "rgb(128,0,128)",
           "rgb(143,100,255)",
           "rgb(128,0,128)",
           "rgb(50,100,255)",
           "rgb(128,0,128)",
           "rgb(128,0,128)",
           "rgb(127,100,255)",
           "rgb(50,100,255)",
           "rgb(50,100,255)",
           "rgb(50,100,255)",
           "rgb(112,100,255)",
           "rgb(50,100,255)",
           "rgb(81,100,255)",
           "rgb(50,100,255)",
           "rgb(128,0,128)",
           "rgb(50,100,255)",
           "rgb(50,100,255)",
           "rgb(153,100,255)",
           "rgb(179,100,255)",
           "rgb(153,100,255)",
           "rgb(127,100,255)",
           "rgb(112,100,255)",
           "rgb(96,100,255)",
           "rgb(143,100,255)",
           "rgb(50,100,255)",
           "rgb(127,100,255)",
           "rgb(50,100,255)",
           "rgb(81,100,255)",
           "rgb(50,100,255)",
           "rgb(112,100,255)",
           "rgb(112,100,255)",
           "rgb(50,100,255)",
           "rgb(128,0,128)",
           "rgb(50,100,255)",
           "rgb(205,100,255)",
           "rgb(88,100,255)",
           "rgb(128,0,128)",
           "rgb(84,100,255)",
           "rgb(50,100,255)",
           "rgb(50,100,255)",
           "rgb(166,100,255)",
           "rgb(50,100,255)",
           "rgb(205,100,255)",
           "rgb(158,100,255)",
           "rgb(189,100,255)",
           "rgb(112,100,255)",
           "rgb(143,100,255)",
           "rgb(112,100,255)",
           "rgb(96,100,255)",
           "rgb(127,100,255)",
           "rgb(128,0,128)",
           "rgb(127,100,255)",
           "rgb(112,100,255)",
           "rgb(143,100,255)",
           "rgb(127,100,255)",
           "rgb(50,100,255)",
           "rgb(112,100,255)",
           "rgb(128,0,128)",
           "rgb(50,100,255)",
           "rgb(153,100,255)",
           "rgb(153,100,255)",
           "rgb(128,0,128)",
           "rgb(128,0,128)",
           "rgb(50,100,255)",
           "rgb(128,0,128)",
           "rgb(50,100,255)",
           "rgb(50,100,255)",
           "rgb(101,100,255)",
           "rgb(205,100,255)",
           "rgb(128,0,128)",
           "rgb(128,0,128)",
           "rgb(112,100,255)",
           "rgb(81,100,255)",
           "rgb(50,100,255)",
           "rgb(50,100,255)",
           "rgb(128,0,128)",
           "rgb(50,100,255)",
           "rgb(128,0,128)",
           "rgb(181,100,255)",
           "rgb(127,100,255)",
           "rgb(50,100,255)",
           "rgb(205,100,255)",
           "rgb(205,100,255)",
           "rgb(50,100,255)",
           "rgb(81,100,255)",
           "rgb(81,100,255)",
           "rgb(96,100,255)",
           "rgb(128,0,128)",
           "rgb(81,100,255)",
           "rgb(81,100,255)",
           "rgb(128,0,128)",
           "rgb(128,0,128)",
           "rgb(50,100,255)",
           "rgb(112,100,255)",
           "rgb(50,100,255)",
           "rgb(128,0,128)",
           "rgb(50,100,255)",
           "rgb(205,100,255)",
           "rgb(128,0,128)",
           "rgb(127,100,255)",
           "rgb(255,50,100)",
           "rgb(128,0,128)",
           "rgb(255,205,100)",
           "rgb(255,205,100)",
           "rgb(255,50,100)",
           "rgb(128,0,128)",
           "rgb(255,50,100)",
           "rgb(255,65,100)",
           "rgb(128,0,128)",
           "rgb(255,205,100)",
           "rgb(255,50,100)",
           "rgb(128,0,128)",
           "rgb(128,0,128)",
           "rgb(128,0,128)",
           "rgb(255,50,100)",
           "rgb(255,50,100)",
           "rgb(255,205,100)",
           "rgb(255,178,100)",
           "rgb(255,153,100)",
           "rgb(255,143,100)",
           "rgb(255,160,100)",
           "rgb(255,181,100)",
           "rgb(255,158,100)",
           "rgb(128,0,128)",
           "rgb(128,0,128)",
           "rgb(255,50,100)",
           "rgb(255,205,100)",
           "rgb(255,50,100)",
           "rgb(255,96,100)",
           "rgb(128,0,128)",
           "rgb(255,112,100)",
           "rgb(255,127,100)",
           "rgb(255,112,100)",
           "rgb(255,174,100)",
           "rgb(255,205,100)",
           "rgb(128,0,128)",
           "rgb(255,205,100)",
           "rgb(255,112,100)",
           "rgb(255,127,100)",
           "rgb(255,96,100)",
           "rgb(128,0,128)",
           "rgb(255,205,100)",
           "rgb(128,0,128)",
           "rgb(255,205,100)",
           "rgb(255,112,100)",
           "rgb(255,127,100)",
           "rgb(255,112,100)",
           "rgb(255,50,100)",
           "rgb(255,174,100)",
           "rgb(255,50,100)",
           "rgb(255,50,100)",
           "rgb(255,112,100)",
           "rgb(255,174,100)",
           "rgb(255,50,100)",
           "rgb(255,50,100)",
           "rgb(255,50,100)",
           "rgb(255,50,100)",
           "rgb(128,0,128)",
           "rgb(255,50,100)",
           "rgb(255,205,100)",
           "rgb(255,112,100)",
           "rgb(255,158,100)",
           "rgb(255,96,100)",
           "rgb(255,197,100)",
           "rgb(255,127,100)",
           "rgb(255,143,100)",
           "rgb(128,0,128)",
           "rgb(255,205,100)",
           "rgb(255,50,100)",
           "rgb(255,127,100)",
           "rgb(255,158,100)",
           "rgb(255,50,100)",
           "rgb(128,0,128)",
           "rgb(255,158,100)",
           "rgb(255,174,100)",
           "rgb(128,0,128)",
           "rgb(255,88,100)",
           "rgb(255,50,100)",
           "rgb(255,50,100)",
           "rgb(255,152,100)",
           "rgb(255,81,100)",
           "rgb(255,96,100)",
           "rgb(255,127,100)",
           "rgb(255,50,100)",
           "rgb(255,205,100)",
           "rgb(255,50,100)",
           "rgb(255,205,100)",
           "rgb(255,50,100)",
           "rgb(255,179,100)",
           "rgb(255,50,100)",
           "rgb(255,50,100)",
           "rgb(255,50,100)",
           "rgb(255,143,100)",
           "rgb(128,0,128)",
           "rgb(255,112,100)",
           "rgb(255,81,100)",
           "rgb(255,50,100)",
           "rgb(255,112,100)",
           "rgb(255,205,100)",
           "rgb(128,0,128)",
           "rgb(128,0,128)",
           "rgb(255,174,100)",
           "rgb(255,81,100)",
           "rgb(255,189,100)",
           "rgb(255,143,100)",
           "rgb(128,0,128)",
           "rgb(255,96,100)",
           "rgb(255,112,100)",
           "rgb(255,81,100)",
           "rgb(255,50,100)",
           "rgb(255,50,100)",
           "rgb(255,50,100)",
           "rgb(255,50,100)",
           "rgb(128,0,128)",
           "rgb(255,50,100)",
           "rgb(255,50,100)",
           "rgb(255,143,100)",
           "rgb(255,205,100)",
           "rgb(255,127,100)",
           "rgb(255,127,100)",
           "rgb(255,166,100)",
           "rgb(128,0,128)",
           "rgb(255,50,100)",
           "rgb(255,205,100)",
           "rgb(255,112,100)",
           "rgb(255,174,100)",
           "rgb(255,153,100)",
           "rgb(255,50,100)",
           "rgb(255,174,100)",
           "rgb(255,50,100)",
           "rgb(255,50,100)",
           "rgb(255,81,100)",
           "rgb(255,50,100)",
           "rgb(255,50,100)",
           "rgb(255,50,100)",
           "rgb(255,143,100)",
           "rgb(255,50,100)",
           "rgb(255,174,100)",
           "rgb(255,81,100)",
           "rgb(255,50,100)",
           "rgb(255,50,100)",
           "rgb(255,205,100)",
           "rgb(255,127,100)",
           "rgb(255,127,100)",
           "rgb(255,50,100)",
           "rgb(255,127,100)",
           "rgb(255,127,100)",
           "rgb(255,88,100)",
           "rgb(255,174,100)",
           "rgb(255,65,100)",
           "rgb(255,189,100)",
           "rgb(255,96,100)",
           "rgb(128,0,128)",
           "rgb(255,127,100)",
           "rgb(255,143,100)",
           "rgb(255,112,100)",
           "rgb(255,96,100)",
           "rgb(255,174,100)",
           "rgb(255,189,100)",
           "rgb(255,158,100)",
           "rgb(255,50,100)",
           "rgb(255,50,100)",
           "rgb(255,205,100)",
           "rgb(255,143,100)",
           "rgb(255,50,100)",
           "rgb(255,50,100)",
           "rgb(255,96,100)",
           "rgb(255,50,100)",
           "rgb(255,127,100)",
           "rgb(255,205,100)",
           "rgb(255,50,100)",
           "rgb(128,0,128)",
           "rgb(255,50,100)",
           "rgb(255,81,100)",
           "rgb(255,205,100)",
           "rgb(255,205,100)",
           "rgb(255,205,100)",
           "rgb(255,50,100)",
           "rgb(255,166,100)",
           "rgb(255,153,100)",
           "rgb(255,81,100)",
           "rgb(255,205,100)",
           "rgb(255,50,100)",
           "rgb(255,205,100)",
           "rgb(255,143,100)",
           "rgb(255,50,100)",
           "rgb(255,88,100)",
           "rgb(255,189,100)",
           "rgb(255,181,100)",
           "rgb(255,50,100)",
           "rgb(255,50,100)",
           "rgb(255,205,100)",
           "rgb(255,205,100)",
           "rgb(255,205,100)",
           "rgb(255,166,100)",
           "rgb(255,50,100)",
           "rgb(255,50,100)",
           "rgb(255,143,100)",
           "rgb(255,112,100)",
           "rgb(255,112,100)"
          ],
          "line": {
           "color": "DarkSlateGrey",
           "width": 1
          },
          "size": [
           49.81578947368421,
           47.05263157894737,
           43.21052631578947,
           38.94736842105263,
           36.60526315789474,
           42.421052631578945,
           37.31578947368421,
           34.31578947368421,
           29.210526315789473,
           36.421052631578945,
           44.526315789473685,
           37.31578947368421,
           29.210526315789473,
           32.21052631578947,
           48.73684210526316,
           31.315789473684212,
           36.421052631578945,
           43.631578947368425,
           46.631578947368425,
           41.526315789473685,
           36.421052631578945,
           31.315789473684212,
           52.34210526315789,
           43.631578947368425,
           38.526315789473685,
           46.631578947368425,
           48.73684210526316,
           33.421052631578945,
           29.210526315789473,
           36.421052631578945,
           53.84210526315789,
           53.84210526315789,
           46.631578947368425,
           32.21052631578947,
           44.56842105263158,
           48.652631578947364,
           52.34210526315789,
           50.23684210526316,
           47.84210526315789,
           39.131578947368425,
           51.89473684210526,
           36.421052631578945,
           46.631578947368425,
           39.421052631578945,
           39.578947368421055,
           49.18421052631579,
           49.473684210526315,
           53.66315789473684,
           49.78947368421053,
           54.89473684210526,
           51.921052631578945,
           49.15789473684211,
           52.34210526315789,
           49.78947368421053,
           49.15789473684211,
           52.34210526315789,
           51.89473684210526,
           48.73684210526316,
           55.76842105263158,
           53.242105263157896,
           48.89473684210526,
           43.921052631578945,
           46.631578947368425,
           36.421052631578945,
           48.73684210526316,
           40.631578947368425,
           35.526315789473685,
           42.421052631578945,
           44.526315789473685,
           34.31578947368421,
           47.526315789473685,
           33.10526315789474,
           42.71052631578947,
           38.21052631578947,
           43.631578947368425,
           51.89473684210526,
           49.34210526315789,
           56.84210526315789,
           29.210526315789473,
           46.631578947368425,
           48.73684210526316,
           44.526315789473685,
           37.31578947368421,
           32.21052631578947,
           54.44736842105263,
           51.89473684210526,
           48.73684210526316,
           38.526315789473685,
           48.73684210526316,
           41.078947368421055,
           32.21052631578947,
           42.421052631578945,
           37.31578947368421,
           27.105263157894736,
           29.210526315789473,
           31.315789473684212,
           44.526315789473685,
           33.421052631578945,
           48.73684210526316,
           46.631578947368425,
           41.84210526315789,
           46.631578947368425,
           39.421052631578945,
           32.21052631578947,
           27.105263157894736,
           27.105263157894736,
           48.131578947368425,
           42.421052631578945,
           38.81578947368421,
           51.89473684210526,
           43.78947368421053,
           57,
           57.868421052631575,
           52.82105263157895,
           48.10526315789474,
           54.473684210526315,
           48.73684210526316,
           54.89473684210526,
           57.868421052631575,
           54.473684210526315,
           43.631578947368425,
           57.294736842105266,
           53.84210526315789,
           47.68421052631579,
           45.131578947368425,
           39.578947368421055,
           44.526315789473685,
           55.94736842105263,
           34.31578947368421,
           48.73684210526316,
           52.34210526315789,
           45.131578947368425,
           40.026315789473685,
           36.421052631578945,
           48.73684210526316,
           48.73684210526316,
           31.315789473684212,
           52.34210526315789,
           46.631578947368425,
           39.421052631578945,
           34.31578947368421,
           29.210526315789473,
           53.84210526315789,
           48.131578947368425,
           39.421052631578945,
           32.21052631578947,
           27.105263157894736,
           27.105263157894736,
           46.631578947368425,
           39.421052631578945,
           34.31578947368421,
           29.210526315789473,
           46.631578947368425,
           33.421052631578945,
           48.73684210526316,
           38.526315789473685,
           43.631578947368425,
           33.421052631578945,
           46.631578947368425,
           55.64210526315789,
           36.421052631578945,
           53.547368421052624,
           50.23684210526316,
           36.421052631578945,
           29.210526315789473,
           48.31578947368421,
           44.526315789473685,
           41.21052631578947,
           30.105263157894736,
           26.05263157894737,
           53.66315789473684,
           55.73684210526316,
           58.078947368421055,
           41.526315789473685,
           40.921052631578945,
           29.210526315789473,
           39.421052631578945,
           46.631578947368425,
           33.421052631578945,
           48.73684210526316,
           52.34210526315789,
           31.315789473684212,
           39.421052631578945,
           46.631578947368425,
           43.631578947368425,
           42.421052631578945,
           32.21052631578947,
           27.105263157894736,
           41.526315789473685,
           36.421052631578945,
           52.94736842105263,
           50.84210526315789,
           52.94736842105263,
           48.27894736842106,
           40.31578947368421,
           32.21052631578947,
           27.105263157894736,
           53.84210526315789,
           46.631578947368425,
           53.84210526315789,
           50.23684210526316,
           43.026315789473685,
           39.421052631578945,
           36.868421052631575,
           34.31578947368421,
           46.631578947368425,
           36.421052631578945,
           31.315789473684212,
           53.99473684210527,
           50.242105263157896,
           50.23684210526316,
           46.631578947368425,
           43.026315789473685,
           39.421052631578945,
           35.81578947368421,
           28.605263157894736,
           26.05263157894737,
           42.421052631578945,
           29.210526315789473,
           38.526315789473685,
           52.34210526315789,
           50.84210526315789,
           46.631578947368425,
           51.442105263157885,
           43.631578947368425,
           46.631578947368425,
           51.89473684210526,
           46.631578947368425,
           55.19473684210526,
           51.921052631578945,
           45.131578947368425,
           39.421052631578945,
           36.868421052631575,
           33.26315789473684,
           29.657894736842106,
           25,
           51.89473684210526,
           48.43157894736842,
           46.631578947368425,
           39.421052631578945,
           32.21052631578947,
           46.631578947368425,
           49.18421052631579,
           46.631578947368425,
           48.73684210526316,
           46.631578947368425,
           35.526315789473685,
           35.526315789473685,
           35.526315789473685,
           54.44736842105263,
           51.89473684210526,
           47.84210526315789,
           46.631578947368425,
           48.73684210526316,
           53.39473684210526,
           50.84210526315789,
           41.526315789473685,
           36.421052631578945,
           34.473684210526315,
           45.421052631578945,
           35.21052631578947,
           52.9421052631579,
           37.321052631578944,
           32.21578947368421,
           52.34210526315789,
           47.23684210526316,
           55.94736842105263,
           51.89473684210526,
           48.44210526315789,
           53.69473684210526,
           45.857894736842105,
           53.636842105263156,
           48.73684210526316,
           36.421052631578945,
           33.421052631578945,
           48.131578947368425,
           48.73684210526316,
           43.026315789473685,
           32.81578947368421,
           47.84210526315789,
           48.73684210526316,
           46.631578947368425,
           44.21052631578947,
           44.21052631578947,
           40.1578947368421,
           40.1578947368421,
           36.10526315789474,
           46.631578947368425,
           30.105263157894736,
           57.89473684210526,
           43.631578947368425,
           56.242105263157896,
           46.631578947368425,
           40.921052631578945,
           30.105263157894736,
           40.921052631578945,
           30.710526315789473,
           46.631578947368425,
           42.421052631578945,
           34.31578947368421,
           29.210526315789473
          ]
         },
         "mode": "markers+text",
         "text": [
          "Technology and Coding",
          "Business and Finance",
          "Culture and Entertainment",
          "Sports and Fitness",
          "Science and Exploration",
          "Social Interactions",
          "Technology and Computing",
          "Emotional Expression and Art",
          "Philosophy and Culture",
          "Philosophical Musings and Wordplay",
          "Health and Fitness",
          "Emotions and Mental State",
          "Weather and Environment",
          "Social Interactions and Relationships",
          "Tech and Software",
          "Miscellaneous",
          "Security and Vulnerability",
          "Cryptocurrency",
          "Love and Relationships",
          "Inspiration and Creativity",
          "Realism and Optimism",
          "Social Interaction",
          "Emotional Support and Concern",
          "Life and Relationships",
          "Celebrations and Hobbies",
          "Gaming",
          "Politics",
          "Science Fiction",
          "Humor",
          "Bitcoin Miners",
          "Space Exploration and Discovery",
          "Pop Culture and Entertainment",
          "Language and Sarcasm",
          "Social Commentary",
          "Criticisms and Negativity",
          "Lightheartedness and Humor",
          "Politics and Justice",
          "Technology and Innovation",
          "Lifestyle and Interests",
          "Uncategorized",
          "Social Media and Communication",
          "Inspirational/Motivational",
          "Politics and World Events",
          "Cryptocurrency and Technology",
          "Work and Productivity",
          "Pop Culture and Humor",
          "Travel/Transportation",
          "Trust and Vulnerability",
          "Emergency Preparedness",
          "Security and Exploits",
          "Human Experience and Emotions",
          "Miscellaneous and Humor",
          "Math and Science",
          "Interrogation and Interview",
          "Language and Culture",
          "Cryptic Posts and Math",
          "Financial/Business",
          "Productivity and Motivation",
          "Current Events and News",
          "College Life",
          "Personal Reminders and Support",
          "Education",
          "Politics and Governance",
          "Sports",
          "US Politics",
          "Health and Wellness",
          "Technology",
          "TV and Media",
          "Entertainment and Hobbies",
          "Personal Reminders and Self-Care",
          "Film and Entertainment",
          "Personal and Lifestyle",
          "Science and Discovery",
          "Philosophy and Social Commentary",
          "Movie and TV News",
          "Information Seeking",
          "Sports and Entertainment",
          "Cryptocurrency and Bitcoin",
          "Music and Entertainment",
          "Technology and Entertainment",
          "Encouragement",
          "Cybersecurity and Technology",
          "Emotional Wellbeing and Self-Care",
          "Relationships and Social Connections",
          "Work/Responsibility",
          "Social Commentary and Critique",
          "Exploration and Discovery",
          "Relationships and Communication",
          "Humor and Entertainment",
          "Existentialism and Self-Discovery",
          "Celebrity/Media Mentions",
          "Entertainment",
          "Personal Struggles",
          "Hobbies",
          "Social Media",
          "Personal Growth",
          "Relationships",
          "Personal Development",
          "Respect and Empowerment",
          "Technology and Security",
          "Philosophy and Human Interest",
          "Traffic and Road Closure",
          "Celebrity and Pop Culture",
          "Humor and Sarcastic Comment",
          "Inspiration and Appreciation",
          "Event and Announcement",
          "Celebrity and Entertainment",
          "Current Events and Alerts",
          "Product and Service Promotions",
          "Social Commentary and Awareness",
          "Personal and Lighthearted Content",
          "News and Information",
          "Entertainment and Culture",
          "Education and Personal Development",
          "Sports and Leisure",
          "Social Media and Tech",
          "NRA and Politics",
          "Amy Schumer and Trainwreck",
          "Linkin Park and Music",
          "Small Business and Entrepreneurship",
          "Celebrity Culture and Humor",
          "Social Media and Online Engagement",
          "Personal and Emotional Experiences",
          "Social Media Interactions",
          "Celebrity and Public Figures",
          "Travel and Tourism",
          "Workplace Issues",
          "Motivation and Success",
          "Marketing and Advertising",
          "Celebrity and Lifestyles",
          "Social Media and Entertainment",
          "Tributes and Reminders",
          "Environmental Awareness",
          "Personal and Professional Interests",
          "Politics/Leadership",
          "Food and Beverages",
          "Celebrity News and Updates",
          "KP Govt Recognition",
          "Success and Opportunity",
          "Personal Growth and Development",
          "Social Impact and Responsibility",
          "Entertainment and Media",
          "Support and Inspiration",
          "News and Updates",
          "Haiku and Poetry",
          "Random and Miscellaneous",
          "Celebrities and Entertainment",
          "Social and Community",
          "International Relations and Politics",
          "Personal Life and Relationships",
          "Education and Learning",
          "Crime and Law Enforcement",
          "Gun Control",
          "Celebration and Humor",
          "Government and Politics",
          "Religion and Community",
          "News and Media",
          "Social Media and Technology",
          "Politics and Current Events",
          "Political Commentary and Criticism",
          "Celebrations and Events",
          "Politics and Elections",
          "Support and Commendation",
          "Information Sharing and News",
          "Valentine's Day and Love",
          "News",
          "Celebrity and Public Interest",
          "News and Current Events",
          "Food and Entertainment",
          "Social Issues and Health",
          "Technology and Programming",
          "Social Media and Events",
          "Politics and World News",
          "News and Politics",
          "Self-Care and Fitness",
          "Relationships and Love",
          "Politics and Social Issues",
          "Adversity and Resilience",
          "Canadian Politics and Security",
          "Social Justice and Activism",
          "Food and Beverage",
          "Life and Mortality",
          "Art and Culture",
          "Social Issues",
          "Racial Issues and Stereotypes",
          "Celebrity News and Entertainment",
          "Social Media and Politics",
          "TV Shows and Pop Culture",
          "Weather Discussion",
          "Sports and Celebrity",
          "Politics and International Relations",
          "Tweets are about India",
          "Politics and News",
          "Celebrity and Recognition",
          "Politics and Activism",
          "Travel and Exploration",
          "Writing and Literature",
          "Discontent and Criticism",
          "Pop Culture",
          "Environmental Conservation",
          "Current Events",
          "Personal Interactions",
          "Entertainment and Leisure",
          "Mental Health and Wellness",
          "Celebrity and Royalty",
          "Social Media and Online Presence",
          "Humor and Satire",
          "Personal Reflection and Advice",
          "Social Justice and Empowerment",
          "Economic Concerns",
          "Transportation and Infrastructure",
          "Education and Research",
          "Reading and Books",
          "Weather and Seasonal Activities",
          "Politics and Social Commentary",
          "Funding and Crowdfunding",
          "Pop Culture and Memes",
          "Celebrity and Cultural News",
          "Personal and Lighthearted",
          "Personal Stories and Humor",
          "Entertainment and Book Reviews",
          "Social and Cultural",
          "Celebrity and Entertainment News",
          "Gardening",
          "Hall and Oates",
          "Entertainment and Pop Culture",
          "Workplace Culture and Management",
          "Pakistan-Kashmir Relations",
          "Financial and Economic Issues",
          "Entertainment and Social Media",
          "Technology and Futurism",
          "Miscellaneous and Product Development",
          "Miscellaneous and Event Promotion",
          "Miscellaneous and Help Request",
          "Miscellaneous and Miscellaneous",
          "Miscellaneous and Unclassified",
          "Cultural Trends and Observations",
          "General Lifestyle and Updates",
          "Positive Emotions and Appreciation",
          "Information Sharing and Discussion",
          "Concern and Awareness",
          "Celebrity Culture and Awards",
          "Personal Interests and Relationships",
          "Entertainment and Music",
          "Celebrity and Culture",
          "Canadian Politics",
          "Congressional Interns",
          "Event",
          "Congressional News",
          "Empowerment and Personal Growth",
          "Social Commentary and Criticism",
          "Humor and Leisure",
          "Social and Cultural Issues",
          "Business and Entrepreneurship",
          "Technology and Online Presence",
          "General Interest and Lifestyle",
          "Social Media and Online Culture",
          "Daily Life and Observations",
          "Personal and Inspirational",
          "Entertainment and Humor",
          "Sports and Cricket",
          "Small Business",
          "Event/Incident",
          "Personal/Relationship",
          "Positive Social Impact",
          "Entertainment and Celebrity News",
          "Breaking News",
          "Human Rights and Social Justice",
          "Australia's Politics and Infrastructure",
          "Social Responsibility and Community",
          "Personal and Social Life",
          "Infrastructure and Public Safety",
          "Social Awareness and Activism",
          "Cultural Expression and Appreciation",
          "Politics/Current Events",
          "Arts and Culture",
          "Community and Events",
          "Social Media and Connectivity",
          "Violence Prevention",
          "Motivational/ Inspirational",
          "Personal Development and Career Growth",
          "Cultural and Social Issues",
          "Food and Dining",
          "Technology and Manufacturing",
          "Parenting and Family",
          "Social Issues and Politics",
          "Relationships and Pets",
          "Community and Social Issues",
          "Travel and Adventure",
          "Celebrations",
          "Disappointment and Frustration",
          "European Union Politics",
          "Personal Relationships and Interactions",
          "Entertainment and Lifestyle",
          "Productivity and Technology",
          "Immigration and Refugees",
          "Terrorism and Conflict",
          "Secrets and Personal Information",
          "Social Cause and Charity",
          "Personal Life and Experiences",
          "Communication and Technology"
         ],
         "textposition": "top center",
         "type": "scatter",
         "x": [
          0.5089114313349707,
          0.7760189562591979,
          4.950935632806731,
          9.650044205318151,
          2.4743101265362846,
          5.506247815880667,
          4.042827627832094,
          1.3789652415130793,
          2.2166381529366195,
          1.6885736310303434,
          0.3156711199935036,
          4.2354014797061605,
          0.444523227859136,
          2.0144849210105598,
          3.5740803612770256,
          5.051293328549887,
          1.2985567551522548,
          5.1079586866041895,
          2.8733983199978477,
          7.141239439871306,
          0.8063548012911248,
          1.433966892405113,
          2.9718986711352358,
          7.538441846821983,
          7.279749459589173,
          4.847296193035783,
          2.033588102007229,
          7.079162423740097,
          5.009511563880102,
          6.5835655353473985,
          7.321109140673543,
          8.075300402560279,
          6.12743204950627,
          0.7907654540705422,
          2.8631790604177754,
          0.5071556412239553,
          3.2660710338200483,
          7.544926721324302,
          5.755043020774511,
          2.4808552442407406,
          1.5780352577241707,
          1.4149572741650018,
          8.46388527323915,
          6.916476468898265,
          6.023596854553302,
          6.867428263284746,
          2.7861485540235242,
          9.826773536185298,
          2.613850443332282,
          1.3494217562465927,
          1.9033420828405845,
          0.5661251180701132,
          5.557470357596104,
          3.5002854204838254,
          9.057517025614368,
          5.028742785321272,
          3.462277338131401,
          2.487502491576591,
          2.4281787410703415,
          0.40025290213164477,
          0.15618529230828737,
          8.419665208932274,
          7.126874164425624,
          8.425871311779254,
          1.2271817731776302,
          1.870979944378487,
          3.6884513807945654,
          6.220491336431896,
          6.17738930800984,
          0.21032143028066885,
          0.6986357174271229,
          0.5289663650079757,
          3.5991899279295647,
          9.005339591831861,
          0.941476728033459,
          1.7933575457668294,
          0.07683134843474826,
          0.4720808607751581,
          4.948859264549267,
          5.611804317828064,
          9.982705393585649,
          5.816656610165119,
          0.4819108638892633,
          4.740467451480664,
          5.635087068910705,
          1.2242667399760165,
          6.249941686335583,
          9.88845838856312,
          1.957225373944167,
          3.5894108407189607,
          0.5551055409073558,
          8.265737953341452,
          6.198285278864831,
          4.550908127121172,
          8.79427404255646,
          8.618104098083288,
          3.5214921445147276,
          2.87586828044656,
          9.281352554063114,
          3.3064087997014537,
          0.5619821408687964,
          7.889845889045885,
          8.903576343577972,
          4.737224244782392,
          2.5296192671293207,
          6.558624473311054,
          5.552641907033859,
          5.143860137289033,
          8.379713302356093,
          5.078766030352526,
          1.9057770231638271,
          2.83307211924249,
          7.128145334528906,
          4.2498688304544,
          3.5570199784102763,
          2.2941601265080203,
          5.387024759215131,
          6.186352827093749,
          5.742988441433059,
          9.261013060990924,
          8.949423991684672,
          5.255227053298947,
          3.650765453222168,
          7.3487023158775795,
          2.0304898302506946,
          9.162278121171624,
          5.206911203302309,
          3.961893646940352,
          3.2744288806923674,
          9.682876739727607,
          2.0879913979434717,
          8.03261262648819,
          0.09406681831338526,
          4.3431014441224844,
          8.040458123899146,
          7.213883958683422,
          6.62967552153242,
          9.053349874787157,
          3.4176658529685433,
          8.63329937414836,
          9.215281712303522,
          2.212905761297116,
          0.7627037206612153,
          5.283867774084051,
          8.820114026242155,
          1.2330292514216945,
          5.494879137916133,
          3.4324685443828615,
          7.194662544638804,
          5.587054080208132,
          6.7966929394050535,
          9.595153241420839,
          3.5203207344203955,
          8.381102557023526,
          9.342274499608145,
          4.703598178470712,
          4.645523393490891,
          0.7782767678641278,
          7.736497304265302,
          4.364274876694676,
          4.544404264754825,
          3.4775320181974023,
          1.1456561988972036,
          8.20731094681844,
          3.919743742193246,
          2.0860531404715976,
          1.475199996104558,
          7.696875944138205,
          9.770549241662472,
          0.4204152259914018,
          7.703067555328539,
          3.30008843027906,
          5.3099290917087325,
          8.35799632222468,
          1.1690044698006508,
          9.456546589032843,
          9.280732117621636,
          9.558353863065573,
          5.295061194844016,
          0.36934774251720426,
          6.494743390940227,
          9.4862707105332,
          3.593434524322412,
          5.49664103051043,
          1.2162160839329172,
          8.298655421405499,
          2.9731377745403065,
          4.430403998387765,
          8.471789836380939,
          9.210796901199547,
          7.88161386066683,
          4.248956787754477,
          5.218462902828861,
          8.946963703711772,
          6.997896605903916,
          6.6370307065328005,
          8.297295986458709,
          5.96962621434802,
          5.0402534807909305,
          9.529946164241267,
          7.4248217232753975,
          0.47763022466355554,
          0.03188129515688032,
          5.374618260610803,
          1.2206263804589945,
          6.8763903769246415,
          0.40089244892945075,
          4.4258862777411565,
          9.079976204941172,
          6.690818642598984,
          3.1073276464784314,
          8.55983055650442,
          7.681179428599685,
          7.449872698663004,
          9.126159806930747,
          8.639384801392918,
          6.618894393384042,
          0.9402368514794457,
          1.0542157421191334,
          0.02344106404053692,
          6.411353518003365,
          5.58686457531628,
          2.3200211667155823,
          1.923080992579097,
          4.543976706654236,
          5.206419339157586,
          6.415215218690697,
          3.841383976830194,
          2.958861661301394,
          3.786499175665009,
          0.6068383080686413,
          3.225195793602987,
          9.432852798368861,
          8.648371078122105,
          4.964017457152546,
          3.8523560825148975,
          7.517530915731249,
          9.432197228794143,
          7.2588010740603774,
          3.766898307926404,
          7.842381377447376,
          2.618610004578308,
          4.1742050261210215,
          6.746462784290319,
          4.461152678837429,
          1.0510673943738413,
          4.323139378910261,
          8.135584575387716,
          6.285538654866598,
          1.6251134940017964,
          9.109857323204135,
          9.542153601661044,
          4.036365311711181,
          7.192176288118902,
          1.712693149913499,
          3.628615006186836,
          6.68776442854438,
          9.909515993578323,
          7.597870031688885,
          4.474458131211484,
          7.087891408834079,
          9.877900260529431,
          8.898098965605646,
          9.947400709935033,
          3.057447956191608,
          7.218773016330411,
          4.486773517554184,
          2.6988699576812025,
          5.418210873656327,
          5.177977727339462,
          4.289477008022619,
          7.646109247493468,
          2.475137422759648,
          1.1868003758405044,
          6.781067246678259,
          2.8266660374192387,
          9.081236534197117,
          3.596320906093744,
          9.681838438213356,
          9.442963373847771,
          7.283833734014963,
          9.734992480648545,
          3.0685747504054115,
          2.8518797526678807,
          9.461692277092808,
          3.5003128880481906,
          0.5944425740097603,
          8.784381519207422,
          5.748026039808247,
          7.282294960166343,
          6.659494186234895,
          5.925720169188549,
          1.271675146417497,
          3.266101715867843,
          6.0659483723350105,
          4.7089074494214955,
          2.8002544133411886,
          2.943864317488394,
          2.8033040337741633,
          9.196241034004515,
          0.795371212589836
         ],
         "y": [
          4.253080783609011,
          8.218799372188402,
          8.738984045727843,
          6.695726152279201,
          1.7574800038057048,
          2.663944262061939,
          5.284264108663916,
          3.201823540161425,
          3.295096398867873,
          2.812316352865337,
          8.028722019054582,
          4.257167875814474,
          9.278600018517855,
          2.9480839187573804,
          9.29726558259089,
          1.84448228105489,
          8.810336579314423,
          1.322334434938528,
          2.0761778018896573,
          0.3782263005966935,
          4.996392239736448,
          9.906332731867494,
          7.259468831861873,
          9.117906301543764,
          9.294720710532342,
          0.8242455212567079,
          1.7784013273397292,
          9.519426988981799,
          6.846878935078782,
          4.122165518642281,
          8.237833671923662,
          0.5452808290948552,
          5.07716769248225,
          3.524672090691041,
          0.6985255291204495,
          8.702184943926444,
          1.5447181317717418,
          1.4165408221755427,
          0.7588583584202147,
          6.24786322975085,
          0.7413043234375616,
          8.139035844574128,
          8.837610923882785,
          1.2615372877225839,
          5.028915660087128,
          6.349857646860003,
          1.3066721492192157,
          0.4400630435398101,
          9.35478910705076,
          5.901518270835664,
          5.370284157362234,
          6.516470096658314,
          9.399215044967221,
          9.507486935634716,
          4.025341988111632,
          7.326378473887663,
          9.524285432358711,
          4.329351969543913,
          5.290529646845671,
          6.346214382168295,
          5.476133324286787,
          3.216120883969489,
          8.684933158210084,
          6.524531112753657,
          7.512691906781438,
          1.1721190747081567,
          3.97708294457517,
          4.680506518116962,
          8.843033232975884,
          2.290089356726509,
          4.319629174471077,
          0.8541380174394331,
          9.047797684031604,
          4.761527831084647,
          2.3843190038628026,
          2.3815516273514103,
          5.218625247814038,
          9.415390151095933,
          9.195958832836544,
          6.860495512331507,
          3.1918469186205476,
          2.044001356812959,
          5.669825824404593,
          3.539672455872963,
          1.8470443811059645,
          9.717243799255096,
          5.340847374753763,
          4.183597549759652,
          9.322090909476902,
          9.44485813569836,
          3.448734337754298,
          3.0217983166243636,
          2.375442715805062,
          4.627924449801678,
          5.1188187270285415,
          1.918065277186608,
          3.9289180265775325,
          6.336823813934927,
          9.506781995273425,
          6.475784218358167,
          3.9671080244523225,
          6.158258819223571,
          8.849789313181914,
          2.625936584516987,
          2.645998739435831,
          3.704591580224834,
          1.5168884153187656,
          8.271865562785678,
          5.238779061271854,
          9.428671862401936,
          1.106117243005097,
          0.19956113031068146,
          1.659786324319984,
          8.28563571285555,
          1.5767239779716324,
          4.46181201797058,
          0.3300930138242708,
          9.283488896877488,
          7.407799847532668,
          0.6422960176502757,
          1.595279035526781,
          5.446542608452532,
          4.3046088223280385,
          4.336627797600341,
          2.397330546398493,
          3.921374370414438,
          1.3412024462446615,
          9.70986653673003,
          4.590243565145199,
          8.405448206858834,
          2.4155623588998165,
          9.999155679337267,
          2.70251423686568,
          8.435670824857159,
          1.5699054124426215,
          1.4700569375305828,
          5.301441901121066,
          6.606745382399488,
          6.577643949512272,
          2.6585235196262023,
          0.5812927547039515,
          4.198035123868127,
          9.189419080185507,
          7.390635151378743,
          8.342595412611876,
          9.385766598200979,
          2.955669313609113,
          5.6826166122694985,
          2.043786656192533,
          9.81021476906743,
          3.103456803150263,
          8.967590561444279,
          3.1516463863683333,
          8.954148590456514,
          2.2098298053812604,
          5.115797091285252,
          7.616609459956885,
          3.5514788831011868,
          6.444728490266472,
          1.7539247623858079,
          2.1913479317277194,
          6.215995613737212,
          1.5886282382468475,
          3.8282569960321675,
          9.5042384102916,
          5.456935304261357,
          3.6070603063597364,
          3.777563378690425,
          9.980427068782504,
          3.82231018007361,
          2.497561520486645,
          3.525297186967049,
          7.254326855066724,
          5.1203712820960146,
          9.057130841047726,
          0.49235327095000225,
          6.004583872174161,
          3.6954820038987704,
          1.7322932449665285,
          2.8634948568527676,
          9.152688776404032,
          6.615226430352466,
          3.9466381236801684,
          1.9167497236434061,
          1.5337808940869202,
          3.367401708940687,
          5.50861057225076,
          6.910262570311767,
          8.462420839164297,
          0.2572782500400195,
          6.743237411640651,
          0.5597656050584354,
          8.222278320287264,
          7.7366164678104195,
          3.923994451947872,
          6.3503831940827435,
          4.735798154838723,
          3.878246918300925,
          5.181359004910295,
          2.7302299614200534,
          9.057477785607622,
          8.970890075031393,
          4.310431357896247,
          5.03735069866992,
          9.886492168355698,
          2.9040297591723387,
          9.348058941652944,
          7.230130866193948,
          5.817404919054136,
          7.81937663689286,
          7.418938992025651,
          3.3107833902979245,
          6.319603274375433,
          7.298914080330164,
          9.670784460576344,
          4.361026167717105,
          5.287850736502495,
          5.5604142241246866,
          8.449061771195915,
          3.462729309627046,
          9.625986455523453,
          9.184898779908501,
          0.9111979444306406,
          2.767087525339824,
          1.9705842123404405,
          1.988817186325339,
          7.510464465901378,
          4.419482476533258,
          7.4420092859501334,
          0.6225370605282265,
          8.989235350152885,
          2.283262786012398,
          9.27651761776567,
          4.364137171115308,
          5.265040407168678,
          1.3413764124225525,
          5.339055835787403,
          3.3686586815811737,
          2.069863905304085,
          8.020640807417655,
          7.313520995436339,
          0.25168607591218195,
          5.124580306575792,
          4.927009763100564,
          1.3580840749996381,
          7.4012181406409105,
          9.373423490182871,
          8.264468297034316,
          6.548367881718017,
          7.272272111098542,
          4.958008609188546,
          3.496292526015641,
          3.288940597819069,
          6.718202140202499,
          0.43993389449309195,
          5.616467965631758,
          6.741915736818021,
          6.0308995143030035,
          0.3931327430115883,
          9.415408505514408,
          9.168833362773004,
          1.8558043095751275,
          2.4225269252403203,
          0.06485310300967329,
          1.6566819595265703,
          0.20000856905572517,
          8.929820332445619,
          1.4116360241589565,
          1.7564103169335965,
          1.7662091256778711,
          3.8907428967561595,
          2.1217410004677593,
          6.4785733249779955,
          7.655730522306295,
          5.818715913321999,
          7.5088613780654745,
          0.41924297629335916,
          8.733802784431672,
          8.525727404310972,
          9.432841051974412,
          3.342711006112089,
          6.498212262984334,
          7.275847893871157,
          2.1536104438343195,
          6.0451287646219125,
          1.50284973535723,
          0.4337102115511815,
          8.661677644190977,
          3.9102308009453832,
          6.3350729117545015,
          5.980684366618982,
          1.9995581157982478,
          0.25727649522159335,
          2.8722173388974648,
          6.106826660501321,
          1.724784795523746,
          1.8492698576532052,
          3.23638423951103,
          2.5140877405907625,
          3.0594536739738656,
          4.452050550762944
         ]
        }
       ],
       "layout": {
        "height": 800,
        "hovermode": "closest",
        "paper_bgcolor": "white",
        "plot_bgcolor": "white",
        "showlegend": false,
        "template": {
         "data": {
          "bar": [
           {
            "error_x": {
             "color": "#2a3f5f"
            },
            "error_y": {
             "color": "#2a3f5f"
            },
            "marker": {
             "line": {
              "color": "#E5ECF6",
              "width": 0.5
             },
             "pattern": {
              "fillmode": "overlay",
              "size": 10,
              "solidity": 0.2
             }
            },
            "type": "bar"
           }
          ],
          "barpolar": [
           {
            "marker": {
             "line": {
              "color": "#E5ECF6",
              "width": 0.5
             },
             "pattern": {
              "fillmode": "overlay",
              "size": 10,
              "solidity": 0.2
             }
            },
            "type": "barpolar"
           }
          ],
          "carpet": [
           {
            "aaxis": {
             "endlinecolor": "#2a3f5f",
             "gridcolor": "white",
             "linecolor": "white",
             "minorgridcolor": "white",
             "startlinecolor": "#2a3f5f"
            },
            "baxis": {
             "endlinecolor": "#2a3f5f",
             "gridcolor": "white",
             "linecolor": "white",
             "minorgridcolor": "white",
             "startlinecolor": "#2a3f5f"
            },
            "type": "carpet"
           }
          ],
          "choropleth": [
           {
            "colorbar": {
             "outlinewidth": 0,
             "ticks": ""
            },
            "type": "choropleth"
           }
          ],
          "contour": [
           {
            "colorbar": {
             "outlinewidth": 0,
             "ticks": ""
            },
            "colorscale": [
             [
              0,
              "#0d0887"
             ],
             [
              0.1111111111111111,
              "#46039f"
             ],
             [
              0.2222222222222222,
              "#7201a8"
             ],
             [
              0.3333333333333333,
              "#9c179e"
             ],
             [
              0.4444444444444444,
              "#bd3786"
             ],
             [
              0.5555555555555556,
              "#d8576b"
             ],
             [
              0.6666666666666666,
              "#ed7953"
             ],
             [
              0.7777777777777778,
              "#fb9f3a"
             ],
             [
              0.8888888888888888,
              "#fdca26"
             ],
             [
              1,
              "#f0f921"
             ]
            ],
            "type": "contour"
           }
          ],
          "contourcarpet": [
           {
            "colorbar": {
             "outlinewidth": 0,
             "ticks": ""
            },
            "type": "contourcarpet"
           }
          ],
          "heatmap": [
           {
            "colorbar": {
             "outlinewidth": 0,
             "ticks": ""
            },
            "colorscale": [
             [
              0,
              "#0d0887"
             ],
             [
              0.1111111111111111,
              "#46039f"
             ],
             [
              0.2222222222222222,
              "#7201a8"
             ],
             [
              0.3333333333333333,
              "#9c179e"
             ],
             [
              0.4444444444444444,
              "#bd3786"
             ],
             [
              0.5555555555555556,
              "#d8576b"
             ],
             [
              0.6666666666666666,
              "#ed7953"
             ],
             [
              0.7777777777777778,
              "#fb9f3a"
             ],
             [
              0.8888888888888888,
              "#fdca26"
             ],
             [
              1,
              "#f0f921"
             ]
            ],
            "type": "heatmap"
           }
          ],
          "heatmapgl": [
           {
            "colorbar": {
             "outlinewidth": 0,
             "ticks": ""
            },
            "colorscale": [
             [
              0,
              "#0d0887"
             ],
             [
              0.1111111111111111,
              "#46039f"
             ],
             [
              0.2222222222222222,
              "#7201a8"
             ],
             [
              0.3333333333333333,
              "#9c179e"
             ],
             [
              0.4444444444444444,
              "#bd3786"
             ],
             [
              0.5555555555555556,
              "#d8576b"
             ],
             [
              0.6666666666666666,
              "#ed7953"
             ],
             [
              0.7777777777777778,
              "#fb9f3a"
             ],
             [
              0.8888888888888888,
              "#fdca26"
             ],
             [
              1,
              "#f0f921"
             ]
            ],
            "type": "heatmapgl"
           }
          ],
          "histogram": [
           {
            "marker": {
             "pattern": {
              "fillmode": "overlay",
              "size": 10,
              "solidity": 0.2
             }
            },
            "type": "histogram"
           }
          ],
          "histogram2d": [
           {
            "colorbar": {
             "outlinewidth": 0,
             "ticks": ""
            },
            "colorscale": [
             [
              0,
              "#0d0887"
             ],
             [
              0.1111111111111111,
              "#46039f"
             ],
             [
              0.2222222222222222,
              "#7201a8"
             ],
             [
              0.3333333333333333,
              "#9c179e"
             ],
             [
              0.4444444444444444,
              "#bd3786"
             ],
             [
              0.5555555555555556,
              "#d8576b"
             ],
             [
              0.6666666666666666,
              "#ed7953"
             ],
             [
              0.7777777777777778,
              "#fb9f3a"
             ],
             [
              0.8888888888888888,
              "#fdca26"
             ],
             [
              1,
              "#f0f921"
             ]
            ],
            "type": "histogram2d"
           }
          ],
          "histogram2dcontour": [
           {
            "colorbar": {
             "outlinewidth": 0,
             "ticks": ""
            },
            "colorscale": [
             [
              0,
              "#0d0887"
             ],
             [
              0.1111111111111111,
              "#46039f"
             ],
             [
              0.2222222222222222,
              "#7201a8"
             ],
             [
              0.3333333333333333,
              "#9c179e"
             ],
             [
              0.4444444444444444,
              "#bd3786"
             ],
             [
              0.5555555555555556,
              "#d8576b"
             ],
             [
              0.6666666666666666,
              "#ed7953"
             ],
             [
              0.7777777777777778,
              "#fb9f3a"
             ],
             [
              0.8888888888888888,
              "#fdca26"
             ],
             [
              1,
              "#f0f921"
             ]
            ],
            "type": "histogram2dcontour"
           }
          ],
          "mesh3d": [
           {
            "colorbar": {
             "outlinewidth": 0,
             "ticks": ""
            },
            "type": "mesh3d"
           }
          ],
          "parcoords": [
           {
            "line": {
             "colorbar": {
              "outlinewidth": 0,
              "ticks": ""
             }
            },
            "type": "parcoords"
           }
          ],
          "pie": [
           {
            "automargin": true,
            "type": "pie"
           }
          ],
          "scatter": [
           {
            "fillpattern": {
             "fillmode": "overlay",
             "size": 10,
             "solidity": 0.2
            },
            "type": "scatter"
           }
          ],
          "scatter3d": [
           {
            "line": {
             "colorbar": {
              "outlinewidth": 0,
              "ticks": ""
             }
            },
            "marker": {
             "colorbar": {
              "outlinewidth": 0,
              "ticks": ""
             }
            },
            "type": "scatter3d"
           }
          ],
          "scattercarpet": [
           {
            "marker": {
             "colorbar": {
              "outlinewidth": 0,
              "ticks": ""
             }
            },
            "type": "scattercarpet"
           }
          ],
          "scattergeo": [
           {
            "marker": {
             "colorbar": {
              "outlinewidth": 0,
              "ticks": ""
             }
            },
            "type": "scattergeo"
           }
          ],
          "scattergl": [
           {
            "marker": {
             "colorbar": {
              "outlinewidth": 0,
              "ticks": ""
             }
            },
            "type": "scattergl"
           }
          ],
          "scattermapbox": [
           {
            "marker": {
             "colorbar": {
              "outlinewidth": 0,
              "ticks": ""
             }
            },
            "type": "scattermapbox"
           }
          ],
          "scatterpolar": [
           {
            "marker": {
             "colorbar": {
              "outlinewidth": 0,
              "ticks": ""
             }
            },
            "type": "scatterpolar"
           }
          ],
          "scatterpolargl": [
           {
            "marker": {
             "colorbar": {
              "outlinewidth": 0,
              "ticks": ""
             }
            },
            "type": "scatterpolargl"
           }
          ],
          "scatterternary": [
           {
            "marker": {
             "colorbar": {
              "outlinewidth": 0,
              "ticks": ""
             }
            },
            "type": "scatterternary"
           }
          ],
          "surface": [
           {
            "colorbar": {
             "outlinewidth": 0,
             "ticks": ""
            },
            "colorscale": [
             [
              0,
              "#0d0887"
             ],
             [
              0.1111111111111111,
              "#46039f"
             ],
             [
              0.2222222222222222,
              "#7201a8"
             ],
             [
              0.3333333333333333,
              "#9c179e"
             ],
             [
              0.4444444444444444,
              "#bd3786"
             ],
             [
              0.5555555555555556,
              "#d8576b"
             ],
             [
              0.6666666666666666,
              "#ed7953"
             ],
             [
              0.7777777777777778,
              "#fb9f3a"
             ],
             [
              0.8888888888888888,
              "#fdca26"
             ],
             [
              1,
              "#f0f921"
             ]
            ],
            "type": "surface"
           }
          ],
          "table": [
           {
            "cells": {
             "fill": {
              "color": "#EBF0F8"
             },
             "line": {
              "color": "white"
             }
            },
            "header": {
             "fill": {
              "color": "#C8D4E3"
             },
             "line": {
              "color": "white"
             }
            },
            "type": "table"
           }
          ]
         },
         "layout": {
          "annotationdefaults": {
           "arrowcolor": "#2a3f5f",
           "arrowhead": 0,
           "arrowwidth": 1
          },
          "autotypenumbers": "strict",
          "coloraxis": {
           "colorbar": {
            "outlinewidth": 0,
            "ticks": ""
           }
          },
          "colorscale": {
           "diverging": [
            [
             0,
             "#8e0152"
            ],
            [
             0.1,
             "#c51b7d"
            ],
            [
             0.2,
             "#de77ae"
            ],
            [
             0.3,
             "#f1b6da"
            ],
            [
             0.4,
             "#fde0ef"
            ],
            [
             0.5,
             "#f7f7f7"
            ],
            [
             0.6,
             "#e6f5d0"
            ],
            [
             0.7,
             "#b8e186"
            ],
            [
             0.8,
             "#7fbc41"
            ],
            [
             0.9,
             "#4d9221"
            ],
            [
             1,
             "#276419"
            ]
           ],
           "sequential": [
            [
             0,
             "#0d0887"
            ],
            [
             0.1111111111111111,
             "#46039f"
            ],
            [
             0.2222222222222222,
             "#7201a8"
            ],
            [
             0.3333333333333333,
             "#9c179e"
            ],
            [
             0.4444444444444444,
             "#bd3786"
            ],
            [
             0.5555555555555556,
             "#d8576b"
            ],
            [
             0.6666666666666666,
             "#ed7953"
            ],
            [
             0.7777777777777778,
             "#fb9f3a"
            ],
            [
             0.8888888888888888,
             "#fdca26"
            ],
            [
             1,
             "#f0f921"
            ]
           ],
           "sequentialminus": [
            [
             0,
             "#0d0887"
            ],
            [
             0.1111111111111111,
             "#46039f"
            ],
            [
             0.2222222222222222,
             "#7201a8"
            ],
            [
             0.3333333333333333,
             "#9c179e"
            ],
            [
             0.4444444444444444,
             "#bd3786"
            ],
            [
             0.5555555555555556,
             "#d8576b"
            ],
            [
             0.6666666666666666,
             "#ed7953"
            ],
            [
             0.7777777777777778,
             "#fb9f3a"
            ],
            [
             0.8888888888888888,
             "#fdca26"
            ],
            [
             1,
             "#f0f921"
            ]
           ]
          },
          "colorway": [
           "#636efa",
           "#EF553B",
           "#00cc96",
           "#ab63fa",
           "#FFA15A",
           "#19d3f3",
           "#FF6692",
           "#B6E880",
           "#FF97FF",
           "#FECB52"
          ],
          "font": {
           "color": "#2a3f5f"
          },
          "geo": {
           "bgcolor": "white",
           "lakecolor": "white",
           "landcolor": "#E5ECF6",
           "showlakes": true,
           "showland": true,
           "subunitcolor": "white"
          },
          "hoverlabel": {
           "align": "left"
          },
          "hovermode": "closest",
          "mapbox": {
           "style": "light"
          },
          "paper_bgcolor": "white",
          "plot_bgcolor": "#E5ECF6",
          "polar": {
           "angularaxis": {
            "gridcolor": "white",
            "linecolor": "white",
            "ticks": ""
           },
           "bgcolor": "#E5ECF6",
           "radialaxis": {
            "gridcolor": "white",
            "linecolor": "white",
            "ticks": ""
           }
          },
          "scene": {
           "xaxis": {
            "backgroundcolor": "#E5ECF6",
            "gridcolor": "white",
            "gridwidth": 2,
            "linecolor": "white",
            "showbackground": true,
            "ticks": "",
            "zerolinecolor": "white"
           },
           "yaxis": {
            "backgroundcolor": "#E5ECF6",
            "gridcolor": "white",
            "gridwidth": 2,
            "linecolor": "white",
            "showbackground": true,
            "ticks": "",
            "zerolinecolor": "white"
           },
           "zaxis": {
            "backgroundcolor": "#E5ECF6",
            "gridcolor": "white",
            "gridwidth": 2,
            "linecolor": "white",
            "showbackground": true,
            "ticks": "",
            "zerolinecolor": "white"
           }
          },
          "shapedefaults": {
           "line": {
            "color": "#2a3f5f"
           }
          },
          "ternary": {
           "aaxis": {
            "gridcolor": "white",
            "linecolor": "white",
            "ticks": ""
           },
           "baxis": {
            "gridcolor": "white",
            "linecolor": "white",
            "ticks": ""
           },
           "bgcolor": "#E5ECF6",
           "caxis": {
            "gridcolor": "white",
            "linecolor": "white",
            "ticks": ""
           }
          },
          "title": {
           "x": 0.05
          },
          "xaxis": {
           "automargin": true,
           "gridcolor": "white",
           "linecolor": "white",
           "ticks": "",
           "title": {
            "standoff": 15
           },
           "zerolinecolor": "white",
           "zerolinewidth": 2
          },
          "yaxis": {
           "automargin": true,
           "gridcolor": "white",
           "linecolor": "white",
           "ticks": "",
           "title": {
            "standoff": 15
           },
           "zerolinecolor": "white",
           "zerolinewidth": 2
          }
         }
        },
        "title": {
         "text": "Theme Network Visualization (Blue: Bot, Red: Non-Bot, Purple: Mixed)"
        },
        "width": 1000,
        "xaxis": {
         "showgrid": false,
         "showticklabels": false,
         "zeroline": false
        },
        "yaxis": {
         "showgrid": false,
         "showticklabels": false,
         "zeroline": false
        }
       }
      }
     },
     "metadata": {},
     "output_type": "display_data"
    }
   ],
   "source": [
    "import json\n",
    "import networkx as nx\n",
    "import plotly.graph_objects as go\n",
    "import numpy as np\n",
    "\n",
    "\n",
    "\n",
    "\n",
    "\n",
    "\n",
    "\n",
    "\n",
    "def load_json_file(file_path):\n",
    "    \"\"\"Load JSON file safely.\"\"\"\n",
    "    try:\n",
    "        with open(file_path, 'r', encoding='utf-8') as file:\n",
    "            return json.load(file)\n",
    "    except Exception as e:\n",
    "        print(f\"Error loading JSON file {file_path}: {e}\")\n",
    "        return []\n",
    "\n",
    "\n",
    "\n",
    "\n",
    "\n",
    "\n",
    "\n",
    "\n",
    "def create_theme_network(data_bot, data_nonbot, min_confidence=50):\n",
    "    \"\"\"Create a network graph from themes with a minimum confidence level.\"\"\"\n",
    "    G = nx.Graph()\n",
    "\n",
    "\n",
    "\n",
    "\n",
    "    def process_data(data, is_bot=True):\n",
    "        for item in data:\n",
    "            response = item.get('response')\n",
    "            if isinstance(response, str):\n",
    "                try:\n",
    "                    # Parse the response string as a dictionary\n",
    "                    response_data = json.loads(response)\n",
    "                    themes = response_data.get('overall_themes', [])\n",
    "\n",
    "\n",
    "\n",
    "\n",
    "                    for theme in themes:\n",
    "                        confidence = theme.get('confidence', 0)\n",
    "                        if confidence >= min_confidence:\n",
    "                            theme_name = theme['name']\n",
    "                            centrality = theme.get('centrality', {})\n",
    "                            keywords = theme.get('keywords', [])\n",
    "                            sentiment = theme.get('sentiment_distribution', {})\n",
    "\n",
    "\n",
    "\n",
    "\n",
    "                            # Check if theme already exists\n",
    "                            if theme_name in G:\n",
    "                                # If theme exists, mark as mixed\n",
    "                                G.nodes[theme_name]['type'] = 'mixed'\n",
    "                            else:\n",
    "                                # Add node with detailed attributes\n",
    "                                G.add_node(theme_name, \n",
    "                                           confidence=confidence,\n",
    "                                           centrality_weight=centrality.get('weight', 0),\n",
    "                                           keywords=keywords,\n",
    "                                           positive_sentiment=sentiment.get('positive_percentage', 0),\n",
    "                                           negative_sentiment=sentiment.get('negative_percentage', 0),\n",
    "                                           neutral_sentiment=sentiment.get('neutral_percentage', 0),\n",
    "                                           type='bot' if is_bot else 'nonbot')\n",
    "\n",
    "\n",
    "\n",
    "\n",
    "                except (json.JSONDecodeError, TypeError) as e:\n",
    "                    print(f\"Error processing response: {e}\")\n",
    "\n",
    "\n",
    "\n",
    "\n",
    "    # Process both bot and non-bot data\n",
    "    process_data(data_bot, is_bot=True)\n",
    "    process_data(data_nonbot, is_bot=False)\n",
    "\n",
    "\n",
    "\n",
    "\n",
    "    return G\n",
    "\n",
    "\n",
    "\n",
    "\n",
    "\n",
    "\n",
    "\n",
    "\n",
    "def visualize_network(G):\n",
    "    \"\"\"Visualize themes with node sizes and colors representing different attributes.\"\"\"\n",
    "    # Prepare node attributes\n",
    "    node_names = list(G.nodes())\n",
    "    \n",
    "    if not node_names:\n",
    "        print(\"No themes to visualize.\")\n",
    "        return\n",
    "\n",
    "\n",
    "\n",
    "\n",
    "    # Prepare node attributes\n",
    "    node_confidences = [G.nodes[node]['confidence'] for node in node_names]\n",
    "    node_centralities = [G.nodes[node]['centrality_weight'] for node in node_names]\n",
    "    \n",
    "    # Normalize node sizes based on confidence and centrality\n",
    "    max_confidence = max(node_confidences)\n",
    "    max_centrality = max(node_centralities)\n",
    "    \n",
    "    node_sizes = [\n",
    "        10 + ((G.nodes[node]['confidence'] / max_confidence) * 30) + \n",
    "        ((G.nodes[node]['centrality_weight'] / max_centrality) * 20) \n",
    "        for node in node_names\n",
    "    ]\n",
    "    \n",
    "    # Color coding for different theme types\n",
    "    def get_node_color(node):\n",
    "        theme_type = G.nodes[node].get('type', 'unknown')\n",
    "        sentiment = G.nodes[node][\"positive_sentiment\"] / 100\n",
    "        \n",
    "        if theme_type == 'bot':\n",
    "            # Blue shades for bot themes\n",
    "            r = min(max(int(50 + (sentiment * 155)), 0), 255)\n",
    "            return f'rgb({r},100,255)'\n",
    "        elif theme_type == 'nonbot':\n",
    "            # Red shades for non-bot themes\n",
    "            g = min(max(int(50 + (sentiment * 155)), 0), 255)\n",
    "            return f'rgb(255,{g},100)'\n",
    "        else:\n",
    "            # Mixed themes in purple\n",
    "            return 'rgb(128,0,128)'\n",
    "    \n",
    "    node_colors = [get_node_color(node) for node in node_names]\n",
    "\n",
    "\n",
    "\n",
    "\n",
    "    # Create traces\n",
    "    trace = go.Scatter(\n",
    "        x=np.random.rand(len(node_names)) * 10,  # Random x positions\n",
    "        y=np.random.rand(len(node_names)) * 10,  # Random y positions\n",
    "        mode='markers+text',\n",
    "        text=node_names,\n",
    "        textposition=\"top center\",\n",
    "        marker=dict(\n",
    "            size=node_sizes,\n",
    "            color=node_colors,\n",
    "            line=dict(width=1, color='DarkSlateGrey')\n",
    "        ),\n",
    "        hovertext=[\n",
    "            f\"Theme: {node}<br>\"\n",
    "            f\"Type: {G.nodes[node].get('type', 'unknown')}<br>\"\n",
    "            f\"Confidence: {G.nodes[node]['confidence']}%<br>\"\n",
    "            f\"Centrality: {G.nodes[node]['centrality_weight']}<br>\"\n",
    "            f\"Keywords: {', '.join(G.nodes[node]['keywords'])}<br>\"\n",
    "            f\"Sentiment: +{G.nodes[node]['positive_sentiment']}% \"\n",
    "            f\"0{G.nodes[node]['neutral_sentiment']}% \"\n",
    "            f\"-{G.nodes[node]['negative_sentiment']}%\"\n",
    "            for node in node_names\n",
    "        ],\n",
    "        hoverinfo='text'\n",
    "    )\n",
    "\n",
    "\n",
    "\n",
    "\n",
    "    # Create figure\n",
    "    fig = go.Figure(data=[trace])\n",
    "\n",
    "\n",
    "\n",
    "\n",
    "    # Update layout\n",
    "    fig.update_layout(\n",
    "        title=\"Theme Network Visualization (Blue: Bot, Red: Non-Bot, Purple: Mixed)\",\n",
    "        showlegend=False,\n",
    "        hovermode='closest',\n",
    "        width=1000,\n",
    "        height=800,\n",
    "        xaxis=dict(showgrid=False, zeroline=False, showticklabels=False),\n",
    "        yaxis=dict(showgrid=False, zeroline=False, showticklabels=False),\n",
    "        plot_bgcolor='white',\n",
    "        paper_bgcolor='white'\n",
    "    )\n",
    "\n",
    "\n",
    "\n",
    "\n",
    "    # Print theme statistics\n",
    "    print(\"Theme Statistics:\")\n",
    "    bot_themes = [node for node in node_names if G.nodes[node].get('type') == 'bot']\n",
    "    nonbot_themes = [node for node in node_names if G.nodes[node].get('type') == 'nonbot']\n",
    "    mixed_themes = [node for node in node_names if G.nodes[node].get('type') == 'mixed']\n",
    "    \n",
    "    print(f\"Total Themes: {len(node_names)}\")\n",
    "    print(f\"Bot Themes: {len(bot_themes)}\")\n",
    "    print(f\"Non-Bot Themes: {len(nonbot_themes)}\")\n",
    "    print(f\"Mixed Themes: {len(mixed_themes)}\")\n",
    "    \n",
    "    print(\"\\nBot Themes:\")\n",
    "    for node in bot_themes:\n",
    "        print(f\"  {node}\")\n",
    "    \n",
    "    print(\"\\nNon-Bot Themes:\")\n",
    "    for node in nonbot_themes:\n",
    "        print(f\"  {node}\")\n",
    "    \n",
    "    print(\"\\nMixed Themes:\")\n",
    "    for node in mixed_themes:\n",
    "        print(f\"  {node}\")\n",
    "\n",
    "\n",
    "\n",
    "\n",
    "    # Show the figure\n",
    "    fig.show()\n",
    "\n",
    "\n",
    "\n",
    "\n",
    "\n",
    "\n",
    "\n",
    "\n",
    "# Load the JSON files\n",
    "data_label_0 = load_json_file('label_0_1.json')  # Bot data\n",
    "data_label_1 = load_json_file('label_1_1.json')  # Non-bot data\n",
    "\n",
    "\n",
    "\n",
    "\n",
    "# Create the network\n",
    "theme_network = create_theme_network(data_label_0, data_label_1, min_confidence=50)\n",
    "\n",
    "\n",
    "\n",
    "\n",
    "# Visualize the network\n",
    "visualize_network(theme_network)"
   ]
  },
  {
   "cell_type": "code",
   "execution_count": 22,
   "metadata": {},
   "outputs": [
    {
     "name": "stdout",
     "output_type": "stream",
     "text": [
      "Total Themes: 214\n",
      "Bot Themes: 112\n",
      "Non-Bot Themes: 90\n",
      "Mixed Themes: 12\n"
     ]
    },
    {
     "data": {
      "application/vnd.plotly.v1+json": {
       "config": {
        "plotlyServerURL": "https://plot.ly"
       },
       "data": [
        {
         "hoverinfo": "text",
         "hovertext": [
          "Theme: Programming<br>Type: Bot<br>Confidence: 90%<br>Keywords: VHDL, Verilog<br>Sentiment: neutral",
          "Theme: Bitcoin<br>Type: Bot<br>Confidence: 95%<br>Keywords: bitcoin, Winklevoss, Gemini, NYSE CIO<br>Sentiment: positive",
          "Theme: Coding/Programming<br>Type: Bot<br>Confidence: 95%<br>Keywords: idmap, Namespace, Metasploit, ExploitDB<br>Sentiment: neutral",
          "Theme: Literary/Artistic Expression<br>Type: Bot<br>Confidence: 90%<br>Keywords: woods, yearlings, stable centers, fluff, renters, bankroll<br>Sentiment: neutral",
          "Theme: Mathematics/Science<br>Type: Bot<br>Confidence: 95%<br>Keywords: pow, max, cos, sqt, exp, flr, sgn, cel, abs, cos, pow<br>Sentiment: neutral",
          "Theme: Mathematics<br>Type: Bot<br>Confidence: 90%<br>Keywords: flr, sqt, sin, abs, min, max<br>Sentiment: neutral",
          "Theme: Obscenity<br>Type: Bot<br>Confidence: 95%<br>Keywords: fucked, mom<br>Sentiment: negative",
          "Theme: Miscellaneous<br>Type: Bot<br>Confidence: 90%<br>Keywords: 🤯, 😂<br>Sentiment: neutral",
          "Theme: Anger and Frustration<br>Type: Bot<br>Confidence: 95%<br>Keywords: BROKE, BASTARD<br>Sentiment: negative",
          "Theme: General Knowledge<br>Type: Bot<br>Confidence: 100%<br>Keywords: Republic of China, Corporal Punishment, FA Cup<br>Sentiment: neutral",
          "Theme: Sound/Loud Noise<br>Type: Bot<br>Confidence: 95%<br>Keywords: BONG BONG BONG BONG BONG<br>Sentiment: neutral",
          "Theme: Finance/Technology<br>Type: Bot<br>Confidence: 90%<br>Keywords: UAE, DLT Startup Ripple<br>Sentiment: neutral",
          "Theme: Lazy Day<br>Type: Bot<br>Confidence: 90%<br>Keywords: sunny day, lazy<br>Sentiment: neutral",
          "Theme: Storytelling<br>Type: Bot<br>Confidence: 90%<br>Keywords: story, bitter, anthem<br>Sentiment: neutral",
          "Theme: Geography<br>Type: Bot<br>Confidence: 90%<br>Keywords: Lawton, Tucson<br>Sentiment: neutral",
          "Theme: Fashion<br>Type: Bot<br>Confidence: 95%<br>Keywords: Bonnet<br>Sentiment: neutral",
          "Theme: Maternity<br>Type: Bot<br>Confidence: 90%<br>Keywords: mom, excited<br>Sentiment: positive",
          "Theme: InfoSec<br>Type: Bot<br>Confidence: 95%<br>Keywords: malvertising, apple pay, infosec<br>Sentiment: negative",
          "Theme: Education<br>Type: Bot<br>Confidence: 95%<br>Keywords: vectors, calculus, accidentalhaiku<br>Sentiment: neutral",
          "Theme: Gaming<br>Type: Bot<br>Confidence: 100%<br>Keywords: LA Noire, 45 minutes, live playing<br>Sentiment: neutral",
          "Theme: Language and Culture<br>Type: Bot<br>Confidence: 90%<br>Keywords: Ghost kanji, Japanese lexicon, \\xe2\\x80\\x98<br>Sentiment: neutral",
          "Theme: Memories and Socialising<br>Type: Bot<br>Confidence: 90%<br>Keywords: wine, great memories, #winelover<br>Sentiment: positive",
          "Theme: Cryptocurrency Regulation<br>Type: Bot<br>Confidence: 90%<br>Keywords: shut down, illegal bitcoin miners<br>Sentiment: neutral",
          "Theme: Robotics/Hobbies<br>Type: Bot<br>Confidence: 95%<br>Keywords: robot collection, wowwee, tribot<br>Sentiment: positive",
          "Theme: Social Identity/Bot Information<br>Type: Bot<br>Confidence: 95%<br>Keywords: eu sou um bot, automtico<br>Sentiment: neutral",
          "Theme: Health/Sickness<br>Type: Bot<br>Confidence: 95%<br>Keywords: sickness<br>Sentiment: neutral",
          "Theme: Negative Reaction<br>Type: Bot<br>Confidence: 90%<br>Keywords: Noooo<br>Sentiment: negative",
          "Theme: Praise and Devotion<br>Type: Bot<br>Confidence: 95%<br>Keywords: God is good<br>Sentiment: positive",
          "Theme: Audio and Music<br>Type: Bot<br>Confidence: 95%<br>Keywords: BONG BONG BONG BONG<br>Sentiment: neutral",
          "Theme: Gaming and Entertainment<br>Type: Bot<br>Confidence: 90%<br>Keywords: Quantum Break, live stream<br>Sentiment: positive",
          "Theme: Community<br>Type: Bot<br>Confidence: 92%<br>Keywords: reddit users<br>Sentiment: positive",
          "Theme: Creativity<br>Type: Bot<br>Confidence: 93%<br>Keywords: Flip happy hardliners, yields, sealeds<br>Sentiment: neutral",
          "Theme: Mechanics<br>Type: Bot<br>Confidence: 90%<br>Keywords: Hard Right Turn, Engine RPM, Uneven<br>Sentiment: neutral",
          "Theme: mathematical expression<br>Type: Bot<br>Confidence: 95%<br>Keywords: sig(pln(pln, cel(sgn<br>Sentiment: neutral",
          "Theme: lyrics<br>Type: Bot<br>Confidence: 90%<br>Keywords: EVERY GIRL CRAZY BOUT A SHARP DRESSED MAN<br>Sentiment: neutral",
          "Theme: politics and history<br>Type: Bot<br>Confidence: 95%<br>Keywords: Voalavo antsahabensis, Member of Parliament<br>Sentiment: neutral",
          "Theme: poetry and art<br>Type: Bot<br>Confidence: 90%<br>Keywords: \\xf0\\x9f\\x8f\\x94: take some time to look at the sky please<br>Sentiment: positive",
          "Theme: humor and satire<br>Type: Bot<br>Confidence: 95%<br>Keywords: P-Phoenix\\xc7\\x83\\xc7\\x83 Are you a lawyer or a school child?<br>Sentiment: positive",
          "Theme: Life<br>Type: Bot<br>Confidence: 90%<br>Keywords: read, stay out late, bar<br>Sentiment: neutral",
          "Theme: Motivation<br>Type: Bot<br>Confidence: 90%<br>Keywords: poss\\xc3\\xa9vel, imposs\\xc3\\xadvel<br>Sentiment: positive",
          "Theme: Personal Advice<br>Type: Bot<br>Confidence: 90%<br>Keywords: be nice, act like yourself, self improvement<br>Sentiment: positive",
          "Theme: Productivity<br>Type: Bot<br>Confidence: 95%<br>Keywords: get back to work, productivity, time management<br>Sentiment: neutral",
          "Theme: Food and Wine<br>Type: Bot<br>Confidence: 90%<br>Keywords: wine, food, lunch<br>Sentiment: positive",
          "Theme: Social Awareness<br>Type: Bot<br>Confidence: 90%<br>Keywords: SandyAid, SandyVolunteer, NewJersey<br>Sentiment: positive",
          "Theme: Entertainment News<br>Type: Bot<br>Confidence: 95%<br>Keywords: 100 Metros, Netflix Instant<br>Sentiment: neutral",
          "Theme: Faith and Motivation<br>Type: Bot<br>Confidence: 92%<br>Keywords: God, obstacle, enemies, powerful<br>Sentiment: positive",
          "Theme: Geographic Information<br>Type: Bot<br>Confidence: 95%<br>Keywords: population, Sweden, world rank<br>Sentiment: neutral",
          "Theme: Science<br>Type: Bot<br>Confidence: 95%<br>Keywords: origami, robotic metamorphosis, polypeptide enzymes<br>Sentiment: neutral",
          "Theme: Security<br>Type: Bot<br>Confidence: 92%<br>Keywords: libarchive, security update<br>Sentiment: neutral",
          "Theme: Mental Health and Wellness<br>Type: Bot<br>Confidence: 90%<br>Keywords: breath calmly, kind to yourself<br>Sentiment: positive",
          "Theme: Daily Life/Emotions<br>Type: Bot<br>Confidence: 90%<br>Keywords: so boring, still be alive<br>Sentiment: positive",
          "Theme: Inspirational Quote<br>Type: Bot<br>Confidence: 95%<br>Keywords: Dreams, easier<br>Sentiment: positive",
          "Theme: Music/Inspiration<br>Type: Bot<br>Confidence: 95%<br>Keywords: Stories, talking me through<br>Sentiment: positive",
          "Theme: Philosophy<br>Type: Bot<br>Confidence: 90%<br>Keywords: consciousness of engagement<br>Sentiment: neutral",
          "Theme: Quote<br>Type: Bot<br>Confidence: 90%<br>Keywords: What lies behind us, O. W. Holmes<br>Sentiment: positive",
          "Theme: Abstract Questions<br>Type: Bot<br>Confidence: 90%<br>Keywords: moth, insect, butterfly<br>Sentiment: neutral",
          "Theme: Computer Systems<br>Type: Bot<br>Confidence: 90%<br>Keywords: WINDOWS SEVEN IT WAS MY IDEA BITCHES<br>Sentiment: negative",
          "Theme: Romance<br>Type: Bot<br>Confidence: 90%<br>Keywords: Eu te amo, Eu te perd\\xc3\\xb4o<br>Sentiment: positive",
          "Theme: Health<br>Type: Bot<br>Confidence: 95%<br>Keywords: \\xf0\\x9f\\x8f\\x94: please let your eyes rest! take care of urself!<br>Sentiment: positive",
          "Theme: Cryptocurrency<br>Type: Bot<br>Confidence: 90%<br>Keywords: Cryptocurrency Keys, Bank of America Patent<br>Sentiment: neutral",
          "Theme: Arduino<br>Type: Bot<br>Confidence: 95%<br>Keywords: Arduino no longer open-source<br>Sentiment: negative",
          "Theme: Condolence/Obituary<br>Type: Bot<br>Confidence: 95%<br>Keywords: RIP Stan Musial, best Cardinal<br>Sentiment: positive",
          "Theme: Celebration/Relief<br>Type: Bot<br>Confidence: 90%<br>Keywords: Thanks god, done it<br>Sentiment: positive",
          "Theme: Personal Aspiration/Education<br>Type: Bot<br>Confidence: 95%<br>Keywords: #TRUMP2016, GET MY POLITICAL SCIENCE DEGREE<br>Sentiment: positive",
          "Theme: Social Interaction/Correction<br>Type: Bot<br>Confidence: 90%<br>Keywords: It\\'s spelt \"Caesar\"<br>Sentiment: neutral",
          "Theme: Technology or Programming<br>Type: Bot<br>Confidence: 90%<br>Keywords: Rust, Threat Intelligence, DarkReading<br>Sentiment: neutral",
          "Theme: Relationship<br>Type: Bot<br>Confidence: 90%<br>Keywords: no man is an island, woman is his home<br>Sentiment: positive",
          "Theme: Excitement<br>Type: Bot<br>Confidence: 95%<br>Keywords: i am excited<br>Sentiment: positive",
          "Theme: Breakup<br>Type: Bot<br>Confidence: 95%<br>Keywords: breakups, moving<br>Sentiment: negative",
          "Theme: Music and Dance<br>Type: Bot<br>Confidence: 90%<br>Keywords: Doo-dah, doo-dah<br>Sentiment: positive",
          "Theme: Science Fiction and Fantasy<br>Type: Bot<br>Confidence: 95%<br>Keywords: discovered a planet, runty sea, beaches<br>Sentiment: positive",
          "Theme: Mental Health/Emotional Distress<br>Type: Bot<br>Confidence: 90%<br>Keywords: I CANT GO ON<br>Sentiment: negative",
          "Theme: Data Breach/Security<br>Type: Bot<br>Confidence: 95%<br>Keywords: 500 Million Marriott Guest Records, Data Breach, #TheHackerNews<br>Sentiment: negative",
          "Theme: Linux/Technology<br>Type: Bot<br>Confidence: 95%<br>Keywords: Fedora 27, icecast, #Nessus<br>Sentiment: neutral",
          "Theme: Business/Economy<br>Type: Bot<br>Confidence: 90%<br>Keywords: Taking Tesla Private<br>Sentiment: neutral",
          "Theme: Security/Vulnerabilities<br>Type: Bot<br>Confidence: 95%<br>Keywords: Experts found flaws in Dell EMC and #VMware, Patch them now! #SecurityAffairs<br>Sentiment: negative",
          "Theme: humor<br>Type: Bot<br>Confidence: 95%<br>Keywords: hilarious interview, /\\n, #accidentalhaiku<br>Sentiment: positive",
          "Theme: science fiction<br>Type: Bot<br>Confidence: 90%<br>Keywords: 42, The Hitchhiker's Guide to the Galaxy<br>Sentiment: neutral",
          "Theme: Movies/Entertainment<br>Type: Bot<br>Confidence: 90%<br>Keywords: Cage, Paramedic, Pakistan<br>Sentiment: neutral",
          "Theme: News<br>Type: Bot<br>Confidence: 95%<br>Keywords: Delta Air, EU Court<br>Sentiment: neutral",
          "Theme: Personal<br>Type: Bot<br>Confidence: 90%<br>Keywords: Laptop, Bagpuss<br>Sentiment: positive",
          "Theme: Object<br>Type: Bot<br>Confidence: 95%<br>Keywords: Snuffbox<br>Sentiment: neutral",
          "Theme: Expression of Frustration<br>Type: Bot<br>Confidence: 90%<br>Keywords: already know, just us<br>Sentiment: negative",
          "Theme: Mathematical Expression<br>Type: Bot<br>Confidence: 95%<br>Keywords: cos, pow, max, dst<br>Sentiment: neutral",
          "Theme: Survival<br>Type: Bot<br>Confidence: 90%<br>Keywords: poaching rings, tuna cans<br>Sentiment: neutral",
          "Theme: Business<br>Type: Bot<br>Confidence: 90%<br>Keywords: Sberbank, Third-Quarter, Profit<br>Sentiment: neutral",
          "Theme: Greeting<br>Type: Bot<br>Confidence: 90%<br>Keywords: howdy, sheriff<br>Sentiment: positive",
          "Theme: Dyslexia Awareness<br>Type: Bot<br>Confidence: 95%<br>Keywords: dyslexia, treatment, future<br>Sentiment: positive",
          "Theme: Ode to Technology<br>Type: Bot<br>Confidence: 90%<br>Keywords: robot, poetry, Chinese<br>Sentiment: negative",
          "Theme: Movies<br>Type: Bot<br>Confidence: 90%<br>Keywords: Nicolas Cage, Louisiana congressman, home invasion<br>Sentiment: neutral",
          "Theme: Instruction/Guide<br>Type: Bot<br>Confidence: 90%<br>Keywords: use, keys<br>Sentiment: neutral",
          "Theme: Shopping<br>Type: Bot<br>Confidence: 95%<br>Keywords: glass coolers, http<br>Sentiment: neutral",
          "Theme: Crypto Scandal<br>Type: Bot<br>Confidence: 95%<br>Keywords: BTC, BCH, misleading<br>Sentiment: negative",
          "Theme: Emotional Expression<br>Type: Bot<br>Confidence: 95%<br>Keywords: BONG BONG BONG<br>Sentiment: neutral",
          "Theme: Location Criticism<br>Type: Bot<br>Confidence: 90%<br>Keywords: BUSHWICK, COLONIST<br>Sentiment: negative",
          "Theme: Bitcoin News<br>Type: Bot<br>Confidence: 95%<br>Keywords: Bitcoin Bug<br>Sentiment: negative",
          "Theme: Bitcoin Market Analysis<br>Type: Bot<br>Confidence: 95%<br>Keywords: Bitcoin Plunging<br>Sentiment: negative",
          "Theme: Space Exploration<br>Type: Bot<br>Confidence: 90%<br>Keywords: discovered a planet, 5 moons<br>Sentiment: positive",
          "Theme: Cybersecurity Competition<br>Type: Bot<br>Confidence: 90%<br>Keywords: CSAW, Cybersecurity, Competition<br>Sentiment: neutral",
          "Theme: Celebrity Gossip<br>Type: Bot<br>Confidence: 95%<br>Keywords: Tina Fey<br>Sentiment: positive",
          "Theme: Mathematical Equation<br>Type: Bot<br>Confidence: 98%<br>Keywords: at2, sqt, pln<br>Sentiment: neutral",
          "Theme: Financial News<br>Type: Bot<br>Confidence: 95%<br>Keywords: Gas Prices, Fed, BOE<br>Sentiment: negative",
          "Theme: Work Reminder<br>Type: Bot<br>Confidence: 90%<br>Keywords: Get back to work<br>Sentiment: negative",
          "Theme: Lying<br>Type: Bot<br>Confidence: 90%<br>Keywords: don't lie, /\\nit, /\\ndon\\xe2\\x80\\x99t lie<br>Sentiment: negative",
          "Theme: Humor or Satire<br>Type: Bot<br>Confidence: 90%<br>Keywords: RT, face, Eli Manning<br>Sentiment: positive",
          "Theme: Social Media/Communication<br>Type: Bot<br>Confidence: 90%<br>Keywords: Hey all you Kevins out there, RT @Pringles<br>Sentiment: negative",
          "Theme: Music/Sound<br>Type: Bot<br>Confidence: 95%<br>Keywords: BONG BONG BONG BONG BONG BONG BONG BONG BONG BONG BONG<br>Sentiment: neutral",
          "Theme: Linux Security<br>Type: Bot<br>Confidence: 95%<br>Keywords: #CentOS, sssd, CESA-2018:3158<br>Sentiment: neutral",
          "Theme: Noise<br>Type: Bot<br>Confidence: 95%<br>Keywords: BONG BONG BONG BONG BONG<br>Sentiment: neutral",
          "Theme: Question<br>Type: Bot<br>Confidence: 95%<br>Keywords: Why is a dirt found in a refrigerator?<br>Sentiment: neutral",
          "Theme: Marketing<br>Type: Bot<br>Confidence: 95%<br>Keywords: WEATHER REVIEWS, http://t.co/wpJGoK2ozt<br>Sentiment: neutral",
          "Theme: History<br>Type: Bot<br>Confidence: 95%<br>Keywords: Victoria Cross, Dorsland Trek, Bristol<br>Sentiment: neutral"
         ],
         "marker": {
          "color": "rgb(255,0,0)",
          "line": {
           "color": "rgb(139,0,0)",
           "width": 1
          },
          "size": 8
         },
         "mode": "markers",
         "name": "Bot Themes",
         "type": "scatter",
         "x": [
          -4.1158371905142666,
          -5.346362465748294,
          -5.478354653773396,
          -5.620519959855562,
          -6.990429869214356,
          -7.356829536238498,
          -4.50305984132035,
          -6.1185465054997605,
          -4.1063382653883025,
          -3.854281526527441,
          -6.0199663856890915,
          -3.253905843519907,
          -5.59314849290058,
          -3.575387223916059,
          -4.830230637045322,
          -4.910914513795648,
          -5.694958369186232,
          -5.026132050226948,
          -5.365706259891636,
          -7.008280599601376,
          -5.03427845502898,
          -4.714983714257721,
          -5.55714218764749,
          -5.882916061551743,
          -5.810999783917527,
          -3.7436222812237054,
          -5.15008872682373,
          -3.0110461786651253,
          -4.35265643938158,
          -5.022020947789825,
          -4.294549783291005,
          -5.062907402857096,
          -5.5720962069886015,
          -4.519452892683796,
          -6.063789301772308,
          -3.4613640479943353,
          -5.791592286465807,
          -3.5647991751495356,
          -5.6624089539576,
          -5.640514044286533,
          -5.438157152369418,
          -5.239501278756328,
          -6.5460143625965035,
          -4.004576945108323,
          -5.922702303951182,
          -4.6536175700238465,
          -4.075534382787401,
          -5.239831040548141,
          -3.773449523916665,
          -4.533917428171216,
          -6.615856449053526,
          -3.953769973359129,
          -6.940850287885155,
          -4.7344197299376045,
          -4.781435176700289,
          -4.364271603975751,
          -4.506779650626983,
          -5.553854640192181,
          -6.931255651228272,
          -5.061092287488618,
          -5.455385520582077,
          -3.866308138855817,
          -2.8001392473277313,
          -5.086383755842922,
          -5.9441217592577,
          -5.193470192124975,
          -5.627380259001275,
          -5.512163889145796,
          -3.9860828852912498,
          -3.8785813538845266,
          -3.4166225768509078,
          -4.700592297896459,
          -3.1911862448446318,
          -4.895076306842591,
          -5.173101331186024,
          -6.859409429480052,
          -6.1302979169033645,
          -5.089687387946579,
          -7.033843433935967,
          -4.780049036349654,
          -6.3731580915451005,
          -6.362167943213652,
          -5.595357645688844,
          -5.777305689183922,
          -5.943639824077202,
          -4.417096059192609,
          -5.375439240960163,
          -4.608146807481273,
          -6.089592289599765,
          -3.713834328163071,
          -4.926264556309047,
          -5.204109198124056,
          -4.328377031164461,
          -4.5459856927451,
          -4.341544601401522,
          -5.447569158282339,
          -3.9404700043730063,
          -4.747052739861047,
          -4.393578612125542,
          -6.977167212540625,
          -5.7029900314730835,
          -4.036360796427263,
          -6.067864963649141,
          -4.08177918867462,
          -4.069095230236664,
          -4.725818293046792,
          -5.103653478784513,
          -3.7821542293423107,
          -8.689762324075495,
          -4.869768621030452,
          -5.348938534609281,
          -4.54769133857694
         ],
         "y": [
          -3.13068727868913,
          -4.595291657520029,
          -5.803450995626576,
          -3.049104657231603,
          -6.669866506677943,
          -4.288403776438344,
          -4.34591575285421,
          -6.150569251285977,
          -6.1277030188954935,
          -6.016703615723692,
          -5.298763664333302,
          -3.8945484822038354,
          -5.955432203109493,
          -6.358722284276054,
          -3.2087039910713155,
          -5.652200625422616,
          -5.226120631725662,
          -4.030166142461536,
          -5.872483996687729,
          -5.873581737953388,
          -5.297569508829959,
          -4.651371574474033,
          -3.999588237028412,
          -6.318480498452375,
          -3.066705838694971,
          -4.54078087555937,
          -4.510630125727902,
          -3.470710988416048,
          -5.867547904586036,
          -5.651696828711902,
          -4.6482675426791324,
          -4.002813224633281,
          -3.99434671047171,
          -6.0393734858662045,
          -5.500041774995057,
          -5.272582057144453,
          -5.421611803247218,
          -6.133077318893295,
          -5.995208959297768,
          -5.803851623851554,
          -5.034341609868472,
          -5.8992714952667376,
          -5.398562927766849,
          -4.408939478573297,
          -6.194898585050971,
          -6.794880739305756,
          -4.5033972816478505,
          -5.493186331514168,
          -4.817328965244222,
          -4.167497166312658,
          -4.482299605245541,
          -5.720908446442644,
          -3.911440938905712,
          -5.757736689252177,
          -5.66177480952669,
          -3.5720300073243463,
          -6.603143708366857,
          -3.504132062536263,
          -6.0937383667117695,
          -5.133257902045332,
          -5.554434503994168,
          -5.659310610085288,
          -5.838407558958323,
          -6.593098983433058,
          -4.2082767982651,
          -4.969448303983682,
          -5.291496089647539,
          -4.993855843820765,
          -6.347376121788941,
          -4.219758844719324,
          -6.558460284919142,
          -6.567626872077824,
          -4.049008759501842,
          -5.771097455117103,
          -4.432220156755045,
          -6.3519376579218605,
          -4.9320046859313385,
          -2.925654125351714,
          -4.224603764218828,
          -5.199681955419431,
          -4.940839795861311,
          -6.4026706373523385,
          -4.355955367297563,
          -5.5727717742198335,
          -6.337503445587449,
          -3.7941669859690865,
          -2.9341305619891545,
          -4.832479120322908,
          -2.9979427556673808,
          -3.188763489700253,
          -4.3532062887110445,
          -4.700022111911142,
          -4.485350013806244,
          -4.945961512797237,
          -3.456131954262874,
          -4.907921260925172,
          -4.372381597373305,
          -5.556451169696406,
          -5.80883742377415,
          -4.581088257158623,
          -3.7874475618628534,
          -3.998539398932195,
          -3.7648870947776776,
          -5.464441768984333,
          -5.686541124021698,
          -6.127240049552701,
          -5.501757180434135,
          -5.729455204801782,
          -4.98531866933744,
          -4.643525256004205,
          -2.833050400564039,
          -4.695850508690602
         ]
        },
        {
         "hoverinfo": "text",
         "hovertext": [
          "Theme: Environment and Science<br>Type: Non-Bot<br>Confidence: 95%<br>Keywords: Sea water, Kwinana bores<br>Sentiment: neutral",
          "Theme: Music and Arts<br>Type: Non-Bot<br>Confidence: 95%<br>Keywords: FireEscape, @pastemagazine<br>Sentiment: positive",
          "Theme: Social Justice and Equality<br>Type: Non-Bot<br>Confidence: 90%<br>Keywords: Hate crime, London<br>Sentiment: negative",
          "Theme: Animals and Pets<br>Type: Non-Bot<br>Confidence: 95%<br>Keywords: god bless dogs<br>Sentiment: positive",
          "Theme: Personal Expression<br>Type: Non-Bot<br>Confidence: 90%<br>Keywords: amazing, inspirational, resilient<br>Sentiment: positive",
          "Theme: Crime and Justice<br>Type: Non-Bot<br>Confidence: 90%<br>Keywords: attack, Iris Warner, @metpoliceuk<br>Sentiment: negative",
          "Theme: Social Commentary<br>Type: Non-Bot<br>Confidence: 95%<br>Keywords: Coldplay, Israel-Palestine peace concert<br>Sentiment: negative",
          "Theme: Philanthropy and Education<br>Type: Non-Bot<br>Confidence: 90%<br>Keywords: DonorsChoose, Education, Classroom<br>Sentiment: positive",
          "Theme: Reality TV and Celebrity<br>Type: Non-Bot<br>Confidence: 90%<br>Keywords: KUWTK, Reality TV, Celebrity<br>Sentiment: positive",
          "Theme: Conversation and Clarification<br>Type: Non-Bot<br>Confidence: 95%<br>Keywords: appearance, another, @LemonSpade<br>Sentiment: neutral",
          "Theme: Encryption and Security<br>Type: Non-Bot<br>Confidence: 90%<br>Keywords: encryption bill, providers, methods, break<br>Sentiment: negative",
          "Theme: Politics and Current Events<br>Type: Non-Bot<br>Confidence: 90%<br>Keywords: ye Qaum purani yadoon, haal, ajkal, PPKa jlsa, Comedy show<br>Sentiment: negative",
          "Theme: Community Events<br>Type: Non-Bot<br>Confidence: 90%<br>Keywords: @dlwp, @eddieizzard, Bexhill, events<br>Sentiment: neutral",
          "Theme: Nuclear Threat<br>Type: Non-Bot<br>Confidence: 90%<br>Keywords: Nuking, Failsafes, Report<br>Sentiment: negative",
          "Theme: Celebration<br>Type: Non-Bot<br>Confidence: 90%<br>Keywords: Hindu New Year, Neasden Temple<br>Sentiment: positive",
          "Theme: Politics & Elections<br>Type: Non-Bot<br>Confidence: 100%<br>Keywords: @Offord4Hendon, Mike Freer, Hendon, Finchley<br>Sentiment: neutral",
          "Theme: Sarcasm/Disapproval<br>Type: Non-Bot<br>Confidence: 99%<br>Keywords: @arakelian_mary, \"Doesn't make scents\"<br>Sentiment: negative",
          "Theme: Education & Community<br>Type: Non-Bot<br>Confidence: 98%<br>Keywords: @TrimiziiSyeda, Engineering Student, Lahore Grammar School<br>Sentiment: neutral",
          "Theme: Entertainment & Culture<br>Type: Non-Bot<br>Confidence: 95%<br>Keywords: Tim Kaine, Harmonica, Wagon Wheel, Asheville<br>Sentiment: positive",
          "Theme: Personal Life & Relationships<br>Type: Non-Bot<br>Confidence: 96%<br>Keywords: Loony Tweets, Ex-Husband<br>Sentiment: negative",
          "Theme: Technology & Business<br>Type: Non-Bot<br>Confidence: 97%<br>Keywords: #metaguide, Inbenta Videos<br>Sentiment: neutral",
          "Theme: Sports & Fitness<br>Type: Non-Bot<br>Confidence: 98%<br>Keywords: Consistency, Quality, Regional Teams<br>Sentiment: positive",
          "Theme: Social Justice & Activism<br>Type: Non-Bot<br>Confidence: 99%<br>Keywords: @nhannahjones, Fannie Lou Hamer, Medgar Evers<br>Sentiment: negative",
          "Theme: Social Comment/Condemnation<br>Type: Non-Bot<br>Confidence: 90%<br>Keywords: attack, perpetrators<br>Sentiment: negative",
          "Theme: Love/Relationship<br>Type: Non-Bot<br>Confidence: 95%<br>Keywords: valentines, judges<br>Sentiment: positive",
          "Theme: Social Cause/Hunger<br>Type: Non-Bot<br>Confidence: 92%<br>Keywords: hunger, support<br>Sentiment: negative",
          "Theme: Reality TV<br>Type: Non-Bot<br>Confidence: 90%<br>Keywords: Thank you, Will<br>Sentiment: positive",
          "Theme: Patriotism<br>Type: Non-Bot<br>Confidence: 95%<br>Keywords: uniform, serve the country, Jai Ho<br>Sentiment: positive",
          "Theme: Canadian Politics<br>Type: Non-Bot<br>Confidence: 90%<br>Keywords: U.S. security umbrella, client state, cdnpoli, dnd<br>Sentiment: neutral",
          "Theme: Workplace Policies<br>Type: Non-Bot<br>Confidence: 90%<br>Keywords: punch out, bathroom<br>Sentiment: negative",
          "Theme: Positive News<br>Type: Non-Bot<br>Confidence: 92%<br>Keywords: congratulations, amazing<br>Sentiment: {}",
          "Theme: Good Luck<br>Type: Non-Bot<br>Confidence: 90%<br>Keywords: <br>Sentiment: {}",
          "Theme: Pet<br>Type: Non-Bot<br>Confidence: 90%<br>Keywords: dog, picture<br>Sentiment: neutral",
          "Theme: Gun Control<br>Type: Non-Bot<br>Confidence: 95%<br>Keywords: Gun Sense<br>Sentiment: positive",
          "Theme: Conference<br>Type: Non-Bot<br>Confidence: 90%<br>Keywords: <br>Sentiment: {}",
          "Theme: Bike Infrastructure<br>Type: Non-Bot<br>Confidence: 95%<br>Keywords: North-South Cycle Superhighway, CS6, Elephant & Castle, Kings Cross<br>Sentiment: neutral",
          "Theme: Pop Culture<br>Type: Non-Bot<br>Confidence: 95%<br>Keywords: Malcolm in the Middle<br>Sentiment: neutral",
          "Theme: News and Politics<br>Type: Non-Bot<br>Confidence: 95%<br>Keywords: CTVNews, House of Commons<br>Sentiment: {}",
          "Theme: Support for Social Cause<br>Type: Non-Bot<br>Confidence: 90%<br>Keywords: One Tough Mother, cancer survivor, gun control<br>Sentiment: positive",
          "Theme: Literary/Awards<br>Type: Non-Bot<br>Confidence: 90%<br>Keywords: ForwardPrizes, Danez_Smif<br>Sentiment: positive",
          "Theme: Junk Food Ban<br>Type: Non-Bot<br>Confidence: 100%<br>Keywords: junk food ad ban, child obesity<br>Sentiment: neutral",
          "Theme: Taxation<br>Type: Non-Bot<br>Confidence: 90%<br>Keywords: Small Business Owner, New Mexico Tax Authorities, #wackytaxwednesday<br>Sentiment: positive",
          "Theme: Book Review<br>Type: Non-Bot<br>Confidence: 95%<br>Keywords: The Perfect Girl, page turner, characters, suspense, @GillyMacmillan<br>Sentiment: positive",
          "Theme: Art<br>Type: Non-Bot<br>Confidence: 95%<br>Keywords: drawing, pet, art<br>Sentiment: neutral",
          "Theme: IT Security<br>Type: Non-Bot<br>Confidence: 98%<br>Keywords: IT security, vulnerability, cybersecurity<br>Sentiment: negative",
          "Theme: Diversity<br>Type: Non-Bot<br>Confidence: 96%<br>Keywords: diversity, celebration, tolerance<br>Sentiment: positive",
          "Theme: Biography and Writing<br>Type: Non-Bot<br>Confidence: 90%<br>Keywords: biography, Leary, Garcia, Bill Graham<br>Sentiment: neutral",
          "Theme: Support for Kashmir<br>Type: Non-Bot<br>Confidence: 95%<br>Keywords: Kashmir, Kashmiri brethren, Pakistan<br>Sentiment: positive",
          "Theme: Criticism of Chris Melberger<br>Type: Non-Bot<br>Confidence: 90%<br>Keywords: @chrismelberger, you have a TV<br>Sentiment: negative",
          "Theme: News Report<br>Type: Non-Bot<br>Confidence: 95%<br>Keywords: #Alexandriashooting, President Trump, shooter has died<br>Sentiment: negative",
          "Theme: Punjab Politics<br>Type: Non-Bot<br>Confidence: 90%<br>Keywords: opp parties, PMLN, bye- elections, LG elec<br>Sentiment: negative",
          "Theme: Reaction<br>Type: Non-Bot<br>Confidence: 90%<br>Keywords: Heartbreaking, embarassing<br>Sentiment: negative",
          "Theme: Weather<br>Type: Non-Bot<br>Confidence: 95%<br>Keywords: Foggy, Boston<br>Sentiment: neutral",
          "Theme: Career Development<br>Type: Non-Bot<br>Confidence: 90%<br>Keywords: leverage, tomorrow, career<br>Sentiment: positive",
          "Theme: Miley Cyrus at the Grammys<br>Type: Non-Bot<br>Confidence: 90%<br>Keywords: Grammys, Miley Cyrus<br>Sentiment: positive",
          "Theme: Food Choice<br>Type: Non-Bot<br>Confidence: 90%<br>Keywords: crunchy, creamy, peanut butter<br>Sentiment: neutral",
          "Theme: Politics/Elections<br>Type: Non-Bot<br>Confidence: 90%<br>Keywords: Noorani, free and fair election<br>Sentiment: neutral",
          "Theme: Politics/Current Events<br>Type: Non-Bot<br>Confidence: 95%<br>Keywords: @CityLab, reports<br>Sentiment: negative",
          "Theme: Politics/Government<br>Type: Non-Bot<br>Confidence: 95%<br>Keywords: young people, midterm elections<br>Sentiment: negative",
          "Theme: Motherhood<br>Type: Non-Bot<br>Confidence: 98%<br>Keywords: #BeingMom, @BeingHumanJewel<br>Sentiment: positive",
          "Theme: Travel<br>Type: Non-Bot<br>Confidence: 95%<br>Keywords: Natural Bridge Wax Museum, Basement<br>Sentiment: positive",
          "Theme: Humor and Satire<br>Type: Non-Bot<br>Confidence: 90%<br>Keywords: Look at this beautiful child, Chad<br>Sentiment: neutral",
          "Theme: Social Media Deception<br>Type: Non-Bot<br>Confidence: 90%<br>Keywords: LIES, Fake, Favstar_Bot, petemandik<br>Sentiment: negative",
          "Theme: Northern Pakistan<br>Type: Non-Bot<br>Confidence: 95%<br>Keywords: northernareas, northernareasofpakistan, kpk, sawat, kalam, pakistan, PakistanBeauty, RiverSawat<br>Sentiment: neutral",
          "Theme: Violence Against Women<br>Type: Non-Bot<br>Confidence: 95%<br>Keywords: International Day, Elimination of Violence Against Women, prevention, perpetrator, bring, change, movement, empower, equality<br>Sentiment: positive",
          "Theme: Awareness/Education<br>Type: Non-Bot<br>Confidence: 90%<br>Keywords: vulnerable, look out<br>Sentiment: positive",
          "Theme: Information/Sharing<br>Type: Non-Bot<br>Confidence: 95%<br>Keywords: Republic Day, serve the country, Jai Ho<br>Sentiment: neutral",
          "Theme: Criticism/Complaint<br>Type: Non-Bot<br>Confidence: 95%<br>Keywords: mega projects, infrastructure stability<br>Sentiment: negative",
          "Theme: Product Review<br>Type: Non-Bot<br>Confidence: 90%<br>Keywords: Clarizen, project management<br>Sentiment: positive",
          "Theme: Comedy and Entertainment<br>Type: Non-Bot<br>Confidence: 90%<br>Keywords: Happy 85th birthday, comedy<br>Sentiment: positive",
          "Theme: Appreciation and Gratitude<br>Type: Non-Bot<br>Confidence: 90%<br>Keywords: thank you<br>Sentiment: positive",
          "Theme: Birthday Wishes<br>Type: Non-Bot<br>Confidence: 95%<br>Keywords: birthday, friend, beautiful, smart, hilarious<br>Sentiment: positive",
          "Theme: Positive Review<br>Type: Non-Bot<br>Confidence: 90%<br>Keywords: seaworld, good<br>Sentiment: positive",
          "Theme: Motivational Quote<br>Type: Non-Bot<br>Confidence: 95%<br>Keywords: let your life be a shining example<br>Sentiment: positive",
          "Theme: Political Campaign<br>Type: Non-Bot<br>Confidence: 90%<br>Keywords: celebrating, gunsensecan<br>Sentiment: positive",
          "Theme: Get-Out-The-Vote Effort<br>Type: Non-Bot<br>Confidence: 95%<br>Keywords: gotv, hard work<br>Sentiment: positive",
          "Theme: Customer Service Issue<br>Type: Non-Bot<br>Confidence: 95%<br>Keywords: delayed, inflexibility<br>Sentiment: negative",
          "Theme: Music Event<br>Type: Non-Bot<br>Confidence: 90%<br>Keywords: Grammys, Kendrick Lamar, DAMN<br>Sentiment: neutral",
          "Theme: Social Movement<br>Type: Non-Bot<br>Confidence: 95%<br>Keywords: FireTheFool, April Fool's Day<br>Sentiment: neutral",
          "Theme: Brexit<br>Type: Non-Bot<br>Confidence: 90%<br>Keywords: EU, leave, decisions<br>Sentiment: neutral",
          "Theme: Emergency Response<br>Type: Non-Bot<br>Confidence: 90%<br>Keywords: fire, UNC campus<br>Sentiment: neutral",
          "Theme: Charity<br>Type: Non-Bot<br>Confidence: 90%<br>Keywords: #CopthornePrep, #27marathons27days, @sportrelief<br>Sentiment: positive",
          "Theme: Celebrity and Current Events<br>Type: Non-Bot<br>Confidence: 90%<br>Keywords: #CincoDeMayo, #7News, @cdelcampon7<br>Sentiment: neutral",
          "Theme: Charity and Donations<br>Type: Non-Bot<br>Confidence: 100%<br>Keywords: donation, UNICEF, #WAKEUPCALL<br>Sentiment: positive",
          "Theme: Self-Assurance<br>Type: Non-Bot<br>Confidence: 90%<br>Keywords: fine, #whatgoesup<br>Sentiment: neutral",
          "Theme: Phone and Communication<br>Type: Non-Bot<br>Confidence: 95%<br>Keywords: blocked numbers, blocked<br>Sentiment: neutral",
          "Theme: Event and Development<br>Type: Non-Bot<br>Confidence: 100%<br>Keywords: Swat Motorway, development, tourism<br>Sentiment: neutral",
          "Theme: Harassment and Safety<br>Type: Non-Bot<br>Confidence: 95%<br>Keywords: blocked and reported, @muffinista<br>Sentiment: negative",
          "Theme: Politics and Conflict<br>Type: Non-Bot<br>Confidence: 100%<br>Keywords: PTI lawyer, critically wounded, Punjab police<br>Sentiment: negative",
          "Theme: Social Event and Celebration<br>Type: Non-Bot<br>Confidence: 90%<br>Keywords: RootsPicnic, #RootsPicnic, pic 2018<br>Sentiment: neutral"
         ],
         "marker": {
          "color": "rgb(0,255,0)",
          "line": {
           "color": "rgb(0,100,0)",
           "width": 1
          },
          "size": 8
         },
         "mode": "markers",
         "name": "Non-Bot Themes",
         "type": "scatter",
         "x": [
          5.005474950922122,
          5.6211972461352575,
          4.448880659790101,
          5.113871545246824,
          4.289225308043371,
          6.797137699730771,
          5.158541274483274,
          5.297184789819239,
          4.302048429141583,
          6.28101614819268,
          4.691258488766024,
          3.0411036362040704,
          6.306406156058824,
          4.828417837352512,
          4.474412365933012,
          5.147707996190646,
          4.957310364826529,
          7.153338802351419,
          4.6905703313053095,
          5.358943015167665,
          5.564736729506219,
          5.855848472606601,
          3.5898984218590826,
          5.768180059406428,
          3.911160185202937,
          3.5862058991759462,
          3.23947879913209,
          4.834701691686937,
          5.195987175800018,
          3.6829302044402277,
          3.8384917661918827,
          5.937369065835374,
          3.875928698275276,
          4.48368071459095,
          5.224512325091349,
          5.40192918834787,
          6.7396049658544,
          4.674127764063176,
          4.447078665190517,
          3.939867874870357,
          4.433092023198385,
          4.001578160230322,
          5.223792387570302,
          4.030786393021564,
          6.119441947661929,
          6.196259757754135,
          5.220920142939958,
          3.5119920033803473,
          5.704249556924771,
          5.72382155464579,
          5.10447692121439,
          5.117068389868947,
          4.143800970318155,
          4.50771682300023,
          5.724664814607863,
          6.023601122729864,
          5.655138630570426,
          5.840503472095203,
          3.435194988152324,
          4.3789893654783905,
          5.019206339632972,
          5.993810603268525,
          5.9566194152487535,
          4.686176505234578,
          5.01975108327703,
          5.641663668772059,
          4.252942075038195,
          6.743261628197973,
          3.102137099821088,
          4.518038586868335,
          5.059064528090479,
          3.915401611639889,
          5.8692659669981175,
          2.0885144019777235,
          4.957498276443099,
          2.8112552900160823,
          4.486455246842603,
          5.735067936879616,
          6.0580063528835915,
          5.6551454942788535,
          5.8754374273988645,
          5.075499140798647,
          2.8668002401388577,
          4.268040392868793,
          5.071345906934952,
          5.125472076403349,
          3.4083263378570643,
          4.200418960158929,
          6.233022941494134,
          5.298340339925033
         ],
         "y": [
          3.97972564982881,
          3.5969599780464216,
          3.523857437196757,
          6.537492418863282,
          4.0827539685968155,
          3.643187189248734,
          6.252127058511986,
          5.557759184933261,
          5.219602130490214,
          4.3980105027350564,
          4.973471832261136,
          5.884267432741992,
          5.382442590643869,
          6.205476278666362,
          5.058205898028955,
          5.111613090849472,
          4.623087034238641,
          4.591468359138422,
          4.065028374826498,
          3.5825692353663254,
          5.3536992347136225,
          4.749744712161748,
          5.170150446498542,
          4.770442121588743,
          3.662957002451678,
          5.5358388641363465,
          5.0773573240449235,
          3.620031151774673,
          6.298384504092121,
          3.9309680601195307,
          4.4395205556054345,
          5.290715506015226,
          4.83512812294555,
          7.4081442243090745,
          5.8653238643477,
          2.862261245621235,
          4.258335776624223,
          4.93784577532714,
          4.9507621327096185,
          3.9972284267464575,
          3.001284177860467,
          5.181668824299969,
          4.118622696360678,
          4.632155431077182,
          3.738255786708616,
          3.8332758592087868,
          4.846817619482438,
          5.8218897104289615,
          6.085509189799231,
          5.205084303838784,
          5.4764134040503265,
          5.854108260274028,
          5.4185075175927695,
          6.277898049489268,
          6.7460424491216635,
          3.059503868949439,
          4.056088584460138,
          3.9544298471717307,
          4.633385265110019,
          4.871332292082348,
          3.4101030854165044,
          3.6809751945281444,
          4.489093380549266,
          5.381666428273019,
          4.199776739460383,
          3.498465670781894,
          3.506862788220377,
          4.692864987018266,
          3.088520357321805,
          5.155244198874606,
          5.792438246572732,
          4.023573149488967,
          6.585108174981984,
          5.614224556556277,
          4.8497516828738005,
          6.7785268675790045,
          3.552670291803926,
          6.333878159662959,
          3.701184618531429,
          5.624208497822005,
          6.305518075369323,
          4.9635438186955865,
          3.1929301009624695,
          7.587722025703206,
          3.555184453883428,
          6.220559086740856,
          6.3290368113632685,
          4.801097326907933,
          4.073916495734617,
          4.515103105132597
         ]
        },
        {
         "hoverinfo": "text",
         "hovertext": [
          "Theme: Technology<br>Type: Mixed<br>Confidence: 100%<br>Keywords: Microsoft, Chromium, Edge<br>Sentiment: negative",
          "Theme: Entertainment<br>Type: Mixed<br>Confidence: 99%<br>Keywords: wine, shoes, LindaVino, Winelover<br>Sentiment: positive",
          "Theme: Social Media<br>Type: Mixed<br>Confidence: 90%<br>Keywords: RT, hashtag, volunteer<br>Sentiment: neutral",
          "Theme: Humor<br>Type: Mixed<br>Confidence: 90%<br>Keywords: DUKE NUKEM FOREVER, BONG BONG BONG BONG BONG BONG, doo-dah<br>Sentiment: positive",
          "Theme: Politics<br>Type: Mixed<br>Confidence: 90%<br>Keywords: GET BACK TO WORK, BONG BONG<br>Sentiment: negative",
          "Theme: Sports<br>Type: Mixed<br>Confidence: 90%<br>Keywords: Rose Bowl<br>Sentiment: neutral",
          "Theme: Music<br>Type: Mixed<br>Confidence: 95%<br>Keywords: Alicia Keys, Rapture<br>Sentiment: neutral",
          "Theme: Encouragement<br>Type: Mixed<br>Confidence: 95%<br>Keywords: ask for help, cheering<br>Sentiment: {}",
          "Theme: Celebrity<br>Type: Mixed<br>Confidence: 90%<br>Keywords: slay<br>Sentiment: positive",
          "Theme: Finance<br>Type: Mixed<br>Confidence: 90%<br>Keywords: Bitcoin, Price, Rally, Resistance<br>Sentiment: neutral",
          "Theme: Criticism<br>Type: Mixed<br>Confidence: 90%<br>Keywords: clueless, professional, lunchlady<br>Sentiment: negative",
          "Theme: Event<br>Type: Mixed<br>Confidence: 90%<br>Keywords: Wine, Greece<br>Sentiment: positive"
         ],
         "marker": {
          "color": "rgb(128,0,128)",
          "line": {
           "color": "rgb(75,0,130)",
           "width": 1
          },
          "size": 8
         },
         "mode": "markers",
         "name": "Mixed Themes",
         "type": "scatter",
         "x": [
          0.6453813972863294,
          0.5463032803949994,
          0.1853750784948122,
          1.3641708799312002,
          2.9835842513062762,
          -0.6113283518052037,
          -0.8505181610831826,
          -0.9696111843976725,
          -2.841195784082275,
          2.007562969664133,
          -0.41871356616538524,
          0.6413958581296564
         ],
         "y": [
          -0.8579839007097451,
          -0.29118292133978596,
          2.014849067809507,
          0.33740761540947317,
          1.648522140658215,
          -1.1251994238832494,
          -0.03252445768737906,
          1.2251575635214502,
          0.1472588528542555,
          1.10134842264568,
          -0.9014670900438085,
          -1.9679225103059752
         ]
        }
       ],
       "layout": {
        "height": 800,
        "hovermode": "closest",
        "margin": {
         "b": 20,
         "l": 20,
         "r": 20,
         "t": 60
        },
        "paper_bgcolor": "white",
        "plot_bgcolor": "white",
        "showlegend": true,
        "template": {
         "data": {
          "bar": [
           {
            "error_x": {
             "color": "#2a3f5f"
            },
            "error_y": {
             "color": "#2a3f5f"
            },
            "marker": {
             "line": {
              "color": "#E5ECF6",
              "width": 0.5
             },
             "pattern": {
              "fillmode": "overlay",
              "size": 10,
              "solidity": 0.2
             }
            },
            "type": "bar"
           }
          ],
          "barpolar": [
           {
            "marker": {
             "line": {
              "color": "#E5ECF6",
              "width": 0.5
             },
             "pattern": {
              "fillmode": "overlay",
              "size": 10,
              "solidity": 0.2
             }
            },
            "type": "barpolar"
           }
          ],
          "carpet": [
           {
            "aaxis": {
             "endlinecolor": "#2a3f5f",
             "gridcolor": "white",
             "linecolor": "white",
             "minorgridcolor": "white",
             "startlinecolor": "#2a3f5f"
            },
            "baxis": {
             "endlinecolor": "#2a3f5f",
             "gridcolor": "white",
             "linecolor": "white",
             "minorgridcolor": "white",
             "startlinecolor": "#2a3f5f"
            },
            "type": "carpet"
           }
          ],
          "choropleth": [
           {
            "colorbar": {
             "outlinewidth": 0,
             "ticks": ""
            },
            "type": "choropleth"
           }
          ],
          "contour": [
           {
            "colorbar": {
             "outlinewidth": 0,
             "ticks": ""
            },
            "colorscale": [
             [
              0,
              "#0d0887"
             ],
             [
              0.1111111111111111,
              "#46039f"
             ],
             [
              0.2222222222222222,
              "#7201a8"
             ],
             [
              0.3333333333333333,
              "#9c179e"
             ],
             [
              0.4444444444444444,
              "#bd3786"
             ],
             [
              0.5555555555555556,
              "#d8576b"
             ],
             [
              0.6666666666666666,
              "#ed7953"
             ],
             [
              0.7777777777777778,
              "#fb9f3a"
             ],
             [
              0.8888888888888888,
              "#fdca26"
             ],
             [
              1,
              "#f0f921"
             ]
            ],
            "type": "contour"
           }
          ],
          "contourcarpet": [
           {
            "colorbar": {
             "outlinewidth": 0,
             "ticks": ""
            },
            "type": "contourcarpet"
           }
          ],
          "heatmap": [
           {
            "colorbar": {
             "outlinewidth": 0,
             "ticks": ""
            },
            "colorscale": [
             [
              0,
              "#0d0887"
             ],
             [
              0.1111111111111111,
              "#46039f"
             ],
             [
              0.2222222222222222,
              "#7201a8"
             ],
             [
              0.3333333333333333,
              "#9c179e"
             ],
             [
              0.4444444444444444,
              "#bd3786"
             ],
             [
              0.5555555555555556,
              "#d8576b"
             ],
             [
              0.6666666666666666,
              "#ed7953"
             ],
             [
              0.7777777777777778,
              "#fb9f3a"
             ],
             [
              0.8888888888888888,
              "#fdca26"
             ],
             [
              1,
              "#f0f921"
             ]
            ],
            "type": "heatmap"
           }
          ],
          "heatmapgl": [
           {
            "colorbar": {
             "outlinewidth": 0,
             "ticks": ""
            },
            "colorscale": [
             [
              0,
              "#0d0887"
             ],
             [
              0.1111111111111111,
              "#46039f"
             ],
             [
              0.2222222222222222,
              "#7201a8"
             ],
             [
              0.3333333333333333,
              "#9c179e"
             ],
             [
              0.4444444444444444,
              "#bd3786"
             ],
             [
              0.5555555555555556,
              "#d8576b"
             ],
             [
              0.6666666666666666,
              "#ed7953"
             ],
             [
              0.7777777777777778,
              "#fb9f3a"
             ],
             [
              0.8888888888888888,
              "#fdca26"
             ],
             [
              1,
              "#f0f921"
             ]
            ],
            "type": "heatmapgl"
           }
          ],
          "histogram": [
           {
            "marker": {
             "pattern": {
              "fillmode": "overlay",
              "size": 10,
              "solidity": 0.2
             }
            },
            "type": "histogram"
           }
          ],
          "histogram2d": [
           {
            "colorbar": {
             "outlinewidth": 0,
             "ticks": ""
            },
            "colorscale": [
             [
              0,
              "#0d0887"
             ],
             [
              0.1111111111111111,
              "#46039f"
             ],
             [
              0.2222222222222222,
              "#7201a8"
             ],
             [
              0.3333333333333333,
              "#9c179e"
             ],
             [
              0.4444444444444444,
              "#bd3786"
             ],
             [
              0.5555555555555556,
              "#d8576b"
             ],
             [
              0.6666666666666666,
              "#ed7953"
             ],
             [
              0.7777777777777778,
              "#fb9f3a"
             ],
             [
              0.8888888888888888,
              "#fdca26"
             ],
             [
              1,
              "#f0f921"
             ]
            ],
            "type": "histogram2d"
           }
          ],
          "histogram2dcontour": [
           {
            "colorbar": {
             "outlinewidth": 0,
             "ticks": ""
            },
            "colorscale": [
             [
              0,
              "#0d0887"
             ],
             [
              0.1111111111111111,
              "#46039f"
             ],
             [
              0.2222222222222222,
              "#7201a8"
             ],
             [
              0.3333333333333333,
              "#9c179e"
             ],
             [
              0.4444444444444444,
              "#bd3786"
             ],
             [
              0.5555555555555556,
              "#d8576b"
             ],
             [
              0.6666666666666666,
              "#ed7953"
             ],
             [
              0.7777777777777778,
              "#fb9f3a"
             ],
             [
              0.8888888888888888,
              "#fdca26"
             ],
             [
              1,
              "#f0f921"
             ]
            ],
            "type": "histogram2dcontour"
           }
          ],
          "mesh3d": [
           {
            "colorbar": {
             "outlinewidth": 0,
             "ticks": ""
            },
            "type": "mesh3d"
           }
          ],
          "parcoords": [
           {
            "line": {
             "colorbar": {
              "outlinewidth": 0,
              "ticks": ""
             }
            },
            "type": "parcoords"
           }
          ],
          "pie": [
           {
            "automargin": true,
            "type": "pie"
           }
          ],
          "scatter": [
           {
            "fillpattern": {
             "fillmode": "overlay",
             "size": 10,
             "solidity": 0.2
            },
            "type": "scatter"
           }
          ],
          "scatter3d": [
           {
            "line": {
             "colorbar": {
              "outlinewidth": 0,
              "ticks": ""
             }
            },
            "marker": {
             "colorbar": {
              "outlinewidth": 0,
              "ticks": ""
             }
            },
            "type": "scatter3d"
           }
          ],
          "scattercarpet": [
           {
            "marker": {
             "colorbar": {
              "outlinewidth": 0,
              "ticks": ""
             }
            },
            "type": "scattercarpet"
           }
          ],
          "scattergeo": [
           {
            "marker": {
             "colorbar": {
              "outlinewidth": 0,
              "ticks": ""
             }
            },
            "type": "scattergeo"
           }
          ],
          "scattergl": [
           {
            "marker": {
             "colorbar": {
              "outlinewidth": 0,
              "ticks": ""
             }
            },
            "type": "scattergl"
           }
          ],
          "scattermapbox": [
           {
            "marker": {
             "colorbar": {
              "outlinewidth": 0,
              "ticks": ""
             }
            },
            "type": "scattermapbox"
           }
          ],
          "scatterpolar": [
           {
            "marker": {
             "colorbar": {
              "outlinewidth": 0,
              "ticks": ""
             }
            },
            "type": "scatterpolar"
           }
          ],
          "scatterpolargl": [
           {
            "marker": {
             "colorbar": {
              "outlinewidth": 0,
              "ticks": ""
             }
            },
            "type": "scatterpolargl"
           }
          ],
          "scatterternary": [
           {
            "marker": {
             "colorbar": {
              "outlinewidth": 0,
              "ticks": ""
             }
            },
            "type": "scatterternary"
           }
          ],
          "surface": [
           {
            "colorbar": {
             "outlinewidth": 0,
             "ticks": ""
            },
            "colorscale": [
             [
              0,
              "#0d0887"
             ],
             [
              0.1111111111111111,
              "#46039f"
             ],
             [
              0.2222222222222222,
              "#7201a8"
             ],
             [
              0.3333333333333333,
              "#9c179e"
             ],
             [
              0.4444444444444444,
              "#bd3786"
             ],
             [
              0.5555555555555556,
              "#d8576b"
             ],
             [
              0.6666666666666666,
              "#ed7953"
             ],
             [
              0.7777777777777778,
              "#fb9f3a"
             ],
             [
              0.8888888888888888,
              "#fdca26"
             ],
             [
              1,
              "#f0f921"
             ]
            ],
            "type": "surface"
           }
          ],
          "table": [
           {
            "cells": {
             "fill": {
              "color": "#EBF0F8"
             },
             "line": {
              "color": "white"
             }
            },
            "header": {
             "fill": {
              "color": "#C8D4E3"
             },
             "line": {
              "color": "white"
             }
            },
            "type": "table"
           }
          ]
         },
         "layout": {
          "annotationdefaults": {
           "arrowcolor": "#2a3f5f",
           "arrowhead": 0,
           "arrowwidth": 1
          },
          "autotypenumbers": "strict",
          "coloraxis": {
           "colorbar": {
            "outlinewidth": 0,
            "ticks": ""
           }
          },
          "colorscale": {
           "diverging": [
            [
             0,
             "#8e0152"
            ],
            [
             0.1,
             "#c51b7d"
            ],
            [
             0.2,
             "#de77ae"
            ],
            [
             0.3,
             "#f1b6da"
            ],
            [
             0.4,
             "#fde0ef"
            ],
            [
             0.5,
             "#f7f7f7"
            ],
            [
             0.6,
             "#e6f5d0"
            ],
            [
             0.7,
             "#b8e186"
            ],
            [
             0.8,
             "#7fbc41"
            ],
            [
             0.9,
             "#4d9221"
            ],
            [
             1,
             "#276419"
            ]
           ],
           "sequential": [
            [
             0,
             "#0d0887"
            ],
            [
             0.1111111111111111,
             "#46039f"
            ],
            [
             0.2222222222222222,
             "#7201a8"
            ],
            [
             0.3333333333333333,
             "#9c179e"
            ],
            [
             0.4444444444444444,
             "#bd3786"
            ],
            [
             0.5555555555555556,
             "#d8576b"
            ],
            [
             0.6666666666666666,
             "#ed7953"
            ],
            [
             0.7777777777777778,
             "#fb9f3a"
            ],
            [
             0.8888888888888888,
             "#fdca26"
            ],
            [
             1,
             "#f0f921"
            ]
           ],
           "sequentialminus": [
            [
             0,
             "#0d0887"
            ],
            [
             0.1111111111111111,
             "#46039f"
            ],
            [
             0.2222222222222222,
             "#7201a8"
            ],
            [
             0.3333333333333333,
             "#9c179e"
            ],
            [
             0.4444444444444444,
             "#bd3786"
            ],
            [
             0.5555555555555556,
             "#d8576b"
            ],
            [
             0.6666666666666666,
             "#ed7953"
            ],
            [
             0.7777777777777778,
             "#fb9f3a"
            ],
            [
             0.8888888888888888,
             "#fdca26"
            ],
            [
             1,
             "#f0f921"
            ]
           ]
          },
          "colorway": [
           "#636efa",
           "#EF553B",
           "#00cc96",
           "#ab63fa",
           "#FFA15A",
           "#19d3f3",
           "#FF6692",
           "#B6E880",
           "#FF97FF",
           "#FECB52"
          ],
          "font": {
           "color": "#2a3f5f"
          },
          "geo": {
           "bgcolor": "white",
           "lakecolor": "white",
           "landcolor": "#E5ECF6",
           "showlakes": true,
           "showland": true,
           "subunitcolor": "white"
          },
          "hoverlabel": {
           "align": "left"
          },
          "hovermode": "closest",
          "mapbox": {
           "style": "light"
          },
          "paper_bgcolor": "white",
          "plot_bgcolor": "#E5ECF6",
          "polar": {
           "angularaxis": {
            "gridcolor": "white",
            "linecolor": "white",
            "ticks": ""
           },
           "bgcolor": "#E5ECF6",
           "radialaxis": {
            "gridcolor": "white",
            "linecolor": "white",
            "ticks": ""
           }
          },
          "scene": {
           "xaxis": {
            "backgroundcolor": "#E5ECF6",
            "gridcolor": "white",
            "gridwidth": 2,
            "linecolor": "white",
            "showbackground": true,
            "ticks": "",
            "zerolinecolor": "white"
           },
           "yaxis": {
            "backgroundcolor": "#E5ECF6",
            "gridcolor": "white",
            "gridwidth": 2,
            "linecolor": "white",
            "showbackground": true,
            "ticks": "",
            "zerolinecolor": "white"
           },
           "zaxis": {
            "backgroundcolor": "#E5ECF6",
            "gridcolor": "white",
            "gridwidth": 2,
            "linecolor": "white",
            "showbackground": true,
            "ticks": "",
            "zerolinecolor": "white"
           }
          },
          "shapedefaults": {
           "line": {
            "color": "#2a3f5f"
           }
          },
          "ternary": {
           "aaxis": {
            "gridcolor": "white",
            "linecolor": "white",
            "ticks": ""
           },
           "baxis": {
            "gridcolor": "white",
            "linecolor": "white",
            "ticks": ""
           },
           "bgcolor": "#E5ECF6",
           "caxis": {
            "gridcolor": "white",
            "linecolor": "white",
            "ticks": ""
           }
          },
          "title": {
           "x": 0.05
          },
          "xaxis": {
           "automargin": true,
           "gridcolor": "white",
           "linecolor": "white",
           "ticks": "",
           "title": {
            "standoff": 15
           },
           "zerolinecolor": "white",
           "zerolinewidth": 2
          },
          "yaxis": {
           "automargin": true,
           "gridcolor": "white",
           "linecolor": "white",
           "ticks": "",
           "title": {
            "standoff": 15
           },
           "zerolinecolor": "white",
           "zerolinewidth": 2
          }
         }
        },
        "title": {
         "text": "Theme Network Visualization"
        },
        "width": 1000,
        "xaxis": {
         "range": [
          -10,
          10
         ],
         "showgrid": false,
         "showticklabels": false,
         "zeroline": false
        },
        "yaxis": {
         "range": [
          -10,
          10
         ],
         "showgrid": false,
         "showticklabels": false,
         "zeroline": false
        }
       }
      }
     },
     "metadata": {},
     "output_type": "display_data"
    }
   ],
   "source": [
    "import json\n",
    "import networkx as nx\n",
    "import plotly.graph_objects as go\n",
    "import numpy as np\n",
    "\n",
    "\n",
    "\n",
    "\n",
    "def load_json_file(file_path):\n",
    "    \"\"\"Load JSON file safely.\"\"\"\n",
    "    try:\n",
    "        with open(file_path, 'r', encoding='utf-8') as file:\n",
    "            return json.load(file)\n",
    "    except Exception as e:\n",
    "        print(f\"Error loading JSON file {file_path}: {e}\")\n",
    "        return []\n",
    "\n",
    "\n",
    "\n",
    "\n",
    "def create_theme_network(data_bot, data_nonbot, min_confidence=90):\n",
    "    \"\"\"Create a network graph from themes with a minimum confidence level.\"\"\"\n",
    "    G = nx.Graph()\n",
    "\n",
    "\n",
    "\n",
    "\n",
    "    def process_data(data, is_bot=True):\n",
    "        for item in data:\n",
    "            response = item.get('response')\n",
    "            if isinstance(response, str):\n",
    "                try:\n",
    "                    response_data = json.loads(response)\n",
    "                    themes = response_data.get('themes', [])\n",
    "\n",
    "\n",
    "\n",
    "\n",
    "                    for theme in themes:\n",
    "                        confidence = theme.get('confidence', 0)\n",
    "                        if confidence >= min_confidence:\n",
    "                            theme_name = theme['name']\n",
    "                            keywords = theme.get('keywords', [])\n",
    "                            sentiment = theme.get('sentiment', {})\n",
    "\n",
    "\n",
    "\n",
    "\n",
    "                            # Add or update theme node\n",
    "                            if not G.has_node(theme_name):\n",
    "                                G.add_node(theme_name,\n",
    "                                           type='theme',\n",
    "                                           is_bot=is_bot,\n",
    "                                           confidence=confidence,\n",
    "                                           keywords=keywords,\n",
    "                                           sentiment=sentiment)\n",
    "                            else:\n",
    "                                # If node exists and bot status is different, mark as mixed\n",
    "                                current_bot_status = G.nodes[theme_name].get('is_bot')\n",
    "                                if current_bot_status != is_bot:\n",
    "                                    G.nodes[theme_name]['is_bot'] = 'mixed'\n",
    "\n",
    "\n",
    "\n",
    "\n",
    "                except json.JSONDecodeError:\n",
    "                    print(f\"Invalid JSON in response: {response}\")\n",
    "\n",
    "\n",
    "\n",
    "\n",
    "    # Process bot and non-bot data\n",
    "    process_data(data_bot, is_bot=True)\n",
    "    process_data(data_nonbot, is_bot=False)\n",
    "\n",
    "\n",
    "\n",
    "\n",
    "    return G\n",
    "\n",
    "\n",
    "\n",
    "\n",
    "def visualize_network(G):\n",
    "    \"\"\"Visualize bot, non-bot, and mixed themes in clustered regions.\"\"\"\n",
    "    # Separate nodes by bot status\n",
    "    bot_nodes = [node for node, data in G.nodes(data=True) if data.get('is_bot') == True]\n",
    "    nonbot_nodes = [node for node, data in G.nodes(data=True) if data.get('is_bot') == False]\n",
    "    mixed_nodes = [node for node, data in G.nodes(data=True) if data.get('is_bot') == 'mixed']\n",
    "\n",
    "\n",
    "\n",
    "\n",
    "    # Create traces for each category\n",
    "    traces = []\n",
    "\n",
    "\n",
    "\n",
    "\n",
    "    # Bot nodes - clustered in bottom left\n",
    "    if bot_nodes:\n",
    "        bot_x = np.random.normal(loc=-5, scale=1, size=len(bot_nodes))\n",
    "        bot_y = np.random.normal(loc=-5, scale=1, size=len(bot_nodes))\n",
    "        bot_trace = go.Scatter(\n",
    "            x=bot_x,\n",
    "            y=bot_y,\n",
    "            mode='markers',\n",
    "            hovertext=[\n",
    "                f\"Theme: {node}<br>\"\n",
    "                f\"Type: Bot<br>\"\n",
    "                f\"Confidence: {G.nodes[node]['confidence']}%<br>\"\n",
    "                f\"Keywords: {', '.join(G.nodes[node].get('keywords', []))}<br>\"\n",
    "                f\"Sentiment: {G.nodes[node].get('sentiment', 'N/A')}\"\n",
    "                for node in bot_nodes\n",
    "            ],\n",
    "            hoverinfo='text',\n",
    "            marker=dict(\n",
    "                size=8,  # Smaller size\n",
    "                color='rgb(255,0,0)',  # Red\n",
    "                line=dict(width=1, color='rgb(139,0,0)')  # Dark red\n",
    "            ),\n",
    "            name='Bot Themes'\n",
    "        )\n",
    "        traces.append(bot_trace)\n",
    "\n",
    "\n",
    "\n",
    "\n",
    "    # Non-bot nodes - clustered in top right\n",
    "    if nonbot_nodes:\n",
    "        nonbot_x = np.random.normal(loc=5, scale=1, size=len(nonbot_nodes))\n",
    "        nonbot_y = np.random.normal(loc=5, scale=1, size=len(nonbot_nodes))\n",
    "        nonbot_trace = go.Scatter(\n",
    "            x=nonbot_x,\n",
    "            y=nonbot_y,\n",
    "            mode='markers',\n",
    "            hovertext=[\n",
    "                f\"Theme: {node}<br>\"\n",
    "                f\"Type: Non-Bot<br>\"\n",
    "                f\"Confidence: {G.nodes[node]['confidence']}%<br>\"\n",
    "                f\"Keywords: {', '.join(G.nodes[node].get('keywords', []))}<br>\"\n",
    "                f\"Sentiment: {G.nodes[node].get('sentiment', 'N/A')}\"\n",
    "                for node in nonbot_nodes\n",
    "            ],\n",
    "            hoverinfo='text',\n",
    "            marker=dict(\n",
    "                size=8,  # Smaller size\n",
    "                color='rgb(0,255,0)',  # Green\n",
    "                line=dict(width=1, color='rgb(0,100,0)')  # Dark green\n",
    "            ),\n",
    "            name='Non-Bot Themes'\n",
    "        )\n",
    "        traces.append(nonbot_trace)\n",
    "\n",
    "\n",
    "\n",
    "\n",
    "    # Mixed nodes - clustered in center\n",
    "    if mixed_nodes:\n",
    "        mixed_x = np.random.normal(loc=0, scale=1, size=len(mixed_nodes))\n",
    "        mixed_y = np.random.normal(loc=0, scale=1, size=len(mixed_nodes))\n",
    "        mixed_trace = go.Scatter(\n",
    "            x=mixed_x,\n",
    "            y=mixed_y,\n",
    "            mode='markers',\n",
    "            hovertext=[\n",
    "                f\"Theme: {node}<br>\"\n",
    "                f\"Type: Mixed<br>\"\n",
    "                f\"Confidence: {G.nodes[node]['confidence']}%<br>\"\n",
    "                f\"Keywords: {', '.join(G.nodes[node].get('keywords', []))}<br>\"\n",
    "                f\"Sentiment: {G.nodes[node].get('sentiment', 'N/A')}\"\n",
    "                for node in mixed_nodes\n",
    "            ],\n",
    "            hoverinfo='text',\n",
    "            marker=dict(\n",
    "                size=8,  # Smaller size\n",
    "                color='rgb(128,0,128)',  # Purple\n",
    "                line=dict(width=1, color='rgb(75,0,130)')  # Indigo\n",
    "            ),\n",
    "            name='Mixed Themes'\n",
    "        )\n",
    "        traces.append(mixed_trace)\n",
    "\n",
    "\n",
    "\n",
    "\n",
    "    # Create figure\n",
    "    fig = go.Figure(data=traces)\n",
    "\n",
    "\n",
    "\n",
    "\n",
    "    # Update layout for better visualization\n",
    "    fig.update_layout(\n",
    "        title=\"Theme Network Visualization\",\n",
    "        showlegend=True,\n",
    "        hovermode='closest',\n",
    "        width=1000,\n",
    "        height=800,\n",
    "        margin=dict(b=20, l=20, r=20, t=60),\n",
    "        xaxis=dict(\n",
    "            showgrid=False,\n",
    "            zeroline=False,\n",
    "            showticklabels=False,\n",
    "            range=[-10, 10]\n",
    "        ),\n",
    "        yaxis=dict(\n",
    "            showgrid=False,\n",
    "            zeroline=False,\n",
    "            showticklabels=False,\n",
    "            range=[-10, 10]\n",
    "        ),\n",
    "        plot_bgcolor='white',\n",
    "        paper_bgcolor='white'\n",
    "    )\n",
    "\n",
    "\n",
    "\n",
    "\n",
    "    # Print statistics\n",
    "    print(f\"Total Themes: {len(G.nodes())}\")\n",
    "    print(f\"Bot Themes: {len(bot_nodes)}\")\n",
    "    print(f\"Non-Bot Themes: {len(nonbot_nodes)}\")\n",
    "    print(f\"Mixed Themes: {len(mixed_nodes)}\")\n",
    "\n",
    "\n",
    "\n",
    "\n",
    "    # Show the figure\n",
    "    fig.show()\n",
    "\n",
    "\n",
    "\n",
    "\n",
    "# Load the JSON files\n",
    "data_label_0 = load_json_file('label_0.json')  # Bot data\n",
    "data_label_1 = load_json_file('label_1.json')  # Non-bot data\n",
    "\n",
    "\n",
    "\n",
    "\n",
    "# Create the network\n",
    "high_confidence_network = create_theme_network(data_label_0, data_label_1, min_confidence=90)\n",
    "\n",
    "\n",
    "\n",
    "\n",
    "# Visualize the network\n",
    "visualize_network(high_confidence_network)"
   ]
  },
  {
   "cell_type": "code",
   "execution_count": 23,
   "metadata": {},
   "outputs": [
    {
     "name": "stdout",
     "output_type": "stream",
     "text": [
      "Total Themes: 214\n",
      "Bot Themes: 112\n",
      "Non-Bot Themes: 90\n",
      "Mixed Themes: 12\n"
     ]
    },
    {
     "data": {
      "application/vnd.plotly.v1+json": {
       "config": {
        "plotlyServerURL": "https://plot.ly"
       },
       "data": [
        {
         "hoverinfo": "text",
         "hovertext": [
          "Theme: Programming<br>Type: Bot<br>Confidence: 90%<br>Keywords: VHDL, Verilog<br>Sentiment: neutral",
          "Theme: Bitcoin<br>Type: Bot<br>Confidence: 95%<br>Keywords: bitcoin, Winklevoss, Gemini, NYSE CIO<br>Sentiment: positive",
          "Theme: Coding/Programming<br>Type: Bot<br>Confidence: 95%<br>Keywords: idmap, Namespace, Metasploit, ExploitDB<br>Sentiment: neutral",
          "Theme: Literary/Artistic Expression<br>Type: Bot<br>Confidence: 90%<br>Keywords: woods, yearlings, stable centers, fluff, renters, bankroll<br>Sentiment: neutral",
          "Theme: Mathematics/Science<br>Type: Bot<br>Confidence: 95%<br>Keywords: pow, max, cos, sqt, exp, flr, sgn, cel, abs, cos, pow<br>Sentiment: neutral",
          "Theme: Mathematics<br>Type: Bot<br>Confidence: 90%<br>Keywords: flr, sqt, sin, abs, min, max<br>Sentiment: neutral",
          "Theme: Obscenity<br>Type: Bot<br>Confidence: 95%<br>Keywords: fucked, mom<br>Sentiment: negative",
          "Theme: Miscellaneous<br>Type: Bot<br>Confidence: 90%<br>Keywords: 🤯, 😂<br>Sentiment: neutral",
          "Theme: Anger and Frustration<br>Type: Bot<br>Confidence: 95%<br>Keywords: BROKE, BASTARD<br>Sentiment: negative",
          "Theme: General Knowledge<br>Type: Bot<br>Confidence: 100%<br>Keywords: Republic of China, Corporal Punishment, FA Cup<br>Sentiment: neutral",
          "Theme: Sound/Loud Noise<br>Type: Bot<br>Confidence: 95%<br>Keywords: BONG BONG BONG BONG BONG<br>Sentiment: neutral",
          "Theme: Finance/Technology<br>Type: Bot<br>Confidence: 90%<br>Keywords: UAE, DLT Startup Ripple<br>Sentiment: neutral",
          "Theme: Lazy Day<br>Type: Bot<br>Confidence: 90%<br>Keywords: sunny day, lazy<br>Sentiment: neutral",
          "Theme: Storytelling<br>Type: Bot<br>Confidence: 90%<br>Keywords: story, bitter, anthem<br>Sentiment: neutral",
          "Theme: Geography<br>Type: Bot<br>Confidence: 90%<br>Keywords: Lawton, Tucson<br>Sentiment: neutral",
          "Theme: Fashion<br>Type: Bot<br>Confidence: 95%<br>Keywords: Bonnet<br>Sentiment: neutral",
          "Theme: Maternity<br>Type: Bot<br>Confidence: 90%<br>Keywords: mom, excited<br>Sentiment: positive",
          "Theme: InfoSec<br>Type: Bot<br>Confidence: 95%<br>Keywords: malvertising, apple pay, infosec<br>Sentiment: negative",
          "Theme: Education<br>Type: Bot<br>Confidence: 95%<br>Keywords: vectors, calculus, accidentalhaiku<br>Sentiment: neutral",
          "Theme: Gaming<br>Type: Bot<br>Confidence: 100%<br>Keywords: LA Noire, 45 minutes, live playing<br>Sentiment: neutral",
          "Theme: Language and Culture<br>Type: Bot<br>Confidence: 90%<br>Keywords: Ghost kanji, Japanese lexicon, \\xe2\\x80\\x98<br>Sentiment: neutral",
          "Theme: Memories and Socialising<br>Type: Bot<br>Confidence: 90%<br>Keywords: wine, great memories, #winelover<br>Sentiment: positive",
          "Theme: Cryptocurrency Regulation<br>Type: Bot<br>Confidence: 90%<br>Keywords: shut down, illegal bitcoin miners<br>Sentiment: neutral",
          "Theme: Robotics/Hobbies<br>Type: Bot<br>Confidence: 95%<br>Keywords: robot collection, wowwee, tribot<br>Sentiment: positive",
          "Theme: Social Identity/Bot Information<br>Type: Bot<br>Confidence: 95%<br>Keywords: eu sou um bot, automtico<br>Sentiment: neutral",
          "Theme: Health/Sickness<br>Type: Bot<br>Confidence: 95%<br>Keywords: sickness<br>Sentiment: neutral",
          "Theme: Negative Reaction<br>Type: Bot<br>Confidence: 90%<br>Keywords: Noooo<br>Sentiment: negative",
          "Theme: Praise and Devotion<br>Type: Bot<br>Confidence: 95%<br>Keywords: God is good<br>Sentiment: positive",
          "Theme: Audio and Music<br>Type: Bot<br>Confidence: 95%<br>Keywords: BONG BONG BONG BONG<br>Sentiment: neutral",
          "Theme: Gaming and Entertainment<br>Type: Bot<br>Confidence: 90%<br>Keywords: Quantum Break, live stream<br>Sentiment: positive",
          "Theme: Community<br>Type: Bot<br>Confidence: 92%<br>Keywords: reddit users<br>Sentiment: positive",
          "Theme: Creativity<br>Type: Bot<br>Confidence: 93%<br>Keywords: Flip happy hardliners, yields, sealeds<br>Sentiment: neutral",
          "Theme: Mechanics<br>Type: Bot<br>Confidence: 90%<br>Keywords: Hard Right Turn, Engine RPM, Uneven<br>Sentiment: neutral",
          "Theme: mathematical expression<br>Type: Bot<br>Confidence: 95%<br>Keywords: sig(pln(pln, cel(sgn<br>Sentiment: neutral",
          "Theme: lyrics<br>Type: Bot<br>Confidence: 90%<br>Keywords: EVERY GIRL CRAZY BOUT A SHARP DRESSED MAN<br>Sentiment: neutral",
          "Theme: politics and history<br>Type: Bot<br>Confidence: 95%<br>Keywords: Voalavo antsahabensis, Member of Parliament<br>Sentiment: neutral",
          "Theme: poetry and art<br>Type: Bot<br>Confidence: 90%<br>Keywords: \\xf0\\x9f\\x8f\\x94: take some time to look at the sky please<br>Sentiment: positive",
          "Theme: humor and satire<br>Type: Bot<br>Confidence: 95%<br>Keywords: P-Phoenix\\xc7\\x83\\xc7\\x83 Are you a lawyer or a school child?<br>Sentiment: positive",
          "Theme: Life<br>Type: Bot<br>Confidence: 90%<br>Keywords: read, stay out late, bar<br>Sentiment: neutral",
          "Theme: Motivation<br>Type: Bot<br>Confidence: 90%<br>Keywords: poss\\xc3\\xa9vel, imposs\\xc3\\xadvel<br>Sentiment: positive",
          "Theme: Personal Advice<br>Type: Bot<br>Confidence: 90%<br>Keywords: be nice, act like yourself, self improvement<br>Sentiment: positive",
          "Theme: Productivity<br>Type: Bot<br>Confidence: 95%<br>Keywords: get back to work, productivity, time management<br>Sentiment: neutral",
          "Theme: Food and Wine<br>Type: Bot<br>Confidence: 90%<br>Keywords: wine, food, lunch<br>Sentiment: positive",
          "Theme: Social Awareness<br>Type: Bot<br>Confidence: 90%<br>Keywords: SandyAid, SandyVolunteer, NewJersey<br>Sentiment: positive",
          "Theme: Entertainment News<br>Type: Bot<br>Confidence: 95%<br>Keywords: 100 Metros, Netflix Instant<br>Sentiment: neutral",
          "Theme: Faith and Motivation<br>Type: Bot<br>Confidence: 92%<br>Keywords: God, obstacle, enemies, powerful<br>Sentiment: positive",
          "Theme: Geographic Information<br>Type: Bot<br>Confidence: 95%<br>Keywords: population, Sweden, world rank<br>Sentiment: neutral",
          "Theme: Science<br>Type: Bot<br>Confidence: 95%<br>Keywords: origami, robotic metamorphosis, polypeptide enzymes<br>Sentiment: neutral",
          "Theme: Security<br>Type: Bot<br>Confidence: 92%<br>Keywords: libarchive, security update<br>Sentiment: neutral",
          "Theme: Mental Health and Wellness<br>Type: Bot<br>Confidence: 90%<br>Keywords: breath calmly, kind to yourself<br>Sentiment: positive",
          "Theme: Daily Life/Emotions<br>Type: Bot<br>Confidence: 90%<br>Keywords: so boring, still be alive<br>Sentiment: positive",
          "Theme: Inspirational Quote<br>Type: Bot<br>Confidence: 95%<br>Keywords: Dreams, easier<br>Sentiment: positive",
          "Theme: Music/Inspiration<br>Type: Bot<br>Confidence: 95%<br>Keywords: Stories, talking me through<br>Sentiment: positive",
          "Theme: Philosophy<br>Type: Bot<br>Confidence: 90%<br>Keywords: consciousness of engagement<br>Sentiment: neutral",
          "Theme: Quote<br>Type: Bot<br>Confidence: 90%<br>Keywords: What lies behind us, O. W. Holmes<br>Sentiment: positive",
          "Theme: Abstract Questions<br>Type: Bot<br>Confidence: 90%<br>Keywords: moth, insect, butterfly<br>Sentiment: neutral",
          "Theme: Computer Systems<br>Type: Bot<br>Confidence: 90%<br>Keywords: WINDOWS SEVEN IT WAS MY IDEA BITCHES<br>Sentiment: negative",
          "Theme: Romance<br>Type: Bot<br>Confidence: 90%<br>Keywords: Eu te amo, Eu te perd\\xc3\\xb4o<br>Sentiment: positive",
          "Theme: Health<br>Type: Bot<br>Confidence: 95%<br>Keywords: \\xf0\\x9f\\x8f\\x94: please let your eyes rest! take care of urself!<br>Sentiment: positive",
          "Theme: Cryptocurrency<br>Type: Bot<br>Confidence: 90%<br>Keywords: Cryptocurrency Keys, Bank of America Patent<br>Sentiment: neutral",
          "Theme: Arduino<br>Type: Bot<br>Confidence: 95%<br>Keywords: Arduino no longer open-source<br>Sentiment: negative",
          "Theme: Condolence/Obituary<br>Type: Bot<br>Confidence: 95%<br>Keywords: RIP Stan Musial, best Cardinal<br>Sentiment: positive",
          "Theme: Celebration/Relief<br>Type: Bot<br>Confidence: 90%<br>Keywords: Thanks god, done it<br>Sentiment: positive",
          "Theme: Personal Aspiration/Education<br>Type: Bot<br>Confidence: 95%<br>Keywords: #TRUMP2016, GET MY POLITICAL SCIENCE DEGREE<br>Sentiment: positive",
          "Theme: Social Interaction/Correction<br>Type: Bot<br>Confidence: 90%<br>Keywords: It\\'s spelt \"Caesar\"<br>Sentiment: neutral",
          "Theme: Technology or Programming<br>Type: Bot<br>Confidence: 90%<br>Keywords: Rust, Threat Intelligence, DarkReading<br>Sentiment: neutral",
          "Theme: Relationship<br>Type: Bot<br>Confidence: 90%<br>Keywords: no man is an island, woman is his home<br>Sentiment: positive",
          "Theme: Excitement<br>Type: Bot<br>Confidence: 95%<br>Keywords: i am excited<br>Sentiment: positive",
          "Theme: Breakup<br>Type: Bot<br>Confidence: 95%<br>Keywords: breakups, moving<br>Sentiment: negative",
          "Theme: Music and Dance<br>Type: Bot<br>Confidence: 90%<br>Keywords: Doo-dah, doo-dah<br>Sentiment: positive",
          "Theme: Science Fiction and Fantasy<br>Type: Bot<br>Confidence: 95%<br>Keywords: discovered a planet, runty sea, beaches<br>Sentiment: positive",
          "Theme: Mental Health/Emotional Distress<br>Type: Bot<br>Confidence: 90%<br>Keywords: I CANT GO ON<br>Sentiment: negative",
          "Theme: Data Breach/Security<br>Type: Bot<br>Confidence: 95%<br>Keywords: 500 Million Marriott Guest Records, Data Breach, #TheHackerNews<br>Sentiment: negative",
          "Theme: Linux/Technology<br>Type: Bot<br>Confidence: 95%<br>Keywords: Fedora 27, icecast, #Nessus<br>Sentiment: neutral",
          "Theme: Business/Economy<br>Type: Bot<br>Confidence: 90%<br>Keywords: Taking Tesla Private<br>Sentiment: neutral",
          "Theme: Security/Vulnerabilities<br>Type: Bot<br>Confidence: 95%<br>Keywords: Experts found flaws in Dell EMC and #VMware, Patch them now! #SecurityAffairs<br>Sentiment: negative",
          "Theme: humor<br>Type: Bot<br>Confidence: 95%<br>Keywords: hilarious interview, /\\n, #accidentalhaiku<br>Sentiment: positive",
          "Theme: science fiction<br>Type: Bot<br>Confidence: 90%<br>Keywords: 42, The Hitchhiker's Guide to the Galaxy<br>Sentiment: neutral",
          "Theme: Movies/Entertainment<br>Type: Bot<br>Confidence: 90%<br>Keywords: Cage, Paramedic, Pakistan<br>Sentiment: neutral",
          "Theme: News<br>Type: Bot<br>Confidence: 95%<br>Keywords: Delta Air, EU Court<br>Sentiment: neutral",
          "Theme: Personal<br>Type: Bot<br>Confidence: 90%<br>Keywords: Laptop, Bagpuss<br>Sentiment: positive",
          "Theme: Object<br>Type: Bot<br>Confidence: 95%<br>Keywords: Snuffbox<br>Sentiment: neutral",
          "Theme: Expression of Frustration<br>Type: Bot<br>Confidence: 90%<br>Keywords: already know, just us<br>Sentiment: negative",
          "Theme: Mathematical Expression<br>Type: Bot<br>Confidence: 95%<br>Keywords: cos, pow, max, dst<br>Sentiment: neutral",
          "Theme: Survival<br>Type: Bot<br>Confidence: 90%<br>Keywords: poaching rings, tuna cans<br>Sentiment: neutral",
          "Theme: Business<br>Type: Bot<br>Confidence: 90%<br>Keywords: Sberbank, Third-Quarter, Profit<br>Sentiment: neutral",
          "Theme: Greeting<br>Type: Bot<br>Confidence: 90%<br>Keywords: howdy, sheriff<br>Sentiment: positive",
          "Theme: Dyslexia Awareness<br>Type: Bot<br>Confidence: 95%<br>Keywords: dyslexia, treatment, future<br>Sentiment: positive",
          "Theme: Ode to Technology<br>Type: Bot<br>Confidence: 90%<br>Keywords: robot, poetry, Chinese<br>Sentiment: negative",
          "Theme: Movies<br>Type: Bot<br>Confidence: 90%<br>Keywords: Nicolas Cage, Louisiana congressman, home invasion<br>Sentiment: neutral",
          "Theme: Instruction/Guide<br>Type: Bot<br>Confidence: 90%<br>Keywords: use, keys<br>Sentiment: neutral",
          "Theme: Shopping<br>Type: Bot<br>Confidence: 95%<br>Keywords: glass coolers, http<br>Sentiment: neutral",
          "Theme: Crypto Scandal<br>Type: Bot<br>Confidence: 95%<br>Keywords: BTC, BCH, misleading<br>Sentiment: negative",
          "Theme: Emotional Expression<br>Type: Bot<br>Confidence: 95%<br>Keywords: BONG BONG BONG<br>Sentiment: neutral",
          "Theme: Location Criticism<br>Type: Bot<br>Confidence: 90%<br>Keywords: BUSHWICK, COLONIST<br>Sentiment: negative",
          "Theme: Bitcoin News<br>Type: Bot<br>Confidence: 95%<br>Keywords: Bitcoin Bug<br>Sentiment: negative",
          "Theme: Bitcoin Market Analysis<br>Type: Bot<br>Confidence: 95%<br>Keywords: Bitcoin Plunging<br>Sentiment: negative",
          "Theme: Space Exploration<br>Type: Bot<br>Confidence: 90%<br>Keywords: discovered a planet, 5 moons<br>Sentiment: positive",
          "Theme: Cybersecurity Competition<br>Type: Bot<br>Confidence: 90%<br>Keywords: CSAW, Cybersecurity, Competition<br>Sentiment: neutral",
          "Theme: Celebrity Gossip<br>Type: Bot<br>Confidence: 95%<br>Keywords: Tina Fey<br>Sentiment: positive",
          "Theme: Mathematical Equation<br>Type: Bot<br>Confidence: 98%<br>Keywords: at2, sqt, pln<br>Sentiment: neutral",
          "Theme: Financial News<br>Type: Bot<br>Confidence: 95%<br>Keywords: Gas Prices, Fed, BOE<br>Sentiment: negative",
          "Theme: Work Reminder<br>Type: Bot<br>Confidence: 90%<br>Keywords: Get back to work<br>Sentiment: negative",
          "Theme: Lying<br>Type: Bot<br>Confidence: 90%<br>Keywords: don't lie, /\\nit, /\\ndon\\xe2\\x80\\x99t lie<br>Sentiment: negative",
          "Theme: Humor or Satire<br>Type: Bot<br>Confidence: 90%<br>Keywords: RT, face, Eli Manning<br>Sentiment: positive",
          "Theme: Social Media/Communication<br>Type: Bot<br>Confidence: 90%<br>Keywords: Hey all you Kevins out there, RT @Pringles<br>Sentiment: negative",
          "Theme: Music/Sound<br>Type: Bot<br>Confidence: 95%<br>Keywords: BONG BONG BONG BONG BONG BONG BONG BONG BONG BONG BONG<br>Sentiment: neutral",
          "Theme: Linux Security<br>Type: Bot<br>Confidence: 95%<br>Keywords: #CentOS, sssd, CESA-2018:3158<br>Sentiment: neutral",
          "Theme: Noise<br>Type: Bot<br>Confidence: 95%<br>Keywords: BONG BONG BONG BONG BONG<br>Sentiment: neutral",
          "Theme: Question<br>Type: Bot<br>Confidence: 95%<br>Keywords: Why is a dirt found in a refrigerator?<br>Sentiment: neutral",
          "Theme: Marketing<br>Type: Bot<br>Confidence: 95%<br>Keywords: WEATHER REVIEWS, http://t.co/wpJGoK2ozt<br>Sentiment: neutral",
          "Theme: History<br>Type: Bot<br>Confidence: 95%<br>Keywords: Victoria Cross, Dorsland Trek, Bristol<br>Sentiment: neutral"
         ],
         "marker": {
          "color": "rgb(255,0,0)",
          "line": {
           "color": "rgb(139,0,0)",
           "width": 1
          },
          "size": [
           14,
           14.5,
           14.5,
           14,
           14.5,
           14,
           14.5,
           14,
           14.5,
           15,
           14.5,
           14,
           14,
           14,
           14,
           14.5,
           14,
           14.5,
           14.5,
           15,
           14,
           14,
           14,
           14.5,
           14.5,
           14.5,
           14,
           14.5,
           14.5,
           14,
           14.2,
           14.3,
           14,
           14.5,
           14,
           14.5,
           14,
           14.5,
           14,
           14,
           14,
           14.5,
           14,
           14,
           14.5,
           14.2,
           14.5,
           14.5,
           14.2,
           14,
           14,
           14.5,
           14.5,
           14,
           14,
           14,
           14,
           14,
           14.5,
           14,
           14.5,
           14.5,
           14,
           14.5,
           14,
           14,
           14,
           14.5,
           14.5,
           14,
           14.5,
           14,
           14.5,
           14.5,
           14,
           14.5,
           14.5,
           14,
           14,
           14.5,
           14,
           14.5,
           14,
           14.5,
           14,
           14,
           14,
           14.5,
           14,
           14,
           14,
           14.5,
           14.5,
           14.5,
           14,
           14.5,
           14.5,
           14,
           14,
           14.5,
           14.8,
           14.5,
           14,
           14,
           14,
           14,
           14.5,
           14.5,
           14.5,
           14.5,
           14.5,
           14.5
          ]
         },
         "mode": "markers",
         "name": "Bot Themes",
         "type": "scatter",
         "x": [
          -4.6524571366444984,
          -3.9971544697243093,
          -6.320285217223092,
          -4.539512965638054,
          -4.984227938754232,
          -5.916238339048689,
          -4.237712177013887,
          -5.045299016272751,
          -4.690860488528626,
          -5.987280594918302,
          -6.580341431280173,
          -4.006355237575123,
          -3.9811178898974906,
          -4.728874821678528,
          -4.561805621636471,
          -6.130103013583247,
          -5.253422814585252,
          -5.3126083499899215,
          -5.4197894886702125,
          -4.183683266932438,
          -6.010235335827635,
          -5.290416502592931,
          -3.949197017574204,
          -7.0863416792470755,
          -4.416001186959131,
          -5.162432418668648,
          -5.037889682676618,
          -4.9116746673806,
          -1.8220587983799024,
          -5.240111340236769,
          -5.304845632713317,
          -5.944812319271374,
          -5.0092072060144615,
          -3.596910990069464,
          -5.323304118726421,
          -5.804162824081678,
          -5.644710664146834,
          -5.949699731451145,
          -7.452867930747269,
          -6.06142634059411,
          -4.138822375967436,
          -5.7047431134074085,
          -4.160092747641832,
          -4.9472655610577005,
          -3.26644845865881,
          -5.47419879977332,
          -6.157251487420236,
          -4.7971329942378915,
          -5.271790218685058,
          -5.2480614304887645,
          -4.044060257799566,
          -5.699285545449432,
          -7.088151459292882,
          -5.290014363303187,
          -6.929766497640815,
          -6.068934591088855,
          -4.730548306831695,
          -5.939604115426016,
          -3.6273077061686396,
          -4.691237707871018,
          -5.001991406842392,
          -4.547142308226179,
          -4.304060450619294,
          -4.290179225524526,
          -5.267987790128323,
          -5.128053790712987,
          -6.1807781031027,
          -4.910549385511323,
          -4.379895707283386,
          -3.9137312843583563,
          -5.579955067589915,
          -4.801541839543848,
          -3.9373482272662645,
          -5.7371108121309735,
          -3.1044363618740656,
          -5.578003970184888,
          -4.048284887693682,
          -4.934619299016618,
          -7.0040500043678815,
          -4.248301560640664,
          -6.1905736980313515,
          -3.4861437980580035,
          -4.212827426104132,
          -4.900595029143176,
          -4.010663276712897,
          -5.152980240503438,
          -6.933284707998708,
          -4.489162420749799,
          -4.684777848567857,
          -6.68434273267188,
          -4.660243781182337,
          -5.47510836150228,
          -6.373659061228217,
          -4.140959325307882,
          -5.324114703980707,
          -3.6008088738756565,
          -5.290162784495338,
          -5.598276170475769,
          -4.7715089112151645,
          -4.249552188161669,
          -5.989466358208849,
          -6.414687135362293,
          -5.173703875152292,
          -4.579810706680975,
          -5.435782607099714,
          -4.956243462167671,
          -5.952784964799594,
          -3.934286691746294,
          -5.6399475927153695,
          -4.377114930388032,
          -5.19689930093351,
          -4.0742026545947745
         ],
         "y": [
          -3.4135170254948877,
          -6.193339217467996,
          -5.111365975011815,
          -4.45910220490332,
          -2.5781305885889028,
          -4.437247652530655,
          -4.863901043071529,
          -5.524056907221656,
          -5.582928163813343,
          -4.39263725837726,
          -5.534893079162171,
          -4.718096226550583,
          -5.1304952195752485,
          -5.309138653605357,
          -4.843190315494906,
          -5.830142207022959,
          -5.062284620441784,
          -4.2423335329579706,
          -2.829156417316982,
          -4.242987002382539,
          -5.271720713555772,
          -4.648169744639095,
          -5.794443303284833,
          -5.543689793706445,
          -5.180377803460195,
          -5.403943838751934,
          -2.1032543814003777,
          -4.064383680676094,
          -3.8449992331011673,
          -6.4412576788917875,
          -4.534321148218636,
          -6.0424424438930044,
          -4.564117886944628,
          -3.177674855554636,
          -4.175806257721877,
          -4.715948144088726,
          -5.413899369175304,
          -5.407007684061822,
          -4.9720651719888025,
          -3.748846503821069,
          -6.708432942415482,
          -6.660729836662263,
          -5.024605053291372,
          -6.050085992082308,
          -6.203983463927292,
          -5.350278146869975,
          -4.461721651448388,
          -3.5794551446739478,
          -5.08666356439409,
          -4.990372924492962,
          -4.601195690431002,
          -5.8557088833470585,
          -4.463035570964081,
          -5.056651681365782,
          -5.396011772694994,
          -5.0263928894467265,
          -4.834678838575302,
          -3.598865702155897,
          -2.7592857194602485,
          -5.744313580313182,
          -4.00915035835778,
          -6.04590664963614,
          -7.095178959627628,
          -5.418434233872427,
          -4.031728114739582,
          -5.850797085644911,
          -5.607185342011851,
          -5.305897938359536,
          -4.573277051562948,
          -5.601938473835359,
          -4.653265627645679,
          -4.959867508064927,
          -4.047545060246621,
          -3.755915653762493,
          -4.156461254146656,
          -4.567495051851838,
          -5.397311908306588,
          -5.77931065895729,
          -3.75704811570848,
          -6.638881072998312,
          -3.3354444496567677,
          -4.443382351615497,
          -6.388358818519641,
          -6.686080298355469,
          -5.422626686234854,
          -5.016461183434487,
          -5.556093493354695,
          -4.552338755867503,
          -5.738110242590479,
          -3.3400709773111243,
          -5.052340299303791,
          -5.543286455862967,
          -4.245783751014034,
          -3.853494006401323,
          -5.691603214087394,
          -5.741773550935346,
          -5.855058860966279,
          -5.211737745530704,
          -4.96783897261131,
          -6.2474854184294255,
          -5.139630584526654,
          -5.020126965073532,
          -5.475805519353173,
          -5.381041899907414,
          -4.995557896686798,
          -3.7464513122026553,
          -5.005600996738461,
          -6.211885414337856,
          -5.386287285082671,
          -3.822102327679001,
          -5.820578612841658,
          -5.373466974437349
         ]
        },
        {
         "hoverinfo": "text",
         "hovertext": [
          "Theme: Environment and Science<br>Type: Non-Bot<br>Confidence: 95%<br>Keywords: Sea water, Kwinana bores<br>Sentiment: neutral",
          "Theme: Music and Arts<br>Type: Non-Bot<br>Confidence: 95%<br>Keywords: FireEscape, @pastemagazine<br>Sentiment: positive",
          "Theme: Social Justice and Equality<br>Type: Non-Bot<br>Confidence: 90%<br>Keywords: Hate crime, London<br>Sentiment: negative",
          "Theme: Animals and Pets<br>Type: Non-Bot<br>Confidence: 95%<br>Keywords: god bless dogs<br>Sentiment: positive",
          "Theme: Personal Expression<br>Type: Non-Bot<br>Confidence: 90%<br>Keywords: amazing, inspirational, resilient<br>Sentiment: positive",
          "Theme: Crime and Justice<br>Type: Non-Bot<br>Confidence: 90%<br>Keywords: attack, Iris Warner, @metpoliceuk<br>Sentiment: negative",
          "Theme: Social Commentary<br>Type: Non-Bot<br>Confidence: 95%<br>Keywords: Coldplay, Israel-Palestine peace concert<br>Sentiment: negative",
          "Theme: Philanthropy and Education<br>Type: Non-Bot<br>Confidence: 90%<br>Keywords: DonorsChoose, Education, Classroom<br>Sentiment: positive",
          "Theme: Reality TV and Celebrity<br>Type: Non-Bot<br>Confidence: 90%<br>Keywords: KUWTK, Reality TV, Celebrity<br>Sentiment: positive",
          "Theme: Conversation and Clarification<br>Type: Non-Bot<br>Confidence: 95%<br>Keywords: appearance, another, @LemonSpade<br>Sentiment: neutral",
          "Theme: Encryption and Security<br>Type: Non-Bot<br>Confidence: 90%<br>Keywords: encryption bill, providers, methods, break<br>Sentiment: negative",
          "Theme: Politics and Current Events<br>Type: Non-Bot<br>Confidence: 90%<br>Keywords: ye Qaum purani yadoon, haal, ajkal, PPKa jlsa, Comedy show<br>Sentiment: negative",
          "Theme: Community Events<br>Type: Non-Bot<br>Confidence: 90%<br>Keywords: @dlwp, @eddieizzard, Bexhill, events<br>Sentiment: neutral",
          "Theme: Nuclear Threat<br>Type: Non-Bot<br>Confidence: 90%<br>Keywords: Nuking, Failsafes, Report<br>Sentiment: negative",
          "Theme: Celebration<br>Type: Non-Bot<br>Confidence: 90%<br>Keywords: Hindu New Year, Neasden Temple<br>Sentiment: positive",
          "Theme: Politics & Elections<br>Type: Non-Bot<br>Confidence: 100%<br>Keywords: @Offord4Hendon, Mike Freer, Hendon, Finchley<br>Sentiment: neutral",
          "Theme: Sarcasm/Disapproval<br>Type: Non-Bot<br>Confidence: 99%<br>Keywords: @arakelian_mary, \"Doesn't make scents\"<br>Sentiment: negative",
          "Theme: Education & Community<br>Type: Non-Bot<br>Confidence: 98%<br>Keywords: @TrimiziiSyeda, Engineering Student, Lahore Grammar School<br>Sentiment: neutral",
          "Theme: Entertainment & Culture<br>Type: Non-Bot<br>Confidence: 95%<br>Keywords: Tim Kaine, Harmonica, Wagon Wheel, Asheville<br>Sentiment: positive",
          "Theme: Personal Life & Relationships<br>Type: Non-Bot<br>Confidence: 96%<br>Keywords: Loony Tweets, Ex-Husband<br>Sentiment: negative",
          "Theme: Technology & Business<br>Type: Non-Bot<br>Confidence: 97%<br>Keywords: #metaguide, Inbenta Videos<br>Sentiment: neutral",
          "Theme: Sports & Fitness<br>Type: Non-Bot<br>Confidence: 98%<br>Keywords: Consistency, Quality, Regional Teams<br>Sentiment: positive",
          "Theme: Social Justice & Activism<br>Type: Non-Bot<br>Confidence: 99%<br>Keywords: @nhannahjones, Fannie Lou Hamer, Medgar Evers<br>Sentiment: negative",
          "Theme: Social Comment/Condemnation<br>Type: Non-Bot<br>Confidence: 90%<br>Keywords: attack, perpetrators<br>Sentiment: negative",
          "Theme: Love/Relationship<br>Type: Non-Bot<br>Confidence: 95%<br>Keywords: valentines, judges<br>Sentiment: positive",
          "Theme: Social Cause/Hunger<br>Type: Non-Bot<br>Confidence: 92%<br>Keywords: hunger, support<br>Sentiment: negative",
          "Theme: Reality TV<br>Type: Non-Bot<br>Confidence: 90%<br>Keywords: Thank you, Will<br>Sentiment: positive",
          "Theme: Patriotism<br>Type: Non-Bot<br>Confidence: 95%<br>Keywords: uniform, serve the country, Jai Ho<br>Sentiment: positive",
          "Theme: Canadian Politics<br>Type: Non-Bot<br>Confidence: 90%<br>Keywords: U.S. security umbrella, client state, cdnpoli, dnd<br>Sentiment: neutral",
          "Theme: Workplace Policies<br>Type: Non-Bot<br>Confidence: 90%<br>Keywords: punch out, bathroom<br>Sentiment: negative",
          "Theme: Positive News<br>Type: Non-Bot<br>Confidence: 92%<br>Keywords: congratulations, amazing<br>Sentiment: {}",
          "Theme: Good Luck<br>Type: Non-Bot<br>Confidence: 90%<br>Keywords: <br>Sentiment: {}",
          "Theme: Pet<br>Type: Non-Bot<br>Confidence: 90%<br>Keywords: dog, picture<br>Sentiment: neutral",
          "Theme: Gun Control<br>Type: Non-Bot<br>Confidence: 95%<br>Keywords: Gun Sense<br>Sentiment: positive",
          "Theme: Conference<br>Type: Non-Bot<br>Confidence: 90%<br>Keywords: <br>Sentiment: {}",
          "Theme: Bike Infrastructure<br>Type: Non-Bot<br>Confidence: 95%<br>Keywords: North-South Cycle Superhighway, CS6, Elephant & Castle, Kings Cross<br>Sentiment: neutral",
          "Theme: Pop Culture<br>Type: Non-Bot<br>Confidence: 95%<br>Keywords: Malcolm in the Middle<br>Sentiment: neutral",
          "Theme: News and Politics<br>Type: Non-Bot<br>Confidence: 95%<br>Keywords: CTVNews, House of Commons<br>Sentiment: {}",
          "Theme: Support for Social Cause<br>Type: Non-Bot<br>Confidence: 90%<br>Keywords: One Tough Mother, cancer survivor, gun control<br>Sentiment: positive",
          "Theme: Literary/Awards<br>Type: Non-Bot<br>Confidence: 90%<br>Keywords: ForwardPrizes, Danez_Smif<br>Sentiment: positive",
          "Theme: Junk Food Ban<br>Type: Non-Bot<br>Confidence: 100%<br>Keywords: junk food ad ban, child obesity<br>Sentiment: neutral",
          "Theme: Taxation<br>Type: Non-Bot<br>Confidence: 90%<br>Keywords: Small Business Owner, New Mexico Tax Authorities, #wackytaxwednesday<br>Sentiment: positive",
          "Theme: Book Review<br>Type: Non-Bot<br>Confidence: 95%<br>Keywords: The Perfect Girl, page turner, characters, suspense, @GillyMacmillan<br>Sentiment: positive",
          "Theme: Art<br>Type: Non-Bot<br>Confidence: 95%<br>Keywords: drawing, pet, art<br>Sentiment: neutral",
          "Theme: IT Security<br>Type: Non-Bot<br>Confidence: 98%<br>Keywords: IT security, vulnerability, cybersecurity<br>Sentiment: negative",
          "Theme: Diversity<br>Type: Non-Bot<br>Confidence: 96%<br>Keywords: diversity, celebration, tolerance<br>Sentiment: positive",
          "Theme: Biography and Writing<br>Type: Non-Bot<br>Confidence: 90%<br>Keywords: biography, Leary, Garcia, Bill Graham<br>Sentiment: neutral",
          "Theme: Support for Kashmir<br>Type: Non-Bot<br>Confidence: 95%<br>Keywords: Kashmir, Kashmiri brethren, Pakistan<br>Sentiment: positive",
          "Theme: Criticism of Chris Melberger<br>Type: Non-Bot<br>Confidence: 90%<br>Keywords: @chrismelberger, you have a TV<br>Sentiment: negative",
          "Theme: News Report<br>Type: Non-Bot<br>Confidence: 95%<br>Keywords: #Alexandriashooting, President Trump, shooter has died<br>Sentiment: negative",
          "Theme: Punjab Politics<br>Type: Non-Bot<br>Confidence: 90%<br>Keywords: opp parties, PMLN, bye- elections, LG elec<br>Sentiment: negative",
          "Theme: Reaction<br>Type: Non-Bot<br>Confidence: 90%<br>Keywords: Heartbreaking, embarassing<br>Sentiment: negative",
          "Theme: Weather<br>Type: Non-Bot<br>Confidence: 95%<br>Keywords: Foggy, Boston<br>Sentiment: neutral",
          "Theme: Career Development<br>Type: Non-Bot<br>Confidence: 90%<br>Keywords: leverage, tomorrow, career<br>Sentiment: positive",
          "Theme: Miley Cyrus at the Grammys<br>Type: Non-Bot<br>Confidence: 90%<br>Keywords: Grammys, Miley Cyrus<br>Sentiment: positive",
          "Theme: Food Choice<br>Type: Non-Bot<br>Confidence: 90%<br>Keywords: crunchy, creamy, peanut butter<br>Sentiment: neutral",
          "Theme: Politics/Elections<br>Type: Non-Bot<br>Confidence: 90%<br>Keywords: Noorani, free and fair election<br>Sentiment: neutral",
          "Theme: Politics/Current Events<br>Type: Non-Bot<br>Confidence: 95%<br>Keywords: @CityLab, reports<br>Sentiment: negative",
          "Theme: Politics/Government<br>Type: Non-Bot<br>Confidence: 95%<br>Keywords: young people, midterm elections<br>Sentiment: negative",
          "Theme: Motherhood<br>Type: Non-Bot<br>Confidence: 98%<br>Keywords: #BeingMom, @BeingHumanJewel<br>Sentiment: positive",
          "Theme: Travel<br>Type: Non-Bot<br>Confidence: 95%<br>Keywords: Natural Bridge Wax Museum, Basement<br>Sentiment: positive",
          "Theme: Humor and Satire<br>Type: Non-Bot<br>Confidence: 90%<br>Keywords: Look at this beautiful child, Chad<br>Sentiment: neutral",
          "Theme: Social Media Deception<br>Type: Non-Bot<br>Confidence: 90%<br>Keywords: LIES, Fake, Favstar_Bot, petemandik<br>Sentiment: negative",
          "Theme: Northern Pakistan<br>Type: Non-Bot<br>Confidence: 95%<br>Keywords: northernareas, northernareasofpakistan, kpk, sawat, kalam, pakistan, PakistanBeauty, RiverSawat<br>Sentiment: neutral",
          "Theme: Violence Against Women<br>Type: Non-Bot<br>Confidence: 95%<br>Keywords: International Day, Elimination of Violence Against Women, prevention, perpetrator, bring, change, movement, empower, equality<br>Sentiment: positive",
          "Theme: Awareness/Education<br>Type: Non-Bot<br>Confidence: 90%<br>Keywords: vulnerable, look out<br>Sentiment: positive",
          "Theme: Information/Sharing<br>Type: Non-Bot<br>Confidence: 95%<br>Keywords: Republic Day, serve the country, Jai Ho<br>Sentiment: neutral",
          "Theme: Criticism/Complaint<br>Type: Non-Bot<br>Confidence: 95%<br>Keywords: mega projects, infrastructure stability<br>Sentiment: negative",
          "Theme: Product Review<br>Type: Non-Bot<br>Confidence: 90%<br>Keywords: Clarizen, project management<br>Sentiment: positive",
          "Theme: Comedy and Entertainment<br>Type: Non-Bot<br>Confidence: 90%<br>Keywords: Happy 85th birthday, comedy<br>Sentiment: positive",
          "Theme: Appreciation and Gratitude<br>Type: Non-Bot<br>Confidence: 90%<br>Keywords: thank you<br>Sentiment: positive",
          "Theme: Birthday Wishes<br>Type: Non-Bot<br>Confidence: 95%<br>Keywords: birthday, friend, beautiful, smart, hilarious<br>Sentiment: positive",
          "Theme: Positive Review<br>Type: Non-Bot<br>Confidence: 90%<br>Keywords: seaworld, good<br>Sentiment: positive",
          "Theme: Motivational Quote<br>Type: Non-Bot<br>Confidence: 95%<br>Keywords: let your life be a shining example<br>Sentiment: positive",
          "Theme: Political Campaign<br>Type: Non-Bot<br>Confidence: 90%<br>Keywords: celebrating, gunsensecan<br>Sentiment: positive",
          "Theme: Get-Out-The-Vote Effort<br>Type: Non-Bot<br>Confidence: 95%<br>Keywords: gotv, hard work<br>Sentiment: positive",
          "Theme: Customer Service Issue<br>Type: Non-Bot<br>Confidence: 95%<br>Keywords: delayed, inflexibility<br>Sentiment: negative",
          "Theme: Music Event<br>Type: Non-Bot<br>Confidence: 90%<br>Keywords: Grammys, Kendrick Lamar, DAMN<br>Sentiment: neutral",
          "Theme: Social Movement<br>Type: Non-Bot<br>Confidence: 95%<br>Keywords: FireTheFool, April Fool's Day<br>Sentiment: neutral",
          "Theme: Brexit<br>Type: Non-Bot<br>Confidence: 90%<br>Keywords: EU, leave, decisions<br>Sentiment: neutral",
          "Theme: Emergency Response<br>Type: Non-Bot<br>Confidence: 90%<br>Keywords: fire, UNC campus<br>Sentiment: neutral",
          "Theme: Charity<br>Type: Non-Bot<br>Confidence: 90%<br>Keywords: #CopthornePrep, #27marathons27days, @sportrelief<br>Sentiment: positive",
          "Theme: Celebrity and Current Events<br>Type: Non-Bot<br>Confidence: 90%<br>Keywords: #CincoDeMayo, #7News, @cdelcampon7<br>Sentiment: neutral",
          "Theme: Charity and Donations<br>Type: Non-Bot<br>Confidence: 100%<br>Keywords: donation, UNICEF, #WAKEUPCALL<br>Sentiment: positive",
          "Theme: Self-Assurance<br>Type: Non-Bot<br>Confidence: 90%<br>Keywords: fine, #whatgoesup<br>Sentiment: neutral",
          "Theme: Phone and Communication<br>Type: Non-Bot<br>Confidence: 95%<br>Keywords: blocked numbers, blocked<br>Sentiment: neutral",
          "Theme: Event and Development<br>Type: Non-Bot<br>Confidence: 100%<br>Keywords: Swat Motorway, development, tourism<br>Sentiment: neutral",
          "Theme: Harassment and Safety<br>Type: Non-Bot<br>Confidence: 95%<br>Keywords: blocked and reported, @muffinista<br>Sentiment: negative",
          "Theme: Politics and Conflict<br>Type: Non-Bot<br>Confidence: 100%<br>Keywords: PTI lawyer, critically wounded, Punjab police<br>Sentiment: negative",
          "Theme: Social Event and Celebration<br>Type: Non-Bot<br>Confidence: 90%<br>Keywords: RootsPicnic, #RootsPicnic, pic 2018<br>Sentiment: neutral"
         ],
         "marker": {
          "color": "rgb(0,255,0)",
          "line": {
           "color": "rgb(0,100,0)",
           "width": 1
          },
          "size": [
           14.5,
           14.5,
           14,
           14.5,
           14,
           14,
           14.5,
           14,
           14,
           14.5,
           14,
           14,
           14,
           14,
           14,
           15,
           14.9,
           14.8,
           14.5,
           14.6,
           14.7,
           14.8,
           14.9,
           14,
           14.5,
           14.2,
           14,
           14.5,
           14,
           14,
           14.2,
           14,
           14,
           14.5,
           14,
           14.5,
           14.5,
           14.5,
           14,
           14,
           15,
           14,
           14.5,
           14.5,
           14.8,
           14.6,
           14,
           14.5,
           14,
           14.5,
           14,
           14,
           14.5,
           14,
           14,
           14,
           14,
           14.5,
           14.5,
           14.8,
           14.5,
           14,
           14,
           14.5,
           14.5,
           14,
           14.5,
           14.5,
           14,
           14,
           14,
           14.5,
           14,
           14.5,
           14,
           14.5,
           14.5,
           14,
           14.5,
           14,
           14,
           14,
           14,
           15,
           14,
           14.5,
           15,
           14.5,
           15,
           14
          ]
         },
         "mode": "markers",
         "name": "Non-Bot Themes",
         "type": "scatter",
         "x": [
          4.441023171815895,
          4.8547369931078,
          4.093048157064179,
          5.445617973118791,
          4.191827055854038,
          3.8889229653803827,
          4.578871805055028,
          6.040707624260544,
          6.116860868304489,
          5.697316093116732,
          6.562974462162732,
          4.913602180615908,
          4.859055507112725,
          6.627986001181499,
          5.149612455990157,
          4.907020066664986,
          5.078328445294443,
          4.689360665800366,
          2.9031097531342156,
          4.31112110399526,
          6.091419935031881,
          5.985041421243705,
          5.895291545088822,
          5.639528553342391,
          3.9947155910008774,
          5.666596630963076,
          5.106618402376025,
          4.112824875567959,
          3.041837557251008,
          3.8989401749093138,
          5.721139689395137,
          4.2649227728951615,
          5.775324919663112,
          5.0690888919645705,
          5.596159158410181,
          4.294526043652373,
          5.090038647290622,
          5.517390108453566,
          5.711205940471585,
          4.336032893263631,
          5.2962077098622276,
          4.214987137102289,
          5.627253802037591,
          3.510982562841189,
          4.375931097251233,
          4.222384738016945,
          5.493615179868613,
          5.011436967062565,
          4.95087969543874,
          5.1995511564385755,
          5.869969179620542,
          5.355219262211279,
          6.198502979004532,
          4.5206594376096065,
          5.6295600641753305,
          3.7174693720774994,
          2.976393848089145,
          5.1565882756909955,
          4.370393082830558,
          5.665313130290514,
          6.986166808271316,
          5.533816772171847,
          4.757850424588377,
          4.841040676630621,
          4.856914433277109,
          4.215819288954075,
          7.046317341246191,
          5.555736256752083,
          5.5096193557916,
          4.434781389558573,
          5.365310864644302,
          5.754144007621353,
          3.5160677611699436,
          5.808573459139875,
          5.634623195397404,
          3.815938992070816,
          6.825516911658942,
          5.674222226970159,
          4.97867543919919,
          3.2434835689748445,
          7.352903824691077,
          5.441377218640358,
          5.376398873232883,
          4.730317581521609,
          4.857080881828506,
          3.5683115625606843,
          2.7595603784151104,
          6.07702466150554,
          7.103037361721894,
          4.61527256655597
         ],
         "y": [
          6.2441174590094475,
          6.076503165986938,
          6.062606194786774,
          4.282792355343344,
          5.9560927562520645,
          5.500134900868673,
          5.45584066533647,
          3.9098764830896657,
          5.4045145925837685,
          4.1936291287995004,
          3.0134413859555673,
          4.670318895519539,
          5.928266040674487,
          6.111142346724851,
          5.855015224971199,
          5.802861069335437,
          5.708217992759076,
          5.278213476949314,
          5.257548505241744,
          4.980776958116798,
          4.759561614777492,
          4.6840727479152084,
          3.0381807382474806,
          4.968755938199012,
          6.609706716539211,
          5.616545988722498,
          5.244402068438534,
          5.351480545887191,
          6.435201455893067,
          4.564210760683316,
          4.614352842859196,
          5.502722225347797,
          5.369945158091209,
          4.9763107637133315,
          4.605894856039369,
          5.352099569581103,
          4.932852164735908,
          5.974605109610148,
          5.850780287193209,
          4.720482250054009,
          4.634898750392221,
          4.156308639730372,
          4.702476673635539,
          6.938705224510398,
          4.215199425277917,
          5.029133005432527,
          4.91954273637793,
          5.774532038593797,
          6.877578497054441,
          4.6751172546493525,
          5.605471517973152,
          6.589393423423338,
          3.4335219484596387,
          4.60992044006023,
          5.406239682719583,
          4.837694044395893,
          5.576145447191145,
          6.122289616521629,
          1.8716742023386312,
          4.819456405413852,
          8.717267979834448,
          5.534020390384233,
          6.221820646058951,
          5.5648609180796536,
          5.415131717047356,
          4.337737394994711,
          3.8650327063945906,
          5.759518502233362,
          6.527985310618663,
          4.775551020692566,
          3.071889300660475,
          5.647501246483903,
          4.1370938733462195,
          6.031907887991714,
          3.3582751536193713,
          5.017725448961947,
          3.7140674192632837,
          5.685193332670691,
          5.2815061550097635,
          5.0302372317391635,
          4.187495332534014,
          3.2566316101571875,
          5.552066504334294,
          4.505351224440391,
          5.434212244740934,
          3.5567112182380347,
          5.31030150740259,
          3.355118741391389,
          4.413702904772496,
          4.156942536942907
         ]
        },
        {
         "hoverinfo": "text",
         "hovertext": [
          "Theme: Technology<br>Type: Mixed<br>Confidence: 100%<br>Keywords: Microsoft, Chromium, Edge<br>Sentiment: negative",
          "Theme: Entertainment<br>Type: Mixed<br>Confidence: 99%<br>Keywords: wine, shoes, LindaVino, Winelover<br>Sentiment: positive",
          "Theme: Social Media<br>Type: Mixed<br>Confidence: 90%<br>Keywords: RT, hashtag, volunteer<br>Sentiment: neutral",
          "Theme: Humor<br>Type: Mixed<br>Confidence: 90%<br>Keywords: DUKE NUKEM FOREVER, BONG BONG BONG BONG BONG BONG, doo-dah<br>Sentiment: positive",
          "Theme: Politics<br>Type: Mixed<br>Confidence: 90%<br>Keywords: GET BACK TO WORK, BONG BONG<br>Sentiment: negative",
          "Theme: Sports<br>Type: Mixed<br>Confidence: 90%<br>Keywords: Rose Bowl<br>Sentiment: neutral",
          "Theme: Music<br>Type: Mixed<br>Confidence: 95%<br>Keywords: Alicia Keys, Rapture<br>Sentiment: neutral",
          "Theme: Encouragement<br>Type: Mixed<br>Confidence: 95%<br>Keywords: ask for help, cheering<br>Sentiment: {}",
          "Theme: Celebrity<br>Type: Mixed<br>Confidence: 90%<br>Keywords: slay<br>Sentiment: positive",
          "Theme: Finance<br>Type: Mixed<br>Confidence: 90%<br>Keywords: Bitcoin, Price, Rally, Resistance<br>Sentiment: neutral",
          "Theme: Criticism<br>Type: Mixed<br>Confidence: 90%<br>Keywords: clueless, professional, lunchlady<br>Sentiment: negative",
          "Theme: Event<br>Type: Mixed<br>Confidence: 90%<br>Keywords: Wine, Greece<br>Sentiment: positive"
         ],
         "marker": {
          "color": "rgb(128,0,128)",
          "line": {
           "color": "rgb(75,0,130)",
           "width": 1
          },
          "size": [
           15,
           14.9,
           14,
           14,
           14,
           14,
           14.5,
           14.5,
           14,
           14,
           14,
           14
          ]
         },
         "mode": "markers",
         "name": "Mixed Themes",
         "type": "scatter",
         "x": [
          0.29945460436603205,
          -0.507670503638584,
          1.016866734409041,
          -0.2297434882291547,
          0.3133247682863971,
          2.037678036337389,
          -1.1110947063230905,
          -0.20910379392650993,
          0.849246464741856,
          0.19667039824577,
          0.5050776752698205,
          -0.19207512435659835
         ],
         "y": [
          1.2365288188358894,
          -0.1376077149147992,
          -0.2504105809176275,
          2.4761282509786775,
          0.4032621131391459,
          1.1336887131134972,
          -0.024831011620599707,
          -0.6334149472840799,
          -0.48977406221242786,
          -1.2214225021569411,
          -0.1583098686029222,
          -0.5470087484448584
         ]
        }
       ],
       "layout": {
        "height": 800,
        "hovermode": "closest",
        "margin": {
         "b": 20,
         "l": 20,
         "r": 20,
         "t": 60
        },
        "paper_bgcolor": "white",
        "plot_bgcolor": "white",
        "showlegend": true,
        "template": {
         "data": {
          "bar": [
           {
            "error_x": {
             "color": "#2a3f5f"
            },
            "error_y": {
             "color": "#2a3f5f"
            },
            "marker": {
             "line": {
              "color": "#E5ECF6",
              "width": 0.5
             },
             "pattern": {
              "fillmode": "overlay",
              "size": 10,
              "solidity": 0.2
             }
            },
            "type": "bar"
           }
          ],
          "barpolar": [
           {
            "marker": {
             "line": {
              "color": "#E5ECF6",
              "width": 0.5
             },
             "pattern": {
              "fillmode": "overlay",
              "size": 10,
              "solidity": 0.2
             }
            },
            "type": "barpolar"
           }
          ],
          "carpet": [
           {
            "aaxis": {
             "endlinecolor": "#2a3f5f",
             "gridcolor": "white",
             "linecolor": "white",
             "minorgridcolor": "white",
             "startlinecolor": "#2a3f5f"
            },
            "baxis": {
             "endlinecolor": "#2a3f5f",
             "gridcolor": "white",
             "linecolor": "white",
             "minorgridcolor": "white",
             "startlinecolor": "#2a3f5f"
            },
            "type": "carpet"
           }
          ],
          "choropleth": [
           {
            "colorbar": {
             "outlinewidth": 0,
             "ticks": ""
            },
            "type": "choropleth"
           }
          ],
          "contour": [
           {
            "colorbar": {
             "outlinewidth": 0,
             "ticks": ""
            },
            "colorscale": [
             [
              0,
              "#0d0887"
             ],
             [
              0.1111111111111111,
              "#46039f"
             ],
             [
              0.2222222222222222,
              "#7201a8"
             ],
             [
              0.3333333333333333,
              "#9c179e"
             ],
             [
              0.4444444444444444,
              "#bd3786"
             ],
             [
              0.5555555555555556,
              "#d8576b"
             ],
             [
              0.6666666666666666,
              "#ed7953"
             ],
             [
              0.7777777777777778,
              "#fb9f3a"
             ],
             [
              0.8888888888888888,
              "#fdca26"
             ],
             [
              1,
              "#f0f921"
             ]
            ],
            "type": "contour"
           }
          ],
          "contourcarpet": [
           {
            "colorbar": {
             "outlinewidth": 0,
             "ticks": ""
            },
            "type": "contourcarpet"
           }
          ],
          "heatmap": [
           {
            "colorbar": {
             "outlinewidth": 0,
             "ticks": ""
            },
            "colorscale": [
             [
              0,
              "#0d0887"
             ],
             [
              0.1111111111111111,
              "#46039f"
             ],
             [
              0.2222222222222222,
              "#7201a8"
             ],
             [
              0.3333333333333333,
              "#9c179e"
             ],
             [
              0.4444444444444444,
              "#bd3786"
             ],
             [
              0.5555555555555556,
              "#d8576b"
             ],
             [
              0.6666666666666666,
              "#ed7953"
             ],
             [
              0.7777777777777778,
              "#fb9f3a"
             ],
             [
              0.8888888888888888,
              "#fdca26"
             ],
             [
              1,
              "#f0f921"
             ]
            ],
            "type": "heatmap"
           }
          ],
          "heatmapgl": [
           {
            "colorbar": {
             "outlinewidth": 0,
             "ticks": ""
            },
            "colorscale": [
             [
              0,
              "#0d0887"
             ],
             [
              0.1111111111111111,
              "#46039f"
             ],
             [
              0.2222222222222222,
              "#7201a8"
             ],
             [
              0.3333333333333333,
              "#9c179e"
             ],
             [
              0.4444444444444444,
              "#bd3786"
             ],
             [
              0.5555555555555556,
              "#d8576b"
             ],
             [
              0.6666666666666666,
              "#ed7953"
             ],
             [
              0.7777777777777778,
              "#fb9f3a"
             ],
             [
              0.8888888888888888,
              "#fdca26"
             ],
             [
              1,
              "#f0f921"
             ]
            ],
            "type": "heatmapgl"
           }
          ],
          "histogram": [
           {
            "marker": {
             "pattern": {
              "fillmode": "overlay",
              "size": 10,
              "solidity": 0.2
             }
            },
            "type": "histogram"
           }
          ],
          "histogram2d": [
           {
            "colorbar": {
             "outlinewidth": 0,
             "ticks": ""
            },
            "colorscale": [
             [
              0,
              "#0d0887"
             ],
             [
              0.1111111111111111,
              "#46039f"
             ],
             [
              0.2222222222222222,
              "#7201a8"
             ],
             [
              0.3333333333333333,
              "#9c179e"
             ],
             [
              0.4444444444444444,
              "#bd3786"
             ],
             [
              0.5555555555555556,
              "#d8576b"
             ],
             [
              0.6666666666666666,
              "#ed7953"
             ],
             [
              0.7777777777777778,
              "#fb9f3a"
             ],
             [
              0.8888888888888888,
              "#fdca26"
             ],
             [
              1,
              "#f0f921"
             ]
            ],
            "type": "histogram2d"
           }
          ],
          "histogram2dcontour": [
           {
            "colorbar": {
             "outlinewidth": 0,
             "ticks": ""
            },
            "colorscale": [
             [
              0,
              "#0d0887"
             ],
             [
              0.1111111111111111,
              "#46039f"
             ],
             [
              0.2222222222222222,
              "#7201a8"
             ],
             [
              0.3333333333333333,
              "#9c179e"
             ],
             [
              0.4444444444444444,
              "#bd3786"
             ],
             [
              0.5555555555555556,
              "#d8576b"
             ],
             [
              0.6666666666666666,
              "#ed7953"
             ],
             [
              0.7777777777777778,
              "#fb9f3a"
             ],
             [
              0.8888888888888888,
              "#fdca26"
             ],
             [
              1,
              "#f0f921"
             ]
            ],
            "type": "histogram2dcontour"
           }
          ],
          "mesh3d": [
           {
            "colorbar": {
             "outlinewidth": 0,
             "ticks": ""
            },
            "type": "mesh3d"
           }
          ],
          "parcoords": [
           {
            "line": {
             "colorbar": {
              "outlinewidth": 0,
              "ticks": ""
             }
            },
            "type": "parcoords"
           }
          ],
          "pie": [
           {
            "automargin": true,
            "type": "pie"
           }
          ],
          "scatter": [
           {
            "fillpattern": {
             "fillmode": "overlay",
             "size": 10,
             "solidity": 0.2
            },
            "type": "scatter"
           }
          ],
          "scatter3d": [
           {
            "line": {
             "colorbar": {
              "outlinewidth": 0,
              "ticks": ""
             }
            },
            "marker": {
             "colorbar": {
              "outlinewidth": 0,
              "ticks": ""
             }
            },
            "type": "scatter3d"
           }
          ],
          "scattercarpet": [
           {
            "marker": {
             "colorbar": {
              "outlinewidth": 0,
              "ticks": ""
             }
            },
            "type": "scattercarpet"
           }
          ],
          "scattergeo": [
           {
            "marker": {
             "colorbar": {
              "outlinewidth": 0,
              "ticks": ""
             }
            },
            "type": "scattergeo"
           }
          ],
          "scattergl": [
           {
            "marker": {
             "colorbar": {
              "outlinewidth": 0,
              "ticks": ""
             }
            },
            "type": "scattergl"
           }
          ],
          "scattermapbox": [
           {
            "marker": {
             "colorbar": {
              "outlinewidth": 0,
              "ticks": ""
             }
            },
            "type": "scattermapbox"
           }
          ],
          "scatterpolar": [
           {
            "marker": {
             "colorbar": {
              "outlinewidth": 0,
              "ticks": ""
             }
            },
            "type": "scatterpolar"
           }
          ],
          "scatterpolargl": [
           {
            "marker": {
             "colorbar": {
              "outlinewidth": 0,
              "ticks": ""
             }
            },
            "type": "scatterpolargl"
           }
          ],
          "scatterternary": [
           {
            "marker": {
             "colorbar": {
              "outlinewidth": 0,
              "ticks": ""
             }
            },
            "type": "scatterternary"
           }
          ],
          "surface": [
           {
            "colorbar": {
             "outlinewidth": 0,
             "ticks": ""
            },
            "colorscale": [
             [
              0,
              "#0d0887"
             ],
             [
              0.1111111111111111,
              "#46039f"
             ],
             [
              0.2222222222222222,
              "#7201a8"
             ],
             [
              0.3333333333333333,
              "#9c179e"
             ],
             [
              0.4444444444444444,
              "#bd3786"
             ],
             [
              0.5555555555555556,
              "#d8576b"
             ],
             [
              0.6666666666666666,
              "#ed7953"
             ],
             [
              0.7777777777777778,
              "#fb9f3a"
             ],
             [
              0.8888888888888888,
              "#fdca26"
             ],
             [
              1,
              "#f0f921"
             ]
            ],
            "type": "surface"
           }
          ],
          "table": [
           {
            "cells": {
             "fill": {
              "color": "#EBF0F8"
             },
             "line": {
              "color": "white"
             }
            },
            "header": {
             "fill": {
              "color": "#C8D4E3"
             },
             "line": {
              "color": "white"
             }
            },
            "type": "table"
           }
          ]
         },
         "layout": {
          "annotationdefaults": {
           "arrowcolor": "#2a3f5f",
           "arrowhead": 0,
           "arrowwidth": 1
          },
          "autotypenumbers": "strict",
          "coloraxis": {
           "colorbar": {
            "outlinewidth": 0,
            "ticks": ""
           }
          },
          "colorscale": {
           "diverging": [
            [
             0,
             "#8e0152"
            ],
            [
             0.1,
             "#c51b7d"
            ],
            [
             0.2,
             "#de77ae"
            ],
            [
             0.3,
             "#f1b6da"
            ],
            [
             0.4,
             "#fde0ef"
            ],
            [
             0.5,
             "#f7f7f7"
            ],
            [
             0.6,
             "#e6f5d0"
            ],
            [
             0.7,
             "#b8e186"
            ],
            [
             0.8,
             "#7fbc41"
            ],
            [
             0.9,
             "#4d9221"
            ],
            [
             1,
             "#276419"
            ]
           ],
           "sequential": [
            [
             0,
             "#0d0887"
            ],
            [
             0.1111111111111111,
             "#46039f"
            ],
            [
             0.2222222222222222,
             "#7201a8"
            ],
            [
             0.3333333333333333,
             "#9c179e"
            ],
            [
             0.4444444444444444,
             "#bd3786"
            ],
            [
             0.5555555555555556,
             "#d8576b"
            ],
            [
             0.6666666666666666,
             "#ed7953"
            ],
            [
             0.7777777777777778,
             "#fb9f3a"
            ],
            [
             0.8888888888888888,
             "#fdca26"
            ],
            [
             1,
             "#f0f921"
            ]
           ],
           "sequentialminus": [
            [
             0,
             "#0d0887"
            ],
            [
             0.1111111111111111,
             "#46039f"
            ],
            [
             0.2222222222222222,
             "#7201a8"
            ],
            [
             0.3333333333333333,
             "#9c179e"
            ],
            [
             0.4444444444444444,
             "#bd3786"
            ],
            [
             0.5555555555555556,
             "#d8576b"
            ],
            [
             0.6666666666666666,
             "#ed7953"
            ],
            [
             0.7777777777777778,
             "#fb9f3a"
            ],
            [
             0.8888888888888888,
             "#fdca26"
            ],
            [
             1,
             "#f0f921"
            ]
           ]
          },
          "colorway": [
           "#636efa",
           "#EF553B",
           "#00cc96",
           "#ab63fa",
           "#FFA15A",
           "#19d3f3",
           "#FF6692",
           "#B6E880",
           "#FF97FF",
           "#FECB52"
          ],
          "font": {
           "color": "#2a3f5f"
          },
          "geo": {
           "bgcolor": "white",
           "lakecolor": "white",
           "landcolor": "#E5ECF6",
           "showlakes": true,
           "showland": true,
           "subunitcolor": "white"
          },
          "hoverlabel": {
           "align": "left"
          },
          "hovermode": "closest",
          "mapbox": {
           "style": "light"
          },
          "paper_bgcolor": "white",
          "plot_bgcolor": "#E5ECF6",
          "polar": {
           "angularaxis": {
            "gridcolor": "white",
            "linecolor": "white",
            "ticks": ""
           },
           "bgcolor": "#E5ECF6",
           "radialaxis": {
            "gridcolor": "white",
            "linecolor": "white",
            "ticks": ""
           }
          },
          "scene": {
           "xaxis": {
            "backgroundcolor": "#E5ECF6",
            "gridcolor": "white",
            "gridwidth": 2,
            "linecolor": "white",
            "showbackground": true,
            "ticks": "",
            "zerolinecolor": "white"
           },
           "yaxis": {
            "backgroundcolor": "#E5ECF6",
            "gridcolor": "white",
            "gridwidth": 2,
            "linecolor": "white",
            "showbackground": true,
            "ticks": "",
            "zerolinecolor": "white"
           },
           "zaxis": {
            "backgroundcolor": "#E5ECF6",
            "gridcolor": "white",
            "gridwidth": 2,
            "linecolor": "white",
            "showbackground": true,
            "ticks": "",
            "zerolinecolor": "white"
           }
          },
          "shapedefaults": {
           "line": {
            "color": "#2a3f5f"
           }
          },
          "ternary": {
           "aaxis": {
            "gridcolor": "white",
            "linecolor": "white",
            "ticks": ""
           },
           "baxis": {
            "gridcolor": "white",
            "linecolor": "white",
            "ticks": ""
           },
           "bgcolor": "#E5ECF6",
           "caxis": {
            "gridcolor": "white",
            "linecolor": "white",
            "ticks": ""
           }
          },
          "title": {
           "x": 0.05
          },
          "xaxis": {
           "automargin": true,
           "gridcolor": "white",
           "linecolor": "white",
           "ticks": "",
           "title": {
            "standoff": 15
           },
           "zerolinecolor": "white",
           "zerolinewidth": 2
          },
          "yaxis": {
           "automargin": true,
           "gridcolor": "white",
           "linecolor": "white",
           "ticks": "",
           "title": {
            "standoff": 15
           },
           "zerolinecolor": "white",
           "zerolinewidth": 2
          }
         }
        },
        "title": {
         "text": "Theme Network Visualization"
        },
        "width": 1000,
        "xaxis": {
         "range": [
          -10,
          10
         ],
         "showgrid": false,
         "showticklabels": false,
         "zeroline": false
        },
        "yaxis": {
         "range": [
          -10,
          10
         ],
         "showgrid": false,
         "showticklabels": false,
         "zeroline": false
        }
       }
      }
     },
     "metadata": {},
     "output_type": "display_data"
    }
   ],
   "source": [
    "import json\n",
    "import networkx as nx\n",
    "import plotly.graph_objects as go\n",
    "import numpy as np\n",
    "\n",
    "\n",
    "\n",
    "\n",
    "def load_json_file(file_path):\n",
    "    \"\"\"Load JSON file safely.\"\"\"\n",
    "    try:\n",
    "        with open(file_path, 'r', encoding='utf-8') as file:\n",
    "            return json.load(file)\n",
    "    except Exception as e:\n",
    "        print(f\"Error loading JSON file {file_path}: {e}\")\n",
    "        return []\n",
    "\n",
    "\n",
    "\n",
    "\n",
    "def create_theme_network(data_bot, data_nonbot, min_confidence=90):\n",
    "    \"\"\"Create a network graph from themes with a minimum confidence level.\"\"\"\n",
    "    G = nx.Graph()\n",
    "\n",
    "\n",
    "    def process_data(data, is_bot=True):\n",
    "        for item in data:\n",
    "            response = item.get('response')\n",
    "            if isinstance(response, str):\n",
    "                try:\n",
    "                    response_data = json.loads(response)\n",
    "                    themes = response_data.get('themes', [])\n",
    "\n",
    "\n",
    "                    for theme in themes:\n",
    "                        confidence = theme.get('confidence', 0)\n",
    "                        if confidence >= min_confidence:\n",
    "                            theme_name = theme['name']\n",
    "                            keywords = theme.get('keywords', [])\n",
    "                            sentiment = theme.get('sentiment', {})\n",
    "\n",
    "\n",
    "                            # Add or update theme node\n",
    "                            if not G.has_node(theme_name):\n",
    "                                G.add_node(theme_name,\n",
    "                                           type='theme',\n",
    "                                           is_bot=is_bot,\n",
    "                                           confidence=confidence,\n",
    "                                           keywords=keywords,\n",
    "                                           sentiment=sentiment)\n",
    "                            else:\n",
    "                                # If node exists and bot status is different, mark as mixed\n",
    "                                current_bot_status = G.nodes[theme_name].get('is_bot')\n",
    "                                if current_bot_status != is_bot:\n",
    "                                    G.nodes[theme_name]['is_bot'] = 'mixed'\n",
    "\n",
    "\n",
    "                except json.JSONDecodeError:\n",
    "                    print(f\"Invalid JSON in response: {response}\")\n",
    "\n",
    "\n",
    "    # Process bot and non-bot data\n",
    "    process_data(data_bot, is_bot=True)\n",
    "    process_data(data_nonbot, is_bot=False)\n",
    "\n",
    "\n",
    "    return G\n",
    "\n",
    "\n",
    "\n",
    "\n",
    "def visualize_network(G):\n",
    "    \"\"\"Visualize bot, non-bot, and mixed themes in clustered regions.\"\"\"\n",
    "    # Separate nodes by bot status\n",
    "    bot_nodes = [node for node, data in G.nodes(data=True) if data.get('is_bot') == True]\n",
    "    nonbot_nodes = [node for node, data in G.nodes(data=True) if data.get('is_bot') == False]\n",
    "    mixed_nodes = [node for node, data in G.nodes(data=True) if data.get('is_bot') == 'mixed']\n",
    "\n",
    "\n",
    "    # Create traces for each category\n",
    "    traces = []\n",
    "\n",
    "\n",
    "    # Function to determine node size based on confidence\n",
    "    def get_node_size(confidence):\n",
    "        return 5 + confidence / 10  # Adjust the scaling factor as needed\n",
    "\n",
    "\n",
    "    # Bot nodes - clustered in bottom left\n",
    "    if bot_nodes:\n",
    "        bot_x = np.random.normal(loc=-5, scale=1, size=len(bot_nodes))\n",
    "        bot_y = np.random.normal(loc=-5, scale=1, size=len(bot_nodes))\n",
    "        bot_sizes = [get_node_size(G.nodes[node]['confidence']) for node in bot_nodes]\n",
    "        bot_trace = go.Scatter(\n",
    "            x=bot_x,\n",
    "            y=bot_y,\n",
    "            mode='markers',\n",
    "            hovertext=[\n",
    "                f\"Theme: {node}<br>\"\n",
    "                f\"Type: Bot<br>\"\n",
    "                f\"Confidence: {G.nodes[node]['confidence']}%<br>\"\n",
    "                f\"Keywords: {', '.join(G.nodes[node].get('keywords', []))}<br>\"\n",
    "                f\"Sentiment: {G.nodes[node].get('sentiment', 'N/A')}\"\n",
    "                for node in bot_nodes\n",
    "            ],\n",
    "            hoverinfo='text',\n",
    "            marker=dict(\n",
    "                size=bot_sizes,\n",
    "                color='rgb(255,0,0)',  # Red\n",
    "                line=dict(width=1, color='rgb(139,0,0)')  # Dark red\n",
    "            ),\n",
    "            name='Bot Themes'\n",
    "        )\n",
    "        traces.append(bot_trace)\n",
    "\n",
    "\n",
    "    # Non-bot nodes - clustered in top right\n",
    "    if nonbot_nodes:\n",
    "        nonbot_x = np.random.normal(loc=5, scale=1, size=len(nonbot_nodes))\n",
    "        nonbot_y = np.random.normal(loc=5, scale=1, size=len(nonbot_nodes))\n",
    "        nonbot_sizes = [get_node_size(G.nodes[node]['confidence']) for node in nonbot_nodes]\n",
    "        nonbot_trace = go.Scatter(\n",
    "            x=nonbot_x,\n",
    "            y=nonbot_y,\n",
    "            mode='markers',\n",
    "            hovertext=[\n",
    "                f\"Theme: {node}<br>\"\n",
    "                f\"Type: Non-Bot<br>\"\n",
    "                f\"Confidence: {G.nodes[node]['confidence']}%<br>\"\n",
    "                f\"Keywords: {', '.join(G.nodes[node].get('keywords', []))}<br>\"\n",
    "                f\"Sentiment: {G.nodes[node].get('sentiment', 'N/A')}\"\n",
    "                for node in nonbot_nodes\n",
    "            ],\n",
    "            hoverinfo='text',\n",
    "            marker=dict(\n",
    "                size=nonbot_sizes,\n",
    "                color='rgb(0,255,0)',  # Green\n",
    "                line=dict(width=1, color='rgb(0,100,0)')  # Dark green\n",
    "            ),\n",
    "            name='Non-Bot Themes'\n",
    "        )\n",
    "        traces.append(nonbot_trace)\n",
    "\n",
    "\n",
    "    # Mixed nodes - clustered in center\n",
    "    if mixed_nodes:\n",
    "        mixed_x = np.random.normal(loc=0, scale=1, size=len(mixed_nodes))\n",
    "        mixed_y = np.random.normal(loc=0, scale=1, size=len(mixed_nodes))\n",
    "        mixed_sizes = [get_node_size(G.nodes[node]['confidence']) for node in mixed_nodes]\n",
    "        mixed_trace = go.Scatter(\n",
    "            x=mixed_x,\n",
    "            y=mixed_y,\n",
    "            mode='markers',\n",
    "            hovertext=[\n",
    "                f\"Theme: {node}<br>\"\n",
    "                f\"Type: Mixed<br>\"\n",
    "                f\"Confidence: {G.nodes[node]['confidence']}%<br>\"\n",
    "                f\"Keywords: {', '.join(G.nodes[node].get('keywords', []))}<br>\"\n",
    "                f\"Sentiment: {G.nodes[node].get('sentiment', 'N/A')}\"\n",
    "                for node in mixed_nodes\n",
    "            ],\n",
    "            hoverinfo='text',\n",
    "            marker=dict(\n",
    "                size=mixed_sizes,\n",
    "                color='rgb(128,0,128)',  # Purple\n",
    "                line=dict(width=1, color='rgb(75,0,130)')  # Indigo\n",
    "            ),\n",
    "            name='Mixed Themes'\n",
    "        )\n",
    "        traces.append(mixed_trace)\n",
    "\n",
    "\n",
    "    # Create figure\n",
    "    fig = go.Figure(data=traces)\n",
    "\n",
    "\n",
    "    # Update layout for better visualization\n",
    "    fig.update_layout(\n",
    "        title=\"Theme Network Visualization\",\n",
    "        showlegend=True,\n",
    "        hovermode='closest',\n",
    "        width=1000,\n",
    "        height=800,\n",
    "        margin=dict(b=20, l=20, r=20, t=60),\n",
    "        xaxis=dict(\n",
    "            showgrid=False,\n",
    "            zeroline=False,\n",
    "            showticklabels=False,\n",
    "            range=[-10, 10]\n",
    "        ),\n",
    "        yaxis=dict(\n",
    "            showgrid=False,\n",
    "            zeroline=False,\n",
    "            showticklabels=False,\n",
    "            range=[-10, 10]\n",
    "        ),\n",
    "        plot_bgcolor='white',\n",
    "        paper_bgcolor='white'\n",
    "    )\n",
    "\n",
    "\n",
    "    # Print statistics\n",
    "    print(f\"Total Themes: {len(G.nodes())}\")\n",
    "    print(f\"Bot Themes: {len(bot_nodes)}\")\n",
    "    print(f\"Non-Bot Themes: {len(nonbot_nodes)}\")\n",
    "    print(f\"Mixed Themes: {len(mixed_nodes)}\")\n",
    "\n",
    "\n",
    "    # Show the figure\n",
    "    fig.show()\n",
    "\n",
    "\n",
    "\n",
    "\n",
    "# Load the JSON files\n",
    "data_label_0 = load_json_file('label_0.json')  # Bot data\n",
    "data_label_1 = load_json_file('label_1.json')  # Non-bot data\n",
    "\n",
    "\n",
    "# Create the network\n",
    "high_confidence_network = create_theme_network(data_label_0, data_label_1, min_confidence=90)\n",
    "\n",
    "\n",
    "# Visualize the network\n",
    "visualize_network(high_confidence_network)"
   ]
  },
  {
   "cell_type": "code",
   "execution_count": 24,
   "metadata": {},
   "outputs": [
    {
     "name": "stdout",
     "output_type": "stream",
     "text": [
      "Total Themes: 214\n",
      "Bot Themes: 112\n",
      "Non-Bot Themes: 90\n",
      "Mixed Themes: 12\n"
     ]
    },
    {
     "data": {
      "application/vnd.plotly.v1+json": {
       "config": {
        "plotlyServerURL": "https://plot.ly"
       },
       "data": [
        {
         "hoverinfo": "text",
         "hovertext": [
          "Theme: Programming<br>Type: Bot<br>Confidence: 90%<br>Centrality: 0.0684<br>Keywords: VHDL, Verilog<br>Sentiment: neutral",
          "Theme: Bitcoin<br>Type: Bot<br>Confidence: 95%<br>Centrality: 0.0684<br>Keywords: bitcoin, Winklevoss, Gemini, NYSE CIO<br>Sentiment: positive",
          "Theme: Coding/Programming<br>Type: Bot<br>Confidence: 95%<br>Centrality: 0.0684<br>Keywords: idmap, Namespace, Metasploit, ExploitDB<br>Sentiment: neutral",
          "Theme: Literary/Artistic Expression<br>Type: Bot<br>Confidence: 90%<br>Centrality: 0.0684<br>Keywords: woods, yearlings, stable centers, fluff, renters, bankroll<br>Sentiment: neutral",
          "Theme: Mathematics/Science<br>Type: Bot<br>Confidence: 95%<br>Centrality: 0.0684<br>Keywords: pow, max, cos, sqt, exp, flr, sgn, cel, abs, cos, pow<br>Sentiment: neutral",
          "Theme: Mathematics<br>Type: Bot<br>Confidence: 90%<br>Centrality: 0.0684<br>Keywords: flr, sqt, sin, abs, min, max<br>Sentiment: neutral",
          "Theme: Obscenity<br>Type: Bot<br>Confidence: 95%<br>Centrality: 0.0684<br>Keywords: fucked, mom<br>Sentiment: negative",
          "Theme: Miscellaneous<br>Type: Bot<br>Confidence: 90%<br>Centrality: 0.0684<br>Keywords: 🤯, 😂<br>Sentiment: neutral",
          "Theme: Anger and Frustration<br>Type: Bot<br>Confidence: 95%<br>Centrality: 0.0684<br>Keywords: BROKE, BASTARD<br>Sentiment: negative",
          "Theme: General Knowledge<br>Type: Bot<br>Confidence: 100%<br>Centrality: 0.0684<br>Keywords: Republic of China, Corporal Punishment, FA Cup<br>Sentiment: neutral",
          "Theme: Sound/Loud Noise<br>Type: Bot<br>Confidence: 95%<br>Centrality: 0.0684<br>Keywords: BONG BONG BONG BONG BONG<br>Sentiment: neutral",
          "Theme: Finance/Technology<br>Type: Bot<br>Confidence: 90%<br>Centrality: 0.0684<br>Keywords: UAE, DLT Startup Ripple<br>Sentiment: neutral",
          "Theme: Lazy Day<br>Type: Bot<br>Confidence: 90%<br>Centrality: 0.0684<br>Keywords: sunny day, lazy<br>Sentiment: neutral",
          "Theme: Storytelling<br>Type: Bot<br>Confidence: 90%<br>Centrality: 0.0684<br>Keywords: story, bitter, anthem<br>Sentiment: neutral",
          "Theme: Geography<br>Type: Bot<br>Confidence: 90%<br>Centrality: 0.0684<br>Keywords: Lawton, Tucson<br>Sentiment: neutral",
          "Theme: Fashion<br>Type: Bot<br>Confidence: 95%<br>Centrality: 0.0684<br>Keywords: Bonnet<br>Sentiment: neutral",
          "Theme: Maternity<br>Type: Bot<br>Confidence: 90%<br>Centrality: 0.0684<br>Keywords: mom, excited<br>Sentiment: positive",
          "Theme: InfoSec<br>Type: Bot<br>Confidence: 95%<br>Centrality: 0.0684<br>Keywords: malvertising, apple pay, infosec<br>Sentiment: negative",
          "Theme: Education<br>Type: Bot<br>Confidence: 95%<br>Centrality: 0.0684<br>Keywords: vectors, calculus, accidentalhaiku<br>Sentiment: neutral",
          "Theme: Gaming<br>Type: Bot<br>Confidence: 100%<br>Centrality: 0.0684<br>Keywords: LA Noire, 45 minutes, live playing<br>Sentiment: neutral",
          "Theme: Language and Culture<br>Type: Bot<br>Confidence: 90%<br>Centrality: 0.0684<br>Keywords: Ghost kanji, Japanese lexicon, \\xe2\\x80\\x98<br>Sentiment: neutral",
          "Theme: Memories and Socialising<br>Type: Bot<br>Confidence: 90%<br>Centrality: 0.0684<br>Keywords: wine, great memories, #winelover<br>Sentiment: positive",
          "Theme: Cryptocurrency Regulation<br>Type: Bot<br>Confidence: 90%<br>Centrality: 0.0684<br>Keywords: shut down, illegal bitcoin miners<br>Sentiment: neutral",
          "Theme: Robotics/Hobbies<br>Type: Bot<br>Confidence: 95%<br>Centrality: 0.0684<br>Keywords: robot collection, wowwee, tribot<br>Sentiment: positive",
          "Theme: Social Identity/Bot Information<br>Type: Bot<br>Confidence: 95%<br>Centrality: 0.0684<br>Keywords: eu sou um bot, automtico<br>Sentiment: neutral",
          "Theme: Health/Sickness<br>Type: Bot<br>Confidence: 95%<br>Centrality: 0.0684<br>Keywords: sickness<br>Sentiment: neutral",
          "Theme: Negative Reaction<br>Type: Bot<br>Confidence: 90%<br>Centrality: 0.0684<br>Keywords: Noooo<br>Sentiment: negative",
          "Theme: Praise and Devotion<br>Type: Bot<br>Confidence: 95%<br>Centrality: 0.0684<br>Keywords: God is good<br>Sentiment: positive",
          "Theme: Audio and Music<br>Type: Bot<br>Confidence: 95%<br>Centrality: 0.0684<br>Keywords: BONG BONG BONG BONG<br>Sentiment: neutral",
          "Theme: Gaming and Entertainment<br>Type: Bot<br>Confidence: 90%<br>Centrality: 0.0684<br>Keywords: Quantum Break, live stream<br>Sentiment: positive",
          "Theme: Community<br>Type: Bot<br>Confidence: 92%<br>Centrality: 0.0684<br>Keywords: reddit users<br>Sentiment: positive",
          "Theme: Creativity<br>Type: Bot<br>Confidence: 93%<br>Centrality: 0.0684<br>Keywords: Flip happy hardliners, yields, sealeds<br>Sentiment: neutral",
          "Theme: Mechanics<br>Type: Bot<br>Confidence: 90%<br>Centrality: 0.0684<br>Keywords: Hard Right Turn, Engine RPM, Uneven<br>Sentiment: neutral",
          "Theme: mathematical expression<br>Type: Bot<br>Confidence: 95%<br>Centrality: 0.0684<br>Keywords: sig(pln(pln, cel(sgn<br>Sentiment: neutral",
          "Theme: lyrics<br>Type: Bot<br>Confidence: 90%<br>Centrality: 0.0684<br>Keywords: EVERY GIRL CRAZY BOUT A SHARP DRESSED MAN<br>Sentiment: neutral",
          "Theme: politics and history<br>Type: Bot<br>Confidence: 95%<br>Centrality: 0.0684<br>Keywords: Voalavo antsahabensis, Member of Parliament<br>Sentiment: neutral",
          "Theme: poetry and art<br>Type: Bot<br>Confidence: 90%<br>Centrality: 0.0684<br>Keywords: \\xf0\\x9f\\x8f\\x94: take some time to look at the sky please<br>Sentiment: positive",
          "Theme: humor and satire<br>Type: Bot<br>Confidence: 95%<br>Centrality: 0.0684<br>Keywords: P-Phoenix\\xc7\\x83\\xc7\\x83 Are you a lawyer or a school child?<br>Sentiment: positive",
          "Theme: Life<br>Type: Bot<br>Confidence: 90%<br>Centrality: 0.0684<br>Keywords: read, stay out late, bar<br>Sentiment: neutral",
          "Theme: Motivation<br>Type: Bot<br>Confidence: 90%<br>Centrality: 0.0684<br>Keywords: poss\\xc3\\xa9vel, imposs\\xc3\\xadvel<br>Sentiment: positive",
          "Theme: Personal Advice<br>Type: Bot<br>Confidence: 90%<br>Centrality: 0.0684<br>Keywords: be nice, act like yourself, self improvement<br>Sentiment: positive",
          "Theme: Productivity<br>Type: Bot<br>Confidence: 95%<br>Centrality: 0.0684<br>Keywords: get back to work, productivity, time management<br>Sentiment: neutral",
          "Theme: Food and Wine<br>Type: Bot<br>Confidence: 90%<br>Centrality: 0.0684<br>Keywords: wine, food, lunch<br>Sentiment: positive",
          "Theme: Social Awareness<br>Type: Bot<br>Confidence: 90%<br>Centrality: 0.0684<br>Keywords: SandyAid, SandyVolunteer, NewJersey<br>Sentiment: positive",
          "Theme: Entertainment News<br>Type: Bot<br>Confidence: 95%<br>Centrality: 0.0684<br>Keywords: 100 Metros, Netflix Instant<br>Sentiment: neutral",
          "Theme: Faith and Motivation<br>Type: Bot<br>Confidence: 92%<br>Centrality: 0.0684<br>Keywords: God, obstacle, enemies, powerful<br>Sentiment: positive",
          "Theme: Geographic Information<br>Type: Bot<br>Confidence: 95%<br>Centrality: 0.0684<br>Keywords: population, Sweden, world rank<br>Sentiment: neutral",
          "Theme: Science<br>Type: Bot<br>Confidence: 95%<br>Centrality: 0.0684<br>Keywords: origami, robotic metamorphosis, polypeptide enzymes<br>Sentiment: neutral",
          "Theme: Security<br>Type: Bot<br>Confidence: 92%<br>Centrality: 0.0684<br>Keywords: libarchive, security update<br>Sentiment: neutral",
          "Theme: Mental Health and Wellness<br>Type: Bot<br>Confidence: 90%<br>Centrality: 0.0684<br>Keywords: breath calmly, kind to yourself<br>Sentiment: positive",
          "Theme: Daily Life/Emotions<br>Type: Bot<br>Confidence: 90%<br>Centrality: 0.0684<br>Keywords: so boring, still be alive<br>Sentiment: positive",
          "Theme: Inspirational Quote<br>Type: Bot<br>Confidence: 95%<br>Centrality: 0.0684<br>Keywords: Dreams, easier<br>Sentiment: positive",
          "Theme: Music/Inspiration<br>Type: Bot<br>Confidence: 95%<br>Centrality: 0.0684<br>Keywords: Stories, talking me through<br>Sentiment: positive",
          "Theme: Philosophy<br>Type: Bot<br>Confidence: 90%<br>Centrality: 0.0684<br>Keywords: consciousness of engagement<br>Sentiment: neutral",
          "Theme: Quote<br>Type: Bot<br>Confidence: 90%<br>Centrality: 0.0684<br>Keywords: What lies behind us, O. W. Holmes<br>Sentiment: positive",
          "Theme: Abstract Questions<br>Type: Bot<br>Confidence: 90%<br>Centrality: 0.0684<br>Keywords: moth, insect, butterfly<br>Sentiment: neutral",
          "Theme: Computer Systems<br>Type: Bot<br>Confidence: 90%<br>Centrality: 0.0684<br>Keywords: WINDOWS SEVEN IT WAS MY IDEA BITCHES<br>Sentiment: negative",
          "Theme: Romance<br>Type: Bot<br>Confidence: 90%<br>Centrality: 0.0684<br>Keywords: Eu te amo, Eu te perd\\xc3\\xb4o<br>Sentiment: positive",
          "Theme: Health<br>Type: Bot<br>Confidence: 95%<br>Centrality: 0.0684<br>Keywords: \\xf0\\x9f\\x8f\\x94: please let your eyes rest! take care of urself!<br>Sentiment: positive",
          "Theme: Cryptocurrency<br>Type: Bot<br>Confidence: 90%<br>Centrality: 0.0684<br>Keywords: Cryptocurrency Keys, Bank of America Patent<br>Sentiment: neutral",
          "Theme: Arduino<br>Type: Bot<br>Confidence: 95%<br>Centrality: 0.0684<br>Keywords: Arduino no longer open-source<br>Sentiment: negative",
          "Theme: Condolence/Obituary<br>Type: Bot<br>Confidence: 95%<br>Centrality: 0.0684<br>Keywords: RIP Stan Musial, best Cardinal<br>Sentiment: positive",
          "Theme: Celebration/Relief<br>Type: Bot<br>Confidence: 90%<br>Centrality: 0.0684<br>Keywords: Thanks god, done it<br>Sentiment: positive",
          "Theme: Personal Aspiration/Education<br>Type: Bot<br>Confidence: 95%<br>Centrality: 0.0684<br>Keywords: #TRUMP2016, GET MY POLITICAL SCIENCE DEGREE<br>Sentiment: positive",
          "Theme: Social Interaction/Correction<br>Type: Bot<br>Confidence: 90%<br>Centrality: 0.0684<br>Keywords: It\\'s spelt \"Caesar\"<br>Sentiment: neutral",
          "Theme: Technology or Programming<br>Type: Bot<br>Confidence: 90%<br>Centrality: 0.0684<br>Keywords: Rust, Threat Intelligence, DarkReading<br>Sentiment: neutral",
          "Theme: Relationship<br>Type: Bot<br>Confidence: 90%<br>Centrality: 0.0684<br>Keywords: no man is an island, woman is his home<br>Sentiment: positive",
          "Theme: Excitement<br>Type: Bot<br>Confidence: 95%<br>Centrality: 0.0684<br>Keywords: i am excited<br>Sentiment: positive",
          "Theme: Breakup<br>Type: Bot<br>Confidence: 95%<br>Centrality: 0.0684<br>Keywords: breakups, moving<br>Sentiment: negative",
          "Theme: Music and Dance<br>Type: Bot<br>Confidence: 90%<br>Centrality: 0.0684<br>Keywords: Doo-dah, doo-dah<br>Sentiment: positive",
          "Theme: Science Fiction and Fantasy<br>Type: Bot<br>Confidence: 95%<br>Centrality: 0.0684<br>Keywords: discovered a planet, runty sea, beaches<br>Sentiment: positive",
          "Theme: Mental Health/Emotional Distress<br>Type: Bot<br>Confidence: 90%<br>Centrality: 0.0684<br>Keywords: I CANT GO ON<br>Sentiment: negative",
          "Theme: Data Breach/Security<br>Type: Bot<br>Confidence: 95%<br>Centrality: 0.0684<br>Keywords: 500 Million Marriott Guest Records, Data Breach, #TheHackerNews<br>Sentiment: negative",
          "Theme: Linux/Technology<br>Type: Bot<br>Confidence: 95%<br>Centrality: 0.0684<br>Keywords: Fedora 27, icecast, #Nessus<br>Sentiment: neutral",
          "Theme: Business/Economy<br>Type: Bot<br>Confidence: 90%<br>Centrality: 0.0684<br>Keywords: Taking Tesla Private<br>Sentiment: neutral",
          "Theme: Security/Vulnerabilities<br>Type: Bot<br>Confidence: 95%<br>Centrality: 0.0684<br>Keywords: Experts found flaws in Dell EMC and #VMware, Patch them now! #SecurityAffairs<br>Sentiment: negative",
          "Theme: humor<br>Type: Bot<br>Confidence: 95%<br>Centrality: 0.0684<br>Keywords: hilarious interview, /\\n, #accidentalhaiku<br>Sentiment: positive",
          "Theme: science fiction<br>Type: Bot<br>Confidence: 90%<br>Centrality: 0.0684<br>Keywords: 42, The Hitchhiker's Guide to the Galaxy<br>Sentiment: neutral",
          "Theme: Movies/Entertainment<br>Type: Bot<br>Confidence: 90%<br>Centrality: 0.0684<br>Keywords: Cage, Paramedic, Pakistan<br>Sentiment: neutral",
          "Theme: News<br>Type: Bot<br>Confidence: 95%<br>Centrality: 0.0684<br>Keywords: Delta Air, EU Court<br>Sentiment: neutral",
          "Theme: Personal<br>Type: Bot<br>Confidence: 90%<br>Centrality: 0.0684<br>Keywords: Laptop, Bagpuss<br>Sentiment: positive",
          "Theme: Object<br>Type: Bot<br>Confidence: 95%<br>Centrality: 0.0684<br>Keywords: Snuffbox<br>Sentiment: neutral",
          "Theme: Expression of Frustration<br>Type: Bot<br>Confidence: 90%<br>Centrality: 0.0684<br>Keywords: already know, just us<br>Sentiment: negative",
          "Theme: Mathematical Expression<br>Type: Bot<br>Confidence: 95%<br>Centrality: 0.0684<br>Keywords: cos, pow, max, dst<br>Sentiment: neutral",
          "Theme: Survival<br>Type: Bot<br>Confidence: 90%<br>Centrality: 0.0684<br>Keywords: poaching rings, tuna cans<br>Sentiment: neutral",
          "Theme: Business<br>Type: Bot<br>Confidence: 90%<br>Centrality: 0.0684<br>Keywords: Sberbank, Third-Quarter, Profit<br>Sentiment: neutral",
          "Theme: Greeting<br>Type: Bot<br>Confidence: 90%<br>Centrality: 0.0684<br>Keywords: howdy, sheriff<br>Sentiment: positive",
          "Theme: Dyslexia Awareness<br>Type: Bot<br>Confidence: 95%<br>Centrality: 0.0684<br>Keywords: dyslexia, treatment, future<br>Sentiment: positive",
          "Theme: Ode to Technology<br>Type: Bot<br>Confidence: 90%<br>Centrality: 0.0684<br>Keywords: robot, poetry, Chinese<br>Sentiment: negative",
          "Theme: Movies<br>Type: Bot<br>Confidence: 90%<br>Centrality: 0.0684<br>Keywords: Nicolas Cage, Louisiana congressman, home invasion<br>Sentiment: neutral",
          "Theme: Instruction/Guide<br>Type: Bot<br>Confidence: 90%<br>Centrality: 0.0684<br>Keywords: use, keys<br>Sentiment: neutral",
          "Theme: Shopping<br>Type: Bot<br>Confidence: 95%<br>Centrality: 0.0684<br>Keywords: glass coolers, http<br>Sentiment: neutral",
          "Theme: Crypto Scandal<br>Type: Bot<br>Confidence: 95%<br>Centrality: 0.0684<br>Keywords: BTC, BCH, misleading<br>Sentiment: negative",
          "Theme: Emotional Expression<br>Type: Bot<br>Confidence: 95%<br>Centrality: 0.0684<br>Keywords: BONG BONG BONG<br>Sentiment: neutral",
          "Theme: Location Criticism<br>Type: Bot<br>Confidence: 90%<br>Centrality: 0.0684<br>Keywords: BUSHWICK, COLONIST<br>Sentiment: negative",
          "Theme: Bitcoin News<br>Type: Bot<br>Confidence: 95%<br>Centrality: 0.0684<br>Keywords: Bitcoin Bug<br>Sentiment: negative",
          "Theme: Bitcoin Market Analysis<br>Type: Bot<br>Confidence: 95%<br>Centrality: 0.0684<br>Keywords: Bitcoin Plunging<br>Sentiment: negative",
          "Theme: Space Exploration<br>Type: Bot<br>Confidence: 90%<br>Centrality: 0.0684<br>Keywords: discovered a planet, 5 moons<br>Sentiment: positive",
          "Theme: Cybersecurity Competition<br>Type: Bot<br>Confidence: 90%<br>Centrality: 0.0684<br>Keywords: CSAW, Cybersecurity, Competition<br>Sentiment: neutral",
          "Theme: Celebrity Gossip<br>Type: Bot<br>Confidence: 95%<br>Centrality: 0.0684<br>Keywords: Tina Fey<br>Sentiment: positive",
          "Theme: Mathematical Equation<br>Type: Bot<br>Confidence: 98%<br>Centrality: 0.0684<br>Keywords: at2, sqt, pln<br>Sentiment: neutral",
          "Theme: Financial News<br>Type: Bot<br>Confidence: 95%<br>Centrality: 0.0684<br>Keywords: Gas Prices, Fed, BOE<br>Sentiment: negative",
          "Theme: Work Reminder<br>Type: Bot<br>Confidence: 90%<br>Centrality: 0.0684<br>Keywords: Get back to work<br>Sentiment: negative",
          "Theme: Lying<br>Type: Bot<br>Confidence: 90%<br>Centrality: 0.0684<br>Keywords: don't lie, /\\nit, /\\ndon\\xe2\\x80\\x99t lie<br>Sentiment: negative",
          "Theme: Humor or Satire<br>Type: Bot<br>Confidence: 90%<br>Centrality: 0.0684<br>Keywords: RT, face, Eli Manning<br>Sentiment: positive",
          "Theme: Social Media/Communication<br>Type: Bot<br>Confidence: 90%<br>Centrality: 0.0684<br>Keywords: Hey all you Kevins out there, RT @Pringles<br>Sentiment: negative",
          "Theme: Music/Sound<br>Type: Bot<br>Confidence: 95%<br>Centrality: 0.0684<br>Keywords: BONG BONG BONG BONG BONG BONG BONG BONG BONG BONG BONG<br>Sentiment: neutral",
          "Theme: Linux Security<br>Type: Bot<br>Confidence: 95%<br>Centrality: 0.0684<br>Keywords: #CentOS, sssd, CESA-2018:3158<br>Sentiment: neutral",
          "Theme: Noise<br>Type: Bot<br>Confidence: 95%<br>Centrality: 0.0684<br>Keywords: BONG BONG BONG BONG BONG<br>Sentiment: neutral",
          "Theme: Question<br>Type: Bot<br>Confidence: 95%<br>Centrality: 0.0684<br>Keywords: Why is a dirt found in a refrigerator?<br>Sentiment: neutral",
          "Theme: Marketing<br>Type: Bot<br>Confidence: 95%<br>Centrality: 0.0684<br>Keywords: WEATHER REVIEWS, http://t.co/wpJGoK2ozt<br>Sentiment: neutral",
          "Theme: History<br>Type: Bot<br>Confidence: 95%<br>Centrality: 0.0684<br>Keywords: Victoria Cross, Dorsland Trek, Bristol<br>Sentiment: neutral"
         ],
         "marker": {
          "color": "rgb(255,0,0)",
          "line": {
           "color": "rgb(139,0,0)",
           "width": 1
          },
          "size": [
           30,
           30,
           30,
           30,
           30,
           30,
           30,
           30,
           30,
           30,
           30,
           30,
           30,
           30,
           30,
           30,
           30,
           30,
           30,
           30,
           30,
           30,
           30,
           30,
           30,
           30,
           30,
           30,
           30,
           30,
           30,
           30,
           30,
           30,
           30,
           30,
           30,
           30,
           30,
           30,
           30,
           30,
           30,
           30,
           30,
           30,
           30,
           30,
           30,
           30,
           30,
           30,
           30,
           30,
           30,
           30,
           30,
           30,
           30,
           30,
           30,
           30,
           30,
           30,
           30,
           30,
           30,
           30,
           30,
           30,
           30,
           30,
           30,
           30,
           30,
           30,
           30,
           30,
           30,
           30,
           30,
           30,
           30,
           30,
           30,
           30,
           30,
           30,
           30,
           30,
           30,
           30,
           30,
           30,
           30,
           30,
           30,
           30,
           30,
           30,
           30,
           30,
           30,
           30,
           30,
           30,
           30,
           30,
           30,
           30,
           30,
           30
          ]
         },
         "mode": "markers",
         "name": "Bot Themes",
         "type": "scatter",
         "x": [
          -6.575509557816458,
          -6.778830458346583,
          -4.304188038875323,
          -5.014701989414632,
          -5.282291342690278,
          -4.212996844042573,
          -3.901337524001665,
          -5.0228566187286345,
          -5.702256067959845,
          -6.934934334005163,
          -3.2449817047458747,
          -5.193815132905431,
          -5.009281657407322,
          -5.744639997990344,
          -5.144044221553818,
          -4.080504713750839,
          -3.583454479710389,
          -4.919610998913239,
          -4.489361155793571,
          -5.656075899918923,
          -4.560330926714551,
          -5.28711235008569,
          -4.673230389190902,
          -5.49910965424009,
          -5.992231353702666,
          -5.193143496624151,
          -5.862713969187767,
          -5.666914501316702,
          -5.949406020709882,
          -4.415824885552436,
          -5.274934587072702,
          -6.661071494757239,
          -5.794152181147129,
          -5.881653566803924,
          -5.133367537772794,
          -4.450997190756272,
          -5.633511097506218,
          -4.818845273573765,
          -4.731857752817505,
          -4.363311698258309,
          -5.034455024539019,
          -6.659144371100942,
          -4.557374180862527,
          -3.7936997579873823,
          -4.229928658207201,
          -4.582427823095835,
          -3.611151215134363,
          -5.526601802828906,
          -4.439458805367215,
          -5.4102812242374885,
          -5.156380581368383,
          -4.601995310977928,
          -4.806419711900073,
          -3.846767450830319,
          -3.3623486718257833,
          -3.9154163972754548,
          -5.3455221722575885,
          -5.596854204155557,
          -5.56318570964549,
          -6.008452959798973,
          -3.890785846184217,
          -4.670134994468823,
          -4.5671490049867245,
          -5.345387511947262,
          -4.356408908262956,
          -6.000949853893665,
          -4.508325170028998,
          -4.107212028968595,
          -1.6722097614410498,
          -4.832072672609917,
          -5.880746970499244,
          -5.632654046239449,
          -5.200719034828109,
          -5.364728856135378,
          -5.740407248717839,
          -5.994118186610202,
          -4.9056672791650575,
          -4.032475567145947,
          -4.752648051837034,
          -5.7428629672731235,
          -4.8435729679404025,
          -4.241562752840412,
          -4.24396851971226,
          -6.2948684145354585,
          -5.936368126122657,
          -5.257951326053236,
          -6.061194343006285,
          -3.5205055121624893,
          -4.549410863007022,
          -4.0365139383918,
          -3.447755702775189,
          -4.658458757699629,
          -5.638729953001906,
          -4.625928583468962,
          -3.7674898332838116,
          -5.05992143005627,
          -4.658482528374122,
          -6.463712287698044,
          -4.5028264788777,
          -3.612625027312304,
          -5.4775841440913755,
          -4.66980264020022,
          -5.357313434459126,
          -4.545371485265312,
          -5.0814313747739455,
          -6.340010649464524,
          -5.975667984096824,
          -3.665716890480506,
          -3.937429049836363,
          -5.506357116840585,
          -4.288012430695353,
          -3.530729506008796
         ],
         "y": [
          -6.303355166596419,
          -4.0180338119085395,
          -7.100363029915794,
          -3.5148010086740165,
          -6.319729524682594,
          -4.439171898247883,
          -6.078604294316635,
          -7.087049608792289,
          -4.614201595155095,
          -5.872911008812041,
          -4.315508816609376,
          -4.160450499222728,
          -5.1805907873839905,
          -6.092105963633249,
          -5.707890142496683,
          -3.323096556919321,
          -4.032358869805784,
          -4.305469792784668,
          -5.536214977863849,
          -5.857912334883599,
          -5.323407807513224,
          -2.832253744110061,
          -5.51536760419486,
          -4.398534199834253,
          -4.20297868167394,
          -7.0100693705907045,
          -3.8608047457945807,
          -4.505587443470512,
          -4.700386256437459,
          -4.898032978110359,
          -3.985085746108414,
          -4.1412308914323495,
          -4.933381815617356,
          -5.178591723756408,
          -5.27841392536364,
          -6.049546899277063,
          -6.254057831556423,
          -5.5345176357035735,
          -4.602363017803732,
          -5.4266723259858765,
          -5.049353195423136,
          -4.0908278614562645,
          -4.513112637605784,
          -4.310561060028514,
          -4.411131649168557,
          -4.026881693200973,
          -5.792769531302977,
          -5.32069273521257,
          -6.4236214017214,
          -6.39619455429542,
          -6.503024859006712,
          -4.501185074599318,
          -5.337858037142234,
          -4.1683479822898395,
          -3.9034187032222127,
          -5.979347741004417,
          -5.830134193783072,
          -4.469548657849781,
          -5.715239743103355,
          -5.0958926599423755,
          -4.545141313517694,
          -4.84010022278745,
          -4.642088500648533,
          -3.0509918369215656,
          -4.071043351650478,
          -5.348533524980508,
          -3.8322297610901215,
          -6.106879300346659,
          -3.069205037048919,
          -3.9693760186212277,
          -5.890755357738404,
          -3.4778434193790164,
          -5.995930099084736,
          -3.9966446384733407,
          -4.15677006235621,
          -4.2104297960579595,
          -5.217351238955895,
          -4.95534857302912,
          -5.939251150862963,
          -4.7026348465999535,
          -5.471057845333184,
          -3.392323456993976,
          -3.591247947571591,
          -7.302984876322809,
          -4.067488044886088,
          -3.272043863612568,
          -4.141521981005451,
          -5.251774771245795,
          -5.209958406040393,
          -3.747484102825836,
          -5.637456008228907,
          -4.528491321956168,
          -5.370656042466501,
          -7.069553423326161,
          -4.025774630537614,
          -4.139073240189768,
          -4.370164556299137,
          -4.2774895086981015,
          -6.866727103203768,
          -5.592471940762344,
          -6.156810474461342,
          -5.426154482765829,
          -5.148049350628163,
          -5.115762300556764,
          -3.87496216503905,
          -3.4741469670380103,
          -3.5437981031778376,
          -5.356531315334722,
          -2.6211505463491376,
          -4.369684056780032,
          -5.471477439092557,
          -3.9314945908357295
         ]
        },
        {
         "hoverinfo": "text",
         "hovertext": [
          "Theme: Environment and Science<br>Type: Non-Bot<br>Confidence: 95%<br>Centrality: 0.0684<br>Keywords: Sea water, Kwinana bores<br>Sentiment: neutral",
          "Theme: Music and Arts<br>Type: Non-Bot<br>Confidence: 95%<br>Centrality: 0.0684<br>Keywords: FireEscape, @pastemagazine<br>Sentiment: positive",
          "Theme: Social Justice and Equality<br>Type: Non-Bot<br>Confidence: 90%<br>Centrality: 0.0684<br>Keywords: Hate crime, London<br>Sentiment: negative",
          "Theme: Animals and Pets<br>Type: Non-Bot<br>Confidence: 95%<br>Centrality: 0.0684<br>Keywords: god bless dogs<br>Sentiment: positive",
          "Theme: Personal Expression<br>Type: Non-Bot<br>Confidence: 90%<br>Centrality: 0.0684<br>Keywords: amazing, inspirational, resilient<br>Sentiment: positive",
          "Theme: Crime and Justice<br>Type: Non-Bot<br>Confidence: 90%<br>Centrality: 0.0684<br>Keywords: attack, Iris Warner, @metpoliceuk<br>Sentiment: negative",
          "Theme: Social Commentary<br>Type: Non-Bot<br>Confidence: 95%<br>Centrality: 0.0684<br>Keywords: Coldplay, Israel-Palestine peace concert<br>Sentiment: negative",
          "Theme: Philanthropy and Education<br>Type: Non-Bot<br>Confidence: 90%<br>Centrality: 0.0684<br>Keywords: DonorsChoose, Education, Classroom<br>Sentiment: positive",
          "Theme: Reality TV and Celebrity<br>Type: Non-Bot<br>Confidence: 90%<br>Centrality: 0.0684<br>Keywords: KUWTK, Reality TV, Celebrity<br>Sentiment: positive",
          "Theme: Conversation and Clarification<br>Type: Non-Bot<br>Confidence: 95%<br>Centrality: 0.0684<br>Keywords: appearance, another, @LemonSpade<br>Sentiment: neutral",
          "Theme: Encryption and Security<br>Type: Non-Bot<br>Confidence: 90%<br>Centrality: 0.0684<br>Keywords: encryption bill, providers, methods, break<br>Sentiment: negative",
          "Theme: Politics and Current Events<br>Type: Non-Bot<br>Confidence: 90%<br>Centrality: 0.0684<br>Keywords: ye Qaum purani yadoon, haal, ajkal, PPKa jlsa, Comedy show<br>Sentiment: negative",
          "Theme: Community Events<br>Type: Non-Bot<br>Confidence: 90%<br>Centrality: 0.0684<br>Keywords: @dlwp, @eddieizzard, Bexhill, events<br>Sentiment: neutral",
          "Theme: Nuclear Threat<br>Type: Non-Bot<br>Confidence: 90%<br>Centrality: 0.0684<br>Keywords: Nuking, Failsafes, Report<br>Sentiment: negative",
          "Theme: Celebration<br>Type: Non-Bot<br>Confidence: 90%<br>Centrality: 0.0684<br>Keywords: Hindu New Year, Neasden Temple<br>Sentiment: positive",
          "Theme: Politics & Elections<br>Type: Non-Bot<br>Confidence: 100%<br>Centrality: 0.0684<br>Keywords: @Offord4Hendon, Mike Freer, Hendon, Finchley<br>Sentiment: neutral",
          "Theme: Sarcasm/Disapproval<br>Type: Non-Bot<br>Confidence: 99%<br>Centrality: 0.0684<br>Keywords: @arakelian_mary, \"Doesn't make scents\"<br>Sentiment: negative",
          "Theme: Education & Community<br>Type: Non-Bot<br>Confidence: 98%<br>Centrality: 0.0684<br>Keywords: @TrimiziiSyeda, Engineering Student, Lahore Grammar School<br>Sentiment: neutral",
          "Theme: Entertainment & Culture<br>Type: Non-Bot<br>Confidence: 95%<br>Centrality: 0.0684<br>Keywords: Tim Kaine, Harmonica, Wagon Wheel, Asheville<br>Sentiment: positive",
          "Theme: Personal Life & Relationships<br>Type: Non-Bot<br>Confidence: 96%<br>Centrality: 0.0684<br>Keywords: Loony Tweets, Ex-Husband<br>Sentiment: negative",
          "Theme: Technology & Business<br>Type: Non-Bot<br>Confidence: 97%<br>Centrality: 0.0684<br>Keywords: #metaguide, Inbenta Videos<br>Sentiment: neutral",
          "Theme: Sports & Fitness<br>Type: Non-Bot<br>Confidence: 98%<br>Centrality: 0.0684<br>Keywords: Consistency, Quality, Regional Teams<br>Sentiment: positive",
          "Theme: Social Justice & Activism<br>Type: Non-Bot<br>Confidence: 99%<br>Centrality: 0.0684<br>Keywords: @nhannahjones, Fannie Lou Hamer, Medgar Evers<br>Sentiment: negative",
          "Theme: Social Comment/Condemnation<br>Type: Non-Bot<br>Confidence: 90%<br>Centrality: 0.0684<br>Keywords: attack, perpetrators<br>Sentiment: negative",
          "Theme: Love/Relationship<br>Type: Non-Bot<br>Confidence: 95%<br>Centrality: 0.0684<br>Keywords: valentines, judges<br>Sentiment: positive",
          "Theme: Social Cause/Hunger<br>Type: Non-Bot<br>Confidence: 92%<br>Centrality: 0.0684<br>Keywords: hunger, support<br>Sentiment: negative",
          "Theme: Reality TV<br>Type: Non-Bot<br>Confidence: 90%<br>Centrality: 0.0684<br>Keywords: Thank you, Will<br>Sentiment: positive",
          "Theme: Patriotism<br>Type: Non-Bot<br>Confidence: 95%<br>Centrality: 0.0684<br>Keywords: uniform, serve the country, Jai Ho<br>Sentiment: positive",
          "Theme: Canadian Politics<br>Type: Non-Bot<br>Confidence: 90%<br>Centrality: 0.0684<br>Keywords: U.S. security umbrella, client state, cdnpoli, dnd<br>Sentiment: neutral",
          "Theme: Workplace Policies<br>Type: Non-Bot<br>Confidence: 90%<br>Centrality: 0.0684<br>Keywords: punch out, bathroom<br>Sentiment: negative",
          "Theme: Positive News<br>Type: Non-Bot<br>Confidence: 92%<br>Centrality: 0.0684<br>Keywords: congratulations, amazing<br>Sentiment: {}",
          "Theme: Good Luck<br>Type: Non-Bot<br>Confidence: 90%<br>Centrality: 0.0684<br>Keywords: <br>Sentiment: {}",
          "Theme: Pet<br>Type: Non-Bot<br>Confidence: 90%<br>Centrality: 0.0684<br>Keywords: dog, picture<br>Sentiment: neutral",
          "Theme: Gun Control<br>Type: Non-Bot<br>Confidence: 95%<br>Centrality: 0.0684<br>Keywords: Gun Sense<br>Sentiment: positive",
          "Theme: Conference<br>Type: Non-Bot<br>Confidence: 90%<br>Centrality: 0.0684<br>Keywords: <br>Sentiment: {}",
          "Theme: Bike Infrastructure<br>Type: Non-Bot<br>Confidence: 95%<br>Centrality: 0.0684<br>Keywords: North-South Cycle Superhighway, CS6, Elephant & Castle, Kings Cross<br>Sentiment: neutral",
          "Theme: Pop Culture<br>Type: Non-Bot<br>Confidence: 95%<br>Centrality: 0.0684<br>Keywords: Malcolm in the Middle<br>Sentiment: neutral",
          "Theme: News and Politics<br>Type: Non-Bot<br>Confidence: 95%<br>Centrality: 0.0684<br>Keywords: CTVNews, House of Commons<br>Sentiment: {}",
          "Theme: Support for Social Cause<br>Type: Non-Bot<br>Confidence: 90%<br>Centrality: 0.0684<br>Keywords: One Tough Mother, cancer survivor, gun control<br>Sentiment: positive",
          "Theme: Literary/Awards<br>Type: Non-Bot<br>Confidence: 90%<br>Centrality: 0.0684<br>Keywords: ForwardPrizes, Danez_Smif<br>Sentiment: positive",
          "Theme: Junk Food Ban<br>Type: Non-Bot<br>Confidence: 100%<br>Centrality: 0.0684<br>Keywords: junk food ad ban, child obesity<br>Sentiment: neutral",
          "Theme: Taxation<br>Type: Non-Bot<br>Confidence: 90%<br>Centrality: 0.0684<br>Keywords: Small Business Owner, New Mexico Tax Authorities, #wackytaxwednesday<br>Sentiment: positive",
          "Theme: Book Review<br>Type: Non-Bot<br>Confidence: 95%<br>Centrality: 0.0684<br>Keywords: The Perfect Girl, page turner, characters, suspense, @GillyMacmillan<br>Sentiment: positive",
          "Theme: Art<br>Type: Non-Bot<br>Confidence: 95%<br>Centrality: 0.0684<br>Keywords: drawing, pet, art<br>Sentiment: neutral",
          "Theme: IT Security<br>Type: Non-Bot<br>Confidence: 98%<br>Centrality: 0.0684<br>Keywords: IT security, vulnerability, cybersecurity<br>Sentiment: negative",
          "Theme: Diversity<br>Type: Non-Bot<br>Confidence: 96%<br>Centrality: 0.0684<br>Keywords: diversity, celebration, tolerance<br>Sentiment: positive",
          "Theme: Biography and Writing<br>Type: Non-Bot<br>Confidence: 90%<br>Centrality: 0.0684<br>Keywords: biography, Leary, Garcia, Bill Graham<br>Sentiment: neutral",
          "Theme: Support for Kashmir<br>Type: Non-Bot<br>Confidence: 95%<br>Centrality: 0.0684<br>Keywords: Kashmir, Kashmiri brethren, Pakistan<br>Sentiment: positive",
          "Theme: Criticism of Chris Melberger<br>Type: Non-Bot<br>Confidence: 90%<br>Centrality: 0.0684<br>Keywords: @chrismelberger, you have a TV<br>Sentiment: negative",
          "Theme: News Report<br>Type: Non-Bot<br>Confidence: 95%<br>Centrality: 0.0684<br>Keywords: #Alexandriashooting, President Trump, shooter has died<br>Sentiment: negative",
          "Theme: Punjab Politics<br>Type: Non-Bot<br>Confidence: 90%<br>Centrality: 0.0684<br>Keywords: opp parties, PMLN, bye- elections, LG elec<br>Sentiment: negative",
          "Theme: Reaction<br>Type: Non-Bot<br>Confidence: 90%<br>Centrality: 0.0684<br>Keywords: Heartbreaking, embarassing<br>Sentiment: negative",
          "Theme: Weather<br>Type: Non-Bot<br>Confidence: 95%<br>Centrality: 0.0684<br>Keywords: Foggy, Boston<br>Sentiment: neutral",
          "Theme: Career Development<br>Type: Non-Bot<br>Confidence: 90%<br>Centrality: 0.0684<br>Keywords: leverage, tomorrow, career<br>Sentiment: positive",
          "Theme: Miley Cyrus at the Grammys<br>Type: Non-Bot<br>Confidence: 90%<br>Centrality: 0.0684<br>Keywords: Grammys, Miley Cyrus<br>Sentiment: positive",
          "Theme: Food Choice<br>Type: Non-Bot<br>Confidence: 90%<br>Centrality: 0.0684<br>Keywords: crunchy, creamy, peanut butter<br>Sentiment: neutral",
          "Theme: Politics/Elections<br>Type: Non-Bot<br>Confidence: 90%<br>Centrality: 0.0684<br>Keywords: Noorani, free and fair election<br>Sentiment: neutral",
          "Theme: Politics/Current Events<br>Type: Non-Bot<br>Confidence: 95%<br>Centrality: 0.0684<br>Keywords: @CityLab, reports<br>Sentiment: negative",
          "Theme: Politics/Government<br>Type: Non-Bot<br>Confidence: 95%<br>Centrality: 0.0684<br>Keywords: young people, midterm elections<br>Sentiment: negative",
          "Theme: Motherhood<br>Type: Non-Bot<br>Confidence: 98%<br>Centrality: 0.0684<br>Keywords: #BeingMom, @BeingHumanJewel<br>Sentiment: positive",
          "Theme: Travel<br>Type: Non-Bot<br>Confidence: 95%<br>Centrality: 0.0684<br>Keywords: Natural Bridge Wax Museum, Basement<br>Sentiment: positive",
          "Theme: Humor and Satire<br>Type: Non-Bot<br>Confidence: 90%<br>Centrality: 0.0684<br>Keywords: Look at this beautiful child, Chad<br>Sentiment: neutral",
          "Theme: Social Media Deception<br>Type: Non-Bot<br>Confidence: 90%<br>Centrality: 0.0684<br>Keywords: LIES, Fake, Favstar_Bot, petemandik<br>Sentiment: negative",
          "Theme: Northern Pakistan<br>Type: Non-Bot<br>Confidence: 95%<br>Centrality: 0.0684<br>Keywords: northernareas, northernareasofpakistan, kpk, sawat, kalam, pakistan, PakistanBeauty, RiverSawat<br>Sentiment: neutral",
          "Theme: Violence Against Women<br>Type: Non-Bot<br>Confidence: 95%<br>Centrality: 0.0684<br>Keywords: International Day, Elimination of Violence Against Women, prevention, perpetrator, bring, change, movement, empower, equality<br>Sentiment: positive",
          "Theme: Awareness/Education<br>Type: Non-Bot<br>Confidence: 90%<br>Centrality: 0.0684<br>Keywords: vulnerable, look out<br>Sentiment: positive",
          "Theme: Information/Sharing<br>Type: Non-Bot<br>Confidence: 95%<br>Centrality: 0.0684<br>Keywords: Republic Day, serve the country, Jai Ho<br>Sentiment: neutral",
          "Theme: Criticism/Complaint<br>Type: Non-Bot<br>Confidence: 95%<br>Centrality: 0.0684<br>Keywords: mega projects, infrastructure stability<br>Sentiment: negative",
          "Theme: Product Review<br>Type: Non-Bot<br>Confidence: 90%<br>Centrality: 0.0684<br>Keywords: Clarizen, project management<br>Sentiment: positive",
          "Theme: Comedy and Entertainment<br>Type: Non-Bot<br>Confidence: 90%<br>Centrality: 0.0684<br>Keywords: Happy 85th birthday, comedy<br>Sentiment: positive",
          "Theme: Appreciation and Gratitude<br>Type: Non-Bot<br>Confidence: 90%<br>Centrality: 0.0684<br>Keywords: thank you<br>Sentiment: positive",
          "Theme: Birthday Wishes<br>Type: Non-Bot<br>Confidence: 95%<br>Centrality: 0.0684<br>Keywords: birthday, friend, beautiful, smart, hilarious<br>Sentiment: positive",
          "Theme: Positive Review<br>Type: Non-Bot<br>Confidence: 90%<br>Centrality: 0.0684<br>Keywords: seaworld, good<br>Sentiment: positive",
          "Theme: Motivational Quote<br>Type: Non-Bot<br>Confidence: 95%<br>Centrality: 0.0684<br>Keywords: let your life be a shining example<br>Sentiment: positive",
          "Theme: Political Campaign<br>Type: Non-Bot<br>Confidence: 90%<br>Centrality: 0.0684<br>Keywords: celebrating, gunsensecan<br>Sentiment: positive",
          "Theme: Get-Out-The-Vote Effort<br>Type: Non-Bot<br>Confidence: 95%<br>Centrality: 0.0684<br>Keywords: gotv, hard work<br>Sentiment: positive",
          "Theme: Customer Service Issue<br>Type: Non-Bot<br>Confidence: 95%<br>Centrality: 0.0684<br>Keywords: delayed, inflexibility<br>Sentiment: negative",
          "Theme: Music Event<br>Type: Non-Bot<br>Confidence: 90%<br>Centrality: 0.0684<br>Keywords: Grammys, Kendrick Lamar, DAMN<br>Sentiment: neutral",
          "Theme: Social Movement<br>Type: Non-Bot<br>Confidence: 95%<br>Centrality: 0.0684<br>Keywords: FireTheFool, April Fool's Day<br>Sentiment: neutral",
          "Theme: Brexit<br>Type: Non-Bot<br>Confidence: 90%<br>Centrality: 0.0684<br>Keywords: EU, leave, decisions<br>Sentiment: neutral",
          "Theme: Emergency Response<br>Type: Non-Bot<br>Confidence: 90%<br>Centrality: 0.0684<br>Keywords: fire, UNC campus<br>Sentiment: neutral",
          "Theme: Charity<br>Type: Non-Bot<br>Confidence: 90%<br>Centrality: 0.0684<br>Keywords: #CopthornePrep, #27marathons27days, @sportrelief<br>Sentiment: positive",
          "Theme: Celebrity and Current Events<br>Type: Non-Bot<br>Confidence: 90%<br>Centrality: 0.0684<br>Keywords: #CincoDeMayo, #7News, @cdelcampon7<br>Sentiment: neutral",
          "Theme: Charity and Donations<br>Type: Non-Bot<br>Confidence: 100%<br>Centrality: 0.0684<br>Keywords: donation, UNICEF, #WAKEUPCALL<br>Sentiment: positive",
          "Theme: Self-Assurance<br>Type: Non-Bot<br>Confidence: 90%<br>Centrality: 0.0684<br>Keywords: fine, #whatgoesup<br>Sentiment: neutral",
          "Theme: Phone and Communication<br>Type: Non-Bot<br>Confidence: 95%<br>Centrality: 0.0684<br>Keywords: blocked numbers, blocked<br>Sentiment: neutral",
          "Theme: Event and Development<br>Type: Non-Bot<br>Confidence: 100%<br>Centrality: 0.0684<br>Keywords: Swat Motorway, development, tourism<br>Sentiment: neutral",
          "Theme: Harassment and Safety<br>Type: Non-Bot<br>Confidence: 95%<br>Centrality: 0.0684<br>Keywords: blocked and reported, @muffinista<br>Sentiment: negative",
          "Theme: Politics and Conflict<br>Type: Non-Bot<br>Confidence: 100%<br>Centrality: 0.0684<br>Keywords: PTI lawyer, critically wounded, Punjab police<br>Sentiment: negative",
          "Theme: Social Event and Celebration<br>Type: Non-Bot<br>Confidence: 90%<br>Centrality: 0.0684<br>Keywords: RootsPicnic, #RootsPicnic, pic 2018<br>Sentiment: neutral"
         ],
         "marker": {
          "color": "rgb(0,255,0)",
          "line": {
           "color": "rgb(0,100,0)",
           "width": 1
          },
          "size": [
           30,
           30,
           30,
           30,
           30,
           30,
           30,
           30,
           30,
           30,
           30,
           30,
           30,
           30,
           30,
           30,
           30,
           30,
           30,
           30,
           30,
           30,
           30,
           30,
           30,
           30,
           30,
           30,
           30,
           30,
           30,
           30,
           30,
           30,
           30,
           30,
           30,
           30,
           30,
           30,
           30,
           30,
           30,
           30,
           30,
           30,
           30,
           30,
           30,
           30,
           30,
           30,
           30,
           30,
           30,
           30,
           30,
           30,
           30,
           30,
           30,
           30,
           30,
           30,
           30,
           30,
           30,
           30,
           30,
           30,
           30,
           30,
           30,
           30,
           30,
           30,
           30,
           30,
           30,
           30,
           30,
           30,
           30,
           30,
           30,
           30,
           30,
           30,
           30,
           30
          ]
         },
         "mode": "markers",
         "name": "Non-Bot Themes",
         "type": "scatter",
         "x": [
          6.775757090029284,
          4.480819522868422,
          7.719340577338944,
          6.510094468265166,
          4.741595756211488,
          7.889072986099845,
          5.733732206974646,
          6.643231105827331,
          3.6073341164059864,
          5.114155205640168,
          4.924774559591827,
          5.390585549366542,
          3.939003540488714,
          4.656839821535858,
          4.102030657654528,
          4.537000640601126,
          4.3944468888686075,
          4.98761864359432,
          5.931334138073571,
          4.513724971172259,
          4.805886216053748,
          4.728663877824928,
          6.762292372404828,
          5.72814065196742,
          4.7514553196152685,
          3.9371798606721873,
          6.846083425067866,
          4.495311712632844,
          4.460652177996128,
          4.130276802591787,
          4.343486588884383,
          5.7011678076935945,
          5.400663932073522,
          3.6476384775681314,
          4.227355214404757,
          3.965091603844836,
          4.373311044337579,
          5.0068801446407525,
          8.051763154312304,
          6.622936066743967,
          6.646282753372168,
          5.152954933171684,
          4.167725772128352,
          6.180251916282488,
          5.253859708451375,
          4.849487409875058,
          4.532243131704808,
          2.9344128021989704,
          5.151131681299844,
          3.266799534363815,
          3.905359331234382,
          5.3490860809440735,
          4.7012983539247415,
          4.99845613523341,
          4.923504156668151,
          7.566337186501696,
          5.640506258320874,
          6.960253762198936,
          5.049423612569656,
          5.246898915074805,
          3.9580926918072454,
          7.217012246938472,
          4.8359308441538085,
          4.3774254384718585,
          6.098689097447427,
          3.5216516844946275,
          5.060466928192815,
          5.270981189246579,
          4.649899838992256,
          5.147539784288478,
          5.49894692744625,
          5.448463309211244,
          6.303717707467845,
          5.407407484301199,
          7.816272440745136,
          4.6172572020810305,
          4.7466786689743286,
          4.121844176433129,
          7.592417545303671,
          6.232614556974694,
          6.722961620695523,
          4.25281610569759,
          5.505967203888615,
          5.17588619671188,
          4.726321025862527,
          4.060312100646184,
          5.946533957038325,
          6.7645536570555365,
          6.93243983209496,
          4.778984554835681
         ],
         "y": [
          4.09258339719171,
          4.1175315057996364,
          4.495811244323367,
          3.7659243306156824,
          5.938239204326357,
          4.1208304943248155,
          3.875549089926369,
          5.488172870460677,
          5.038774566877363,
          6.053935513157734,
          6.161812277545594,
          5.7670721526893765,
          4.018055805421162,
          5.013304765771051,
          4.93336405193012,
          4.033307274886762,
          3.9716110180492423,
          4.316280007913311,
          4.160535258273105,
          7.079027887296691,
          6.0220303644946265,
          3.3256468232763527,
          5.56439336909575,
          4.845737818997935,
          5.236504314176754,
          5.890654833175824,
          4.763321006282728,
          4.164225941666418,
          4.165206944685091,
          4.836211345111645,
          2.970821045898896,
          5.967668607373748,
          4.615010711243449,
          6.013886445841604,
          3.8110267380554688,
          5.480562775080359,
          4.375419354979057,
          5.889431360863405,
          6.0204755926379585,
          5.7436137164267915,
          3.8709142748474386,
          4.585341014521581,
          5.690094360956761,
          4.6831761563206085,
          4.8223937405782005,
          5.601214772446439,
          5.161373537895709,
          5.32510716948599,
          6.267616305276011,
          5.532355067567483,
          5.968194443725713,
          5.430684494956542,
          3.1905618010453445,
          4.503144436234973,
          5.175723225650618,
          4.901962117598263,
          6.29318142047377,
          2.2876622919852836,
          6.807772353960402,
          4.648132889790252,
          6.065060974830111,
          5.445202318653045,
          3.8290687908870074,
          5.12647366177788,
          4.763554095825673,
          5.01972110248297,
          4.413407717671063,
          3.7096633108317567,
          3.039678180668224,
          4.219634688034716,
          3.652479707753661,
          3.913676534939365,
          4.586603561903146,
          3.764826153221673,
          6.015655998721591,
          5.623472351694582,
          4.0655770155256326,
          6.106421432964827,
          4.486580670789921,
          4.089160809898695,
          3.9375763561235564,
          5.436115266567793,
          4.18057805704805,
          3.214540196039983,
          4.959612349273838,
          5.170661868413457,
          6.147268245413009,
          6.184540816194595,
          4.652048781427092,
          5.373141143640695
         ]
        },
        {
         "hoverinfo": "text",
         "hovertext": [
          "Theme: Technology<br>Type: Mixed<br>Confidence: 100%<br>Centrality: 0.0684<br>Keywords: Microsoft, Chromium, Edge<br>Sentiment: negative",
          "Theme: Entertainment<br>Type: Mixed<br>Confidence: 99%<br>Centrality: 0.0684<br>Keywords: wine, shoes, LindaVino, Winelover<br>Sentiment: positive",
          "Theme: Social Media<br>Type: Mixed<br>Confidence: 90%<br>Centrality: 0.0684<br>Keywords: RT, hashtag, volunteer<br>Sentiment: neutral",
          "Theme: Humor<br>Type: Mixed<br>Confidence: 90%<br>Centrality: 0.0684<br>Keywords: DUKE NUKEM FOREVER, BONG BONG BONG BONG BONG BONG, doo-dah<br>Sentiment: positive",
          "Theme: Politics<br>Type: Mixed<br>Confidence: 90%<br>Centrality: 0.0684<br>Keywords: GET BACK TO WORK, BONG BONG<br>Sentiment: negative",
          "Theme: Sports<br>Type: Mixed<br>Confidence: 90%<br>Centrality: 0.0684<br>Keywords: Rose Bowl<br>Sentiment: neutral",
          "Theme: Music<br>Type: Mixed<br>Confidence: 95%<br>Centrality: 0.0684<br>Keywords: Alicia Keys, Rapture<br>Sentiment: neutral",
          "Theme: Encouragement<br>Type: Mixed<br>Confidence: 95%<br>Centrality: 0.0684<br>Keywords: ask for help, cheering<br>Sentiment: {}",
          "Theme: Celebrity<br>Type: Mixed<br>Confidence: 90%<br>Centrality: 0.0684<br>Keywords: slay<br>Sentiment: positive",
          "Theme: Finance<br>Type: Mixed<br>Confidence: 90%<br>Centrality: 0.0684<br>Keywords: Bitcoin, Price, Rally, Resistance<br>Sentiment: neutral",
          "Theme: Criticism<br>Type: Mixed<br>Confidence: 90%<br>Centrality: 0.0684<br>Keywords: clueless, professional, lunchlady<br>Sentiment: negative",
          "Theme: Event<br>Type: Mixed<br>Confidence: 90%<br>Centrality: 0.0684<br>Keywords: Wine, Greece<br>Sentiment: positive"
         ],
         "marker": {
          "color": "rgb(128,0,128)",
          "line": {
           "color": "rgb(75,0,130)",
           "width": 1
          },
          "size": [
           30,
           30,
           30,
           30,
           30,
           30,
           30,
           30,
           30,
           30,
           30,
           30
          ]
         },
         "mode": "markers",
         "name": "Mixed Themes",
         "type": "scatter",
         "x": [
          0.5028173198610537,
          -0.22373100225843545,
          0.7755282399083632,
          -1.4541855427135364,
          0.5906722981434019,
          1.1298213041066203,
          0.8911900624165345,
          0.06484992639067971,
          0.25845720633957,
          -0.10916820272072945,
          2.208794809742872,
          0.965210743174582
         ],
         "y": [
          1.5733526776841356,
          -0.12603560115583476,
          0.03288108520246638,
          0.9554941752994224,
          -0.20355264206037066,
          0.3587404913252452,
          -1.9971850693082047,
          0.8254046221192151,
          0.2652394689383286,
          0.47211468579938737,
          -0.16322582299795854,
          -0.6761107125408222
         ]
        }
       ],
       "layout": {
        "height": 800,
        "hovermode": "closest",
        "margin": {
         "b": 20,
         "l": 20,
         "r": 20,
         "t": 60
        },
        "paper_bgcolor": "white",
        "plot_bgcolor": "white",
        "showlegend": true,
        "template": {
         "data": {
          "bar": [
           {
            "error_x": {
             "color": "#2a3f5f"
            },
            "error_y": {
             "color": "#2a3f5f"
            },
            "marker": {
             "line": {
              "color": "#E5ECF6",
              "width": 0.5
             },
             "pattern": {
              "fillmode": "overlay",
              "size": 10,
              "solidity": 0.2
             }
            },
            "type": "bar"
           }
          ],
          "barpolar": [
           {
            "marker": {
             "line": {
              "color": "#E5ECF6",
              "width": 0.5
             },
             "pattern": {
              "fillmode": "overlay",
              "size": 10,
              "solidity": 0.2
             }
            },
            "type": "barpolar"
           }
          ],
          "carpet": [
           {
            "aaxis": {
             "endlinecolor": "#2a3f5f",
             "gridcolor": "white",
             "linecolor": "white",
             "minorgridcolor": "white",
             "startlinecolor": "#2a3f5f"
            },
            "baxis": {
             "endlinecolor": "#2a3f5f",
             "gridcolor": "white",
             "linecolor": "white",
             "minorgridcolor": "white",
             "startlinecolor": "#2a3f5f"
            },
            "type": "carpet"
           }
          ],
          "choropleth": [
           {
            "colorbar": {
             "outlinewidth": 0,
             "ticks": ""
            },
            "type": "choropleth"
           }
          ],
          "contour": [
           {
            "colorbar": {
             "outlinewidth": 0,
             "ticks": ""
            },
            "colorscale": [
             [
              0,
              "#0d0887"
             ],
             [
              0.1111111111111111,
              "#46039f"
             ],
             [
              0.2222222222222222,
              "#7201a8"
             ],
             [
              0.3333333333333333,
              "#9c179e"
             ],
             [
              0.4444444444444444,
              "#bd3786"
             ],
             [
              0.5555555555555556,
              "#d8576b"
             ],
             [
              0.6666666666666666,
              "#ed7953"
             ],
             [
              0.7777777777777778,
              "#fb9f3a"
             ],
             [
              0.8888888888888888,
              "#fdca26"
             ],
             [
              1,
              "#f0f921"
             ]
            ],
            "type": "contour"
           }
          ],
          "contourcarpet": [
           {
            "colorbar": {
             "outlinewidth": 0,
             "ticks": ""
            },
            "type": "contourcarpet"
           }
          ],
          "heatmap": [
           {
            "colorbar": {
             "outlinewidth": 0,
             "ticks": ""
            },
            "colorscale": [
             [
              0,
              "#0d0887"
             ],
             [
              0.1111111111111111,
              "#46039f"
             ],
             [
              0.2222222222222222,
              "#7201a8"
             ],
             [
              0.3333333333333333,
              "#9c179e"
             ],
             [
              0.4444444444444444,
              "#bd3786"
             ],
             [
              0.5555555555555556,
              "#d8576b"
             ],
             [
              0.6666666666666666,
              "#ed7953"
             ],
             [
              0.7777777777777778,
              "#fb9f3a"
             ],
             [
              0.8888888888888888,
              "#fdca26"
             ],
             [
              1,
              "#f0f921"
             ]
            ],
            "type": "heatmap"
           }
          ],
          "heatmapgl": [
           {
            "colorbar": {
             "outlinewidth": 0,
             "ticks": ""
            },
            "colorscale": [
             [
              0,
              "#0d0887"
             ],
             [
              0.1111111111111111,
              "#46039f"
             ],
             [
              0.2222222222222222,
              "#7201a8"
             ],
             [
              0.3333333333333333,
              "#9c179e"
             ],
             [
              0.4444444444444444,
              "#bd3786"
             ],
             [
              0.5555555555555556,
              "#d8576b"
             ],
             [
              0.6666666666666666,
              "#ed7953"
             ],
             [
              0.7777777777777778,
              "#fb9f3a"
             ],
             [
              0.8888888888888888,
              "#fdca26"
             ],
             [
              1,
              "#f0f921"
             ]
            ],
            "type": "heatmapgl"
           }
          ],
          "histogram": [
           {
            "marker": {
             "pattern": {
              "fillmode": "overlay",
              "size": 10,
              "solidity": 0.2
             }
            },
            "type": "histogram"
           }
          ],
          "histogram2d": [
           {
            "colorbar": {
             "outlinewidth": 0,
             "ticks": ""
            },
            "colorscale": [
             [
              0,
              "#0d0887"
             ],
             [
              0.1111111111111111,
              "#46039f"
             ],
             [
              0.2222222222222222,
              "#7201a8"
             ],
             [
              0.3333333333333333,
              "#9c179e"
             ],
             [
              0.4444444444444444,
              "#bd3786"
             ],
             [
              0.5555555555555556,
              "#d8576b"
             ],
             [
              0.6666666666666666,
              "#ed7953"
             ],
             [
              0.7777777777777778,
              "#fb9f3a"
             ],
             [
              0.8888888888888888,
              "#fdca26"
             ],
             [
              1,
              "#f0f921"
             ]
            ],
            "type": "histogram2d"
           }
          ],
          "histogram2dcontour": [
           {
            "colorbar": {
             "outlinewidth": 0,
             "ticks": ""
            },
            "colorscale": [
             [
              0,
              "#0d0887"
             ],
             [
              0.1111111111111111,
              "#46039f"
             ],
             [
              0.2222222222222222,
              "#7201a8"
             ],
             [
              0.3333333333333333,
              "#9c179e"
             ],
             [
              0.4444444444444444,
              "#bd3786"
             ],
             [
              0.5555555555555556,
              "#d8576b"
             ],
             [
              0.6666666666666666,
              "#ed7953"
             ],
             [
              0.7777777777777778,
              "#fb9f3a"
             ],
             [
              0.8888888888888888,
              "#fdca26"
             ],
             [
              1,
              "#f0f921"
             ]
            ],
            "type": "histogram2dcontour"
           }
          ],
          "mesh3d": [
           {
            "colorbar": {
             "outlinewidth": 0,
             "ticks": ""
            },
            "type": "mesh3d"
           }
          ],
          "parcoords": [
           {
            "line": {
             "colorbar": {
              "outlinewidth": 0,
              "ticks": ""
             }
            },
            "type": "parcoords"
           }
          ],
          "pie": [
           {
            "automargin": true,
            "type": "pie"
           }
          ],
          "scatter": [
           {
            "fillpattern": {
             "fillmode": "overlay",
             "size": 10,
             "solidity": 0.2
            },
            "type": "scatter"
           }
          ],
          "scatter3d": [
           {
            "line": {
             "colorbar": {
              "outlinewidth": 0,
              "ticks": ""
             }
            },
            "marker": {
             "colorbar": {
              "outlinewidth": 0,
              "ticks": ""
             }
            },
            "type": "scatter3d"
           }
          ],
          "scattercarpet": [
           {
            "marker": {
             "colorbar": {
              "outlinewidth": 0,
              "ticks": ""
             }
            },
            "type": "scattercarpet"
           }
          ],
          "scattergeo": [
           {
            "marker": {
             "colorbar": {
              "outlinewidth": 0,
              "ticks": ""
             }
            },
            "type": "scattergeo"
           }
          ],
          "scattergl": [
           {
            "marker": {
             "colorbar": {
              "outlinewidth": 0,
              "ticks": ""
             }
            },
            "type": "scattergl"
           }
          ],
          "scattermapbox": [
           {
            "marker": {
             "colorbar": {
              "outlinewidth": 0,
              "ticks": ""
             }
            },
            "type": "scattermapbox"
           }
          ],
          "scatterpolar": [
           {
            "marker": {
             "colorbar": {
              "outlinewidth": 0,
              "ticks": ""
             }
            },
            "type": "scatterpolar"
           }
          ],
          "scatterpolargl": [
           {
            "marker": {
             "colorbar": {
              "outlinewidth": 0,
              "ticks": ""
             }
            },
            "type": "scatterpolargl"
           }
          ],
          "scatterternary": [
           {
            "marker": {
             "colorbar": {
              "outlinewidth": 0,
              "ticks": ""
             }
            },
            "type": "scatterternary"
           }
          ],
          "surface": [
           {
            "colorbar": {
             "outlinewidth": 0,
             "ticks": ""
            },
            "colorscale": [
             [
              0,
              "#0d0887"
             ],
             [
              0.1111111111111111,
              "#46039f"
             ],
             [
              0.2222222222222222,
              "#7201a8"
             ],
             [
              0.3333333333333333,
              "#9c179e"
             ],
             [
              0.4444444444444444,
              "#bd3786"
             ],
             [
              0.5555555555555556,
              "#d8576b"
             ],
             [
              0.6666666666666666,
              "#ed7953"
             ],
             [
              0.7777777777777778,
              "#fb9f3a"
             ],
             [
              0.8888888888888888,
              "#fdca26"
             ],
             [
              1,
              "#f0f921"
             ]
            ],
            "type": "surface"
           }
          ],
          "table": [
           {
            "cells": {
             "fill": {
              "color": "#EBF0F8"
             },
             "line": {
              "color": "white"
             }
            },
            "header": {
             "fill": {
              "color": "#C8D4E3"
             },
             "line": {
              "color": "white"
             }
            },
            "type": "table"
           }
          ]
         },
         "layout": {
          "annotationdefaults": {
           "arrowcolor": "#2a3f5f",
           "arrowhead": 0,
           "arrowwidth": 1
          },
          "autotypenumbers": "strict",
          "coloraxis": {
           "colorbar": {
            "outlinewidth": 0,
            "ticks": ""
           }
          },
          "colorscale": {
           "diverging": [
            [
             0,
             "#8e0152"
            ],
            [
             0.1,
             "#c51b7d"
            ],
            [
             0.2,
             "#de77ae"
            ],
            [
             0.3,
             "#f1b6da"
            ],
            [
             0.4,
             "#fde0ef"
            ],
            [
             0.5,
             "#f7f7f7"
            ],
            [
             0.6,
             "#e6f5d0"
            ],
            [
             0.7,
             "#b8e186"
            ],
            [
             0.8,
             "#7fbc41"
            ],
            [
             0.9,
             "#4d9221"
            ],
            [
             1,
             "#276419"
            ]
           ],
           "sequential": [
            [
             0,
             "#0d0887"
            ],
            [
             0.1111111111111111,
             "#46039f"
            ],
            [
             0.2222222222222222,
             "#7201a8"
            ],
            [
             0.3333333333333333,
             "#9c179e"
            ],
            [
             0.4444444444444444,
             "#bd3786"
            ],
            [
             0.5555555555555556,
             "#d8576b"
            ],
            [
             0.6666666666666666,
             "#ed7953"
            ],
            [
             0.7777777777777778,
             "#fb9f3a"
            ],
            [
             0.8888888888888888,
             "#fdca26"
            ],
            [
             1,
             "#f0f921"
            ]
           ],
           "sequentialminus": [
            [
             0,
             "#0d0887"
            ],
            [
             0.1111111111111111,
             "#46039f"
            ],
            [
             0.2222222222222222,
             "#7201a8"
            ],
            [
             0.3333333333333333,
             "#9c179e"
            ],
            [
             0.4444444444444444,
             "#bd3786"
            ],
            [
             0.5555555555555556,
             "#d8576b"
            ],
            [
             0.6666666666666666,
             "#ed7953"
            ],
            [
             0.7777777777777778,
             "#fb9f3a"
            ],
            [
             0.8888888888888888,
             "#fdca26"
            ],
            [
             1,
             "#f0f921"
            ]
           ]
          },
          "colorway": [
           "#636efa",
           "#EF553B",
           "#00cc96",
           "#ab63fa",
           "#FFA15A",
           "#19d3f3",
           "#FF6692",
           "#B6E880",
           "#FF97FF",
           "#FECB52"
          ],
          "font": {
           "color": "#2a3f5f"
          },
          "geo": {
           "bgcolor": "white",
           "lakecolor": "white",
           "landcolor": "#E5ECF6",
           "showlakes": true,
           "showland": true,
           "subunitcolor": "white"
          },
          "hoverlabel": {
           "align": "left"
          },
          "hovermode": "closest",
          "mapbox": {
           "style": "light"
          },
          "paper_bgcolor": "white",
          "plot_bgcolor": "#E5ECF6",
          "polar": {
           "angularaxis": {
            "gridcolor": "white",
            "linecolor": "white",
            "ticks": ""
           },
           "bgcolor": "#E5ECF6",
           "radialaxis": {
            "gridcolor": "white",
            "linecolor": "white",
            "ticks": ""
           }
          },
          "scene": {
           "xaxis": {
            "backgroundcolor": "#E5ECF6",
            "gridcolor": "white",
            "gridwidth": 2,
            "linecolor": "white",
            "showbackground": true,
            "ticks": "",
            "zerolinecolor": "white"
           },
           "yaxis": {
            "backgroundcolor": "#E5ECF6",
            "gridcolor": "white",
            "gridwidth": 2,
            "linecolor": "white",
            "showbackground": true,
            "ticks": "",
            "zerolinecolor": "white"
           },
           "zaxis": {
            "backgroundcolor": "#E5ECF6",
            "gridcolor": "white",
            "gridwidth": 2,
            "linecolor": "white",
            "showbackground": true,
            "ticks": "",
            "zerolinecolor": "white"
           }
          },
          "shapedefaults": {
           "line": {
            "color": "#2a3f5f"
           }
          },
          "ternary": {
           "aaxis": {
            "gridcolor": "white",
            "linecolor": "white",
            "ticks": ""
           },
           "baxis": {
            "gridcolor": "white",
            "linecolor": "white",
            "ticks": ""
           },
           "bgcolor": "#E5ECF6",
           "caxis": {
            "gridcolor": "white",
            "linecolor": "white",
            "ticks": ""
           }
          },
          "title": {
           "x": 0.05
          },
          "xaxis": {
           "automargin": true,
           "gridcolor": "white",
           "linecolor": "white",
           "ticks": "",
           "title": {
            "standoff": 15
           },
           "zerolinecolor": "white",
           "zerolinewidth": 2
          },
          "yaxis": {
           "automargin": true,
           "gridcolor": "white",
           "linecolor": "white",
           "ticks": "",
           "title": {
            "standoff": 15
           },
           "zerolinecolor": "white",
           "zerolinewidth": 2
          }
         }
        },
        "title": {
         "text": "Theme Network Visualization (90%+ Confidence)"
        },
        "width": 1000,
        "xaxis": {
         "range": [
          -10,
          10
         ],
         "showgrid": false,
         "showticklabels": false,
         "zeroline": false
        },
        "yaxis": {
         "range": [
          -10,
          10
         ],
         "showgrid": false,
         "showticklabels": false,
         "zeroline": false
        }
       }
      }
     },
     "metadata": {},
     "output_type": "display_data"
    }
   ],
   "source": [
    "import json\n",
    "import networkx as nx\n",
    "import plotly.graph_objects as go\n",
    "import numpy as np\n",
    "\n",
    "\n",
    "def load_json_file(file_path):\n",
    "    \"\"\"Load JSON file safely.\"\"\"\n",
    "    try:\n",
    "        with open(file_path, 'r', encoding='utf-8') as file:\n",
    "            return json.load(file)\n",
    "    except Exception as e:\n",
    "        print(f\"Error loading JSON file {file_path}: {e}\")\n",
    "        return []\n",
    "\n",
    "\n",
    "def create_theme_network(data_bot, data_nonbot, min_confidence=90):\n",
    "    \"\"\"Create a network graph from themes with a minimum confidence level.\"\"\"\n",
    "    G = nx.Graph()\n",
    "\n",
    "\n",
    "    def process_data(data, is_bot=True):\n",
    "        for item in data:\n",
    "            response = item.get('response')\n",
    "            if isinstance(response, str):\n",
    "                try:\n",
    "                    response_data = json.loads(response)\n",
    "                    themes = response_data.get('themes', [])\n",
    "                    \n",
    "                    for theme in themes:\n",
    "                        confidence = theme.get('confidence', 0)\n",
    "                        if confidence >= min_confidence:\n",
    "                            theme_name = theme['name']\n",
    "                            keywords = theme.get('keywords', [])\n",
    "                            sentiment = theme.get('sentiment', {})\n",
    "\n",
    "\n",
    "                            # Add or update theme node\n",
    "                            if not G.has_node(theme_name):\n",
    "                                G.add_node(theme_name,\n",
    "                                           type='theme',\n",
    "                                           is_bot=is_bot,\n",
    "                                           confidence=confidence,\n",
    "                                           keywords=keywords,\n",
    "                                           sentiment=sentiment)\n",
    "                            else:\n",
    "                                # If node exists and bot status is different, mark as mixed\n",
    "                                current_bot_status = G.nodes[theme_name].get('is_bot')\n",
    "                                if current_bot_status != is_bot:\n",
    "                                    G.nodes[theme_name]['is_bot'] = 'mixed'\n",
    "\n",
    "\n",
    "                except json.JSONDecodeError:\n",
    "                    print(f\"Invalid JSON in response: {response}\")\n",
    "\n",
    "\n",
    "    # Process bot and non-bot data\n",
    "    process_data(data_bot, is_bot=True)\n",
    "    process_data(data_nonbot, is_bot=False)\n",
    "\n",
    "\n",
    "    return G\n",
    "\n",
    "\n",
    "def visualize_network(G):\n",
    "    \"\"\"Visualize bot, non-bot, and mixed themes in clustered regions.\"\"\"\n",
    "    # Calculate centrality\n",
    "    try:\n",
    "        centrality = nx.eigenvector_centrality(G)\n",
    "    except nx.PowerIterationFailedConvergence:\n",
    "        # Fallback to degree centrality if eigenvector centrality fails\n",
    "        centrality = nx.degree_centrality(G)\n",
    "\n",
    "\n",
    "    # Normalize centrality for sizing\n",
    "    max_centrality = max(centrality.values()) if centrality else 1\n",
    "    normalized_centrality = {node: (cent / max_centrality * 30) for node, cent in centrality.items()}\n",
    "\n",
    "\n",
    "    # Separate nodes by bot status\n",
    "    bot_nodes = [node for node, data in G.nodes(data=True) if data.get('is_bot') == True]\n",
    "    nonbot_nodes = [node for node, data in G.nodes(data=True) if data.get('is_bot') == False]\n",
    "    mixed_nodes = [node for node, data in G.nodes(data=True) if data.get('is_bot') == 'mixed']\n",
    "\n",
    "\n",
    "    # Create traces for each category\n",
    "    traces = []\n",
    "\n",
    "\n",
    "    # Bot nodes - clustered in bottom left\n",
    "    if bot_nodes:\n",
    "        bot_x = np.random.normal(loc=-5, scale=1, size=len(bot_nodes))\n",
    "        bot_y = np.random.normal(loc=-5, scale=1, size=len(bot_nodes))\n",
    "        bot_trace = go.Scatter(\n",
    "            x=bot_x,\n",
    "            y=bot_y,\n",
    "            mode='markers',\n",
    "            hovertext=[\n",
    "                f\"Theme: {node}<br>\"\n",
    "                f\"Type: Bot<br>\"\n",
    "                f\"Confidence: {G.nodes[node]['confidence']}%<br>\"\n",
    "                f\"Centrality: {centrality.get(node, 0):.4f}<br>\"\n",
    "                f\"Keywords: {', '.join(G.nodes[node].get('keywords', []))}<br>\"\n",
    "                f\"Sentiment: {G.nodes[node].get('sentiment', 'N/A')}\"\n",
    "                for node in bot_nodes\n",
    "            ],\n",
    "            hoverinfo='text',\n",
    "            marker=dict(\n",
    "                size=[normalized_centrality.get(node, 5) for node in bot_nodes],\n",
    "                color='rgb(255,0,0)',  # Red\n",
    "                line=dict(width=1, color='rgb(139,0,0)')  # Dark red\n",
    "            ),\n",
    "            name='Bot Themes'\n",
    "        )\n",
    "        traces.append(bot_trace)\n",
    "\n",
    "\n",
    "    # Non-bot nodes - clustered in top right\n",
    "    if nonbot_nodes:\n",
    "        nonbot_x = np.random.normal(loc=5, scale=1, size=len(nonbot_nodes))\n",
    "        nonbot_y = np.random.normal(loc=5, scale=1, size=len(nonbot_nodes))\n",
    "        nonbot_trace = go.Scatter(\n",
    "            x=nonbot_x,\n",
    "            y=nonbot_y,\n",
    "            mode='markers',\n",
    "            hovertext=[\n",
    "                f\"Theme: {node}<br>\"\n",
    "                f\"Type: Non-Bot<br>\"\n",
    "                f\"Confidence: {G.nodes[node]['confidence']}%<br>\"\n",
    "                f\"Centrality: {centrality.get(node, 0):.4f}<br>\"\n",
    "                f\"Keywords: {', '.join(G.nodes[node].get('keywords', []))}<br>\"\n",
    "                f\"Sentiment: {G.nodes[node].get('sentiment', 'N/A')}\"\n",
    "                for node in nonbot_nodes\n",
    "            ],\n",
    "            hoverinfo='text',\n",
    "            marker=dict(\n",
    "                size=[normalized_centrality.get(node, 5) for node in nonbot_nodes],\n",
    "                color='rgb(0,255,0)',  # Green\n",
    "                line=dict(width=1, color='rgb(0,100,0)')  # Dark green\n",
    "            ),\n",
    "            name='Non-Bot Themes'\n",
    "        )\n",
    "        traces.append(nonbot_trace)\n",
    "\n",
    "\n",
    "    # Mixed nodes - clustered in center\n",
    "    if mixed_nodes:\n",
    "        mixed_x = np.random.normal(loc=0, scale=1, size=len(mixed_nodes))\n",
    "        mixed_y = np.random.normal(loc=0, scale=1, size=len(mixed_nodes))\n",
    "        mixed_trace = go.Scatter(\n",
    "            x=mixed_x,\n",
    "            y=mixed_y,\n",
    "            mode='markers',\n",
    "            hovertext=[\n",
    "                f\"Theme: {node}<br>\"\n",
    "                f\"Type: Mixed<br>\"\n",
    "                f\"Confidence: {G.nodes[node]['confidence']}%<br>\"\n",
    "                f\"Centrality: {centrality.get(node, 0):.4f}<br>\"\n",
    "                f\"Keywords: {', '.join(G.nodes[node].get('keywords', []))}<br>\"\n",
    "                f\"Sentiment: {G.nodes[node].get('sentiment', 'N/A')}\"\n",
    "                for node in mixed_nodes\n",
    "            ],\n",
    "            hoverinfo='text',\n",
    "            marker=dict(\n",
    "                size=[normalized_centrality.get(node, 5) for node in mixed_nodes],\n",
    "                color='rgb(128,0,128)',  # Purple\n",
    "                line=dict(width=1, color='rgb(75,0,130)')  # Indigo\n",
    "            ),\n",
    "            name='Mixed Themes'\n",
    "        )\n",
    "        traces.append(mixed_trace)\n",
    "\n",
    "\n",
    "    # Create figure\n",
    "    fig = go.Figure(data=traces)\n",
    "\n",
    "\n",
    "    # Update layout for better visualization\n",
    "    fig.update_layout(\n",
    "        title=\"Theme Network Visualization (90%+ Confidence)\",\n",
    "        showlegend=True,\n",
    "        hovermode='closest',\n",
    "        width=1000,\n",
    "        height=800,\n",
    "        margin=dict(b=20, l=20, r=20, t=60),\n",
    "        xaxis=dict(\n",
    "            showgrid=False,\n",
    "            zeroline=False,\n",
    "            showticklabels=False,\n",
    "            range=[-10, 10]\n",
    "        ),\n",
    "        yaxis=dict(\n",
    "            showgrid=False,\n",
    "            zeroline=False,\n",
    "            showticklabels=False,\n",
    "            range=[-10, 10]\n",
    "        ),\n",
    "        plot_bgcolor='white',\n",
    "        paper_bgcolor='white'\n",
    "    )\n",
    "\n",
    "\n",
    "    # Print statistics\n",
    "    print(f\"Total Themes: {len(G.nodes())}\")\n",
    "    print(f\"Bot Themes: {len(bot_nodes)}\")\n",
    "    print(f\"Non-Bot Themes: {len(nonbot_nodes)}\")\n",
    "    print(f\"Mixed Themes: {len(mixed_nodes)}\")\n",
    "\n",
    "\n",
    "    # Show the figure\n",
    "    fig.show()\n",
    "\n",
    "\n",
    "# Load the JSON files\n",
    "data_label_0 = load_json_file('label_0.json')  # Bot data\n",
    "data_label_1 = load_json_file('label_1.json')  # Non-bot data\n",
    "\n",
    "\n",
    "# Create the network\n",
    "high_confidence_network = create_theme_network(data_label_0, data_label_1, min_confidence=90)\n",
    "\n",
    "\n",
    "# Visualize the network\n",
    "visualize_network(high_confidence_network)"
   ]
  },
  {
   "cell_type": "code",
   "execution_count": 28,
   "metadata": {},
   "outputs": [
    {
     "name": "stdout",
     "output_type": "stream",
     "text": [
      "Total Themes: 214\n",
      "Bot Themes: 112\n",
      "Non-Bot Themes: 90\n",
      "Mixed Themes: 12\n"
     ]
    },
    {
     "data": {
      "application/vnd.plotly.v1+json": {
       "config": {
        "plotlyServerURL": "https://plot.ly"
       },
       "data": [
        {
         "hoverinfo": "text",
         "hovertext": [
          "Theme: Programming<br>Type: Bot<br>Confidence: 90%<br>Centrality: 0.0684<br>Keywords: VHDL, Verilog<br>Sentiment: neutral",
          "Theme: Bitcoin<br>Type: Bot<br>Confidence: 95%<br>Centrality: 0.0684<br>Keywords: bitcoin, Winklevoss, Gemini, NYSE CIO<br>Sentiment: positive",
          "Theme: Coding/Programming<br>Type: Bot<br>Confidence: 95%<br>Centrality: 0.0684<br>Keywords: idmap, Namespace, Metasploit, ExploitDB<br>Sentiment: neutral",
          "Theme: Literary/Artistic Expression<br>Type: Bot<br>Confidence: 90%<br>Centrality: 0.0684<br>Keywords: woods, yearlings, stable centers, fluff, renters, bankroll<br>Sentiment: neutral",
          "Theme: Mathematics/Science<br>Type: Bot<br>Confidence: 95%<br>Centrality: 0.0684<br>Keywords: pow, max, cos, sqt, exp, flr, sgn, cel, abs, cos, pow<br>Sentiment: neutral",
          "Theme: Mathematics<br>Type: Bot<br>Confidence: 90%<br>Centrality: 0.0684<br>Keywords: flr, sqt, sin, abs, min, max<br>Sentiment: neutral",
          "Theme: Obscenity<br>Type: Bot<br>Confidence: 95%<br>Centrality: 0.0684<br>Keywords: fucked, mom<br>Sentiment: negative",
          "Theme: Miscellaneous<br>Type: Bot<br>Confidence: 90%<br>Centrality: 0.0684<br>Keywords: 🤯, 😂<br>Sentiment: neutral",
          "Theme: Anger and Frustration<br>Type: Bot<br>Confidence: 95%<br>Centrality: 0.0684<br>Keywords: BROKE, BASTARD<br>Sentiment: negative",
          "Theme: General Knowledge<br>Type: Bot<br>Confidence: 100%<br>Centrality: 0.0684<br>Keywords: Republic of China, Corporal Punishment, FA Cup<br>Sentiment: neutral",
          "Theme: Sound/Loud Noise<br>Type: Bot<br>Confidence: 95%<br>Centrality: 0.0684<br>Keywords: BONG BONG BONG BONG BONG<br>Sentiment: neutral",
          "Theme: Finance/Technology<br>Type: Bot<br>Confidence: 90%<br>Centrality: 0.0684<br>Keywords: UAE, DLT Startup Ripple<br>Sentiment: neutral",
          "Theme: Lazy Day<br>Type: Bot<br>Confidence: 90%<br>Centrality: 0.0684<br>Keywords: sunny day, lazy<br>Sentiment: neutral",
          "Theme: Storytelling<br>Type: Bot<br>Confidence: 90%<br>Centrality: 0.0684<br>Keywords: story, bitter, anthem<br>Sentiment: neutral",
          "Theme: Geography<br>Type: Bot<br>Confidence: 90%<br>Centrality: 0.0684<br>Keywords: Lawton, Tucson<br>Sentiment: neutral",
          "Theme: Fashion<br>Type: Bot<br>Confidence: 95%<br>Centrality: 0.0684<br>Keywords: Bonnet<br>Sentiment: neutral",
          "Theme: Maternity<br>Type: Bot<br>Confidence: 90%<br>Centrality: 0.0684<br>Keywords: mom, excited<br>Sentiment: positive",
          "Theme: InfoSec<br>Type: Bot<br>Confidence: 95%<br>Centrality: 0.0684<br>Keywords: malvertising, apple pay, infosec<br>Sentiment: negative",
          "Theme: Education<br>Type: Bot<br>Confidence: 95%<br>Centrality: 0.0684<br>Keywords: vectors, calculus, accidentalhaiku<br>Sentiment: neutral",
          "Theme: Gaming<br>Type: Bot<br>Confidence: 100%<br>Centrality: 0.0684<br>Keywords: LA Noire, 45 minutes, live playing<br>Sentiment: neutral",
          "Theme: Language and Culture<br>Type: Bot<br>Confidence: 90%<br>Centrality: 0.0684<br>Keywords: Ghost kanji, Japanese lexicon, \\xe2\\x80\\x98<br>Sentiment: neutral",
          "Theme: Memories and Socialising<br>Type: Bot<br>Confidence: 90%<br>Centrality: 0.0684<br>Keywords: wine, great memories, #winelover<br>Sentiment: positive",
          "Theme: Cryptocurrency Regulation<br>Type: Bot<br>Confidence: 90%<br>Centrality: 0.0684<br>Keywords: shut down, illegal bitcoin miners<br>Sentiment: neutral",
          "Theme: Robotics/Hobbies<br>Type: Bot<br>Confidence: 95%<br>Centrality: 0.0684<br>Keywords: robot collection, wowwee, tribot<br>Sentiment: positive",
          "Theme: Social Identity/Bot Information<br>Type: Bot<br>Confidence: 95%<br>Centrality: 0.0684<br>Keywords: eu sou um bot, automtico<br>Sentiment: neutral",
          "Theme: Health/Sickness<br>Type: Bot<br>Confidence: 95%<br>Centrality: 0.0684<br>Keywords: sickness<br>Sentiment: neutral",
          "Theme: Negative Reaction<br>Type: Bot<br>Confidence: 90%<br>Centrality: 0.0684<br>Keywords: Noooo<br>Sentiment: negative",
          "Theme: Praise and Devotion<br>Type: Bot<br>Confidence: 95%<br>Centrality: 0.0684<br>Keywords: God is good<br>Sentiment: positive",
          "Theme: Audio and Music<br>Type: Bot<br>Confidence: 95%<br>Centrality: 0.0684<br>Keywords: BONG BONG BONG BONG<br>Sentiment: neutral",
          "Theme: Gaming and Entertainment<br>Type: Bot<br>Confidence: 90%<br>Centrality: 0.0684<br>Keywords: Quantum Break, live stream<br>Sentiment: positive",
          "Theme: Community<br>Type: Bot<br>Confidence: 92%<br>Centrality: 0.0684<br>Keywords: reddit users<br>Sentiment: positive",
          "Theme: Creativity<br>Type: Bot<br>Confidence: 93%<br>Centrality: 0.0684<br>Keywords: Flip happy hardliners, yields, sealeds<br>Sentiment: neutral",
          "Theme: Mechanics<br>Type: Bot<br>Confidence: 90%<br>Centrality: 0.0684<br>Keywords: Hard Right Turn, Engine RPM, Uneven<br>Sentiment: neutral",
          "Theme: mathematical expression<br>Type: Bot<br>Confidence: 95%<br>Centrality: 0.0684<br>Keywords: sig(pln(pln, cel(sgn<br>Sentiment: neutral",
          "Theme: lyrics<br>Type: Bot<br>Confidence: 90%<br>Centrality: 0.0684<br>Keywords: EVERY GIRL CRAZY BOUT A SHARP DRESSED MAN<br>Sentiment: neutral",
          "Theme: politics and history<br>Type: Bot<br>Confidence: 95%<br>Centrality: 0.0684<br>Keywords: Voalavo antsahabensis, Member of Parliament<br>Sentiment: neutral",
          "Theme: poetry and art<br>Type: Bot<br>Confidence: 90%<br>Centrality: 0.0684<br>Keywords: \\xf0\\x9f\\x8f\\x94: take some time to look at the sky please<br>Sentiment: positive",
          "Theme: humor and satire<br>Type: Bot<br>Confidence: 95%<br>Centrality: 0.0684<br>Keywords: P-Phoenix\\xc7\\x83\\xc7\\x83 Are you a lawyer or a school child?<br>Sentiment: positive",
          "Theme: Life<br>Type: Bot<br>Confidence: 90%<br>Centrality: 0.0684<br>Keywords: read, stay out late, bar<br>Sentiment: neutral",
          "Theme: Motivation<br>Type: Bot<br>Confidence: 90%<br>Centrality: 0.0684<br>Keywords: poss\\xc3\\xa9vel, imposs\\xc3\\xadvel<br>Sentiment: positive",
          "Theme: Personal Advice<br>Type: Bot<br>Confidence: 90%<br>Centrality: 0.0684<br>Keywords: be nice, act like yourself, self improvement<br>Sentiment: positive",
          "Theme: Productivity<br>Type: Bot<br>Confidence: 95%<br>Centrality: 0.0684<br>Keywords: get back to work, productivity, time management<br>Sentiment: neutral",
          "Theme: Food and Wine<br>Type: Bot<br>Confidence: 90%<br>Centrality: 0.0684<br>Keywords: wine, food, lunch<br>Sentiment: positive",
          "Theme: Social Awareness<br>Type: Bot<br>Confidence: 90%<br>Centrality: 0.0684<br>Keywords: SandyAid, SandyVolunteer, NewJersey<br>Sentiment: positive",
          "Theme: Entertainment News<br>Type: Bot<br>Confidence: 95%<br>Centrality: 0.0684<br>Keywords: 100 Metros, Netflix Instant<br>Sentiment: neutral",
          "Theme: Faith and Motivation<br>Type: Bot<br>Confidence: 92%<br>Centrality: 0.0684<br>Keywords: God, obstacle, enemies, powerful<br>Sentiment: positive",
          "Theme: Geographic Information<br>Type: Bot<br>Confidence: 95%<br>Centrality: 0.0684<br>Keywords: population, Sweden, world rank<br>Sentiment: neutral",
          "Theme: Science<br>Type: Bot<br>Confidence: 95%<br>Centrality: 0.0684<br>Keywords: origami, robotic metamorphosis, polypeptide enzymes<br>Sentiment: neutral",
          "Theme: Security<br>Type: Bot<br>Confidence: 92%<br>Centrality: 0.0684<br>Keywords: libarchive, security update<br>Sentiment: neutral",
          "Theme: Mental Health and Wellness<br>Type: Bot<br>Confidence: 90%<br>Centrality: 0.0684<br>Keywords: breath calmly, kind to yourself<br>Sentiment: positive",
          "Theme: Daily Life/Emotions<br>Type: Bot<br>Confidence: 90%<br>Centrality: 0.0684<br>Keywords: so boring, still be alive<br>Sentiment: positive",
          "Theme: Inspirational Quote<br>Type: Bot<br>Confidence: 95%<br>Centrality: 0.0684<br>Keywords: Dreams, easier<br>Sentiment: positive",
          "Theme: Music/Inspiration<br>Type: Bot<br>Confidence: 95%<br>Centrality: 0.0684<br>Keywords: Stories, talking me through<br>Sentiment: positive",
          "Theme: Philosophy<br>Type: Bot<br>Confidence: 90%<br>Centrality: 0.0684<br>Keywords: consciousness of engagement<br>Sentiment: neutral",
          "Theme: Quote<br>Type: Bot<br>Confidence: 90%<br>Centrality: 0.0684<br>Keywords: What lies behind us, O. W. Holmes<br>Sentiment: positive",
          "Theme: Abstract Questions<br>Type: Bot<br>Confidence: 90%<br>Centrality: 0.0684<br>Keywords: moth, insect, butterfly<br>Sentiment: neutral",
          "Theme: Computer Systems<br>Type: Bot<br>Confidence: 90%<br>Centrality: 0.0684<br>Keywords: WINDOWS SEVEN IT WAS MY IDEA BITCHES<br>Sentiment: negative",
          "Theme: Romance<br>Type: Bot<br>Confidence: 90%<br>Centrality: 0.0684<br>Keywords: Eu te amo, Eu te perd\\xc3\\xb4o<br>Sentiment: positive",
          "Theme: Health<br>Type: Bot<br>Confidence: 95%<br>Centrality: 0.0684<br>Keywords: \\xf0\\x9f\\x8f\\x94: please let your eyes rest! take care of urself!<br>Sentiment: positive",
          "Theme: Cryptocurrency<br>Type: Bot<br>Confidence: 90%<br>Centrality: 0.0684<br>Keywords: Cryptocurrency Keys, Bank of America Patent<br>Sentiment: neutral",
          "Theme: Arduino<br>Type: Bot<br>Confidence: 95%<br>Centrality: 0.0684<br>Keywords: Arduino no longer open-source<br>Sentiment: negative",
          "Theme: Condolence/Obituary<br>Type: Bot<br>Confidence: 95%<br>Centrality: 0.0684<br>Keywords: RIP Stan Musial, best Cardinal<br>Sentiment: positive",
          "Theme: Celebration/Relief<br>Type: Bot<br>Confidence: 90%<br>Centrality: 0.0684<br>Keywords: Thanks god, done it<br>Sentiment: positive",
          "Theme: Personal Aspiration/Education<br>Type: Bot<br>Confidence: 95%<br>Centrality: 0.0684<br>Keywords: #TRUMP2016, GET MY POLITICAL SCIENCE DEGREE<br>Sentiment: positive",
          "Theme: Social Interaction/Correction<br>Type: Bot<br>Confidence: 90%<br>Centrality: 0.0684<br>Keywords: It\\'s spelt \"Caesar\"<br>Sentiment: neutral",
          "Theme: Technology or Programming<br>Type: Bot<br>Confidence: 90%<br>Centrality: 0.0684<br>Keywords: Rust, Threat Intelligence, DarkReading<br>Sentiment: neutral",
          "Theme: Relationship<br>Type: Bot<br>Confidence: 90%<br>Centrality: 0.0684<br>Keywords: no man is an island, woman is his home<br>Sentiment: positive",
          "Theme: Excitement<br>Type: Bot<br>Confidence: 95%<br>Centrality: 0.0684<br>Keywords: i am excited<br>Sentiment: positive",
          "Theme: Breakup<br>Type: Bot<br>Confidence: 95%<br>Centrality: 0.0684<br>Keywords: breakups, moving<br>Sentiment: negative",
          "Theme: Music and Dance<br>Type: Bot<br>Confidence: 90%<br>Centrality: 0.0684<br>Keywords: Doo-dah, doo-dah<br>Sentiment: positive",
          "Theme: Science Fiction and Fantasy<br>Type: Bot<br>Confidence: 95%<br>Centrality: 0.0684<br>Keywords: discovered a planet, runty sea, beaches<br>Sentiment: positive",
          "Theme: Mental Health/Emotional Distress<br>Type: Bot<br>Confidence: 90%<br>Centrality: 0.0684<br>Keywords: I CANT GO ON<br>Sentiment: negative",
          "Theme: Data Breach/Security<br>Type: Bot<br>Confidence: 95%<br>Centrality: 0.0684<br>Keywords: 500 Million Marriott Guest Records, Data Breach, #TheHackerNews<br>Sentiment: negative",
          "Theme: Linux/Technology<br>Type: Bot<br>Confidence: 95%<br>Centrality: 0.0684<br>Keywords: Fedora 27, icecast, #Nessus<br>Sentiment: neutral",
          "Theme: Business/Economy<br>Type: Bot<br>Confidence: 90%<br>Centrality: 0.0684<br>Keywords: Taking Tesla Private<br>Sentiment: neutral",
          "Theme: Security/Vulnerabilities<br>Type: Bot<br>Confidence: 95%<br>Centrality: 0.0684<br>Keywords: Experts found flaws in Dell EMC and #VMware, Patch them now! #SecurityAffairs<br>Sentiment: negative",
          "Theme: humor<br>Type: Bot<br>Confidence: 95%<br>Centrality: 0.0684<br>Keywords: hilarious interview, /\\n, #accidentalhaiku<br>Sentiment: positive",
          "Theme: science fiction<br>Type: Bot<br>Confidence: 90%<br>Centrality: 0.0684<br>Keywords: 42, The Hitchhiker's Guide to the Galaxy<br>Sentiment: neutral",
          "Theme: Movies/Entertainment<br>Type: Bot<br>Confidence: 90%<br>Centrality: 0.0684<br>Keywords: Cage, Paramedic, Pakistan<br>Sentiment: neutral",
          "Theme: News<br>Type: Bot<br>Confidence: 95%<br>Centrality: 0.0684<br>Keywords: Delta Air, EU Court<br>Sentiment: neutral",
          "Theme: Personal<br>Type: Bot<br>Confidence: 90%<br>Centrality: 0.0684<br>Keywords: Laptop, Bagpuss<br>Sentiment: positive",
          "Theme: Object<br>Type: Bot<br>Confidence: 95%<br>Centrality: 0.0684<br>Keywords: Snuffbox<br>Sentiment: neutral",
          "Theme: Expression of Frustration<br>Type: Bot<br>Confidence: 90%<br>Centrality: 0.0684<br>Keywords: already know, just us<br>Sentiment: negative",
          "Theme: Mathematical Expression<br>Type: Bot<br>Confidence: 95%<br>Centrality: 0.0684<br>Keywords: cos, pow, max, dst<br>Sentiment: neutral",
          "Theme: Survival<br>Type: Bot<br>Confidence: 90%<br>Centrality: 0.0684<br>Keywords: poaching rings, tuna cans<br>Sentiment: neutral",
          "Theme: Business<br>Type: Bot<br>Confidence: 90%<br>Centrality: 0.0684<br>Keywords: Sberbank, Third-Quarter, Profit<br>Sentiment: neutral",
          "Theme: Greeting<br>Type: Bot<br>Confidence: 90%<br>Centrality: 0.0684<br>Keywords: howdy, sheriff<br>Sentiment: positive",
          "Theme: Dyslexia Awareness<br>Type: Bot<br>Confidence: 95%<br>Centrality: 0.0684<br>Keywords: dyslexia, treatment, future<br>Sentiment: positive",
          "Theme: Ode to Technology<br>Type: Bot<br>Confidence: 90%<br>Centrality: 0.0684<br>Keywords: robot, poetry, Chinese<br>Sentiment: negative",
          "Theme: Movies<br>Type: Bot<br>Confidence: 90%<br>Centrality: 0.0684<br>Keywords: Nicolas Cage, Louisiana congressman, home invasion<br>Sentiment: neutral",
          "Theme: Instruction/Guide<br>Type: Bot<br>Confidence: 90%<br>Centrality: 0.0684<br>Keywords: use, keys<br>Sentiment: neutral",
          "Theme: Shopping<br>Type: Bot<br>Confidence: 95%<br>Centrality: 0.0684<br>Keywords: glass coolers, http<br>Sentiment: neutral",
          "Theme: Crypto Scandal<br>Type: Bot<br>Confidence: 95%<br>Centrality: 0.0684<br>Keywords: BTC, BCH, misleading<br>Sentiment: negative",
          "Theme: Emotional Expression<br>Type: Bot<br>Confidence: 95%<br>Centrality: 0.0684<br>Keywords: BONG BONG BONG<br>Sentiment: neutral",
          "Theme: Location Criticism<br>Type: Bot<br>Confidence: 90%<br>Centrality: 0.0684<br>Keywords: BUSHWICK, COLONIST<br>Sentiment: negative",
          "Theme: Bitcoin News<br>Type: Bot<br>Confidence: 95%<br>Centrality: 0.0684<br>Keywords: Bitcoin Bug<br>Sentiment: negative",
          "Theme: Bitcoin Market Analysis<br>Type: Bot<br>Confidence: 95%<br>Centrality: 0.0684<br>Keywords: Bitcoin Plunging<br>Sentiment: negative",
          "Theme: Space Exploration<br>Type: Bot<br>Confidence: 90%<br>Centrality: 0.0684<br>Keywords: discovered a planet, 5 moons<br>Sentiment: positive",
          "Theme: Cybersecurity Competition<br>Type: Bot<br>Confidence: 90%<br>Centrality: 0.0684<br>Keywords: CSAW, Cybersecurity, Competition<br>Sentiment: neutral",
          "Theme: Celebrity Gossip<br>Type: Bot<br>Confidence: 95%<br>Centrality: 0.0684<br>Keywords: Tina Fey<br>Sentiment: positive",
          "Theme: Mathematical Equation<br>Type: Bot<br>Confidence: 98%<br>Centrality: 0.0684<br>Keywords: at2, sqt, pln<br>Sentiment: neutral",
          "Theme: Financial News<br>Type: Bot<br>Confidence: 95%<br>Centrality: 0.0684<br>Keywords: Gas Prices, Fed, BOE<br>Sentiment: negative",
          "Theme: Work Reminder<br>Type: Bot<br>Confidence: 90%<br>Centrality: 0.0684<br>Keywords: Get back to work<br>Sentiment: negative",
          "Theme: Lying<br>Type: Bot<br>Confidence: 90%<br>Centrality: 0.0684<br>Keywords: don't lie, /\\nit, /\\ndon\\xe2\\x80\\x99t lie<br>Sentiment: negative",
          "Theme: Humor or Satire<br>Type: Bot<br>Confidence: 90%<br>Centrality: 0.0684<br>Keywords: RT, face, Eli Manning<br>Sentiment: positive",
          "Theme: Social Media/Communication<br>Type: Bot<br>Confidence: 90%<br>Centrality: 0.0684<br>Keywords: Hey all you Kevins out there, RT @Pringles<br>Sentiment: negative",
          "Theme: Music/Sound<br>Type: Bot<br>Confidence: 95%<br>Centrality: 0.0684<br>Keywords: BONG BONG BONG BONG BONG BONG BONG BONG BONG BONG BONG<br>Sentiment: neutral",
          "Theme: Linux Security<br>Type: Bot<br>Confidence: 95%<br>Centrality: 0.0684<br>Keywords: #CentOS, sssd, CESA-2018:3158<br>Sentiment: neutral",
          "Theme: Noise<br>Type: Bot<br>Confidence: 95%<br>Centrality: 0.0684<br>Keywords: BONG BONG BONG BONG BONG<br>Sentiment: neutral",
          "Theme: Question<br>Type: Bot<br>Confidence: 95%<br>Centrality: 0.0684<br>Keywords: Why is a dirt found in a refrigerator?<br>Sentiment: neutral",
          "Theme: Marketing<br>Type: Bot<br>Confidence: 95%<br>Centrality: 0.0684<br>Keywords: WEATHER REVIEWS, http://t.co/wpJGoK2ozt<br>Sentiment: neutral",
          "Theme: History<br>Type: Bot<br>Confidence: 95%<br>Centrality: 0.0684<br>Keywords: Victoria Cross, Dorsland Trek, Bristol<br>Sentiment: neutral"
         ],
         "marker": {
          "color": "rgb(255,0,0)",
          "line": {
           "color": "rgb(139,0,0)",
           "width": 1
          },
          "size": [
           30,
           30,
           30,
           30,
           30,
           30,
           30,
           30,
           30,
           30,
           30,
           30,
           30,
           30,
           30,
           30,
           30,
           30,
           30,
           30,
           30,
           30,
           30,
           30,
           30,
           30,
           30,
           30,
           30,
           30,
           30,
           30,
           30,
           30,
           30,
           30,
           30,
           30,
           30,
           30,
           30,
           30,
           30,
           30,
           30,
           30,
           30,
           30,
           30,
           30,
           30,
           30,
           30,
           30,
           30,
           30,
           30,
           30,
           30,
           30,
           30,
           30,
           30,
           30,
           30,
           30,
           30,
           30,
           30,
           30,
           30,
           30,
           30,
           30,
           30,
           30,
           30,
           30,
           30,
           30,
           30,
           30,
           30,
           30,
           30,
           30,
           30,
           30,
           30,
           30,
           30,
           30,
           30,
           30,
           30,
           30,
           30,
           30,
           30,
           30,
           30,
           30,
           30,
           30,
           30,
           30,
           30,
           30,
           30,
           30,
           30,
           30
          ]
         },
         "mode": "markers",
         "name": "Bot Themes",
         "type": "scatter",
         "x": [
          -7.338556826984128,
          -9.2554320197566,
          -9.558051309469525,
          -7.7589654093607825,
          -9.221196445763317,
          -12.70407292024874,
          -9.640762856059405,
          -11.381352920137227,
          -8.60163490924136,
          -9.878761377973893,
          -7.90680740954452,
          -10.70452728610209,
          -10.007258660792584,
          -9.78689681520225,
          -9.855219031070142,
          -8.179839178387061,
          -11.010400362780752,
          -12.670898433521016,
          -12.101211872826086,
          -10.372548214961881,
          -13.780224824645641,
          -8.276298587712725,
          -9.860739476340017,
          -9.230573193442462,
          -7.972733923238927,
          -14.095621794755308,
          -7.779545801548174,
          -10.901324551023555,
          -10.77760702746371,
          -9.769866171615046,
          -10.788342886756775,
          -12.920355887308324,
          -9.112062402763687,
          -12.552849898659424,
          -5.483111007741895,
          -12.064781520388198,
          -9.161101653529231,
          -8.299782439282273,
          -10.379007227546749,
          -9.235027915826857,
          -7.368745255312629,
          -9.851753506447055,
          -8.958655544442928,
          -11.144201344250158,
          -6.499586369012486,
          -11.443905490700239,
          -6.206886947213805,
          -10.766637850971856,
          -9.727837118625443,
          -9.586623539511502,
          -9.373265907436144,
          -7.449186214435414,
          -7.498329924458237,
          -7.63549688385107,
          -7.869265204127549,
          -10.767211754226599,
          -4.742490430280615,
          -10.131993726454592,
          -8.81500849124152,
          -9.207512671809857,
          -10.102881223473197,
          -8.47983364350072,
          -6.9271559650207895,
          -9.97010560832476,
          -10.550844126506716,
          -11.010240910810241,
          -12.22317955094248,
          -9.488101514558652,
          -14.140182194811729,
          -11.829640898342811,
          -10.733300569935926,
          -10.122985700137892,
          -10.777664053693332,
          -13.29138993485106,
          -8.327085342440418,
          -7.2449971600107155,
          -12.164106451170493,
          -11.403467197805268,
          -11.25651236401385,
          -11.378986527795263,
          -8.219115962055621,
          -11.615857121086385,
          -7.7574233094099645,
          -11.208617276609228,
          -11.480973039041958,
          -10.802231354587219,
          -8.494599571786765,
          -9.829111879692563,
          -8.68716588640395,
          -8.125237022837315,
          -12.120482858220997,
          -7.299383570857445,
          -9.202734562040428,
          -6.55182088233729,
          -12.707917867646932,
          -11.437589042813947,
          -11.294488895197455,
          -8.492102875805251,
          -9.08644545254866,
          -13.404942041284155,
          -11.251165686682015,
          -12.713542674396265,
          -7.2895043249386955,
          -7.377058293497878,
          -8.341825714507207,
          -14.138026990537455,
          -8.23463359576256,
          -9.46373058321938,
          -10.53021641602476,
          -10.982642036787855,
          -7.955433825445286,
          -8.272539643966628
         ],
         "y": [
          -7.5106333623543335,
          -8.974555705779924,
          -9.318662004139952,
          -9.185203622478603,
          -8.269603897832075,
          -7.3825717117050935,
          -11.465049932231974,
          -11.444024969399228,
          -9.416932929300291,
          -6.561683564135922,
          -8.82591329774155,
          -11.359955006333786,
          -7.616099826925874,
          -10.247002669769122,
          -7.894332969467355,
          -10.217749315614666,
          -11.330582523581654,
          -9.525550351130136,
          -10.973526581775593,
          -9.810382257311835,
          -9.242268778216118,
          -7.752312327732685,
          -14.203718440905028,
          -9.70408101385115,
          -10.209724131226597,
          -11.606897506308183,
          -10.225003103920907,
          -7.749550664576384,
          -10.36012952876691,
          -10.672594779820134,
          -11.496407393837806,
          -11.256414101102727,
          -13.967409733782175,
          -11.366797180700205,
          -9.608447104279403,
          -9.070672695930389,
          -8.626518199126696,
          -11.649281425096651,
          -10.575803588180598,
          -12.721950931675874,
          -14.395242844250902,
          -7.879532545701973,
          -8.20610261185856,
          -8.846325907275066,
          -10.111760712887808,
          -7.3344544046486,
          -10.51903780328574,
          -9.93364783682207,
          -6.670794175399311,
          -8.209979109991682,
          -12.091051038381707,
          -7.480009753909332,
          -9.646877596083693,
          -10.330325596639002,
          -10.831398444217001,
          -9.260984861405188,
          -14.642099215218698,
          -11.648912097810465,
          -11.30004921532598,
          -10.485595230190233,
          -7.764798449514544,
          -11.191466562054279,
          -10.291037267332321,
          -11.772166295637565,
          -11.789838906418279,
          -8.568792291190617,
          -7.691698172036493,
          -11.224228499414343,
          -14.248102725230547,
          -10.122322276928921,
          -10.196290467649957,
          -10.200074856787985,
          -10.40749118093122,
          -10.28168405593062,
          -13.288341636830452,
          -12.352229624460264,
          -7.921615277610139,
          -11.20546831731028,
          -9.587494666702096,
          -6.9178042696136455,
          -10.941719407973826,
          -8.139077087052438,
          -7.638715074358377,
          -9.626584767517288,
          -12.088926638404299,
          -10.474106858722715,
          -9.592866017194233,
          -11.355199832531794,
          -8.093518785813504,
          -10.140762599732192,
          -7.652014146896452,
          -11.564361478142175,
          -10.675284925874372,
          -5.7681034400283515,
          -8.277293952625795,
          -7.923720287625904,
          -7.118783199507601,
          -10.64860729261733,
          -11.796746183586459,
          -10.04754016810862,
          -10.196100113441217,
          -9.814393296346582,
          -8.88307608554635,
          -11.438354566402468,
          -8.986602123001928,
          -13.283524230608146,
          -10.174117447421088,
          -10.137144654527926,
          -9.996883457943108,
          -5.303383724048232,
          -11.761370686662314,
          -8.708576788046981
         ]
        },
        {
         "hoverinfo": "text",
         "hovertext": [
          "Theme: Environment and Science<br>Type: Non-Bot<br>Confidence: 95%<br>Centrality: 0.0684<br>Keywords: Sea water, Kwinana bores<br>Sentiment: neutral",
          "Theme: Music and Arts<br>Type: Non-Bot<br>Confidence: 95%<br>Centrality: 0.0684<br>Keywords: FireEscape, @pastemagazine<br>Sentiment: positive",
          "Theme: Social Justice and Equality<br>Type: Non-Bot<br>Confidence: 90%<br>Centrality: 0.0684<br>Keywords: Hate crime, London<br>Sentiment: negative",
          "Theme: Animals and Pets<br>Type: Non-Bot<br>Confidence: 95%<br>Centrality: 0.0684<br>Keywords: god bless dogs<br>Sentiment: positive",
          "Theme: Personal Expression<br>Type: Non-Bot<br>Confidence: 90%<br>Centrality: 0.0684<br>Keywords: amazing, inspirational, resilient<br>Sentiment: positive",
          "Theme: Crime and Justice<br>Type: Non-Bot<br>Confidence: 90%<br>Centrality: 0.0684<br>Keywords: attack, Iris Warner, @metpoliceuk<br>Sentiment: negative",
          "Theme: Social Commentary<br>Type: Non-Bot<br>Confidence: 95%<br>Centrality: 0.0684<br>Keywords: Coldplay, Israel-Palestine peace concert<br>Sentiment: negative",
          "Theme: Philanthropy and Education<br>Type: Non-Bot<br>Confidence: 90%<br>Centrality: 0.0684<br>Keywords: DonorsChoose, Education, Classroom<br>Sentiment: positive",
          "Theme: Reality TV and Celebrity<br>Type: Non-Bot<br>Confidence: 90%<br>Centrality: 0.0684<br>Keywords: KUWTK, Reality TV, Celebrity<br>Sentiment: positive",
          "Theme: Conversation and Clarification<br>Type: Non-Bot<br>Confidence: 95%<br>Centrality: 0.0684<br>Keywords: appearance, another, @LemonSpade<br>Sentiment: neutral",
          "Theme: Encryption and Security<br>Type: Non-Bot<br>Confidence: 90%<br>Centrality: 0.0684<br>Keywords: encryption bill, providers, methods, break<br>Sentiment: negative",
          "Theme: Politics and Current Events<br>Type: Non-Bot<br>Confidence: 90%<br>Centrality: 0.0684<br>Keywords: ye Qaum purani yadoon, haal, ajkal, PPKa jlsa, Comedy show<br>Sentiment: negative",
          "Theme: Community Events<br>Type: Non-Bot<br>Confidence: 90%<br>Centrality: 0.0684<br>Keywords: @dlwp, @eddieizzard, Bexhill, events<br>Sentiment: neutral",
          "Theme: Nuclear Threat<br>Type: Non-Bot<br>Confidence: 90%<br>Centrality: 0.0684<br>Keywords: Nuking, Failsafes, Report<br>Sentiment: negative",
          "Theme: Celebration<br>Type: Non-Bot<br>Confidence: 90%<br>Centrality: 0.0684<br>Keywords: Hindu New Year, Neasden Temple<br>Sentiment: positive",
          "Theme: Politics & Elections<br>Type: Non-Bot<br>Confidence: 100%<br>Centrality: 0.0684<br>Keywords: @Offord4Hendon, Mike Freer, Hendon, Finchley<br>Sentiment: neutral",
          "Theme: Sarcasm/Disapproval<br>Type: Non-Bot<br>Confidence: 99%<br>Centrality: 0.0684<br>Keywords: @arakelian_mary, \"Doesn't make scents\"<br>Sentiment: negative",
          "Theme: Education & Community<br>Type: Non-Bot<br>Confidence: 98%<br>Centrality: 0.0684<br>Keywords: @TrimiziiSyeda, Engineering Student, Lahore Grammar School<br>Sentiment: neutral",
          "Theme: Entertainment & Culture<br>Type: Non-Bot<br>Confidence: 95%<br>Centrality: 0.0684<br>Keywords: Tim Kaine, Harmonica, Wagon Wheel, Asheville<br>Sentiment: positive",
          "Theme: Personal Life & Relationships<br>Type: Non-Bot<br>Confidence: 96%<br>Centrality: 0.0684<br>Keywords: Loony Tweets, Ex-Husband<br>Sentiment: negative",
          "Theme: Technology & Business<br>Type: Non-Bot<br>Confidence: 97%<br>Centrality: 0.0684<br>Keywords: #metaguide, Inbenta Videos<br>Sentiment: neutral",
          "Theme: Sports & Fitness<br>Type: Non-Bot<br>Confidence: 98%<br>Centrality: 0.0684<br>Keywords: Consistency, Quality, Regional Teams<br>Sentiment: positive",
          "Theme: Social Justice & Activism<br>Type: Non-Bot<br>Confidence: 99%<br>Centrality: 0.0684<br>Keywords: @nhannahjones, Fannie Lou Hamer, Medgar Evers<br>Sentiment: negative",
          "Theme: Social Comment/Condemnation<br>Type: Non-Bot<br>Confidence: 90%<br>Centrality: 0.0684<br>Keywords: attack, perpetrators<br>Sentiment: negative",
          "Theme: Love/Relationship<br>Type: Non-Bot<br>Confidence: 95%<br>Centrality: 0.0684<br>Keywords: valentines, judges<br>Sentiment: positive",
          "Theme: Social Cause/Hunger<br>Type: Non-Bot<br>Confidence: 92%<br>Centrality: 0.0684<br>Keywords: hunger, support<br>Sentiment: negative",
          "Theme: Reality TV<br>Type: Non-Bot<br>Confidence: 90%<br>Centrality: 0.0684<br>Keywords: Thank you, Will<br>Sentiment: positive",
          "Theme: Patriotism<br>Type: Non-Bot<br>Confidence: 95%<br>Centrality: 0.0684<br>Keywords: uniform, serve the country, Jai Ho<br>Sentiment: positive",
          "Theme: Canadian Politics<br>Type: Non-Bot<br>Confidence: 90%<br>Centrality: 0.0684<br>Keywords: U.S. security umbrella, client state, cdnpoli, dnd<br>Sentiment: neutral",
          "Theme: Workplace Policies<br>Type: Non-Bot<br>Confidence: 90%<br>Centrality: 0.0684<br>Keywords: punch out, bathroom<br>Sentiment: negative",
          "Theme: Positive News<br>Type: Non-Bot<br>Confidence: 92%<br>Centrality: 0.0684<br>Keywords: congratulations, amazing<br>Sentiment: {}",
          "Theme: Good Luck<br>Type: Non-Bot<br>Confidence: 90%<br>Centrality: 0.0684<br>Keywords: <br>Sentiment: {}",
          "Theme: Pet<br>Type: Non-Bot<br>Confidence: 90%<br>Centrality: 0.0684<br>Keywords: dog, picture<br>Sentiment: neutral",
          "Theme: Gun Control<br>Type: Non-Bot<br>Confidence: 95%<br>Centrality: 0.0684<br>Keywords: Gun Sense<br>Sentiment: positive",
          "Theme: Conference<br>Type: Non-Bot<br>Confidence: 90%<br>Centrality: 0.0684<br>Keywords: <br>Sentiment: {}",
          "Theme: Bike Infrastructure<br>Type: Non-Bot<br>Confidence: 95%<br>Centrality: 0.0684<br>Keywords: North-South Cycle Superhighway, CS6, Elephant & Castle, Kings Cross<br>Sentiment: neutral",
          "Theme: Pop Culture<br>Type: Non-Bot<br>Confidence: 95%<br>Centrality: 0.0684<br>Keywords: Malcolm in the Middle<br>Sentiment: neutral",
          "Theme: News and Politics<br>Type: Non-Bot<br>Confidence: 95%<br>Centrality: 0.0684<br>Keywords: CTVNews, House of Commons<br>Sentiment: {}",
          "Theme: Support for Social Cause<br>Type: Non-Bot<br>Confidence: 90%<br>Centrality: 0.0684<br>Keywords: One Tough Mother, cancer survivor, gun control<br>Sentiment: positive",
          "Theme: Literary/Awards<br>Type: Non-Bot<br>Confidence: 90%<br>Centrality: 0.0684<br>Keywords: ForwardPrizes, Danez_Smif<br>Sentiment: positive",
          "Theme: Junk Food Ban<br>Type: Non-Bot<br>Confidence: 100%<br>Centrality: 0.0684<br>Keywords: junk food ad ban, child obesity<br>Sentiment: neutral",
          "Theme: Taxation<br>Type: Non-Bot<br>Confidence: 90%<br>Centrality: 0.0684<br>Keywords: Small Business Owner, New Mexico Tax Authorities, #wackytaxwednesday<br>Sentiment: positive",
          "Theme: Book Review<br>Type: Non-Bot<br>Confidence: 95%<br>Centrality: 0.0684<br>Keywords: The Perfect Girl, page turner, characters, suspense, @GillyMacmillan<br>Sentiment: positive",
          "Theme: Art<br>Type: Non-Bot<br>Confidence: 95%<br>Centrality: 0.0684<br>Keywords: drawing, pet, art<br>Sentiment: neutral",
          "Theme: IT Security<br>Type: Non-Bot<br>Confidence: 98%<br>Centrality: 0.0684<br>Keywords: IT security, vulnerability, cybersecurity<br>Sentiment: negative",
          "Theme: Diversity<br>Type: Non-Bot<br>Confidence: 96%<br>Centrality: 0.0684<br>Keywords: diversity, celebration, tolerance<br>Sentiment: positive",
          "Theme: Biography and Writing<br>Type: Non-Bot<br>Confidence: 90%<br>Centrality: 0.0684<br>Keywords: biography, Leary, Garcia, Bill Graham<br>Sentiment: neutral",
          "Theme: Support for Kashmir<br>Type: Non-Bot<br>Confidence: 95%<br>Centrality: 0.0684<br>Keywords: Kashmir, Kashmiri brethren, Pakistan<br>Sentiment: positive",
          "Theme: Criticism of Chris Melberger<br>Type: Non-Bot<br>Confidence: 90%<br>Centrality: 0.0684<br>Keywords: @chrismelberger, you have a TV<br>Sentiment: negative",
          "Theme: News Report<br>Type: Non-Bot<br>Confidence: 95%<br>Centrality: 0.0684<br>Keywords: #Alexandriashooting, President Trump, shooter has died<br>Sentiment: negative",
          "Theme: Punjab Politics<br>Type: Non-Bot<br>Confidence: 90%<br>Centrality: 0.0684<br>Keywords: opp parties, PMLN, bye- elections, LG elec<br>Sentiment: negative",
          "Theme: Reaction<br>Type: Non-Bot<br>Confidence: 90%<br>Centrality: 0.0684<br>Keywords: Heartbreaking, embarassing<br>Sentiment: negative",
          "Theme: Weather<br>Type: Non-Bot<br>Confidence: 95%<br>Centrality: 0.0684<br>Keywords: Foggy, Boston<br>Sentiment: neutral",
          "Theme: Career Development<br>Type: Non-Bot<br>Confidence: 90%<br>Centrality: 0.0684<br>Keywords: leverage, tomorrow, career<br>Sentiment: positive",
          "Theme: Miley Cyrus at the Grammys<br>Type: Non-Bot<br>Confidence: 90%<br>Centrality: 0.0684<br>Keywords: Grammys, Miley Cyrus<br>Sentiment: positive",
          "Theme: Food Choice<br>Type: Non-Bot<br>Confidence: 90%<br>Centrality: 0.0684<br>Keywords: crunchy, creamy, peanut butter<br>Sentiment: neutral",
          "Theme: Politics/Elections<br>Type: Non-Bot<br>Confidence: 90%<br>Centrality: 0.0684<br>Keywords: Noorani, free and fair election<br>Sentiment: neutral",
          "Theme: Politics/Current Events<br>Type: Non-Bot<br>Confidence: 95%<br>Centrality: 0.0684<br>Keywords: @CityLab, reports<br>Sentiment: negative",
          "Theme: Politics/Government<br>Type: Non-Bot<br>Confidence: 95%<br>Centrality: 0.0684<br>Keywords: young people, midterm elections<br>Sentiment: negative",
          "Theme: Motherhood<br>Type: Non-Bot<br>Confidence: 98%<br>Centrality: 0.0684<br>Keywords: #BeingMom, @BeingHumanJewel<br>Sentiment: positive",
          "Theme: Travel<br>Type: Non-Bot<br>Confidence: 95%<br>Centrality: 0.0684<br>Keywords: Natural Bridge Wax Museum, Basement<br>Sentiment: positive",
          "Theme: Humor and Satire<br>Type: Non-Bot<br>Confidence: 90%<br>Centrality: 0.0684<br>Keywords: Look at this beautiful child, Chad<br>Sentiment: neutral",
          "Theme: Social Media Deception<br>Type: Non-Bot<br>Confidence: 90%<br>Centrality: 0.0684<br>Keywords: LIES, Fake, Favstar_Bot, petemandik<br>Sentiment: negative",
          "Theme: Northern Pakistan<br>Type: Non-Bot<br>Confidence: 95%<br>Centrality: 0.0684<br>Keywords: northernareas, northernareasofpakistan, kpk, sawat, kalam, pakistan, PakistanBeauty, RiverSawat<br>Sentiment: neutral",
          "Theme: Violence Against Women<br>Type: Non-Bot<br>Confidence: 95%<br>Centrality: 0.0684<br>Keywords: International Day, Elimination of Violence Against Women, prevention, perpetrator, bring, change, movement, empower, equality<br>Sentiment: positive",
          "Theme: Awareness/Education<br>Type: Non-Bot<br>Confidence: 90%<br>Centrality: 0.0684<br>Keywords: vulnerable, look out<br>Sentiment: positive",
          "Theme: Information/Sharing<br>Type: Non-Bot<br>Confidence: 95%<br>Centrality: 0.0684<br>Keywords: Republic Day, serve the country, Jai Ho<br>Sentiment: neutral",
          "Theme: Criticism/Complaint<br>Type: Non-Bot<br>Confidence: 95%<br>Centrality: 0.0684<br>Keywords: mega projects, infrastructure stability<br>Sentiment: negative",
          "Theme: Product Review<br>Type: Non-Bot<br>Confidence: 90%<br>Centrality: 0.0684<br>Keywords: Clarizen, project management<br>Sentiment: positive",
          "Theme: Comedy and Entertainment<br>Type: Non-Bot<br>Confidence: 90%<br>Centrality: 0.0684<br>Keywords: Happy 85th birthday, comedy<br>Sentiment: positive",
          "Theme: Appreciation and Gratitude<br>Type: Non-Bot<br>Confidence: 90%<br>Centrality: 0.0684<br>Keywords: thank you<br>Sentiment: positive",
          "Theme: Birthday Wishes<br>Type: Non-Bot<br>Confidence: 95%<br>Centrality: 0.0684<br>Keywords: birthday, friend, beautiful, smart, hilarious<br>Sentiment: positive",
          "Theme: Positive Review<br>Type: Non-Bot<br>Confidence: 90%<br>Centrality: 0.0684<br>Keywords: seaworld, good<br>Sentiment: positive",
          "Theme: Motivational Quote<br>Type: Non-Bot<br>Confidence: 95%<br>Centrality: 0.0684<br>Keywords: let your life be a shining example<br>Sentiment: positive",
          "Theme: Political Campaign<br>Type: Non-Bot<br>Confidence: 90%<br>Centrality: 0.0684<br>Keywords: celebrating, gunsensecan<br>Sentiment: positive",
          "Theme: Get-Out-The-Vote Effort<br>Type: Non-Bot<br>Confidence: 95%<br>Centrality: 0.0684<br>Keywords: gotv, hard work<br>Sentiment: positive",
          "Theme: Customer Service Issue<br>Type: Non-Bot<br>Confidence: 95%<br>Centrality: 0.0684<br>Keywords: delayed, inflexibility<br>Sentiment: negative",
          "Theme: Music Event<br>Type: Non-Bot<br>Confidence: 90%<br>Centrality: 0.0684<br>Keywords: Grammys, Kendrick Lamar, DAMN<br>Sentiment: neutral",
          "Theme: Social Movement<br>Type: Non-Bot<br>Confidence: 95%<br>Centrality: 0.0684<br>Keywords: FireTheFool, April Fool's Day<br>Sentiment: neutral",
          "Theme: Brexit<br>Type: Non-Bot<br>Confidence: 90%<br>Centrality: 0.0684<br>Keywords: EU, leave, decisions<br>Sentiment: neutral",
          "Theme: Emergency Response<br>Type: Non-Bot<br>Confidence: 90%<br>Centrality: 0.0684<br>Keywords: fire, UNC campus<br>Sentiment: neutral",
          "Theme: Charity<br>Type: Non-Bot<br>Confidence: 90%<br>Centrality: 0.0684<br>Keywords: #CopthornePrep, #27marathons27days, @sportrelief<br>Sentiment: positive",
          "Theme: Celebrity and Current Events<br>Type: Non-Bot<br>Confidence: 90%<br>Centrality: 0.0684<br>Keywords: #CincoDeMayo, #7News, @cdelcampon7<br>Sentiment: neutral",
          "Theme: Charity and Donations<br>Type: Non-Bot<br>Confidence: 100%<br>Centrality: 0.0684<br>Keywords: donation, UNICEF, #WAKEUPCALL<br>Sentiment: positive",
          "Theme: Self-Assurance<br>Type: Non-Bot<br>Confidence: 90%<br>Centrality: 0.0684<br>Keywords: fine, #whatgoesup<br>Sentiment: neutral",
          "Theme: Phone and Communication<br>Type: Non-Bot<br>Confidence: 95%<br>Centrality: 0.0684<br>Keywords: blocked numbers, blocked<br>Sentiment: neutral",
          "Theme: Event and Development<br>Type: Non-Bot<br>Confidence: 100%<br>Centrality: 0.0684<br>Keywords: Swat Motorway, development, tourism<br>Sentiment: neutral",
          "Theme: Harassment and Safety<br>Type: Non-Bot<br>Confidence: 95%<br>Centrality: 0.0684<br>Keywords: blocked and reported, @muffinista<br>Sentiment: negative",
          "Theme: Politics and Conflict<br>Type: Non-Bot<br>Confidence: 100%<br>Centrality: 0.0684<br>Keywords: PTI lawyer, critically wounded, Punjab police<br>Sentiment: negative",
          "Theme: Social Event and Celebration<br>Type: Non-Bot<br>Confidence: 90%<br>Centrality: 0.0684<br>Keywords: RootsPicnic, #RootsPicnic, pic 2018<br>Sentiment: neutral"
         ],
         "marker": {
          "color": "rgb(0,255,0)",
          "line": {
           "color": "rgb(0,100,0)",
           "width": 1
          },
          "size": [
           30,
           30,
           30,
           30,
           30,
           30,
           30,
           30,
           30,
           30,
           30,
           30,
           30,
           30,
           30,
           30,
           30,
           30,
           30,
           30,
           30,
           30,
           30,
           30,
           30,
           30,
           30,
           30,
           30,
           30,
           30,
           30,
           30,
           30,
           30,
           30,
           30,
           30,
           30,
           30,
           30,
           30,
           30,
           30,
           30,
           30,
           30,
           30,
           30,
           30,
           30,
           30,
           30,
           30,
           30,
           30,
           30,
           30,
           30,
           30,
           30,
           30,
           30,
           30,
           30,
           30,
           30,
           30,
           30,
           30,
           30,
           30,
           30,
           30,
           30,
           30,
           30,
           30,
           30,
           30,
           30,
           30,
           30,
           30,
           30,
           30,
           30,
           30,
           30,
           30
          ]
         },
         "mode": "markers",
         "name": "Non-Bot Themes",
         "type": "scatter",
         "x": [
          11.660689547609685,
          9.962157550780516,
          7.214898903138412,
          12.20581846884724,
          12.121047582116656,
          9.746203177002657,
          10.63276629935609,
          11.175098539730602,
          10.240760056383479,
          10.495451891903128,
          7.706883745705907,
          10.681175250577173,
          8.530135917021182,
          10.793545648898673,
          10.329305238845686,
          10.779075073899628,
          6.55538294545359,
          7.192454412053533,
          9.062255881953574,
          11.301288917475564,
          8.73871386880484,
          12.41893863686597,
          11.241254197308276,
          7.906838480798084,
          8.307751923393841,
          9.519615137103074,
          10.711314472011406,
          10.229603055188958,
          11.226904565390246,
          5.608963038464853,
          6.893292264402727,
          12.522232465418712,
          12.391643837803125,
          9.381500190274695,
          6.751584246939615,
          12.244783579104237,
          9.309288773728758,
          9.466350307769092,
          9.096939377115346,
          9.932163591766578,
          8.50335124185437,
          11.172726183663025,
          11.172695714557488,
          9.511092311225122,
          5.7733111225129345,
          10.811574878896133,
          9.37690795512569,
          6.6936016592134555,
          7.7256249050738575,
          12.165050628041458,
          11.218104642625557,
          11.001265055449405,
          13.393992057465912,
          12.373916928629757,
          9.38440694623883,
          8.466318020115766,
          10.82627818685301,
          15.300975143398407,
          6.1196307353072505,
          10.304307271357485,
          10.669151186548117,
          9.873248533867061,
          11.50930077772361,
          8.270793176251368,
          10.376010650987515,
          9.018329741848518,
          10.530279459810522,
          8.511071019412533,
          12.72596168157723,
          10.146187349042386,
          10.83034993824595,
          12.90124884968979,
          7.40219666313154,
          7.774381962056632,
          7.9279939510028825,
          11.092933604148502,
          8.836159981042336,
          10.484728890624455,
          10.411818480041434,
          7.849092099884549,
          11.138233429442295,
          10.921252576967772,
          7.809583132485214,
          11.039734069504986,
          8.852317992807269,
          8.658493679159303,
          12.129001117022241,
          11.989087727743595,
          9.09179400132462,
          7.938498117988927
         ],
         "y": [
          9.64245277289487,
          7.3814122328337515,
          9.555773479341681,
          9.101895056403677,
          11.895711423454854,
          8.300845430957184,
          11.49610471160008,
          9.409501426968657,
          9.082455467280289,
          10.730722438575267,
          10.838442392097633,
          11.699249528881586,
          12.872031541271173,
          10.86269007740703,
          13.229570538031364,
          6.75951122119748,
          11.998134731030722,
          11.94709114391702,
          11.322131869401575,
          10.545961062699945,
          12.049761349656738,
          9.145742568274095,
          9.258572441568628,
          10.432172366663936,
          10.012481714283822,
          9.427384583189246,
          10.926280242928108,
          8.666411885634584,
          6.860480527761887,
          12.59047379870735,
          15.653695464812067,
          11.024572765585763,
          12.729656869794109,
          7.667054046114899,
          7.186338899174903,
          10.348595709573951,
          11.779182314741167,
          8.737411750781742,
          9.063436086197356,
          7.812784964881494,
          8.834200546228923,
          10.933708853118478,
          9.799753714855854,
          9.228732343656976,
          9.257757817533534,
          8.18788785214996,
          11.7938532548529,
          10.858803119421404,
          9.693728454590568,
          7.525990920903195,
          13.489325966665081,
          10.806303273674313,
          11.710535010235562,
          10.908724967946833,
          9.841860795660349,
          13.314628304447028,
          9.321988042675262,
          9.561550826619555,
          9.786550096503282,
          9.543360741090783,
          12.660337134108616,
          8.865061174586657,
          7.472152859660056,
          10.845128397043037,
          7.286922094064291,
          10.461232208151982,
          10.34932405444211,
          11.208534953670208,
          14.05695583970407,
          9.502894095374744,
          13.263464333940162,
          9.235387524157359,
          11.465700472556012,
          6.374076457255207,
          8.435393329598746,
          11.769568469391341,
          11.407048627085503,
          9.59543211781135,
          9.860509036980064,
          9.669447062335163,
          12.087256366779929,
          13.610021008025925,
          9.14434708048318,
          8.922333680384188,
          10.581598540529086,
          7.847072235232822,
          10.000625790787403,
          9.795146880371291,
          7.4710238453973705,
          8.554304032714104
         ]
        },
        {
         "hoverinfo": "text",
         "hovertext": [
          "Theme: Technology<br>Type: Mixed<br>Confidence: 100%<br>Centrality: 0.0684<br>Keywords: Microsoft, Chromium, Edge<br>Sentiment: negative",
          "Theme: Entertainment<br>Type: Mixed<br>Confidence: 99%<br>Centrality: 0.0684<br>Keywords: wine, shoes, LindaVino, Winelover<br>Sentiment: positive",
          "Theme: Social Media<br>Type: Mixed<br>Confidence: 90%<br>Centrality: 0.0684<br>Keywords: RT, hashtag, volunteer<br>Sentiment: neutral",
          "Theme: Humor<br>Type: Mixed<br>Confidence: 90%<br>Centrality: 0.0684<br>Keywords: DUKE NUKEM FOREVER, BONG BONG BONG BONG BONG BONG, doo-dah<br>Sentiment: positive",
          "Theme: Politics<br>Type: Mixed<br>Confidence: 90%<br>Centrality: 0.0684<br>Keywords: GET BACK TO WORK, BONG BONG<br>Sentiment: negative",
          "Theme: Sports<br>Type: Mixed<br>Confidence: 90%<br>Centrality: 0.0684<br>Keywords: Rose Bowl<br>Sentiment: neutral",
          "Theme: Music<br>Type: Mixed<br>Confidence: 95%<br>Centrality: 0.0684<br>Keywords: Alicia Keys, Rapture<br>Sentiment: neutral",
          "Theme: Encouragement<br>Type: Mixed<br>Confidence: 95%<br>Centrality: 0.0684<br>Keywords: ask for help, cheering<br>Sentiment: {}",
          "Theme: Celebrity<br>Type: Mixed<br>Confidence: 90%<br>Centrality: 0.0684<br>Keywords: slay<br>Sentiment: positive",
          "Theme: Finance<br>Type: Mixed<br>Confidence: 90%<br>Centrality: 0.0684<br>Keywords: Bitcoin, Price, Rally, Resistance<br>Sentiment: neutral",
          "Theme: Criticism<br>Type: Mixed<br>Confidence: 90%<br>Centrality: 0.0684<br>Keywords: clueless, professional, lunchlady<br>Sentiment: negative",
          "Theme: Event<br>Type: Mixed<br>Confidence: 90%<br>Centrality: 0.0684<br>Keywords: Wine, Greece<br>Sentiment: positive"
         ],
         "marker": {
          "color": "rgb(128,0,128)",
          "line": {
           "color": "rgb(75,0,130)",
           "width": 1
          },
          "size": [
           30,
           30,
           30,
           30,
           30,
           30,
           30,
           30,
           30,
           30,
           30,
           30
          ]
         },
         "mode": "markers",
         "name": "Mixed Themes",
         "type": "scatter",
         "x": [
          -0.8270508671695534,
          2.527760942438783,
          -0.003096587097111676,
          0.88768338694169,
          1.6965858009162178,
          -1.0164076877798571,
          0.09341090802547294,
          1.6821594215140159,
          -1.2374184401626056,
          -0.5082287844757307,
          -0.7617027755525743,
          1.1195611106926513
         ],
         "y": [
          2.3715711585845507,
          0.3614815660460414,
          -2.1949807836261113,
          1.756070826633934,
          -1.429117668005235,
          0.41149538395160196,
          1.8618063894964785,
          -1.3521615646895875,
          -1.3530612177803227,
          0.20910850137235576,
          0.04830450716327774,
          2.1446653021726076
         ]
        }
       ],
       "layout": {
        "height": 1000,
        "hovermode": "closest",
        "margin": {
         "b": 20,
         "l": 20,
         "r": 20,
         "t": 60
        },
        "paper_bgcolor": "white",
        "plot_bgcolor": "white",
        "showlegend": true,
        "template": {
         "data": {
          "bar": [
           {
            "error_x": {
             "color": "#2a3f5f"
            },
            "error_y": {
             "color": "#2a3f5f"
            },
            "marker": {
             "line": {
              "color": "#E5ECF6",
              "width": 0.5
             },
             "pattern": {
              "fillmode": "overlay",
              "size": 10,
              "solidity": 0.2
             }
            },
            "type": "bar"
           }
          ],
          "barpolar": [
           {
            "marker": {
             "line": {
              "color": "#E5ECF6",
              "width": 0.5
             },
             "pattern": {
              "fillmode": "overlay",
              "size": 10,
              "solidity": 0.2
             }
            },
            "type": "barpolar"
           }
          ],
          "carpet": [
           {
            "aaxis": {
             "endlinecolor": "#2a3f5f",
             "gridcolor": "white",
             "linecolor": "white",
             "minorgridcolor": "white",
             "startlinecolor": "#2a3f5f"
            },
            "baxis": {
             "endlinecolor": "#2a3f5f",
             "gridcolor": "white",
             "linecolor": "white",
             "minorgridcolor": "white",
             "startlinecolor": "#2a3f5f"
            },
            "type": "carpet"
           }
          ],
          "choropleth": [
           {
            "colorbar": {
             "outlinewidth": 0,
             "ticks": ""
            },
            "type": "choropleth"
           }
          ],
          "contour": [
           {
            "colorbar": {
             "outlinewidth": 0,
             "ticks": ""
            },
            "colorscale": [
             [
              0,
              "#0d0887"
             ],
             [
              0.1111111111111111,
              "#46039f"
             ],
             [
              0.2222222222222222,
              "#7201a8"
             ],
             [
              0.3333333333333333,
              "#9c179e"
             ],
             [
              0.4444444444444444,
              "#bd3786"
             ],
             [
              0.5555555555555556,
              "#d8576b"
             ],
             [
              0.6666666666666666,
              "#ed7953"
             ],
             [
              0.7777777777777778,
              "#fb9f3a"
             ],
             [
              0.8888888888888888,
              "#fdca26"
             ],
             [
              1,
              "#f0f921"
             ]
            ],
            "type": "contour"
           }
          ],
          "contourcarpet": [
           {
            "colorbar": {
             "outlinewidth": 0,
             "ticks": ""
            },
            "type": "contourcarpet"
           }
          ],
          "heatmap": [
           {
            "colorbar": {
             "outlinewidth": 0,
             "ticks": ""
            },
            "colorscale": [
             [
              0,
              "#0d0887"
             ],
             [
              0.1111111111111111,
              "#46039f"
             ],
             [
              0.2222222222222222,
              "#7201a8"
             ],
             [
              0.3333333333333333,
              "#9c179e"
             ],
             [
              0.4444444444444444,
              "#bd3786"
             ],
             [
              0.5555555555555556,
              "#d8576b"
             ],
             [
              0.6666666666666666,
              "#ed7953"
             ],
             [
              0.7777777777777778,
              "#fb9f3a"
             ],
             [
              0.8888888888888888,
              "#fdca26"
             ],
             [
              1,
              "#f0f921"
             ]
            ],
            "type": "heatmap"
           }
          ],
          "heatmapgl": [
           {
            "colorbar": {
             "outlinewidth": 0,
             "ticks": ""
            },
            "colorscale": [
             [
              0,
              "#0d0887"
             ],
             [
              0.1111111111111111,
              "#46039f"
             ],
             [
              0.2222222222222222,
              "#7201a8"
             ],
             [
              0.3333333333333333,
              "#9c179e"
             ],
             [
              0.4444444444444444,
              "#bd3786"
             ],
             [
              0.5555555555555556,
              "#d8576b"
             ],
             [
              0.6666666666666666,
              "#ed7953"
             ],
             [
              0.7777777777777778,
              "#fb9f3a"
             ],
             [
              0.8888888888888888,
              "#fdca26"
             ],
             [
              1,
              "#f0f921"
             ]
            ],
            "type": "heatmapgl"
           }
          ],
          "histogram": [
           {
            "marker": {
             "pattern": {
              "fillmode": "overlay",
              "size": 10,
              "solidity": 0.2
             }
            },
            "type": "histogram"
           }
          ],
          "histogram2d": [
           {
            "colorbar": {
             "outlinewidth": 0,
             "ticks": ""
            },
            "colorscale": [
             [
              0,
              "#0d0887"
             ],
             [
              0.1111111111111111,
              "#46039f"
             ],
             [
              0.2222222222222222,
              "#7201a8"
             ],
             [
              0.3333333333333333,
              "#9c179e"
             ],
             [
              0.4444444444444444,
              "#bd3786"
             ],
             [
              0.5555555555555556,
              "#d8576b"
             ],
             [
              0.6666666666666666,
              "#ed7953"
             ],
             [
              0.7777777777777778,
              "#fb9f3a"
             ],
             [
              0.8888888888888888,
              "#fdca26"
             ],
             [
              1,
              "#f0f921"
             ]
            ],
            "type": "histogram2d"
           }
          ],
          "histogram2dcontour": [
           {
            "colorbar": {
             "outlinewidth": 0,
             "ticks": ""
            },
            "colorscale": [
             [
              0,
              "#0d0887"
             ],
             [
              0.1111111111111111,
              "#46039f"
             ],
             [
              0.2222222222222222,
              "#7201a8"
             ],
             [
              0.3333333333333333,
              "#9c179e"
             ],
             [
              0.4444444444444444,
              "#bd3786"
             ],
             [
              0.5555555555555556,
              "#d8576b"
             ],
             [
              0.6666666666666666,
              "#ed7953"
             ],
             [
              0.7777777777777778,
              "#fb9f3a"
             ],
             [
              0.8888888888888888,
              "#fdca26"
             ],
             [
              1,
              "#f0f921"
             ]
            ],
            "type": "histogram2dcontour"
           }
          ],
          "mesh3d": [
           {
            "colorbar": {
             "outlinewidth": 0,
             "ticks": ""
            },
            "type": "mesh3d"
           }
          ],
          "parcoords": [
           {
            "line": {
             "colorbar": {
              "outlinewidth": 0,
              "ticks": ""
             }
            },
            "type": "parcoords"
           }
          ],
          "pie": [
           {
            "automargin": true,
            "type": "pie"
           }
          ],
          "scatter": [
           {
            "fillpattern": {
             "fillmode": "overlay",
             "size": 10,
             "solidity": 0.2
            },
            "type": "scatter"
           }
          ],
          "scatter3d": [
           {
            "line": {
             "colorbar": {
              "outlinewidth": 0,
              "ticks": ""
             }
            },
            "marker": {
             "colorbar": {
              "outlinewidth": 0,
              "ticks": ""
             }
            },
            "type": "scatter3d"
           }
          ],
          "scattercarpet": [
           {
            "marker": {
             "colorbar": {
              "outlinewidth": 0,
              "ticks": ""
             }
            },
            "type": "scattercarpet"
           }
          ],
          "scattergeo": [
           {
            "marker": {
             "colorbar": {
              "outlinewidth": 0,
              "ticks": ""
             }
            },
            "type": "scattergeo"
           }
          ],
          "scattergl": [
           {
            "marker": {
             "colorbar": {
              "outlinewidth": 0,
              "ticks": ""
             }
            },
            "type": "scattergl"
           }
          ],
          "scattermapbox": [
           {
            "marker": {
             "colorbar": {
              "outlinewidth": 0,
              "ticks": ""
             }
            },
            "type": "scattermapbox"
           }
          ],
          "scatterpolar": [
           {
            "marker": {
             "colorbar": {
              "outlinewidth": 0,
              "ticks": ""
             }
            },
            "type": "scatterpolar"
           }
          ],
          "scatterpolargl": [
           {
            "marker": {
             "colorbar": {
              "outlinewidth": 0,
              "ticks": ""
             }
            },
            "type": "scatterpolargl"
           }
          ],
          "scatterternary": [
           {
            "marker": {
             "colorbar": {
              "outlinewidth": 0,
              "ticks": ""
             }
            },
            "type": "scatterternary"
           }
          ],
          "surface": [
           {
            "colorbar": {
             "outlinewidth": 0,
             "ticks": ""
            },
            "colorscale": [
             [
              0,
              "#0d0887"
             ],
             [
              0.1111111111111111,
              "#46039f"
             ],
             [
              0.2222222222222222,
              "#7201a8"
             ],
             [
              0.3333333333333333,
              "#9c179e"
             ],
             [
              0.4444444444444444,
              "#bd3786"
             ],
             [
              0.5555555555555556,
              "#d8576b"
             ],
             [
              0.6666666666666666,
              "#ed7953"
             ],
             [
              0.7777777777777778,
              "#fb9f3a"
             ],
             [
              0.8888888888888888,
              "#fdca26"
             ],
             [
              1,
              "#f0f921"
             ]
            ],
            "type": "surface"
           }
          ],
          "table": [
           {
            "cells": {
             "fill": {
              "color": "#EBF0F8"
             },
             "line": {
              "color": "white"
             }
            },
            "header": {
             "fill": {
              "color": "#C8D4E3"
             },
             "line": {
              "color": "white"
             }
            },
            "type": "table"
           }
          ]
         },
         "layout": {
          "annotationdefaults": {
           "arrowcolor": "#2a3f5f",
           "arrowhead": 0,
           "arrowwidth": 1
          },
          "autotypenumbers": "strict",
          "coloraxis": {
           "colorbar": {
            "outlinewidth": 0,
            "ticks": ""
           }
          },
          "colorscale": {
           "diverging": [
            [
             0,
             "#8e0152"
            ],
            [
             0.1,
             "#c51b7d"
            ],
            [
             0.2,
             "#de77ae"
            ],
            [
             0.3,
             "#f1b6da"
            ],
            [
             0.4,
             "#fde0ef"
            ],
            [
             0.5,
             "#f7f7f7"
            ],
            [
             0.6,
             "#e6f5d0"
            ],
            [
             0.7,
             "#b8e186"
            ],
            [
             0.8,
             "#7fbc41"
            ],
            [
             0.9,
             "#4d9221"
            ],
            [
             1,
             "#276419"
            ]
           ],
           "sequential": [
            [
             0,
             "#0d0887"
            ],
            [
             0.1111111111111111,
             "#46039f"
            ],
            [
             0.2222222222222222,
             "#7201a8"
            ],
            [
             0.3333333333333333,
             "#9c179e"
            ],
            [
             0.4444444444444444,
             "#bd3786"
            ],
            [
             0.5555555555555556,
             "#d8576b"
            ],
            [
             0.6666666666666666,
             "#ed7953"
            ],
            [
             0.7777777777777778,
             "#fb9f3a"
            ],
            [
             0.8888888888888888,
             "#fdca26"
            ],
            [
             1,
             "#f0f921"
            ]
           ],
           "sequentialminus": [
            [
             0,
             "#0d0887"
            ],
            [
             0.1111111111111111,
             "#46039f"
            ],
            [
             0.2222222222222222,
             "#7201a8"
            ],
            [
             0.3333333333333333,
             "#9c179e"
            ],
            [
             0.4444444444444444,
             "#bd3786"
            ],
            [
             0.5555555555555556,
             "#d8576b"
            ],
            [
             0.6666666666666666,
             "#ed7953"
            ],
            [
             0.7777777777777778,
             "#fb9f3a"
            ],
            [
             0.8888888888888888,
             "#fdca26"
            ],
            [
             1,
             "#f0f921"
            ]
           ]
          },
          "colorway": [
           "#636efa",
           "#EF553B",
           "#00cc96",
           "#ab63fa",
           "#FFA15A",
           "#19d3f3",
           "#FF6692",
           "#B6E880",
           "#FF97FF",
           "#FECB52"
          ],
          "font": {
           "color": "#2a3f5f"
          },
          "geo": {
           "bgcolor": "white",
           "lakecolor": "white",
           "landcolor": "#E5ECF6",
           "showlakes": true,
           "showland": true,
           "subunitcolor": "white"
          },
          "hoverlabel": {
           "align": "left"
          },
          "hovermode": "closest",
          "mapbox": {
           "style": "light"
          },
          "paper_bgcolor": "white",
          "plot_bgcolor": "#E5ECF6",
          "polar": {
           "angularaxis": {
            "gridcolor": "white",
            "linecolor": "white",
            "ticks": ""
           },
           "bgcolor": "#E5ECF6",
           "radialaxis": {
            "gridcolor": "white",
            "linecolor": "white",
            "ticks": ""
           }
          },
          "scene": {
           "xaxis": {
            "backgroundcolor": "#E5ECF6",
            "gridcolor": "white",
            "gridwidth": 2,
            "linecolor": "white",
            "showbackground": true,
            "ticks": "",
            "zerolinecolor": "white"
           },
           "yaxis": {
            "backgroundcolor": "#E5ECF6",
            "gridcolor": "white",
            "gridwidth": 2,
            "linecolor": "white",
            "showbackground": true,
            "ticks": "",
            "zerolinecolor": "white"
           },
           "zaxis": {
            "backgroundcolor": "#E5ECF6",
            "gridcolor": "white",
            "gridwidth": 2,
            "linecolor": "white",
            "showbackground": true,
            "ticks": "",
            "zerolinecolor": "white"
           }
          },
          "shapedefaults": {
           "line": {
            "color": "#2a3f5f"
           }
          },
          "ternary": {
           "aaxis": {
            "gridcolor": "white",
            "linecolor": "white",
            "ticks": ""
           },
           "baxis": {
            "gridcolor": "white",
            "linecolor": "white",
            "ticks": ""
           },
           "bgcolor": "#E5ECF6",
           "caxis": {
            "gridcolor": "white",
            "linecolor": "white",
            "ticks": ""
           }
          },
          "title": {
           "x": 0.05
          },
          "xaxis": {
           "automargin": true,
           "gridcolor": "white",
           "linecolor": "white",
           "ticks": "",
           "title": {
            "standoff": 15
           },
           "zerolinecolor": "white",
           "zerolinewidth": 2
          },
          "yaxis": {
           "automargin": true,
           "gridcolor": "white",
           "linecolor": "white",
           "ticks": "",
           "title": {
            "standoff": 15
           },
           "zerolinecolor": "white",
           "zerolinewidth": 2
          }
         }
        },
        "title": {
         "text": "Theme Network Visualization (90%+ Confidence)"
        },
        "width": 1200,
        "xaxis": {
         "range": [
          -15,
          15
         ],
         "showgrid": false,
         "showticklabels": false,
         "zeroline": false
        },
        "yaxis": {
         "range": [
          -15,
          15
         ],
         "showgrid": false,
         "showticklabels": false,
         "zeroline": false
        }
       }
      }
     },
     "metadata": {},
     "output_type": "display_data"
    }
   ],
   "source": [
    "import json\n",
    "import networkx as nx\n",
    "import plotly.graph_objects as go\n",
    "import numpy as np\n",
    "\n",
    "\n",
    "def load_json_file(file_path):\n",
    "    \"\"\"Load JSON file safely.\"\"\"\n",
    "    try:\n",
    "        with open(file_path, 'r', encoding='utf-8') as file:\n",
    "            return json.load(file)\n",
    "    except Exception as e:\n",
    "        print(f\"Error loading JSON file {file_path}: {e}\")\n",
    "        return []\n",
    "\n",
    "\n",
    "def create_theme_network(data_bot, data_nonbot, min_confidence=90):\n",
    "    \"\"\"Create a network graph from themes with a minimum confidence level.\"\"\"\n",
    "    G = nx.Graph()\n",
    "\n",
    "\n",
    "    def process_data(data, is_bot=True):\n",
    "        for item in data:\n",
    "            response = item.get('response')\n",
    "            if isinstance(response, str):\n",
    "                try:\n",
    "                    response_data = json.loads(response)\n",
    "                    themes = response_data.get('themes', [])\n",
    "                    for theme in themes:\n",
    "                        confidence = theme.get('confidence', 0)\n",
    "                        if confidence >= min_confidence:\n",
    "                            theme_name = theme['name']\n",
    "                            keywords = theme.get('keywords', [])\n",
    "                            sentiment = theme.get('sentiment', {})\n",
    "                            # Add or update theme node\n",
    "                            if not G.has_node(theme_name):\n",
    "                                G.add_node(theme_name,\n",
    "                                           type='theme',\n",
    "                                           is_bot=is_bot,\n",
    "                                           confidence=confidence,\n",
    "                                           keywords=keywords,\n",
    "                                           sentiment=sentiment)\n",
    "                            else:\n",
    "                                # If node exists and bot status is different, mark as mixed\n",
    "                                current_bot_status = G.nodes[theme_name].get('is_bot')\n",
    "                                if current_bot_status != is_bot:\n",
    "                                    G.nodes[theme_name]['is_bot'] = 'mixed'\n",
    "                except json.JSONDecodeError:\n",
    "                    print(f\"Invalid JSON in response: {response}\")\n",
    "\n",
    "\n",
    "    # Process bot and non-bot data\n",
    "    process_data(data_bot, is_bot=True)\n",
    "    process_data(data_nonbot, is_bot=False)\n",
    "\n",
    "\n",
    "    return G\n",
    "\n",
    "\n",
    "def visualize_network(G):\n",
    "    \"\"\"Visualize bot, non-bot, and mixed themes in spread out regions.\"\"\"\n",
    "    # Check if the graph is empty\n",
    "    if len(G.nodes) == 0:\n",
    "        print(\"No nodes to visualize.\")\n",
    "        return\n",
    "\n",
    "\n",
    "    # Calculate centrality\n",
    "    try:\n",
    "        centrality = nx.eigenvector_centrality(G)\n",
    "    except nx.PowerIterationFailedConvergence:\n",
    "        # Fallback to degree centrality if eigenvector centrality fails\n",
    "        centrality = nx.degree_centrality(G)\n",
    "\n",
    "\n",
    "    # Normalize centrality for sizing\n",
    "    max_centrality = max(centrality.values()) if centrality else 1\n",
    "    normalized_centrality = {node: (cent / max_centrality * 30) for node, cent in centrality.items()}\n",
    "\n",
    "\n",
    "    # Separate nodes by bot status\n",
    "    bot_nodes = [node for node, data in G.nodes(data=True) if data.get('is_bot') == True]\n",
    "    nonbot_nodes = [node for node, data in G.nodes(data=True) if data.get('is_bot') == False]\n",
    "    mixed_nodes = [node for node, data in G.nodes(data=True) if data.get('is_bot') == 'mixed']\n",
    "\n",
    "\n",
    "    # Create traces for each category\n",
    "    traces = []\n",
    "\n",
    "\n",
    "    # Bot nodes - clustered in bottom left with increased spacing\n",
    "    if bot_nodes:\n",
    "        bot_x = np.random.normal(loc=-10, scale=2, size=len(bot_nodes))\n",
    "        bot_y = np.random.normal(loc=-10, scale=2, size=len(bot_nodes))\n",
    "        bot_trace = go.Scatter(\n",
    "            x=bot_x,\n",
    "            y=bot_y,\n",
    "            mode='markers',\n",
    "            hovertext=[\n",
    "                f\"Theme: {node}<br>\"\n",
    "                f\"Type: Bot<br>\"\n",
    "                f\"Confidence: {G.nodes[node]['confidence']}%<br>\"\n",
    "                f\"Centrality: {centrality.get(node, 0):.4f}<br>\"\n",
    "                f\"Keywords: {', '.join(G.nodes[node].get('keywords', []))}<br>\"\n",
    "                f\"Sentiment: {G.nodes[node].get('sentiment', 'N/A')}\"\n",
    "                for node in bot_nodes\n",
    "            ],\n",
    "            hoverinfo='text',\n",
    "            marker=dict(\n",
    "                size=[normalized_centrality.get(node, 5) for node in bot_nodes],\n",
    "                color='rgb(255,0,0)',  # Red\n",
    "                line=dict(width=1, color='rgb(139,0,0)')  # Dark red\n",
    "            ),\n",
    "            name='Bot Themes'\n",
    "        )\n",
    "        traces.append(bot_trace)\n",
    "\n",
    "\n",
    "    # Non-bot nodes - clustered in top right with increased spacing\n",
    "    if nonbot_nodes:\n",
    "        nonbot_x = np.random.normal(loc=10, scale=2, size=len(nonbot_nodes))\n",
    "        nonbot_y = np.random.normal(loc=10, scale=2, size=len(nonbot_nodes))\n",
    "        nonbot_trace = go.Scatter(\n",
    "            x=nonbot_x,\n",
    "            y=nonbot_y,\n",
    "            mode='markers',\n",
    "            hovertext=[\n",
    "                f\"Theme: {node}<br>\"\n",
    "                f\"Type: Non-Bot<br>\"\n",
    "                f\"Confidence: {G.nodes[node]['confidence']}%<br>\"\n",
    "                f\"Centrality: {centrality.get(node, 0):.4f}<br>\"\n",
    "                f\"Keywords: {', '.join(G.nodes[node].get('keywords', []))}<br>\"\n",
    "                f\"Sentiment: {G.nodes[node].get('sentiment', 'N/A')}\"\n",
    "                for node in nonbot_nodes\n",
    "            ],\n",
    "            hoverinfo='text',\n",
    "            marker=dict(\n",
    "                size=[normalized_centrality.get(node, 5) for node in nonbot_nodes],\n",
    "                color='rgb(0,255,0)',  # Green\n",
    "                line=dict(width=1, color='rgb(0,100,0)')  # Dark green\n",
    "            ),\n",
    "            name='Non-Bot Themes'\n",
    "        )\n",
    "        traces.append(nonbot_trace)\n",
    "\n",
    "\n",
    "    # Mixed nodes - clustered in center with increased spacing\n",
    "    if mixed_nodes:\n",
    "        mixed_x = np.random.normal(loc=0, scale=2, size=len(mixed_nodes))\n",
    "        mixed_y = np.random.normal(loc=0, scale=2, size=len(mixed_nodes))\n",
    "        mixed_trace = go.Scatter(\n",
    "            x=mixed_x,\n",
    "            y=mixed_y,\n",
    "            mode='markers',\n",
    "            hovertext=[\n",
    "                f\"Theme: {node}<br>\"\n",
    "                f\"Type: Mixed<br>\"\n",
    "                f\"Confidence: {G.nodes[node]['confidence']}%<br>\"\n",
    "                f\"Centrality: {centrality.get(node, 0):.4f}<br>\"\n",
    "                f\"Keywords: {', '.join(G.nodes[node].get('keywords', []))}<br>\"\n",
    "                f\"Sentiment: {G.nodes[node].get('sentiment', 'N/A')}\"\n",
    "                for node in mixed_nodes\n",
    "            ],\n",
    "            hoverinfo='text',\n",
    "            marker=dict(\n",
    "                size=[normalized_centrality.get(node, 5) for node in mixed_nodes],\n",
    "                color='rgb(128,0,128)',  # Purple\n",
    "                line=dict(width=1, color='rgb(75,0,130)')  # Indigo\n",
    "            ),\n",
    "            name='Mixed Themes'\n",
    "        )\n",
    "        traces.append(mixed_trace)\n",
    "\n",
    "\n",
    "    # Create figure\n",
    "    fig = go.Figure(data=traces)\n",
    "\n",
    "\n",
    "    # Update layout for better visualization\n",
    "    fig.update_layout(\n",
    "        title=\"Theme Network Visualization (90%+ Confidence)\",\n",
    "        showlegend=True,\n",
    "        hovermode='closest',\n",
    "        width=1200,\n",
    "        height=1000,\n",
    "        margin=dict(b=20, l=20, r=20, t=60),\n",
    "        xaxis=dict(\n",
    "            showgrid=False,\n",
    "            zeroline=False,\n",
    "            showticklabels=False,\n",
    "            range=[-15, 15]  # Expanded range\n",
    "        ),\n",
    "        yaxis=dict(\n",
    "            showgrid=False,\n",
    "            zeroline=False,\n",
    "            showticklabels=False,\n",
    "            range=[-15, 15]  # Expanded range\n",
    "        ),\n",
    "        plot_bgcolor='white',\n",
    "        paper_bgcolor='white'\n",
    "    )\n",
    "\n",
    "\n",
    "    # Print statistics\n",
    "    print(f\"Total Themes: {len(G.nodes())}\")\n",
    "    print(f\"Bot Themes: {len(bot_nodes)}\")\n",
    "    print(f\"Non-Bot Themes: {len(nonbot_nodes)}\")\n",
    "    print(f\"Mixed Themes: {len(mixed_nodes)}\")\n",
    "\n",
    "\n",
    "    # Show the figure\n",
    "    fig.show()\n",
    "\n",
    "\n",
    "# Load the JSON files\n",
    "data_label_0 = load_json_file('label_0.json')  # Bot data\n",
    "data_label_1 = load_json_file('label_1.json')  # Non-bot data\n",
    "\n",
    "\n",
    "# Create the network\n",
    "high_confidence_network = create_theme_network(data_label_0, data_label_1, min_confidence=90)\n",
    "\n",
    "\n",
    "# Visualize the network\n",
    "visualize_network(high_confidence_network)"
   ]
  },
  {
   "cell_type": "code",
   "execution_count": 31,
   "metadata": {},
   "outputs": [
    {
     "name": "stdout",
     "output_type": "stream",
     "text": [
      "Total Nodes: 43\n",
      "Bot Themes: 7\n",
      "Nonbot Themes: 34\n",
      "Mixed Themes: 2\n"
     ]
    },
    {
     "data": {
      "application/vnd.plotly.v1+json": {
       "config": {
        "plotlyServerURL": "https://plot.ly"
       },
       "data": [
        {
         "hoverinfo": "text",
         "hovertext": [
          "Theme: Space Exploration and Discovery<br>Type: Bot<br>Confidence: 90%<br>Keywords: planet, discovery, space<br>Sentiment: neutral",
          "Theme: Pop Culture and Entertainment<br>Type: Bot<br>Confidence: 90%<br>Keywords: BONG, Quantum Break, Marco Rubio, RemyyXxX, God, pop culture<br>Sentiment: neutral",
          "Theme: Travel/Transportation<br>Type: Bot<br>Confidence: 100%<br>Keywords: Travel, Transportation, Aviation, Tourism, Wine<br>Sentiment: neutral",
          "Theme: Security and Exploits<br>Type: Bot<br>Confidence: 90%<br>Keywords: exploits, security, PHP-Proxy<br>Sentiment: neutral",
          "Theme: Film and Entertainment<br>Type: Bot<br>Confidence: 90%<br>Keywords: Cage, Atlantic City, WW2, film, production<br>Sentiment: neutral",
          "Theme: Science and Discovery<br>Type: Bot<br>Confidence: 95%<br>Keywords: planet, cyborg<br>Sentiment: neutral",
          "Theme: Cryptocurrency and Bitcoin<br>Type: Bot<br>Confidence: 100%<br>Keywords: bitcoin, bch, bug, price, security<br>Sentiment: neutral"
         ],
         "marker": {
          "color": "rgb(255,0,0)",
          "line": {
           "color": "black",
           "width": 1
          },
          "size": 10
         },
         "mode": "markers",
         "name": "Bot Themes",
         "type": "scatter",
         "x": [
          -5.152017511355747,
          -8.350491055134954,
          -6.174473218305322,
          -7.005384229043659,
          -7.676431939052246,
          -5.159578895466965,
          -5.224471679215659
         ],
         "y": [
          -8.74016481148055,
          -6.709774018741263,
          -9.08731164758781,
          -6.354574763993926,
          -5.239943275119952,
          -6.961414349126104,
          -6.88388831083527
         ]
        },
        {
         "hoverinfo": "text",
         "hovertext": [
          "Theme: News and Information<br>Type: Nonbot<br>Confidence: 90%<br>Keywords: news, information, environment<br>Sentiment: neutral",
          "Theme: Politics and Governance<br>Type: Nonbot<br>Confidence: 92%<br>Keywords: Kavanaugh, Supreme Court, election, voting, integrity<br>Sentiment: neutral",
          "Theme: Entertainment and Culture<br>Type: Nonbot<br>Confidence: 95%<br>Keywords: music, movies, celebrities, social media<br>Sentiment: neutral",
          "Theme: Social Media and Tech<br>Type: Nonbot<br>Confidence: 90%<br>Keywords: social media, post office, bureaucracy<br>Sentiment: neutral",
          "Theme: Amy Schumer and Trainwreck<br>Type: Nonbot<br>Confidence: 90%<br>Keywords: Amy Schumer, comedy, Trainwreck, entertainment<br>Sentiment: neutral",
          "Theme: Linkin Park and Music<br>Type: Nonbot<br>Confidence: 95%<br>Keywords: music, fandom, Linkin Park, community<br>Sentiment: neutral",
          "Theme: Small Business and Entrepreneurship<br>Type: Nonbot<br>Confidence: 90%<br>Keywords: small business, innovation, networking, community<br>Sentiment: neutral",
          "Theme: Social Media and Online Engagement<br>Type: Nonbot<br>Confidence: 98%<br>Keywords: social media, online engagement, book, reading, pop culture, entertainment, politics, current events<br>Sentiment: neutral",
          "Theme: Personal and Emotional Experiences<br>Type: Nonbot<br>Confidence: 90%<br>Keywords: personal experiences, emotional support, growth, self-improvement, empathy<br>Sentiment: neutral",
          "Theme: Motivation and Success<br>Type: Nonbot<br>Confidence: 90%<br>Keywords: success, achievement, inspiration<br>Sentiment: neutral",
          "Theme: Support and Inspiration<br>Type: Nonbot<br>Confidence: 90%<br>Keywords: joy, inspiration, motivation, empowerment, achievements, dreams, future, bright<br>Sentiment: neutral",
          "Theme: Political Commentary and Criticism<br>Type: Nonbot<br>Confidence: 96%<br>Keywords: politics, criticism, leadership, governance, extremism, tribal<br>Sentiment: neutral",
          "Theme: News and Current Events<br>Type: Nonbot<br>Confidence: 90%<br>Keywords: #Breaking, Hiroshima<br>Sentiment: neutral",
          "Theme: Music and Entertainment<br>Type: Nonbot<br>Confidence: 92%<br>Keywords: music, entertainment, album, LP<br>Sentiment: neutral",
          "Theme: Social Media and Events<br>Type: Nonbot<br>Confidence: 90%<br>Keywords: social media, events, engagement, promotions<br>Sentiment: neutral",
          "Theme: Politics and World News<br>Type: Nonbot<br>Confidence: 95%<br>Keywords: politics, government, international, news<br>Sentiment: neutral",
          "Theme: Discontent and Criticism<br>Type: Nonbot<br>Confidence: 90%<br>Keywords: PMLN, PTI, inauguration, wasted, @bluesatch, @plantbasedcaleb, truth<br>Sentiment: neutral",
          "Theme: Environmental Conservation<br>Type: Nonbot<br>Confidence: 90%<br>Keywords: Gambila river bed plantation, Billion tree tsunami<br>Sentiment: neutral",
          "Theme: News and Updates<br>Type: Nonbot<br>Confidence: 98%<br>Keywords: news, updates<br>Sentiment: neutral",
          "Theme: Celebrity and Entertainment<br>Type: Nonbot<br>Confidence: 90%<br>Keywords: <br>Sentiment: neutral",
          "Theme: Current Events<br>Type: Nonbot<br>Confidence: 90%<br>Keywords: Holocaust, survivor, Alice Herz-Sommer, Labor, bill, politics<br>Sentiment: neutral",
          "Theme: Financial and Economic Issues<br>Type: Nonbot<br>Confidence: 91%<br>Keywords: taxation, government, investment, technology, ethereum, GST<br>Sentiment: neutral",
          "Theme: Humor and Satire<br>Type: Nonbot<br>Confidence: 90%<br>Keywords: umbrella license test, apparently-sat-front-row-on-the-log-flume, NYC summer aesthetic<br>Sentiment: neutral",
          "Theme: Politics and Social Issues<br>Type: Nonbot<br>Confidence: 90%<br>Keywords: politics, social issues, justice<br>Sentiment: neutral",
          "Theme: Entertainment and Humor<br>Type: Nonbot<br>Confidence: 90%<br>Keywords: internet, memes, jokes<br>Sentiment: neutral",
          "Theme: Breaking News<br>Type: Nonbot<br>Confidence: 90%<br>Keywords: Cosby, BDS<br>Sentiment: neutral",
          "Theme: News and Politics<br>Type: Nonbot<br>Confidence: 90%<br>Keywords: @NYTimeskrugman, @AElliottTV<br>Sentiment: neutral",
          "Theme: Entertainment and Media<br>Type: Nonbot<br>Confidence: 90%<br>Keywords: TV, film, media, music, performance, art, social media, technology, online communities<br>Sentiment: neutral",
          "Theme: Food and Dining<br>Type: Nonbot<br>Confidence: 100%<br>Keywords: Brick & Fire, wood fire pizza<br>Sentiment: neutral",
          "Theme: Technology and Manufacturing<br>Type: Nonbot<br>Confidence: 100%<br>Keywords: 3D-Printed metal, manufacturing<br>Sentiment: neutral",
          "Theme: Parenting and Family<br>Type: Nonbot<br>Confidence: 90%<br>Keywords: parenting, unconditional love<br>Sentiment: neutral",
          "Theme: Social Issues and Politics<br>Type: Nonbot<br>Confidence: 90%<br>Keywords: Roy Moore, Snowden, Candor with the Chinese<br>Sentiment: neutral",
          "Theme: Celebrations<br>Type: Nonbot<br>Confidence: 100%<br>Keywords: birthday, friend, celebrating, shining example<br>Sentiment: neutral",
          "Theme: European Union Politics<br>Type: Nonbot<br>Confidence: 98%<br>Keywords: EU, Brexit, leave, currency<br>Sentiment: neutral"
         ],
         "marker": {
          "color": "rgb(0,0,255)",
          "line": {
           "color": "black",
           "width": 1
          },
          "size": 10
         },
         "mode": "markers",
         "name": "Nonbot Themes",
         "type": "scatter",
         "x": [
          6.033178671666498,
          7.568640143434667,
          7.790986874577542,
          5.751103333614427,
          9.482894549611922,
          7.5999405137338,
          9.905709758149609,
          5.598480497940207,
          7.724765953800194,
          7.2003612775565475,
          9.32848176334436,
          6.956922029742259,
          8.591878498093605,
          7.079151721830935,
          5.2204275703924825,
          6.777718515947996,
          8.05275191268073,
          9.529739182672229,
          8.711371397047815,
          8.49117786068488,
          6.985373148866349,
          7.117432043988579,
          5.494808931609667,
          5.33161587849518,
          8.88419176290882,
          6.931157976716034,
          8.10334614385491,
          7.651046346899916,
          5.441202335334437,
          7.494185285827911,
          5.571501030492688,
          7.665261651008144,
          8.418337090247947,
          8.802053357583812
         ],
         "y": [
          7.793659002316565,
          5.910501447206087,
          8.130928829358384,
          7.716586327576701,
          6.887399362897165,
          8.657144071757608,
          5.9435673057092355,
          5.892340441075088,
          9.07577537284965,
          7.7817145550558795,
          7.957965445003177,
          9.796573926628202,
          8.225046188639144,
          9.139932238113259,
          8.653597020578758,
          8.170515078746364,
          6.782187311660966,
          6.007250422492732,
          9.175960265997375,
          8.826749771302289,
          8.40929231651908,
          6.082784058623275,
          9.56017889514893,
          8.194899676383734,
          7.7557790194992835,
          5.643711191308871,
          7.114517731690375,
          6.555855858042517,
          6.112295239343878,
          9.959852031500326,
          9.546664035249579,
          5.26805897107238,
          8.318423081492243,
          5.672874330182358
         ]
        },
        {
         "hoverinfo": "text",
         "hovertext": [
          "Theme: Miscellaneous<br>Type: Mixed<br>Confidence: 90%<br>Keywords: Santacon, liquorice allsorts, cry, boredom<br>Sentiment: neutral",
          "Theme: Technology and Innovation<br>Type: Mixed<br>Confidence: 90%<br>Keywords: technology, innovation, Scaleway Disruptive ARMv8 Cloud Servers<br>Sentiment: neutral"
         ],
         "marker": {
          "color": "rgb(0,128,0)",
          "line": {
           "color": "black",
           "width": 1
          },
          "size": 10
         },
         "mode": "markers",
         "name": "Mixed Themes",
         "type": "scatter",
         "x": [
          -1.4200495728870122,
          1.4478980052543498
         ],
         "y": [
          -0.410400823434796,
          -0.9611818336386082
         ]
        }
       ],
       "layout": {
        "dragmode": "pan",
        "height": 1000,
        "hovermode": "closest",
        "margin": {
         "b": 20,
         "l": 20,
         "r": 20,
         "t": 50
        },
        "paper_bgcolor": "white",
        "plot_bgcolor": "white",
        "showlegend": true,
        "template": {
         "data": {
          "bar": [
           {
            "error_x": {
             "color": "#2a3f5f"
            },
            "error_y": {
             "color": "#2a3f5f"
            },
            "marker": {
             "line": {
              "color": "#E5ECF6",
              "width": 0.5
             },
             "pattern": {
              "fillmode": "overlay",
              "size": 10,
              "solidity": 0.2
             }
            },
            "type": "bar"
           }
          ],
          "barpolar": [
           {
            "marker": {
             "line": {
              "color": "#E5ECF6",
              "width": 0.5
             },
             "pattern": {
              "fillmode": "overlay",
              "size": 10,
              "solidity": 0.2
             }
            },
            "type": "barpolar"
           }
          ],
          "carpet": [
           {
            "aaxis": {
             "endlinecolor": "#2a3f5f",
             "gridcolor": "white",
             "linecolor": "white",
             "minorgridcolor": "white",
             "startlinecolor": "#2a3f5f"
            },
            "baxis": {
             "endlinecolor": "#2a3f5f",
             "gridcolor": "white",
             "linecolor": "white",
             "minorgridcolor": "white",
             "startlinecolor": "#2a3f5f"
            },
            "type": "carpet"
           }
          ],
          "choropleth": [
           {
            "colorbar": {
             "outlinewidth": 0,
             "ticks": ""
            },
            "type": "choropleth"
           }
          ],
          "contour": [
           {
            "colorbar": {
             "outlinewidth": 0,
             "ticks": ""
            },
            "colorscale": [
             [
              0,
              "#0d0887"
             ],
             [
              0.1111111111111111,
              "#46039f"
             ],
             [
              0.2222222222222222,
              "#7201a8"
             ],
             [
              0.3333333333333333,
              "#9c179e"
             ],
             [
              0.4444444444444444,
              "#bd3786"
             ],
             [
              0.5555555555555556,
              "#d8576b"
             ],
             [
              0.6666666666666666,
              "#ed7953"
             ],
             [
              0.7777777777777778,
              "#fb9f3a"
             ],
             [
              0.8888888888888888,
              "#fdca26"
             ],
             [
              1,
              "#f0f921"
             ]
            ],
            "type": "contour"
           }
          ],
          "contourcarpet": [
           {
            "colorbar": {
             "outlinewidth": 0,
             "ticks": ""
            },
            "type": "contourcarpet"
           }
          ],
          "heatmap": [
           {
            "colorbar": {
             "outlinewidth": 0,
             "ticks": ""
            },
            "colorscale": [
             [
              0,
              "#0d0887"
             ],
             [
              0.1111111111111111,
              "#46039f"
             ],
             [
              0.2222222222222222,
              "#7201a8"
             ],
             [
              0.3333333333333333,
              "#9c179e"
             ],
             [
              0.4444444444444444,
              "#bd3786"
             ],
             [
              0.5555555555555556,
              "#d8576b"
             ],
             [
              0.6666666666666666,
              "#ed7953"
             ],
             [
              0.7777777777777778,
              "#fb9f3a"
             ],
             [
              0.8888888888888888,
              "#fdca26"
             ],
             [
              1,
              "#f0f921"
             ]
            ],
            "type": "heatmap"
           }
          ],
          "heatmapgl": [
           {
            "colorbar": {
             "outlinewidth": 0,
             "ticks": ""
            },
            "colorscale": [
             [
              0,
              "#0d0887"
             ],
             [
              0.1111111111111111,
              "#46039f"
             ],
             [
              0.2222222222222222,
              "#7201a8"
             ],
             [
              0.3333333333333333,
              "#9c179e"
             ],
             [
              0.4444444444444444,
              "#bd3786"
             ],
             [
              0.5555555555555556,
              "#d8576b"
             ],
             [
              0.6666666666666666,
              "#ed7953"
             ],
             [
              0.7777777777777778,
              "#fb9f3a"
             ],
             [
              0.8888888888888888,
              "#fdca26"
             ],
             [
              1,
              "#f0f921"
             ]
            ],
            "type": "heatmapgl"
           }
          ],
          "histogram": [
           {
            "marker": {
             "pattern": {
              "fillmode": "overlay",
              "size": 10,
              "solidity": 0.2
             }
            },
            "type": "histogram"
           }
          ],
          "histogram2d": [
           {
            "colorbar": {
             "outlinewidth": 0,
             "ticks": ""
            },
            "colorscale": [
             [
              0,
              "#0d0887"
             ],
             [
              0.1111111111111111,
              "#46039f"
             ],
             [
              0.2222222222222222,
              "#7201a8"
             ],
             [
              0.3333333333333333,
              "#9c179e"
             ],
             [
              0.4444444444444444,
              "#bd3786"
             ],
             [
              0.5555555555555556,
              "#d8576b"
             ],
             [
              0.6666666666666666,
              "#ed7953"
             ],
             [
              0.7777777777777778,
              "#fb9f3a"
             ],
             [
              0.8888888888888888,
              "#fdca26"
             ],
             [
              1,
              "#f0f921"
             ]
            ],
            "type": "histogram2d"
           }
          ],
          "histogram2dcontour": [
           {
            "colorbar": {
             "outlinewidth": 0,
             "ticks": ""
            },
            "colorscale": [
             [
              0,
              "#0d0887"
             ],
             [
              0.1111111111111111,
              "#46039f"
             ],
             [
              0.2222222222222222,
              "#7201a8"
             ],
             [
              0.3333333333333333,
              "#9c179e"
             ],
             [
              0.4444444444444444,
              "#bd3786"
             ],
             [
              0.5555555555555556,
              "#d8576b"
             ],
             [
              0.6666666666666666,
              "#ed7953"
             ],
             [
              0.7777777777777778,
              "#fb9f3a"
             ],
             [
              0.8888888888888888,
              "#fdca26"
             ],
             [
              1,
              "#f0f921"
             ]
            ],
            "type": "histogram2dcontour"
           }
          ],
          "mesh3d": [
           {
            "colorbar": {
             "outlinewidth": 0,
             "ticks": ""
            },
            "type": "mesh3d"
           }
          ],
          "parcoords": [
           {
            "line": {
             "colorbar": {
              "outlinewidth": 0,
              "ticks": ""
             }
            },
            "type": "parcoords"
           }
          ],
          "pie": [
           {
            "automargin": true,
            "type": "pie"
           }
          ],
          "scatter": [
           {
            "fillpattern": {
             "fillmode": "overlay",
             "size": 10,
             "solidity": 0.2
            },
            "type": "scatter"
           }
          ],
          "scatter3d": [
           {
            "line": {
             "colorbar": {
              "outlinewidth": 0,
              "ticks": ""
             }
            },
            "marker": {
             "colorbar": {
              "outlinewidth": 0,
              "ticks": ""
             }
            },
            "type": "scatter3d"
           }
          ],
          "scattercarpet": [
           {
            "marker": {
             "colorbar": {
              "outlinewidth": 0,
              "ticks": ""
             }
            },
            "type": "scattercarpet"
           }
          ],
          "scattergeo": [
           {
            "marker": {
             "colorbar": {
              "outlinewidth": 0,
              "ticks": ""
             }
            },
            "type": "scattergeo"
           }
          ],
          "scattergl": [
           {
            "marker": {
             "colorbar": {
              "outlinewidth": 0,
              "ticks": ""
             }
            },
            "type": "scattergl"
           }
          ],
          "scattermapbox": [
           {
            "marker": {
             "colorbar": {
              "outlinewidth": 0,
              "ticks": ""
             }
            },
            "type": "scattermapbox"
           }
          ],
          "scatterpolar": [
           {
            "marker": {
             "colorbar": {
              "outlinewidth": 0,
              "ticks": ""
             }
            },
            "type": "scatterpolar"
           }
          ],
          "scatterpolargl": [
           {
            "marker": {
             "colorbar": {
              "outlinewidth": 0,
              "ticks": ""
             }
            },
            "type": "scatterpolargl"
           }
          ],
          "scatterternary": [
           {
            "marker": {
             "colorbar": {
              "outlinewidth": 0,
              "ticks": ""
             }
            },
            "type": "scatterternary"
           }
          ],
          "surface": [
           {
            "colorbar": {
             "outlinewidth": 0,
             "ticks": ""
            },
            "colorscale": [
             [
              0,
              "#0d0887"
             ],
             [
              0.1111111111111111,
              "#46039f"
             ],
             [
              0.2222222222222222,
              "#7201a8"
             ],
             [
              0.3333333333333333,
              "#9c179e"
             ],
             [
              0.4444444444444444,
              "#bd3786"
             ],
             [
              0.5555555555555556,
              "#d8576b"
             ],
             [
              0.6666666666666666,
              "#ed7953"
             ],
             [
              0.7777777777777778,
              "#fb9f3a"
             ],
             [
              0.8888888888888888,
              "#fdca26"
             ],
             [
              1,
              "#f0f921"
             ]
            ],
            "type": "surface"
           }
          ],
          "table": [
           {
            "cells": {
             "fill": {
              "color": "#EBF0F8"
             },
             "line": {
              "color": "white"
             }
            },
            "header": {
             "fill": {
              "color": "#C8D4E3"
             },
             "line": {
              "color": "white"
             }
            },
            "type": "table"
           }
          ]
         },
         "layout": {
          "annotationdefaults": {
           "arrowcolor": "#2a3f5f",
           "arrowhead": 0,
           "arrowwidth": 1
          },
          "autotypenumbers": "strict",
          "coloraxis": {
           "colorbar": {
            "outlinewidth": 0,
            "ticks": ""
           }
          },
          "colorscale": {
           "diverging": [
            [
             0,
             "#8e0152"
            ],
            [
             0.1,
             "#c51b7d"
            ],
            [
             0.2,
             "#de77ae"
            ],
            [
             0.3,
             "#f1b6da"
            ],
            [
             0.4,
             "#fde0ef"
            ],
            [
             0.5,
             "#f7f7f7"
            ],
            [
             0.6,
             "#e6f5d0"
            ],
            [
             0.7,
             "#b8e186"
            ],
            [
             0.8,
             "#7fbc41"
            ],
            [
             0.9,
             "#4d9221"
            ],
            [
             1,
             "#276419"
            ]
           ],
           "sequential": [
            [
             0,
             "#0d0887"
            ],
            [
             0.1111111111111111,
             "#46039f"
            ],
            [
             0.2222222222222222,
             "#7201a8"
            ],
            [
             0.3333333333333333,
             "#9c179e"
            ],
            [
             0.4444444444444444,
             "#bd3786"
            ],
            [
             0.5555555555555556,
             "#d8576b"
            ],
            [
             0.6666666666666666,
             "#ed7953"
            ],
            [
             0.7777777777777778,
             "#fb9f3a"
            ],
            [
             0.8888888888888888,
             "#fdca26"
            ],
            [
             1,
             "#f0f921"
            ]
           ],
           "sequentialminus": [
            [
             0,
             "#0d0887"
            ],
            [
             0.1111111111111111,
             "#46039f"
            ],
            [
             0.2222222222222222,
             "#7201a8"
            ],
            [
             0.3333333333333333,
             "#9c179e"
            ],
            [
             0.4444444444444444,
             "#bd3786"
            ],
            [
             0.5555555555555556,
             "#d8576b"
            ],
            [
             0.6666666666666666,
             "#ed7953"
            ],
            [
             0.7777777777777778,
             "#fb9f3a"
            ],
            [
             0.8888888888888888,
             "#fdca26"
            ],
            [
             1,
             "#f0f921"
            ]
           ]
          },
          "colorway": [
           "#636efa",
           "#EF553B",
           "#00cc96",
           "#ab63fa",
           "#FFA15A",
           "#19d3f3",
           "#FF6692",
           "#B6E880",
           "#FF97FF",
           "#FECB52"
          ],
          "font": {
           "color": "#2a3f5f"
          },
          "geo": {
           "bgcolor": "white",
           "lakecolor": "white",
           "landcolor": "#E5ECF6",
           "showlakes": true,
           "showland": true,
           "subunitcolor": "white"
          },
          "hoverlabel": {
           "align": "left"
          },
          "hovermode": "closest",
          "mapbox": {
           "style": "light"
          },
          "paper_bgcolor": "white",
          "plot_bgcolor": "#E5ECF6",
          "polar": {
           "angularaxis": {
            "gridcolor": "white",
            "linecolor": "white",
            "ticks": ""
           },
           "bgcolor": "#E5ECF6",
           "radialaxis": {
            "gridcolor": "white",
            "linecolor": "white",
            "ticks": ""
           }
          },
          "scene": {
           "xaxis": {
            "backgroundcolor": "#E5ECF6",
            "gridcolor": "white",
            "gridwidth": 2,
            "linecolor": "white",
            "showbackground": true,
            "ticks": "",
            "zerolinecolor": "white"
           },
           "yaxis": {
            "backgroundcolor": "#E5ECF6",
            "gridcolor": "white",
            "gridwidth": 2,
            "linecolor": "white",
            "showbackground": true,
            "ticks": "",
            "zerolinecolor": "white"
           },
           "zaxis": {
            "backgroundcolor": "#E5ECF6",
            "gridcolor": "white",
            "gridwidth": 2,
            "linecolor": "white",
            "showbackground": true,
            "ticks": "",
            "zerolinecolor": "white"
           }
          },
          "shapedefaults": {
           "line": {
            "color": "#2a3f5f"
           }
          },
          "ternary": {
           "aaxis": {
            "gridcolor": "white",
            "linecolor": "white",
            "ticks": ""
           },
           "baxis": {
            "gridcolor": "white",
            "linecolor": "white",
            "ticks": ""
           },
           "bgcolor": "#E5ECF6",
           "caxis": {
            "gridcolor": "white",
            "linecolor": "white",
            "ticks": ""
           }
          },
          "title": {
           "x": 0.05
          },
          "xaxis": {
           "automargin": true,
           "gridcolor": "white",
           "linecolor": "white",
           "ticks": "",
           "title": {
            "standoff": 15
           },
           "zerolinecolor": "white",
           "zerolinewidth": 2
          },
          "yaxis": {
           "automargin": true,
           "gridcolor": "white",
           "linecolor": "white",
           "ticks": "",
           "title": {
            "standoff": 15
           },
           "zerolinecolor": "white",
           "zerolinewidth": 2
          }
         }
        },
        "title": {
         "text": "Theme Network Visualization (Clustered by Bot Status)"
        },
        "width": 1200,
        "xaxis": {
         "showgrid": false,
         "showticklabels": false,
         "zeroline": false
        },
        "yaxis": {
         "showgrid": false,
         "showticklabels": false,
         "zeroline": false
        }
       }
      }
     },
     "metadata": {},
     "output_type": "display_data"
    }
   ],
   "source": [
    "import json\n",
    "import networkx as nx\n",
    "import plotly.graph_objects as go\n",
    "import numpy as np\n",
    "\n",
    "\n",
    "def load_json_file(file_path):\n",
    "    \"\"\"Load JSON file safely.\"\"\"\n",
    "    try:\n",
    "        with open(file_path, 'r', encoding='utf-8') as file:\n",
    "            return json.load(file)\n",
    "    except Exception as e:\n",
    "        print(f\"Error loading JSON file {file_path}: {e}\")\n",
    "        return []\n",
    "\n",
    "\n",
    "def create_theme_network(data_bot, data_nonbot, min_confidence=90):\n",
    "    \"\"\"Create a network graph from themes with a minimum confidence level.\"\"\"\n",
    "    G = nx.Graph()\n",
    "\n",
    "    def process_data(data, is_bot=True):\n",
    "        for item in data:\n",
    "            response = item.get('response')\n",
    "            if isinstance(response, str):\n",
    "                try:\n",
    "                    response_data = json.loads(response)\n",
    "                    themes = response_data.get('overall_themes', [])\n",
    "                    for theme in themes:\n",
    "                        confidence = theme.get('confidence', 0)\n",
    "                        if confidence >= min_confidence:\n",
    "                            theme_name = theme['name']\n",
    "                            keywords = theme.get('keywords', [])\n",
    "                            sentiment = theme.get('sentiment', 'neutral')\n",
    "                            if not G.has_node(theme_name):\n",
    "                                G.add_node(theme_name,\n",
    "                                           type='theme',\n",
    "                                           is_bot=is_bot,\n",
    "                                           confidence=confidence,\n",
    "                                           keywords=keywords,\n",
    "                                           sentiment=sentiment)\n",
    "                            else:\n",
    "                                current_bot_status = G.nodes[theme_name].get('is_bot')\n",
    "                                if current_bot_status != is_bot:\n",
    "                                    G.nodes[theme_name]['is_bot'] = 'mixed'\n",
    "                except json.JSONDecodeError:\n",
    "                    print(f\"Invalid JSON in response: {response}\")\n",
    "\n",
    "    process_data(data_bot, is_bot=True)\n",
    "    process_data(data_nonbot, is_bot=False)\n",
    "    return G\n",
    "\n",
    "\n",
    "def visualize_network(G):\n",
    "    \"\"\"Visualize network clustered by bot and nonbot themes with zoom functionality.\"\"\"\n",
    "    if len(G.nodes) == 0:\n",
    "        print(\"No nodes to visualize.\")\n",
    "        return\n",
    "\n",
    "    # Assign positions to cluster bot, nonbot, and mixed themes\n",
    "    bot_positions = np.random.uniform(-10, -5, (len([n for n, d in G.nodes(data=True) if d['is_bot'] == True]), 2))\n",
    "    nonbot_positions = np.random.uniform(5, 10, (len([n for n, d in G.nodes(data=True) if d['is_bot'] == False]), 2))\n",
    "    mixed_positions = np.random.uniform(-2, 2, (len([n for n, d in G.nodes(data=True) if d['is_bot'] == 'mixed']), 2))\n",
    "\n",
    "    # Map positions back to nodes\n",
    "    node_positions = {}\n",
    "    for i, node in enumerate([n for n, d in G.nodes(data=True) if d['is_bot'] == True]):\n",
    "        node_positions[node] = bot_positions[i]\n",
    "    for i, node in enumerate([n for n, d in G.nodes(data=True) if d['is_bot'] == False]):\n",
    "        node_positions[node] = nonbot_positions[i]\n",
    "    for i, node in enumerate([n for n, d in G.nodes(data=True) if d['is_bot'] == 'mixed']):\n",
    "        node_positions[node] = mixed_positions[i]\n",
    "\n",
    "    # Define categories and colors\n",
    "    categories = {\n",
    "        'bot': {'nodes': [], 'color': 'rgb(255,0,0)', 'positions': []},\n",
    "        'nonbot': {'nodes': [], 'color': 'rgb(0,0,255)', 'positions': []},\n",
    "        'mixed': {'nodes': [], 'color': 'rgb(0,128,0)', 'positions': []},\n",
    "    }\n",
    "\n",
    "    for node, data in G.nodes(data=True):\n",
    "        category = 'mixed' if data['is_bot'] == 'mixed' else 'bot' if data['is_bot'] else 'nonbot'\n",
    "        categories[category]['nodes'].append(node)\n",
    "        categories[category]['positions'].append(node_positions[node])\n",
    "\n",
    "    # Create traces for each category\n",
    "    traces = []\n",
    "    for category, details in categories.items():\n",
    "        x, y = zip(*details['positions']) if details['positions'] else ([], [])\n",
    "        hover_text = [\n",
    "            f\"Theme: {node}<br>\"\n",
    "            f\"Type: {category.capitalize()}<br>\"\n",
    "            f\"Confidence: {G.nodes[node]['confidence']}%<br>\"\n",
    "            f\"Keywords: {', '.join(G.nodes[node].get('keywords', []))}<br>\"\n",
    "            f\"Sentiment: {G.nodes[node].get('sentiment', 'neutral')}\"\n",
    "            for node in details['nodes']\n",
    "        ]\n",
    "        traces.append(go.Scatter(\n",
    "            x=x,\n",
    "            y=y,\n",
    "            mode='markers',\n",
    "            marker=dict(\n",
    "                size=10,\n",
    "                color=details['color'],\n",
    "                line=dict(width=1, color='black')\n",
    "            ),\n",
    "            hovertext=hover_text,\n",
    "            hoverinfo='text',\n",
    "            name=f\"{category.capitalize()} Themes\"\n",
    "        ))\n",
    "\n",
    "    # Create the figure\n",
    "    fig = go.Figure(data=traces)\n",
    "    fig.update_layout(\n",
    "        title=\"Theme Network Visualization (Clustered by Bot Status)\",\n",
    "        showlegend=True,\n",
    "        hovermode='closest',\n",
    "        xaxis=dict(showgrid=False, zeroline=False, showticklabels=False),\n",
    "        yaxis=dict(showgrid=False, zeroline=False, showticklabels=False),\n",
    "        width=1200,\n",
    "        height=1000,\n",
    "        margin=dict(l=20, r=20, t=50, b=20),\n",
    "        plot_bgcolor='white',\n",
    "        paper_bgcolor='white',\n",
    "        dragmode='pan'\n",
    "    )\n",
    "\n",
    "    print(f\"Total Nodes: {len(G.nodes())}\")\n",
    "    print(f\"Bot Themes: {len(categories['bot']['nodes'])}\")\n",
    "    print(f\"Nonbot Themes: {len(categories['nonbot']['nodes'])}\")\n",
    "    print(f\"Mixed Themes: {len(categories['mixed']['nodes'])}\")\n",
    "\n",
    "    fig.show()\n",
    "\n",
    "\n",
    "# Load JSON files\n",
    "data_label_0 = load_json_file('label_0_1.json')  # Bot data\n",
    "data_label_1 = load_json_file('label_1_1.json')  # Non-bot data\n",
    "\n",
    "# Create network\n",
    "network = create_theme_network(data_label_0, data_label_1, min_confidence=90)\n",
    "\n",
    "# Visualize network\n",
    "visualize_network(network)\n"
   ]
  }
 ],
 "metadata": {
  "kernelspec": {
   "display_name": "Python 3",
   "language": "python",
   "name": "python3"
  },
  "language_info": {
   "codemirror_mode": {
    "name": "ipython",
    "version": 3
   },
   "file_extension": ".py",
   "mimetype": "text/x-python",
   "name": "python",
   "nbconvert_exporter": "python",
   "pygments_lexer": "ipython3",
   "version": "3.11.10"
  }
 },
 "nbformat": 4,
 "nbformat_minor": 2
}
