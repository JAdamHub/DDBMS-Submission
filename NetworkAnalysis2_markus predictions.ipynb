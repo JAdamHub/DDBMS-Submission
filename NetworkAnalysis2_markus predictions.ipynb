{
 "cells": [
  {
   "cell_type": "markdown",
   "metadata": {},
   "source": [
    "## Libraries Setup"
   ]
  },
  {
   "cell_type": "code",
   "execution_count": 17,
   "metadata": {},
   "outputs": [
    {
     "name": "stderr",
     "output_type": "stream",
     "text": [
      "/Users/markushenriksson/Desktop/Data/Python/DDBMS-Submission/.conda/lib/python3.12/pty.py:95: DeprecationWarning:\n",
      "\n",
      "This process (pid=24942) is multi-threaded, use of forkpty() may lead to deadlocks in the child.\n",
      "\n"
     ]
    }
   ],
   "source": [
    "!pip install -r requirements.txt -q"
   ]
  },
  {
   "cell_type": "code",
   "execution_count": 18,
   "metadata": {},
   "outputs": [],
   "source": [
    "# Datahandling\n",
    "import requests\n",
    "import os\n",
    "os.environ[\"TOKENIZERS_PARALLELISM\"] = \"false\"\n",
    "import numpy as np\n",
    "import pandas as pd\n",
    "import seaborn as sns\n",
    "\n",
    "# Tweet Themes\n",
    "from sentence_transformers import SentenceTransformer\n",
    "import umap\n",
    "import hdbscan\n",
    "import matplotlib.pyplot as plt\n",
    "import plotly.express as px\n",
    "\n",
    "# Network analysis\n",
    "from typing import List, Optional\n",
    "import json\n",
    "import matplotlib.patches as mpatches\n",
    "import networkx as nx\n",
    "from community import community_louvain\n",
    "import plotly.graph_objects as go\n",
    "import random\n",
    "from collections import defaultdict\n",
    "import nbformat\n",
    "\n",
    "# Model prediction\n",
    "from setfit import SetFitModel, SetFitTrainer\n",
    "from sklearn.metrics import classification_report\n",
    "import tiktoken\n",
    "\n",
    "# Gradio deployment\n",
    "import gradio as gr\n"
   ]
  },
  {
   "cell_type": "markdown",
   "metadata": {},
   "source": [
    "## Data import"
   ]
  },
  {
   "cell_type": "code",
   "execution_count": 46,
   "metadata": {},
   "outputs": [],
   "source": [
    "# data sampling? 20000\n",
    "data = pd.read_csv('predictions_output.csv')\n",
    "# data = data.sample(n=2000, random_state=42)"
   ]
  },
  {
   "cell_type": "code",
   "execution_count": 47,
   "metadata": {},
   "outputs": [
    {
     "name": "stdout",
     "output_type": "stream",
     "text": [
      "Data with label=0: 138 rows\n",
      "Data with label=1: 49 rows\n"
     ]
    }
   ],
   "source": [
    "# Split the data based on the `label` column\n",
    "data_label_0 = data[data['Label'] == 0]  # Subset where label=0\n",
    "data_label_1 = data[data['Label'] == 1]  # Subset where label=1\n",
    "\n",
    "# Optionally, check the sizes of the splits\n",
    "print(f\"Data with label=0: {len(data_label_0)} rows\")\n",
    "print(f\"Data with label=1: {len(data_label_1)} rows\")"
   ]
  },
  {
   "cell_type": "code",
   "execution_count": 48,
   "metadata": {},
   "outputs": [],
   "source": [
    "# LLM Libs & Setup\n",
    "from openai import OpenAI\n",
    "import json\n",
    "from pydantic import BaseModel, Field\n",
    "from typing import List, Optional\n",
    "import textwrap"
   ]
  },
  {
   "cell_type": "markdown",
   "metadata": {},
   "source": [
    "## LLM Setup"
   ]
  },
  {
   "cell_type": "code",
   "execution_count": 49,
   "metadata": {},
   "outputs": [],
   "source": [
    "# Set your Together API Key directly\n",
    "TOGETHER_API_KEY = \"f7f98865262e753df89a8ac3b7bc474ff5eb2e86416e78550148a64d061e36ed\"\n",
    "\n",
    "# Check if the API key is set\n",
    "if not TOGETHER_API_KEY:\n",
    "    raise ValueError(\"The Together API Key must be provided.\")\n",
    "\n",
    "# Initialize the Together client\n",
    "client = OpenAI(\n",
    "    base_url=\"https://api.together.xyz/v1\",\n",
    "    api_key=TOGETHER_API_KEY\n",
    ")\n",
    "\n",
    "# Define the model\n",
    "model = \"meta-llama/Meta-Llama-3.1-8B-Instruct-Turbo\""
   ]
  },
  {
   "cell_type": "markdown",
   "metadata": {},
   "source": [
    "## System_Prompt + JSON_schema Setup"
   ]
  },
  {
   "cell_type": "code",
   "execution_count": 51,
   "metadata": {},
   "outputs": [],
   "source": [
    "SYSTEM_PROMPT = \"\"\"\n",
    "System Prompt:\n",
    "\n",
    "You are an advanced NLP assistant tasked with analyzing tweets about a company. Each tweet is labeled as being from either a bot (0) or a human (1). Your goals are to identify themes, assess sentiment, extract keywords, and assign significance scores. Follow these steps:\n",
    "\n",
    "Theme Identification:\n",
    "\n",
    "- Group tweets into 5-15 overall themes or mentions about the company. Themes represent key topics, issues, or narratives surrounding the company.\n",
    "- For each theme, provide subthemes or keywords that explain why the theme was chosen. These keywords should summarize the driving factors behind the theme.\n",
    "\n",
    "Sentiment Analysis:\n",
    "\n",
    "- Perform sentiment analysis for each tweet and aggregate these sentiments to determine the overall sentiment for each theme (positive, neutral, or negative).\n",
    "- Provide an average sentiment score (-1 to +1 scale) for each theme.\n",
    "\n",
    "Theme Significance:\n",
    "\n",
    "- Assign a significance score (1-100) for each theme based on how many tweets contribute to it, and other relevant metrics (e.g., impact of subthemes, relevance to overall narrative).\n",
    "\n",
    "Output Structure:\n",
    "\n",
    "For each theme, provide:\n",
    "- Theme title.\n",
    "- Sentiment summary (positive/negative/neutral, average sentiment score).\n",
    "- Subthemes/keywords explaining the causation of the theme.\n",
    "- Significance score.\n",
    "\n",
    "\n",
    "Consideration:\n",
    "\n",
    "- Focus on human-labeled tweets (1) for primary analysis but note any notable patterns from bot-labeled tweets (0).\n",
    "- Highlight anomalies or unexpected findings, if any.\n",
    "\"\"\"\n"
   ]
  },
  {
   "cell_type": "code",
   "execution_count": 53,
   "metadata": {},
   "outputs": [],
   "source": [
    "json_schema = {\n",
    "    \"type\": \"object\",\n",
    "    \"properties\": {\n",
    "        \"themes\": {\n",
    "            \"type\": \"array\",\n",
    "            \"items\": {\n",
    "                \"type\": \"object\",\n",
    "                \"properties\": {\n",
    "                    \"theme\": {\n",
    "                        \"type\": \"string\",\n",
    "                        \"description\": \"Title of the overall theme\"\n",
    "                    },\n",
    "                    \"sentiment\": {\n",
    "                        \"type\": \"object\",\n",
    "                        \"properties\": {\n",
    "                            \"overall\": {\n",
    "                                \"type\": \"string\",\n",
    "                                \"enum\": [\"positive\", \"neutral\", \"negative\"],\n",
    "                                \"description\": \"Overall sentiment of the theme\"\n",
    "                            },\n",
    "                            \"average_score\": {\n",
    "                                \"type\": \"number\",\n",
    "                                \"minimum\": -1,\n",
    "                                \"maximum\": 1,\n",
    "                                \"description\": \"Average sentiment score of the theme\"\n",
    "                            }\n",
    "                        },\n",
    "                        \"required\": [\"overall\", \"average_score\"]\n",
    "                    },\n",
    "                    \"subthemes\": {\n",
    "                        \"type\": \"array\",\n",
    "                        \"items\": {\n",
    "                            \"type\": \"string\"\n",
    "                        },\n",
    "                        \"description\": \"List of keywords or subthemes driving the main theme\"\n",
    "                    },\n",
    "                    \"significance\": {\n",
    "                        \"type\": \"integer\",\n",
    "                        \"minimum\": 1,\n",
    "                        \"maximum\": 100,\n",
    "                        \"description\": \"Significance score of the theme\"\n",
    "                    }\n",
    "                },\n",
    "                \"required\": [\"theme\", \"sentiment\", \"subthemes\", \"significance\"]\n",
    "            }\n",
    "        }\n",
    "    },\n",
    "    \"required\": [\"themes\"]\n",
    "}\n"
   ]
  },
  {
   "cell_type": "code",
   "execution_count": 60,
   "metadata": {},
   "outputs": [
    {
     "name": "stderr",
     "output_type": "stream",
     "text": [
      "/Users/markushenriksson/Desktop/Data/Python/DDBMS-Submission/.conda/lib/python3.12/site-packages/pydantic/fields.py:1032: PydanticDeprecatedSince20:\n",
      "\n",
      "Using extra keyword arguments on `Field` is deprecated and will be removed. Use `json_schema_extra` instead. (Extra keys: 'enum'). Deprecated in Pydantic V2.0 to be removed in V3.0. See Pydantic V2 Migration Guide at https://errors.pydantic.dev/2.10/migration/\n",
      "\n",
      "/Users/markushenriksson/Desktop/Data/Python/DDBMS-Submission/.conda/lib/python3.12/site-packages/pydantic/fields.py:1001: PydanticDeprecatedSince20:\n",
      "\n",
      "`min_items` is deprecated and will be removed, use `min_length` instead. Deprecated in Pydantic V2.0 to be removed in V3.0. See Pydantic V2 Migration Guide at https://errors.pydantic.dev/2.10/migration/\n",
      "\n"
     ]
    }
   ],
   "source": [
    "from pydantic import BaseModel, Field\n",
    "from typing import List, Optional\n",
    "\n",
    "class Sentiment(BaseModel):\n",
    "    overall: str = Field(\n",
    "        description=\"Overall sentiment of the theme\",\n",
    "        enum=[\"positive\", \"neutral\", \"negative\"]\n",
    "    )\n",
    "    average_score: float = Field(\n",
    "        description=\"Average sentiment score of the theme\",\n",
    "        ge=-1,\n",
    "        le=1\n",
    "    )\n",
    "\n",
    "class Theme(BaseModel):\n",
    "    theme: str = Field(description=\"Title of the overall theme\")\n",
    "    sentiment: Sentiment = Field(description=\"Sentiment of the theme\")\n",
    "    subthemes: List[str] = Field(\n",
    "        description=\"List of keywords or subthemes driving the main theme\"\n",
    "    )\n",
    "    significance: int = Field(\n",
    "        description=\"Significance score of the theme\",\n",
    "        ge=1,\n",
    "        le=100\n",
    "    )\n",
    "\n",
    "class TweetAnalysis(BaseModel):\n",
    "    themes: List[Theme] = Field(\n",
    "        description=\"List of identified overall themes\",\n",
    "        min_items=1\n",
    "    )\n",
    "\n",
    "# Dynamically generate the JSON schema\n",
    "json_schema = TweetAnalysis.model_json_schema()\n"
   ]
  },
  {
   "cell_type": "markdown",
   "metadata": {},
   "source": [
    "## LLM-runtime"
   ]
  },
  {
   "cell_type": "code",
   "execution_count": 61,
   "metadata": {},
   "outputs": [
    {
     "name": "stdout",
     "output_type": "stream",
     "text": [
      "Results saved in label_0.json\n"
     ]
    }
   ],
   "source": [
    "import tiktoken\n",
    "import pandas as pd\n",
    "import json\n",
    "import time\n",
    "from concurrent.futures import ThreadPoolExecutor\n",
    "from queue import Queue\n",
    "import threading\n",
    "\n",
    "\n",
    "\n",
    "\n",
    "def rate_limited_executor(max_calls_per_minute=100):\n",
    "    \"\"\"Rate-limited executor for API calls.\"\"\"\n",
    "    call_queue = Queue()\n",
    "\n",
    "\n",
    "\n",
    "\n",
    "    def worker():\n",
    "        while True:\n",
    "            func, args, kwargs, result_queue = call_queue.get()\n",
    "            try:\n",
    "                result_queue.put(func(*args, **kwargs))\n",
    "            except Exception as e:\n",
    "                result_queue.put(e)\n",
    "            call_queue.task_done()\n",
    "            time.sleep(60 / max_calls_per_minute)\n",
    "\n",
    "\n",
    "\n",
    "\n",
    "    for _ in range(max_calls_per_minute):\n",
    "        threading.Thread(target=worker, daemon=True).start()\n",
    "\n",
    "\n",
    "\n",
    "\n",
    "    def submit(func, *args, **kwargs):\n",
    "        result_queue = Queue()\n",
    "        call_queue.put((func, args, kwargs, result_queue))\n",
    "        result = result_queue.get()\n",
    "        if isinstance(result, Exception):\n",
    "            raise result\n",
    "        return result\n",
    "\n",
    "\n",
    "\n",
    "\n",
    "    return submit\n",
    "\n",
    "\n",
    "\n",
    "\n",
    "def process_batch(tweets, executor, model, schema, batch_size):\n",
    "    \"\"\"Process one batch of tweets.\"\"\"\n",
    "    messages = [\n",
    "        {'role': 'system', 'content': SYSTEM_PROMPT},\n",
    "        {'role': 'user', 'content': json.dumps(tweets)}\n",
    "    ]\n",
    "    try:\n",
    "        response = executor(\n",
    "            client.chat.completions.create,\n",
    "            model=model,\n",
    "            messages=messages,\n",
    "            temperature=0.7,\n",
    "            response_format={\"type\": \"json_object\", \"schema\": schema},\n",
    "            max_tokens=8192\n",
    "        )\n",
    "        return {\n",
    "            'batch_size': len(tweets),\n",
    "            'response': response.choices[0].message.content\n",
    "        }\n",
    "    except Exception as e:\n",
    "        return {\n",
    "            'batch_size': len(tweets),\n",
    "            'error': str(e)\n",
    "        }\n",
    "\n",
    "\n",
    "\n",
    "\n",
    "def parallel_process_tweets(data, batch_size, max_workers, model, schema):\n",
    "    \"\"\"Parallel processing of tweets with rate-limiting.\"\"\"\n",
    "    executor = rate_limited_executor(max_calls_per_minute=60)\n",
    "    results = []\n",
    "\n",
    "\n",
    "\n",
    "\n",
    "    def process_and_collect(batch):\n",
    "        tweets = batch['Tweet_text'].tolist()\n",
    "        return process_batch(tweets, executor, model, schema, batch_size)\n",
    "\n",
    "\n",
    "\n",
    "\n",
    "    with ThreadPoolExecutor(max_workers=max_workers) as pool:\n",
    "        batches = [data.iloc[i:i + batch_size] for i in range(0, len(data), batch_size)]\n",
    "        futures = [pool.submit(process_and_collect, batch) for batch in batches]\n",
    "        for future in futures:\n",
    "            results.append(future.result())\n",
    "\n",
    "\n",
    "\n",
    "\n",
    "    return pd.DataFrame(results)\n",
    "\n",
    "\n",
    "\n",
    "\n",
    "def save_results(data, filename):\n",
    "    \"\"\"Save data to JSON file.\"\"\"\n",
    "    try:\n",
    "        with open(filename, 'w', encoding='utf-8') as f:\n",
    "            json.dump(data, f, ensure_ascii=False, indent=4)\n",
    "        print(f\"Results saved in {filename}\")\n",
    "    except Exception as e:\n",
    "        print(f\"Error during saving: {e}\")\n",
    "\n",
    "\n",
    "\n",
    "\n",
    "# Assuming 'data_label_0' is your DataFrame filtered for label 0\n",
    "processed_tweets = parallel_process_tweets(\n",
    "    data=data_label_0,  # Use the data_label_0 DataFrame\n",
    "    batch_size=10,      # Batch size\n",
    "    max_workers=6,     # Number of parallel threads\n",
    "    model=model,        # Your model variable\n",
    "    schema=json_schema  # Your JSON schema variable\n",
    ")\n",
    "\n",
    "\n",
    "\n",
    "\n",
    "# Save the results to label_0_1.json\n",
    "save_results(processed_tweets.to_dict(orient=\"records\"), \"label_0.json\")"
   ]
  },
  {
   "cell_type": "code",
   "execution_count": 65,
   "metadata": {},
   "outputs": [
    {
     "name": "stdout",
     "output_type": "stream",
     "text": [
      "Results saved in label_1.json\n"
     ]
    }
   ],
   "source": [
    "import tiktoken\n",
    "import pandas as pd\n",
    "import json\n",
    "import time\n",
    "from concurrent.futures import ThreadPoolExecutor\n",
    "from queue import Queue\n",
    "import threading\n",
    "\n",
    "def rate_limited_executor(max_calls_per_minute=100):\n",
    "    \"\"\"Rate-limited executor for API calls.\"\"\"\n",
    "    call_queue = Queue()\n",
    "\n",
    "    def worker():\n",
    "        while True:\n",
    "            func, args, kwargs, result_queue = call_queue.get()\n",
    "            try:\n",
    "                result_queue.put(func(*args, **kwargs))\n",
    "            except Exception as e:\n",
    "                result_queue.put(e)\n",
    "            call_queue.task_done()\n",
    "            time.sleep(60 / max_calls_per_minute)\n",
    "\n",
    "    for _ in range(max_calls_per_minute):\n",
    "        threading.Thread(target=worker, daemon=True).start()\n",
    "\n",
    "    def submit(func, *args, **kwargs):\n",
    "        result_queue = Queue()\n",
    "        call_queue.put((func, args, kwargs, result_queue))\n",
    "        result = result_queue.get()\n",
    "        if isinstance(result, Exception):\n",
    "            raise result\n",
    "        return result\n",
    "\n",
    "    return submit\n",
    "\n",
    "def process_batch(tweets, executor, model, schema, batch_size):\n",
    "    \"\"\"Process one batch of tweets.\"\"\"\n",
    "    messages = [\n",
    "        {'role': 'system', 'content': SYSTEM_PROMPT},\n",
    "        {'role': 'user', 'content': json.dumps(tweets)}\n",
    "    ]\n",
    "    try:\n",
    "        response = executor(\n",
    "            client.chat.completions.create,\n",
    "            model=model,\n",
    "            messages=messages,\n",
    "            temperature=0.7,\n",
    "            response_format={\"type\": \"json_object\", \"schema\": schema},\n",
    "            max_tokens=8192\n",
    "        )\n",
    "        return {\n",
    "            'batch_size': len(tweets),\n",
    "            'response': response.choices[0].message.content\n",
    "        }\n",
    "    except Exception as e:\n",
    "        return {\n",
    "            'batch_size': len(tweets),\n",
    "            'error': str(e)\n",
    "        }\n",
    "\n",
    "def parallel_process_tweets(data, batch_size, max_workers, model, schema):\n",
    "    \"\"\"Parallel processing of tweets with rate-limiting.\"\"\"\n",
    "    executor = rate_limited_executor(max_calls_per_minute=60)\n",
    "    results = []\n",
    "\n",
    "    def process_and_collect(batch):\n",
    "        tweets = batch['Tweet_text'].tolist()\n",
    "        return process_batch(tweets, executor, model, schema, batch_size)\n",
    "\n",
    "    with ThreadPoolExecutor(max_workers=max_workers) as pool:\n",
    "        batches = [data.iloc[i:i + batch_size] for i in range(0, len(data), batch_size)]\n",
    "        futures = [pool.submit(process_and_collect, batch) for batch in batches]\n",
    "        for future in futures:\n",
    "            results.append(future.result())\n",
    "\n",
    "    return pd.DataFrame(results)\n",
    "\n",
    "def save_results(data, filename):\n",
    "    \"\"\"Save data to JSON file.\"\"\"\n",
    "    try:\n",
    "        with open(filename, 'w', encoding='utf-8') as f:\n",
    "            json.dump(data, f, ensure_ascii=False, indent=4)\n",
    "        print(f\"Results saved in {filename}\")\n",
    "    except Exception as e:\n",
    "        print(f\"Error during saving: {e}\")\n",
    "\n",
    "# Assuming 'data_label_1' is your DataFrame filtered for label 1\n",
    "processed_tweets = parallel_process_tweets(\n",
    "    data=data_label_1,  # Use the data_label_1 DataFrame\n",
    "    batch_size=10,      # Batch size\n",
    "    max_workers=6,      # Number of parallel threads\n",
    "    model=model,        # Your model variable\n",
    "    schema=json_schema  # Your JSON schema variable\n",
    ")\n",
    "\n",
    "# Save the results to label_1.json\n",
    "save_results(processed_tweets.to_dict(orient=\"records\"), \"label_1.json\")\n"
   ]
  },
  {
   "cell_type": "code",
   "execution_count": 59,
   "metadata": {},
   "outputs": [
    {
     "data": {
      "application/vnd.plotly.v1+json": {
       "config": {
        "plotlyServerURL": "https://plot.ly"
       },
       "data": [
        {
         "hoverinfo": "text",
         "hovertext": [
          "Theme: Cybertruck and Product Line<br>Type: Bot<br>Confidence: 90%<br>Keywords: <br>Sentiment Distribution: Positive 80%, Negative 10%, Neutral 10%",
          "Theme: Elon Musk and Leadership<br>Type: Bot<br>Confidence: 95%<br>Keywords: <br>Sentiment Distribution: Positive 85%, Negative 5%, Neutral 10%",
          "Theme: Tesla Innovations and Technology<br>Type: Bot<br>Confidence: 92%<br>Keywords: <br>Sentiment Distribution: Positive 75%, Negative 10%, Neutral 15%",
          "Theme: Company Achievements and Milestones<br>Type: Bot<br>Confidence: 85%<br>Keywords: <br>Sentiment Distribution: Positive 95%, Negative 0%, Neutral 5%",
          "Theme: Future Products and Announcements<br>Type: Bot<br>Confidence: 80%<br>Keywords: <br>Sentiment Distribution: Positive 80%, Negative 10%, Neutral 10%"
         ],
         "marker": {
          "color": "rgb(255,0,0)",
          "line": {
           "color": "rgb(139,0,0)",
           "width": 1
          },
          "size": [
           14,
           14.5,
           14.2,
           13.5,
           13
          ]
         },
         "mode": "markers",
         "name": "Bot Themes",
         "type": "scatter",
         "x": [
          -5.939511921640757,
          -4.513083303716832,
          -5.620613772341504,
          -5.22413374902475,
          -6.345385256280515
         ],
         "y": [
          -4.225050435032215,
          -4.458402316036834,
          -5.823233451696327,
          -4.651607883440146,
          -5.4538555076429205
         ]
        },
        {
         "hoverinfo": "text",
         "hovertext": [
          "Theme: Tesla Model Y Achievements<br>Type: Non-Bot<br>Confidence: 75%<br>Keywords: <br>Sentiment Distribution: Positive 0%, Negative 0%, Neutral 0%",
          "Theme: Tesla Model 3 Praise<br>Type: Non-Bot<br>Confidence: 80%<br>Keywords: <br>Sentiment Distribution: Positive 100%, Negative 0%, Neutral 0%",
          "Theme: Cybertruck Safety Concerns<br>Type: Non-Bot<br>Confidence: 90%<br>Keywords: <br>Sentiment Distribution: Positive 0%, Negative 100%, Neutral 0%",
          "Theme: Cybertruck Features and Capabilities<br>Type: Non-Bot<br>Confidence: 70%<br>Keywords: <br>Sentiment Distribution: Positive 100%, Negative 0%, Neutral 0%",
          "Theme: Tesla Cybertruck Accidents<br>Type: Non-Bot<br>Confidence: 90%<br>Keywords: <br>Sentiment Distribution: Positive 0%, Negative 100%, Neutral 0%",
          "Theme: Electric Vehicle (EV) Safety<br>Type: Non-Bot<br>Confidence: 80%<br>Keywords: <br>Sentiment Distribution: Positive 0%, Negative 100%, Neutral 0%",
          "Theme: Design and Aesthetics<br>Type: Non-Bot<br>Confidence: 90%<br>Keywords: <br>Sentiment Distribution: Positive 10%, Negative 50%, Neutral 40%"
         ],
         "marker": {
          "color": "rgb(0,255,0)",
          "line": {
           "color": "rgb(0,100,0)",
           "width": 1
          },
          "size": [
           12.5,
           13,
           14,
           12,
           14,
           13,
           14
          ]
         },
         "mode": "markers",
         "name": "Non-Bot Themes",
         "type": "scatter",
         "x": [
          4.46532453970558,
          4.964506424306792,
          4.572837642069108,
          6.278014991522799,
          6.44676974713546,
          5.276485215515127,
          5.519908938498174
         ],
         "y": [
          6.778165863269958,
          5.180434725803543,
          4.4046294663807135,
          3.203180328036094,
          4.5038483225415185,
          5.081471005445928,
          6.064733020296751
         ]
        }
       ],
       "layout": {
        "height": 800,
        "hovermode": "closest",
        "legend": {
         "bgcolor": "rgba(255,255,255,0.5)",
         "bordercolor": "black",
         "borderwidth": 1,
         "x": 0.85,
         "y": 1
        },
        "plot_bgcolor": "rgb(240,240,240)",
        "showlegend": true,
        "template": {
         "data": {
          "bar": [
           {
            "error_x": {
             "color": "#2a3f5f"
            },
            "error_y": {
             "color": "#2a3f5f"
            },
            "marker": {
             "line": {
              "color": "#E5ECF6",
              "width": 0.5
             },
             "pattern": {
              "fillmode": "overlay",
              "size": 10,
              "solidity": 0.2
             }
            },
            "type": "bar"
           }
          ],
          "barpolar": [
           {
            "marker": {
             "line": {
              "color": "#E5ECF6",
              "width": 0.5
             },
             "pattern": {
              "fillmode": "overlay",
              "size": 10,
              "solidity": 0.2
             }
            },
            "type": "barpolar"
           }
          ],
          "carpet": [
           {
            "aaxis": {
             "endlinecolor": "#2a3f5f",
             "gridcolor": "white",
             "linecolor": "white",
             "minorgridcolor": "white",
             "startlinecolor": "#2a3f5f"
            },
            "baxis": {
             "endlinecolor": "#2a3f5f",
             "gridcolor": "white",
             "linecolor": "white",
             "minorgridcolor": "white",
             "startlinecolor": "#2a3f5f"
            },
            "type": "carpet"
           }
          ],
          "choropleth": [
           {
            "colorbar": {
             "outlinewidth": 0,
             "ticks": ""
            },
            "type": "choropleth"
           }
          ],
          "contour": [
           {
            "colorbar": {
             "outlinewidth": 0,
             "ticks": ""
            },
            "colorscale": [
             [
              0,
              "#0d0887"
             ],
             [
              0.1111111111111111,
              "#46039f"
             ],
             [
              0.2222222222222222,
              "#7201a8"
             ],
             [
              0.3333333333333333,
              "#9c179e"
             ],
             [
              0.4444444444444444,
              "#bd3786"
             ],
             [
              0.5555555555555556,
              "#d8576b"
             ],
             [
              0.6666666666666666,
              "#ed7953"
             ],
             [
              0.7777777777777778,
              "#fb9f3a"
             ],
             [
              0.8888888888888888,
              "#fdca26"
             ],
             [
              1,
              "#f0f921"
             ]
            ],
            "type": "contour"
           }
          ],
          "contourcarpet": [
           {
            "colorbar": {
             "outlinewidth": 0,
             "ticks": ""
            },
            "type": "contourcarpet"
           }
          ],
          "heatmap": [
           {
            "colorbar": {
             "outlinewidth": 0,
             "ticks": ""
            },
            "colorscale": [
             [
              0,
              "#0d0887"
             ],
             [
              0.1111111111111111,
              "#46039f"
             ],
             [
              0.2222222222222222,
              "#7201a8"
             ],
             [
              0.3333333333333333,
              "#9c179e"
             ],
             [
              0.4444444444444444,
              "#bd3786"
             ],
             [
              0.5555555555555556,
              "#d8576b"
             ],
             [
              0.6666666666666666,
              "#ed7953"
             ],
             [
              0.7777777777777778,
              "#fb9f3a"
             ],
             [
              0.8888888888888888,
              "#fdca26"
             ],
             [
              1,
              "#f0f921"
             ]
            ],
            "type": "heatmap"
           }
          ],
          "heatmapgl": [
           {
            "colorbar": {
             "outlinewidth": 0,
             "ticks": ""
            },
            "colorscale": [
             [
              0,
              "#0d0887"
             ],
             [
              0.1111111111111111,
              "#46039f"
             ],
             [
              0.2222222222222222,
              "#7201a8"
             ],
             [
              0.3333333333333333,
              "#9c179e"
             ],
             [
              0.4444444444444444,
              "#bd3786"
             ],
             [
              0.5555555555555556,
              "#d8576b"
             ],
             [
              0.6666666666666666,
              "#ed7953"
             ],
             [
              0.7777777777777778,
              "#fb9f3a"
             ],
             [
              0.8888888888888888,
              "#fdca26"
             ],
             [
              1,
              "#f0f921"
             ]
            ],
            "type": "heatmapgl"
           }
          ],
          "histogram": [
           {
            "marker": {
             "pattern": {
              "fillmode": "overlay",
              "size": 10,
              "solidity": 0.2
             }
            },
            "type": "histogram"
           }
          ],
          "histogram2d": [
           {
            "colorbar": {
             "outlinewidth": 0,
             "ticks": ""
            },
            "colorscale": [
             [
              0,
              "#0d0887"
             ],
             [
              0.1111111111111111,
              "#46039f"
             ],
             [
              0.2222222222222222,
              "#7201a8"
             ],
             [
              0.3333333333333333,
              "#9c179e"
             ],
             [
              0.4444444444444444,
              "#bd3786"
             ],
             [
              0.5555555555555556,
              "#d8576b"
             ],
             [
              0.6666666666666666,
              "#ed7953"
             ],
             [
              0.7777777777777778,
              "#fb9f3a"
             ],
             [
              0.8888888888888888,
              "#fdca26"
             ],
             [
              1,
              "#f0f921"
             ]
            ],
            "type": "histogram2d"
           }
          ],
          "histogram2dcontour": [
           {
            "colorbar": {
             "outlinewidth": 0,
             "ticks": ""
            },
            "colorscale": [
             [
              0,
              "#0d0887"
             ],
             [
              0.1111111111111111,
              "#46039f"
             ],
             [
              0.2222222222222222,
              "#7201a8"
             ],
             [
              0.3333333333333333,
              "#9c179e"
             ],
             [
              0.4444444444444444,
              "#bd3786"
             ],
             [
              0.5555555555555556,
              "#d8576b"
             ],
             [
              0.6666666666666666,
              "#ed7953"
             ],
             [
              0.7777777777777778,
              "#fb9f3a"
             ],
             [
              0.8888888888888888,
              "#fdca26"
             ],
             [
              1,
              "#f0f921"
             ]
            ],
            "type": "histogram2dcontour"
           }
          ],
          "mesh3d": [
           {
            "colorbar": {
             "outlinewidth": 0,
             "ticks": ""
            },
            "type": "mesh3d"
           }
          ],
          "parcoords": [
           {
            "line": {
             "colorbar": {
              "outlinewidth": 0,
              "ticks": ""
             }
            },
            "type": "parcoords"
           }
          ],
          "pie": [
           {
            "automargin": true,
            "type": "pie"
           }
          ],
          "scatter": [
           {
            "fillpattern": {
             "fillmode": "overlay",
             "size": 10,
             "solidity": 0.2
            },
            "type": "scatter"
           }
          ],
          "scatter3d": [
           {
            "line": {
             "colorbar": {
              "outlinewidth": 0,
              "ticks": ""
             }
            },
            "marker": {
             "colorbar": {
              "outlinewidth": 0,
              "ticks": ""
             }
            },
            "type": "scatter3d"
           }
          ],
          "scattercarpet": [
           {
            "marker": {
             "colorbar": {
              "outlinewidth": 0,
              "ticks": ""
             }
            },
            "type": "scattercarpet"
           }
          ],
          "scattergeo": [
           {
            "marker": {
             "colorbar": {
              "outlinewidth": 0,
              "ticks": ""
             }
            },
            "type": "scattergeo"
           }
          ],
          "scattergl": [
           {
            "marker": {
             "colorbar": {
              "outlinewidth": 0,
              "ticks": ""
             }
            },
            "type": "scattergl"
           }
          ],
          "scattermapbox": [
           {
            "marker": {
             "colorbar": {
              "outlinewidth": 0,
              "ticks": ""
             }
            },
            "type": "scattermapbox"
           }
          ],
          "scatterpolar": [
           {
            "marker": {
             "colorbar": {
              "outlinewidth": 0,
              "ticks": ""
             }
            },
            "type": "scatterpolar"
           }
          ],
          "scatterpolargl": [
           {
            "marker": {
             "colorbar": {
              "outlinewidth": 0,
              "ticks": ""
             }
            },
            "type": "scatterpolargl"
           }
          ],
          "scatterternary": [
           {
            "marker": {
             "colorbar": {
              "outlinewidth": 0,
              "ticks": ""
             }
            },
            "type": "scatterternary"
           }
          ],
          "surface": [
           {
            "colorbar": {
             "outlinewidth": 0,
             "ticks": ""
            },
            "colorscale": [
             [
              0,
              "#0d0887"
             ],
             [
              0.1111111111111111,
              "#46039f"
             ],
             [
              0.2222222222222222,
              "#7201a8"
             ],
             [
              0.3333333333333333,
              "#9c179e"
             ],
             [
              0.4444444444444444,
              "#bd3786"
             ],
             [
              0.5555555555555556,
              "#d8576b"
             ],
             [
              0.6666666666666666,
              "#ed7953"
             ],
             [
              0.7777777777777778,
              "#fb9f3a"
             ],
             [
              0.8888888888888888,
              "#fdca26"
             ],
             [
              1,
              "#f0f921"
             ]
            ],
            "type": "surface"
           }
          ],
          "table": [
           {
            "cells": {
             "fill": {
              "color": "#EBF0F8"
             },
             "line": {
              "color": "white"
             }
            },
            "header": {
             "fill": {
              "color": "#C8D4E3"
             },
             "line": {
              "color": "white"
             }
            },
            "type": "table"
           }
          ]
         },
         "layout": {
          "annotationdefaults": {
           "arrowcolor": "#2a3f5f",
           "arrowhead": 0,
           "arrowwidth": 1
          },
          "autotypenumbers": "strict",
          "coloraxis": {
           "colorbar": {
            "outlinewidth": 0,
            "ticks": ""
           }
          },
          "colorscale": {
           "diverging": [
            [
             0,
             "#8e0152"
            ],
            [
             0.1,
             "#c51b7d"
            ],
            [
             0.2,
             "#de77ae"
            ],
            [
             0.3,
             "#f1b6da"
            ],
            [
             0.4,
             "#fde0ef"
            ],
            [
             0.5,
             "#f7f7f7"
            ],
            [
             0.6,
             "#e6f5d0"
            ],
            [
             0.7,
             "#b8e186"
            ],
            [
             0.8,
             "#7fbc41"
            ],
            [
             0.9,
             "#4d9221"
            ],
            [
             1,
             "#276419"
            ]
           ],
           "sequential": [
            [
             0,
             "#0d0887"
            ],
            [
             0.1111111111111111,
             "#46039f"
            ],
            [
             0.2222222222222222,
             "#7201a8"
            ],
            [
             0.3333333333333333,
             "#9c179e"
            ],
            [
             0.4444444444444444,
             "#bd3786"
            ],
            [
             0.5555555555555556,
             "#d8576b"
            ],
            [
             0.6666666666666666,
             "#ed7953"
            ],
            [
             0.7777777777777778,
             "#fb9f3a"
            ],
            [
             0.8888888888888888,
             "#fdca26"
            ],
            [
             1,
             "#f0f921"
            ]
           ],
           "sequentialminus": [
            [
             0,
             "#0d0887"
            ],
            [
             0.1111111111111111,
             "#46039f"
            ],
            [
             0.2222222222222222,
             "#7201a8"
            ],
            [
             0.3333333333333333,
             "#9c179e"
            ],
            [
             0.4444444444444444,
             "#bd3786"
            ],
            [
             0.5555555555555556,
             "#d8576b"
            ],
            [
             0.6666666666666666,
             "#ed7953"
            ],
            [
             0.7777777777777778,
             "#fb9f3a"
            ],
            [
             0.8888888888888888,
             "#fdca26"
            ],
            [
             1,
             "#f0f921"
            ]
           ]
          },
          "colorway": [
           "#636efa",
           "#EF553B",
           "#00cc96",
           "#ab63fa",
           "#FFA15A",
           "#19d3f3",
           "#FF6692",
           "#B6E880",
           "#FF97FF",
           "#FECB52"
          ],
          "font": {
           "color": "#2a3f5f"
          },
          "geo": {
           "bgcolor": "white",
           "lakecolor": "white",
           "landcolor": "#E5ECF6",
           "showlakes": true,
           "showland": true,
           "subunitcolor": "white"
          },
          "hoverlabel": {
           "align": "left"
          },
          "hovermode": "closest",
          "mapbox": {
           "style": "light"
          },
          "paper_bgcolor": "white",
          "plot_bgcolor": "#E5ECF6",
          "polar": {
           "angularaxis": {
            "gridcolor": "white",
            "linecolor": "white",
            "ticks": ""
           },
           "bgcolor": "#E5ECF6",
           "radialaxis": {
            "gridcolor": "white",
            "linecolor": "white",
            "ticks": ""
           }
          },
          "scene": {
           "xaxis": {
            "backgroundcolor": "#E5ECF6",
            "gridcolor": "white",
            "gridwidth": 2,
            "linecolor": "white",
            "showbackground": true,
            "ticks": "",
            "zerolinecolor": "white"
           },
           "yaxis": {
            "backgroundcolor": "#E5ECF6",
            "gridcolor": "white",
            "gridwidth": 2,
            "linecolor": "white",
            "showbackground": true,
            "ticks": "",
            "zerolinecolor": "white"
           },
           "zaxis": {
            "backgroundcolor": "#E5ECF6",
            "gridcolor": "white",
            "gridwidth": 2,
            "linecolor": "white",
            "showbackground": true,
            "ticks": "",
            "zerolinecolor": "white"
           }
          },
          "shapedefaults": {
           "line": {
            "color": "#2a3f5f"
           }
          },
          "ternary": {
           "aaxis": {
            "gridcolor": "white",
            "linecolor": "white",
            "ticks": ""
           },
           "baxis": {
            "gridcolor": "white",
            "linecolor": "white",
            "ticks": ""
           },
           "bgcolor": "#E5ECF6",
           "caxis": {
            "gridcolor": "white",
            "linecolor": "white",
            "ticks": ""
           }
          },
          "title": {
           "x": 0.05
          },
          "xaxis": {
           "automargin": true,
           "gridcolor": "white",
           "linecolor": "white",
           "ticks": "",
           "title": {
            "standoff": 15
           },
           "zerolinecolor": "white",
           "zerolinewidth": 2
          },
          "yaxis": {
           "automargin": true,
           "gridcolor": "white",
           "linecolor": "white",
           "ticks": "",
           "title": {
            "standoff": 15
           },
           "zerolinecolor": "white",
           "zerolinewidth": 2
          }
         }
        },
        "title": {
         "text": "Theme Network Visualization"
        },
        "width": 1000,
        "xaxis": {
         "showgrid": false,
         "showticklabels": false,
         "title": {
          "text": "X-axis"
         },
         "zeroline": false
        },
        "yaxis": {
         "showgrid": false,
         "showticklabels": false,
         "title": {
          "text": "Y-axis"
         },
         "zeroline": false
        }
       }
      }
     },
     "metadata": {},
     "output_type": "display_data"
    }
   ],
   "source": [
    "import json\n",
    "import networkx as nx\n",
    "import plotly.graph_objects as go\n",
    "import numpy as np\n",
    "\n",
    "\n",
    "def load_json_file(file_path):\n",
    "    \"\"\"Load JSON file safely.\"\"\"\n",
    "    try:\n",
    "        with open(file_path, 'r', encoding='utf-8') as file:\n",
    "            return json.load(file)\n",
    "    except Exception as e:\n",
    "        print(f\"Error loading JSON file {file_path}: {e}\")\n",
    "        return []\n",
    "\n",
    "\n",
    "def create_theme_network(data_bot, data_nonbot, min_confidence=70):\n",
    "    \"\"\"Create a network graph from themes with a minimum confidence level.\"\"\"\n",
    "    G = nx.Graph()\n",
    "\n",
    "    def process_data(data, is_bot=True):\n",
    "        for item in data:\n",
    "            response = item.get('response')\n",
    "            if isinstance(response, str):\n",
    "                try:\n",
    "                    response_data = json.loads(response)\n",
    "                    themes = response_data.get('overall_themes', [])\n",
    "\n",
    "                    for theme in themes:\n",
    "                        confidence = theme.get('confidence', 0)\n",
    "                        if confidence >= min_confidence:\n",
    "                            theme_name = theme['name']\n",
    "                            keywords = theme.get('keywords', [])\n",
    "                            sentiment_distribution = theme.get('sentiment_distribution', {})\n",
    "\n",
    "                            # Add or update theme node\n",
    "                            if not G.has_node(theme_name):\n",
    "                                G.add_node(theme_name,\n",
    "                                           type='theme',\n",
    "                                           is_bot=is_bot,\n",
    "                                           confidence=confidence,\n",
    "                                           keywords=keywords,\n",
    "                                           sentiment_distribution=sentiment_distribution)\n",
    "                            else:\n",
    "                                # If node exists and bot status is different, mark as mixed\n",
    "                                current_bot_status = G.nodes[theme_name].get('is_bot')\n",
    "                                if current_bot_status != is_bot:\n",
    "                                    G.nodes[theme_name]['is_bot'] = 'mixed'\n",
    "\n",
    "                except json.JSONDecodeError:\n",
    "                    print(f\"Invalid JSON in response: {response}\")\n",
    "\n",
    "    # Process bot and non-bot data\n",
    "    process_data(data_bot, is_bot=True)\n",
    "    process_data(data_nonbot, is_bot=False)\n",
    "\n",
    "    return G\n",
    "\n",
    "\n",
    "def visualize_network(G):\n",
    "    \"\"\"Visualize bot, non-bot, and mixed themes in clustered regions.\"\"\"\n",
    "    # Separate nodes by bot status\n",
    "    bot_nodes = [node for node, data in G.nodes(data=True) if data.get('is_bot') == True]\n",
    "    nonbot_nodes = [node for node, data in G.nodes(data=True) if data.get('is_bot') == False]\n",
    "    mixed_nodes = [node for node, data in G.nodes(data=True) if data.get('is_bot') == 'mixed']\n",
    "\n",
    "    # Create traces for each category\n",
    "    traces = []\n",
    "\n",
    "    # Function to determine node size based on confidence\n",
    "    def get_node_size(confidence):\n",
    "        return 5 + confidence / 10  # Adjust the scaling factor as needed\n",
    "\n",
    "    # Bot nodes - clustered in bottom left\n",
    "    if bot_nodes:\n",
    "        bot_x = np.random.normal(loc=-5, scale=1, size=len(bot_nodes))\n",
    "        bot_y = np.random.normal(loc=-5, scale=1, size=len(bot_nodes))\n",
    "        bot_sizes = [get_node_size(G.nodes[node]['confidence']) for node in bot_nodes]\n",
    "        bot_trace = go.Scatter(\n",
    "            x=bot_x,\n",
    "            y=bot_y,\n",
    "            mode='markers',\n",
    "            hovertext=[\n",
    "                f\"Theme: {node}<br>\"\n",
    "                f\"Type: Bot<br>\"\n",
    "                f\"Confidence: {G.nodes[node]['confidence']}%<br>\"\n",
    "                f\"Keywords: {', '.join(G.nodes[node].get('keywords', []))}<br>\"\n",
    "                f\"Sentiment Distribution: Positive {G.nodes[node].get('sentiment_distribution', {}).get('positive_percentage', 0)}%, \"\n",
    "                f\"Negative {G.nodes[node].get('sentiment_distribution', {}).get('negative_percentage', 0)}%, \"\n",
    "                f\"Neutral {G.nodes[node].get('sentiment_distribution', {}).get('neutral_percentage', 0)}%\"\n",
    "                for node in bot_nodes\n",
    "            ],\n",
    "            hoverinfo='text',\n",
    "            marker=dict(\n",
    "                size=bot_sizes,\n",
    "                color='rgb(255,0,0)',  # Red\n",
    "                line=dict(width=1, color='rgb(139,0,0)')  # Dark red\n",
    "            ),\n",
    "            name='Bot Themes'\n",
    "        )\n",
    "        traces.append(bot_trace)\n",
    "\n",
    "    # Non-bot nodes - clustered in top right\n",
    "    if nonbot_nodes:\n",
    "        nonbot_x = np.random.normal(loc=5, scale=1, size=len(nonbot_nodes))\n",
    "        nonbot_y = np.random.normal(loc=5, scale=1, size=len(nonbot_nodes))\n",
    "        nonbot_sizes = [get_node_size(G.nodes[node]['confidence']) for node in nonbot_nodes]\n",
    "        nonbot_trace = go.Scatter(\n",
    "            x=nonbot_x,\n",
    "            y=nonbot_y,\n",
    "            mode='markers',\n",
    "            hovertext=[\n",
    "                f\"Theme: {node}<br>\"\n",
    "                f\"Type: Non-Bot<br>\"\n",
    "                f\"Confidence: {G.nodes[node]['confidence']}%<br>\"\n",
    "                f\"Keywords: {', '.join(G.nodes[node].get('keywords', []))}<br>\"\n",
    "                f\"Sentiment Distribution: Positive {G.nodes[node].get('sentiment_distribution', {}).get('positive_percentage', 0)}%, \"\n",
    "                f\"Negative {G.nodes[node].get('sentiment_distribution', {}).get('negative_percentage', 0)}%, \"\n",
    "                f\"Neutral {G.nodes[node].get('sentiment_distribution', {}).get('neutral_percentage', 0)}%\"\n",
    "                for node in nonbot_nodes\n",
    "            ],\n",
    "            hoverinfo='text',\n",
    "            marker=dict(\n",
    "                size=nonbot_sizes,\n",
    "                color='rgb(0,255,0)',  # Green\n",
    "                line=dict(width=1, color='rgb(0,100,0)')  # Dark green\n",
    "            ),\n",
    "            name='Non-Bot Themes'\n",
    "        )\n",
    "        traces.append(nonbot_trace)\n",
    "\n",
    "    # Mixed nodes - clustered in center\n",
    "    if mixed_nodes:\n",
    "        mixed_x = np.random.normal(loc=0, scale=1, size=len(mixed_nodes))\n",
    "        mixed_y = np.random.normal(loc=0, scale=1, size=len(mixed_nodes))\n",
    "        mixed_sizes = [get_node_size(G.nodes[node]['confidence']) for node in mixed_nodes]\n",
    "        mixed_trace = go.Scatter(\n",
    "            x=mixed_x,\n",
    "            y=mixed_y,\n",
    "            mode='markers',\n",
    "            hovertext=[\n",
    "                f\"Theme: {node}<br>\"\n",
    "                f\"Type: Mixed<br>\"\n",
    "                f\"Confidence: {G.nodes[node]['confidence']}%<br>\"\n",
    "                f\"Keywords: {', '.join(G.nodes[node].get('keywords', []))}<br>\"\n",
    "                f\"Sentiment Distribution: Positive {G.nodes[node].get('sentiment_distribution', {}).get('positive_percentage', 0)}%, \"\n",
    "                f\"Negative {G.nodes[node].get('sentiment_distribution', {}).get('negative_percentage', 0)}%, \"\n",
    "                f\"Neutral {G.nodes[node].get('sentiment_distribution', {}).get('neutral_percentage', 0)}%\"\n",
    "                for node in mixed_nodes\n",
    "            ],\n",
    "            hoverinfo='text',\n",
    "            marker=dict(\n",
    "                size=mixed_sizes,\n",
    "                color='rgb(128,0,128)',  # Purple\n",
    "                line=dict(width=1, color='rgb(75,0,130)')  # Indigo\n",
    "            ),\n",
    "            name='Mixed Themes'\n",
    "        )\n",
    "        traces.append(mixed_trace)\n",
    "\n",
    "    # Create figure\n",
    "    fig = go.Figure(data=traces)\n",
    "\n",
    "    # Update layout for better visualization\n",
    "    fig.update_layout(\n",
    "        title=\"Theme Network Visualization\",\n",
    "        showlegend=True,\n",
    "        hovermode='closest',\n",
    "        width=1000,\n",
    "        height=800,\n",
    "        xaxis=dict(\n",
    "            title=\"X-axis\",\n",
    "            showgrid=False,\n",
    "            zeroline=False,\n",
    "            showticklabels=False\n",
    "        ),\n",
    "        yaxis=dict(\n",
    "            title=\"Y-axis\",\n",
    "            showgrid=False,\n",
    "            zeroline=False,\n",
    "            showticklabels=False\n",
    "        ),\n",
    "        plot_bgcolor='rgb(240,240,240)',  # Light grey background\n",
    "        legend=dict(\n",
    "            x=0.85,\n",
    "            y=1,\n",
    "            bgcolor='rgba(255,255,255,0.5)',\n",
    "            bordercolor='black',\n",
    "            borderwidth=1\n",
    "        )\n",
    "    )\n",
    "\n",
    "    fig.show()\n",
    "\n",
    "\n",
    "# Example Usage\n",
    "if __name__ == \"__main__\":\n",
    "    # Load bot and non-bot data\n",
    "    bot_data = load_json_file('label_1.json')  # Bot data\n",
    "    nonbot_data = load_json_file('label_0.json')  # Non-bot data\n",
    "\n",
    "    # Create and visualize the graph\n",
    "    graph = create_theme_network(bot_data, nonbot_data, min_confidence=70)\n",
    "    visualize_network(graph)\n"
   ]
  },
  {
   "cell_type": "code",
   "execution_count": 14,
   "metadata": {},
   "outputs": [
    {
     "name": "stdout",
     "output_type": "stream",
     "text": [
      "Invalid JSON in response: {\"overall_themes\": [{\"name\": \"Tesla Cybertruck\", \"confidence\": 100, \"sentiment_distribution\": {\"positive_percentage\": 70, \"negative_percentage\": 20, \"neutral_percentage\": 10}}, {\"name\": \"Buying Decisions and Value\", \"confidence\": 90, \"sentiment_distribution\": {\"positive_percentage\": 40, \"negative_percentage\": 30, \"neutral_percentage\": 30}}, {\"name\": \"Design and Features\", \"confidence\": 80, \"sentiment_distribution\": {\"positive_percentage\": 60, \"negative_percentage\": 20, \"neutral_percentage\": 20}}, {\"name\": \"Adventure and Travel\", \"confidence\": 70, \"sentiment_distribution\": {\"positive_percentage\": 80, \"negative_percentage\": 10, \"neutral_percentage\": 10}}, {\"name\": \"Qatar and Global Availability\", \"confidence\": 60, \"sentiment_distribution\": {\"positive_percentage\": 50, \"negative_percentage\": 20, \"neutral_percentage\": 30}}, {\"name\": \"Comparisons and Alternatives\", \"confidence\": 80, \"sentiment_distribution\": {\"positive_percentage\": 50, \"negative_percentage\": 30, \"neutral_percentage\": 20}}, {\"name\": \"Cybertruck Performance and Capability\", \"confidence\": 90, \"sentiment_distribution\": {\"positive_percentage\": 80, \"negative_percentage\": 10, \"neutral_percentage\": 10}}, {\"name\": \"Cybertruck Design and Aesthetics\", \"confidence\": 80, \"sentiment_distribution\": {\"positive_percentage\": 60, \"negative_percentage\": 20, \"neutral_percentage\": 20}}], \"metadata\": {\"total_tweets_analyzed\": 8, \"dominant_sentiment\": \"positive\", \"language_distribution\": {\"en\": 100, \"__na__\": 0, \"und\": 0, \"spa\": 0, \"fra\": 0, \"deu\": 0, \"por\": 0, \"rus\": 0, \"ara\": 0, \"chs\": 0, \"kor\": 0, \"jpn\": 0, \"cht\": 0, \"tur\": 0, \"th\": 0, \"chi\": 0, \"he\": 0, \"ita\": 0, \"dan\": 0, \"fin\": 0, \"nld\": 0, \"pol\": 0, \"ptg\": 0, \"swe\": 0, \"cze\": 0, \"hun\": 0, \"slk\": 0, \"gre\": 0, \"lav\": 0, \"lit\": 0, \"mlt\": 0, \"vie\": 0, \"ukr\": 0, \"bel\": 0, \"est\": 0, \"ltz\": 0, \"lat\": 0, \"fas\": 0, \"tib\": 0, \"tai\": 0, \"msa\": 0, \"sin\": 0, \"eus\": 0, \"cat\": 0, \"nep\": 0, \"ori\": 0, \"tam\": 0, \"tel\": 0, \"san\": 0, \"nno\": 0, \"glg\": 0, \"ind\": 0, \"urd\": 0, \"tam\": 0, \"srd\": 0, \"mlt\": 0, \"sqi\": 0, \"mkd\": 0, \"tgl\": 0, \"tgk\": 0, \"sin\": 0, \"tgk\": 0, \"sin\": 0, \"tgk\": 0, \"tet\": 0, \"tgk\": 0, \"tgk\": 0, \"tgk\": 0, \"tgk\": 0, \"tgk\": 0, \"tgk\": 0, \"tgk\": 0, \"tgk\": 0, \"tgk\": 0, \"tgk\": 0, \"tgk\": 0, \"tgk\": 0, \"tgk\": 0, \"tgk\": 0, \"tgk\": 0, \"tgk\": 0, \"tgk\": 0, \"tgk\": 0, \"tgk\": 0, \"tgk\": 0, \"tgk\": 0, \"tgk\": 0, \"tgk\": 0, \"tgk\": 0, \"tgk\": 0, \"tgk\": 0, \"tgk\": 0, \"tgk\": 0, \"tgk\": 0, \"tgk\": 0, \"tgk\": 0, \"tgk\": 0, \"tgk\": 0, \"tgk\": 0, \"tgk\": 0, \"tgk\": 0, \"tgk\": 0, \"tgk\": 0, \"tgk\": 0, \"tgk\": 0, \"tgk\": 0, \"tgk\": 0, \"tgk\": 0, \"tgk\": 0, \"tgk\": 0, \"tgk\": 0, \"tgk\": 0, \"tgk\": 0, \"tgk\": 0, \"tgk\": 0, \"tgk\": 0, \"tgk\": 0, \"tgk\": 0, \"tgk\": 0, \"tgk\": 0, \"tgk\": 0, \"tgk\": 0, \"tgk\": 0, \"tgk\": 0, \"tgk\": 0, \"tgk\": 0, \"tgk\": 0, \"tgk\": 0, \"tgk\": 0, \"tgk\": 0, \"tgk\": 0, \"tgk\": 0, \"tgk\": 0, \"tgk\": 0, \"tgk\": 0, \"tgk\": 0, \"tgk\": 0, \"tgk\": 0, \"tgk\": 0, \"tgk\": 0, \"tgk\": 0, \"tgk\": 0, \"tgk\": 0, \"tgk\": 0, \"tgk\": 0, \"tgk\": 0, \"tgk\": 0, \"tgk\": 0, \"tgk\": 0, \"tgk\": 0, \"tgk\": 0, \"tgk\": 0, \"tgk\": 0, \"tgk\": 0, \"tgk\": 0, \"tgk\": 0, \"tgk\": 0, \"tgk\": 0, \"tgk\": 0, \"tgk\": 0, \"tgk\": 0, \"tgk\": 0, \"tgk\": 0, \"tgk\": 0, \"tgk\": 0, \"tgk\": 0, \"tgk\": 0, \"tgk\": 0, \"tgk\": 0, \"tgk\": 0, \"tgk\": 0, \"tgk\": 0, \"tgk\": 0, \"tgk\": 0, \"tgk\": 0, \"tgk\": 0, \"tgk\": 0, \"tgk\": 0, \"tgk\": 0, \"tgk\": 0, \"tgk\": 0, \"tgk\": 0, \"tgk\": 0, \"tgk\": 0, \"tgk\": 0, \"tgk\": 0, \"tgk\": 0, \"tgk\": 0, \"tgk\": 0, \"tgk\": 0, \"tgk\": 0, \"tgk\": 0, \"tgk\": 0, \"tgk\": 0, \"tgk\": 0, \"tgk\": 0, \"tgk\": 0, \"tgk\": 0, \"tgk\": 0, \"tgk\": 0, \"tgk\": 0, \"tgk\": 0, \"tgk\": 0, \"tgk\": 0, \"tgk\": 0, \"tgk\": 0, \"tgk\": 0, \"tgk\": 0, \"tgk\": 0, \"tgk\": 0, \"tgk\": 0, \"tgk\": 0, \"tgk\": 0, \"tgk\": 0, \"tgk\": 0, \"tgk\": 0, \"tgk\": 0, \"tgk\": 0, \"tgk\": 0, \"tgk\": 0, \"tgk\": 0, \"tgk\": 0, \"tgk\": 0, \"tgk\": 0, \"tgk\": 0, \"tgk\": 0, \"tgk\": 0, \"tgk\": 0, \"tgk\": 0, \"tgk\": 0, \"tgk\": 0, \"tgk\": 0, \"tgk\": 0, \"tgk\": 0, \"tgk\": 0, \"tgk\": 0, \"tgk\": 0, \"tgk\": 0, \"tgk\": 0, \"tgk\": 0, \"tgk\": 0, \"tgk\": 0, \"tgk\": 0, \"tgk\": 0, \"tgk\": 0, \"tgk\": 0, \"tgk\": 0, \"tgk\": 0, \"tgk\": 0, \"tgk\": 0, \"tgk\": 0, \"tgk\": 0, \"tgk\": 0, \"tgk\": 0, \"tgk\": 0, \"tgk\": 0, \"tgk\": 0, \"tgk\": 0, \"tgk\": 0, \"tgk\": 0, \"tgk\": 0, \"tgk\": 0, \"tgk\": 0, \"tgk\": 0, \"tgk\": 0, \"tgk\": 0, \"tgk\": 0, \"tgk\": 0, \"tgk\": 0, \"tgk\": 0, \"tgk\": 0, \"tgk\": 0, \"tgk\": 0, \"tgk\": 0, \"tgk\": 0, \"tgk\": 0, \"tgk\": 0, \"tgk\": 0, \"tgk\": 0, \"tgk\": 0, \"tgk\": 0, \"tgk\": 0, \"tgk\": 0, \"tgk\": 0, \"tgk\": 0, \"tgk\": 0, \"tgk\": 0, \"tgk\": 0, \"tgk\": 0, \"tgk\": 0, \"tgk\": 0, \"tgk\": 0, \"tgk\": 0, \"tgk\": 0, \"tgk\": 0, \"tgk\": 0, \"tgk\": 0, \"tgk\": 0, \"tgk\": 0, \"tgk\": 0, \"tgk\": 0, \"tgk\": 0, \"tgk\": 0, \"tgk\": 0, \"tgk\": 0, \"tgk\": 0, \"tgk\": 0, \"tgk\": 0, \"tgk\": 0, \"tgk\": 0, \"tgk\": 0, \"tgk\": 0, \"tgk\": 0, \"tgk\": 0, \"tgk\": 0, \"tgk\": 0, \"tgk\": 0, \"tgk\": 0, \"tgk\": 0, \"tgk\": 0, \"tgk\": 0, \"tgk\": 0, \"tgk\": 0, \"tgk\": 0, \"tgk\": 0, \"tgk\": 0, \"tgk\": 0, \"tgk\": 0, \"tgk\": 0, \"tgk\": 0, \"tgk\": 0, \"tgk\": 0, \"tgk\": 0, \"tgk\": 0, \"tgk\": 0, \"tgk\": 0, \"tgk\": 0, \"tgk\": 0, \"tgk\": 0, \"tgk\": 0, \"tgk\": 0, \"tgk\": 0, \"tgk\": 0, \"tgk\": 0, \"tgk\": 0, \"tgk\": 0, \"tgk\": 0, \"tgk\": 0, \"tgk\": 0, \"tgk\": 0, \"tgk\": 0, \"tgk\": 0, \"tgk\": 0, \"tgk\": 0, \"tgk\": 0, \"tgk\": 0, \"tgk\": 0, \"tgk\": 0, \"tgk\": 0, \"tgk\": 0, \"tgk\": 0, \"tgk\": 0, \"tgk\": 0, \"tgk\": 0, \"tgk\": 0, \"tgk\": 0, \"tgk\": 0, \"tgk\": 0, \"tgk\": 0, \"tgk\": 0, \"tgk\": 0, \"tgk\": 0, \"tgk\": 0, \"tgk\": 0, \"tgk\": 0, \"tgk\": 0, \"tgk\": 0, \"tgk\": 0, \"tgk\": 0, \"tgk\": 0, \"tgk\": 0, \"tgk\": 0, \"tgk\": 0, \"tgk\": 0, \"tgk\": 0, \"tgk\": 0, \"tgk\": 0, \"tgk\": 0, \"tgk\": 0, \"tgk\": 0, \"tgk\": 0, \"tgk\": 0, \"tgk\": 0, \"tgk\": 0, \"tgk\": 0, \"tgk\": 0, \"tgk\": 0, \"tgk\": 0, \"tgk\": 0, \"tgk\": 0, \"tgk\": 0, \"tgk\": 0, \"tgk\": 0, \"tgk\": 0, \"tgk\": 0, \"tgk\": 0, \"tgk\": 0, \"tgk\": 0, \"tgk\": 0, \"tgk\": 0, \"tgk\": 0, \"tgk\": 0, \"tgk\": 0, \"tgk\": 0, \"tgk\": 0, \"tgk\": 0, \"tgk\": 0, \"tgk\": 0, \"tgk\": 0, \"tgk\": 0, \"tgk\": 0, \"tgk\": 0, \"tgk\": 0, \"tgk\": 0, \"tgk\": 0, \"tgk\": 0, \"tgk\": 0, \"tgk\": 0, \"tgk\": 0, \"tgk\": 0, \"tgk\": 0, \"tgk\": 0, \"tgk\": 0, \"tgk\": 0, \"tgk\": 0, \"tgk\": 0, \"tgk\": 0, \"tgk\": 0, \"tgk\": 0, \"tgk\": 0, \"tgk\": 0, \"tgk\": 0, \"tgk\": 0, \"tgk\": 0, \"tgk\": 0, \"tgk\": 0, \"tgk\": 0, \"tgk\": 0, \"tgk\": 0, \"tgk\": 0, \"tgk\": 0, \"tgk\": 0, \"tgk\": 0, \"tgk\": 0, \"tgk\": 0, \"tgk\": 0, \"tgk\": 0, \"tgk\": 0, \"tgk\": 0, \"tgk\": 0, \"tgk\": 0, \"tgk\": 0, \"tgk\": 0, \"tgk\": 0, \"tgk\": 0, \"tgk\": 0, \"tgk\": 0, \"tgk\": 0, \"tgk\": 0, \"tgk\": 0, \"tgk\": 0, \"tgk\": 0, \"tgk\": 0, \"tgk\": 0, \"tgk\": 0, \"tgk\": 0, \"tgk\": 0, \"tgk\": 0, \"tgk\": 0, \"tgk\": 0, \"tgk\": 0, \"tgk\": 0, \"tgk\": 0, \"tgk\": 0, \"tgk\": 0, \"tgk\": 0, \"tgk\": 0, \"tgk\": 0, \"tgk\": 0, \"tgk\": 0, \"tgk\": 0, \"tgk\": 0, \"tgk\": 0, \"tgk\": 0, \"tgk\": 0, \"tgk\": 0, \"tgk\": 0, \"tgk\": 0, \"tgk\": 0, \"tgk\": 0, \"tgk\": 0, \"tgk\": 0, \"tgk\": 0, \"tgk\": 0, \"tgk\": 0, \"tgk\": 0, \"tgk\": 0, \"tgk\": 0, \"tgk\": 0, \"tgk\": 0, \"tgk\": 0, \"tgk\": 0, \"tgk\": 0, \"tgk\": 0, \"tgk\": 0, \"tgk\": 0, \"tgk\": 0, \"tgk\": 0, \"tgk\": 0, \"tgk\": 0, \"tgk\": 0, \"tgk\": 0, \"tgk\": 0, \"tgk\": 0, \"tgk\": 0, \"tgk\": 0, \"tgk\": 0, \"tgk\": 0, \"tgk\": 0, \"tgk\": 0, \"tgk\": 0, \"tgk\": 0, \"tgk\": 0, \"tgk\": 0, \"tgk\": 0, \"tgk\": 0, \"tgk\": 0, \"tgk\": 0, \"tgk\": 0, \"tgk\": 0, \"tgk\": 0, \"tgk\": 0, \"tgk\": 0, \"tgk\": 0, \"tgk\": 0, \"tgk\": 0, \"tgk\": 0, \"tgk\": 0, \"tgk\": 0, \"tgk\": 0, \"tgk\": 0, \"tgk\": 0, \"tgk\": 0, \"tgk\": 0, \"tgk\": 0, \"tgk\": 0, \"tgk\": 0, \"tgk\": 0, \"tgk\": 0, \"tgk\": 0, \"tgk\": 0, \"tgk\": 0, \"tgk\": 0, \"tgk\": 0, \"tgk\": 0, \"tgk\": 0, \"tgk\": 0, \"tgk\": 0, \"tgk\": 0, \"tgk\": 0, \"tgk\": 0, \"tgk\": 0, \"tgk\": 0, \"tgk\": 0, \"tgk\": 0, \"tgk\": 0, \"tgk\": 0, \"tgk\": 0, \"tgk\": 0, \"tgk\": 0, \"tgk\": 0, \"tgk\": 0, \"tgk\": 0, \"tgk\": 0, \"tgk\": 0, \"tgk\": 0, \"tgk\": 0, \"tgk\": 0, \"tgk\": 0, \"tgk\": 0, \"tgk\": 0, \"tgk\": 0, \"tgk\": 0, \"tgk\": 0, \"tgk\": 0, \"tgk\": 0, \"tgk\": 0, \"tgk\": 0, \"tgk\": 0, \"tgk\": 0, \"tgk\": 0, \"tgk\": 0, \"tgk\": 0, \"tgk\": 0, \"tgk\": 0, \"tgk\": 0, \"tgk\": 0, \"tgk\": 0, \"tgk\": 0, \"tgk\": 0, \"tgk\": 0, \"tgk\": 0, \"tgk\": 0, \"tgk\": 0, \"tgk\": 0, \"tgk\": 0, \"tgk\": 0, \"tgk\": 0, \"tgk\": 0, \"tgk\": 0, \"tgk\": 0, \"tgk\": 0, \"tgk\": 0, \"tgk\": 0, \"tgk\": 0, \"tgk\": 0, \"tgk\": 0, \"tgk\": 0, \"tgk\": 0, \"tgk\": 0, \"tgk\": 0, \"tgk\": 0, \"tgk\": 0, \"tgk\": 0, \"tgk\": 0, \"tgk\": 0, \"tgk\": 0, \"tgk\": 0, \"tgk\": 0, \"tgk\": 0, \"tgk\": 0, \"tgk\": 0, \"tgk\": 0, \"tgk\": 0, \"tgk\": 0, \"tgk\": 0, \"tgk\": 0, \"tgk\": 0, \"tgk\": 0, \"tgk\": 0, \"tgk\": 0, \"tgk\": 0, \"tgk\": 0, \"tgk\": 0, \"tgk\": 0, \"tgk\": 0, \"tgk\": 0, \"tgk\": 0, \"tgk\": 0, \"tgk\": 0, \"tgk\": 0, \"tgk\": 0, \"tgk\": 0, \"tgk\": 0, \"tgk\": 0, \"tgk\": 0, \"tgk\": 0, \"tgk\": 0, \"tgk\": 0, \"tgk\": 0, \"tgk\": 0, \"tgk\": 0, \"tgk\": 0, \"tgk\": 0, \"tgk\": 0, \"tgk\": 0, \"tgk\": 0, \"tgk\": 0, \"tgk\": 0, \"tgk\": 0, \"tgk\": 0, \"tgk\": 0, \"tgk\": 0, \"tgk\": 0, \"tgk\": 0, \"tgk\": 0, \"tgk\": 0, \"tgk\": 0, \"tgk\": 0, \"tgk\": 0, \"tgk\": 0, \"tgk\": 0, \"tgk\": 0, \"tgk\": 0, \"tgk\": 0, \"tgk\": 0, \"tgk\": 0, \"tgk\": 0, \"tgk\": 0, \"tgk\": 0, \"tgk\": 0, \"tgk\": 0, \"tgk\": 0, \"tgk\": 0, \"tgk\": 0, \"tgk\": 0, \"tgk\": 0, \"tgk\": 0, \"tgk\": 0, \"tgk\": 0, \"tgk\": 0, \"tgk\": 0, \"tgk\": 0, \"tgk\": 0, \"tgk\": 0, \"tgk\": 0, \"tgk\": 0, \"tgk\": 0, \"tgk\": 0, \"tgk\": 0, \"tgk\": 0, \"tgk\": 0, \"tgk\": 0, \"tgk\": 0, \"tgk\": 0, \"tgk\": 0, \"tgk\": 0, \"tgk\": 0, \"tgk\": 0, \"tgk\": 0, \"tgk\": 0, \"tgk\": 0, \"tgk\": 0, \"tgk\": 0, \"tgk\": 0, \"tgk\": 0, \"tgk\": 0, \"tgk\": 0, \"tgk\": 0, \"tgk\": 0, \"tgk\": 0, \"tgk\": 0, \"tgk\": 0, \"tgk\": 0, \"tgk\": 0, \"tgk\": 0, \"tgk\": 0, \"tgk\": 0, \"tgk\": 0, \"tgk\": 0, \"tgk\": 0, \"tgk\": 0, \"tgk\": 0, \"tgk\": 0, \"tgk\": 0, \"tgk\": 0, \"tgk\": 0, \"tgk\": 0, \"tgk\": 0, \"tgk\": 0, \"tgk\": 0, \"tgk\": 0, \"tgk\": 0, \"tgk\": 0, \"tgk\": 0, \"tgk\": 0, \"tgk\": 0, \"tgk\": 0, \"tgk\": 0, \"tgk\": 0, \"tgk\": 0, \"tgk\": 0, \"tgk\": 0, \"tgk\": 0, \"tgk\": 0, \"tgk\": 0, \"tgk\": 0, \"tgk\": 0, \"tgk\": 0, \"tgk\": 0, \"tgk\": 0, \"tgk\": 0, \"tgk\": 0, \"tgk\": 0, \"tgk\": 0, \"tgk\": 0, \"tgk\": 0, \"tgk\": 0, \"tgk\": 0, \"tgk\": 0, \"tgk\": 0, \"tgk\": 0, \"tgk\": 0, \"tgk\": 0, \"tgk\": 0, \"tgk\": 0, \"tgk\": 0, \"tgk\": 0, \"tgk\": 0, \"tgk\": 0, \"tgk\": 0, \"tgk\": 0, \"tgk\": 0, \"tgk\": 0, \"tgk\": 0, \"tgk\": 0, \"tgk\": 0, \"tgk\": 0, \"tgk\": 0, \"tgk\": 0, \"tgk\": 0, \"tgk\": 0, \"tgk\": 0, \"tgk\": 0, \"tgk\": 0, \"tgk\": 0, \"tgk\": 0, \"tgk\": 0, \"tgk\": 0, \"tgk\": 0, \"tgk\": 0, \"tgk\": 0, \"tgk\": 0, \"tgk\": 0, \"tgk\": 0, \"tgk\": 0, \"tgk\": 0, \"tgk\": 0, \"tgk\": 0, \"tgk\": 0, \"tgk\": 0, \"tgk\": 0, \"tgk\": 0, \"tgk\": 0, \"tgk\": 0, \"tgk\": 0, \"tgk\": 0, \"tgk\": 0, \"tgk\": 0, \"tgk\": 0, \"tgk\": 0, \"tgk\": 0, \"tgk\": 0, \"tgk\": 0, \"tgk\": 0, \"tgk\": 0, \"tgk\": 0, \"tgk\": 0, \"tgk\": 0, \"tgk\": 0, \"tgk\": 0, \"tgk\": 0, \"tgk\": 0, \"tgk\": 0, \"tgk\": 0, \"tgk\": 0, \"tgk\": 0, \"tgk\": 0, \"tgk\": 0, \"tgk\": 0, \"tgk\": 0, \"tgk\": 0, \"tgk\": 0, \"tgk\": 0, \"tgk\": 0, \"tgk\": 0, \"tgk\": 0, \"tgk\": 0, \"tgk\": 0, \"tgk\": 0, \"tgk\": 0, \"tgk\": 0, \"tgk\": 0, \"tgk\": 0, \"tgk\": 0, \"tgk\": 0, \"tgk\": 0, \"tgk\": 0, \"tgk\": 0, \"tgk\": 0, \"tgk\": 0, \"tgk\": 0, \"tgk\": 0, \"tgk\": 0, \"tgk\": 0, \"tgk\": 0, \"tgk\": 0, \"tgk\": 0, \"tgk\": 0, \"tgk\": 0, \"tgk\": 0, \"tgk\": 0, \"tgk\": 0, \"tgk\": 0, \"tgk\": 0, \"tgk\": 0, \"tgk\": 0, \"tgk\": 0, \"tgk\": 0, \"tgk\": 0, \"tgk\": 0, \"tgk\": 0, \"tgk\": 0, \"tgk\": 0, \"tgk\": 0, \"tgk\": 0, \"tgk\": 0, \"tgk\": 0, \"tgk\": 0, \"tgk\": 0, \"tgk\": 0, \"tgk\": 0, \"tgk\": 0, \"tgk\": 0, \"tgk\": 0, \"tgk\": 0, \"tgk\": 0, \"tgk\": 0, \"tgk\": 0, \"tgk\": 0, \"tgk\": 0, \"tgk\": 0, \"tgk\": 0, \"tgk\": 0, \"tgk\": 0, \"tgk\": 0, \"tgk\": 0, \"tgk\": 0, \"tgk\": 0, \"tgk\": 0, \"tgk\": 0, \"tgk\": 0, \"tgk\": 0, \"tgk\": 0, \"tgk\": 0, \"tgk\": 0, \"tgk\": 0, \"tgk\": 0, \"tgk\": 0, \"tgk\": 0, \"tgk\": 0, \"tgk\": 0, \"tgk\": 0, \"tgk\": 0, \"tgk\": 0, \"tgk\": 0, \"tgk\": 0, \"tgk\": 0, \"tgk\": 0, \"tgk\": 0, \"tgk\": 0, \"tgk\": 0, \"tgk\": 0, \"tgk\": 0, \"tgk\": 0, \"tgk\": 0, \"tgk\": 0, \"tgk\": 0, \"tgk\": 0, \"tgk\": 0, \"tgk\": 0, \"tgk\": 0, \"tgk\": 0, \"tgk\": 0, \"tgk\": 0, \"tgk\": 0, \"tgk\": 0, \"tgk\": 0, \"tgk\": 0, \"tgk\": 0, \"tgk\": 0, \"tgk\": 0, \"tgk\": 0, \"tgk\": 0, \"tgk\": 0, \"tgk\": 0, \"tgk\": 0, \"tgk\": 0, \"tgk\": 0, \"tgk\": 0, \"tgk\": 0, \"tgk\": 0, \"tgk\": 0, \"tgk\": 0, \"tgk\": 0, \"tgk\": 0, \"tgk\": 0, \"tgk\": 0, \"tgk\": 0, \"tgk\": 0, \"tgk\": 0, \"tgk\": 0, \"tgk\": 0, \"tgk\": 0, \"tgk\": 0, \"tgk\": 0, \"tgk\": 0, \"tgk\": 0, \"tgk\": 0, \"tgk\": 0, \"tgk\": 0, \"tgk\": 0, \"tgk\": 0, \"tgk\": 0, \"tgk\": 0, \"tgk\": 0, \"tgk\": 0, \"tgk\": 0, \"tgk\": 0, \"tgk\": 0, \"tgk\": 0, \"tgk\": 0, \"tgk\": 0, \"tgk\": 0, \"tgk\": 0, \"tgk\": 0, \"tgk\": 0, \"tgk\": 0, \"tgk\": 0, \"tgk\": 0, \"tgk\": 0, \"tgk\": 0, \"tgk\": 0, \"tgk\": 0, \"tgk\": 0, \"tgk\": 0, \"tgk\": 0, \"tgk\": 0, \"tgk\": 0, \"tgk\": 0, \"tgk\": 0, \"tgk\": 0, \"tgk\": 0, \"tgk\": 0, \"tgk\": 0, \"tgk\": 0, \"tgk\": 0, \"tgk\": 0, \"tgk\": 0, \"tgk\": 0, \"tgk\": 0, \"tgk\": 0, \"tgk\": 0, \"tgk\": 0, \"tgk\": 0, \"tgk\": 0, \"tgk\": 0, \"tgk\": 0, \"tgk\": 0, \"tgk\": 0, \"tgk\": 0, \"tgk\": 0, \"tgk\": 0, \"tgk\": 0, \"tgk\": 0, \"tgk\": 0, \"tgk\": 0, \"tgk\": 0, \"tgk\": 0, \"tgk\": 0, \"tgk\": 0, \"tgk\": 0, \"tgk\": 0, \"tgk\": 0, \"tgk\": 0, \"tgk\": 0, \"tgk\": 0, \"tgk\": 0, \"tgk\": 0, \"tgk\": 0, \"tgk\": 0, \"tgk\": 0, \"tgk\": 0, \"tgk\": 0, \"tgk\": 0, \"tgk\": 0, \"tgk\": 0, \"tgk\": 0, \"tgk\": 0, \"tgk\": 0, \"tgk\": 0, \"tgk\": 0, \"tgk\": 0, \"tgk\": 0, \"tgk\": 0, \"tgk\": 0, \"tgk\": 0, \"tgk\": 0, \"tgk\": 0, \"tgk\": 0, \"tgk\": 0, \"tgk\": 0, \"tgk\": 0, \"tgk\": 0, \"tgk\": 0, \"tgk\": 0, \"tgk\": 0, \"tgk\": 0, \"tgk\": 0, \"tgk\": 0, \"tgk\": 0, \"tgk\": 0, \"tgk\": 0, \"tgk\": 0, \"tgk\": 0, \"tgk\": 0, \"tgk\": 0, \"tgk\": 0, \"tgk\": 0, \"tgk\": 0, \"tgk\": 0, \"tgk\": 0, \"tgk\": 0, \"tgk\": 0, \"tgk\": 0, \"tgk\": 0, \"tgk\": 0, \"tgk\": 0, \"tgk\": 0, \"tgk\": 0, \"tgk\": 0, \"tgk\": 0, \"tgk\": \n"
     ]
    },
    {
     "data": {
      "application/vnd.plotly.v1+json": {
       "config": {
        "plotlyServerURL": "https://plot.ly"
       },
       "data": [
        {
         "hoverinfo": "text",
         "hovertext": [
          "Theme: Tesla Discussion<br>Type: Bot Themes<br>Confidence: 100%<br>Keywords: <br>Sentiments:<br>Positive: 66.67%<br>Negative: 33.33%<br>Neutral: 0%",
          "Theme: Optimus and Tesla Technology<br>Type: Bot Themes<br>Confidence: 100%<br>Keywords: <br>Sentiments:<br>Positive: 100%<br>Negative: 0%<br>Neutral: 0%",
          "Theme: Tesla as a Gift<br>Type: Bot Themes<br>Confidence: 100%<br>Keywords: <br>Sentiments:<br>Positive: 66.67%<br>Negative: 33.33%<br>Neutral: 0%",
          "Theme: Tesla Products and Colors<br>Type: Bot Themes<br>Confidence: 100%<br>Keywords: <br>Sentiments:<br>Positive: 100%<br>Negative: 0%<br>Neutral: 0%",
          "Theme: Personal Experiences and Safety<br>Type: Bot Themes<br>Confidence: 100%<br>Keywords: <br>Sentiments:<br>Positive: 100%<br>Negative: 0%<br>Neutral: 0%",
          "Theme: Tesla Technology and Innovation<br>Type: Bot Themes<br>Confidence: 97%<br>Keywords: <br>Sentiments:<br>Positive: 100%<br>Negative: 0%<br>Neutral: 0%",
          "Theme: Tesla Vehicles and Design<br>Type: Bot Themes<br>Confidence: 95%<br>Keywords: <br>Sentiments:<br>Positive: 100%<br>Negative: 0%<br>Neutral: 0%",
          "Theme: Tesla Community and Interactions<br>Type: Bot Themes<br>Confidence: 90%<br>Keywords: <br>Sentiments:<br>Positive: 100%<br>Negative: 0%<br>Neutral: 0%",
          "Theme: Tesla Robots and Robotics<br>Type: Bot Themes<br>Confidence: 85%<br>Keywords: <br>Sentiments:<br>Positive: 100%<br>Negative: 0%<br>Neutral: 0%",
          "Theme: Tesla Events and Updates<br>Type: Bot Themes<br>Confidence: 88%<br>Keywords: <br>Sentiments:<br>Positive: 100%<br>Negative: 0%<br>Neutral: 0%",
          "Theme: Tesla Brand and Marketing<br>Type: Bot Themes<br>Confidence: 80%<br>Keywords: <br>Sentiments:<br>Positive: 100%<br>Negative: 0%<br>Neutral: 0%",
          "Theme: Tesla Employees and Partnerships<br>Type: Bot Themes<br>Confidence: 78%<br>Keywords: <br>Sentiments:<br>Positive: 100%<br>Negative: 0%<br>Neutral: 0%",
          "Theme: Investment and Financial Performance<br>Type: Bot Themes<br>Confidence: 90%<br>Keywords: <br>Sentiments:<br>Positive: 80%<br>Negative: 10%<br>Neutral: 10%",
          "Theme: Tesla Model Y and Innovation<br>Type: Bot Themes<br>Confidence: 85%<br>Keywords: <br>Sentiments:<br>Positive: 95%<br>Negative: 3%<br>Neutral: 2%",
          "Theme: Elon Musk and Leadership<br>Type: Bot Themes<br>Confidence: 80%<br>Keywords: <br>Sentiments:<br>Positive: 85%<br>Negative: 10%<br>Neutral: 5%",
          "Theme: Market Trends and Competition<br>Type: Bot Themes<br>Confidence: 75%<br>Keywords: <br>Sentiments:<br>Positive: 70%<br>Negative: 20%<br>Neutral: 10%",
          "Theme: Car Features and Performance<br>Type: Bot Themes<br>Confidence: 70%<br>Keywords: <br>Sentiments:<br>Positive: 90%<br>Negative: 5%<br>Neutral: 5%",
          "Theme: Model Y Upgrades<br>Type: Bot Themes<br>Confidence: 100%<br>Keywords: <br>Sentiments:<br>Positive: 80%<br>Negative: 10%<br>Neutral: 10%",
          "Theme: Model Y Reliability<br>Type: Bot Themes<br>Confidence: 90%<br>Keywords: <br>Sentiments:<br>Positive: 95%<br>Negative: 2%<br>Neutral: 3%",
          "Theme: Tesla Pricing and Incentives<br>Type: Bot Themes<br>Confidence: 85%<br>Keywords: <br>Sentiments:<br>Positive: 70%<br>Negative: 10%<br>Neutral: 20%",
          "Theme: Model Y Design and Features<br>Type: Bot Themes<br>Confidence: 80%<br>Keywords: <br>Sentiments:<br>Positive: 60%<br>Negative: 15%<br>Neutral: 25%",
          "Theme: Tesla Safety Features<br>Type: Bot Themes<br>Confidence: 75%<br>Keywords: <br>Sentiments:<br>Positive: 85%<br>Negative: 5%<br>Neutral: 10%",
          "Theme: Model Y Performance and Range<br>Type: Bot Themes<br>Confidence: 75%<br>Keywords: <br>Sentiments:<br>Positive: 55%<br>Negative: 20%<br>Neutral: 25%",
          "Theme: Tesla Model Y's Success<br>Type: Bot Themes<br>Confidence: 90%<br>Keywords: <br>Sentiments:<br>Positive: 80%<br>Negative: 10%<br>Neutral: 10%",
          "Theme: Tesla Sales Figures<br>Type: Bot Themes<br>Confidence: 85%<br>Keywords: <br>Sentiments:<br>Positive: 75%<br>Negative: 12%<br>Neutral: 13%",
          "Theme: Tesla's Market Share<br>Type: Bot Themes<br>Confidence: 80%<br>Keywords: <br>Sentiments:<br>Positive: 70%<br>Negative: 15%<br>Neutral: 15%",
          "Theme: Tesla's Design and Features<br>Type: Bot Themes<br>Confidence: 75%<br>Keywords: <br>Sentiments:<br>Positive: 65%<br>Negative: 15%<br>Neutral: 20%",
          "Theme: Tesla's Competition<br>Type: Bot Themes<br>Confidence: 70%<br>Keywords: <br>Sentiments:<br>Positive: 60%<br>Negative: 20%<br>Neutral: 20%",
          "Theme: Tesla Model Y Juniper<br>Type: Bot Themes<br>Confidence: 100%<br>Keywords: <br>Sentiments:<br>Positive: 50%<br>Negative: 20%<br>Neutral: 30%",
          "Theme: Tesla Company Updates<br>Type: Bot Themes<br>Confidence: 80%<br>Keywords: <br>Sentiments:<br>Positive: 55%<br>Negative: 15%<br>Neutral: 30%",
          "Theme: Tesla Financials<br>Type: Bot Themes<br>Confidence: 70%<br>Keywords: <br>Sentiments:<br>Positive: 40%<br>Negative: 30%<br>Neutral: 30%",
          "Theme: Tesla Safety Rating<br>Type: Bot Themes<br>Confidence: 95%<br>Keywords: <br>Sentiments:<br>Positive: 85%<br>Negative: 5%<br>Neutral: 10%",
          "Theme: Tesla Model Comparison<br>Type: Bot Themes<br>Confidence: 85%<br>Keywords: <br>Sentiments:<br>Positive: 60%<br>Negative: 20%<br>Neutral: 20%",
          "Theme: Tesla Factory Leaks<br>Type: Bot Themes<br>Confidence: 80%<br>Keywords: <br>Sentiments:<br>Positive: 50%<br>Negative: 25%<br>Neutral: 25%",
          "Theme: Tesla Regulatory Incentives<br>Type: Bot Themes<br>Confidence: 90%<br>Keywords: <br>Sentiments:<br>Positive: 65%<br>Negative: 15%<br>Neutral: 20%",
          "Theme: Tesla Price Comparison<br>Type: Bot Themes<br>Confidence: 75%<br>Keywords: <br>Sentiments:<br>Positive: 55%<br>Negative: 20%<br>Neutral: 25%",
          "Theme: Tesla Leaked Designs<br>Type: Bot Themes<br>Confidence: 85%<br>Keywords: <br>Sentiments:<br>Positive: 50%<br>Negative: 25%<br>Neutral: 25%",
          "Theme: Tesla Model 3 Performance and Features<br>Type: Bot Themes<br>Confidence: 100%<br>Keywords: <br>Sentiments:<br>Positive: 85%<br>Negative: 5%<br>Neutral: 10%",
          "Theme: Tesla Model 3 Safety and Durability<br>Type: Bot Themes<br>Confidence: 95%<br>Keywords: <br>Sentiments:<br>Positive: 90%<br>Negative: 5%<br>Neutral: 5%",
          "Theme: Tesla Model 3 Sales and Market Performance<br>Type: Bot Themes<br>Confidence: 85%<br>Keywords: <br>Sentiments:<br>Positive: 60%<br>Negative: 20%<br>Neutral: 20%",
          "Theme: Tesla Model 3 Autonomy and Design<br>Type: Bot Themes<br>Confidence: 80%<br>Keywords: <br>Sentiments:<br>Positive: 80%<br>Negative: 10%<br>Neutral: 10%",
          "Theme: Model 3 Updates and Improvements<br>Type: Bot Themes<br>Confidence: 95%<br>Keywords: <br>Sentiments:<br>Positive: 80%<br>Negative: 10%<br>Neutral: 10%",
          "Theme: Tesla Model 3 Referral Program<br>Type: Bot Themes<br>Confidence: 85%<br>Keywords: <br>Sentiments:<br>Positive: 70%<br>Negative: 15%<br>Neutral: 15%",
          "Theme: Model 3 Ownership and Experiences<br>Type: Bot Themes<br>Confidence: 80%<br>Keywords: <br>Sentiments:<br>Positive: 85%<br>Negative: 5%<br>Neutral: 10%",
          "Theme: Model 3 Range and Efficiency<br>Type: Bot Themes<br>Confidence: 75%<br>Keywords: <br>Sentiments:<br>Positive: 65%<br>Negative: 20%<br>Neutral: 15%",
          "Theme: Model 3 Design and Customization<br>Type: Bot Themes<br>Confidence: 70%<br>Keywords: <br>Sentiments:<br>Positive: 55%<br>Negative: 20%<br>Neutral: 25%",
          "Theme: Model 3 Comparison and Value<br>Type: Bot Themes<br>Confidence: 85%<br>Keywords: <br>Sentiments:<br>Positive: 75%<br>Negative: 15%<br>Neutral: 10%",
          "Theme: Tesla Model 3 Charging Costs<br>Type: Bot Themes<br>Confidence: 80%<br>Keywords: <br>Sentiments:<br>Positive: 60%<br>Negative: 25%<br>Neutral: 15%",
          "Theme: Model 3 and Other Tesla Models<br>Type: Bot Themes<br>Confidence: 75%<br>Keywords: <br>Sentiments:<br>Positive: 65%<br>Negative: 15%<br>Neutral: 20%",
          "Theme: Model 3 Updates and Enhancements<br>Type: Bot Themes<br>Confidence: 95%<br>Keywords: Model 3, Refreshed, Aesthetic enhancements, Increased range, Upgraded features<br>Sentiments:<br>Positive: 66.7%<br>Negative: 0%<br>Neutral: 33.3%",
          "Theme: Model 3 Pricing and Incentives<br>Type: Bot Themes<br>Confidence: 85%<br>Keywords: Model 3, Pricing, Incentives, Tesla credits, Tax credit<br>Sentiments:<br>Positive: 50%<br>Negative: 25%<br>Neutral: 25%",
          "Theme: Model 3 Performance and Features<br>Type: Bot Themes<br>Confidence: 90%<br>Keywords: Model 3, Performance, Features, Range, Speed<br>Sentiments:<br>Positive: 58.3%<br>Negative: 16.7%<br>Neutral: 25%",
          "Theme: Tesla Product Lineup<br>Type: Bot Themes<br>Confidence: 80%<br>Keywords: Tesla, Product lineup, Model S, Model X, Cybertruck<br>Sentiments:<br>Positive: 50%<br>Negative: 0%<br>Neutral: 50%",
          "Theme: Model 3 Depreciation and Resale Value<br>Type: Bot Themes<br>Confidence: 70%<br>Keywords: Model 3, Depreciation, Resale value, Tesla, EV<br>Sentiments:<br>Positive: 66.7%<br>Negative: 0%<br>Neutral: 33.3%",
          "Theme: Tesla Model 3 Review<br>Type: Bot Themes<br>Confidence: 90%<br>Keywords: <br>Sentiments:<br>Positive: 50%<br>Negative: 0%<br>Neutral: 50%",
          "Theme: Cybertruck Design and Aesthetics<br>Type: Bot Themes<br>Confidence: 80%<br>Keywords: <br>Sentiments:<br>Positive: 0%<br>Negative: 100%<br>Neutral: 0%",
          "Theme: Elon Musk and Tesla Leadership<br>Type: Bot Themes<br>Confidence: 80%<br>Keywords: <br>Sentiments:<br>Positive: 0%<br>Negative: 0%<br>Neutral: 100%",
          "Theme: Cybertruck vs Other Vehicles<br>Type: Bot Themes<br>Confidence: 90%<br>Keywords: <br>Sentiments:<br>Positive: 0%<br>Negative: 100%<br>Neutral: 0%",
          "Theme: User Experiences and Reviews<br>Type: Bot Themes<br>Confidence: 85%<br>Keywords: <br>Sentiments:<br>Positive: 20%<br>Negative: 60%<br>Neutral: 20%",
          "Theme: Technology and Innovation<br>Type: Bot Themes<br>Confidence: 75%<br>Keywords: <br>Sentiments:<br>Positive: 40%<br>Negative: 10%<br>Neutral: 50%",
          "Theme: Cybertruck Safety and Reliability<br>Type: Bot Themes<br>Confidence: 70%<br>Keywords: <br>Sentiments:<br>Positive: 50%<br>Negative: 50%<br>Neutral: 0%",
          "Theme: Business and Partnerships<br>Type: Bot Themes<br>Confidence: 80%<br>Keywords: <br>Sentiments:<br>Positive: 0%<br>Negative: 0%<br>Neutral: 100%",
          "Theme: Cybertruck Marketing and Hype<br>Type: Bot Themes<br>Confidence: 85%<br>Keywords: <br>Sentiments:<br>Positive: 60%<br>Negative: 20%<br>Neutral: 20%",
          "Theme: Cybertruck Impression and Reviews<br>Type: Bot Themes<br>Confidence: 95%<br>Keywords: <br>Sentiments:<br>Positive: 50%<br>Negative: 30%<br>Neutral: 20%",
          "Theme: Public Perception and Satire<br>Type: Bot Themes<br>Confidence: 90%<br>Keywords: <br>Sentiments:<br>Positive: 0%<br>Negative: 70%<br>Neutral: 30%",
          "Theme: Cybertruck vs. Other Tesla Models<br>Type: Bot Themes<br>Confidence: 85%<br>Keywords: <br>Sentiments:<br>Positive: 90%<br>Negative: 5%<br>Neutral: 5%",
          "Theme: Environmental and Social Commentary<br>Type: Bot Themes<br>Confidence: 80%<br>Keywords: <br>Sentiments:<br>Positive: 60%<br>Negative: 30%<br>Neutral: 10%",
          "Theme: Purchaser Experiences and Issues<br>Type: Bot Themes<br>Confidence: 80%<br>Keywords: <br>Sentiments:<br>Positive: 40%<br>Negative: 50%<br>Neutral: 10%",
          "Theme: Cybertruck Performance and Features<br>Type: Bot Themes<br>Confidence: 95%<br>Keywords: <br>Sentiments:<br>Positive: 80%<br>Negative: 10%<br>Neutral: 10%",
          "Theme: Publicity and Media Coverage<br>Type: Bot Themes<br>Confidence: 85%<br>Keywords: <br>Sentiments:<br>Positive: 30%<br>Negative: 60%<br>Neutral: 10%"
         ],
         "marker": {
          "color": "rgb(255,0,0)",
          "line": {
           "color": "black",
           "width": 1
          },
          "size": [
           15,
           15,
           15,
           15,
           15,
           14.7,
           14.5,
           14,
           13.5,
           13.8,
           13,
           12.8,
           14,
           13.5,
           13,
           12.5,
           12,
           15,
           14,
           13.5,
           13,
           12.5,
           12.5,
           14,
           13.5,
           13,
           12.5,
           12,
           15,
           13,
           12,
           14.5,
           13.5,
           13,
           14,
           12.5,
           13.5,
           15,
           14.5,
           13.5,
           13,
           14.5,
           13.5,
           13,
           12.5,
           12,
           13.5,
           13,
           12.5,
           14.5,
           13.5,
           14,
           13,
           12,
           14,
           13,
           13,
           14,
           13.5,
           12.5,
           12,
           13,
           13.5,
           14.5,
           14,
           13.5,
           13,
           13,
           14.5,
           13.5
          ]
         },
         "mode": "markers",
         "name": "Bot Themes",
         "type": "scatter",
         "x": [
          -4.587697827715175,
          -5.88517688352376,
          -4.629254190998935,
          -7.1751540982547395,
          -5.4338318665867265,
          -6.212066936845847,
          -4.010985125230437,
          -5.736004067094611,
          -6.0510417718172596,
          -4.768089314440726,
          -4.730753369772542,
          -4.837968633733236,
          -5.60008814325277,
          -3.113718525763849,
          -6.4879793087598,
          -5.036377974557672,
          -7.540779950231535,
          -5.522742354004523,
          -4.787012730334625,
          -3.988215473405827,
          -4.506741374075639,
          -2.9382324390866827,
          -5.010868174104064,
          -3.8467923563429833,
          -3.847379104942269,
          -6.235919202341349,
          -6.397244976308176,
          -4.340568805501313,
          -2.510706627020115,
          -5.27302965462266,
          -6.004693501353142,
          -6.057781961385059,
          -4.980388176128587,
          -5.064886029429233,
          -3.971140721963264,
          -5.092598037165731,
          -4.093376981283562,
          -6.184076073877438,
          -5.909929005815981,
          -6.059398845359904,
          -4.302734808243587,
          -4.816039549115338,
          -4.703586560575928,
          -4.641536827195993,
          -4.663080365100514,
          -4.180426355462943,
          -3.3631991450937218,
          -7.031387890264954,
          -4.273139388943467,
          -5.889340961181361,
          -6.820019679051811,
          -5.348941626955338,
          -4.408529792292155,
          -4.748375006840678,
          -4.905351874256652,
          -6.343673011218974,
          -4.976038484072015,
          -5.931910663076139,
          -5.303959172839332,
          -4.670508865694653,
          -3.585715936161418,
          -4.747323215525757,
          -4.2783953113592785,
          -5.587722638499703,
          -5.64965394515492,
          -3.2937713086154496,
          -4.592914788832496,
          -4.959848502596481,
          -4.633383571859863,
          -3.441846193218927
         ],
         "y": [
          -5.427444105785312,
          -5.750497682350306,
          -5.258231749137794,
          -5.206912280886916,
          -6.2204989740215115,
          -5.081739886620312,
          -6.26692935005212,
          -4.70494739301436,
          -5.005963543302082,
          -3.5211014007318147,
          -5.669841066997967,
          -6.0357867295444,
          -6.4258350157417325,
          -4.417071476668092,
          -4.461877040711141,
          -4.874249066643847,
          -5.145823350015973,
          -4.654712840633988,
          -4.3390154127061,
          -4.148555930400757,
          -6.378188872638791,
          -5.091299607547168,
          -4.79448757940734,
          -6.049517600971974,
          -4.535333074345795,
          -5.799607094223704,
          -4.55085146047961,
          -6.423852690782784,
          -6.92384444368507,
          -4.934948858384636,
          -3.51620889661171,
          -5.113817492606161,
          -6.124558189786978,
          -4.407942516085379,
          -3.86323337863514,
          -6.256917601650835,
          -5.222959257632549,
          -5.846309120316413,
          -4.570833699058046,
          -4.925021246396774,
          -3.371689229753412,
          -5.113706729614507,
          -4.941953171917495,
          -3.911128752190101,
          -3.6610092172295237,
          -5.816536944751858,
          -4.9485435354895735,
          -6.527604445076026,
          -4.966776664795229,
          -3.9698901002318223,
          -5.833967144986561,
          -5.051227282968073,
          -4.945796127710173,
          -4.119006451799175,
          -3.4037239719610324,
          -4.167428516281595,
          -4.671782911457503,
          -4.129346956493428,
          -3.965656822236186,
          -6.3665173531312576,
          -4.386104565282558,
          -4.403529776744143,
          -7.9946397768854975,
          -4.94648586104878,
          -4.632427376045536,
          -4.962839167525566,
          -4.988433625705547,
          -4.931426830266121,
          -4.185286123561182,
          -3.6724527469917456
         ]
        },
        {
         "hoverinfo": "text",
         "hovertext": [
          "Theme: Tesla Product and Technology<br>Type: Non-Bot Themes<br>Confidence: 100%<br>Keywords: <br>Sentiments:<br>Positive: 82%<br>Negative: 0%<br>Neutral: 18%",
          "Theme: Tesla Company Culture and Appreciation<br>Type: Non-Bot Themes<br>Confidence: 95%<br>Keywords: <br>Sentiments:<br>Positive: 100%<br>Negative: 0%<br>Neutral: 0%",
          "Theme: Tesla Events and Announcements<br>Type: Non-Bot Themes<br>Confidence: 80%<br>Keywords: <br>Sentiments:<br>Positive: 100%<br>Negative: 0%<br>Neutral: 0%",
          "Theme: Tesla Customer Experience<br>Type: Non-Bot Themes<br>Confidence: 90%<br>Keywords: <br>Sentiments:<br>Positive: 90%<br>Negative: 0%<br>Neutral: 10%",
          "Theme: Tesla and Elon Musk<br>Type: Non-Bot Themes<br>Confidence: 100%<br>Keywords: <br>Sentiments:<br>Positive: 95%<br>Negative: 0%<br>Neutral: 5%",
          "Theme: Tesla and Industry Advancements<br>Type: Non-Bot Themes<br>Confidence: 85%<br>Keywords: <br>Sentiments:<br>Positive: 80%<br>Negative: 0%<br>Neutral: 20%",
          "Theme: Tesla Product Suggestions and Ideas<br>Type: Non-Bot Themes<br>Confidence: 70%<br>Keywords: <br>Sentiments:<br>Positive: 75%<br>Negative: 0%<br>Neutral: 25%",
          "Theme: Tesla and Public Perception<br>Type: Non-Bot Themes<br>Confidence: 80%<br>Keywords: <br>Sentiments:<br>Positive: 85%<br>Negative: 0%<br>Neutral: 15%",
          "Theme: Tesla and Innovation<br>Type: Non-Bot Themes<br>Confidence: 90%<br>Keywords: <br>Sentiments:<br>Positive: 90%<br>Negative: 0%<br>Neutral: 10%",
          "Theme: Tesla and Community Engagement<br>Type: Non-Bot Themes<br>Confidence: 80%<br>Keywords: <br>Sentiments:<br>Positive: 90%<br>Negative: 0%<br>Neutral: 10%",
          "Theme: Tesla Cybertruck<br>Type: Non-Bot Themes<br>Confidence: 100%<br>Keywords: <br>Sentiments:<br>Positive: 100%<br>Negative: 0%<br>Neutral: 0%",
          "Theme: Tesla Model Y<br>Type: Non-Bot Themes<br>Confidence: 100%<br>Keywords: <br>Sentiments:<br>Positive: 100%<br>Negative: 0%<br>Neutral: 0%",
          "Theme: Positive Sentiment about Tesla<br>Type: Non-Bot Themes<br>Confidence: 80%<br>Keywords: <br>Sentiments:<br>Positive: 80%<br>Negative: 10%<br>Neutral: 10%",
          "Theme: Cybertruck Accidents and Safety Concerns<br>Type: Non-Bot Themes<br>Confidence: 90%<br>Keywords: <br>Sentiments:<br>Positive: 0%<br>Negative: 100%<br>Neutral: 0%",
          "Theme: Cybertruck Design and Quality Issues<br>Type: Non-Bot Themes<br>Confidence: 80%<br>Keywords: <br>Sentiments:<br>Positive: 0%<br>Negative: 100%<br>Neutral: 0%",
          "Theme: Cybertruck Off-Road Capability and Performance<br>Type: Non-Bot Themes<br>Confidence: 80%<br>Keywords: <br>Sentiments:<br>Positive: 100%<br>Negative: 0%<br>Neutral: 0%",
          "Theme: Cybertruck Advertising and Marketing<br>Type: Non-Bot Themes<br>Confidence: 90%<br>Keywords: <br>Sentiments:<br>Positive: 95%<br>Negative: 0%<br>Neutral: 5%",
          "Theme: Cybertruck Safety Concerns<br>Type: Non-Bot Themes<br>Confidence: 85%<br>Keywords: <br>Sentiments:<br>Positive: 0%<br>Negative: 95%<br>Neutral: 5%",
          "Theme: Cybertruck Ownership and Experiences<br>Type: Non-Bot Themes<br>Confidence: 88%<br>Keywords: <br>Sentiments:<br>Positive: 85%<br>Negative: 5%<br>Neutral: 10%"
         ],
         "marker": {
          "color": "rgb(0,255,0)",
          "line": {
           "color": "black",
           "width": 1
          },
          "size": [
           15,
           14.5,
           13,
           14,
           15,
           13.5,
           12,
           13,
           14,
           13,
           15,
           15,
           13,
           14,
           13,
           13,
           14,
           13.5,
           13.8
          ]
         },
         "mode": "markers",
         "name": "Non-Bot Themes",
         "type": "scatter",
         "x": [
          5.998449485595829,
          5.382624006782839,
          4.945662727854837,
          5.9383272592414365,
          3.7670422283735316,
          4.729651922348516,
          5.879722875874147,
          5.010592791310074,
          6.4371100654709466,
          2.7363745431454545,
          3.4668150803783386,
          5.679801513403891,
          4.7969961462579676,
          4.6608098252791414,
          5.416818352501489,
          4.535654711343049,
          5.2932354975005165,
          2.8872342054224385,
          6.768713969782773
         ],
         "y": [
          2.9153960902844376,
          7.422964308060914,
          5.7186321614315805,
          5.662663368447218,
          2.98247561971295,
          4.774764727013436,
          4.914020248838468,
          5.376441775250965,
          4.725630545811882,
          6.789237199416795,
          4.872467666351795,
          4.489898276211638,
          4.855474392953521,
          3.401786514179008,
          2.702578270853965,
          4.693658737516585,
          4.477926858242575,
          4.456651207176812,
          3.3880526285765837
         ]
        },
        {
         "hoverinfo": "text",
         "hovertext": [
          "Theme: Tesla Safety<br>Type: Mixed Themes<br>Confidence: 92%<br>Keywords: <br>Sentiments:<br>Positive: 100%<br>Negative: 0%<br>Neutral: 0%",
          "Theme: Tesla Vehicles<br>Type: Mixed Themes<br>Confidence: 90%<br>Keywords: <br>Sentiments:<br>Positive: 60%<br>Negative: 10%<br>Neutral: 30%",
          "Theme: Cybertruck Performance and Capability<br>Type: Mixed Themes<br>Confidence: 70%<br>Keywords: <br>Sentiments:<br>Positive: 60%<br>Negative: 20%<br>Neutral: 20%"
         ],
         "marker": {
          "color": "rgb(128,0,128)",
          "line": {
           "color": "black",
           "width": 1
          },
          "size": [
           14.2,
           14,
           12
          ]
         },
         "mode": "markers",
         "name": "Mixed Themes",
         "type": "scatter",
         "x": [
          -0.5091639057567435,
          0.413760406961355,
          0.9475777291943236
         ],
         "y": [
          -0.3617791089638527,
          1.137504469222287,
          -0.9750811675818015
         ]
        }
       ],
       "layout": {
        "height": 800,
        "paper_bgcolor": "white",
        "plot_bgcolor": "white",
        "showlegend": true,
        "template": {
         "data": {
          "bar": [
           {
            "error_x": {
             "color": "#2a3f5f"
            },
            "error_y": {
             "color": "#2a3f5f"
            },
            "marker": {
             "line": {
              "color": "#E5ECF6",
              "width": 0.5
             },
             "pattern": {
              "fillmode": "overlay",
              "size": 10,
              "solidity": 0.2
             }
            },
            "type": "bar"
           }
          ],
          "barpolar": [
           {
            "marker": {
             "line": {
              "color": "#E5ECF6",
              "width": 0.5
             },
             "pattern": {
              "fillmode": "overlay",
              "size": 10,
              "solidity": 0.2
             }
            },
            "type": "barpolar"
           }
          ],
          "carpet": [
           {
            "aaxis": {
             "endlinecolor": "#2a3f5f",
             "gridcolor": "white",
             "linecolor": "white",
             "minorgridcolor": "white",
             "startlinecolor": "#2a3f5f"
            },
            "baxis": {
             "endlinecolor": "#2a3f5f",
             "gridcolor": "white",
             "linecolor": "white",
             "minorgridcolor": "white",
             "startlinecolor": "#2a3f5f"
            },
            "type": "carpet"
           }
          ],
          "choropleth": [
           {
            "colorbar": {
             "outlinewidth": 0,
             "ticks": ""
            },
            "type": "choropleth"
           }
          ],
          "contour": [
           {
            "colorbar": {
             "outlinewidth": 0,
             "ticks": ""
            },
            "colorscale": [
             [
              0,
              "#0d0887"
             ],
             [
              0.1111111111111111,
              "#46039f"
             ],
             [
              0.2222222222222222,
              "#7201a8"
             ],
             [
              0.3333333333333333,
              "#9c179e"
             ],
             [
              0.4444444444444444,
              "#bd3786"
             ],
             [
              0.5555555555555556,
              "#d8576b"
             ],
             [
              0.6666666666666666,
              "#ed7953"
             ],
             [
              0.7777777777777778,
              "#fb9f3a"
             ],
             [
              0.8888888888888888,
              "#fdca26"
             ],
             [
              1,
              "#f0f921"
             ]
            ],
            "type": "contour"
           }
          ],
          "contourcarpet": [
           {
            "colorbar": {
             "outlinewidth": 0,
             "ticks": ""
            },
            "type": "contourcarpet"
           }
          ],
          "heatmap": [
           {
            "colorbar": {
             "outlinewidth": 0,
             "ticks": ""
            },
            "colorscale": [
             [
              0,
              "#0d0887"
             ],
             [
              0.1111111111111111,
              "#46039f"
             ],
             [
              0.2222222222222222,
              "#7201a8"
             ],
             [
              0.3333333333333333,
              "#9c179e"
             ],
             [
              0.4444444444444444,
              "#bd3786"
             ],
             [
              0.5555555555555556,
              "#d8576b"
             ],
             [
              0.6666666666666666,
              "#ed7953"
             ],
             [
              0.7777777777777778,
              "#fb9f3a"
             ],
             [
              0.8888888888888888,
              "#fdca26"
             ],
             [
              1,
              "#f0f921"
             ]
            ],
            "type": "heatmap"
           }
          ],
          "heatmapgl": [
           {
            "colorbar": {
             "outlinewidth": 0,
             "ticks": ""
            },
            "colorscale": [
             [
              0,
              "#0d0887"
             ],
             [
              0.1111111111111111,
              "#46039f"
             ],
             [
              0.2222222222222222,
              "#7201a8"
             ],
             [
              0.3333333333333333,
              "#9c179e"
             ],
             [
              0.4444444444444444,
              "#bd3786"
             ],
             [
              0.5555555555555556,
              "#d8576b"
             ],
             [
              0.6666666666666666,
              "#ed7953"
             ],
             [
              0.7777777777777778,
              "#fb9f3a"
             ],
             [
              0.8888888888888888,
              "#fdca26"
             ],
             [
              1,
              "#f0f921"
             ]
            ],
            "type": "heatmapgl"
           }
          ],
          "histogram": [
           {
            "marker": {
             "pattern": {
              "fillmode": "overlay",
              "size": 10,
              "solidity": 0.2
             }
            },
            "type": "histogram"
           }
          ],
          "histogram2d": [
           {
            "colorbar": {
             "outlinewidth": 0,
             "ticks": ""
            },
            "colorscale": [
             [
              0,
              "#0d0887"
             ],
             [
              0.1111111111111111,
              "#46039f"
             ],
             [
              0.2222222222222222,
              "#7201a8"
             ],
             [
              0.3333333333333333,
              "#9c179e"
             ],
             [
              0.4444444444444444,
              "#bd3786"
             ],
             [
              0.5555555555555556,
              "#d8576b"
             ],
             [
              0.6666666666666666,
              "#ed7953"
             ],
             [
              0.7777777777777778,
              "#fb9f3a"
             ],
             [
              0.8888888888888888,
              "#fdca26"
             ],
             [
              1,
              "#f0f921"
             ]
            ],
            "type": "histogram2d"
           }
          ],
          "histogram2dcontour": [
           {
            "colorbar": {
             "outlinewidth": 0,
             "ticks": ""
            },
            "colorscale": [
             [
              0,
              "#0d0887"
             ],
             [
              0.1111111111111111,
              "#46039f"
             ],
             [
              0.2222222222222222,
              "#7201a8"
             ],
             [
              0.3333333333333333,
              "#9c179e"
             ],
             [
              0.4444444444444444,
              "#bd3786"
             ],
             [
              0.5555555555555556,
              "#d8576b"
             ],
             [
              0.6666666666666666,
              "#ed7953"
             ],
             [
              0.7777777777777778,
              "#fb9f3a"
             ],
             [
              0.8888888888888888,
              "#fdca26"
             ],
             [
              1,
              "#f0f921"
             ]
            ],
            "type": "histogram2dcontour"
           }
          ],
          "mesh3d": [
           {
            "colorbar": {
             "outlinewidth": 0,
             "ticks": ""
            },
            "type": "mesh3d"
           }
          ],
          "parcoords": [
           {
            "line": {
             "colorbar": {
              "outlinewidth": 0,
              "ticks": ""
             }
            },
            "type": "parcoords"
           }
          ],
          "pie": [
           {
            "automargin": true,
            "type": "pie"
           }
          ],
          "scatter": [
           {
            "fillpattern": {
             "fillmode": "overlay",
             "size": 10,
             "solidity": 0.2
            },
            "type": "scatter"
           }
          ],
          "scatter3d": [
           {
            "line": {
             "colorbar": {
              "outlinewidth": 0,
              "ticks": ""
             }
            },
            "marker": {
             "colorbar": {
              "outlinewidth": 0,
              "ticks": ""
             }
            },
            "type": "scatter3d"
           }
          ],
          "scattercarpet": [
           {
            "marker": {
             "colorbar": {
              "outlinewidth": 0,
              "ticks": ""
             }
            },
            "type": "scattercarpet"
           }
          ],
          "scattergeo": [
           {
            "marker": {
             "colorbar": {
              "outlinewidth": 0,
              "ticks": ""
             }
            },
            "type": "scattergeo"
           }
          ],
          "scattergl": [
           {
            "marker": {
             "colorbar": {
              "outlinewidth": 0,
              "ticks": ""
             }
            },
            "type": "scattergl"
           }
          ],
          "scattermapbox": [
           {
            "marker": {
             "colorbar": {
              "outlinewidth": 0,
              "ticks": ""
             }
            },
            "type": "scattermapbox"
           }
          ],
          "scatterpolar": [
           {
            "marker": {
             "colorbar": {
              "outlinewidth": 0,
              "ticks": ""
             }
            },
            "type": "scatterpolar"
           }
          ],
          "scatterpolargl": [
           {
            "marker": {
             "colorbar": {
              "outlinewidth": 0,
              "ticks": ""
             }
            },
            "type": "scatterpolargl"
           }
          ],
          "scatterternary": [
           {
            "marker": {
             "colorbar": {
              "outlinewidth": 0,
              "ticks": ""
             }
            },
            "type": "scatterternary"
           }
          ],
          "surface": [
           {
            "colorbar": {
             "outlinewidth": 0,
             "ticks": ""
            },
            "colorscale": [
             [
              0,
              "#0d0887"
             ],
             [
              0.1111111111111111,
              "#46039f"
             ],
             [
              0.2222222222222222,
              "#7201a8"
             ],
             [
              0.3333333333333333,
              "#9c179e"
             ],
             [
              0.4444444444444444,
              "#bd3786"
             ],
             [
              0.5555555555555556,
              "#d8576b"
             ],
             [
              0.6666666666666666,
              "#ed7953"
             ],
             [
              0.7777777777777778,
              "#fb9f3a"
             ],
             [
              0.8888888888888888,
              "#fdca26"
             ],
             [
              1,
              "#f0f921"
             ]
            ],
            "type": "surface"
           }
          ],
          "table": [
           {
            "cells": {
             "fill": {
              "color": "#EBF0F8"
             },
             "line": {
              "color": "white"
             }
            },
            "header": {
             "fill": {
              "color": "#C8D4E3"
             },
             "line": {
              "color": "white"
             }
            },
            "type": "table"
           }
          ]
         },
         "layout": {
          "annotationdefaults": {
           "arrowcolor": "#2a3f5f",
           "arrowhead": 0,
           "arrowwidth": 1
          },
          "autotypenumbers": "strict",
          "coloraxis": {
           "colorbar": {
            "outlinewidth": 0,
            "ticks": ""
           }
          },
          "colorscale": {
           "diverging": [
            [
             0,
             "#8e0152"
            ],
            [
             0.1,
             "#c51b7d"
            ],
            [
             0.2,
             "#de77ae"
            ],
            [
             0.3,
             "#f1b6da"
            ],
            [
             0.4,
             "#fde0ef"
            ],
            [
             0.5,
             "#f7f7f7"
            ],
            [
             0.6,
             "#e6f5d0"
            ],
            [
             0.7,
             "#b8e186"
            ],
            [
             0.8,
             "#7fbc41"
            ],
            [
             0.9,
             "#4d9221"
            ],
            [
             1,
             "#276419"
            ]
           ],
           "sequential": [
            [
             0,
             "#0d0887"
            ],
            [
             0.1111111111111111,
             "#46039f"
            ],
            [
             0.2222222222222222,
             "#7201a8"
            ],
            [
             0.3333333333333333,
             "#9c179e"
            ],
            [
             0.4444444444444444,
             "#bd3786"
            ],
            [
             0.5555555555555556,
             "#d8576b"
            ],
            [
             0.6666666666666666,
             "#ed7953"
            ],
            [
             0.7777777777777778,
             "#fb9f3a"
            ],
            [
             0.8888888888888888,
             "#fdca26"
            ],
            [
             1,
             "#f0f921"
            ]
           ],
           "sequentialminus": [
            [
             0,
             "#0d0887"
            ],
            [
             0.1111111111111111,
             "#46039f"
            ],
            [
             0.2222222222222222,
             "#7201a8"
            ],
            [
             0.3333333333333333,
             "#9c179e"
            ],
            [
             0.4444444444444444,
             "#bd3786"
            ],
            [
             0.5555555555555556,
             "#d8576b"
            ],
            [
             0.6666666666666666,
             "#ed7953"
            ],
            [
             0.7777777777777778,
             "#fb9f3a"
            ],
            [
             0.8888888888888888,
             "#fdca26"
            ],
            [
             1,
             "#f0f921"
            ]
           ]
          },
          "colorway": [
           "#636efa",
           "#EF553B",
           "#00cc96",
           "#ab63fa",
           "#FFA15A",
           "#19d3f3",
           "#FF6692",
           "#B6E880",
           "#FF97FF",
           "#FECB52"
          ],
          "font": {
           "color": "#2a3f5f"
          },
          "geo": {
           "bgcolor": "white",
           "lakecolor": "white",
           "landcolor": "#E5ECF6",
           "showlakes": true,
           "showland": true,
           "subunitcolor": "white"
          },
          "hoverlabel": {
           "align": "left"
          },
          "hovermode": "closest",
          "mapbox": {
           "style": "light"
          },
          "paper_bgcolor": "white",
          "plot_bgcolor": "#E5ECF6",
          "polar": {
           "angularaxis": {
            "gridcolor": "white",
            "linecolor": "white",
            "ticks": ""
           },
           "bgcolor": "#E5ECF6",
           "radialaxis": {
            "gridcolor": "white",
            "linecolor": "white",
            "ticks": ""
           }
          },
          "scene": {
           "xaxis": {
            "backgroundcolor": "#E5ECF6",
            "gridcolor": "white",
            "gridwidth": 2,
            "linecolor": "white",
            "showbackground": true,
            "ticks": "",
            "zerolinecolor": "white"
           },
           "yaxis": {
            "backgroundcolor": "#E5ECF6",
            "gridcolor": "white",
            "gridwidth": 2,
            "linecolor": "white",
            "showbackground": true,
            "ticks": "",
            "zerolinecolor": "white"
           },
           "zaxis": {
            "backgroundcolor": "#E5ECF6",
            "gridcolor": "white",
            "gridwidth": 2,
            "linecolor": "white",
            "showbackground": true,
            "ticks": "",
            "zerolinecolor": "white"
           }
          },
          "shapedefaults": {
           "line": {
            "color": "#2a3f5f"
           }
          },
          "ternary": {
           "aaxis": {
            "gridcolor": "white",
            "linecolor": "white",
            "ticks": ""
           },
           "baxis": {
            "gridcolor": "white",
            "linecolor": "white",
            "ticks": ""
           },
           "bgcolor": "#E5ECF6",
           "caxis": {
            "gridcolor": "white",
            "linecolor": "white",
            "ticks": ""
           }
          },
          "title": {
           "x": 0.05
          },
          "xaxis": {
           "automargin": true,
           "gridcolor": "white",
           "linecolor": "white",
           "ticks": "",
           "title": {
            "standoff": 15
           },
           "zerolinecolor": "white",
           "zerolinewidth": 2
          },
          "yaxis": {
           "automargin": true,
           "gridcolor": "white",
           "linecolor": "white",
           "ticks": "",
           "title": {
            "standoff": 15
           },
           "zerolinecolor": "white",
           "zerolinewidth": 2
          }
         }
        },
        "title": {
         "text": "Theme Network Visualization (Clustered by Bot Status and Sentiments)"
        },
        "width": 1200,
        "xaxis": {
         "showgrid": false,
         "showticklabels": false,
         "zeroline": false
        },
        "yaxis": {
         "showgrid": false,
         "showticklabels": false,
         "zeroline": false
        }
       }
      }
     },
     "metadata": {},
     "output_type": "display_data"
    }
   ],
   "source": [
    "import json\n",
    "import networkx as nx\n",
    "import plotly.graph_objects as go\n",
    "import numpy as np\n",
    "\n",
    "\n",
    "def load_json_file(file_path):\n",
    "    \"\"\"Load JSON file safely.\"\"\"\n",
    "    try:\n",
    "        with open(file_path, 'r', encoding='utf-8') as file:\n",
    "            return json.load(file)\n",
    "    except Exception as e:\n",
    "        print(f\"Error loading JSON file {file_path}: {e}\")\n",
    "        return []\n",
    "\n",
    "\n",
    "def create_theme_network(data_bot, data_nonbot, min_confidence=70):\n",
    "    \"\"\"Create a network graph from themes with a minimum confidence level.\"\"\"\n",
    "    G = nx.Graph()\n",
    "\n",
    "    def process_data(data, is_bot=True):\n",
    "        for item in data:\n",
    "            response = item.get('response')\n",
    "            if isinstance(response, str):\n",
    "                try:\n",
    "                    response_data = json.loads(response)\n",
    "                    themes = response_data.get('overall_themes', [])\n",
    "                    for theme in themes:\n",
    "                        confidence = theme.get('confidence', 0)\n",
    "                        if confidence >= min_confidence:\n",
    "                            theme_name = theme['name']\n",
    "                            keywords = theme.get('keywords', [])\n",
    "                            sentiment_distribution = theme.get('sentiment_distribution', {})\n",
    "                            positive = sentiment_distribution.get('positive_percentage', 0)\n",
    "                            negative = sentiment_distribution.get('negative_percentage', 0)\n",
    "                            neutral = sentiment_distribution.get('neutral_percentage', 0)\n",
    "\n",
    "                            if not G.has_node(theme_name):\n",
    "                                G.add_node(theme_name,\n",
    "                                           type='theme',\n",
    "                                           is_bot=is_bot,\n",
    "                                           confidence=confidence,\n",
    "                                           keywords=keywords,\n",
    "                                           sentiment_distribution={\n",
    "                                               'positive': positive,\n",
    "                                               'negative': negative,\n",
    "                                               'neutral': neutral\n",
    "                                           })\n",
    "                            else:\n",
    "                                current_bot_status = G.nodes[theme_name].get('is_bot')\n",
    "                                if current_bot_status != is_bot:\n",
    "                                    G.nodes[theme_name]['is_bot'] = 'mixed'\n",
    "                except json.JSONDecodeError:\n",
    "                    print(f\"Invalid JSON in response: {response}\")\n",
    "\n",
    "    process_data(data_bot, is_bot=True)\n",
    "    process_data(data_nonbot, is_bot=False)\n",
    "    return G\n",
    "\n",
    "\n",
    "def visualize_network(G):\n",
    "    \"\"\"Visualize network clustered by bot and nonbot themes with sentiment distribution.\"\"\"\n",
    "    if len(G.nodes) == 0:\n",
    "        print(\"No nodes to visualize.\")\n",
    "        return\n",
    "\n",
    "    bot_nodes = [node for node, data in G.nodes(data=True) if data['is_bot'] == True]\n",
    "    nonbot_nodes = [node for node, data in G.nodes(data=True) if data['is_bot'] == False]\n",
    "    mixed_nodes = [node for node, data in G.nodes(data=True) if data['is_bot'] == 'mixed']\n",
    "\n",
    "    def get_node_size(confidence):\n",
    "        return 5 + confidence / 10\n",
    "\n",
    "    traces = []\n",
    "    categories = [\n",
    "        ('Bot Themes', bot_nodes, 'rgb(255,0,0)', -5),\n",
    "        ('Non-Bot Themes', nonbot_nodes, 'rgb(0,255,0)', 5),\n",
    "        ('Mixed Themes', mixed_nodes, 'rgb(128,0,128)', 0),\n",
    "    ]\n",
    "\n",
    "    for name, nodes, color, center in categories:\n",
    "        if nodes:\n",
    "            positions_x = np.random.normal(loc=center, scale=1, size=len(nodes))\n",
    "            positions_y = np.random.normal(loc=center, scale=1, size=len(nodes))\n",
    "            sizes = [get_node_size(G.nodes[node]['confidence']) for node in nodes]\n",
    "\n",
    "            hover_texts = [\n",
    "                f\"Theme: {node}<br>\"\n",
    "                f\"Type: {name}<br>\"\n",
    "                f\"Confidence: {G.nodes[node]['confidence']}%<br>\"\n",
    "                f\"Keywords: {', '.join(G.nodes[node].get('keywords', []))}<br>\"\n",
    "                f\"Sentiments:<br>\"\n",
    "                f\"Positive: {G.nodes[node]['sentiment_distribution']['positive']}%<br>\"\n",
    "                f\"Negative: {G.nodes[node]['sentiment_distribution']['negative']}%<br>\"\n",
    "                f\"Neutral: {G.nodes[node]['sentiment_distribution']['neutral']}%\"\n",
    "                for node in nodes\n",
    "            ]\n",
    "\n",
    "            traces.append(go.Scatter(\n",
    "                x=positions_x,\n",
    "                y=positions_y,\n",
    "                mode='markers',\n",
    "                marker=dict(\n",
    "                    size=sizes,\n",
    "                    color=color,\n",
    "                    line=dict(width=1, color='black')\n",
    "                ),\n",
    "                hovertext=hover_texts,\n",
    "                hoverinfo='text',\n",
    "                name=name\n",
    "            ))\n",
    "\n",
    "    fig = go.Figure(data=traces)\n",
    "    fig.update_layout(\n",
    "        title=\"Theme Network Visualization (Clustered by Bot Status and Sentiments)\",\n",
    "        showlegend=True,\n",
    "        xaxis=dict(showgrid=False, zeroline=False, showticklabels=False),\n",
    "        yaxis=dict(showgrid=False, zeroline=False, showticklabels=False),\n",
    "        width=1200,\n",
    "        height=800,\n",
    "        plot_bgcolor='white',\n",
    "        paper_bgcolor='white'\n",
    "    )\n",
    "\n",
    "    fig.show()\n",
    "\n",
    "\n",
    "# Load JSON files\n",
    "data_label_0 = load_json_file('label_0.json')  # Bot data\n",
    "data_label_1 = load_json_file('label_1.json')  # Non-bot data\n",
    "\n",
    "# Create network\n",
    "network = create_theme_network(data_label_0, data_label_1, min_confidence=70)\n",
    "\n",
    "# Visualize network\n",
    "visualize_network(network)\n"
   ]
  },
  {
   "cell_type": "code",
   "execution_count": 20,
   "metadata": {},
   "outputs": [
    {
     "name": "stdout",
     "output_type": "stream",
     "text": [
      "Total Themes (90%+ Confidence): 11\n",
      "Bot Themes: 8\n",
      "Non-Bot Themes: 2\n",
      "Mixed Themes: 1\n"
     ]
    },
    {
     "data": {
      "application/vnd.plotly.v1+json": {
       "config": {
        "plotlyServerURL": "https://plot.ly"
       },
       "data": [
        {
         "hoverinfo": "text",
         "hovertext": [
          "Theme: Tesla Products and Technology<br>Type: Bot Themes<br>Confidence: 90%<br>Keywords: tesla, phone, apple, data, starlink, car, concept<br>Sentiments:<br>Positive: 100%<br>Negative: 0%<br>Neutral: 0%",
          "Theme: Tesla and Elon Musk<br>Type: Bot Themes<br>Confidence: 95%<br>Keywords: Tesla, Elon Musk, Neuralink, Mars, Space Exploration, Electric Cars, Autonomous Driving<br>Sentiments:<br>Positive: 80%<br>Negative: 10%<br>Neutral: 10%",
          "Theme: Tesla<br>Type: Bot Themes<br>Confidence: 99%<br>Keywords: Tesla, Model Y, Juniper, TSLA, Stock, Investment, Autonomous, Taxis, Robots<br>Sentiments:<br>Positive: 91%<br>Negative: 0%<br>Neutral: 9%",
          "Theme: Tesla Model Y Updates and Features<br>Type: Bot Themes<br>Confidence: 100%<br>Keywords: Tesla Model Y, Juniper, Cybertruck, Battery pack, Energy storage, Efficiency, Price, Incentives, EV credits, Maintenance, Reliability<br>Sentiments:<br>Positive: 80%<br>Negative: 10%<br>Neutral: 10%",
          "Theme: Tesla Model Y's Success<br>Type: Bot Themes<br>Confidence: 95%<br>Keywords: Tesla, Model Y, best-selling, car, globally<br>Sentiments:<br>Positive: 85%<br>Negative: 5%<br>Neutral: 10%",
          "Theme: Tesla Model Y Safety and Ratings<br>Type: Bot Themes<br>Confidence: 90%<br>Keywords: Tesla Model Y Safety, Tesla Model Y Ratings, Safety Rating, Elon Musk<br>Sentiments:<br>Positive: 90%<br>Negative: 5%<br>Neutral: 5%",
          "Theme: Tesla Model 3 Updates and Features<br>Type: Bot Themes<br>Confidence: 100%<br>Keywords: Tesla, Model 3, refreshed, new, range, performance, features, buyouts, availability<br>Sentiments:<br>Positive: 80%<br>Negative: 0%<br>Neutral: 20%",
          "Theme: Cybertruck Controversy<br>Type: Bot Themes<br>Confidence: 90%<br>Keywords: Cybertruck, Tesla, climate<br>Sentiments:<br>Positive: 20%<br>Negative: 60%<br>Neutral: 20%"
         ],
         "marker": {
          "color": "rgb(255,0,0)",
          "line": {
           "color": "black",
           "width": 1
          },
          "size": [
           14,
           14.5,
           14.9,
           15,
           14.5,
           14,
           15,
           14
          ]
         },
         "mode": "markers",
         "name": "Bot Themes",
         "type": "scatter",
         "x": [
          -5.389530087832163,
          -4.430178417410866,
          -5.25004942734128,
          -3.2708555931067247,
          -6.299943725510228,
          -4.471816325000399,
          -6.254305531489383,
          -5.371279365554063
         ],
         "y": [
          -3.747132925167077,
          -3.8973171673143314,
          -4.2965510619613045,
          -6.115147140363469,
          -5.028268739894155,
          -5.581765513232211,
          -5.990170650551005,
          -5.3476682497479375
         ]
        },
        {
         "hoverinfo": "text",
         "hovertext": [
          "Theme: Tesla and Elon Musk Appreciation<br>Type: Non-Bot Themes<br>Confidence: 95%<br>Keywords: Tesla, Elon Musk, Cybertruck, FSAD, Starlink<br>Sentiments:<br>Positive: 80%<br>Negative: 10%<br>Neutral: 10%",
          "Theme: Tesla Model Cars<br>Type: Non-Bot Themes<br>Confidence: 99%<br>Keywords: Tesla, Model, Cars, Electric, Sustainable<br>Sentiments:<br>Positive: 80%<br>Negative: 15%<br>Neutral: 5%"
         ],
         "marker": {
          "color": "rgb(0,255,0)",
          "line": {
           "color": "black",
           "width": 1
          },
          "size": [
           14.5,
           14.9
          ]
         },
         "mode": "markers",
         "name": "Non-Bot Themes",
         "type": "scatter",
         "x": [
          5.1369125549386405,
          6.595566993950811
         ],
         "y": [
          4.55670272897203,
          3.752521090913969
         ]
        },
        {
         "hoverinfo": "text",
         "hovertext": [
          "Theme: Tesla and Electric Vehicles<br>Type: Mixed Themes<br>Confidence: 90%<br>Keywords: Tesla, Electric vehicles, Cybertruck, Cybercab, Boston dynamics, Robotics, Drive unit<br>Sentiments:<br>Positive: 85%<br>Negative: 0%<br>Neutral: 15%"
         ],
         "marker": {
          "color": "rgb(128,0,128)",
          "line": {
           "color": "black",
           "width": 1
          },
          "size": [
           14
          ]
         },
         "mode": "markers",
         "name": "Mixed Themes",
         "type": "scatter",
         "x": [
          3.5607586529689903
         ],
         "y": [
          -0.8561470631483156
         ]
        }
       ],
       "layout": {
        "height": 800,
        "paper_bgcolor": "white",
        "plot_bgcolor": "white",
        "showlegend": true,
        "template": {
         "data": {
          "bar": [
           {
            "error_x": {
             "color": "#2a3f5f"
            },
            "error_y": {
             "color": "#2a3f5f"
            },
            "marker": {
             "line": {
              "color": "#E5ECF6",
              "width": 0.5
             },
             "pattern": {
              "fillmode": "overlay",
              "size": 10,
              "solidity": 0.2
             }
            },
            "type": "bar"
           }
          ],
          "barpolar": [
           {
            "marker": {
             "line": {
              "color": "#E5ECF6",
              "width": 0.5
             },
             "pattern": {
              "fillmode": "overlay",
              "size": 10,
              "solidity": 0.2
             }
            },
            "type": "barpolar"
           }
          ],
          "carpet": [
           {
            "aaxis": {
             "endlinecolor": "#2a3f5f",
             "gridcolor": "white",
             "linecolor": "white",
             "minorgridcolor": "white",
             "startlinecolor": "#2a3f5f"
            },
            "baxis": {
             "endlinecolor": "#2a3f5f",
             "gridcolor": "white",
             "linecolor": "white",
             "minorgridcolor": "white",
             "startlinecolor": "#2a3f5f"
            },
            "type": "carpet"
           }
          ],
          "choropleth": [
           {
            "colorbar": {
             "outlinewidth": 0,
             "ticks": ""
            },
            "type": "choropleth"
           }
          ],
          "contour": [
           {
            "colorbar": {
             "outlinewidth": 0,
             "ticks": ""
            },
            "colorscale": [
             [
              0,
              "#0d0887"
             ],
             [
              0.1111111111111111,
              "#46039f"
             ],
             [
              0.2222222222222222,
              "#7201a8"
             ],
             [
              0.3333333333333333,
              "#9c179e"
             ],
             [
              0.4444444444444444,
              "#bd3786"
             ],
             [
              0.5555555555555556,
              "#d8576b"
             ],
             [
              0.6666666666666666,
              "#ed7953"
             ],
             [
              0.7777777777777778,
              "#fb9f3a"
             ],
             [
              0.8888888888888888,
              "#fdca26"
             ],
             [
              1,
              "#f0f921"
             ]
            ],
            "type": "contour"
           }
          ],
          "contourcarpet": [
           {
            "colorbar": {
             "outlinewidth": 0,
             "ticks": ""
            },
            "type": "contourcarpet"
           }
          ],
          "heatmap": [
           {
            "colorbar": {
             "outlinewidth": 0,
             "ticks": ""
            },
            "colorscale": [
             [
              0,
              "#0d0887"
             ],
             [
              0.1111111111111111,
              "#46039f"
             ],
             [
              0.2222222222222222,
              "#7201a8"
             ],
             [
              0.3333333333333333,
              "#9c179e"
             ],
             [
              0.4444444444444444,
              "#bd3786"
             ],
             [
              0.5555555555555556,
              "#d8576b"
             ],
             [
              0.6666666666666666,
              "#ed7953"
             ],
             [
              0.7777777777777778,
              "#fb9f3a"
             ],
             [
              0.8888888888888888,
              "#fdca26"
             ],
             [
              1,
              "#f0f921"
             ]
            ],
            "type": "heatmap"
           }
          ],
          "heatmapgl": [
           {
            "colorbar": {
             "outlinewidth": 0,
             "ticks": ""
            },
            "colorscale": [
             [
              0,
              "#0d0887"
             ],
             [
              0.1111111111111111,
              "#46039f"
             ],
             [
              0.2222222222222222,
              "#7201a8"
             ],
             [
              0.3333333333333333,
              "#9c179e"
             ],
             [
              0.4444444444444444,
              "#bd3786"
             ],
             [
              0.5555555555555556,
              "#d8576b"
             ],
             [
              0.6666666666666666,
              "#ed7953"
             ],
             [
              0.7777777777777778,
              "#fb9f3a"
             ],
             [
              0.8888888888888888,
              "#fdca26"
             ],
             [
              1,
              "#f0f921"
             ]
            ],
            "type": "heatmapgl"
           }
          ],
          "histogram": [
           {
            "marker": {
             "pattern": {
              "fillmode": "overlay",
              "size": 10,
              "solidity": 0.2
             }
            },
            "type": "histogram"
           }
          ],
          "histogram2d": [
           {
            "colorbar": {
             "outlinewidth": 0,
             "ticks": ""
            },
            "colorscale": [
             [
              0,
              "#0d0887"
             ],
             [
              0.1111111111111111,
              "#46039f"
             ],
             [
              0.2222222222222222,
              "#7201a8"
             ],
             [
              0.3333333333333333,
              "#9c179e"
             ],
             [
              0.4444444444444444,
              "#bd3786"
             ],
             [
              0.5555555555555556,
              "#d8576b"
             ],
             [
              0.6666666666666666,
              "#ed7953"
             ],
             [
              0.7777777777777778,
              "#fb9f3a"
             ],
             [
              0.8888888888888888,
              "#fdca26"
             ],
             [
              1,
              "#f0f921"
             ]
            ],
            "type": "histogram2d"
           }
          ],
          "histogram2dcontour": [
           {
            "colorbar": {
             "outlinewidth": 0,
             "ticks": ""
            },
            "colorscale": [
             [
              0,
              "#0d0887"
             ],
             [
              0.1111111111111111,
              "#46039f"
             ],
             [
              0.2222222222222222,
              "#7201a8"
             ],
             [
              0.3333333333333333,
              "#9c179e"
             ],
             [
              0.4444444444444444,
              "#bd3786"
             ],
             [
              0.5555555555555556,
              "#d8576b"
             ],
             [
              0.6666666666666666,
              "#ed7953"
             ],
             [
              0.7777777777777778,
              "#fb9f3a"
             ],
             [
              0.8888888888888888,
              "#fdca26"
             ],
             [
              1,
              "#f0f921"
             ]
            ],
            "type": "histogram2dcontour"
           }
          ],
          "mesh3d": [
           {
            "colorbar": {
             "outlinewidth": 0,
             "ticks": ""
            },
            "type": "mesh3d"
           }
          ],
          "parcoords": [
           {
            "line": {
             "colorbar": {
              "outlinewidth": 0,
              "ticks": ""
             }
            },
            "type": "parcoords"
           }
          ],
          "pie": [
           {
            "automargin": true,
            "type": "pie"
           }
          ],
          "scatter": [
           {
            "fillpattern": {
             "fillmode": "overlay",
             "size": 10,
             "solidity": 0.2
            },
            "type": "scatter"
           }
          ],
          "scatter3d": [
           {
            "line": {
             "colorbar": {
              "outlinewidth": 0,
              "ticks": ""
             }
            },
            "marker": {
             "colorbar": {
              "outlinewidth": 0,
              "ticks": ""
             }
            },
            "type": "scatter3d"
           }
          ],
          "scattercarpet": [
           {
            "marker": {
             "colorbar": {
              "outlinewidth": 0,
              "ticks": ""
             }
            },
            "type": "scattercarpet"
           }
          ],
          "scattergeo": [
           {
            "marker": {
             "colorbar": {
              "outlinewidth": 0,
              "ticks": ""
             }
            },
            "type": "scattergeo"
           }
          ],
          "scattergl": [
           {
            "marker": {
             "colorbar": {
              "outlinewidth": 0,
              "ticks": ""
             }
            },
            "type": "scattergl"
           }
          ],
          "scattermapbox": [
           {
            "marker": {
             "colorbar": {
              "outlinewidth": 0,
              "ticks": ""
             }
            },
            "type": "scattermapbox"
           }
          ],
          "scatterpolar": [
           {
            "marker": {
             "colorbar": {
              "outlinewidth": 0,
              "ticks": ""
             }
            },
            "type": "scatterpolar"
           }
          ],
          "scatterpolargl": [
           {
            "marker": {
             "colorbar": {
              "outlinewidth": 0,
              "ticks": ""
             }
            },
            "type": "scatterpolargl"
           }
          ],
          "scatterternary": [
           {
            "marker": {
             "colorbar": {
              "outlinewidth": 0,
              "ticks": ""
             }
            },
            "type": "scatterternary"
           }
          ],
          "surface": [
           {
            "colorbar": {
             "outlinewidth": 0,
             "ticks": ""
            },
            "colorscale": [
             [
              0,
              "#0d0887"
             ],
             [
              0.1111111111111111,
              "#46039f"
             ],
             [
              0.2222222222222222,
              "#7201a8"
             ],
             [
              0.3333333333333333,
              "#9c179e"
             ],
             [
              0.4444444444444444,
              "#bd3786"
             ],
             [
              0.5555555555555556,
              "#d8576b"
             ],
             [
              0.6666666666666666,
              "#ed7953"
             ],
             [
              0.7777777777777778,
              "#fb9f3a"
             ],
             [
              0.8888888888888888,
              "#fdca26"
             ],
             [
              1,
              "#f0f921"
             ]
            ],
            "type": "surface"
           }
          ],
          "table": [
           {
            "cells": {
             "fill": {
              "color": "#EBF0F8"
             },
             "line": {
              "color": "white"
             }
            },
            "header": {
             "fill": {
              "color": "#C8D4E3"
             },
             "line": {
              "color": "white"
             }
            },
            "type": "table"
           }
          ]
         },
         "layout": {
          "annotationdefaults": {
           "arrowcolor": "#2a3f5f",
           "arrowhead": 0,
           "arrowwidth": 1
          },
          "autotypenumbers": "strict",
          "coloraxis": {
           "colorbar": {
            "outlinewidth": 0,
            "ticks": ""
           }
          },
          "colorscale": {
           "diverging": [
            [
             0,
             "#8e0152"
            ],
            [
             0.1,
             "#c51b7d"
            ],
            [
             0.2,
             "#de77ae"
            ],
            [
             0.3,
             "#f1b6da"
            ],
            [
             0.4,
             "#fde0ef"
            ],
            [
             0.5,
             "#f7f7f7"
            ],
            [
             0.6,
             "#e6f5d0"
            ],
            [
             0.7,
             "#b8e186"
            ],
            [
             0.8,
             "#7fbc41"
            ],
            [
             0.9,
             "#4d9221"
            ],
            [
             1,
             "#276419"
            ]
           ],
           "sequential": [
            [
             0,
             "#0d0887"
            ],
            [
             0.1111111111111111,
             "#46039f"
            ],
            [
             0.2222222222222222,
             "#7201a8"
            ],
            [
             0.3333333333333333,
             "#9c179e"
            ],
            [
             0.4444444444444444,
             "#bd3786"
            ],
            [
             0.5555555555555556,
             "#d8576b"
            ],
            [
             0.6666666666666666,
             "#ed7953"
            ],
            [
             0.7777777777777778,
             "#fb9f3a"
            ],
            [
             0.8888888888888888,
             "#fdca26"
            ],
            [
             1,
             "#f0f921"
            ]
           ],
           "sequentialminus": [
            [
             0,
             "#0d0887"
            ],
            [
             0.1111111111111111,
             "#46039f"
            ],
            [
             0.2222222222222222,
             "#7201a8"
            ],
            [
             0.3333333333333333,
             "#9c179e"
            ],
            [
             0.4444444444444444,
             "#bd3786"
            ],
            [
             0.5555555555555556,
             "#d8576b"
            ],
            [
             0.6666666666666666,
             "#ed7953"
            ],
            [
             0.7777777777777778,
             "#fb9f3a"
            ],
            [
             0.8888888888888888,
             "#fdca26"
            ],
            [
             1,
             "#f0f921"
            ]
           ]
          },
          "colorway": [
           "#636efa",
           "#EF553B",
           "#00cc96",
           "#ab63fa",
           "#FFA15A",
           "#19d3f3",
           "#FF6692",
           "#B6E880",
           "#FF97FF",
           "#FECB52"
          ],
          "font": {
           "color": "#2a3f5f"
          },
          "geo": {
           "bgcolor": "white",
           "lakecolor": "white",
           "landcolor": "#E5ECF6",
           "showlakes": true,
           "showland": true,
           "subunitcolor": "white"
          },
          "hoverlabel": {
           "align": "left"
          },
          "hovermode": "closest",
          "mapbox": {
           "style": "light"
          },
          "paper_bgcolor": "white",
          "plot_bgcolor": "#E5ECF6",
          "polar": {
           "angularaxis": {
            "gridcolor": "white",
            "linecolor": "white",
            "ticks": ""
           },
           "bgcolor": "#E5ECF6",
           "radialaxis": {
            "gridcolor": "white",
            "linecolor": "white",
            "ticks": ""
           }
          },
          "scene": {
           "xaxis": {
            "backgroundcolor": "#E5ECF6",
            "gridcolor": "white",
            "gridwidth": 2,
            "linecolor": "white",
            "showbackground": true,
            "ticks": "",
            "zerolinecolor": "white"
           },
           "yaxis": {
            "backgroundcolor": "#E5ECF6",
            "gridcolor": "white",
            "gridwidth": 2,
            "linecolor": "white",
            "showbackground": true,
            "ticks": "",
            "zerolinecolor": "white"
           },
           "zaxis": {
            "backgroundcolor": "#E5ECF6",
            "gridcolor": "white",
            "gridwidth": 2,
            "linecolor": "white",
            "showbackground": true,
            "ticks": "",
            "zerolinecolor": "white"
           }
          },
          "shapedefaults": {
           "line": {
            "color": "#2a3f5f"
           }
          },
          "ternary": {
           "aaxis": {
            "gridcolor": "white",
            "linecolor": "white",
            "ticks": ""
           },
           "baxis": {
            "gridcolor": "white",
            "linecolor": "white",
            "ticks": ""
           },
           "bgcolor": "#E5ECF6",
           "caxis": {
            "gridcolor": "white",
            "linecolor": "white",
            "ticks": ""
           }
          },
          "title": {
           "x": 0.05
          },
          "xaxis": {
           "automargin": true,
           "gridcolor": "white",
           "linecolor": "white",
           "ticks": "",
           "title": {
            "standoff": 15
           },
           "zerolinecolor": "white",
           "zerolinewidth": 2
          },
          "yaxis": {
           "automargin": true,
           "gridcolor": "white",
           "linecolor": "white",
           "ticks": "",
           "title": {
            "standoff": 15
           },
           "zerolinecolor": "white",
           "zerolinewidth": 2
          }
         }
        },
        "title": {
         "text": "Theme Network Visualization (90%+ Confidence, Clustered by Bot Status and Sentiments)"
        },
        "width": 1200,
        "xaxis": {
         "showgrid": false,
         "showticklabels": false,
         "zeroline": false
        },
        "yaxis": {
         "showgrid": false,
         "showticklabels": false,
         "zeroline": false
        }
       }
      }
     },
     "metadata": {},
     "output_type": "display_data"
    }
   ],
   "source": [
    "import json\n",
    "import networkx as nx\n",
    "import plotly.graph_objects as go\n",
    "import numpy as np\n",
    "\n",
    "\n",
    "def load_json_file(file_path):\n",
    "    \"\"\"Load JSON file safely.\"\"\"\n",
    "    try:\n",
    "        with open(file_path, 'r', encoding='utf-8') as file:\n",
    "            return json.load(file)\n",
    "    except Exception as e:\n",
    "        print(f\"Error loading JSON file {file_path}: {e}\")\n",
    "        return []\n",
    "\n",
    "\n",
    "def create_theme_network(data_bot, data_nonbot, min_confidence=90):  # Changed default to 90\n",
    "    \"\"\"Create a network graph from themes with a minimum confidence level.\"\"\"\n",
    "    G = nx.Graph()\n",
    "\n",
    "\n",
    "    def process_data(data, is_bot=True):\n",
    "        for item in data:\n",
    "            response = item.get('response')\n",
    "            if isinstance(response, str):\n",
    "                try:\n",
    "                    response_data = json.loads(response)\n",
    "                    themes = response_data.get('overall_themes', [])\n",
    "                    for theme in themes:\n",
    "                        confidence = theme.get('confidence', 0)\n",
    "                        if confidence >= min_confidence:  # Only process themes with 90%+ confidence\n",
    "                            theme_name = theme['name']\n",
    "                            keywords = theme.get('keywords', [])\n",
    "                            sentiment_distribution = theme.get('sentiment_distribution', {})\n",
    "                            positive = sentiment_distribution.get('positive_percentage', 0)\n",
    "                            negative = sentiment_distribution.get('negative_percentage', 0)\n",
    "                            neutral = sentiment_distribution.get('neutral_percentage', 0)\n",
    "                            \n",
    "                            if not G.has_node(theme_name):\n",
    "                                G.add_node(theme_name,\n",
    "                                           type='theme',\n",
    "                                           is_bot=is_bot,\n",
    "                                           confidence=confidence,\n",
    "                                           keywords=keywords,\n",
    "                                           sentiment_distribution={\n",
    "                                               'positive': positive,\n",
    "                                               'negative': negative,\n",
    "                                               'neutral': neutral\n",
    "                                           })\n",
    "                            else:\n",
    "                                current_bot_status = G.nodes[theme_name].get('is_bot')\n",
    "                                if current_bot_status != is_bot:\n",
    "                                    G.nodes[theme_name]['is_bot'] = 'mixed'\n",
    "                except json.JSONDecodeError:\n",
    "                    print(f\"Invalid JSON in response: {response}\")\n",
    "\n",
    "\n",
    "    process_data(data_bot, is_bot=True)\n",
    "    process_data(data_nonbot, is_bot=False)\n",
    "    return G\n",
    "\n",
    "\n",
    "def visualize_network(G):\n",
    "    \"\"\"Visualize network clustered by bot and nonbot themes with sentiment distribution.\"\"\"\n",
    "    if len(G.nodes) == 0:\n",
    "        print(\"No nodes to visualize.\")\n",
    "        return\n",
    "\n",
    "\n",
    "    bot_nodes = [node for node, data in G.nodes(data=True) if data['is_bot'] == True]\n",
    "    nonbot_nodes = [node for node, data in G.nodes(data=True) if data['is_bot'] == False]\n",
    "    mixed_nodes = [node for node, data in G.nodes(data=True) if data['is_bot'] == 'mixed']\n",
    "\n",
    "\n",
    "    def get_node_size(confidence):\n",
    "        return 5 + confidence / 10\n",
    "\n",
    "\n",
    "    traces = []\n",
    "    categories = [\n",
    "        ('Bot Themes', bot_nodes, 'rgb(255,0,0)', -5),\n",
    "        ('Non-Bot Themes', nonbot_nodes, 'rgb(0,255,0)', 5),\n",
    "        ('Mixed Themes', mixed_nodes, 'rgb(128,0,128)', 0),\n",
    "    ]\n",
    "\n",
    "\n",
    "    for name, nodes, color, center in categories:\n",
    "        if nodes:\n",
    "            positions_x = np.random.normal(loc=center, scale=1, size=len(nodes))\n",
    "            positions_y = np.random.normal(loc=center, scale=1, size=len(nodes))\n",
    "            sizes = [get_node_size(G.nodes[node]['confidence']) for node in nodes]\n",
    "\n",
    "\n",
    "            hover_texts = [\n",
    "                f\"Theme: {node}<br>\"\n",
    "                f\"Type: {name}<br>\"\n",
    "                f\"Confidence: {G.nodes[node]['confidence']}%<br>\"\n",
    "                f\"Keywords: {', '.join(G.nodes[node].get('keywords', []))}<br>\"\n",
    "                f\"Sentiments:<br>\"\n",
    "                f\"Positive: {G.nodes[node]['sentiment_distribution']['positive']}%<br>\"\n",
    "                f\"Negative: {G.nodes[node]['sentiment_distribution']['negative']}%<br>\"\n",
    "                f\"Neutral: {G.nodes[node]['sentiment_distribution']['neutral']}%\"\n",
    "                for node in nodes\n",
    "            ]\n",
    "\n",
    "\n",
    "            traces.append(go.Scatter(\n",
    "                x=positions_x,\n",
    "                y=positions_y,\n",
    "                mode='markers',\n",
    "                marker=dict(\n",
    "                    size=sizes,\n",
    "                    color=color,\n",
    "                    line=dict(width=1, color='black')\n",
    "                ),\n",
    "                hovertext=hover_texts,\n",
    "                hoverinfo='text',\n",
    "                name=name\n",
    "            ))\n",
    "\n",
    "\n",
    "    fig = go.Figure(data=traces)\n",
    "    fig.update_layout(\n",
    "        title=\"Theme Network Visualization (90%+ Confidence, Clustered by Bot Status and Sentiments)\",\n",
    "        showlegend=True,\n",
    "        xaxis=dict(showgrid=False, zeroline=False, showticklabels=False),\n",
    "        yaxis=dict(showgrid=False, zeroline=False, showticklabels=False),\n",
    "        width=1200,\n",
    "        height=800,\n",
    "        plot_bgcolor='white',\n",
    "        paper_bgcolor='white'\n",
    "    )\n",
    "\n",
    "\n",
    "    # Print some statistics\n",
    "    print(f\"Total Themes (90%+ Confidence): {len(G.nodes())}\")\n",
    "    print(f\"Bot Themes: {len(bot_nodes)}\")\n",
    "    print(f\"Non-Bot Themes: {len(nonbot_nodes)}\")\n",
    "    print(f\"Mixed Themes: {len(mixed_nodes)}\")\n",
    "\n",
    "\n",
    "    fig.show()\n",
    "\n",
    "\n",
    "# Load JSON files\n",
    "data_label_0 = load_json_file('label_0_1.json')  # Bot data\n",
    "data_label_1 = load_json_file('label_1_1.json')  # Non-bot data\n",
    "\n",
    "\n",
    "# Create network with 90% minimum confidence\n",
    "network = create_theme_network(data_label_0, data_label_1, min_confidence=90)\n",
    "\n",
    "\n",
    "# Visualize network\n",
    "visualize_network(network)"
   ]
  },
  {
   "cell_type": "code",
   "execution_count": 30,
   "metadata": {},
   "outputs": [
    {
     "name": "stdout",
     "output_type": "stream",
     "text": [
      "Invalid JSON in response: {\"overall_themes\": [{\"name\": \"Tesla Cybertruck\", \"confidence\": 100, \"sentiment_distribution\": {\"positive_percentage\": 70, \"negative_percentage\": 20, \"neutral_percentage\": 10}}, {\"name\": \"Buying Decisions and Value\", \"confidence\": 90, \"sentiment_distribution\": {\"positive_percentage\": 40, \"negative_percentage\": 30, \"neutral_percentage\": 30}}, {\"name\": \"Design and Features\", \"confidence\": 80, \"sentiment_distribution\": {\"positive_percentage\": 60, \"negative_percentage\": 20, \"neutral_percentage\": 20}}, {\"name\": \"Adventure and Travel\", \"confidence\": 70, \"sentiment_distribution\": {\"positive_percentage\": 80, \"negative_percentage\": 10, \"neutral_percentage\": 10}}, {\"name\": \"Qatar and Global Availability\", \"confidence\": 60, \"sentiment_distribution\": {\"positive_percentage\": 50, \"negative_percentage\": 20, \"neutral_percentage\": 30}}, {\"name\": \"Comparisons and Alternatives\", \"confidence\": 80, \"sentiment_distribution\": {\"positive_percentage\": 50, \"negative_percentage\": 30, \"neutral_percentage\": 20}}, {\"name\": \"Cybertruck Performance and Capability\", \"confidence\": 90, \"sentiment_distribution\": {\"positive_percentage\": 80, \"negative_percentage\": 10, \"neutral_percentage\": 10}}, {\"name\": \"Cybertruck Design and Aesthetics\", \"confidence\": 80, \"sentiment_distribution\": {\"positive_percentage\": 60, \"negative_percentage\": 20, \"neutral_percentage\": 20}}], \"metadata\": {\"total_tweets_analyzed\": 8, \"dominant_sentiment\": \"positive\", \"language_distribution\": {\"en\": 100, \"__na__\": 0, \"und\": 0, \"spa\": 0, \"fra\": 0, \"deu\": 0, \"por\": 0, \"rus\": 0, \"ara\": 0, \"chs\": 0, \"kor\": 0, \"jpn\": 0, \"cht\": 0, \"tur\": 0, \"th\": 0, \"chi\": 0, \"he\": 0, \"ita\": 0, \"dan\": 0, \"fin\": 0, \"nld\": 0, \"pol\": 0, \"ptg\": 0, \"swe\": 0, \"cze\": 0, \"hun\": 0, \"slk\": 0, \"gre\": 0, \"lav\": 0, \"lit\": 0, \"mlt\": 0, \"vie\": 0, \"ukr\": 0, \"bel\": 0, \"est\": 0, \"ltz\": 0, \"lat\": 0, \"fas\": 0, \"tib\": 0, \"tai\": 0, \"msa\": 0, \"sin\": 0, \"eus\": 0, \"cat\": 0, \"nep\": 0, \"ori\": 0, \"tam\": 0, \"tel\": 0, \"san\": 0, \"nno\": 0, \"glg\": 0, \"ind\": 0, \"urd\": 0, \"tam\": 0, \"srd\": 0, \"mlt\": 0, \"sqi\": 0, \"mkd\": 0, \"tgl\": 0, \"tgk\": 0, \"sin\": 0, \"tgk\": 0, \"sin\": 0, \"tgk\": 0, \"tet\": 0, \"tgk\": 0, \"tgk\": 0, \"tgk\": 0, \"tgk\": 0, \"tgk\": 0, \"tgk\": 0, \"tgk\": 0, \"tgk\": 0, \"tgk\": 0, \"tgk\": 0, \"tgk\": 0, \"tgk\": 0, \"tgk\": 0, \"tgk\": 0, \"tgk\": 0, \"tgk\": 0, \"tgk\": 0, \"tgk\": 0, \"tgk\": 0, \"tgk\": 0, \"tgk\": 0, \"tgk\": 0, \"tgk\": 0, \"tgk\": 0, \"tgk\": 0, \"tgk\": 0, \"tgk\": 0, \"tgk\": 0, \"tgk\": 0, \"tgk\": 0, \"tgk\": 0, \"tgk\": 0, \"tgk\": 0, \"tgk\": 0, \"tgk\": 0, \"tgk\": 0, \"tgk\": 0, \"tgk\": 0, \"tgk\": 0, \"tgk\": 0, \"tgk\": 0, \"tgk\": 0, \"tgk\": 0, \"tgk\": 0, \"tgk\": 0, \"tgk\": 0, \"tgk\": 0, \"tgk\": 0, \"tgk\": 0, \"tgk\": 0, \"tgk\": 0, \"tgk\": 0, \"tgk\": 0, \"tgk\": 0, \"tgk\": 0, \"tgk\": 0, \"tgk\": 0, \"tgk\": 0, \"tgk\": 0, \"tgk\": 0, \"tgk\": 0, \"tgk\": 0, \"tgk\": 0, \"tgk\": 0, \"tgk\": 0, \"tgk\": 0, \"tgk\": 0, \"tgk\": 0, \"tgk\": 0, \"tgk\": 0, \"tgk\": 0, \"tgk\": 0, \"tgk\": 0, \"tgk\": 0, \"tgk\": 0, \"tgk\": 0, \"tgk\": 0, \"tgk\": 0, \"tgk\": 0, \"tgk\": 0, \"tgk\": 0, \"tgk\": 0, \"tgk\": 0, \"tgk\": 0, \"tgk\": 0, \"tgk\": 0, \"tgk\": 0, \"tgk\": 0, \"tgk\": 0, \"tgk\": 0, \"tgk\": 0, \"tgk\": 0, \"tgk\": 0, \"tgk\": 0, \"tgk\": 0, \"tgk\": 0, \"tgk\": 0, \"tgk\": 0, \"tgk\": 0, \"tgk\": 0, \"tgk\": 0, \"tgk\": 0, \"tgk\": 0, \"tgk\": 0, \"tgk\": 0, \"tgk\": 0, \"tgk\": 0, \"tgk\": 0, \"tgk\": 0, \"tgk\": 0, \"tgk\": 0, \"tgk\": 0, \"tgk\": 0, \"tgk\": 0, \"tgk\": 0, \"tgk\": 0, \"tgk\": 0, \"tgk\": 0, \"tgk\": 0, \"tgk\": 0, \"tgk\": 0, \"tgk\": 0, \"tgk\": 0, \"tgk\": 0, \"tgk\": 0, \"tgk\": 0, \"tgk\": 0, \"tgk\": 0, \"tgk\": 0, \"tgk\": 0, \"tgk\": 0, \"tgk\": 0, \"tgk\": 0, \"tgk\": 0, \"tgk\": 0, \"tgk\": 0, \"tgk\": 0, \"tgk\": 0, \"tgk\": 0, \"tgk\": 0, \"tgk\": 0, \"tgk\": 0, \"tgk\": 0, \"tgk\": 0, \"tgk\": 0, \"tgk\": 0, \"tgk\": 0, \"tgk\": 0, \"tgk\": 0, \"tgk\": 0, \"tgk\": 0, \"tgk\": 0, \"tgk\": 0, \"tgk\": 0, \"tgk\": 0, \"tgk\": 0, \"tgk\": 0, \"tgk\": 0, \"tgk\": 0, \"tgk\": 0, \"tgk\": 0, \"tgk\": 0, \"tgk\": 0, \"tgk\": 0, \"tgk\": 0, \"tgk\": 0, \"tgk\": 0, \"tgk\": 0, \"tgk\": 0, \"tgk\": 0, \"tgk\": 0, \"tgk\": 0, \"tgk\": 0, \"tgk\": 0, \"tgk\": 0, \"tgk\": 0, \"tgk\": 0, \"tgk\": 0, \"tgk\": 0, \"tgk\": 0, \"tgk\": 0, \"tgk\": 0, \"tgk\": 0, \"tgk\": 0, \"tgk\": 0, \"tgk\": 0, \"tgk\": 0, \"tgk\": 0, \"tgk\": 0, \"tgk\": 0, \"tgk\": 0, \"tgk\": 0, \"tgk\": 0, \"tgk\": 0, \"tgk\": 0, \"tgk\": 0, \"tgk\": 0, \"tgk\": 0, \"tgk\": 0, \"tgk\": 0, \"tgk\": 0, \"tgk\": 0, \"tgk\": 0, \"tgk\": 0, \"tgk\": 0, \"tgk\": 0, \"tgk\": 0, \"tgk\": 0, \"tgk\": 0, \"tgk\": 0, \"tgk\": 0, \"tgk\": 0, \"tgk\": 0, \"tgk\": 0, \"tgk\": 0, \"tgk\": 0, \"tgk\": 0, \"tgk\": 0, \"tgk\": 0, \"tgk\": 0, \"tgk\": 0, \"tgk\": 0, \"tgk\": 0, \"tgk\": 0, \"tgk\": 0, \"tgk\": 0, \"tgk\": 0, \"tgk\": 0, \"tgk\": 0, \"tgk\": 0, \"tgk\": 0, \"tgk\": 0, \"tgk\": 0, \"tgk\": 0, \"tgk\": 0, \"tgk\": 0, \"tgk\": 0, \"tgk\": 0, \"tgk\": 0, \"tgk\": 0, \"tgk\": 0, \"tgk\": 0, \"tgk\": 0, \"tgk\": 0, \"tgk\": 0, \"tgk\": 0, \"tgk\": 0, \"tgk\": 0, \"tgk\": 0, \"tgk\": 0, \"tgk\": 0, \"tgk\": 0, \"tgk\": 0, \"tgk\": 0, \"tgk\": 0, \"tgk\": 0, \"tgk\": 0, \"tgk\": 0, \"tgk\": 0, \"tgk\": 0, \"tgk\": 0, \"tgk\": 0, \"tgk\": 0, \"tgk\": 0, \"tgk\": 0, \"tgk\": 0, \"tgk\": 0, \"tgk\": 0, \"tgk\": 0, \"tgk\": 0, \"tgk\": 0, \"tgk\": 0, \"tgk\": 0, \"tgk\": 0, \"tgk\": 0, \"tgk\": 0, \"tgk\": 0, \"tgk\": 0, \"tgk\": 0, \"tgk\": 0, \"tgk\": 0, \"tgk\": 0, \"tgk\": 0, \"tgk\": 0, \"tgk\": 0, \"tgk\": 0, \"tgk\": 0, \"tgk\": 0, \"tgk\": 0, \"tgk\": 0, \"tgk\": 0, \"tgk\": 0, \"tgk\": 0, \"tgk\": 0, \"tgk\": 0, \"tgk\": 0, \"tgk\": 0, \"tgk\": 0, \"tgk\": 0, \"tgk\": 0, \"tgk\": 0, \"tgk\": 0, \"tgk\": 0, \"tgk\": 0, \"tgk\": 0, \"tgk\": 0, \"tgk\": 0, \"tgk\": 0, \"tgk\": 0, \"tgk\": 0, \"tgk\": 0, \"tgk\": 0, \"tgk\": 0, \"tgk\": 0, \"tgk\": 0, \"tgk\": 0, \"tgk\": 0, \"tgk\": 0, \"tgk\": 0, \"tgk\": 0, \"tgk\": 0, \"tgk\": 0, \"tgk\": 0, \"tgk\": 0, \"tgk\": 0, \"tgk\": 0, \"tgk\": 0, \"tgk\": 0, \"tgk\": 0, \"tgk\": 0, \"tgk\": 0, \"tgk\": 0, \"tgk\": 0, \"tgk\": 0, \"tgk\": 0, \"tgk\": 0, \"tgk\": 0, \"tgk\": 0, \"tgk\": 0, \"tgk\": 0, \"tgk\": 0, \"tgk\": 0, \"tgk\": 0, \"tgk\": 0, \"tgk\": 0, \"tgk\": 0, \"tgk\": 0, \"tgk\": 0, \"tgk\": 0, \"tgk\": 0, \"tgk\": 0, \"tgk\": 0, \"tgk\": 0, \"tgk\": 0, \"tgk\": 0, \"tgk\": 0, \"tgk\": 0, \"tgk\": 0, \"tgk\": 0, \"tgk\": 0, \"tgk\": 0, \"tgk\": 0, \"tgk\": 0, \"tgk\": 0, \"tgk\": 0, \"tgk\": 0, \"tgk\": 0, \"tgk\": 0, \"tgk\": 0, \"tgk\": 0, \"tgk\": 0, \"tgk\": 0, \"tgk\": 0, \"tgk\": 0, \"tgk\": 0, \"tgk\": 0, \"tgk\": 0, \"tgk\": 0, \"tgk\": 0, \"tgk\": 0, \"tgk\": 0, \"tgk\": 0, \"tgk\": 0, \"tgk\": 0, \"tgk\": 0, \"tgk\": 0, \"tgk\": 0, \"tgk\": 0, \"tgk\": 0, \"tgk\": 0, \"tgk\": 0, \"tgk\": 0, \"tgk\": 0, \"tgk\": 0, \"tgk\": 0, \"tgk\": 0, \"tgk\": 0, \"tgk\": 0, \"tgk\": 0, \"tgk\": 0, \"tgk\": 0, \"tgk\": 0, \"tgk\": 0, \"tgk\": 0, \"tgk\": 0, \"tgk\": 0, \"tgk\": 0, \"tgk\": 0, \"tgk\": 0, \"tgk\": 0, \"tgk\": 0, \"tgk\": 0, \"tgk\": 0, \"tgk\": 0, \"tgk\": 0, \"tgk\": 0, \"tgk\": 0, \"tgk\": 0, \"tgk\": 0, \"tgk\": 0, \"tgk\": 0, \"tgk\": 0, \"tgk\": 0, \"tgk\": 0, \"tgk\": 0, \"tgk\": 0, \"tgk\": 0, \"tgk\": 0, \"tgk\": 0, \"tgk\": 0, \"tgk\": 0, \"tgk\": 0, \"tgk\": 0, \"tgk\": 0, \"tgk\": 0, \"tgk\": 0, \"tgk\": 0, \"tgk\": 0, \"tgk\": 0, \"tgk\": 0, \"tgk\": 0, \"tgk\": 0, \"tgk\": 0, \"tgk\": 0, \"tgk\": 0, \"tgk\": 0, \"tgk\": 0, \"tgk\": 0, \"tgk\": 0, \"tgk\": 0, \"tgk\": 0, \"tgk\": 0, \"tgk\": 0, \"tgk\": 0, \"tgk\": 0, \"tgk\": 0, \"tgk\": 0, \"tgk\": 0, \"tgk\": 0, \"tgk\": 0, \"tgk\": 0, \"tgk\": 0, \"tgk\": 0, \"tgk\": 0, \"tgk\": 0, \"tgk\": 0, \"tgk\": 0, \"tgk\": 0, \"tgk\": 0, \"tgk\": 0, \"tgk\": 0, \"tgk\": 0, \"tgk\": 0, \"tgk\": 0, \"tgk\": 0, \"tgk\": 0, \"tgk\": 0, \"tgk\": 0, \"tgk\": 0, \"tgk\": 0, \"tgk\": 0, \"tgk\": 0, \"tgk\": 0, \"tgk\": 0, \"tgk\": 0, \"tgk\": 0, \"tgk\": 0, \"tgk\": 0, \"tgk\": 0, \"tgk\": 0, \"tgk\": 0, \"tgk\": 0, \"tgk\": 0, \"tgk\": 0, \"tgk\": 0, \"tgk\": 0, \"tgk\": 0, \"tgk\": 0, \"tgk\": 0, \"tgk\": 0, \"tgk\": 0, \"tgk\": 0, \"tgk\": 0, \"tgk\": 0, \"tgk\": 0, \"tgk\": 0, \"tgk\": 0, \"tgk\": 0, \"tgk\": 0, \"tgk\": 0, \"tgk\": 0, \"tgk\": 0, \"tgk\": 0, \"tgk\": 0, \"tgk\": 0, \"tgk\": 0, \"tgk\": 0, \"tgk\": 0, \"tgk\": 0, \"tgk\": 0, \"tgk\": 0, \"tgk\": 0, \"tgk\": 0, \"tgk\": 0, \"tgk\": 0, \"tgk\": 0, \"tgk\": 0, \"tgk\": 0, \"tgk\": 0, \"tgk\": 0, \"tgk\": 0, \"tgk\": 0, \"tgk\": 0, \"tgk\": 0, \"tgk\": 0, \"tgk\": 0, \"tgk\": 0, \"tgk\": 0, \"tgk\": 0, \"tgk\": 0, \"tgk\": 0, \"tgk\": 0, \"tgk\": 0, \"tgk\": 0, \"tgk\": 0, \"tgk\": 0, \"tgk\": 0, \"tgk\": 0, \"tgk\": 0, \"tgk\": 0, \"tgk\": 0, \"tgk\": 0, \"tgk\": 0, \"tgk\": 0, \"tgk\": 0, \"tgk\": 0, \"tgk\": 0, \"tgk\": 0, \"tgk\": 0, \"tgk\": 0, \"tgk\": 0, \"tgk\": 0, \"tgk\": 0, \"tgk\": 0, \"tgk\": 0, \"tgk\": 0, \"tgk\": 0, \"tgk\": 0, \"tgk\": 0, \"tgk\": 0, \"tgk\": 0, \"tgk\": 0, \"tgk\": 0, \"tgk\": 0, \"tgk\": 0, \"tgk\": 0, \"tgk\": 0, \"tgk\": 0, \"tgk\": 0, \"tgk\": 0, \"tgk\": 0, \"tgk\": 0, \"tgk\": 0, \"tgk\": 0, \"tgk\": 0, \"tgk\": 0, \"tgk\": 0, \"tgk\": 0, \"tgk\": 0, \"tgk\": 0, \"tgk\": 0, \"tgk\": 0, \"tgk\": 0, \"tgk\": 0, \"tgk\": 0, \"tgk\": 0, \"tgk\": 0, \"tgk\": 0, \"tgk\": 0, \"tgk\": 0, \"tgk\": 0, \"tgk\": 0, \"tgk\": 0, \"tgk\": 0, \"tgk\": 0, \"tgk\": 0, \"tgk\": 0, \"tgk\": 0, \"tgk\": 0, \"tgk\": 0, \"tgk\": 0, \"tgk\": 0, \"tgk\": 0, \"tgk\": 0, \"tgk\": 0, \"tgk\": 0, \"tgk\": 0, \"tgk\": 0, \"tgk\": 0, \"tgk\": 0, \"tgk\": 0, \"tgk\": 0, \"tgk\": 0, \"tgk\": 0, \"tgk\": 0, \"tgk\": 0, \"tgk\": 0, \"tgk\": 0, \"tgk\": 0, \"tgk\": 0, \"tgk\": 0, \"tgk\": 0, \"tgk\": 0, \"tgk\": 0, \"tgk\": 0, \"tgk\": 0, \"tgk\": 0, \"tgk\": 0, \"tgk\": 0, \"tgk\": 0, \"tgk\": 0, \"tgk\": 0, \"tgk\": 0, \"tgk\": 0, \"tgk\": 0, \"tgk\": 0, \"tgk\": 0, \"tgk\": 0, \"tgk\": 0, \"tgk\": 0, \"tgk\": 0, \"tgk\": 0, \"tgk\": 0, \"tgk\": 0, \"tgk\": 0, \"tgk\": 0, \"tgk\": 0, \"tgk\": 0, \"tgk\": 0, \"tgk\": 0, \"tgk\": 0, \"tgk\": 0, \"tgk\": 0, \"tgk\": 0, \"tgk\": 0, \"tgk\": 0, \"tgk\": 0, \"tgk\": 0, \"tgk\": 0, \"tgk\": 0, \"tgk\": 0, \"tgk\": 0, \"tgk\": 0, \"tgk\": 0, \"tgk\": 0, \"tgk\": 0, \"tgk\": 0, \"tgk\": 0, \"tgk\": 0, \"tgk\": 0, \"tgk\": 0, \"tgk\": 0, \"tgk\": 0, \"tgk\": 0, \"tgk\": 0, \"tgk\": 0, \"tgk\": 0, \"tgk\": 0, \"tgk\": 0, \"tgk\": 0, \"tgk\": 0, \"tgk\": 0, \"tgk\": 0, \"tgk\": 0, \"tgk\": 0, \"tgk\": 0, \"tgk\": 0, \"tgk\": 0, \"tgk\": 0, \"tgk\": 0, \"tgk\": 0, \"tgk\": 0, \"tgk\": 0, \"tgk\": 0, \"tgk\": 0, \"tgk\": 0, \"tgk\": 0, \"tgk\": 0, \"tgk\": 0, \"tgk\": 0, \"tgk\": 0, \"tgk\": 0, \"tgk\": 0, \"tgk\": 0, \"tgk\": 0, \"tgk\": 0, \"tgk\": 0, \"tgk\": 0, \"tgk\": 0, \"tgk\": 0, \"tgk\": 0, \"tgk\": 0, \"tgk\": 0, \"tgk\": 0, \"tgk\": 0, \"tgk\": 0, \"tgk\": 0, \"tgk\": 0, \"tgk\": 0, \"tgk\": 0, \"tgk\": 0, \"tgk\": 0, \"tgk\": 0, \"tgk\": 0, \"tgk\": 0, \"tgk\": 0, \"tgk\": 0, \"tgk\": 0, \"tgk\": 0, \"tgk\": 0, \"tgk\": 0, \"tgk\": 0, \"tgk\": 0, \"tgk\": 0, \"tgk\": 0, \"tgk\": 0, \"tgk\": 0, \"tgk\": 0, \"tgk\": 0, \"tgk\": 0, \"tgk\": 0, \"tgk\": 0, \"tgk\": 0, \"tgk\": 0, \"tgk\": 0, \"tgk\": 0, \"tgk\": 0, \"tgk\": 0, \"tgk\": 0, \"tgk\": 0, \"tgk\": 0, \"tgk\": 0, \"tgk\": 0, \"tgk\": 0, \"tgk\": 0, \"tgk\": 0, \"tgk\": 0, \"tgk\": 0, \"tgk\": 0, \"tgk\": 0, \"tgk\": 0, \"tgk\": 0, \"tgk\": 0, \"tgk\": 0, \"tgk\": 0, \"tgk\": 0, \"tgk\": 0, \"tgk\": 0, \"tgk\": 0, \"tgk\": 0, \"tgk\": 0, \"tgk\": 0, \"tgk\": 0, \"tgk\": 0, \"tgk\": 0, \"tgk\": 0, \"tgk\": 0, \"tgk\": 0, \"tgk\": 0, \"tgk\": 0, \"tgk\": 0, \"tgk\": 0, \"tgk\": 0, \"tgk\": 0, \"tgk\": 0, \"tgk\": 0, \"tgk\": 0, \"tgk\": 0, \"tgk\": 0, \"tgk\": 0, \"tgk\": 0, \"tgk\": 0, \"tgk\": 0, \"tgk\": 0, \"tgk\": 0, \"tgk\": 0, \"tgk\": 0, \"tgk\": 0, \"tgk\": 0, \"tgk\": 0, \"tgk\": 0, \"tgk\": 0, \"tgk\": 0, \"tgk\": 0, \"tgk\": 0, \"tgk\": 0, \"tgk\": 0, \"tgk\": 0, \"tgk\": 0, \"tgk\": 0, \"tgk\": 0, \"tgk\": 0, \"tgk\": 0, \"tgk\": 0, \"tgk\": 0, \"tgk\": 0, \"tgk\": 0, \"tgk\": 0, \"tgk\": 0, \"tgk\": 0, \"tgk\": 0, \"tgk\": 0, \"tgk\": 0, \"tgk\": 0, \"tgk\": 0, \"tgk\": 0, \"tgk\": 0, \"tgk\": 0, \"tgk\": 0, \"tgk\": 0, \"tgk\": 0, \"tgk\": 0, \"tgk\": 0, \"tgk\": 0, \"tgk\": 0, \"tgk\": 0, \"tgk\": 0, \"tgk\": 0, \"tgk\": 0, \"tgk\": 0, \"tgk\": 0, \"tgk\": 0, \"tgk\": 0, \"tgk\": 0, \"tgk\": 0, \"tgk\": 0, \"tgk\": 0, \"tgk\": 0, \"tgk\": 0, \"tgk\": 0, \"tgk\": 0, \"tgk\": 0, \"tgk\": 0, \"tgk\": 0, \"tgk\": 0, \"tgk\": 0, \"tgk\": 0, \"tgk\": 0, \"tgk\": 0, \"tgk\": 0, \"tgk\": 0, \"tgk\": 0, \"tgk\": 0, \"tgk\": 0, \"tgk\": 0, \"tgk\": 0, \"tgk\": 0, \"tgk\": 0, \"tgk\": 0, \"tgk\": 0, \"tgk\": 0, \"tgk\": 0, \"tgk\": 0, \"tgk\": 0, \"tgk\": 0, \"tgk\": 0, \"tgk\": 0, \"tgk\": 0, \"tgk\": 0, \"tgk\": 0, \"tgk\": 0, \"tgk\": 0, \"tgk\": 0, \"tgk\": 0, \"tgk\": 0, \"tgk\": 0, \"tgk\": 0, \"tgk\": 0, \"tgk\": 0, \"tgk\": 0, \"tgk\": 0, \"tgk\": 0, \"tgk\": 0, \"tgk\": 0, \"tgk\": 0, \"tgk\": 0, \"tgk\": 0, \"tgk\": 0, \"tgk\": 0, \"tgk\": 0, \"tgk\": 0, \"tgk\": 0, \"tgk\": 0, \"tgk\": 0, \"tgk\": 0, \"tgk\": 0, \"tgk\": 0, \"tgk\": 0, \"tgk\": 0, \"tgk\": 0, \"tgk\": 0, \"tgk\": 0, \"tgk\": 0, \"tgk\": 0, \"tgk\": 0, \"tgk\": 0, \"tgk\": 0, \"tgk\": 0, \"tgk\": 0, \"tgk\": 0, \"tgk\": 0, \"tgk\": 0, \"tgk\": 0, \"tgk\": 0, \"tgk\": 0, \"tgk\": 0, \"tgk\": 0, \"tgk\": 0, \"tgk\": 0, \"tgk\": 0, \"tgk\": 0, \"tgk\": 0, \"tgk\": 0, \"tgk\": 0, \"tgk\": 0, \"tgk\": 0, \"tgk\": 0, \"tgk\": 0, \"tgk\": 0, \"tgk\": 0, \"tgk\": 0, \"tgk\": 0, \"tgk\": 0, \"tgk\": 0, \"tgk\": 0, \"tgk\": 0, \"tgk\": 0, \"tgk\": 0, \"tgk\": 0, \"tgk\": 0, \"tgk\": 0, \"tgk\": 0, \"tgk\": 0, \"tgk\": 0, \"tgk\": 0, \"tgk\": 0, \"tgk\": 0, \"tgk\": 0, \"tgk\": 0, \"tgk\": 0, \"tgk\": 0, \"tgk\": 0, \"tgk\": 0, \"tgk\": 0, \"tgk\": 0, \"tgk\": 0, \"tgk\": 0, \"tgk\": 0, \"tgk\": 0, \"tgk\": 0, \"tgk\": 0, \"tgk\": 0, \"tgk\": 0, \"tgk\": 0, \"tgk\": 0, \"tgk\": 0, \"tgk\": 0, \"tgk\": 0, \"tgk\": 0, \"tgk\": 0, \"tgk\": 0, \"tgk\": 0, \"tgk\": 0, \"tgk\": 0, \"tgk\": 0, \"tgk\": 0, \"tgk\": 0, \"tgk\": 0, \"tgk\": 0, \"tgk\": 0, \"tgk\": 0, \"tgk\": 0, \"tgk\": 0, \"tgk\": 0, \"tgk\": 0, \"tgk\": 0, \"tgk\": 0, \"tgk\": 0, \"tgk\": 0, \"tgk\": 0, \"tgk\": 0, \"tgk\": 0, \"tgk\": 0, \"tgk\": 0, \"tgk\": 0, \"tgk\": 0, \"tgk\": 0, \"tgk\": 0, \"tgk\": 0, \"tgk\": 0, \"tgk\": 0, \"tgk\": 0, \"tgk\": 0, \"tgk\": 0, \"tgk\": 0, \"tgk\": 0, \"tgk\": 0, \"tgk\": 0, \"tgk\": 0, \"tgk\": 0, \"tgk\": 0, \"tgk\": 0, \"tgk\": 0, \"tgk\": 0, \"tgk\": 0, \"tgk\": 0, \"tgk\": 0, \"tgk\": 0, \"tgk\": 0, \"tgk\": 0, \"tgk\": 0, \"tgk\": 0, \"tgk\": 0, \"tgk\": 0, \"tgk\": 0, \"tgk\": 0, \"tgk\": 0, \"tgk\": 0, \"tgk\": 0, \"tgk\": 0, \"tgk\": 0, \"tgk\": 0, \"tgk\": 0, \"tgk\": 0, \"tgk\": 0, \"tgk\": 0, \"tgk\": 0, \"tgk\": \n"
     ]
    },
    {
     "data": {
      "application/vnd.plotly.v1+json": {
       "config": {
        "plotlyServerURL": "https://plot.ly"
       },
       "data": [
        {
         "hoverinfo": "text",
         "hovertext": [
          "Theme: Tesla Discussion<br>Confidence: 100%<br>Sentiment Distribution: Positive 66.67%, Negative 33.33%, Neutral 0%",
          "Theme: Optimus and Tesla Technology<br>Confidence: 100%<br>Sentiment Distribution: Positive 100%, Negative 0%, Neutral 0%",
          "Theme: Tesla as a Gift<br>Confidence: 100%<br>Sentiment Distribution: Positive 66.67%, Negative 33.33%, Neutral 0%",
          "Theme: Tesla Products and Colors<br>Confidence: 100%<br>Sentiment Distribution: Positive 100%, Negative 0%, Neutral 0%",
          "Theme: Personal Experiences and Safety<br>Confidence: 100%<br>Sentiment Distribution: Positive 100%, Negative 0%, Neutral 0%",
          "Theme: Tesla Technology and Innovation<br>Confidence: 97%<br>Sentiment Distribution: Positive 100%, Negative 0%, Neutral 0%",
          "Theme: Tesla Safety<br>Confidence: 92%<br>Sentiment Distribution: Positive 100%, Negative 0%, Neutral 0%",
          "Theme: Tesla Vehicles and Design<br>Confidence: 95%<br>Sentiment Distribution: Positive 100%, Negative 0%, Neutral 0%",
          "Theme: Tesla Community and Interactions<br>Confidence: 90%<br>Sentiment Distribution: Positive 100%, Negative 0%, Neutral 0%",
          "Theme: Tesla Robots and Robotics<br>Confidence: 85%<br>Sentiment Distribution: Positive 100%, Negative 0%, Neutral 0%",
          "Theme: Tesla Events and Updates<br>Confidence: 88%<br>Sentiment Distribution: Positive 100%, Negative 0%, Neutral 0%",
          "Theme: Tesla Brand and Marketing<br>Confidence: 80%<br>Sentiment Distribution: Positive 100%, Negative 0%, Neutral 0%",
          "Theme: Tesla Employees and Partnerships<br>Confidence: 78%<br>Sentiment Distribution: Positive 100%, Negative 0%, Neutral 0%",
          "Theme: Investment and Financial Performance<br>Confidence: 90%<br>Sentiment Distribution: Positive 80%, Negative 10%, Neutral 10%",
          "Theme: Tesla Model Y and Innovation<br>Confidence: 85%<br>Sentiment Distribution: Positive 95%, Negative 3%, Neutral 2%",
          "Theme: Elon Musk and Leadership<br>Confidence: 80%<br>Sentiment Distribution: Positive 85%, Negative 10%, Neutral 5%",
          "Theme: Market Trends and Competition<br>Confidence: 75%<br>Sentiment Distribution: Positive 70%, Negative 20%, Neutral 10%",
          "Theme: Car Features and Performance<br>Confidence: 70%<br>Sentiment Distribution: Positive 90%, Negative 5%, Neutral 5%",
          "Theme: Model Y Upgrades<br>Confidence: 100%<br>Sentiment Distribution: Positive 80%, Negative 10%, Neutral 10%",
          "Theme: Model Y Reliability<br>Confidence: 90%<br>Sentiment Distribution: Positive 95%, Negative 2%, Neutral 3%",
          "Theme: Tesla Pricing and Incentives<br>Confidence: 85%<br>Sentiment Distribution: Positive 70%, Negative 10%, Neutral 20%",
          "Theme: Model Y Design and Features<br>Confidence: 80%<br>Sentiment Distribution: Positive 60%, Negative 15%, Neutral 25%",
          "Theme: Tesla Safety Features<br>Confidence: 75%<br>Sentiment Distribution: Positive 85%, Negative 5%, Neutral 10%",
          "Theme: Model Y Performance and Range<br>Confidence: 75%<br>Sentiment Distribution: Positive 55%, Negative 20%, Neutral 25%",
          "Theme: Tesla Model Y's Success<br>Confidence: 90%<br>Sentiment Distribution: Positive 80%, Negative 10%, Neutral 10%",
          "Theme: Tesla Sales Figures<br>Confidence: 85%<br>Sentiment Distribution: Positive 75%, Negative 12%, Neutral 13%",
          "Theme: Tesla's Market Share<br>Confidence: 80%<br>Sentiment Distribution: Positive 70%, Negative 15%, Neutral 15%",
          "Theme: Tesla's Design and Features<br>Confidence: 75%<br>Sentiment Distribution: Positive 65%, Negative 15%, Neutral 20%",
          "Theme: Tesla's Competition<br>Confidence: 70%<br>Sentiment Distribution: Positive 60%, Negative 20%, Neutral 20%",
          "Theme: Tesla Model Y Juniper<br>Confidence: 100%<br>Sentiment Distribution: Positive 50%, Negative 20%, Neutral 30%",
          "Theme: Tesla Vehicles<br>Confidence: 90%<br>Sentiment Distribution: Positive 60%, Negative 10%, Neutral 30%",
          "Theme: Tesla Company Updates<br>Confidence: 80%<br>Sentiment Distribution: Positive 55%, Negative 15%, Neutral 30%",
          "Theme: Tesla Financials<br>Confidence: 70%<br>Sentiment Distribution: Positive 40%, Negative 30%, Neutral 30%",
          "Theme: Tesla Safety Rating<br>Confidence: 95%<br>Sentiment Distribution: Positive 85%, Negative 5%, Neutral 10%",
          "Theme: Tesla Model Comparison<br>Confidence: 85%<br>Sentiment Distribution: Positive 60%, Negative 20%, Neutral 20%",
          "Theme: Tesla Factory Leaks<br>Confidence: 80%<br>Sentiment Distribution: Positive 50%, Negative 25%, Neutral 25%",
          "Theme: Tesla Regulatory Incentives<br>Confidence: 90%<br>Sentiment Distribution: Positive 65%, Negative 15%, Neutral 20%",
          "Theme: Tesla Price Comparison<br>Confidence: 75%<br>Sentiment Distribution: Positive 55%, Negative 20%, Neutral 25%",
          "Theme: Tesla Leaked Designs<br>Confidence: 85%<br>Sentiment Distribution: Positive 50%, Negative 25%, Neutral 25%",
          "Theme: Tesla Model 3 Performance and Features<br>Confidence: 100%<br>Sentiment Distribution: Positive 85%, Negative 5%, Neutral 10%",
          "Theme: Tesla Model 3 Safety and Durability<br>Confidence: 95%<br>Sentiment Distribution: Positive 90%, Negative 5%, Neutral 5%",
          "Theme: Tesla Model 3 Sales and Market Performance<br>Confidence: 85%<br>Sentiment Distribution: Positive 60%, Negative 20%, Neutral 20%",
          "Theme: Tesla Model 3 Autonomy and Design<br>Confidence: 80%<br>Sentiment Distribution: Positive 80%, Negative 10%, Neutral 10%",
          "Theme: Model 3 Updates and Improvements<br>Confidence: 95%<br>Sentiment Distribution: Positive 80%, Negative 10%, Neutral 10%",
          "Theme: Tesla Model 3 Referral Program<br>Confidence: 85%<br>Sentiment Distribution: Positive 70%, Negative 15%, Neutral 15%",
          "Theme: Model 3 Ownership and Experiences<br>Confidence: 80%<br>Sentiment Distribution: Positive 85%, Negative 5%, Neutral 10%",
          "Theme: Model 3 Range and Efficiency<br>Confidence: 75%<br>Sentiment Distribution: Positive 65%, Negative 20%, Neutral 15%",
          "Theme: Model 3 Design and Customization<br>Confidence: 70%<br>Sentiment Distribution: Positive 55%, Negative 20%, Neutral 25%",
          "Theme: Model 3 Comparison and Value<br>Confidence: 85%<br>Sentiment Distribution: Positive 75%, Negative 15%, Neutral 10%",
          "Theme: Tesla Model 3 Charging Costs<br>Confidence: 80%<br>Sentiment Distribution: Positive 60%, Negative 25%, Neutral 15%",
          "Theme: Model 3 and Other Tesla Models<br>Confidence: 75%<br>Sentiment Distribution: Positive 65%, Negative 15%, Neutral 20%",
          "Theme: Model 3 Updates and Enhancements<br>Confidence: 95%<br>Sentiment Distribution: Positive 66.7%, Negative 0%, Neutral 33.3%",
          "Theme: Model 3 Pricing and Incentives<br>Confidence: 85%<br>Sentiment Distribution: Positive 50%, Negative 25%, Neutral 25%",
          "Theme: Model 3 Performance and Features<br>Confidence: 90%<br>Sentiment Distribution: Positive 58.3%, Negative 16.7%, Neutral 25%",
          "Theme: Tesla Product Lineup<br>Confidence: 80%<br>Sentiment Distribution: Positive 50%, Negative 0%, Neutral 50%",
          "Theme: Model 3 Depreciation and Resale Value<br>Confidence: 70%<br>Sentiment Distribution: Positive 66.7%, Negative 0%, Neutral 33.3%",
          "Theme: Tesla Model 3 Review<br>Confidence: 90%<br>Sentiment Distribution: Positive 50%, Negative 0%, Neutral 50%",
          "Theme: Cybertruck Design and Aesthetics<br>Confidence: 80%<br>Sentiment Distribution: Positive 0%, Negative 100%, Neutral 0%",
          "Theme: Cybertruck Performance and Capability<br>Confidence: 70%<br>Sentiment Distribution: Positive 60%, Negative 20%, Neutral 20%",
          "Theme: Elon Musk and Tesla Leadership<br>Confidence: 80%<br>Sentiment Distribution: Positive 0%, Negative 0%, Neutral 100%",
          "Theme: Cybertruck vs Other Vehicles<br>Confidence: 90%<br>Sentiment Distribution: Positive 0%, Negative 100%, Neutral 0%",
          "Theme: User Experiences and Reviews<br>Confidence: 85%<br>Sentiment Distribution: Positive 20%, Negative 60%, Neutral 20%",
          "Theme: Technology and Innovation<br>Confidence: 75%<br>Sentiment Distribution: Positive 40%, Negative 10%, Neutral 50%",
          "Theme: Cybertruck Safety and Reliability<br>Confidence: 70%<br>Sentiment Distribution: Positive 50%, Negative 50%, Neutral 0%",
          "Theme: Business and Partnerships<br>Confidence: 80%<br>Sentiment Distribution: Positive 0%, Negative 0%, Neutral 100%",
          "Theme: Cybertruck Marketing and Hype<br>Confidence: 85%<br>Sentiment Distribution: Positive 60%, Negative 20%, Neutral 20%",
          "Theme: Cybertruck Impression and Reviews<br>Confidence: 95%<br>Sentiment Distribution: Positive 50%, Negative 30%, Neutral 20%",
          "Theme: Public Perception and Satire<br>Confidence: 90%<br>Sentiment Distribution: Positive 0%, Negative 70%, Neutral 30%",
          "Theme: Cybertruck vs. Other Tesla Models<br>Confidence: 85%<br>Sentiment Distribution: Positive 90%, Negative 5%, Neutral 5%",
          "Theme: Environmental and Social Commentary<br>Confidence: 80%<br>Sentiment Distribution: Positive 60%, Negative 30%, Neutral 10%",
          "Theme: Purchaser Experiences and Issues<br>Confidence: 80%<br>Sentiment Distribution: Positive 40%, Negative 50%, Neutral 10%",
          "Theme: Cybertruck Performance and Features<br>Confidence: 95%<br>Sentiment Distribution: Positive 80%, Negative 10%, Neutral 10%",
          "Theme: Publicity and Media Coverage<br>Confidence: 85%<br>Sentiment Distribution: Positive 30%, Negative 60%, Neutral 10%"
         ],
         "marker": {
          "color": [
           "rgb(84,170,0)",
           "rgb(0,255,0)",
           "rgb(84,170,0)",
           "rgb(0,255,0)",
           "rgb(0,255,0)",
           "rgb(0,255,0)",
           "rgb(0,255,0)",
           "rgb(0,255,0)",
           "rgb(0,255,0)",
           "rgb(0,255,0)",
           "rgb(0,255,0)",
           "rgb(0,255,0)",
           "rgb(0,255,0)",
           "rgb(28,226,0)",
           "rgb(7,247,0)",
           "rgb(26,228,0)",
           "rgb(56,198,0)",
           "rgb(13,241,0)",
           "rgb(28,226,0)",
           "rgb(5,249,0)",
           "rgb(31,223,0)",
           "rgb(50,204,0)",
           "rgb(14,240,0)",
           "rgb(68,187,0)",
           "rgb(28,226,0)",
           "rgb(35,219,0)",
           "rgb(45,210,0)",
           "rgb(47,207,0)",
           "rgb(63,191,0)",
           "rgb(72,182,0)",
           "rgb(36,218,0)",
           "rgb(54,200,0)",
           "rgb(109,145,0)",
           "rgb(14,240,0)",
           "rgb(63,191,0)",
           "rgb(85,170,0)",
           "rgb(47,207,0)",
           "rgb(68,187,0)",
           "rgb(85,170,0)",
           "rgb(14,240,0)",
           "rgb(13,241,0)",
           "rgb(63,191,0)",
           "rgb(28,226,0)",
           "rgb(28,226,0)",
           "rgb(45,210,0)",
           "rgb(14,240,0)",
           "rgb(60,195,0)",
           "rgb(68,187,0)",
           "rgb(42,212,0)",
           "rgb(74,180,0)",
           "rgb(47,207,0)",
           "rgb(0,255,0)",
           "rgb(85,170,0)",
           "rgb(56,198,0)",
           "rgb(0,255,0)",
           "rgb(0,255,0)",
           "rgb(0,255,0)",
           "rgb(255,0,0)",
           "rgb(63,191,0)",
           "rgb(127,127,0)",
           "rgb(255,0,0)",
           "rgb(191,63,0)",
           "rgb(50,204,0)",
           "rgb(127,127,0)",
           "rgb(127,127,0)",
           "rgb(63,191,0)",
           "rgb(95,159,0)",
           "rgb(255,0,0)",
           "rgb(13,241,0)",
           "rgb(85,170,0)",
           "rgb(141,113,0)",
           "rgb(28,226,0)",
           "rgb(170,85,0)"
          ],
          "line": {
           "color": "black",
           "width": 1
          },
          "size": [
           15,
           15,
           15,
           15,
           15,
           14.7,
           14.2,
           14.5,
           14,
           13.5,
           13.8,
           13,
           12.8,
           14,
           13.5,
           13,
           12.5,
           12,
           15,
           14,
           13.5,
           13,
           12.5,
           12.5,
           14,
           13.5,
           13,
           12.5,
           12,
           15,
           14,
           13,
           12,
           14.5,
           13.5,
           13,
           14,
           12.5,
           13.5,
           15,
           14.5,
           13.5,
           13,
           14.5,
           13.5,
           13,
           12.5,
           12,
           13.5,
           13,
           12.5,
           14.5,
           13.5,
           14,
           13,
           12,
           14,
           13,
           12,
           13,
           14,
           13.5,
           12.5,
           12,
           13,
           13.5,
           14.5,
           14,
           13.5,
           13,
           13,
           14.5,
           13.5
          ]
         },
         "mode": "markers+text",
         "text": [
          "Tesla Discussion",
          "Optimus and Tesla Technology",
          "Tesla as a Gift",
          "Tesla Products and Colors",
          "Personal Experiences and Safety",
          "Tesla Technology and Innovation",
          "Tesla Safety",
          "Tesla Vehicles and Design",
          "Tesla Community and Interactions",
          "Tesla Robots and Robotics",
          "Tesla Events and Updates",
          "Tesla Brand and Marketing",
          "Tesla Employees and Partnerships",
          "Investment and Financial Performance",
          "Tesla Model Y and Innovation",
          "Elon Musk and Leadership",
          "Market Trends and Competition",
          "Car Features and Performance",
          "Model Y Upgrades",
          "Model Y Reliability",
          "Tesla Pricing and Incentives",
          "Model Y Design and Features",
          "Tesla Safety Features",
          "Model Y Performance and Range",
          "Tesla Model Y's Success",
          "Tesla Sales Figures",
          "Tesla's Market Share",
          "Tesla's Design and Features",
          "Tesla's Competition",
          "Tesla Model Y Juniper",
          "Tesla Vehicles",
          "Tesla Company Updates",
          "Tesla Financials",
          "Tesla Safety Rating",
          "Tesla Model Comparison",
          "Tesla Factory Leaks",
          "Tesla Regulatory Incentives",
          "Tesla Price Comparison",
          "Tesla Leaked Designs",
          "Tesla Model 3 Performance and Features",
          "Tesla Model 3 Safety and Durability",
          "Tesla Model 3 Sales and Market Performance",
          "Tesla Model 3 Autonomy and Design",
          "Model 3 Updates and Improvements",
          "Tesla Model 3 Referral Program",
          "Model 3 Ownership and Experiences",
          "Model 3 Range and Efficiency",
          "Model 3 Design and Customization",
          "Model 3 Comparison and Value",
          "Tesla Model 3 Charging Costs",
          "Model 3 and Other Tesla Models",
          "Model 3 Updates and Enhancements",
          "Model 3 Pricing and Incentives",
          "Model 3 Performance and Features",
          "Tesla Product Lineup",
          "Model 3 Depreciation and Resale Value",
          "Tesla Model 3 Review",
          "Cybertruck Design and Aesthetics",
          "Cybertruck Performance and Capability",
          "Elon Musk and Tesla Leadership",
          "Cybertruck vs Other Vehicles",
          "User Experiences and Reviews",
          "Technology and Innovation",
          "Cybertruck Safety and Reliability",
          "Business and Partnerships",
          "Cybertruck Marketing and Hype",
          "Cybertruck Impression and Reviews",
          "Public Perception and Satire",
          "Cybertruck vs. Other Tesla Models",
          "Environmental and Social Commentary",
          "Purchaser Experiences and Issues",
          "Cybertruck Performance and Features",
          "Publicity and Media Coverage"
         ],
         "textposition": "bottom center",
         "type": "scatter",
         "x": [
          5,
          4.9809734904587275,
          4.92403876506104,
          4.8296291314453415,
          4.698463103929543,
          4.531538935183249,
          4.330127018922194,
          4.095760221444959,
          3.83022221559489,
          3.5355339059327378,
          3.2139380484326967,
          2.8678821817552302,
          2.5000000000000004,
          2.1130913087034973,
          1.7101007166283442,
          1.2940952255126037,
          0.8682408883346521,
          0.4357787137382918,
          3.061616997868383e-16,
          -0.4357787137382901,
          -0.8682408883346515,
          -1.2940952255126033,
          -1.7101007166283435,
          -2.113091308703497,
          -2.499999999999999,
          -2.8678821817552294,
          -3.2139380484326967,
          -3.5355339059327373,
          -3.8302222155948895,
          -4.095760221444959,
          -4.330127018922194,
          -4.531538935183249,
          -4.698463103929542,
          -4.829629131445341,
          -4.92403876506104,
          -4.9809734904587275,
          -5,
          -4.9809734904587275,
          -4.924038765061041,
          -4.8296291314453415,
          -4.698463103929543,
          -4.53153893518325,
          -4.3301270189221945,
          -4.09576022144496,
          -3.83022221559489,
          -3.5355339059327386,
          -3.2139380484326976,
          -2.867882181755232,
          -2.500000000000002,
          -2.1130913087035,
          -1.7101007166283468,
          -1.2940952255126033,
          -0.8682408883346516,
          -0.43577871373829125,
          -9.184850993605148e-16,
          0.43577871373828947,
          0.8682408883346499,
          1.2940952255126015,
          1.7101007166283408,
          2.113091308703494,
          2.5000000000000004,
          2.8678821817552302,
          3.2139380484326963,
          3.535533905932737,
          3.830222215594889,
          4.095760221444958,
          4.330127018922192,
          4.5315389351832485,
          4.698463103929541,
          4.8296291314453415,
          4.92403876506104,
          4.9809734904587275,
          5
         ],
         "y": [
          0,
          0.4357787137382908,
          0.8682408883346516,
          1.2940952255126037,
          1.7101007166283435,
          2.1130913087034973,
          2.4999999999999996,
          2.8678821817552302,
          3.2139380484326963,
          3.5355339059327373,
          3.83022221559489,
          4.095760221444959,
          4.330127018922193,
          4.531538935183249,
          4.698463103929542,
          4.8296291314453415,
          4.92403876506104,
          4.9809734904587275,
          5,
          4.9809734904587275,
          4.92403876506104,
          4.8296291314453415,
          4.698463103929543,
          4.53153893518325,
          4.330127018922194,
          4.09576022144496,
          3.83022221559489,
          3.5355339059327378,
          3.2139380484326976,
          2.867882181755232,
          2.4999999999999996,
          2.1130913087034973,
          1.7101007166283444,
          1.294095225512605,
          0.8682408883346536,
          0.43577871373829097,
          6.123233995736766e-16,
          -0.4357787137382897,
          -0.8682408883346502,
          -1.294095225512604,
          -1.7101007166283433,
          -2.1130913087034964,
          -2.499999999999999,
          -2.8678821817552294,
          -3.2139380484326963,
          -3.5355339059327373,
          -3.8302222155948895,
          -4.095760221444958,
          -4.330127018922192,
          -4.5315389351832485,
          -4.698463103929541,
          -4.8296291314453415,
          -4.92403876506104,
          -4.9809734904587275,
          -5,
          -4.9809734904587275,
          -4.924038765061041,
          -4.829629131445342,
          -4.698463103929543,
          -4.531538935183251,
          -4.330127018922193,
          -4.095760221444959,
          -3.8302222155948904,
          -3.5355339059327386,
          -3.213938048432698,
          -2.8678821817552325,
          -2.500000000000002,
          -2.1130913087035,
          -1.710100716628347,
          -1.2940952255126035,
          -0.868240888334652,
          -0.4357787137382916,
          -1.2246467991473533e-15
         ]
        }
       ],
       "layout": {
        "height": 800,
        "hovermode": "closest",
        "plot_bgcolor": "rgb(240,240,240)",
        "showlegend": false,
        "template": {
         "data": {
          "bar": [
           {
            "error_x": {
             "color": "#2a3f5f"
            },
            "error_y": {
             "color": "#2a3f5f"
            },
            "marker": {
             "line": {
              "color": "#E5ECF6",
              "width": 0.5
             },
             "pattern": {
              "fillmode": "overlay",
              "size": 10,
              "solidity": 0.2
             }
            },
            "type": "bar"
           }
          ],
          "barpolar": [
           {
            "marker": {
             "line": {
              "color": "#E5ECF6",
              "width": 0.5
             },
             "pattern": {
              "fillmode": "overlay",
              "size": 10,
              "solidity": 0.2
             }
            },
            "type": "barpolar"
           }
          ],
          "carpet": [
           {
            "aaxis": {
             "endlinecolor": "#2a3f5f",
             "gridcolor": "white",
             "linecolor": "white",
             "minorgridcolor": "white",
             "startlinecolor": "#2a3f5f"
            },
            "baxis": {
             "endlinecolor": "#2a3f5f",
             "gridcolor": "white",
             "linecolor": "white",
             "minorgridcolor": "white",
             "startlinecolor": "#2a3f5f"
            },
            "type": "carpet"
           }
          ],
          "choropleth": [
           {
            "colorbar": {
             "outlinewidth": 0,
             "ticks": ""
            },
            "type": "choropleth"
           }
          ],
          "contour": [
           {
            "colorbar": {
             "outlinewidth": 0,
             "ticks": ""
            },
            "colorscale": [
             [
              0,
              "#0d0887"
             ],
             [
              0.1111111111111111,
              "#46039f"
             ],
             [
              0.2222222222222222,
              "#7201a8"
             ],
             [
              0.3333333333333333,
              "#9c179e"
             ],
             [
              0.4444444444444444,
              "#bd3786"
             ],
             [
              0.5555555555555556,
              "#d8576b"
             ],
             [
              0.6666666666666666,
              "#ed7953"
             ],
             [
              0.7777777777777778,
              "#fb9f3a"
             ],
             [
              0.8888888888888888,
              "#fdca26"
             ],
             [
              1,
              "#f0f921"
             ]
            ],
            "type": "contour"
           }
          ],
          "contourcarpet": [
           {
            "colorbar": {
             "outlinewidth": 0,
             "ticks": ""
            },
            "type": "contourcarpet"
           }
          ],
          "heatmap": [
           {
            "colorbar": {
             "outlinewidth": 0,
             "ticks": ""
            },
            "colorscale": [
             [
              0,
              "#0d0887"
             ],
             [
              0.1111111111111111,
              "#46039f"
             ],
             [
              0.2222222222222222,
              "#7201a8"
             ],
             [
              0.3333333333333333,
              "#9c179e"
             ],
             [
              0.4444444444444444,
              "#bd3786"
             ],
             [
              0.5555555555555556,
              "#d8576b"
             ],
             [
              0.6666666666666666,
              "#ed7953"
             ],
             [
              0.7777777777777778,
              "#fb9f3a"
             ],
             [
              0.8888888888888888,
              "#fdca26"
             ],
             [
              1,
              "#f0f921"
             ]
            ],
            "type": "heatmap"
           }
          ],
          "heatmapgl": [
           {
            "colorbar": {
             "outlinewidth": 0,
             "ticks": ""
            },
            "colorscale": [
             [
              0,
              "#0d0887"
             ],
             [
              0.1111111111111111,
              "#46039f"
             ],
             [
              0.2222222222222222,
              "#7201a8"
             ],
             [
              0.3333333333333333,
              "#9c179e"
             ],
             [
              0.4444444444444444,
              "#bd3786"
             ],
             [
              0.5555555555555556,
              "#d8576b"
             ],
             [
              0.6666666666666666,
              "#ed7953"
             ],
             [
              0.7777777777777778,
              "#fb9f3a"
             ],
             [
              0.8888888888888888,
              "#fdca26"
             ],
             [
              1,
              "#f0f921"
             ]
            ],
            "type": "heatmapgl"
           }
          ],
          "histogram": [
           {
            "marker": {
             "pattern": {
              "fillmode": "overlay",
              "size": 10,
              "solidity": 0.2
             }
            },
            "type": "histogram"
           }
          ],
          "histogram2d": [
           {
            "colorbar": {
             "outlinewidth": 0,
             "ticks": ""
            },
            "colorscale": [
             [
              0,
              "#0d0887"
             ],
             [
              0.1111111111111111,
              "#46039f"
             ],
             [
              0.2222222222222222,
              "#7201a8"
             ],
             [
              0.3333333333333333,
              "#9c179e"
             ],
             [
              0.4444444444444444,
              "#bd3786"
             ],
             [
              0.5555555555555556,
              "#d8576b"
             ],
             [
              0.6666666666666666,
              "#ed7953"
             ],
             [
              0.7777777777777778,
              "#fb9f3a"
             ],
             [
              0.8888888888888888,
              "#fdca26"
             ],
             [
              1,
              "#f0f921"
             ]
            ],
            "type": "histogram2d"
           }
          ],
          "histogram2dcontour": [
           {
            "colorbar": {
             "outlinewidth": 0,
             "ticks": ""
            },
            "colorscale": [
             [
              0,
              "#0d0887"
             ],
             [
              0.1111111111111111,
              "#46039f"
             ],
             [
              0.2222222222222222,
              "#7201a8"
             ],
             [
              0.3333333333333333,
              "#9c179e"
             ],
             [
              0.4444444444444444,
              "#bd3786"
             ],
             [
              0.5555555555555556,
              "#d8576b"
             ],
             [
              0.6666666666666666,
              "#ed7953"
             ],
             [
              0.7777777777777778,
              "#fb9f3a"
             ],
             [
              0.8888888888888888,
              "#fdca26"
             ],
             [
              1,
              "#f0f921"
             ]
            ],
            "type": "histogram2dcontour"
           }
          ],
          "mesh3d": [
           {
            "colorbar": {
             "outlinewidth": 0,
             "ticks": ""
            },
            "type": "mesh3d"
           }
          ],
          "parcoords": [
           {
            "line": {
             "colorbar": {
              "outlinewidth": 0,
              "ticks": ""
             }
            },
            "type": "parcoords"
           }
          ],
          "pie": [
           {
            "automargin": true,
            "type": "pie"
           }
          ],
          "scatter": [
           {
            "fillpattern": {
             "fillmode": "overlay",
             "size": 10,
             "solidity": 0.2
            },
            "type": "scatter"
           }
          ],
          "scatter3d": [
           {
            "line": {
             "colorbar": {
              "outlinewidth": 0,
              "ticks": ""
             }
            },
            "marker": {
             "colorbar": {
              "outlinewidth": 0,
              "ticks": ""
             }
            },
            "type": "scatter3d"
           }
          ],
          "scattercarpet": [
           {
            "marker": {
             "colorbar": {
              "outlinewidth": 0,
              "ticks": ""
             }
            },
            "type": "scattercarpet"
           }
          ],
          "scattergeo": [
           {
            "marker": {
             "colorbar": {
              "outlinewidth": 0,
              "ticks": ""
             }
            },
            "type": "scattergeo"
           }
          ],
          "scattergl": [
           {
            "marker": {
             "colorbar": {
              "outlinewidth": 0,
              "ticks": ""
             }
            },
            "type": "scattergl"
           }
          ],
          "scattermapbox": [
           {
            "marker": {
             "colorbar": {
              "outlinewidth": 0,
              "ticks": ""
             }
            },
            "type": "scattermapbox"
           }
          ],
          "scatterpolar": [
           {
            "marker": {
             "colorbar": {
              "outlinewidth": 0,
              "ticks": ""
             }
            },
            "type": "scatterpolar"
           }
          ],
          "scatterpolargl": [
           {
            "marker": {
             "colorbar": {
              "outlinewidth": 0,
              "ticks": ""
             }
            },
            "type": "scatterpolargl"
           }
          ],
          "scatterternary": [
           {
            "marker": {
             "colorbar": {
              "outlinewidth": 0,
              "ticks": ""
             }
            },
            "type": "scatterternary"
           }
          ],
          "surface": [
           {
            "colorbar": {
             "outlinewidth": 0,
             "ticks": ""
            },
            "colorscale": [
             [
              0,
              "#0d0887"
             ],
             [
              0.1111111111111111,
              "#46039f"
             ],
             [
              0.2222222222222222,
              "#7201a8"
             ],
             [
              0.3333333333333333,
              "#9c179e"
             ],
             [
              0.4444444444444444,
              "#bd3786"
             ],
             [
              0.5555555555555556,
              "#d8576b"
             ],
             [
              0.6666666666666666,
              "#ed7953"
             ],
             [
              0.7777777777777778,
              "#fb9f3a"
             ],
             [
              0.8888888888888888,
              "#fdca26"
             ],
             [
              1,
              "#f0f921"
             ]
            ],
            "type": "surface"
           }
          ],
          "table": [
           {
            "cells": {
             "fill": {
              "color": "#EBF0F8"
             },
             "line": {
              "color": "white"
             }
            },
            "header": {
             "fill": {
              "color": "#C8D4E3"
             },
             "line": {
              "color": "white"
             }
            },
            "type": "table"
           }
          ]
         },
         "layout": {
          "annotationdefaults": {
           "arrowcolor": "#2a3f5f",
           "arrowhead": 0,
           "arrowwidth": 1
          },
          "autotypenumbers": "strict",
          "coloraxis": {
           "colorbar": {
            "outlinewidth": 0,
            "ticks": ""
           }
          },
          "colorscale": {
           "diverging": [
            [
             0,
             "#8e0152"
            ],
            [
             0.1,
             "#c51b7d"
            ],
            [
             0.2,
             "#de77ae"
            ],
            [
             0.3,
             "#f1b6da"
            ],
            [
             0.4,
             "#fde0ef"
            ],
            [
             0.5,
             "#f7f7f7"
            ],
            [
             0.6,
             "#e6f5d0"
            ],
            [
             0.7,
             "#b8e186"
            ],
            [
             0.8,
             "#7fbc41"
            ],
            [
             0.9,
             "#4d9221"
            ],
            [
             1,
             "#276419"
            ]
           ],
           "sequential": [
            [
             0,
             "#0d0887"
            ],
            [
             0.1111111111111111,
             "#46039f"
            ],
            [
             0.2222222222222222,
             "#7201a8"
            ],
            [
             0.3333333333333333,
             "#9c179e"
            ],
            [
             0.4444444444444444,
             "#bd3786"
            ],
            [
             0.5555555555555556,
             "#d8576b"
            ],
            [
             0.6666666666666666,
             "#ed7953"
            ],
            [
             0.7777777777777778,
             "#fb9f3a"
            ],
            [
             0.8888888888888888,
             "#fdca26"
            ],
            [
             1,
             "#f0f921"
            ]
           ],
           "sequentialminus": [
            [
             0,
             "#0d0887"
            ],
            [
             0.1111111111111111,
             "#46039f"
            ],
            [
             0.2222222222222222,
             "#7201a8"
            ],
            [
             0.3333333333333333,
             "#9c179e"
            ],
            [
             0.4444444444444444,
             "#bd3786"
            ],
            [
             0.5555555555555556,
             "#d8576b"
            ],
            [
             0.6666666666666666,
             "#ed7953"
            ],
            [
             0.7777777777777778,
             "#fb9f3a"
            ],
            [
             0.8888888888888888,
             "#fdca26"
            ],
            [
             1,
             "#f0f921"
            ]
           ]
          },
          "colorway": [
           "#636efa",
           "#EF553B",
           "#00cc96",
           "#ab63fa",
           "#FFA15A",
           "#19d3f3",
           "#FF6692",
           "#B6E880",
           "#FF97FF",
           "#FECB52"
          ],
          "font": {
           "color": "#2a3f5f"
          },
          "geo": {
           "bgcolor": "white",
           "lakecolor": "white",
           "landcolor": "#E5ECF6",
           "showlakes": true,
           "showland": true,
           "subunitcolor": "white"
          },
          "hoverlabel": {
           "align": "left"
          },
          "hovermode": "closest",
          "mapbox": {
           "style": "light"
          },
          "paper_bgcolor": "white",
          "plot_bgcolor": "#E5ECF6",
          "polar": {
           "angularaxis": {
            "gridcolor": "white",
            "linecolor": "white",
            "ticks": ""
           },
           "bgcolor": "#E5ECF6",
           "radialaxis": {
            "gridcolor": "white",
            "linecolor": "white",
            "ticks": ""
           }
          },
          "scene": {
           "xaxis": {
            "backgroundcolor": "#E5ECF6",
            "gridcolor": "white",
            "gridwidth": 2,
            "linecolor": "white",
            "showbackground": true,
            "ticks": "",
            "zerolinecolor": "white"
           },
           "yaxis": {
            "backgroundcolor": "#E5ECF6",
            "gridcolor": "white",
            "gridwidth": 2,
            "linecolor": "white",
            "showbackground": true,
            "ticks": "",
            "zerolinecolor": "white"
           },
           "zaxis": {
            "backgroundcolor": "#E5ECF6",
            "gridcolor": "white",
            "gridwidth": 2,
            "linecolor": "white",
            "showbackground": true,
            "ticks": "",
            "zerolinecolor": "white"
           }
          },
          "shapedefaults": {
           "line": {
            "color": "#2a3f5f"
           }
          },
          "ternary": {
           "aaxis": {
            "gridcolor": "white",
            "linecolor": "white",
            "ticks": ""
           },
           "baxis": {
            "gridcolor": "white",
            "linecolor": "white",
            "ticks": ""
           },
           "bgcolor": "#E5ECF6",
           "caxis": {
            "gridcolor": "white",
            "linecolor": "white",
            "ticks": ""
           }
          },
          "title": {
           "x": 0.05
          },
          "xaxis": {
           "automargin": true,
           "gridcolor": "white",
           "linecolor": "white",
           "ticks": "",
           "title": {
            "standoff": 15
           },
           "zerolinecolor": "white",
           "zerolinewidth": 2
          },
          "yaxis": {
           "automargin": true,
           "gridcolor": "white",
           "linecolor": "white",
           "ticks": "",
           "title": {
            "standoff": 15
           },
           "zerolinecolor": "white",
           "zerolinewidth": 2
          }
         }
        },
        "title": {
         "text": "Theme Network Visualization"
        },
        "width": 1000,
        "xaxis": {
         "showgrid": false,
         "showticklabels": false,
         "title": {
          "text": "X-axis"
         },
         "zeroline": false
        },
        "yaxis": {
         "showgrid": false,
         "showticklabels": false,
         "title": {
          "text": "Y-axis"
         },
         "zeroline": false
        }
       }
      }
     },
     "metadata": {},
     "output_type": "display_data"
    }
   ],
   "source": [
    "import json\n",
    "import networkx as nx\n",
    "import plotly.graph_objects as go\n",
    "import numpy as np\n",
    "\n",
    "\n",
    "def create_theme_network(data, min_confidence=70):\n",
    "    \"\"\"Create a network graph from themes with a minimum confidence level.\"\"\"\n",
    "    G = nx.Graph()\n",
    "\n",
    "\n",
    "    for item in data:\n",
    "        response = item.get('response')\n",
    "        if isinstance(response, str):\n",
    "            try:\n",
    "                response_data = json.loads(response)\n",
    "                themes = response_data.get('overall_themes', [])\n",
    "                \n",
    "                for theme in themes:\n",
    "                    confidence = theme.get('confidence', 0)\n",
    "                    if confidence >= min_confidence:\n",
    "                        theme_name = theme['name']\n",
    "                        sentiment_distribution = theme.get('sentiment_distribution', {})\n",
    "                        \n",
    "                        # Add theme node\n",
    "                        G.add_node(theme_name,\n",
    "                                   type='theme',\n",
    "                                   confidence=confidence,\n",
    "                                   sentiment_distribution=sentiment_distribution)\n",
    "            \n",
    "            except json.JSONDecodeError:\n",
    "                print(f\"Invalid JSON in response: {response}\")\n",
    "\n",
    "\n",
    "    return G\n",
    "\n",
    "\n",
    "def visualize_network(G):\n",
    "    \"\"\"Visualize themes based on confidence and sentiment.\"\"\"\n",
    "    # Create traces for themes\n",
    "    traces = []\n",
    "\n",
    "\n",
    "    # Function to determine node size based on confidence\n",
    "    def get_node_size(confidence):\n",
    "        return 5 + confidence / 10  # Adjust the scaling factor as needed\n",
    "\n",
    "\n",
    "    # Prepare node positions and sizes\n",
    "    nodes = list(G.nodes())\n",
    "    num_nodes = len(nodes)\n",
    "    \n",
    "    # Distribute nodes in a circular layout\n",
    "    angles = np.linspace(0, 2*np.pi, num_nodes)\n",
    "    x = np.cos(angles) * 5\n",
    "    y = np.sin(angles) * 5\n",
    "    \n",
    "    # Create trace\n",
    "    node_sizes = [get_node_size(G.nodes[node]['confidence']) for node in nodes]\n",
    "    \n",
    "    # Determine color based on sentiment\n",
    "    def get_node_color(sentiment_dist):\n",
    "        pos_pct = sentiment_dist.get('positive_percentage', 0)\n",
    "        neg_pct = sentiment_dist.get('negative_percentage', 0)\n",
    "        \n",
    "        if pos_pct == 100:\n",
    "            return 'rgb(0,255,0)'  # Bright Green for purely positive\n",
    "        elif neg_pct == 100:\n",
    "            return 'rgb(255,0,0)'  # Bright Red for purely negative\n",
    "        else:\n",
    "            # Mixed sentiment - interpolate between green and red\n",
    "            ratio = pos_pct / (pos_pct + neg_pct) if (pos_pct + neg_pct) > 0 else 0.5\n",
    "            return f'rgb({int(255*(1-ratio))},{int(255*ratio)},0)'\n",
    "\n",
    "\n",
    "    node_colors = [get_node_color(G.nodes[node]['sentiment_distribution']) for node in nodes]\n",
    "\n",
    "\n",
    "    theme_trace = go.Scatter(\n",
    "        x=x,\n",
    "        y=y,\n",
    "        mode='markers+text',\n",
    "        text=nodes,\n",
    "        textposition='bottom center',\n",
    "        hovertext=[\n",
    "            f\"Theme: {node}<br>\"\n",
    "            f\"Confidence: {G.nodes[node]['confidence']}%<br>\"\n",
    "            f\"Sentiment Distribution: Positive {G.nodes[node].get('sentiment_distribution', {}).get('positive_percentage', 0)}%, \"\n",
    "            f\"Negative {G.nodes[node].get('sentiment_distribution', {}).get('negative_percentage', 0)}%, \"\n",
    "            f\"Neutral {G.nodes[node].get('sentiment_distribution', {}).get('neutral_percentage', 0)}%\"\n",
    "            for node in nodes\n",
    "        ],\n",
    "        hoverinfo='text',\n",
    "        marker=dict(\n",
    "            size=node_sizes,\n",
    "            color=node_colors,\n",
    "            line=dict(width=1, color='black')\n",
    "        )\n",
    "    )\n",
    "    traces.append(theme_trace)\n",
    "\n",
    "\n",
    "    # Create figure\n",
    "    fig = go.Figure(data=traces)\n",
    "\n",
    "\n",
    "    # Update layout for better visualization\n",
    "    fig.update_layout(\n",
    "        title=\"Theme Network Visualization\",\n",
    "        showlegend=False,\n",
    "        hovermode='closest',\n",
    "        width=1000,\n",
    "        height=800,\n",
    "        xaxis=dict(\n",
    "            title=\"X-axis\",\n",
    "            showgrid=False,\n",
    "            zeroline=False,\n",
    "            showticklabels=False\n",
    "        ),\n",
    "        yaxis=dict(\n",
    "            title=\"Y-axis\",\n",
    "            showgrid=False,\n",
    "            zeroline=False,\n",
    "            showticklabels=False\n",
    "        ),\n",
    "        plot_bgcolor='rgb(240,240,240)',  # Light grey background\n",
    "    )\n",
    "\n",
    "\n",
    "    fig.show()\n",
    "\n",
    "\n",
    "# Example Usage\n",
    "if __name__ == \"__main__\":\n",
    "    # Load JSON data from file\n",
    "    def load_json_data(file_path):\n",
    "        try:\n",
    "            with open(file_path, 'r', encoding='utf-8') as file:\n",
    "                return json.load(file)\n",
    "        except Exception as e:\n",
    "            print(f\"Error loading JSON file: {e}\")\n",
    "            return []\n",
    "\n",
    "\n",
    "    # Load the JSON data\n",
    "    data = load_json_data('label_0.json')  # Replace with your actual file path\n",
    "\n",
    "\n",
    "    # Create and visualize the graph\n",
    "    graph = create_theme_network(data, min_confidence=70)\n",
    "    visualize_network(graph)"
   ]
  },
  {
   "cell_type": "code",
   "execution_count": 31,
   "metadata": {},
   "outputs": [
    {
     "name": "stdout",
     "output_type": "stream",
     "text": [
      "Invalid JSON in response: {\"overall_themes\": [{\"name\": \"Tesla Cybertruck\", \"confidence\": 100, \"sentiment_distribution\": {\"positive_percentage\": 70, \"negative_percentage\": 20, \"neutral_percentage\": 10}}, {\"name\": \"Buying Decisions and Value\", \"confidence\": 90, \"sentiment_distribution\": {\"positive_percentage\": 40, \"negative_percentage\": 30, \"neutral_percentage\": 30}}, {\"name\": \"Design and Features\", \"confidence\": 80, \"sentiment_distribution\": {\"positive_percentage\": 60, \"negative_percentage\": 20, \"neutral_percentage\": 20}}, {\"name\": \"Adventure and Travel\", \"confidence\": 70, \"sentiment_distribution\": {\"positive_percentage\": 80, \"negative_percentage\": 10, \"neutral_percentage\": 10}}, {\"name\": \"Qatar and Global Availability\", \"confidence\": 60, \"sentiment_distribution\": {\"positive_percentage\": 50, \"negative_percentage\": 20, \"neutral_percentage\": 30}}, {\"name\": \"Comparisons and Alternatives\", \"confidence\": 80, \"sentiment_distribution\": {\"positive_percentage\": 50, \"negative_percentage\": 30, \"neutral_percentage\": 20}}, {\"name\": \"Cybertruck Performance and Capability\", \"confidence\": 90, \"sentiment_distribution\": {\"positive_percentage\": 80, \"negative_percentage\": 10, \"neutral_percentage\": 10}}, {\"name\": \"Cybertruck Design and Aesthetics\", \"confidence\": 80, \"sentiment_distribution\": {\"positive_percentage\": 60, \"negative_percentage\": 20, \"neutral_percentage\": 20}}], \"metadata\": {\"total_tweets_analyzed\": 8, \"dominant_sentiment\": \"positive\", \"language_distribution\": {\"en\": 100, \"__na__\": 0, \"und\": 0, \"spa\": 0, \"fra\": 0, \"deu\": 0, \"por\": 0, \"rus\": 0, \"ara\": 0, \"chs\": 0, \"kor\": 0, \"jpn\": 0, \"cht\": 0, \"tur\": 0, \"th\": 0, \"chi\": 0, \"he\": 0, \"ita\": 0, \"dan\": 0, \"fin\": 0, \"nld\": 0, \"pol\": 0, \"ptg\": 0, \"swe\": 0, \"cze\": 0, \"hun\": 0, \"slk\": 0, \"gre\": 0, \"lav\": 0, \"lit\": 0, \"mlt\": 0, \"vie\": 0, \"ukr\": 0, \"bel\": 0, \"est\": 0, \"ltz\": 0, \"lat\": 0, \"fas\": 0, \"tib\": 0, \"tai\": 0, \"msa\": 0, \"sin\": 0, \"eus\": 0, \"cat\": 0, \"nep\": 0, \"ori\": 0, \"tam\": 0, \"tel\": 0, \"san\": 0, \"nno\": 0, \"glg\": 0, \"ind\": 0, \"urd\": 0, \"tam\": 0, \"srd\": 0, \"mlt\": 0, \"sqi\": 0, \"mkd\": 0, \"tgl\": 0, \"tgk\": 0, \"sin\": 0, \"tgk\": 0, \"sin\": 0, \"tgk\": 0, \"tet\": 0, \"tgk\": 0, \"tgk\": 0, \"tgk\": 0, \"tgk\": 0, \"tgk\": 0, \"tgk\": 0, \"tgk\": 0, \"tgk\": 0, \"tgk\": 0, \"tgk\": 0, \"tgk\": 0, \"tgk\": 0, \"tgk\": 0, \"tgk\": 0, \"tgk\": 0, \"tgk\": 0, \"tgk\": 0, \"tgk\": 0, \"tgk\": 0, \"tgk\": 0, \"tgk\": 0, \"tgk\": 0, \"tgk\": 0, \"tgk\": 0, \"tgk\": 0, \"tgk\": 0, \"tgk\": 0, \"tgk\": 0, \"tgk\": 0, \"tgk\": 0, \"tgk\": 0, \"tgk\": 0, \"tgk\": 0, \"tgk\": 0, \"tgk\": 0, \"tgk\": 0, \"tgk\": 0, \"tgk\": 0, \"tgk\": 0, \"tgk\": 0, \"tgk\": 0, \"tgk\": 0, \"tgk\": 0, \"tgk\": 0, \"tgk\": 0, \"tgk\": 0, \"tgk\": 0, \"tgk\": 0, \"tgk\": 0, \"tgk\": 0, \"tgk\": 0, \"tgk\": 0, \"tgk\": 0, \"tgk\": 0, \"tgk\": 0, \"tgk\": 0, \"tgk\": 0, \"tgk\": 0, \"tgk\": 0, \"tgk\": 0, \"tgk\": 0, \"tgk\": 0, \"tgk\": 0, \"tgk\": 0, \"tgk\": 0, \"tgk\": 0, \"tgk\": 0, \"tgk\": 0, \"tgk\": 0, \"tgk\": 0, \"tgk\": 0, \"tgk\": 0, \"tgk\": 0, \"tgk\": 0, \"tgk\": 0, \"tgk\": 0, \"tgk\": 0, \"tgk\": 0, \"tgk\": 0, \"tgk\": 0, \"tgk\": 0, \"tgk\": 0, \"tgk\": 0, \"tgk\": 0, \"tgk\": 0, \"tgk\": 0, \"tgk\": 0, \"tgk\": 0, \"tgk\": 0, \"tgk\": 0, \"tgk\": 0, \"tgk\": 0, \"tgk\": 0, \"tgk\": 0, \"tgk\": 0, \"tgk\": 0, \"tgk\": 0, \"tgk\": 0, \"tgk\": 0, \"tgk\": 0, \"tgk\": 0, \"tgk\": 0, \"tgk\": 0, \"tgk\": 0, \"tgk\": 0, \"tgk\": 0, \"tgk\": 0, \"tgk\": 0, \"tgk\": 0, \"tgk\": 0, \"tgk\": 0, \"tgk\": 0, \"tgk\": 0, \"tgk\": 0, \"tgk\": 0, \"tgk\": 0, \"tgk\": 0, \"tgk\": 0, \"tgk\": 0, \"tgk\": 0, \"tgk\": 0, \"tgk\": 0, \"tgk\": 0, \"tgk\": 0, \"tgk\": 0, \"tgk\": 0, \"tgk\": 0, \"tgk\": 0, \"tgk\": 0, \"tgk\": 0, \"tgk\": 0, \"tgk\": 0, \"tgk\": 0, \"tgk\": 0, \"tgk\": 0, \"tgk\": 0, \"tgk\": 0, \"tgk\": 0, \"tgk\": 0, \"tgk\": 0, \"tgk\": 0, \"tgk\": 0, \"tgk\": 0, \"tgk\": 0, \"tgk\": 0, \"tgk\": 0, \"tgk\": 0, \"tgk\": 0, \"tgk\": 0, \"tgk\": 0, \"tgk\": 0, \"tgk\": 0, \"tgk\": 0, \"tgk\": 0, \"tgk\": 0, \"tgk\": 0, \"tgk\": 0, \"tgk\": 0, \"tgk\": 0, \"tgk\": 0, \"tgk\": 0, \"tgk\": 0, \"tgk\": 0, \"tgk\": 0, \"tgk\": 0, \"tgk\": 0, \"tgk\": 0, \"tgk\": 0, \"tgk\": 0, \"tgk\": 0, \"tgk\": 0, \"tgk\": 0, \"tgk\": 0, \"tgk\": 0, \"tgk\": 0, \"tgk\": 0, \"tgk\": 0, \"tgk\": 0, \"tgk\": 0, \"tgk\": 0, \"tgk\": 0, \"tgk\": 0, \"tgk\": 0, \"tgk\": 0, \"tgk\": 0, \"tgk\": 0, \"tgk\": 0, \"tgk\": 0, \"tgk\": 0, \"tgk\": 0, \"tgk\": 0, \"tgk\": 0, \"tgk\": 0, \"tgk\": 0, \"tgk\": 0, \"tgk\": 0, \"tgk\": 0, \"tgk\": 0, \"tgk\": 0, \"tgk\": 0, \"tgk\": 0, \"tgk\": 0, \"tgk\": 0, \"tgk\": 0, \"tgk\": 0, \"tgk\": 0, \"tgk\": 0, \"tgk\": 0, \"tgk\": 0, \"tgk\": 0, \"tgk\": 0, \"tgk\": 0, \"tgk\": 0, \"tgk\": 0, \"tgk\": 0, \"tgk\": 0, \"tgk\": 0, \"tgk\": 0, \"tgk\": 0, \"tgk\": 0, \"tgk\": 0, \"tgk\": 0, \"tgk\": 0, \"tgk\": 0, \"tgk\": 0, \"tgk\": 0, \"tgk\": 0, \"tgk\": 0, \"tgk\": 0, \"tgk\": 0, \"tgk\": 0, \"tgk\": 0, \"tgk\": 0, \"tgk\": 0, \"tgk\": 0, \"tgk\": 0, \"tgk\": 0, \"tgk\": 0, \"tgk\": 0, \"tgk\": 0, \"tgk\": 0, \"tgk\": 0, \"tgk\": 0, \"tgk\": 0, \"tgk\": 0, \"tgk\": 0, \"tgk\": 0, \"tgk\": 0, \"tgk\": 0, \"tgk\": 0, \"tgk\": 0, \"tgk\": 0, \"tgk\": 0, \"tgk\": 0, \"tgk\": 0, \"tgk\": 0, \"tgk\": 0, \"tgk\": 0, \"tgk\": 0, \"tgk\": 0, \"tgk\": 0, \"tgk\": 0, \"tgk\": 0, \"tgk\": 0, \"tgk\": 0, \"tgk\": 0, \"tgk\": 0, \"tgk\": 0, \"tgk\": 0, \"tgk\": 0, \"tgk\": 0, \"tgk\": 0, \"tgk\": 0, \"tgk\": 0, \"tgk\": 0, \"tgk\": 0, \"tgk\": 0, \"tgk\": 0, \"tgk\": 0, \"tgk\": 0, \"tgk\": 0, \"tgk\": 0, \"tgk\": 0, \"tgk\": 0, \"tgk\": 0, \"tgk\": 0, \"tgk\": 0, \"tgk\": 0, \"tgk\": 0, \"tgk\": 0, \"tgk\": 0, \"tgk\": 0, \"tgk\": 0, \"tgk\": 0, \"tgk\": 0, \"tgk\": 0, \"tgk\": 0, \"tgk\": 0, \"tgk\": 0, \"tgk\": 0, \"tgk\": 0, \"tgk\": 0, \"tgk\": 0, \"tgk\": 0, \"tgk\": 0, \"tgk\": 0, \"tgk\": 0, \"tgk\": 0, \"tgk\": 0, \"tgk\": 0, \"tgk\": 0, \"tgk\": 0, \"tgk\": 0, \"tgk\": 0, \"tgk\": 0, \"tgk\": 0, \"tgk\": 0, \"tgk\": 0, \"tgk\": 0, \"tgk\": 0, \"tgk\": 0, \"tgk\": 0, \"tgk\": 0, \"tgk\": 0, \"tgk\": 0, \"tgk\": 0, \"tgk\": 0, \"tgk\": 0, \"tgk\": 0, \"tgk\": 0, \"tgk\": 0, \"tgk\": 0, \"tgk\": 0, \"tgk\": 0, \"tgk\": 0, \"tgk\": 0, \"tgk\": 0, \"tgk\": 0, \"tgk\": 0, \"tgk\": 0, \"tgk\": 0, \"tgk\": 0, \"tgk\": 0, \"tgk\": 0, \"tgk\": 0, \"tgk\": 0, \"tgk\": 0, \"tgk\": 0, \"tgk\": 0, \"tgk\": 0, \"tgk\": 0, \"tgk\": 0, \"tgk\": 0, \"tgk\": 0, \"tgk\": 0, \"tgk\": 0, \"tgk\": 0, \"tgk\": 0, \"tgk\": 0, \"tgk\": 0, \"tgk\": 0, \"tgk\": 0, \"tgk\": 0, \"tgk\": 0, \"tgk\": 0, \"tgk\": 0, \"tgk\": 0, \"tgk\": 0, \"tgk\": 0, \"tgk\": 0, \"tgk\": 0, \"tgk\": 0, \"tgk\": 0, \"tgk\": 0, \"tgk\": 0, \"tgk\": 0, \"tgk\": 0, \"tgk\": 0, \"tgk\": 0, \"tgk\": 0, \"tgk\": 0, \"tgk\": 0, \"tgk\": 0, \"tgk\": 0, \"tgk\": 0, \"tgk\": 0, \"tgk\": 0, \"tgk\": 0, \"tgk\": 0, \"tgk\": 0, \"tgk\": 0, \"tgk\": 0, \"tgk\": 0, \"tgk\": 0, \"tgk\": 0, \"tgk\": 0, \"tgk\": 0, \"tgk\": 0, \"tgk\": 0, \"tgk\": 0, \"tgk\": 0, \"tgk\": 0, \"tgk\": 0, \"tgk\": 0, \"tgk\": 0, \"tgk\": 0, \"tgk\": 0, \"tgk\": 0, \"tgk\": 0, \"tgk\": 0, \"tgk\": 0, \"tgk\": 0, \"tgk\": 0, \"tgk\": 0, \"tgk\": 0, \"tgk\": 0, \"tgk\": 0, \"tgk\": 0, \"tgk\": 0, \"tgk\": 0, \"tgk\": 0, \"tgk\": 0, \"tgk\": 0, \"tgk\": 0, \"tgk\": 0, \"tgk\": 0, \"tgk\": 0, \"tgk\": 0, \"tgk\": 0, \"tgk\": 0, \"tgk\": 0, \"tgk\": 0, \"tgk\": 0, \"tgk\": 0, \"tgk\": 0, \"tgk\": 0, \"tgk\": 0, \"tgk\": 0, \"tgk\": 0, \"tgk\": 0, \"tgk\": 0, \"tgk\": 0, \"tgk\": 0, \"tgk\": 0, \"tgk\": 0, \"tgk\": 0, \"tgk\": 0, \"tgk\": 0, \"tgk\": 0, \"tgk\": 0, \"tgk\": 0, \"tgk\": 0, \"tgk\": 0, \"tgk\": 0, \"tgk\": 0, \"tgk\": 0, \"tgk\": 0, \"tgk\": 0, \"tgk\": 0, \"tgk\": 0, \"tgk\": 0, \"tgk\": 0, \"tgk\": 0, \"tgk\": 0, \"tgk\": 0, \"tgk\": 0, \"tgk\": 0, \"tgk\": 0, \"tgk\": 0, \"tgk\": 0, \"tgk\": 0, \"tgk\": 0, \"tgk\": 0, \"tgk\": 0, \"tgk\": 0, \"tgk\": 0, \"tgk\": 0, \"tgk\": 0, \"tgk\": 0, \"tgk\": 0, \"tgk\": 0, \"tgk\": 0, \"tgk\": 0, \"tgk\": 0, \"tgk\": 0, \"tgk\": 0, \"tgk\": 0, \"tgk\": 0, \"tgk\": 0, \"tgk\": 0, \"tgk\": 0, \"tgk\": 0, \"tgk\": 0, \"tgk\": 0, \"tgk\": 0, \"tgk\": 0, \"tgk\": 0, \"tgk\": 0, \"tgk\": 0, \"tgk\": 0, \"tgk\": 0, \"tgk\": 0, \"tgk\": 0, \"tgk\": 0, \"tgk\": 0, \"tgk\": 0, \"tgk\": 0, \"tgk\": 0, \"tgk\": 0, \"tgk\": 0, \"tgk\": 0, \"tgk\": 0, \"tgk\": 0, \"tgk\": 0, \"tgk\": 0, \"tgk\": 0, \"tgk\": 0, \"tgk\": 0, \"tgk\": 0, \"tgk\": 0, \"tgk\": 0, \"tgk\": 0, \"tgk\": 0, \"tgk\": 0, \"tgk\": 0, \"tgk\": 0, \"tgk\": 0, \"tgk\": 0, \"tgk\": 0, \"tgk\": 0, \"tgk\": 0, \"tgk\": 0, \"tgk\": 0, \"tgk\": 0, \"tgk\": 0, \"tgk\": 0, \"tgk\": 0, \"tgk\": 0, \"tgk\": 0, \"tgk\": 0, \"tgk\": 0, \"tgk\": 0, \"tgk\": 0, \"tgk\": 0, \"tgk\": 0, \"tgk\": 0, \"tgk\": 0, \"tgk\": 0, \"tgk\": 0, \"tgk\": 0, \"tgk\": 0, \"tgk\": 0, \"tgk\": 0, \"tgk\": 0, \"tgk\": 0, \"tgk\": 0, \"tgk\": 0, \"tgk\": 0, \"tgk\": 0, \"tgk\": 0, \"tgk\": 0, \"tgk\": 0, \"tgk\": 0, \"tgk\": 0, \"tgk\": 0, \"tgk\": 0, \"tgk\": 0, \"tgk\": 0, \"tgk\": 0, \"tgk\": 0, \"tgk\": 0, \"tgk\": 0, \"tgk\": 0, \"tgk\": 0, \"tgk\": 0, \"tgk\": 0, \"tgk\": 0, \"tgk\": 0, \"tgk\": 0, \"tgk\": 0, \"tgk\": 0, \"tgk\": 0, \"tgk\": 0, \"tgk\": 0, \"tgk\": 0, \"tgk\": 0, \"tgk\": 0, \"tgk\": 0, \"tgk\": 0, \"tgk\": 0, \"tgk\": 0, \"tgk\": 0, \"tgk\": 0, \"tgk\": 0, \"tgk\": 0, \"tgk\": 0, \"tgk\": 0, \"tgk\": 0, \"tgk\": 0, \"tgk\": 0, \"tgk\": 0, \"tgk\": 0, \"tgk\": 0, \"tgk\": 0, \"tgk\": 0, \"tgk\": 0, \"tgk\": 0, \"tgk\": 0, \"tgk\": 0, \"tgk\": 0, \"tgk\": 0, \"tgk\": 0, \"tgk\": 0, \"tgk\": 0, \"tgk\": 0, \"tgk\": 0, \"tgk\": 0, \"tgk\": 0, \"tgk\": 0, \"tgk\": 0, \"tgk\": 0, \"tgk\": 0, \"tgk\": 0, \"tgk\": 0, \"tgk\": 0, \"tgk\": 0, \"tgk\": 0, \"tgk\": 0, \"tgk\": 0, \"tgk\": 0, \"tgk\": 0, \"tgk\": 0, \"tgk\": 0, \"tgk\": 0, \"tgk\": 0, \"tgk\": 0, \"tgk\": 0, \"tgk\": 0, \"tgk\": 0, \"tgk\": 0, \"tgk\": 0, \"tgk\": 0, \"tgk\": 0, \"tgk\": 0, \"tgk\": 0, \"tgk\": 0, \"tgk\": 0, \"tgk\": 0, \"tgk\": 0, \"tgk\": 0, \"tgk\": 0, \"tgk\": 0, \"tgk\": 0, \"tgk\": 0, \"tgk\": 0, \"tgk\": 0, \"tgk\": 0, \"tgk\": 0, \"tgk\": 0, \"tgk\": 0, \"tgk\": 0, \"tgk\": 0, \"tgk\": 0, \"tgk\": 0, \"tgk\": 0, \"tgk\": 0, \"tgk\": 0, \"tgk\": 0, \"tgk\": 0, \"tgk\": 0, \"tgk\": 0, \"tgk\": 0, \"tgk\": 0, \"tgk\": 0, \"tgk\": 0, \"tgk\": 0, \"tgk\": 0, \"tgk\": 0, \"tgk\": 0, \"tgk\": 0, \"tgk\": 0, \"tgk\": 0, \"tgk\": 0, \"tgk\": 0, \"tgk\": 0, \"tgk\": 0, \"tgk\": 0, \"tgk\": 0, \"tgk\": 0, \"tgk\": 0, \"tgk\": 0, \"tgk\": 0, \"tgk\": 0, \"tgk\": 0, \"tgk\": 0, \"tgk\": 0, \"tgk\": 0, \"tgk\": 0, \"tgk\": 0, \"tgk\": 0, \"tgk\": 0, \"tgk\": 0, \"tgk\": 0, \"tgk\": 0, \"tgk\": 0, \"tgk\": 0, \"tgk\": 0, \"tgk\": 0, \"tgk\": 0, \"tgk\": 0, \"tgk\": 0, \"tgk\": 0, \"tgk\": 0, \"tgk\": 0, \"tgk\": 0, \"tgk\": 0, \"tgk\": 0, \"tgk\": 0, \"tgk\": 0, \"tgk\": 0, \"tgk\": 0, \"tgk\": 0, \"tgk\": 0, \"tgk\": 0, \"tgk\": 0, \"tgk\": 0, \"tgk\": 0, \"tgk\": 0, \"tgk\": 0, \"tgk\": 0, \"tgk\": 0, \"tgk\": 0, \"tgk\": 0, \"tgk\": 0, \"tgk\": 0, \"tgk\": 0, \"tgk\": 0, \"tgk\": 0, \"tgk\": 0, \"tgk\": 0, \"tgk\": 0, \"tgk\": 0, \"tgk\": 0, \"tgk\": 0, \"tgk\": 0, \"tgk\": 0, \"tgk\": 0, \"tgk\": 0, \"tgk\": 0, \"tgk\": 0, \"tgk\": 0, \"tgk\": 0, \"tgk\": 0, \"tgk\": 0, \"tgk\": 0, \"tgk\": 0, \"tgk\": 0, \"tgk\": 0, \"tgk\": 0, \"tgk\": 0, \"tgk\": 0, \"tgk\": 0, \"tgk\": 0, \"tgk\": 0, \"tgk\": 0, \"tgk\": 0, \"tgk\": 0, \"tgk\": 0, \"tgk\": 0, \"tgk\": 0, \"tgk\": 0, \"tgk\": 0, \"tgk\": 0, \"tgk\": 0, \"tgk\": 0, \"tgk\": 0, \"tgk\": 0, \"tgk\": 0, \"tgk\": 0, \"tgk\": 0, \"tgk\": 0, \"tgk\": 0, \"tgk\": 0, \"tgk\": 0, \"tgk\": 0, \"tgk\": 0, \"tgk\": 0, \"tgk\": 0, \"tgk\": 0, \"tgk\": 0, \"tgk\": 0, \"tgk\": 0, \"tgk\": 0, \"tgk\": 0, \"tgk\": 0, \"tgk\": 0, \"tgk\": 0, \"tgk\": 0, \"tgk\": 0, \"tgk\": 0, \"tgk\": 0, \"tgk\": 0, \"tgk\": 0, \"tgk\": 0, \"tgk\": 0, \"tgk\": 0, \"tgk\": 0, \"tgk\": 0, \"tgk\": 0, \"tgk\": 0, \"tgk\": 0, \"tgk\": 0, \"tgk\": 0, \"tgk\": 0, \"tgk\": 0, \"tgk\": 0, \"tgk\": 0, \"tgk\": 0, \"tgk\": 0, \"tgk\": 0, \"tgk\": 0, \"tgk\": 0, \"tgk\": 0, \"tgk\": 0, \"tgk\": 0, \"tgk\": 0, \"tgk\": 0, \"tgk\": 0, \"tgk\": 0, \"tgk\": 0, \"tgk\": 0, \"tgk\": 0, \"tgk\": 0, \"tgk\": 0, \"tgk\": 0, \"tgk\": 0, \"tgk\": 0, \"tgk\": 0, \"tgk\": 0, \"tgk\": 0, \"tgk\": 0, \"tgk\": 0, \"tgk\": 0, \"tgk\": 0, \"tgk\": 0, \"tgk\": 0, \"tgk\": 0, \"tgk\": 0, \"tgk\": 0, \"tgk\": 0, \"tgk\": 0, \"tgk\": 0, \"tgk\": 0, \"tgk\": 0, \"tgk\": 0, \"tgk\": 0, \"tgk\": 0, \"tgk\": 0, \"tgk\": 0, \"tgk\": 0, \"tgk\": 0, \"tgk\": 0, \"tgk\": 0, \"tgk\": 0, \"tgk\": 0, \"tgk\": 0, \"tgk\": 0, \"tgk\": 0, \"tgk\": 0, \"tgk\": 0, \"tgk\": 0, \"tgk\": 0, \"tgk\": 0, \"tgk\": 0, \"tgk\": 0, \"tgk\": 0, \"tgk\": 0, \"tgk\": 0, \"tgk\": 0, \"tgk\": 0, \"tgk\": 0, \"tgk\": 0, \"tgk\": 0, \"tgk\": 0, \"tgk\": 0, \"tgk\": 0, \"tgk\": 0, \"tgk\": 0, \"tgk\": 0, \"tgk\": 0, \"tgk\": 0, \"tgk\": 0, \"tgk\": 0, \"tgk\": 0, \"tgk\": 0, \"tgk\": 0, \"tgk\": 0, \"tgk\": 0, \"tgk\": 0, \"tgk\": 0, \"tgk\": 0, \"tgk\": 0, \"tgk\": 0, \"tgk\": 0, \"tgk\": 0, \"tgk\": 0, \"tgk\": 0, \"tgk\": 0, \"tgk\": 0, \"tgk\": 0, \"tgk\": 0, \"tgk\": 0, \"tgk\": 0, \"tgk\": 0, \"tgk\": 0, \"tgk\": 0, \"tgk\": 0, \"tgk\": 0, \"tgk\": 0, \"tgk\": 0, \"tgk\": 0, \"tgk\": 0, \"tgk\": 0, \"tgk\": 0, \"tgk\": 0, \"tgk\": 0, \"tgk\": 0, \"tgk\": 0, \"tgk\": 0, \"tgk\": 0, \"tgk\": 0, \"tgk\": 0, \"tgk\": 0, \"tgk\": 0, \"tgk\": 0, \"tgk\": 0, \"tgk\": 0, \"tgk\": 0, \"tgk\": 0, \"tgk\": 0, \"tgk\": 0, \"tgk\": 0, \"tgk\": 0, \"tgk\": 0, \"tgk\": 0, \"tgk\": 0, \"tgk\": 0, \"tgk\": 0, \"tgk\": 0, \"tgk\": 0, \"tgk\": 0, \"tgk\": 0, \"tgk\": 0, \"tgk\": 0, \"tgk\": 0, \"tgk\": 0, \"tgk\": 0, \"tgk\": 0, \"tgk\": 0, \"tgk\": 0, \"tgk\": 0, \"tgk\": 0, \"tgk\": 0, \"tgk\": 0, \"tgk\": 0, \"tgk\": 0, \"tgk\": 0, \"tgk\": 0, \"tgk\": 0, \"tgk\": 0, \"tgk\": 0, \"tgk\": 0, \"tgk\": 0, \"tgk\": 0, \"tgk\": 0, \"tgk\": 0, \"tgk\": 0, \"tgk\": 0, \"tgk\": 0, \"tgk\": 0, \"tgk\": 0, \"tgk\": 0, \"tgk\": 0, \"tgk\": 0, \"tgk\": 0, \"tgk\": 0, \"tgk\": 0, \"tgk\": 0, \"tgk\": 0, \"tgk\": 0, \"tgk\": 0, \"tgk\": 0, \"tgk\": 0, \"tgk\": 0, \"tgk\": 0, \"tgk\": 0, \"tgk\": 0, \"tgk\": 0, \"tgk\": 0, \"tgk\": 0, \"tgk\": 0, \"tgk\": 0, \"tgk\": 0, \"tgk\": 0, \"tgk\": 0, \"tgk\": 0, \"tgk\": 0, \"tgk\": 0, \"tgk\": 0, \"tgk\": 0, \"tgk\": 0, \"tgk\": 0, \"tgk\": 0, \"tgk\": 0, \"tgk\": 0, \"tgk\": 0, \"tgk\": 0, \"tgk\": 0, \"tgk\": 0, \"tgk\": 0, \"tgk\": 0, \"tgk\": 0, \"tgk\": 0, \"tgk\": 0, \"tgk\": 0, \"tgk\": 0, \"tgk\": 0, \"tgk\": 0, \"tgk\": 0, \"tgk\": 0, \"tgk\": 0, \"tgk\": 0, \"tgk\": 0, \"tgk\": 0, \"tgk\": 0, \"tgk\": 0, \"tgk\": 0, \"tgk\": 0, \"tgk\": 0, \"tgk\": 0, \"tgk\": 0, \"tgk\": 0, \"tgk\": 0, \"tgk\": 0, \"tgk\": 0, \"tgk\": 0, \"tgk\": 0, \"tgk\": 0, \"tgk\": 0, \"tgk\": 0, \"tgk\": 0, \"tgk\": 0, \"tgk\": 0, \"tgk\": 0, \"tgk\": 0, \"tgk\": 0, \"tgk\": 0, \"tgk\": \n",
      "Total Themes (90%+ Confidence): 37\n",
      "Bot Themes: 26\n",
      "Non-Bot Themes: 10\n",
      "Mixed Themes: 1\n"
     ]
    },
    {
     "data": {
      "application/vnd.plotly.v1+json": {
       "config": {
        "plotlyServerURL": "https://plot.ly"
       },
       "data": [
        {
         "hoverinfo": "text",
         "hovertext": [
          "Theme: Tesla Discussion<br>Type: Bot Themes<br>Confidence: 100%<br>Keywords: <br>Sentiments:<br>Positive: 66.67%<br>Negative: 33.33%<br>Neutral: 0%",
          "Theme: Optimus and Tesla Technology<br>Type: Bot Themes<br>Confidence: 100%<br>Keywords: <br>Sentiments:<br>Positive: 100%<br>Negative: 0%<br>Neutral: 0%",
          "Theme: Tesla as a Gift<br>Type: Bot Themes<br>Confidence: 100%<br>Keywords: <br>Sentiments:<br>Positive: 66.67%<br>Negative: 33.33%<br>Neutral: 0%",
          "Theme: Tesla Products and Colors<br>Type: Bot Themes<br>Confidence: 100%<br>Keywords: <br>Sentiments:<br>Positive: 100%<br>Negative: 0%<br>Neutral: 0%",
          "Theme: Personal Experiences and Safety<br>Type: Bot Themes<br>Confidence: 100%<br>Keywords: <br>Sentiments:<br>Positive: 100%<br>Negative: 0%<br>Neutral: 0%",
          "Theme: Tesla Technology and Innovation<br>Type: Bot Themes<br>Confidence: 97%<br>Keywords: <br>Sentiments:<br>Positive: 100%<br>Negative: 0%<br>Neutral: 0%",
          "Theme: Tesla Vehicles and Design<br>Type: Bot Themes<br>Confidence: 95%<br>Keywords: <br>Sentiments:<br>Positive: 100%<br>Negative: 0%<br>Neutral: 0%",
          "Theme: Tesla Community and Interactions<br>Type: Bot Themes<br>Confidence: 90%<br>Keywords: <br>Sentiments:<br>Positive: 100%<br>Negative: 0%<br>Neutral: 0%",
          "Theme: Investment and Financial Performance<br>Type: Bot Themes<br>Confidence: 90%<br>Keywords: <br>Sentiments:<br>Positive: 80%<br>Negative: 10%<br>Neutral: 10%",
          "Theme: Model Y Upgrades<br>Type: Bot Themes<br>Confidence: 100%<br>Keywords: <br>Sentiments:<br>Positive: 80%<br>Negative: 10%<br>Neutral: 10%",
          "Theme: Model Y Reliability<br>Type: Bot Themes<br>Confidence: 90%<br>Keywords: <br>Sentiments:<br>Positive: 95%<br>Negative: 2%<br>Neutral: 3%",
          "Theme: Tesla Model Y's Success<br>Type: Bot Themes<br>Confidence: 90%<br>Keywords: <br>Sentiments:<br>Positive: 80%<br>Negative: 10%<br>Neutral: 10%",
          "Theme: Tesla Model Y Juniper<br>Type: Bot Themes<br>Confidence: 100%<br>Keywords: <br>Sentiments:<br>Positive: 50%<br>Negative: 20%<br>Neutral: 30%",
          "Theme: Tesla Vehicles<br>Type: Bot Themes<br>Confidence: 90%<br>Keywords: <br>Sentiments:<br>Positive: 60%<br>Negative: 10%<br>Neutral: 30%",
          "Theme: Tesla Safety Rating<br>Type: Bot Themes<br>Confidence: 95%<br>Keywords: <br>Sentiments:<br>Positive: 85%<br>Negative: 5%<br>Neutral: 10%",
          "Theme: Tesla Regulatory Incentives<br>Type: Bot Themes<br>Confidence: 90%<br>Keywords: <br>Sentiments:<br>Positive: 65%<br>Negative: 15%<br>Neutral: 20%",
          "Theme: Tesla Model 3 Performance and Features<br>Type: Bot Themes<br>Confidence: 100%<br>Keywords: <br>Sentiments:<br>Positive: 85%<br>Negative: 5%<br>Neutral: 10%",
          "Theme: Tesla Model 3 Safety and Durability<br>Type: Bot Themes<br>Confidence: 95%<br>Keywords: <br>Sentiments:<br>Positive: 90%<br>Negative: 5%<br>Neutral: 5%",
          "Theme: Model 3 Updates and Improvements<br>Type: Bot Themes<br>Confidence: 95%<br>Keywords: <br>Sentiments:<br>Positive: 80%<br>Negative: 10%<br>Neutral: 10%",
          "Theme: Model 3 Updates and Enhancements<br>Type: Bot Themes<br>Confidence: 95%<br>Keywords: Model 3, Refreshed, Aesthetic enhancements, Increased range, Upgraded features<br>Sentiments:<br>Positive: 66.7%<br>Negative: 0%<br>Neutral: 33.3%",
          "Theme: Model 3 Performance and Features<br>Type: Bot Themes<br>Confidence: 90%<br>Keywords: Model 3, Performance, Features, Range, Speed<br>Sentiments:<br>Positive: 58.3%<br>Negative: 16.7%<br>Neutral: 25%",
          "Theme: Tesla Model 3 Review<br>Type: Bot Themes<br>Confidence: 90%<br>Keywords: <br>Sentiments:<br>Positive: 50%<br>Negative: 0%<br>Neutral: 50%",
          "Theme: Cybertruck vs Other Vehicles<br>Type: Bot Themes<br>Confidence: 90%<br>Keywords: <br>Sentiments:<br>Positive: 0%<br>Negative: 100%<br>Neutral: 0%",
          "Theme: Cybertruck Impression and Reviews<br>Type: Bot Themes<br>Confidence: 95%<br>Keywords: <br>Sentiments:<br>Positive: 50%<br>Negative: 30%<br>Neutral: 20%",
          "Theme: Public Perception and Satire<br>Type: Bot Themes<br>Confidence: 90%<br>Keywords: <br>Sentiments:<br>Positive: 0%<br>Negative: 70%<br>Neutral: 30%",
          "Theme: Cybertruck Performance and Features<br>Type: Bot Themes<br>Confidence: 95%<br>Keywords: <br>Sentiments:<br>Positive: 80%<br>Negative: 10%<br>Neutral: 10%"
         ],
         "marker": {
          "color": "rgb(255,0,0)",
          "line": {
           "color": "black",
           "width": 1
          },
          "size": [
           15,
           15,
           15,
           15,
           15,
           14.7,
           14.5,
           14,
           14,
           15,
           14,
           14,
           15,
           14,
           14.5,
           14,
           15,
           14.5,
           14.5,
           14.5,
           14,
           14,
           14,
           14.5,
           14,
           14.5
          ]
         },
         "mode": "markers",
         "name": "Bot Themes",
         "type": "scatter",
         "x": [
          -4.173967993224134,
          -6.258476570529715,
          -5.012717516264152,
          -5.515669429249197,
          -5.643454397091089,
          -6.520859131371875,
          -2.4540659444601483,
          -4.909944261661202,
          -3.844804485157737,
          -6.902924966195932,
          -4.151034091233011,
          -5.84878486471335,
          -4.620441084056437,
          -4.8455182974332205,
          -5.360280614187134,
          -3.984064136910492,
          -4.2786298265172835,
          -4.351279926393076,
          -6.20884745794367,
          -5.826217709916534,
          -3.3628083503387503,
          -3.021223279114225,
          -6.154963452564709,
          -4.7795118063384665,
          -4.118074965125033,
          -6.577883599546169
         ],
         "y": [
          -5.045639978699752,
          -4.3790294142757205,
          -4.60369145059623,
          -4.447149458717849,
          -4.3621952904949515,
          -5.590536350720143,
          -4.9361503687739345,
          -5.152037709682416,
          -5.69117044083285,
          -4.906693026061107,
          -4.908997025095317,
          -7.059015760756184,
          -4.5903427187000885,
          -4.33067046396242,
          -5.792554818514822,
          -3.8032884442466717,
          -5.114581628989723,
          -4.971413756588626,
          -6.358154827736202,
          -4.303147737494305,
          -6.146805625807456,
          -3.032919533923628,
          -4.982906133292012,
          -6.27354648462754,
          -5.623806962527086,
          -5.67910362570185
         ]
        },
        {
         "hoverinfo": "text",
         "hovertext": [
          "Theme: Tesla Product Innovations<br>Type: Non-Bot Themes<br>Confidence: 100%<br>Keywords: <br>Sentiments:<br>Positive: 67%<br>Negative: 0%<br>Neutral: 33%",
          "Theme: Tesla Employee and Team Successes<br>Type: Non-Bot Themes<br>Confidence: 100%<br>Keywords: <br>Sentiments:<br>Positive: 100%<br>Negative: 0%<br>Neutral: 0%",
          "Theme: Tesla Community Appreciation for Elon Musk<br>Type: Non-Bot Themes<br>Confidence: 92%<br>Keywords: <br>Sentiments:<br>Positive: 100%<br>Negative: 0%<br>Neutral: 0%",
          "Theme: Tesla Events and Announcements<br>Type: Non-Bot Themes<br>Confidence: 92%<br>Keywords: <br>Sentiments:<br>Positive: 100%<br>Negative: 0%<br>Neutral: 0%",
          "Theme: Tesla Model Y<br>Type: Non-Bot Themes<br>Confidence: 100%<br>Keywords: <br>Sentiments:<br>Positive: 100%<br>Negative: 0%<br>Neutral: 0%",
          "Theme: Tesla Model 3<br>Type: Non-Bot Themes<br>Confidence: 100%<br>Keywords: <br>Sentiments:<br>Positive: 100%<br>Negative: 0%<br>Neutral: 0%",
          "Theme: Tesla's Performance and Technology<br>Type: Non-Bot Themes<br>Confidence: 90%<br>Keywords: <br>Sentiments:<br>Positive: 100%<br>Negative: 0%<br>Neutral: 0%",
          "Theme: Cybertruck Accidents and Safety Concerns<br>Type: Non-Bot Themes<br>Confidence: 100%<br>Keywords: <br>Sentiments:<br>Positive: 0%<br>Negative: 80%<br>Neutral: 20%",
          "Theme: Cybertruck: Positive Experiences<br>Type: Non-Bot Themes<br>Confidence: 100%<br>Keywords: <br>Sentiments:<br>Positive: 60%<br>Negative: 10%<br>Neutral: 30%",
          "Theme: Cybertruck: Safety Concerns<br>Type: Non-Bot Themes<br>Confidence: 90%<br>Keywords: <br>Sentiments:<br>Positive: 20%<br>Negative: 60%<br>Neutral: 20%"
         ],
         "marker": {
          "color": "rgb(0,255,0)",
          "line": {
           "color": "black",
           "width": 1
          },
          "size": [
           15,
           15,
           14.2,
           14.2,
           15,
           15,
           14,
           15,
           15,
           14
          ]
         },
         "mode": "markers",
         "name": "Non-Bot Themes",
         "type": "scatter",
         "x": [
          3.3502412738065948,
          3.937006630473043,
          3.840269715946273,
          4.541354040224676,
          5.059677731387995,
          5.213596938124123,
          4.302424875899579,
          6.8037925912906445,
          5.243367573053179,
          5.944529676376666
         ],
         "y": [
          3.993022173412453,
          3.8330503147120627,
          6.1912859203504755,
          6.842938535627025,
          2.94652527640581,
          2.7881140672426956,
          4.5992321741612745,
          4.328939673782209,
          5.945029316837697,
          4.431086504082961
         ]
        },
        {
         "hoverinfo": "text",
         "hovertext": [
          "Theme: Tesla Safety<br>Type: Mixed Themes<br>Confidence: 92%<br>Keywords: <br>Sentiments:<br>Positive: 100%<br>Negative: 0%<br>Neutral: 0%"
         ],
         "marker": {
          "color": "rgb(128,0,128)",
          "line": {
           "color": "black",
           "width": 1
          },
          "size": [
           14.2
          ]
         },
         "mode": "markers",
         "name": "Mixed Themes",
         "type": "scatter",
         "x": [
          -1.2214220183223545
         ],
         "y": [
          0.3883352011943657
         ]
        }
       ],
       "layout": {
        "height": 800,
        "paper_bgcolor": "white",
        "plot_bgcolor": "white",
        "showlegend": true,
        "template": {
         "data": {
          "bar": [
           {
            "error_x": {
             "color": "#2a3f5f"
            },
            "error_y": {
             "color": "#2a3f5f"
            },
            "marker": {
             "line": {
              "color": "#E5ECF6",
              "width": 0.5
             },
             "pattern": {
              "fillmode": "overlay",
              "size": 10,
              "solidity": 0.2
             }
            },
            "type": "bar"
           }
          ],
          "barpolar": [
           {
            "marker": {
             "line": {
              "color": "#E5ECF6",
              "width": 0.5
             },
             "pattern": {
              "fillmode": "overlay",
              "size": 10,
              "solidity": 0.2
             }
            },
            "type": "barpolar"
           }
          ],
          "carpet": [
           {
            "aaxis": {
             "endlinecolor": "#2a3f5f",
             "gridcolor": "white",
             "linecolor": "white",
             "minorgridcolor": "white",
             "startlinecolor": "#2a3f5f"
            },
            "baxis": {
             "endlinecolor": "#2a3f5f",
             "gridcolor": "white",
             "linecolor": "white",
             "minorgridcolor": "white",
             "startlinecolor": "#2a3f5f"
            },
            "type": "carpet"
           }
          ],
          "choropleth": [
           {
            "colorbar": {
             "outlinewidth": 0,
             "ticks": ""
            },
            "type": "choropleth"
           }
          ],
          "contour": [
           {
            "colorbar": {
             "outlinewidth": 0,
             "ticks": ""
            },
            "colorscale": [
             [
              0,
              "#0d0887"
             ],
             [
              0.1111111111111111,
              "#46039f"
             ],
             [
              0.2222222222222222,
              "#7201a8"
             ],
             [
              0.3333333333333333,
              "#9c179e"
             ],
             [
              0.4444444444444444,
              "#bd3786"
             ],
             [
              0.5555555555555556,
              "#d8576b"
             ],
             [
              0.6666666666666666,
              "#ed7953"
             ],
             [
              0.7777777777777778,
              "#fb9f3a"
             ],
             [
              0.8888888888888888,
              "#fdca26"
             ],
             [
              1,
              "#f0f921"
             ]
            ],
            "type": "contour"
           }
          ],
          "contourcarpet": [
           {
            "colorbar": {
             "outlinewidth": 0,
             "ticks": ""
            },
            "type": "contourcarpet"
           }
          ],
          "heatmap": [
           {
            "colorbar": {
             "outlinewidth": 0,
             "ticks": ""
            },
            "colorscale": [
             [
              0,
              "#0d0887"
             ],
             [
              0.1111111111111111,
              "#46039f"
             ],
             [
              0.2222222222222222,
              "#7201a8"
             ],
             [
              0.3333333333333333,
              "#9c179e"
             ],
             [
              0.4444444444444444,
              "#bd3786"
             ],
             [
              0.5555555555555556,
              "#d8576b"
             ],
             [
              0.6666666666666666,
              "#ed7953"
             ],
             [
              0.7777777777777778,
              "#fb9f3a"
             ],
             [
              0.8888888888888888,
              "#fdca26"
             ],
             [
              1,
              "#f0f921"
             ]
            ],
            "type": "heatmap"
           }
          ],
          "heatmapgl": [
           {
            "colorbar": {
             "outlinewidth": 0,
             "ticks": ""
            },
            "colorscale": [
             [
              0,
              "#0d0887"
             ],
             [
              0.1111111111111111,
              "#46039f"
             ],
             [
              0.2222222222222222,
              "#7201a8"
             ],
             [
              0.3333333333333333,
              "#9c179e"
             ],
             [
              0.4444444444444444,
              "#bd3786"
             ],
             [
              0.5555555555555556,
              "#d8576b"
             ],
             [
              0.6666666666666666,
              "#ed7953"
             ],
             [
              0.7777777777777778,
              "#fb9f3a"
             ],
             [
              0.8888888888888888,
              "#fdca26"
             ],
             [
              1,
              "#f0f921"
             ]
            ],
            "type": "heatmapgl"
           }
          ],
          "histogram": [
           {
            "marker": {
             "pattern": {
              "fillmode": "overlay",
              "size": 10,
              "solidity": 0.2
             }
            },
            "type": "histogram"
           }
          ],
          "histogram2d": [
           {
            "colorbar": {
             "outlinewidth": 0,
             "ticks": ""
            },
            "colorscale": [
             [
              0,
              "#0d0887"
             ],
             [
              0.1111111111111111,
              "#46039f"
             ],
             [
              0.2222222222222222,
              "#7201a8"
             ],
             [
              0.3333333333333333,
              "#9c179e"
             ],
             [
              0.4444444444444444,
              "#bd3786"
             ],
             [
              0.5555555555555556,
              "#d8576b"
             ],
             [
              0.6666666666666666,
              "#ed7953"
             ],
             [
              0.7777777777777778,
              "#fb9f3a"
             ],
             [
              0.8888888888888888,
              "#fdca26"
             ],
             [
              1,
              "#f0f921"
             ]
            ],
            "type": "histogram2d"
           }
          ],
          "histogram2dcontour": [
           {
            "colorbar": {
             "outlinewidth": 0,
             "ticks": ""
            },
            "colorscale": [
             [
              0,
              "#0d0887"
             ],
             [
              0.1111111111111111,
              "#46039f"
             ],
             [
              0.2222222222222222,
              "#7201a8"
             ],
             [
              0.3333333333333333,
              "#9c179e"
             ],
             [
              0.4444444444444444,
              "#bd3786"
             ],
             [
              0.5555555555555556,
              "#d8576b"
             ],
             [
              0.6666666666666666,
              "#ed7953"
             ],
             [
              0.7777777777777778,
              "#fb9f3a"
             ],
             [
              0.8888888888888888,
              "#fdca26"
             ],
             [
              1,
              "#f0f921"
             ]
            ],
            "type": "histogram2dcontour"
           }
          ],
          "mesh3d": [
           {
            "colorbar": {
             "outlinewidth": 0,
             "ticks": ""
            },
            "type": "mesh3d"
           }
          ],
          "parcoords": [
           {
            "line": {
             "colorbar": {
              "outlinewidth": 0,
              "ticks": ""
             }
            },
            "type": "parcoords"
           }
          ],
          "pie": [
           {
            "automargin": true,
            "type": "pie"
           }
          ],
          "scatter": [
           {
            "fillpattern": {
             "fillmode": "overlay",
             "size": 10,
             "solidity": 0.2
            },
            "type": "scatter"
           }
          ],
          "scatter3d": [
           {
            "line": {
             "colorbar": {
              "outlinewidth": 0,
              "ticks": ""
             }
            },
            "marker": {
             "colorbar": {
              "outlinewidth": 0,
              "ticks": ""
             }
            },
            "type": "scatter3d"
           }
          ],
          "scattercarpet": [
           {
            "marker": {
             "colorbar": {
              "outlinewidth": 0,
              "ticks": ""
             }
            },
            "type": "scattercarpet"
           }
          ],
          "scattergeo": [
           {
            "marker": {
             "colorbar": {
              "outlinewidth": 0,
              "ticks": ""
             }
            },
            "type": "scattergeo"
           }
          ],
          "scattergl": [
           {
            "marker": {
             "colorbar": {
              "outlinewidth": 0,
              "ticks": ""
             }
            },
            "type": "scattergl"
           }
          ],
          "scattermapbox": [
           {
            "marker": {
             "colorbar": {
              "outlinewidth": 0,
              "ticks": ""
             }
            },
            "type": "scattermapbox"
           }
          ],
          "scatterpolar": [
           {
            "marker": {
             "colorbar": {
              "outlinewidth": 0,
              "ticks": ""
             }
            },
            "type": "scatterpolar"
           }
          ],
          "scatterpolargl": [
           {
            "marker": {
             "colorbar": {
              "outlinewidth": 0,
              "ticks": ""
             }
            },
            "type": "scatterpolargl"
           }
          ],
          "scatterternary": [
           {
            "marker": {
             "colorbar": {
              "outlinewidth": 0,
              "ticks": ""
             }
            },
            "type": "scatterternary"
           }
          ],
          "surface": [
           {
            "colorbar": {
             "outlinewidth": 0,
             "ticks": ""
            },
            "colorscale": [
             [
              0,
              "#0d0887"
             ],
             [
              0.1111111111111111,
              "#46039f"
             ],
             [
              0.2222222222222222,
              "#7201a8"
             ],
             [
              0.3333333333333333,
              "#9c179e"
             ],
             [
              0.4444444444444444,
              "#bd3786"
             ],
             [
              0.5555555555555556,
              "#d8576b"
             ],
             [
              0.6666666666666666,
              "#ed7953"
             ],
             [
              0.7777777777777778,
              "#fb9f3a"
             ],
             [
              0.8888888888888888,
              "#fdca26"
             ],
             [
              1,
              "#f0f921"
             ]
            ],
            "type": "surface"
           }
          ],
          "table": [
           {
            "cells": {
             "fill": {
              "color": "#EBF0F8"
             },
             "line": {
              "color": "white"
             }
            },
            "header": {
             "fill": {
              "color": "#C8D4E3"
             },
             "line": {
              "color": "white"
             }
            },
            "type": "table"
           }
          ]
         },
         "layout": {
          "annotationdefaults": {
           "arrowcolor": "#2a3f5f",
           "arrowhead": 0,
           "arrowwidth": 1
          },
          "autotypenumbers": "strict",
          "coloraxis": {
           "colorbar": {
            "outlinewidth": 0,
            "ticks": ""
           }
          },
          "colorscale": {
           "diverging": [
            [
             0,
             "#8e0152"
            ],
            [
             0.1,
             "#c51b7d"
            ],
            [
             0.2,
             "#de77ae"
            ],
            [
             0.3,
             "#f1b6da"
            ],
            [
             0.4,
             "#fde0ef"
            ],
            [
             0.5,
             "#f7f7f7"
            ],
            [
             0.6,
             "#e6f5d0"
            ],
            [
             0.7,
             "#b8e186"
            ],
            [
             0.8,
             "#7fbc41"
            ],
            [
             0.9,
             "#4d9221"
            ],
            [
             1,
             "#276419"
            ]
           ],
           "sequential": [
            [
             0,
             "#0d0887"
            ],
            [
             0.1111111111111111,
             "#46039f"
            ],
            [
             0.2222222222222222,
             "#7201a8"
            ],
            [
             0.3333333333333333,
             "#9c179e"
            ],
            [
             0.4444444444444444,
             "#bd3786"
            ],
            [
             0.5555555555555556,
             "#d8576b"
            ],
            [
             0.6666666666666666,
             "#ed7953"
            ],
            [
             0.7777777777777778,
             "#fb9f3a"
            ],
            [
             0.8888888888888888,
             "#fdca26"
            ],
            [
             1,
             "#f0f921"
            ]
           ],
           "sequentialminus": [
            [
             0,
             "#0d0887"
            ],
            [
             0.1111111111111111,
             "#46039f"
            ],
            [
             0.2222222222222222,
             "#7201a8"
            ],
            [
             0.3333333333333333,
             "#9c179e"
            ],
            [
             0.4444444444444444,
             "#bd3786"
            ],
            [
             0.5555555555555556,
             "#d8576b"
            ],
            [
             0.6666666666666666,
             "#ed7953"
            ],
            [
             0.7777777777777778,
             "#fb9f3a"
            ],
            [
             0.8888888888888888,
             "#fdca26"
            ],
            [
             1,
             "#f0f921"
            ]
           ]
          },
          "colorway": [
           "#636efa",
           "#EF553B",
           "#00cc96",
           "#ab63fa",
           "#FFA15A",
           "#19d3f3",
           "#FF6692",
           "#B6E880",
           "#FF97FF",
           "#FECB52"
          ],
          "font": {
           "color": "#2a3f5f"
          },
          "geo": {
           "bgcolor": "white",
           "lakecolor": "white",
           "landcolor": "#E5ECF6",
           "showlakes": true,
           "showland": true,
           "subunitcolor": "white"
          },
          "hoverlabel": {
           "align": "left"
          },
          "hovermode": "closest",
          "mapbox": {
           "style": "light"
          },
          "paper_bgcolor": "white",
          "plot_bgcolor": "#E5ECF6",
          "polar": {
           "angularaxis": {
            "gridcolor": "white",
            "linecolor": "white",
            "ticks": ""
           },
           "bgcolor": "#E5ECF6",
           "radialaxis": {
            "gridcolor": "white",
            "linecolor": "white",
            "ticks": ""
           }
          },
          "scene": {
           "xaxis": {
            "backgroundcolor": "#E5ECF6",
            "gridcolor": "white",
            "gridwidth": 2,
            "linecolor": "white",
            "showbackground": true,
            "ticks": "",
            "zerolinecolor": "white"
           },
           "yaxis": {
            "backgroundcolor": "#E5ECF6",
            "gridcolor": "white",
            "gridwidth": 2,
            "linecolor": "white",
            "showbackground": true,
            "ticks": "",
            "zerolinecolor": "white"
           },
           "zaxis": {
            "backgroundcolor": "#E5ECF6",
            "gridcolor": "white",
            "gridwidth": 2,
            "linecolor": "white",
            "showbackground": true,
            "ticks": "",
            "zerolinecolor": "white"
           }
          },
          "shapedefaults": {
           "line": {
            "color": "#2a3f5f"
           }
          },
          "ternary": {
           "aaxis": {
            "gridcolor": "white",
            "linecolor": "white",
            "ticks": ""
           },
           "baxis": {
            "gridcolor": "white",
            "linecolor": "white",
            "ticks": ""
           },
           "bgcolor": "#E5ECF6",
           "caxis": {
            "gridcolor": "white",
            "linecolor": "white",
            "ticks": ""
           }
          },
          "title": {
           "x": 0.05
          },
          "xaxis": {
           "automargin": true,
           "gridcolor": "white",
           "linecolor": "white",
           "ticks": "",
           "title": {
            "standoff": 15
           },
           "zerolinecolor": "white",
           "zerolinewidth": 2
          },
          "yaxis": {
           "automargin": true,
           "gridcolor": "white",
           "linecolor": "white",
           "ticks": "",
           "title": {
            "standoff": 15
           },
           "zerolinecolor": "white",
           "zerolinewidth": 2
          }
         }
        },
        "title": {
         "text": "Theme Network Visualization (90%+ Confidence, Clustered by Bot Status and Sentiments)"
        },
        "width": 1200,
        "xaxis": {
         "showgrid": false,
         "showticklabels": false,
         "zeroline": false
        },
        "yaxis": {
         "showgrid": false,
         "showticklabels": false,
         "zeroline": false
        }
       }
      }
     },
     "metadata": {},
     "output_type": "display_data"
    }
   ],
   "source": [
    "import json\n",
    "import networkx as nx\n",
    "import plotly.graph_objects as go\n",
    "import numpy as np\n",
    "\n",
    "def load_json_file(file_path):\n",
    "    \"\"\"Load JSON file safely.\"\"\"\n",
    "    try:\n",
    "        with open(file_path, 'r', encoding='utf-8') as file:\n",
    "            return json.load(file)\n",
    "    except Exception as e:\n",
    "        print(f\"Error loading JSON file {file_path}: {e}\")\n",
    "        return []\n",
    "\n",
    "def create_theme_network(data_bot, data_nonbot, min_confidence=90):\n",
    "    \"\"\"Create a network graph from themes with a minimum confidence level.\"\"\"\n",
    "    G = nx.Graph()\n",
    "\n",
    "    def process_data(data, is_bot=True):\n",
    "        for item in data:\n",
    "            response = item.get('response')\n",
    "            if isinstance(response, str):\n",
    "                try:\n",
    "                    response_data = json.loads(response)\n",
    "                    themes = response_data.get('overall_themes', [])\n",
    "                    for theme in themes:\n",
    "                        confidence = theme.get('confidence', 0)\n",
    "                        if confidence >= min_confidence:  # Only process themes with specified confidence\n",
    "                            theme_name = theme['name']\n",
    "                            keywords = theme.get('keywords', [])\n",
    "                            sentiment_distribution = theme.get('sentiment_distribution', {})\n",
    "                            positive = sentiment_distribution.get('positive_percentage', 0)\n",
    "                            negative = sentiment_distribution.get('negative_percentage', 0)\n",
    "                            neutral = sentiment_distribution.get('neutral_percentage', 0)\n",
    "\n",
    "                            if not G.has_node(theme_name):\n",
    "                                G.add_node(theme_name,\n",
    "                                           type='theme',\n",
    "                                           is_bot=is_bot,\n",
    "                                           confidence=confidence,\n",
    "                                           keywords=keywords,\n",
    "                                           sentiment_distribution={\n",
    "                                               'positive': positive,\n",
    "                                               'negative': negative,\n",
    "                                               'neutral': neutral\n",
    "                                           })\n",
    "                            else:\n",
    "                                current_bot_status = G.nodes[theme_name].get('is_bot')\n",
    "                                if current_bot_status != is_bot:\n",
    "                                    G.nodes[theme_name]['is_bot'] = 'mixed'\n",
    "                except json.JSONDecodeError:\n",
    "                    print(f\"Invalid JSON in response: {response}\")\n",
    "\n",
    "    process_data(data_bot, is_bot=True)\n",
    "    process_data(data_nonbot, is_bot=False)\n",
    "\n",
    "    return G\n",
    "\n",
    "def visualize_network(G):\n",
    "    \"\"\"Visualize network clustered by bot and nonbot themes with sentiment distribution.\"\"\"\n",
    "    if len(G.nodes) == 0:\n",
    "        print(\"No nodes to visualize.\")\n",
    "        return\n",
    "\n",
    "    bot_nodes = [node for node, data in G.nodes(data=True) if data['is_bot'] == True]\n",
    "    nonbot_nodes = [node for node, data in G.nodes(data=True) if data['is_bot'] == False]\n",
    "    mixed_nodes = [node for node, data in G.nodes(data=True) if data['is_bot'] == 'mixed']\n",
    "\n",
    "    def get_node_size(confidence):\n",
    "        return 5 + confidence / 10\n",
    "\n",
    "    traces = []\n",
    "    categories = [\n",
    "        ('Bot Themes', bot_nodes, 'rgb(255,0,0)', -5),\n",
    "        ('Non-Bot Themes', nonbot_nodes, 'rgb(0,255,0)', 5),\n",
    "        ('Mixed Themes', mixed_nodes, 'rgb(128,0,128)', 0),\n",
    "    ]\n",
    "\n",
    "    for name, nodes, color, center in categories:\n",
    "        if nodes:\n",
    "            positions_x = np.random.normal(loc=center, scale=1, size=len(nodes))\n",
    "            positions_y = np.random.normal(loc=center, scale=1, size=len(nodes))\n",
    "            sizes = [get_node_size(G.nodes[node]['confidence']) for node in nodes]\n",
    "            hover_texts = [\n",
    "                f\"Theme: {node}<br>\"\n",
    "                f\"Type: {name}<br>\"\n",
    "                f\"Confidence: {G.nodes[node]['confidence']}%<br>\"\n",
    "                f\"Keywords: {', '.join(G.nodes[node].get('keywords', []))}<br>\"\n",
    "                f\"Sentiments:<br>\"\n",
    "                f\"Positive: {G.nodes[node]['sentiment_distribution']['positive']}%<br>\"\n",
    "                f\"Negative: {G.nodes[node]['sentiment_distribution']['negative']}%<br>\"\n",
    "                f\"Neutral: {G.nodes[node]['sentiment_distribution']['neutral']}%\"\n",
    "                for node in nodes\n",
    "            ]\n",
    "            traces.append(go.Scatter(\n",
    "                x=positions_x,\n",
    "                y=positions_y,\n",
    "                mode='markers',\n",
    "                marker=dict(\n",
    "                    size=sizes,\n",
    "                    color=color,\n",
    "                    line=dict(width=1, color='black')\n",
    "                ),\n",
    "                hovertext=hover_texts,\n",
    "                hoverinfo='text',\n",
    "                name=name\n",
    "            ))\n",
    "\n",
    "    fig = go.Figure(data=traces)\n",
    "    fig.update_layout(\n",
    "        title=\"Theme Network Visualization (90%+ Confidence, Clustered by Bot Status and Sentiments)\",\n",
    "        showlegend=True,\n",
    "        xaxis=dict(showgrid=False, zeroline=False, showticklabels=False),\n",
    "        yaxis=dict(showgrid=False, zeroline=False, showticklabels=False),\n",
    "        width=1200,\n",
    "        height=800,\n",
    "        plot_bgcolor='white',\n",
    "        paper_bgcolor='white'\n",
    "    )\n",
    "\n",
    "    # Print some statistics\n",
    "    print(f\"Total Themes (90%+ Confidence): {len(G.nodes())}\")\n",
    "    print(f\"Bot Themes: {len(bot_nodes)}\")\n",
    "    print(f\"Non-Bot Themes: {len(nonbot_nodes)}\")\n",
    "    print(f\"Mixed Themes: {len(mixed_nodes)}\")\n",
    "\n",
    "    fig.show()\n",
    "\n",
    "# Load JSON files\n",
    "data_label_0 = load_json_file('label_0.json')  # Bot data\n",
    "data_label_1 = load_json_file('label_1.json')  # Non-bot data\n",
    "\n",
    "# Create network with 90% minimum confidence\n",
    "network = create_theme_network(data_label_0, data_label_1, min_confidence=90)\n",
    "\n",
    "# Visualize network\n",
    "visualize_network(network)\n"
   ]
  }
 ],
 "metadata": {
  "kernelspec": {
   "display_name": "base",
   "language": "python",
   "name": "python3"
  },
  "language_info": {
   "codemirror_mode": {
    "name": "ipython",
    "version": 3
   },
   "file_extension": ".py",
   "mimetype": "text/x-python",
   "name": "python",
   "nbconvert_exporter": "python",
   "pygments_lexer": "ipython3",
   "version": "3.12.7"
  }
 },
 "nbformat": 4,
 "nbformat_minor": 2
}
