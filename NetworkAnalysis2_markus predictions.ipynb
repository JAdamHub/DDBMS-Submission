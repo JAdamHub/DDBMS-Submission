{
 "cells": [
  {
   "cell_type": "code",
   "execution_count": 1,
   "metadata": {},
   "outputs": [],
   "source": [
    "!pip install -r requirements.txt -q"
   ]
  },
  {
   "cell_type": "code",
   "execution_count": 2,
   "metadata": {},
   "outputs": [
    {
     "name": "stderr",
     "output_type": "stream",
     "text": [
      "/Users/markushenriksson/Desktop/Data/Python/DDBMS-Submission/.conda/lib/python3.11/site-packages/tqdm/auto.py:21: TqdmWarning: IProgress not found. Please update jupyter and ipywidgets. See https://ipywidgets.readthedocs.io/en/stable/user_install.html\n",
      "  from .autonotebook import tqdm as notebook_tqdm\n"
     ]
    }
   ],
   "source": [
    "# Datahandling\n",
    "import requests\n",
    "import os\n",
    "os.environ[\"TOKENIZERS_PARALLELISM\"] = \"false\"\n",
    "import numpy as np\n",
    "import pandas as pd\n",
    "import seaborn as sns\n",
    "\n",
    "# Tweet Themes\n",
    "from sentence_transformers import SentenceTransformer\n",
    "import umap\n",
    "import hdbscan\n",
    "import matplotlib.pyplot as plt\n",
    "from bertopic import BERTopic\n",
    "import plotly.express as px\n",
    "\n",
    "# Network analysis\n",
    "from typing import List, Optional\n",
    "import json\n",
    "import matplotlib.patches as mpatches\n",
    "import networkx as nx\n",
    "from community import community_louvain\n",
    "import plotly.graph_objects as go\n",
    "import random\n",
    "from collections import defaultdict\n",
    "import nbformat\n",
    "\n",
    "# Model prediction\n",
    "from setfit import SetFitModel, SetFitTrainer\n",
    "from sklearn.metrics import classification_report\n",
    "import tiktoken\n",
    "\n",
    "# Gradio deployment\n",
    "import gradio as gr\n"
   ]
  },
  {
   "cell_type": "code",
   "execution_count": 3,
   "metadata": {},
   "outputs": [],
   "source": [
    "# data sampling? 20000\n",
    "data = pd.read_csv('TwitterData_Joined.csv')\n",
    "data = data.sample(n=2000, random_state=42)"
   ]
  },
  {
   "cell_type": "code",
   "execution_count": 4,
   "metadata": {},
   "outputs": [
    {
     "name": "stdout",
     "output_type": "stream",
     "text": [
      "Data with label=0: 950 rows\n",
      "Data with label=1: 1050 rows\n"
     ]
    }
   ],
   "source": [
    "# Split the data based on the `label` column\n",
    "data_label_0 = data[data['Label'] == 0]  # Subset where label=0\n",
    "data_label_1 = data[data['Label'] == 1]  # Subset where label=1\n",
    "\n",
    "# Optionally, check the sizes of the splits\n",
    "print(f\"Data with label=0: {len(data_label_0)} rows\")\n",
    "print(f\"Data with label=1: {len(data_label_1)} rows\")"
   ]
  },
  {
   "cell_type": "code",
   "execution_count": 4,
   "metadata": {},
   "outputs": [],
   "source": [
    "# LLM Libs & Setup\n",
    "from openai import OpenAI\n",
    "import json\n",
    "from pydantic import BaseModel, Field\n",
    "from typing import List, Optional\n",
    "import textwrap"
   ]
  },
  {
   "cell_type": "code",
   "execution_count": 6,
   "metadata": {},
   "outputs": [],
   "source": [
    "# Set your Together API Key directly\n",
    "TOGETHER_API_KEY = \"\"\n",
    "\n",
    "# Check if the API key is set\n",
    "if not TOGETHER_API_KEY:\n",
    "    raise ValueError(\"The Together API Key must be provided.\")\n",
    "\n",
    "# Initialize the Together client\n",
    "client = OpenAI(\n",
    "    base_url=\"https://api.together.xyz/v1\",\n",
    "    api_key=TOGETHER_API_KEY\n",
    ")\n",
    "\n",
    "# Define the model\n",
    "model = \"meta-llama/Meta-Llama-3.1-8B-Instruct-Turbo\""
   ]
  },
  {
   "cell_type": "code",
   "execution_count": 7,
   "metadata": {},
   "outputs": [],
   "source": [
    "SYSTEM_PROMPT = f\"\"\"\n",
    "You are an advanced theme extraction and analysis assistant specializing in comprehensive thematic breakdown of a collection of tweets.\n",
    "\n",
    "\n",
    "Extraction Objectives:\n",
    "1. Identify and Extract Overall Themes\n",
    "2. Determine Theme Centrality and Significance\n",
    "3. Uncover Sub-Themes and Causal Relationships\n",
    "4. Provide Nuanced Thematic Insights\n",
    "\n",
    "\n",
    "Output Structure:\n",
    "{{\n",
    "    \"overall_themes\": [\n",
    "        {{\n",
    "            \"name\": \"Primary Theme Name\",\n",
    "            \"confidence\": \"Confidence level 0-100\",\n",
    "            \"centrality\": {{\n",
    "                \"weight\": \"Theme heaviness/importance (0-100)\",\n",
    "                \"calculation_factors\": [\n",
    "                    \"Tweet volume\",\n",
    "                    \"Sentiment intensity\",\n",
    "                    \"Keyword repetition\",\n",
    "                    \"Cross-tweet relevance\"\n",
    "                ]\n",
    "            }},\n",
    "            \"sub_themes\": [\n",
    "                {{\n",
    "                    \"name\": \"Specific Sub-Theme\",\n",
    "                    \"causations\": [\n",
    "                        \"Underlying factors driving this sub-theme\",\n",
    "                        \"Contextual triggers\"\n",
    "                    ],\n",
    "                    \"keywords\": [\"Supporting keywords\"],\n",
    "                    \"sentiment\": \"positive/negative/neutral\",\n",
    "                    \"confidence\": \"Sub-theme confidence level 0-100\"\n",
    "                }}\n",
    "            ],\n",
    "            \"keywords\": [\"Primary theme defining keywords\"],\n",
    "            \"sentiment_distribution\": {{\n",
    "                \"positive_percentage\": 0,\n",
    "                \"negative_percentage\": 0,\n",
    "                \"neutral_percentage\": 0\n",
    "            }}\n",
    "        }}\n",
    "    ],\n",
    "    \"metadata\": {{\n",
    "        \"total_tweets_analyzed\": 0,\n",
    "        \"unique_themes_count\": 0,\n",
    "        \"dominant_sentiment\": \"\",\n",
    "        \"language_distribution\": {{}}\n",
    "    }}\n",
    "}}\n",
    "\n",
    "\n",
    "Analytical Guidelines:\n",
    "\n",
    "\n",
    "1. Theme Identification:\n",
    "- Limit overall themes to a maximum of 10\n",
    "- Ensure themes are distinct and non-overlapping\n",
    "- Capture the essence of the tweet collection\n",
    "\n",
    "\n",
    "2. Centrality and Significance:\n",
    "- Calculate theme weight using:\n",
    "  * Number of tweets referencing the theme\n",
    "  * Sentiment intensity\n",
    "  * Keyword frequency\n",
    "  * Cross-tweet relevance\n",
    "  * Emotional depth\n",
    "\n",
    "\n",
    "3. Sub-Theme and Causation Analysis:\n",
    "- Identify specific sub-themes within each overall theme\n",
    "- Uncover potential causative factors\n",
    "- Provide context for theme emergence\n",
    "\n",
    "\n",
    "4. Sentiment and Nuance:\n",
    "- Analyze emotional tone at theme and sub-theme levels\n",
    "- Provide percentage-based sentiment distribution\n",
    "- Highlight emotional complexity\n",
    "\n",
    "\n",
    "5. Metadata Insights:\n",
    "- Track total tweets analyzed\n",
    "- Count unique themes\n",
    "- Capture language diversity\n",
    "- Identify dominant sentiment\n",
    "\n",
    "\n",
    "Principles:\n",
    "- Objectivity: Base analysis solely on tweet content\n",
    "- Precision: Provide granular, specific insights\n",
    "- Consistency: Apply uniform analytical framework\n",
    "- Depth: Go beyond surface-level theme extraction\n",
    "\n",
    "\n",
    "Handling Complexity:\n",
    "- For ambiguous themes, use lower confidence scores\n",
    "- Highlight keywords that support theme identification\n",
    "- Provide nuanced explanations for theme relationships\n",
    "\n",
    "\n",
    "Ethical Considerations:\n",
    "- Maintain data integrity\n",
    "- Avoid external assumptions\n",
    "- Respect contextual limitations of the dataset\n",
    "\n",
    "\n",
    "Output Requirements:\n",
    "- Strictly adhere to the specified JSON schema\n",
    "- Ensure clear, structured, and insightful presentation\n",
    "\"\"\""
   ]
  },
  {
   "cell_type": "code",
   "execution_count": 8,
   "metadata": {},
   "outputs": [],
   "source": [
    "json_schema = f\"\"\"{{\n",
    "    \"type\": \"object\",\n",
    "    \"properties\": {{\n",
    "        \"overall_themes\": {{\n",
    "            \"type\": \"array\",\n",
    "            \"maxItems\": 10,\n",
    "            \"items\": {{\n",
    "                \"type\": \"object\",\n",
    "                \"properties\": {{\n",
    "                    \"name\": {{\n",
    "                        \"type\": \"string\",\n",
    "                        \"description\": \"Primary theme name\"\n",
    "                    }},\n",
    "                    \"confidence\": {{\n",
    "                        \"type\": \"number\",\n",
    "                        \"minimum\": 0,\n",
    "                        \"maximum\": 100,\n",
    "                        \"description\": \"Confidence level of theme identification\"\n",
    "                    }},\n",
    "                    \"centrality\": {{\n",
    "                        \"type\": \"object\",\n",
    "                        \"properties\": {{\n",
    "                            \"weight\": {{\n",
    "                                \"type\": \"number\",\n",
    "                                \"minimum\": 0,\n",
    "                                \"maximum\": 100,\n",
    "                                \"description\": \"Theme heaviness/importance\"\n",
    "                            }},\n",
    "                            \"calculation_factors\": {{\n",
    "                                \"type\": \"array\",\n",
    "                                \"items\": {{\n",
    "                                    \"type\": \"string\"\n",
    "                                }},\n",
    "                                \"description\": \"Factors used to calculate theme centrality\"\n",
    "                            }}\n",
    "                        }},\n",
    "                        \"required\": [\"weight\"]\n",
    "                    }},\n",
    "                    \"sub_themes\": {{\n",
    "                        \"type\": \"array\",\n",
    "                        \"items\": {{\n",
    "                            \"type\": \"object\",\n",
    "                            \"properties\": {{\n",
    "                                \"name\": {{\n",
    "                                    \"type\": \"string\",\n",
    "                                    \"description\": \"Specific sub-theme name\"\n",
    "                                }},\n",
    "                                \"causations\": {{\n",
    "                                    \"type\": \"array\",\n",
    "                                    \"items\": {{\n",
    "                                        \"type\": \"string\"\n",
    "                                    }},\n",
    "                                    \"description\": \"Underlying factors driving the sub-theme\"\n",
    "                                }},\n",
    "                                \"keywords\": {{\n",
    "                                    \"type\": \"array\",\n",
    "                                    \"items\": {{\n",
    "                                        \"type\": \"string\"\n",
    "                                    }},\n",
    "                                    \"description\": \"Supporting keywords for the sub-theme\"\n",
    "                                }},\n",
    "                                \"sentiment\": {{\n",
    "                                    \"type\": \"string\",\n",
    "                                    \"enum\": [\"positive\", \"negative\", \"neutral\"],\n",
    "                                    \"description\": \"Emotional tone of the sub-theme\"\n",
    "                                }},\n",
    "                                \"confidence\": {{\n",
    "                                    \"type\": \"number\",\n",
    "                                    \"minimum\": 0,\n",
    "                                    \"maximum\": 100,\n",
    "                                    \"description\": \"Confidence level of sub-theme identification\"\n",
    "                                }}\n",
    "                            }},\n",
    "                            \"required\": [\"name\"]\n",
    "                        }},\n",
    "                        \"description\": \"Sub-themes within the primary theme\"\n",
    "                    }},\n",
    "                    \"keywords\": {{\n",
    "                        \"type\": \"array\",\n",
    "                        \"items\": {{\n",
    "                            \"type\": \"string\"\n",
    "                        }},\n",
    "                        \"description\": \"Key terms supporting the primary theme\"\n",
    "                    }},\n",
    "                    \"sentiment_distribution\": {{\n",
    "                        \"type\": \"object\",\n",
    "                        \"properties\": {{\n",
    "                            \"positive_percentage\": {{\n",
    "                                \"type\": \"number\",\n",
    "                                \"minimum\": 0,\n",
    "                                \"maximum\": 100\n",
    "                            }},\n",
    "                            \"negative_percentage\": {{\n",
    "                                \"type\": \"number\",\n",
    "                                \"minimum\": 0,\n",
    "                                \"maximum\": 100\n",
    "                            }},\n",
    "                            \"neutral_percentage\": {{\n",
    "                                \"type\": \"number\",\n",
    "                                \"minimum\": 0,\n",
    "                                \"maximum\": 100\n",
    "                            }}\n",
    "                        }}\n",
    "                    }}\n",
    "                }},\n",
    "                \"required\": [\"name\", \"confidence\"]\n",
    "            }}\n",
    "        }},\n",
    "        \"metadata\": {{\n",
    "            \"type\": \"object\",\n",
    "            \"properties\": {{\n",
    "                \"total_tweets_analyzed\": {{\n",
    "                    \"type\": \"integer\",\n",
    "                    \"minimum\": 0\n",
    "                }},\n",
    "                \"unique_themes_count\": {{\n",
    "                    \"type\": \"integer\",\n",
    "                    \"minimum\": 0\n",
    "                }},\n",
    "                \"dominant_sentiment\": {{\n",
    "                    \"type\": \"string\",\n",
    "                    \"enum\": [\"positive\", \"negative\", \"neutral\"]\n",
    "                }},\n",
    "                \"language_distribution\": {{\n",
    "                    \"type\": \"object\",\n",
    "                    \"additionalProperties\": {{\n",
    "                        \"type\": \"integer\"\n",
    "                    }}\n",
    "                }}\n",
    "            }}\n",
    "        }}\n",
    "    }},\n",
    "    \"required\": [\"overall_themes\"]\n",
    "}}\"\"\""
   ]
  },
  {
   "cell_type": "code",
   "execution_count": 9,
   "metadata": {},
   "outputs": [
    {
     "name": "stderr",
     "output_type": "stream",
     "text": [
      "/Users/markushenriksson/Desktop/Data/Python/DDBMS-Submission/.conda/lib/python3.11/site-packages/pydantic/fields.py:1007: PydanticDeprecatedSince20: `max_items` is deprecated and will be removed, use `max_length` instead. Deprecated in Pydantic V2.0 to be removed in V3.0. See Pydantic V2 Migration Guide at https://errors.pydantic.dev/2.10/migration/\n",
      "  warn('`max_items` is deprecated and will be removed, use `max_length` instead', DeprecationWarning)\n"
     ]
    }
   ],
   "source": [
    "from pydantic import BaseModel, Field\n",
    "from typing import List, Optional, Dict\n",
    "\n",
    "\n",
    "class Centrality(BaseModel):\n",
    "    weight: float = Field(\n",
    "        description=\"Theme heaviness/importance\",\n",
    "        ge=0,\n",
    "        le=100\n",
    "    )\n",
    "    calculation_factors: Optional[List[str]] = Field(\n",
    "        default=None,\n",
    "        description=\"Factors used to calculate theme centrality\"\n",
    "    )\n",
    "\n",
    "\n",
    "class SubTheme(BaseModel):\n",
    "    name: str = Field(description=\"Specific sub-theme name\")\n",
    "    causations: Optional[List[str]] = Field(\n",
    "        default=None,\n",
    "        description=\"Underlying factors driving the sub-theme\"\n",
    "    )\n",
    "    keywords: Optional[List[str]] = Field(\n",
    "        default=None,\n",
    "        description=\"Supporting keywords for the sub-theme\"\n",
    "    )\n",
    "    sentiment: Optional[str] = Field(\n",
    "        default=None,\n",
    "        description=\"Emotional tone of the sub-theme\",\n",
    "        pattern=\"^(positive|negative|neutral)$\"\n",
    "    )\n",
    "    confidence: Optional[float] = Field(\n",
    "        default=None,\n",
    "        description=\"Confidence level of sub-theme identification\",\n",
    "        ge=0,\n",
    "        le=100\n",
    "    )\n",
    "\n",
    "\n",
    "class SentimentDistribution(BaseModel):\n",
    "    positive_percentage: float = Field(ge=0, le=100)\n",
    "    negative_percentage: float = Field(ge=0, le=100)\n",
    "    neutral_percentage: float = Field(ge=0, le=100)\n",
    "\n",
    "\n",
    "class OverallTheme(BaseModel):\n",
    "    name: str = Field(description=\"Primary theme name\")\n",
    "    confidence: float = Field(\n",
    "        description=\"Confidence level of theme identification\",\n",
    "        ge=0,\n",
    "        le=100\n",
    "    )\n",
    "    centrality: Optional[Centrality] = Field(\n",
    "        default=None,\n",
    "        description=\"Theme centrality and importance\"\n",
    "    )\n",
    "    sub_themes: Optional[List[SubTheme]] = Field(\n",
    "        default=None,\n",
    "        description=\"Sub-themes within the primary theme\"\n",
    "    )\n",
    "    keywords: Optional[List[str]] = Field(\n",
    "        default=None,\n",
    "        description=\"Key terms supporting the primary theme\"\n",
    "    )\n",
    "    sentiment_distribution: Optional[SentimentDistribution] = Field(\n",
    "        default=None,\n",
    "        description=\"Sentiment distribution for the theme\"\n",
    "    )\n",
    "\n",
    "\n",
    "class Metadata(BaseModel):\n",
    "    total_tweets_analyzed: Optional[int] = Field(\n",
    "        default=None,\n",
    "        description=\"Total number of tweets analyzed\",\n",
    "        ge=0\n",
    "    )\n",
    "    unique_themes_count: Optional[int] = Field(\n",
    "        default=None,\n",
    "        description=\"Number of unique themes identified\",\n",
    "        ge=0\n",
    "    )\n",
    "    dominant_sentiment: Optional[str] = Field(\n",
    "        default=None,\n",
    "        description=\"Overall dominant sentiment\",\n",
    "        pattern=\"^(positive|negative|neutral)$\"\n",
    "    )\n",
    "    language_distribution: Optional[Dict[str, int]] = Field(\n",
    "        default=None,\n",
    "        description=\"Distribution of languages in the tweets\"\n",
    "    )\n",
    "\n",
    "\n",
    "class TweetAnalysis(BaseModel):\n",
    "    overall_themes: List[OverallTheme] = Field(\n",
    "        description=\"List of overall themes\",\n",
    "        max_items=10\n",
    "    )\n",
    "    metadata: Optional[Metadata] = Field(\n",
    "        default=None,\n",
    "        description=\"Metadata about the tweet collection\"\n",
    "    )\n",
    "\n",
    "\n",
    "# Dynamically generate the schema\n",
    "json_schema = TweetAnalysis.model_json_schema()"
   ]
  },
  {
   "cell_type": "code",
   "execution_count": 10,
   "metadata": {},
   "outputs": [
    {
     "name": "stdout",
     "output_type": "stream",
     "text": [
      "Results saved in label_0_1.json\n"
     ]
    }
   ],
   "source": [
    "import tiktoken\n",
    "import pandas as pd\n",
    "import json\n",
    "import time\n",
    "from concurrent.futures import ThreadPoolExecutor\n",
    "from queue import Queue\n",
    "import threading\n",
    "\n",
    "\n",
    "\n",
    "\n",
    "def rate_limited_executor(max_calls_per_minute=100):\n",
    "    \"\"\"Rate-limited executor for API calls.\"\"\"\n",
    "    call_queue = Queue()\n",
    "\n",
    "\n",
    "\n",
    "\n",
    "    def worker():\n",
    "        while True:\n",
    "            func, args, kwargs, result_queue = call_queue.get()\n",
    "            try:\n",
    "                result_queue.put(func(*args, **kwargs))\n",
    "            except Exception as e:\n",
    "                result_queue.put(e)\n",
    "            call_queue.task_done()\n",
    "            time.sleep(60 / max_calls_per_minute)\n",
    "\n",
    "\n",
    "\n",
    "\n",
    "    for _ in range(max_calls_per_minute):\n",
    "        threading.Thread(target=worker, daemon=True).start()\n",
    "\n",
    "\n",
    "\n",
    "\n",
    "    def submit(func, *args, **kwargs):\n",
    "        result_queue = Queue()\n",
    "        call_queue.put((func, args, kwargs, result_queue))\n",
    "        result = result_queue.get()\n",
    "        if isinstance(result, Exception):\n",
    "            raise result\n",
    "        return result\n",
    "\n",
    "\n",
    "\n",
    "\n",
    "    return submit\n",
    "\n",
    "\n",
    "\n",
    "\n",
    "def process_batch(tweets, executor, model, schema, batch_size):\n",
    "    \"\"\"Process one batch of tweets.\"\"\"\n",
    "    messages = [\n",
    "        {'role': 'system', 'content': SYSTEM_PROMPT},\n",
    "        {'role': 'user', 'content': json.dumps(tweets)}\n",
    "    ]\n",
    "    try:\n",
    "        response = executor(\n",
    "            client.chat.completions.create,\n",
    "            model=model,\n",
    "            messages=messages,\n",
    "            temperature=0.7,\n",
    "            response_format={\"type\": \"json_object\", \"schema\": schema},\n",
    "            max_tokens=8192\n",
    "        )\n",
    "        return {\n",
    "            'batch_size': len(tweets),\n",
    "            'response': response.choices[0].message.content\n",
    "        }\n",
    "    except Exception as e:\n",
    "        return {\n",
    "            'batch_size': len(tweets),\n",
    "            'error': str(e)\n",
    "        }\n",
    "\n",
    "\n",
    "\n",
    "\n",
    "def parallel_process_tweets(data, batch_size, max_workers, model, schema):\n",
    "    \"\"\"Parallel processing of tweets with rate-limiting.\"\"\"\n",
    "    executor = rate_limited_executor(max_calls_per_minute=60)\n",
    "    results = []\n",
    "\n",
    "\n",
    "\n",
    "\n",
    "    def process_and_collect(batch):\n",
    "        tweets = batch['Tweet_text'].tolist()\n",
    "        return process_batch(tweets, executor, model, schema, batch_size)\n",
    "\n",
    "\n",
    "\n",
    "\n",
    "    with ThreadPoolExecutor(max_workers=max_workers) as pool:\n",
    "        batches = [data.iloc[i:i + batch_size] for i in range(0, len(data), batch_size)]\n",
    "        futures = [pool.submit(process_and_collect, batch) for batch in batches]\n",
    "        for future in futures:\n",
    "            results.append(future.result())\n",
    "\n",
    "\n",
    "\n",
    "\n",
    "    return pd.DataFrame(results)\n",
    "\n",
    "\n",
    "\n",
    "\n",
    "def save_results(data, filename):\n",
    "    \"\"\"Save data to JSON file.\"\"\"\n",
    "    try:\n",
    "        with open(filename, 'w', encoding='utf-8') as f:\n",
    "            json.dump(data, f, ensure_ascii=False, indent=4)\n",
    "        print(f\"Results saved in {filename}\")\n",
    "    except Exception as e:\n",
    "        print(f\"Error during saving: {e}\")\n",
    "\n",
    "\n",
    "\n",
    "\n",
    "# Assuming 'data_label_0' is your DataFrame filtered for label 0\n",
    "processed_tweets = parallel_process_tweets(\n",
    "    data=data_label_0,  # Use the data_label_0 DataFrame\n",
    "    batch_size=10,      # Batch size\n",
    "    max_workers=64,     # Number of parallel threads\n",
    "    model=model,        # Your model variable\n",
    "    schema=json_schema  # Your JSON schema variable\n",
    ")\n",
    "\n",
    "\n",
    "\n",
    "\n",
    "# Save the results to label_0_1.json\n",
    "save_results(processed_tweets.to_dict(orient=\"records\"), \"label_0_1.json\")"
   ]
  },
  {
   "cell_type": "code",
   "execution_count": 11,
   "metadata": {},
   "outputs": [
    {
     "name": "stdout",
     "output_type": "stream",
     "text": [
      "Results saved in label_1_1.json\n"
     ]
    }
   ],
   "source": [
    "import tiktoken\n",
    "import pandas as pd\n",
    "import json\n",
    "import time\n",
    "from concurrent.futures import ThreadPoolExecutor\n",
    "from queue import Queue\n",
    "import threading\n",
    "import openai  # Make sure to import openai\n",
    "\n",
    "\n",
    "\n",
    "\n",
    "def rate_limited_executor(max_calls_per_minute=100):\n",
    "    \"\"\"Rate-limited executor for API calls.\"\"\"\n",
    "    call_queue = Queue()\n",
    "\n",
    "\n",
    "    def worker():\n",
    "        while True:\n",
    "            func, args, kwargs, result_queue = call_queue.get()\n",
    "            try:\n",
    "                result_queue.put(func(*args, **kwargs))\n",
    "            except Exception as e:\n",
    "                result_queue.put(e)\n",
    "            call_queue.task_done()\n",
    "            time.sleep(60 / max_calls_per_minute)\n",
    "\n",
    "\n",
    "    for _ in range(max_calls_per_minute):\n",
    "        threading.Thread(target=worker, daemon=True).start()\n",
    "\n",
    "\n",
    "    def submit(func, *args, **kwargs):\n",
    "        result_queue = Queue()\n",
    "        call_queue.put((func, args, kwargs, result_queue))\n",
    "        result = result_queue.get()\n",
    "        if isinstance(result, Exception):\n",
    "            raise result\n",
    "        return result\n",
    "\n",
    "\n",
    "    return submit\n",
    "\n",
    "\n",
    "\n",
    "\n",
    "def process_batch(tweets, executor, model, schema, batch_size):\n",
    "    \"\"\"Process one batch of tweets.\"\"\"\n",
    "    messages = [\n",
    "        {'role': 'system', 'content': SYSTEM_PROMPT},\n",
    "        {'role': 'user', 'content': json.dumps(tweets)}\n",
    "    ]\n",
    "    try:\n",
    "        response = executor(\n",
    "            client.chat.completions.create,\n",
    "            model=model,\n",
    "            messages=messages,\n",
    "            temperature=0.7,\n",
    "            response_format={\"type\": \"json_object\", \"schema\": schema},\n",
    "            max_tokens=8192\n",
    "        )\n",
    "        return {'batch_size': len(tweets), 'response': response.choices[0].message.content}\n",
    "    except Exception as e:\n",
    "        return {'batch_size': len(tweets), 'error': str(e)}\n",
    "\n",
    "\n",
    "\n",
    "\n",
    "def parallel_process_tweets(data, batch_size, max_workers, model, schema):\n",
    "    \"\"\"Parallel processing of tweets with rate-limiting.\"\"\"\n",
    "    executor = rate_limited_executor(max_calls_per_minute=60)\n",
    "    results = []\n",
    "\n",
    "\n",
    "    def process_and_collect(batch):\n",
    "        tweets = batch['Tweet_text'].tolist()\n",
    "        return process_batch(tweets, executor, model, schema, batch_size)\n",
    "\n",
    "\n",
    "    with ThreadPoolExecutor(max_workers=max_workers) as pool:\n",
    "        batches = [data.iloc[i:i + batch_size] for i in range(0, len(data), batch_size)]\n",
    "        futures = [pool.submit(process_and_collect, batch) for batch in batches]\n",
    "        for future in futures:\n",
    "            results.append(future.result())\n",
    "\n",
    "\n",
    "    return pd.DataFrame(results)\n",
    "\n",
    "\n",
    "\n",
    "\n",
    "def save_results(data, filename):\n",
    "    \"\"\"Save data to JSON file.\"\"\"\n",
    "    try:\n",
    "        with open(filename, 'w', encoding='utf-8') as f:\n",
    "            json.dump(data, f, ensure_ascii=False, indent=4)\n",
    "        print(f\"Results saved in {filename}\")\n",
    "    except Exception as e:\n",
    "        print(f\"Error during saving: {e}\")\n",
    "\n",
    "\n",
    "\n",
    "\n",
    "# Assuming these are already defined in your previous code\n",
    "# SYSTEM_PROMPT\n",
    "# client (OpenAI client)\n",
    "# model\n",
    "# json_schema\n",
    "# data_label_1 (DataFrame filtered for label 1)\n",
    "\n",
    "\n",
    "# Process data_label_1 and save results\n",
    "processed_tweets_label_1 = parallel_process_tweets(\n",
    "    data=data_label_1,      # Use the data_label_1 DataFrame\n",
    "    batch_size=10,          # Batch size\n",
    "    max_workers=64,         # Number of parallel threads\n",
    "    model=model,            # Your model variable\n",
    "    schema=json_schema      # Your JSON schema variable\n",
    ")\n",
    "\n",
    "\n",
    "# Save the results to label_1_1.json\n",
    "save_results(processed_tweets_label_1.to_dict(orient=\"records\"), \"label_1_1.json\")"
   ]
  },
  {
   "cell_type": "code",
   "execution_count": 20,
   "metadata": {},
   "outputs": [
    {
     "data": {
      "application/vnd.plotly.v1+json": {
       "config": {
        "plotlyServerURL": "https://plot.ly"
       },
       "data": [
        {
         "hoverinfo": "text",
         "hovertext": [
          "Theme: Traffic and Road Closure<br>Type: Bot<br>Confidence: 80%<br>Keywords: ramps back open, scene cleared<br>Sentiment Distribution: Positive 0%, Negative 0%, Neutral 100%",
          "Theme: Celebrity and Pop Culture<br>Type: Bot<br>Confidence: 70%<br>Keywords: Islamic Teachings, peace, ReptarAzar, Jordonsteele, aabill, mkapor, doctorow, metaguide, Best Quora Answers, Meteora20, benabyad, GuyFieri, FoodNetworkBR, ChefNoel<br>Sentiment Distribution: Positive 50%, Negative 0%, Neutral 50%",
          "Theme: Celebrity and Entertainment<br>Type: Bot<br>Confidence: 85%<br>Keywords: MominaMustehsan, TheAimaBaig, Beauty<br>Sentiment Distribution: Positive 57%, Negative 14%, Neutral 29%",
          "Theme: Current Events and Alerts<br>Type: Bot<br>Confidence: 80%<br>Keywords: evacuate, FloridaKeys<br>Sentiment Distribution: Positive 0%, Negative 86%, Neutral 14%",
          "Theme: Product and Service Promotions<br>Type: Bot<br>Confidence: 75%<br>Keywords: metaguide, DialogSystems<br>Sentiment Distribution: Positive 10%, Negative 0%, Neutral 90%",
          "Theme: Social Commentary and Awareness<br>Type: Bot<br>Confidence: 80%<br>Keywords: social commentary, awareness, government, policy, social proof<br>Sentiment Distribution: Positive 0%, Negative 50%, Neutral 50%",
          "Theme: News and Information<br>Type: Bot<br>Confidence: 90%<br>Keywords: news, information, environment<br>Sentiment Distribution: Positive 0%, Negative 100%, Neutral 0%",
          "Theme: Entertainment and Culture<br>Type: Bot<br>Confidence: 95%<br>Keywords: music, movies, celebrities, social media<br>Sentiment Distribution: Positive 83%, Negative 0%, Neutral 17%",
          "Theme: Education and Personal Development<br>Type: Bot<br>Confidence: 88%<br>Keywords: college, uni life, business, entrepreneurship<br>Sentiment Distribution: Positive 50%, Negative 0%, Neutral 50%",
          "Theme: Sports and Leisure<br>Type: Bot<br>Confidence: 80%<br>Keywords: skiing, winter sports, music festivals, events<br>Sentiment Distribution: Positive 100%, Negative 0%, Neutral 0%",
          "Theme: Social Media and Tech<br>Type: Bot<br>Confidence: 90%<br>Keywords: social media, post office, bureaucracy<br>Sentiment Distribution: Positive 0%, Negative 83%, Neutral 17%",
          "Theme: NRA and Politics<br>Type: Bot<br>Confidence: 80%<br>Keywords: gun control, civil rights, NRA, Trump<br>Sentiment Distribution: Positive 0%, Negative 100%, Neutral 0%",
          "Theme: Amy Schumer and Trainwreck<br>Type: Bot<br>Confidence: 90%<br>Keywords: Amy Schumer, comedy, Trainwreck, entertainment<br>Sentiment Distribution: Positive 100%, Negative 0%, Neutral 0%",
          "Theme: Linkin Park and Music<br>Type: Bot<br>Confidence: 95%<br>Keywords: music, fandom, Linkin Park, community<br>Sentiment Distribution: Positive 83%, Negative 0%, Neutral 17%",
          "Theme: Small Business and Entrepreneurship<br>Type: Bot<br>Confidence: 90%<br>Keywords: small business, innovation, networking, community<br>Sentiment Distribution: Positive 67%, Negative 0%, Neutral 33%",
          "Theme: Celebrity Culture and Humor<br>Type: Bot<br>Confidence: 70%<br>Keywords: ConnieSchultz, robkardashian, EinsteinBeach, smocking gun, relativity theory, single payer healthcare<br>Sentiment Distribution: Positive 60%, Negative 20%, Neutral 20%",
          "Theme: Social Media and Online Engagement<br>Type: Bot<br>Confidence: 98%<br>Keywords: social media, online engagement, book, reading, pop culture, entertainment, politics, current events<br>Sentiment Distribution: Positive 71%, Negative 14%, Neutral 15%",
          "Theme: Personal and Emotional Experiences<br>Type: Bot<br>Confidence: 90%<br>Keywords: personal experiences, emotional support, growth, self-improvement, empathy<br>Sentiment Distribution: Positive 85%, Negative 5%, Neutral 10%",
          "Theme: Social Media Interactions<br>Type: Bot<br>Confidence: 80%<br>Keywords: social media, engagement, interaction<br>Sentiment Distribution: Positive 70%, Negative 15%, Neutral 15%",
          "Theme: Celebrity and Public Figures<br>Type: Bot<br>Confidence: 75%<br>Keywords: celebrity, public figures, linkinpark<br>Sentiment Distribution: Positive 80%, Negative 10%, Neutral 10%",
          "Theme: Workplace Issues<br>Type: Bot<br>Confidence: 80%<br>Keywords: meeting, work, pressure<br>Sentiment Distribution: Positive 0%, Negative 100%, Neutral 0%",
          "Theme: Motivation and Success<br>Type: Bot<br>Confidence: 90%<br>Keywords: success, achievement, inspiration<br>Sentiment Distribution: Positive 100%, Negative 0%, Neutral 0%",
          "Theme: Celebrity and Lifestyles<br>Type: Bot<br>Confidence: 80%<br>Keywords: QI, plants, Small Business Boss, Chrissy Teigen<br>Sentiment Distribution: Positive 30%, Negative 0%, Neutral 70%",
          "Theme: Social Media and Entertainment<br>Type: Bot<br>Confidence: 85%<br>Keywords: Spotify, @hyipratenet, @chrissyteigen<br>Sentiment Distribution: Positive 60%, Negative 0%, Neutral 40%",
          "Theme: Tributes and Reminders<br>Type: Bot<br>Confidence: 75%<br>Keywords: Jai Ho, Republic Day, The Spellman Sisters Mortuary<br>Sentiment Distribution: Positive 40%, Negative 0%, Neutral 60%",
          "Theme: Politics/Leadership<br>Type: Bot<br>Confidence: 80%<br>Keywords: Trump, Theresa May, Emmanuel Macron<br>Sentiment Distribution: Positive 80%, Negative 0%, Neutral 20%",
          "Theme: Food and Beverages<br>Type: Bot<br>Confidence: 80%<br>Keywords: Breakfast, Full Breakfast, Cafe<br>Sentiment Distribution: Positive 100%, Negative 0%, Neutral 0%",
          "Theme: KP Govt Recognition<br>Type: Bot<br>Confidence: 85%<br>Keywords: KP Govt, UN-HABITAT Fukuoka, Asian Townscape Award<br>Sentiment Distribution: Positive 100%, Negative 0%, Neutral 0%",
          "Theme: Success and Opportunity<br>Type: Bot<br>Confidence: 80%<br>Keywords: Luck, Opportunity, Preparation, Risk, Change<br>Sentiment Distribution: Positive 40%, Negative 20%, Neutral 40%",
          "Theme: Personal Growth and Development<br>Type: Bot<br>Confidence: 70%<br>Keywords: Learning, Self-improvement, Career, Success<br>Sentiment Distribution: Positive 50%, Negative 20%, Neutral 30%",
          "Theme: Support and Inspiration<br>Type: Bot<br>Confidence: 90%<br>Keywords: joy, inspiration, motivation, empowerment, achievements, dreams, future, bright<br>Sentiment Distribution: Positive 100%, Negative 0%, Neutral 0%",
          "Theme: News and Updates<br>Type: Bot<br>Confidence: 85%<br>Keywords: politics, governance, encryption, hollywills, Fearnecotton, ChristinaRicci, comedy show, waste management, BMC, bandraite, brooklyn<br>Sentiment Distribution: Positive 60%, Negative 0%, Neutral 40%",
          "Theme: Haiku and Poetry<br>Type: Bot<br>Confidence: 70%<br>Keywords: cherry blossoms, city dwellers, brooklyn, joy, inspiration, motivation<br>Sentiment Distribution: Positive 100%, Negative 0%, Neutral 0%",
          "Theme: International Relations and Politics<br>Type: Bot<br>Confidence: 80%<br>Keywords: India, Pakistan, Terrorism, Defence, Security<br>Sentiment Distribution: Positive 0%, Negative 40%, Neutral 60%",
          "Theme: Personal Life and Relationships<br>Type: Bot<br>Confidence: 70%<br>Keywords: Friend, Support, Wedding, Love<br>Sentiment Distribution: Positive 80%, Negative 10%, Neutral 10%",
          "Theme: Gun Control<br>Type: Bot<br>Confidence: 80%<br>Keywords: gun control, moms demand, gun sense<br>Sentiment Distribution: Positive 40%, Negative 60%, Neutral 0%",
          "Theme: Government and Politics<br>Type: Bot<br>Confidence: 80%<br>Keywords: Sharif, Panama Papers, Labor, #aabill<br>Sentiment Distribution: Positive 0%, Negative 50%, Neutral 50%",
          "Theme: News and Media<br>Type: Bot<br>Confidence: 70%<br>Keywords: @NicoleOliverio, @erin_carey, @mrasconnews, @7News<br>Sentiment Distribution: Positive 0%, Negative 0%, Neutral 100%",
          "Theme: Politics and Current Events<br>Type: Bot<br>Confidence: 80%<br>Keywords: #LabourMustWin, #Orion, NASA, Brexit, Article 50<br>Sentiment Distribution: Positive 0%, Negative 50%, Neutral 50%",
          "Theme: Entertainment and Media<br>Type: Bot<br>Confidence: 70%<br>Keywords: #ProperBo, #classybitch, #ZindagiKuchTohBata<br>Sentiment Distribution: Positive 75%, Negative 0%, Neutral 25%",
          "Theme: Political Commentary and Criticism<br>Type: Bot<br>Confidence: 96%<br>Keywords: politics, criticism, leadership, governance, extremism, tribal<br>Sentiment Distribution: Positive 0%, Negative 80%, Neutral 20%",
          "Theme: Politics and Elections<br>Type: Bot<br>Confidence: 82%<br>Keywords: election, politics, retain, candidates<br>Sentiment Distribution: Positive 40%, Negative 30%, Neutral 30%",
          "Theme: Support and Commendation<br>Type: Bot<br>Confidence: 85%<br>Keywords: support, initiative, charity<br>Sentiment Distribution: Positive 70%, Negative 15%, Neutral 15%",
          "Theme: News<br>Type: Bot<br>Confidence: 80%<br>Keywords: #ShoahFdn20, #POTUS<br>Sentiment Distribution: Positive 50%, Negative 50%, Neutral 0%",
          "Theme: Celebrity and Public Interest<br>Type: Bot<br>Confidence: 80%<br>Keywords: JosefMartinez17, Small Business Boss, Lorrainetapper<br>Sentiment Distribution: Positive 60%, Negative 0%, Neutral 40%",
          "Theme: News and Current Events<br>Type: Bot<br>Confidence: 90%<br>Keywords: #Breaking, Hiroshima<br>Sentiment Distribution: Positive 0%, Negative 0%, Neutral 100%",
          "Theme: Music and Entertainment<br>Type: Bot<br>Confidence: 92%<br>Keywords: music, entertainment, album, LP<br>Sentiment Distribution: Positive 60%, Negative 0%, Neutral 40%",
          "Theme: Technology and Programming<br>Type: Bot<br>Confidence: 88%<br>Keywords: technology, programming, code, design<br>Sentiment Distribution: Positive 50%, Negative 0%, Neutral 50%",
          "Theme: Social Media and Events<br>Type: Bot<br>Confidence: 90%<br>Keywords: social media, events, engagement, promotions<br>Sentiment Distribution: Positive 70%, Negative 0%, Neutral 30%",
          "Theme: Politics and World News<br>Type: Bot<br>Confidence: 95%<br>Keywords: politics, government, international, news<br>Sentiment Distribution: Positive 0%, Negative 0%, Neutral 100%",
          "Theme: News and Politics<br>Type: Bot<br>Confidence: 70%<br>Keywords: #News, #Politics, #Government<br>Sentiment Distribution: Positive 0%, Negative 40%, Neutral 60%",
          "Theme: Self-Care and Fitness<br>Type: Bot<br>Confidence: 75%<br>Keywords: self-care, fitness, wellness<br>Sentiment Distribution: Positive 70%, Negative 0%, Neutral 30%",
          "Theme: Politics and Social Issues<br>Type: Bot<br>Confidence: 70%<br>Keywords: Gun Control, Borderline Bar, MomsDemand, JenniferWexton<br>Sentiment Distribution: Positive 50%, Negative 50%, Neutral 0%",
          "Theme: Adversity and Resilience<br>Type: Bot<br>Confidence: 80%<br>Keywords: Hurricane Irma, leadership, girls' education<br>Sentiment Distribution: Positive 25%, Negative 50%, Neutral 25%",
          "Theme: Social Justice and Activism<br>Type: Bot<br>Confidence: 80%<br>Keywords: rights, equality, justice, activism<br>Sentiment Distribution: Positive 0%, Negative 100%, Neutral 0%",
          "Theme: Food and Beverage<br>Type: Bot<br>Confidence: 85%<br>Keywords: served with, menace which is called Twitter, suga<br>Sentiment Distribution: Positive 66%, Negative 33%, Neutral 1%",
          "Theme: Art and Culture<br>Type: Bot<br>Confidence: 70%<br>Keywords: art, culture, visual art, popular culture<br>Sentiment Distribution: Positive 30%, Negative 20%, Neutral 50%",
          "Theme: Social Issues<br>Type: Bot<br>Confidence: 80%<br>Keywords: social issues, immigration, diversity, social justice<br>Sentiment Distribution: Positive 50%, Negative 30%, Neutral 20%",
          "Theme: Racial Issues and Stereotypes<br>Type: Bot<br>Confidence: 70%<br>Keywords: black, swim, hair wet<br>Sentiment Distribution: Positive 0%, Negative 100%, Neutral 0%",
          "Theme: Celebrity News and Entertainment<br>Type: Bot<br>Confidence: 80%<br>Keywords: Kendrick Lamar, Grammy, Performance<br>Sentiment Distribution: Positive 100%, Negative 0%, Neutral 0%",
          "Theme: Weather Discussion<br>Type: Bot<br>Confidence: 70%<br>Keywords: cold, weather<br>Sentiment Distribution: Positive 0%, Negative 0%, Neutral 100%",
          "Theme: Politics and International Relations<br>Type: Bot<br>Confidence: 80%<br>Keywords: Russia, indictment<br>Sentiment Distribution: Positive 0%, Negative 100%, Neutral 0%",
          "Theme: Tweets are about India<br>Type: Bot<br>Confidence: 80%<br>Keywords: India, terrorists<br>Sentiment Distribution: Positive 0%, Negative 100%, Neutral 0%",
          "Theme: Politics and News<br>Type: Bot<br>Confidence: 80%<br>Keywords: govt, leader, inaction, uneasy, poverty, inequality<br>Sentiment Distribution: Positive 0%, Negative 100%, Neutral 0%",
          "Theme: Celebrity and Recognition<br>Type: Bot<br>Confidence: 89%<br>Keywords: Meghan, DM, signed copies, Coco, Ted Dabney, passed away<br>Sentiment Distribution: Positive 60%, Negative 20%, Neutral 20%",
          "Theme: Politics and Activism<br>Type: Bot<br>Confidence: 80%<br>Keywords: Report, OIC, EU, human rights, security/surveillance<br>Sentiment Distribution: Positive 20%, Negative 60%, Neutral 20%",
          "Theme: Discontent and Criticism<br>Type: Bot<br>Confidence: 90%<br>Keywords: PMLN, PTI, inauguration, wasted, @bluesatch, @plantbasedcaleb, truth<br>Sentiment Distribution: Positive 0%, Negative 100%, Neutral 0%",
          "Theme: Pop Culture<br>Type: Bot<br>Confidence: 80%<br>Keywords: Malcolm in the Middle, Witty repartee, Social media<br>Sentiment Distribution: Positive 40%, Negative 20%, Neutral 40%",
          "Theme: Environmental Conservation<br>Type: Bot<br>Confidence: 90%<br>Keywords: Gambila river bed plantation, Billion tree tsunami<br>Sentiment Distribution: Positive 100%, Negative 0%, Neutral 0%",
          "Theme: Current Events<br>Type: Bot<br>Confidence: 85%<br>Keywords: Question period in the House of Commons, Violence reduction, Crime<br>Sentiment Distribution: Positive 0%, Negative 80%, Neutral 20%",
          "Theme: Personal Interactions<br>Type: Bot<br>Confidence: 75%<br>Keywords: Social media, Witty repartee, Thanks, Elizabeth<br>Sentiment Distribution: Positive 60%, Negative 10%, Neutral 30%",
          "Theme: Entertainment and Leisure<br>Type: Bot<br>Confidence: 70%<br>Keywords: Hoodrich, Djscream<br>Sentiment Distribution: Positive 80%, Negative 10%, Neutral 10%",
          "Theme: Social Media and Online Presence<br>Type: Bot<br>Confidence: 80%<br>Keywords: streaming, website, listen, thankful, gratitude, criticism, opinion<br>Sentiment Distribution: Positive 60%, Negative 20%, Neutral 20%",
          "Theme: Social Justice and Empowerment<br>Type: Bot<br>Confidence: 87%<br>Keywords: guncontrol, women, respect<br>Sentiment Distribution: Positive 40%, Negative 30%, Neutral 30%",
          "Theme: Economic Concerns<br>Type: Bot<br>Confidence: 78%<br>Keywords: economy, Pakistan<br>Sentiment Distribution: Positive 20%, Negative 50%, Neutral 30%",
          "Theme: Transportation and Infrastructure<br>Type: Bot<br>Confidence: 85%<br>Keywords: <br>Sentiment Distribution: Positive 0%, Negative 0%, Neutral 0%",
          "Theme: Education and Research<br>Type: Bot<br>Confidence: 80%<br>Keywords: <br>Sentiment Distribution: Positive 0%, Negative 0%, Neutral 0%",
          "Theme: Reading and Books<br>Type: Bot<br>Confidence: 75%<br>Keywords: <br>Sentiment Distribution: Positive 0%, Negative 0%, Neutral 0%",
          "Theme: Weather and Seasonal Activities<br>Type: Bot<br>Confidence: 70%<br>Keywords: <br>Sentiment Distribution: Positive 0%, Negative 0%, Neutral 0%",
          "Theme: Celebrity and Cultural News<br>Type: Bot<br>Confidence: 80%<br>Keywords: celebrity, culture, news, awards, recognition, humor, pop culture, social commentary, memorials, tributes, personal interactions<br>Sentiment Distribution: Positive 60%, Negative 0%, Neutral 40%",
          "Theme: Entertainment and Book Reviews<br>Type: Bot<br>Confidence: 85%<br>Keywords: ThePerfectGirl, @GillyMacmillan, @KendallJenner, @Jaspritbumrah93, @traffic_jpr<br>Sentiment Distribution: Positive 50%, Negative 0%, Neutral 50%",
          "Theme: Social and Cultural<br>Type: Bot<br>Confidence: 80%<br>Keywords: London, celebrate, diversity<br>Sentiment Distribution: Positive 75%, Negative 0%, Neutral 25%",
          "Theme: Politics and Social Commentary<br>Type: Bot<br>Confidence: 70%<br>Keywords: GunControl, MurderRate, LindseyGraham, MamasFamily<br>Sentiment Distribution: Positive 0%, Negative 60%, Neutral 40%",
          "Theme: Celebrity and Entertainment News<br>Type: Bot<br>Confidence: 80%<br>Keywords: Bob Greenfield, Leary, Garcia, Bill Graham, TheBachelorette, RachLindsay, EyesOnYou, sdcountylibrary, CountryMusic, NRA<br>Sentiment Distribution: Positive 40%, Negative 0%, Neutral 60%",
          "Theme: Gardening<br>Type: Bot<br>Confidence: 82%<br>Keywords: bulbs, whiter, disco<br>Sentiment Distribution: Positive 0%, Negative 0%, Neutral 100%",
          "Theme: Hall and Oates<br>Type: Bot<br>Confidence: 70%<br>Keywords: Hall, Oates, 80s, Kirstie Alley, John Travolta<br>Sentiment Distribution: Positive 100%, Negative 0%, Neutral 0%",
          "Theme: Entertainment and Pop Culture<br>Type: Bot<br>Confidence: 80%<br>Keywords: Bizarre Explainer, Jojo\\u2019s, Wilderness, Queen<br>Sentiment Distribution: Positive 40%, Negative 20%, Neutral 40%",
          "Theme: Workplace Culture and Management<br>Type: Bot<br>Confidence: 80%<br>Keywords: workplace, culture, management, expectations, dialogue<br>Sentiment Distribution: Positive 80%, Negative 20%, Neutral 0%",
          "Theme: Pakistan-Kashmir Relations<br>Type: Bot<br>Confidence: 80%<br>Keywords: #Pakistan, #KashmirBlackDay<br>Sentiment Distribution: Positive 66.67%, Negative 0%, Neutral 33.33%",
          "Theme: Financial and Economic Issues<br>Type: Bot<br>Confidence: 91%<br>Keywords: taxation, government, investment, technology, ethereum, GST<br>Sentiment Distribution: Positive 0%, Negative 90%, Neutral 10%",
          "Theme: Entertainment and Social Media<br>Type: Bot<br>Confidence: 85%<br>Keywords: celebrity, social media, TV show, mental health<br>Sentiment Distribution: Positive 80%, Negative 0%, Neutral 20%",
          "Theme: Technology and Futurism<br>Type: Bot<br>Confidence: 75%<br>Keywords: tech future, blockchain, ethereum, innovation<br>Sentiment Distribution: Positive 0%, Negative 0%, Neutral 100%",
          "Theme: Miscellaneous and Product Development<br>Type: Bot<br>Confidence: 70%<br>Keywords: product development, innovation, reaction, feedback<br>Sentiment Distribution: Positive 0%, Negative 0%, Neutral 100%",
          "Theme: Cultural Trends and Observations<br>Type: Bot<br>Confidence: 80%<br>Keywords: netflix, maniacnetflix, bldgblog, drjudymelinek, kourtneykardash<br>Sentiment Distribution: Positive 60%, Negative 20%, Neutral 20%",
          "Theme: General Lifestyle and Updates<br>Type: Bot<br>Confidence: 86%<br>Keywords: morning routine, RobAndChyna, KUWTK, Ghana, Lexington, refugee families<br>Sentiment Distribution: Positive 0%, Negative 10%, Neutral 90%",
          "Theme: Positive Emotions and Appreciation<br>Type: Bot<br>Confidence: 80%<br>Keywords: thanks, wonderful, Survivor, new season<br>Sentiment Distribution: Positive 80%, Negative 0%, Neutral 20%",
          "Theme: Information Sharing and Discussion<br>Type: Bot<br>Confidence: 70%<br>Keywords: Survivor, missing, Chinese food, venue, advice<br>Sentiment Distribution: Positive 20%, Negative 0%, Neutral 80%",
          "Theme: Celebrity Culture and Awards<br>Type: Bot<br>Confidence: 80%<br>Keywords: Grammies, Gramophone Awards, Celebrities, Influence<br>Sentiment Distribution: Positive 0%, Negative 0%, Neutral 100%",
          "Theme: Personal Interests and Relationships<br>Type: Bot<br>Confidence: 85%<br>Keywords: Relationships, Breakups, Personal growth, Self-improvement<br>Sentiment Distribution: Positive 100%, Negative 0%, Neutral 0%",
          "Theme: Entertainment and Music<br>Type: Bot<br>Confidence: 80%<br>Keywords: WayOverYonder_, @HappyWoman9, @MosesSumney, @localnatives, #sochi2014, #gold, #Bardot, @XiaXiaTechnique, @BIRDZONE_<br>Sentiment Distribution: Positive 50%, Negative 20%, Neutral 30%",
          "Theme: Celebrity and Culture<br>Type: Bot<br>Confidence: 80%<br>Keywords: @D_Towsey, @K_Stansfield, Tyler Keevil, Words&amp; Festival<br>Sentiment Distribution: Positive 50%, Negative 0%, Neutral 50%",
          "Theme: Humor and Satire<br>Type: Bot<br>Confidence: 90%<br>Keywords: umbrella license test, apparently-sat-front-row-on-the-log-flume, NYC summer aesthetic<br>Sentiment Distribution: Positive 75%, Negative 25%, Neutral 0%",
          "Theme: Canadian Politics<br>Type: Bot<br>Confidence: 80%<br>Keywords: Pelosi, speaker, CDP, party leadership<br>Sentiment Distribution: Positive 0%, Negative 75%, Neutral 25%",
          "Theme: Empowerment and Personal Growth<br>Type: Bot<br>Confidence: 85%<br>Keywords: Empowerment, Tomorrow, Belief<br>Sentiment Distribution: Positive 80%, Negative 10%, Neutral 10%",
          "Theme: Social Commentary and Criticism<br>Type: Bot<br>Confidence: 80%<br>Keywords: Hate, Shameful<br>Sentiment Distribution: Positive 10%, Negative 80%, Neutral 10%",
          "Theme: Humor and Leisure<br>Type: Bot<br>Confidence: 70%<br>Keywords: Entertainment, Animal<br>Sentiment Distribution: Positive 90%, Negative 5%, Neutral 5%",
          "Theme: Social and Cultural Issues<br>Type: Bot<br>Confidence: 80%<br>Keywords: forced, cuts, labor, peanut butter, fashion, charity, cannes<br>Sentiment Distribution: Positive 30%, Negative 40%, Neutral 30%",
          "Theme: Business and Entrepreneurship<br>Type: Bot<br>Confidence: 80%<br>Keywords: business, entrepreneurship, opening<br>Sentiment Distribution: Positive 60%, Negative 20%, Neutral 20%",
          "Theme: Technology and Online Presence<br>Type: Bot<br>Confidence: 85%<br>Keywords: technology, online presence, revenue<br>Sentiment Distribution: Positive 50%, Negative 20%, Neutral 30%",
          "Theme: General Interest and Lifestyle<br>Type: Bot<br>Confidence: 80%<br>Keywords: general interest, lifestyle, food<br>Sentiment Distribution: Positive 60%, Negative 20%, Neutral 20%",
          "Theme: Travel and Tourism<br>Type: Bot<br>Confidence: 80%<br>Keywords: travel, tourism, views<br>Sentiment Distribution: Positive 60%, Negative 20%, Neutral 20%",
          "Theme: Social Media and Online Culture<br>Type: Bot<br>Confidence: 70%<br>Keywords: Twitter, Social media<br>Sentiment Distribution: Positive 40%, Negative 20%, Neutral 40%",
          "Theme: Entertainment and Humor<br>Type: Bot<br>Confidence: 90%<br>Keywords: internet, memes, jokes<br>Sentiment Distribution: Positive 90%, Negative 5%, Neutral 5%",
          "Theme: Sports and Cricket<br>Type: Bot<br>Confidence: 70%<br>Keywords: cricket, match, news<br>Sentiment Distribution: Positive 70%, Negative 20%, Neutral 10%",
          "Theme: Small Business<br>Type: Bot<br>Confidence: 87%<br>Keywords: Small Business, Small Business Boss, Site<br>Sentiment Distribution: Positive 0%, Negative 0%, Neutral 100%",
          "Theme: Positive Social Impact<br>Type: Bot<br>Confidence: 85%<br>Keywords: media, power, boon, BDS, Theresa May, DANCE WITH YOU, gangster chic<br>Sentiment Distribution: Positive 60%, Negative 20%, Neutral 20%",
          "Theme: Entertainment and Celebrity News<br>Type: Bot<br>Confidence: 75%<br>Keywords: DANCE WITH YOU, gangster chic, BAFTA, Theresa May<br>Sentiment Distribution: Positive 0%, Negative 40%, Neutral 60%",
          "Theme: Breaking News<br>Type: Bot<br>Confidence: 90%<br>Keywords: Cosby, BDS<br>Sentiment Distribution: Positive 0%, Negative 60%, Neutral 40%",
          "Theme: Human Rights and Social Justice<br>Type: Bot<br>Confidence: 80%<br>Keywords: Human Rights, Activists, Silencing, India, Holocaust, Education<br>Sentiment Distribution: Positive 30%, Negative 50%, Neutral 20%",
          "Theme: Australia's Politics and Infrastructure<br>Type: Bot<br>Confidence: 72%<br>Keywords: #aabill, dinosaur tech illiterates, Australia<br>Sentiment Distribution: Positive 0%, Negative 33%, Neutral 67%",
          "Theme: Social Responsibility and Community<br>Type: Bot<br>Confidence: 86%<br>Keywords: vulnerable, Republic Day, Jai Ho<br>Sentiment Distribution: Positive 50%, Negative 0%, Neutral 50%",
          "Theme: Infrastructure and Public Safety<br>Type: Bot<br>Confidence: 83%<br>Keywords: infrastructure stability, safety measures<br>Sentiment Distribution: Positive 0%, Negative 33%, Neutral 67%",
          "Theme: Social Awareness and Activism<br>Type: Bot<br>Confidence: 80%<br>Keywords: rape, justice, love, family<br>Sentiment Distribution: Positive 33%, Negative 33%, Neutral 33%",
          "Theme: Arts and Culture<br>Type: Bot<br>Confidence: 85%<br>Keywords: #RaleighArtBeats, @RaleighArts, Britt Flood<br>Sentiment Distribution: Positive 100%, Negative 0%, Neutral 0%",
          "Theme: Community and Events<br>Type: Bot<br>Confidence: 80%<br>Keywords: #SundayService, #KDX<br>Sentiment Distribution: Positive 100%, Negative 0%, Neutral 0%",
          "Theme: Social Media and Connectivity<br>Type: Bot<br>Confidence: 75%<br>Keywords: @RaleighArts, @JosieEnefer8<br>Sentiment Distribution: Positive 100%, Negative 0%, Neutral 0%",
          "Theme: Motivational/ Inspirational<br>Type: Bot<br>Confidence: 70%<br>Keywords: heart, strength, thank, keep<br>Sentiment Distribution: Positive 75%, Negative 0%, Neutral 25%",
          "Theme: Personal Development and Career Growth<br>Type: Bot<br>Confidence: 80%<br>Keywords: personalbranding, career, choices<br>Sentiment Distribution: Positive 66.67%, Negative 0%, Neutral 33.33%",
          "Theme: Cultural and Social Issues<br>Type: Bot<br>Confidence: 80%<br>Keywords: rap, society, music, celebrity, culture, media, justice, activism, change, humor, satire, commentary<br>Sentiment Distribution: Positive 20%, Negative 0%, Neutral 80%",
          "Theme: Food and Dining<br>Type: Bot<br>Confidence: 100%<br>Keywords: Brick & Fire, wood fire pizza<br>Sentiment Distribution: Positive 100%, Negative 0%, Neutral 0%",
          "Theme: Technology and Manufacturing<br>Type: Bot<br>Confidence: 100%<br>Keywords: 3D-Printed metal, manufacturing<br>Sentiment Distribution: Positive 0%, Negative 0%, Neutral 100%",
          "Theme: Parenting and Family<br>Type: Bot<br>Confidence: 90%<br>Keywords: parenting, unconditional love<br>Sentiment Distribution: Positive 100%, Negative 0%, Neutral 0%",
          "Theme: Social Issues and Politics<br>Type: Bot<br>Confidence: 90%<br>Keywords: Roy Moore, Snowden, Candor with the Chinese<br>Sentiment Distribution: Positive 60%, Negative 20%, Neutral 20%",
          "Theme: Relationships and Pets<br>Type: Bot<br>Confidence: 80%<br>Keywords: boyfriend, dog, Slash<br>Sentiment Distribution: Positive 0%, Negative 0%, Neutral 100%",
          "Theme: Community and Social Issues<br>Type: Bot<br>Confidence: 80%<br>Keywords: community, social, issues<br>Sentiment Distribution: Positive 25%, Negative 50%, Neutral 25%",
          "Theme: Celebrations<br>Type: Bot<br>Confidence: 100%<br>Keywords: birthday, friend, celebrating, shining example<br>Sentiment Distribution: Positive 85%, Negative 0%, Neutral 15%",
          "Theme: Disappointment and Frustration<br>Type: Bot<br>Confidence: 70%<br>Keywords: delayed, order, plans, inflexibility, kendricklamar, damm<br>Sentiment Distribution: Positive 0%, Negative 80%, Neutral 20%",
          "Theme: European Union Politics<br>Type: Bot<br>Confidence: 98%<br>Keywords: EU, Brexit, leave, currency<br>Sentiment Distribution: Positive 0%, Negative 100%, Neutral 0%",
          "Theme: Personal Relationships and Interactions<br>Type: Bot<br>Confidence: 80%<br>Keywords: thanks, check, out, appreciate<br>Sentiment Distribution: Positive 100%, Negative 0%, Neutral 0%",
          "Theme: Entertainment and Lifestyle<br>Type: Bot<br>Confidence: 75%<br>Keywords: music, funky, banger, caribbean, nassau, roatan<br>Sentiment Distribution: Positive 100%, Negative 0%, Neutral 0%",
          "Theme: Celebrity News and Updates<br>Type: Bot<br>Confidence: 70%<br>Keywords: kuwtk, family<br>Sentiment Distribution: Positive 100%, Negative 0%, Neutral 0%",
          "Theme: Immigration and Refugees<br>Type: Bot<br>Confidence: 75%<br>Keywords: #NewcomersWelcome, #WelcomeToCanada, #RefugeesWelcome, #privatesponsorship<br>Sentiment Distribution: Positive 75%, Negative 0%, Neutral 25%",
          "Theme: Secrets and Personal Information<br>Type: Bot<br>Confidence: 80%<br>Keywords: secret, spill, confidential, boundaries<br>Sentiment Distribution: Positive 0%, Negative 100%, Neutral 0%",
          "Theme: Social Cause and Charity<br>Type: Bot<br>Confidence: 80%<br>Keywords: #WAKEUPCALL, #UNICEF, #SwatMotorway<br>Sentiment Distribution: Positive 60%, Negative 20%, Neutral 20%"
         ],
         "marker": {
          "color": "rgb(255,0,0)",
          "line": {
           "color": "rgb(139,0,0)",
           "width": 1
          },
          "size": [
           13,
           12,
           13.5,
           13,
           12.5,
           13,
           14,
           14.5,
           13.8,
           13,
           14,
           13,
           14,
           14.5,
           14,
           12,
           14.8,
           14,
           13,
           12.5,
           13,
           14,
           13,
           13.5,
           12.5,
           13,
           13,
           13.5,
           13,
           12,
           14,
           13.5,
           12,
           13,
           12,
           13,
           13,
           12,
           13,
           12,
           14.6,
           13.2,
           13.5,
           13,
           13,
           14,
           14.2,
           13.8,
           14,
           14.5,
           12,
           12.5,
           12,
           13,
           13,
           13.5,
           12,
           13,
           12,
           13,
           12,
           13,
           13,
           13,
           13.9,
           13,
           14,
           13,
           14,
           13.5,
           12.5,
           12,
           13,
           13.7,
           12.8,
           13.5,
           13,
           12.5,
           12,
           13,
           13.5,
           13,
           12,
           13,
           13.2,
           12,
           13,
           13,
           13,
           14.1,
           13.5,
           12.5,
           12,
           13,
           13.6,
           13,
           12,
           13,
           13.5,
           13,
           13,
           14,
           13,
           13.5,
           13,
           12,
           13,
           13,
           13.5,
           13,
           13,
           12,
           14,
           12,
           13.7,
           13.5,
           12.5,
           14,
           13,
           12.2,
           13.6,
           13.3,
           13,
           13.5,
           13,
           12.5,
           12,
           13,
           13,
           15,
           15,
           14,
           14,
           13,
           13,
           15,
           12,
           14.8,
           13,
           12.5,
           12,
           12.5,
           13,
           13
          ]
         },
         "mode": "markers",
         "name": "Bot Themes",
         "type": "scatter",
         "x": [
          -7.232606925060729,
          -7.166723642839313,
          -5.8818209573668065,
          -3.0721843864891056,
          -4.246419136814212,
          -4.6876709387202675,
          -4.757563753321427,
          -4.345904508495696,
          -5.561006171579036,
          -3.2413010236708555,
          -6.748768677153883,
          -3.598265883348509,
          -4.5194830533893064,
          -4.984161884147628,
          -5.531742117224016,
          -4.860643334892192,
          -4.241416929086828,
          -5.776282575117501,
          -6.615696318962152,
          -6.54882618785541,
          -5.801809231291193,
          -5.3031060828039,
          -4.161446166763604,
          -4.86215254987808,
          -6.538534597483764,
          -4.158280891413598,
          -3.1790400361714344,
          -4.333032556972028,
          -4.530557293183357,
          -8.442126621937359,
          -5.269329899811237,
          -6.223810882229422,
          -5.031118037582048,
          -4.591790011055571,
          -5.656567634412081,
          -5.195749989551804,
          -4.398338065084762,
          -4.41187057359735,
          -4.308976554886153,
          -3.867373486336982,
          -5.113279589008687,
          -5.967878772584053,
          -3.789323765098887,
          -3.367456566720797,
          -5.610981248327516,
          -6.293555724808241,
          -5.0382882476046875,
          -3.723828820628598,
          -6.456323162134727,
          -6.201366170678657,
          -2.5081782751956774,
          -4.57633862065746,
          -6.927461061175663,
          -5.07469008291599,
          -3.8560723641153416,
          -4.519297236020027,
          -5.877697167094006,
          -4.743756433253278,
          -5.097613937459658,
          -3.0072770279041174,
          -3.555418602748928,
          -4.404747059103444,
          -4.876048719336457,
          -4.754256056686724,
          -7.19262615649931,
          -4.910892896532392,
          -4.531440145369375,
          -4.250783185917104,
          -6.043373724715065,
          -3.888276439544899,
          -4.2866941226372575,
          -4.315565764484372,
          -7.013621348536157,
          -5.091854931764316,
          -4.8211092602945955,
          -5.005661434857551,
          -5.132256140098481,
          -6.281726382538425,
          -2.995056816872238,
          -6.453596462139794,
          -4.927616638860392,
          -4.00476936754562,
          -4.976560305661984,
          -6.829434058400729,
          -5.917986617282366,
          -4.768571804409916,
          -5.3787351480476255,
          -5.204480740614189,
          -7.460514450899693,
          -4.839301398746093,
          -4.159732795919129,
          -4.884752021610878,
          -3.4199758685922816,
          -6.441380240570181,
          -6.2384115911077975,
          -5.500108336471424,
          -1.5642580937597237,
          -3.6225109708258865,
          -3.3022838922760247,
          -5.912695557820551,
          -4.151834952987936,
          -3.9517383483283814,
          -5.368961554349833,
          -5.67636021663448,
          -5.263406137628223,
          -4.88238200027307,
          -5.219835002346434,
          -5.519604505801477,
          -5.057768806366806,
          -5.3586570855116555,
          -4.999637212937645,
          -4.077909445362808,
          -7.1910995494656405,
          -4.888059090253697,
          -4.665162943859734,
          -6.277767728457245,
          -5.166186433770061,
          -3.666847450989053,
          -4.687241205618337,
          -7.742124372019168,
          -5.804574531724011,
          -5.7920648632158205,
          -4.848222750526569,
          -6.217009893164599,
          -4.7093746461489285,
          -5.296070577320191,
          -6.699650769550096,
          -5.3549364194156786,
          -5.541496787732073,
          -6.4668109971768795,
          -4.924884305835519,
          -3.789236330155571,
          -5.1408286305432505,
          -3.090531014215621,
          -6.041015439178459,
          -3.613542969399826,
          -6.179500252247806,
          -6.989922098998394,
          -4.928301621234615,
          -4.510879133891841,
          -4.920344907362383,
          -3.5103340034131203,
          -5.846792684651558,
          -4.059834658035673
         ],
         "y": [
          -4.3716397884794205,
          -4.465877926777547,
          -3.5728936996963987,
          -5.663399401066016,
          -5.80877117685341,
          -6.253945634221578,
          -5.425463670774954,
          -5.424655403026248,
          -5.560741593891487,
          -5.157375804387024,
          -3.711973418915492,
          -3.1390000255739894,
          -2.1091384474107913,
          -6.818634222272751,
          -3.178892101259506,
          -4.75321416105645,
          -6.130579868935371,
          -3.55751192923071,
          -5.9313643739816655,
          -5.722031604139549,
          -4.379830585913339,
          -5.548915645590885,
          -3.5265183792561787,
          -6.126381547805568,
          -4.490846314217301,
          -3.9256434212946805,
          -5.761366436010677,
          -6.097654789256011,
          -4.595492959914258,
          -2.881290027688843,
          -5.461075898037225,
          -5.474385796648656,
          -4.1724205788688815,
          -5.693255661701872,
          -5.941357198494258,
          -3.982123241387199,
          -4.580077134927617,
          -3.534963821285878,
          -6.491859086182992,
          -4.624151858752872,
          -4.609995160837381,
          -5.063385326888926,
          -6.890455865917747,
          -3.9248414497759447,
          -4.270288976477433,
          -4.56762825230013,
          -5.681092805944318,
          -4.4010996407739,
          -5.349598791753289,
          -5.630962033187375,
          -4.889527340399424,
          -5.577274715182609,
          -3.5313499440357727,
          -6.050540337301674,
          -6.311054777941003,
          -3.8727365264961606,
          -4.518581895166023,
          -5.274344539796226,
          -4.8812493313355665,
          -4.097989276466583,
          -4.961898047164203,
          -3.5841526913360355,
          -5.2486308170074025,
          -5.362505432770941,
          -6.76625406923886,
          -5.992626557157951,
          -5.4703908953669504,
          -5.197533049256773,
          -6.923034628649089,
          -4.592784340194428,
          -4.749213780804927,
          -6.013281952664453,
          -5.350120801007861,
          -4.537103109676209,
          -6.721826139417855,
          -4.309873742949105,
          -6.1437444506529895,
          -4.534189720816447,
          -6.085319255505499,
          -3.9786679429990457,
          -4.53347201102911,
          -5.766570220351428,
          -5.760732141740054,
          -4.2329684093365465,
          -6.165719270117793,
          -4.924156808763145,
          -3.3838144445538614,
          -4.7590562071897216,
          -3.767137954368903,
          -5.40891640808162,
          -4.883740695989877,
          -5.352499473078787,
          -4.651646300675771,
          -6.126057907232168,
          -5.496173661359936,
          -4.038286443956245,
          -4.863883138237754,
          -4.467695865795557,
          -4.4261760605491265,
          -4.427162904884777,
          -4.936297426487594,
          -3.9929144674775685,
          -6.558633232408809,
          -5.86918582879041,
          -4.9839289809811556,
          -5.137038246629791,
          -5.711704991608861,
          -4.322776295104868,
          -5.486563798926782,
          -4.322965824508642,
          -6.128920871833596,
          -4.6631610292821035,
          -3.888260991589883,
          -5.813264686287097,
          -5.214907889678056,
          -4.741965529399222,
          -7.429955961344927,
          -5.055825288445396,
          -8.235488552844828,
          -6.690300110481376,
          -4.579302852536182,
          -3.1197369699676383,
          -6.989214782931221,
          -3.875696222715981,
          -5.295204402761901,
          -4.279647255680234,
          -4.75066425618429,
          -5.046130920243942,
          -3.2019317492554653,
          -6.217752223087877,
          -5.627665321685923,
          -6.007613910550477,
          -6.3737141664201244,
          -6.457037752642787,
          -6.117933673314305,
          -4.9879579392656535,
          -3.811820900203216,
          -4.874692942705139,
          -4.226386619048183,
          -4.146519658057146,
          -4.271394888355587,
          -4.699793217194687,
          -6.61560393680433,
          -5.845295743478138
         ]
        },
        {
         "hoverinfo": "text",
         "hovertext": [
          "Theme: Technology and Coding<br>Type: Non-Bot<br>Confidence: 85%<br>Keywords: VHDL, Verilog, programming, computer science<br>Sentiment Distribution: Positive 0%, Negative 0%, Neutral 100%",
          "Theme: Culture and Entertainment<br>Type: Non-Bot<br>Confidence: 70%<br>Keywords: art, haiku, Funko, Netflix, movie, God, amazing, experiences<br>Sentiment Distribution: Positive 60%, Negative 0%, Neutral 40%",
          "Theme: Social Interactions<br>Type: Non-Bot<br>Confidence: 80%<br>Keywords: love, doo-dah, kissing challenge, shaking<br>Sentiment Distribution: Positive 60%, Negative 0%, Neutral 40%",
          "Theme: Health and Fitness<br>Type: Non-Bot<br>Confidence: 80%<br>Keywords: Energy expenditure, Calories, Metabolic rate<br>Sentiment Distribution: Positive 0%, Negative 0%, Neutral 100%",
          "Theme: Emotions and Mental State<br>Type: Non-Bot<br>Confidence: 70%<br>Keywords: Anger, Excitement, Euphoria<br>Sentiment Distribution: Positive 40%, Negative 20%, Neutral 40%",
          "Theme: Tech and Software<br>Type: Non-Bot<br>Confidence: 80%<br>Keywords: Microsoft, Edge, Chromium, Linux, RHEL, spice-server<br>Sentiment Distribution: Positive 0%, Negative 50%, Neutral 50%",
          "Theme: Cryptocurrency<br>Type: Non-Bot<br>Confidence: 70%<br>Keywords: Crypto, Government, Disclosure<br>Sentiment Distribution: Positive 0%, Negative 0%, Neutral 100%",
          "Theme: Love and Relationships<br>Type: Non-Bot<br>Confidence: 80%<br>Keywords: love, girlfriend, diamond ring<br>Sentiment Distribution: Positive 66.67%, Negative 16.67%, Neutral 16.67%",
          "Theme: Inspiration and Creativity<br>Type: Non-Bot<br>Confidence: 70%<br>Keywords: music, story, inspiration<br>Sentiment Distribution: Positive 83.33%, Negative 0%, Neutral 16.67%",
          "Theme: Emotional Support and Concern<br>Type: Non-Bot<br>Confidence: 85%<br>Keywords: fresh air, treat urself kindly, te deixarei, desampararei<br>Sentiment Distribution: Positive 40%, Negative 20%, Neutral 40%",
          "Theme: Life and Relationships<br>Type: Non-Bot<br>Confidence: 70%<br>Keywords: Luke, Grandad, doo-dah, doo-dah<br>Sentiment Distribution: Positive 30%, Negative 20%, Neutral 50%",
          "Theme: Gaming<br>Type: Non-Bot<br>Confidence: 80%<br>Keywords: LA NOIRE, gaming<br>Sentiment Distribution: Positive 0%, Negative 0%, Neutral 100%",
          "Theme: Politics<br>Type: Non-Bot<br>Confidence: 80%<br>Keywords: Rumsfeld, MakeAmericaGreatAgain, TrumpTrain<br>Sentiment Distribution: Positive 50%, Negative 0%, Neutral 50%",
          "Theme: Space Exploration and Discovery<br>Type: Non-Bot<br>Confidence: 90%<br>Keywords: planet, discovery, space<br>Sentiment Distribution: Positive 40%, Negative 20%, Neutral 40%",
          "Theme: Pop Culture and Entertainment<br>Type: Non-Bot<br>Confidence: 90%<br>Keywords: BONG, Quantum Break, Marco Rubio, RemyyXxX, God, pop culture<br>Sentiment Distribution: Positive 40%, Negative 30%, Neutral 30%",
          "Theme: Language and Sarcasm<br>Type: Non-Bot<br>Confidence: 80%<br>Keywords: Noooo, Doo-dah, Feint, shim<br>Sentiment Distribution: Positive 0%, Negative 50%, Neutral 50%",
          "Theme: Lightheartedness and Humor<br>Type: Non-Bot<br>Confidence: 72%<br>Keywords: wuvluv, cute, accidentalhaiku, shaggy linkups, tulips<br>Sentiment Distribution: Positive 100%, Negative 0%, Neutral 0%",
          "Theme: Politics and Justice<br>Type: Non-Bot<br>Confidence: 85%<br>Keywords: justice, judge, pill, allegations<br>Sentiment Distribution: Positive 25%, Negative 75%, Neutral 0%",
          "Theme: Lifestyle and Interests<br>Type: Non-Bot<br>Confidence: 70%<br>Keywords: fashion, hobbies, video games, philosophy<br>Sentiment Distribution: Positive 22%, Negative 0%, Neutral 78%",
          "Theme: Social Media and Communication<br>Type: Non-Bot<br>Confidence: 80%<br>Keywords: social media, communication, networking<br>Sentiment Distribution: Positive 0%, Negative 0%, Neutral 100%",
          "Theme: Politics and World Events<br>Type: Non-Bot<br>Confidence: 80%<br>Keywords: Syria, Obama<br>Sentiment Distribution: Positive 0%, Negative 0%, Neutral 100%",
          "Theme: Cryptocurrency and Technology<br>Type: Non-Bot<br>Confidence: 70%<br>Keywords: EOS, Bitmain, Peter Thiel<br>Sentiment Distribution: Positive 100%, Negative 0%, Neutral 0%",
          "Theme: Pop Culture and Humor<br>Type: Non-Bot<br>Confidence: 85%<br>Keywords: haiku, interview, 42, The Hitchhiker's Guide to the Galaxy<br>Sentiment Distribution: Positive 90%, Negative 0%, Neutral 10%",
          "Theme: Travel/Transportation<br>Type: Non-Bot<br>Confidence: 100%<br>Keywords: Travel, Transportation, Aviation, Tourism, Wine<br>Sentiment Distribution: Positive 40%, Negative 20%, Neutral 40%",
          "Theme: Trust and Vulnerability<br>Type: Non-Bot<br>Confidence: 88%<br>Keywords: secrets, trust, computable knowledge, fly, beautiful<br>Sentiment Distribution: Positive 60%, Negative 20%, Neutral 20%",
          "Theme: Emergency Preparedness<br>Type: Non-Bot<br>Confidence: 80%<br>Keywords: tuna cans, poaching rings, emergency<br>Sentiment Distribution: Positive 40%, Negative 20%, Neutral 40%",
          "Theme: Security and Exploits<br>Type: Non-Bot<br>Confidence: 90%<br>Keywords: exploits, security, PHP-Proxy<br>Sentiment Distribution: Positive 30%, Negative 20%, Neutral 50%",
          "Theme: Human Experience and Emotions<br>Type: Non-Bot<br>Confidence: 85%<br>Keywords: bum, favorite things, social interactions<br>Sentiment Distribution: Positive 50%, Negative 20%, Neutral 30%",
          "Theme: Math and Science<br>Type: Non-Bot<br>Confidence: 85%<br>Keywords: math, science, computable knowledge<br>Sentiment Distribution: Positive 50%, Negative 20%, Neutral 30%",
          "Theme: Interrogation and Interview<br>Type: Non-Bot<br>Confidence: 80%<br>Keywords: interrogation, interview, conversational dynamics<br>Sentiment Distribution: Positive 40%, Negative 20%, Neutral 40%",
          "Theme: Language and Culture<br>Type: Non-Bot<br>Confidence: 80%<br>Keywords: language, culture, N\\xc3\\xa3o temas<br>Sentiment Distribution: Positive 60%, Negative 10%, Neutral 30%",
          "Theme: Cryptic Posts and Math<br>Type: Non-Bot<br>Confidence: 85%<br>Keywords: cryptic, math, equation<br>Sentiment Distribution: Positive 50%, Negative 20%, Neutral 30%",
          "Theme: Financial/Business<br>Type: Non-Bot<br>Confidence: 80%<br>Keywords: billionaire, Ethereum, recovery code<br>Sentiment Distribution: Positive 0%, Negative 50%, Neutral 50%",
          "Theme: Productivity and Motivation<br>Type: Non-Bot<br>Confidence: 80%<br>Keywords: motivation, productivity, fashion show<br>Sentiment Distribution: Positive 40%, Negative 10%, Neutral 50%",
          "Theme: College Life<br>Type: Non-Bot<br>Confidence: 88%<br>Keywords: dorm, college, jealous<br>Sentiment Distribution: Positive 0%, Negative 50%, Neutral 50%",
          "Theme: Personal Reminders and Support<br>Type: Non-Bot<br>Confidence: 70%<br>Keywords: help, support, friends<br>Sentiment Distribution: Positive 66.67%, Negative 0%, Neutral 33.33%",
          "Theme: Education<br>Type: Non-Bot<br>Confidence: 85%<br>Keywords: dyslexia, common core, statistics, education<br>Sentiment Distribution: Positive 66.67%, Negative 33.33%, Neutral 0%",
          "Theme: US Politics<br>Type: Non-Bot<br>Confidence: 80%<br>Keywords: ObamaCare, Primary, INPrimary<br>Sentiment Distribution: Positive 0%, Negative 60%, Neutral 40%",
          "Theme: TV and Media<br>Type: Non-Bot<br>Confidence: 80%<br>Keywords: Netflix, TV, Instant, Season 2<br>Sentiment Distribution: Positive 0%, Negative 0%, Neutral 100%",
          "Theme: Entertainment and Hobbies<br>Type: Non-Bot<br>Confidence: 80%<br>Keywords: opera, music, theater, gaming, water, self-care, primark, online store, interest, deduction, limits, frozen, mrc, planet, space, stargaze<br>Sentiment Distribution: Positive 33.33%, Negative 0%, Neutral 66.67%",
          "Theme: Science and Discovery<br>Type: Non-Bot<br>Confidence: 95%<br>Keywords: planet, cyborg<br>Sentiment Distribution: Positive 40%, Negative 20%, Neutral 40%",
          "Theme: Philosophy and Social Commentary<br>Type: Non-Bot<br>Confidence: 80%<br>Keywords: feminism, sabotage<br>Sentiment Distribution: Positive 20%, Negative 50%, Neutral 30%",
          "Theme: Movie and TV News<br>Type: Non-Bot<br>Confidence: 70%<br>Keywords: Nicolas Cage, movies, Bitcoin, miner<br>Sentiment Distribution: Positive 0%, Negative 0%, Neutral 100%",
          "Theme: Information Seeking<br>Type: Non-Bot<br>Confidence: 80%<br>Keywords: keys, instructions, help<br>Sentiment Distribution: Positive 0%, Negative 0%, Neutral 100%",
          "Theme: Cryptocurrency and Bitcoin<br>Type: Non-Bot<br>Confidence: 100%<br>Keywords: bitcoin, bch, bug, price, security<br>Sentiment Distribution: Positive 0%, Negative 80%, Neutral 20%",
          "Theme: Technology and Entertainment<br>Type: Non-Bot<br>Confidence: 80%<br>Keywords: Twitter, Social Media, Gaming, Wine, Beverage Reviews, Science Fiction, Fantasy, Media<br>Sentiment Distribution: Positive 85%, Negative 10%, Neutral 5%",
          "Theme: Encouragement<br>Type: Non-Bot<br>Confidence: 80%<br>Keywords: breathe, take care of urself, get back to work, eat something<br>Sentiment Distribution: Positive 50%, Negative 0%, Neutral 50%",
          "Theme: Cybersecurity and Technology<br>Type: Non-Bot<br>Confidence: 80%<br>Keywords: cybersecurity, competition, Dark Reading, CSAW<br>Sentiment Distribution: Positive 0%, Negative 0%, Neutral 100%",
          "Theme: Emotional Wellbeing and Self-Care<br>Type: Non-Bot<br>Confidence: 70%<br>Keywords: self-care, grounding, pancakes, wine<br>Sentiment Distribution: Positive 100%, Negative 0%, Neutral 0%",
          "Theme: Work/Responsibility<br>Type: Non-Bot<br>Confidence: 85%<br>Keywords: GET BACK TO WORK, Idris, Haskell, Robot pussy<br>Sentiment Distribution: Positive 0%, Negative 10%, Neutral 90%",
          "Theme: Social Commentary and Critique<br>Type: Non-Bot<br>Confidence: 80%<br>Keywords: lie, deception, dishonesty, authority, norms, question, kindness, empathy, respect<br>Sentiment Distribution: Positive 20%, Negative 40%, Neutral 40%",
          "Theme: Exploration and Discovery<br>Type: Non-Bot<br>Confidence: 80%<br>Keywords: planet, discovered, space, relaxation, self-care<br>Sentiment Distribution: Positive 20%, Negative 10%, Neutral 70%",
          "Theme: Respect and Empowerment<br>Type: Non-Bot<br>Confidence: 80%<br>Keywords: respect, dignity, self-worth<br>Sentiment Distribution: Positive 100%, Negative 0%, Neutral 0%"
         ],
         "marker": {
          "color": "rgb(0,255,0)",
          "line": {
           "color": "rgb(0,100,0)",
           "width": 1
          },
          "size": [
           13.5,
           12,
           13,
           13,
           12,
           13,
           12,
           13,
           12,
           13.5,
           12,
           13,
           13,
           14,
           14,
           13,
           12.2,
           13.5,
           12,
           13,
           13,
           12,
           13.5,
           15,
           13.8,
           13,
           14,
           13.5,
           13.5,
           13,
           13,
           13.5,
           13,
           13,
           13.8,
           12,
           13.5,
           13,
           13,
           13,
           14.5,
           13,
           12,
           13,
           15,
           13,
           13,
           13,
           12,
           13.5,
           13,
           13,
           13
          ]
         },
         "mode": "markers",
         "name": "Non-Bot Themes",
         "type": "scatter",
         "x": [
          4.274010095059193,
          3.46028301689641,
          6.665682609425082,
          5.647043553028419,
          3.761124738506122,
          7.212909508352153,
          4.252098604743156,
          5.144235320469519,
          4.744143337458753,
          4.581928367914212,
          4.250141159049369,
          3.4599078518297164,
          5.380957917063787,
          5.8885531033150045,
          4.817862892530667,
          5.306863212699277,
          6.022283034911984,
          4.887651836467611,
          4.068067416302766,
          4.368898696095762,
          3.9956634093700147,
          5.760994940359625,
          4.624483509620878,
          4.256889273947493,
          6.016807932281427,
          5.847995680109044,
          5.335264444251442,
          5.374571260142111,
          7.004072170075942,
          3.9726532607495066,
          6.4666317133949205,
          5.789232519476644,
          4.212545337106779,
          4.293052585423623,
          3.6962597926998644,
          3.3027416466417368,
          5.164122591585427,
          5.279430419705348,
          4.040889740831976,
          4.963190031858302,
          5.4703262912306405,
          5.770505606596027,
          5.036239432310272,
          3.3747006457636193,
          5.377164321679577,
          4.673505596943908,
          5.996756905452689,
          6.691427422207671,
          4.133687396733843,
          6.885934927157364,
          3.705395005892197,
          3.531057432866084,
          6.240932169394169
         ],
         "y": [
          2.5172235027523735,
          3.332218047145864,
          3.4585306371000084,
          4.9872574580382185,
          4.007742316147622,
          4.858132798408053,
          5.462566160856605,
          4.522441142588094,
          5.228769129555061,
          4.3783455970644,
          4.387737899405945,
          6.080565636416762,
          4.897819464590234,
          4.549201063408363,
          6.3579480331043445,
          5.3499993803901065,
          6.589089155254885,
          4.331510956241152,
          4.973054973379975,
          4.697603764645954,
          4.15464178908342,
          5.8170285555887595,
          4.972313175552011,
          4.8389846394532,
          2.8346647020040865,
          5.30163336546185,
          6.488554943847676,
          4.084532106204096,
          6.447025383909978,
          5.935813266574295,
          3.635962033471116,
          3.0180196843021645,
          5.157522890890312,
          5.844321224444933,
          7.2869478706903354,
          3.7084923560815355,
          5.241005715148209,
          5.6689863100118485,
          5.379727959048029,
          3.7612777051914312,
          4.7823404075454405,
          5.266866384944393,
          6.495094876711259,
          2.753726001642922,
          5.089890386905843,
          3.818453902672019,
          6.237594576244099,
          4.872578911489802,
          4.980876772647435,
          3.772118535125239,
          4.571381967879284,
          5.005213937357945,
          4.265964135295958
         ]
        },
        {
         "hoverinfo": "text",
         "hovertext": [
          "Theme: Politics and Governance<br>Type: Mixed<br>Confidence: 92%<br>Keywords: Kavanaugh, Supreme Court, election, voting, integrity<br>Sentiment Distribution: Positive 0%, Negative 100%, Neutral 0%",
          "Theme: Technology and Innovation<br>Type: Mixed<br>Confidence: 95%<br>Keywords: technology, innovation, driverless taxi, future<br>Sentiment Distribution: Positive 50%, Negative 20%, Neutral 30%",
          "Theme: Miscellaneous<br>Type: Mixed<br>Confidence: 85%<br>Keywords: humor, random thoughts, spoopy, broken glass<br>Sentiment Distribution: Positive 80%, Negative 5%, Neutral 15%",
          "Theme: Relationships<br>Type: Mixed<br>Confidence: 70%<br>Keywords: relationship, breakup, advice<br>Sentiment Distribution: Positive 0%, Negative 0%, Neutral 100%",
          "Theme: Entertainment<br>Type: Mixed<br>Confidence: 85%<br>Keywords: #BTS, #HOODRICHRADIO, #GMA<br>Sentiment Distribution: Positive 50%, Negative 0%, Neutral 50%",
          "Theme: Personal Struggles<br>Type: Mixed<br>Confidence: 70%<br>Keywords: suspense, sleepwalker<br>Sentiment Distribution: Positive 0%, Negative 80%, Neutral 20%",
          "Theme: Business and Finance<br>Type: Mixed<br>Confidence: 80%<br>Keywords: business, finance, entrepreneurship, venture<br>Sentiment Distribution: Positive 55%, Negative 0%, Neutral 45%",
          "Theme: Film and Entertainment<br>Type: Mixed<br>Confidence: 85%<br>Keywords: Coco, Netflix, Meghan<br>Sentiment Distribution: Positive 40%, Negative 30%, Neutral 30%",
          "Theme: Technology and Computing<br>Type: Mixed<br>Confidence: 70%<br>Keywords: Atari, Syzygy, gaming, software<br>Sentiment Distribution: Positive 20%, Negative 20%, Neutral 60%",
          "Theme: Current Events and News<br>Type: Mixed<br>Confidence: 70%<br>Keywords: disabled, African scholar, Oxford University, PM, vote, Zardari, Bhutto<br>Sentiment Distribution: Positive 0%, Negative 80%, Neutral 20%",
          "Theme: Technology and Security<br>Type: Mixed<br>Confidence: 70%<br>Keywords: IT security, eBay<br>Sentiment Distribution: Positive 0%, Negative 50%, Neutral 50%",
          "Theme: Sports and Entertainment<br>Type: Mixed<br>Confidence: 80%<br>Keywords: Nascar, BBC, Periscope, LiveOnBBCBreakfast, Football, Homelessness<br>Sentiment Distribution: Positive 40%, Negative 20%, Neutral 40%",
          "Theme: Miscellaneous and Humor<br>Type: Mixed<br>Confidence: 80%<br>Keywords: humor, entertainment, social media<br>Sentiment Distribution: Positive 40%, Negative 0%, Neutral 60%",
          "Theme: Humor and Entertainment<br>Type: Mixed<br>Confidence: 80%<br>Keywords: Comedy, Entertainment, Celebrity<br>Sentiment Distribution: Positive 60%, Negative 20%, Neutral 20%",
          "Theme: Personal and Lifestyle<br>Type: Mixed<br>Confidence: 80%<br>Keywords: personal, lifestyle, adrenaline, relaxation<br>Sentiment Distribution: Positive 50%, Negative 25%, Neutral 25%",
          "Theme: Social Commentary<br>Type: Mixed<br>Confidence: 70%<br>Keywords: <br>Sentiment Distribution: Positive 0%, Negative 0%, Neutral 0%"
         ],
         "marker": {
          "color": "rgb(128,0,128)",
          "line": {
           "color": "rgb(75,0,130)",
           "width": 1
          },
          "size": [
           14.2,
           14.5,
           13.5,
           12,
           13.5,
           12,
           13,
           13.5,
           12,
           12,
           12,
           13,
           13,
           13,
           13,
           12
          ]
         },
         "mode": "markers",
         "name": "Mixed Themes",
         "type": "scatter",
         "x": [
          1.0882116959002834,
          0.9345800307011911,
          0.43919124512143487,
          -1.9128677082497365,
          0.02122765111286717,
          0.3153458623077119,
          -0.8602899708396539,
          1.3536812276499528,
          -0.9195841078836524,
          -1.6314193021418122,
          0.4971823430682003,
          0.20845707341031716,
          -0.9561851229939312,
          0.31624986894443086,
          0.3134749975757049,
          0.06257783620862667
         ],
         "y": [
          -0.234616148647216,
          -0.48620030130473546,
          0.8859166614044913,
          -0.7741613888160211,
          -0.8003831479642843,
          -1.4592703772416618,
          -0.13451135384448373,
          1.0101377648592647,
          -0.3146528472342688,
          -0.2764251861028595,
          -0.8454695966782685,
          1.0265249048797327,
          -1.8065430258164392,
          -0.10689170271186076,
          0.34700349697504423,
          0.13849325868664253
         ]
        }
       ],
       "layout": {
        "height": 800,
        "hovermode": "closest",
        "legend": {
         "bgcolor": "rgba(255,255,255,0.5)",
         "bordercolor": "black",
         "borderwidth": 1,
         "x": 0.85,
         "y": 1
        },
        "plot_bgcolor": "rgb(240,240,240)",
        "showlegend": true,
        "template": {
         "data": {
          "bar": [
           {
            "error_x": {
             "color": "#2a3f5f"
            },
            "error_y": {
             "color": "#2a3f5f"
            },
            "marker": {
             "line": {
              "color": "#E5ECF6",
              "width": 0.5
             },
             "pattern": {
              "fillmode": "overlay",
              "size": 10,
              "solidity": 0.2
             }
            },
            "type": "bar"
           }
          ],
          "barpolar": [
           {
            "marker": {
             "line": {
              "color": "#E5ECF6",
              "width": 0.5
             },
             "pattern": {
              "fillmode": "overlay",
              "size": 10,
              "solidity": 0.2
             }
            },
            "type": "barpolar"
           }
          ],
          "carpet": [
           {
            "aaxis": {
             "endlinecolor": "#2a3f5f",
             "gridcolor": "white",
             "linecolor": "white",
             "minorgridcolor": "white",
             "startlinecolor": "#2a3f5f"
            },
            "baxis": {
             "endlinecolor": "#2a3f5f",
             "gridcolor": "white",
             "linecolor": "white",
             "minorgridcolor": "white",
             "startlinecolor": "#2a3f5f"
            },
            "type": "carpet"
           }
          ],
          "choropleth": [
           {
            "colorbar": {
             "outlinewidth": 0,
             "ticks": ""
            },
            "type": "choropleth"
           }
          ],
          "contour": [
           {
            "colorbar": {
             "outlinewidth": 0,
             "ticks": ""
            },
            "colorscale": [
             [
              0,
              "#0d0887"
             ],
             [
              0.1111111111111111,
              "#46039f"
             ],
             [
              0.2222222222222222,
              "#7201a8"
             ],
             [
              0.3333333333333333,
              "#9c179e"
             ],
             [
              0.4444444444444444,
              "#bd3786"
             ],
             [
              0.5555555555555556,
              "#d8576b"
             ],
             [
              0.6666666666666666,
              "#ed7953"
             ],
             [
              0.7777777777777778,
              "#fb9f3a"
             ],
             [
              0.8888888888888888,
              "#fdca26"
             ],
             [
              1,
              "#f0f921"
             ]
            ],
            "type": "contour"
           }
          ],
          "contourcarpet": [
           {
            "colorbar": {
             "outlinewidth": 0,
             "ticks": ""
            },
            "type": "contourcarpet"
           }
          ],
          "heatmap": [
           {
            "colorbar": {
             "outlinewidth": 0,
             "ticks": ""
            },
            "colorscale": [
             [
              0,
              "#0d0887"
             ],
             [
              0.1111111111111111,
              "#46039f"
             ],
             [
              0.2222222222222222,
              "#7201a8"
             ],
             [
              0.3333333333333333,
              "#9c179e"
             ],
             [
              0.4444444444444444,
              "#bd3786"
             ],
             [
              0.5555555555555556,
              "#d8576b"
             ],
             [
              0.6666666666666666,
              "#ed7953"
             ],
             [
              0.7777777777777778,
              "#fb9f3a"
             ],
             [
              0.8888888888888888,
              "#fdca26"
             ],
             [
              1,
              "#f0f921"
             ]
            ],
            "type": "heatmap"
           }
          ],
          "heatmapgl": [
           {
            "colorbar": {
             "outlinewidth": 0,
             "ticks": ""
            },
            "colorscale": [
             [
              0,
              "#0d0887"
             ],
             [
              0.1111111111111111,
              "#46039f"
             ],
             [
              0.2222222222222222,
              "#7201a8"
             ],
             [
              0.3333333333333333,
              "#9c179e"
             ],
             [
              0.4444444444444444,
              "#bd3786"
             ],
             [
              0.5555555555555556,
              "#d8576b"
             ],
             [
              0.6666666666666666,
              "#ed7953"
             ],
             [
              0.7777777777777778,
              "#fb9f3a"
             ],
             [
              0.8888888888888888,
              "#fdca26"
             ],
             [
              1,
              "#f0f921"
             ]
            ],
            "type": "heatmapgl"
           }
          ],
          "histogram": [
           {
            "marker": {
             "pattern": {
              "fillmode": "overlay",
              "size": 10,
              "solidity": 0.2
             }
            },
            "type": "histogram"
           }
          ],
          "histogram2d": [
           {
            "colorbar": {
             "outlinewidth": 0,
             "ticks": ""
            },
            "colorscale": [
             [
              0,
              "#0d0887"
             ],
             [
              0.1111111111111111,
              "#46039f"
             ],
             [
              0.2222222222222222,
              "#7201a8"
             ],
             [
              0.3333333333333333,
              "#9c179e"
             ],
             [
              0.4444444444444444,
              "#bd3786"
             ],
             [
              0.5555555555555556,
              "#d8576b"
             ],
             [
              0.6666666666666666,
              "#ed7953"
             ],
             [
              0.7777777777777778,
              "#fb9f3a"
             ],
             [
              0.8888888888888888,
              "#fdca26"
             ],
             [
              1,
              "#f0f921"
             ]
            ],
            "type": "histogram2d"
           }
          ],
          "histogram2dcontour": [
           {
            "colorbar": {
             "outlinewidth": 0,
             "ticks": ""
            },
            "colorscale": [
             [
              0,
              "#0d0887"
             ],
             [
              0.1111111111111111,
              "#46039f"
             ],
             [
              0.2222222222222222,
              "#7201a8"
             ],
             [
              0.3333333333333333,
              "#9c179e"
             ],
             [
              0.4444444444444444,
              "#bd3786"
             ],
             [
              0.5555555555555556,
              "#d8576b"
             ],
             [
              0.6666666666666666,
              "#ed7953"
             ],
             [
              0.7777777777777778,
              "#fb9f3a"
             ],
             [
              0.8888888888888888,
              "#fdca26"
             ],
             [
              1,
              "#f0f921"
             ]
            ],
            "type": "histogram2dcontour"
           }
          ],
          "mesh3d": [
           {
            "colorbar": {
             "outlinewidth": 0,
             "ticks": ""
            },
            "type": "mesh3d"
           }
          ],
          "parcoords": [
           {
            "line": {
             "colorbar": {
              "outlinewidth": 0,
              "ticks": ""
             }
            },
            "type": "parcoords"
           }
          ],
          "pie": [
           {
            "automargin": true,
            "type": "pie"
           }
          ],
          "scatter": [
           {
            "fillpattern": {
             "fillmode": "overlay",
             "size": 10,
             "solidity": 0.2
            },
            "type": "scatter"
           }
          ],
          "scatter3d": [
           {
            "line": {
             "colorbar": {
              "outlinewidth": 0,
              "ticks": ""
             }
            },
            "marker": {
             "colorbar": {
              "outlinewidth": 0,
              "ticks": ""
             }
            },
            "type": "scatter3d"
           }
          ],
          "scattercarpet": [
           {
            "marker": {
             "colorbar": {
              "outlinewidth": 0,
              "ticks": ""
             }
            },
            "type": "scattercarpet"
           }
          ],
          "scattergeo": [
           {
            "marker": {
             "colorbar": {
              "outlinewidth": 0,
              "ticks": ""
             }
            },
            "type": "scattergeo"
           }
          ],
          "scattergl": [
           {
            "marker": {
             "colorbar": {
              "outlinewidth": 0,
              "ticks": ""
             }
            },
            "type": "scattergl"
           }
          ],
          "scattermapbox": [
           {
            "marker": {
             "colorbar": {
              "outlinewidth": 0,
              "ticks": ""
             }
            },
            "type": "scattermapbox"
           }
          ],
          "scatterpolar": [
           {
            "marker": {
             "colorbar": {
              "outlinewidth": 0,
              "ticks": ""
             }
            },
            "type": "scatterpolar"
           }
          ],
          "scatterpolargl": [
           {
            "marker": {
             "colorbar": {
              "outlinewidth": 0,
              "ticks": ""
             }
            },
            "type": "scatterpolargl"
           }
          ],
          "scatterternary": [
           {
            "marker": {
             "colorbar": {
              "outlinewidth": 0,
              "ticks": ""
             }
            },
            "type": "scatterternary"
           }
          ],
          "surface": [
           {
            "colorbar": {
             "outlinewidth": 0,
             "ticks": ""
            },
            "colorscale": [
             [
              0,
              "#0d0887"
             ],
             [
              0.1111111111111111,
              "#46039f"
             ],
             [
              0.2222222222222222,
              "#7201a8"
             ],
             [
              0.3333333333333333,
              "#9c179e"
             ],
             [
              0.4444444444444444,
              "#bd3786"
             ],
             [
              0.5555555555555556,
              "#d8576b"
             ],
             [
              0.6666666666666666,
              "#ed7953"
             ],
             [
              0.7777777777777778,
              "#fb9f3a"
             ],
             [
              0.8888888888888888,
              "#fdca26"
             ],
             [
              1,
              "#f0f921"
             ]
            ],
            "type": "surface"
           }
          ],
          "table": [
           {
            "cells": {
             "fill": {
              "color": "#EBF0F8"
             },
             "line": {
              "color": "white"
             }
            },
            "header": {
             "fill": {
              "color": "#C8D4E3"
             },
             "line": {
              "color": "white"
             }
            },
            "type": "table"
           }
          ]
         },
         "layout": {
          "annotationdefaults": {
           "arrowcolor": "#2a3f5f",
           "arrowhead": 0,
           "arrowwidth": 1
          },
          "autotypenumbers": "strict",
          "coloraxis": {
           "colorbar": {
            "outlinewidth": 0,
            "ticks": ""
           }
          },
          "colorscale": {
           "diverging": [
            [
             0,
             "#8e0152"
            ],
            [
             0.1,
             "#c51b7d"
            ],
            [
             0.2,
             "#de77ae"
            ],
            [
             0.3,
             "#f1b6da"
            ],
            [
             0.4,
             "#fde0ef"
            ],
            [
             0.5,
             "#f7f7f7"
            ],
            [
             0.6,
             "#e6f5d0"
            ],
            [
             0.7,
             "#b8e186"
            ],
            [
             0.8,
             "#7fbc41"
            ],
            [
             0.9,
             "#4d9221"
            ],
            [
             1,
             "#276419"
            ]
           ],
           "sequential": [
            [
             0,
             "#0d0887"
            ],
            [
             0.1111111111111111,
             "#46039f"
            ],
            [
             0.2222222222222222,
             "#7201a8"
            ],
            [
             0.3333333333333333,
             "#9c179e"
            ],
            [
             0.4444444444444444,
             "#bd3786"
            ],
            [
             0.5555555555555556,
             "#d8576b"
            ],
            [
             0.6666666666666666,
             "#ed7953"
            ],
            [
             0.7777777777777778,
             "#fb9f3a"
            ],
            [
             0.8888888888888888,
             "#fdca26"
            ],
            [
             1,
             "#f0f921"
            ]
           ],
           "sequentialminus": [
            [
             0,
             "#0d0887"
            ],
            [
             0.1111111111111111,
             "#46039f"
            ],
            [
             0.2222222222222222,
             "#7201a8"
            ],
            [
             0.3333333333333333,
             "#9c179e"
            ],
            [
             0.4444444444444444,
             "#bd3786"
            ],
            [
             0.5555555555555556,
             "#d8576b"
            ],
            [
             0.6666666666666666,
             "#ed7953"
            ],
            [
             0.7777777777777778,
             "#fb9f3a"
            ],
            [
             0.8888888888888888,
             "#fdca26"
            ],
            [
             1,
             "#f0f921"
            ]
           ]
          },
          "colorway": [
           "#636efa",
           "#EF553B",
           "#00cc96",
           "#ab63fa",
           "#FFA15A",
           "#19d3f3",
           "#FF6692",
           "#B6E880",
           "#FF97FF",
           "#FECB52"
          ],
          "font": {
           "color": "#2a3f5f"
          },
          "geo": {
           "bgcolor": "white",
           "lakecolor": "white",
           "landcolor": "#E5ECF6",
           "showlakes": true,
           "showland": true,
           "subunitcolor": "white"
          },
          "hoverlabel": {
           "align": "left"
          },
          "hovermode": "closest",
          "mapbox": {
           "style": "light"
          },
          "paper_bgcolor": "white",
          "plot_bgcolor": "#E5ECF6",
          "polar": {
           "angularaxis": {
            "gridcolor": "white",
            "linecolor": "white",
            "ticks": ""
           },
           "bgcolor": "#E5ECF6",
           "radialaxis": {
            "gridcolor": "white",
            "linecolor": "white",
            "ticks": ""
           }
          },
          "scene": {
           "xaxis": {
            "backgroundcolor": "#E5ECF6",
            "gridcolor": "white",
            "gridwidth": 2,
            "linecolor": "white",
            "showbackground": true,
            "ticks": "",
            "zerolinecolor": "white"
           },
           "yaxis": {
            "backgroundcolor": "#E5ECF6",
            "gridcolor": "white",
            "gridwidth": 2,
            "linecolor": "white",
            "showbackground": true,
            "ticks": "",
            "zerolinecolor": "white"
           },
           "zaxis": {
            "backgroundcolor": "#E5ECF6",
            "gridcolor": "white",
            "gridwidth": 2,
            "linecolor": "white",
            "showbackground": true,
            "ticks": "",
            "zerolinecolor": "white"
           }
          },
          "shapedefaults": {
           "line": {
            "color": "#2a3f5f"
           }
          },
          "ternary": {
           "aaxis": {
            "gridcolor": "white",
            "linecolor": "white",
            "ticks": ""
           },
           "baxis": {
            "gridcolor": "white",
            "linecolor": "white",
            "ticks": ""
           },
           "bgcolor": "#E5ECF6",
           "caxis": {
            "gridcolor": "white",
            "linecolor": "white",
            "ticks": ""
           }
          },
          "title": {
           "x": 0.05
          },
          "xaxis": {
           "automargin": true,
           "gridcolor": "white",
           "linecolor": "white",
           "ticks": "",
           "title": {
            "standoff": 15
           },
           "zerolinecolor": "white",
           "zerolinewidth": 2
          },
          "yaxis": {
           "automargin": true,
           "gridcolor": "white",
           "linecolor": "white",
           "ticks": "",
           "title": {
            "standoff": 15
           },
           "zerolinecolor": "white",
           "zerolinewidth": 2
          }
         }
        },
        "title": {
         "text": "Theme Network Visualization"
        },
        "width": 1000,
        "xaxis": {
         "showgrid": false,
         "showticklabels": false,
         "title": {
          "text": "X-axis"
         },
         "zeroline": false
        },
        "yaxis": {
         "showgrid": false,
         "showticklabels": false,
         "title": {
          "text": "Y-axis"
         },
         "zeroline": false
        }
       }
      }
     },
     "metadata": {},
     "output_type": "display_data"
    }
   ],
   "source": [
    "import json\n",
    "import networkx as nx\n",
    "import plotly.graph_objects as go\n",
    "import numpy as np\n",
    "\n",
    "\n",
    "def load_json_file(file_path):\n",
    "    \"\"\"Load JSON file safely.\"\"\"\n",
    "    try:\n",
    "        with open(file_path, 'r', encoding='utf-8') as file:\n",
    "            return json.load(file)\n",
    "    except Exception as e:\n",
    "        print(f\"Error loading JSON file {file_path}: {e}\")\n",
    "        return []\n",
    "\n",
    "\n",
    "def create_theme_network(data_bot, data_nonbot, min_confidence=70):\n",
    "    \"\"\"Create a network graph from themes with a minimum confidence level.\"\"\"\n",
    "    G = nx.Graph()\n",
    "\n",
    "    def process_data(data, is_bot=True):\n",
    "        for item in data:\n",
    "            response = item.get('response')\n",
    "            if isinstance(response, str):\n",
    "                try:\n",
    "                    response_data = json.loads(response)\n",
    "                    themes = response_data.get('overall_themes', [])\n",
    "\n",
    "                    for theme in themes:\n",
    "                        confidence = theme.get('confidence', 0)\n",
    "                        if confidence >= min_confidence:\n",
    "                            theme_name = theme['name']\n",
    "                            keywords = theme.get('keywords', [])\n",
    "                            sentiment_distribution = theme.get('sentiment_distribution', {})\n",
    "\n",
    "                            # Add or update theme node\n",
    "                            if not G.has_node(theme_name):\n",
    "                                G.add_node(theme_name,\n",
    "                                           type='theme',\n",
    "                                           is_bot=is_bot,\n",
    "                                           confidence=confidence,\n",
    "                                           keywords=keywords,\n",
    "                                           sentiment_distribution=sentiment_distribution)\n",
    "                            else:\n",
    "                                # If node exists and bot status is different, mark as mixed\n",
    "                                current_bot_status = G.nodes[theme_name].get('is_bot')\n",
    "                                if current_bot_status != is_bot:\n",
    "                                    G.nodes[theme_name]['is_bot'] = 'mixed'\n",
    "\n",
    "                except json.JSONDecodeError:\n",
    "                    print(f\"Invalid JSON in response: {response}\")\n",
    "\n",
    "    # Process bot and non-bot data\n",
    "    process_data(data_bot, is_bot=True)\n",
    "    process_data(data_nonbot, is_bot=False)\n",
    "\n",
    "    return G\n",
    "\n",
    "\n",
    "def visualize_network(G):\n",
    "    \"\"\"Visualize bot, non-bot, and mixed themes in clustered regions.\"\"\"\n",
    "    # Separate nodes by bot status\n",
    "    bot_nodes = [node for node, data in G.nodes(data=True) if data.get('is_bot') == True]\n",
    "    nonbot_nodes = [node for node, data in G.nodes(data=True) if data.get('is_bot') == False]\n",
    "    mixed_nodes = [node for node, data in G.nodes(data=True) if data.get('is_bot') == 'mixed']\n",
    "\n",
    "    # Create traces for each category\n",
    "    traces = []\n",
    "\n",
    "    # Function to determine node size based on confidence\n",
    "    def get_node_size(confidence):\n",
    "        return 5 + confidence / 10  # Adjust the scaling factor as needed\n",
    "\n",
    "    # Bot nodes - clustered in bottom left\n",
    "    if bot_nodes:\n",
    "        bot_x = np.random.normal(loc=-5, scale=1, size=len(bot_nodes))\n",
    "        bot_y = np.random.normal(loc=-5, scale=1, size=len(bot_nodes))\n",
    "        bot_sizes = [get_node_size(G.nodes[node]['confidence']) for node in bot_nodes]\n",
    "        bot_trace = go.Scatter(\n",
    "            x=bot_x,\n",
    "            y=bot_y,\n",
    "            mode='markers',\n",
    "            hovertext=[\n",
    "                f\"Theme: {node}<br>\"\n",
    "                f\"Type: Bot<br>\"\n",
    "                f\"Confidence: {G.nodes[node]['confidence']}%<br>\"\n",
    "                f\"Keywords: {', '.join(G.nodes[node].get('keywords', []))}<br>\"\n",
    "                f\"Sentiment Distribution: Positive {G.nodes[node].get('sentiment_distribution', {}).get('positive_percentage', 0)}%, \"\n",
    "                f\"Negative {G.nodes[node].get('sentiment_distribution', {}).get('negative_percentage', 0)}%, \"\n",
    "                f\"Neutral {G.nodes[node].get('sentiment_distribution', {}).get('neutral_percentage', 0)}%\"\n",
    "                for node in bot_nodes\n",
    "            ],\n",
    "            hoverinfo='text',\n",
    "            marker=dict(\n",
    "                size=bot_sizes,\n",
    "                color='rgb(255,0,0)',  # Red\n",
    "                line=dict(width=1, color='rgb(139,0,0)')  # Dark red\n",
    "            ),\n",
    "            name='Bot Themes'\n",
    "        )\n",
    "        traces.append(bot_trace)\n",
    "\n",
    "    # Non-bot nodes - clustered in top right\n",
    "    if nonbot_nodes:\n",
    "        nonbot_x = np.random.normal(loc=5, scale=1, size=len(nonbot_nodes))\n",
    "        nonbot_y = np.random.normal(loc=5, scale=1, size=len(nonbot_nodes))\n",
    "        nonbot_sizes = [get_node_size(G.nodes[node]['confidence']) for node in nonbot_nodes]\n",
    "        nonbot_trace = go.Scatter(\n",
    "            x=nonbot_x,\n",
    "            y=nonbot_y,\n",
    "            mode='markers',\n",
    "            hovertext=[\n",
    "                f\"Theme: {node}<br>\"\n",
    "                f\"Type: Non-Bot<br>\"\n",
    "                f\"Confidence: {G.nodes[node]['confidence']}%<br>\"\n",
    "                f\"Keywords: {', '.join(G.nodes[node].get('keywords', []))}<br>\"\n",
    "                f\"Sentiment Distribution: Positive {G.nodes[node].get('sentiment_distribution', {}).get('positive_percentage', 0)}%, \"\n",
    "                f\"Negative {G.nodes[node].get('sentiment_distribution', {}).get('negative_percentage', 0)}%, \"\n",
    "                f\"Neutral {G.nodes[node].get('sentiment_distribution', {}).get('neutral_percentage', 0)}%\"\n",
    "                for node in nonbot_nodes\n",
    "            ],\n",
    "            hoverinfo='text',\n",
    "            marker=dict(\n",
    "                size=nonbot_sizes,\n",
    "                color='rgb(0,255,0)',  # Green\n",
    "                line=dict(width=1, color='rgb(0,100,0)')  # Dark green\n",
    "            ),\n",
    "            name='Non-Bot Themes'\n",
    "        )\n",
    "        traces.append(nonbot_trace)\n",
    "\n",
    "    # Mixed nodes - clustered in center\n",
    "    if mixed_nodes:\n",
    "        mixed_x = np.random.normal(loc=0, scale=1, size=len(mixed_nodes))\n",
    "        mixed_y = np.random.normal(loc=0, scale=1, size=len(mixed_nodes))\n",
    "        mixed_sizes = [get_node_size(G.nodes[node]['confidence']) for node in mixed_nodes]\n",
    "        mixed_trace = go.Scatter(\n",
    "            x=mixed_x,\n",
    "            y=mixed_y,\n",
    "            mode='markers',\n",
    "            hovertext=[\n",
    "                f\"Theme: {node}<br>\"\n",
    "                f\"Type: Mixed<br>\"\n",
    "                f\"Confidence: {G.nodes[node]['confidence']}%<br>\"\n",
    "                f\"Keywords: {', '.join(G.nodes[node].get('keywords', []))}<br>\"\n",
    "                f\"Sentiment Distribution: Positive {G.nodes[node].get('sentiment_distribution', {}).get('positive_percentage', 0)}%, \"\n",
    "                f\"Negative {G.nodes[node].get('sentiment_distribution', {}).get('negative_percentage', 0)}%, \"\n",
    "                f\"Neutral {G.nodes[node].get('sentiment_distribution', {}).get('neutral_percentage', 0)}%\"\n",
    "                for node in mixed_nodes\n",
    "            ],\n",
    "            hoverinfo='text',\n",
    "            marker=dict(\n",
    "                size=mixed_sizes,\n",
    "                color='rgb(128,0,128)',  # Purple\n",
    "                line=dict(width=1, color='rgb(75,0,130)')  # Indigo\n",
    "            ),\n",
    "            name='Mixed Themes'\n",
    "        )\n",
    "        traces.append(mixed_trace)\n",
    "\n",
    "    # Create figure\n",
    "    fig = go.Figure(data=traces)\n",
    "\n",
    "    # Update layout for better visualization\n",
    "    fig.update_layout(\n",
    "        title=\"Theme Network Visualization\",\n",
    "        showlegend=True,\n",
    "        hovermode='closest',\n",
    "        width=1000,\n",
    "        height=800,\n",
    "        xaxis=dict(\n",
    "            title=\"X-axis\",\n",
    "            showgrid=False,\n",
    "            zeroline=False,\n",
    "            showticklabels=False\n",
    "        ),\n",
    "        yaxis=dict(\n",
    "            title=\"Y-axis\",\n",
    "            showgrid=False,\n",
    "            zeroline=False,\n",
    "            showticklabels=False\n",
    "        ),\n",
    "        plot_bgcolor='rgb(240,240,240)',  # Light grey background\n",
    "        legend=dict(\n",
    "            x=0.85,\n",
    "            y=1,\n",
    "            bgcolor='rgba(255,255,255,0.5)',\n",
    "            bordercolor='black',\n",
    "            borderwidth=1\n",
    "        )\n",
    "    )\n",
    "\n",
    "    fig.show()\n",
    "\n",
    "\n",
    "# Example Usage\n",
    "if __name__ == \"__main__\":\n",
    "    # Load bot and non-bot data\n",
    "    bot_data = load_json_file('label_1_1.json')  # Bot data\n",
    "    nonbot_data = load_json_file('label_0_1.json')  # Non-bot data\n",
    "\n",
    "    # Create and visualize the graph\n",
    "    graph = create_theme_network(bot_data, nonbot_data, min_confidence=70)\n",
    "    visualize_network(graph)\n"
   ]
  },
  {
   "cell_type": "code",
   "execution_count": 21,
   "metadata": {},
   "outputs": [
    {
     "data": {
      "application/vnd.plotly.v1+json": {
       "config": {
        "plotlyServerURL": "https://plot.ly"
       },
       "data": [
        {
         "hoverinfo": "text",
         "hovertext": [
          "Theme: Technology and Coding<br>Type: Bot Themes<br>Confidence: 85%<br>Keywords: VHDL, Verilog, programming, computer science<br>Sentiments:<br>Positive: 0%<br>Negative: 0%<br>Neutral: 100%",
          "Theme: Culture and Entertainment<br>Type: Bot Themes<br>Confidence: 70%<br>Keywords: art, haiku, Funko, Netflix, movie, God, amazing, experiences<br>Sentiments:<br>Positive: 60%<br>Negative: 0%<br>Neutral: 40%",
          "Theme: Social Interactions<br>Type: Bot Themes<br>Confidence: 80%<br>Keywords: love, doo-dah, kissing challenge, shaking<br>Sentiments:<br>Positive: 60%<br>Negative: 0%<br>Neutral: 40%",
          "Theme: Health and Fitness<br>Type: Bot Themes<br>Confidence: 80%<br>Keywords: Energy expenditure, Calories, Metabolic rate<br>Sentiments:<br>Positive: 0%<br>Negative: 0%<br>Neutral: 100%",
          "Theme: Emotions and Mental State<br>Type: Bot Themes<br>Confidence: 70%<br>Keywords: Anger, Excitement, Euphoria<br>Sentiments:<br>Positive: 40%<br>Negative: 20%<br>Neutral: 40%",
          "Theme: Tech and Software<br>Type: Bot Themes<br>Confidence: 80%<br>Keywords: Microsoft, Edge, Chromium, Linux, RHEL, spice-server<br>Sentiments:<br>Positive: 0%<br>Negative: 50%<br>Neutral: 50%",
          "Theme: Cryptocurrency<br>Type: Bot Themes<br>Confidence: 70%<br>Keywords: Crypto, Government, Disclosure<br>Sentiments:<br>Positive: 0%<br>Negative: 0%<br>Neutral: 100%",
          "Theme: Love and Relationships<br>Type: Bot Themes<br>Confidence: 80%<br>Keywords: love, girlfriend, diamond ring<br>Sentiments:<br>Positive: 66.67%<br>Negative: 16.67%<br>Neutral: 16.67%",
          "Theme: Inspiration and Creativity<br>Type: Bot Themes<br>Confidence: 70%<br>Keywords: music, story, inspiration<br>Sentiments:<br>Positive: 83.33%<br>Negative: 0%<br>Neutral: 16.67%",
          "Theme: Emotional Support and Concern<br>Type: Bot Themes<br>Confidence: 85%<br>Keywords: fresh air, treat urself kindly, te deixarei, desampararei<br>Sentiments:<br>Positive: 40%<br>Negative: 20%<br>Neutral: 40%",
          "Theme: Life and Relationships<br>Type: Bot Themes<br>Confidence: 70%<br>Keywords: Luke, Grandad, doo-dah, doo-dah<br>Sentiments:<br>Positive: 30%<br>Negative: 20%<br>Neutral: 50%",
          "Theme: Gaming<br>Type: Bot Themes<br>Confidence: 80%<br>Keywords: LA NOIRE, gaming<br>Sentiments:<br>Positive: 0%<br>Negative: 0%<br>Neutral: 100%",
          "Theme: Politics<br>Type: Bot Themes<br>Confidence: 80%<br>Keywords: Rumsfeld, MakeAmericaGreatAgain, TrumpTrain<br>Sentiments:<br>Positive: 50%<br>Negative: 0%<br>Neutral: 50%",
          "Theme: Space Exploration and Discovery<br>Type: Bot Themes<br>Confidence: 90%<br>Keywords: planet, discovery, space<br>Sentiments:<br>Positive: 40%<br>Negative: 20%<br>Neutral: 40%",
          "Theme: Pop Culture and Entertainment<br>Type: Bot Themes<br>Confidence: 90%<br>Keywords: BONG, Quantum Break, Marco Rubio, RemyyXxX, God, pop culture<br>Sentiments:<br>Positive: 40%<br>Negative: 30%<br>Neutral: 30%",
          "Theme: Language and Sarcasm<br>Type: Bot Themes<br>Confidence: 80%<br>Keywords: Noooo, Doo-dah, Feint, shim<br>Sentiments:<br>Positive: 0%<br>Negative: 50%<br>Neutral: 50%",
          "Theme: Lightheartedness and Humor<br>Type: Bot Themes<br>Confidence: 72%<br>Keywords: wuvluv, cute, accidentalhaiku, shaggy linkups, tulips<br>Sentiments:<br>Positive: 100%<br>Negative: 0%<br>Neutral: 0%",
          "Theme: Politics and Justice<br>Type: Bot Themes<br>Confidence: 85%<br>Keywords: justice, judge, pill, allegations<br>Sentiments:<br>Positive: 25%<br>Negative: 75%<br>Neutral: 0%",
          "Theme: Lifestyle and Interests<br>Type: Bot Themes<br>Confidence: 70%<br>Keywords: fashion, hobbies, video games, philosophy<br>Sentiments:<br>Positive: 22%<br>Negative: 0%<br>Neutral: 78%",
          "Theme: Social Media and Communication<br>Type: Bot Themes<br>Confidence: 80%<br>Keywords: social media, communication, networking<br>Sentiments:<br>Positive: 0%<br>Negative: 0%<br>Neutral: 100%",
          "Theme: Politics and World Events<br>Type: Bot Themes<br>Confidence: 80%<br>Keywords: Syria, Obama<br>Sentiments:<br>Positive: 0%<br>Negative: 0%<br>Neutral: 100%",
          "Theme: Cryptocurrency and Technology<br>Type: Bot Themes<br>Confidence: 70%<br>Keywords: EOS, Bitmain, Peter Thiel<br>Sentiments:<br>Positive: 100%<br>Negative: 0%<br>Neutral: 0%",
          "Theme: Pop Culture and Humor<br>Type: Bot Themes<br>Confidence: 85%<br>Keywords: haiku, interview, 42, The Hitchhiker's Guide to the Galaxy<br>Sentiments:<br>Positive: 90%<br>Negative: 0%<br>Neutral: 10%",
          "Theme: Travel/Transportation<br>Type: Bot Themes<br>Confidence: 100%<br>Keywords: Travel, Transportation, Aviation, Tourism, Wine<br>Sentiments:<br>Positive: 40%<br>Negative: 20%<br>Neutral: 40%",
          "Theme: Trust and Vulnerability<br>Type: Bot Themes<br>Confidence: 88%<br>Keywords: secrets, trust, computable knowledge, fly, beautiful<br>Sentiments:<br>Positive: 60%<br>Negative: 20%<br>Neutral: 20%",
          "Theme: Emergency Preparedness<br>Type: Bot Themes<br>Confidence: 80%<br>Keywords: tuna cans, poaching rings, emergency<br>Sentiments:<br>Positive: 40%<br>Negative: 20%<br>Neutral: 40%",
          "Theme: Security and Exploits<br>Type: Bot Themes<br>Confidence: 90%<br>Keywords: exploits, security, PHP-Proxy<br>Sentiments:<br>Positive: 30%<br>Negative: 20%<br>Neutral: 50%",
          "Theme: Human Experience and Emotions<br>Type: Bot Themes<br>Confidence: 85%<br>Keywords: bum, favorite things, social interactions<br>Sentiments:<br>Positive: 50%<br>Negative: 20%<br>Neutral: 30%",
          "Theme: Math and Science<br>Type: Bot Themes<br>Confidence: 85%<br>Keywords: math, science, computable knowledge<br>Sentiments:<br>Positive: 50%<br>Negative: 20%<br>Neutral: 30%",
          "Theme: Interrogation and Interview<br>Type: Bot Themes<br>Confidence: 80%<br>Keywords: interrogation, interview, conversational dynamics<br>Sentiments:<br>Positive: 40%<br>Negative: 20%<br>Neutral: 40%",
          "Theme: Language and Culture<br>Type: Bot Themes<br>Confidence: 80%<br>Keywords: language, culture, N\\xc3\\xa3o temas<br>Sentiments:<br>Positive: 60%<br>Negative: 10%<br>Neutral: 30%",
          "Theme: Cryptic Posts and Math<br>Type: Bot Themes<br>Confidence: 85%<br>Keywords: cryptic, math, equation<br>Sentiments:<br>Positive: 50%<br>Negative: 20%<br>Neutral: 30%",
          "Theme: Financial/Business<br>Type: Bot Themes<br>Confidence: 80%<br>Keywords: billionaire, Ethereum, recovery code<br>Sentiments:<br>Positive: 0%<br>Negative: 50%<br>Neutral: 50%",
          "Theme: Productivity and Motivation<br>Type: Bot Themes<br>Confidence: 80%<br>Keywords: motivation, productivity, fashion show<br>Sentiments:<br>Positive: 40%<br>Negative: 10%<br>Neutral: 50%",
          "Theme: College Life<br>Type: Bot Themes<br>Confidence: 88%<br>Keywords: dorm, college, jealous<br>Sentiments:<br>Positive: 0%<br>Negative: 50%<br>Neutral: 50%",
          "Theme: Personal Reminders and Support<br>Type: Bot Themes<br>Confidence: 70%<br>Keywords: help, support, friends<br>Sentiments:<br>Positive: 66.67%<br>Negative: 0%<br>Neutral: 33.33%",
          "Theme: Education<br>Type: Bot Themes<br>Confidence: 85%<br>Keywords: dyslexia, common core, statistics, education<br>Sentiments:<br>Positive: 66.67%<br>Negative: 33.33%<br>Neutral: 0%",
          "Theme: US Politics<br>Type: Bot Themes<br>Confidence: 80%<br>Keywords: ObamaCare, Primary, INPrimary<br>Sentiments:<br>Positive: 0%<br>Negative: 60%<br>Neutral: 40%",
          "Theme: TV and Media<br>Type: Bot Themes<br>Confidence: 80%<br>Keywords: Netflix, TV, Instant, Season 2<br>Sentiments:<br>Positive: 0%<br>Negative: 0%<br>Neutral: 100%",
          "Theme: Entertainment and Hobbies<br>Type: Bot Themes<br>Confidence: 80%<br>Keywords: opera, music, theater, gaming, water, self-care, primark, online store, interest, deduction, limits, frozen, mrc, planet, space, stargaze<br>Sentiments:<br>Positive: 33.33%<br>Negative: 0%<br>Neutral: 66.67%",
          "Theme: Science and Discovery<br>Type: Bot Themes<br>Confidence: 95%<br>Keywords: planet, cyborg<br>Sentiments:<br>Positive: 40%<br>Negative: 20%<br>Neutral: 40%",
          "Theme: Philosophy and Social Commentary<br>Type: Bot Themes<br>Confidence: 80%<br>Keywords: feminism, sabotage<br>Sentiments:<br>Positive: 20%<br>Negative: 50%<br>Neutral: 30%",
          "Theme: Movie and TV News<br>Type: Bot Themes<br>Confidence: 70%<br>Keywords: Nicolas Cage, movies, Bitcoin, miner<br>Sentiments:<br>Positive: 0%<br>Negative: 0%<br>Neutral: 100%",
          "Theme: Information Seeking<br>Type: Bot Themes<br>Confidence: 80%<br>Keywords: keys, instructions, help<br>Sentiments:<br>Positive: 0%<br>Negative: 0%<br>Neutral: 100%",
          "Theme: Cryptocurrency and Bitcoin<br>Type: Bot Themes<br>Confidence: 100%<br>Keywords: bitcoin, bch, bug, price, security<br>Sentiments:<br>Positive: 0%<br>Negative: 80%<br>Neutral: 20%",
          "Theme: Technology and Entertainment<br>Type: Bot Themes<br>Confidence: 80%<br>Keywords: Twitter, Social Media, Gaming, Wine, Beverage Reviews, Science Fiction, Fantasy, Media<br>Sentiments:<br>Positive: 85%<br>Negative: 10%<br>Neutral: 5%",
          "Theme: Encouragement<br>Type: Bot Themes<br>Confidence: 80%<br>Keywords: breathe, take care of urself, get back to work, eat something<br>Sentiments:<br>Positive: 50%<br>Negative: 0%<br>Neutral: 50%",
          "Theme: Cybersecurity and Technology<br>Type: Bot Themes<br>Confidence: 80%<br>Keywords: cybersecurity, competition, Dark Reading, CSAW<br>Sentiments:<br>Positive: 0%<br>Negative: 0%<br>Neutral: 100%",
          "Theme: Emotional Wellbeing and Self-Care<br>Type: Bot Themes<br>Confidence: 70%<br>Keywords: self-care, grounding, pancakes, wine<br>Sentiments:<br>Positive: 100%<br>Negative: 0%<br>Neutral: 0%",
          "Theme: Work/Responsibility<br>Type: Bot Themes<br>Confidence: 85%<br>Keywords: GET BACK TO WORK, Idris, Haskell, Robot pussy<br>Sentiments:<br>Positive: 0%<br>Negative: 10%<br>Neutral: 90%",
          "Theme: Social Commentary and Critique<br>Type: Bot Themes<br>Confidence: 80%<br>Keywords: lie, deception, dishonesty, authority, norms, question, kindness, empathy, respect<br>Sentiments:<br>Positive: 20%<br>Negative: 40%<br>Neutral: 40%",
          "Theme: Exploration and Discovery<br>Type: Bot Themes<br>Confidence: 80%<br>Keywords: planet, discovered, space, relaxation, self-care<br>Sentiments:<br>Positive: 20%<br>Negative: 10%<br>Neutral: 70%",
          "Theme: Respect and Empowerment<br>Type: Bot Themes<br>Confidence: 80%<br>Keywords: respect, dignity, self-worth<br>Sentiments:<br>Positive: 100%<br>Negative: 0%<br>Neutral: 0%"
         ],
         "marker": {
          "color": "rgb(255,0,0)",
          "line": {
           "color": "black",
           "width": 1
          },
          "size": [
           13.5,
           12,
           13,
           13,
           12,
           13,
           12,
           13,
           12,
           13.5,
           12,
           13,
           13,
           14,
           14,
           13,
           12.2,
           13.5,
           12,
           13,
           13,
           12,
           13.5,
           15,
           13.8,
           13,
           14,
           13.5,
           13.5,
           13,
           13,
           13.5,
           13,
           13,
           13.8,
           12,
           13.5,
           13,
           13,
           13,
           14.5,
           13,
           12,
           13,
           15,
           13,
           13,
           13,
           12,
           13.5,
           13,
           13,
           13
          ]
         },
         "mode": "markers",
         "name": "Bot Themes",
         "type": "scatter",
         "x": [
          -5.554457234054944,
          -4.4747929566614575,
          -3.2647301997545704,
          -4.709221814512916,
          -5.535452655379119,
          -3.69348013408755,
          -5.938205728515722,
          -4.733963253543064,
          -4.94848287389313,
          -3.0599859175907547,
          -5.281456151702575,
          -4.707603717622705,
          -5.492512914269724,
          -5.723725094069476,
          -5.802698083536494,
          -5.897607311599854,
          -5.573117543304469,
          -4.933206153985349,
          -5.168938088512035,
          -5.9999011294354,
          -3.8250486920534748,
          -5.03558031256903,
          -6.486744990557642,
          -6.047326312261452,
          -4.705346991749574,
          -7.361667204025951,
          -5.685364917974104,
          -6.564198326566546,
          -5.896246783414255,
          -5.5042076675504745,
          -5.813977160148583,
          -3.0608453768056387,
          -3.538858809338583,
          -5.874485391070007,
          -5.217268985386178,
          -5.146323009213312,
          -3.9801081196738055,
          -4.37584956572325,
          -5.707905654316288,
          -5.730371786749331,
          -3.5403012097657642,
          -3.1773346266015436,
          -5.457575452456908,
          -4.240287094571001,
          -2.909991563253644,
          -5.988234475515453,
          -5.1328936167057835,
          -4.292788568094996,
          -4.983079991312847,
          -3.155065067142572,
          -4.6581062145106795,
          -7.22047053931327,
          -7.647684645710837
         ],
         "y": [
          -4.865959204840546,
          -6.078718585978544,
          -5.495219308490242,
          -7.272874065582398,
          -5.424532041577519,
          -5.142565337606208,
          -5.498981813962932,
          -4.575948652361205,
          -4.893686119795359,
          -3.747196369120247,
          -4.397994827388126,
          -5.613090004629181,
          -3.5974558258190172,
          -4.82046938898752,
          -4.107035859356173,
          -5.1728822291910985,
          -3.0725135651509756,
          -3.894592716298579,
          -4.584687857166392,
          -4.565409487793532,
          -5.163900693901006,
          -5.556342626379518,
          -5.053468556783315,
          -5.694739308517578,
          -5.345891962843738,
          -5.039642134446027,
          -5.399957267390595,
          -6.212513132245504,
          -5.3545300467568655,
          -2.882262113938012,
          -5.231263069174478,
          -3.690600894002668,
          -4.953860551263983,
          -5.907360489804672,
          -4.589820914741154,
          -5.981363363478758,
          -4.05074324888516,
          -5.138854931314923,
          -7.619325502133638,
          -5.121306173883967,
          -6.466796737973651,
          -6.33839423965239,
          -5.361887352038439,
          -6.552991784956881,
          -4.27876422629204,
          -5.472781397695579,
          -5.276354211785341,
          -4.745149017710841,
          -4.695309684357192,
          -6.273742652208149,
          -6.014059670476116,
          -5.695189409787774,
          -5.431483992586286
         ]
        },
        {
         "hoverinfo": "text",
         "hovertext": [
          "Theme: Traffic and Road Closure<br>Type: Non-Bot Themes<br>Confidence: 80%<br>Keywords: ramps back open, scene cleared<br>Sentiments:<br>Positive: 0%<br>Negative: 0%<br>Neutral: 100%",
          "Theme: Celebrity and Pop Culture<br>Type: Non-Bot Themes<br>Confidence: 70%<br>Keywords: Islamic Teachings, peace, ReptarAzar, Jordonsteele, aabill, mkapor, doctorow, metaguide, Best Quora Answers, Meteora20, benabyad, GuyFieri, FoodNetworkBR, ChefNoel<br>Sentiments:<br>Positive: 50%<br>Negative: 0%<br>Neutral: 50%",
          "Theme: Celebrity and Entertainment<br>Type: Non-Bot Themes<br>Confidence: 85%<br>Keywords: MominaMustehsan, TheAimaBaig, Beauty<br>Sentiments:<br>Positive: 57%<br>Negative: 14%<br>Neutral: 29%",
          "Theme: Current Events and Alerts<br>Type: Non-Bot Themes<br>Confidence: 80%<br>Keywords: evacuate, FloridaKeys<br>Sentiments:<br>Positive: 0%<br>Negative: 86%<br>Neutral: 14%",
          "Theme: Product and Service Promotions<br>Type: Non-Bot Themes<br>Confidence: 75%<br>Keywords: metaguide, DialogSystems<br>Sentiments:<br>Positive: 10%<br>Negative: 0%<br>Neutral: 90%",
          "Theme: Social Commentary and Awareness<br>Type: Non-Bot Themes<br>Confidence: 80%<br>Keywords: social commentary, awareness, government, policy, social proof<br>Sentiments:<br>Positive: 0%<br>Negative: 50%<br>Neutral: 50%",
          "Theme: News and Information<br>Type: Non-Bot Themes<br>Confidence: 90%<br>Keywords: news, information, environment<br>Sentiments:<br>Positive: 0%<br>Negative: 100%<br>Neutral: 0%",
          "Theme: Entertainment and Culture<br>Type: Non-Bot Themes<br>Confidence: 95%<br>Keywords: music, movies, celebrities, social media<br>Sentiments:<br>Positive: 83%<br>Negative: 0%<br>Neutral: 17%",
          "Theme: Education and Personal Development<br>Type: Non-Bot Themes<br>Confidence: 88%<br>Keywords: college, uni life, business, entrepreneurship<br>Sentiments:<br>Positive: 50%<br>Negative: 0%<br>Neutral: 50%",
          "Theme: Sports and Leisure<br>Type: Non-Bot Themes<br>Confidence: 80%<br>Keywords: skiing, winter sports, music festivals, events<br>Sentiments:<br>Positive: 100%<br>Negative: 0%<br>Neutral: 0%",
          "Theme: Social Media and Tech<br>Type: Non-Bot Themes<br>Confidence: 90%<br>Keywords: social media, post office, bureaucracy<br>Sentiments:<br>Positive: 0%<br>Negative: 83%<br>Neutral: 17%",
          "Theme: NRA and Politics<br>Type: Non-Bot Themes<br>Confidence: 80%<br>Keywords: gun control, civil rights, NRA, Trump<br>Sentiments:<br>Positive: 0%<br>Negative: 100%<br>Neutral: 0%",
          "Theme: Amy Schumer and Trainwreck<br>Type: Non-Bot Themes<br>Confidence: 90%<br>Keywords: Amy Schumer, comedy, Trainwreck, entertainment<br>Sentiments:<br>Positive: 100%<br>Negative: 0%<br>Neutral: 0%",
          "Theme: Linkin Park and Music<br>Type: Non-Bot Themes<br>Confidence: 95%<br>Keywords: music, fandom, Linkin Park, community<br>Sentiments:<br>Positive: 83%<br>Negative: 0%<br>Neutral: 17%",
          "Theme: Small Business and Entrepreneurship<br>Type: Non-Bot Themes<br>Confidence: 90%<br>Keywords: small business, innovation, networking, community<br>Sentiments:<br>Positive: 67%<br>Negative: 0%<br>Neutral: 33%",
          "Theme: Celebrity Culture and Humor<br>Type: Non-Bot Themes<br>Confidence: 70%<br>Keywords: ConnieSchultz, robkardashian, EinsteinBeach, smocking gun, relativity theory, single payer healthcare<br>Sentiments:<br>Positive: 60%<br>Negative: 20%<br>Neutral: 20%",
          "Theme: Social Media and Online Engagement<br>Type: Non-Bot Themes<br>Confidence: 98%<br>Keywords: social media, online engagement, book, reading, pop culture, entertainment, politics, current events<br>Sentiments:<br>Positive: 71%<br>Negative: 14%<br>Neutral: 15%",
          "Theme: Personal and Emotional Experiences<br>Type: Non-Bot Themes<br>Confidence: 90%<br>Keywords: personal experiences, emotional support, growth, self-improvement, empathy<br>Sentiments:<br>Positive: 85%<br>Negative: 5%<br>Neutral: 10%",
          "Theme: Social Media Interactions<br>Type: Non-Bot Themes<br>Confidence: 80%<br>Keywords: social media, engagement, interaction<br>Sentiments:<br>Positive: 70%<br>Negative: 15%<br>Neutral: 15%",
          "Theme: Celebrity and Public Figures<br>Type: Non-Bot Themes<br>Confidence: 75%<br>Keywords: celebrity, public figures, linkinpark<br>Sentiments:<br>Positive: 80%<br>Negative: 10%<br>Neutral: 10%",
          "Theme: Workplace Issues<br>Type: Non-Bot Themes<br>Confidence: 80%<br>Keywords: meeting, work, pressure<br>Sentiments:<br>Positive: 0%<br>Negative: 100%<br>Neutral: 0%",
          "Theme: Motivation and Success<br>Type: Non-Bot Themes<br>Confidence: 90%<br>Keywords: success, achievement, inspiration<br>Sentiments:<br>Positive: 100%<br>Negative: 0%<br>Neutral: 0%",
          "Theme: Celebrity and Lifestyles<br>Type: Non-Bot Themes<br>Confidence: 80%<br>Keywords: QI, plants, Small Business Boss, Chrissy Teigen<br>Sentiments:<br>Positive: 30%<br>Negative: 0%<br>Neutral: 70%",
          "Theme: Social Media and Entertainment<br>Type: Non-Bot Themes<br>Confidence: 85%<br>Keywords: Spotify, @hyipratenet, @chrissyteigen<br>Sentiments:<br>Positive: 60%<br>Negative: 0%<br>Neutral: 40%",
          "Theme: Tributes and Reminders<br>Type: Non-Bot Themes<br>Confidence: 75%<br>Keywords: Jai Ho, Republic Day, The Spellman Sisters Mortuary<br>Sentiments:<br>Positive: 40%<br>Negative: 0%<br>Neutral: 60%",
          "Theme: Politics/Leadership<br>Type: Non-Bot Themes<br>Confidence: 80%<br>Keywords: Trump, Theresa May, Emmanuel Macron<br>Sentiments:<br>Positive: 80%<br>Negative: 0%<br>Neutral: 20%",
          "Theme: Food and Beverages<br>Type: Non-Bot Themes<br>Confidence: 80%<br>Keywords: Breakfast, Full Breakfast, Cafe<br>Sentiments:<br>Positive: 100%<br>Negative: 0%<br>Neutral: 0%",
          "Theme: KP Govt Recognition<br>Type: Non-Bot Themes<br>Confidence: 85%<br>Keywords: KP Govt, UN-HABITAT Fukuoka, Asian Townscape Award<br>Sentiments:<br>Positive: 100%<br>Negative: 0%<br>Neutral: 0%",
          "Theme: Success and Opportunity<br>Type: Non-Bot Themes<br>Confidence: 80%<br>Keywords: Luck, Opportunity, Preparation, Risk, Change<br>Sentiments:<br>Positive: 40%<br>Negative: 20%<br>Neutral: 40%",
          "Theme: Personal Growth and Development<br>Type: Non-Bot Themes<br>Confidence: 70%<br>Keywords: Learning, Self-improvement, Career, Success<br>Sentiments:<br>Positive: 50%<br>Negative: 20%<br>Neutral: 30%",
          "Theme: Support and Inspiration<br>Type: Non-Bot Themes<br>Confidence: 90%<br>Keywords: joy, inspiration, motivation, empowerment, achievements, dreams, future, bright<br>Sentiments:<br>Positive: 100%<br>Negative: 0%<br>Neutral: 0%",
          "Theme: News and Updates<br>Type: Non-Bot Themes<br>Confidence: 85%<br>Keywords: politics, governance, encryption, hollywills, Fearnecotton, ChristinaRicci, comedy show, waste management, BMC, bandraite, brooklyn<br>Sentiments:<br>Positive: 60%<br>Negative: 0%<br>Neutral: 40%",
          "Theme: Haiku and Poetry<br>Type: Non-Bot Themes<br>Confidence: 70%<br>Keywords: cherry blossoms, city dwellers, brooklyn, joy, inspiration, motivation<br>Sentiments:<br>Positive: 100%<br>Negative: 0%<br>Neutral: 0%",
          "Theme: International Relations and Politics<br>Type: Non-Bot Themes<br>Confidence: 80%<br>Keywords: India, Pakistan, Terrorism, Defence, Security<br>Sentiments:<br>Positive: 0%<br>Negative: 40%<br>Neutral: 60%",
          "Theme: Personal Life and Relationships<br>Type: Non-Bot Themes<br>Confidence: 70%<br>Keywords: Friend, Support, Wedding, Love<br>Sentiments:<br>Positive: 80%<br>Negative: 10%<br>Neutral: 10%",
          "Theme: Gun Control<br>Type: Non-Bot Themes<br>Confidence: 80%<br>Keywords: gun control, moms demand, gun sense<br>Sentiments:<br>Positive: 40%<br>Negative: 60%<br>Neutral: 0%",
          "Theme: Government and Politics<br>Type: Non-Bot Themes<br>Confidence: 80%<br>Keywords: Sharif, Panama Papers, Labor, #aabill<br>Sentiments:<br>Positive: 0%<br>Negative: 50%<br>Neutral: 50%",
          "Theme: News and Media<br>Type: Non-Bot Themes<br>Confidence: 70%<br>Keywords: @NicoleOliverio, @erin_carey, @mrasconnews, @7News<br>Sentiments:<br>Positive: 0%<br>Negative: 0%<br>Neutral: 100%",
          "Theme: Politics and Current Events<br>Type: Non-Bot Themes<br>Confidence: 80%<br>Keywords: #LabourMustWin, #Orion, NASA, Brexit, Article 50<br>Sentiments:<br>Positive: 0%<br>Negative: 50%<br>Neutral: 50%",
          "Theme: Entertainment and Media<br>Type: Non-Bot Themes<br>Confidence: 70%<br>Keywords: #ProperBo, #classybitch, #ZindagiKuchTohBata<br>Sentiments:<br>Positive: 75%<br>Negative: 0%<br>Neutral: 25%",
          "Theme: Political Commentary and Criticism<br>Type: Non-Bot Themes<br>Confidence: 96%<br>Keywords: politics, criticism, leadership, governance, extremism, tribal<br>Sentiments:<br>Positive: 0%<br>Negative: 80%<br>Neutral: 20%",
          "Theme: Politics and Elections<br>Type: Non-Bot Themes<br>Confidence: 82%<br>Keywords: election, politics, retain, candidates<br>Sentiments:<br>Positive: 40%<br>Negative: 30%<br>Neutral: 30%",
          "Theme: Support and Commendation<br>Type: Non-Bot Themes<br>Confidence: 85%<br>Keywords: support, initiative, charity<br>Sentiments:<br>Positive: 70%<br>Negative: 15%<br>Neutral: 15%",
          "Theme: News<br>Type: Non-Bot Themes<br>Confidence: 80%<br>Keywords: #ShoahFdn20, #POTUS<br>Sentiments:<br>Positive: 50%<br>Negative: 50%<br>Neutral: 0%",
          "Theme: Celebrity and Public Interest<br>Type: Non-Bot Themes<br>Confidence: 80%<br>Keywords: JosefMartinez17, Small Business Boss, Lorrainetapper<br>Sentiments:<br>Positive: 60%<br>Negative: 0%<br>Neutral: 40%",
          "Theme: News and Current Events<br>Type: Non-Bot Themes<br>Confidence: 90%<br>Keywords: #Breaking, Hiroshima<br>Sentiments:<br>Positive: 0%<br>Negative: 0%<br>Neutral: 100%",
          "Theme: Music and Entertainment<br>Type: Non-Bot Themes<br>Confidence: 92%<br>Keywords: music, entertainment, album, LP<br>Sentiments:<br>Positive: 60%<br>Negative: 0%<br>Neutral: 40%",
          "Theme: Technology and Programming<br>Type: Non-Bot Themes<br>Confidence: 88%<br>Keywords: technology, programming, code, design<br>Sentiments:<br>Positive: 50%<br>Negative: 0%<br>Neutral: 50%",
          "Theme: Social Media and Events<br>Type: Non-Bot Themes<br>Confidence: 90%<br>Keywords: social media, events, engagement, promotions<br>Sentiments:<br>Positive: 70%<br>Negative: 0%<br>Neutral: 30%",
          "Theme: Politics and World News<br>Type: Non-Bot Themes<br>Confidence: 95%<br>Keywords: politics, government, international, news<br>Sentiments:<br>Positive: 0%<br>Negative: 0%<br>Neutral: 100%",
          "Theme: News and Politics<br>Type: Non-Bot Themes<br>Confidence: 70%<br>Keywords: #News, #Politics, #Government<br>Sentiments:<br>Positive: 0%<br>Negative: 40%<br>Neutral: 60%",
          "Theme: Self-Care and Fitness<br>Type: Non-Bot Themes<br>Confidence: 75%<br>Keywords: self-care, fitness, wellness<br>Sentiments:<br>Positive: 70%<br>Negative: 0%<br>Neutral: 30%",
          "Theme: Politics and Social Issues<br>Type: Non-Bot Themes<br>Confidence: 70%<br>Keywords: Gun Control, Borderline Bar, MomsDemand, JenniferWexton<br>Sentiments:<br>Positive: 50%<br>Negative: 50%<br>Neutral: 0%",
          "Theme: Adversity and Resilience<br>Type: Non-Bot Themes<br>Confidence: 80%<br>Keywords: Hurricane Irma, leadership, girls' education<br>Sentiments:<br>Positive: 25%<br>Negative: 50%<br>Neutral: 25%",
          "Theme: Social Justice and Activism<br>Type: Non-Bot Themes<br>Confidence: 80%<br>Keywords: rights, equality, justice, activism<br>Sentiments:<br>Positive: 0%<br>Negative: 100%<br>Neutral: 0%",
          "Theme: Food and Beverage<br>Type: Non-Bot Themes<br>Confidence: 85%<br>Keywords: served with, menace which is called Twitter, suga<br>Sentiments:<br>Positive: 66%<br>Negative: 33%<br>Neutral: 1%",
          "Theme: Art and Culture<br>Type: Non-Bot Themes<br>Confidence: 70%<br>Keywords: art, culture, visual art, popular culture<br>Sentiments:<br>Positive: 30%<br>Negative: 20%<br>Neutral: 50%",
          "Theme: Social Issues<br>Type: Non-Bot Themes<br>Confidence: 80%<br>Keywords: social issues, immigration, diversity, social justice<br>Sentiments:<br>Positive: 50%<br>Negative: 30%<br>Neutral: 20%",
          "Theme: Racial Issues and Stereotypes<br>Type: Non-Bot Themes<br>Confidence: 70%<br>Keywords: black, swim, hair wet<br>Sentiments:<br>Positive: 0%<br>Negative: 100%<br>Neutral: 0%",
          "Theme: Celebrity News and Entertainment<br>Type: Non-Bot Themes<br>Confidence: 80%<br>Keywords: Kendrick Lamar, Grammy, Performance<br>Sentiments:<br>Positive: 100%<br>Negative: 0%<br>Neutral: 0%",
          "Theme: Weather Discussion<br>Type: Non-Bot Themes<br>Confidence: 70%<br>Keywords: cold, weather<br>Sentiments:<br>Positive: 0%<br>Negative: 0%<br>Neutral: 100%",
          "Theme: Politics and International Relations<br>Type: Non-Bot Themes<br>Confidence: 80%<br>Keywords: Russia, indictment<br>Sentiments:<br>Positive: 0%<br>Negative: 100%<br>Neutral: 0%",
          "Theme: Tweets are about India<br>Type: Non-Bot Themes<br>Confidence: 80%<br>Keywords: India, terrorists<br>Sentiments:<br>Positive: 0%<br>Negative: 100%<br>Neutral: 0%",
          "Theme: Politics and News<br>Type: Non-Bot Themes<br>Confidence: 80%<br>Keywords: govt, leader, inaction, uneasy, poverty, inequality<br>Sentiments:<br>Positive: 0%<br>Negative: 100%<br>Neutral: 0%",
          "Theme: Celebrity and Recognition<br>Type: Non-Bot Themes<br>Confidence: 89%<br>Keywords: Meghan, DM, signed copies, Coco, Ted Dabney, passed away<br>Sentiments:<br>Positive: 60%<br>Negative: 20%<br>Neutral: 20%",
          "Theme: Politics and Activism<br>Type: Non-Bot Themes<br>Confidence: 80%<br>Keywords: Report, OIC, EU, human rights, security/surveillance<br>Sentiments:<br>Positive: 20%<br>Negative: 60%<br>Neutral: 20%",
          "Theme: Discontent and Criticism<br>Type: Non-Bot Themes<br>Confidence: 90%<br>Keywords: PMLN, PTI, inauguration, wasted, @bluesatch, @plantbasedcaleb, truth<br>Sentiments:<br>Positive: 0%<br>Negative: 100%<br>Neutral: 0%",
          "Theme: Pop Culture<br>Type: Non-Bot Themes<br>Confidence: 80%<br>Keywords: Malcolm in the Middle, Witty repartee, Social media<br>Sentiments:<br>Positive: 40%<br>Negative: 20%<br>Neutral: 40%",
          "Theme: Environmental Conservation<br>Type: Non-Bot Themes<br>Confidence: 90%<br>Keywords: Gambila river bed plantation, Billion tree tsunami<br>Sentiments:<br>Positive: 100%<br>Negative: 0%<br>Neutral: 0%",
          "Theme: Current Events<br>Type: Non-Bot Themes<br>Confidence: 85%<br>Keywords: Question period in the House of Commons, Violence reduction, Crime<br>Sentiments:<br>Positive: 0%<br>Negative: 80%<br>Neutral: 20%",
          "Theme: Personal Interactions<br>Type: Non-Bot Themes<br>Confidence: 75%<br>Keywords: Social media, Witty repartee, Thanks, Elizabeth<br>Sentiments:<br>Positive: 60%<br>Negative: 10%<br>Neutral: 30%",
          "Theme: Entertainment and Leisure<br>Type: Non-Bot Themes<br>Confidence: 70%<br>Keywords: Hoodrich, Djscream<br>Sentiments:<br>Positive: 80%<br>Negative: 10%<br>Neutral: 10%",
          "Theme: Social Media and Online Presence<br>Type: Non-Bot Themes<br>Confidence: 80%<br>Keywords: streaming, website, listen, thankful, gratitude, criticism, opinion<br>Sentiments:<br>Positive: 60%<br>Negative: 20%<br>Neutral: 20%",
          "Theme: Social Justice and Empowerment<br>Type: Non-Bot Themes<br>Confidence: 87%<br>Keywords: guncontrol, women, respect<br>Sentiments:<br>Positive: 40%<br>Negative: 30%<br>Neutral: 30%",
          "Theme: Economic Concerns<br>Type: Non-Bot Themes<br>Confidence: 78%<br>Keywords: economy, Pakistan<br>Sentiments:<br>Positive: 20%<br>Negative: 50%<br>Neutral: 30%",
          "Theme: Transportation and Infrastructure<br>Type: Non-Bot Themes<br>Confidence: 85%<br>Keywords: <br>Sentiments:<br>Positive: 0%<br>Negative: 0%<br>Neutral: 0%",
          "Theme: Education and Research<br>Type: Non-Bot Themes<br>Confidence: 80%<br>Keywords: <br>Sentiments:<br>Positive: 0%<br>Negative: 0%<br>Neutral: 0%",
          "Theme: Reading and Books<br>Type: Non-Bot Themes<br>Confidence: 75%<br>Keywords: <br>Sentiments:<br>Positive: 0%<br>Negative: 0%<br>Neutral: 0%",
          "Theme: Weather and Seasonal Activities<br>Type: Non-Bot Themes<br>Confidence: 70%<br>Keywords: <br>Sentiments:<br>Positive: 0%<br>Negative: 0%<br>Neutral: 0%",
          "Theme: Celebrity and Cultural News<br>Type: Non-Bot Themes<br>Confidence: 80%<br>Keywords: celebrity, culture, news, awards, recognition, humor, pop culture, social commentary, memorials, tributes, personal interactions<br>Sentiments:<br>Positive: 60%<br>Negative: 0%<br>Neutral: 40%",
          "Theme: Entertainment and Book Reviews<br>Type: Non-Bot Themes<br>Confidence: 85%<br>Keywords: ThePerfectGirl, @GillyMacmillan, @KendallJenner, @Jaspritbumrah93, @traffic_jpr<br>Sentiments:<br>Positive: 50%<br>Negative: 0%<br>Neutral: 50%",
          "Theme: Social and Cultural<br>Type: Non-Bot Themes<br>Confidence: 80%<br>Keywords: London, celebrate, diversity<br>Sentiments:<br>Positive: 75%<br>Negative: 0%<br>Neutral: 25%",
          "Theme: Politics and Social Commentary<br>Type: Non-Bot Themes<br>Confidence: 70%<br>Keywords: GunControl, MurderRate, LindseyGraham, MamasFamily<br>Sentiments:<br>Positive: 0%<br>Negative: 60%<br>Neutral: 40%",
          "Theme: Celebrity and Entertainment News<br>Type: Non-Bot Themes<br>Confidence: 80%<br>Keywords: Bob Greenfield, Leary, Garcia, Bill Graham, TheBachelorette, RachLindsay, EyesOnYou, sdcountylibrary, CountryMusic, NRA<br>Sentiments:<br>Positive: 40%<br>Negative: 0%<br>Neutral: 60%",
          "Theme: Gardening<br>Type: Non-Bot Themes<br>Confidence: 82%<br>Keywords: bulbs, whiter, disco<br>Sentiments:<br>Positive: 0%<br>Negative: 0%<br>Neutral: 100%",
          "Theme: Hall and Oates<br>Type: Non-Bot Themes<br>Confidence: 70%<br>Keywords: Hall, Oates, 80s, Kirstie Alley, John Travolta<br>Sentiments:<br>Positive: 100%<br>Negative: 0%<br>Neutral: 0%",
          "Theme: Entertainment and Pop Culture<br>Type: Non-Bot Themes<br>Confidence: 80%<br>Keywords: Bizarre Explainer, Jojo\\u2019s, Wilderness, Queen<br>Sentiments:<br>Positive: 40%<br>Negative: 20%<br>Neutral: 40%",
          "Theme: Workplace Culture and Management<br>Type: Non-Bot Themes<br>Confidence: 80%<br>Keywords: workplace, culture, management, expectations, dialogue<br>Sentiments:<br>Positive: 80%<br>Negative: 20%<br>Neutral: 0%",
          "Theme: Pakistan-Kashmir Relations<br>Type: Non-Bot Themes<br>Confidence: 80%<br>Keywords: #Pakistan, #KashmirBlackDay<br>Sentiments:<br>Positive: 66.67%<br>Negative: 0%<br>Neutral: 33.33%",
          "Theme: Financial and Economic Issues<br>Type: Non-Bot Themes<br>Confidence: 91%<br>Keywords: taxation, government, investment, technology, ethereum, GST<br>Sentiments:<br>Positive: 0%<br>Negative: 90%<br>Neutral: 10%",
          "Theme: Entertainment and Social Media<br>Type: Non-Bot Themes<br>Confidence: 85%<br>Keywords: celebrity, social media, TV show, mental health<br>Sentiments:<br>Positive: 80%<br>Negative: 0%<br>Neutral: 20%",
          "Theme: Technology and Futurism<br>Type: Non-Bot Themes<br>Confidence: 75%<br>Keywords: tech future, blockchain, ethereum, innovation<br>Sentiments:<br>Positive: 0%<br>Negative: 0%<br>Neutral: 100%",
          "Theme: Miscellaneous and Product Development<br>Type: Non-Bot Themes<br>Confidence: 70%<br>Keywords: product development, innovation, reaction, feedback<br>Sentiments:<br>Positive: 0%<br>Negative: 0%<br>Neutral: 100%",
          "Theme: Cultural Trends and Observations<br>Type: Non-Bot Themes<br>Confidence: 80%<br>Keywords: netflix, maniacnetflix, bldgblog, drjudymelinek, kourtneykardash<br>Sentiments:<br>Positive: 60%<br>Negative: 20%<br>Neutral: 20%",
          "Theme: General Lifestyle and Updates<br>Type: Non-Bot Themes<br>Confidence: 86%<br>Keywords: morning routine, RobAndChyna, KUWTK, Ghana, Lexington, refugee families<br>Sentiments:<br>Positive: 0%<br>Negative: 10%<br>Neutral: 90%",
          "Theme: Positive Emotions and Appreciation<br>Type: Non-Bot Themes<br>Confidence: 80%<br>Keywords: thanks, wonderful, Survivor, new season<br>Sentiments:<br>Positive: 80%<br>Negative: 0%<br>Neutral: 20%",
          "Theme: Information Sharing and Discussion<br>Type: Non-Bot Themes<br>Confidence: 70%<br>Keywords: Survivor, missing, Chinese food, venue, advice<br>Sentiments:<br>Positive: 20%<br>Negative: 0%<br>Neutral: 80%",
          "Theme: Celebrity Culture and Awards<br>Type: Non-Bot Themes<br>Confidence: 80%<br>Keywords: Grammies, Gramophone Awards, Celebrities, Influence<br>Sentiments:<br>Positive: 0%<br>Negative: 0%<br>Neutral: 100%",
          "Theme: Personal Interests and Relationships<br>Type: Non-Bot Themes<br>Confidence: 85%<br>Keywords: Relationships, Breakups, Personal growth, Self-improvement<br>Sentiments:<br>Positive: 100%<br>Negative: 0%<br>Neutral: 0%",
          "Theme: Entertainment and Music<br>Type: Non-Bot Themes<br>Confidence: 80%<br>Keywords: WayOverYonder_, @HappyWoman9, @MosesSumney, @localnatives, #sochi2014, #gold, #Bardot, @XiaXiaTechnique, @BIRDZONE_<br>Sentiments:<br>Positive: 50%<br>Negative: 20%<br>Neutral: 30%",
          "Theme: Celebrity and Culture<br>Type: Non-Bot Themes<br>Confidence: 80%<br>Keywords: @D_Towsey, @K_Stansfield, Tyler Keevil, Words&amp; Festival<br>Sentiments:<br>Positive: 50%<br>Negative: 0%<br>Neutral: 50%",
          "Theme: Humor and Satire<br>Type: Non-Bot Themes<br>Confidence: 90%<br>Keywords: umbrella license test, apparently-sat-front-row-on-the-log-flume, NYC summer aesthetic<br>Sentiments:<br>Positive: 75%<br>Negative: 25%<br>Neutral: 0%",
          "Theme: Canadian Politics<br>Type: Non-Bot Themes<br>Confidence: 80%<br>Keywords: Pelosi, speaker, CDP, party leadership<br>Sentiments:<br>Positive: 0%<br>Negative: 75%<br>Neutral: 25%",
          "Theme: Empowerment and Personal Growth<br>Type: Non-Bot Themes<br>Confidence: 85%<br>Keywords: Empowerment, Tomorrow, Belief<br>Sentiments:<br>Positive: 80%<br>Negative: 10%<br>Neutral: 10%",
          "Theme: Social Commentary and Criticism<br>Type: Non-Bot Themes<br>Confidence: 80%<br>Keywords: Hate, Shameful<br>Sentiments:<br>Positive: 10%<br>Negative: 80%<br>Neutral: 10%",
          "Theme: Humor and Leisure<br>Type: Non-Bot Themes<br>Confidence: 70%<br>Keywords: Entertainment, Animal<br>Sentiments:<br>Positive: 90%<br>Negative: 5%<br>Neutral: 5%",
          "Theme: Social and Cultural Issues<br>Type: Non-Bot Themes<br>Confidence: 80%<br>Keywords: forced, cuts, labor, peanut butter, fashion, charity, cannes<br>Sentiments:<br>Positive: 30%<br>Negative: 40%<br>Neutral: 30%",
          "Theme: Business and Entrepreneurship<br>Type: Non-Bot Themes<br>Confidence: 80%<br>Keywords: business, entrepreneurship, opening<br>Sentiments:<br>Positive: 60%<br>Negative: 20%<br>Neutral: 20%",
          "Theme: Technology and Online Presence<br>Type: Non-Bot Themes<br>Confidence: 85%<br>Keywords: technology, online presence, revenue<br>Sentiments:<br>Positive: 50%<br>Negative: 20%<br>Neutral: 30%",
          "Theme: General Interest and Lifestyle<br>Type: Non-Bot Themes<br>Confidence: 80%<br>Keywords: general interest, lifestyle, food<br>Sentiments:<br>Positive: 60%<br>Negative: 20%<br>Neutral: 20%",
          "Theme: Travel and Tourism<br>Type: Non-Bot Themes<br>Confidence: 80%<br>Keywords: travel, tourism, views<br>Sentiments:<br>Positive: 60%<br>Negative: 20%<br>Neutral: 20%",
          "Theme: Social Media and Online Culture<br>Type: Non-Bot Themes<br>Confidence: 70%<br>Keywords: Twitter, Social media<br>Sentiments:<br>Positive: 40%<br>Negative: 20%<br>Neutral: 40%",
          "Theme: Entertainment and Humor<br>Type: Non-Bot Themes<br>Confidence: 90%<br>Keywords: internet, memes, jokes<br>Sentiments:<br>Positive: 90%<br>Negative: 5%<br>Neutral: 5%",
          "Theme: Sports and Cricket<br>Type: Non-Bot Themes<br>Confidence: 70%<br>Keywords: cricket, match, news<br>Sentiments:<br>Positive: 70%<br>Negative: 20%<br>Neutral: 10%",
          "Theme: Small Business<br>Type: Non-Bot Themes<br>Confidence: 87%<br>Keywords: Small Business, Small Business Boss, Site<br>Sentiments:<br>Positive: 0%<br>Negative: 0%<br>Neutral: 100%",
          "Theme: Positive Social Impact<br>Type: Non-Bot Themes<br>Confidence: 85%<br>Keywords: media, power, boon, BDS, Theresa May, DANCE WITH YOU, gangster chic<br>Sentiments:<br>Positive: 60%<br>Negative: 20%<br>Neutral: 20%",
          "Theme: Entertainment and Celebrity News<br>Type: Non-Bot Themes<br>Confidence: 75%<br>Keywords: DANCE WITH YOU, gangster chic, BAFTA, Theresa May<br>Sentiments:<br>Positive: 0%<br>Negative: 40%<br>Neutral: 60%",
          "Theme: Breaking News<br>Type: Non-Bot Themes<br>Confidence: 90%<br>Keywords: Cosby, BDS<br>Sentiments:<br>Positive: 0%<br>Negative: 60%<br>Neutral: 40%",
          "Theme: Human Rights and Social Justice<br>Type: Non-Bot Themes<br>Confidence: 80%<br>Keywords: Human Rights, Activists, Silencing, India, Holocaust, Education<br>Sentiments:<br>Positive: 30%<br>Negative: 50%<br>Neutral: 20%",
          "Theme: Australia's Politics and Infrastructure<br>Type: Non-Bot Themes<br>Confidence: 72%<br>Keywords: #aabill, dinosaur tech illiterates, Australia<br>Sentiments:<br>Positive: 0%<br>Negative: 33%<br>Neutral: 67%",
          "Theme: Social Responsibility and Community<br>Type: Non-Bot Themes<br>Confidence: 86%<br>Keywords: vulnerable, Republic Day, Jai Ho<br>Sentiments:<br>Positive: 50%<br>Negative: 0%<br>Neutral: 50%",
          "Theme: Infrastructure and Public Safety<br>Type: Non-Bot Themes<br>Confidence: 83%<br>Keywords: infrastructure stability, safety measures<br>Sentiments:<br>Positive: 0%<br>Negative: 33%<br>Neutral: 67%",
          "Theme: Social Awareness and Activism<br>Type: Non-Bot Themes<br>Confidence: 80%<br>Keywords: rape, justice, love, family<br>Sentiments:<br>Positive: 33%<br>Negative: 33%<br>Neutral: 33%",
          "Theme: Arts and Culture<br>Type: Non-Bot Themes<br>Confidence: 85%<br>Keywords: #RaleighArtBeats, @RaleighArts, Britt Flood<br>Sentiments:<br>Positive: 100%<br>Negative: 0%<br>Neutral: 0%",
          "Theme: Community and Events<br>Type: Non-Bot Themes<br>Confidence: 80%<br>Keywords: #SundayService, #KDX<br>Sentiments:<br>Positive: 100%<br>Negative: 0%<br>Neutral: 0%",
          "Theme: Social Media and Connectivity<br>Type: Non-Bot Themes<br>Confidence: 75%<br>Keywords: @RaleighArts, @JosieEnefer8<br>Sentiments:<br>Positive: 100%<br>Negative: 0%<br>Neutral: 0%",
          "Theme: Motivational/ Inspirational<br>Type: Non-Bot Themes<br>Confidence: 70%<br>Keywords: heart, strength, thank, keep<br>Sentiments:<br>Positive: 75%<br>Negative: 0%<br>Neutral: 25%",
          "Theme: Personal Development and Career Growth<br>Type: Non-Bot Themes<br>Confidence: 80%<br>Keywords: personalbranding, career, choices<br>Sentiments:<br>Positive: 66.67%<br>Negative: 0%<br>Neutral: 33.33%",
          "Theme: Cultural and Social Issues<br>Type: Non-Bot Themes<br>Confidence: 80%<br>Keywords: rap, society, music, celebrity, culture, media, justice, activism, change, humor, satire, commentary<br>Sentiments:<br>Positive: 20%<br>Negative: 0%<br>Neutral: 80%",
          "Theme: Food and Dining<br>Type: Non-Bot Themes<br>Confidence: 100%<br>Keywords: Brick & Fire, wood fire pizza<br>Sentiments:<br>Positive: 100%<br>Negative: 0%<br>Neutral: 0%",
          "Theme: Technology and Manufacturing<br>Type: Non-Bot Themes<br>Confidence: 100%<br>Keywords: 3D-Printed metal, manufacturing<br>Sentiments:<br>Positive: 0%<br>Negative: 0%<br>Neutral: 100%",
          "Theme: Parenting and Family<br>Type: Non-Bot Themes<br>Confidence: 90%<br>Keywords: parenting, unconditional love<br>Sentiments:<br>Positive: 100%<br>Negative: 0%<br>Neutral: 0%",
          "Theme: Social Issues and Politics<br>Type: Non-Bot Themes<br>Confidence: 90%<br>Keywords: Roy Moore, Snowden, Candor with the Chinese<br>Sentiments:<br>Positive: 60%<br>Negative: 20%<br>Neutral: 20%",
          "Theme: Relationships and Pets<br>Type: Non-Bot Themes<br>Confidence: 80%<br>Keywords: boyfriend, dog, Slash<br>Sentiments:<br>Positive: 0%<br>Negative: 0%<br>Neutral: 100%",
          "Theme: Community and Social Issues<br>Type: Non-Bot Themes<br>Confidence: 80%<br>Keywords: community, social, issues<br>Sentiments:<br>Positive: 25%<br>Negative: 50%<br>Neutral: 25%",
          "Theme: Celebrations<br>Type: Non-Bot Themes<br>Confidence: 100%<br>Keywords: birthday, friend, celebrating, shining example<br>Sentiments:<br>Positive: 85%<br>Negative: 0%<br>Neutral: 15%",
          "Theme: Disappointment and Frustration<br>Type: Non-Bot Themes<br>Confidence: 70%<br>Keywords: delayed, order, plans, inflexibility, kendricklamar, damm<br>Sentiments:<br>Positive: 0%<br>Negative: 80%<br>Neutral: 20%",
          "Theme: European Union Politics<br>Type: Non-Bot Themes<br>Confidence: 98%<br>Keywords: EU, Brexit, leave, currency<br>Sentiments:<br>Positive: 0%<br>Negative: 100%<br>Neutral: 0%",
          "Theme: Personal Relationships and Interactions<br>Type: Non-Bot Themes<br>Confidence: 80%<br>Keywords: thanks, check, out, appreciate<br>Sentiments:<br>Positive: 100%<br>Negative: 0%<br>Neutral: 0%",
          "Theme: Entertainment and Lifestyle<br>Type: Non-Bot Themes<br>Confidence: 75%<br>Keywords: music, funky, banger, caribbean, nassau, roatan<br>Sentiments:<br>Positive: 100%<br>Negative: 0%<br>Neutral: 0%",
          "Theme: Celebrity News and Updates<br>Type: Non-Bot Themes<br>Confidence: 70%<br>Keywords: kuwtk, family<br>Sentiments:<br>Positive: 100%<br>Negative: 0%<br>Neutral: 0%",
          "Theme: Immigration and Refugees<br>Type: Non-Bot Themes<br>Confidence: 75%<br>Keywords: #NewcomersWelcome, #WelcomeToCanada, #RefugeesWelcome, #privatesponsorship<br>Sentiments:<br>Positive: 75%<br>Negative: 0%<br>Neutral: 25%",
          "Theme: Secrets and Personal Information<br>Type: Non-Bot Themes<br>Confidence: 80%<br>Keywords: secret, spill, confidential, boundaries<br>Sentiments:<br>Positive: 0%<br>Negative: 100%<br>Neutral: 0%",
          "Theme: Social Cause and Charity<br>Type: Non-Bot Themes<br>Confidence: 80%<br>Keywords: #WAKEUPCALL, #UNICEF, #SwatMotorway<br>Sentiments:<br>Positive: 60%<br>Negative: 20%<br>Neutral: 20%"
         ],
         "marker": {
          "color": "rgb(0,255,0)",
          "line": {
           "color": "black",
           "width": 1
          },
          "size": [
           13,
           12,
           13.5,
           13,
           12.5,
           13,
           14,
           14.5,
           13.8,
           13,
           14,
           13,
           14,
           14.5,
           14,
           12,
           14.8,
           14,
           13,
           12.5,
           13,
           14,
           13,
           13.5,
           12.5,
           13,
           13,
           13.5,
           13,
           12,
           14,
           13.5,
           12,
           13,
           12,
           13,
           13,
           12,
           13,
           12,
           14.6,
           13.2,
           13.5,
           13,
           13,
           14,
           14.2,
           13.8,
           14,
           14.5,
           12,
           12.5,
           12,
           13,
           13,
           13.5,
           12,
           13,
           12,
           13,
           12,
           13,
           13,
           13,
           13.9,
           13,
           14,
           13,
           14,
           13.5,
           12.5,
           12,
           13,
           13.7,
           12.8,
           13.5,
           13,
           12.5,
           12,
           13,
           13.5,
           13,
           12,
           13,
           13.2,
           12,
           13,
           13,
           13,
           14.1,
           13.5,
           12.5,
           12,
           13,
           13.6,
           13,
           12,
           13,
           13.5,
           13,
           13,
           14,
           13,
           13.5,
           13,
           12,
           13,
           13,
           13.5,
           13,
           13,
           12,
           14,
           12,
           13.7,
           13.5,
           12.5,
           14,
           13,
           12.2,
           13.6,
           13.3,
           13,
           13.5,
           13,
           12.5,
           12,
           13,
           13,
           15,
           15,
           14,
           14,
           13,
           13,
           15,
           12,
           14.8,
           13,
           12.5,
           12,
           12.5,
           13,
           13
          ]
         },
         "mode": "markers",
         "name": "Non-Bot Themes",
         "type": "scatter",
         "x": [
          5.385643032564751,
          4.9578034836232625,
          5.0410333622499985,
          3.3787293413618227,
          5.066936887382504,
          4.553706296534234,
          6.952366600247591,
          4.890382517704127,
          4.782302264698006,
          4.073500674236643,
          5.274241503933381,
          7.065067732302442,
          5.324641279231373,
          3.656902841440818,
          3.695545726306391,
          3.885807586476129,
          4.825527875222044,
          7.194730145621316,
          5.125308093052641,
          5.126463569264817,
          5.454292306333931,
          7.409628596486522,
          4.709826140378167,
          3.8220231735858317,
          5.43748564102525,
          6.123971249260597,
          5.793084895699153,
          5.791441742722591,
          5.229510345051103,
          4.938131271453063,
          4.839074294081422,
          3.2008712079557085,
          6.359175772415024,
          6.204085885714465,
          4.502217767205769,
          5.9649153761338525,
          4.523343437522906,
          3.0464011926563757,
          4.870718139590328,
          5.355089339424749,
          5.3735577220000526,
          6.547040069248205,
          3.572365377013229,
          5.4571043951861435,
          4.550756286932264,
          4.784060779870247,
          4.817200254219999,
          5.782238887967023,
          5.306031311259861,
          5.6945659481252555,
          4.628550329422912,
          5.522114073734861,
          3.932217257507352,
          3.7212233069061105,
          4.876976370524549,
          5.877826704516459,
          5.782738295311631,
          6.569180125496853,
          5.690430830254567,
          5.380911570354336,
          4.084726572227821,
          4.707972897877175,
          5.487517249076411,
          5.380225521165674,
          4.297689638066502,
          4.076229326412104,
          6.045699986295962,
          4.976962272237691,
          4.852003967419852,
          5.9594856488754955,
          5.478830976199699,
          4.796493311817596,
          5.168357313044275,
          7.193037745342263,
          4.257033195113198,
          2.5505953815829394,
          4.583152290883638,
          3.526283380894762,
          5.114462284347755,
          3.8962636287280974,
          3.719728233695278,
          4.226162446776162,
          5.414382385008139,
          3.9991357888902526,
          7.408422864938258,
          6.275463015236762,
          6.322617822366012,
          4.79421025911253,
          4.744141008233913,
          4.644688129541911,
          4.048968612510574,
          7.070432570734093,
          4.093995127960306,
          4.835741656692132,
          4.52629215016448,
          5.103487849528687,
          4.5940239840792065,
          5.395060098503556,
          4.717539148874698,
          3.9027684460575083,
          6.035374618382863,
          6.022676088862267,
          4.0097680880150435,
          5.124184192393486,
          4.277727607120351,
          5.839974775206337,
          3.1259943480057584,
          3.3749170939210504,
          4.717049972939041,
          4.107066711200653,
          2.9030432448524524,
          6.499317794784906,
          5.347208720939357,
          4.481094653652393,
          4.7674716166271125,
          3.257979671527298,
          5.791825720851657,
          6.630325602658463,
          6.064483774675663,
          4.641240152339204,
          6.199944213291756,
          5.569372461829182,
          3.8991269957304495,
          3.6250574159982047,
          4.996449176958557,
          6.590779841683395,
          4.954515165709017,
          4.576932001702189,
          5.07567070743175,
          5.75919220587755,
          5.405875827433793,
          4.832217421154212,
          5.057709502826569,
          6.9794799231251865,
          6.637715627655364,
          3.8155071987012974,
          5.432860733535004,
          6.688725726488905,
          4.806571338526252,
          7.233642617018151,
          4.045867468731001,
          5.566469218281853,
          3.8868882639151403,
          4.279620134001147
         ],
         "y": [
          7.568710910751607,
          5.986063732013176,
          4.912203021841534,
          4.954057410398173,
          3.7070079229217994,
          4.413838499015006,
          5.487420644733505,
          4.896888189304982,
          5.0996635768911345,
          4.174291384513888,
          5.380465726355533,
          6.418513346491877,
          4.892942012893502,
          4.471763174909544,
          6.3296023709304645,
          5.255628307106967,
          6.481289435304419,
          5.599215056538739,
          4.060499396491011,
          4.678648208829955,
          4.921837113800778,
          4.27076206672048,
          6.402940294852344,
          5.626714470319192,
          4.9636006243324315,
          6.567368879804221,
          4.713412898392482,
          3.9077142384485706,
          5.603353912349428,
          5.252095889393013,
          5.867568788813557,
          3.926461487531789,
          5.6286301799857,
          6.740005858910252,
          4.600790580088049,
          4.666075961965888,
          6.061984345531763,
          5.06607186909859,
          4.9157233215790095,
          4.807143695159001,
          4.977489500070531,
          5.33598753269342,
          5.31735533605262,
          5.022430831651499,
          5.05167429307505,
          4.72621169866679,
          5.061644133017336,
          5.699045559059276,
          3.6228366228771467,
          6.604406032671804,
          4.844315043592541,
          5.0760590150848515,
          3.17038507962667,
          3.3947857697562887,
          5.33153852877842,
          5.043994534416748,
          5.145828739870528,
          4.784426915927735,
          6.070089549609775,
          6.019741104486846,
          4.081833060708095,
          4.214246774073814,
          4.707349582764692,
          6.531387612025522,
          3.231129921115379,
          4.4052639226737185,
          3.820950741266345,
          3.3089749465511504,
          3.703836763697585,
          5.341092746893197,
          3.9725326281943785,
          4.488463788121096,
          3.8042231259439694,
          4.017544561394902,
          4.84661428109373,
          5.012015973821974,
          5.573331673896188,
          6.7012797705087515,
          3.8844686100296135,
          5.924957408062362,
          5.1673694918842346,
          4.140062297272462,
          4.238935221781403,
          3.557822526494979,
          5.168608487793248,
          4.985570881077478,
          5.460964535202664,
          6.168945458959495,
          6.587375687671496,
          3.293481708572287,
          2.7304941627715404,
          5.209440178301998,
          5.6419503013967205,
          4.4637103105575004,
          3.588015267828449,
          3.326454853632304,
          4.11877891551248,
          3.4223997437581026,
          4.263766050992931,
          6.154692881530898,
          5.722994492377535,
          4.925439388279827,
          6.345284083052126,
          4.198792336641238,
          7.00314920800863,
          4.913049728705926,
          3.635944591934444,
          4.696040087792814,
          5.41095706047716,
          5.0263668354129045,
          4.025094559354644,
          4.69022577670587,
          3.849325142885742,
          4.804472185695616,
          6.246846341089467,
          4.669582412185674,
          3.106120906616768,
          6.9434271015866695,
          3.917917002474559,
          3.7563982299475893,
          3.8263852386428594,
          4.302568770251879,
          5.155829171784164,
          5.875505292347313,
          5.550294528374302,
          5.109664506478988,
          6.438364346884013,
          4.48298073233864,
          5.596962033204751,
          5.533499701410819,
          5.798314583025685,
          4.816232369838947,
          4.0654248903860095,
          4.869739820144965,
          4.739066397539664,
          6.389910673211553,
          6.599334393207769,
          5.288381101203083,
          5.023488934043527,
          5.007569461150481,
          4.325662173889749,
          4.576178504233705,
          4.765718634074854,
          4.994609609230232
         ]
        },
        {
         "hoverinfo": "text",
         "hovertext": [
          "Theme: Business and Finance<br>Type: Mixed Themes<br>Confidence: 80%<br>Keywords: bitcoin, cryptocurrency, hiring, Gemini, NYSE, CIO<br>Sentiments:<br>Positive: 75%<br>Negative: 0%<br>Neutral: 25%",
          "Theme: Technology and Computing<br>Type: Mixed Themes<br>Confidence: 70%<br>Keywords: nested user namespace, linux, exploit, metasploit, exploidDB<br>Sentiments:<br>Positive: 0%<br>Negative: 0%<br>Neutral: 100%",
          "Theme: Technology and Innovation<br>Type: Mixed Themes<br>Confidence: 85%<br>Keywords: Podscripter, Transcription, AI, Robot<br>Sentiments:<br>Positive: 60%<br>Negative: 20%<br>Neutral: 20%",
          "Theme: Miscellaneous<br>Type: Mixed Themes<br>Confidence: 90%<br>Keywords: Santacon, liquorice allsorts, cry, boredom<br>Sentiments:<br>Positive: 33%<br>Negative: 33%<br>Neutral: 33%",
          "Theme: Social Commentary<br>Type: Mixed Themes<br>Confidence: 85%<br>Keywords: snap chat, paramedic, cage<br>Sentiments:<br>Positive: 16%<br>Negative: 42%<br>Neutral: 42%",
          "Theme: Miscellaneous and Humor<br>Type: Mixed Themes<br>Confidence: 80%<br>Keywords: humor, N\\xc3\\xa3o temas<br>Sentiments:<br>Positive: 60%<br>Negative: 10%<br>Neutral: 30%",
          "Theme: Current Events and News<br>Type: Mixed Themes<br>Confidence: 88%<br>Keywords: Vote, EDF, Commerzbank, Inflation, Red Hook, SandyAid, NY, Cloud, Software AG, HelpNetSecurity<br>Sentiments:<br>Positive: 20%<br>Negative: 0%<br>Neutral: 80%",
          "Theme: Politics and Governance<br>Type: Mixed Themes<br>Confidence: 80%<br>Keywords: government, officials, policies, laws, regulations<br>Sentiments:<br>Positive: 0%<br>Negative: 25%<br>Neutral: 75%",
          "Theme: Film and Entertainment<br>Type: Mixed Themes<br>Confidence: 90%<br>Keywords: Cage, Atlantic City, WW2, film, production<br>Sentiments:<br>Positive: 40%<br>Negative: 10%<br>Neutral: 50%",
          "Theme: Personal and Lifestyle<br>Type: Mixed Themes<br>Confidence: 70%<br>Keywords: oil, blotting papers, road, tomorrow<br>Sentiments:<br>Positive: 60%<br>Negative: 10%<br>Neutral: 30%",
          "Theme: Sports and Entertainment<br>Type: Mixed Themes<br>Confidence: 75%<br>Keywords: stoletheshow, mind, titles, aren't, won, August<br>Sentiments:<br>Positive: 25%<br>Negative: 25%<br>Neutral: 50%",
          "Theme: Humor and Entertainment<br>Type: Mixed Themes<br>Confidence: 80%<br>Keywords: RT, #accidentalhaiku, wingmanning, liquorice<br>Sentiments:<br>Positive: 80%<br>Negative: 10%<br>Neutral: 10%",
          "Theme: Entertainment<br>Type: Mixed Themes<br>Confidence: 80%<br>Keywords: Movie, Celebrity, Pop Culture<br>Sentiments:<br>Positive: 0%<br>Negative: 0%<br>Neutral: 100%",
          "Theme: Personal Struggles<br>Type: Mixed Themes<br>Confidence: 70%<br>Keywords: Relationship, Personal growth<br>Sentiments:<br>Positive: 0%<br>Negative: 20%<br>Neutral: 80%",
          "Theme: Relationships<br>Type: Mixed Themes<br>Confidence: 80%<br>Keywords: Relationship, Romantic relationships<br>Sentiments:<br>Positive: 0%<br>Negative: 20%<br>Neutral: 80%",
          "Theme: Technology and Security<br>Type: Mixed Themes<br>Confidence: 80%<br>Keywords: #CentOS, #Nessus, security, Sentinel, AndroidDev<br>Sentiments:<br>Positive: 0%<br>Negative: 0%<br>Neutral: 100%"
         ],
         "marker": {
          "color": "rgb(128,0,128)",
          "line": {
           "color": "black",
           "width": 1
          },
          "size": [
           13,
           12,
           13.5,
           14,
           13.5,
           13,
           13.8,
           13,
           14,
           12,
           12.5,
           13,
           13,
           12,
           13,
           13
          ]
         },
         "mode": "markers",
         "name": "Mixed Themes",
         "type": "scatter",
         "x": [
          -0.47500024524678885,
          -0.7496721618913803,
          0.7812129938700951,
          -0.021362936131816987,
          0.5748536256387308,
          -0.18198162016010502,
          0.6328599095553487,
          -0.493388129107506,
          0.4976045149528285,
          0.5312870857566193,
          -1.0602360052237283,
          -1.1918394012384397,
          0.7216436241521829,
          -2.4973834934022316,
          1.1832200955437442,
          0.06532903186426382
         ],
         "y": [
          0.7949951260540689,
          0.6149746664998077,
          0.9010688941236047,
          -1.4476723470685908,
          0.43319980390508184,
          0.21419488159934144,
          0.6988373069518903,
          1.106132700375688,
          -0.4006112550548917,
          -0.7540370058320689,
          -0.6948957475791339,
          -1.83301362539064,
          -0.0674870410565807,
          0.5743521143397919,
          0.98783140254714,
          -0.20513725304862188
         ]
        }
       ],
       "layout": {
        "height": 800,
        "paper_bgcolor": "white",
        "plot_bgcolor": "white",
        "showlegend": true,
        "template": {
         "data": {
          "bar": [
           {
            "error_x": {
             "color": "#2a3f5f"
            },
            "error_y": {
             "color": "#2a3f5f"
            },
            "marker": {
             "line": {
              "color": "#E5ECF6",
              "width": 0.5
             },
             "pattern": {
              "fillmode": "overlay",
              "size": 10,
              "solidity": 0.2
             }
            },
            "type": "bar"
           }
          ],
          "barpolar": [
           {
            "marker": {
             "line": {
              "color": "#E5ECF6",
              "width": 0.5
             },
             "pattern": {
              "fillmode": "overlay",
              "size": 10,
              "solidity": 0.2
             }
            },
            "type": "barpolar"
           }
          ],
          "carpet": [
           {
            "aaxis": {
             "endlinecolor": "#2a3f5f",
             "gridcolor": "white",
             "linecolor": "white",
             "minorgridcolor": "white",
             "startlinecolor": "#2a3f5f"
            },
            "baxis": {
             "endlinecolor": "#2a3f5f",
             "gridcolor": "white",
             "linecolor": "white",
             "minorgridcolor": "white",
             "startlinecolor": "#2a3f5f"
            },
            "type": "carpet"
           }
          ],
          "choropleth": [
           {
            "colorbar": {
             "outlinewidth": 0,
             "ticks": ""
            },
            "type": "choropleth"
           }
          ],
          "contour": [
           {
            "colorbar": {
             "outlinewidth": 0,
             "ticks": ""
            },
            "colorscale": [
             [
              0,
              "#0d0887"
             ],
             [
              0.1111111111111111,
              "#46039f"
             ],
             [
              0.2222222222222222,
              "#7201a8"
             ],
             [
              0.3333333333333333,
              "#9c179e"
             ],
             [
              0.4444444444444444,
              "#bd3786"
             ],
             [
              0.5555555555555556,
              "#d8576b"
             ],
             [
              0.6666666666666666,
              "#ed7953"
             ],
             [
              0.7777777777777778,
              "#fb9f3a"
             ],
             [
              0.8888888888888888,
              "#fdca26"
             ],
             [
              1,
              "#f0f921"
             ]
            ],
            "type": "contour"
           }
          ],
          "contourcarpet": [
           {
            "colorbar": {
             "outlinewidth": 0,
             "ticks": ""
            },
            "type": "contourcarpet"
           }
          ],
          "heatmap": [
           {
            "colorbar": {
             "outlinewidth": 0,
             "ticks": ""
            },
            "colorscale": [
             [
              0,
              "#0d0887"
             ],
             [
              0.1111111111111111,
              "#46039f"
             ],
             [
              0.2222222222222222,
              "#7201a8"
             ],
             [
              0.3333333333333333,
              "#9c179e"
             ],
             [
              0.4444444444444444,
              "#bd3786"
             ],
             [
              0.5555555555555556,
              "#d8576b"
             ],
             [
              0.6666666666666666,
              "#ed7953"
             ],
             [
              0.7777777777777778,
              "#fb9f3a"
             ],
             [
              0.8888888888888888,
              "#fdca26"
             ],
             [
              1,
              "#f0f921"
             ]
            ],
            "type": "heatmap"
           }
          ],
          "heatmapgl": [
           {
            "colorbar": {
             "outlinewidth": 0,
             "ticks": ""
            },
            "colorscale": [
             [
              0,
              "#0d0887"
             ],
             [
              0.1111111111111111,
              "#46039f"
             ],
             [
              0.2222222222222222,
              "#7201a8"
             ],
             [
              0.3333333333333333,
              "#9c179e"
             ],
             [
              0.4444444444444444,
              "#bd3786"
             ],
             [
              0.5555555555555556,
              "#d8576b"
             ],
             [
              0.6666666666666666,
              "#ed7953"
             ],
             [
              0.7777777777777778,
              "#fb9f3a"
             ],
             [
              0.8888888888888888,
              "#fdca26"
             ],
             [
              1,
              "#f0f921"
             ]
            ],
            "type": "heatmapgl"
           }
          ],
          "histogram": [
           {
            "marker": {
             "pattern": {
              "fillmode": "overlay",
              "size": 10,
              "solidity": 0.2
             }
            },
            "type": "histogram"
           }
          ],
          "histogram2d": [
           {
            "colorbar": {
             "outlinewidth": 0,
             "ticks": ""
            },
            "colorscale": [
             [
              0,
              "#0d0887"
             ],
             [
              0.1111111111111111,
              "#46039f"
             ],
             [
              0.2222222222222222,
              "#7201a8"
             ],
             [
              0.3333333333333333,
              "#9c179e"
             ],
             [
              0.4444444444444444,
              "#bd3786"
             ],
             [
              0.5555555555555556,
              "#d8576b"
             ],
             [
              0.6666666666666666,
              "#ed7953"
             ],
             [
              0.7777777777777778,
              "#fb9f3a"
             ],
             [
              0.8888888888888888,
              "#fdca26"
             ],
             [
              1,
              "#f0f921"
             ]
            ],
            "type": "histogram2d"
           }
          ],
          "histogram2dcontour": [
           {
            "colorbar": {
             "outlinewidth": 0,
             "ticks": ""
            },
            "colorscale": [
             [
              0,
              "#0d0887"
             ],
             [
              0.1111111111111111,
              "#46039f"
             ],
             [
              0.2222222222222222,
              "#7201a8"
             ],
             [
              0.3333333333333333,
              "#9c179e"
             ],
             [
              0.4444444444444444,
              "#bd3786"
             ],
             [
              0.5555555555555556,
              "#d8576b"
             ],
             [
              0.6666666666666666,
              "#ed7953"
             ],
             [
              0.7777777777777778,
              "#fb9f3a"
             ],
             [
              0.8888888888888888,
              "#fdca26"
             ],
             [
              1,
              "#f0f921"
             ]
            ],
            "type": "histogram2dcontour"
           }
          ],
          "mesh3d": [
           {
            "colorbar": {
             "outlinewidth": 0,
             "ticks": ""
            },
            "type": "mesh3d"
           }
          ],
          "parcoords": [
           {
            "line": {
             "colorbar": {
              "outlinewidth": 0,
              "ticks": ""
             }
            },
            "type": "parcoords"
           }
          ],
          "pie": [
           {
            "automargin": true,
            "type": "pie"
           }
          ],
          "scatter": [
           {
            "fillpattern": {
             "fillmode": "overlay",
             "size": 10,
             "solidity": 0.2
            },
            "type": "scatter"
           }
          ],
          "scatter3d": [
           {
            "line": {
             "colorbar": {
              "outlinewidth": 0,
              "ticks": ""
             }
            },
            "marker": {
             "colorbar": {
              "outlinewidth": 0,
              "ticks": ""
             }
            },
            "type": "scatter3d"
           }
          ],
          "scattercarpet": [
           {
            "marker": {
             "colorbar": {
              "outlinewidth": 0,
              "ticks": ""
             }
            },
            "type": "scattercarpet"
           }
          ],
          "scattergeo": [
           {
            "marker": {
             "colorbar": {
              "outlinewidth": 0,
              "ticks": ""
             }
            },
            "type": "scattergeo"
           }
          ],
          "scattergl": [
           {
            "marker": {
             "colorbar": {
              "outlinewidth": 0,
              "ticks": ""
             }
            },
            "type": "scattergl"
           }
          ],
          "scattermapbox": [
           {
            "marker": {
             "colorbar": {
              "outlinewidth": 0,
              "ticks": ""
             }
            },
            "type": "scattermapbox"
           }
          ],
          "scatterpolar": [
           {
            "marker": {
             "colorbar": {
              "outlinewidth": 0,
              "ticks": ""
             }
            },
            "type": "scatterpolar"
           }
          ],
          "scatterpolargl": [
           {
            "marker": {
             "colorbar": {
              "outlinewidth": 0,
              "ticks": ""
             }
            },
            "type": "scatterpolargl"
           }
          ],
          "scatterternary": [
           {
            "marker": {
             "colorbar": {
              "outlinewidth": 0,
              "ticks": ""
             }
            },
            "type": "scatterternary"
           }
          ],
          "surface": [
           {
            "colorbar": {
             "outlinewidth": 0,
             "ticks": ""
            },
            "colorscale": [
             [
              0,
              "#0d0887"
             ],
             [
              0.1111111111111111,
              "#46039f"
             ],
             [
              0.2222222222222222,
              "#7201a8"
             ],
             [
              0.3333333333333333,
              "#9c179e"
             ],
             [
              0.4444444444444444,
              "#bd3786"
             ],
             [
              0.5555555555555556,
              "#d8576b"
             ],
             [
              0.6666666666666666,
              "#ed7953"
             ],
             [
              0.7777777777777778,
              "#fb9f3a"
             ],
             [
              0.8888888888888888,
              "#fdca26"
             ],
             [
              1,
              "#f0f921"
             ]
            ],
            "type": "surface"
           }
          ],
          "table": [
           {
            "cells": {
             "fill": {
              "color": "#EBF0F8"
             },
             "line": {
              "color": "white"
             }
            },
            "header": {
             "fill": {
              "color": "#C8D4E3"
             },
             "line": {
              "color": "white"
             }
            },
            "type": "table"
           }
          ]
         },
         "layout": {
          "annotationdefaults": {
           "arrowcolor": "#2a3f5f",
           "arrowhead": 0,
           "arrowwidth": 1
          },
          "autotypenumbers": "strict",
          "coloraxis": {
           "colorbar": {
            "outlinewidth": 0,
            "ticks": ""
           }
          },
          "colorscale": {
           "diverging": [
            [
             0,
             "#8e0152"
            ],
            [
             0.1,
             "#c51b7d"
            ],
            [
             0.2,
             "#de77ae"
            ],
            [
             0.3,
             "#f1b6da"
            ],
            [
             0.4,
             "#fde0ef"
            ],
            [
             0.5,
             "#f7f7f7"
            ],
            [
             0.6,
             "#e6f5d0"
            ],
            [
             0.7,
             "#b8e186"
            ],
            [
             0.8,
             "#7fbc41"
            ],
            [
             0.9,
             "#4d9221"
            ],
            [
             1,
             "#276419"
            ]
           ],
           "sequential": [
            [
             0,
             "#0d0887"
            ],
            [
             0.1111111111111111,
             "#46039f"
            ],
            [
             0.2222222222222222,
             "#7201a8"
            ],
            [
             0.3333333333333333,
             "#9c179e"
            ],
            [
             0.4444444444444444,
             "#bd3786"
            ],
            [
             0.5555555555555556,
             "#d8576b"
            ],
            [
             0.6666666666666666,
             "#ed7953"
            ],
            [
             0.7777777777777778,
             "#fb9f3a"
            ],
            [
             0.8888888888888888,
             "#fdca26"
            ],
            [
             1,
             "#f0f921"
            ]
           ],
           "sequentialminus": [
            [
             0,
             "#0d0887"
            ],
            [
             0.1111111111111111,
             "#46039f"
            ],
            [
             0.2222222222222222,
             "#7201a8"
            ],
            [
             0.3333333333333333,
             "#9c179e"
            ],
            [
             0.4444444444444444,
             "#bd3786"
            ],
            [
             0.5555555555555556,
             "#d8576b"
            ],
            [
             0.6666666666666666,
             "#ed7953"
            ],
            [
             0.7777777777777778,
             "#fb9f3a"
            ],
            [
             0.8888888888888888,
             "#fdca26"
            ],
            [
             1,
             "#f0f921"
            ]
           ]
          },
          "colorway": [
           "#636efa",
           "#EF553B",
           "#00cc96",
           "#ab63fa",
           "#FFA15A",
           "#19d3f3",
           "#FF6692",
           "#B6E880",
           "#FF97FF",
           "#FECB52"
          ],
          "font": {
           "color": "#2a3f5f"
          },
          "geo": {
           "bgcolor": "white",
           "lakecolor": "white",
           "landcolor": "#E5ECF6",
           "showlakes": true,
           "showland": true,
           "subunitcolor": "white"
          },
          "hoverlabel": {
           "align": "left"
          },
          "hovermode": "closest",
          "mapbox": {
           "style": "light"
          },
          "paper_bgcolor": "white",
          "plot_bgcolor": "#E5ECF6",
          "polar": {
           "angularaxis": {
            "gridcolor": "white",
            "linecolor": "white",
            "ticks": ""
           },
           "bgcolor": "#E5ECF6",
           "radialaxis": {
            "gridcolor": "white",
            "linecolor": "white",
            "ticks": ""
           }
          },
          "scene": {
           "xaxis": {
            "backgroundcolor": "#E5ECF6",
            "gridcolor": "white",
            "gridwidth": 2,
            "linecolor": "white",
            "showbackground": true,
            "ticks": "",
            "zerolinecolor": "white"
           },
           "yaxis": {
            "backgroundcolor": "#E5ECF6",
            "gridcolor": "white",
            "gridwidth": 2,
            "linecolor": "white",
            "showbackground": true,
            "ticks": "",
            "zerolinecolor": "white"
           },
           "zaxis": {
            "backgroundcolor": "#E5ECF6",
            "gridcolor": "white",
            "gridwidth": 2,
            "linecolor": "white",
            "showbackground": true,
            "ticks": "",
            "zerolinecolor": "white"
           }
          },
          "shapedefaults": {
           "line": {
            "color": "#2a3f5f"
           }
          },
          "ternary": {
           "aaxis": {
            "gridcolor": "white",
            "linecolor": "white",
            "ticks": ""
           },
           "baxis": {
            "gridcolor": "white",
            "linecolor": "white",
            "ticks": ""
           },
           "bgcolor": "#E5ECF6",
           "caxis": {
            "gridcolor": "white",
            "linecolor": "white",
            "ticks": ""
           }
          },
          "title": {
           "x": 0.05
          },
          "xaxis": {
           "automargin": true,
           "gridcolor": "white",
           "linecolor": "white",
           "ticks": "",
           "title": {
            "standoff": 15
           },
           "zerolinecolor": "white",
           "zerolinewidth": 2
          },
          "yaxis": {
           "automargin": true,
           "gridcolor": "white",
           "linecolor": "white",
           "ticks": "",
           "title": {
            "standoff": 15
           },
           "zerolinecolor": "white",
           "zerolinewidth": 2
          }
         }
        },
        "title": {
         "text": "Theme Network Visualization (Clustered by Bot Status and Sentiments)"
        },
        "width": 1200,
        "xaxis": {
         "showgrid": false,
         "showticklabels": false,
         "zeroline": false
        },
        "yaxis": {
         "showgrid": false,
         "showticklabels": false,
         "zeroline": false
        }
       }
      }
     },
     "metadata": {},
     "output_type": "display_data"
    }
   ],
   "source": [
    "import json\n",
    "import networkx as nx\n",
    "import plotly.graph_objects as go\n",
    "import numpy as np\n",
    "\n",
    "\n",
    "def load_json_file(file_path):\n",
    "    \"\"\"Load JSON file safely.\"\"\"\n",
    "    try:\n",
    "        with open(file_path, 'r', encoding='utf-8') as file:\n",
    "            return json.load(file)\n",
    "    except Exception as e:\n",
    "        print(f\"Error loading JSON file {file_path}: {e}\")\n",
    "        return []\n",
    "\n",
    "\n",
    "def create_theme_network(data_bot, data_nonbot, min_confidence=70):\n",
    "    \"\"\"Create a network graph from themes with a minimum confidence level.\"\"\"\n",
    "    G = nx.Graph()\n",
    "\n",
    "    def process_data(data, is_bot=True):\n",
    "        for item in data:\n",
    "            response = item.get('response')\n",
    "            if isinstance(response, str):\n",
    "                try:\n",
    "                    response_data = json.loads(response)\n",
    "                    themes = response_data.get('overall_themes', [])\n",
    "                    for theme in themes:\n",
    "                        confidence = theme.get('confidence', 0)\n",
    "                        if confidence >= min_confidence:\n",
    "                            theme_name = theme['name']\n",
    "                            keywords = theme.get('keywords', [])\n",
    "                            sentiment_distribution = theme.get('sentiment_distribution', {})\n",
    "                            positive = sentiment_distribution.get('positive_percentage', 0)\n",
    "                            negative = sentiment_distribution.get('negative_percentage', 0)\n",
    "                            neutral = sentiment_distribution.get('neutral_percentage', 0)\n",
    "\n",
    "                            if not G.has_node(theme_name):\n",
    "                                G.add_node(theme_name,\n",
    "                                           type='theme',\n",
    "                                           is_bot=is_bot,\n",
    "                                           confidence=confidence,\n",
    "                                           keywords=keywords,\n",
    "                                           sentiment_distribution={\n",
    "                                               'positive': positive,\n",
    "                                               'negative': negative,\n",
    "                                               'neutral': neutral\n",
    "                                           })\n",
    "                            else:\n",
    "                                current_bot_status = G.nodes[theme_name].get('is_bot')\n",
    "                                if current_bot_status != is_bot:\n",
    "                                    G.nodes[theme_name]['is_bot'] = 'mixed'\n",
    "                except json.JSONDecodeError:\n",
    "                    print(f\"Invalid JSON in response: {response}\")\n",
    "\n",
    "    process_data(data_bot, is_bot=True)\n",
    "    process_data(data_nonbot, is_bot=False)\n",
    "    return G\n",
    "\n",
    "\n",
    "def visualize_network(G):\n",
    "    \"\"\"Visualize network clustered by bot and nonbot themes with sentiment distribution.\"\"\"\n",
    "    if len(G.nodes) == 0:\n",
    "        print(\"No nodes to visualize.\")\n",
    "        return\n",
    "\n",
    "    bot_nodes = [node for node, data in G.nodes(data=True) if data['is_bot'] == True]\n",
    "    nonbot_nodes = [node for node, data in G.nodes(data=True) if data['is_bot'] == False]\n",
    "    mixed_nodes = [node for node, data in G.nodes(data=True) if data['is_bot'] == 'mixed']\n",
    "\n",
    "    def get_node_size(confidence):\n",
    "        return 5 + confidence / 10\n",
    "\n",
    "    traces = []\n",
    "    categories = [\n",
    "        ('Bot Themes', bot_nodes, 'rgb(255,0,0)', -5),\n",
    "        ('Non-Bot Themes', nonbot_nodes, 'rgb(0,255,0)', 5),\n",
    "        ('Mixed Themes', mixed_nodes, 'rgb(128,0,128)', 0),\n",
    "    ]\n",
    "\n",
    "    for name, nodes, color, center in categories:\n",
    "        if nodes:\n",
    "            positions_x = np.random.normal(loc=center, scale=1, size=len(nodes))\n",
    "            positions_y = np.random.normal(loc=center, scale=1, size=len(nodes))\n",
    "            sizes = [get_node_size(G.nodes[node]['confidence']) for node in nodes]\n",
    "\n",
    "            hover_texts = [\n",
    "                f\"Theme: {node}<br>\"\n",
    "                f\"Type: {name}<br>\"\n",
    "                f\"Confidence: {G.nodes[node]['confidence']}%<br>\"\n",
    "                f\"Keywords: {', '.join(G.nodes[node].get('keywords', []))}<br>\"\n",
    "                f\"Sentiments:<br>\"\n",
    "                f\"Positive: {G.nodes[node]['sentiment_distribution']['positive']}%<br>\"\n",
    "                f\"Negative: {G.nodes[node]['sentiment_distribution']['negative']}%<br>\"\n",
    "                f\"Neutral: {G.nodes[node]['sentiment_distribution']['neutral']}%\"\n",
    "                for node in nodes\n",
    "            ]\n",
    "\n",
    "            traces.append(go.Scatter(\n",
    "                x=positions_x,\n",
    "                y=positions_y,\n",
    "                mode='markers',\n",
    "                marker=dict(\n",
    "                    size=sizes,\n",
    "                    color=color,\n",
    "                    line=dict(width=1, color='black')\n",
    "                ),\n",
    "                hovertext=hover_texts,\n",
    "                hoverinfo='text',\n",
    "                name=name\n",
    "            ))\n",
    "\n",
    "    fig = go.Figure(data=traces)\n",
    "    fig.update_layout(\n",
    "        title=\"Theme Network Visualization (Clustered by Bot Status and Sentiments)\",\n",
    "        showlegend=True,\n",
    "        xaxis=dict(showgrid=False, zeroline=False, showticklabels=False),\n",
    "        yaxis=dict(showgrid=False, zeroline=False, showticklabels=False),\n",
    "        width=1200,\n",
    "        height=800,\n",
    "        plot_bgcolor='white',\n",
    "        paper_bgcolor='white'\n",
    "    )\n",
    "\n",
    "    fig.show()\n",
    "\n",
    "\n",
    "# Load JSON files\n",
    "data_label_0 = load_json_file('label_0_1.json')  # Bot data\n",
    "data_label_1 = load_json_file('label_1_1.json')  # Non-bot data\n",
    "\n",
    "# Create network\n",
    "network = create_theme_network(data_label_0, data_label_1, min_confidence=70)\n",
    "\n",
    "# Visualize network\n",
    "visualize_network(network)\n"
   ]
  },
  {
   "cell_type": "code",
   "execution_count": 22,
   "metadata": {},
   "outputs": [
    {
     "name": "stdout",
     "output_type": "stream",
     "text": [
      "Total Themes (90%+ Confidence): 43\n",
      "Bot Themes: 7\n",
      "Non-Bot Themes: 34\n",
      "Mixed Themes: 2\n"
     ]
    },
    {
     "data": {
      "application/vnd.plotly.v1+json": {
       "config": {
        "plotlyServerURL": "https://plot.ly"
       },
       "data": [
        {
         "hoverinfo": "text",
         "hovertext": [
          "Theme: Space Exploration and Discovery<br>Type: Bot Themes<br>Confidence: 90%<br>Keywords: planet, discovery, space<br>Sentiments:<br>Positive: 40%<br>Negative: 20%<br>Neutral: 40%",
          "Theme: Pop Culture and Entertainment<br>Type: Bot Themes<br>Confidence: 90%<br>Keywords: BONG, Quantum Break, Marco Rubio, RemyyXxX, God, pop culture<br>Sentiments:<br>Positive: 40%<br>Negative: 30%<br>Neutral: 30%",
          "Theme: Travel/Transportation<br>Type: Bot Themes<br>Confidence: 100%<br>Keywords: Travel, Transportation, Aviation, Tourism, Wine<br>Sentiments:<br>Positive: 40%<br>Negative: 20%<br>Neutral: 40%",
          "Theme: Security and Exploits<br>Type: Bot Themes<br>Confidence: 90%<br>Keywords: exploits, security, PHP-Proxy<br>Sentiments:<br>Positive: 30%<br>Negative: 20%<br>Neutral: 50%",
          "Theme: Film and Entertainment<br>Type: Bot Themes<br>Confidence: 90%<br>Keywords: Cage, Atlantic City, WW2, film, production<br>Sentiments:<br>Positive: 40%<br>Negative: 10%<br>Neutral: 50%",
          "Theme: Science and Discovery<br>Type: Bot Themes<br>Confidence: 95%<br>Keywords: planet, cyborg<br>Sentiments:<br>Positive: 40%<br>Negative: 20%<br>Neutral: 40%",
          "Theme: Cryptocurrency and Bitcoin<br>Type: Bot Themes<br>Confidence: 100%<br>Keywords: bitcoin, bch, bug, price, security<br>Sentiments:<br>Positive: 0%<br>Negative: 80%<br>Neutral: 20%"
         ],
         "marker": {
          "color": "rgb(255,0,0)",
          "line": {
           "color": "black",
           "width": 1
          },
          "size": [
           14,
           14,
           15,
           14,
           14,
           14.5,
           15
          ]
         },
         "mode": "markers",
         "name": "Bot Themes",
         "type": "scatter",
         "x": [
          -5.0898584672075735,
          -4.014679086056628,
          -4.314590444822522,
          -4.122821657924602,
          -5.2878032110365805,
          -5.531801162193012,
          -5.699198960160219
         ],
         "y": [
          -6.782883702988848,
          -4.549908354063767,
          -6.079216968975427,
          -5.108415037634985,
          -4.687577279913554,
          -3.529351415311617,
          -4.9897357776078435
         ]
        },
        {
         "hoverinfo": "text",
         "hovertext": [
          "Theme: News and Information<br>Type: Non-Bot Themes<br>Confidence: 90%<br>Keywords: news, information, environment<br>Sentiments:<br>Positive: 0%<br>Negative: 100%<br>Neutral: 0%",
          "Theme: Politics and Governance<br>Type: Non-Bot Themes<br>Confidence: 92%<br>Keywords: Kavanaugh, Supreme Court, election, voting, integrity<br>Sentiments:<br>Positive: 0%<br>Negative: 100%<br>Neutral: 0%",
          "Theme: Entertainment and Culture<br>Type: Non-Bot Themes<br>Confidence: 95%<br>Keywords: music, movies, celebrities, social media<br>Sentiments:<br>Positive: 83%<br>Negative: 0%<br>Neutral: 17%",
          "Theme: Social Media and Tech<br>Type: Non-Bot Themes<br>Confidence: 90%<br>Keywords: social media, post office, bureaucracy<br>Sentiments:<br>Positive: 0%<br>Negative: 83%<br>Neutral: 17%",
          "Theme: Amy Schumer and Trainwreck<br>Type: Non-Bot Themes<br>Confidence: 90%<br>Keywords: Amy Schumer, comedy, Trainwreck, entertainment<br>Sentiments:<br>Positive: 100%<br>Negative: 0%<br>Neutral: 0%",
          "Theme: Linkin Park and Music<br>Type: Non-Bot Themes<br>Confidence: 95%<br>Keywords: music, fandom, Linkin Park, community<br>Sentiments:<br>Positive: 83%<br>Negative: 0%<br>Neutral: 17%",
          "Theme: Small Business and Entrepreneurship<br>Type: Non-Bot Themes<br>Confidence: 90%<br>Keywords: small business, innovation, networking, community<br>Sentiments:<br>Positive: 67%<br>Negative: 0%<br>Neutral: 33%",
          "Theme: Social Media and Online Engagement<br>Type: Non-Bot Themes<br>Confidence: 98%<br>Keywords: social media, online engagement, book, reading, pop culture, entertainment, politics, current events<br>Sentiments:<br>Positive: 71%<br>Negative: 14%<br>Neutral: 15%",
          "Theme: Personal and Emotional Experiences<br>Type: Non-Bot Themes<br>Confidence: 90%<br>Keywords: personal experiences, emotional support, growth, self-improvement, empathy<br>Sentiments:<br>Positive: 85%<br>Negative: 5%<br>Neutral: 10%",
          "Theme: Motivation and Success<br>Type: Non-Bot Themes<br>Confidence: 90%<br>Keywords: success, achievement, inspiration<br>Sentiments:<br>Positive: 100%<br>Negative: 0%<br>Neutral: 0%",
          "Theme: Support and Inspiration<br>Type: Non-Bot Themes<br>Confidence: 90%<br>Keywords: joy, inspiration, motivation, empowerment, achievements, dreams, future, bright<br>Sentiments:<br>Positive: 100%<br>Negative: 0%<br>Neutral: 0%",
          "Theme: Political Commentary and Criticism<br>Type: Non-Bot Themes<br>Confidence: 96%<br>Keywords: politics, criticism, leadership, governance, extremism, tribal<br>Sentiments:<br>Positive: 0%<br>Negative: 80%<br>Neutral: 20%",
          "Theme: News and Current Events<br>Type: Non-Bot Themes<br>Confidence: 90%<br>Keywords: #Breaking, Hiroshima<br>Sentiments:<br>Positive: 0%<br>Negative: 0%<br>Neutral: 100%",
          "Theme: Music and Entertainment<br>Type: Non-Bot Themes<br>Confidence: 92%<br>Keywords: music, entertainment, album, LP<br>Sentiments:<br>Positive: 60%<br>Negative: 0%<br>Neutral: 40%",
          "Theme: Social Media and Events<br>Type: Non-Bot Themes<br>Confidence: 90%<br>Keywords: social media, events, engagement, promotions<br>Sentiments:<br>Positive: 70%<br>Negative: 0%<br>Neutral: 30%",
          "Theme: Politics and World News<br>Type: Non-Bot Themes<br>Confidence: 95%<br>Keywords: politics, government, international, news<br>Sentiments:<br>Positive: 0%<br>Negative: 0%<br>Neutral: 100%",
          "Theme: Discontent and Criticism<br>Type: Non-Bot Themes<br>Confidence: 90%<br>Keywords: PMLN, PTI, inauguration, wasted, @bluesatch, @plantbasedcaleb, truth<br>Sentiments:<br>Positive: 0%<br>Negative: 100%<br>Neutral: 0%",
          "Theme: Environmental Conservation<br>Type: Non-Bot Themes<br>Confidence: 90%<br>Keywords: Gambila river bed plantation, Billion tree tsunami<br>Sentiments:<br>Positive: 100%<br>Negative: 0%<br>Neutral: 0%",
          "Theme: News and Updates<br>Type: Non-Bot Themes<br>Confidence: 98%<br>Keywords: news, updates<br>Sentiments:<br>Positive: 10%<br>Negative: 20%<br>Neutral: 70%",
          "Theme: Celebrity and Entertainment<br>Type: Non-Bot Themes<br>Confidence: 90%<br>Keywords: <br>Sentiments:<br>Positive: 0%<br>Negative: 0%<br>Neutral: 0%",
          "Theme: Current Events<br>Type: Non-Bot Themes<br>Confidence: 90%<br>Keywords: Holocaust, survivor, Alice Herz-Sommer, Labor, bill, politics<br>Sentiments:<br>Positive: 0%<br>Negative: 100%<br>Neutral: 0%",
          "Theme: Financial and Economic Issues<br>Type: Non-Bot Themes<br>Confidence: 91%<br>Keywords: taxation, government, investment, technology, ethereum, GST<br>Sentiments:<br>Positive: 0%<br>Negative: 90%<br>Neutral: 10%",
          "Theme: Humor and Satire<br>Type: Non-Bot Themes<br>Confidence: 90%<br>Keywords: umbrella license test, apparently-sat-front-row-on-the-log-flume, NYC summer aesthetic<br>Sentiments:<br>Positive: 75%<br>Negative: 25%<br>Neutral: 0%",
          "Theme: Politics and Social Issues<br>Type: Non-Bot Themes<br>Confidence: 90%<br>Keywords: politics, social issues, justice<br>Sentiments:<br>Positive: 10%<br>Negative: 80%<br>Neutral: 10%",
          "Theme: Entertainment and Humor<br>Type: Non-Bot Themes<br>Confidence: 90%<br>Keywords: internet, memes, jokes<br>Sentiments:<br>Positive: 90%<br>Negative: 5%<br>Neutral: 5%",
          "Theme: Breaking News<br>Type: Non-Bot Themes<br>Confidence: 90%<br>Keywords: Cosby, BDS<br>Sentiments:<br>Positive: 0%<br>Negative: 60%<br>Neutral: 40%",
          "Theme: News and Politics<br>Type: Non-Bot Themes<br>Confidence: 90%<br>Keywords: @NYTimeskrugman, @AElliottTV<br>Sentiments:<br>Positive: 0%<br>Negative: 50%<br>Neutral: 50%",
          "Theme: Entertainment and Media<br>Type: Non-Bot Themes<br>Confidence: 90%<br>Keywords: TV, film, media, music, performance, art, social media, technology, online communities<br>Sentiments:<br>Positive: 30%<br>Negative: 0%<br>Neutral: 70%",
          "Theme: Food and Dining<br>Type: Non-Bot Themes<br>Confidence: 100%<br>Keywords: Brick & Fire, wood fire pizza<br>Sentiments:<br>Positive: 100%<br>Negative: 0%<br>Neutral: 0%",
          "Theme: Technology and Manufacturing<br>Type: Non-Bot Themes<br>Confidence: 100%<br>Keywords: 3D-Printed metal, manufacturing<br>Sentiments:<br>Positive: 0%<br>Negative: 0%<br>Neutral: 100%",
          "Theme: Parenting and Family<br>Type: Non-Bot Themes<br>Confidence: 90%<br>Keywords: parenting, unconditional love<br>Sentiments:<br>Positive: 100%<br>Negative: 0%<br>Neutral: 0%",
          "Theme: Social Issues and Politics<br>Type: Non-Bot Themes<br>Confidence: 90%<br>Keywords: Roy Moore, Snowden, Candor with the Chinese<br>Sentiments:<br>Positive: 60%<br>Negative: 20%<br>Neutral: 20%",
          "Theme: Celebrations<br>Type: Non-Bot Themes<br>Confidence: 100%<br>Keywords: birthday, friend, celebrating, shining example<br>Sentiments:<br>Positive: 85%<br>Negative: 0%<br>Neutral: 15%",
          "Theme: European Union Politics<br>Type: Non-Bot Themes<br>Confidence: 98%<br>Keywords: EU, Brexit, leave, currency<br>Sentiments:<br>Positive: 0%<br>Negative: 100%<br>Neutral: 0%"
         ],
         "marker": {
          "color": "rgb(0,255,0)",
          "line": {
           "color": "black",
           "width": 1
          },
          "size": [
           14,
           14.2,
           14.5,
           14,
           14,
           14.5,
           14,
           14.8,
           14,
           14,
           14,
           14.6,
           14,
           14.2,
           14,
           14.5,
           14,
           14,
           14.8,
           14,
           14,
           14.1,
           14,
           14,
           14,
           14,
           14,
           14,
           15,
           15,
           14,
           14,
           15,
           14.8
          ]
         },
         "mode": "markers",
         "name": "Non-Bot Themes",
         "type": "scatter",
         "x": [
          4.096466708514916,
          4.802114487661639,
          4.195385038475818,
          6.292537511897892,
          3.96546982983892,
          5.480896548514028,
          5.7024782685779165,
          5.144023035051234,
          5.876023311331248,
          5.822696052643176,
          5.336509418613265,
          4.279716084845062,
          8.43565761700147,
          3.955645873191628,
          5.988129529741412,
          4.854504031183314,
          5.326741321225508,
          5.890199288529144,
          3.9154879767349264,
          5.877458912720805,
          3.4931868132473993,
          3.5167961854304286,
          4.150506882976191,
          5.042744264315131,
          5.5406294097846125,
          4.982834626917228,
          4.665544479786605,
          4.762749830550197,
          2.683165455493181,
          5.5011524071638,
          4.209899771207086,
          4.747777748092003,
          4.928259995960696,
          6.682097592660346
         ],
         "y": [
          5.353687961134321,
          4.727090907211015,
          5.757515802703084,
          6.035141222407372,
          6.5893447137331895,
          6.801992869154997,
          6.182279671851989,
          4.094917925322234,
          3.524678781799899,
          4.065621949999075,
          6.425588703125211,
          5.236077463520589,
          5.466774671736925,
          5.488974334243758,
          5.8045553365059375,
          5.188193082759789,
          5.233299094970309,
          7.256676805580817,
          5.091435151264743,
          4.5421837463266534,
          5.217746981375432,
          5.819551090429842,
          4.807521208245008,
          5.0942167998302,
          5.047227431132603,
          5.788461809303647,
          6.0146813665627725,
          5.480234981010169,
          4.842511056350024,
          3.265128547341093,
          5.527979804389858,
          3.583977364978422,
          4.895175006750291,
          4.639871108177468
         ]
        },
        {
         "hoverinfo": "text",
         "hovertext": [
          "Theme: Miscellaneous<br>Type: Mixed Themes<br>Confidence: 90%<br>Keywords: Santacon, liquorice allsorts, cry, boredom<br>Sentiments:<br>Positive: 33%<br>Negative: 33%<br>Neutral: 33%",
          "Theme: Technology and Innovation<br>Type: Mixed Themes<br>Confidence: 90%<br>Keywords: technology, innovation, Scaleway Disruptive ARMv8 Cloud Servers<br>Sentiments:<br>Positive: 30%<br>Negative: 20%<br>Neutral: 50%"
         ],
         "marker": {
          "color": "rgb(128,0,128)",
          "line": {
           "color": "black",
           "width": 1
          },
          "size": [
           14,
           14
          ]
         },
         "mode": "markers",
         "name": "Mixed Themes",
         "type": "scatter",
         "x": [
          0.5947581096826958,
          -1.2457817846447667
         ],
         "y": [
          1.645818566058048,
          -0.5011414891008715
         ]
        }
       ],
       "layout": {
        "height": 800,
        "paper_bgcolor": "white",
        "plot_bgcolor": "white",
        "showlegend": true,
        "template": {
         "data": {
          "bar": [
           {
            "error_x": {
             "color": "#2a3f5f"
            },
            "error_y": {
             "color": "#2a3f5f"
            },
            "marker": {
             "line": {
              "color": "#E5ECF6",
              "width": 0.5
             },
             "pattern": {
              "fillmode": "overlay",
              "size": 10,
              "solidity": 0.2
             }
            },
            "type": "bar"
           }
          ],
          "barpolar": [
           {
            "marker": {
             "line": {
              "color": "#E5ECF6",
              "width": 0.5
             },
             "pattern": {
              "fillmode": "overlay",
              "size": 10,
              "solidity": 0.2
             }
            },
            "type": "barpolar"
           }
          ],
          "carpet": [
           {
            "aaxis": {
             "endlinecolor": "#2a3f5f",
             "gridcolor": "white",
             "linecolor": "white",
             "minorgridcolor": "white",
             "startlinecolor": "#2a3f5f"
            },
            "baxis": {
             "endlinecolor": "#2a3f5f",
             "gridcolor": "white",
             "linecolor": "white",
             "minorgridcolor": "white",
             "startlinecolor": "#2a3f5f"
            },
            "type": "carpet"
           }
          ],
          "choropleth": [
           {
            "colorbar": {
             "outlinewidth": 0,
             "ticks": ""
            },
            "type": "choropleth"
           }
          ],
          "contour": [
           {
            "colorbar": {
             "outlinewidth": 0,
             "ticks": ""
            },
            "colorscale": [
             [
              0,
              "#0d0887"
             ],
             [
              0.1111111111111111,
              "#46039f"
             ],
             [
              0.2222222222222222,
              "#7201a8"
             ],
             [
              0.3333333333333333,
              "#9c179e"
             ],
             [
              0.4444444444444444,
              "#bd3786"
             ],
             [
              0.5555555555555556,
              "#d8576b"
             ],
             [
              0.6666666666666666,
              "#ed7953"
             ],
             [
              0.7777777777777778,
              "#fb9f3a"
             ],
             [
              0.8888888888888888,
              "#fdca26"
             ],
             [
              1,
              "#f0f921"
             ]
            ],
            "type": "contour"
           }
          ],
          "contourcarpet": [
           {
            "colorbar": {
             "outlinewidth": 0,
             "ticks": ""
            },
            "type": "contourcarpet"
           }
          ],
          "heatmap": [
           {
            "colorbar": {
             "outlinewidth": 0,
             "ticks": ""
            },
            "colorscale": [
             [
              0,
              "#0d0887"
             ],
             [
              0.1111111111111111,
              "#46039f"
             ],
             [
              0.2222222222222222,
              "#7201a8"
             ],
             [
              0.3333333333333333,
              "#9c179e"
             ],
             [
              0.4444444444444444,
              "#bd3786"
             ],
             [
              0.5555555555555556,
              "#d8576b"
             ],
             [
              0.6666666666666666,
              "#ed7953"
             ],
             [
              0.7777777777777778,
              "#fb9f3a"
             ],
             [
              0.8888888888888888,
              "#fdca26"
             ],
             [
              1,
              "#f0f921"
             ]
            ],
            "type": "heatmap"
           }
          ],
          "heatmapgl": [
           {
            "colorbar": {
             "outlinewidth": 0,
             "ticks": ""
            },
            "colorscale": [
             [
              0,
              "#0d0887"
             ],
             [
              0.1111111111111111,
              "#46039f"
             ],
             [
              0.2222222222222222,
              "#7201a8"
             ],
             [
              0.3333333333333333,
              "#9c179e"
             ],
             [
              0.4444444444444444,
              "#bd3786"
             ],
             [
              0.5555555555555556,
              "#d8576b"
             ],
             [
              0.6666666666666666,
              "#ed7953"
             ],
             [
              0.7777777777777778,
              "#fb9f3a"
             ],
             [
              0.8888888888888888,
              "#fdca26"
             ],
             [
              1,
              "#f0f921"
             ]
            ],
            "type": "heatmapgl"
           }
          ],
          "histogram": [
           {
            "marker": {
             "pattern": {
              "fillmode": "overlay",
              "size": 10,
              "solidity": 0.2
             }
            },
            "type": "histogram"
           }
          ],
          "histogram2d": [
           {
            "colorbar": {
             "outlinewidth": 0,
             "ticks": ""
            },
            "colorscale": [
             [
              0,
              "#0d0887"
             ],
             [
              0.1111111111111111,
              "#46039f"
             ],
             [
              0.2222222222222222,
              "#7201a8"
             ],
             [
              0.3333333333333333,
              "#9c179e"
             ],
             [
              0.4444444444444444,
              "#bd3786"
             ],
             [
              0.5555555555555556,
              "#d8576b"
             ],
             [
              0.6666666666666666,
              "#ed7953"
             ],
             [
              0.7777777777777778,
              "#fb9f3a"
             ],
             [
              0.8888888888888888,
              "#fdca26"
             ],
             [
              1,
              "#f0f921"
             ]
            ],
            "type": "histogram2d"
           }
          ],
          "histogram2dcontour": [
           {
            "colorbar": {
             "outlinewidth": 0,
             "ticks": ""
            },
            "colorscale": [
             [
              0,
              "#0d0887"
             ],
             [
              0.1111111111111111,
              "#46039f"
             ],
             [
              0.2222222222222222,
              "#7201a8"
             ],
             [
              0.3333333333333333,
              "#9c179e"
             ],
             [
              0.4444444444444444,
              "#bd3786"
             ],
             [
              0.5555555555555556,
              "#d8576b"
             ],
             [
              0.6666666666666666,
              "#ed7953"
             ],
             [
              0.7777777777777778,
              "#fb9f3a"
             ],
             [
              0.8888888888888888,
              "#fdca26"
             ],
             [
              1,
              "#f0f921"
             ]
            ],
            "type": "histogram2dcontour"
           }
          ],
          "mesh3d": [
           {
            "colorbar": {
             "outlinewidth": 0,
             "ticks": ""
            },
            "type": "mesh3d"
           }
          ],
          "parcoords": [
           {
            "line": {
             "colorbar": {
              "outlinewidth": 0,
              "ticks": ""
             }
            },
            "type": "parcoords"
           }
          ],
          "pie": [
           {
            "automargin": true,
            "type": "pie"
           }
          ],
          "scatter": [
           {
            "fillpattern": {
             "fillmode": "overlay",
             "size": 10,
             "solidity": 0.2
            },
            "type": "scatter"
           }
          ],
          "scatter3d": [
           {
            "line": {
             "colorbar": {
              "outlinewidth": 0,
              "ticks": ""
             }
            },
            "marker": {
             "colorbar": {
              "outlinewidth": 0,
              "ticks": ""
             }
            },
            "type": "scatter3d"
           }
          ],
          "scattercarpet": [
           {
            "marker": {
             "colorbar": {
              "outlinewidth": 0,
              "ticks": ""
             }
            },
            "type": "scattercarpet"
           }
          ],
          "scattergeo": [
           {
            "marker": {
             "colorbar": {
              "outlinewidth": 0,
              "ticks": ""
             }
            },
            "type": "scattergeo"
           }
          ],
          "scattergl": [
           {
            "marker": {
             "colorbar": {
              "outlinewidth": 0,
              "ticks": ""
             }
            },
            "type": "scattergl"
           }
          ],
          "scattermapbox": [
           {
            "marker": {
             "colorbar": {
              "outlinewidth": 0,
              "ticks": ""
             }
            },
            "type": "scattermapbox"
           }
          ],
          "scatterpolar": [
           {
            "marker": {
             "colorbar": {
              "outlinewidth": 0,
              "ticks": ""
             }
            },
            "type": "scatterpolar"
           }
          ],
          "scatterpolargl": [
           {
            "marker": {
             "colorbar": {
              "outlinewidth": 0,
              "ticks": ""
             }
            },
            "type": "scatterpolargl"
           }
          ],
          "scatterternary": [
           {
            "marker": {
             "colorbar": {
              "outlinewidth": 0,
              "ticks": ""
             }
            },
            "type": "scatterternary"
           }
          ],
          "surface": [
           {
            "colorbar": {
             "outlinewidth": 0,
             "ticks": ""
            },
            "colorscale": [
             [
              0,
              "#0d0887"
             ],
             [
              0.1111111111111111,
              "#46039f"
             ],
             [
              0.2222222222222222,
              "#7201a8"
             ],
             [
              0.3333333333333333,
              "#9c179e"
             ],
             [
              0.4444444444444444,
              "#bd3786"
             ],
             [
              0.5555555555555556,
              "#d8576b"
             ],
             [
              0.6666666666666666,
              "#ed7953"
             ],
             [
              0.7777777777777778,
              "#fb9f3a"
             ],
             [
              0.8888888888888888,
              "#fdca26"
             ],
             [
              1,
              "#f0f921"
             ]
            ],
            "type": "surface"
           }
          ],
          "table": [
           {
            "cells": {
             "fill": {
              "color": "#EBF0F8"
             },
             "line": {
              "color": "white"
             }
            },
            "header": {
             "fill": {
              "color": "#C8D4E3"
             },
             "line": {
              "color": "white"
             }
            },
            "type": "table"
           }
          ]
         },
         "layout": {
          "annotationdefaults": {
           "arrowcolor": "#2a3f5f",
           "arrowhead": 0,
           "arrowwidth": 1
          },
          "autotypenumbers": "strict",
          "coloraxis": {
           "colorbar": {
            "outlinewidth": 0,
            "ticks": ""
           }
          },
          "colorscale": {
           "diverging": [
            [
             0,
             "#8e0152"
            ],
            [
             0.1,
             "#c51b7d"
            ],
            [
             0.2,
             "#de77ae"
            ],
            [
             0.3,
             "#f1b6da"
            ],
            [
             0.4,
             "#fde0ef"
            ],
            [
             0.5,
             "#f7f7f7"
            ],
            [
             0.6,
             "#e6f5d0"
            ],
            [
             0.7,
             "#b8e186"
            ],
            [
             0.8,
             "#7fbc41"
            ],
            [
             0.9,
             "#4d9221"
            ],
            [
             1,
             "#276419"
            ]
           ],
           "sequential": [
            [
             0,
             "#0d0887"
            ],
            [
             0.1111111111111111,
             "#46039f"
            ],
            [
             0.2222222222222222,
             "#7201a8"
            ],
            [
             0.3333333333333333,
             "#9c179e"
            ],
            [
             0.4444444444444444,
             "#bd3786"
            ],
            [
             0.5555555555555556,
             "#d8576b"
            ],
            [
             0.6666666666666666,
             "#ed7953"
            ],
            [
             0.7777777777777778,
             "#fb9f3a"
            ],
            [
             0.8888888888888888,
             "#fdca26"
            ],
            [
             1,
             "#f0f921"
            ]
           ],
           "sequentialminus": [
            [
             0,
             "#0d0887"
            ],
            [
             0.1111111111111111,
             "#46039f"
            ],
            [
             0.2222222222222222,
             "#7201a8"
            ],
            [
             0.3333333333333333,
             "#9c179e"
            ],
            [
             0.4444444444444444,
             "#bd3786"
            ],
            [
             0.5555555555555556,
             "#d8576b"
            ],
            [
             0.6666666666666666,
             "#ed7953"
            ],
            [
             0.7777777777777778,
             "#fb9f3a"
            ],
            [
             0.8888888888888888,
             "#fdca26"
            ],
            [
             1,
             "#f0f921"
            ]
           ]
          },
          "colorway": [
           "#636efa",
           "#EF553B",
           "#00cc96",
           "#ab63fa",
           "#FFA15A",
           "#19d3f3",
           "#FF6692",
           "#B6E880",
           "#FF97FF",
           "#FECB52"
          ],
          "font": {
           "color": "#2a3f5f"
          },
          "geo": {
           "bgcolor": "white",
           "lakecolor": "white",
           "landcolor": "#E5ECF6",
           "showlakes": true,
           "showland": true,
           "subunitcolor": "white"
          },
          "hoverlabel": {
           "align": "left"
          },
          "hovermode": "closest",
          "mapbox": {
           "style": "light"
          },
          "paper_bgcolor": "white",
          "plot_bgcolor": "#E5ECF6",
          "polar": {
           "angularaxis": {
            "gridcolor": "white",
            "linecolor": "white",
            "ticks": ""
           },
           "bgcolor": "#E5ECF6",
           "radialaxis": {
            "gridcolor": "white",
            "linecolor": "white",
            "ticks": ""
           }
          },
          "scene": {
           "xaxis": {
            "backgroundcolor": "#E5ECF6",
            "gridcolor": "white",
            "gridwidth": 2,
            "linecolor": "white",
            "showbackground": true,
            "ticks": "",
            "zerolinecolor": "white"
           },
           "yaxis": {
            "backgroundcolor": "#E5ECF6",
            "gridcolor": "white",
            "gridwidth": 2,
            "linecolor": "white",
            "showbackground": true,
            "ticks": "",
            "zerolinecolor": "white"
           },
           "zaxis": {
            "backgroundcolor": "#E5ECF6",
            "gridcolor": "white",
            "gridwidth": 2,
            "linecolor": "white",
            "showbackground": true,
            "ticks": "",
            "zerolinecolor": "white"
           }
          },
          "shapedefaults": {
           "line": {
            "color": "#2a3f5f"
           }
          },
          "ternary": {
           "aaxis": {
            "gridcolor": "white",
            "linecolor": "white",
            "ticks": ""
           },
           "baxis": {
            "gridcolor": "white",
            "linecolor": "white",
            "ticks": ""
           },
           "bgcolor": "#E5ECF6",
           "caxis": {
            "gridcolor": "white",
            "linecolor": "white",
            "ticks": ""
           }
          },
          "title": {
           "x": 0.05
          },
          "xaxis": {
           "automargin": true,
           "gridcolor": "white",
           "linecolor": "white",
           "ticks": "",
           "title": {
            "standoff": 15
           },
           "zerolinecolor": "white",
           "zerolinewidth": 2
          },
          "yaxis": {
           "automargin": true,
           "gridcolor": "white",
           "linecolor": "white",
           "ticks": "",
           "title": {
            "standoff": 15
           },
           "zerolinecolor": "white",
           "zerolinewidth": 2
          }
         }
        },
        "title": {
         "text": "Theme Network Visualization (90%+ Confidence, Clustered by Bot Status and Sentiments)"
        },
        "width": 1200,
        "xaxis": {
         "showgrid": false,
         "showticklabels": false,
         "zeroline": false
        },
        "yaxis": {
         "showgrid": false,
         "showticklabels": false,
         "zeroline": false
        }
       }
      }
     },
     "metadata": {},
     "output_type": "display_data"
    }
   ],
   "source": [
    "import json\n",
    "import networkx as nx\n",
    "import plotly.graph_objects as go\n",
    "import numpy as np\n",
    "\n",
    "\n",
    "def load_json_file(file_path):\n",
    "    \"\"\"Load JSON file safely.\"\"\"\n",
    "    try:\n",
    "        with open(file_path, 'r', encoding='utf-8') as file:\n",
    "            return json.load(file)\n",
    "    except Exception as e:\n",
    "        print(f\"Error loading JSON file {file_path}: {e}\")\n",
    "        return []\n",
    "\n",
    "\n",
    "def create_theme_network(data_bot, data_nonbot, min_confidence=90):  # Changed default to 90\n",
    "    \"\"\"Create a network graph from themes with a minimum confidence level.\"\"\"\n",
    "    G = nx.Graph()\n",
    "\n",
    "\n",
    "    def process_data(data, is_bot=True):\n",
    "        for item in data:\n",
    "            response = item.get('response')\n",
    "            if isinstance(response, str):\n",
    "                try:\n",
    "                    response_data = json.loads(response)\n",
    "                    themes = response_data.get('overall_themes', [])\n",
    "                    for theme in themes:\n",
    "                        confidence = theme.get('confidence', 0)\n",
    "                        if confidence >= min_confidence:  # Only process themes with 90%+ confidence\n",
    "                            theme_name = theme['name']\n",
    "                            keywords = theme.get('keywords', [])\n",
    "                            sentiment_distribution = theme.get('sentiment_distribution', {})\n",
    "                            positive = sentiment_distribution.get('positive_percentage', 0)\n",
    "                            negative = sentiment_distribution.get('negative_percentage', 0)\n",
    "                            neutral = sentiment_distribution.get('neutral_percentage', 0)\n",
    "                            \n",
    "                            if not G.has_node(theme_name):\n",
    "                                G.add_node(theme_name,\n",
    "                                           type='theme',\n",
    "                                           is_bot=is_bot,\n",
    "                                           confidence=confidence,\n",
    "                                           keywords=keywords,\n",
    "                                           sentiment_distribution={\n",
    "                                               'positive': positive,\n",
    "                                               'negative': negative,\n",
    "                                               'neutral': neutral\n",
    "                                           })\n",
    "                            else:\n",
    "                                current_bot_status = G.nodes[theme_name].get('is_bot')\n",
    "                                if current_bot_status != is_bot:\n",
    "                                    G.nodes[theme_name]['is_bot'] = 'mixed'\n",
    "                except json.JSONDecodeError:\n",
    "                    print(f\"Invalid JSON in response: {response}\")\n",
    "\n",
    "\n",
    "    process_data(data_bot, is_bot=True)\n",
    "    process_data(data_nonbot, is_bot=False)\n",
    "    return G\n",
    "\n",
    "\n",
    "def visualize_network(G):\n",
    "    \"\"\"Visualize network clustered by bot and nonbot themes with sentiment distribution.\"\"\"\n",
    "    if len(G.nodes) == 0:\n",
    "        print(\"No nodes to visualize.\")\n",
    "        return\n",
    "\n",
    "\n",
    "    bot_nodes = [node for node, data in G.nodes(data=True) if data['is_bot'] == True]\n",
    "    nonbot_nodes = [node for node, data in G.nodes(data=True) if data['is_bot'] == False]\n",
    "    mixed_nodes = [node for node, data in G.nodes(data=True) if data['is_bot'] == 'mixed']\n",
    "\n",
    "\n",
    "    def get_node_size(confidence):\n",
    "        return 5 + confidence / 10\n",
    "\n",
    "\n",
    "    traces = []\n",
    "    categories = [\n",
    "        ('Bot Themes', bot_nodes, 'rgb(255,0,0)', -5),\n",
    "        ('Non-Bot Themes', nonbot_nodes, 'rgb(0,255,0)', 5),\n",
    "        ('Mixed Themes', mixed_nodes, 'rgb(128,0,128)', 0),\n",
    "    ]\n",
    "\n",
    "\n",
    "    for name, nodes, color, center in categories:\n",
    "        if nodes:\n",
    "            positions_x = np.random.normal(loc=center, scale=1, size=len(nodes))\n",
    "            positions_y = np.random.normal(loc=center, scale=1, size=len(nodes))\n",
    "            sizes = [get_node_size(G.nodes[node]['confidence']) for node in nodes]\n",
    "\n",
    "\n",
    "            hover_texts = [\n",
    "                f\"Theme: {node}<br>\"\n",
    "                f\"Type: {name}<br>\"\n",
    "                f\"Confidence: {G.nodes[node]['confidence']}%<br>\"\n",
    "                f\"Keywords: {', '.join(G.nodes[node].get('keywords', []))}<br>\"\n",
    "                f\"Sentiments:<br>\"\n",
    "                f\"Positive: {G.nodes[node]['sentiment_distribution']['positive']}%<br>\"\n",
    "                f\"Negative: {G.nodes[node]['sentiment_distribution']['negative']}%<br>\"\n",
    "                f\"Neutral: {G.nodes[node]['sentiment_distribution']['neutral']}%\"\n",
    "                for node in nodes\n",
    "            ]\n",
    "\n",
    "\n",
    "            traces.append(go.Scatter(\n",
    "                x=positions_x,\n",
    "                y=positions_y,\n",
    "                mode='markers',\n",
    "                marker=dict(\n",
    "                    size=sizes,\n",
    "                    color=color,\n",
    "                    line=dict(width=1, color='black')\n",
    "                ),\n",
    "                hovertext=hover_texts,\n",
    "                hoverinfo='text',\n",
    "                name=name\n",
    "            ))\n",
    "\n",
    "\n",
    "    fig = go.Figure(data=traces)\n",
    "    fig.update_layout(\n",
    "        title=\"Theme Network Visualization (90%+ Confidence, Clustered by Bot Status and Sentiments)\",\n",
    "        showlegend=True,\n",
    "        xaxis=dict(showgrid=False, zeroline=False, showticklabels=False),\n",
    "        yaxis=dict(showgrid=False, zeroline=False, showticklabels=False),\n",
    "        width=1200,\n",
    "        height=800,\n",
    "        plot_bgcolor='white',\n",
    "        paper_bgcolor='white'\n",
    "    )\n",
    "\n",
    "\n",
    "    # Print some statistics\n",
    "    print(f\"Total Themes (90%+ Confidence): {len(G.nodes())}\")\n",
    "    print(f\"Bot Themes: {len(bot_nodes)}\")\n",
    "    print(f\"Non-Bot Themes: {len(nonbot_nodes)}\")\n",
    "    print(f\"Mixed Themes: {len(mixed_nodes)}\")\n",
    "\n",
    "\n",
    "    fig.show()\n",
    "\n",
    "\n",
    "# Load JSON files\n",
    "data_label_0 = load_json_file('label_0_1.json')  # Bot data\n",
    "data_label_1 = load_json_file('label_1_1.json')  # Non-bot data\n",
    "\n",
    "\n",
    "# Create network with 90% minimum confidence\n",
    "network = create_theme_network(data_label_0, data_label_1, min_confidence=90)\n",
    "\n",
    "\n",
    "# Visualize network\n",
    "visualize_network(network)"
   ]
  }
 ],
 "metadata": {
  "kernelspec": {
   "display_name": "Python 3",
   "language": "python",
   "name": "python3"
  },
  "language_info": {
   "codemirror_mode": {
    "name": "ipython",
    "version": 3
   },
   "file_extension": ".py",
   "mimetype": "text/x-python",
   "name": "python",
   "nbconvert_exporter": "python",
   "pygments_lexer": "ipython3",
   "version": "3.11.10"
  }
 },
 "nbformat": 4,
 "nbformat_minor": 2
}
