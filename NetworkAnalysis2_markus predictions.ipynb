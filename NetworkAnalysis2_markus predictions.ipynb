{
 "cells": [
  {
   "cell_type": "markdown",
   "metadata": {},
   "source": [
    "## Libraries Setup"
   ]
  },
  {
   "cell_type": "code",
   "execution_count": 4,
   "metadata": {},
   "outputs": [],
   "source": [
    "!pip install -r requirements.txt -q"
   ]
  },
  {
   "cell_type": "code",
   "execution_count": 5,
   "metadata": {},
   "outputs": [
    {
     "name": "stderr",
     "output_type": "stream",
     "text": [
      "/opt/anaconda3/lib/python3.12/site-packages/sentence_transformers/cross_encoder/CrossEncoder.py:13: TqdmExperimentalWarning: Using `tqdm.autonotebook.tqdm` in notebook mode. Use `tqdm.tqdm` instead to force console mode (e.g. in jupyter console)\n",
      "  from tqdm.autonotebook import tqdm, trange\n"
     ]
    }
   ],
   "source": [
    "# Datahandling\n",
    "import requests\n",
    "import os\n",
    "os.environ[\"TOKENIZERS_PARALLELISM\"] = \"false\"\n",
    "import numpy as np\n",
    "import pandas as pd\n",
    "import seaborn as sns\n",
    "\n",
    "# Tweet Themes\n",
    "from sentence_transformers import SentenceTransformer\n",
    "import umap\n",
    "import hdbscan\n",
    "import matplotlib.pyplot as plt\n",
    "import plotly.express as px\n",
    "\n",
    "# Network analysis\n",
    "from typing import List, Optional\n",
    "import json\n",
    "import matplotlib.patches as mpatches\n",
    "import networkx as nx\n",
    "from community import community_louvain\n",
    "import plotly.graph_objects as go\n",
    "import random\n",
    "from collections import defaultdict\n",
    "import nbformat\n",
    "\n",
    "# Model prediction\n",
    "from setfit import SetFitModel, SetFitTrainer\n",
    "from sklearn.metrics import classification_report\n",
    "import tiktoken\n",
    "\n",
    "# Gradio deployment\n",
    "import gradio as gr\n"
   ]
  },
  {
   "cell_type": "markdown",
   "metadata": {},
   "source": [
    "## Data import"
   ]
  },
  {
   "cell_type": "code",
   "execution_count": 9,
   "metadata": {},
   "outputs": [],
   "source": [
    "# data sampling? 20000\n",
    "data = pd.read_csv('predictions_output.csv')\n",
    "# data = data.sample(n=2000, random_state=42)"
   ]
  },
  {
   "cell_type": "code",
   "execution_count": 10,
   "metadata": {},
   "outputs": [
    {
     "name": "stdout",
     "output_type": "stream",
     "text": [
      "Data with label=0: 138 rows\n",
      "Data with label=1: 49 rows\n"
     ]
    }
   ],
   "source": [
    "# Split the data based on the `label` column\n",
    "data_label_0 = data[data['Label'] == 0]  # Subset where label=0\n",
    "data_label_1 = data[data['Label'] == 1]  # Subset where label=1\n",
    "\n",
    "# Optionally, check the sizes of the splits\n",
    "print(f\"Data with label=0: {len(data_label_0)} rows\")\n",
    "print(f\"Data with label=1: {len(data_label_1)} rows\")"
   ]
  },
  {
   "cell_type": "code",
   "execution_count": 11,
   "metadata": {},
   "outputs": [],
   "source": [
    "# LLM Libs & Setup\n",
    "from openai import OpenAI\n",
    "import json\n",
    "from pydantic import BaseModel, Field\n",
    "from typing import List, Optional\n",
    "import textwrap"
   ]
  },
  {
   "cell_type": "markdown",
   "metadata": {},
   "source": [
    "## LLM Setup"
   ]
  },
  {
   "cell_type": "code",
   "execution_count": null,
   "metadata": {},
   "outputs": [],
   "source": [
    "# Set your Together API Key directly\n",
    "TOGETHER_API_KEY = \"\"\n",
    "\n",
    "# Check if the API key is set\n",
    "if not TOGETHER_API_KEY:\n",
    "    raise ValueError(\"The Together API Key must be provided.\")\n",
    "\n",
    "# Initialize the Together client\n",
    "client = OpenAI(\n",
    "    base_url=\"https://api.together.xyz/v1\",\n",
    "    api_key=TOGETHER_API_KEY\n",
    ")\n",
    "\n",
    "# Define the model\n",
    "model = \"meta-llama/Meta-Llama-3.1-8B-Instruct-Turbo\""
   ]
  },
  {
   "cell_type": "markdown",
   "metadata": {},
   "source": [
    "## System_Prompt + JSON_schema Setup"
   ]
  },
  {
   "cell_type": "code",
   "execution_count": 13,
   "metadata": {},
   "outputs": [],
   "source": [
    "SYSTEM_PROMPT = f\"\"\"\n",
    "You are an advanced theme extraction and analysis assistant specializing in comprehensive thematic breakdown of a collection of tweets.\n",
    "\n",
    "\n",
    "Extraction Objectives:\n",
    "1. Identify and Extract Overall Themes\n",
    "2. Determine Theme Centrality and Significance\n",
    "3. Uncover Sub-Themes and Causal Relationships\n",
    "4. Provide Nuanced Thematic Insights\n",
    "\n",
    "\n",
    "Output Structure:\n",
    "{{\n",
    "    \"overall_themes\": [\n",
    "        {{\n",
    "            \"name\": \"Primary Theme Name\",\n",
    "            \"confidence\": \"Confidence level 0-100\",\n",
    "            \"centrality\": {{\n",
    "                \"weight\": \"Theme heaviness/importance (0-100)\",\n",
    "                \"calculation_factors\": [\n",
    "                    \"Tweet volume\",\n",
    "                    \"Sentiment intensity\",\n",
    "                    \"Keyword repetition\",\n",
    "                    \"Cross-tweet relevance\"\n",
    "                ]\n",
    "            }},\n",
    "            \"sub_themes\": [\n",
    "                {{\n",
    "                    \"name\": \"Specific Sub-Theme\",\n",
    "                    \"causations\": [\n",
    "                        \"Underlying factors driving this sub-theme\",\n",
    "                        \"Contextual triggers\"\n",
    "                    ],\n",
    "                    \"keywords\": [\"Supporting keywords\"],\n",
    "                    \"sentiment\": \"positive/negative/neutral\",\n",
    "                    \"confidence\": \"Sub-theme confidence level 0-100\"\n",
    "                }}\n",
    "            ],\n",
    "            \"keywords\": [\"Primary theme defining keywords\"],\n",
    "            \"sentiment_distribution\": {{\n",
    "                \"positive_percentage\": 0,\n",
    "                \"negative_percentage\": 0,\n",
    "                \"neutral_percentage\": 0\n",
    "            }}\n",
    "        }}\n",
    "    ],\n",
    "    \"metadata\": {{\n",
    "        \"total_tweets_analyzed\": 0,\n",
    "        \"unique_themes_count\": 0,\n",
    "        \"dominant_sentiment\": \"\",\n",
    "        \"language_distribution\": {{}}\n",
    "    }}\n",
    "}}\n",
    "\n",
    "\n",
    "Analytical Guidelines:\n",
    "\n",
    "\n",
    "1. Theme Identification:\n",
    "- Limit overall themes to a maximum of 10\n",
    "- Ensure themes are distinct and non-overlapping\n",
    "- Capture the essence of the tweet collection\n",
    "\n",
    "\n",
    "2. Centrality and Significance:\n",
    "- Calculate theme weight using:\n",
    "  * Number of tweets referencing the theme\n",
    "  * Sentiment intensity\n",
    "  * Keyword frequency\n",
    "  * Cross-tweet relevance\n",
    "  * Emotional depth\n",
    "\n",
    "\n",
    "3. Sub-Theme and Causation Analysis:\n",
    "- Identify specific sub-themes within each overall theme\n",
    "- Uncover potential causative factors\n",
    "- Provide context for theme emergence\n",
    "\n",
    "\n",
    "4. Sentiment and Nuance:\n",
    "- Analyze emotional tone at theme and sub-theme levels\n",
    "- Provide percentage-based sentiment distribution\n",
    "- Highlight emotional complexity\n",
    "\n",
    "\n",
    "5. Metadata Insights:\n",
    "- Track total tweets analyzed\n",
    "- Count unique themes\n",
    "- Capture language diversity\n",
    "- Identify dominant sentiment\n",
    "\n",
    "\n",
    "Principles:\n",
    "- Objectivity: Base analysis solely on tweet content\n",
    "- Precision: Provide granular, specific insights\n",
    "- Consistency: Apply uniform analytical framework\n",
    "- Depth: Go beyond surface-level theme extraction\n",
    "\n",
    "\n",
    "Handling Complexity:\n",
    "- For ambiguous themes, use lower confidence scores\n",
    "- Highlight keywords that support theme identification\n",
    "- Provide nuanced explanations for theme relationships\n",
    "\n",
    "\n",
    "Ethical Considerations:\n",
    "- Maintain data integrity\n",
    "- Avoid external assumptions\n",
    "- Respect contextual limitations of the dataset\n",
    "\n",
    "\n",
    "Output Requirements:\n",
    "- Strictly adhere to the specified JSON schema\n",
    "- Ensure clear, structured, and insightful presentation\n",
    "\"\"\""
   ]
  },
  {
   "cell_type": "code",
   "execution_count": 14,
   "metadata": {},
   "outputs": [],
   "source": [
    "json_schema = f\"\"\"{{\n",
    "    \"type\": \"object\",\n",
    "    \"properties\": {{\n",
    "        \"overall_themes\": {{\n",
    "            \"type\": \"array\",\n",
    "            \"maxItems\": 10,\n",
    "            \"items\": {{\n",
    "                \"type\": \"object\",\n",
    "                \"properties\": {{\n",
    "                    \"name\": {{\n",
    "                        \"type\": \"string\",\n",
    "                        \"description\": \"Primary theme name\"\n",
    "                    }},\n",
    "                    \"confidence\": {{\n",
    "                        \"type\": \"number\",\n",
    "                        \"minimum\": 0,\n",
    "                        \"maximum\": 100,\n",
    "                        \"description\": \"Confidence level of theme identification\"\n",
    "                    }},\n",
    "                    \"centrality\": {{\n",
    "                        \"type\": \"object\",\n",
    "                        \"properties\": {{\n",
    "                            \"weight\": {{\n",
    "                                \"type\": \"number\",\n",
    "                                \"minimum\": 0,\n",
    "                                \"maximum\": 100,\n",
    "                                \"description\": \"Theme heaviness/importance\"\n",
    "                            }},\n",
    "                            \"calculation_factors\": {{\n",
    "                                \"type\": \"array\",\n",
    "                                \"items\": {{\n",
    "                                    \"type\": \"string\"\n",
    "                                }},\n",
    "                                \"description\": \"Factors used to calculate theme centrality\"\n",
    "                            }}\n",
    "                        }},\n",
    "                        \"required\": [\"weight\"]\n",
    "                    }},\n",
    "                    \"sub_themes\": {{\n",
    "                        \"type\": \"array\",\n",
    "                        \"items\": {{\n",
    "                            \"type\": \"object\",\n",
    "                            \"properties\": {{\n",
    "                                \"name\": {{\n",
    "                                    \"type\": \"string\",\n",
    "                                    \"description\": \"Specific sub-theme name\"\n",
    "                                }},\n",
    "                                \"causations\": {{\n",
    "                                    \"type\": \"array\",\n",
    "                                    \"items\": {{\n",
    "                                        \"type\": \"string\"\n",
    "                                    }},\n",
    "                                    \"description\": \"Underlying factors driving the sub-theme\"\n",
    "                                }},\n",
    "                                \"keywords\": {{\n",
    "                                    \"type\": \"array\",\n",
    "                                    \"items\": {{\n",
    "                                        \"type\": \"string\"\n",
    "                                    }},\n",
    "                                    \"description\": \"Supporting keywords for the sub-theme\"\n",
    "                                }},\n",
    "                                \"sentiment\": {{\n",
    "                                    \"type\": \"string\",\n",
    "                                    \"enum\": [\"positive\", \"negative\", \"neutral\"],\n",
    "                                    \"description\": \"Emotional tone of the sub-theme\"\n",
    "                                }},\n",
    "                                \"confidence\": {{\n",
    "                                    \"type\": \"number\",\n",
    "                                    \"minimum\": 0,\n",
    "                                    \"maximum\": 100,\n",
    "                                    \"description\": \"Confidence level of sub-theme identification\"\n",
    "                                }}\n",
    "                            }},\n",
    "                            \"required\": [\"name\"]\n",
    "                        }},\n",
    "                        \"description\": \"Sub-themes within the primary theme\"\n",
    "                    }},\n",
    "                    \"keywords\": {{\n",
    "                        \"type\": \"array\",\n",
    "                        \"items\": {{\n",
    "                            \"type\": \"string\"\n",
    "                        }},\n",
    "                        \"description\": \"Key terms supporting the primary theme\"\n",
    "                    }},\n",
    "                    \"sentiment_distribution\": {{\n",
    "                        \"type\": \"object\",\n",
    "                        \"properties\": {{\n",
    "                            \"positive_percentage\": {{\n",
    "                                \"type\": \"number\",\n",
    "                                \"minimum\": 0,\n",
    "                                \"maximum\": 100\n",
    "                            }},\n",
    "                            \"negative_percentage\": {{\n",
    "                                \"type\": \"number\",\n",
    "                                \"minimum\": 0,\n",
    "                                \"maximum\": 100\n",
    "                            }},\n",
    "                            \"neutral_percentage\": {{\n",
    "                                \"type\": \"number\",\n",
    "                                \"minimum\": 0,\n",
    "                                \"maximum\": 100\n",
    "                            }}\n",
    "                        }}\n",
    "                    }}\n",
    "                }},\n",
    "                \"required\": [\"name\", \"confidence\"]\n",
    "            }}\n",
    "        }},\n",
    "        \"metadata\": {{\n",
    "            \"type\": \"object\",\n",
    "            \"properties\": {{\n",
    "                \"total_tweets_analyzed\": {{\n",
    "                    \"type\": \"integer\",\n",
    "                    \"minimum\": 0\n",
    "                }},\n",
    "                \"unique_themes_count\": {{\n",
    "                    \"type\": \"integer\",\n",
    "                    \"minimum\": 0\n",
    "                }},\n",
    "                \"dominant_sentiment\": {{\n",
    "                    \"type\": \"string\",\n",
    "                    \"enum\": [\"positive\", \"negative\", \"neutral\"]\n",
    "                }},\n",
    "                \"language_distribution\": {{\n",
    "                    \"type\": \"object\",\n",
    "                    \"additionalProperties\": {{\n",
    "                        \"type\": \"integer\"\n",
    "                    }}\n",
    "                }}\n",
    "            }}\n",
    "        }}\n",
    "    }},\n",
    "    \"required\": [\"overall_themes\"]\n",
    "}}\"\"\""
   ]
  },
  {
   "cell_type": "code",
   "execution_count": 15,
   "metadata": {},
   "outputs": [
    {
     "name": "stderr",
     "output_type": "stream",
     "text": [
      "/opt/anaconda3/lib/python3.12/site-packages/pydantic/fields.py:774: PydanticDeprecatedSince20: `max_items` is deprecated and will be removed, use `max_length` instead. Deprecated in Pydantic V2.0 to be removed in V3.0. See Pydantic V2 Migration Guide at https://errors.pydantic.dev/2.5/migration/\n",
      "  warn('`max_items` is deprecated and will be removed, use `max_length` instead', DeprecationWarning)\n"
     ]
    }
   ],
   "source": [
    "from pydantic import BaseModel, Field\n",
    "from typing import List, Optional, Dict\n",
    "\n",
    "\n",
    "class Centrality(BaseModel):\n",
    "    weight: float = Field(\n",
    "        description=\"Theme heaviness/importance\",\n",
    "        ge=0,\n",
    "        le=100\n",
    "    )\n",
    "    calculation_factors: Optional[List[str]] = Field(\n",
    "        default=None,\n",
    "        description=\"Factors used to calculate theme centrality\"\n",
    "    )\n",
    "\n",
    "\n",
    "class SubTheme(BaseModel):\n",
    "    name: str = Field(description=\"Specific sub-theme name\")\n",
    "    causations: Optional[List[str]] = Field(\n",
    "        default=None,\n",
    "        description=\"Underlying factors driving the sub-theme\"\n",
    "    )\n",
    "    keywords: Optional[List[str]] = Field(\n",
    "        default=None,\n",
    "        description=\"Supporting keywords for the sub-theme\"\n",
    "    )\n",
    "    sentiment: Optional[str] = Field(\n",
    "        default=None,\n",
    "        description=\"Emotional tone of the sub-theme\",\n",
    "        pattern=\"^(positive|negative|neutral)$\"\n",
    "    )\n",
    "    confidence: Optional[float] = Field(\n",
    "        default=None,\n",
    "        description=\"Confidence level of sub-theme identification\",\n",
    "        ge=0,\n",
    "        le=100\n",
    "    )\n",
    "\n",
    "\n",
    "class SentimentDistribution(BaseModel):\n",
    "    positive_percentage: float = Field(ge=0, le=100)\n",
    "    negative_percentage: float = Field(ge=0, le=100)\n",
    "    neutral_percentage: float = Field(ge=0, le=100)\n",
    "\n",
    "\n",
    "class OverallTheme(BaseModel):\n",
    "    name: str = Field(description=\"Primary theme name\")\n",
    "    confidence: float = Field(\n",
    "        description=\"Confidence level of theme identification\",\n",
    "        ge=0,\n",
    "        le=100\n",
    "    )\n",
    "    centrality: Optional[Centrality] = Field(\n",
    "        default=None,\n",
    "        description=\"Theme centrality and importance\"\n",
    "    )\n",
    "    sub_themes: Optional[List[SubTheme]] = Field(\n",
    "        default=None,\n",
    "        description=\"Sub-themes within the primary theme\"\n",
    "    )\n",
    "    keywords: Optional[List[str]] = Field(\n",
    "        default=None,\n",
    "        description=\"Key terms supporting the primary theme\"\n",
    "    )\n",
    "    sentiment_distribution: Optional[SentimentDistribution] = Field(\n",
    "        default=None,\n",
    "        description=\"Sentiment distribution for the theme\"\n",
    "    )\n",
    "\n",
    "\n",
    "class Metadata(BaseModel):\n",
    "    total_tweets_analyzed: Optional[int] = Field(\n",
    "        default=None,\n",
    "        description=\"Total number of tweets analyzed\",\n",
    "        ge=0\n",
    "    )\n",
    "    unique_themes_count: Optional[int] = Field(\n",
    "        default=None,\n",
    "        description=\"Number of unique themes identified\",\n",
    "        ge=0\n",
    "    )\n",
    "    dominant_sentiment: Optional[str] = Field(\n",
    "        default=None,\n",
    "        description=\"Overall dominant sentiment\",\n",
    "        pattern=\"^(positive|negative|neutral)$\"\n",
    "    )\n",
    "    language_distribution: Optional[Dict[str, int]] = Field(\n",
    "        default=None,\n",
    "        description=\"Distribution of languages in the tweets\"\n",
    "    )\n",
    "\n",
    "\n",
    "class TweetAnalysis(BaseModel):\n",
    "    overall_themes: List[OverallTheme] = Field(\n",
    "        description=\"List of overall themes\",\n",
    "        max_items=10\n",
    "    )\n",
    "    metadata: Optional[Metadata] = Field(\n",
    "        default=None,\n",
    "        description=\"Metadata about the tweet collection\"\n",
    "    )\n",
    "\n",
    "\n",
    "# Dynamically generate the schema\n",
    "json_schema = TweetAnalysis.model_json_schema()"
   ]
  },
  {
   "cell_type": "markdown",
   "metadata": {},
   "source": [
    "## LLM-runtime"
   ]
  },
  {
   "cell_type": "code",
   "execution_count": 16,
   "metadata": {},
   "outputs": [
    {
     "name": "stdout",
     "output_type": "stream",
     "text": [
      "Results saved in label_0_1.json\n"
     ]
    }
   ],
   "source": [
    "import tiktoken\n",
    "import pandas as pd\n",
    "import json\n",
    "import time\n",
    "from concurrent.futures import ThreadPoolExecutor\n",
    "from queue import Queue\n",
    "import threading\n",
    "\n",
    "\n",
    "\n",
    "\n",
    "def rate_limited_executor(max_calls_per_minute=100):\n",
    "    \"\"\"Rate-limited executor for API calls.\"\"\"\n",
    "    call_queue = Queue()\n",
    "\n",
    "\n",
    "\n",
    "\n",
    "    def worker():\n",
    "        while True:\n",
    "            func, args, kwargs, result_queue = call_queue.get()\n",
    "            try:\n",
    "                result_queue.put(func(*args, **kwargs))\n",
    "            except Exception as e:\n",
    "                result_queue.put(e)\n",
    "            call_queue.task_done()\n",
    "            time.sleep(60 / max_calls_per_minute)\n",
    "\n",
    "\n",
    "\n",
    "\n",
    "    for _ in range(max_calls_per_minute):\n",
    "        threading.Thread(target=worker, daemon=True).start()\n",
    "\n",
    "\n",
    "\n",
    "\n",
    "    def submit(func, *args, **kwargs):\n",
    "        result_queue = Queue()\n",
    "        call_queue.put((func, args, kwargs, result_queue))\n",
    "        result = result_queue.get()\n",
    "        if isinstance(result, Exception):\n",
    "            raise result\n",
    "        return result\n",
    "\n",
    "\n",
    "\n",
    "\n",
    "    return submit\n",
    "\n",
    "\n",
    "\n",
    "\n",
    "def process_batch(tweets, executor, model, schema, batch_size):\n",
    "    \"\"\"Process one batch of tweets.\"\"\"\n",
    "    messages = [\n",
    "        {'role': 'system', 'content': SYSTEM_PROMPT},\n",
    "        {'role': 'user', 'content': json.dumps(tweets)}\n",
    "    ]\n",
    "    try:\n",
    "        response = executor(\n",
    "            client.chat.completions.create,\n",
    "            model=model,\n",
    "            messages=messages,\n",
    "            temperature=0.7,\n",
    "            response_format={\"type\": \"json_object\", \"schema\": schema},\n",
    "            max_tokens=8192\n",
    "        )\n",
    "        return {\n",
    "            'batch_size': len(tweets),\n",
    "            'response': response.choices[0].message.content\n",
    "        }\n",
    "    except Exception as e:\n",
    "        return {\n",
    "            'batch_size': len(tweets),\n",
    "            'error': str(e)\n",
    "        }\n",
    "\n",
    "\n",
    "\n",
    "\n",
    "def parallel_process_tweets(data, batch_size, max_workers, model, schema):\n",
    "    \"\"\"Parallel processing of tweets with rate-limiting.\"\"\"\n",
    "    executor = rate_limited_executor(max_calls_per_minute=60)\n",
    "    results = []\n",
    "\n",
    "\n",
    "\n",
    "\n",
    "    def process_and_collect(batch):\n",
    "        tweets = batch['Tweet_text'].tolist()\n",
    "        return process_batch(tweets, executor, model, schema, batch_size)\n",
    "\n",
    "\n",
    "\n",
    "\n",
    "    with ThreadPoolExecutor(max_workers=max_workers) as pool:\n",
    "        batches = [data.iloc[i:i + batch_size] for i in range(0, len(data), batch_size)]\n",
    "        futures = [pool.submit(process_and_collect, batch) for batch in batches]\n",
    "        for future in futures:\n",
    "            results.append(future.result())\n",
    "\n",
    "\n",
    "\n",
    "\n",
    "    return pd.DataFrame(results)\n",
    "\n",
    "\n",
    "\n",
    "\n",
    "def save_results(data, filename):\n",
    "    \"\"\"Save data to JSON file.\"\"\"\n",
    "    try:\n",
    "        with open(filename, 'w', encoding='utf-8') as f:\n",
    "            json.dump(data, f, ensure_ascii=False, indent=4)\n",
    "        print(f\"Results saved in {filename}\")\n",
    "    except Exception as e:\n",
    "        print(f\"Error during saving: {e}\")\n",
    "\n",
    "\n",
    "\n",
    "\n",
    "# Assuming 'data_label_0' is your DataFrame filtered for label 0\n",
    "processed_tweets = parallel_process_tweets(\n",
    "    data=data_label_0,  # Use the data_label_0 DataFrame\n",
    "    batch_size=10,      # Batch size\n",
    "    max_workers=6,     # Number of parallel threads\n",
    "    model=model,        # Your model variable\n",
    "    schema=json_schema  # Your JSON schema variable\n",
    ")\n",
    "\n",
    "\n",
    "\n",
    "\n",
    "# Save the results to label_0_1.json\n",
    "save_results(processed_tweets.to_dict(orient=\"records\"), \"label_0_1.json\")"
   ]
  },
  {
   "cell_type": "code",
   "execution_count": 17,
   "metadata": {},
   "outputs": [
    {
     "name": "stdout",
     "output_type": "stream",
     "text": [
      "Results saved in label_1_1.json\n"
     ]
    }
   ],
   "source": [
    "import tiktoken\n",
    "import pandas as pd\n",
    "import json\n",
    "import time\n",
    "from concurrent.futures import ThreadPoolExecutor\n",
    "from queue import Queue\n",
    "import threading\n",
    "import openai  # Make sure to import openai\n",
    "\n",
    "\n",
    "def rate_limited_executor(max_calls_per_minute=100):\n",
    "    \"\"\"Rate-limited executor for API calls.\"\"\"\n",
    "    call_queue = Queue()\n",
    "\n",
    "\n",
    "    def worker():\n",
    "        while True:\n",
    "            func, args, kwargs, result_queue = call_queue.get()\n",
    "            try:\n",
    "                result_queue.put(func(*args, **kwargs))\n",
    "            except Exception as e:\n",
    "                result_queue.put(e)\n",
    "            call_queue.task_done()\n",
    "            time.sleep(60 / max_calls_per_minute)\n",
    "\n",
    "\n",
    "    for _ in range(max_calls_per_minute):\n",
    "        threading.Thread(target=worker, daemon=True).start()\n",
    "\n",
    "\n",
    "    def submit(func, *args, **kwargs):\n",
    "        result_queue = Queue()\n",
    "        call_queue.put((func, args, kwargs, result_queue))\n",
    "        result = result_queue.get()\n",
    "        if isinstance(result, Exception):\n",
    "            raise result\n",
    "        return result\n",
    "\n",
    "\n",
    "    return submit\n",
    "\n",
    "\n",
    "\n",
    "\n",
    "def process_batch(tweets, executor, model, schema, batch_size):\n",
    "    \"\"\"Process one batch of tweets.\"\"\"\n",
    "    messages = [\n",
    "        {'role': 'system', 'content': SYSTEM_PROMPT},\n",
    "        {'role': 'user', 'content': json.dumps(tweets)}\n",
    "    ]\n",
    "    try:\n",
    "        response = executor(\n",
    "            client.chat.completions.create,\n",
    "            model=model,\n",
    "            messages=messages,\n",
    "            temperature=0.7,\n",
    "            response_format={\"type\": \"json_object\", \"schema\": schema},\n",
    "            max_tokens=8192\n",
    "        )\n",
    "        return {'batch_size': len(tweets), 'response': response.choices[0].message.content}\n",
    "    except Exception as e:\n",
    "        return {'batch_size': len(tweets), 'error': str(e)}\n",
    "\n",
    "\n",
    "\n",
    "\n",
    "def parallel_process_tweets(data, batch_size, max_workers, model, schema):\n",
    "    \"\"\"Parallel processing of tweets with rate-limiting.\"\"\"\n",
    "    executor = rate_limited_executor(max_calls_per_minute=60)\n",
    "    results = []\n",
    "\n",
    "\n",
    "    def process_and_collect(batch):\n",
    "        tweets = batch['Tweet_text'].tolist()\n",
    "        return process_batch(tweets, executor, model, schema, batch_size)\n",
    "\n",
    "\n",
    "    with ThreadPoolExecutor(max_workers=max_workers) as pool:\n",
    "        batches = [data.iloc[i:i + batch_size] for i in range(0, len(data), batch_size)]\n",
    "        futures = [pool.submit(process_and_collect, batch) for batch in batches]\n",
    "        for future in futures:\n",
    "            results.append(future.result())\n",
    "\n",
    "\n",
    "    return pd.DataFrame(results)\n",
    "\n",
    "\n",
    "\n",
    "\n",
    "def save_results(data, filename):\n",
    "    \"\"\"Save data to JSON file.\"\"\"\n",
    "    try:\n",
    "        with open(filename, 'w', encoding='utf-8') as f:\n",
    "            json.dump(data, f, ensure_ascii=False, indent=4)\n",
    "        print(f\"Results saved in {filename}\")\n",
    "    except Exception as e:\n",
    "        print(f\"Error during saving: {e}\")\n",
    "\n",
    "\n",
    "\n",
    "\n",
    "# Assuming these are already defined in your previous code\n",
    "# SYSTEM_PROMPT\n",
    "# client (OpenAI client)\n",
    "# model\n",
    "# json_schema\n",
    "# data_label_1 (DataFrame filtered for label 1)\n",
    "\n",
    "\n",
    "# Process data_label_1 and save results\n",
    "processed_tweets_label_1 = parallel_process_tweets(\n",
    "    data=data_label_1,      # Use the data_label_1 DataFrame\n",
    "    batch_size=10,          # Batch size\n",
    "    max_workers=6,         # Number of parallel threads\n",
    "    model=model,            # Your model variable\n",
    "    schema=json_schema      # Your JSON schema variable\n",
    ")\n",
    "\n",
    "\n",
    "# Save the results to label_1_1.json\n",
    "save_results(processed_tweets_label_1.to_dict(orient=\"records\"), \"label_1_1.json\")"
   ]
  },
  {
   "cell_type": "code",
   "execution_count": 18,
   "metadata": {},
   "outputs": [
    {
     "data": {
      "application/vnd.plotly.v1+json": {
       "config": {
        "plotlyServerURL": "https://plot.ly"
       },
       "data": [
        {
         "hoverinfo": "text",
         "hovertext": [
          "Theme: Tesla and Elon Musk Appreciation<br>Type: Bot<br>Confidence: 95%<br>Keywords: Tesla, Elon Musk, Cybertruck, FSAD, Starlink<br>Sentiment Distribution: Positive 80%, Negative 10%, Neutral 10%",
          "Theme: Personal Experiences<br>Type: Bot<br>Confidence: 80%<br>Keywords: Personal experiences, Model Y, Test drive, Giga Berlin, Niece, Gratitude<br>Sentiment Distribution: Positive 80%, Negative 10%, Neutral 10%",
          "Theme: Tesla Model Cars<br>Type: Bot<br>Confidence: 99%<br>Keywords: Tesla, Model, Cars, Electric, Sustainable<br>Sentiment Distribution: Positive 80%, Negative 15%, Neutral 5%",
          "Theme: Elon Musk and Tesla Leadership<br>Type: Bot<br>Confidence: 80%<br>Keywords: Elon, Musk, Tesla, Leadership, Success<br>Sentiment Distribution: Positive 60%, Negative 30%, Neutral 10%",
          "Theme: Electric and Sustainable Transportation<br>Type: Bot<br>Confidence: 70%<br>Keywords: Electric, Sustainable, Transportation, Energy<br>Sentiment Distribution: Positive 80%, Negative 15%, Neutral 5%",
          "Theme: Tesla Cybertruck Safety and Accidents<br>Type: Bot<br>Confidence: 80%<br>Keywords: cybertruck, tesla, safety, accident, crash<br>Sentiment Distribution: Positive 30%, Negative 60%, Neutral 10%",
          "Theme: Cybertruck Enthusiasm<br>Type: Bot<br>Confidence: 87%<br>Keywords: cybertruck, tesla<br>Sentiment Distribution: Positive 80%, Negative 5%, Neutral 15%"
         ],
         "marker": {
          "color": "rgb(255,0,0)",
          "line": {
           "color": "rgb(139,0,0)",
           "width": 1
          },
          "size": [
           14.5,
           13,
           14.9,
           13,
           12,
           13,
           13.7
          ]
         },
         "mode": "markers",
         "name": "Bot Themes",
         "type": "scatter",
         "x": [
          -4.619216634409789,
          -3.8487222836832258,
          -3.389535290042968,
          -3.480625475239298,
          -4.368909550988541,
          -4.584193367467343,
          -6.323363769846938
         ],
         "y": [
          -5.448264137942347,
          -3.896959690051588,
          -4.118039855822223,
          -7.352478079523137,
          -5.996141889275922,
          -5.695741364353593,
          -6.1504469722430235
         ]
        },
        {
         "hoverinfo": "text",
         "hovertext": [
          "Theme: Tesla Products and Technology<br>Type: Non-Bot<br>Confidence: 90%<br>Keywords: tesla, phone, apple, data, starlink, car, concept<br>Sentiment Distribution: Positive 100%, Negative 0%, Neutral 0%",
          "Theme: Innovation and Technology<br>Type: Non-Bot<br>Confidence: 85%<br>Keywords: Robotics, AI, Autonomous driving, Boston dynamics, Atlas robot<br>Sentiment Distribution: Positive 95%, Negative 0%, Neutral 5%",
          "Theme: Tesla and Elon Musk<br>Type: Non-Bot<br>Confidence: 95%<br>Keywords: Tesla, Elon Musk, Neuralink, Mars, Space Exploration, Electric Cars, Autonomous Driving<br>Sentiment Distribution: Positive 80%, Negative 10%, Neutral 10%",
          "Theme: Business and Finance<br>Type: Non-Bot<br>Confidence: 80%<br>Keywords: Stock Market, Investors, Tesla, Short-selling<br>Sentiment Distribution: Positive 40%, Negative 30%, Neutral 30%",
          "Theme: Politics and Current Events<br>Type: Non-Bot<br>Confidence: 70%<br>Keywords: US Election, Politics, Government, Tesla<br>Sentiment Distribution: Positive 60%, Negative 20%, Neutral 20%",
          "Theme: Technology and Innovation<br>Type: Non-Bot<br>Confidence: 80%<br>Keywords: Tesla, AI, Robotics, Artificial Intelligence, Autonomous Driving, Transportation<br>Sentiment Distribution: Positive 90%, Negative 5%, Neutral 5%",
          "Theme: Inspiration and Motivation<br>Type: Non-Bot<br>Confidence: 80%<br>Keywords: Elon Musk, Leadership, Inspiration, Motivation, Tesla, Sustainability, Innovation, Future<br>Sentiment Distribution: Positive 90%, Negative 5%, Neutral 5%",
          "Theme: Scientific and Technological Advancements<br>Type: Non-Bot<br>Confidence: 80%<br>Keywords: Space Exploration, Colonization, Elon Musk, Tesla, Artificial Intelligence, Robotics, AI<br>Sentiment Distribution: Positive 90%, Negative 5%, Neutral 5%",
          "Theme: Tesla<br>Type: Non-Bot<br>Confidence: 99%<br>Keywords: Tesla, Model Y, Juniper, TSLA, Stock, Investment, Autonomous, Taxis, Robots<br>Sentiment Distribution: Positive 91%, Negative 0%, Neutral 9%",
          "Theme: Elon Musk<br>Type: Non-Bot<br>Confidence: 85%<br>Keywords: Elon Musk, Vision, Cars, Automation, Investment, Stock, TSLA<br>Sentiment Distribution: Positive 95%, Negative 0%, Neutral 5%",
          "Theme: Cars and Automotive<br>Type: Non-Bot<br>Confidence: 70%<br>Keywords: Cars, Automotive, Sales, Acceleration, Performance, Automation, Taxis, Robots<br>Sentiment Distribution: Positive 90%, Negative 0%, Neutral 10%",
          "Theme: Tesla Model Y Updates and Features<br>Type: Non-Bot<br>Confidence: 100%<br>Keywords: Tesla Model Y, Juniper, Cybertruck, Battery pack, Energy storage, Efficiency, Price, Incentives, EV credits, Maintenance, Reliability<br>Sentiment Distribution: Positive 80%, Negative 10%, Neutral 10%",
          "Theme: Tesla Model Y's Success<br>Type: Non-Bot<br>Confidence: 95%<br>Keywords: Tesla, Model Y, best-selling, car, globally<br>Sentiment Distribution: Positive 85%, Negative 5%, Neutral 10%",
          "Theme: Tesla Model Y Juniper Updates<br>Type: Non-Bot<br>Confidence: 80%<br>Keywords: Tesla Model Y Juniper, Tesla, Model Y, Design changes, New features<br>Sentiment Distribution: Positive 60%, Negative 20%, Neutral 20%",
          "Theme: Tesla Model Y Sales and Pricing<br>Type: Non-Bot<br>Confidence: 80%<br>Keywords: Tesla Model Y Sales, Tesla Model Y Pricing, Discounts, Incentives<br>Sentiment Distribution: Positive 70%, Negative 10%, Neutral 20%",
          "Theme: Tesla Model Y Safety and Ratings<br>Type: Non-Bot<br>Confidence: 90%<br>Keywords: Tesla Model Y Safety, Tesla Model Y Ratings, Safety Rating, Elon Musk<br>Sentiment Distribution: Positive 90%, Negative 5%, Neutral 5%",
          "Theme: New Tesla Lineup<br>Type: Non-Bot<br>Confidence: 80%<br>Keywords: New Tesla Lineup, Model S, Model 3, Model X, Model Y, Semi, Cybertruck, Cybercab, Robovan, Optimus<br>Sentiment Distribution: Positive 80%, Negative 5%, Neutral 15%",
          "Theme: Tesla Model 3 Praise and Appreciation<br>Type: Non-Bot<br>Confidence: 80%<br>Keywords: Tesla Model 3, Performance, Safety, Value, Autopilot<br>Sentiment Distribution: Positive 90%, Negative 5%, Neutral 5%",
          "Theme: Tesla Model 3 Updates and Features<br>Type: Non-Bot<br>Confidence: 100%<br>Keywords: Tesla, Model 3, refreshed, new, range, performance, features, buyouts, availability<br>Sentiment Distribution: Positive 80%, Negative 0%, Neutral 20%",
          "Theme: Tesla Model 3 Photography and Customization<br>Type: Non-Bot<br>Confidence: 80%<br>Keywords: Tesla, Model 3, photography, customization, liquid, carbon, red, tint, wheels, performance<br>Sentiment Distribution: Positive 90%, Negative 0%, Neutral 10%",
          "Theme: Tesla Cybertruck Safety Concerns<br>Type: Non-Bot<br>Confidence: 80%<br>Keywords: Tesla, Cybertruck, safety, accident, fire<br>Sentiment Distribution: Positive 10%, Negative 70%, Neutral 20%",
          "Theme: Tesla Cybertruck Popularity and Enthusiasm<br>Type: Non-Bot<br>Confidence: 70%<br>Keywords: Cybertruck, popularity, enthusiasm<br>Sentiment Distribution: Positive 60%, Negative 20%, Neutral 20%",
          "Theme: Cybertruck Criticisms<br>Type: Non-Bot<br>Confidence: 87%<br>Keywords: Cybertruck, defective, ugly, worst truck ever made<br>Sentiment Distribution: Positive 0%, Negative 100%, Neutral 0%",
          "Theme: Cybertruck Controversy<br>Type: Non-Bot<br>Confidence: 90%<br>Keywords: Cybertruck, Tesla, climate<br>Sentiment Distribution: Positive 20%, Negative 60%, Neutral 20%",
          "Theme: Cybertruck Discussion<br>Type: Non-Bot<br>Confidence: 85%<br>Keywords: Cybertruck, TSLA, Light bar, Nemeis kit, App control<br>Sentiment Distribution: Positive 40%, Negative 30%, Neutral 30%"
         ],
         "marker": {
          "color": "rgb(0,255,0)",
          "line": {
           "color": "rgb(0,100,0)",
           "width": 1
          },
          "size": [
           14,
           13.5,
           14.5,
           13,
           12,
           13,
           13,
           13,
           14.9,
           13.5,
           12,
           15,
           14.5,
           13,
           13,
           14,
           13,
           13,
           15,
           13,
           13,
           12,
           13.7,
           14,
           13.5
          ]
         },
         "mode": "markers",
         "name": "Non-Bot Themes",
         "type": "scatter",
         "x": [
          4.024189951293627,
          6.241715487644576,
          5.399341494236635,
          3.8208313656362254,
          6.931159012962629,
          4.776171172808577,
          6.372832084455061,
          4.069472587253206,
          4.254796727217127,
          4.371197733282897,
          4.699486271321414,
          5.309218636917904,
          5.870478845841703,
          6.34721291752277,
          5.429971790641857,
          4.680556099105871,
          4.966746289329985,
          5.709281411145646,
          3.796891136096468,
          5.83439642865294,
          5.872614849166826,
          5.587521358178498,
          6.854910198247454,
          5.645186833800752,
          5.168209507305837
         ],
         "y": [
          4.573756982159784,
          5.532861813527851,
          5.577354217841718,
          4.172170631101018,
          5.667911493324138,
          4.112140642369091,
          4.37681338836966,
          4.323484228245065,
          5.426643510920255,
          3.819612525531154,
          4.832179825107589,
          5.261528722954201,
          4.983766660653144,
          4.592601107739926,
          5.827207634028543,
          4.62642824987131,
          5.092686776993449,
          6.651465798074677,
          4.856683400735478,
          4.640640901759515,
          6.380162219920272,
          5.841585963717301,
          6.901512732286108,
          5.692725860650455,
          5.70348577946476
         ]
        },
        {
         "hoverinfo": "text",
         "hovertext": [
          "Theme: Tesla and Electric Vehicles<br>Type: Mixed<br>Confidence: 90%<br>Keywords: Tesla, Electric vehicles, Cybertruck, Model Y, Safety, Capabilities, Community<br>Sentiment Distribution: Positive 70%, Negative 20%, Neutral 10%"
         ],
         "marker": {
          "color": "rgb(128,0,128)",
          "line": {
           "color": "rgb(75,0,130)",
           "width": 1
          },
          "size": [
           14
          ]
         },
         "mode": "markers",
         "name": "Mixed Themes",
         "type": "scatter",
         "x": [
          -0.22397335439254487
         ],
         "y": [
          0.6191780136489167
         ]
        }
       ],
       "layout": {
        "height": 800,
        "hovermode": "closest",
        "legend": {
         "bgcolor": "rgba(255,255,255,0.5)",
         "bordercolor": "black",
         "borderwidth": 1,
         "x": 0.85,
         "y": 1
        },
        "plot_bgcolor": "rgb(240,240,240)",
        "showlegend": true,
        "template": {
         "data": {
          "bar": [
           {
            "error_x": {
             "color": "#2a3f5f"
            },
            "error_y": {
             "color": "#2a3f5f"
            },
            "marker": {
             "line": {
              "color": "#E5ECF6",
              "width": 0.5
             },
             "pattern": {
              "fillmode": "overlay",
              "size": 10,
              "solidity": 0.2
             }
            },
            "type": "bar"
           }
          ],
          "barpolar": [
           {
            "marker": {
             "line": {
              "color": "#E5ECF6",
              "width": 0.5
             },
             "pattern": {
              "fillmode": "overlay",
              "size": 10,
              "solidity": 0.2
             }
            },
            "type": "barpolar"
           }
          ],
          "carpet": [
           {
            "aaxis": {
             "endlinecolor": "#2a3f5f",
             "gridcolor": "white",
             "linecolor": "white",
             "minorgridcolor": "white",
             "startlinecolor": "#2a3f5f"
            },
            "baxis": {
             "endlinecolor": "#2a3f5f",
             "gridcolor": "white",
             "linecolor": "white",
             "minorgridcolor": "white",
             "startlinecolor": "#2a3f5f"
            },
            "type": "carpet"
           }
          ],
          "choropleth": [
           {
            "colorbar": {
             "outlinewidth": 0,
             "ticks": ""
            },
            "type": "choropleth"
           }
          ],
          "contour": [
           {
            "colorbar": {
             "outlinewidth": 0,
             "ticks": ""
            },
            "colorscale": [
             [
              0,
              "#0d0887"
             ],
             [
              0.1111111111111111,
              "#46039f"
             ],
             [
              0.2222222222222222,
              "#7201a8"
             ],
             [
              0.3333333333333333,
              "#9c179e"
             ],
             [
              0.4444444444444444,
              "#bd3786"
             ],
             [
              0.5555555555555556,
              "#d8576b"
             ],
             [
              0.6666666666666666,
              "#ed7953"
             ],
             [
              0.7777777777777778,
              "#fb9f3a"
             ],
             [
              0.8888888888888888,
              "#fdca26"
             ],
             [
              1,
              "#f0f921"
             ]
            ],
            "type": "contour"
           }
          ],
          "contourcarpet": [
           {
            "colorbar": {
             "outlinewidth": 0,
             "ticks": ""
            },
            "type": "contourcarpet"
           }
          ],
          "heatmap": [
           {
            "colorbar": {
             "outlinewidth": 0,
             "ticks": ""
            },
            "colorscale": [
             [
              0,
              "#0d0887"
             ],
             [
              0.1111111111111111,
              "#46039f"
             ],
             [
              0.2222222222222222,
              "#7201a8"
             ],
             [
              0.3333333333333333,
              "#9c179e"
             ],
             [
              0.4444444444444444,
              "#bd3786"
             ],
             [
              0.5555555555555556,
              "#d8576b"
             ],
             [
              0.6666666666666666,
              "#ed7953"
             ],
             [
              0.7777777777777778,
              "#fb9f3a"
             ],
             [
              0.8888888888888888,
              "#fdca26"
             ],
             [
              1,
              "#f0f921"
             ]
            ],
            "type": "heatmap"
           }
          ],
          "heatmapgl": [
           {
            "colorbar": {
             "outlinewidth": 0,
             "ticks": ""
            },
            "colorscale": [
             [
              0,
              "#0d0887"
             ],
             [
              0.1111111111111111,
              "#46039f"
             ],
             [
              0.2222222222222222,
              "#7201a8"
             ],
             [
              0.3333333333333333,
              "#9c179e"
             ],
             [
              0.4444444444444444,
              "#bd3786"
             ],
             [
              0.5555555555555556,
              "#d8576b"
             ],
             [
              0.6666666666666666,
              "#ed7953"
             ],
             [
              0.7777777777777778,
              "#fb9f3a"
             ],
             [
              0.8888888888888888,
              "#fdca26"
             ],
             [
              1,
              "#f0f921"
             ]
            ],
            "type": "heatmapgl"
           }
          ],
          "histogram": [
           {
            "marker": {
             "pattern": {
              "fillmode": "overlay",
              "size": 10,
              "solidity": 0.2
             }
            },
            "type": "histogram"
           }
          ],
          "histogram2d": [
           {
            "colorbar": {
             "outlinewidth": 0,
             "ticks": ""
            },
            "colorscale": [
             [
              0,
              "#0d0887"
             ],
             [
              0.1111111111111111,
              "#46039f"
             ],
             [
              0.2222222222222222,
              "#7201a8"
             ],
             [
              0.3333333333333333,
              "#9c179e"
             ],
             [
              0.4444444444444444,
              "#bd3786"
             ],
             [
              0.5555555555555556,
              "#d8576b"
             ],
             [
              0.6666666666666666,
              "#ed7953"
             ],
             [
              0.7777777777777778,
              "#fb9f3a"
             ],
             [
              0.8888888888888888,
              "#fdca26"
             ],
             [
              1,
              "#f0f921"
             ]
            ],
            "type": "histogram2d"
           }
          ],
          "histogram2dcontour": [
           {
            "colorbar": {
             "outlinewidth": 0,
             "ticks": ""
            },
            "colorscale": [
             [
              0,
              "#0d0887"
             ],
             [
              0.1111111111111111,
              "#46039f"
             ],
             [
              0.2222222222222222,
              "#7201a8"
             ],
             [
              0.3333333333333333,
              "#9c179e"
             ],
             [
              0.4444444444444444,
              "#bd3786"
             ],
             [
              0.5555555555555556,
              "#d8576b"
             ],
             [
              0.6666666666666666,
              "#ed7953"
             ],
             [
              0.7777777777777778,
              "#fb9f3a"
             ],
             [
              0.8888888888888888,
              "#fdca26"
             ],
             [
              1,
              "#f0f921"
             ]
            ],
            "type": "histogram2dcontour"
           }
          ],
          "mesh3d": [
           {
            "colorbar": {
             "outlinewidth": 0,
             "ticks": ""
            },
            "type": "mesh3d"
           }
          ],
          "parcoords": [
           {
            "line": {
             "colorbar": {
              "outlinewidth": 0,
              "ticks": ""
             }
            },
            "type": "parcoords"
           }
          ],
          "pie": [
           {
            "automargin": true,
            "type": "pie"
           }
          ],
          "scatter": [
           {
            "fillpattern": {
             "fillmode": "overlay",
             "size": 10,
             "solidity": 0.2
            },
            "type": "scatter"
           }
          ],
          "scatter3d": [
           {
            "line": {
             "colorbar": {
              "outlinewidth": 0,
              "ticks": ""
             }
            },
            "marker": {
             "colorbar": {
              "outlinewidth": 0,
              "ticks": ""
             }
            },
            "type": "scatter3d"
           }
          ],
          "scattercarpet": [
           {
            "marker": {
             "colorbar": {
              "outlinewidth": 0,
              "ticks": ""
             }
            },
            "type": "scattercarpet"
           }
          ],
          "scattergeo": [
           {
            "marker": {
             "colorbar": {
              "outlinewidth": 0,
              "ticks": ""
             }
            },
            "type": "scattergeo"
           }
          ],
          "scattergl": [
           {
            "marker": {
             "colorbar": {
              "outlinewidth": 0,
              "ticks": ""
             }
            },
            "type": "scattergl"
           }
          ],
          "scattermapbox": [
           {
            "marker": {
             "colorbar": {
              "outlinewidth": 0,
              "ticks": ""
             }
            },
            "type": "scattermapbox"
           }
          ],
          "scatterpolar": [
           {
            "marker": {
             "colorbar": {
              "outlinewidth": 0,
              "ticks": ""
             }
            },
            "type": "scatterpolar"
           }
          ],
          "scatterpolargl": [
           {
            "marker": {
             "colorbar": {
              "outlinewidth": 0,
              "ticks": ""
             }
            },
            "type": "scatterpolargl"
           }
          ],
          "scatterternary": [
           {
            "marker": {
             "colorbar": {
              "outlinewidth": 0,
              "ticks": ""
             }
            },
            "type": "scatterternary"
           }
          ],
          "surface": [
           {
            "colorbar": {
             "outlinewidth": 0,
             "ticks": ""
            },
            "colorscale": [
             [
              0,
              "#0d0887"
             ],
             [
              0.1111111111111111,
              "#46039f"
             ],
             [
              0.2222222222222222,
              "#7201a8"
             ],
             [
              0.3333333333333333,
              "#9c179e"
             ],
             [
              0.4444444444444444,
              "#bd3786"
             ],
             [
              0.5555555555555556,
              "#d8576b"
             ],
             [
              0.6666666666666666,
              "#ed7953"
             ],
             [
              0.7777777777777778,
              "#fb9f3a"
             ],
             [
              0.8888888888888888,
              "#fdca26"
             ],
             [
              1,
              "#f0f921"
             ]
            ],
            "type": "surface"
           }
          ],
          "table": [
           {
            "cells": {
             "fill": {
              "color": "#EBF0F8"
             },
             "line": {
              "color": "white"
             }
            },
            "header": {
             "fill": {
              "color": "#C8D4E3"
             },
             "line": {
              "color": "white"
             }
            },
            "type": "table"
           }
          ]
         },
         "layout": {
          "annotationdefaults": {
           "arrowcolor": "#2a3f5f",
           "arrowhead": 0,
           "arrowwidth": 1
          },
          "autotypenumbers": "strict",
          "coloraxis": {
           "colorbar": {
            "outlinewidth": 0,
            "ticks": ""
           }
          },
          "colorscale": {
           "diverging": [
            [
             0,
             "#8e0152"
            ],
            [
             0.1,
             "#c51b7d"
            ],
            [
             0.2,
             "#de77ae"
            ],
            [
             0.3,
             "#f1b6da"
            ],
            [
             0.4,
             "#fde0ef"
            ],
            [
             0.5,
             "#f7f7f7"
            ],
            [
             0.6,
             "#e6f5d0"
            ],
            [
             0.7,
             "#b8e186"
            ],
            [
             0.8,
             "#7fbc41"
            ],
            [
             0.9,
             "#4d9221"
            ],
            [
             1,
             "#276419"
            ]
           ],
           "sequential": [
            [
             0,
             "#0d0887"
            ],
            [
             0.1111111111111111,
             "#46039f"
            ],
            [
             0.2222222222222222,
             "#7201a8"
            ],
            [
             0.3333333333333333,
             "#9c179e"
            ],
            [
             0.4444444444444444,
             "#bd3786"
            ],
            [
             0.5555555555555556,
             "#d8576b"
            ],
            [
             0.6666666666666666,
             "#ed7953"
            ],
            [
             0.7777777777777778,
             "#fb9f3a"
            ],
            [
             0.8888888888888888,
             "#fdca26"
            ],
            [
             1,
             "#f0f921"
            ]
           ],
           "sequentialminus": [
            [
             0,
             "#0d0887"
            ],
            [
             0.1111111111111111,
             "#46039f"
            ],
            [
             0.2222222222222222,
             "#7201a8"
            ],
            [
             0.3333333333333333,
             "#9c179e"
            ],
            [
             0.4444444444444444,
             "#bd3786"
            ],
            [
             0.5555555555555556,
             "#d8576b"
            ],
            [
             0.6666666666666666,
             "#ed7953"
            ],
            [
             0.7777777777777778,
             "#fb9f3a"
            ],
            [
             0.8888888888888888,
             "#fdca26"
            ],
            [
             1,
             "#f0f921"
            ]
           ]
          },
          "colorway": [
           "#636efa",
           "#EF553B",
           "#00cc96",
           "#ab63fa",
           "#FFA15A",
           "#19d3f3",
           "#FF6692",
           "#B6E880",
           "#FF97FF",
           "#FECB52"
          ],
          "font": {
           "color": "#2a3f5f"
          },
          "geo": {
           "bgcolor": "white",
           "lakecolor": "white",
           "landcolor": "#E5ECF6",
           "showlakes": true,
           "showland": true,
           "subunitcolor": "white"
          },
          "hoverlabel": {
           "align": "left"
          },
          "hovermode": "closest",
          "mapbox": {
           "style": "light"
          },
          "paper_bgcolor": "white",
          "plot_bgcolor": "#E5ECF6",
          "polar": {
           "angularaxis": {
            "gridcolor": "white",
            "linecolor": "white",
            "ticks": ""
           },
           "bgcolor": "#E5ECF6",
           "radialaxis": {
            "gridcolor": "white",
            "linecolor": "white",
            "ticks": ""
           }
          },
          "scene": {
           "xaxis": {
            "backgroundcolor": "#E5ECF6",
            "gridcolor": "white",
            "gridwidth": 2,
            "linecolor": "white",
            "showbackground": true,
            "ticks": "",
            "zerolinecolor": "white"
           },
           "yaxis": {
            "backgroundcolor": "#E5ECF6",
            "gridcolor": "white",
            "gridwidth": 2,
            "linecolor": "white",
            "showbackground": true,
            "ticks": "",
            "zerolinecolor": "white"
           },
           "zaxis": {
            "backgroundcolor": "#E5ECF6",
            "gridcolor": "white",
            "gridwidth": 2,
            "linecolor": "white",
            "showbackground": true,
            "ticks": "",
            "zerolinecolor": "white"
           }
          },
          "shapedefaults": {
           "line": {
            "color": "#2a3f5f"
           }
          },
          "ternary": {
           "aaxis": {
            "gridcolor": "white",
            "linecolor": "white",
            "ticks": ""
           },
           "baxis": {
            "gridcolor": "white",
            "linecolor": "white",
            "ticks": ""
           },
           "bgcolor": "#E5ECF6",
           "caxis": {
            "gridcolor": "white",
            "linecolor": "white",
            "ticks": ""
           }
          },
          "title": {
           "x": 0.05
          },
          "xaxis": {
           "automargin": true,
           "gridcolor": "white",
           "linecolor": "white",
           "ticks": "",
           "title": {
            "standoff": 15
           },
           "zerolinecolor": "white",
           "zerolinewidth": 2
          },
          "yaxis": {
           "automargin": true,
           "gridcolor": "white",
           "linecolor": "white",
           "ticks": "",
           "title": {
            "standoff": 15
           },
           "zerolinecolor": "white",
           "zerolinewidth": 2
          }
         }
        },
        "title": {
         "text": "Theme Network Visualization"
        },
        "width": 1000,
        "xaxis": {
         "showgrid": false,
         "showticklabels": false,
         "title": {
          "text": "X-axis"
         },
         "zeroline": false
        },
        "yaxis": {
         "showgrid": false,
         "showticklabels": false,
         "title": {
          "text": "Y-axis"
         },
         "zeroline": false
        }
       }
      }
     },
     "metadata": {},
     "output_type": "display_data"
    }
   ],
   "source": [
    "import json\n",
    "import networkx as nx\n",
    "import plotly.graph_objects as go\n",
    "import numpy as np\n",
    "\n",
    "\n",
    "def load_json_file(file_path):\n",
    "    \"\"\"Load JSON file safely.\"\"\"\n",
    "    try:\n",
    "        with open(file_path, 'r', encoding='utf-8') as file:\n",
    "            return json.load(file)\n",
    "    except Exception as e:\n",
    "        print(f\"Error loading JSON file {file_path}: {e}\")\n",
    "        return []\n",
    "\n",
    "\n",
    "def create_theme_network(data_bot, data_nonbot, min_confidence=70):\n",
    "    \"\"\"Create a network graph from themes with a minimum confidence level.\"\"\"\n",
    "    G = nx.Graph()\n",
    "\n",
    "    def process_data(data, is_bot=True):\n",
    "        for item in data:\n",
    "            response = item.get('response')\n",
    "            if isinstance(response, str):\n",
    "                try:\n",
    "                    response_data = json.loads(response)\n",
    "                    themes = response_data.get('overall_themes', [])\n",
    "\n",
    "                    for theme in themes:\n",
    "                        confidence = theme.get('confidence', 0)\n",
    "                        if confidence >= min_confidence:\n",
    "                            theme_name = theme['name']\n",
    "                            keywords = theme.get('keywords', [])\n",
    "                            sentiment_distribution = theme.get('sentiment_distribution', {})\n",
    "\n",
    "                            # Add or update theme node\n",
    "                            if not G.has_node(theme_name):\n",
    "                                G.add_node(theme_name,\n",
    "                                           type='theme',\n",
    "                                           is_bot=is_bot,\n",
    "                                           confidence=confidence,\n",
    "                                           keywords=keywords,\n",
    "                                           sentiment_distribution=sentiment_distribution)\n",
    "                            else:\n",
    "                                # If node exists and bot status is different, mark as mixed\n",
    "                                current_bot_status = G.nodes[theme_name].get('is_bot')\n",
    "                                if current_bot_status != is_bot:\n",
    "                                    G.nodes[theme_name]['is_bot'] = 'mixed'\n",
    "\n",
    "                except json.JSONDecodeError:\n",
    "                    print(f\"Invalid JSON in response: {response}\")\n",
    "\n",
    "    # Process bot and non-bot data\n",
    "    process_data(data_bot, is_bot=True)\n",
    "    process_data(data_nonbot, is_bot=False)\n",
    "\n",
    "    return G\n",
    "\n",
    "\n",
    "def visualize_network(G):\n",
    "    \"\"\"Visualize bot, non-bot, and mixed themes in clustered regions.\"\"\"\n",
    "    # Separate nodes by bot status\n",
    "    bot_nodes = [node for node, data in G.nodes(data=True) if data.get('is_bot') == True]\n",
    "    nonbot_nodes = [node for node, data in G.nodes(data=True) if data.get('is_bot') == False]\n",
    "    mixed_nodes = [node for node, data in G.nodes(data=True) if data.get('is_bot') == 'mixed']\n",
    "\n",
    "    # Create traces for each category\n",
    "    traces = []\n",
    "\n",
    "    # Function to determine node size based on confidence\n",
    "    def get_node_size(confidence):\n",
    "        return 5 + confidence / 10  # Adjust the scaling factor as needed\n",
    "\n",
    "    # Bot nodes - clustered in bottom left\n",
    "    if bot_nodes:\n",
    "        bot_x = np.random.normal(loc=-5, scale=1, size=len(bot_nodes))\n",
    "        bot_y = np.random.normal(loc=-5, scale=1, size=len(bot_nodes))\n",
    "        bot_sizes = [get_node_size(G.nodes[node]['confidence']) for node in bot_nodes]\n",
    "        bot_trace = go.Scatter(\n",
    "            x=bot_x,\n",
    "            y=bot_y,\n",
    "            mode='markers',\n",
    "            hovertext=[\n",
    "                f\"Theme: {node}<br>\"\n",
    "                f\"Type: Bot<br>\"\n",
    "                f\"Confidence: {G.nodes[node]['confidence']}%<br>\"\n",
    "                f\"Keywords: {', '.join(G.nodes[node].get('keywords', []))}<br>\"\n",
    "                f\"Sentiment Distribution: Positive {G.nodes[node].get('sentiment_distribution', {}).get('positive_percentage', 0)}%, \"\n",
    "                f\"Negative {G.nodes[node].get('sentiment_distribution', {}).get('negative_percentage', 0)}%, \"\n",
    "                f\"Neutral {G.nodes[node].get('sentiment_distribution', {}).get('neutral_percentage', 0)}%\"\n",
    "                for node in bot_nodes\n",
    "            ],\n",
    "            hoverinfo='text',\n",
    "            marker=dict(\n",
    "                size=bot_sizes,\n",
    "                color='rgb(255,0,0)',  # Red\n",
    "                line=dict(width=1, color='rgb(139,0,0)')  # Dark red\n",
    "            ),\n",
    "            name='Bot Themes'\n",
    "        )\n",
    "        traces.append(bot_trace)\n",
    "\n",
    "    # Non-bot nodes - clustered in top right\n",
    "    if nonbot_nodes:\n",
    "        nonbot_x = np.random.normal(loc=5, scale=1, size=len(nonbot_nodes))\n",
    "        nonbot_y = np.random.normal(loc=5, scale=1, size=len(nonbot_nodes))\n",
    "        nonbot_sizes = [get_node_size(G.nodes[node]['confidence']) for node in nonbot_nodes]\n",
    "        nonbot_trace = go.Scatter(\n",
    "            x=nonbot_x,\n",
    "            y=nonbot_y,\n",
    "            mode='markers',\n",
    "            hovertext=[\n",
    "                f\"Theme: {node}<br>\"\n",
    "                f\"Type: Non-Bot<br>\"\n",
    "                f\"Confidence: {G.nodes[node]['confidence']}%<br>\"\n",
    "                f\"Keywords: {', '.join(G.nodes[node].get('keywords', []))}<br>\"\n",
    "                f\"Sentiment Distribution: Positive {G.nodes[node].get('sentiment_distribution', {}).get('positive_percentage', 0)}%, \"\n",
    "                f\"Negative {G.nodes[node].get('sentiment_distribution', {}).get('negative_percentage', 0)}%, \"\n",
    "                f\"Neutral {G.nodes[node].get('sentiment_distribution', {}).get('neutral_percentage', 0)}%\"\n",
    "                for node in nonbot_nodes\n",
    "            ],\n",
    "            hoverinfo='text',\n",
    "            marker=dict(\n",
    "                size=nonbot_sizes,\n",
    "                color='rgb(0,255,0)',  # Green\n",
    "                line=dict(width=1, color='rgb(0,100,0)')  # Dark green\n",
    "            ),\n",
    "            name='Non-Bot Themes'\n",
    "        )\n",
    "        traces.append(nonbot_trace)\n",
    "\n",
    "    # Mixed nodes - clustered in center\n",
    "    if mixed_nodes:\n",
    "        mixed_x = np.random.normal(loc=0, scale=1, size=len(mixed_nodes))\n",
    "        mixed_y = np.random.normal(loc=0, scale=1, size=len(mixed_nodes))\n",
    "        mixed_sizes = [get_node_size(G.nodes[node]['confidence']) for node in mixed_nodes]\n",
    "        mixed_trace = go.Scatter(\n",
    "            x=mixed_x,\n",
    "            y=mixed_y,\n",
    "            mode='markers',\n",
    "            hovertext=[\n",
    "                f\"Theme: {node}<br>\"\n",
    "                f\"Type: Mixed<br>\"\n",
    "                f\"Confidence: {G.nodes[node]['confidence']}%<br>\"\n",
    "                f\"Keywords: {', '.join(G.nodes[node].get('keywords', []))}<br>\"\n",
    "                f\"Sentiment Distribution: Positive {G.nodes[node].get('sentiment_distribution', {}).get('positive_percentage', 0)}%, \"\n",
    "                f\"Negative {G.nodes[node].get('sentiment_distribution', {}).get('negative_percentage', 0)}%, \"\n",
    "                f\"Neutral {G.nodes[node].get('sentiment_distribution', {}).get('neutral_percentage', 0)}%\"\n",
    "                for node in mixed_nodes\n",
    "            ],\n",
    "            hoverinfo='text',\n",
    "            marker=dict(\n",
    "                size=mixed_sizes,\n",
    "                color='rgb(128,0,128)',  # Purple\n",
    "                line=dict(width=1, color='rgb(75,0,130)')  # Indigo\n",
    "            ),\n",
    "            name='Mixed Themes'\n",
    "        )\n",
    "        traces.append(mixed_trace)\n",
    "\n",
    "    # Create figure\n",
    "    fig = go.Figure(data=traces)\n",
    "\n",
    "    # Update layout for better visualization\n",
    "    fig.update_layout(\n",
    "        title=\"Theme Network Visualization\",\n",
    "        showlegend=True,\n",
    "        hovermode='closest',\n",
    "        width=1000,\n",
    "        height=800,\n",
    "        xaxis=dict(\n",
    "            title=\"X-axis\",\n",
    "            showgrid=False,\n",
    "            zeroline=False,\n",
    "            showticklabels=False\n",
    "        ),\n",
    "        yaxis=dict(\n",
    "            title=\"Y-axis\",\n",
    "            showgrid=False,\n",
    "            zeroline=False,\n",
    "            showticklabels=False\n",
    "        ),\n",
    "        plot_bgcolor='rgb(240,240,240)',  # Light grey background\n",
    "        legend=dict(\n",
    "            x=0.85,\n",
    "            y=1,\n",
    "            bgcolor='rgba(255,255,255,0.5)',\n",
    "            bordercolor='black',\n",
    "            borderwidth=1\n",
    "        )\n",
    "    )\n",
    "\n",
    "    fig.show()\n",
    "\n",
    "\n",
    "# Example Usage\n",
    "if __name__ == \"__main__\":\n",
    "    # Load bot and non-bot data\n",
    "    bot_data = load_json_file('label_1_1.json')  # Bot data\n",
    "    nonbot_data = load_json_file('label_0_1.json')  # Non-bot data\n",
    "\n",
    "    # Create and visualize the graph\n",
    "    graph = create_theme_network(bot_data, nonbot_data, min_confidence=70)\n",
    "    visualize_network(graph)\n"
   ]
  },
  {
   "cell_type": "code",
   "execution_count": 19,
   "metadata": {},
   "outputs": [
    {
     "data": {
      "application/vnd.plotly.v1+json": {
       "config": {
        "plotlyServerURL": "https://plot.ly"
       },
       "data": [
        {
         "hoverinfo": "text",
         "hovertext": [
          "Theme: Tesla Products and Technology<br>Type: Bot Themes<br>Confidence: 90%<br>Keywords: tesla, phone, apple, data, starlink, car, concept<br>Sentiments:<br>Positive: 100%<br>Negative: 0%<br>Neutral: 0%",
          "Theme: Innovation and Technology<br>Type: Bot Themes<br>Confidence: 85%<br>Keywords: Robotics, AI, Autonomous driving, Boston dynamics, Atlas robot<br>Sentiments:<br>Positive: 95%<br>Negative: 0%<br>Neutral: 5%",
          "Theme: Tesla and Elon Musk<br>Type: Bot Themes<br>Confidence: 95%<br>Keywords: Tesla, Elon Musk, Neuralink, Mars, Space Exploration, Electric Cars, Autonomous Driving<br>Sentiments:<br>Positive: 80%<br>Negative: 10%<br>Neutral: 10%",
          "Theme: Business and Finance<br>Type: Bot Themes<br>Confidence: 80%<br>Keywords: Stock Market, Investors, Tesla, Short-selling<br>Sentiments:<br>Positive: 40%<br>Negative: 30%<br>Neutral: 30%",
          "Theme: Politics and Current Events<br>Type: Bot Themes<br>Confidence: 70%<br>Keywords: US Election, Politics, Government, Tesla<br>Sentiments:<br>Positive: 60%<br>Negative: 20%<br>Neutral: 20%",
          "Theme: Technology and Innovation<br>Type: Bot Themes<br>Confidence: 80%<br>Keywords: Tesla, AI, Robotics, Artificial Intelligence, Autonomous Driving, Transportation<br>Sentiments:<br>Positive: 90%<br>Negative: 5%<br>Neutral: 5%",
          "Theme: Inspiration and Motivation<br>Type: Bot Themes<br>Confidence: 80%<br>Keywords: Elon Musk, Leadership, Inspiration, Motivation, Tesla, Sustainability, Innovation, Future<br>Sentiments:<br>Positive: 90%<br>Negative: 5%<br>Neutral: 5%",
          "Theme: Scientific and Technological Advancements<br>Type: Bot Themes<br>Confidence: 80%<br>Keywords: Space Exploration, Colonization, Elon Musk, Tesla, Artificial Intelligence, Robotics, AI<br>Sentiments:<br>Positive: 90%<br>Negative: 5%<br>Neutral: 5%",
          "Theme: Tesla<br>Type: Bot Themes<br>Confidence: 99%<br>Keywords: Tesla, Model Y, Juniper, TSLA, Stock, Investment, Autonomous, Taxis, Robots<br>Sentiments:<br>Positive: 91%<br>Negative: 0%<br>Neutral: 9%",
          "Theme: Elon Musk<br>Type: Bot Themes<br>Confidence: 85%<br>Keywords: Elon Musk, Vision, Cars, Automation, Investment, Stock, TSLA<br>Sentiments:<br>Positive: 95%<br>Negative: 0%<br>Neutral: 5%",
          "Theme: Cars and Automotive<br>Type: Bot Themes<br>Confidence: 70%<br>Keywords: Cars, Automotive, Sales, Acceleration, Performance, Automation, Taxis, Robots<br>Sentiments:<br>Positive: 90%<br>Negative: 0%<br>Neutral: 10%",
          "Theme: Tesla Model Y Updates and Features<br>Type: Bot Themes<br>Confidence: 100%<br>Keywords: Tesla Model Y, Juniper, Cybertruck, Battery pack, Energy storage, Efficiency, Price, Incentives, EV credits, Maintenance, Reliability<br>Sentiments:<br>Positive: 80%<br>Negative: 10%<br>Neutral: 10%",
          "Theme: Tesla Model Y's Success<br>Type: Bot Themes<br>Confidence: 95%<br>Keywords: Tesla, Model Y, best-selling, car, globally<br>Sentiments:<br>Positive: 85%<br>Negative: 5%<br>Neutral: 10%",
          "Theme: Tesla Model Y Juniper Updates<br>Type: Bot Themes<br>Confidence: 80%<br>Keywords: Tesla Model Y Juniper, Tesla, Model Y, Design changes, New features<br>Sentiments:<br>Positive: 60%<br>Negative: 20%<br>Neutral: 20%",
          "Theme: Tesla Model Y Sales and Pricing<br>Type: Bot Themes<br>Confidence: 80%<br>Keywords: Tesla Model Y Sales, Tesla Model Y Pricing, Discounts, Incentives<br>Sentiments:<br>Positive: 70%<br>Negative: 10%<br>Neutral: 20%",
          "Theme: Tesla Model Y Safety and Ratings<br>Type: Bot Themes<br>Confidence: 90%<br>Keywords: Tesla Model Y Safety, Tesla Model Y Ratings, Safety Rating, Elon Musk<br>Sentiments:<br>Positive: 90%<br>Negative: 5%<br>Neutral: 5%",
          "Theme: New Tesla Lineup<br>Type: Bot Themes<br>Confidence: 80%<br>Keywords: New Tesla Lineup, Model S, Model 3, Model X, Model Y, Semi, Cybertruck, Cybercab, Robovan, Optimus<br>Sentiments:<br>Positive: 80%<br>Negative: 5%<br>Neutral: 15%",
          "Theme: Tesla Model 3 Praise and Appreciation<br>Type: Bot Themes<br>Confidence: 80%<br>Keywords: Tesla Model 3, Performance, Safety, Value, Autopilot<br>Sentiments:<br>Positive: 90%<br>Negative: 5%<br>Neutral: 5%",
          "Theme: Tesla Model 3 Updates and Features<br>Type: Bot Themes<br>Confidence: 100%<br>Keywords: Tesla, Model 3, refreshed, new, range, performance, features, buyouts, availability<br>Sentiments:<br>Positive: 80%<br>Negative: 0%<br>Neutral: 20%",
          "Theme: Tesla Model 3 Photography and Customization<br>Type: Bot Themes<br>Confidence: 80%<br>Keywords: Tesla, Model 3, photography, customization, liquid, carbon, red, tint, wheels, performance<br>Sentiments:<br>Positive: 90%<br>Negative: 0%<br>Neutral: 10%",
          "Theme: Tesla Cybertruck Safety Concerns<br>Type: Bot Themes<br>Confidence: 80%<br>Keywords: Tesla, Cybertruck, safety, accident, fire<br>Sentiments:<br>Positive: 10%<br>Negative: 70%<br>Neutral: 20%",
          "Theme: Tesla Cybertruck Popularity and Enthusiasm<br>Type: Bot Themes<br>Confidence: 70%<br>Keywords: Cybertruck, popularity, enthusiasm<br>Sentiments:<br>Positive: 60%<br>Negative: 20%<br>Neutral: 20%",
          "Theme: Cybertruck Criticisms<br>Type: Bot Themes<br>Confidence: 87%<br>Keywords: Cybertruck, defective, ugly, worst truck ever made<br>Sentiments:<br>Positive: 0%<br>Negative: 100%<br>Neutral: 0%",
          "Theme: Cybertruck Controversy<br>Type: Bot Themes<br>Confidence: 90%<br>Keywords: Cybertruck, Tesla, climate<br>Sentiments:<br>Positive: 20%<br>Negative: 60%<br>Neutral: 20%",
          "Theme: Cybertruck Discussion<br>Type: Bot Themes<br>Confidence: 85%<br>Keywords: Cybertruck, TSLA, Light bar, Nemeis kit, App control<br>Sentiments:<br>Positive: 40%<br>Negative: 30%<br>Neutral: 30%"
         ],
         "marker": {
          "color": "rgb(255,0,0)",
          "line": {
           "color": "black",
           "width": 1
          },
          "size": [
           14,
           13.5,
           14.5,
           13,
           12,
           13,
           13,
           13,
           14.9,
           13.5,
           12,
           15,
           14.5,
           13,
           13,
           14,
           13,
           13,
           15,
           13,
           13,
           12,
           13.7,
           14,
           13.5
          ]
         },
         "mode": "markers",
         "name": "Bot Themes",
         "type": "scatter",
         "x": [
          -7.7241223654015645,
          -3.3504316199429516,
          -3.5322686635570695,
          -4.03274526915509,
          -4.5759481269082,
          -7.962997732167706,
          -4.552866595280468,
          -6.094980788851046,
          -3.6809647714757006,
          -4.196110735356308,
          -5.4361691313186435,
          -6.200734212311142,
          -4.225555775614905,
          -5.469986849585822,
          -3.840227734242752,
          -6.181403845778195,
          -3.2096945338418665,
          -4.786431402530176,
          -5.1688157752985555,
          -5.7145035143818825,
          -6.215441030130792,
          -3.6694866154660817,
          -5.945907351394654,
          -5.91845036076822,
          -6.885677589579501
         ],
         "y": [
          -5.978132281039517,
          -5.449867130086124,
          -3.6722383105337575,
          -3.5612923764374402,
          -3.869079770938555,
          -6.1182044995007185,
          -4.448783077901894,
          -6.158493280849186,
          -4.580846393741687,
          -5.353031544468677,
          -5.520121737247946,
          -4.355201982520271,
          -4.440111588713793,
          -5.974576084642444,
          -5.866862340528147,
          -5.014274581777635,
          -4.126947212056466,
          -4.839381932000539,
          -7.022978494832682,
          -4.9293374667342285,
          -6.637752504695749,
          -5.418950393598031,
          -4.113438288348458,
          -4.439769930973547,
          -5.525657161187889
         ]
        },
        {
         "hoverinfo": "text",
         "hovertext": [
          "Theme: Tesla and Elon Musk Appreciation<br>Type: Non-Bot Themes<br>Confidence: 95%<br>Keywords: Tesla, Elon Musk, Cybertruck, FSAD, Starlink<br>Sentiments:<br>Positive: 80%<br>Negative: 10%<br>Neutral: 10%",
          "Theme: Personal Experiences<br>Type: Non-Bot Themes<br>Confidence: 80%<br>Keywords: Personal experiences, Model Y, Test drive, Giga Berlin, Niece, Gratitude<br>Sentiments:<br>Positive: 80%<br>Negative: 10%<br>Neutral: 10%",
          "Theme: Tesla Model Cars<br>Type: Non-Bot Themes<br>Confidence: 99%<br>Keywords: Tesla, Model, Cars, Electric, Sustainable<br>Sentiments:<br>Positive: 80%<br>Negative: 15%<br>Neutral: 5%",
          "Theme: Elon Musk and Tesla Leadership<br>Type: Non-Bot Themes<br>Confidence: 80%<br>Keywords: Elon, Musk, Tesla, Leadership, Success<br>Sentiments:<br>Positive: 60%<br>Negative: 30%<br>Neutral: 10%",
          "Theme: Electric and Sustainable Transportation<br>Type: Non-Bot Themes<br>Confidence: 70%<br>Keywords: Electric, Sustainable, Transportation, Energy<br>Sentiments:<br>Positive: 80%<br>Negative: 15%<br>Neutral: 5%",
          "Theme: Tesla Cybertruck Safety and Accidents<br>Type: Non-Bot Themes<br>Confidence: 80%<br>Keywords: cybertruck, tesla, safety, accident, crash<br>Sentiments:<br>Positive: 30%<br>Negative: 60%<br>Neutral: 10%",
          "Theme: Cybertruck Enthusiasm<br>Type: Non-Bot Themes<br>Confidence: 87%<br>Keywords: cybertruck, tesla<br>Sentiments:<br>Positive: 80%<br>Negative: 5%<br>Neutral: 15%"
         ],
         "marker": {
          "color": "rgb(0,255,0)",
          "line": {
           "color": "black",
           "width": 1
          },
          "size": [
           14.5,
           13,
           14.9,
           13,
           12,
           13,
           13.7
          ]
         },
         "mode": "markers",
         "name": "Non-Bot Themes",
         "type": "scatter",
         "x": [
          8.47273777529622,
          5.052088584507535,
          6.036219790362924,
          5.479378840051045,
          4.886883741767126,
          5.754781777080061,
          5.787508104755426
         ],
         "y": [
          6.446516124071788,
          3.9713742871617552,
          4.074905100956808,
          6.513448899609873,
          6.420734448092666,
          6.573992147782936,
          3.8589458080260806
         ]
        },
        {
         "hoverinfo": "text",
         "hovertext": [
          "Theme: Tesla and Electric Vehicles<br>Type: Mixed Themes<br>Confidence: 90%<br>Keywords: Tesla, Electric vehicles, Cybertruck, Cybercab, Boston dynamics, Robotics, Drive unit<br>Sentiments:<br>Positive: 85%<br>Negative: 0%<br>Neutral: 15%"
         ],
         "marker": {
          "color": "rgb(128,0,128)",
          "line": {
           "color": "black",
           "width": 1
          },
          "size": [
           14
          ]
         },
         "mode": "markers",
         "name": "Mixed Themes",
         "type": "scatter",
         "x": [
          1.110184282292165
         ],
         "y": [
          0.031172278427097466
         ]
        }
       ],
       "layout": {
        "height": 800,
        "paper_bgcolor": "white",
        "plot_bgcolor": "white",
        "showlegend": true,
        "template": {
         "data": {
          "bar": [
           {
            "error_x": {
             "color": "#2a3f5f"
            },
            "error_y": {
             "color": "#2a3f5f"
            },
            "marker": {
             "line": {
              "color": "#E5ECF6",
              "width": 0.5
             },
             "pattern": {
              "fillmode": "overlay",
              "size": 10,
              "solidity": 0.2
             }
            },
            "type": "bar"
           }
          ],
          "barpolar": [
           {
            "marker": {
             "line": {
              "color": "#E5ECF6",
              "width": 0.5
             },
             "pattern": {
              "fillmode": "overlay",
              "size": 10,
              "solidity": 0.2
             }
            },
            "type": "barpolar"
           }
          ],
          "carpet": [
           {
            "aaxis": {
             "endlinecolor": "#2a3f5f",
             "gridcolor": "white",
             "linecolor": "white",
             "minorgridcolor": "white",
             "startlinecolor": "#2a3f5f"
            },
            "baxis": {
             "endlinecolor": "#2a3f5f",
             "gridcolor": "white",
             "linecolor": "white",
             "minorgridcolor": "white",
             "startlinecolor": "#2a3f5f"
            },
            "type": "carpet"
           }
          ],
          "choropleth": [
           {
            "colorbar": {
             "outlinewidth": 0,
             "ticks": ""
            },
            "type": "choropleth"
           }
          ],
          "contour": [
           {
            "colorbar": {
             "outlinewidth": 0,
             "ticks": ""
            },
            "colorscale": [
             [
              0,
              "#0d0887"
             ],
             [
              0.1111111111111111,
              "#46039f"
             ],
             [
              0.2222222222222222,
              "#7201a8"
             ],
             [
              0.3333333333333333,
              "#9c179e"
             ],
             [
              0.4444444444444444,
              "#bd3786"
             ],
             [
              0.5555555555555556,
              "#d8576b"
             ],
             [
              0.6666666666666666,
              "#ed7953"
             ],
             [
              0.7777777777777778,
              "#fb9f3a"
             ],
             [
              0.8888888888888888,
              "#fdca26"
             ],
             [
              1,
              "#f0f921"
             ]
            ],
            "type": "contour"
           }
          ],
          "contourcarpet": [
           {
            "colorbar": {
             "outlinewidth": 0,
             "ticks": ""
            },
            "type": "contourcarpet"
           }
          ],
          "heatmap": [
           {
            "colorbar": {
             "outlinewidth": 0,
             "ticks": ""
            },
            "colorscale": [
             [
              0,
              "#0d0887"
             ],
             [
              0.1111111111111111,
              "#46039f"
             ],
             [
              0.2222222222222222,
              "#7201a8"
             ],
             [
              0.3333333333333333,
              "#9c179e"
             ],
             [
              0.4444444444444444,
              "#bd3786"
             ],
             [
              0.5555555555555556,
              "#d8576b"
             ],
             [
              0.6666666666666666,
              "#ed7953"
             ],
             [
              0.7777777777777778,
              "#fb9f3a"
             ],
             [
              0.8888888888888888,
              "#fdca26"
             ],
             [
              1,
              "#f0f921"
             ]
            ],
            "type": "heatmap"
           }
          ],
          "heatmapgl": [
           {
            "colorbar": {
             "outlinewidth": 0,
             "ticks": ""
            },
            "colorscale": [
             [
              0,
              "#0d0887"
             ],
             [
              0.1111111111111111,
              "#46039f"
             ],
             [
              0.2222222222222222,
              "#7201a8"
             ],
             [
              0.3333333333333333,
              "#9c179e"
             ],
             [
              0.4444444444444444,
              "#bd3786"
             ],
             [
              0.5555555555555556,
              "#d8576b"
             ],
             [
              0.6666666666666666,
              "#ed7953"
             ],
             [
              0.7777777777777778,
              "#fb9f3a"
             ],
             [
              0.8888888888888888,
              "#fdca26"
             ],
             [
              1,
              "#f0f921"
             ]
            ],
            "type": "heatmapgl"
           }
          ],
          "histogram": [
           {
            "marker": {
             "pattern": {
              "fillmode": "overlay",
              "size": 10,
              "solidity": 0.2
             }
            },
            "type": "histogram"
           }
          ],
          "histogram2d": [
           {
            "colorbar": {
             "outlinewidth": 0,
             "ticks": ""
            },
            "colorscale": [
             [
              0,
              "#0d0887"
             ],
             [
              0.1111111111111111,
              "#46039f"
             ],
             [
              0.2222222222222222,
              "#7201a8"
             ],
             [
              0.3333333333333333,
              "#9c179e"
             ],
             [
              0.4444444444444444,
              "#bd3786"
             ],
             [
              0.5555555555555556,
              "#d8576b"
             ],
             [
              0.6666666666666666,
              "#ed7953"
             ],
             [
              0.7777777777777778,
              "#fb9f3a"
             ],
             [
              0.8888888888888888,
              "#fdca26"
             ],
             [
              1,
              "#f0f921"
             ]
            ],
            "type": "histogram2d"
           }
          ],
          "histogram2dcontour": [
           {
            "colorbar": {
             "outlinewidth": 0,
             "ticks": ""
            },
            "colorscale": [
             [
              0,
              "#0d0887"
             ],
             [
              0.1111111111111111,
              "#46039f"
             ],
             [
              0.2222222222222222,
              "#7201a8"
             ],
             [
              0.3333333333333333,
              "#9c179e"
             ],
             [
              0.4444444444444444,
              "#bd3786"
             ],
             [
              0.5555555555555556,
              "#d8576b"
             ],
             [
              0.6666666666666666,
              "#ed7953"
             ],
             [
              0.7777777777777778,
              "#fb9f3a"
             ],
             [
              0.8888888888888888,
              "#fdca26"
             ],
             [
              1,
              "#f0f921"
             ]
            ],
            "type": "histogram2dcontour"
           }
          ],
          "mesh3d": [
           {
            "colorbar": {
             "outlinewidth": 0,
             "ticks": ""
            },
            "type": "mesh3d"
           }
          ],
          "parcoords": [
           {
            "line": {
             "colorbar": {
              "outlinewidth": 0,
              "ticks": ""
             }
            },
            "type": "parcoords"
           }
          ],
          "pie": [
           {
            "automargin": true,
            "type": "pie"
           }
          ],
          "scatter": [
           {
            "fillpattern": {
             "fillmode": "overlay",
             "size": 10,
             "solidity": 0.2
            },
            "type": "scatter"
           }
          ],
          "scatter3d": [
           {
            "line": {
             "colorbar": {
              "outlinewidth": 0,
              "ticks": ""
             }
            },
            "marker": {
             "colorbar": {
              "outlinewidth": 0,
              "ticks": ""
             }
            },
            "type": "scatter3d"
           }
          ],
          "scattercarpet": [
           {
            "marker": {
             "colorbar": {
              "outlinewidth": 0,
              "ticks": ""
             }
            },
            "type": "scattercarpet"
           }
          ],
          "scattergeo": [
           {
            "marker": {
             "colorbar": {
              "outlinewidth": 0,
              "ticks": ""
             }
            },
            "type": "scattergeo"
           }
          ],
          "scattergl": [
           {
            "marker": {
             "colorbar": {
              "outlinewidth": 0,
              "ticks": ""
             }
            },
            "type": "scattergl"
           }
          ],
          "scattermapbox": [
           {
            "marker": {
             "colorbar": {
              "outlinewidth": 0,
              "ticks": ""
             }
            },
            "type": "scattermapbox"
           }
          ],
          "scatterpolar": [
           {
            "marker": {
             "colorbar": {
              "outlinewidth": 0,
              "ticks": ""
             }
            },
            "type": "scatterpolar"
           }
          ],
          "scatterpolargl": [
           {
            "marker": {
             "colorbar": {
              "outlinewidth": 0,
              "ticks": ""
             }
            },
            "type": "scatterpolargl"
           }
          ],
          "scatterternary": [
           {
            "marker": {
             "colorbar": {
              "outlinewidth": 0,
              "ticks": ""
             }
            },
            "type": "scatterternary"
           }
          ],
          "surface": [
           {
            "colorbar": {
             "outlinewidth": 0,
             "ticks": ""
            },
            "colorscale": [
             [
              0,
              "#0d0887"
             ],
             [
              0.1111111111111111,
              "#46039f"
             ],
             [
              0.2222222222222222,
              "#7201a8"
             ],
             [
              0.3333333333333333,
              "#9c179e"
             ],
             [
              0.4444444444444444,
              "#bd3786"
             ],
             [
              0.5555555555555556,
              "#d8576b"
             ],
             [
              0.6666666666666666,
              "#ed7953"
             ],
             [
              0.7777777777777778,
              "#fb9f3a"
             ],
             [
              0.8888888888888888,
              "#fdca26"
             ],
             [
              1,
              "#f0f921"
             ]
            ],
            "type": "surface"
           }
          ],
          "table": [
           {
            "cells": {
             "fill": {
              "color": "#EBF0F8"
             },
             "line": {
              "color": "white"
             }
            },
            "header": {
             "fill": {
              "color": "#C8D4E3"
             },
             "line": {
              "color": "white"
             }
            },
            "type": "table"
           }
          ]
         },
         "layout": {
          "annotationdefaults": {
           "arrowcolor": "#2a3f5f",
           "arrowhead": 0,
           "arrowwidth": 1
          },
          "autotypenumbers": "strict",
          "coloraxis": {
           "colorbar": {
            "outlinewidth": 0,
            "ticks": ""
           }
          },
          "colorscale": {
           "diverging": [
            [
             0,
             "#8e0152"
            ],
            [
             0.1,
             "#c51b7d"
            ],
            [
             0.2,
             "#de77ae"
            ],
            [
             0.3,
             "#f1b6da"
            ],
            [
             0.4,
             "#fde0ef"
            ],
            [
             0.5,
             "#f7f7f7"
            ],
            [
             0.6,
             "#e6f5d0"
            ],
            [
             0.7,
             "#b8e186"
            ],
            [
             0.8,
             "#7fbc41"
            ],
            [
             0.9,
             "#4d9221"
            ],
            [
             1,
             "#276419"
            ]
           ],
           "sequential": [
            [
             0,
             "#0d0887"
            ],
            [
             0.1111111111111111,
             "#46039f"
            ],
            [
             0.2222222222222222,
             "#7201a8"
            ],
            [
             0.3333333333333333,
             "#9c179e"
            ],
            [
             0.4444444444444444,
             "#bd3786"
            ],
            [
             0.5555555555555556,
             "#d8576b"
            ],
            [
             0.6666666666666666,
             "#ed7953"
            ],
            [
             0.7777777777777778,
             "#fb9f3a"
            ],
            [
             0.8888888888888888,
             "#fdca26"
            ],
            [
             1,
             "#f0f921"
            ]
           ],
           "sequentialminus": [
            [
             0,
             "#0d0887"
            ],
            [
             0.1111111111111111,
             "#46039f"
            ],
            [
             0.2222222222222222,
             "#7201a8"
            ],
            [
             0.3333333333333333,
             "#9c179e"
            ],
            [
             0.4444444444444444,
             "#bd3786"
            ],
            [
             0.5555555555555556,
             "#d8576b"
            ],
            [
             0.6666666666666666,
             "#ed7953"
            ],
            [
             0.7777777777777778,
             "#fb9f3a"
            ],
            [
             0.8888888888888888,
             "#fdca26"
            ],
            [
             1,
             "#f0f921"
            ]
           ]
          },
          "colorway": [
           "#636efa",
           "#EF553B",
           "#00cc96",
           "#ab63fa",
           "#FFA15A",
           "#19d3f3",
           "#FF6692",
           "#B6E880",
           "#FF97FF",
           "#FECB52"
          ],
          "font": {
           "color": "#2a3f5f"
          },
          "geo": {
           "bgcolor": "white",
           "lakecolor": "white",
           "landcolor": "#E5ECF6",
           "showlakes": true,
           "showland": true,
           "subunitcolor": "white"
          },
          "hoverlabel": {
           "align": "left"
          },
          "hovermode": "closest",
          "mapbox": {
           "style": "light"
          },
          "paper_bgcolor": "white",
          "plot_bgcolor": "#E5ECF6",
          "polar": {
           "angularaxis": {
            "gridcolor": "white",
            "linecolor": "white",
            "ticks": ""
           },
           "bgcolor": "#E5ECF6",
           "radialaxis": {
            "gridcolor": "white",
            "linecolor": "white",
            "ticks": ""
           }
          },
          "scene": {
           "xaxis": {
            "backgroundcolor": "#E5ECF6",
            "gridcolor": "white",
            "gridwidth": 2,
            "linecolor": "white",
            "showbackground": true,
            "ticks": "",
            "zerolinecolor": "white"
           },
           "yaxis": {
            "backgroundcolor": "#E5ECF6",
            "gridcolor": "white",
            "gridwidth": 2,
            "linecolor": "white",
            "showbackground": true,
            "ticks": "",
            "zerolinecolor": "white"
           },
           "zaxis": {
            "backgroundcolor": "#E5ECF6",
            "gridcolor": "white",
            "gridwidth": 2,
            "linecolor": "white",
            "showbackground": true,
            "ticks": "",
            "zerolinecolor": "white"
           }
          },
          "shapedefaults": {
           "line": {
            "color": "#2a3f5f"
           }
          },
          "ternary": {
           "aaxis": {
            "gridcolor": "white",
            "linecolor": "white",
            "ticks": ""
           },
           "baxis": {
            "gridcolor": "white",
            "linecolor": "white",
            "ticks": ""
           },
           "bgcolor": "#E5ECF6",
           "caxis": {
            "gridcolor": "white",
            "linecolor": "white",
            "ticks": ""
           }
          },
          "title": {
           "x": 0.05
          },
          "xaxis": {
           "automargin": true,
           "gridcolor": "white",
           "linecolor": "white",
           "ticks": "",
           "title": {
            "standoff": 15
           },
           "zerolinecolor": "white",
           "zerolinewidth": 2
          },
          "yaxis": {
           "automargin": true,
           "gridcolor": "white",
           "linecolor": "white",
           "ticks": "",
           "title": {
            "standoff": 15
           },
           "zerolinecolor": "white",
           "zerolinewidth": 2
          }
         }
        },
        "title": {
         "text": "Theme Network Visualization (Clustered by Bot Status and Sentiments)"
        },
        "width": 1200,
        "xaxis": {
         "showgrid": false,
         "showticklabels": false,
         "zeroline": false
        },
        "yaxis": {
         "showgrid": false,
         "showticklabels": false,
         "zeroline": false
        }
       }
      }
     },
     "metadata": {},
     "output_type": "display_data"
    }
   ],
   "source": [
    "import json\n",
    "import networkx as nx\n",
    "import plotly.graph_objects as go\n",
    "import numpy as np\n",
    "\n",
    "\n",
    "def load_json_file(file_path):\n",
    "    \"\"\"Load JSON file safely.\"\"\"\n",
    "    try:\n",
    "        with open(file_path, 'r', encoding='utf-8') as file:\n",
    "            return json.load(file)\n",
    "    except Exception as e:\n",
    "        print(f\"Error loading JSON file {file_path}: {e}\")\n",
    "        return []\n",
    "\n",
    "\n",
    "def create_theme_network(data_bot, data_nonbot, min_confidence=70):\n",
    "    \"\"\"Create a network graph from themes with a minimum confidence level.\"\"\"\n",
    "    G = nx.Graph()\n",
    "\n",
    "    def process_data(data, is_bot=True):\n",
    "        for item in data:\n",
    "            response = item.get('response')\n",
    "            if isinstance(response, str):\n",
    "                try:\n",
    "                    response_data = json.loads(response)\n",
    "                    themes = response_data.get('overall_themes', [])\n",
    "                    for theme in themes:\n",
    "                        confidence = theme.get('confidence', 0)\n",
    "                        if confidence >= min_confidence:\n",
    "                            theme_name = theme['name']\n",
    "                            keywords = theme.get('keywords', [])\n",
    "                            sentiment_distribution = theme.get('sentiment_distribution', {})\n",
    "                            positive = sentiment_distribution.get('positive_percentage', 0)\n",
    "                            negative = sentiment_distribution.get('negative_percentage', 0)\n",
    "                            neutral = sentiment_distribution.get('neutral_percentage', 0)\n",
    "\n",
    "                            if not G.has_node(theme_name):\n",
    "                                G.add_node(theme_name,\n",
    "                                           type='theme',\n",
    "                                           is_bot=is_bot,\n",
    "                                           confidence=confidence,\n",
    "                                           keywords=keywords,\n",
    "                                           sentiment_distribution={\n",
    "                                               'positive': positive,\n",
    "                                               'negative': negative,\n",
    "                                               'neutral': neutral\n",
    "                                           })\n",
    "                            else:\n",
    "                                current_bot_status = G.nodes[theme_name].get('is_bot')\n",
    "                                if current_bot_status != is_bot:\n",
    "                                    G.nodes[theme_name]['is_bot'] = 'mixed'\n",
    "                except json.JSONDecodeError:\n",
    "                    print(f\"Invalid JSON in response: {response}\")\n",
    "\n",
    "    process_data(data_bot, is_bot=True)\n",
    "    process_data(data_nonbot, is_bot=False)\n",
    "    return G\n",
    "\n",
    "\n",
    "def visualize_network(G):\n",
    "    \"\"\"Visualize network clustered by bot and nonbot themes with sentiment distribution.\"\"\"\n",
    "    if len(G.nodes) == 0:\n",
    "        print(\"No nodes to visualize.\")\n",
    "        return\n",
    "\n",
    "    bot_nodes = [node for node, data in G.nodes(data=True) if data['is_bot'] == True]\n",
    "    nonbot_nodes = [node for node, data in G.nodes(data=True) if data['is_bot'] == False]\n",
    "    mixed_nodes = [node for node, data in G.nodes(data=True) if data['is_bot'] == 'mixed']\n",
    "\n",
    "    def get_node_size(confidence):\n",
    "        return 5 + confidence / 10\n",
    "\n",
    "    traces = []\n",
    "    categories = [\n",
    "        ('Bot Themes', bot_nodes, 'rgb(255,0,0)', -5),\n",
    "        ('Non-Bot Themes', nonbot_nodes, 'rgb(0,255,0)', 5),\n",
    "        ('Mixed Themes', mixed_nodes, 'rgb(128,0,128)', 0),\n",
    "    ]\n",
    "\n",
    "    for name, nodes, color, center in categories:\n",
    "        if nodes:\n",
    "            positions_x = np.random.normal(loc=center, scale=1, size=len(nodes))\n",
    "            positions_y = np.random.normal(loc=center, scale=1, size=len(nodes))\n",
    "            sizes = [get_node_size(G.nodes[node]['confidence']) for node in nodes]\n",
    "\n",
    "            hover_texts = [\n",
    "                f\"Theme: {node}<br>\"\n",
    "                f\"Type: {name}<br>\"\n",
    "                f\"Confidence: {G.nodes[node]['confidence']}%<br>\"\n",
    "                f\"Keywords: {', '.join(G.nodes[node].get('keywords', []))}<br>\"\n",
    "                f\"Sentiments:<br>\"\n",
    "                f\"Positive: {G.nodes[node]['sentiment_distribution']['positive']}%<br>\"\n",
    "                f\"Negative: {G.nodes[node]['sentiment_distribution']['negative']}%<br>\"\n",
    "                f\"Neutral: {G.nodes[node]['sentiment_distribution']['neutral']}%\"\n",
    "                for node in nodes\n",
    "            ]\n",
    "\n",
    "            traces.append(go.Scatter(\n",
    "                x=positions_x,\n",
    "                y=positions_y,\n",
    "                mode='markers',\n",
    "                marker=dict(\n",
    "                    size=sizes,\n",
    "                    color=color,\n",
    "                    line=dict(width=1, color='black')\n",
    "                ),\n",
    "                hovertext=hover_texts,\n",
    "                hoverinfo='text',\n",
    "                name=name\n",
    "            ))\n",
    "\n",
    "    fig = go.Figure(data=traces)\n",
    "    fig.update_layout(\n",
    "        title=\"Theme Network Visualization (Clustered by Bot Status and Sentiments)\",\n",
    "        showlegend=True,\n",
    "        xaxis=dict(showgrid=False, zeroline=False, showticklabels=False),\n",
    "        yaxis=dict(showgrid=False, zeroline=False, showticklabels=False),\n",
    "        width=1200,\n",
    "        height=800,\n",
    "        plot_bgcolor='white',\n",
    "        paper_bgcolor='white'\n",
    "    )\n",
    "\n",
    "    fig.show()\n",
    "\n",
    "\n",
    "# Load JSON files\n",
    "data_label_0 = load_json_file('label_0_1.json')  # Bot data\n",
    "data_label_1 = load_json_file('label_1_1.json')  # Non-bot data\n",
    "\n",
    "# Create network\n",
    "network = create_theme_network(data_label_0, data_label_1, min_confidence=70)\n",
    "\n",
    "# Visualize network\n",
    "visualize_network(network)\n"
   ]
  },
  {
   "cell_type": "code",
   "execution_count": 20,
   "metadata": {},
   "outputs": [
    {
     "name": "stdout",
     "output_type": "stream",
     "text": [
      "Total Themes (90%+ Confidence): 11\n",
      "Bot Themes: 8\n",
      "Non-Bot Themes: 2\n",
      "Mixed Themes: 1\n"
     ]
    },
    {
     "data": {
      "application/vnd.plotly.v1+json": {
       "config": {
        "plotlyServerURL": "https://plot.ly"
       },
       "data": [
        {
         "hoverinfo": "text",
         "hovertext": [
          "Theme: Tesla Products and Technology<br>Type: Bot Themes<br>Confidence: 90%<br>Keywords: tesla, phone, apple, data, starlink, car, concept<br>Sentiments:<br>Positive: 100%<br>Negative: 0%<br>Neutral: 0%",
          "Theme: Tesla and Elon Musk<br>Type: Bot Themes<br>Confidence: 95%<br>Keywords: Tesla, Elon Musk, Neuralink, Mars, Space Exploration, Electric Cars, Autonomous Driving<br>Sentiments:<br>Positive: 80%<br>Negative: 10%<br>Neutral: 10%",
          "Theme: Tesla<br>Type: Bot Themes<br>Confidence: 99%<br>Keywords: Tesla, Model Y, Juniper, TSLA, Stock, Investment, Autonomous, Taxis, Robots<br>Sentiments:<br>Positive: 91%<br>Negative: 0%<br>Neutral: 9%",
          "Theme: Tesla Model Y Updates and Features<br>Type: Bot Themes<br>Confidence: 100%<br>Keywords: Tesla Model Y, Juniper, Cybertruck, Battery pack, Energy storage, Efficiency, Price, Incentives, EV credits, Maintenance, Reliability<br>Sentiments:<br>Positive: 80%<br>Negative: 10%<br>Neutral: 10%",
          "Theme: Tesla Model Y's Success<br>Type: Bot Themes<br>Confidence: 95%<br>Keywords: Tesla, Model Y, best-selling, car, globally<br>Sentiments:<br>Positive: 85%<br>Negative: 5%<br>Neutral: 10%",
          "Theme: Tesla Model Y Safety and Ratings<br>Type: Bot Themes<br>Confidence: 90%<br>Keywords: Tesla Model Y Safety, Tesla Model Y Ratings, Safety Rating, Elon Musk<br>Sentiments:<br>Positive: 90%<br>Negative: 5%<br>Neutral: 5%",
          "Theme: Tesla Model 3 Updates and Features<br>Type: Bot Themes<br>Confidence: 100%<br>Keywords: Tesla, Model 3, refreshed, new, range, performance, features, buyouts, availability<br>Sentiments:<br>Positive: 80%<br>Negative: 0%<br>Neutral: 20%",
          "Theme: Cybertruck Controversy<br>Type: Bot Themes<br>Confidence: 90%<br>Keywords: Cybertruck, Tesla, climate<br>Sentiments:<br>Positive: 20%<br>Negative: 60%<br>Neutral: 20%"
         ],
         "marker": {
          "color": "rgb(255,0,0)",
          "line": {
           "color": "black",
           "width": 1
          },
          "size": [
           14,
           14.5,
           14.9,
           15,
           14.5,
           14,
           15,
           14
          ]
         },
         "mode": "markers",
         "name": "Bot Themes",
         "type": "scatter",
         "x": [
          -5.389530087832163,
          -4.430178417410866,
          -5.25004942734128,
          -3.2708555931067247,
          -6.299943725510228,
          -4.471816325000399,
          -6.254305531489383,
          -5.371279365554063
         ],
         "y": [
          -3.747132925167077,
          -3.8973171673143314,
          -4.2965510619613045,
          -6.115147140363469,
          -5.028268739894155,
          -5.581765513232211,
          -5.990170650551005,
          -5.3476682497479375
         ]
        },
        {
         "hoverinfo": "text",
         "hovertext": [
          "Theme: Tesla and Elon Musk Appreciation<br>Type: Non-Bot Themes<br>Confidence: 95%<br>Keywords: Tesla, Elon Musk, Cybertruck, FSAD, Starlink<br>Sentiments:<br>Positive: 80%<br>Negative: 10%<br>Neutral: 10%",
          "Theme: Tesla Model Cars<br>Type: Non-Bot Themes<br>Confidence: 99%<br>Keywords: Tesla, Model, Cars, Electric, Sustainable<br>Sentiments:<br>Positive: 80%<br>Negative: 15%<br>Neutral: 5%"
         ],
         "marker": {
          "color": "rgb(0,255,0)",
          "line": {
           "color": "black",
           "width": 1
          },
          "size": [
           14.5,
           14.9
          ]
         },
         "mode": "markers",
         "name": "Non-Bot Themes",
         "type": "scatter",
         "x": [
          5.1369125549386405,
          6.595566993950811
         ],
         "y": [
          4.55670272897203,
          3.752521090913969
         ]
        },
        {
         "hoverinfo": "text",
         "hovertext": [
          "Theme: Tesla and Electric Vehicles<br>Type: Mixed Themes<br>Confidence: 90%<br>Keywords: Tesla, Electric vehicles, Cybertruck, Cybercab, Boston dynamics, Robotics, Drive unit<br>Sentiments:<br>Positive: 85%<br>Negative: 0%<br>Neutral: 15%"
         ],
         "marker": {
          "color": "rgb(128,0,128)",
          "line": {
           "color": "black",
           "width": 1
          },
          "size": [
           14
          ]
         },
         "mode": "markers",
         "name": "Mixed Themes",
         "type": "scatter",
         "x": [
          3.5607586529689903
         ],
         "y": [
          -0.8561470631483156
         ]
        }
       ],
       "layout": {
        "height": 800,
        "paper_bgcolor": "white",
        "plot_bgcolor": "white",
        "showlegend": true,
        "template": {
         "data": {
          "bar": [
           {
            "error_x": {
             "color": "#2a3f5f"
            },
            "error_y": {
             "color": "#2a3f5f"
            },
            "marker": {
             "line": {
              "color": "#E5ECF6",
              "width": 0.5
             },
             "pattern": {
              "fillmode": "overlay",
              "size": 10,
              "solidity": 0.2
             }
            },
            "type": "bar"
           }
          ],
          "barpolar": [
           {
            "marker": {
             "line": {
              "color": "#E5ECF6",
              "width": 0.5
             },
             "pattern": {
              "fillmode": "overlay",
              "size": 10,
              "solidity": 0.2
             }
            },
            "type": "barpolar"
           }
          ],
          "carpet": [
           {
            "aaxis": {
             "endlinecolor": "#2a3f5f",
             "gridcolor": "white",
             "linecolor": "white",
             "minorgridcolor": "white",
             "startlinecolor": "#2a3f5f"
            },
            "baxis": {
             "endlinecolor": "#2a3f5f",
             "gridcolor": "white",
             "linecolor": "white",
             "minorgridcolor": "white",
             "startlinecolor": "#2a3f5f"
            },
            "type": "carpet"
           }
          ],
          "choropleth": [
           {
            "colorbar": {
             "outlinewidth": 0,
             "ticks": ""
            },
            "type": "choropleth"
           }
          ],
          "contour": [
           {
            "colorbar": {
             "outlinewidth": 0,
             "ticks": ""
            },
            "colorscale": [
             [
              0,
              "#0d0887"
             ],
             [
              0.1111111111111111,
              "#46039f"
             ],
             [
              0.2222222222222222,
              "#7201a8"
             ],
             [
              0.3333333333333333,
              "#9c179e"
             ],
             [
              0.4444444444444444,
              "#bd3786"
             ],
             [
              0.5555555555555556,
              "#d8576b"
             ],
             [
              0.6666666666666666,
              "#ed7953"
             ],
             [
              0.7777777777777778,
              "#fb9f3a"
             ],
             [
              0.8888888888888888,
              "#fdca26"
             ],
             [
              1,
              "#f0f921"
             ]
            ],
            "type": "contour"
           }
          ],
          "contourcarpet": [
           {
            "colorbar": {
             "outlinewidth": 0,
             "ticks": ""
            },
            "type": "contourcarpet"
           }
          ],
          "heatmap": [
           {
            "colorbar": {
             "outlinewidth": 0,
             "ticks": ""
            },
            "colorscale": [
             [
              0,
              "#0d0887"
             ],
             [
              0.1111111111111111,
              "#46039f"
             ],
             [
              0.2222222222222222,
              "#7201a8"
             ],
             [
              0.3333333333333333,
              "#9c179e"
             ],
             [
              0.4444444444444444,
              "#bd3786"
             ],
             [
              0.5555555555555556,
              "#d8576b"
             ],
             [
              0.6666666666666666,
              "#ed7953"
             ],
             [
              0.7777777777777778,
              "#fb9f3a"
             ],
             [
              0.8888888888888888,
              "#fdca26"
             ],
             [
              1,
              "#f0f921"
             ]
            ],
            "type": "heatmap"
           }
          ],
          "heatmapgl": [
           {
            "colorbar": {
             "outlinewidth": 0,
             "ticks": ""
            },
            "colorscale": [
             [
              0,
              "#0d0887"
             ],
             [
              0.1111111111111111,
              "#46039f"
             ],
             [
              0.2222222222222222,
              "#7201a8"
             ],
             [
              0.3333333333333333,
              "#9c179e"
             ],
             [
              0.4444444444444444,
              "#bd3786"
             ],
             [
              0.5555555555555556,
              "#d8576b"
             ],
             [
              0.6666666666666666,
              "#ed7953"
             ],
             [
              0.7777777777777778,
              "#fb9f3a"
             ],
             [
              0.8888888888888888,
              "#fdca26"
             ],
             [
              1,
              "#f0f921"
             ]
            ],
            "type": "heatmapgl"
           }
          ],
          "histogram": [
           {
            "marker": {
             "pattern": {
              "fillmode": "overlay",
              "size": 10,
              "solidity": 0.2
             }
            },
            "type": "histogram"
           }
          ],
          "histogram2d": [
           {
            "colorbar": {
             "outlinewidth": 0,
             "ticks": ""
            },
            "colorscale": [
             [
              0,
              "#0d0887"
             ],
             [
              0.1111111111111111,
              "#46039f"
             ],
             [
              0.2222222222222222,
              "#7201a8"
             ],
             [
              0.3333333333333333,
              "#9c179e"
             ],
             [
              0.4444444444444444,
              "#bd3786"
             ],
             [
              0.5555555555555556,
              "#d8576b"
             ],
             [
              0.6666666666666666,
              "#ed7953"
             ],
             [
              0.7777777777777778,
              "#fb9f3a"
             ],
             [
              0.8888888888888888,
              "#fdca26"
             ],
             [
              1,
              "#f0f921"
             ]
            ],
            "type": "histogram2d"
           }
          ],
          "histogram2dcontour": [
           {
            "colorbar": {
             "outlinewidth": 0,
             "ticks": ""
            },
            "colorscale": [
             [
              0,
              "#0d0887"
             ],
             [
              0.1111111111111111,
              "#46039f"
             ],
             [
              0.2222222222222222,
              "#7201a8"
             ],
             [
              0.3333333333333333,
              "#9c179e"
             ],
             [
              0.4444444444444444,
              "#bd3786"
             ],
             [
              0.5555555555555556,
              "#d8576b"
             ],
             [
              0.6666666666666666,
              "#ed7953"
             ],
             [
              0.7777777777777778,
              "#fb9f3a"
             ],
             [
              0.8888888888888888,
              "#fdca26"
             ],
             [
              1,
              "#f0f921"
             ]
            ],
            "type": "histogram2dcontour"
           }
          ],
          "mesh3d": [
           {
            "colorbar": {
             "outlinewidth": 0,
             "ticks": ""
            },
            "type": "mesh3d"
           }
          ],
          "parcoords": [
           {
            "line": {
             "colorbar": {
              "outlinewidth": 0,
              "ticks": ""
             }
            },
            "type": "parcoords"
           }
          ],
          "pie": [
           {
            "automargin": true,
            "type": "pie"
           }
          ],
          "scatter": [
           {
            "fillpattern": {
             "fillmode": "overlay",
             "size": 10,
             "solidity": 0.2
            },
            "type": "scatter"
           }
          ],
          "scatter3d": [
           {
            "line": {
             "colorbar": {
              "outlinewidth": 0,
              "ticks": ""
             }
            },
            "marker": {
             "colorbar": {
              "outlinewidth": 0,
              "ticks": ""
             }
            },
            "type": "scatter3d"
           }
          ],
          "scattercarpet": [
           {
            "marker": {
             "colorbar": {
              "outlinewidth": 0,
              "ticks": ""
             }
            },
            "type": "scattercarpet"
           }
          ],
          "scattergeo": [
           {
            "marker": {
             "colorbar": {
              "outlinewidth": 0,
              "ticks": ""
             }
            },
            "type": "scattergeo"
           }
          ],
          "scattergl": [
           {
            "marker": {
             "colorbar": {
              "outlinewidth": 0,
              "ticks": ""
             }
            },
            "type": "scattergl"
           }
          ],
          "scattermapbox": [
           {
            "marker": {
             "colorbar": {
              "outlinewidth": 0,
              "ticks": ""
             }
            },
            "type": "scattermapbox"
           }
          ],
          "scatterpolar": [
           {
            "marker": {
             "colorbar": {
              "outlinewidth": 0,
              "ticks": ""
             }
            },
            "type": "scatterpolar"
           }
          ],
          "scatterpolargl": [
           {
            "marker": {
             "colorbar": {
              "outlinewidth": 0,
              "ticks": ""
             }
            },
            "type": "scatterpolargl"
           }
          ],
          "scatterternary": [
           {
            "marker": {
             "colorbar": {
              "outlinewidth": 0,
              "ticks": ""
             }
            },
            "type": "scatterternary"
           }
          ],
          "surface": [
           {
            "colorbar": {
             "outlinewidth": 0,
             "ticks": ""
            },
            "colorscale": [
             [
              0,
              "#0d0887"
             ],
             [
              0.1111111111111111,
              "#46039f"
             ],
             [
              0.2222222222222222,
              "#7201a8"
             ],
             [
              0.3333333333333333,
              "#9c179e"
             ],
             [
              0.4444444444444444,
              "#bd3786"
             ],
             [
              0.5555555555555556,
              "#d8576b"
             ],
             [
              0.6666666666666666,
              "#ed7953"
             ],
             [
              0.7777777777777778,
              "#fb9f3a"
             ],
             [
              0.8888888888888888,
              "#fdca26"
             ],
             [
              1,
              "#f0f921"
             ]
            ],
            "type": "surface"
           }
          ],
          "table": [
           {
            "cells": {
             "fill": {
              "color": "#EBF0F8"
             },
             "line": {
              "color": "white"
             }
            },
            "header": {
             "fill": {
              "color": "#C8D4E3"
             },
             "line": {
              "color": "white"
             }
            },
            "type": "table"
           }
          ]
         },
         "layout": {
          "annotationdefaults": {
           "arrowcolor": "#2a3f5f",
           "arrowhead": 0,
           "arrowwidth": 1
          },
          "autotypenumbers": "strict",
          "coloraxis": {
           "colorbar": {
            "outlinewidth": 0,
            "ticks": ""
           }
          },
          "colorscale": {
           "diverging": [
            [
             0,
             "#8e0152"
            ],
            [
             0.1,
             "#c51b7d"
            ],
            [
             0.2,
             "#de77ae"
            ],
            [
             0.3,
             "#f1b6da"
            ],
            [
             0.4,
             "#fde0ef"
            ],
            [
             0.5,
             "#f7f7f7"
            ],
            [
             0.6,
             "#e6f5d0"
            ],
            [
             0.7,
             "#b8e186"
            ],
            [
             0.8,
             "#7fbc41"
            ],
            [
             0.9,
             "#4d9221"
            ],
            [
             1,
             "#276419"
            ]
           ],
           "sequential": [
            [
             0,
             "#0d0887"
            ],
            [
             0.1111111111111111,
             "#46039f"
            ],
            [
             0.2222222222222222,
             "#7201a8"
            ],
            [
             0.3333333333333333,
             "#9c179e"
            ],
            [
             0.4444444444444444,
             "#bd3786"
            ],
            [
             0.5555555555555556,
             "#d8576b"
            ],
            [
             0.6666666666666666,
             "#ed7953"
            ],
            [
             0.7777777777777778,
             "#fb9f3a"
            ],
            [
             0.8888888888888888,
             "#fdca26"
            ],
            [
             1,
             "#f0f921"
            ]
           ],
           "sequentialminus": [
            [
             0,
             "#0d0887"
            ],
            [
             0.1111111111111111,
             "#46039f"
            ],
            [
             0.2222222222222222,
             "#7201a8"
            ],
            [
             0.3333333333333333,
             "#9c179e"
            ],
            [
             0.4444444444444444,
             "#bd3786"
            ],
            [
             0.5555555555555556,
             "#d8576b"
            ],
            [
             0.6666666666666666,
             "#ed7953"
            ],
            [
             0.7777777777777778,
             "#fb9f3a"
            ],
            [
             0.8888888888888888,
             "#fdca26"
            ],
            [
             1,
             "#f0f921"
            ]
           ]
          },
          "colorway": [
           "#636efa",
           "#EF553B",
           "#00cc96",
           "#ab63fa",
           "#FFA15A",
           "#19d3f3",
           "#FF6692",
           "#B6E880",
           "#FF97FF",
           "#FECB52"
          ],
          "font": {
           "color": "#2a3f5f"
          },
          "geo": {
           "bgcolor": "white",
           "lakecolor": "white",
           "landcolor": "#E5ECF6",
           "showlakes": true,
           "showland": true,
           "subunitcolor": "white"
          },
          "hoverlabel": {
           "align": "left"
          },
          "hovermode": "closest",
          "mapbox": {
           "style": "light"
          },
          "paper_bgcolor": "white",
          "plot_bgcolor": "#E5ECF6",
          "polar": {
           "angularaxis": {
            "gridcolor": "white",
            "linecolor": "white",
            "ticks": ""
           },
           "bgcolor": "#E5ECF6",
           "radialaxis": {
            "gridcolor": "white",
            "linecolor": "white",
            "ticks": ""
           }
          },
          "scene": {
           "xaxis": {
            "backgroundcolor": "#E5ECF6",
            "gridcolor": "white",
            "gridwidth": 2,
            "linecolor": "white",
            "showbackground": true,
            "ticks": "",
            "zerolinecolor": "white"
           },
           "yaxis": {
            "backgroundcolor": "#E5ECF6",
            "gridcolor": "white",
            "gridwidth": 2,
            "linecolor": "white",
            "showbackground": true,
            "ticks": "",
            "zerolinecolor": "white"
           },
           "zaxis": {
            "backgroundcolor": "#E5ECF6",
            "gridcolor": "white",
            "gridwidth": 2,
            "linecolor": "white",
            "showbackground": true,
            "ticks": "",
            "zerolinecolor": "white"
           }
          },
          "shapedefaults": {
           "line": {
            "color": "#2a3f5f"
           }
          },
          "ternary": {
           "aaxis": {
            "gridcolor": "white",
            "linecolor": "white",
            "ticks": ""
           },
           "baxis": {
            "gridcolor": "white",
            "linecolor": "white",
            "ticks": ""
           },
           "bgcolor": "#E5ECF6",
           "caxis": {
            "gridcolor": "white",
            "linecolor": "white",
            "ticks": ""
           }
          },
          "title": {
           "x": 0.05
          },
          "xaxis": {
           "automargin": true,
           "gridcolor": "white",
           "linecolor": "white",
           "ticks": "",
           "title": {
            "standoff": 15
           },
           "zerolinecolor": "white",
           "zerolinewidth": 2
          },
          "yaxis": {
           "automargin": true,
           "gridcolor": "white",
           "linecolor": "white",
           "ticks": "",
           "title": {
            "standoff": 15
           },
           "zerolinecolor": "white",
           "zerolinewidth": 2
          }
         }
        },
        "title": {
         "text": "Theme Network Visualization (90%+ Confidence, Clustered by Bot Status and Sentiments)"
        },
        "width": 1200,
        "xaxis": {
         "showgrid": false,
         "showticklabels": false,
         "zeroline": false
        },
        "yaxis": {
         "showgrid": false,
         "showticklabels": false,
         "zeroline": false
        }
       }
      }
     },
     "metadata": {},
     "output_type": "display_data"
    }
   ],
   "source": [
    "import json\n",
    "import networkx as nx\n",
    "import plotly.graph_objects as go\n",
    "import numpy as np\n",
    "\n",
    "\n",
    "def load_json_file(file_path):\n",
    "    \"\"\"Load JSON file safely.\"\"\"\n",
    "    try:\n",
    "        with open(file_path, 'r', encoding='utf-8') as file:\n",
    "            return json.load(file)\n",
    "    except Exception as e:\n",
    "        print(f\"Error loading JSON file {file_path}: {e}\")\n",
    "        return []\n",
    "\n",
    "\n",
    "def create_theme_network(data_bot, data_nonbot, min_confidence=90):  # Changed default to 90\n",
    "    \"\"\"Create a network graph from themes with a minimum confidence level.\"\"\"\n",
    "    G = nx.Graph()\n",
    "\n",
    "\n",
    "    def process_data(data, is_bot=True):\n",
    "        for item in data:\n",
    "            response = item.get('response')\n",
    "            if isinstance(response, str):\n",
    "                try:\n",
    "                    response_data = json.loads(response)\n",
    "                    themes = response_data.get('overall_themes', [])\n",
    "                    for theme in themes:\n",
    "                        confidence = theme.get('confidence', 0)\n",
    "                        if confidence >= min_confidence:  # Only process themes with 90%+ confidence\n",
    "                            theme_name = theme['name']\n",
    "                            keywords = theme.get('keywords', [])\n",
    "                            sentiment_distribution = theme.get('sentiment_distribution', {})\n",
    "                            positive = sentiment_distribution.get('positive_percentage', 0)\n",
    "                            negative = sentiment_distribution.get('negative_percentage', 0)\n",
    "                            neutral = sentiment_distribution.get('neutral_percentage', 0)\n",
    "                            \n",
    "                            if not G.has_node(theme_name):\n",
    "                                G.add_node(theme_name,\n",
    "                                           type='theme',\n",
    "                                           is_bot=is_bot,\n",
    "                                           confidence=confidence,\n",
    "                                           keywords=keywords,\n",
    "                                           sentiment_distribution={\n",
    "                                               'positive': positive,\n",
    "                                               'negative': negative,\n",
    "                                               'neutral': neutral\n",
    "                                           })\n",
    "                            else:\n",
    "                                current_bot_status = G.nodes[theme_name].get('is_bot')\n",
    "                                if current_bot_status != is_bot:\n",
    "                                    G.nodes[theme_name]['is_bot'] = 'mixed'\n",
    "                except json.JSONDecodeError:\n",
    "                    print(f\"Invalid JSON in response: {response}\")\n",
    "\n",
    "\n",
    "    process_data(data_bot, is_bot=True)\n",
    "    process_data(data_nonbot, is_bot=False)\n",
    "    return G\n",
    "\n",
    "\n",
    "def visualize_network(G):\n",
    "    \"\"\"Visualize network clustered by bot and nonbot themes with sentiment distribution.\"\"\"\n",
    "    if len(G.nodes) == 0:\n",
    "        print(\"No nodes to visualize.\")\n",
    "        return\n",
    "\n",
    "\n",
    "    bot_nodes = [node for node, data in G.nodes(data=True) if data['is_bot'] == True]\n",
    "    nonbot_nodes = [node for node, data in G.nodes(data=True) if data['is_bot'] == False]\n",
    "    mixed_nodes = [node for node, data in G.nodes(data=True) if data['is_bot'] == 'mixed']\n",
    "\n",
    "\n",
    "    def get_node_size(confidence):\n",
    "        return 5 + confidence / 10\n",
    "\n",
    "\n",
    "    traces = []\n",
    "    categories = [\n",
    "        ('Bot Themes', bot_nodes, 'rgb(255,0,0)', -5),\n",
    "        ('Non-Bot Themes', nonbot_nodes, 'rgb(0,255,0)', 5),\n",
    "        ('Mixed Themes', mixed_nodes, 'rgb(128,0,128)', 0),\n",
    "    ]\n",
    "\n",
    "\n",
    "    for name, nodes, color, center in categories:\n",
    "        if nodes:\n",
    "            positions_x = np.random.normal(loc=center, scale=1, size=len(nodes))\n",
    "            positions_y = np.random.normal(loc=center, scale=1, size=len(nodes))\n",
    "            sizes = [get_node_size(G.nodes[node]['confidence']) for node in nodes]\n",
    "\n",
    "\n",
    "            hover_texts = [\n",
    "                f\"Theme: {node}<br>\"\n",
    "                f\"Type: {name}<br>\"\n",
    "                f\"Confidence: {G.nodes[node]['confidence']}%<br>\"\n",
    "                f\"Keywords: {', '.join(G.nodes[node].get('keywords', []))}<br>\"\n",
    "                f\"Sentiments:<br>\"\n",
    "                f\"Positive: {G.nodes[node]['sentiment_distribution']['positive']}%<br>\"\n",
    "                f\"Negative: {G.nodes[node]['sentiment_distribution']['negative']}%<br>\"\n",
    "                f\"Neutral: {G.nodes[node]['sentiment_distribution']['neutral']}%\"\n",
    "                for node in nodes\n",
    "            ]\n",
    "\n",
    "\n",
    "            traces.append(go.Scatter(\n",
    "                x=positions_x,\n",
    "                y=positions_y,\n",
    "                mode='markers',\n",
    "                marker=dict(\n",
    "                    size=sizes,\n",
    "                    color=color,\n",
    "                    line=dict(width=1, color='black')\n",
    "                ),\n",
    "                hovertext=hover_texts,\n",
    "                hoverinfo='text',\n",
    "                name=name\n",
    "            ))\n",
    "\n",
    "\n",
    "    fig = go.Figure(data=traces)\n",
    "    fig.update_layout(\n",
    "        title=\"Theme Network Visualization (90%+ Confidence, Clustered by Bot Status and Sentiments)\",\n",
    "        showlegend=True,\n",
    "        xaxis=dict(showgrid=False, zeroline=False, showticklabels=False),\n",
    "        yaxis=dict(showgrid=False, zeroline=False, showticklabels=False),\n",
    "        width=1200,\n",
    "        height=800,\n",
    "        plot_bgcolor='white',\n",
    "        paper_bgcolor='white'\n",
    "    )\n",
    "\n",
    "\n",
    "    # Print some statistics\n",
    "    print(f\"Total Themes (90%+ Confidence): {len(G.nodes())}\")\n",
    "    print(f\"Bot Themes: {len(bot_nodes)}\")\n",
    "    print(f\"Non-Bot Themes: {len(nonbot_nodes)}\")\n",
    "    print(f\"Mixed Themes: {len(mixed_nodes)}\")\n",
    "\n",
    "\n",
    "    fig.show()\n",
    "\n",
    "\n",
    "# Load JSON files\n",
    "data_label_0 = load_json_file('label_0_1.json')  # Bot data\n",
    "data_label_1 = load_json_file('label_1_1.json')  # Non-bot data\n",
    "\n",
    "\n",
    "# Create network with 90% minimum confidence\n",
    "network = create_theme_network(data_label_0, data_label_1, min_confidence=90)\n",
    "\n",
    "\n",
    "# Visualize network\n",
    "visualize_network(network)"
   ]
  }
 ],
 "metadata": {
  "kernelspec": {
   "display_name": "base",
   "language": "python",
   "name": "python3"
  },
  "language_info": {
   "codemirror_mode": {
    "name": "ipython",
    "version": 3
   },
   "file_extension": ".py",
   "mimetype": "text/x-python",
   "name": "python",
   "nbconvert_exporter": "python",
   "pygments_lexer": "ipython3",
   "version": "3.12.4"
  }
 },
 "nbformat": 4,
 "nbformat_minor": 2
}
