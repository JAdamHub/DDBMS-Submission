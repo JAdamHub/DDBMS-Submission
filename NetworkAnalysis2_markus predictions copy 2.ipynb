{
 "cells": [
  {
   "cell_type": "markdown",
   "metadata": {},
   "source": [
    "## Libraries Setup"
   ]
  },
  {
   "cell_type": "code",
   "execution_count": 17,
   "metadata": {},
   "outputs": [
    {
     "name": "stderr",
     "output_type": "stream",
     "text": [
      "/Users/markushenriksson/Desktop/Data/Python/DDBMS-Submission/.conda/lib/python3.12/pty.py:95: DeprecationWarning:\n",
      "\n",
      "This process (pid=24942) is multi-threaded, use of forkpty() may lead to deadlocks in the child.\n",
      "\n"
     ]
    }
   ],
   "source": [
    "!pip install -r requirements.txt -q"
   ]
  },
  {
   "cell_type": "code",
   "execution_count": 18,
   "metadata": {},
   "outputs": [],
   "source": [
    "# Datahandling\n",
    "import requests\n",
    "import os\n",
    "os.environ[\"TOKENIZERS_PARALLELISM\"] = \"false\"\n",
    "import numpy as np\n",
    "import pandas as pd\n",
    "import seaborn as sns\n",
    "\n",
    "# Tweet Themes\n",
    "from sentence_transformers import SentenceTransformer\n",
    "import umap\n",
    "import hdbscan\n",
    "import matplotlib.pyplot as plt\n",
    "import plotly.express as px\n",
    "\n",
    "# Network analysis\n",
    "from typing import List, Optional\n",
    "import json\n",
    "import matplotlib.patches as mpatches\n",
    "import networkx as nx\n",
    "from community import community_louvain\n",
    "import plotly.graph_objects as go\n",
    "import random\n",
    "from collections import defaultdict\n",
    "import nbformat\n",
    "\n",
    "# Model prediction\n",
    "from setfit import SetFitModel, SetFitTrainer\n",
    "from sklearn.metrics import classification_report\n",
    "import tiktoken\n",
    "\n",
    "# Gradio deployment\n",
    "import gradio as gr\n"
   ]
  },
  {
   "cell_type": "markdown",
   "metadata": {},
   "source": [
    "## Data import"
   ]
  },
  {
   "cell_type": "code",
   "execution_count": 46,
   "metadata": {},
   "outputs": [],
   "source": [
    "# data sampling? 20000\n",
    "data = pd.read_csv('predictions_output.csv')\n",
    "# data = data.sample(n=2000, random_state=42)"
   ]
  },
  {
   "cell_type": "code",
   "execution_count": 47,
   "metadata": {},
   "outputs": [
    {
     "name": "stdout",
     "output_type": "stream",
     "text": [
      "Data with label=0: 138 rows\n",
      "Data with label=1: 49 rows\n"
     ]
    }
   ],
   "source": [
    "# Split the data based on the `label` column\n",
    "data_label_0 = data[data['Label'] == 0]  # Subset where label=0\n",
    "data_label_1 = data[data['Label'] == 1]  # Subset where label=1\n",
    "\n",
    "# Optionally, check the sizes of the splits\n",
    "print(f\"Data with label=0: {len(data_label_0)} rows\")\n",
    "print(f\"Data with label=1: {len(data_label_1)} rows\")"
   ]
  },
  {
   "cell_type": "code",
   "execution_count": 48,
   "metadata": {},
   "outputs": [],
   "source": [
    "# LLM Libs & Setup\n",
    "from openai import OpenAI\n",
    "import json\n",
    "from pydantic import BaseModel, Field\n",
    "from typing import List, Optional\n",
    "import textwrap"
   ]
  },
  {
   "cell_type": "markdown",
   "metadata": {},
   "source": [
    "## LLM Setup"
   ]
  },
  {
   "cell_type": "code",
   "execution_count": 49,
   "metadata": {},
   "outputs": [],
   "source": [
    "# Set your Together API Key directly\n",
    "TOGETHER_API_KEY = \"\"\n",
    "\n",
    "# Check if the API key is set\n",
    "if not TOGETHER_API_KEY:\n",
    "    raise ValueError(\"The Together API Key must be provided.\")\n",
    "\n",
    "# Initialize the Together client\n",
    "client = OpenAI(\n",
    "    base_url=\"https://api.together.xyz/v1\",\n",
    "    api_key=TOGETHER_API_KEY\n",
    ")\n",
    "\n",
    "# Define the model\n",
    "model = \"meta-llama/Meta-Llama-3.1-8B-Instruct-Turbo\""
   ]
  },
  {
   "cell_type": "markdown",
   "metadata": {},
   "source": [
    "## System_Prompt + JSON_schema Setup"
   ]
  },
  {
   "cell_type": "code",
   "execution_count": 51,
   "metadata": {},
   "outputs": [],
   "source": [
    "SYSTEM_PROMPT = \"\"\"\n",
    "System Prompt:\n",
    "\n",
    "You are an advanced NLP assistant tasked with analyzing tweets about a company. Each tweet is labeled as being from either a bot (0) or a human (1). Your goals are to identify themes, assess sentiment, extract keywords, and assign significance scores. Follow these steps:\n",
    "\n",
    "Theme Identification:\n",
    "\n",
    "- Group tweets into 5-15 overall themes or mentions about the company. Themes represent key topics, issues, or narratives surrounding the company.\n",
    "- For each theme, provide subthemes or keywords that explain why the theme was chosen. These keywords should summarize the driving factors behind the theme.\n",
    "\n",
    "Sentiment Analysis:\n",
    "\n",
    "- Perform sentiment analysis for each tweet and aggregate these sentiments to determine the overall sentiment for each theme (positive, neutral, or negative).\n",
    "- Provide an average sentiment score (-1 to +1 scale) for each theme.\n",
    "\n",
    "Theme Significance:\n",
    "\n",
    "- Assign a significance score (1-100) for each theme based on how many tweets contribute to it, and other relevant metrics (e.g., impact of subthemes, relevance to overall narrative).\n",
    "\n",
    "Output Structure:\n",
    "\n",
    "For each theme, provide:\n",
    "- Theme title.\n",
    "- Sentiment summary (positive/negative/neutral, average sentiment score).\n",
    "- Subthemes/keywords explaining the causation of the theme.\n",
    "- Significance score.\n",
    "\n",
    "\n",
    "Consideration:\n",
    "\n",
    "- Focus on human-labeled tweets (1) for primary analysis but note any notable patterns from bot-labeled tweets (0).\n",
    "- Highlight anomalies or unexpected findings, if any.\n",
    "\"\"\"\n"
   ]
  },
  {
   "cell_type": "code",
   "execution_count": 53,
   "metadata": {},
   "outputs": [],
   "source": [
    "json_schema = {\n",
    "    \"type\": \"object\",\n",
    "    \"properties\": {\n",
    "        \"themes\": {\n",
    "            \"type\": \"array\",\n",
    "            \"items\": {\n",
    "                \"type\": \"object\",\n",
    "                \"properties\": {\n",
    "                    \"theme\": {\n",
    "                        \"type\": \"string\",\n",
    "                        \"description\": \"Title of the overall theme\"\n",
    "                    },\n",
    "                    \"sentiment\": {\n",
    "                        \"type\": \"object\",\n",
    "                        \"properties\": {\n",
    "                            \"overall\": {\n",
    "                                \"type\": \"string\",\n",
    "                                \"enum\": [\"positive\", \"neutral\", \"negative\"],\n",
    "                                \"description\": \"Overall sentiment of the theme\"\n",
    "                            },\n",
    "                            \"average_score\": {\n",
    "                                \"type\": \"number\",\n",
    "                                \"minimum\": -1,\n",
    "                                \"maximum\": 1,\n",
    "                                \"description\": \"Average sentiment score of the theme\"\n",
    "                            }\n",
    "                        },\n",
    "                        \"required\": [\"overall\", \"average_score\"]\n",
    "                    },\n",
    "                    \"subthemes\": {\n",
    "                        \"type\": \"array\",\n",
    "                        \"items\": {\n",
    "                            \"type\": \"string\"\n",
    "                        },\n",
    "                        \"description\": \"List of keywords or subthemes driving the main theme\"\n",
    "                    },\n",
    "                    \"significance\": {\n",
    "                        \"type\": \"integer\",\n",
    "                        \"minimum\": 1,\n",
    "                        \"maximum\": 100,\n",
    "                        \"description\": \"Significance score of the theme\"\n",
    "                    }\n",
    "                },\n",
    "                \"required\": [\"theme\", \"sentiment\", \"subthemes\", \"significance\"]\n",
    "            }\n",
    "        }\n",
    "    },\n",
    "    \"required\": [\"themes\"]\n",
    "}\n"
   ]
  },
  {
   "cell_type": "code",
   "execution_count": 60,
   "metadata": {},
   "outputs": [
    {
     "name": "stderr",
     "output_type": "stream",
     "text": [
      "/Users/markushenriksson/Desktop/Data/Python/DDBMS-Submission/.conda/lib/python3.12/site-packages/pydantic/fields.py:1032: PydanticDeprecatedSince20:\n",
      "\n",
      "Using extra keyword arguments on `Field` is deprecated and will be removed. Use `json_schema_extra` instead. (Extra keys: 'enum'). Deprecated in Pydantic V2.0 to be removed in V3.0. See Pydantic V2 Migration Guide at https://errors.pydantic.dev/2.10/migration/\n",
      "\n",
      "/Users/markushenriksson/Desktop/Data/Python/DDBMS-Submission/.conda/lib/python3.12/site-packages/pydantic/fields.py:1001: PydanticDeprecatedSince20:\n",
      "\n",
      "`min_items` is deprecated and will be removed, use `min_length` instead. Deprecated in Pydantic V2.0 to be removed in V3.0. See Pydantic V2 Migration Guide at https://errors.pydantic.dev/2.10/migration/\n",
      "\n"
     ]
    }
   ],
   "source": [
    "from pydantic import BaseModel, Field\n",
    "from typing import List, Optional\n",
    "\n",
    "class Sentiment(BaseModel):\n",
    "    overall: str = Field(\n",
    "        description=\"Overall sentiment of the theme\",\n",
    "        enum=[\"positive\", \"neutral\", \"negative\"]\n",
    "    )\n",
    "    average_score: float = Field(\n",
    "        description=\"Average sentiment score of the theme\",\n",
    "        ge=-1,\n",
    "        le=1\n",
    "    )\n",
    "\n",
    "class Theme(BaseModel):\n",
    "    theme: str = Field(description=\"Title of the overall theme\")\n",
    "    sentiment: Sentiment = Field(description=\"Sentiment of the theme\")\n",
    "    subthemes: List[str] = Field(\n",
    "        description=\"List of keywords or subthemes driving the main theme\"\n",
    "    )\n",
    "    significance: int = Field(\n",
    "        description=\"Significance score of the theme\",\n",
    "        ge=1,\n",
    "        le=100\n",
    "    )\n",
    "\n",
    "class TweetAnalysis(BaseModel):\n",
    "    themes: List[Theme] = Field(\n",
    "        description=\"List of identified overall themes\",\n",
    "        min_items=1\n",
    "    )\n",
    "\n",
    "# Dynamically generate the JSON schema\n",
    "json_schema = TweetAnalysis.model_json_schema()\n"
   ]
  },
  {
   "cell_type": "markdown",
   "metadata": {},
   "source": [
    "## LLM-runtime"
   ]
  },
  {
   "cell_type": "code",
   "execution_count": 61,
   "metadata": {},
   "outputs": [
    {
     "name": "stdout",
     "output_type": "stream",
     "text": [
      "Results saved in label_0.json\n"
     ]
    }
   ],
   "source": [
    "import tiktoken\n",
    "import pandas as pd\n",
    "import json\n",
    "import time\n",
    "from concurrent.futures import ThreadPoolExecutor\n",
    "from queue import Queue\n",
    "import threading\n",
    "\n",
    "\n",
    "\n",
    "\n",
    "def rate_limited_executor(max_calls_per_minute=100):\n",
    "    \"\"\"Rate-limited executor for API calls.\"\"\"\n",
    "    call_queue = Queue()\n",
    "\n",
    "\n",
    "\n",
    "\n",
    "    def worker():\n",
    "        while True:\n",
    "            func, args, kwargs, result_queue = call_queue.get()\n",
    "            try:\n",
    "                result_queue.put(func(*args, **kwargs))\n",
    "            except Exception as e:\n",
    "                result_queue.put(e)\n",
    "            call_queue.task_done()\n",
    "            time.sleep(60 / max_calls_per_minute)\n",
    "\n",
    "\n",
    "\n",
    "\n",
    "    for _ in range(max_calls_per_minute):\n",
    "        threading.Thread(target=worker, daemon=True).start()\n",
    "\n",
    "\n",
    "\n",
    "\n",
    "    def submit(func, *args, **kwargs):\n",
    "        result_queue = Queue()\n",
    "        call_queue.put((func, args, kwargs, result_queue))\n",
    "        result = result_queue.get()\n",
    "        if isinstance(result, Exception):\n",
    "            raise result\n",
    "        return result\n",
    "\n",
    "\n",
    "\n",
    "\n",
    "    return submit\n",
    "\n",
    "\n",
    "\n",
    "\n",
    "def process_batch(tweets, executor, model, schema, batch_size):\n",
    "    \"\"\"Process one batch of tweets.\"\"\"\n",
    "    messages = [\n",
    "        {'role': 'system', 'content': SYSTEM_PROMPT},\n",
    "        {'role': 'user', 'content': json.dumps(tweets)}\n",
    "    ]\n",
    "    try:\n",
    "        response = executor(\n",
    "            client.chat.completions.create,\n",
    "            model=model,\n",
    "            messages=messages,\n",
    "            temperature=0.7,\n",
    "            response_format={\"type\": \"json_object\", \"schema\": schema},\n",
    "            max_tokens=8192\n",
    "        )\n",
    "        return {\n",
    "            'batch_size': len(tweets),\n",
    "            'response': response.choices[0].message.content\n",
    "        }\n",
    "    except Exception as e:\n",
    "        return {\n",
    "            'batch_size': len(tweets),\n",
    "            'error': str(e)\n",
    "        }\n",
    "\n",
    "\n",
    "\n",
    "\n",
    "def parallel_process_tweets(data, batch_size, max_workers, model, schema):\n",
    "    \"\"\"Parallel processing of tweets with rate-limiting.\"\"\"\n",
    "    executor = rate_limited_executor(max_calls_per_minute=60)\n",
    "    results = []\n",
    "\n",
    "\n",
    "\n",
    "\n",
    "    def process_and_collect(batch):\n",
    "        tweets = batch['Tweet_text'].tolist()\n",
    "        return process_batch(tweets, executor, model, schema, batch_size)\n",
    "\n",
    "\n",
    "\n",
    "\n",
    "    with ThreadPoolExecutor(max_workers=max_workers) as pool:\n",
    "        batches = [data.iloc[i:i + batch_size] for i in range(0, len(data), batch_size)]\n",
    "        futures = [pool.submit(process_and_collect, batch) for batch in batches]\n",
    "        for future in futures:\n",
    "            results.append(future.result())\n",
    "\n",
    "\n",
    "\n",
    "\n",
    "    return pd.DataFrame(results)\n",
    "\n",
    "\n",
    "\n",
    "\n",
    "def save_results(data, filename):\n",
    "    \"\"\"Save data to JSON file.\"\"\"\n",
    "    try:\n",
    "        with open(filename, 'w', encoding='utf-8') as f:\n",
    "            json.dump(data, f, ensure_ascii=False, indent=4)\n",
    "        print(f\"Results saved in {filename}\")\n",
    "    except Exception as e:\n",
    "        print(f\"Error during saving: {e}\")\n",
    "\n",
    "\n",
    "\n",
    "\n",
    "# Assuming 'data_label_0' is your DataFrame filtered for label 0\n",
    "processed_tweets = parallel_process_tweets(\n",
    "    data=data_label_0,  # Use the data_label_0 DataFrame\n",
    "    batch_size=10,      # Batch size\n",
    "    max_workers=6,     # Number of parallel threads\n",
    "    model=model,        # Your model variable\n",
    "    schema=json_schema  # Your JSON schema variable\n",
    ")\n",
    "\n",
    "\n",
    "\n",
    "\n",
    "# Save the results to label_0_1.json\n",
    "save_results(processed_tweets.to_dict(orient=\"records\"), \"label_0.json\")"
   ]
  },
  {
   "cell_type": "code",
   "execution_count": 65,
   "metadata": {},
   "outputs": [
    {
     "name": "stdout",
     "output_type": "stream",
     "text": [
      "Results saved in label_1.json\n"
     ]
    }
   ],
   "source": [
    "import tiktoken\n",
    "import pandas as pd\n",
    "import json\n",
    "import time\n",
    "from concurrent.futures import ThreadPoolExecutor\n",
    "from queue import Queue\n",
    "import threading\n",
    "\n",
    "def rate_limited_executor(max_calls_per_minute=100):\n",
    "    \"\"\"Rate-limited executor for API calls.\"\"\"\n",
    "    call_queue = Queue()\n",
    "\n",
    "    def worker():\n",
    "        while True:\n",
    "            func, args, kwargs, result_queue = call_queue.get()\n",
    "            try:\n",
    "                result_queue.put(func(*args, **kwargs))\n",
    "            except Exception as e:\n",
    "                result_queue.put(e)\n",
    "            call_queue.task_done()\n",
    "            time.sleep(60 / max_calls_per_minute)\n",
    "\n",
    "    for _ in range(max_calls_per_minute):\n",
    "        threading.Thread(target=worker, daemon=True).start()\n",
    "\n",
    "    def submit(func, *args, **kwargs):\n",
    "        result_queue = Queue()\n",
    "        call_queue.put((func, args, kwargs, result_queue))\n",
    "        result = result_queue.get()\n",
    "        if isinstance(result, Exception):\n",
    "            raise result\n",
    "        return result\n",
    "\n",
    "    return submit\n",
    "\n",
    "def process_batch(tweets, executor, model, schema, batch_size):\n",
    "    \"\"\"Process one batch of tweets.\"\"\"\n",
    "    messages = [\n",
    "        {'role': 'system', 'content': SYSTEM_PROMPT},\n",
    "        {'role': 'user', 'content': json.dumps(tweets)}\n",
    "    ]\n",
    "    try:\n",
    "        response = executor(\n",
    "            client.chat.completions.create,\n",
    "            model=model,\n",
    "            messages=messages,\n",
    "            temperature=0.7,\n",
    "            response_format={\"type\": \"json_object\", \"schema\": schema},\n",
    "            max_tokens=8192\n",
    "        )\n",
    "        return {\n",
    "            'batch_size': len(tweets),\n",
    "            'response': response.choices[0].message.content\n",
    "        }\n",
    "    except Exception as e:\n",
    "        return {\n",
    "            'batch_size': len(tweets),\n",
    "            'error': str(e)\n",
    "        }\n",
    "\n",
    "def parallel_process_tweets(data, batch_size, max_workers, model, schema):\n",
    "    \"\"\"Parallel processing of tweets with rate-limiting.\"\"\"\n",
    "    executor = rate_limited_executor(max_calls_per_minute=60)\n",
    "    results = []\n",
    "\n",
    "    def process_and_collect(batch):\n",
    "        tweets = batch['Tweet_text'].tolist()\n",
    "        return process_batch(tweets, executor, model, schema, batch_size)\n",
    "\n",
    "    with ThreadPoolExecutor(max_workers=max_workers) as pool:\n",
    "        batches = [data.iloc[i:i + batch_size] for i in range(0, len(data), batch_size)]\n",
    "        futures = [pool.submit(process_and_collect, batch) for batch in batches]\n",
    "        for future in futures:\n",
    "            results.append(future.result())\n",
    "\n",
    "    return pd.DataFrame(results)\n",
    "\n",
    "def save_results(data, filename):\n",
    "    \"\"\"Save data to JSON file.\"\"\"\n",
    "    try:\n",
    "        with open(filename, 'w', encoding='utf-8') as f:\n",
    "            json.dump(data, f, ensure_ascii=False, indent=4)\n",
    "        print(f\"Results saved in {filename}\")\n",
    "    except Exception as e:\n",
    "        print(f\"Error during saving: {e}\")\n",
    "\n",
    "# Assuming 'data_label_1' is your DataFrame filtered for label 1\n",
    "processed_tweets = parallel_process_tweets(\n",
    "    data=data_label_1,  # Use the data_label_1 DataFrame\n",
    "    batch_size=10,      # Batch size\n",
    "    max_workers=6,      # Number of parallel threads\n",
    "    model=model,        # Your model variable\n",
    "    schema=json_schema  # Your JSON schema variable\n",
    ")\n",
    "\n",
    "# Save the results to label_1.json\n",
    "save_results(processed_tweets.to_dict(orient=\"records\"), \"label_1.json\")\n"
   ]
  },
  {
   "cell_type": "code",
   "execution_count": 72,
   "metadata": {},
   "outputs": [
    {
     "data": {
      "application/vnd.plotly.v1+json": {
       "config": {
        "plotlyServerURL": "https://plot.ly"
       },
       "data": [
        {
         "hoverinfo": "text",
         "hovertext": [
          "Theme: Tesla Product Development<br>Type: Bot<br>Significance: 80%<br>Subthemes: Tesla Phone, Starlink Integration, Cybertruck Features<br>Sentiment: positive<br>Average Score: 0.8",
          "Theme: Customer Appreciation and Satisfaction<br>Type: Bot<br>Significance: 70%<br>Subthemes: Improved Driving Experience, Customer Support<br>Sentiment: positive<br>Average Score: 0.9",
          "Theme: Tesla Brand and Leadership<br>Type: Bot<br>Significance: 85%<br>Subthemes: Elon Musk, Tesla Team Performance<br>Sentiment: positive<br>Average Score: 0.95",
          "Theme: Industry Trends and Competitiveness<br>Type: Bot<br>Significance: 90%<br>Subthemes: Self-Driving Cars, Robotaxis, Distributed AI Compute<br>Sentiment: positive<br>Average Score: 0.9",
          "Theme: Tesla's Cybertruck<br>Type: Bot<br>Significance: 70%<br>Subthemes: Cybertruck capabilities, truck vs suv debate<br>Sentiment: positive<br>Average Score: 0.9",
          "Theme: Positive Reviews of Tesla's Models<br>Type: Bot<br>Significance: 80%<br>Subthemes: effectiveness of sunshade, impressive performance of Model 3, amazing FSD capabilities<br>Sentiment: positive<br>Average Score: 0.9",
          "Theme: Elon Musk and Tesla Leadership<br>Type: Bot<br>Significance: 70%<br>Subthemes: Elon Musk becoming a pretrillionaire, Tesla's success and differentiation<br>Sentiment: positive<br>Average Score: 0.8",
          "Theme: Tesla Safety and Reliability Concerns<br>Type: Bot<br>Significance: 90%<br>Subthemes: Tesla's ranking on unsafe cars list, German reliability study results<br>Sentiment: negative<br>Average Score: -0.7",
          "Theme: Cybertruck Accidents<br>Type: Bot<br>Significance: 80%<br>Subthemes: Lack of safety features, Human error, Tesla responsibility<br>Sentiment: negative<br>Average Score: -0.7",
          "Theme: Cybertruck Advertising and Popularity<br>Type: Bot<br>Significance: 80%<br>Subthemes: effective advertising,  Tesla fan culture<br>Sentiment: positive<br>Average Score: 0.9",
          "Theme: Cybertruck Ownership and Experiences<br>Type: Bot<br>Significance: 70%<br>Subthemes: ownership experiences,  Tesla community<br>Sentiment: positive<br>Average Score: 0.85",
          "Theme: Cybertruck Safety Concerns<br>Type: Bot<br>Significance: 90%<br>Subthemes: vehicle safety, recalls<br>Sentiment: negative<br>Average Score: -0.85",
          "Theme: Cybertruck Performance and Utility<br>Type: Bot<br>Significance: 85%<br>Subthemes: towing capacity, performance<br>Sentiment: positive<br>Average Score: 0.95",
          "Theme: General Tesla and Electric Vehicles<br>Type: Bot<br>Significance: 80%<br>Subthemes: Tesla brand, electric vehicles<br>Sentiment: positive<br>Average Score: 0.8"
         ],
         "marker": {
          "color": [
           "rgb(34,139,34)",
           "rgb(34,139,34)",
           "rgb(34,139,34)",
           "rgb(34,139,34)",
           "rgb(34,139,34)",
           "rgb(34,139,34)",
           "rgb(34,139,34)",
           "rgb(255,69,0)",
           "rgb(255,69,0)",
           "rgb(34,139,34)",
           "rgb(34,139,34)",
           "rgb(255,69,0)",
           "rgb(34,139,34)",
           "rgb(34,139,34)"
          ],
          "line": {
           "color": "rgb(139,0,0)",
           "width": 1
          },
          "size": [
           26,
           24,
           27,
           28,
           24,
           26,
           24,
           28,
           26,
           26,
           24,
           28,
           27,
           26
          ]
         },
         "mode": "markers",
         "name": "Bot Themes",
         "type": "scatter",
         "x": [
          -12.002538928544471,
          -7.859084441476848,
          -7.899808729284091,
          -6.120461903795979,
          -12.59916147684678,
          -5.557280866689217,
          -10.736709663162385,
          -11.414142818271705,
          -9.72850813058844,
          -15.37634757298381,
          -4.9592617459499095,
          -10.077151137717788,
          -9.364317667141854,
          -6.015204532207349
         ],
         "y": [
          -10.550911717646933,
          -11.633723209133448,
          -8.295599025991786,
          -8.360405029304912,
          -14.493386069701742,
          -13.41171336028215,
          -6.007864799370847,
          -8.519756716394154,
          -11.892197830338269,
          -13.634537662315212,
          -12.153350094278705,
          -10.122830243161749,
          -9.490579804069899,
          -4.007179374894284
         ]
        },
        {
         "hoverinfo": "text",
         "hovertext": [
          "Theme: Tesla's Product Line<br>Type: Non-Bot<br>Significance: 80%<br>Subthemes: Tesla phone, Tesla car, Tesla model Y Juniper<br>Sentiment: positive<br>Average Score: 0.75",
          "Theme: Optimus and Tesla's Ambitions<br>Type: Non-Bot<br>Significance: 70%<br>Subthemes: Tesla Optimus, wild, ambitious<br>Sentiment: positive<br>Average Score: 0.83",
          "Theme: Tesla's Brand and Identity<br>Type: Non-Bot<br>Significance: 85%<br>Subthemes: Tesla's style, Tesla's aesthetic, orange<br>Sentiment: positive<br>Average Score: 0.88",
          "Theme: Tesla's Innovative Designs<br>Type: Non-Bot<br>Significance: 80%<br>Subthemes: cybertruck, cybercab, tesla robots<br>Sentiment: positive<br>Average Score: 0.8",
          "Theme: Elon Musk's Vision and Ambition<br>Type: Non-Bot<br>Significance: 80%<br>Subthemes: Mars colonization, Neuralink, Tesla's mission, Elon's leadership, Humanity's future<br>Sentiment: positive<br>Average Score: 0.8",
          "Theme: Tesla's Products and Innovation<br>Type: Non-Bot<br>Significance: 70%<br>Subthemes: Tesla CyberCab, Robocap, Tesla robot, Innovative technology<br>Sentiment: positive<br>Average Score: 0.9",
          "Theme: Elon Musk's Character and Leadership<br>Type: Non-Bot<br>Significance: 90%<br>Subthemes: Elon's integrity, Leadership style, Inspiration<br>Sentiment: positive<br>Average Score: 0.9",
          "Theme: Tesla Appreciation<br>Type: Non-Bot<br>Significance: 85%<br>Subthemes: car performance, tesla model y, tesla model 3, elon musk, investment in tesla, innovation<br>Sentiment: positive<br>Average Score: 0.9",
          "Theme: Investor Confidence<br>Type: Non-Bot<br>Significance: 80%<br>Subthemes: investing in tesla, elon musk leadership, stock market performance<br>Sentiment: positive<br>Average Score: 0.8",
          "Theme: Tesla Product Features<br>Type: Non-Bot<br>Significance: 90%<br>Subthemes: tesla model y juniper, performance ventilated seats, new interior trim, handling and acceleration<br>Sentiment: positive<br>Average Score: 0.9",
          "Theme: Tesla Model Y Refresh (Project Juniper)<br>Type: Non-Bot<br>Significance: 85%<br>Subthemes: Battery and Charging, Headlights and Tail Lights, Safety Features<br>Sentiment: positive<br>Average Score: 0.81",
          "Theme: Tesla's Efficiency and Range<br>Type: Non-Bot<br>Significance: 78%<br>Subthemes: Electric Vehicle (EV) Efficiency, Range and Charging<br>Sentiment: positive<br>Average Score: 0.93",
          "Theme: Tesla Model Y Review and Maintenance<br>Type: Non-Bot<br>Significance: 75%<br>Subthemes: Reliability and Simplicity of Maintenance, Service and Support<br>Sentiment: positive<br>Average Score: 0.88",
          "Theme: Tesla's Pricing and Incentives<br>Type: Non-Bot<br>Significance: 80%<br>Subthemes: Discounts and Rebates, Financing Options<br>Sentiment: positive<br>Average Score: 0.92",
          "Theme: Tesla Model Y Availability and Accessories<br>Type: Non-Bot<br>Significance: 72%<br>Subthemes: Color Options, Trim Levels and Features<br>Sentiment: positive<br>Average Score: 0.85",
          "Theme: Tesla's Sales Performance<br>Type: Non-Bot<br>Significance: 90%<br>Subthemes: best-selling car, record-breaking sales, market share<br>Sentiment: positive<br>Average Score: 0.8",
          "Theme: Tesla's History and Milestones<br>Type: Non-Bot<br>Significance: 80%<br>Subthemes: launch anniversary, model y production, milestones<br>Sentiment: positive<br>Average Score: 0.7",
          "Theme: Tesla's Competitors and Market Share<br>Type: Non-Bot<br>Significance: 70%<br>Subthemes: competition, market share, ford mustang<br>Sentiment: negative<br>Average Score: -0.3",
          "Theme: Tesla's Product Line and Options<br>Type: Non-Bot<br>Significance: 95%<br>Subthemes: model s, model 3, cybertruck, lease options<br>Sentiment: positive<br>Average Score: 0.9",
          "Theme: Tesla's Global Presence and Sales<br>Type: Non-Bot<br>Significance: 85%<br>Subthemes: japan sales, record-breaking sales, global presence<br>Sentiment: positive<br>Average Score: 0.6",
          "Theme: Model 3 Performance and Features<br>Type: Non-Bot<br>Significance: 80%<br>Subthemes: acceleration, handling, interior design, range, price<br>Sentiment: positive<br>Average Score: 0.83",
          "Theme: Tesla's Innovation and Autonomy<br>Type: Non-Bot<br>Significance: 70%<br>Subthemes: autonomy, ground-up design, future of transportation<br>Sentiment: positive<br>Average Score: 0.93",
          "Theme: Model 3 Value and Pricing<br>Type: Non-Bot<br>Significance: 80%<br>Subthemes: price, value for money<br>Sentiment: positive<br>Average Score: 0.9",
          "Theme: New Tesla Model 3 Features<br>Type: Non-Bot<br>Significance: 80%<br>Subthemes: Range Increase, New Rear Passenger Screen, Stalkless Steering, Reduced Road Noise, Upgraded Suspension, Ventilated Front Seats, Improved Audio<br>Sentiment: positive<br>Average Score: 0.8",
          "Theme: Model 3 Performance and Price<br>Type: Non-Bot<br>Significance: 70%<br>Subthemes: Lamborghini Performance at Fraction of Price, Value for Money<br>Sentiment: positive<br>Average Score: 0.9",
          "Theme: New Features and Upgrades<br>Type: Non-Bot<br>Significance: 80%<br>Subthemes: Increased Range, Aesthetic Enhancements, Upgraded Features, Performance Improvements<br>Sentiment: positive<br>Average Score: 0.85",
          "Theme: Tesla Model 3 Availability<br>Type: Non-Bot<br>Significance: 75%<br>Subthemes: Availability in New Markets, Refreshed Version, New Pricing Options<br>Sentiment: positive<br>Average Score: 0.9",
          "Theme: Warranty and Maintenance<br>Type: Non-Bot<br>Significance: 85%<br>Subthemes: Depreciation, Cost Savings, Potential Income Streams<br>Sentiment: positive<br>Average Score: 0.9",
          "Theme: Event and Release Information<br>Type: Non-Bot<br>Significance: 70%<br>Subthemes: New Model Releases, Special Offers, Event Promotions<br>Sentiment: positive<br>Average Score: 0.8",
          "Theme: Tesla Model 3 Praise<br>Type: Non-Bot<br>Significance: 80%<br>Subthemes: performance, technology, efficiency, driving_range<br>Sentiment: positive<br>Average Score: 0.8",
          "Theme: Tesla Cybertruck Safety Concerns<br>Type: Non-Bot<br>Significance: 70%<br>Subthemes: cybertruck accidents, electrical vehicle fires, autonomous vehicles, environmental impact<br>Sentiment: negative<br>Average Score: -0.7",
          "Theme: Cybertruck Quality and Defects<br>Type: Non-Bot<br>Significance: 80%<br>Subthemes: defective wheels, unreliable performance, ugly design<br>Sentiment: negative<br>Average Score: -0.7",
          "Theme: Cybertruck Enthusiasm and Range<br>Type: Non-Bot<br>Significance: 70%<br>Subthemes: unlimited range, impressive design<br>Sentiment: positive<br>Average Score: 0.9",
          "Theme: Cybertruck Performance and Capability<br>Type: Non-Bot<br>Significance: 90%<br>Subthemes: impressive off-road performance, beast mode<br>Sentiment: positive<br>Average Score: 0.8",
          "Theme: Negative Public Perception<br>Type: Non-Bot<br>Significance: 85%<br>Subthemes: comedy and ridicule, environmental concerns, safety issues, unrealistic expectations, poor reviews<br>Sentiment: negative<br>Average Score: -0.67",
          "Theme: Cybertruck Performance<br>Type: Non-Bot<br>Significance: 95%<br>Subthemes: ride quality, air suspension, four-wheel steering, Acceleration, Handling<br>Sentiment: positive<br>Average Score: 0.58",
          "Theme: Ownership Experience<br>Type: Non-Bot<br>Significance: 90%<br>Subthemes: amazing driving experience, impressive technology, beautiful design, satisfaction with purchase<br>Sentiment: positive<br>Average Score: 0.83",
          "Theme: Cybertruck Safety<br>Type: Non-Bot<br>Significance: 88%<br>Subthemes: vehicle fires, accidents involving pedestrians, stuck windows, trapped and burned, safety concerns<br>Sentiment: negative<br>Average Score: -0.83",
          "Theme: Cybertruck Design and Features<br>Type: Non-Bot<br>Significance: 87%<br>Subthemes: Aesthetics, Performance, Technology Integration<br>Sentiment: positive<br>Average Score: 0.64",
          "Theme: Cybertruck Ownership and Experience<br>Type: Non-Bot<br>Significance: 73%<br>Subthemes: Problems with Design, Annoyances with Technology<br>Sentiment: negative<br>Average Score: -0.51",
          "Theme: Cybertruck Adventure and Travel<br>Type: Non-Bot<br>Significance: 81%<br>Subthemes: Travel and Exploration, Adventurous Spirit<br>Sentiment: positive<br>Average Score: 0.82"
         ],
         "marker": {
          "color": [
           "rgb(30,144,255)",
           "rgb(30,144,255)",
           "rgb(30,144,255)",
           "rgb(30,144,255)",
           "rgb(30,144,255)",
           "rgb(30,144,255)",
           "rgb(30,144,255)",
           "rgb(30,144,255)",
           "rgb(30,144,255)",
           "rgb(30,144,255)",
           "rgb(30,144,255)",
           "rgb(30,144,255)",
           "rgb(30,144,255)",
           "rgb(30,144,255)",
           "rgb(30,144,255)",
           "rgb(30,144,255)",
           "rgb(30,144,255)",
           "rgb(255,99,71)",
           "rgb(30,144,255)",
           "rgb(30,144,255)",
           "rgb(30,144,255)",
           "rgb(30,144,255)",
           "rgb(30,144,255)",
           "rgb(30,144,255)",
           "rgb(30,144,255)",
           "rgb(30,144,255)",
           "rgb(30,144,255)",
           "rgb(30,144,255)",
           "rgb(30,144,255)",
           "rgb(30,144,255)",
           "rgb(255,99,71)",
           "rgb(255,99,71)",
           "rgb(30,144,255)",
           "rgb(30,144,255)",
           "rgb(255,99,71)",
           "rgb(30,144,255)",
           "rgb(30,144,255)",
           "rgb(255,99,71)",
           "rgb(30,144,255)",
           "rgb(255,99,71)",
           "rgb(30,144,255)"
          ],
          "line": {
           "color": "rgb(0,100,0)",
           "width": 1
          },
          "size": [
           26,
           24,
           27,
           26,
           26,
           24,
           28,
           27,
           26,
           28,
           27,
           25.6,
           25,
           26,
           24.4,
           28,
           26,
           24,
           29,
           27,
           26,
           24,
           26,
           26,
           24,
           26,
           25,
           27,
           24,
           26,
           24,
           26,
           24,
           28,
           27,
           29,
           28,
           27.6,
           27.4,
           24.6,
           26.2
          ]
         },
         "mode": "markers",
         "name": "Non-Bot Themes",
         "type": "scatter",
         "x": [
          7.599275801762064,
          12.94365856210156,
          14.477416260899753,
          8.437640657317818,
          6.407367698505351,
          13.055315971005145,
          7.934711103810891,
          6.334523015305279,
          7.793214132185077,
          7.956754282316752,
          4.654162144541227,
          10.058862372125649,
          10.626593854945893,
          10.470374869069317,
          13.710839764599207,
          12.435743470086859,
          6.3860851236833,
          7.073076693858416,
          13.371742841978463,
          9.374691873968791,
          7.374026525052513,
          4.753733904804973,
          11.03508137811564,
          10.356933435894117,
          9.616931020409488,
          8.824377789535747,
          14.335539632639067,
          11.605443713600321,
          11.020671812791122,
          8.951880747378832,
          11.215007007179212,
          12.994710154711921,
          13.593044992135297,
          12.188793869777456,
          9.60172502166132,
          6.81972502159238,
          6.061237470457353,
          8.609196306482161,
          12.818188063622138,
          13.141230257065558,
          9.236611070900052
         ],
         "y": [
          7.312252308381991,
          12.181173358393567,
          9.196567088823217,
          7.517362295249958,
          3.7075032282739384,
          9.476093523478378,
          13.114582255958085,
          7.543505509101773,
          11.330174559741115,
          5.3381649420193735,
          14.694654745370512,
          9.304835925792082,
          10.181922031870899,
          9.12032318161458,
          4.566226526558592,
          15.253284483971624,
          6.077290282139592,
          14.807275988526603,
          10.351323435132889,
          7.745920073682923,
          7.014312923373915,
          9.989424786797434,
          10.741119152611825,
          10.761024717608521,
          10.060394703957114,
          14.147942648521441,
          10.790612212539655,
          10.562468236202319,
          10.859416327537515,
          11.090630493612167,
          10.519045627533922,
          12.370563838599503,
          8.991866787857402,
          17.013316806081633,
          8.150948293939956,
          7.439508023345799,
          9.955693230055296,
          12.599413578870006,
          8.159745542252175,
          13.148983055458306,
          5.644172425291357
         ]
        }
       ],
       "layout": {
        "height": 800,
        "hovermode": "closest",
        "legend": {
         "bgcolor": "rgba(255,255,255,0.5)",
         "bordercolor": "black",
         "borderwidth": 1,
         "x": 0.85,
         "y": 1
        },
        "plot_bgcolor": "rgb(240,240,240)",
        "showlegend": true,
        "template": {
         "data": {
          "bar": [
           {
            "error_x": {
             "color": "#2a3f5f"
            },
            "error_y": {
             "color": "#2a3f5f"
            },
            "marker": {
             "line": {
              "color": "#E5ECF6",
              "width": 0.5
             },
             "pattern": {
              "fillmode": "overlay",
              "size": 10,
              "solidity": 0.2
             }
            },
            "type": "bar"
           }
          ],
          "barpolar": [
           {
            "marker": {
             "line": {
              "color": "#E5ECF6",
              "width": 0.5
             },
             "pattern": {
              "fillmode": "overlay",
              "size": 10,
              "solidity": 0.2
             }
            },
            "type": "barpolar"
           }
          ],
          "carpet": [
           {
            "aaxis": {
             "endlinecolor": "#2a3f5f",
             "gridcolor": "white",
             "linecolor": "white",
             "minorgridcolor": "white",
             "startlinecolor": "#2a3f5f"
            },
            "baxis": {
             "endlinecolor": "#2a3f5f",
             "gridcolor": "white",
             "linecolor": "white",
             "minorgridcolor": "white",
             "startlinecolor": "#2a3f5f"
            },
            "type": "carpet"
           }
          ],
          "choropleth": [
           {
            "colorbar": {
             "outlinewidth": 0,
             "ticks": ""
            },
            "type": "choropleth"
           }
          ],
          "contour": [
           {
            "colorbar": {
             "outlinewidth": 0,
             "ticks": ""
            },
            "colorscale": [
             [
              0,
              "#0d0887"
             ],
             [
              0.1111111111111111,
              "#46039f"
             ],
             [
              0.2222222222222222,
              "#7201a8"
             ],
             [
              0.3333333333333333,
              "#9c179e"
             ],
             [
              0.4444444444444444,
              "#bd3786"
             ],
             [
              0.5555555555555556,
              "#d8576b"
             ],
             [
              0.6666666666666666,
              "#ed7953"
             ],
             [
              0.7777777777777778,
              "#fb9f3a"
             ],
             [
              0.8888888888888888,
              "#fdca26"
             ],
             [
              1,
              "#f0f921"
             ]
            ],
            "type": "contour"
           }
          ],
          "contourcarpet": [
           {
            "colorbar": {
             "outlinewidth": 0,
             "ticks": ""
            },
            "type": "contourcarpet"
           }
          ],
          "heatmap": [
           {
            "colorbar": {
             "outlinewidth": 0,
             "ticks": ""
            },
            "colorscale": [
             [
              0,
              "#0d0887"
             ],
             [
              0.1111111111111111,
              "#46039f"
             ],
             [
              0.2222222222222222,
              "#7201a8"
             ],
             [
              0.3333333333333333,
              "#9c179e"
             ],
             [
              0.4444444444444444,
              "#bd3786"
             ],
             [
              0.5555555555555556,
              "#d8576b"
             ],
             [
              0.6666666666666666,
              "#ed7953"
             ],
             [
              0.7777777777777778,
              "#fb9f3a"
             ],
             [
              0.8888888888888888,
              "#fdca26"
             ],
             [
              1,
              "#f0f921"
             ]
            ],
            "type": "heatmap"
           }
          ],
          "heatmapgl": [
           {
            "colorbar": {
             "outlinewidth": 0,
             "ticks": ""
            },
            "colorscale": [
             [
              0,
              "#0d0887"
             ],
             [
              0.1111111111111111,
              "#46039f"
             ],
             [
              0.2222222222222222,
              "#7201a8"
             ],
             [
              0.3333333333333333,
              "#9c179e"
             ],
             [
              0.4444444444444444,
              "#bd3786"
             ],
             [
              0.5555555555555556,
              "#d8576b"
             ],
             [
              0.6666666666666666,
              "#ed7953"
             ],
             [
              0.7777777777777778,
              "#fb9f3a"
             ],
             [
              0.8888888888888888,
              "#fdca26"
             ],
             [
              1,
              "#f0f921"
             ]
            ],
            "type": "heatmapgl"
           }
          ],
          "histogram": [
           {
            "marker": {
             "pattern": {
              "fillmode": "overlay",
              "size": 10,
              "solidity": 0.2
             }
            },
            "type": "histogram"
           }
          ],
          "histogram2d": [
           {
            "colorbar": {
             "outlinewidth": 0,
             "ticks": ""
            },
            "colorscale": [
             [
              0,
              "#0d0887"
             ],
             [
              0.1111111111111111,
              "#46039f"
             ],
             [
              0.2222222222222222,
              "#7201a8"
             ],
             [
              0.3333333333333333,
              "#9c179e"
             ],
             [
              0.4444444444444444,
              "#bd3786"
             ],
             [
              0.5555555555555556,
              "#d8576b"
             ],
             [
              0.6666666666666666,
              "#ed7953"
             ],
             [
              0.7777777777777778,
              "#fb9f3a"
             ],
             [
              0.8888888888888888,
              "#fdca26"
             ],
             [
              1,
              "#f0f921"
             ]
            ],
            "type": "histogram2d"
           }
          ],
          "histogram2dcontour": [
           {
            "colorbar": {
             "outlinewidth": 0,
             "ticks": ""
            },
            "colorscale": [
             [
              0,
              "#0d0887"
             ],
             [
              0.1111111111111111,
              "#46039f"
             ],
             [
              0.2222222222222222,
              "#7201a8"
             ],
             [
              0.3333333333333333,
              "#9c179e"
             ],
             [
              0.4444444444444444,
              "#bd3786"
             ],
             [
              0.5555555555555556,
              "#d8576b"
             ],
             [
              0.6666666666666666,
              "#ed7953"
             ],
             [
              0.7777777777777778,
              "#fb9f3a"
             ],
             [
              0.8888888888888888,
              "#fdca26"
             ],
             [
              1,
              "#f0f921"
             ]
            ],
            "type": "histogram2dcontour"
           }
          ],
          "mesh3d": [
           {
            "colorbar": {
             "outlinewidth": 0,
             "ticks": ""
            },
            "type": "mesh3d"
           }
          ],
          "parcoords": [
           {
            "line": {
             "colorbar": {
              "outlinewidth": 0,
              "ticks": ""
             }
            },
            "type": "parcoords"
           }
          ],
          "pie": [
           {
            "automargin": true,
            "type": "pie"
           }
          ],
          "scatter": [
           {
            "fillpattern": {
             "fillmode": "overlay",
             "size": 10,
             "solidity": 0.2
            },
            "type": "scatter"
           }
          ],
          "scatter3d": [
           {
            "line": {
             "colorbar": {
              "outlinewidth": 0,
              "ticks": ""
             }
            },
            "marker": {
             "colorbar": {
              "outlinewidth": 0,
              "ticks": ""
             }
            },
            "type": "scatter3d"
           }
          ],
          "scattercarpet": [
           {
            "marker": {
             "colorbar": {
              "outlinewidth": 0,
              "ticks": ""
             }
            },
            "type": "scattercarpet"
           }
          ],
          "scattergeo": [
           {
            "marker": {
             "colorbar": {
              "outlinewidth": 0,
              "ticks": ""
             }
            },
            "type": "scattergeo"
           }
          ],
          "scattergl": [
           {
            "marker": {
             "colorbar": {
              "outlinewidth": 0,
              "ticks": ""
             }
            },
            "type": "scattergl"
           }
          ],
          "scattermapbox": [
           {
            "marker": {
             "colorbar": {
              "outlinewidth": 0,
              "ticks": ""
             }
            },
            "type": "scattermapbox"
           }
          ],
          "scatterpolar": [
           {
            "marker": {
             "colorbar": {
              "outlinewidth": 0,
              "ticks": ""
             }
            },
            "type": "scatterpolar"
           }
          ],
          "scatterpolargl": [
           {
            "marker": {
             "colorbar": {
              "outlinewidth": 0,
              "ticks": ""
             }
            },
            "type": "scatterpolargl"
           }
          ],
          "scatterternary": [
           {
            "marker": {
             "colorbar": {
              "outlinewidth": 0,
              "ticks": ""
             }
            },
            "type": "scatterternary"
           }
          ],
          "surface": [
           {
            "colorbar": {
             "outlinewidth": 0,
             "ticks": ""
            },
            "colorscale": [
             [
              0,
              "#0d0887"
             ],
             [
              0.1111111111111111,
              "#46039f"
             ],
             [
              0.2222222222222222,
              "#7201a8"
             ],
             [
              0.3333333333333333,
              "#9c179e"
             ],
             [
              0.4444444444444444,
              "#bd3786"
             ],
             [
              0.5555555555555556,
              "#d8576b"
             ],
             [
              0.6666666666666666,
              "#ed7953"
             ],
             [
              0.7777777777777778,
              "#fb9f3a"
             ],
             [
              0.8888888888888888,
              "#fdca26"
             ],
             [
              1,
              "#f0f921"
             ]
            ],
            "type": "surface"
           }
          ],
          "table": [
           {
            "cells": {
             "fill": {
              "color": "#EBF0F8"
             },
             "line": {
              "color": "white"
             }
            },
            "header": {
             "fill": {
              "color": "#C8D4E3"
             },
             "line": {
              "color": "white"
             }
            },
            "type": "table"
           }
          ]
         },
         "layout": {
          "annotationdefaults": {
           "arrowcolor": "#2a3f5f",
           "arrowhead": 0,
           "arrowwidth": 1
          },
          "autotypenumbers": "strict",
          "coloraxis": {
           "colorbar": {
            "outlinewidth": 0,
            "ticks": ""
           }
          },
          "colorscale": {
           "diverging": [
            [
             0,
             "#8e0152"
            ],
            [
             0.1,
             "#c51b7d"
            ],
            [
             0.2,
             "#de77ae"
            ],
            [
             0.3,
             "#f1b6da"
            ],
            [
             0.4,
             "#fde0ef"
            ],
            [
             0.5,
             "#f7f7f7"
            ],
            [
             0.6,
             "#e6f5d0"
            ],
            [
             0.7,
             "#b8e186"
            ],
            [
             0.8,
             "#7fbc41"
            ],
            [
             0.9,
             "#4d9221"
            ],
            [
             1,
             "#276419"
            ]
           ],
           "sequential": [
            [
             0,
             "#0d0887"
            ],
            [
             0.1111111111111111,
             "#46039f"
            ],
            [
             0.2222222222222222,
             "#7201a8"
            ],
            [
             0.3333333333333333,
             "#9c179e"
            ],
            [
             0.4444444444444444,
             "#bd3786"
            ],
            [
             0.5555555555555556,
             "#d8576b"
            ],
            [
             0.6666666666666666,
             "#ed7953"
            ],
            [
             0.7777777777777778,
             "#fb9f3a"
            ],
            [
             0.8888888888888888,
             "#fdca26"
            ],
            [
             1,
             "#f0f921"
            ]
           ],
           "sequentialminus": [
            [
             0,
             "#0d0887"
            ],
            [
             0.1111111111111111,
             "#46039f"
            ],
            [
             0.2222222222222222,
             "#7201a8"
            ],
            [
             0.3333333333333333,
             "#9c179e"
            ],
            [
             0.4444444444444444,
             "#bd3786"
            ],
            [
             0.5555555555555556,
             "#d8576b"
            ],
            [
             0.6666666666666666,
             "#ed7953"
            ],
            [
             0.7777777777777778,
             "#fb9f3a"
            ],
            [
             0.8888888888888888,
             "#fdca26"
            ],
            [
             1,
             "#f0f921"
            ]
           ]
          },
          "colorway": [
           "#636efa",
           "#EF553B",
           "#00cc96",
           "#ab63fa",
           "#FFA15A",
           "#19d3f3",
           "#FF6692",
           "#B6E880",
           "#FF97FF",
           "#FECB52"
          ],
          "font": {
           "color": "#2a3f5f"
          },
          "geo": {
           "bgcolor": "white",
           "lakecolor": "white",
           "landcolor": "#E5ECF6",
           "showlakes": true,
           "showland": true,
           "subunitcolor": "white"
          },
          "hoverlabel": {
           "align": "left"
          },
          "hovermode": "closest",
          "mapbox": {
           "style": "light"
          },
          "paper_bgcolor": "white",
          "plot_bgcolor": "#E5ECF6",
          "polar": {
           "angularaxis": {
            "gridcolor": "white",
            "linecolor": "white",
            "ticks": ""
           },
           "bgcolor": "#E5ECF6",
           "radialaxis": {
            "gridcolor": "white",
            "linecolor": "white",
            "ticks": ""
           }
          },
          "scene": {
           "xaxis": {
            "backgroundcolor": "#E5ECF6",
            "gridcolor": "white",
            "gridwidth": 2,
            "linecolor": "white",
            "showbackground": true,
            "ticks": "",
            "zerolinecolor": "white"
           },
           "yaxis": {
            "backgroundcolor": "#E5ECF6",
            "gridcolor": "white",
            "gridwidth": 2,
            "linecolor": "white",
            "showbackground": true,
            "ticks": "",
            "zerolinecolor": "white"
           },
           "zaxis": {
            "backgroundcolor": "#E5ECF6",
            "gridcolor": "white",
            "gridwidth": 2,
            "linecolor": "white",
            "showbackground": true,
            "ticks": "",
            "zerolinecolor": "white"
           }
          },
          "shapedefaults": {
           "line": {
            "color": "#2a3f5f"
           }
          },
          "ternary": {
           "aaxis": {
            "gridcolor": "white",
            "linecolor": "white",
            "ticks": ""
           },
           "baxis": {
            "gridcolor": "white",
            "linecolor": "white",
            "ticks": ""
           },
           "bgcolor": "#E5ECF6",
           "caxis": {
            "gridcolor": "white",
            "linecolor": "white",
            "ticks": ""
           }
          },
          "title": {
           "x": 0.05
          },
          "xaxis": {
           "automargin": true,
           "gridcolor": "white",
           "linecolor": "white",
           "ticks": "",
           "title": {
            "standoff": 15
           },
           "zerolinecolor": "white",
           "zerolinewidth": 2
          },
          "yaxis": {
           "automargin": true,
           "gridcolor": "white",
           "linecolor": "white",
           "ticks": "",
           "title": {
            "standoff": 15
           },
           "zerolinecolor": "white",
           "zerolinewidth": 2
          }
         }
        },
        "title": {
         "text": "Theme Network Visualization"
        },
        "width": 1000,
        "xaxis": {
         "showgrid": false,
         "showticklabels": false,
         "title": {
          "text": "X-axis"
         },
         "zeroline": false
        },
        "yaxis": {
         "showgrid": false,
         "showticklabels": false,
         "title": {
          "text": "Y-axis"
         },
         "zeroline": false
        }
       }
      }
     },
     "metadata": {},
     "output_type": "display_data"
    }
   ],
   "source": [
    "import json\n",
    "import networkx as nx\n",
    "import plotly.graph_objects as go\n",
    "import numpy as np\n",
    "\n",
    "def load_json_file(file_path):\n",
    "    \"\"\"Load JSON file safely.\"\"\"\n",
    "    try:\n",
    "        with open(file_path, 'r', encoding='utf-8') as file:\n",
    "            return json.load(file)\n",
    "    except Exception as e:\n",
    "        print(f\"Error loading JSON file {file_path}: {e}\")\n",
    "        return []\n",
    "\n",
    "def create_theme_network(data_bot, data_nonbot, min_significance=70):\n",
    "    \"\"\"Create a network graph from themes with a minimum significance level.\"\"\"\n",
    "    G = nx.Graph()\n",
    "\n",
    "    def process_data(data, is_bot=True):\n",
    "        for item in data:\n",
    "            response = item.get('response')\n",
    "            if isinstance(response, str):\n",
    "                try:\n",
    "                    response_data = json.loads(response)\n",
    "                    themes = response_data.get('themes', [])\n",
    "\n",
    "                    for theme in themes:\n",
    "                        significance = theme.get('significance', 0)\n",
    "                        if significance >= min_significance:\n",
    "                            theme_name = theme['theme']\n",
    "                            sentiment = theme.get('sentiment', {})\n",
    "                            average_score = sentiment.get('average_score', 0)\n",
    "\n",
    "                            # Classify sentiment based on average score\n",
    "                            sentiment_class = \"positive\" if average_score > 0 else \"negative\"\n",
    "                            \n",
    "                            subthemes = theme.get('subthemes', [])\n",
    "\n",
    "                            # Add or update theme node\n",
    "                            if not G.has_node(theme_name):\n",
    "                                G.add_node(theme_name,\n",
    "                                           type='theme',\n",
    "                                           is_bot=is_bot,\n",
    "                                           significance=significance,\n",
    "                                           sentiment_class=sentiment_class,\n",
    "                                           average_score=average_score,\n",
    "                                           subthemes=subthemes)\n",
    "                            else:\n",
    "                                # If node exists and bot status is different, mark as mixed\n",
    "                                current_bot_status = G.nodes[theme_name].get('is_bot')\n",
    "                                if current_bot_status != is_bot:\n",
    "                                    G.nodes[theme_name]['is_bot'] = 'mixed'\n",
    "\n",
    "                except json.JSONDecodeError:\n",
    "                    print(f\"Invalid JSON in response: {response}\")\n",
    "\n",
    "    # Process bot and non-bot data\n",
    "    process_data(data_bot, is_bot=True)\n",
    "    process_data(data_nonbot, is_bot=False)\n",
    "\n",
    "    return G\n",
    "\n",
    "def visualize_network(G):\n",
    "    \"\"\"Visualize bot, non-bot, and mixed themes in clustered regions.\"\"\"\n",
    "    # Separate nodes by bot status\n",
    "    bot_nodes = [node for node, data in G.nodes(data=True) if data.get('is_bot') == True]\n",
    "    nonbot_nodes = [node for node, data in G.nodes(data=True) if data.get('is_bot') == False]\n",
    "    mixed_nodes = [node for node, data in G.nodes(data=True) if data.get('is_bot') == 'mixed']\n",
    "\n",
    "    # Create traces for each category\n",
    "    traces = []\n",
    "\n",
    "    # Function to determine node size based on significance\n",
    "    def get_node_size(significance):\n",
    "        return 10 + (significance / 5)  # Adjust the scaling factor as needed\n",
    "\n",
    "    # Color mapping for sentiment and bot type (More distinct colors)\n",
    "    def get_node_color(is_bot, sentiment_class):\n",
    "        if is_bot and sentiment_class == 'positive':\n",
    "            return 'rgb(34,139,34)'  # Positive Bot - Forest Green\n",
    "        elif is_bot and sentiment_class == 'negative':\n",
    "            return 'rgb(255,69,0)'  # Negative Bot - Red Orange\n",
    "        elif not is_bot and sentiment_class == 'positive':\n",
    "            return 'rgb(30,144,255)'  # Positive Non-Bot - Dodger Blue\n",
    "        elif not is_bot and sentiment_class == 'negative':\n",
    "            return 'rgb(255,99,71)'  # Negative Non-Bot - Tomato\n",
    "\n",
    "    # Bot nodes - clustered in bottom left\n",
    "    if bot_nodes:\n",
    "        bot_x = np.random.normal(loc=-10, scale=3, size=len(bot_nodes))  # Increase scale for more spread\n",
    "        bot_y = np.random.normal(loc=-10, scale=3, size=len(bot_nodes))  # Increase scale for more spread\n",
    "        bot_sizes = [get_node_size(G.nodes[node]['significance']) for node in bot_nodes]\n",
    "        bot_colors = [get_node_color(G.nodes[node]['is_bot'], G.nodes[node]['sentiment_class']) for node in bot_nodes]\n",
    "        bot_trace = go.Scatter(\n",
    "            x=bot_x,\n",
    "            y=bot_y,\n",
    "            mode='markers',\n",
    "            hovertext=[\n",
    "                f\"Theme: {node}<br>\"\n",
    "                f\"Type: Bot<br>\"\n",
    "                f\"Significance: {G.nodes[node]['significance']}%<br>\"\n",
    "                f\"Subthemes: {', '.join(G.nodes[node].get('subthemes', []))}<br>\"\n",
    "                f\"Sentiment: {G.nodes[node]['sentiment_class']}<br>\"\n",
    "                f\"Average Score: {G.nodes[node]['average_score']}\"\n",
    "                for node in bot_nodes\n",
    "            ],\n",
    "            hoverinfo='text',\n",
    "            marker=dict(\n",
    "                size=bot_sizes,\n",
    "                color=bot_colors,  # Color based on sentiment\n",
    "                line=dict(width=1, color='rgb(139,0,0)')  # Dark red\n",
    "            ),\n",
    "            name='Bot Themes'\n",
    "        )\n",
    "        traces.append(bot_trace)\n",
    "\n",
    "    # Non-bot nodes - clustered in top right\n",
    "    if nonbot_nodes:\n",
    "        nonbot_x = np.random.normal(loc=10, scale=3, size=len(nonbot_nodes))  # Increase scale for more spread\n",
    "        nonbot_y = np.random.normal(loc=10, scale=3, size=len(nonbot_nodes))  # Increase scale for more spread\n",
    "        nonbot_sizes = [get_node_size(G.nodes[node]['significance']) for node in nonbot_nodes]\n",
    "        nonbot_colors = [get_node_color(G.nodes[node]['is_bot'], G.nodes[node]['sentiment_class']) for node in nonbot_nodes]\n",
    "        nonbot_trace = go.Scatter(\n",
    "            x=nonbot_x,\n",
    "            y=nonbot_y,\n",
    "            mode='markers',\n",
    "            hovertext=[\n",
    "                f\"Theme: {node}<br>\"\n",
    "                f\"Type: Non-Bot<br>\"\n",
    "                f\"Significance: {G.nodes[node]['significance']}%<br>\"\n",
    "                f\"Subthemes: {', '.join(G.nodes[node].get('subthemes', []))}<br>\"\n",
    "                f\"Sentiment: {G.nodes[node]['sentiment_class']}<br>\"\n",
    "                f\"Average Score: {G.nodes[node]['average_score']}\"\n",
    "                for node in nonbot_nodes\n",
    "            ],\n",
    "            hoverinfo='text',\n",
    "            marker=dict(\n",
    "                size=nonbot_sizes,\n",
    "                color=nonbot_colors,  # Color based on sentiment\n",
    "                line=dict(width=1, color='rgb(0,100,0)')  # Dark green\n",
    "            ),\n",
    "            name='Non-Bot Themes'\n",
    "        )\n",
    "        traces.append(nonbot_trace)\n",
    "\n",
    "    # Mixed nodes - clustered in center\n",
    "    if mixed_nodes:\n",
    "        mixed_x = np.random.normal(loc=0, scale=3, size=len(mixed_nodes))  # Increase scale for more spread\n",
    "        mixed_y = np.random.normal(loc=0, scale=3, size=len(mixed_nodes))  # Increase scale for more spread\n",
    "        mixed_sizes = [get_node_size(G.nodes[node]['significance']) for node in mixed_nodes]\n",
    "        mixed_colors = [get_node_color(G.nodes[node]['is_bot'], G.nodes[node]['sentiment_class']) for node in mixed_nodes]\n",
    "        mixed_trace = go.Scatter(\n",
    "            x=mixed_x,\n",
    "            y=mixed_y,\n",
    "            mode='markers',\n",
    "            hovertext=[\n",
    "                f\"Theme: {node}<br>\"\n",
    "                f\"Type: Mixed<br>\"\n",
    "                f\"Significance: {G.nodes[node]['significance']}%<br>\"\n",
    "                f\"Subthemes: {', '.join(G.nodes[node].get('subthemes', []))}<br>\"\n",
    "                f\"Sentiment: {G.nodes[node]['sentiment_class']}<br>\"\n",
    "                f\"Average Score: {G.nodes[node]['average_score']}\"\n",
    "                for node in mixed_nodes\n",
    "            ],\n",
    "            hoverinfo='text',\n",
    "            marker=dict(\n",
    "                size=mixed_sizes,\n",
    "                color=mixed_colors,  # Color based on sentiment\n",
    "                line=dict(width=1, color='rgb(75,0,130)')  # Indigo\n",
    "            ),\n",
    "            name='Mixed Themes'\n",
    "        )\n",
    "        traces.append(mixed_trace)\n",
    "\n",
    "    # Create figure\n",
    "    fig = go.Figure(data=traces)\n",
    "\n",
    "    # Update layout for better visualization\n",
    "    fig.update_layout(\n",
    "        title=\"Theme Network Visualization\",\n",
    "        showlegend=True,\n",
    "        hovermode='closest',\n",
    "        width=1000,\n",
    "        height=800,\n",
    "        xaxis=dict(\n",
    "            title=\"X-axis\",\n",
    "            showgrid=False,\n",
    "            zeroline=False,\n",
    "            showticklabels=False\n",
    "        ),\n",
    "        yaxis=dict(\n",
    "            title=\"Y-axis\",\n",
    "            showgrid=False,\n",
    "            zeroline=False,\n",
    "            showticklabels=False\n",
    "        ),\n",
    "        plot_bgcolor='rgb(240,240,240)',  # Light grey background\n",
    "        legend=dict(\n",
    "            x=0.85,\n",
    "            y=1,\n",
    "            bgcolor='rgba(255,255,255,0.5)',\n",
    "            bordercolor='black',\n",
    "            borderwidth=1\n",
    "        )\n",
    "    )\n",
    "\n",
    "    fig.show()\n",
    "\n",
    "\n",
    "if __name__ == \"__main__\":\n",
    "    # Load bot and non-bot data\n",
    "    bot_data = load_json_file('label_1.json')  # Bot data\n",
    "    nonbot_data = load_json_file('label_0.json')  # Non-bot data\n",
    "\n",
    "    # Create and visualize the graph\n",
    "    graph = create_theme_network(bot_data, nonbot_data, min_significance=70)\n",
    "    visualize_network(graph)\n"
   ]
  }
 ],
 "metadata": {
  "kernelspec": {
   "display_name": "base",
   "language": "python",
   "name": "python3"
  },
  "language_info": {
   "codemirror_mode": {
    "name": "ipython",
    "version": 3
   },
   "file_extension": ".py",
   "mimetype": "text/x-python",
   "name": "python",
   "nbconvert_exporter": "python",
   "pygments_lexer": "ipython3",
   "version": "3.12.7"
  }
 },
 "nbformat": 4,
 "nbformat_minor": 2
}
