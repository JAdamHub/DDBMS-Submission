{
 "cells": [
  {
   "cell_type": "markdown",
   "metadata": {},
   "source": [
    "# SetFit Model Validation Notebook 🧪🤖\n",
    "\n",
    "In this notebook, we will explore the validation process of our model designed to classify tweets as either bot-generated or human-generated. 🐦✨\n",
    "\n",
    "### Why Validation? 🔍\n",
    "Validation of our SetFit model is crucial to assess its performance against real-world data. By comparing our model's predictions with the TwiBot-22 benchmark dataset, we ensure that our insights are accurate and relevant for informed business decision-making. 📊💼\n",
    "\n",
    "### Dataset Overview 📚\n",
    "We utilized the TwiBot-22 dataset, which contains labeled profiles of X (formerly Twitter) users, to validate our model's accuracy. This dataset is recognized for its high labeling accuracy and provides a solid foundation for our analysis.\n",
    "\n",
    " - Feng, S., Tan, Z., Wan, H., Wang, N., Chen, Z., Zhang, B., Zheng, Q., Zhang, W., Lei, Z., Yang, S., Feng, X., Zhang, Q., Wang, H., Liu, Y., Bai, Y., Wang, H., Cai, Z., Wang, Y., Zheng, L., Ma, Z., Li, J., & Luo, M. (2023). TwiBot-22: Towards graph-based Twitter bot detection. arXiv. https://doi.org/10.48550/arXiv.2206.04564\n",
    "\n",
    "### Methodology 🛠️\n",
    "Using the TwiKit Python library, we efficiently collected tweets from the TwiBot-22 dataset, employing advanced techniques to optimize our data retrieval process. Our approach ensures a balanced dataset for validation, allowing us to draw meaningful conclusions about our model's performance. 🚀\n"
   ]
  },
  {
   "cell_type": "markdown",
   "metadata": {},
   "source": [
    "### Import Libraries 🔌"
   ]
  },
  {
   "cell_type": "code",
   "execution_count": 23,
   "metadata": {},
   "outputs": [
    {
     "name": "stderr",
     "output_type": "stream",
     "text": [
      "/Users/hedegaard/Downloads/content/setfit_model/.conda/lib/python3.12/pty.py:95: DeprecationWarning: This process (pid=57239) is multi-threaded, use of forkpty() may lead to deadlocks in the child.\n",
      "  pid, fd = os.forkpty()\n",
      "huggingface/tokenizers: The current process just got forked, after parallelism has already been used. Disabling parallelism to avoid deadlocks...\n",
      "To disable this warning, you can either:\n",
      "\t- Avoid using `tokenizers` before the fork if possible\n",
      "\t- Explicitly set the environment variable TOKENIZERS_PARALLELISM=(true | false)\n"
     ]
    }
   ],
   "source": [
    "!pip install -r requirements.txt -q"
   ]
  },
  {
   "cell_type": "code",
   "execution_count": 2,
   "metadata": {},
   "outputs": [],
   "source": [
    "# Datahandling\n",
    "import requests\n",
    "import os\n",
    "import re\n",
    "import numpy as np\n",
    "import pandas as pd\n",
    "import seaborn as sns\n",
    "import contractions\n",
    "\n",
    "# Data Scraper\n",
    "import json\n",
    "import time\n",
    "import nest_asyncio\n",
    "import asyncio\n",
    "from twikit.guest import GuestClient\n",
    "import logging\n",
    "from datetime import datetime\n",
    "from IPython.display import clear_output\n",
    "\n",
    "#Setfit:\n",
    "from setfit import SetFitModel\n",
    "from sklearn.metrics import accuracy_score, precision_score, recall_score, f1_score, classification_report"
   ]
  },
  {
   "cell_type": "markdown",
   "metadata": {},
   "source": [
    "### Data Scraping Tweets from X/Twitter Based on Profiles (Pre-labeled as Bot or Human from the Twibot-22 Dataset,) \n",
    "#### Fetching data using Guest token 🛩️"
   ]
  },
  {
   "cell_type": "code",
   "execution_count": null,
   "metadata": {},
   "outputs": [],
   "source": [
    "# initializes asyncio to run in a jupyter or interactive session\n",
    "nest_asyncio.apply()\n",
    "\n",
    "# Configure logger\n",
    "logging.basicConfig(level=logging.INFO)\n",
    "logger = logging.getLogger(__name__)\n",
    "logging.getLogger(\"httpx\").setLevel(logging.WARNING)\n",
    "\n",
    "# semaphore to limit concurrent tasks\n",
    "semaphore = asyncio.Semaphore(32)\n",
    "\n",
    "async def fetch_user_tweets(client, user_id, label):\n",
    "    \"\"\"\n",
    "    Fetch tweets for a specific user.\n",
    "    \"\"\"\n",
    "    try:\n",
    "        tweets = []\n",
    "        results = await client.get_user_tweets(\n",
    "            user_id=user_id,\n",
    "            tweet_type='Tweets',\n",
    "            count=20  # Number of tweets to fetch per user\n",
    "        )\n",
    "        tweets.extend(results)\n",
    "\n",
    "        # Extract relevant data\n",
    "        tweet_data = [\n",
    "            {\n",
    "                'User_id': tweet.user.id,\n",
    "                'Tweet_id': tweet.id,\n",
    "                'Tweet_text': tweet.text,\n",
    "                'Language': tweet.lang,\n",
    "                'Label': label\n",
    "            }\n",
    "            for tweet in tweets\n",
    "        ]\n",
    "\n",
    "        return tweet_data\n",
    "    except Exception as e:\n",
    "        return []\n",
    "\n",
    "async def main(random_state):\n",
    "    try:\n",
    "        # Initialize a new client for each iteration\n",
    "        client = GuestClient()\n",
    "        await client.activate()\n",
    "        logger.info(f\"Client initialized for random_state={random_state}.\")\n",
    "\n",
    "        # load dataset and take a sample of 50 user IDs\n",
    "        data = pd.read_csv('userid_labels-(twi-bot_22).csv')\n",
    "        \n",
    "        # Filter the data into 'Bot' and 'Human' groups\n",
    "        bot_data = data[data['label'] == 'bot']\n",
    "        human_data = data[data['label'] == 'human']\n",
    "\n",
    "        # Sample 25 rows from each group (50% Bot and 50% Human)\n",
    "        bot_sample = bot_data.sample(n=25, random_state=random_state)\n",
    "        human_sample = human_data.sample(n=25, random_state=random_state)\n",
    "\n",
    "        # Combine the samples\n",
    "        sample_data = pd.concat([bot_sample, human_sample])\n",
    "        \n",
    "        # Ensure that the 'id' column does not have 'u' prefix\n",
    "        sample_data['id'] = sample_data['id'].str.lstrip('u')\n",
    "        \n",
    "        all_tweets = []\n",
    "\n",
    "        # fetch tweets for each user in the sample\n",
    "        for _, row in sample_data.iterrows():\n",
    "            user_id = row['id']\n",
    "            label = row['label']\n",
    "            logger.info(f\"fetching tweets for user-id: {user_id} (Label: {label})\") # Fills your output with info\n",
    "            # Limit concurrent tasks with the semaphore\n",
    "            async with semaphore:\n",
    "                tweets = await fetch_user_tweets(client, user_id, label)\n",
    "                all_tweets.extend(tweets)\n",
    "\n",
    "        return pd.DataFrame(all_tweets)\n",
    "\n",
    "    except Exception as e:\n",
    "        logger.error(f\"General error in random_state={random_state}: {e}\")\n",
    "        return pd.DataFrame()  # Return an empty DataFrame on error\n",
    "\n",
    "async def run_parallel():\n",
    "    \"\"\"\n",
    "    Run main() in parallel with different random_state values.\n",
    "    \"\"\"\n",
    "    random_states = range(0, 64)\n",
    "    tasks = [main(random_state) for random_state in random_states]\n",
    "    \n",
    "    # Run the tasks in parallel, but limited to a maximum of 16 concurrent\n",
    "    results = await asyncio.gather(*tasks)\n",
    "    \n",
    "    # Combine all results into one DataFrame\n",
    "    test_df = pd.concat(results, ignore_index=True)\n",
    "    \n",
    "    # remove duplicates based on 'Tweet_id'\n",
    "    test_df = test_df.drop_duplicates(subset=['Tweet_id'])\n",
    "    \n",
    "    # English language only\n",
    "    test_df = test_df[test_df['Language'] == 'en']\n",
    "    \n",
    "    # Save combined file\n",
    "    clear_output(wait=True)\n",
    "    output_file = 'scraped_validation_human_bot_twitter_dataset.csv'\n",
    "    test_df.to_csv(output_file, index=False, encoding='utf-8')\n",
    "    print(f\"Total tweets fetched: {len(test_df)}\")\n",
    "    print(f\"All tweets saved in {output_file}\")\n",
    "\n",
    "    return test_df\n",
    "\n",
    "# Run in parallel\n",
    "if __name__ == \"__main__\":\n",
    "    asyncio.run(run_parallel())\n",
    "    "
   ]
  },
  {
   "cell_type": "markdown",
   "metadata": {},
   "source": [
    "### Import fetched human/bot dataset + Lets take a look of the results 🌎"
   ]
  },
  {
   "cell_type": "code",
   "execution_count": 10,
   "metadata": {},
   "outputs": [],
   "source": [
    "test_df = pd.read_csv(\"scraped_validation_human_bot_twitter_dataset.csv\")"
   ]
  },
  {
   "cell_type": "code",
   "execution_count": 11,
   "metadata": {},
   "outputs": [
    {
     "name": "stdout",
     "output_type": "stream",
     "text": [
      "Number of unique users with label 'bot': 51\n",
      "Number of unique users with label 'human': 312\n",
      "Total number of unique users: 363\n",
      "Total number of rows: 26009\n"
     ]
    }
   ],
   "source": [
    "# Calculate unique User_id for 'bot' and 'human'\n",
    "unique_bots = test_df[test_df['Label'] == 'bot']['User_id'].nunique()\n",
    "unique_humans = test_df[test_df['Label'] == 'human']['User_id'].nunique()\n",
    "\n",
    "# Calculate total unique User_id\n",
    "total_unique_users = test_df['User_id'].nunique()\n",
    "\n",
    "# Calculate the total number of rows\n",
    "total_rows = test_df.shape[0]\n",
    "\n",
    "# Print the results\n",
    "print(f\"Number of unique users with label 'bot': {unique_bots}\")\n",
    "print(f\"Number of unique users with label 'human': {unique_humans}\")\n",
    "print(f\"Total number of unique users: {total_unique_users}\")\n",
    "print(f\"Total number of rows: {total_rows}\")"
   ]
  },
  {
   "cell_type": "markdown",
   "metadata": {},
   "source": [
    "### Quick data cleaning for Setfit 🧹"
   ]
  },
  {
   "cell_type": "code",
   "execution_count": 12,
   "metadata": {},
   "outputs": [
    {
     "name": "stdout",
     "output_type": "stream",
     "text": [
      "Label\n",
      "human    3376\n",
      "bot      3376\n",
      "Name: count, dtype: int64\n"
     ]
    }
   ],
   "source": [
    "# Find antallet af Bot tweets\n",
    "bot_count = test_df[test_df['Label'] == \"bot\"].shape[0]\n",
    "\n",
    "# Sample det samme antal Human tweets som Bot tweets\n",
    "human_subset = test_df[test_df['Label'] == \"human\"].sample(n=bot_count, random_state=42)\n",
    "\n",
    "# Behold alle Bot tweets\n",
    "bot_subset = test_df[test_df['Label'] == \"bot\"]\n",
    "\n",
    "# Kombinér Bot og Human subsets\n",
    "balanced_test_df = pd.concat([bot_subset, human_subset]).sample(frac=1, random_state=42).reset_index(drop=True)\n",
    "\n",
    "# Tjek den nye fordeling\n",
    "print(balanced_test_df['Label'].value_counts())\n",
    "\n",
    "test_df = balanced_test_df\n",
    "\n",
    "# Rename columns to match SetFit model labels: (bot = 0, human = 1)\n",
    "test_df['Label'] = test_df['Label'].map({'bot': 0, 'human': 1})\n",
    "\n",
    "# define functions for cleaning the data\n",
    "def normalize_text(text):\n",
    "    # Expand contractions like \"can't\" to \"cannot\"\n",
    "    text = contractions.fix(text)\n",
    "    return text\n",
    "\n",
    "def clean_text(text):\n",
    "    # Remove URLs\n",
    "    text = re.sub(r'http\\S+|www.\\S+', '', text)\n",
    "    # Remove mentions (@username)\n",
    "    text = re.sub(r'@\\w+', '', text)\n",
    "    # Remove hashtags (but keep the text)\n",
    "    text = re.sub(r'#', '', text)\n",
    "    # Remove emojis and special characters\n",
    "    text = re.sub(r'[^\\w\\s]', '', text)\n",
    "    # Convert to lowercase\n",
    "    text = text.lower()\n",
    "    # Normalize the text (expand contractions)\n",
    "    text = normalize_text(text)\n",
    "    return text\n",
    "\n",
    "# Data Cleaning\n",
    "test_df['Tweet_text'] = test_df['Tweet_text'].apply(clean_text)  # custom cleaning function\n",
    "test_df.dropna(subset=['Tweet_text'], inplace=True)"
   ]
  },
  {
   "cell_type": "code",
   "execution_count": 13,
   "metadata": {},
   "outputs": [
    {
     "data": {
      "text/html": [
       "<div>\n",
       "<style scoped>\n",
       "    .dataframe tbody tr th:only-of-type {\n",
       "        vertical-align: middle;\n",
       "    }\n",
       "\n",
       "    .dataframe tbody tr th {\n",
       "        vertical-align: top;\n",
       "    }\n",
       "\n",
       "    .dataframe thead th {\n",
       "        text-align: right;\n",
       "    }\n",
       "</style>\n",
       "<table border=\"1\" class=\"dataframe\">\n",
       "  <thead>\n",
       "    <tr style=\"text-align: right;\">\n",
       "      <th></th>\n",
       "      <th>User_id</th>\n",
       "      <th>Tweet_id</th>\n",
       "      <th>Tweet_text</th>\n",
       "      <th>Language</th>\n",
       "      <th>Label</th>\n",
       "    </tr>\n",
       "  </thead>\n",
       "  <tbody>\n",
       "    <tr>\n",
       "      <th>0</th>\n",
       "      <td>25605494</td>\n",
       "      <td>1595145980357226496</td>\n",
       "      <td>i am in my fourth trumprelated court hearing t...</td>\n",
       "      <td>en</td>\n",
       "      <td>1</td>\n",
       "    </tr>\n",
       "    <tr>\n",
       "      <th>1</th>\n",
       "      <td>1445492971613212676</td>\n",
       "      <td>1562051819521671168</td>\n",
       "      <td>jeff odonnell joins the conversation and talks...</td>\n",
       "      <td>en</td>\n",
       "      <td>0</td>\n",
       "    </tr>\n",
       "    <tr>\n",
       "      <th>2</th>\n",
       "      <td>1337302714322100226</td>\n",
       "      <td>1488619586299781124</td>\n",
       "      <td>a millionaire is not determined by what is in ...</td>\n",
       "      <td>en</td>\n",
       "      <td>0</td>\n",
       "    </tr>\n",
       "    <tr>\n",
       "      <th>3</th>\n",
       "      <td>49780957</td>\n",
       "      <td>1643701833288876035</td>\n",
       "      <td>uconn has won as many national championships i...</td>\n",
       "      <td>en</td>\n",
       "      <td>1</td>\n",
       "    </tr>\n",
       "    <tr>\n",
       "      <th>4</th>\n",
       "      <td>1339296904811843586</td>\n",
       "      <td>1818789790726168620</td>\n",
       "      <td>you are not human</td>\n",
       "      <td>en</td>\n",
       "      <td>0</td>\n",
       "    </tr>\n",
       "  </tbody>\n",
       "</table>\n",
       "</div>"
      ],
      "text/plain": [
       "               User_id             Tweet_id  \\\n",
       "0             25605494  1595145980357226496   \n",
       "1  1445492971613212676  1562051819521671168   \n",
       "2  1337302714322100226  1488619586299781124   \n",
       "3             49780957  1643701833288876035   \n",
       "4  1339296904811843586  1818789790726168620   \n",
       "\n",
       "                                          Tweet_text Language  Label  \n",
       "0  i am in my fourth trumprelated court hearing t...       en      1  \n",
       "1  jeff odonnell joins the conversation and talks...       en      0  \n",
       "2  a millionaire is not determined by what is in ...       en      0  \n",
       "3  uconn has won as many national championships i...       en      1  \n",
       "4                                  you are not human       en      0  "
      ]
     },
     "execution_count": 13,
     "metadata": {},
     "output_type": "execute_result"
    }
   ],
   "source": [
    "test_df.head()"
   ]
  },
  {
   "cell_type": "code",
   "execution_count": 14,
   "metadata": {},
   "outputs": [
    {
     "name": "stdout",
     "output_type": "stream",
     "text": [
      "<class 'pandas.core.frame.DataFrame'>\n",
      "RangeIndex: 6752 entries, 0 to 6751\n",
      "Data columns (total 5 columns):\n",
      " #   Column      Non-Null Count  Dtype \n",
      "---  ------      --------------  ----- \n",
      " 0   User_id     6752 non-null   int64 \n",
      " 1   Tweet_id    6752 non-null   int64 \n",
      " 2   Tweet_text  6752 non-null   object\n",
      " 3   Language    6752 non-null   object\n",
      " 4   Label       6752 non-null   int64 \n",
      "dtypes: int64(3), object(2)\n",
      "memory usage: 263.9+ KB\n"
     ]
    }
   ],
   "source": [
    "test_df.info()"
   ]
  },
  {
   "cell_type": "markdown",
   "metadata": {},
   "source": [
    "### SetFit - Second Dataset Validation 🔬"
   ]
  },
  {
   "cell_type": "code",
   "execution_count": 15,
   "metadata": {},
   "outputs": [
    {
     "name": "stderr",
     "output_type": "stream",
     "text": [
      "INFO:sentence_transformers.SentenceTransformer:Use pytorch device_name: mps\n",
      "INFO:sentence_transformers.SentenceTransformer:Load pretrained SentenceTransformer: setfit_model\n"
     ]
    },
    {
     "name": "stdout",
     "output_type": "stream",
     "text": [
      "Model indlæst.\n",
      "Laver predictions...\n"
     ]
    },
    {
     "data": {
      "application/vnd.jupyter.widget-view+json": {
       "model_id": "b5605ddd52274247af25649d7f1180c5",
       "version_major": 2,
       "version_minor": 0
      },
      "text/plain": [
       "Batches:   0%|          | 0/211 [00:00<?, ?it/s]"
      ]
     },
     "metadata": {},
     "output_type": "display_data"
    },
    {
     "name": "stdout",
     "output_type": "stream",
     "text": [
      "Beregner metrics...\n",
      "\n",
      "Validation results:\n",
      "Accuracy: 0.53\n",
      "Precision: 0.52\n",
      "Recall: 0.80\n",
      "F1-score: 0.63\n",
      "\n",
      "Detaljeret rapport:\n",
      "              precision    recall  f1-score   support\n",
      "\n",
      "         Bot       0.57      0.27      0.37      3376\n",
      "       Human       0.52      0.80      0.63      3376\n",
      "\n",
      "    accuracy                           0.53      6752\n",
      "   macro avg       0.55      0.53      0.50      6752\n",
      "weighted avg       0.55      0.53      0.50      6752\n",
      "\n"
     ]
    }
   ],
   "source": [
    "logging.getLogger(\"setfit\").setLevel(logging.WARNING)\n",
    "\n",
    "# load saved setfit model\n",
    "loaded_model = SetFitModel.from_pretrained(\"setfit_model\")\n",
    "print(\"Model indlæst.\")\n",
    "\n",
    "# prepare data\n",
    "X_test = test_df['Tweet_text'].tolist()  # Tekstdata\n",
    "y_true = test_df['Label'].astype(int).tolist()  # True labels (konverteret til int)\n",
    "\n",
    "# create predictions\n",
    "print(\"Laver predictions...\")\n",
    "y_pred = loaded_model.predict(X_test)\n",
    "\n",
    "# calculate metrics\n",
    "print(\"Beregner metrics...\")\n",
    "accuracy = accuracy_score(y_true, y_pred)\n",
    "precision = precision_score(y_true, y_pred, average='binary')\n",
    "recall = recall_score(y_true, y_pred, average='binary')\n",
    "f1 = f1_score(y_true, y_pred, average='binary')\n",
    "\n",
    "# show results..\n",
    "print(\"\\nValidation results:\")\n",
    "print(f\"Accuracy: {accuracy:.2f}\")\n",
    "print(f\"Precision: {precision:.2f}\")\n",
    "print(f\"Recall: {recall:.2f}\")\n",
    "print(f\"F1-score: {f1:.2f}\")\n",
    "print(\"\\nDetaljeret rapport:\")\n",
    "print(classification_report(y_true, y_pred, target_names=[\"Bot\", \"Human\"]))\n"
   ]
  },
  {
   "cell_type": "code",
   "execution_count": 16,
   "metadata": {},
   "outputs": [
    {
     "name": "stderr",
     "output_type": "stream",
     "text": [
      "INFO:sentence_transformers.SentenceTransformer:Use pytorch device_name: mps\n",
      "INFO:sentence_transformers.SentenceTransformer:Load pretrained SentenceTransformer: setfit_model-V3\n"
     ]
    },
    {
     "name": "stdout",
     "output_type": "stream",
     "text": [
      "Model indlæst.\n",
      "Laver predictions...\n"
     ]
    },
    {
     "data": {
      "application/vnd.jupyter.widget-view+json": {
       "model_id": "73a74df99fdd40a2abd44a0912265b98",
       "version_major": 2,
       "version_minor": 0
      },
      "text/plain": [
       "Batches:   0%|          | 0/211 [00:00<?, ?it/s]"
      ]
     },
     "metadata": {},
     "output_type": "display_data"
    },
    {
     "name": "stdout",
     "output_type": "stream",
     "text": [
      "Beregner metrics...\n",
      "\n",
      "Validation results:\n",
      "Accuracy: 0.55\n",
      "Precision: 0.54\n",
      "Recall: 0.75\n",
      "F1-score: 0.63\n",
      "\n",
      "Detaljeret rapport:\n",
      "              precision    recall  f1-score   support\n",
      "\n",
      "         Bot       0.59      0.35      0.44      3376\n",
      "       Human       0.54      0.75      0.63      3376\n",
      "\n",
      "    accuracy                           0.55      6752\n",
      "   macro avg       0.56      0.55      0.53      6752\n",
      "weighted avg       0.56      0.55      0.53      6752\n",
      "\n"
     ]
    }
   ],
   "source": [
    "logging.getLogger(\"setfit\").setLevel(logging.WARNING)\n",
    "\n",
    "# load saved setfit model\n",
    "loaded_model = SetFitModel.from_pretrained(\"setfit_model-V3\")\n",
    "print(\"Model indlæst.\")\n",
    "\n",
    "# prepare data\n",
    "X_test = test_df['Tweet_text'].tolist()  # Tekstdata\n",
    "y_true = test_df['Label'].astype(int).tolist()  # True labels (konverteret til int)\n",
    "\n",
    "# create predictions\n",
    "print(\"Laver predictions...\")\n",
    "y_pred = loaded_model.predict(X_test)\n",
    "\n",
    "# calculate metrics\n",
    "print(\"Beregner metrics...\")\n",
    "accuracy = accuracy_score(y_true, y_pred)\n",
    "precision = precision_score(y_true, y_pred, average='binary')\n",
    "recall = recall_score(y_true, y_pred, average='binary')\n",
    "f1 = f1_score(y_true, y_pred, average='binary')\n",
    "\n",
    "# show results..\n",
    "print(\"\\nValidation results:\")\n",
    "print(f\"Accuracy: {accuracy:.2f}\")\n",
    "print(f\"Precision: {precision:.2f}\")\n",
    "print(f\"Recall: {recall:.2f}\")\n",
    "print(f\"F1-score: {f1:.2f}\")\n",
    "print(\"\\nDetaljeret rapport:\")\n",
    "print(classification_report(y_true, y_pred, target_names=[\"Bot\", \"Human\"]))\n"
   ]
  },
  {
   "cell_type": "code",
   "execution_count": null,
   "metadata": {},
   "outputs": [],
   "source": [
    "# semaphore to limit concurrent tasks globally\n",
    "semaphore = asyncio.Semaphore(16)\n",
    "\n",
    "async def fetch_user_tweets(client, user_id, label):\n",
    "    \"\"\"\n",
    "    Fetch tweets for a specific user.\n",
    "    \"\"\"\n",
    "    try:\n",
    "        # Limit concurrent tasks with the global semaphore\n",
    "        async with semaphore:\n",
    "            tweets = []\n",
    "            results = await client.get_user_tweets(\n",
    "                user_id=user_id,\n",
    "                tweet_type='Tweets',\n",
    "                count=20  # Number of tweets to fetch per user\n",
    "            )\n",
    "            tweets.extend(results)\n",
    "\n",
    "            # Extract relevant data\n",
    "            tweet_data = [\n",
    "                {\n",
    "                    'User_id': tweet.user.id,\n",
    "                    'Tweet_id': tweet.id,\n",
    "                    'Tweet_text': tweet.text,\n",
    "                    'Language': tweet.lang,\n",
    "                    'Label': label\n",
    "                }\n",
    "                for tweet in tweets\n",
    "            ]\n",
    "\n",
    "            return tweet_data\n",
    "    except Exception as e:\n",
    "        return []\n",
    "\n",
    "async def main(random_state):\n",
    "    \"\"\"\n",
    "    Fetch tweets for a specific random_state.\n",
    "    \"\"\"\n",
    "    try:\n",
    "        # Initialize a new client for each iteration\n",
    "        client = GuestClient()\n",
    "        await client.activate()\n",
    "        logger.info(f\"Client initialized for random_state={random_state}.\")\n",
    "\n",
    "        # Load dataset and take a sample of 50 user IDs\n",
    "        data = pd.read_csv('userid_labels-(twi-bot_22).csv')\n",
    "\n",
    "        # Filter the data into 'Bot' and 'Human' groups\n",
    "        bot_data = data[data['label'] == 'bot']\n",
    "        human_data = data[data['label'] == 'human']\n",
    "\n",
    "        # Sample 25 rows from each group (50% Bot and 50% Human)\n",
    "        bot_sample = bot_data.sample(n=25, random_state=random_state)\n",
    "        human_sample = human_data.sample(n=25, random_state=random_state)\n",
    "\n",
    "        # Combine the samples\n",
    "        sample_data = pd.concat([bot_sample, human_sample])\n",
    "\n",
    "        # Ensure that the 'id' column does not have 'u' prefix\n",
    "        sample_data['id'] = sample_data['id'].str.lstrip('u')\n",
    "\n",
    "        all_tweets = []\n",
    "\n",
    "        # Fetch tweets for each user in the sample\n",
    "        for _, row in sample_data.iterrows():\n",
    "            user_id = row['id']\n",
    "            label = row['label']\n",
    "            tweets = await fetch_user_tweets(client, user_id, label)\n",
    "            all_tweets.extend(tweets)\n",
    "\n",
    "        return pd.DataFrame(all_tweets)\n",
    "\n",
    "    except Exception as e:\n",
    "        logger.error(f\"General error in random_state={random_state}: {e}\")\n",
    "        return pd.DataFrame()  # Return an empty DataFrame on error\n",
    "\n",
    "async def run_parallel():\n",
    "    \"\"\"\n",
    "    Run main() in parallel with different random_state values.\n",
    "    \"\"\"\n",
    "    random_states = range(0, 128)\n",
    "    \n",
    "    # Use semaphore to limit the number of concurrent main() tasks\n",
    "    async def limited_main(random_state):\n",
    "        async with semaphore:\n",
    "            return await main(random_state)\n",
    "    \n",
    "    # Create tasks with the limited_main wrapper\n",
    "    tasks = [limited_main(random_state) for random_state in random_states]\n",
    "\n",
    "    # Run the tasks in parallel\n",
    "    results = await asyncio.gather(*tasks)\n",
    "\n",
    "    # Combine all results into one DataFrame\n",
    "    combined_df = pd.concat(results, ignore_index=True)\n",
    "\n",
    "    # Remove duplicates based on 'Tweet_id'\n",
    "    combined_df = combined_df.drop_duplicates(subset=['Tweet_id'])\n",
    "\n",
    "    # English language only\n",
    "    combined_df = combined_df[combined_df['Language'] == 'en']\n",
    "\n",
    "    # Save combined file\n",
    "    clear_output(wait=True)\n",
    "    output_file = 'TEST_scraped_validation_human_bot_twitter_dataset.csv'\n",
    "    combined_df.to_csv(output_file, index=False, encoding='utf-8')\n",
    "    logger.info(f\"Total tweets fetched: {len(combined_df)}\")\n",
    "    logger.info(f\"All tweets saved in {output_file}\")\n",
    "\n",
    "    return combined_df\n",
    "\n",
    "# Run in parallel\n",
    "if __name__ == \"__main__\":\n",
    "    asyncio.run(run_parallel())"
   ]
  }
 ],
 "metadata": {
  "kernelspec": {
   "display_name": "Python 3",
   "language": "python",
   "name": "python3"
  },
  "language_info": {
   "codemirror_mode": {
    "name": "ipython",
    "version": 3
   },
   "file_extension": ".py",
   "mimetype": "text/x-python",
   "name": "python",
   "nbconvert_exporter": "python",
   "pygments_lexer": "ipython3",
   "version": "3.12.7"
  }
 },
 "nbformat": 4,
 "nbformat_minor": 2
}
