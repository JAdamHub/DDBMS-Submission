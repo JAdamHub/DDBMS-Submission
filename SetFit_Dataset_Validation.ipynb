{
 "cells": [
  {
   "cell_type": "markdown",
   "metadata": {},
   "source": [
    "## Import Libraries"
   ]
  },
  {
   "cell_type": "code",
   "execution_count": 1,
   "metadata": {},
   "outputs": [],
   "source": [
    "!pip install -r requirements.txt -q"
   ]
  },
  {
   "cell_type": "code",
   "execution_count": null,
   "metadata": {},
   "outputs": [],
   "source": [
    "# Datahandling\n",
    "import requests\n",
    "import os\n",
    "import numpy as np\n",
    "import pandas as pd\n",
    "import seaborn as sns\n",
    "\n",
    "# Data Scraper\n",
    "from selenium import webdriver\n",
    "from selenium.webdriver.chrome.options import Options\n",
    "from selenium.webdriver.common.by import By\n",
    "import json\n",
    "import time\n",
    "import nest_asyncio\n",
    "import asyncio\n",
    "import json\n",
    "from twikit.guest import GuestClient\n",
    "import logging\n",
    "from datetime import datetime\n",
    "from IPython.display import clear_output\n",
    "\n",
    "#Setfit:\n",
    "from setfit import SetFitModel\n",
    "from sklearn.metrics import accuracy_score, precision_score, recall_score, f1_score, classification_report"
   ]
  },
  {
   "cell_type": "markdown",
   "metadata": {},
   "source": [
    "### Data Scraping Tweets from X/Twitter Based on Profiles (Pre-labeled as Bot or Human from the Twibot-22 Dataset,) \n",
    "#### Fetching data using Guest token 🛩️"
   ]
  },
  {
   "cell_type": "code",
   "execution_count": 4,
   "metadata": {},
   "outputs": [
    {
     "name": "stdout",
     "output_type": "stream",
     "text": [
      "Total tweets fetched: 26030\n",
      "All tweets saved in scraped_validation_human_bot_twitter_dataset.csv\n"
     ]
    }
   ],
   "source": [
    "# initializes asyncio to run in a jupyter or interactive session\n",
    "nest_asyncio.apply()\n",
    "\n",
    "# Configure logger\n",
    "logging.basicConfig(level=logging.INFO)\n",
    "logger = logging.getLogger(__name__)\n",
    "logging.getLogger(\"httpx\").setLevel(logging.WARNING)\n",
    "\n",
    "# semaphore to limit concurrent tasks\n",
    "semaphore = asyncio.Semaphore(32)\n",
    "\n",
    "async def fetch_user_tweets(client, user_id, label):\n",
    "    \"\"\"\n",
    "    Fetch tweets for a specific user.\n",
    "    \"\"\"\n",
    "    try:\n",
    "        tweets = []\n",
    "        results = await client.get_user_tweets(\n",
    "            user_id=user_id,\n",
    "            tweet_type='Tweets',\n",
    "            count=20  # Number of tweets to fetch per user\n",
    "        )\n",
    "        tweets.extend(results)\n",
    "\n",
    "        # Extract relevant data\n",
    "        tweet_data = [\n",
    "            {\n",
    "                'User_id': tweet.user.id,\n",
    "                'Tweet_id': tweet.id,\n",
    "                'Tweet_text': tweet.text,\n",
    "                'Language': tweet.lang,\n",
    "                'Label': label\n",
    "            }\n",
    "            for tweet in tweets\n",
    "        ]\n",
    "\n",
    "        return tweet_data\n",
    "    except Exception as e:\n",
    "        return []\n",
    "\n",
    "async def main(random_state):\n",
    "    try:\n",
    "        # Initialize a new client for each iteration\n",
    "        client = GuestClient()\n",
    "        await client.activate()\n",
    "        logger.info(f\"Client initialized for random_state={random_state}.\")\n",
    "\n",
    "        # load dataset and take a sample of 50 user IDs\n",
    "        data = pd.read_csv('userid_labels-(twi-bot_22).csv')\n",
    "        \n",
    "        # Filter the data into 'Bot' and 'Human' groups\n",
    "        bot_data = data[data['label'] == 'bot']\n",
    "        human_data = data[data['label'] == 'human']\n",
    "\n",
    "        # Sample 25 rows from each group (50% Bot and 50% Human)\n",
    "        bot_sample = bot_data.sample(n=25, random_state=random_state)\n",
    "        human_sample = human_data.sample(n=25, random_state=random_state)\n",
    "\n",
    "        # Combine the samples\n",
    "        sample_data = pd.concat([bot_sample, human_sample])\n",
    "        \n",
    "        # Ensure that the 'id' column does not have 'u' prefix\n",
    "        sample_data['id'] = sample_data['id'].str.lstrip('u')\n",
    "        \n",
    "        all_tweets = []\n",
    "\n",
    "        # fetch tweets for each user in the sample\n",
    "        for _, row in sample_data.iterrows():\n",
    "            user_id = row['id']\n",
    "            label = row['label']\n",
    "            logger.info(f\"fetching tweets for user-id: {user_id} (Label: {label})\") # Fills your output with info\n",
    "            # Limit concurrent tasks with the semaphore\n",
    "            async with semaphore:\n",
    "                tweets = await fetch_user_tweets(client, user_id, label)\n",
    "                all_tweets.extend(tweets)\n",
    "\n",
    "        return pd.DataFrame(all_tweets)\n",
    "\n",
    "    except Exception as e:\n",
    "        logger.error(f\"General error in random_state={random_state}: {e}\")\n",
    "        return pd.DataFrame()  # Return an empty DataFrame on error\n",
    "\n",
    "async def run_parallel():\n",
    "    \"\"\"\n",
    "    Run main() in parallel with different random_state values.\n",
    "    \"\"\"\n",
    "    random_states = range(0, 64)\n",
    "    tasks = [main(random_state) for random_state in random_states]\n",
    "    \n",
    "    # Run the tasks in parallel, but limited to a maximum of 16 concurrent\n",
    "    results = await asyncio.gather(*tasks)\n",
    "    \n",
    "    # Combine all results into one DataFrame\n",
    "    combined_df = pd.concat(results, ignore_index=True)\n",
    "    \n",
    "    # remove duplicates based on 'Tweet_id'\n",
    "    combined_df = combined_df.drop_duplicates(subset=['Tweet_id'])\n",
    "    \n",
    "    # English language only\n",
    "    combined_df = combined_df[combined_df['Language'] == 'en']\n",
    "    \n",
    "    # Save combined file\n",
    "    clear_output(wait=True)\n",
    "    output_file = 'scraped_validation_human_bot_twitter_dataset.csv'\n",
    "    combined_df.to_csv(output_file, index=False, encoding='utf-8')\n",
    "    print(f\"Total tweets fetched: {len(combined_df)}\")\n",
    "    print(f\"All tweets saved in {output_file}\")\n",
    "\n",
    "    return combined_df\n",
    "\n",
    "# Run in parallel\n",
    "if __name__ == \"__main__\":\n",
    "    asyncio.run(run_parallel())\n"
   ]
  },
  {
   "cell_type": "code",
   "execution_count": null,
   "metadata": {},
   "outputs": [
    {
     "name": "stdout",
     "output_type": "stream",
     "text": [
      "Number of unique users with label 'bot': 118\n",
      "Number of unique users with label 'human': 573\n",
      "Total number of unique users: 691\n",
      "Total number of rows: 49983\n"
     ]
    }
   ],
   "source": [
    "# Calculate unique User_id for 'bot' and 'human'\n",
    "unique_bots = test_df[test_df['Label'] == 'bot']['User_id'].nunique()\n",
    "unique_humans = test_df[test_df['Label'] == 'human']['User_id'].nunique()\n",
    "\n",
    "# Calculate total unique User_id\n",
    "total_unique_users = test_df['User_id'].nunique()\n",
    "\n",
    "# Calculate the total number of rows\n",
    "total_rows = test_df.shape[0]\n",
    "\n",
    "# Print the results\n",
    "print(f\"Number of unique users with label 'bot': {unique_bots}\")\n",
    "print(f\"Number of unique users with label 'human': {unique_humans}\")\n",
    "print(f\"Total number of unique users: {total_unique_users}\")\n",
    "print(f\"Total number of rows: {total_rows}\")\n"
   ]
  },
  {
   "cell_type": "markdown",
   "metadata": {},
   "source": [
    "### Import fetched human/bot dataset"
   ]
  },
  {
   "cell_type": "code",
   "execution_count": null,
   "metadata": {},
   "outputs": [],
   "source": [
    "test_df = pd.read_csv(\"scraped_validation_human_bot_twitter_dataset.csv\")\n",
    "test_df['Label'] = test_df['Label'].map({'bot': 0, 'human': 1})"
   ]
  },
  {
   "cell_type": "markdown",
   "metadata": {},
   "source": [
    "### SetFit - Second Dataset Validation 🔬"
   ]
  },
  {
   "cell_type": "code",
   "execution_count": null,
   "metadata": {},
   "outputs": [
    {
     "name": "stderr",
     "output_type": "stream",
     "text": [
      "2024-12-03 20:33:22,174 - INFO: Use pytorch device_name: mps\n",
      "2024-12-03 20:33:22,175 - INFO: Load pretrained SentenceTransformer: setfit_model\n"
     ]
    },
    {
     "name": "stdout",
     "output_type": "stream",
     "text": [
      "Model indlæst.\n",
      "Laver predictions...\n"
     ]
    },
    {
     "data": {
      "application/vnd.jupyter.widget-view+json": {
       "model_id": "88e1b3cb5774408190e080ecae488fd4",
       "version_major": 2,
       "version_minor": 0
      },
      "text/plain": [
       "Batches:   0%|          | 0/1432 [00:00<?, ?it/s]"
      ]
     },
     "metadata": {},
     "output_type": "display_data"
    },
    {
     "name": "stdout",
     "output_type": "stream",
     "text": [
      "Beregner metrics...\n",
      "\n",
      "Valideringsresultater:\n",
      "Accuracy: 0.73\n",
      "Precision: 0.85\n",
      "Recall: 0.83\n",
      "F1-score: 0.84\n",
      "\n",
      "Detaljeret rapport:\n",
      "              precision    recall  f1-score   support\n",
      "\n",
      "         Bot       0.21      0.24      0.22      7216\n",
      "       Human       0.85      0.83      0.84     38587\n",
      "\n",
      "    accuracy                           0.73     45803\n",
      "   macro avg       0.53      0.53      0.53     45803\n",
      "weighted avg       0.75      0.73      0.74     45803\n",
      "\n"
     ]
    }
   ],
   "source": [
    "logging.getLogger(\"setfit\").setLevel(logging.WARNING)\n",
    "\n",
    "# load saved setfit model\n",
    "loaded_model = SetFitModel.from_pretrained(\"setfit_model\")\n",
    "print(\"Model indlæst.\")\n",
    "\n",
    "# prepare data\n",
    "X_test = test_df['Tweet_text'].tolist()  # Tekstdata\n",
    "y_true = test_df['Label'].astype(int).tolist()  # True labels (konverteret til int)\n",
    "\n",
    "# create predictions\n",
    "print(\"Laver predictions...\")\n",
    "y_pred = loaded_model.predict(X_test)\n",
    "\n",
    "# calculate metrics\n",
    "print(\"Beregner metrics...\")\n",
    "accuracy = accuracy_score(y_true, y_pred)\n",
    "precision = precision_score(y_true, y_pred, average='binary')\n",
    "recall = recall_score(y_true, y_pred, average='binary')\n",
    "f1 = f1_score(y_true, y_pred, average='binary')\n",
    "\n",
    "# show results..\n",
    "print(\"\\nValideringsresultater:\")\n",
    "print(f\"Accuracy: {accuracy:.2f}\")\n",
    "print(f\"Precision: {precision:.2f}\")\n",
    "print(f\"Recall: {recall:.2f}\")\n",
    "print(f\"F1-score: {f1:.2f}\")\n",
    "print(\"\\nDetaljeret rapport:\")\n",
    "print(classification_report(y_true, y_pred, target_names=[\"Bot\", \"Human\"]))\n"
   ]
  }
 ],
 "metadata": {
  "kernelspec": {
   "display_name": ".conda",
   "language": "python",
   "name": "python3"
  },
  "language_info": {
   "codemirror_mode": {
    "name": "ipython",
    "version": 3
   },
   "file_extension": ".py",
   "mimetype": "text/x-python",
   "name": "python",
   "nbconvert_exporter": "python",
   "pygments_lexer": "ipython3",
   "version": "3.12.7"
  }
 },
 "nbformat": 4,
 "nbformat_minor": 2
}
